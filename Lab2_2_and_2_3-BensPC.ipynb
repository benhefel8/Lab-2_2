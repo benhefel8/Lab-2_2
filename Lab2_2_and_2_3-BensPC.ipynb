{
 "cells": [
  {
   "cell_type": "markdown",
   "id": "ca2e6128-f254-48e0-b9b2-2852f465fbad",
   "metadata": {},
   "source": [
    "# Reading in Polars and Data"
   ]
  },
  {
   "cell_type": "code",
   "execution_count": 2,
   "id": "3b0619a7-3a78-4904-9d92-0e5cc7823b7d",
   "metadata": {},
   "outputs": [],
   "source": [
    "import polars as pl\n",
    "pl.Config.with_columns_kwargs = True"
   ]
  },
  {
   "cell_type": "code",
   "execution_count": 4,
   "id": "bed6a7f1-6575-4e6a-970d-cd6e2ee0725f",
   "metadata": {},
   "outputs": [
    {
     "data": {
      "text/html": [
       "<div><style>\n",
       ".dataframe > thead > tr,\n",
       ".dataframe > tbody > tr {\n",
       "  text-align: right;\n",
       "  white-space: pre-wrap;\n",
       "}\n",
       "</style>\n",
       "<small>shape: (26_428, 5)</small><table border=\"1\" class=\"dataframe\"><thead><tr><th>yearID</th><th>teamID</th><th>lgID</th><th>playerID</th><th>salary</th></tr><tr><td>i64</td><td>str</td><td>str</td><td>str</td><td>i64</td></tr></thead><tbody><tr><td>1985</td><td>&quot;ATL&quot;</td><td>&quot;NL&quot;</td><td>&quot;barkele01&quot;</td><td>870000</td></tr><tr><td>1985</td><td>&quot;ATL&quot;</td><td>&quot;NL&quot;</td><td>&quot;bedrost01&quot;</td><td>550000</td></tr><tr><td>1985</td><td>&quot;ATL&quot;</td><td>&quot;NL&quot;</td><td>&quot;benedbr01&quot;</td><td>545000</td></tr><tr><td>1985</td><td>&quot;ATL&quot;</td><td>&quot;NL&quot;</td><td>&quot;campri01&quot;</td><td>633333</td></tr><tr><td>1985</td><td>&quot;ATL&quot;</td><td>&quot;NL&quot;</td><td>&quot;ceronri01&quot;</td><td>625000</td></tr><tr><td>&hellip;</td><td>&hellip;</td><td>&hellip;</td><td>&hellip;</td><td>&hellip;</td></tr><tr><td>2016</td><td>&quot;WAS&quot;</td><td>&quot;NL&quot;</td><td>&quot;strasst01&quot;</td><td>10400000</td></tr><tr><td>2016</td><td>&quot;WAS&quot;</td><td>&quot;NL&quot;</td><td>&quot;taylomi02&quot;</td><td>524000</td></tr><tr><td>2016</td><td>&quot;WAS&quot;</td><td>&quot;NL&quot;</td><td>&quot;treinbl01&quot;</td><td>524900</td></tr><tr><td>2016</td><td>&quot;WAS&quot;</td><td>&quot;NL&quot;</td><td>&quot;werthja01&quot;</td><td>21733615</td></tr><tr><td>2016</td><td>&quot;WAS&quot;</td><td>&quot;NL&quot;</td><td>&quot;zimmery01&quot;</td><td>14000000</td></tr></tbody></table></div>"
      ],
      "text/plain": [
       "shape: (26_428, 5)\n",
       "┌────────┬────────┬──────┬───────────┬──────────┐\n",
       "│ yearID ┆ teamID ┆ lgID ┆ playerID  ┆ salary   │\n",
       "│ ---    ┆ ---    ┆ ---  ┆ ---       ┆ ---      │\n",
       "│ i64    ┆ str    ┆ str  ┆ str       ┆ i64      │\n",
       "╞════════╪════════╪══════╪═══════════╪══════════╡\n",
       "│ 1985   ┆ ATL    ┆ NL   ┆ barkele01 ┆ 870000   │\n",
       "│ 1985   ┆ ATL    ┆ NL   ┆ bedrost01 ┆ 550000   │\n",
       "│ 1985   ┆ ATL    ┆ NL   ┆ benedbr01 ┆ 545000   │\n",
       "│ 1985   ┆ ATL    ┆ NL   ┆ campri01  ┆ 633333   │\n",
       "│ 1985   ┆ ATL    ┆ NL   ┆ ceronri01 ┆ 625000   │\n",
       "│ …      ┆ …      ┆ …    ┆ …         ┆ …        │\n",
       "│ 2016   ┆ WAS    ┆ NL   ┆ strasst01 ┆ 10400000 │\n",
       "│ 2016   ┆ WAS    ┆ NL   ┆ taylomi02 ┆ 524000   │\n",
       "│ 2016   ┆ WAS    ┆ NL   ┆ treinbl01 ┆ 524900   │\n",
       "│ 2016   ┆ WAS    ┆ NL   ┆ werthja01 ┆ 21733615 │\n",
       "│ 2016   ┆ WAS    ┆ NL   ┆ zimmery01 ┆ 14000000 │\n",
       "└────────┴────────┴──────┴───────────┴──────────┘"
      ]
     },
     "execution_count": 4,
     "metadata": {},
     "output_type": "execute_result"
    }
   ],
   "source": [
    "batting = pl.read_csv('Data/lahman baseball data/Batting.csv')\n",
    "pitching = pl.read_csv('Data/lahman baseball data/Pitching.csv')\n",
    "fielding = pl.read_csv('Data/lahman baseball data/Fielding.csv')\n",
    "awards = pl.read_csv('Data/lahman baseball data/AwardsPlayers.csv')\n",
    "salaries = pl.read_csv('Data/lahman baseball data/Salaries.csv')\n",
    "salaries"
   ]
  },
  {
   "cell_type": "markdown",
   "id": "c8a38c58-c92e-49d4-bc75-fced280fb958",
   "metadata": {},
   "source": [
    "# Gold Glove Data Set"
   ]
  },
  {
   "cell_type": "code",
   "execution_count": 7,
   "id": "789059ae-326c-4142-b0ce-73310b7888ef",
   "metadata": {},
   "outputs": [
    {
     "data": {
      "text/plain": [
       "'case is player, year, pos, league'"
      ]
     },
     "execution_count": 7,
     "metadata": {},
     "output_type": "execute_result"
    }
   ],
   "source": [
    "'case is player, year, pos, league'"
   ]
  },
  {
   "cell_type": "code",
   "execution_count": 9,
   "id": "a4324954-6b89-4c71-a0db-2dfe917cc258",
   "metadata": {},
   "outputs": [
    {
     "data": {
      "text/html": [
       "<div><style>\n",
       ".dataframe > thead > tr,\n",
       ".dataframe > tbody > tr {\n",
       "  text-align: right;\n",
       "  white-space: pre-wrap;\n",
       "}\n",
       "</style>\n",
       "<small>shape: (21_356, 16)</small><table border=\"1\" class=\"dataframe\"><thead><tr><th>playerID</th><th>yearID</th><th>lgID</th><th>POS</th><th>InnOuts</th><th>PO</th><th>A</th><th>E</th><th>DP</th><th>PB</th><th>WP</th><th>SB</th><th>CS</th><th>ZR</th><th>Gold Glove?</th><th>Training-Validation</th></tr><tr><td>str</td><td>i64</td><td>str</td><td>str</td><td>i64</td><td>i64</td><td>i64</td><td>i64</td><td>i64</td><td>i64</td><td>i64</td><td>i64</td><td>i64</td><td>i64</td><td>str</td><td>str</td></tr></thead><tbody><tr><td>&quot;topaju01&quot;</td><td>2022</td><td>&quot;NL&quot;</td><td>&quot;P&quot;</td><td>22</td><td>1</td><td>4</td><td>0</td><td>0</td><td>0</td><td>0</td><td>0</td><td>0</td><td>0</td><td>&quot;No&quot;</td><td>&quot;Training&quot;</td></tr><tr><td>&quot;whitemi03&quot;</td><td>2022</td><td>&quot;NL&quot;</td><td>&quot;P&quot;</td><td>168</td><td>5</td><td>4</td><td>0</td><td>0</td><td>0</td><td>0</td><td>0</td><td>0</td><td>0</td><td>&quot;No&quot;</td><td>&quot;Training&quot;</td></tr><tr><td>&quot;andergr01&quot;</td><td>2023</td><td>&quot;AL&quot;</td><td>&quot;P&quot;</td><td>107</td><td>3</td><td>4</td><td>0</td><td>1</td><td>0</td><td>0</td><td>0</td><td>0</td><td>0</td><td>&quot;No&quot;</td><td>&quot;Validation&quot;</td></tr><tr><td>&quot;madrini01&quot;</td><td>2022</td><td>&quot;NL&quot;</td><td>&quot;2B&quot;</td><td>1462</td><td>106</td><td>144</td><td>1</td><td>46</td><td>0</td><td>0</td><td>0</td><td>0</td><td>0</td><td>&quot;No&quot;</td><td>&quot;Training&quot;</td></tr><tr><td>&quot;doteloc01&quot;</td><td>2013</td><td>&quot;AL&quot;</td><td>&quot;P&quot;</td><td>14</td><td>0</td><td>1</td><td>0</td><td>0</td><td>0</td><td>0</td><td>0</td><td>0</td><td>0</td><td>&quot;No&quot;</td><td>&quot;Training&quot;</td></tr><tr><td>&hellip;</td><td>&hellip;</td><td>&hellip;</td><td>&hellip;</td><td>&hellip;</td><td>&hellip;</td><td>&hellip;</td><td>&hellip;</td><td>&hellip;</td><td>&hellip;</td><td>&hellip;</td><td>&hellip;</td><td>&hellip;</td><td>&hellip;</td><td>&hellip;</td><td>&hellip;</td></tr><tr><td>&quot;stallja01&quot;</td><td>2023</td><td>&quot;NL&quot;</td><td>&quot;P&quot;</td><td>24</td><td>0</td><td>0</td><td>0</td><td>0</td><td>0</td><td>0</td><td>0</td><td>0</td><td>0</td><td>&quot;No&quot;</td><td>&quot;Validation&quot;</td></tr><tr><td>&quot;anderti01&quot;</td><td>2023</td><td>&quot;AL&quot;</td><td>&quot;2B&quot;</td><td>54</td><td>3</td><td>2</td><td>1</td><td>0</td><td>0</td><td>0</td><td>0</td><td>0</td><td>0</td><td>&quot;No&quot;</td><td>&quot;Validation&quot;</td></tr><tr><td>&quot;castrja01&quot;</td><td>2020</td><td>&quot;AL&quot;</td><td>&quot;C&quot;</td><td>383</td><td>131</td><td>7</td><td>0</td><td>0</td><td>1</td><td>0</td><td>7</td><td>4</td><td>0</td><td>&quot;No&quot;</td><td>&quot;Training&quot;</td></tr><tr><td>&quot;pearcst01&quot;</td><td>2016</td><td>&quot;AL&quot;</td><td>&quot;1B&quot;</td><td>834</td><td>244</td><td>22</td><td>3</td><td>26</td><td>0</td><td>0</td><td>0</td><td>0</td><td>0</td><td>&quot;No&quot;</td><td>&quot;Training&quot;</td></tr><tr><td>&quot;beatope01&quot;</td><td>2013</td><td>&quot;AL&quot;</td><td>&quot;P&quot;</td><td>30</td><td>0</td><td>1</td><td>0</td><td>0</td><td>0</td><td>0</td><td>0</td><td>0</td><td>0</td><td>&quot;No&quot;</td><td>&quot;Training&quot;</td></tr></tbody></table></div>"
      ],
      "text/plain": [
       "shape: (21_356, 16)\n",
       "┌───────────┬────────┬──────┬─────┬───┬─────┬─────┬─────────────┬─────────────────────┐\n",
       "│ playerID  ┆ yearID ┆ lgID ┆ POS ┆ … ┆ CS  ┆ ZR  ┆ Gold Glove? ┆ Training-Validation │\n",
       "│ ---       ┆ ---    ┆ ---  ┆ --- ┆   ┆ --- ┆ --- ┆ ---         ┆ ---                 │\n",
       "│ str       ┆ i64    ┆ str  ┆ str ┆   ┆ i64 ┆ i64 ┆ str         ┆ str                 │\n",
       "╞═══════════╪════════╪══════╪═════╪═══╪═════╪═════╪═════════════╪═════════════════════╡\n",
       "│ topaju01  ┆ 2022   ┆ NL   ┆ P   ┆ … ┆ 0   ┆ 0   ┆ No          ┆ Training            │\n",
       "│ whitemi03 ┆ 2022   ┆ NL   ┆ P   ┆ … ┆ 0   ┆ 0   ┆ No          ┆ Training            │\n",
       "│ andergr01 ┆ 2023   ┆ AL   ┆ P   ┆ … ┆ 0   ┆ 0   ┆ No          ┆ Validation          │\n",
       "│ madrini01 ┆ 2022   ┆ NL   ┆ 2B  ┆ … ┆ 0   ┆ 0   ┆ No          ┆ Training            │\n",
       "│ doteloc01 ┆ 2013   ┆ AL   ┆ P   ┆ … ┆ 0   ┆ 0   ┆ No          ┆ Training            │\n",
       "│ …         ┆ …      ┆ …    ┆ …   ┆ … ┆ …   ┆ …   ┆ …           ┆ …                   │\n",
       "│ stallja01 ┆ 2023   ┆ NL   ┆ P   ┆ … ┆ 0   ┆ 0   ┆ No          ┆ Validation          │\n",
       "│ anderti01 ┆ 2023   ┆ AL   ┆ 2B  ┆ … ┆ 0   ┆ 0   ┆ No          ┆ Validation          │\n",
       "│ castrja01 ┆ 2020   ┆ AL   ┆ C   ┆ … ┆ 4   ┆ 0   ┆ No          ┆ Training            │\n",
       "│ pearcst01 ┆ 2016   ┆ AL   ┆ 1B  ┆ … ┆ 0   ┆ 0   ┆ No          ┆ Training            │\n",
       "│ beatope01 ┆ 2013   ┆ AL   ┆ P   ┆ … ┆ 0   ┆ 0   ┆ No          ┆ Training            │\n",
       "└───────────┴────────┴──────┴─────┴───┴─────┴─────┴─────────────┴─────────────────────┘"
      ]
     },
     "execution_count": 9,
     "metadata": {},
     "output_type": "execute_result"
    }
   ],
   "source": [
    "fielding_awards = (fielding\n",
    ".filter((pl.col('yearID') >= 2013))\n",
    ".join(\n",
    "     awards.rename({\"notes\": \"POS\"}) \n",
    "           .select(['playerID', 'yearID', 'awardID', 'lgID', 'POS'])  \n",
    "           .filter((pl.col('awardID') == 'Gold Glove') & (pl.col('yearID') >= 2013)),\n",
    "      on=['playerID', 'yearID', 'lgID'],\n",
    "      how='left'\n",
    "     )\n",
    ".group_by(['playerID','yearID', 'lgID', 'POS', 'awardID'])\n",
    ".agg(\n",
    "     pl.col('InnOuts').sum().alias('InnOuts'),\n",
    "     pl.col('PO').sum().alias('PO'),\n",
    "     pl.col('A').sum().alias('A'),\n",
    "     pl.col('E').sum().alias('E'),\n",
    "     pl.col('DP').sum().alias('DP'),\n",
    "     pl.col('PB').cast(int).sum().alias('PB'),\n",
    "     pl.col('WP').cast(int).sum().alias('WP'),\n",
    "     pl.col('SB').cast(int).sum().alias('SB'),\n",
    "     pl.col('CS').cast(int).sum().alias('CS'),\n",
    "     pl.col('ZR').cast(int).sum().alias('ZR') \n",
    "    )    \n",
    ".with_columns(\n",
    "        pl.when(pl.col('awardID').is_null())\n",
    "          .then(pl.lit('No'))\n",
    "          .otherwise(pl.lit('Yes'))\n",
    "          .alias('Gold Glove?'),\n",
    "         pl.when(pl.col('yearID') == 2023)\n",
    "          .then(pl.lit('Validation'))\n",
    "          .otherwise(pl.lit('Training'))\n",
    "          .alias('Training-Validation')\n",
    "              )\n",
    ".drop(pl.col('awardID'))\n",
    "                  )\n",
    "# fielding_awards = fielding_awards.filter(pl.col('Gold Glove?') == 'Yes', pl.col('POS') == 'C', pl.col('yearID') == 2017)\n",
    "fielding_awards.write_csv('data/fielding_awards.csv')\n",
    "\n",
    "fielding_awards"
   ]
  },
  {
   "cell_type": "markdown",
   "id": "9e7fa5cd-588e-4505-8289-47516a746291",
   "metadata": {},
   "source": [
    "# Salary Dataset"
   ]
  },
  {
   "cell_type": "code",
   "execution_count": 12,
   "id": "e30ce0b4-037b-4ec5-8a28-7c21252d5a20",
   "metadata": {},
   "outputs": [
    {
     "data": {
      "text/plain": [
       "'case is player yearsalary, batting, fielding, pitching'"
      ]
     },
     "execution_count": 12,
     "metadata": {},
     "output_type": "execute_result"
    }
   ],
   "source": [
    "'case is player year' 'salary, batting, fielding, pitching'"
   ]
  },
  {
   "cell_type": "code",
   "execution_count": 14,
   "id": "921fc61f-4264-4547-9e3f-a7f99e994c7c",
   "metadata": {},
   "outputs": [
    {
     "data": {
      "text/html": [
       "<div><style>\n",
       ".dataframe > thead > tr,\n",
       ".dataframe > tbody > tr {\n",
       "  text-align: right;\n",
       "  white-space: pre-wrap;\n",
       "}\n",
       "</style>\n",
       "<small>shape: (9_131, 51)</small><table border=\"1\" class=\"dataframe\"><thead><tr><th>playerID</th><th>yearID</th><th>salary</th><th>InnOuts</th><th>PO</th><th>A</th><th>E</th><th>DP</th><th>PB</th><th>WP</th><th>SB</th><th>CS</th><th>ZR</th><th>G</th><th>AB</th><th>R</th><th>H</th><th>2B</th><th>3B</th><th>HR</th><th>SB_batting</th><th>CS_batting</th><th>BB_batting</th><th>SO_batting</th><th>IBB_batting</th><th>HBP_batting</th><th>Sacrifice Hits</th><th>Sacrifice Flies</th><th>GIDP</th><th>GS</th><th>CG</th><th>SHO</th><th>SV</th><th>IPOuts</th><th>H_pitching</th><th>ER_pitching</th><th>HR_pitching</th><th>BB_pitching</th><th>SO_pitching</th><th>BAOpp</th><th>ERA_pitching</th><th>IBB_pitching</th><th>WP_pitching</th><th>HBP_pitching</th><th>Balk</th><th>Batters Faced by Pitcher</th><th>Games Finished</th><th>SH_pitching</th><th>SF_pitching</th><th>GIDP_pitching</th><th>Training-Validation</th></tr><tr><td>str</td><td>i64</td><td>i64</td><td>i64</td><td>i64</td><td>i64</td><td>i64</td><td>i64</td><td>i64</td><td>i64</td><td>i64</td><td>i64</td><td>i64</td><td>i64</td><td>i64</td><td>i64</td><td>i64</td><td>i64</td><td>i64</td><td>i64</td><td>i64</td><td>i64</td><td>i64</td><td>i64</td><td>i64</td><td>i64</td><td>i64</td><td>i64</td><td>i64</td><td>i64</td><td>i64</td><td>i64</td><td>i64</td><td>i64</td><td>i64</td><td>i64</td><td>i64</td><td>i64</td><td>i64</td><td>f64</td><td>f64</td><td>i64</td><td>i64</td><td>i64</td><td>i64</td><td>i64</td><td>i64</td><td>i64</td><td>i64</td><td>i64</td><td>str</td></tr></thead><tbody><tr><td>&quot;danksjo01&quot;</td><td>2014</td><td>14250000</td><td>581</td><td>4</td><td>24</td><td>1</td><td>0</td><td>0</td><td>0</td><td>0</td><td>0</td><td>0</td><td>32</td><td>3</td><td>0</td><td>1</td><td>0</td><td>0</td><td>0</td><td>0</td><td>0</td><td>0</td><td>1</td><td>0</td><td>0</td><td>0</td><td>0</td><td>0</td><td>32</td><td>0</td><td>0</td><td>0</td><td>581</td><td>205</td><td>102</td><td>25</td><td>74</td><td>129</td><td>0.269</td><td>4.74</td><td>1</td><td>7</td><td>9</td><td>0</td><td>855</td><td>0</td><td>0</td><td>0</td><td>12</td><td>&quot;Training&quot;</td></tr><tr><td>&quot;hosmeer01&quot;</td><td>2014</td><td>3600000</td><td>3365</td><td>1043</td><td>88</td><td>10</td><td>85</td><td>0</td><td>0</td><td>0</td><td>0</td><td>0</td><td>130</td><td>0</td><td>0</td><td>0</td><td>0</td><td>0</td><td>0</td><td>0</td><td>0</td><td>0</td><td>0</td><td>0</td><td>0</td><td>0</td><td>0</td><td>0</td><td>126</td><td>0</td><td>0</td><td>0</td><td>0</td><td>0</td><td>0</td><td>0</td><td>0</td><td>0</td><td>0.0</td><td>0.0</td><td>0</td><td>0</td><td>0</td><td>0</td><td>0</td><td>0</td><td>0</td><td>0</td><td>0</td><td>&quot;Training&quot;</td></tr><tr><td>&quot;rzepcma01&quot;</td><td>2013</td><td>1100000</td><td>31</td><td>0</td><td>1</td><td>0</td><td>0</td><td>0</td><td>0</td><td>0</td><td>0</td><td>0</td><td>11</td><td>1</td><td>0</td><td>0</td><td>0</td><td>0</td><td>0</td><td>0</td><td>0</td><td>0</td><td>1</td><td>0</td><td>0</td><td>0</td><td>0</td><td>0</td><td>0</td><td>0</td><td>0</td><td>0</td><td>31</td><td>16</td><td>9</td><td>1</td><td>4</td><td>9</td><td>0.364</td><td>7.84</td><td>1</td><td>0</td><td>1</td><td>0</td><td>50</td><td>4</td><td>0</td><td>0</td><td>1</td><td>&quot;Training&quot;</td></tr><tr><td>&quot;weathda01&quot;</td><td>2008</td><td>3300000</td><td>208</td><td>1</td><td>6</td><td>2</td><td>2</td><td>0</td><td>0</td><td>0</td><td>0</td><td>0</td><td>72</td><td>0</td><td>0</td><td>0</td><td>0</td><td>0</td><td>0</td><td>0</td><td>0</td><td>0</td><td>0</td><td>0</td><td>0</td><td>0</td><td>0</td><td>0</td><td>0</td><td>0</td><td>0</td><td>0</td><td>208</td><td>76</td><td>25</td><td>6</td><td>30</td><td>46</td><td>0.276</td><td>3.25</td><td>8</td><td>1</td><td>3</td><td>1</td><td>311</td><td>17</td><td>0</td><td>0</td><td>12</td><td>&quot;Training&quot;</td></tr><tr><td>&quot;wuertmi01&quot;</td><td>2007</td><td>415000</td><td>217</td><td>2</td><td>9</td><td>0</td><td>0</td><td>0</td><td>0</td><td>0</td><td>0</td><td>0</td><td>73</td><td>2</td><td>0</td><td>0</td><td>0</td><td>0</td><td>0</td><td>0</td><td>0</td><td>0</td><td>1</td><td>0</td><td>0</td><td>0</td><td>0</td><td>0</td><td>0</td><td>0</td><td>0</td><td>0</td><td>217</td><td>64</td><td>28</td><td>8</td><td>35</td><td>79</td><td>0.234</td><td>3.48</td><td>6</td><td>6</td><td>0</td><td>0</td><td>312</td><td>19</td><td>0</td><td>0</td><td>4</td><td>&quot;Training&quot;</td></tr><tr><td>&hellip;</td><td>&hellip;</td><td>&hellip;</td><td>&hellip;</td><td>&hellip;</td><td>&hellip;</td><td>&hellip;</td><td>&hellip;</td><td>&hellip;</td><td>&hellip;</td><td>&hellip;</td><td>&hellip;</td><td>&hellip;</td><td>&hellip;</td><td>&hellip;</td><td>&hellip;</td><td>&hellip;</td><td>&hellip;</td><td>&hellip;</td><td>&hellip;</td><td>&hellip;</td><td>&hellip;</td><td>&hellip;</td><td>&hellip;</td><td>&hellip;</td><td>&hellip;</td><td>&hellip;</td><td>&hellip;</td><td>&hellip;</td><td>&hellip;</td><td>&hellip;</td><td>&hellip;</td><td>&hellip;</td><td>&hellip;</td><td>&hellip;</td><td>&hellip;</td><td>&hellip;</td><td>&hellip;</td><td>&hellip;</td><td>&hellip;</td><td>&hellip;</td><td>&hellip;</td><td>&hellip;</td><td>&hellip;</td><td>&hellip;</td><td>&hellip;</td><td>&hellip;</td><td>&hellip;</td><td>&hellip;</td><td>&hellip;</td><td>&hellip;</td></tr><tr><td>&quot;rossco01&quot;</td><td>2013</td><td>6000000</td><td>2136</td><td>164</td><td>5</td><td>0</td><td>1</td><td>0</td><td>0</td><td>0</td><td>0</td><td>0</td><td>83</td><td>0</td><td>0</td><td>0</td><td>0</td><td>0</td><td>0</td><td>0</td><td>0</td><td>0</td><td>0</td><td>0</td><td>0</td><td>0</td><td>0</td><td>0</td><td>78</td><td>0</td><td>0</td><td>0</td><td>0</td><td>0</td><td>0</td><td>0</td><td>0</td><td>0</td><td>0.0</td><td>0.0</td><td>0</td><td>0</td><td>0</td><td>0</td><td>0</td><td>0</td><td>0</td><td>0</td><td>0</td><td>&quot;Training&quot;</td></tr><tr><td>&quot;turneju01&quot;</td><td>2014</td><td>4000000</td><td>1859</td><td>70</td><td>176</td><td>12</td><td>24</td><td>0</td><td>0</td><td>0</td><td>0</td><td>0</td><td>90</td><td>0</td><td>0</td><td>0</td><td>0</td><td>0</td><td>0</td><td>0</td><td>0</td><td>0</td><td>0</td><td>0</td><td>0</td><td>0</td><td>0</td><td>0</td><td>67</td><td>0</td><td>0</td><td>0</td><td>0</td><td>0</td><td>0</td><td>0</td><td>0</td><td>0</td><td>0.0</td><td>0.0</td><td>0</td><td>0</td><td>0</td><td>0</td><td>0</td><td>0</td><td>0</td><td>0</td><td>0</td><td>&quot;Training&quot;</td></tr><tr><td>&quot;foggjo01&quot;</td><td>2007</td><td>3625000</td><td>497</td><td>12</td><td>19</td><td>0</td><td>4</td><td>0</td><td>0</td><td>0</td><td>0</td><td>0</td><td>30</td><td>53</td><td>3</td><td>7</td><td>0</td><td>0</td><td>0</td><td>0</td><td>0</td><td>1</td><td>19</td><td>0</td><td>0</td><td>9</td><td>0</td><td>2</td><td>29</td><td>0</td><td>0</td><td>0</td><td>497</td><td>194</td><td>91</td><td>23</td><td>59</td><td>94</td><td>0.293</td><td>4.94</td><td>7</td><td>3</td><td>13</td><td>0</td><td>745</td><td>0</td><td>9</td><td>0</td><td>13</td><td>&quot;Training&quot;</td></tr><tr><td>&quot;herndda01&quot;</td><td>2010</td><td>400000</td><td>157</td><td>2</td><td>3</td><td>1</td><td>0</td><td>0</td><td>0</td><td>0</td><td>0</td><td>0</td><td>47</td><td>2</td><td>0</td><td>0</td><td>0</td><td>0</td><td>0</td><td>0</td><td>0</td><td>0</td><td>2</td><td>0</td><td>0</td><td>0</td><td>0</td><td>0</td><td>0</td><td>0</td><td>0</td><td>0</td><td>157</td><td>67</td><td>25</td><td>2</td><td>17</td><td>29</td><td>0.321</td><td>4.3</td><td>4</td><td>1</td><td>2</td><td>0</td><td>232</td><td>14</td><td>0</td><td>0</td><td>10</td><td>&quot;Training&quot;</td></tr><tr><td>&quot;belisma01&quot;</td><td>2008</td><td>1250000</td><td>89</td><td>6</td><td>1</td><td>1</td><td>0</td><td>0</td><td>0</td><td>0</td><td>0</td><td>0</td><td>6</td><td>8</td><td>0</td><td>1</td><td>0</td><td>0</td><td>0</td><td>0</td><td>0</td><td>0</td><td>3</td><td>0</td><td>0</td><td>3</td><td>0</td><td>0</td><td>6</td><td>0</td><td>0</td><td>0</td><td>89</td><td>47</td><td>24</td><td>4</td><td>6</td><td>14</td><td>0.353</td><td>7.28</td><td>0</td><td>2</td><td>0</td><td>0</td><td>142</td><td>0</td><td>3</td><td>0</td><td>3</td><td>&quot;Training&quot;</td></tr></tbody></table></div>"
      ],
      "text/plain": [
       "shape: (9_131, 51)\n",
       "┌───────────┬────────┬──────────┬─────────┬───┬─────────────┬────────────┬────────────┬────────────┐\n",
       "│ playerID  ┆ yearID ┆ salary   ┆ InnOuts ┆ … ┆ SH_pitching ┆ SF_pitchin ┆ GIDP_pitch ┆ Training-V │\n",
       "│ ---       ┆ ---    ┆ ---      ┆ ---     ┆   ┆ ---         ┆ g          ┆ ing        ┆ alidation  │\n",
       "│ str       ┆ i64    ┆ i64      ┆ i64     ┆   ┆ i64         ┆ ---        ┆ ---        ┆ ---        │\n",
       "│           ┆        ┆          ┆         ┆   ┆             ┆ i64        ┆ i64        ┆ str        │\n",
       "╞═══════════╪════════╪══════════╪═════════╪═══╪═════════════╪════════════╪════════════╪════════════╡\n",
       "│ danksjo01 ┆ 2014   ┆ 14250000 ┆ 581     ┆ … ┆ 0           ┆ 0          ┆ 12         ┆ Training   │\n",
       "│ hosmeer01 ┆ 2014   ┆ 3600000  ┆ 3365    ┆ … ┆ 0           ┆ 0          ┆ 0          ┆ Training   │\n",
       "│ rzepcma01 ┆ 2013   ┆ 1100000  ┆ 31      ┆ … ┆ 0           ┆ 0          ┆ 1          ┆ Training   │\n",
       "│ weathda01 ┆ 2008   ┆ 3300000  ┆ 208     ┆ … ┆ 0           ┆ 0          ┆ 12         ┆ Training   │\n",
       "│ wuertmi01 ┆ 2007   ┆ 415000   ┆ 217     ┆ … ┆ 0           ┆ 0          ┆ 4          ┆ Training   │\n",
       "│ …         ┆ …      ┆ …        ┆ …       ┆ … ┆ …           ┆ …          ┆ …          ┆ …          │\n",
       "│ rossco01  ┆ 2013   ┆ 6000000  ┆ 2136    ┆ … ┆ 0           ┆ 0          ┆ 0          ┆ Training   │\n",
       "│ turneju01 ┆ 2014   ┆ 4000000  ┆ 1859    ┆ … ┆ 0           ┆ 0          ┆ 0          ┆ Training   │\n",
       "│ foggjo01  ┆ 2007   ┆ 3625000  ┆ 497     ┆ … ┆ 9           ┆ 0          ┆ 13         ┆ Training   │\n",
       "│ herndda01 ┆ 2010   ┆ 400000   ┆ 157     ┆ … ┆ 0           ┆ 0          ┆ 10         ┆ Training   │\n",
       "│ belisma01 ┆ 2008   ┆ 1250000  ┆ 89      ┆ … ┆ 3           ┆ 0          ┆ 3          ┆ Training   │\n",
       "└───────────┴────────┴──────────┴─────────┴───┴─────────────┴────────────┴────────────┴────────────┘"
      ]
     },
     "execution_count": 14,
     "metadata": {},
     "output_type": "execute_result"
    }
   ],
   "source": [
    "salaries_final = (salaries\n",
    ".filter(pl.col('yearID') >= 2006)\n",
    ".join(fielding\n",
    "        .filter(pl.col('yearID') >= 2006),\n",
    "        on=['playerID', 'yearID', 'lgID', 'teamID'],\n",
    "        how='left'\n",
    "     )\n",
    ".join(batting\n",
    "        .rename({\"CS\": \"CS_batting\", \"SB\": \"SB_Batting\"})\n",
    "        .filter(pl.col('yearID') >= 2006),\n",
    "        on=['playerID', 'yearID', 'teamID', 'stint', 'lgID', 'G'],\n",
    "        how='left',\n",
    "     )\n",
    ".join(pitching\n",
    "        .rename({\n",
    "            \"GIDP\": \"GIDP_pitching\", \"H\": \"H_pitching\", \"HR\": \"HR_pitching\", \"BB\": \"BB_pitching\",\n",
    "            \"SO\": \"SO_pitching\", \"IBB\": \"IBB_pitching\", \"WP\": \"WP_pitching\", \"HBP\": \"HBP_pitching\",\n",
    "            \"SH\": \"SH_pitching\", \"SF\": \"SF_pitching\", \"R\": \"R_pitching\", \"GIDP\": \"GIDP_pitching\"\n",
    "                })\n",
    "        .filter(pl.col('yearID') >= 2006),\n",
    "        on=['playerID', 'yearID', 'teamID', 'stint', 'lgID', 'G', 'GS'],\n",
    "        how='left'\n",
    "     )\n",
    ".group_by(['playerID','yearID'])\n",
    ".agg(\n",
    "     pl.col('salary').sum().alias('salary'),\n",
    "     pl.col('InnOuts').sum().alias('InnOuts'),\n",
    "     pl.col('PO').sum().alias('PO'),\n",
    "     pl.col('A').sum().alias('A'),\n",
    "     pl.col('E').sum().alias('E'),\n",
    "     pl.col('DP').sum().alias('DP'),\n",
    "     pl.col('PB').cast(int).sum().alias('PB'),\n",
    "     pl.col('WP').cast(int).sum().alias('WP'),\n",
    "     pl.col('SB').cast(int).sum().alias('SB'),\n",
    "     pl.col('CS').cast(int).sum().alias('CS'),\n",
    "     pl.col('ZR').cast(int).sum().alias('ZR'),\n",
    "     pl.col('G').sum().alias('G'),\n",
    "     pl.col('AB').sum().alias('AB'),\n",
    "     pl.col('R').sum().alias('R'),\n",
    "     pl.col('H').sum().alias('H'),\n",
    "     pl.col('2B').sum().alias('2B'),\n",
    "     pl.col('3B').sum().alias('3B'),\n",
    "     pl.col('HR').sum().alias('HR'),\n",
    "     pl.col('SB_Batting').sum().alias('SB_batting'),\n",
    "     pl.col('CS_batting').sum().alias('CS_batting'),\n",
    "     pl.col('BB').sum().alias('BB_batting'),\n",
    "     pl.col('SO').sum().alias('SO_batting'),\n",
    "     pl.col('IBB').sum().alias('IBB_batting'),\n",
    "     pl.col('HBP').sum().alias('HBP_batting'),\n",
    "     pl.col('SH').sum().alias('Sacrifice Hits'),\n",
    "     pl.col('SF').sum().alias('Sacrifice Flies'),\n",
    "     pl.col('GIDP').sum().alias('GIDP'),\n",
    "     pl.col('GS').sum().alias('GS'),\n",
    "     pl.col('CG').sum().alias('CG'),\n",
    "     pl.col('SHO').sum().alias('SHO'),\n",
    "     pl.col('SV').sum().alias('SV'),\n",
    "     pl.col('IPouts').sum().alias('IPOuts'),\n",
    "     pl.col('H_pitching').sum().alias('H_pitching'),\n",
    "     pl.col('ER').sum().alias('ER_pitching'),\n",
    "     pl.col('HR_pitching').sum().alias('HR_pitching'),\n",
    "     pl.col('BB_pitching').sum().alias('BB_pitching'),\n",
    "     pl.col('SO_pitching').sum().alias('SO_pitching'),\n",
    "     pl.col('BAOpp').sum().alias('BAOpp'),\n",
    "     pl.col('ERA').sum().alias('ERA_pitching'),\n",
    "     pl.col('IBB_pitching').sum().alias('IBB_pitching'),\n",
    "     pl.col('WP_pitching').sum().alias('WP_pitching'),\n",
    "     pl.col('HBP_pitching').sum().alias('HBP_pitching'),\n",
    "     pl.col('BK').sum().alias('Balk'),\n",
    "     pl.col('BFP').sum().alias('Batters Faced by Pitcher'),\n",
    "     pl.col('GF').sum().alias('Games Finished'),\n",
    "     pl.col('SH').sum().alias('SH_pitching'),\n",
    "     pl.col('SF').sum().alias('SF_pitching'),\n",
    "     pl.col('GIDP_pitching').sum().alias('GIDP_pitching')\n",
    "    )   \n",
    ".with_columns(\n",
    "         pl.when(pl.col('yearID') == 2016)\n",
    "          .then(pl.lit('Validation'))\n",
    "          .otherwise(pl.lit('Training'))\n",
    "          .alias('Training-Validation')\n",
    "               )\n",
    ")\n",
    "salaries_final.write_csv('data/salaries_final.csv')\n",
    "salaries_final"
   ]
  },
  {
   "cell_type": "code",
   "execution_count": null,
   "id": "dfdb8bb9-60b9-421a-9d88-92cba6cf66fc",
   "metadata": {},
   "outputs": [],
   "source": []
  },
  {
   "cell_type": "markdown",
   "id": "9cf6544c-39bb-40a9-b316-bc4c5a7e6d32",
   "metadata": {},
   "source": [
    "# Classification Problem"
   ]
  },
  {
   "cell_type": "markdown",
   "id": "5051a91b-95bf-421c-b199-419213aa95df",
   "metadata": {},
   "source": [
    "## Setting Up"
   ]
  },
  {
   "cell_type": "code",
   "execution_count": 19,
   "id": "896ab002-b450-42bc-9634-dbc20d30f934",
   "metadata": {},
   "outputs": [],
   "source": [
    "import sklearn\n",
    "import pandas as pd\n",
    "import numpy as np\n",
    "import matplotlib.pyplot as plt"
   ]
  },
  {
   "cell_type": "code",
   "execution_count": 21,
   "id": "9c73e321-84a0-4837-a924-811d8754776d",
   "metadata": {},
   "outputs": [],
   "source": [
    "from sklearn.metrics import confusion_matrix\n",
    "\n",
    "def get_metrics(y_true, y_pred, labels=None):\n",
    "    \"\"\" Compute various measures from a confusion matrix\n",
    "\n",
    "    Args:\n",
    "        y_true: a column of the true labels.\n",
    "        y_pred: a column of the predicted labels.\n",
    "    Returns:\n",
    "        A dictionary of metrics.\n",
    "    \"\"\"\n",
    "    conf_mat = confusion_matrix(y_true, y_pred, labels=labels)\n",
    "    tn, fp, fn, tp = conf_mat.ravel()\n",
    "\n",
    "    return {'accuracy'          :  (tp + tn)/(tp + tn + fp + fn),\n",
    "            'balanced_accuracy' :  0.5*tn / (tn+fp) + 0.5*tp / (tp+fn),\n",
    "            'specificity'       :  tn / (tn+fp),\n",
    "            'sensitivity'       :  tp / (tp+fn),\n",
    "             'ppv'              :  tp / (tp + fp),\n",
    "             'npv'              :  tn / (tn + fn)}\n"
   ]
  },
  {
   "cell_type": "code",
   "execution_count": 23,
   "id": "ff1239c0-5c90-4737-9f66-53ee57f672e8",
   "metadata": {},
   "outputs": [
    {
     "data": {
      "text/html": [
       "<div><style>\n",
       ".dataframe > thead > tr,\n",
       ".dataframe > tbody > tr {\n",
       "  text-align: right;\n",
       "  white-space: pre-wrap;\n",
       "}\n",
       "</style>\n",
       "<small>shape: (21_356, 16)</small><table border=\"1\" class=\"dataframe\"><thead><tr><th>playerID</th><th>yearID</th><th>lgID</th><th>POS</th><th>InnOuts</th><th>PO</th><th>A</th><th>E</th><th>DP</th><th>PB</th><th>WP</th><th>SB</th><th>CS</th><th>ZR</th><th>Gold Glove?</th><th>Training-Validation</th></tr><tr><td>str</td><td>i64</td><td>str</td><td>str</td><td>i64</td><td>i64</td><td>i64</td><td>i64</td><td>i64</td><td>i64</td><td>i64</td><td>i64</td><td>i64</td><td>i64</td><td>str</td><td>str</td></tr></thead><tbody><tr><td>&quot;topaju01&quot;</td><td>2022</td><td>&quot;NL&quot;</td><td>&quot;P&quot;</td><td>22</td><td>1</td><td>4</td><td>0</td><td>0</td><td>0</td><td>0</td><td>0</td><td>0</td><td>0</td><td>&quot;No&quot;</td><td>&quot;Training&quot;</td></tr><tr><td>&quot;whitemi03&quot;</td><td>2022</td><td>&quot;NL&quot;</td><td>&quot;P&quot;</td><td>168</td><td>5</td><td>4</td><td>0</td><td>0</td><td>0</td><td>0</td><td>0</td><td>0</td><td>0</td><td>&quot;No&quot;</td><td>&quot;Training&quot;</td></tr><tr><td>&quot;andergr01&quot;</td><td>2023</td><td>&quot;AL&quot;</td><td>&quot;P&quot;</td><td>107</td><td>3</td><td>4</td><td>0</td><td>1</td><td>0</td><td>0</td><td>0</td><td>0</td><td>0</td><td>&quot;No&quot;</td><td>&quot;Validation&quot;</td></tr><tr><td>&quot;madrini01&quot;</td><td>2022</td><td>&quot;NL&quot;</td><td>&quot;2B&quot;</td><td>1462</td><td>106</td><td>144</td><td>1</td><td>46</td><td>0</td><td>0</td><td>0</td><td>0</td><td>0</td><td>&quot;No&quot;</td><td>&quot;Training&quot;</td></tr><tr><td>&quot;doteloc01&quot;</td><td>2013</td><td>&quot;AL&quot;</td><td>&quot;P&quot;</td><td>14</td><td>0</td><td>1</td><td>0</td><td>0</td><td>0</td><td>0</td><td>0</td><td>0</td><td>0</td><td>&quot;No&quot;</td><td>&quot;Training&quot;</td></tr><tr><td>&hellip;</td><td>&hellip;</td><td>&hellip;</td><td>&hellip;</td><td>&hellip;</td><td>&hellip;</td><td>&hellip;</td><td>&hellip;</td><td>&hellip;</td><td>&hellip;</td><td>&hellip;</td><td>&hellip;</td><td>&hellip;</td><td>&hellip;</td><td>&hellip;</td><td>&hellip;</td></tr><tr><td>&quot;stallja01&quot;</td><td>2023</td><td>&quot;NL&quot;</td><td>&quot;P&quot;</td><td>24</td><td>0</td><td>0</td><td>0</td><td>0</td><td>0</td><td>0</td><td>0</td><td>0</td><td>0</td><td>&quot;No&quot;</td><td>&quot;Validation&quot;</td></tr><tr><td>&quot;anderti01&quot;</td><td>2023</td><td>&quot;AL&quot;</td><td>&quot;2B&quot;</td><td>54</td><td>3</td><td>2</td><td>1</td><td>0</td><td>0</td><td>0</td><td>0</td><td>0</td><td>0</td><td>&quot;No&quot;</td><td>&quot;Validation&quot;</td></tr><tr><td>&quot;castrja01&quot;</td><td>2020</td><td>&quot;AL&quot;</td><td>&quot;C&quot;</td><td>383</td><td>131</td><td>7</td><td>0</td><td>0</td><td>1</td><td>0</td><td>7</td><td>4</td><td>0</td><td>&quot;No&quot;</td><td>&quot;Training&quot;</td></tr><tr><td>&quot;pearcst01&quot;</td><td>2016</td><td>&quot;AL&quot;</td><td>&quot;1B&quot;</td><td>834</td><td>244</td><td>22</td><td>3</td><td>26</td><td>0</td><td>0</td><td>0</td><td>0</td><td>0</td><td>&quot;No&quot;</td><td>&quot;Training&quot;</td></tr><tr><td>&quot;beatope01&quot;</td><td>2013</td><td>&quot;AL&quot;</td><td>&quot;P&quot;</td><td>30</td><td>0</td><td>1</td><td>0</td><td>0</td><td>0</td><td>0</td><td>0</td><td>0</td><td>0</td><td>&quot;No&quot;</td><td>&quot;Training&quot;</td></tr></tbody></table></div>"
      ],
      "text/plain": [
       "shape: (21_356, 16)\n",
       "┌───────────┬────────┬──────┬─────┬───┬─────┬─────┬─────────────┬─────────────────────┐\n",
       "│ playerID  ┆ yearID ┆ lgID ┆ POS ┆ … ┆ CS  ┆ ZR  ┆ Gold Glove? ┆ Training-Validation │\n",
       "│ ---       ┆ ---    ┆ ---  ┆ --- ┆   ┆ --- ┆ --- ┆ ---         ┆ ---                 │\n",
       "│ str       ┆ i64    ┆ str  ┆ str ┆   ┆ i64 ┆ i64 ┆ str         ┆ str                 │\n",
       "╞═══════════╪════════╪══════╪═════╪═══╪═════╪═════╪═════════════╪═════════════════════╡\n",
       "│ topaju01  ┆ 2022   ┆ NL   ┆ P   ┆ … ┆ 0   ┆ 0   ┆ No          ┆ Training            │\n",
       "│ whitemi03 ┆ 2022   ┆ NL   ┆ P   ┆ … ┆ 0   ┆ 0   ┆ No          ┆ Training            │\n",
       "│ andergr01 ┆ 2023   ┆ AL   ┆ P   ┆ … ┆ 0   ┆ 0   ┆ No          ┆ Validation          │\n",
       "│ madrini01 ┆ 2022   ┆ NL   ┆ 2B  ┆ … ┆ 0   ┆ 0   ┆ No          ┆ Training            │\n",
       "│ doteloc01 ┆ 2013   ┆ AL   ┆ P   ┆ … ┆ 0   ┆ 0   ┆ No          ┆ Training            │\n",
       "│ …         ┆ …      ┆ …    ┆ …   ┆ … ┆ …   ┆ …   ┆ …           ┆ …                   │\n",
       "│ stallja01 ┆ 2023   ┆ NL   ┆ P   ┆ … ┆ 0   ┆ 0   ┆ No          ┆ Validation          │\n",
       "│ anderti01 ┆ 2023   ┆ AL   ┆ 2B  ┆ … ┆ 0   ┆ 0   ┆ No          ┆ Validation          │\n",
       "│ castrja01 ┆ 2020   ┆ AL   ┆ C   ┆ … ┆ 4   ┆ 0   ┆ No          ┆ Training            │\n",
       "│ pearcst01 ┆ 2016   ┆ AL   ┆ 1B  ┆ … ┆ 0   ┆ 0   ┆ No          ┆ Training            │\n",
       "│ beatope01 ┆ 2013   ┆ AL   ┆ P   ┆ … ┆ 0   ┆ 0   ┆ No          ┆ Training            │\n",
       "└───────────┴────────┴──────┴─────┴───┴─────┴─────┴─────────────┴─────────────────────┘"
      ]
     },
     "execution_count": 23,
     "metadata": {},
     "output_type": "execute_result"
    }
   ],
   "source": [
    "fielding_awards"
   ]
  },
  {
   "cell_type": "code",
   "execution_count": 25,
   "id": "44d96dc4-d1b4-4f0d-a2a2-94e83d8ccfb2",
   "metadata": {},
   "outputs": [
    {
     "data": {
      "text/plain": [
       "['playerID',\n",
       " 'yearID',\n",
       " 'lgID',\n",
       " 'POS',\n",
       " 'InnOuts',\n",
       " 'PO',\n",
       " 'A',\n",
       " 'E',\n",
       " 'DP',\n",
       " 'PB',\n",
       " 'WP',\n",
       " 'SB',\n",
       " 'CS',\n",
       " 'ZR',\n",
       " 'Gold Glove?',\n",
       " 'Training-Validation']"
      ]
     },
     "execution_count": 25,
     "metadata": {},
     "output_type": "execute_result"
    }
   ],
   "source": [
    "fielding_awards.columns"
   ]
  },
  {
   "cell_type": "markdown",
   "id": "be03c394-69f2-4f2c-bfcd-c43332e206eb",
   "metadata": {
    "jp-MarkdownHeadingCollapsed": true
   },
   "source": [
    "## Preparing Data"
   ]
  },
  {
   "cell_type": "code",
   "execution_count": 28,
   "id": "b620f27a-233a-43cc-a921-29a1e8f05cb2",
   "metadata": {},
   "outputs": [],
   "source": [
    "fielding_training = fielding_awards.filter(pl.col('Training-Validation') == 'Training').drop(['Gold Glove?', 'playerID', 'yearID', 'lgID', 'POS', 'Training-Validation'])\n",
    "gold_glove_train = fielding_awards.filter(pl.col('Training-Validation') == 'Training').drop(['playerID', 'yearID', 'lgID', 'POS', 'Training-Validation']).select('Gold Glove?')\n",
    "\n",
    "fielding_validation = fielding_awards.filter(pl.col('Training-Validation') == 'Validation').drop(['Gold Glove?', 'playerID', 'yearID', 'lgID', 'POS', 'Training-Validation'])\n",
    "gold_glove_validation = fielding_awards.filter(pl.col('Training-Validation') == 'Validation').drop(['playerID', 'yearID', 'lgID', 'POS', 'Training-Validation']).select('Gold Glove?')\n",
    "\n",
    "fielding_stats_train = fielding_training.to_pandas()\n",
    "gold_glove_train = gold_glove_train.to_pandas()\n",
    "\n",
    "fielding_stats_validation = fielding_validation.to_pandas()\n",
    "gold_glove_validation = gold_glove_validation.to_pandas()"
   ]
  },
  {
   "cell_type": "markdown",
   "id": "a9a0df6c-5d8a-4aff-846d-7b7ce629951f",
   "metadata": {
    "jp-MarkdownHeadingCollapsed": true
   },
   "source": [
    "## Grid Search"
   ]
  },
  {
   "cell_type": "markdown",
   "id": "5567368f-363e-441c-8277-7ee5dc97d7d8",
   "metadata": {
    "jp-MarkdownHeadingCollapsed": true
   },
   "source": [
    "### Tree Grid Search"
   ]
  },
  {
   "cell_type": "code",
   "execution_count": 32,
   "id": "b95c0360-63d8-4a03-9bc0-917f5936e668",
   "metadata": {},
   "outputs": [],
   "source": [
    "from sklearn.model_selection import GridSearchCV\n",
    "from sklearn.tree import DecisionTreeClassifier\n",
    "import numpy as np\n",
    "\n",
    "param_grid = {'max_depth': [None, 1,2,3,4,5],\n",
    "              'min_samples_split' : [1, 5, 10],\n",
    "               'min_samples_leaf' : [1, 5, 10],\n",
    "              'class_weight':[None, \"balanced\"]\n",
    "              }\n"
   ]
  },
  {
   "cell_type": "code",
   "execution_count": 36,
   "id": "8cb91c1d-e4f4-4935-95b3-c86b48f89401",
   "metadata": {},
   "outputs": [],
   "source": [
    "from sklearn.model_selection import StratifiedKFold"
   ]
  },
  {
   "cell_type": "code",
   "execution_count": 34,
   "id": "e3b49b4d-b077-42d6-8cc3-754bc23cc319",
   "metadata": {},
   "outputs": [
    {
     "name": "stdout",
     "output_type": "stream",
     "text": [
      "Fitting 10 folds for each of 108 candidates, totalling 1080 fits\n",
      "[CV 1/10] END class_weight=None, max_depth=None, min_samples_leaf=1, min_samples_split=1;, score=nan total time=   0.0s\n",
      "[CV 2/10] END class_weight=None, max_depth=None, min_samples_leaf=1, min_samples_split=1;, score=nan total time=   0.0s\n",
      "[CV 3/10] END class_weight=None, max_depth=None, min_samples_leaf=1, min_samples_split=1;, score=nan total time=   0.0s\n",
      "[CV 4/10] END class_weight=None, max_depth=None, min_samples_leaf=1, min_samples_split=1;, score=nan total time=   0.0s\n",
      "[CV 5/10] END class_weight=None, max_depth=None, min_samples_leaf=1, min_samples_split=1;, score=nan total time=   0.0s\n",
      "[CV 6/10] END class_weight=None, max_depth=None, min_samples_leaf=1, min_samples_split=1;, score=nan total time=   0.0s\n",
      "[CV 7/10] END class_weight=None, max_depth=None, min_samples_leaf=1, min_samples_split=1;, score=nan total time=   0.0s\n",
      "[CV 8/10] END class_weight=None, max_depth=None, min_samples_leaf=1, min_samples_split=1;, score=nan total time=   0.0s\n",
      "[CV 9/10] END class_weight=None, max_depth=None, min_samples_leaf=1, min_samples_split=1;, score=nan total time=   0.0s\n",
      "[CV 10/10] END class_weight=None, max_depth=None, min_samples_leaf=1, min_samples_split=1;, score=nan total time=   0.0s\n",
      "[CV 1/10] END class_weight=None, max_depth=None, min_samples_leaf=1, min_samples_split=5;, score=0.986 total time=   0.0s\n",
      "[CV 2/10] END class_weight=None, max_depth=None, min_samples_leaf=1, min_samples_split=5;, score=0.988 total time=   0.0s\n",
      "[CV 3/10] END class_weight=None, max_depth=None, min_samples_leaf=1, min_samples_split=5;, score=0.985 total time=   0.0s\n",
      "[CV 4/10] END class_weight=None, max_depth=None, min_samples_leaf=1, min_samples_split=5;, score=0.982 total time=   0.0s\n",
      "[CV 5/10] END class_weight=None, max_depth=None, min_samples_leaf=1, min_samples_split=5;, score=0.978 total time=   0.0s\n",
      "[CV 6/10] END class_weight=None, max_depth=None, min_samples_leaf=1, min_samples_split=5;, score=0.983 total time=   0.0s\n",
      "[CV 7/10] END class_weight=None, max_depth=None, min_samples_leaf=1, min_samples_split=5;, score=0.984 total time=   0.0s\n",
      "[CV 8/10] END class_weight=None, max_depth=None, min_samples_leaf=1, min_samples_split=5;, score=0.981 total time=   0.0s\n",
      "[CV 9/10] END class_weight=None, max_depth=None, min_samples_leaf=1, min_samples_split=5;, score=0.982 total time=   0.0s\n",
      "[CV 10/10] END class_weight=None, max_depth=None, min_samples_leaf=1, min_samples_split=5;, score=0.981 total time=   0.0s\n",
      "[CV 1/10] END class_weight=None, max_depth=None, min_samples_leaf=1, min_samples_split=10;, score=0.987 total time=   0.0s\n",
      "[CV 2/10] END class_weight=None, max_depth=None, min_samples_leaf=1, min_samples_split=10;, score=0.985 total time=   0.0s\n",
      "[CV 3/10] END class_weight=None, max_depth=None, min_samples_leaf=1, min_samples_split=10;, score=0.985 total time=   0.0s\n",
      "[CV 4/10] END class_weight=None, max_depth=None, min_samples_leaf=1, min_samples_split=10;, score=0.983 total time=   0.0s\n",
      "[CV 5/10] END class_weight=None, max_depth=None, min_samples_leaf=1, min_samples_split=10;, score=0.981 total time=   0.0s\n",
      "[CV 6/10] END class_weight=None, max_depth=None, min_samples_leaf=1, min_samples_split=10;, score=0.982 total time=   0.0s\n",
      "[CV 7/10] END class_weight=None, max_depth=None, min_samples_leaf=1, min_samples_split=10;, score=0.983 total time=   0.0s\n",
      "[CV 8/10] END class_weight=None, max_depth=None, min_samples_leaf=1, min_samples_split=10;, score=0.982 total time=   0.0s\n",
      "[CV 9/10] END class_weight=None, max_depth=None, min_samples_leaf=1, min_samples_split=10;, score=0.983 total time=   0.0s\n",
      "[CV 10/10] END class_weight=None, max_depth=None, min_samples_leaf=1, min_samples_split=10;, score=0.981 total time=   0.0s\n",
      "[CV 1/10] END class_weight=None, max_depth=None, min_samples_leaf=5, min_samples_split=1;, score=nan total time=   0.0s\n",
      "[CV 2/10] END class_weight=None, max_depth=None, min_samples_leaf=5, min_samples_split=1;, score=nan total time=   0.0s\n",
      "[CV 3/10] END class_weight=None, max_depth=None, min_samples_leaf=5, min_samples_split=1;, score=nan total time=   0.0s\n",
      "[CV 4/10] END class_weight=None, max_depth=None, min_samples_leaf=5, min_samples_split=1;, score=nan total time=   0.0s\n",
      "[CV 5/10] END class_weight=None, max_depth=None, min_samples_leaf=5, min_samples_split=1;, score=nan total time=   0.0s\n",
      "[CV 6/10] END class_weight=None, max_depth=None, min_samples_leaf=5, min_samples_split=1;, score=nan total time=   0.0s\n",
      "[CV 7/10] END class_weight=None, max_depth=None, min_samples_leaf=5, min_samples_split=1;, score=nan total time=   0.0s\n",
      "[CV 8/10] END class_weight=None, max_depth=None, min_samples_leaf=5, min_samples_split=1;, score=nan total time=   0.0s\n",
      "[CV 9/10] END class_weight=None, max_depth=None, min_samples_leaf=5, min_samples_split=1;, score=nan total time=   0.0s\n",
      "[CV 10/10] END class_weight=None, max_depth=None, min_samples_leaf=5, min_samples_split=1;, score=nan total time=   0.0s\n",
      "[CV 1/10] END class_weight=None, max_depth=None, min_samples_leaf=5, min_samples_split=5;, score=0.985 total time=   0.0s\n",
      "[CV 2/10] END class_weight=None, max_depth=None, min_samples_leaf=5, min_samples_split=5;, score=0.985 total time=   0.0s\n",
      "[CV 3/10] END class_weight=None, max_depth=None, min_samples_leaf=5, min_samples_split=5;, score=0.988 total time=   0.0s\n",
      "[CV 4/10] END class_weight=None, max_depth=None, min_samples_leaf=5, min_samples_split=5;, score=0.984 total time=   0.0s\n",
      "[CV 5/10] END class_weight=None, max_depth=None, min_samples_leaf=5, min_samples_split=5;, score=0.985 total time=   0.0s\n",
      "[CV 6/10] END class_weight=None, max_depth=None, min_samples_leaf=5, min_samples_split=5;, score=0.981 total time=   0.0s\n",
      "[CV 7/10] END class_weight=None, max_depth=None, min_samples_leaf=5, min_samples_split=5;, score=0.985 total time=   0.0s\n",
      "[CV 8/10] END class_weight=None, max_depth=None, min_samples_leaf=5, min_samples_split=5;, score=0.982 total time=   0.0s\n",
      "[CV 9/10] END class_weight=None, max_depth=None, min_samples_leaf=5, min_samples_split=5;, score=0.986 total time=   0.0s\n",
      "[CV 10/10] END class_weight=None, max_depth=None, min_samples_leaf=5, min_samples_split=5;, score=0.987 total time=   0.0s\n",
      "[CV 1/10] END class_weight=None, max_depth=None, min_samples_leaf=5, min_samples_split=10;, score=0.985 total time=   0.0s\n",
      "[CV 2/10] END class_weight=None, max_depth=None, min_samples_leaf=5, min_samples_split=10;, score=0.984 total time=   0.0s\n",
      "[CV 3/10] END class_weight=None, max_depth=None, min_samples_leaf=5, min_samples_split=10;, score=0.989 total time=   0.0s\n",
      "[CV 4/10] END class_weight=None, max_depth=None, min_samples_leaf=5, min_samples_split=10;, score=0.984 total time=   0.0s\n",
      "[CV 5/10] END class_weight=None, max_depth=None, min_samples_leaf=5, min_samples_split=10;, score=0.985 total time=   0.0s\n",
      "[CV 6/10] END class_weight=None, max_depth=None, min_samples_leaf=5, min_samples_split=10;, score=0.981 total time=   0.0s\n",
      "[CV 7/10] END class_weight=None, max_depth=None, min_samples_leaf=5, min_samples_split=10;, score=0.986 total time=   0.0s\n",
      "[CV 8/10] END class_weight=None, max_depth=None, min_samples_leaf=5, min_samples_split=10;, score=0.983 total time=   0.0s\n",
      "[CV 9/10] END class_weight=None, max_depth=None, min_samples_leaf=5, min_samples_split=10;, score=0.986 total time=   0.0s\n",
      "[CV 10/10] END class_weight=None, max_depth=None, min_samples_leaf=5, min_samples_split=10;, score=0.987 total time=   0.0s\n",
      "[CV 1/10] END class_weight=None, max_depth=None, min_samples_leaf=10, min_samples_split=1;, score=nan total time=   0.0s\n",
      "[CV 2/10] END class_weight=None, max_depth=None, min_samples_leaf=10, min_samples_split=1;, score=nan total time=   0.0s\n",
      "[CV 3/10] END class_weight=None, max_depth=None, min_samples_leaf=10, min_samples_split=1;, score=nan total time=   0.0s\n",
      "[CV 4/10] END class_weight=None, max_depth=None, min_samples_leaf=10, min_samples_split=1;, score=nan total time=   0.0s\n",
      "[CV 5/10] END class_weight=None, max_depth=None, min_samples_leaf=10, min_samples_split=1;, score=nan total time=   0.0s\n",
      "[CV 6/10] END class_weight=None, max_depth=None, min_samples_leaf=10, min_samples_split=1;, score=nan total time=   0.0s\n",
      "[CV 7/10] END class_weight=None, max_depth=None, min_samples_leaf=10, min_samples_split=1;, score=nan total time=   0.0s\n",
      "[CV 8/10] END class_weight=None, max_depth=None, min_samples_leaf=10, min_samples_split=1;, score=nan total time=   0.0s\n",
      "[CV 9/10] END class_weight=None, max_depth=None, min_samples_leaf=10, min_samples_split=1;, score=nan total time=   0.0s\n",
      "[CV 10/10] END class_weight=None, max_depth=None, min_samples_leaf=10, min_samples_split=1;, score=nan total time=   0.0s\n",
      "[CV 1/10] END class_weight=None, max_depth=None, min_samples_leaf=10, min_samples_split=5;, score=0.985 total time=   0.0s\n",
      "[CV 2/10] END class_weight=None, max_depth=None, min_samples_leaf=10, min_samples_split=5;, score=0.990 total time=   0.0s\n",
      "[CV 3/10] END class_weight=None, max_depth=None, min_samples_leaf=10, min_samples_split=5;, score=0.988 total time=   0.0s\n",
      "[CV 4/10] END class_weight=None, max_depth=None, min_samples_leaf=10, min_samples_split=5;, score=0.987 total time=   0.0s\n",
      "[CV 5/10] END class_weight=None, max_depth=None, min_samples_leaf=10, min_samples_split=5;, score=0.986 total time=   0.0s\n",
      "[CV 6/10] END class_weight=None, max_depth=None, min_samples_leaf=10, min_samples_split=5;, score=0.984 total time=   0.0s\n",
      "[CV 7/10] END class_weight=None, max_depth=None, min_samples_leaf=10, min_samples_split=5;, score=0.987 total time=   0.0s\n",
      "[CV 8/10] END class_weight=None, max_depth=None, min_samples_leaf=10, min_samples_split=5;, score=0.985 total time=   0.0s\n",
      "[CV 9/10] END class_weight=None, max_depth=None, min_samples_leaf=10, min_samples_split=5;, score=0.985 total time=   0.0s\n",
      "[CV 10/10] END class_weight=None, max_depth=None, min_samples_leaf=10, min_samples_split=5;, score=0.987 total time=   0.0s\n",
      "[CV 1/10] END class_weight=None, max_depth=None, min_samples_leaf=10, min_samples_split=10;, score=0.985 total time=   0.0s\n",
      "[CV 2/10] END class_weight=None, max_depth=None, min_samples_leaf=10, min_samples_split=10;, score=0.990 total time=   0.0s\n",
      "[CV 3/10] END class_weight=None, max_depth=None, min_samples_leaf=10, min_samples_split=10;, score=0.988 total time=   0.0s\n",
      "[CV 4/10] END class_weight=None, max_depth=None, min_samples_leaf=10, min_samples_split=10;, score=0.987 total time=   0.0s\n",
      "[CV 5/10] END class_weight=None, max_depth=None, min_samples_leaf=10, min_samples_split=10;, score=0.986 total time=   0.0s\n",
      "[CV 6/10] END class_weight=None, max_depth=None, min_samples_leaf=10, min_samples_split=10;, score=0.984 total time=   0.0s\n",
      "[CV 7/10] END class_weight=None, max_depth=None, min_samples_leaf=10, min_samples_split=10;, score=0.987 total time=   0.0s\n",
      "[CV 8/10] END class_weight=None, max_depth=None, min_samples_leaf=10, min_samples_split=10;, score=0.986 total time=   0.0s\n",
      "[CV 9/10] END class_weight=None, max_depth=None, min_samples_leaf=10, min_samples_split=10;, score=0.985 total time=   0.0s\n",
      "[CV 10/10] END class_weight=None, max_depth=None, min_samples_leaf=10, min_samples_split=10;, score=0.987 total time=   0.0s\n",
      "[CV 1/10] END class_weight=None, max_depth=1, min_samples_leaf=1, min_samples_split=1;, score=nan total time=   0.0s\n",
      "[CV 2/10] END class_weight=None, max_depth=1, min_samples_leaf=1, min_samples_split=1;, score=nan total time=   0.0s\n",
      "[CV 3/10] END class_weight=None, max_depth=1, min_samples_leaf=1, min_samples_split=1;, score=nan total time=   0.0s\n",
      "[CV 4/10] END class_weight=None, max_depth=1, min_samples_leaf=1, min_samples_split=1;, score=nan total time=   0.0s\n",
      "[CV 5/10] END class_weight=None, max_depth=1, min_samples_leaf=1, min_samples_split=1;, score=nan total time=   0.0s\n",
      "[CV 6/10] END class_weight=None, max_depth=1, min_samples_leaf=1, min_samples_split=1;, score=nan total time=   0.0s\n",
      "[CV 7/10] END class_weight=None, max_depth=1, min_samples_leaf=1, min_samples_split=1;, score=nan total time=   0.0s\n",
      "[CV 8/10] END class_weight=None, max_depth=1, min_samples_leaf=1, min_samples_split=1;, score=nan total time=   0.0s\n",
      "[CV 9/10] END class_weight=None, max_depth=1, min_samples_leaf=1, min_samples_split=1;, score=nan total time=   0.0s\n",
      "[CV 10/10] END class_weight=None, max_depth=1, min_samples_leaf=1, min_samples_split=1;, score=nan total time=   0.0s\n",
      "[CV 1/10] END class_weight=None, max_depth=1, min_samples_leaf=1, min_samples_split=5;, score=0.988 total time=   0.0s\n",
      "[CV 2/10] END class_weight=None, max_depth=1, min_samples_leaf=1, min_samples_split=5;, score=0.988 total time=   0.0s\n",
      "[CV 3/10] END class_weight=None, max_depth=1, min_samples_leaf=1, min_samples_split=5;, score=0.988 total time=   0.0s\n",
      "[CV 4/10] END class_weight=None, max_depth=1, min_samples_leaf=1, min_samples_split=5;, score=0.988 total time=   0.0s\n",
      "[CV 5/10] END class_weight=None, max_depth=1, min_samples_leaf=1, min_samples_split=5;, score=0.988 total time=   0.0s\n",
      "[CV 6/10] END class_weight=None, max_depth=1, min_samples_leaf=1, min_samples_split=5;, score=0.988 total time=   0.0s\n",
      "[CV 7/10] END class_weight=None, max_depth=1, min_samples_leaf=1, min_samples_split=5;, score=0.988 total time=   0.0s\n",
      "[CV 8/10] END class_weight=None, max_depth=1, min_samples_leaf=1, min_samples_split=5;, score=0.989 total time=   0.0s\n",
      "[CV 9/10] END class_weight=None, max_depth=1, min_samples_leaf=1, min_samples_split=5;, score=0.988 total time=   0.0s\n",
      "[CV 10/10] END class_weight=None, max_depth=1, min_samples_leaf=1, min_samples_split=5;, score=0.988 total time=   0.0s\n",
      "[CV 1/10] END class_weight=None, max_depth=1, min_samples_leaf=1, min_samples_split=10;, score=0.988 total time=   0.0s\n",
      "[CV 2/10] END class_weight=None, max_depth=1, min_samples_leaf=1, min_samples_split=10;, score=0.988 total time=   0.0s\n",
      "[CV 3/10] END class_weight=None, max_depth=1, min_samples_leaf=1, min_samples_split=10;, score=0.988 total time=   0.0s\n",
      "[CV 4/10] END class_weight=None, max_depth=1, min_samples_leaf=1, min_samples_split=10;, score=0.988 total time=   0.0s\n",
      "[CV 5/10] END class_weight=None, max_depth=1, min_samples_leaf=1, min_samples_split=10;, score=0.988 total time=   0.0s\n",
      "[CV 6/10] END class_weight=None, max_depth=1, min_samples_leaf=1, min_samples_split=10;, score=0.988 total time=   0.0s\n",
      "[CV 7/10] END class_weight=None, max_depth=1, min_samples_leaf=1, min_samples_split=10;, score=0.988 total time=   0.0s\n",
      "[CV 8/10] END class_weight=None, max_depth=1, min_samples_leaf=1, min_samples_split=10;, score=0.989 total time=   0.0s\n",
      "[CV 9/10] END class_weight=None, max_depth=1, min_samples_leaf=1, min_samples_split=10;, score=0.988 total time=   0.0s\n",
      "[CV 10/10] END class_weight=None, max_depth=1, min_samples_leaf=1, min_samples_split=10;, score=0.988 total time=   0.0s\n",
      "[CV 1/10] END class_weight=None, max_depth=1, min_samples_leaf=5, min_samples_split=1;, score=nan total time=   0.0s\n",
      "[CV 2/10] END class_weight=None, max_depth=1, min_samples_leaf=5, min_samples_split=1;, score=nan total time=   0.0s\n",
      "[CV 3/10] END class_weight=None, max_depth=1, min_samples_leaf=5, min_samples_split=1;, score=nan total time=   0.0s\n",
      "[CV 4/10] END class_weight=None, max_depth=1, min_samples_leaf=5, min_samples_split=1;, score=nan total time=   0.0s\n",
      "[CV 5/10] END class_weight=None, max_depth=1, min_samples_leaf=5, min_samples_split=1;, score=nan total time=   0.0s\n",
      "[CV 6/10] END class_weight=None, max_depth=1, min_samples_leaf=5, min_samples_split=1;, score=nan total time=   0.0s\n",
      "[CV 7/10] END class_weight=None, max_depth=1, min_samples_leaf=5, min_samples_split=1;, score=nan total time=   0.0s\n",
      "[CV 8/10] END class_weight=None, max_depth=1, min_samples_leaf=5, min_samples_split=1;, score=nan total time=   0.0s\n",
      "[CV 9/10] END class_weight=None, max_depth=1, min_samples_leaf=5, min_samples_split=1;, score=nan total time=   0.0s\n",
      "[CV 10/10] END class_weight=None, max_depth=1, min_samples_leaf=5, min_samples_split=1;, score=nan total time=   0.0s\n",
      "[CV 1/10] END class_weight=None, max_depth=1, min_samples_leaf=5, min_samples_split=5;, score=0.988 total time=   0.0s\n",
      "[CV 2/10] END class_weight=None, max_depth=1, min_samples_leaf=5, min_samples_split=5;, score=0.988 total time=   0.0s\n",
      "[CV 3/10] END class_weight=None, max_depth=1, min_samples_leaf=5, min_samples_split=5;, score=0.988 total time=   0.0s\n",
      "[CV 4/10] END class_weight=None, max_depth=1, min_samples_leaf=5, min_samples_split=5;, score=0.988 total time=   0.0s\n",
      "[CV 5/10] END class_weight=None, max_depth=1, min_samples_leaf=5, min_samples_split=5;, score=0.988 total time=   0.0s\n",
      "[CV 6/10] END class_weight=None, max_depth=1, min_samples_leaf=5, min_samples_split=5;, score=0.988 total time=   0.0s\n",
      "[CV 7/10] END class_weight=None, max_depth=1, min_samples_leaf=5, min_samples_split=5;, score=0.988 total time=   0.0s\n",
      "[CV 8/10] END class_weight=None, max_depth=1, min_samples_leaf=5, min_samples_split=5;, score=0.989 total time=   0.0s\n",
      "[CV 9/10] END class_weight=None, max_depth=1, min_samples_leaf=5, min_samples_split=5;, score=0.988 total time=   0.0s\n",
      "[CV 10/10] END class_weight=None, max_depth=1, min_samples_leaf=5, min_samples_split=5;, score=0.988 total time=   0.0s\n",
      "[CV 1/10] END class_weight=None, max_depth=1, min_samples_leaf=5, min_samples_split=10;, score=0.988 total time=   0.0s\n",
      "[CV 2/10] END class_weight=None, max_depth=1, min_samples_leaf=5, min_samples_split=10;, score=0.988 total time=   0.0s\n",
      "[CV 3/10] END class_weight=None, max_depth=1, min_samples_leaf=5, min_samples_split=10;, score=0.988 total time=   0.0s\n",
      "[CV 4/10] END class_weight=None, max_depth=1, min_samples_leaf=5, min_samples_split=10;, score=0.988 total time=   0.0s\n",
      "[CV 5/10] END class_weight=None, max_depth=1, min_samples_leaf=5, min_samples_split=10;, score=0.988 total time=   0.0s\n",
      "[CV 6/10] END class_weight=None, max_depth=1, min_samples_leaf=5, min_samples_split=10;, score=0.988 total time=   0.0s\n",
      "[CV 7/10] END class_weight=None, max_depth=1, min_samples_leaf=5, min_samples_split=10;, score=0.988 total time=   0.0s\n",
      "[CV 8/10] END class_weight=None, max_depth=1, min_samples_leaf=5, min_samples_split=10;, score=0.989 total time=   0.0s\n",
      "[CV 9/10] END class_weight=None, max_depth=1, min_samples_leaf=5, min_samples_split=10;, score=0.988 total time=   0.0s\n",
      "[CV 10/10] END class_weight=None, max_depth=1, min_samples_leaf=5, min_samples_split=10;, score=0.988 total time=   0.0s\n",
      "[CV 1/10] END class_weight=None, max_depth=1, min_samples_leaf=10, min_samples_split=1;, score=nan total time=   0.0s\n",
      "[CV 2/10] END class_weight=None, max_depth=1, min_samples_leaf=10, min_samples_split=1;, score=nan total time=   0.0s\n",
      "[CV 3/10] END class_weight=None, max_depth=1, min_samples_leaf=10, min_samples_split=1;, score=nan total time=   0.0s\n",
      "[CV 4/10] END class_weight=None, max_depth=1, min_samples_leaf=10, min_samples_split=1;, score=nan total time=   0.0s\n",
      "[CV 5/10] END class_weight=None, max_depth=1, min_samples_leaf=10, min_samples_split=1;, score=nan total time=   0.0s\n",
      "[CV 6/10] END class_weight=None, max_depth=1, min_samples_leaf=10, min_samples_split=1;, score=nan total time=   0.0s\n",
      "[CV 7/10] END class_weight=None, max_depth=1, min_samples_leaf=10, min_samples_split=1;, score=nan total time=   0.0s\n",
      "[CV 8/10] END class_weight=None, max_depth=1, min_samples_leaf=10, min_samples_split=1;, score=nan total time=   0.0s\n",
      "[CV 9/10] END class_weight=None, max_depth=1, min_samples_leaf=10, min_samples_split=1;, score=nan total time=   0.0s\n",
      "[CV 10/10] END class_weight=None, max_depth=1, min_samples_leaf=10, min_samples_split=1;, score=nan total time=   0.0s\n",
      "[CV 1/10] END class_weight=None, max_depth=1, min_samples_leaf=10, min_samples_split=5;, score=0.988 total time=   0.0s\n",
      "[CV 2/10] END class_weight=None, max_depth=1, min_samples_leaf=10, min_samples_split=5;, score=0.988 total time=   0.0s\n",
      "[CV 3/10] END class_weight=None, max_depth=1, min_samples_leaf=10, min_samples_split=5;, score=0.988 total time=   0.0s\n",
      "[CV 4/10] END class_weight=None, max_depth=1, min_samples_leaf=10, min_samples_split=5;, score=0.988 total time=   0.0s\n",
      "[CV 5/10] END class_weight=None, max_depth=1, min_samples_leaf=10, min_samples_split=5;, score=0.988 total time=   0.0s\n",
      "[CV 6/10] END class_weight=None, max_depth=1, min_samples_leaf=10, min_samples_split=5;, score=0.988 total time=   0.0s\n",
      "[CV 7/10] END class_weight=None, max_depth=1, min_samples_leaf=10, min_samples_split=5;, score=0.988 total time=   0.0s\n",
      "[CV 8/10] END class_weight=None, max_depth=1, min_samples_leaf=10, min_samples_split=5;, score=0.989 total time=   0.0s\n",
      "[CV 9/10] END class_weight=None, max_depth=1, min_samples_leaf=10, min_samples_split=5;, score=0.988 total time=   0.0s\n",
      "[CV 10/10] END class_weight=None, max_depth=1, min_samples_leaf=10, min_samples_split=5;, score=0.988 total time=   0.0s\n",
      "[CV 1/10] END class_weight=None, max_depth=1, min_samples_leaf=10, min_samples_split=10;, score=0.988 total time=   0.0s\n",
      "[CV 2/10] END class_weight=None, max_depth=1, min_samples_leaf=10, min_samples_split=10;, score=0.988 total time=   0.0s\n",
      "[CV 3/10] END class_weight=None, max_depth=1, min_samples_leaf=10, min_samples_split=10;, score=0.988 total time=   0.0s\n",
      "[CV 4/10] END class_weight=None, max_depth=1, min_samples_leaf=10, min_samples_split=10;, score=0.988 total time=   0.0s\n",
      "[CV 5/10] END class_weight=None, max_depth=1, min_samples_leaf=10, min_samples_split=10;, score=0.988 total time=   0.0s\n",
      "[CV 6/10] END class_weight=None, max_depth=1, min_samples_leaf=10, min_samples_split=10;, score=0.988 total time=   0.0s\n",
      "[CV 7/10] END class_weight=None, max_depth=1, min_samples_leaf=10, min_samples_split=10;, score=0.988 total time=   0.0s\n",
      "[CV 8/10] END class_weight=None, max_depth=1, min_samples_leaf=10, min_samples_split=10;, score=0.989 total time=   0.0s\n",
      "[CV 9/10] END class_weight=None, max_depth=1, min_samples_leaf=10, min_samples_split=10;, score=0.988 total time=   0.0s\n",
      "[CV 10/10] END class_weight=None, max_depth=1, min_samples_leaf=10, min_samples_split=10;, score=0.988 total time=   0.0s\n",
      "[CV 1/10] END class_weight=None, max_depth=2, min_samples_leaf=1, min_samples_split=1;, score=nan total time=   0.0s\n",
      "[CV 2/10] END class_weight=None, max_depth=2, min_samples_leaf=1, min_samples_split=1;, score=nan total time=   0.0s\n",
      "[CV 3/10] END class_weight=None, max_depth=2, min_samples_leaf=1, min_samples_split=1;, score=nan total time=   0.0s\n",
      "[CV 4/10] END class_weight=None, max_depth=2, min_samples_leaf=1, min_samples_split=1;, score=nan total time=   0.0s\n",
      "[CV 5/10] END class_weight=None, max_depth=2, min_samples_leaf=1, min_samples_split=1;, score=nan total time=   0.0s\n",
      "[CV 6/10] END class_weight=None, max_depth=2, min_samples_leaf=1, min_samples_split=1;, score=nan total time=   0.0s\n",
      "[CV 7/10] END class_weight=None, max_depth=2, min_samples_leaf=1, min_samples_split=1;, score=nan total time=   0.0s\n",
      "[CV 8/10] END class_weight=None, max_depth=2, min_samples_leaf=1, min_samples_split=1;, score=nan total time=   0.0s\n",
      "[CV 9/10] END class_weight=None, max_depth=2, min_samples_leaf=1, min_samples_split=1;, score=nan total time=   0.0s\n",
      "[CV 10/10] END class_weight=None, max_depth=2, min_samples_leaf=1, min_samples_split=1;, score=nan total time=   0.0s\n",
      "[CV 1/10] END class_weight=None, max_depth=2, min_samples_leaf=1, min_samples_split=5;, score=0.988 total time=   0.0s\n",
      "[CV 2/10] END class_weight=None, max_depth=2, min_samples_leaf=1, min_samples_split=5;, score=0.988 total time=   0.0s\n",
      "[CV 3/10] END class_weight=None, max_depth=2, min_samples_leaf=1, min_samples_split=5;, score=0.988 total time=   0.0s\n",
      "[CV 4/10] END class_weight=None, max_depth=2, min_samples_leaf=1, min_samples_split=5;, score=0.988 total time=   0.0s\n",
      "[CV 5/10] END class_weight=None, max_depth=2, min_samples_leaf=1, min_samples_split=5;, score=0.988 total time=   0.0s\n",
      "[CV 6/10] END class_weight=None, max_depth=2, min_samples_leaf=1, min_samples_split=5;, score=0.987 total time=   0.0s\n",
      "[CV 7/10] END class_weight=None, max_depth=2, min_samples_leaf=1, min_samples_split=5;, score=0.989 total time=   0.0s\n",
      "[CV 8/10] END class_weight=None, max_depth=2, min_samples_leaf=1, min_samples_split=5;, score=0.988 total time=   0.0s\n",
      "[CV 9/10] END class_weight=None, max_depth=2, min_samples_leaf=1, min_samples_split=5;, score=0.987 total time=   0.0s\n",
      "[CV 10/10] END class_weight=None, max_depth=2, min_samples_leaf=1, min_samples_split=5;, score=0.988 total time=   0.0s\n",
      "[CV 1/10] END class_weight=None, max_depth=2, min_samples_leaf=1, min_samples_split=10;, score=0.988 total time=   0.0s\n",
      "[CV 2/10] END class_weight=None, max_depth=2, min_samples_leaf=1, min_samples_split=10;, score=0.988 total time=   0.0s\n",
      "[CV 3/10] END class_weight=None, max_depth=2, min_samples_leaf=1, min_samples_split=10;, score=0.988 total time=   0.0s\n",
      "[CV 4/10] END class_weight=None, max_depth=2, min_samples_leaf=1, min_samples_split=10;, score=0.988 total time=   0.0s\n",
      "[CV 5/10] END class_weight=None, max_depth=2, min_samples_leaf=1, min_samples_split=10;, score=0.988 total time=   0.0s\n",
      "[CV 6/10] END class_weight=None, max_depth=2, min_samples_leaf=1, min_samples_split=10;, score=0.987 total time=   0.0s\n",
      "[CV 7/10] END class_weight=None, max_depth=2, min_samples_leaf=1, min_samples_split=10;, score=0.989 total time=   0.0s\n",
      "[CV 8/10] END class_weight=None, max_depth=2, min_samples_leaf=1, min_samples_split=10;, score=0.988 total time=   0.0s\n",
      "[CV 9/10] END class_weight=None, max_depth=2, min_samples_leaf=1, min_samples_split=10;, score=0.987 total time=   0.0s\n",
      "[CV 10/10] END class_weight=None, max_depth=2, min_samples_leaf=1, min_samples_split=10;, score=0.988 total time=   0.0s\n",
      "[CV 1/10] END class_weight=None, max_depth=2, min_samples_leaf=5, min_samples_split=1;, score=nan total time=   0.0s\n",
      "[CV 2/10] END class_weight=None, max_depth=2, min_samples_leaf=5, min_samples_split=1;, score=nan total time=   0.0s\n",
      "[CV 3/10] END class_weight=None, max_depth=2, min_samples_leaf=5, min_samples_split=1;, score=nan total time=   0.0s\n",
      "[CV 4/10] END class_weight=None, max_depth=2, min_samples_leaf=5, min_samples_split=1;, score=nan total time=   0.0s\n",
      "[CV 5/10] END class_weight=None, max_depth=2, min_samples_leaf=5, min_samples_split=1;, score=nan total time=   0.0s\n",
      "[CV 6/10] END class_weight=None, max_depth=2, min_samples_leaf=5, min_samples_split=1;, score=nan total time=   0.0s\n",
      "[CV 7/10] END class_weight=None, max_depth=2, min_samples_leaf=5, min_samples_split=1;, score=nan total time=   0.0s\n",
      "[CV 8/10] END class_weight=None, max_depth=2, min_samples_leaf=5, min_samples_split=1;, score=nan total time=   0.0s\n",
      "[CV 9/10] END class_weight=None, max_depth=2, min_samples_leaf=5, min_samples_split=1;, score=nan total time=   0.0s\n",
      "[CV 10/10] END class_weight=None, max_depth=2, min_samples_leaf=5, min_samples_split=1;, score=nan total time=   0.0s\n",
      "[CV 1/10] END class_weight=None, max_depth=2, min_samples_leaf=5, min_samples_split=5;, score=0.988 total time=   0.0s\n",
      "[CV 2/10] END class_weight=None, max_depth=2, min_samples_leaf=5, min_samples_split=5;, score=0.988 total time=   0.0s\n",
      "[CV 3/10] END class_weight=None, max_depth=2, min_samples_leaf=5, min_samples_split=5;, score=0.988 total time=   0.0s\n",
      "[CV 4/10] END class_weight=None, max_depth=2, min_samples_leaf=5, min_samples_split=5;, score=0.988 total time=   0.0s\n",
      "[CV 5/10] END class_weight=None, max_depth=2, min_samples_leaf=5, min_samples_split=5;, score=0.988 total time=   0.0s\n",
      "[CV 6/10] END class_weight=None, max_depth=2, min_samples_leaf=5, min_samples_split=5;, score=0.987 total time=   0.0s\n",
      "[CV 7/10] END class_weight=None, max_depth=2, min_samples_leaf=5, min_samples_split=5;, score=0.989 total time=   0.0s\n",
      "[CV 8/10] END class_weight=None, max_depth=2, min_samples_leaf=5, min_samples_split=5;, score=0.988 total time=   0.0s\n",
      "[CV 9/10] END class_weight=None, max_depth=2, min_samples_leaf=5, min_samples_split=5;, score=0.987 total time=   0.0s\n",
      "[CV 10/10] END class_weight=None, max_depth=2, min_samples_leaf=5, min_samples_split=5;, score=0.988 total time=   0.0s\n",
      "[CV 1/10] END class_weight=None, max_depth=2, min_samples_leaf=5, min_samples_split=10;, score=0.988 total time=   0.0s\n",
      "[CV 2/10] END class_weight=None, max_depth=2, min_samples_leaf=5, min_samples_split=10;, score=0.988 total time=   0.0s\n",
      "[CV 3/10] END class_weight=None, max_depth=2, min_samples_leaf=5, min_samples_split=10;, score=0.988 total time=   0.0s\n",
      "[CV 4/10] END class_weight=None, max_depth=2, min_samples_leaf=5, min_samples_split=10;, score=0.988 total time=   0.0s\n",
      "[CV 5/10] END class_weight=None, max_depth=2, min_samples_leaf=5, min_samples_split=10;, score=0.988 total time=   0.0s\n",
      "[CV 6/10] END class_weight=None, max_depth=2, min_samples_leaf=5, min_samples_split=10;, score=0.987 total time=   0.0s\n",
      "[CV 7/10] END class_weight=None, max_depth=2, min_samples_leaf=5, min_samples_split=10;, score=0.989 total time=   0.0s\n",
      "[CV 8/10] END class_weight=None, max_depth=2, min_samples_leaf=5, min_samples_split=10;, score=0.988 total time=   0.0s\n",
      "[CV 9/10] END class_weight=None, max_depth=2, min_samples_leaf=5, min_samples_split=10;, score=0.987 total time=   0.0s\n",
      "[CV 10/10] END class_weight=None, max_depth=2, min_samples_leaf=5, min_samples_split=10;, score=0.988 total time=   0.0s\n",
      "[CV 1/10] END class_weight=None, max_depth=2, min_samples_leaf=10, min_samples_split=1;, score=nan total time=   0.0s\n",
      "[CV 2/10] END class_weight=None, max_depth=2, min_samples_leaf=10, min_samples_split=1;, score=nan total time=   0.0s\n",
      "[CV 3/10] END class_weight=None, max_depth=2, min_samples_leaf=10, min_samples_split=1;, score=nan total time=   0.0s\n",
      "[CV 4/10] END class_weight=None, max_depth=2, min_samples_leaf=10, min_samples_split=1;, score=nan total time=   0.0s\n",
      "[CV 5/10] END class_weight=None, max_depth=2, min_samples_leaf=10, min_samples_split=1;, score=nan total time=   0.0s\n",
      "[CV 6/10] END class_weight=None, max_depth=2, min_samples_leaf=10, min_samples_split=1;, score=nan total time=   0.0s\n",
      "[CV 7/10] END class_weight=None, max_depth=2, min_samples_leaf=10, min_samples_split=1;, score=nan total time=   0.0s\n",
      "[CV 8/10] END class_weight=None, max_depth=2, min_samples_leaf=10, min_samples_split=1;, score=nan total time=   0.0s\n",
      "[CV 9/10] END class_weight=None, max_depth=2, min_samples_leaf=10, min_samples_split=1;, score=nan total time=   0.0s\n",
      "[CV 10/10] END class_weight=None, max_depth=2, min_samples_leaf=10, min_samples_split=1;, score=nan total time=   0.0s\n",
      "[CV 1/10] END class_weight=None, max_depth=2, min_samples_leaf=10, min_samples_split=5;, score=0.988 total time=   0.0s\n",
      "[CV 2/10] END class_weight=None, max_depth=2, min_samples_leaf=10, min_samples_split=5;, score=0.989 total time=   0.0s\n",
      "[CV 3/10] END class_weight=None, max_depth=2, min_samples_leaf=10, min_samples_split=5;, score=0.988 total time=   0.0s\n",
      "[CV 4/10] END class_weight=None, max_depth=2, min_samples_leaf=10, min_samples_split=5;, score=0.988 total time=   0.0s\n",
      "[CV 5/10] END class_weight=None, max_depth=2, min_samples_leaf=10, min_samples_split=5;, score=0.988 total time=   0.0s\n",
      "[CV 6/10] END class_weight=None, max_depth=2, min_samples_leaf=10, min_samples_split=5;, score=0.987 total time=   0.0s\n",
      "[CV 7/10] END class_weight=None, max_depth=2, min_samples_leaf=10, min_samples_split=5;, score=0.989 total time=   0.0s\n",
      "[CV 8/10] END class_weight=None, max_depth=2, min_samples_leaf=10, min_samples_split=5;, score=0.988 total time=   0.0s\n",
      "[CV 9/10] END class_weight=None, max_depth=2, min_samples_leaf=10, min_samples_split=5;, score=0.987 total time=   0.0s\n",
      "[CV 10/10] END class_weight=None, max_depth=2, min_samples_leaf=10, min_samples_split=5;, score=0.988 total time=   0.0s\n",
      "[CV 1/10] END class_weight=None, max_depth=2, min_samples_leaf=10, min_samples_split=10;, score=0.988 total time=   0.0s\n",
      "[CV 2/10] END class_weight=None, max_depth=2, min_samples_leaf=10, min_samples_split=10;, score=0.989 total time=   0.0s\n",
      "[CV 3/10] END class_weight=None, max_depth=2, min_samples_leaf=10, min_samples_split=10;, score=0.988 total time=   0.0s\n",
      "[CV 4/10] END class_weight=None, max_depth=2, min_samples_leaf=10, min_samples_split=10;, score=0.988 total time=   0.0s\n",
      "[CV 5/10] END class_weight=None, max_depth=2, min_samples_leaf=10, min_samples_split=10;, score=0.988 total time=   0.0s\n",
      "[CV 6/10] END class_weight=None, max_depth=2, min_samples_leaf=10, min_samples_split=10;, score=0.987 total time=   0.0s\n",
      "[CV 7/10] END class_weight=None, max_depth=2, min_samples_leaf=10, min_samples_split=10;, score=0.989 total time=   0.0s\n",
      "[CV 8/10] END class_weight=None, max_depth=2, min_samples_leaf=10, min_samples_split=10;, score=0.988 total time=   0.0s\n",
      "[CV 9/10] END class_weight=None, max_depth=2, min_samples_leaf=10, min_samples_split=10;, score=0.987 total time=   0.0s\n",
      "[CV 10/10] END class_weight=None, max_depth=2, min_samples_leaf=10, min_samples_split=10;, score=0.988 total time=   0.0s\n",
      "[CV 1/10] END class_weight=None, max_depth=3, min_samples_leaf=1, min_samples_split=1;, score=nan total time=   0.0s\n",
      "[CV 2/10] END class_weight=None, max_depth=3, min_samples_leaf=1, min_samples_split=1;, score=nan total time=   0.0s\n",
      "[CV 3/10] END class_weight=None, max_depth=3, min_samples_leaf=1, min_samples_split=1;, score=nan total time=   0.0s\n",
      "[CV 4/10] END class_weight=None, max_depth=3, min_samples_leaf=1, min_samples_split=1;, score=nan total time=   0.0s\n",
      "[CV 5/10] END class_weight=None, max_depth=3, min_samples_leaf=1, min_samples_split=1;, score=nan total time=   0.0s\n",
      "[CV 6/10] END class_weight=None, max_depth=3, min_samples_leaf=1, min_samples_split=1;, score=nan total time=   0.0s\n",
      "[CV 7/10] END class_weight=None, max_depth=3, min_samples_leaf=1, min_samples_split=1;, score=nan total time=   0.0s\n",
      "[CV 8/10] END class_weight=None, max_depth=3, min_samples_leaf=1, min_samples_split=1;, score=nan total time=   0.0s\n",
      "[CV 9/10] END class_weight=None, max_depth=3, min_samples_leaf=1, min_samples_split=1;, score=nan total time=   0.0s\n",
      "[CV 10/10] END class_weight=None, max_depth=3, min_samples_leaf=1, min_samples_split=1;, score=nan total time=   0.0s\n",
      "[CV 1/10] END class_weight=None, max_depth=3, min_samples_leaf=1, min_samples_split=5;, score=0.988 total time=   0.0s\n",
      "[CV 2/10] END class_weight=None, max_depth=3, min_samples_leaf=1, min_samples_split=5;, score=0.988 total time=   0.0s\n",
      "[CV 3/10] END class_weight=None, max_depth=3, min_samples_leaf=1, min_samples_split=5;, score=0.988 total time=   0.0s\n",
      "[CV 4/10] END class_weight=None, max_depth=3, min_samples_leaf=1, min_samples_split=5;, score=0.988 total time=   0.0s\n",
      "[CV 5/10] END class_weight=None, max_depth=3, min_samples_leaf=1, min_samples_split=5;, score=0.988 total time=   0.0s\n",
      "[CV 6/10] END class_weight=None, max_depth=3, min_samples_leaf=1, min_samples_split=5;, score=0.988 total time=   0.0s\n",
      "[CV 7/10] END class_weight=None, max_depth=3, min_samples_leaf=1, min_samples_split=5;, score=0.988 total time=   0.0s\n",
      "[CV 8/10] END class_weight=None, max_depth=3, min_samples_leaf=1, min_samples_split=5;, score=0.988 total time=   0.0s\n",
      "[CV 9/10] END class_weight=None, max_depth=3, min_samples_leaf=1, min_samples_split=5;, score=0.988 total time=   0.0s\n",
      "[CV 10/10] END class_weight=None, max_depth=3, min_samples_leaf=1, min_samples_split=5;, score=0.988 total time=   0.0s\n",
      "[CV 1/10] END class_weight=None, max_depth=3, min_samples_leaf=1, min_samples_split=10;, score=0.988 total time=   0.0s\n",
      "[CV 2/10] END class_weight=None, max_depth=3, min_samples_leaf=1, min_samples_split=10;, score=0.988 total time=   0.0s\n",
      "[CV 3/10] END class_weight=None, max_depth=3, min_samples_leaf=1, min_samples_split=10;, score=0.988 total time=   0.0s\n",
      "[CV 4/10] END class_weight=None, max_depth=3, min_samples_leaf=1, min_samples_split=10;, score=0.988 total time=   0.0s\n",
      "[CV 5/10] END class_weight=None, max_depth=3, min_samples_leaf=1, min_samples_split=10;, score=0.988 total time=   0.0s\n",
      "[CV 6/10] END class_weight=None, max_depth=3, min_samples_leaf=1, min_samples_split=10;, score=0.988 total time=   0.0s\n",
      "[CV 7/10] END class_weight=None, max_depth=3, min_samples_leaf=1, min_samples_split=10;, score=0.988 total time=   0.0s\n",
      "[CV 8/10] END class_weight=None, max_depth=3, min_samples_leaf=1, min_samples_split=10;, score=0.988 total time=   0.0s\n",
      "[CV 9/10] END class_weight=None, max_depth=3, min_samples_leaf=1, min_samples_split=10;, score=0.988 total time=   0.0s\n",
      "[CV 10/10] END class_weight=None, max_depth=3, min_samples_leaf=1, min_samples_split=10;, score=0.988 total time=   0.0s\n",
      "[CV 1/10] END class_weight=None, max_depth=3, min_samples_leaf=5, min_samples_split=1;, score=nan total time=   0.0s\n",
      "[CV 2/10] END class_weight=None, max_depth=3, min_samples_leaf=5, min_samples_split=1;, score=nan total time=   0.0s\n",
      "[CV 3/10] END class_weight=None, max_depth=3, min_samples_leaf=5, min_samples_split=1;, score=nan total time=   0.0s\n",
      "[CV 4/10] END class_weight=None, max_depth=3, min_samples_leaf=5, min_samples_split=1;, score=nan total time=   0.0s\n",
      "[CV 5/10] END class_weight=None, max_depth=3, min_samples_leaf=5, min_samples_split=1;, score=nan total time=   0.0s\n",
      "[CV 6/10] END class_weight=None, max_depth=3, min_samples_leaf=5, min_samples_split=1;, score=nan total time=   0.0s\n",
      "[CV 7/10] END class_weight=None, max_depth=3, min_samples_leaf=5, min_samples_split=1;, score=nan total time=   0.0s\n",
      "[CV 8/10] END class_weight=None, max_depth=3, min_samples_leaf=5, min_samples_split=1;, score=nan total time=   0.0s\n",
      "[CV 9/10] END class_weight=None, max_depth=3, min_samples_leaf=5, min_samples_split=1;, score=nan total time=   0.0s\n",
      "[CV 10/10] END class_weight=None, max_depth=3, min_samples_leaf=5, min_samples_split=1;, score=nan total time=   0.0s\n",
      "[CV 1/10] END class_weight=None, max_depth=3, min_samples_leaf=5, min_samples_split=5;, score=0.988 total time=   0.0s\n",
      "[CV 2/10] END class_weight=None, max_depth=3, min_samples_leaf=5, min_samples_split=5;, score=0.988 total time=   0.0s\n",
      "[CV 3/10] END class_weight=None, max_depth=3, min_samples_leaf=5, min_samples_split=5;, score=0.988 total time=   0.0s\n",
      "[CV 4/10] END class_weight=None, max_depth=3, min_samples_leaf=5, min_samples_split=5;, score=0.988 total time=   0.0s\n",
      "[CV 5/10] END class_weight=None, max_depth=3, min_samples_leaf=5, min_samples_split=5;, score=0.988 total time=   0.0s\n",
      "[CV 6/10] END class_weight=None, max_depth=3, min_samples_leaf=5, min_samples_split=5;, score=0.987 total time=   0.0s\n",
      "[CV 7/10] END class_weight=None, max_depth=3, min_samples_leaf=5, min_samples_split=5;, score=0.988 total time=   0.0s\n",
      "[CV 8/10] END class_weight=None, max_depth=3, min_samples_leaf=5, min_samples_split=5;, score=0.988 total time=   0.0s\n",
      "[CV 9/10] END class_weight=None, max_depth=3, min_samples_leaf=5, min_samples_split=5;, score=0.988 total time=   0.0s\n",
      "[CV 10/10] END class_weight=None, max_depth=3, min_samples_leaf=5, min_samples_split=5;, score=0.988 total time=   0.0s\n",
      "[CV 1/10] END class_weight=None, max_depth=3, min_samples_leaf=5, min_samples_split=10;, score=0.988 total time=   0.0s\n",
      "[CV 2/10] END class_weight=None, max_depth=3, min_samples_leaf=5, min_samples_split=10;, score=0.988 total time=   0.0s\n",
      "[CV 3/10] END class_weight=None, max_depth=3, min_samples_leaf=5, min_samples_split=10;, score=0.988 total time=   0.0s\n",
      "[CV 4/10] END class_weight=None, max_depth=3, min_samples_leaf=5, min_samples_split=10;, score=0.988 total time=   0.0s\n",
      "[CV 5/10] END class_weight=None, max_depth=3, min_samples_leaf=5, min_samples_split=10;, score=0.988 total time=   0.0s\n",
      "[CV 6/10] END class_weight=None, max_depth=3, min_samples_leaf=5, min_samples_split=10;, score=0.987 total time=   0.0s\n",
      "[CV 7/10] END class_weight=None, max_depth=3, min_samples_leaf=5, min_samples_split=10;, score=0.988 total time=   0.0s\n",
      "[CV 8/10] END class_weight=None, max_depth=3, min_samples_leaf=5, min_samples_split=10;, score=0.988 total time=   0.0s\n",
      "[CV 9/10] END class_weight=None, max_depth=3, min_samples_leaf=5, min_samples_split=10;, score=0.988 total time=   0.0s\n",
      "[CV 10/10] END class_weight=None, max_depth=3, min_samples_leaf=5, min_samples_split=10;, score=0.988 total time=   0.0s\n",
      "[CV 1/10] END class_weight=None, max_depth=3, min_samples_leaf=10, min_samples_split=1;, score=nan total time=   0.0s\n",
      "[CV 2/10] END class_weight=None, max_depth=3, min_samples_leaf=10, min_samples_split=1;, score=nan total time=   0.0s\n",
      "[CV 3/10] END class_weight=None, max_depth=3, min_samples_leaf=10, min_samples_split=1;, score=nan total time=   0.0s\n",
      "[CV 4/10] END class_weight=None, max_depth=3, min_samples_leaf=10, min_samples_split=1;, score=nan total time=   0.0s\n",
      "[CV 5/10] END class_weight=None, max_depth=3, min_samples_leaf=10, min_samples_split=1;, score=nan total time=   0.0s\n",
      "[CV 6/10] END class_weight=None, max_depth=3, min_samples_leaf=10, min_samples_split=1;, score=nan total time=   0.0s\n",
      "[CV 7/10] END class_weight=None, max_depth=3, min_samples_leaf=10, min_samples_split=1;, score=nan total time=   0.0s\n",
      "[CV 8/10] END class_weight=None, max_depth=3, min_samples_leaf=10, min_samples_split=1;, score=nan total time=   0.0s\n",
      "[CV 9/10] END class_weight=None, max_depth=3, min_samples_leaf=10, min_samples_split=1;, score=nan total time=   0.0s\n",
      "[CV 10/10] END class_weight=None, max_depth=3, min_samples_leaf=10, min_samples_split=1;, score=nan total time=   0.0s\n",
      "[CV 1/10] END class_weight=None, max_depth=3, min_samples_leaf=10, min_samples_split=5;, score=0.988 total time=   0.0s\n",
      "[CV 2/10] END class_weight=None, max_depth=3, min_samples_leaf=10, min_samples_split=5;, score=0.989 total time=   0.0s\n",
      "[CV 3/10] END class_weight=None, max_depth=3, min_samples_leaf=10, min_samples_split=5;, score=0.988 total time=   0.0s\n",
      "[CV 4/10] END class_weight=None, max_depth=3, min_samples_leaf=10, min_samples_split=5;, score=0.988 total time=   0.0s\n",
      "[CV 5/10] END class_weight=None, max_depth=3, min_samples_leaf=10, min_samples_split=5;, score=0.988 total time=   0.0s\n",
      "[CV 6/10] END class_weight=None, max_depth=3, min_samples_leaf=10, min_samples_split=5;, score=0.987 total time=   0.0s\n",
      "[CV 7/10] END class_weight=None, max_depth=3, min_samples_leaf=10, min_samples_split=5;, score=0.989 total time=   0.0s\n",
      "[CV 8/10] END class_weight=None, max_depth=3, min_samples_leaf=10, min_samples_split=5;, score=0.988 total time=   0.0s\n",
      "[CV 9/10] END class_weight=None, max_depth=3, min_samples_leaf=10, min_samples_split=5;, score=0.987 total time=   0.0s\n",
      "[CV 10/10] END class_weight=None, max_depth=3, min_samples_leaf=10, min_samples_split=5;, score=0.988 total time=   0.0s\n",
      "[CV 1/10] END class_weight=None, max_depth=3, min_samples_leaf=10, min_samples_split=10;, score=0.988 total time=   0.0s\n",
      "[CV 2/10] END class_weight=None, max_depth=3, min_samples_leaf=10, min_samples_split=10;, score=0.989 total time=   0.0s\n",
      "[CV 3/10] END class_weight=None, max_depth=3, min_samples_leaf=10, min_samples_split=10;, score=0.988 total time=   0.0s\n",
      "[CV 4/10] END class_weight=None, max_depth=3, min_samples_leaf=10, min_samples_split=10;, score=0.988 total time=   0.0s\n",
      "[CV 5/10] END class_weight=None, max_depth=3, min_samples_leaf=10, min_samples_split=10;, score=0.988 total time=   0.0s\n",
      "[CV 6/10] END class_weight=None, max_depth=3, min_samples_leaf=10, min_samples_split=10;, score=0.987 total time=   0.0s\n",
      "[CV 7/10] END class_weight=None, max_depth=3, min_samples_leaf=10, min_samples_split=10;, score=0.989 total time=   0.0s\n",
      "[CV 8/10] END class_weight=None, max_depth=3, min_samples_leaf=10, min_samples_split=10;, score=0.988 total time=   0.0s\n",
      "[CV 9/10] END class_weight=None, max_depth=3, min_samples_leaf=10, min_samples_split=10;, score=0.987 total time=   0.0s\n",
      "[CV 10/10] END class_weight=None, max_depth=3, min_samples_leaf=10, min_samples_split=10;, score=0.988 total time=   0.0s\n",
      "[CV 1/10] END class_weight=None, max_depth=4, min_samples_leaf=1, min_samples_split=1;, score=nan total time=   0.0s\n",
      "[CV 2/10] END class_weight=None, max_depth=4, min_samples_leaf=1, min_samples_split=1;, score=nan total time=   0.0s\n",
      "[CV 3/10] END class_weight=None, max_depth=4, min_samples_leaf=1, min_samples_split=1;, score=nan total time=   0.0s\n",
      "[CV 4/10] END class_weight=None, max_depth=4, min_samples_leaf=1, min_samples_split=1;, score=nan total time=   0.0s\n",
      "[CV 5/10] END class_weight=None, max_depth=4, min_samples_leaf=1, min_samples_split=1;, score=nan total time=   0.0s\n",
      "[CV 6/10] END class_weight=None, max_depth=4, min_samples_leaf=1, min_samples_split=1;, score=nan total time=   0.0s\n",
      "[CV 7/10] END class_weight=None, max_depth=4, min_samples_leaf=1, min_samples_split=1;, score=nan total time=   0.0s\n",
      "[CV 8/10] END class_weight=None, max_depth=4, min_samples_leaf=1, min_samples_split=1;, score=nan total time=   0.0s\n",
      "[CV 9/10] END class_weight=None, max_depth=4, min_samples_leaf=1, min_samples_split=1;, score=nan total time=   0.0s\n",
      "[CV 10/10] END class_weight=None, max_depth=4, min_samples_leaf=1, min_samples_split=1;, score=nan total time=   0.0s\n",
      "[CV 1/10] END class_weight=None, max_depth=4, min_samples_leaf=1, min_samples_split=5;, score=0.988 total time=   0.0s\n",
      "[CV 2/10] END class_weight=None, max_depth=4, min_samples_leaf=1, min_samples_split=5;, score=0.988 total time=   0.0s\n",
      "[CV 3/10] END class_weight=None, max_depth=4, min_samples_leaf=1, min_samples_split=5;, score=0.988 total time=   0.0s\n",
      "[CV 4/10] END class_weight=None, max_depth=4, min_samples_leaf=1, min_samples_split=5;, score=0.988 total time=   0.0s\n",
      "[CV 5/10] END class_weight=None, max_depth=4, min_samples_leaf=1, min_samples_split=5;, score=0.988 total time=   0.0s\n",
      "[CV 6/10] END class_weight=None, max_depth=4, min_samples_leaf=1, min_samples_split=5;, score=0.988 total time=   0.0s\n",
      "[CV 7/10] END class_weight=None, max_depth=4, min_samples_leaf=1, min_samples_split=5;, score=0.988 total time=   0.0s\n",
      "[CV 8/10] END class_weight=None, max_depth=4, min_samples_leaf=1, min_samples_split=5;, score=0.988 total time=   0.0s\n",
      "[CV 9/10] END class_weight=None, max_depth=4, min_samples_leaf=1, min_samples_split=5;, score=0.988 total time=   0.0s\n",
      "[CV 10/10] END class_weight=None, max_depth=4, min_samples_leaf=1, min_samples_split=5;, score=0.988 total time=   0.0s\n",
      "[CV 1/10] END class_weight=None, max_depth=4, min_samples_leaf=1, min_samples_split=10;, score=0.988 total time=   0.0s\n",
      "[CV 2/10] END class_weight=None, max_depth=4, min_samples_leaf=1, min_samples_split=10;, score=0.988 total time=   0.0s\n",
      "[CV 3/10] END class_weight=None, max_depth=4, min_samples_leaf=1, min_samples_split=10;, score=0.988 total time=   0.0s\n",
      "[CV 4/10] END class_weight=None, max_depth=4, min_samples_leaf=1, min_samples_split=10;, score=0.988 total time=   0.0s\n",
      "[CV 5/10] END class_weight=None, max_depth=4, min_samples_leaf=1, min_samples_split=10;, score=0.988 total time=   0.0s\n",
      "[CV 6/10] END class_weight=None, max_depth=4, min_samples_leaf=1, min_samples_split=10;, score=0.988 total time=   0.0s\n",
      "[CV 7/10] END class_weight=None, max_depth=4, min_samples_leaf=1, min_samples_split=10;, score=0.988 total time=   0.0s\n",
      "[CV 8/10] END class_weight=None, max_depth=4, min_samples_leaf=1, min_samples_split=10;, score=0.988 total time=   0.0s\n",
      "[CV 9/10] END class_weight=None, max_depth=4, min_samples_leaf=1, min_samples_split=10;, score=0.988 total time=   0.0s\n",
      "[CV 10/10] END class_weight=None, max_depth=4, min_samples_leaf=1, min_samples_split=10;, score=0.988 total time=   0.0s\n",
      "[CV 1/10] END class_weight=None, max_depth=4, min_samples_leaf=5, min_samples_split=1;, score=nan total time=   0.0s\n",
      "[CV 2/10] END class_weight=None, max_depth=4, min_samples_leaf=5, min_samples_split=1;, score=nan total time=   0.0s\n",
      "[CV 3/10] END class_weight=None, max_depth=4, min_samples_leaf=5, min_samples_split=1;, score=nan total time=   0.0s\n",
      "[CV 4/10] END class_weight=None, max_depth=4, min_samples_leaf=5, min_samples_split=1;, score=nan total time=   0.0s\n",
      "[CV 5/10] END class_weight=None, max_depth=4, min_samples_leaf=5, min_samples_split=1;, score=nan total time=   0.0s\n",
      "[CV 6/10] END class_weight=None, max_depth=4, min_samples_leaf=5, min_samples_split=1;, score=nan total time=   0.0s\n",
      "[CV 7/10] END class_weight=None, max_depth=4, min_samples_leaf=5, min_samples_split=1;, score=nan total time=   0.0s\n",
      "[CV 8/10] END class_weight=None, max_depth=4, min_samples_leaf=5, min_samples_split=1;, score=nan total time=   0.0s\n",
      "[CV 9/10] END class_weight=None, max_depth=4, min_samples_leaf=5, min_samples_split=1;, score=nan total time=   0.0s\n",
      "[CV 10/10] END class_weight=None, max_depth=4, min_samples_leaf=5, min_samples_split=1;, score=nan total time=   0.0s\n",
      "[CV 1/10] END class_weight=None, max_depth=4, min_samples_leaf=5, min_samples_split=5;, score=0.988 total time=   0.0s\n",
      "[CV 2/10] END class_weight=None, max_depth=4, min_samples_leaf=5, min_samples_split=5;, score=0.988 total time=   0.0s\n",
      "[CV 3/10] END class_weight=None, max_depth=4, min_samples_leaf=5, min_samples_split=5;, score=0.988 total time=   0.0s\n",
      "[CV 4/10] END class_weight=None, max_depth=4, min_samples_leaf=5, min_samples_split=5;, score=0.988 total time=   0.0s\n",
      "[CV 5/10] END class_weight=None, max_depth=4, min_samples_leaf=5, min_samples_split=5;, score=0.988 total time=   0.0s\n",
      "[CV 6/10] END class_weight=None, max_depth=4, min_samples_leaf=5, min_samples_split=5;, score=0.987 total time=   0.0s\n",
      "[CV 7/10] END class_weight=None, max_depth=4, min_samples_leaf=5, min_samples_split=5;, score=0.988 total time=   0.0s\n",
      "[CV 8/10] END class_weight=None, max_depth=4, min_samples_leaf=5, min_samples_split=5;, score=0.988 total time=   0.0s\n",
      "[CV 9/10] END class_weight=None, max_depth=4, min_samples_leaf=5, min_samples_split=5;, score=0.988 total time=   0.0s\n",
      "[CV 10/10] END class_weight=None, max_depth=4, min_samples_leaf=5, min_samples_split=5;, score=0.988 total time=   0.0s\n",
      "[CV 1/10] END class_weight=None, max_depth=4, min_samples_leaf=5, min_samples_split=10;, score=0.988 total time=   0.0s\n",
      "[CV 2/10] END class_weight=None, max_depth=4, min_samples_leaf=5, min_samples_split=10;, score=0.988 total time=   0.0s\n",
      "[CV 3/10] END class_weight=None, max_depth=4, min_samples_leaf=5, min_samples_split=10;, score=0.988 total time=   0.0s\n",
      "[CV 4/10] END class_weight=None, max_depth=4, min_samples_leaf=5, min_samples_split=10;, score=0.988 total time=   0.0s\n",
      "[CV 5/10] END class_weight=None, max_depth=4, min_samples_leaf=5, min_samples_split=10;, score=0.988 total time=   0.0s\n",
      "[CV 6/10] END class_weight=None, max_depth=4, min_samples_leaf=5, min_samples_split=10;, score=0.988 total time=   0.0s\n",
      "[CV 7/10] END class_weight=None, max_depth=4, min_samples_leaf=5, min_samples_split=10;, score=0.988 total time=   0.0s\n",
      "[CV 8/10] END class_weight=None, max_depth=4, min_samples_leaf=5, min_samples_split=10;, score=0.988 total time=   0.0s\n",
      "[CV 9/10] END class_weight=None, max_depth=4, min_samples_leaf=5, min_samples_split=10;, score=0.988 total time=   0.0s\n",
      "[CV 10/10] END class_weight=None, max_depth=4, min_samples_leaf=5, min_samples_split=10;, score=0.988 total time=   0.0s\n",
      "[CV 1/10] END class_weight=None, max_depth=4, min_samples_leaf=10, min_samples_split=1;, score=nan total time=   0.0s\n",
      "[CV 2/10] END class_weight=None, max_depth=4, min_samples_leaf=10, min_samples_split=1;, score=nan total time=   0.0s\n",
      "[CV 3/10] END class_weight=None, max_depth=4, min_samples_leaf=10, min_samples_split=1;, score=nan total time=   0.0s\n",
      "[CV 4/10] END class_weight=None, max_depth=4, min_samples_leaf=10, min_samples_split=1;, score=nan total time=   0.0s\n",
      "[CV 5/10] END class_weight=None, max_depth=4, min_samples_leaf=10, min_samples_split=1;, score=nan total time=   0.0s\n",
      "[CV 6/10] END class_weight=None, max_depth=4, min_samples_leaf=10, min_samples_split=1;, score=nan total time=   0.0s\n",
      "[CV 7/10] END class_weight=None, max_depth=4, min_samples_leaf=10, min_samples_split=1;, score=nan total time=   0.0s\n",
      "[CV 8/10] END class_weight=None, max_depth=4, min_samples_leaf=10, min_samples_split=1;, score=nan total time=   0.0s\n",
      "[CV 9/10] END class_weight=None, max_depth=4, min_samples_leaf=10, min_samples_split=1;, score=nan total time=   0.0s\n",
      "[CV 10/10] END class_weight=None, max_depth=4, min_samples_leaf=10, min_samples_split=1;, score=nan total time=   0.0s\n",
      "[CV 1/10] END class_weight=None, max_depth=4, min_samples_leaf=10, min_samples_split=5;, score=0.988 total time=   0.0s\n",
      "[CV 2/10] END class_weight=None, max_depth=4, min_samples_leaf=10, min_samples_split=5;, score=0.989 total time=   0.0s\n",
      "[CV 3/10] END class_weight=None, max_depth=4, min_samples_leaf=10, min_samples_split=5;, score=0.988 total time=   0.0s\n",
      "[CV 4/10] END class_weight=None, max_depth=4, min_samples_leaf=10, min_samples_split=5;, score=0.988 total time=   0.0s\n",
      "[CV 5/10] END class_weight=None, max_depth=4, min_samples_leaf=10, min_samples_split=5;, score=0.988 total time=   0.0s\n",
      "[CV 6/10] END class_weight=None, max_depth=4, min_samples_leaf=10, min_samples_split=5;, score=0.987 total time=   0.0s\n",
      "[CV 7/10] END class_weight=None, max_depth=4, min_samples_leaf=10, min_samples_split=5;, score=0.989 total time=   0.0s\n",
      "[CV 8/10] END class_weight=None, max_depth=4, min_samples_leaf=10, min_samples_split=5;, score=0.988 total time=   0.0s\n",
      "[CV 9/10] END class_weight=None, max_depth=4, min_samples_leaf=10, min_samples_split=5;, score=0.987 total time=   0.0s\n",
      "[CV 10/10] END class_weight=None, max_depth=4, min_samples_leaf=10, min_samples_split=5;, score=0.988 total time=   0.0s\n",
      "[CV 1/10] END class_weight=None, max_depth=4, min_samples_leaf=10, min_samples_split=10;, score=0.988 total time=   0.0s\n",
      "[CV 2/10] END class_weight=None, max_depth=4, min_samples_leaf=10, min_samples_split=10;, score=0.989 total time=   0.0s\n",
      "[CV 3/10] END class_weight=None, max_depth=4, min_samples_leaf=10, min_samples_split=10;, score=0.988 total time=   0.0s\n",
      "[CV 4/10] END class_weight=None, max_depth=4, min_samples_leaf=10, min_samples_split=10;, score=0.988 total time=   0.0s\n",
      "[CV 5/10] END class_weight=None, max_depth=4, min_samples_leaf=10, min_samples_split=10;, score=0.988 total time=   0.0s\n",
      "[CV 6/10] END class_weight=None, max_depth=4, min_samples_leaf=10, min_samples_split=10;, score=0.987 total time=   0.0s\n",
      "[CV 7/10] END class_weight=None, max_depth=4, min_samples_leaf=10, min_samples_split=10;, score=0.989 total time=   0.0s\n",
      "[CV 8/10] END class_weight=None, max_depth=4, min_samples_leaf=10, min_samples_split=10;, score=0.988 total time=   0.0s\n",
      "[CV 9/10] END class_weight=None, max_depth=4, min_samples_leaf=10, min_samples_split=10;, score=0.987 total time=   0.0s\n",
      "[CV 10/10] END class_weight=None, max_depth=4, min_samples_leaf=10, min_samples_split=10;, score=0.988 total time=   0.0s\n",
      "[CV 1/10] END class_weight=None, max_depth=5, min_samples_leaf=1, min_samples_split=1;, score=nan total time=   0.0s\n",
      "[CV 2/10] END class_weight=None, max_depth=5, min_samples_leaf=1, min_samples_split=1;, score=nan total time=   0.0s\n",
      "[CV 3/10] END class_weight=None, max_depth=5, min_samples_leaf=1, min_samples_split=1;, score=nan total time=   0.0s\n",
      "[CV 4/10] END class_weight=None, max_depth=5, min_samples_leaf=1, min_samples_split=1;, score=nan total time=   0.0s\n",
      "[CV 5/10] END class_weight=None, max_depth=5, min_samples_leaf=1, min_samples_split=1;, score=nan total time=   0.0s\n",
      "[CV 6/10] END class_weight=None, max_depth=5, min_samples_leaf=1, min_samples_split=1;, score=nan total time=   0.0s\n",
      "[CV 7/10] END class_weight=None, max_depth=5, min_samples_leaf=1, min_samples_split=1;, score=nan total time=   0.0s\n",
      "[CV 8/10] END class_weight=None, max_depth=5, min_samples_leaf=1, min_samples_split=1;, score=nan total time=   0.0s\n",
      "[CV 9/10] END class_weight=None, max_depth=5, min_samples_leaf=1, min_samples_split=1;, score=nan total time=   0.0s\n",
      "[CV 10/10] END class_weight=None, max_depth=5, min_samples_leaf=1, min_samples_split=1;, score=nan total time=   0.0s\n",
      "[CV 1/10] END class_weight=None, max_depth=5, min_samples_leaf=1, min_samples_split=5;, score=0.988 total time=   0.0s\n",
      "[CV 2/10] END class_weight=None, max_depth=5, min_samples_leaf=1, min_samples_split=5;, score=0.988 total time=   0.0s\n",
      "[CV 3/10] END class_weight=None, max_depth=5, min_samples_leaf=1, min_samples_split=5;, score=0.988 total time=   0.0s\n",
      "[CV 4/10] END class_weight=None, max_depth=5, min_samples_leaf=1, min_samples_split=5;, score=0.985 total time=   0.0s\n",
      "[CV 5/10] END class_weight=None, max_depth=5, min_samples_leaf=1, min_samples_split=5;, score=0.985 total time=   0.0s\n",
      "[CV 6/10] END class_weight=None, max_depth=5, min_samples_leaf=1, min_samples_split=5;, score=0.987 total time=   0.0s\n",
      "[CV 7/10] END class_weight=None, max_depth=5, min_samples_leaf=1, min_samples_split=5;, score=0.988 total time=   0.0s\n",
      "[CV 8/10] END class_weight=None, max_depth=5, min_samples_leaf=1, min_samples_split=5;, score=0.988 total time=   0.0s\n",
      "[CV 9/10] END class_weight=None, max_depth=5, min_samples_leaf=1, min_samples_split=5;, score=0.988 total time=   0.0s\n",
      "[CV 10/10] END class_weight=None, max_depth=5, min_samples_leaf=1, min_samples_split=5;, score=0.988 total time=   0.0s\n",
      "[CV 1/10] END class_weight=None, max_depth=5, min_samples_leaf=1, min_samples_split=10;, score=0.988 total time=   0.0s\n",
      "[CV 2/10] END class_weight=None, max_depth=5, min_samples_leaf=1, min_samples_split=10;, score=0.988 total time=   0.0s\n",
      "[CV 3/10] END class_weight=None, max_depth=5, min_samples_leaf=1, min_samples_split=10;, score=0.988 total time=   0.0s\n",
      "[CV 4/10] END class_weight=None, max_depth=5, min_samples_leaf=1, min_samples_split=10;, score=0.986 total time=   0.0s\n",
      "[CV 5/10] END class_weight=None, max_depth=5, min_samples_leaf=1, min_samples_split=10;, score=0.985 total time=   0.0s\n",
      "[CV 6/10] END class_weight=None, max_depth=5, min_samples_leaf=1, min_samples_split=10;, score=0.986 total time=   0.0s\n",
      "[CV 7/10] END class_weight=None, max_depth=5, min_samples_leaf=1, min_samples_split=10;, score=0.988 total time=   0.0s\n",
      "[CV 8/10] END class_weight=None, max_depth=5, min_samples_leaf=1, min_samples_split=10;, score=0.988 total time=   0.0s\n",
      "[CV 9/10] END class_weight=None, max_depth=5, min_samples_leaf=1, min_samples_split=10;, score=0.988 total time=   0.0s\n",
      "[CV 10/10] END class_weight=None, max_depth=5, min_samples_leaf=1, min_samples_split=10;, score=0.988 total time=   0.0s\n",
      "[CV 1/10] END class_weight=None, max_depth=5, min_samples_leaf=5, min_samples_split=1;, score=nan total time=   0.0s\n",
      "[CV 2/10] END class_weight=None, max_depth=5, min_samples_leaf=5, min_samples_split=1;, score=nan total time=   0.0s\n",
      "[CV 3/10] END class_weight=None, max_depth=5, min_samples_leaf=5, min_samples_split=1;, score=nan total time=   0.0s\n",
      "[CV 4/10] END class_weight=None, max_depth=5, min_samples_leaf=5, min_samples_split=1;, score=nan total time=   0.0s\n",
      "[CV 5/10] END class_weight=None, max_depth=5, min_samples_leaf=5, min_samples_split=1;, score=nan total time=   0.0s\n",
      "[CV 6/10] END class_weight=None, max_depth=5, min_samples_leaf=5, min_samples_split=1;, score=nan total time=   0.0s\n",
      "[CV 7/10] END class_weight=None, max_depth=5, min_samples_leaf=5, min_samples_split=1;, score=nan total time=   0.0s\n",
      "[CV 8/10] END class_weight=None, max_depth=5, min_samples_leaf=5, min_samples_split=1;, score=nan total time=   0.0s\n",
      "[CV 9/10] END class_weight=None, max_depth=5, min_samples_leaf=5, min_samples_split=1;, score=nan total time=   0.0s\n",
      "[CV 10/10] END class_weight=None, max_depth=5, min_samples_leaf=5, min_samples_split=1;, score=nan total time=   0.0s\n",
      "[CV 1/10] END class_weight=None, max_depth=5, min_samples_leaf=5, min_samples_split=5;, score=0.988 total time=   0.0s\n",
      "[CV 2/10] END class_weight=None, max_depth=5, min_samples_leaf=5, min_samples_split=5;, score=0.989 total time=   0.0s\n",
      "[CV 3/10] END class_weight=None, max_depth=5, min_samples_leaf=5, min_samples_split=5;, score=0.988 total time=   0.0s\n",
      "[CV 4/10] END class_weight=None, max_depth=5, min_samples_leaf=5, min_samples_split=5;, score=0.987 total time=   0.0s\n",
      "[CV 5/10] END class_weight=None, max_depth=5, min_samples_leaf=5, min_samples_split=5;, score=0.986 total time=   0.0s\n",
      "[CV 6/10] END class_weight=None, max_depth=5, min_samples_leaf=5, min_samples_split=5;, score=0.987 total time=   0.0s\n",
      "[CV 7/10] END class_weight=None, max_depth=5, min_samples_leaf=5, min_samples_split=5;, score=0.988 total time=   0.0s\n",
      "[CV 8/10] END class_weight=None, max_depth=5, min_samples_leaf=5, min_samples_split=5;, score=0.987 total time=   0.0s\n",
      "[CV 9/10] END class_weight=None, max_depth=5, min_samples_leaf=5, min_samples_split=5;, score=0.988 total time=   0.0s\n",
      "[CV 10/10] END class_weight=None, max_depth=5, min_samples_leaf=5, min_samples_split=5;, score=0.988 total time=   0.0s\n",
      "[CV 1/10] END class_weight=None, max_depth=5, min_samples_leaf=5, min_samples_split=10;, score=0.988 total time=   0.0s\n",
      "[CV 2/10] END class_weight=None, max_depth=5, min_samples_leaf=5, min_samples_split=10;, score=0.989 total time=   0.0s\n",
      "[CV 3/10] END class_weight=None, max_depth=5, min_samples_leaf=5, min_samples_split=10;, score=0.988 total time=   0.0s\n",
      "[CV 4/10] END class_weight=None, max_depth=5, min_samples_leaf=5, min_samples_split=10;, score=0.987 total time=   0.0s\n",
      "[CV 5/10] END class_weight=None, max_depth=5, min_samples_leaf=5, min_samples_split=10;, score=0.986 total time=   0.0s\n",
      "[CV 6/10] END class_weight=None, max_depth=5, min_samples_leaf=5, min_samples_split=10;, score=0.985 total time=   0.0s\n",
      "[CV 7/10] END class_weight=None, max_depth=5, min_samples_leaf=5, min_samples_split=10;, score=0.988 total time=   0.0s\n",
      "[CV 8/10] END class_weight=None, max_depth=5, min_samples_leaf=5, min_samples_split=10;, score=0.987 total time=   0.0s\n",
      "[CV 9/10] END class_weight=None, max_depth=5, min_samples_leaf=5, min_samples_split=10;, score=0.988 total time=   0.0s\n",
      "[CV 10/10] END class_weight=None, max_depth=5, min_samples_leaf=5, min_samples_split=10;, score=0.988 total time=   0.0s\n",
      "[CV 1/10] END class_weight=None, max_depth=5, min_samples_leaf=10, min_samples_split=1;, score=nan total time=   0.0s\n",
      "[CV 2/10] END class_weight=None, max_depth=5, min_samples_leaf=10, min_samples_split=1;, score=nan total time=   0.0s\n",
      "[CV 3/10] END class_weight=None, max_depth=5, min_samples_leaf=10, min_samples_split=1;, score=nan total time=   0.0s\n",
      "[CV 4/10] END class_weight=None, max_depth=5, min_samples_leaf=10, min_samples_split=1;, score=nan total time=   0.0s\n",
      "[CV 5/10] END class_weight=None, max_depth=5, min_samples_leaf=10, min_samples_split=1;, score=nan total time=   0.0s\n",
      "[CV 6/10] END class_weight=None, max_depth=5, min_samples_leaf=10, min_samples_split=1;, score=nan total time=   0.0s\n",
      "[CV 7/10] END class_weight=None, max_depth=5, min_samples_leaf=10, min_samples_split=1;, score=nan total time=   0.0s\n",
      "[CV 8/10] END class_weight=None, max_depth=5, min_samples_leaf=10, min_samples_split=1;, score=nan total time=   0.0s\n",
      "[CV 9/10] END class_weight=None, max_depth=5, min_samples_leaf=10, min_samples_split=1;, score=nan total time=   0.0s\n",
      "[CV 10/10] END class_weight=None, max_depth=5, min_samples_leaf=10, min_samples_split=1;, score=nan total time=   0.0s\n",
      "[CV 1/10] END class_weight=None, max_depth=5, min_samples_leaf=10, min_samples_split=5;, score=0.988 total time=   0.0s\n",
      "[CV 2/10] END class_weight=None, max_depth=5, min_samples_leaf=10, min_samples_split=5;, score=0.989 total time=   0.0s\n",
      "[CV 3/10] END class_weight=None, max_depth=5, min_samples_leaf=10, min_samples_split=5;, score=0.988 total time=   0.0s\n",
      "[CV 4/10] END class_weight=None, max_depth=5, min_samples_leaf=10, min_samples_split=5;, score=0.988 total time=   0.0s\n",
      "[CV 5/10] END class_weight=None, max_depth=5, min_samples_leaf=10, min_samples_split=5;, score=0.987 total time=   0.0s\n",
      "[CV 6/10] END class_weight=None, max_depth=5, min_samples_leaf=10, min_samples_split=5;, score=0.985 total time=   0.0s\n",
      "[CV 7/10] END class_weight=None, max_depth=5, min_samples_leaf=10, min_samples_split=5;, score=0.989 total time=   0.0s\n",
      "[CV 8/10] END class_weight=None, max_depth=5, min_samples_leaf=10, min_samples_split=5;, score=0.987 total time=   0.0s\n",
      "[CV 9/10] END class_weight=None, max_depth=5, min_samples_leaf=10, min_samples_split=5;, score=0.987 total time=   0.0s\n",
      "[CV 10/10] END class_weight=None, max_depth=5, min_samples_leaf=10, min_samples_split=5;, score=0.988 total time=   0.0s\n",
      "[CV 1/10] END class_weight=None, max_depth=5, min_samples_leaf=10, min_samples_split=10;, score=0.988 total time=   0.0s\n",
      "[CV 2/10] END class_weight=None, max_depth=5, min_samples_leaf=10, min_samples_split=10;, score=0.989 total time=   0.0s\n",
      "[CV 3/10] END class_weight=None, max_depth=5, min_samples_leaf=10, min_samples_split=10;, score=0.988 total time=   0.0s\n",
      "[CV 4/10] END class_weight=None, max_depth=5, min_samples_leaf=10, min_samples_split=10;, score=0.988 total time=   0.0s\n",
      "[CV 5/10] END class_weight=None, max_depth=5, min_samples_leaf=10, min_samples_split=10;, score=0.987 total time=   0.0s\n",
      "[CV 6/10] END class_weight=None, max_depth=5, min_samples_leaf=10, min_samples_split=10;, score=0.985 total time=   0.0s\n",
      "[CV 7/10] END class_weight=None, max_depth=5, min_samples_leaf=10, min_samples_split=10;, score=0.989 total time=   0.0s\n",
      "[CV 8/10] END class_weight=None, max_depth=5, min_samples_leaf=10, min_samples_split=10;, score=0.987 total time=   0.0s\n",
      "[CV 9/10] END class_weight=None, max_depth=5, min_samples_leaf=10, min_samples_split=10;, score=0.987 total time=   0.0s\n",
      "[CV 10/10] END class_weight=None, max_depth=5, min_samples_leaf=10, min_samples_split=10;, score=0.988 total time=   0.0s\n",
      "[CV 1/10] END class_weight=balanced, max_depth=None, min_samples_leaf=1, min_samples_split=1;, score=nan total time=   0.0s\n",
      "[CV 2/10] END class_weight=balanced, max_depth=None, min_samples_leaf=1, min_samples_split=1;, score=nan total time=   0.0s\n",
      "[CV 3/10] END class_weight=balanced, max_depth=None, min_samples_leaf=1, min_samples_split=1;, score=nan total time=   0.0s\n",
      "[CV 4/10] END class_weight=balanced, max_depth=None, min_samples_leaf=1, min_samples_split=1;, score=nan total time=   0.0s\n",
      "[CV 5/10] END class_weight=balanced, max_depth=None, min_samples_leaf=1, min_samples_split=1;, score=nan total time=   0.0s\n",
      "[CV 6/10] END class_weight=balanced, max_depth=None, min_samples_leaf=1, min_samples_split=1;, score=nan total time=   0.0s\n",
      "[CV 7/10] END class_weight=balanced, max_depth=None, min_samples_leaf=1, min_samples_split=1;, score=nan total time=   0.0s\n",
      "[CV 8/10] END class_weight=balanced, max_depth=None, min_samples_leaf=1, min_samples_split=1;, score=nan total time=   0.0s\n",
      "[CV 9/10] END class_weight=balanced, max_depth=None, min_samples_leaf=1, min_samples_split=1;, score=nan total time=   0.0s\n",
      "[CV 10/10] END class_weight=balanced, max_depth=None, min_samples_leaf=1, min_samples_split=1;, score=nan total time=   0.0s\n",
      "[CV 1/10] END class_weight=balanced, max_depth=None, min_samples_leaf=1, min_samples_split=5;, score=0.952 total time=   0.0s\n",
      "[CV 2/10] END class_weight=balanced, max_depth=None, min_samples_leaf=1, min_samples_split=5;, score=0.946 total time=   0.0s\n",
      "[CV 3/10] END class_weight=balanced, max_depth=None, min_samples_leaf=1, min_samples_split=5;, score=0.956 total time=   0.0s\n",
      "[CV 4/10] END class_weight=balanced, max_depth=None, min_samples_leaf=1, min_samples_split=5;, score=0.948 total time=   0.0s\n",
      "[CV 5/10] END class_weight=balanced, max_depth=None, min_samples_leaf=1, min_samples_split=5;, score=0.966 total time=   0.0s\n",
      "[CV 6/10] END class_weight=balanced, max_depth=None, min_samples_leaf=1, min_samples_split=5;, score=0.962 total time=   0.0s\n",
      "[CV 7/10] END class_weight=balanced, max_depth=None, min_samples_leaf=1, min_samples_split=5;, score=0.952 total time=   0.0s\n",
      "[CV 8/10] END class_weight=balanced, max_depth=None, min_samples_leaf=1, min_samples_split=5;, score=0.955 total time=   0.0s\n",
      "[CV 9/10] END class_weight=balanced, max_depth=None, min_samples_leaf=1, min_samples_split=5;, score=0.961 total time=   0.0s\n",
      "[CV 10/10] END class_weight=balanced, max_depth=None, min_samples_leaf=1, min_samples_split=5;, score=0.953 total time=   0.0s\n",
      "[CV 1/10] END class_weight=balanced, max_depth=None, min_samples_leaf=1, min_samples_split=10;, score=0.941 total time=   0.0s\n",
      "[CV 2/10] END class_weight=balanced, max_depth=None, min_samples_leaf=1, min_samples_split=10;, score=0.939 total time=   0.0s\n",
      "[CV 3/10] END class_weight=balanced, max_depth=None, min_samples_leaf=1, min_samples_split=10;, score=0.950 total time=   0.0s\n",
      "[CV 4/10] END class_weight=balanced, max_depth=None, min_samples_leaf=1, min_samples_split=10;, score=0.944 total time=   0.0s\n",
      "[CV 5/10] END class_weight=balanced, max_depth=None, min_samples_leaf=1, min_samples_split=10;, score=0.956 total time=   0.0s\n",
      "[CV 6/10] END class_weight=balanced, max_depth=None, min_samples_leaf=1, min_samples_split=10;, score=0.951 total time=   0.0s\n",
      "[CV 7/10] END class_weight=balanced, max_depth=None, min_samples_leaf=1, min_samples_split=10;, score=0.942 total time=   0.0s\n",
      "[CV 8/10] END class_weight=balanced, max_depth=None, min_samples_leaf=1, min_samples_split=10;, score=0.949 total time=   0.0s\n",
      "[CV 9/10] END class_weight=balanced, max_depth=None, min_samples_leaf=1, min_samples_split=10;, score=0.954 total time=   0.0s\n",
      "[CV 10/10] END class_weight=balanced, max_depth=None, min_samples_leaf=1, min_samples_split=10;, score=0.942 total time=   0.0s\n",
      "[CV 1/10] END class_weight=balanced, max_depth=None, min_samples_leaf=5, min_samples_split=1;, score=nan total time=   0.0s\n",
      "[CV 2/10] END class_weight=balanced, max_depth=None, min_samples_leaf=5, min_samples_split=1;, score=nan total time=   0.0s\n",
      "[CV 3/10] END class_weight=balanced, max_depth=None, min_samples_leaf=5, min_samples_split=1;, score=nan total time=   0.0s\n",
      "[CV 4/10] END class_weight=balanced, max_depth=None, min_samples_leaf=5, min_samples_split=1;, score=nan total time=   0.0s\n",
      "[CV 5/10] END class_weight=balanced, max_depth=None, min_samples_leaf=5, min_samples_split=1;, score=nan total time=   0.0s\n",
      "[CV 6/10] END class_weight=balanced, max_depth=None, min_samples_leaf=5, min_samples_split=1;, score=nan total time=   0.0s\n",
      "[CV 7/10] END class_weight=balanced, max_depth=None, min_samples_leaf=5, min_samples_split=1;, score=nan total time=   0.0s\n",
      "[CV 8/10] END class_weight=balanced, max_depth=None, min_samples_leaf=5, min_samples_split=1;, score=nan total time=   0.0s\n",
      "[CV 9/10] END class_weight=balanced, max_depth=None, min_samples_leaf=5, min_samples_split=1;, score=nan total time=   0.0s\n",
      "[CV 10/10] END class_weight=balanced, max_depth=None, min_samples_leaf=5, min_samples_split=1;, score=nan total time=   0.0s\n",
      "[CV 1/10] END class_weight=balanced, max_depth=None, min_samples_leaf=5, min_samples_split=5;, score=0.939 total time=   0.0s\n",
      "[CV 2/10] END class_weight=balanced, max_depth=None, min_samples_leaf=5, min_samples_split=5;, score=0.929 total time=   0.0s\n",
      "[CV 3/10] END class_weight=balanced, max_depth=None, min_samples_leaf=5, min_samples_split=5;, score=0.945 total time=   0.0s\n",
      "[CV 4/10] END class_weight=balanced, max_depth=None, min_samples_leaf=5, min_samples_split=5;, score=0.934 total time=   0.0s\n",
      "[CV 5/10] END class_weight=balanced, max_depth=None, min_samples_leaf=5, min_samples_split=5;, score=0.953 total time=   0.0s\n",
      "[CV 6/10] END class_weight=balanced, max_depth=None, min_samples_leaf=5, min_samples_split=5;, score=0.947 total time=   0.0s\n",
      "[CV 7/10] END class_weight=balanced, max_depth=None, min_samples_leaf=5, min_samples_split=5;, score=0.932 total time=   0.0s\n",
      "[CV 8/10] END class_weight=balanced, max_depth=None, min_samples_leaf=5, min_samples_split=5;, score=0.940 total time=   0.0s\n",
      "[CV 9/10] END class_weight=balanced, max_depth=None, min_samples_leaf=5, min_samples_split=5;, score=0.948 total time=   0.0s\n",
      "[CV 10/10] END class_weight=balanced, max_depth=None, min_samples_leaf=5, min_samples_split=5;, score=0.939 total time=   0.0s\n",
      "[CV 1/10] END class_weight=balanced, max_depth=None, min_samples_leaf=5, min_samples_split=10;, score=0.939 total time=   0.0s\n",
      "[CV 2/10] END class_weight=balanced, max_depth=None, min_samples_leaf=5, min_samples_split=10;, score=0.929 total time=   0.0s\n",
      "[CV 3/10] END class_weight=balanced, max_depth=None, min_samples_leaf=5, min_samples_split=10;, score=0.946 total time=   0.0s\n",
      "[CV 4/10] END class_weight=balanced, max_depth=None, min_samples_leaf=5, min_samples_split=10;, score=0.934 total time=   0.0s\n",
      "[CV 5/10] END class_weight=balanced, max_depth=None, min_samples_leaf=5, min_samples_split=10;, score=0.952 total time=   0.0s\n",
      "[CV 6/10] END class_weight=balanced, max_depth=None, min_samples_leaf=5, min_samples_split=10;, score=0.946 total time=   0.0s\n",
      "[CV 7/10] END class_weight=balanced, max_depth=None, min_samples_leaf=5, min_samples_split=10;, score=0.934 total time=   0.0s\n",
      "[CV 8/10] END class_weight=balanced, max_depth=None, min_samples_leaf=5, min_samples_split=10;, score=0.940 total time=   0.0s\n",
      "[CV 9/10] END class_weight=balanced, max_depth=None, min_samples_leaf=5, min_samples_split=10;, score=0.948 total time=   0.0s\n",
      "[CV 10/10] END class_weight=balanced, max_depth=None, min_samples_leaf=5, min_samples_split=10;, score=0.939 total time=   0.0s\n",
      "[CV 1/10] END class_weight=balanced, max_depth=None, min_samples_leaf=10, min_samples_split=1;, score=nan total time=   0.0s\n",
      "[CV 2/10] END class_weight=balanced, max_depth=None, min_samples_leaf=10, min_samples_split=1;, score=nan total time=   0.0s\n",
      "[CV 3/10] END class_weight=balanced, max_depth=None, min_samples_leaf=10, min_samples_split=1;, score=nan total time=   0.0s\n",
      "[CV 4/10] END class_weight=balanced, max_depth=None, min_samples_leaf=10, min_samples_split=1;, score=nan total time=   0.0s\n",
      "[CV 5/10] END class_weight=balanced, max_depth=None, min_samples_leaf=10, min_samples_split=1;, score=nan total time=   0.0s\n",
      "[CV 6/10] END class_weight=balanced, max_depth=None, min_samples_leaf=10, min_samples_split=1;, score=nan total time=   0.0s\n",
      "[CV 7/10] END class_weight=balanced, max_depth=None, min_samples_leaf=10, min_samples_split=1;, score=nan total time=   0.0s\n",
      "[CV 8/10] END class_weight=balanced, max_depth=None, min_samples_leaf=10, min_samples_split=1;, score=nan total time=   0.0s\n",
      "[CV 9/10] END class_weight=balanced, max_depth=None, min_samples_leaf=10, min_samples_split=1;, score=nan total time=   0.0s\n",
      "[CV 10/10] END class_weight=balanced, max_depth=None, min_samples_leaf=10, min_samples_split=1;, score=nan total time=   0.0s\n",
      "[CV 1/10] END class_weight=balanced, max_depth=None, min_samples_leaf=10, min_samples_split=5;, score=0.935 total time=   0.0s\n",
      "[CV 2/10] END class_weight=balanced, max_depth=None, min_samples_leaf=10, min_samples_split=5;, score=0.910 total time=   0.0s\n",
      "[CV 3/10] END class_weight=balanced, max_depth=None, min_samples_leaf=10, min_samples_split=5;, score=0.926 total time=   0.0s\n",
      "[CV 4/10] END class_weight=balanced, max_depth=None, min_samples_leaf=10, min_samples_split=5;, score=0.918 total time=   0.0s\n",
      "[CV 5/10] END class_weight=balanced, max_depth=None, min_samples_leaf=10, min_samples_split=5;, score=0.933 total time=   0.0s\n",
      "[CV 6/10] END class_weight=balanced, max_depth=None, min_samples_leaf=10, min_samples_split=5;, score=0.935 total time=   0.0s\n",
      "[CV 7/10] END class_weight=balanced, max_depth=None, min_samples_leaf=10, min_samples_split=5;, score=0.929 total time=   0.0s\n",
      "[CV 8/10] END class_weight=balanced, max_depth=None, min_samples_leaf=10, min_samples_split=5;, score=0.925 total time=   0.0s\n",
      "[CV 9/10] END class_weight=balanced, max_depth=None, min_samples_leaf=10, min_samples_split=5;, score=0.927 total time=   0.0s\n",
      "[CV 10/10] END class_weight=balanced, max_depth=None, min_samples_leaf=10, min_samples_split=5;, score=0.911 total time=   0.0s\n",
      "[CV 1/10] END class_weight=balanced, max_depth=None, min_samples_leaf=10, min_samples_split=10;, score=0.935 total time=   0.0s\n",
      "[CV 2/10] END class_weight=balanced, max_depth=None, min_samples_leaf=10, min_samples_split=10;, score=0.910 total time=   0.0s\n",
      "[CV 3/10] END class_weight=balanced, max_depth=None, min_samples_leaf=10, min_samples_split=10;, score=0.926 total time=   0.0s\n",
      "[CV 4/10] END class_weight=balanced, max_depth=None, min_samples_leaf=10, min_samples_split=10;, score=0.917 total time=   0.0s\n",
      "[CV 5/10] END class_weight=balanced, max_depth=None, min_samples_leaf=10, min_samples_split=10;, score=0.933 total time=   0.0s\n",
      "[CV 6/10] END class_weight=balanced, max_depth=None, min_samples_leaf=10, min_samples_split=10;, score=0.934 total time=   0.0s\n",
      "[CV 7/10] END class_weight=balanced, max_depth=None, min_samples_leaf=10, min_samples_split=10;, score=0.928 total time=   0.0s\n",
      "[CV 8/10] END class_weight=balanced, max_depth=None, min_samples_leaf=10, min_samples_split=10;, score=0.924 total time=   0.0s\n",
      "[CV 9/10] END class_weight=balanced, max_depth=None, min_samples_leaf=10, min_samples_split=10;, score=0.926 total time=   0.0s\n",
      "[CV 10/10] END class_weight=balanced, max_depth=None, min_samples_leaf=10, min_samples_split=10;, score=0.910 total time=   0.0s\n",
      "[CV 1/10] END class_weight=balanced, max_depth=1, min_samples_leaf=1, min_samples_split=1;, score=nan total time=   0.0s\n",
      "[CV 2/10] END class_weight=balanced, max_depth=1, min_samples_leaf=1, min_samples_split=1;, score=nan total time=   0.0s\n",
      "[CV 3/10] END class_weight=balanced, max_depth=1, min_samples_leaf=1, min_samples_split=1;, score=nan total time=   0.0s\n",
      "[CV 4/10] END class_weight=balanced, max_depth=1, min_samples_leaf=1, min_samples_split=1;, score=nan total time=   0.0s\n",
      "[CV 5/10] END class_weight=balanced, max_depth=1, min_samples_leaf=1, min_samples_split=1;, score=nan total time=   0.0s\n",
      "[CV 6/10] END class_weight=balanced, max_depth=1, min_samples_leaf=1, min_samples_split=1;, score=nan total time=   0.0s\n",
      "[CV 7/10] END class_weight=balanced, max_depth=1, min_samples_leaf=1, min_samples_split=1;, score=nan total time=   0.0s\n",
      "[CV 8/10] END class_weight=balanced, max_depth=1, min_samples_leaf=1, min_samples_split=1;, score=nan total time=   0.0s\n",
      "[CV 9/10] END class_weight=balanced, max_depth=1, min_samples_leaf=1, min_samples_split=1;, score=nan total time=   0.0s\n",
      "[CV 10/10] END class_weight=balanced, max_depth=1, min_samples_leaf=1, min_samples_split=1;, score=nan total time=   0.0s\n",
      "[CV 1/10] END class_weight=balanced, max_depth=1, min_samples_leaf=1, min_samples_split=5;, score=0.921 total time=   0.0s\n",
      "[CV 2/10] END class_weight=balanced, max_depth=1, min_samples_leaf=1, min_samples_split=5;, score=0.929 total time=   0.0s\n",
      "[CV 3/10] END class_weight=balanced, max_depth=1, min_samples_leaf=1, min_samples_split=5;, score=0.937 total time=   0.0s\n",
      "[CV 4/10] END class_weight=balanced, max_depth=1, min_samples_leaf=1, min_samples_split=5;, score=0.926 total time=   0.0s\n",
      "[CV 5/10] END class_weight=balanced, max_depth=1, min_samples_leaf=1, min_samples_split=5;, score=0.916 total time=   0.0s\n",
      "[CV 6/10] END class_weight=balanced, max_depth=1, min_samples_leaf=1, min_samples_split=5;, score=0.926 total time=   0.0s\n",
      "[CV 7/10] END class_weight=balanced, max_depth=1, min_samples_leaf=1, min_samples_split=5;, score=0.930 total time=   0.0s\n",
      "[CV 8/10] END class_weight=balanced, max_depth=1, min_samples_leaf=1, min_samples_split=5;, score=0.925 total time=   0.0s\n",
      "[CV 9/10] END class_weight=balanced, max_depth=1, min_samples_leaf=1, min_samples_split=5;, score=0.933 total time=   0.0s\n",
      "[CV 10/10] END class_weight=balanced, max_depth=1, min_samples_leaf=1, min_samples_split=5;, score=0.928 total time=   0.0s\n",
      "[CV 1/10] END class_weight=balanced, max_depth=1, min_samples_leaf=1, min_samples_split=10;, score=0.921 total time=   0.0s\n",
      "[CV 2/10] END class_weight=balanced, max_depth=1, min_samples_leaf=1, min_samples_split=10;, score=0.929 total time=   0.0s\n",
      "[CV 3/10] END class_weight=balanced, max_depth=1, min_samples_leaf=1, min_samples_split=10;, score=0.937 total time=   0.0s\n",
      "[CV 4/10] END class_weight=balanced, max_depth=1, min_samples_leaf=1, min_samples_split=10;, score=0.926 total time=   0.0s\n",
      "[CV 5/10] END class_weight=balanced, max_depth=1, min_samples_leaf=1, min_samples_split=10;, score=0.916 total time=   0.0s\n",
      "[CV 6/10] END class_weight=balanced, max_depth=1, min_samples_leaf=1, min_samples_split=10;, score=0.926 total time=   0.0s\n",
      "[CV 7/10] END class_weight=balanced, max_depth=1, min_samples_leaf=1, min_samples_split=10;, score=0.930 total time=   0.0s\n",
      "[CV 8/10] END class_weight=balanced, max_depth=1, min_samples_leaf=1, min_samples_split=10;, score=0.925 total time=   0.0s\n",
      "[CV 9/10] END class_weight=balanced, max_depth=1, min_samples_leaf=1, min_samples_split=10;, score=0.933 total time=   0.0s\n",
      "[CV 10/10] END class_weight=balanced, max_depth=1, min_samples_leaf=1, min_samples_split=10;, score=0.928 total time=   0.0s\n",
      "[CV 1/10] END class_weight=balanced, max_depth=1, min_samples_leaf=5, min_samples_split=1;, score=nan total time=   0.0s\n",
      "[CV 2/10] END class_weight=balanced, max_depth=1, min_samples_leaf=5, min_samples_split=1;, score=nan total time=   0.0s\n",
      "[CV 3/10] END class_weight=balanced, max_depth=1, min_samples_leaf=5, min_samples_split=1;, score=nan total time=   0.0s\n",
      "[CV 4/10] END class_weight=balanced, max_depth=1, min_samples_leaf=5, min_samples_split=1;, score=nan total time=   0.0s\n",
      "[CV 5/10] END class_weight=balanced, max_depth=1, min_samples_leaf=5, min_samples_split=1;, score=nan total time=   0.0s\n",
      "[CV 6/10] END class_weight=balanced, max_depth=1, min_samples_leaf=5, min_samples_split=1;, score=nan total time=   0.0s\n",
      "[CV 7/10] END class_weight=balanced, max_depth=1, min_samples_leaf=5, min_samples_split=1;, score=nan total time=   0.0s\n",
      "[CV 8/10] END class_weight=balanced, max_depth=1, min_samples_leaf=5, min_samples_split=1;, score=nan total time=   0.0s\n",
      "[CV 9/10] END class_weight=balanced, max_depth=1, min_samples_leaf=5, min_samples_split=1;, score=nan total time=   0.0s\n",
      "[CV 10/10] END class_weight=balanced, max_depth=1, min_samples_leaf=5, min_samples_split=1;, score=nan total time=   0.0s\n",
      "[CV 1/10] END class_weight=balanced, max_depth=1, min_samples_leaf=5, min_samples_split=5;, score=0.921 total time=   0.0s\n",
      "[CV 2/10] END class_weight=balanced, max_depth=1, min_samples_leaf=5, min_samples_split=5;, score=0.929 total time=   0.0s\n",
      "[CV 3/10] END class_weight=balanced, max_depth=1, min_samples_leaf=5, min_samples_split=5;, score=0.937 total time=   0.0s\n",
      "[CV 4/10] END class_weight=balanced, max_depth=1, min_samples_leaf=5, min_samples_split=5;, score=0.926 total time=   0.0s\n",
      "[CV 5/10] END class_weight=balanced, max_depth=1, min_samples_leaf=5, min_samples_split=5;, score=0.916 total time=   0.0s\n",
      "[CV 6/10] END class_weight=balanced, max_depth=1, min_samples_leaf=5, min_samples_split=5;, score=0.926 total time=   0.0s\n",
      "[CV 7/10] END class_weight=balanced, max_depth=1, min_samples_leaf=5, min_samples_split=5;, score=0.930 total time=   0.0s\n",
      "[CV 8/10] END class_weight=balanced, max_depth=1, min_samples_leaf=5, min_samples_split=5;, score=0.925 total time=   0.0s\n",
      "[CV 9/10] END class_weight=balanced, max_depth=1, min_samples_leaf=5, min_samples_split=5;, score=0.933 total time=   0.0s\n",
      "[CV 10/10] END class_weight=balanced, max_depth=1, min_samples_leaf=5, min_samples_split=5;, score=0.928 total time=   0.0s\n",
      "[CV 1/10] END class_weight=balanced, max_depth=1, min_samples_leaf=5, min_samples_split=10;, score=0.921 total time=   0.0s\n",
      "[CV 2/10] END class_weight=balanced, max_depth=1, min_samples_leaf=5, min_samples_split=10;, score=0.929 total time=   0.0s\n",
      "[CV 3/10] END class_weight=balanced, max_depth=1, min_samples_leaf=5, min_samples_split=10;, score=0.937 total time=   0.0s\n",
      "[CV 4/10] END class_weight=balanced, max_depth=1, min_samples_leaf=5, min_samples_split=10;, score=0.926 total time=   0.0s\n",
      "[CV 5/10] END class_weight=balanced, max_depth=1, min_samples_leaf=5, min_samples_split=10;, score=0.916 total time=   0.0s\n",
      "[CV 6/10] END class_weight=balanced, max_depth=1, min_samples_leaf=5, min_samples_split=10;, score=0.926 total time=   0.0s\n",
      "[CV 7/10] END class_weight=balanced, max_depth=1, min_samples_leaf=5, min_samples_split=10;, score=0.930 total time=   0.0s\n",
      "[CV 8/10] END class_weight=balanced, max_depth=1, min_samples_leaf=5, min_samples_split=10;, score=0.925 total time=   0.0s\n",
      "[CV 9/10] END class_weight=balanced, max_depth=1, min_samples_leaf=5, min_samples_split=10;, score=0.933 total time=   0.0s\n",
      "[CV 10/10] END class_weight=balanced, max_depth=1, min_samples_leaf=5, min_samples_split=10;, score=0.928 total time=   0.0s\n",
      "[CV 1/10] END class_weight=balanced, max_depth=1, min_samples_leaf=10, min_samples_split=1;, score=nan total time=   0.0s\n",
      "[CV 2/10] END class_weight=balanced, max_depth=1, min_samples_leaf=10, min_samples_split=1;, score=nan total time=   0.0s\n",
      "[CV 3/10] END class_weight=balanced, max_depth=1, min_samples_leaf=10, min_samples_split=1;, score=nan total time=   0.0s\n",
      "[CV 4/10] END class_weight=balanced, max_depth=1, min_samples_leaf=10, min_samples_split=1;, score=nan total time=   0.0s\n",
      "[CV 5/10] END class_weight=balanced, max_depth=1, min_samples_leaf=10, min_samples_split=1;, score=nan total time=   0.0s\n",
      "[CV 6/10] END class_weight=balanced, max_depth=1, min_samples_leaf=10, min_samples_split=1;, score=nan total time=   0.0s\n",
      "[CV 7/10] END class_weight=balanced, max_depth=1, min_samples_leaf=10, min_samples_split=1;, score=nan total time=   0.0s\n",
      "[CV 8/10] END class_weight=balanced, max_depth=1, min_samples_leaf=10, min_samples_split=1;, score=nan total time=   0.0s\n",
      "[CV 9/10] END class_weight=balanced, max_depth=1, min_samples_leaf=10, min_samples_split=1;, score=nan total time=   0.0s\n",
      "[CV 10/10] END class_weight=balanced, max_depth=1, min_samples_leaf=10, min_samples_split=1;, score=nan total time=   0.0s\n",
      "[CV 1/10] END class_weight=balanced, max_depth=1, min_samples_leaf=10, min_samples_split=5;, score=0.921 total time=   0.0s\n",
      "[CV 2/10] END class_weight=balanced, max_depth=1, min_samples_leaf=10, min_samples_split=5;, score=0.929 total time=   0.0s\n",
      "[CV 3/10] END class_weight=balanced, max_depth=1, min_samples_leaf=10, min_samples_split=5;, score=0.937 total time=   0.0s\n",
      "[CV 4/10] END class_weight=balanced, max_depth=1, min_samples_leaf=10, min_samples_split=5;, score=0.926 total time=   0.0s\n",
      "[CV 5/10] END class_weight=balanced, max_depth=1, min_samples_leaf=10, min_samples_split=5;, score=0.916 total time=   0.0s\n",
      "[CV 6/10] END class_weight=balanced, max_depth=1, min_samples_leaf=10, min_samples_split=5;, score=0.926 total time=   0.0s\n",
      "[CV 7/10] END class_weight=balanced, max_depth=1, min_samples_leaf=10, min_samples_split=5;, score=0.930 total time=   0.0s\n",
      "[CV 8/10] END class_weight=balanced, max_depth=1, min_samples_leaf=10, min_samples_split=5;, score=0.925 total time=   0.0s\n",
      "[CV 9/10] END class_weight=balanced, max_depth=1, min_samples_leaf=10, min_samples_split=5;, score=0.933 total time=   0.0s\n",
      "[CV 10/10] END class_weight=balanced, max_depth=1, min_samples_leaf=10, min_samples_split=5;, score=0.928 total time=   0.0s\n",
      "[CV 1/10] END class_weight=balanced, max_depth=1, min_samples_leaf=10, min_samples_split=10;, score=0.921 total time=   0.0s\n",
      "[CV 2/10] END class_weight=balanced, max_depth=1, min_samples_leaf=10, min_samples_split=10;, score=0.929 total time=   0.0s\n",
      "[CV 3/10] END class_weight=balanced, max_depth=1, min_samples_leaf=10, min_samples_split=10;, score=0.937 total time=   0.0s\n",
      "[CV 4/10] END class_weight=balanced, max_depth=1, min_samples_leaf=10, min_samples_split=10;, score=0.926 total time=   0.0s\n",
      "[CV 5/10] END class_weight=balanced, max_depth=1, min_samples_leaf=10, min_samples_split=10;, score=0.916 total time=   0.0s\n",
      "[CV 6/10] END class_weight=balanced, max_depth=1, min_samples_leaf=10, min_samples_split=10;, score=0.926 total time=   0.0s\n",
      "[CV 7/10] END class_weight=balanced, max_depth=1, min_samples_leaf=10, min_samples_split=10;, score=0.930 total time=   0.0s\n",
      "[CV 8/10] END class_weight=balanced, max_depth=1, min_samples_leaf=10, min_samples_split=10;, score=0.925 total time=   0.0s\n",
      "[CV 9/10] END class_weight=balanced, max_depth=1, min_samples_leaf=10, min_samples_split=10;, score=0.933 total time=   0.0s\n",
      "[CV 10/10] END class_weight=balanced, max_depth=1, min_samples_leaf=10, min_samples_split=10;, score=0.928 total time=   0.0s\n",
      "[CV 1/10] END class_weight=balanced, max_depth=2, min_samples_leaf=1, min_samples_split=1;, score=nan total time=   0.0s\n",
      "[CV 2/10] END class_weight=balanced, max_depth=2, min_samples_leaf=1, min_samples_split=1;, score=nan total time=   0.0s\n",
      "[CV 3/10] END class_weight=balanced, max_depth=2, min_samples_leaf=1, min_samples_split=1;, score=nan total time=   0.0s\n",
      "[CV 4/10] END class_weight=balanced, max_depth=2, min_samples_leaf=1, min_samples_split=1;, score=nan total time=   0.0s\n",
      "[CV 5/10] END class_weight=balanced, max_depth=2, min_samples_leaf=1, min_samples_split=1;, score=nan total time=   0.0s\n",
      "[CV 6/10] END class_weight=balanced, max_depth=2, min_samples_leaf=1, min_samples_split=1;, score=nan total time=   0.0s\n",
      "[CV 7/10] END class_weight=balanced, max_depth=2, min_samples_leaf=1, min_samples_split=1;, score=nan total time=   0.0s\n",
      "[CV 8/10] END class_weight=balanced, max_depth=2, min_samples_leaf=1, min_samples_split=1;, score=nan total time=   0.0s\n",
      "[CV 9/10] END class_weight=balanced, max_depth=2, min_samples_leaf=1, min_samples_split=1;, score=nan total time=   0.0s\n",
      "[CV 10/10] END class_weight=balanced, max_depth=2, min_samples_leaf=1, min_samples_split=1;, score=nan total time=   0.0s\n",
      "[CV 1/10] END class_weight=balanced, max_depth=2, min_samples_leaf=1, min_samples_split=5;, score=0.805 total time=   0.0s\n",
      "[CV 2/10] END class_weight=balanced, max_depth=2, min_samples_leaf=1, min_samples_split=5;, score=0.819 total time=   0.0s\n",
      "[CV 3/10] END class_weight=balanced, max_depth=2, min_samples_leaf=1, min_samples_split=5;, score=0.836 total time=   0.0s\n",
      "[CV 4/10] END class_weight=balanced, max_depth=2, min_samples_leaf=1, min_samples_split=5;, score=0.821 total time=   0.0s\n",
      "[CV 5/10] END class_weight=balanced, max_depth=2, min_samples_leaf=1, min_samples_split=5;, score=0.799 total time=   0.0s\n",
      "[CV 6/10] END class_weight=balanced, max_depth=2, min_samples_leaf=1, min_samples_split=5;, score=0.812 total time=   0.0s\n",
      "[CV 7/10] END class_weight=balanced, max_depth=2, min_samples_leaf=1, min_samples_split=5;, score=0.814 total time=   0.0s\n",
      "[CV 8/10] END class_weight=balanced, max_depth=2, min_samples_leaf=1, min_samples_split=5;, score=0.807 total time=   0.0s\n",
      "[CV 9/10] END class_weight=balanced, max_depth=2, min_samples_leaf=1, min_samples_split=5;, score=0.819 total time=   0.0s\n",
      "[CV 10/10] END class_weight=balanced, max_depth=2, min_samples_leaf=1, min_samples_split=5;, score=0.825 total time=   0.0s\n",
      "[CV 1/10] END class_weight=balanced, max_depth=2, min_samples_leaf=1, min_samples_split=10;, score=0.805 total time=   0.0s\n",
      "[CV 2/10] END class_weight=balanced, max_depth=2, min_samples_leaf=1, min_samples_split=10;, score=0.819 total time=   0.0s\n",
      "[CV 3/10] END class_weight=balanced, max_depth=2, min_samples_leaf=1, min_samples_split=10;, score=0.836 total time=   0.0s\n",
      "[CV 4/10] END class_weight=balanced, max_depth=2, min_samples_leaf=1, min_samples_split=10;, score=0.821 total time=   0.0s\n",
      "[CV 5/10] END class_weight=balanced, max_depth=2, min_samples_leaf=1, min_samples_split=10;, score=0.799 total time=   0.0s\n",
      "[CV 6/10] END class_weight=balanced, max_depth=2, min_samples_leaf=1, min_samples_split=10;, score=0.812 total time=   0.0s\n",
      "[CV 7/10] END class_weight=balanced, max_depth=2, min_samples_leaf=1, min_samples_split=10;, score=0.814 total time=   0.0s\n",
      "[CV 8/10] END class_weight=balanced, max_depth=2, min_samples_leaf=1, min_samples_split=10;, score=0.807 total time=   0.0s\n",
      "[CV 9/10] END class_weight=balanced, max_depth=2, min_samples_leaf=1, min_samples_split=10;, score=0.819 total time=   0.0s\n",
      "[CV 10/10] END class_weight=balanced, max_depth=2, min_samples_leaf=1, min_samples_split=10;, score=0.825 total time=   0.0s\n",
      "[CV 1/10] END class_weight=balanced, max_depth=2, min_samples_leaf=5, min_samples_split=1;, score=nan total time=   0.0s\n",
      "[CV 2/10] END class_weight=balanced, max_depth=2, min_samples_leaf=5, min_samples_split=1;, score=nan total time=   0.0s\n",
      "[CV 3/10] END class_weight=balanced, max_depth=2, min_samples_leaf=5, min_samples_split=1;, score=nan total time=   0.0s\n",
      "[CV 4/10] END class_weight=balanced, max_depth=2, min_samples_leaf=5, min_samples_split=1;, score=nan total time=   0.0s\n",
      "[CV 5/10] END class_weight=balanced, max_depth=2, min_samples_leaf=5, min_samples_split=1;, score=nan total time=   0.0s\n",
      "[CV 6/10] END class_weight=balanced, max_depth=2, min_samples_leaf=5, min_samples_split=1;, score=nan total time=   0.0s\n",
      "[CV 7/10] END class_weight=balanced, max_depth=2, min_samples_leaf=5, min_samples_split=1;, score=nan total time=   0.0s\n",
      "[CV 8/10] END class_weight=balanced, max_depth=2, min_samples_leaf=5, min_samples_split=1;, score=nan total time=   0.0s\n",
      "[CV 9/10] END class_weight=balanced, max_depth=2, min_samples_leaf=5, min_samples_split=1;, score=nan total time=   0.0s\n",
      "[CV 10/10] END class_weight=balanced, max_depth=2, min_samples_leaf=5, min_samples_split=1;, score=nan total time=   0.0s\n",
      "[CV 1/10] END class_weight=balanced, max_depth=2, min_samples_leaf=5, min_samples_split=5;, score=0.805 total time=   0.0s\n",
      "[CV 2/10] END class_weight=balanced, max_depth=2, min_samples_leaf=5, min_samples_split=5;, score=0.819 total time=   0.0s\n",
      "[CV 3/10] END class_weight=balanced, max_depth=2, min_samples_leaf=5, min_samples_split=5;, score=0.836 total time=   0.0s\n",
      "[CV 4/10] END class_weight=balanced, max_depth=2, min_samples_leaf=5, min_samples_split=5;, score=0.821 total time=   0.0s\n",
      "[CV 5/10] END class_weight=balanced, max_depth=2, min_samples_leaf=5, min_samples_split=5;, score=0.799 total time=   0.0s\n",
      "[CV 6/10] END class_weight=balanced, max_depth=2, min_samples_leaf=5, min_samples_split=5;, score=0.812 total time=   0.0s\n",
      "[CV 7/10] END class_weight=balanced, max_depth=2, min_samples_leaf=5, min_samples_split=5;, score=0.814 total time=   0.0s\n",
      "[CV 8/10] END class_weight=balanced, max_depth=2, min_samples_leaf=5, min_samples_split=5;, score=0.807 total time=   0.0s\n",
      "[CV 9/10] END class_weight=balanced, max_depth=2, min_samples_leaf=5, min_samples_split=5;, score=0.819 total time=   0.0s\n",
      "[CV 10/10] END class_weight=balanced, max_depth=2, min_samples_leaf=5, min_samples_split=5;, score=0.825 total time=   0.0s\n",
      "[CV 1/10] END class_weight=balanced, max_depth=2, min_samples_leaf=5, min_samples_split=10;, score=0.805 total time=   0.0s\n",
      "[CV 2/10] END class_weight=balanced, max_depth=2, min_samples_leaf=5, min_samples_split=10;, score=0.819 total time=   0.0s\n",
      "[CV 3/10] END class_weight=balanced, max_depth=2, min_samples_leaf=5, min_samples_split=10;, score=0.836 total time=   0.0s\n",
      "[CV 4/10] END class_weight=balanced, max_depth=2, min_samples_leaf=5, min_samples_split=10;, score=0.821 total time=   0.0s\n",
      "[CV 5/10] END class_weight=balanced, max_depth=2, min_samples_leaf=5, min_samples_split=10;, score=0.799 total time=   0.0s\n",
      "[CV 6/10] END class_weight=balanced, max_depth=2, min_samples_leaf=5, min_samples_split=10;, score=0.812 total time=   0.0s\n",
      "[CV 7/10] END class_weight=balanced, max_depth=2, min_samples_leaf=5, min_samples_split=10;, score=0.814 total time=   0.0s\n",
      "[CV 8/10] END class_weight=balanced, max_depth=2, min_samples_leaf=5, min_samples_split=10;, score=0.807 total time=   0.0s\n",
      "[CV 9/10] END class_weight=balanced, max_depth=2, min_samples_leaf=5, min_samples_split=10;, score=0.819 total time=   0.0s\n",
      "[CV 10/10] END class_weight=balanced, max_depth=2, min_samples_leaf=5, min_samples_split=10;, score=0.825 total time=   0.0s\n",
      "[CV 1/10] END class_weight=balanced, max_depth=2, min_samples_leaf=10, min_samples_split=1;, score=nan total time=   0.0s\n",
      "[CV 2/10] END class_weight=balanced, max_depth=2, min_samples_leaf=10, min_samples_split=1;, score=nan total time=   0.0s\n",
      "[CV 3/10] END class_weight=balanced, max_depth=2, min_samples_leaf=10, min_samples_split=1;, score=nan total time=   0.0s\n",
      "[CV 4/10] END class_weight=balanced, max_depth=2, min_samples_leaf=10, min_samples_split=1;, score=nan total time=   0.0s\n",
      "[CV 5/10] END class_weight=balanced, max_depth=2, min_samples_leaf=10, min_samples_split=1;, score=nan total time=   0.0s\n",
      "[CV 6/10] END class_weight=balanced, max_depth=2, min_samples_leaf=10, min_samples_split=1;, score=nan total time=   0.0s\n",
      "[CV 7/10] END class_weight=balanced, max_depth=2, min_samples_leaf=10, min_samples_split=1;, score=nan total time=   0.0s\n",
      "[CV 8/10] END class_weight=balanced, max_depth=2, min_samples_leaf=10, min_samples_split=1;, score=nan total time=   0.0s\n",
      "[CV 9/10] END class_weight=balanced, max_depth=2, min_samples_leaf=10, min_samples_split=1;, score=nan total time=   0.0s\n",
      "[CV 10/10] END class_weight=balanced, max_depth=2, min_samples_leaf=10, min_samples_split=1;, score=nan total time=   0.0s\n",
      "[CV 1/10] END class_weight=balanced, max_depth=2, min_samples_leaf=10, min_samples_split=5;, score=0.805 total time=   0.0s\n",
      "[CV 2/10] END class_weight=balanced, max_depth=2, min_samples_leaf=10, min_samples_split=5;, score=0.819 total time=   0.0s\n",
      "[CV 3/10] END class_weight=balanced, max_depth=2, min_samples_leaf=10, min_samples_split=5;, score=0.836 total time=   0.0s\n",
      "[CV 4/10] END class_weight=balanced, max_depth=2, min_samples_leaf=10, min_samples_split=5;, score=0.821 total time=   0.0s\n",
      "[CV 5/10] END class_weight=balanced, max_depth=2, min_samples_leaf=10, min_samples_split=5;, score=0.799 total time=   0.0s\n",
      "[CV 6/10] END class_weight=balanced, max_depth=2, min_samples_leaf=10, min_samples_split=5;, score=0.812 total time=   0.0s\n",
      "[CV 7/10] END class_weight=balanced, max_depth=2, min_samples_leaf=10, min_samples_split=5;, score=0.814 total time=   0.0s\n",
      "[CV 8/10] END class_weight=balanced, max_depth=2, min_samples_leaf=10, min_samples_split=5;, score=0.807 total time=   0.0s\n",
      "[CV 9/10] END class_weight=balanced, max_depth=2, min_samples_leaf=10, min_samples_split=5;, score=0.819 total time=   0.0s\n",
      "[CV 10/10] END class_weight=balanced, max_depth=2, min_samples_leaf=10, min_samples_split=5;, score=0.825 total time=   0.0s\n",
      "[CV 1/10] END class_weight=balanced, max_depth=2, min_samples_leaf=10, min_samples_split=10;, score=0.805 total time=   0.0s\n",
      "[CV 2/10] END class_weight=balanced, max_depth=2, min_samples_leaf=10, min_samples_split=10;, score=0.819 total time=   0.0s\n",
      "[CV 3/10] END class_weight=balanced, max_depth=2, min_samples_leaf=10, min_samples_split=10;, score=0.836 total time=   0.0s\n",
      "[CV 4/10] END class_weight=balanced, max_depth=2, min_samples_leaf=10, min_samples_split=10;, score=0.821 total time=   0.0s\n",
      "[CV 5/10] END class_weight=balanced, max_depth=2, min_samples_leaf=10, min_samples_split=10;, score=0.799 total time=   0.0s\n",
      "[CV 6/10] END class_weight=balanced, max_depth=2, min_samples_leaf=10, min_samples_split=10;, score=0.812 total time=   0.0s\n",
      "[CV 7/10] END class_weight=balanced, max_depth=2, min_samples_leaf=10, min_samples_split=10;, score=0.814 total time=   0.0s\n",
      "[CV 8/10] END class_weight=balanced, max_depth=2, min_samples_leaf=10, min_samples_split=10;, score=0.807 total time=   0.0s\n",
      "[CV 9/10] END class_weight=balanced, max_depth=2, min_samples_leaf=10, min_samples_split=10;, score=0.819 total time=   0.0s\n",
      "[CV 10/10] END class_weight=balanced, max_depth=2, min_samples_leaf=10, min_samples_split=10;, score=0.825 total time=   0.0s\n",
      "[CV 1/10] END class_weight=balanced, max_depth=3, min_samples_leaf=1, min_samples_split=1;, score=nan total time=   0.0s\n",
      "[CV 2/10] END class_weight=balanced, max_depth=3, min_samples_leaf=1, min_samples_split=1;, score=nan total time=   0.0s\n",
      "[CV 3/10] END class_weight=balanced, max_depth=3, min_samples_leaf=1, min_samples_split=1;, score=nan total time=   0.0s\n",
      "[CV 4/10] END class_weight=balanced, max_depth=3, min_samples_leaf=1, min_samples_split=1;, score=nan total time=   0.0s\n",
      "[CV 5/10] END class_weight=balanced, max_depth=3, min_samples_leaf=1, min_samples_split=1;, score=nan total time=   0.0s\n",
      "[CV 6/10] END class_weight=balanced, max_depth=3, min_samples_leaf=1, min_samples_split=1;, score=nan total time=   0.0s\n",
      "[CV 7/10] END class_weight=balanced, max_depth=3, min_samples_leaf=1, min_samples_split=1;, score=nan total time=   0.0s\n",
      "[CV 8/10] END class_weight=balanced, max_depth=3, min_samples_leaf=1, min_samples_split=1;, score=nan total time=   0.0s\n",
      "[CV 9/10] END class_weight=balanced, max_depth=3, min_samples_leaf=1, min_samples_split=1;, score=nan total time=   0.0s\n",
      "[CV 10/10] END class_weight=balanced, max_depth=3, min_samples_leaf=1, min_samples_split=1;, score=nan total time=   0.0s\n",
      "[CV 1/10] END class_weight=balanced, max_depth=3, min_samples_leaf=1, min_samples_split=5;, score=0.902 total time=   0.0s\n",
      "[CV 2/10] END class_weight=balanced, max_depth=3, min_samples_leaf=1, min_samples_split=5;, score=0.906 total time=   0.0s\n",
      "[CV 3/10] END class_weight=balanced, max_depth=3, min_samples_leaf=1, min_samples_split=5;, score=0.912 total time=   0.0s\n",
      "[CV 4/10] END class_weight=balanced, max_depth=3, min_samples_leaf=1, min_samples_split=5;, score=0.904 total time=   0.0s\n",
      "[CV 5/10] END class_weight=balanced, max_depth=3, min_samples_leaf=1, min_samples_split=5;, score=0.891 total time=   0.0s\n",
      "[CV 6/10] END class_weight=balanced, max_depth=3, min_samples_leaf=1, min_samples_split=5;, score=0.899 total time=   0.0s\n",
      "[CV 7/10] END class_weight=balanced, max_depth=3, min_samples_leaf=1, min_samples_split=5;, score=0.904 total time=   0.0s\n",
      "[CV 8/10] END class_weight=balanced, max_depth=3, min_samples_leaf=1, min_samples_split=5;, score=0.841 total time=   0.0s\n",
      "[CV 9/10] END class_weight=balanced, max_depth=3, min_samples_leaf=1, min_samples_split=5;, score=0.860 total time=   0.0s\n",
      "[CV 10/10] END class_weight=balanced, max_depth=3, min_samples_leaf=1, min_samples_split=5;, score=0.908 total time=   0.0s\n",
      "[CV 1/10] END class_weight=balanced, max_depth=3, min_samples_leaf=1, min_samples_split=10;, score=0.902 total time=   0.0s\n",
      "[CV 2/10] END class_weight=balanced, max_depth=3, min_samples_leaf=1, min_samples_split=10;, score=0.906 total time=   0.0s\n",
      "[CV 3/10] END class_weight=balanced, max_depth=3, min_samples_leaf=1, min_samples_split=10;, score=0.912 total time=   0.0s\n",
      "[CV 4/10] END class_weight=balanced, max_depth=3, min_samples_leaf=1, min_samples_split=10;, score=0.904 total time=   0.0s\n",
      "[CV 5/10] END class_weight=balanced, max_depth=3, min_samples_leaf=1, min_samples_split=10;, score=0.891 total time=   0.0s\n",
      "[CV 6/10] END class_weight=balanced, max_depth=3, min_samples_leaf=1, min_samples_split=10;, score=0.899 total time=   0.0s\n",
      "[CV 7/10] END class_weight=balanced, max_depth=3, min_samples_leaf=1, min_samples_split=10;, score=0.904 total time=   0.0s\n",
      "[CV 8/10] END class_weight=balanced, max_depth=3, min_samples_leaf=1, min_samples_split=10;, score=0.841 total time=   0.0s\n",
      "[CV 9/10] END class_weight=balanced, max_depth=3, min_samples_leaf=1, min_samples_split=10;, score=0.860 total time=   0.0s\n",
      "[CV 10/10] END class_weight=balanced, max_depth=3, min_samples_leaf=1, min_samples_split=10;, score=0.908 total time=   0.0s\n",
      "[CV 1/10] END class_weight=balanced, max_depth=3, min_samples_leaf=5, min_samples_split=1;, score=nan total time=   0.0s\n",
      "[CV 2/10] END class_weight=balanced, max_depth=3, min_samples_leaf=5, min_samples_split=1;, score=nan total time=   0.0s\n",
      "[CV 3/10] END class_weight=balanced, max_depth=3, min_samples_leaf=5, min_samples_split=1;, score=nan total time=   0.0s\n",
      "[CV 4/10] END class_weight=balanced, max_depth=3, min_samples_leaf=5, min_samples_split=1;, score=nan total time=   0.0s\n",
      "[CV 5/10] END class_weight=balanced, max_depth=3, min_samples_leaf=5, min_samples_split=1;, score=nan total time=   0.0s\n",
      "[CV 6/10] END class_weight=balanced, max_depth=3, min_samples_leaf=5, min_samples_split=1;, score=nan total time=   0.0s\n",
      "[CV 7/10] END class_weight=balanced, max_depth=3, min_samples_leaf=5, min_samples_split=1;, score=nan total time=   0.0s\n",
      "[CV 8/10] END class_weight=balanced, max_depth=3, min_samples_leaf=5, min_samples_split=1;, score=nan total time=   0.0s\n",
      "[CV 9/10] END class_weight=balanced, max_depth=3, min_samples_leaf=5, min_samples_split=1;, score=nan total time=   0.0s\n",
      "[CV 10/10] END class_weight=balanced, max_depth=3, min_samples_leaf=5, min_samples_split=1;, score=nan total time=   0.0s\n",
      "[CV 1/10] END class_weight=balanced, max_depth=3, min_samples_leaf=5, min_samples_split=5;, score=0.902 total time=   0.0s\n",
      "[CV 2/10] END class_weight=balanced, max_depth=3, min_samples_leaf=5, min_samples_split=5;, score=0.906 total time=   0.0s\n",
      "[CV 3/10] END class_weight=balanced, max_depth=3, min_samples_leaf=5, min_samples_split=5;, score=0.912 total time=   0.0s\n",
      "[CV 4/10] END class_weight=balanced, max_depth=3, min_samples_leaf=5, min_samples_split=5;, score=0.904 total time=   0.0s\n",
      "[CV 5/10] END class_weight=balanced, max_depth=3, min_samples_leaf=5, min_samples_split=5;, score=0.891 total time=   0.0s\n",
      "[CV 6/10] END class_weight=balanced, max_depth=3, min_samples_leaf=5, min_samples_split=5;, score=0.899 total time=   0.0s\n",
      "[CV 7/10] END class_weight=balanced, max_depth=3, min_samples_leaf=5, min_samples_split=5;, score=0.904 total time=   0.0s\n",
      "[CV 8/10] END class_weight=balanced, max_depth=3, min_samples_leaf=5, min_samples_split=5;, score=0.841 total time=   0.0s\n",
      "[CV 9/10] END class_weight=balanced, max_depth=3, min_samples_leaf=5, min_samples_split=5;, score=0.860 total time=   0.0s\n",
      "[CV 10/10] END class_weight=balanced, max_depth=3, min_samples_leaf=5, min_samples_split=5;, score=0.908 total time=   0.0s\n",
      "[CV 1/10] END class_weight=balanced, max_depth=3, min_samples_leaf=5, min_samples_split=10;, score=0.902 total time=   0.0s\n",
      "[CV 2/10] END class_weight=balanced, max_depth=3, min_samples_leaf=5, min_samples_split=10;, score=0.906 total time=   0.0s\n",
      "[CV 3/10] END class_weight=balanced, max_depth=3, min_samples_leaf=5, min_samples_split=10;, score=0.912 total time=   0.0s\n",
      "[CV 4/10] END class_weight=balanced, max_depth=3, min_samples_leaf=5, min_samples_split=10;, score=0.904 total time=   0.0s\n",
      "[CV 5/10] END class_weight=balanced, max_depth=3, min_samples_leaf=5, min_samples_split=10;, score=0.891 total time=   0.0s\n",
      "[CV 6/10] END class_weight=balanced, max_depth=3, min_samples_leaf=5, min_samples_split=10;, score=0.899 total time=   0.0s\n",
      "[CV 7/10] END class_weight=balanced, max_depth=3, min_samples_leaf=5, min_samples_split=10;, score=0.904 total time=   0.0s\n",
      "[CV 8/10] END class_weight=balanced, max_depth=3, min_samples_leaf=5, min_samples_split=10;, score=0.841 total time=   0.0s\n",
      "[CV 9/10] END class_weight=balanced, max_depth=3, min_samples_leaf=5, min_samples_split=10;, score=0.860 total time=   0.0s\n",
      "[CV 10/10] END class_weight=balanced, max_depth=3, min_samples_leaf=5, min_samples_split=10;, score=0.908 total time=   0.0s\n",
      "[CV 1/10] END class_weight=balanced, max_depth=3, min_samples_leaf=10, min_samples_split=1;, score=nan total time=   0.0s\n",
      "[CV 2/10] END class_weight=balanced, max_depth=3, min_samples_leaf=10, min_samples_split=1;, score=nan total time=   0.0s\n",
      "[CV 3/10] END class_weight=balanced, max_depth=3, min_samples_leaf=10, min_samples_split=1;, score=nan total time=   0.0s\n",
      "[CV 4/10] END class_weight=balanced, max_depth=3, min_samples_leaf=10, min_samples_split=1;, score=nan total time=   0.0s\n",
      "[CV 5/10] END class_weight=balanced, max_depth=3, min_samples_leaf=10, min_samples_split=1;, score=nan total time=   0.0s\n",
      "[CV 6/10] END class_weight=balanced, max_depth=3, min_samples_leaf=10, min_samples_split=1;, score=nan total time=   0.0s\n",
      "[CV 7/10] END class_weight=balanced, max_depth=3, min_samples_leaf=10, min_samples_split=1;, score=nan total time=   0.0s\n",
      "[CV 8/10] END class_weight=balanced, max_depth=3, min_samples_leaf=10, min_samples_split=1;, score=nan total time=   0.0s\n",
      "[CV 9/10] END class_weight=balanced, max_depth=3, min_samples_leaf=10, min_samples_split=1;, score=nan total time=   0.0s\n",
      "[CV 10/10] END class_weight=balanced, max_depth=3, min_samples_leaf=10, min_samples_split=1;, score=nan total time=   0.0s\n",
      "[CV 1/10] END class_weight=balanced, max_depth=3, min_samples_leaf=10, min_samples_split=5;, score=0.902 total time=   0.0s\n",
      "[CV 2/10] END class_weight=balanced, max_depth=3, min_samples_leaf=10, min_samples_split=5;, score=0.906 total time=   0.0s\n",
      "[CV 3/10] END class_weight=balanced, max_depth=3, min_samples_leaf=10, min_samples_split=5;, score=0.912 total time=   0.0s\n",
      "[CV 4/10] END class_weight=balanced, max_depth=3, min_samples_leaf=10, min_samples_split=5;, score=0.904 total time=   0.0s\n",
      "[CV 5/10] END class_weight=balanced, max_depth=3, min_samples_leaf=10, min_samples_split=5;, score=0.891 total time=   0.0s\n",
      "[CV 6/10] END class_weight=balanced, max_depth=3, min_samples_leaf=10, min_samples_split=5;, score=0.899 total time=   0.0s\n",
      "[CV 7/10] END class_weight=balanced, max_depth=3, min_samples_leaf=10, min_samples_split=5;, score=0.904 total time=   0.0s\n",
      "[CV 8/10] END class_weight=balanced, max_depth=3, min_samples_leaf=10, min_samples_split=5;, score=0.841 total time=   0.0s\n",
      "[CV 9/10] END class_weight=balanced, max_depth=3, min_samples_leaf=10, min_samples_split=5;, score=0.860 total time=   0.0s\n",
      "[CV 10/10] END class_weight=balanced, max_depth=3, min_samples_leaf=10, min_samples_split=5;, score=0.908 total time=   0.0s\n",
      "[CV 1/10] END class_weight=balanced, max_depth=3, min_samples_leaf=10, min_samples_split=10;, score=0.902 total time=   0.0s\n",
      "[CV 2/10] END class_weight=balanced, max_depth=3, min_samples_leaf=10, min_samples_split=10;, score=0.906 total time=   0.0s\n",
      "[CV 3/10] END class_weight=balanced, max_depth=3, min_samples_leaf=10, min_samples_split=10;, score=0.912 total time=   0.0s\n",
      "[CV 4/10] END class_weight=balanced, max_depth=3, min_samples_leaf=10, min_samples_split=10;, score=0.904 total time=   0.0s\n",
      "[CV 5/10] END class_weight=balanced, max_depth=3, min_samples_leaf=10, min_samples_split=10;, score=0.891 total time=   0.0s\n",
      "[CV 6/10] END class_weight=balanced, max_depth=3, min_samples_leaf=10, min_samples_split=10;, score=0.899 total time=   0.0s\n",
      "[CV 7/10] END class_weight=balanced, max_depth=3, min_samples_leaf=10, min_samples_split=10;, score=0.904 total time=   0.0s\n",
      "[CV 8/10] END class_weight=balanced, max_depth=3, min_samples_leaf=10, min_samples_split=10;, score=0.841 total time=   0.0s\n",
      "[CV 9/10] END class_weight=balanced, max_depth=3, min_samples_leaf=10, min_samples_split=10;, score=0.860 total time=   0.0s\n",
      "[CV 10/10] END class_weight=balanced, max_depth=3, min_samples_leaf=10, min_samples_split=10;, score=0.908 total time=   0.0s\n",
      "[CV 1/10] END class_weight=balanced, max_depth=4, min_samples_leaf=1, min_samples_split=1;, score=nan total time=   0.0s\n",
      "[CV 2/10] END class_weight=balanced, max_depth=4, min_samples_leaf=1, min_samples_split=1;, score=nan total time=   0.0s\n",
      "[CV 3/10] END class_weight=balanced, max_depth=4, min_samples_leaf=1, min_samples_split=1;, score=nan total time=   0.0s\n",
      "[CV 4/10] END class_weight=balanced, max_depth=4, min_samples_leaf=1, min_samples_split=1;, score=nan total time=   0.0s\n",
      "[CV 5/10] END class_weight=balanced, max_depth=4, min_samples_leaf=1, min_samples_split=1;, score=nan total time=   0.0s\n",
      "[CV 6/10] END class_weight=balanced, max_depth=4, min_samples_leaf=1, min_samples_split=1;, score=nan total time=   0.0s\n",
      "[CV 7/10] END class_weight=balanced, max_depth=4, min_samples_leaf=1, min_samples_split=1;, score=nan total time=   0.0s\n",
      "[CV 8/10] END class_weight=balanced, max_depth=4, min_samples_leaf=1, min_samples_split=1;, score=nan total time=   0.0s\n",
      "[CV 9/10] END class_weight=balanced, max_depth=4, min_samples_leaf=1, min_samples_split=1;, score=nan total time=   0.0s\n",
      "[CV 10/10] END class_weight=balanced, max_depth=4, min_samples_leaf=1, min_samples_split=1;, score=nan total time=   0.0s\n",
      "[CV 1/10] END class_weight=balanced, max_depth=4, min_samples_leaf=1, min_samples_split=5;, score=0.888 total time=   0.0s\n",
      "[CV 2/10] END class_weight=balanced, max_depth=4, min_samples_leaf=1, min_samples_split=5;, score=0.880 total time=   0.0s\n",
      "[CV 3/10] END class_weight=balanced, max_depth=4, min_samples_leaf=1, min_samples_split=5;, score=0.927 total time=   0.0s\n",
      "[CV 4/10] END class_weight=balanced, max_depth=4, min_samples_leaf=1, min_samples_split=5;, score=0.879 total time=   0.0s\n",
      "[CV 5/10] END class_weight=balanced, max_depth=4, min_samples_leaf=1, min_samples_split=5;, score=0.826 total time=   0.0s\n",
      "[CV 6/10] END class_weight=balanced, max_depth=4, min_samples_leaf=1, min_samples_split=5;, score=0.864 total time=   0.0s\n",
      "[CV 7/10] END class_weight=balanced, max_depth=4, min_samples_leaf=1, min_samples_split=5;, score=0.834 total time=   0.0s\n",
      "[CV 8/10] END class_weight=balanced, max_depth=4, min_samples_leaf=1, min_samples_split=5;, score=0.859 total time=   0.0s\n",
      "[CV 9/10] END class_weight=balanced, max_depth=4, min_samples_leaf=1, min_samples_split=5;, score=0.863 total time=   0.0s\n",
      "[CV 10/10] END class_weight=balanced, max_depth=4, min_samples_leaf=1, min_samples_split=5;, score=0.882 total time=   0.0s\n",
      "[CV 1/10] END class_weight=balanced, max_depth=4, min_samples_leaf=1, min_samples_split=10;, score=0.888 total time=   0.0s\n",
      "[CV 2/10] END class_weight=balanced, max_depth=4, min_samples_leaf=1, min_samples_split=10;, score=0.880 total time=   0.0s\n",
      "[CV 3/10] END class_weight=balanced, max_depth=4, min_samples_leaf=1, min_samples_split=10;, score=0.927 total time=   0.0s\n",
      "[CV 4/10] END class_weight=balanced, max_depth=4, min_samples_leaf=1, min_samples_split=10;, score=0.879 total time=   0.0s\n",
      "[CV 5/10] END class_weight=balanced, max_depth=4, min_samples_leaf=1, min_samples_split=10;, score=0.827 total time=   0.0s\n",
      "[CV 6/10] END class_weight=balanced, max_depth=4, min_samples_leaf=1, min_samples_split=10;, score=0.864 total time=   0.0s\n",
      "[CV 7/10] END class_weight=balanced, max_depth=4, min_samples_leaf=1, min_samples_split=10;, score=0.834 total time=   0.0s\n",
      "[CV 8/10] END class_weight=balanced, max_depth=4, min_samples_leaf=1, min_samples_split=10;, score=0.859 total time=   0.0s\n",
      "[CV 9/10] END class_weight=balanced, max_depth=4, min_samples_leaf=1, min_samples_split=10;, score=0.863 total time=   0.0s\n",
      "[CV 10/10] END class_weight=balanced, max_depth=4, min_samples_leaf=1, min_samples_split=10;, score=0.882 total time=   0.0s\n",
      "[CV 1/10] END class_weight=balanced, max_depth=4, min_samples_leaf=5, min_samples_split=1;, score=nan total time=   0.0s\n",
      "[CV 2/10] END class_weight=balanced, max_depth=4, min_samples_leaf=5, min_samples_split=1;, score=nan total time=   0.0s\n",
      "[CV 3/10] END class_weight=balanced, max_depth=4, min_samples_leaf=5, min_samples_split=1;, score=nan total time=   0.0s\n",
      "[CV 4/10] END class_weight=balanced, max_depth=4, min_samples_leaf=5, min_samples_split=1;, score=nan total time=   0.0s\n",
      "[CV 5/10] END class_weight=balanced, max_depth=4, min_samples_leaf=5, min_samples_split=1;, score=nan total time=   0.0s\n",
      "[CV 6/10] END class_weight=balanced, max_depth=4, min_samples_leaf=5, min_samples_split=1;, score=nan total time=   0.0s\n",
      "[CV 7/10] END class_weight=balanced, max_depth=4, min_samples_leaf=5, min_samples_split=1;, score=nan total time=   0.0s\n",
      "[CV 8/10] END class_weight=balanced, max_depth=4, min_samples_leaf=5, min_samples_split=1;, score=nan total time=   0.0s\n",
      "[CV 9/10] END class_weight=balanced, max_depth=4, min_samples_leaf=5, min_samples_split=1;, score=nan total time=   0.0s\n",
      "[CV 10/10] END class_weight=balanced, max_depth=4, min_samples_leaf=5, min_samples_split=1;, score=nan total time=   0.0s\n",
      "[CV 1/10] END class_weight=balanced, max_depth=4, min_samples_leaf=5, min_samples_split=5;, score=0.888 total time=   0.0s\n",
      "[CV 2/10] END class_weight=balanced, max_depth=4, min_samples_leaf=5, min_samples_split=5;, score=0.880 total time=   0.0s\n",
      "[CV 3/10] END class_weight=balanced, max_depth=4, min_samples_leaf=5, min_samples_split=5;, score=0.927 total time=   0.0s\n",
      "[CV 4/10] END class_weight=balanced, max_depth=4, min_samples_leaf=5, min_samples_split=5;, score=0.879 total time=   0.0s\n",
      "[CV 5/10] END class_weight=balanced, max_depth=4, min_samples_leaf=5, min_samples_split=5;, score=0.826 total time=   0.0s\n",
      "[CV 6/10] END class_weight=balanced, max_depth=4, min_samples_leaf=5, min_samples_split=5;, score=0.864 total time=   0.0s\n",
      "[CV 7/10] END class_weight=balanced, max_depth=4, min_samples_leaf=5, min_samples_split=5;, score=0.834 total time=   0.0s\n",
      "[CV 8/10] END class_weight=balanced, max_depth=4, min_samples_leaf=5, min_samples_split=5;, score=0.859 total time=   0.0s\n",
      "[CV 9/10] END class_weight=balanced, max_depth=4, min_samples_leaf=5, min_samples_split=5;, score=0.863 total time=   0.0s\n",
      "[CV 10/10] END class_weight=balanced, max_depth=4, min_samples_leaf=5, min_samples_split=5;, score=0.882 total time=   0.0s\n",
      "[CV 1/10] END class_weight=balanced, max_depth=4, min_samples_leaf=5, min_samples_split=10;, score=0.888 total time=   0.0s\n",
      "[CV 2/10] END class_weight=balanced, max_depth=4, min_samples_leaf=5, min_samples_split=10;, score=0.880 total time=   0.0s\n",
      "[CV 3/10] END class_weight=balanced, max_depth=4, min_samples_leaf=5, min_samples_split=10;, score=0.927 total time=   0.0s\n",
      "[CV 4/10] END class_weight=balanced, max_depth=4, min_samples_leaf=5, min_samples_split=10;, score=0.879 total time=   0.0s\n",
      "[CV 5/10] END class_weight=balanced, max_depth=4, min_samples_leaf=5, min_samples_split=10;, score=0.826 total time=   0.0s\n",
      "[CV 6/10] END class_weight=balanced, max_depth=4, min_samples_leaf=5, min_samples_split=10;, score=0.864 total time=   0.0s\n",
      "[CV 7/10] END class_weight=balanced, max_depth=4, min_samples_leaf=5, min_samples_split=10;, score=0.834 total time=   0.0s\n",
      "[CV 8/10] END class_weight=balanced, max_depth=4, min_samples_leaf=5, min_samples_split=10;, score=0.859 total time=   0.0s\n",
      "[CV 9/10] END class_weight=balanced, max_depth=4, min_samples_leaf=5, min_samples_split=10;, score=0.863 total time=   0.0s\n",
      "[CV 10/10] END class_weight=balanced, max_depth=4, min_samples_leaf=5, min_samples_split=10;, score=0.882 total time=   0.0s\n",
      "[CV 1/10] END class_weight=balanced, max_depth=4, min_samples_leaf=10, min_samples_split=1;, score=nan total time=   0.0s\n",
      "[CV 2/10] END class_weight=balanced, max_depth=4, min_samples_leaf=10, min_samples_split=1;, score=nan total time=   0.0s\n",
      "[CV 3/10] END class_weight=balanced, max_depth=4, min_samples_leaf=10, min_samples_split=1;, score=nan total time=   0.0s\n",
      "[CV 4/10] END class_weight=balanced, max_depth=4, min_samples_leaf=10, min_samples_split=1;, score=nan total time=   0.0s\n",
      "[CV 5/10] END class_weight=balanced, max_depth=4, min_samples_leaf=10, min_samples_split=1;, score=nan total time=   0.0s\n",
      "[CV 6/10] END class_weight=balanced, max_depth=4, min_samples_leaf=10, min_samples_split=1;, score=nan total time=   0.0s\n",
      "[CV 7/10] END class_weight=balanced, max_depth=4, min_samples_leaf=10, min_samples_split=1;, score=nan total time=   0.0s\n",
      "[CV 8/10] END class_weight=balanced, max_depth=4, min_samples_leaf=10, min_samples_split=1;, score=nan total time=   0.0s\n",
      "[CV 9/10] END class_weight=balanced, max_depth=4, min_samples_leaf=10, min_samples_split=1;, score=nan total time=   0.0s\n",
      "[CV 10/10] END class_weight=balanced, max_depth=4, min_samples_leaf=10, min_samples_split=1;, score=nan total time=   0.0s\n",
      "[CV 1/10] END class_weight=balanced, max_depth=4, min_samples_leaf=10, min_samples_split=5;, score=0.888 total time=   0.0s\n",
      "[CV 2/10] END class_weight=balanced, max_depth=4, min_samples_leaf=10, min_samples_split=5;, score=0.880 total time=   0.0s\n",
      "[CV 3/10] END class_weight=balanced, max_depth=4, min_samples_leaf=10, min_samples_split=5;, score=0.927 total time=   0.0s\n",
      "[CV 4/10] END class_weight=balanced, max_depth=4, min_samples_leaf=10, min_samples_split=5;, score=0.879 total time=   0.0s\n",
      "[CV 5/10] END class_weight=balanced, max_depth=4, min_samples_leaf=10, min_samples_split=5;, score=0.826 total time=   0.0s\n",
      "[CV 6/10] END class_weight=balanced, max_depth=4, min_samples_leaf=10, min_samples_split=5;, score=0.864 total time=   0.0s\n",
      "[CV 7/10] END class_weight=balanced, max_depth=4, min_samples_leaf=10, min_samples_split=5;, score=0.834 total time=   0.0s\n",
      "[CV 8/10] END class_weight=balanced, max_depth=4, min_samples_leaf=10, min_samples_split=5;, score=0.859 total time=   0.0s\n",
      "[CV 9/10] END class_weight=balanced, max_depth=4, min_samples_leaf=10, min_samples_split=5;, score=0.863 total time=   0.0s\n",
      "[CV 10/10] END class_weight=balanced, max_depth=4, min_samples_leaf=10, min_samples_split=5;, score=0.882 total time=   0.0s\n",
      "[CV 1/10] END class_weight=balanced, max_depth=4, min_samples_leaf=10, min_samples_split=10;, score=0.888 total time=   0.0s\n",
      "[CV 2/10] END class_weight=balanced, max_depth=4, min_samples_leaf=10, min_samples_split=10;, score=0.880 total time=   0.0s\n",
      "[CV 3/10] END class_weight=balanced, max_depth=4, min_samples_leaf=10, min_samples_split=10;, score=0.927 total time=   0.0s\n",
      "[CV 4/10] END class_weight=balanced, max_depth=4, min_samples_leaf=10, min_samples_split=10;, score=0.879 total time=   0.0s\n",
      "[CV 5/10] END class_weight=balanced, max_depth=4, min_samples_leaf=10, min_samples_split=10;, score=0.827 total time=   0.0s\n",
      "[CV 6/10] END class_weight=balanced, max_depth=4, min_samples_leaf=10, min_samples_split=10;, score=0.864 total time=   0.0s\n",
      "[CV 7/10] END class_weight=balanced, max_depth=4, min_samples_leaf=10, min_samples_split=10;, score=0.834 total time=   0.0s\n",
      "[CV 8/10] END class_weight=balanced, max_depth=4, min_samples_leaf=10, min_samples_split=10;, score=0.859 total time=   0.0s\n",
      "[CV 9/10] END class_weight=balanced, max_depth=4, min_samples_leaf=10, min_samples_split=10;, score=0.863 total time=   0.0s\n",
      "[CV 10/10] END class_weight=balanced, max_depth=4, min_samples_leaf=10, min_samples_split=10;, score=0.882 total time=   0.0s\n",
      "[CV 1/10] END class_weight=balanced, max_depth=5, min_samples_leaf=1, min_samples_split=1;, score=nan total time=   0.0s\n",
      "[CV 2/10] END class_weight=balanced, max_depth=5, min_samples_leaf=1, min_samples_split=1;, score=nan total time=   0.0s\n",
      "[CV 3/10] END class_weight=balanced, max_depth=5, min_samples_leaf=1, min_samples_split=1;, score=nan total time=   0.0s\n",
      "[CV 4/10] END class_weight=balanced, max_depth=5, min_samples_leaf=1, min_samples_split=1;, score=nan total time=   0.0s\n",
      "[CV 5/10] END class_weight=balanced, max_depth=5, min_samples_leaf=1, min_samples_split=1;, score=nan total time=   0.0s\n",
      "[CV 6/10] END class_weight=balanced, max_depth=5, min_samples_leaf=1, min_samples_split=1;, score=nan total time=   0.0s\n",
      "[CV 7/10] END class_weight=balanced, max_depth=5, min_samples_leaf=1, min_samples_split=1;, score=nan total time=   0.0s\n",
      "[CV 8/10] END class_weight=balanced, max_depth=5, min_samples_leaf=1, min_samples_split=1;, score=nan total time=   0.0s\n",
      "[CV 9/10] END class_weight=balanced, max_depth=5, min_samples_leaf=1, min_samples_split=1;, score=nan total time=   0.0s\n",
      "[CV 10/10] END class_weight=balanced, max_depth=5, min_samples_leaf=1, min_samples_split=1;, score=nan total time=   0.0s\n",
      "[CV 1/10] END class_weight=balanced, max_depth=5, min_samples_leaf=1, min_samples_split=5;, score=0.896 total time=   0.0s\n",
      "[CV 2/10] END class_weight=balanced, max_depth=5, min_samples_leaf=1, min_samples_split=5;, score=0.891 total time=   0.0s\n",
      "[CV 3/10] END class_weight=balanced, max_depth=5, min_samples_leaf=1, min_samples_split=5;, score=0.876 total time=   0.0s\n",
      "[CV 4/10] END class_weight=balanced, max_depth=5, min_samples_leaf=1, min_samples_split=5;, score=0.878 total time=   0.0s\n",
      "[CV 5/10] END class_weight=balanced, max_depth=5, min_samples_leaf=1, min_samples_split=5;, score=0.827 total time=   0.0s\n",
      "[CV 6/10] END class_weight=balanced, max_depth=5, min_samples_leaf=1, min_samples_split=5;, score=0.854 total time=   0.0s\n",
      "[CV 7/10] END class_weight=balanced, max_depth=5, min_samples_leaf=1, min_samples_split=5;, score=0.839 total time=   0.0s\n",
      "[CV 8/10] END class_weight=balanced, max_depth=5, min_samples_leaf=1, min_samples_split=5;, score=0.846 total time=   0.0s\n",
      "[CV 9/10] END class_weight=balanced, max_depth=5, min_samples_leaf=1, min_samples_split=5;, score=0.855 total time=   0.0s\n",
      "[CV 10/10] END class_weight=balanced, max_depth=5, min_samples_leaf=1, min_samples_split=5;, score=0.869 total time=   0.0s\n",
      "[CV 1/10] END class_weight=balanced, max_depth=5, min_samples_leaf=1, min_samples_split=10;, score=0.896 total time=   0.0s\n",
      "[CV 2/10] END class_weight=balanced, max_depth=5, min_samples_leaf=1, min_samples_split=10;, score=0.891 total time=   0.0s\n",
      "[CV 3/10] END class_weight=balanced, max_depth=5, min_samples_leaf=1, min_samples_split=10;, score=0.876 total time=   0.0s\n",
      "[CV 4/10] END class_weight=balanced, max_depth=5, min_samples_leaf=1, min_samples_split=10;, score=0.878 total time=   0.0s\n",
      "[CV 5/10] END class_weight=balanced, max_depth=5, min_samples_leaf=1, min_samples_split=10;, score=0.827 total time=   0.0s\n",
      "[CV 6/10] END class_weight=balanced, max_depth=5, min_samples_leaf=1, min_samples_split=10;, score=0.854 total time=   0.0s\n",
      "[CV 7/10] END class_weight=balanced, max_depth=5, min_samples_leaf=1, min_samples_split=10;, score=0.839 total time=   0.0s\n",
      "[CV 8/10] END class_weight=balanced, max_depth=5, min_samples_leaf=1, min_samples_split=10;, score=0.846 total time=   0.0s\n",
      "[CV 9/10] END class_weight=balanced, max_depth=5, min_samples_leaf=1, min_samples_split=10;, score=0.855 total time=   0.0s\n",
      "[CV 10/10] END class_weight=balanced, max_depth=5, min_samples_leaf=1, min_samples_split=10;, score=0.869 total time=   0.0s\n",
      "[CV 1/10] END class_weight=balanced, max_depth=5, min_samples_leaf=5, min_samples_split=1;, score=nan total time=   0.0s\n",
      "[CV 2/10] END class_weight=balanced, max_depth=5, min_samples_leaf=5, min_samples_split=1;, score=nan total time=   0.0s\n",
      "[CV 3/10] END class_weight=balanced, max_depth=5, min_samples_leaf=5, min_samples_split=1;, score=nan total time=   0.0s\n",
      "[CV 4/10] END class_weight=balanced, max_depth=5, min_samples_leaf=5, min_samples_split=1;, score=nan total time=   0.0s\n",
      "[CV 5/10] END class_weight=balanced, max_depth=5, min_samples_leaf=5, min_samples_split=1;, score=nan total time=   0.0s\n",
      "[CV 6/10] END class_weight=balanced, max_depth=5, min_samples_leaf=5, min_samples_split=1;, score=nan total time=   0.0s\n",
      "[CV 7/10] END class_weight=balanced, max_depth=5, min_samples_leaf=5, min_samples_split=1;, score=nan total time=   0.0s\n",
      "[CV 8/10] END class_weight=balanced, max_depth=5, min_samples_leaf=5, min_samples_split=1;, score=nan total time=   0.0s\n",
      "[CV 9/10] END class_weight=balanced, max_depth=5, min_samples_leaf=5, min_samples_split=1;, score=nan total time=   0.0s\n",
      "[CV 10/10] END class_weight=balanced, max_depth=5, min_samples_leaf=5, min_samples_split=1;, score=nan total time=   0.0s\n",
      "[CV 1/10] END class_weight=balanced, max_depth=5, min_samples_leaf=5, min_samples_split=5;, score=0.896 total time=   0.0s\n",
      "[CV 2/10] END class_weight=balanced, max_depth=5, min_samples_leaf=5, min_samples_split=5;, score=0.891 total time=   0.0s\n",
      "[CV 3/10] END class_weight=balanced, max_depth=5, min_samples_leaf=5, min_samples_split=5;, score=0.876 total time=   0.0s\n",
      "[CV 4/10] END class_weight=balanced, max_depth=5, min_samples_leaf=5, min_samples_split=5;, score=0.878 total time=   0.0s\n",
      "[CV 5/10] END class_weight=balanced, max_depth=5, min_samples_leaf=5, min_samples_split=5;, score=0.827 total time=   0.0s\n",
      "[CV 6/10] END class_weight=balanced, max_depth=5, min_samples_leaf=5, min_samples_split=5;, score=0.854 total time=   0.0s\n",
      "[CV 7/10] END class_weight=balanced, max_depth=5, min_samples_leaf=5, min_samples_split=5;, score=0.839 total time=   0.0s\n",
      "[CV 8/10] END class_weight=balanced, max_depth=5, min_samples_leaf=5, min_samples_split=5;, score=0.846 total time=   0.0s\n",
      "[CV 9/10] END class_weight=balanced, max_depth=5, min_samples_leaf=5, min_samples_split=5;, score=0.855 total time=   0.0s\n",
      "[CV 10/10] END class_weight=balanced, max_depth=5, min_samples_leaf=5, min_samples_split=5;, score=0.869 total time=   0.0s\n",
      "[CV 1/10] END class_weight=balanced, max_depth=5, min_samples_leaf=5, min_samples_split=10;, score=0.896 total time=   0.0s\n",
      "[CV 2/10] END class_weight=balanced, max_depth=5, min_samples_leaf=5, min_samples_split=10;, score=0.893 total time=   0.0s\n",
      "[CV 3/10] END class_weight=balanced, max_depth=5, min_samples_leaf=5, min_samples_split=10;, score=0.876 total time=   0.0s\n",
      "[CV 4/10] END class_weight=balanced, max_depth=5, min_samples_leaf=5, min_samples_split=10;, score=0.878 total time=   0.0s\n",
      "[CV 5/10] END class_weight=balanced, max_depth=5, min_samples_leaf=5, min_samples_split=10;, score=0.827 total time=   0.0s\n",
      "[CV 6/10] END class_weight=balanced, max_depth=5, min_samples_leaf=5, min_samples_split=10;, score=0.854 total time=   0.0s\n",
      "[CV 7/10] END class_weight=balanced, max_depth=5, min_samples_leaf=5, min_samples_split=10;, score=0.839 total time=   0.0s\n",
      "[CV 8/10] END class_weight=balanced, max_depth=5, min_samples_leaf=5, min_samples_split=10;, score=0.846 total time=   0.0s\n",
      "[CV 9/10] END class_weight=balanced, max_depth=5, min_samples_leaf=5, min_samples_split=10;, score=0.855 total time=   0.0s\n",
      "[CV 10/10] END class_weight=balanced, max_depth=5, min_samples_leaf=5, min_samples_split=10;, score=0.869 total time=   0.0s\n",
      "[CV 1/10] END class_weight=balanced, max_depth=5, min_samples_leaf=10, min_samples_split=1;, score=nan total time=   0.0s\n",
      "[CV 2/10] END class_weight=balanced, max_depth=5, min_samples_leaf=10, min_samples_split=1;, score=nan total time=   0.0s\n",
      "[CV 3/10] END class_weight=balanced, max_depth=5, min_samples_leaf=10, min_samples_split=1;, score=nan total time=   0.0s\n",
      "[CV 4/10] END class_weight=balanced, max_depth=5, min_samples_leaf=10, min_samples_split=1;, score=nan total time=   0.0s\n",
      "[CV 5/10] END class_weight=balanced, max_depth=5, min_samples_leaf=10, min_samples_split=1;, score=nan total time=   0.0s\n",
      "[CV 6/10] END class_weight=balanced, max_depth=5, min_samples_leaf=10, min_samples_split=1;, score=nan total time=   0.0s\n",
      "[CV 7/10] END class_weight=balanced, max_depth=5, min_samples_leaf=10, min_samples_split=1;, score=nan total time=   0.0s\n",
      "[CV 8/10] END class_weight=balanced, max_depth=5, min_samples_leaf=10, min_samples_split=1;, score=nan total time=   0.0s\n",
      "[CV 9/10] END class_weight=balanced, max_depth=5, min_samples_leaf=10, min_samples_split=1;, score=nan total time=   0.0s\n",
      "[CV 10/10] END class_weight=balanced, max_depth=5, min_samples_leaf=10, min_samples_split=1;, score=nan total time=   0.0s\n",
      "[CV 1/10] END class_weight=balanced, max_depth=5, min_samples_leaf=10, min_samples_split=5;, score=0.896 total time=   0.0s\n",
      "[CV 2/10] END class_weight=balanced, max_depth=5, min_samples_leaf=10, min_samples_split=5;, score=0.891 total time=   0.0s\n",
      "[CV 3/10] END class_weight=balanced, max_depth=5, min_samples_leaf=10, min_samples_split=5;, score=0.876 total time=   0.0s\n",
      "[CV 4/10] END class_weight=balanced, max_depth=5, min_samples_leaf=10, min_samples_split=5;, score=0.878 total time=   0.0s\n",
      "[CV 5/10] END class_weight=balanced, max_depth=5, min_samples_leaf=10, min_samples_split=5;, score=0.827 total time=   0.0s\n",
      "[CV 6/10] END class_weight=balanced, max_depth=5, min_samples_leaf=10, min_samples_split=5;, score=0.853 total time=   0.0s\n",
      "[CV 7/10] END class_weight=balanced, max_depth=5, min_samples_leaf=10, min_samples_split=5;, score=0.839 total time=   0.0s\n",
      "[CV 8/10] END class_weight=balanced, max_depth=5, min_samples_leaf=10, min_samples_split=5;, score=0.848 total time=   0.0s\n",
      "[CV 9/10] END class_weight=balanced, max_depth=5, min_samples_leaf=10, min_samples_split=5;, score=0.854 total time=   0.0s\n",
      "[CV 10/10] END class_weight=balanced, max_depth=5, min_samples_leaf=10, min_samples_split=5;, score=0.869 total time=   0.0s\n",
      "[CV 1/10] END class_weight=balanced, max_depth=5, min_samples_leaf=10, min_samples_split=10;, score=0.896 total time=   0.0s\n",
      "[CV 2/10] END class_weight=balanced, max_depth=5, min_samples_leaf=10, min_samples_split=10;, score=0.891 total time=   0.0s\n",
      "[CV 3/10] END class_weight=balanced, max_depth=5, min_samples_leaf=10, min_samples_split=10;, score=0.876 total time=   0.0s\n",
      "[CV 4/10] END class_weight=balanced, max_depth=5, min_samples_leaf=10, min_samples_split=10;, score=0.878 total time=   0.0s\n",
      "[CV 5/10] END class_weight=balanced, max_depth=5, min_samples_leaf=10, min_samples_split=10;, score=0.827 total time=   0.0s\n",
      "[CV 6/10] END class_weight=balanced, max_depth=5, min_samples_leaf=10, min_samples_split=10;, score=0.853 total time=   0.0s\n",
      "[CV 7/10] END class_weight=balanced, max_depth=5, min_samples_leaf=10, min_samples_split=10;, score=0.839 total time=   0.0s\n",
      "[CV 8/10] END class_weight=balanced, max_depth=5, min_samples_leaf=10, min_samples_split=10;, score=0.848 total time=   0.0s\n",
      "[CV 9/10] END class_weight=balanced, max_depth=5, min_samples_leaf=10, min_samples_split=10;, score=0.854 total time=   0.0s\n",
      "[CV 10/10] END class_weight=balanced, max_depth=5, min_samples_leaf=10, min_samples_split=10;, score=0.869 total time=   0.0s\n"
     ]
    },
    {
     "name": "stderr",
     "output_type": "stream",
     "text": [
      "C:\\Users\\ben8h\\anaconda3\\Lib\\site-packages\\sklearn\\model_selection\\_validation.py:547: FitFailedWarning: \n",
      "360 fits failed out of a total of 1080.\n",
      "The score on these train-test partitions for these parameters will be set to nan.\n",
      "If these failures are not expected, you can try to debug them by setting error_score='raise'.\n",
      "\n",
      "Below are more details about the failures:\n",
      "--------------------------------------------------------------------------------\n",
      "360 fits failed with the following error:\n",
      "Traceback (most recent call last):\n",
      "  File \"C:\\Users\\ben8h\\anaconda3\\Lib\\site-packages\\sklearn\\model_selection\\_validation.py\", line 895, in _fit_and_score\n",
      "    estimator.fit(X_train, y_train, **fit_params)\n",
      "  File \"C:\\Users\\ben8h\\anaconda3\\Lib\\site-packages\\sklearn\\base.py\", line 1467, in wrapper\n",
      "    estimator._validate_params()\n",
      "  File \"C:\\Users\\ben8h\\anaconda3\\Lib\\site-packages\\sklearn\\base.py\", line 666, in _validate_params\n",
      "    validate_parameter_constraints(\n",
      "  File \"C:\\Users\\ben8h\\anaconda3\\Lib\\site-packages\\sklearn\\utils\\_param_validation.py\", line 95, in validate_parameter_constraints\n",
      "    raise InvalidParameterError(\n",
      "sklearn.utils._param_validation.InvalidParameterError: The 'min_samples_split' parameter of DecisionTreeClassifier must be an int in the range [2, inf) or a float in the range (0.0, 1.0]. Got 1 instead.\n",
      "\n",
      "  warnings.warn(some_fits_failed_message, FitFailedWarning)\n",
      "C:\\Users\\ben8h\\anaconda3\\Lib\\site-packages\\sklearn\\model_selection\\_search.py:1051: UserWarning: One or more of the test scores are non-finite: [       nan 0.98299347 0.98325278        nan 0.98491212 0.98517138\n",
      "        nan 0.98636373 0.98641563        nan 0.98812674 0.98812674\n",
      "        nan 0.98812674 0.98812674        nan 0.98812674 0.98812674\n",
      "        nan 0.98771185 0.98771185        nan 0.98776372 0.98776372\n",
      "        nan 0.98781556 0.98781556        nan 0.98781561 0.98781561\n",
      "        nan 0.98791932 0.98791932        nan 0.98781556 0.98781556\n",
      "        nan 0.98781561 0.98776377        nan 0.98791932 0.988023\n",
      "        nan 0.98781556 0.98781556        nan 0.98724537 0.98724537\n",
      "        nan 0.98750457 0.98740089        nan 0.98745265 0.98745265\n",
      "        nan 0.95520318 0.9469593         nan 0.94053016 0.94068571\n",
      "        nan 0.9248711  0.92440435        nan 0.92715326 0.92715326\n",
      "        nan 0.92715326 0.92715326        nan 0.92715326 0.92715326\n",
      "        nan 0.81562733 0.81562733        nan 0.81562733 0.81562733\n",
      "        nan 0.81562733 0.81562733        nan 0.89267027 0.89267027\n",
      "        nan 0.89267027 0.89267027        nan 0.89261843 0.89267027\n",
      "        nan 0.87027497 0.87032681        nan 0.87027497 0.87027497\n",
      "        nan 0.87027497 0.87032681        nan 0.8631711  0.8631711\n",
      "        nan 0.8631711  0.8633266         nan 0.8631711  0.8631711 ]\n",
      "  warnings.warn(\n"
     ]
    },
    {
     "data": {
      "text/html": [
       "<style>#sk-container-id-1 {\n",
       "  /* Definition of color scheme common for light and dark mode */\n",
       "  --sklearn-color-text: black;\n",
       "  --sklearn-color-line: gray;\n",
       "  /* Definition of color scheme for unfitted estimators */\n",
       "  --sklearn-color-unfitted-level-0: #fff5e6;\n",
       "  --sklearn-color-unfitted-level-1: #f6e4d2;\n",
       "  --sklearn-color-unfitted-level-2: #ffe0b3;\n",
       "  --sklearn-color-unfitted-level-3: chocolate;\n",
       "  /* Definition of color scheme for fitted estimators */\n",
       "  --sklearn-color-fitted-level-0: #f0f8ff;\n",
       "  --sklearn-color-fitted-level-1: #d4ebff;\n",
       "  --sklearn-color-fitted-level-2: #b3dbfd;\n",
       "  --sklearn-color-fitted-level-3: cornflowerblue;\n",
       "\n",
       "  /* Specific color for light theme */\n",
       "  --sklearn-color-text-on-default-background: var(--sg-text-color, var(--theme-code-foreground, var(--jp-content-font-color1, black)));\n",
       "  --sklearn-color-background: var(--sg-background-color, var(--theme-background, var(--jp-layout-color0, white)));\n",
       "  --sklearn-color-border-box: var(--sg-text-color, var(--theme-code-foreground, var(--jp-content-font-color1, black)));\n",
       "  --sklearn-color-icon: #696969;\n",
       "\n",
       "  @media (prefers-color-scheme: dark) {\n",
       "    /* Redefinition of color scheme for dark theme */\n",
       "    --sklearn-color-text-on-default-background: var(--sg-text-color, var(--theme-code-foreground, var(--jp-content-font-color1, white)));\n",
       "    --sklearn-color-background: var(--sg-background-color, var(--theme-background, var(--jp-layout-color0, #111)));\n",
       "    --sklearn-color-border-box: var(--sg-text-color, var(--theme-code-foreground, var(--jp-content-font-color1, white)));\n",
       "    --sklearn-color-icon: #878787;\n",
       "  }\n",
       "}\n",
       "\n",
       "#sk-container-id-1 {\n",
       "  color: var(--sklearn-color-text);\n",
       "}\n",
       "\n",
       "#sk-container-id-1 pre {\n",
       "  padding: 0;\n",
       "}\n",
       "\n",
       "#sk-container-id-1 input.sk-hidden--visually {\n",
       "  border: 0;\n",
       "  clip: rect(1px 1px 1px 1px);\n",
       "  clip: rect(1px, 1px, 1px, 1px);\n",
       "  height: 1px;\n",
       "  margin: -1px;\n",
       "  overflow: hidden;\n",
       "  padding: 0;\n",
       "  position: absolute;\n",
       "  width: 1px;\n",
       "}\n",
       "\n",
       "#sk-container-id-1 div.sk-dashed-wrapped {\n",
       "  border: 1px dashed var(--sklearn-color-line);\n",
       "  margin: 0 0.4em 0.5em 0.4em;\n",
       "  box-sizing: border-box;\n",
       "  padding-bottom: 0.4em;\n",
       "  background-color: var(--sklearn-color-background);\n",
       "}\n",
       "\n",
       "#sk-container-id-1 div.sk-container {\n",
       "  /* jupyter's `normalize.less` sets `[hidden] { display: none; }`\n",
       "     but bootstrap.min.css set `[hidden] { display: none !important; }`\n",
       "     so we also need the `!important` here to be able to override the\n",
       "     default hidden behavior on the sphinx rendered scikit-learn.org.\n",
       "     See: https://github.com/scikit-learn/scikit-learn/issues/21755 */\n",
       "  display: inline-block !important;\n",
       "  position: relative;\n",
       "}\n",
       "\n",
       "#sk-container-id-1 div.sk-text-repr-fallback {\n",
       "  display: none;\n",
       "}\n",
       "\n",
       "div.sk-parallel-item,\n",
       "div.sk-serial,\n",
       "div.sk-item {\n",
       "  /* draw centered vertical line to link estimators */\n",
       "  background-image: linear-gradient(var(--sklearn-color-text-on-default-background), var(--sklearn-color-text-on-default-background));\n",
       "  background-size: 2px 100%;\n",
       "  background-repeat: no-repeat;\n",
       "  background-position: center center;\n",
       "}\n",
       "\n",
       "/* Parallel-specific style estimator block */\n",
       "\n",
       "#sk-container-id-1 div.sk-parallel-item::after {\n",
       "  content: \"\";\n",
       "  width: 100%;\n",
       "  border-bottom: 2px solid var(--sklearn-color-text-on-default-background);\n",
       "  flex-grow: 1;\n",
       "}\n",
       "\n",
       "#sk-container-id-1 div.sk-parallel {\n",
       "  display: flex;\n",
       "  align-items: stretch;\n",
       "  justify-content: center;\n",
       "  background-color: var(--sklearn-color-background);\n",
       "  position: relative;\n",
       "}\n",
       "\n",
       "#sk-container-id-1 div.sk-parallel-item {\n",
       "  display: flex;\n",
       "  flex-direction: column;\n",
       "}\n",
       "\n",
       "#sk-container-id-1 div.sk-parallel-item:first-child::after {\n",
       "  align-self: flex-end;\n",
       "  width: 50%;\n",
       "}\n",
       "\n",
       "#sk-container-id-1 div.sk-parallel-item:last-child::after {\n",
       "  align-self: flex-start;\n",
       "  width: 50%;\n",
       "}\n",
       "\n",
       "#sk-container-id-1 div.sk-parallel-item:only-child::after {\n",
       "  width: 0;\n",
       "}\n",
       "\n",
       "/* Serial-specific style estimator block */\n",
       "\n",
       "#sk-container-id-1 div.sk-serial {\n",
       "  display: flex;\n",
       "  flex-direction: column;\n",
       "  align-items: center;\n",
       "  background-color: var(--sklearn-color-background);\n",
       "  padding-right: 1em;\n",
       "  padding-left: 1em;\n",
       "}\n",
       "\n",
       "\n",
       "/* Toggleable style: style used for estimator/Pipeline/ColumnTransformer box that is\n",
       "clickable and can be expanded/collapsed.\n",
       "- Pipeline and ColumnTransformer use this feature and define the default style\n",
       "- Estimators will overwrite some part of the style using the `sk-estimator` class\n",
       "*/\n",
       "\n",
       "/* Pipeline and ColumnTransformer style (default) */\n",
       "\n",
       "#sk-container-id-1 div.sk-toggleable {\n",
       "  /* Default theme specific background. It is overwritten whether we have a\n",
       "  specific estimator or a Pipeline/ColumnTransformer */\n",
       "  background-color: var(--sklearn-color-background);\n",
       "}\n",
       "\n",
       "/* Toggleable label */\n",
       "#sk-container-id-1 label.sk-toggleable__label {\n",
       "  cursor: pointer;\n",
       "  display: block;\n",
       "  width: 100%;\n",
       "  margin-bottom: 0;\n",
       "  padding: 0.5em;\n",
       "  box-sizing: border-box;\n",
       "  text-align: center;\n",
       "}\n",
       "\n",
       "#sk-container-id-1 label.sk-toggleable__label-arrow:before {\n",
       "  /* Arrow on the left of the label */\n",
       "  content: \"▸\";\n",
       "  float: left;\n",
       "  margin-right: 0.25em;\n",
       "  color: var(--sklearn-color-icon);\n",
       "}\n",
       "\n",
       "#sk-container-id-1 label.sk-toggleable__label-arrow:hover:before {\n",
       "  color: var(--sklearn-color-text);\n",
       "}\n",
       "\n",
       "/* Toggleable content - dropdown */\n",
       "\n",
       "#sk-container-id-1 div.sk-toggleable__content {\n",
       "  max-height: 0;\n",
       "  max-width: 0;\n",
       "  overflow: hidden;\n",
       "  text-align: left;\n",
       "  /* unfitted */\n",
       "  background-color: var(--sklearn-color-unfitted-level-0);\n",
       "}\n",
       "\n",
       "#sk-container-id-1 div.sk-toggleable__content.fitted {\n",
       "  /* fitted */\n",
       "  background-color: var(--sklearn-color-fitted-level-0);\n",
       "}\n",
       "\n",
       "#sk-container-id-1 div.sk-toggleable__content pre {\n",
       "  margin: 0.2em;\n",
       "  border-radius: 0.25em;\n",
       "  color: var(--sklearn-color-text);\n",
       "  /* unfitted */\n",
       "  background-color: var(--sklearn-color-unfitted-level-0);\n",
       "}\n",
       "\n",
       "#sk-container-id-1 div.sk-toggleable__content.fitted pre {\n",
       "  /* unfitted */\n",
       "  background-color: var(--sklearn-color-fitted-level-0);\n",
       "}\n",
       "\n",
       "#sk-container-id-1 input.sk-toggleable__control:checked~div.sk-toggleable__content {\n",
       "  /* Expand drop-down */\n",
       "  max-height: 200px;\n",
       "  max-width: 100%;\n",
       "  overflow: auto;\n",
       "}\n",
       "\n",
       "#sk-container-id-1 input.sk-toggleable__control:checked~label.sk-toggleable__label-arrow:before {\n",
       "  content: \"▾\";\n",
       "}\n",
       "\n",
       "/* Pipeline/ColumnTransformer-specific style */\n",
       "\n",
       "#sk-container-id-1 div.sk-label input.sk-toggleable__control:checked~label.sk-toggleable__label {\n",
       "  color: var(--sklearn-color-text);\n",
       "  background-color: var(--sklearn-color-unfitted-level-2);\n",
       "}\n",
       "\n",
       "#sk-container-id-1 div.sk-label.fitted input.sk-toggleable__control:checked~label.sk-toggleable__label {\n",
       "  background-color: var(--sklearn-color-fitted-level-2);\n",
       "}\n",
       "\n",
       "/* Estimator-specific style */\n",
       "\n",
       "/* Colorize estimator box */\n",
       "#sk-container-id-1 div.sk-estimator input.sk-toggleable__control:checked~label.sk-toggleable__label {\n",
       "  /* unfitted */\n",
       "  background-color: var(--sklearn-color-unfitted-level-2);\n",
       "}\n",
       "\n",
       "#sk-container-id-1 div.sk-estimator.fitted input.sk-toggleable__control:checked~label.sk-toggleable__label {\n",
       "  /* fitted */\n",
       "  background-color: var(--sklearn-color-fitted-level-2);\n",
       "}\n",
       "\n",
       "#sk-container-id-1 div.sk-label label.sk-toggleable__label,\n",
       "#sk-container-id-1 div.sk-label label {\n",
       "  /* The background is the default theme color */\n",
       "  color: var(--sklearn-color-text-on-default-background);\n",
       "}\n",
       "\n",
       "/* On hover, darken the color of the background */\n",
       "#sk-container-id-1 div.sk-label:hover label.sk-toggleable__label {\n",
       "  color: var(--sklearn-color-text);\n",
       "  background-color: var(--sklearn-color-unfitted-level-2);\n",
       "}\n",
       "\n",
       "/* Label box, darken color on hover, fitted */\n",
       "#sk-container-id-1 div.sk-label.fitted:hover label.sk-toggleable__label.fitted {\n",
       "  color: var(--sklearn-color-text);\n",
       "  background-color: var(--sklearn-color-fitted-level-2);\n",
       "}\n",
       "\n",
       "/* Estimator label */\n",
       "\n",
       "#sk-container-id-1 div.sk-label label {\n",
       "  font-family: monospace;\n",
       "  font-weight: bold;\n",
       "  display: inline-block;\n",
       "  line-height: 1.2em;\n",
       "}\n",
       "\n",
       "#sk-container-id-1 div.sk-label-container {\n",
       "  text-align: center;\n",
       "}\n",
       "\n",
       "/* Estimator-specific */\n",
       "#sk-container-id-1 div.sk-estimator {\n",
       "  font-family: monospace;\n",
       "  border: 1px dotted var(--sklearn-color-border-box);\n",
       "  border-radius: 0.25em;\n",
       "  box-sizing: border-box;\n",
       "  margin-bottom: 0.5em;\n",
       "  /* unfitted */\n",
       "  background-color: var(--sklearn-color-unfitted-level-0);\n",
       "}\n",
       "\n",
       "#sk-container-id-1 div.sk-estimator.fitted {\n",
       "  /* fitted */\n",
       "  background-color: var(--sklearn-color-fitted-level-0);\n",
       "}\n",
       "\n",
       "/* on hover */\n",
       "#sk-container-id-1 div.sk-estimator:hover {\n",
       "  /* unfitted */\n",
       "  background-color: var(--sklearn-color-unfitted-level-2);\n",
       "}\n",
       "\n",
       "#sk-container-id-1 div.sk-estimator.fitted:hover {\n",
       "  /* fitted */\n",
       "  background-color: var(--sklearn-color-fitted-level-2);\n",
       "}\n",
       "\n",
       "/* Specification for estimator info (e.g. \"i\" and \"?\") */\n",
       "\n",
       "/* Common style for \"i\" and \"?\" */\n",
       "\n",
       ".sk-estimator-doc-link,\n",
       "a:link.sk-estimator-doc-link,\n",
       "a:visited.sk-estimator-doc-link {\n",
       "  float: right;\n",
       "  font-size: smaller;\n",
       "  line-height: 1em;\n",
       "  font-family: monospace;\n",
       "  background-color: var(--sklearn-color-background);\n",
       "  border-radius: 1em;\n",
       "  height: 1em;\n",
       "  width: 1em;\n",
       "  text-decoration: none !important;\n",
       "  margin-left: 1ex;\n",
       "  /* unfitted */\n",
       "  border: var(--sklearn-color-unfitted-level-1) 1pt solid;\n",
       "  color: var(--sklearn-color-unfitted-level-1);\n",
       "}\n",
       "\n",
       ".sk-estimator-doc-link.fitted,\n",
       "a:link.sk-estimator-doc-link.fitted,\n",
       "a:visited.sk-estimator-doc-link.fitted {\n",
       "  /* fitted */\n",
       "  border: var(--sklearn-color-fitted-level-1) 1pt solid;\n",
       "  color: var(--sklearn-color-fitted-level-1);\n",
       "}\n",
       "\n",
       "/* On hover */\n",
       "div.sk-estimator:hover .sk-estimator-doc-link:hover,\n",
       ".sk-estimator-doc-link:hover,\n",
       "div.sk-label-container:hover .sk-estimator-doc-link:hover,\n",
       ".sk-estimator-doc-link:hover {\n",
       "  /* unfitted */\n",
       "  background-color: var(--sklearn-color-unfitted-level-3);\n",
       "  color: var(--sklearn-color-background);\n",
       "  text-decoration: none;\n",
       "}\n",
       "\n",
       "div.sk-estimator.fitted:hover .sk-estimator-doc-link.fitted:hover,\n",
       ".sk-estimator-doc-link.fitted:hover,\n",
       "div.sk-label-container:hover .sk-estimator-doc-link.fitted:hover,\n",
       ".sk-estimator-doc-link.fitted:hover {\n",
       "  /* fitted */\n",
       "  background-color: var(--sklearn-color-fitted-level-3);\n",
       "  color: var(--sklearn-color-background);\n",
       "  text-decoration: none;\n",
       "}\n",
       "\n",
       "/* Span, style for the box shown on hovering the info icon */\n",
       ".sk-estimator-doc-link span {\n",
       "  display: none;\n",
       "  z-index: 9999;\n",
       "  position: relative;\n",
       "  font-weight: normal;\n",
       "  right: .2ex;\n",
       "  padding: .5ex;\n",
       "  margin: .5ex;\n",
       "  width: min-content;\n",
       "  min-width: 20ex;\n",
       "  max-width: 50ex;\n",
       "  color: var(--sklearn-color-text);\n",
       "  box-shadow: 2pt 2pt 4pt #999;\n",
       "  /* unfitted */\n",
       "  background: var(--sklearn-color-unfitted-level-0);\n",
       "  border: .5pt solid var(--sklearn-color-unfitted-level-3);\n",
       "}\n",
       "\n",
       ".sk-estimator-doc-link.fitted span {\n",
       "  /* fitted */\n",
       "  background: var(--sklearn-color-fitted-level-0);\n",
       "  border: var(--sklearn-color-fitted-level-3);\n",
       "}\n",
       "\n",
       ".sk-estimator-doc-link:hover span {\n",
       "  display: block;\n",
       "}\n",
       "\n",
       "/* \"?\"-specific style due to the `<a>` HTML tag */\n",
       "\n",
       "#sk-container-id-1 a.estimator_doc_link {\n",
       "  float: right;\n",
       "  font-size: 1rem;\n",
       "  line-height: 1em;\n",
       "  font-family: monospace;\n",
       "  background-color: var(--sklearn-color-background);\n",
       "  border-radius: 1rem;\n",
       "  height: 1rem;\n",
       "  width: 1rem;\n",
       "  text-decoration: none;\n",
       "  /* unfitted */\n",
       "  color: var(--sklearn-color-unfitted-level-1);\n",
       "  border: var(--sklearn-color-unfitted-level-1) 1pt solid;\n",
       "}\n",
       "\n",
       "#sk-container-id-1 a.estimator_doc_link.fitted {\n",
       "  /* fitted */\n",
       "  border: var(--sklearn-color-fitted-level-1) 1pt solid;\n",
       "  color: var(--sklearn-color-fitted-level-1);\n",
       "}\n",
       "\n",
       "/* On hover */\n",
       "#sk-container-id-1 a.estimator_doc_link:hover {\n",
       "  /* unfitted */\n",
       "  background-color: var(--sklearn-color-unfitted-level-3);\n",
       "  color: var(--sklearn-color-background);\n",
       "  text-decoration: none;\n",
       "}\n",
       "\n",
       "#sk-container-id-1 a.estimator_doc_link.fitted:hover {\n",
       "  /* fitted */\n",
       "  background-color: var(--sklearn-color-fitted-level-3);\n",
       "}\n",
       "</style><div id=\"sk-container-id-1\" class=\"sk-top-container\"><div class=\"sk-text-repr-fallback\"><pre>GridSearchCV(cv=StratifiedKFold(n_splits=10, random_state=458, shuffle=True),\n",
       "             estimator=DecisionTreeClassifier(),\n",
       "             param_grid={&#x27;class_weight&#x27;: [None, &#x27;balanced&#x27;],\n",
       "                         &#x27;max_depth&#x27;: [None, 1, 2, 3, 4, 5],\n",
       "                         &#x27;min_samples_leaf&#x27;: [1, 5, 10],\n",
       "                         &#x27;min_samples_split&#x27;: [1, 5, 10]},\n",
       "             verbose=3)</pre><b>In a Jupyter environment, please rerun this cell to show the HTML representation or trust the notebook. <br />On GitHub, the HTML representation is unable to render, please try loading this page with nbviewer.org.</b></div><div class=\"sk-container\" hidden><div class=\"sk-item sk-dashed-wrapped\"><div class=\"sk-label-container\"><div class=\"sk-label fitted sk-toggleable\"><input class=\"sk-toggleable__control sk-hidden--visually\" id=\"sk-estimator-id-1\" type=\"checkbox\" ><label for=\"sk-estimator-id-1\" class=\"sk-toggleable__label fitted sk-toggleable__label-arrow fitted\">&nbsp;&nbsp;GridSearchCV<a class=\"sk-estimator-doc-link fitted\" rel=\"noreferrer\" target=\"_blank\" href=\"https://scikit-learn.org/1.4/modules/generated/sklearn.model_selection.GridSearchCV.html\">?<span>Documentation for GridSearchCV</span></a><span class=\"sk-estimator-doc-link fitted\">i<span>Fitted</span></span></label><div class=\"sk-toggleable__content fitted\"><pre>GridSearchCV(cv=StratifiedKFold(n_splits=10, random_state=458, shuffle=True),\n",
       "             estimator=DecisionTreeClassifier(),\n",
       "             param_grid={&#x27;class_weight&#x27;: [None, &#x27;balanced&#x27;],\n",
       "                         &#x27;max_depth&#x27;: [None, 1, 2, 3, 4, 5],\n",
       "                         &#x27;min_samples_leaf&#x27;: [1, 5, 10],\n",
       "                         &#x27;min_samples_split&#x27;: [1, 5, 10]},\n",
       "             verbose=3)</pre></div> </div></div><div class=\"sk-parallel\"><div class=\"sk-parallel-item\"><div class=\"sk-item\"><div class=\"sk-label-container\"><div class=\"sk-label fitted sk-toggleable\"><input class=\"sk-toggleable__control sk-hidden--visually\" id=\"sk-estimator-id-2\" type=\"checkbox\" ><label for=\"sk-estimator-id-2\" class=\"sk-toggleable__label fitted sk-toggleable__label-arrow fitted\">estimator: DecisionTreeClassifier</label><div class=\"sk-toggleable__content fitted\"><pre>DecisionTreeClassifier()</pre></div> </div></div><div class=\"sk-serial\"><div class=\"sk-item\"><div class=\"sk-estimator fitted sk-toggleable\"><input class=\"sk-toggleable__control sk-hidden--visually\" id=\"sk-estimator-id-3\" type=\"checkbox\" ><label for=\"sk-estimator-id-3\" class=\"sk-toggleable__label fitted sk-toggleable__label-arrow fitted\">&nbsp;DecisionTreeClassifier<a class=\"sk-estimator-doc-link fitted\" rel=\"noreferrer\" target=\"_blank\" href=\"https://scikit-learn.org/1.4/modules/generated/sklearn.tree.DecisionTreeClassifier.html\">?<span>Documentation for DecisionTreeClassifier</span></a></label><div class=\"sk-toggleable__content fitted\"><pre>DecisionTreeClassifier()</pre></div> </div></div></div></div></div></div></div></div></div>"
      ],
      "text/plain": [
       "GridSearchCV(cv=StratifiedKFold(n_splits=10, random_state=458, shuffle=True),\n",
       "             estimator=DecisionTreeClassifier(),\n",
       "             param_grid={'class_weight': [None, 'balanced'],\n",
       "                         'max_depth': [None, 1, 2, 3, 4, 5],\n",
       "                         'min_samples_leaf': [1, 5, 10],\n",
       "                         'min_samples_split': [1, 5, 10]},\n",
       "             verbose=3)"
      ]
     },
     "execution_count": 34,
     "metadata": {},
     "output_type": "execute_result"
    }
   ],
   "source": [
    "state = 458\n",
    "\n",
    "cv_obj = StratifiedKFold(n_splits=10, shuffle=True, random_state=state)\n",
    "\n",
    "grid_search = GridSearchCV(DecisionTreeClassifier(), param_grid, verbose=3, cv=cv_obj)\n",
    "\n",
    "grid_search.fit(fielding_training, gold_glove_train)"
   ]
  },
  {
   "cell_type": "code",
   "execution_count": 38,
   "id": "cb492327-192a-4af5-bd53-2fe010978a44",
   "metadata": {},
   "outputs": [
    {
     "data": {
      "text/plain": [
       "0.9881267356293654"
      ]
     },
     "execution_count": 38,
     "metadata": {},
     "output_type": "execute_result"
    }
   ],
   "source": [
    "grid_search.best_score_"
   ]
  },
  {
   "cell_type": "code",
   "execution_count": 40,
   "id": "8de98f65-5279-41f6-9966-560228573180",
   "metadata": {},
   "outputs": [
    {
     "data": {
      "text/plain": [
       "{'class_weight': None,\n",
       " 'max_depth': 1,\n",
       " 'min_samples_leaf': 1,\n",
       " 'min_samples_split': 5}"
      ]
     },
     "execution_count": 40,
     "metadata": {},
     "output_type": "execute_result"
    }
   ],
   "source": [
    "grid_search.best_params_"
   ]
  },
  {
   "cell_type": "code",
   "execution_count": 42,
   "id": "f9ef34c6-71cd-4be5-8f14-666ff20db382",
   "metadata": {},
   "outputs": [
    {
     "data": {
      "text/html": [
       "<style>#sk-container-id-2 {\n",
       "  /* Definition of color scheme common for light and dark mode */\n",
       "  --sklearn-color-text: black;\n",
       "  --sklearn-color-line: gray;\n",
       "  /* Definition of color scheme for unfitted estimators */\n",
       "  --sklearn-color-unfitted-level-0: #fff5e6;\n",
       "  --sklearn-color-unfitted-level-1: #f6e4d2;\n",
       "  --sklearn-color-unfitted-level-2: #ffe0b3;\n",
       "  --sklearn-color-unfitted-level-3: chocolate;\n",
       "  /* Definition of color scheme for fitted estimators */\n",
       "  --sklearn-color-fitted-level-0: #f0f8ff;\n",
       "  --sklearn-color-fitted-level-1: #d4ebff;\n",
       "  --sklearn-color-fitted-level-2: #b3dbfd;\n",
       "  --sklearn-color-fitted-level-3: cornflowerblue;\n",
       "\n",
       "  /* Specific color for light theme */\n",
       "  --sklearn-color-text-on-default-background: var(--sg-text-color, var(--theme-code-foreground, var(--jp-content-font-color1, black)));\n",
       "  --sklearn-color-background: var(--sg-background-color, var(--theme-background, var(--jp-layout-color0, white)));\n",
       "  --sklearn-color-border-box: var(--sg-text-color, var(--theme-code-foreground, var(--jp-content-font-color1, black)));\n",
       "  --sklearn-color-icon: #696969;\n",
       "\n",
       "  @media (prefers-color-scheme: dark) {\n",
       "    /* Redefinition of color scheme for dark theme */\n",
       "    --sklearn-color-text-on-default-background: var(--sg-text-color, var(--theme-code-foreground, var(--jp-content-font-color1, white)));\n",
       "    --sklearn-color-background: var(--sg-background-color, var(--theme-background, var(--jp-layout-color0, #111)));\n",
       "    --sklearn-color-border-box: var(--sg-text-color, var(--theme-code-foreground, var(--jp-content-font-color1, white)));\n",
       "    --sklearn-color-icon: #878787;\n",
       "  }\n",
       "}\n",
       "\n",
       "#sk-container-id-2 {\n",
       "  color: var(--sklearn-color-text);\n",
       "}\n",
       "\n",
       "#sk-container-id-2 pre {\n",
       "  padding: 0;\n",
       "}\n",
       "\n",
       "#sk-container-id-2 input.sk-hidden--visually {\n",
       "  border: 0;\n",
       "  clip: rect(1px 1px 1px 1px);\n",
       "  clip: rect(1px, 1px, 1px, 1px);\n",
       "  height: 1px;\n",
       "  margin: -1px;\n",
       "  overflow: hidden;\n",
       "  padding: 0;\n",
       "  position: absolute;\n",
       "  width: 1px;\n",
       "}\n",
       "\n",
       "#sk-container-id-2 div.sk-dashed-wrapped {\n",
       "  border: 1px dashed var(--sklearn-color-line);\n",
       "  margin: 0 0.4em 0.5em 0.4em;\n",
       "  box-sizing: border-box;\n",
       "  padding-bottom: 0.4em;\n",
       "  background-color: var(--sklearn-color-background);\n",
       "}\n",
       "\n",
       "#sk-container-id-2 div.sk-container {\n",
       "  /* jupyter's `normalize.less` sets `[hidden] { display: none; }`\n",
       "     but bootstrap.min.css set `[hidden] { display: none !important; }`\n",
       "     so we also need the `!important` here to be able to override the\n",
       "     default hidden behavior on the sphinx rendered scikit-learn.org.\n",
       "     See: https://github.com/scikit-learn/scikit-learn/issues/21755 */\n",
       "  display: inline-block !important;\n",
       "  position: relative;\n",
       "}\n",
       "\n",
       "#sk-container-id-2 div.sk-text-repr-fallback {\n",
       "  display: none;\n",
       "}\n",
       "\n",
       "div.sk-parallel-item,\n",
       "div.sk-serial,\n",
       "div.sk-item {\n",
       "  /* draw centered vertical line to link estimators */\n",
       "  background-image: linear-gradient(var(--sklearn-color-text-on-default-background), var(--sklearn-color-text-on-default-background));\n",
       "  background-size: 2px 100%;\n",
       "  background-repeat: no-repeat;\n",
       "  background-position: center center;\n",
       "}\n",
       "\n",
       "/* Parallel-specific style estimator block */\n",
       "\n",
       "#sk-container-id-2 div.sk-parallel-item::after {\n",
       "  content: \"\";\n",
       "  width: 100%;\n",
       "  border-bottom: 2px solid var(--sklearn-color-text-on-default-background);\n",
       "  flex-grow: 1;\n",
       "}\n",
       "\n",
       "#sk-container-id-2 div.sk-parallel {\n",
       "  display: flex;\n",
       "  align-items: stretch;\n",
       "  justify-content: center;\n",
       "  background-color: var(--sklearn-color-background);\n",
       "  position: relative;\n",
       "}\n",
       "\n",
       "#sk-container-id-2 div.sk-parallel-item {\n",
       "  display: flex;\n",
       "  flex-direction: column;\n",
       "}\n",
       "\n",
       "#sk-container-id-2 div.sk-parallel-item:first-child::after {\n",
       "  align-self: flex-end;\n",
       "  width: 50%;\n",
       "}\n",
       "\n",
       "#sk-container-id-2 div.sk-parallel-item:last-child::after {\n",
       "  align-self: flex-start;\n",
       "  width: 50%;\n",
       "}\n",
       "\n",
       "#sk-container-id-2 div.sk-parallel-item:only-child::after {\n",
       "  width: 0;\n",
       "}\n",
       "\n",
       "/* Serial-specific style estimator block */\n",
       "\n",
       "#sk-container-id-2 div.sk-serial {\n",
       "  display: flex;\n",
       "  flex-direction: column;\n",
       "  align-items: center;\n",
       "  background-color: var(--sklearn-color-background);\n",
       "  padding-right: 1em;\n",
       "  padding-left: 1em;\n",
       "}\n",
       "\n",
       "\n",
       "/* Toggleable style: style used for estimator/Pipeline/ColumnTransformer box that is\n",
       "clickable and can be expanded/collapsed.\n",
       "- Pipeline and ColumnTransformer use this feature and define the default style\n",
       "- Estimators will overwrite some part of the style using the `sk-estimator` class\n",
       "*/\n",
       "\n",
       "/* Pipeline and ColumnTransformer style (default) */\n",
       "\n",
       "#sk-container-id-2 div.sk-toggleable {\n",
       "  /* Default theme specific background. It is overwritten whether we have a\n",
       "  specific estimator or a Pipeline/ColumnTransformer */\n",
       "  background-color: var(--sklearn-color-background);\n",
       "}\n",
       "\n",
       "/* Toggleable label */\n",
       "#sk-container-id-2 label.sk-toggleable__label {\n",
       "  cursor: pointer;\n",
       "  display: block;\n",
       "  width: 100%;\n",
       "  margin-bottom: 0;\n",
       "  padding: 0.5em;\n",
       "  box-sizing: border-box;\n",
       "  text-align: center;\n",
       "}\n",
       "\n",
       "#sk-container-id-2 label.sk-toggleable__label-arrow:before {\n",
       "  /* Arrow on the left of the label */\n",
       "  content: \"▸\";\n",
       "  float: left;\n",
       "  margin-right: 0.25em;\n",
       "  color: var(--sklearn-color-icon);\n",
       "}\n",
       "\n",
       "#sk-container-id-2 label.sk-toggleable__label-arrow:hover:before {\n",
       "  color: var(--sklearn-color-text);\n",
       "}\n",
       "\n",
       "/* Toggleable content - dropdown */\n",
       "\n",
       "#sk-container-id-2 div.sk-toggleable__content {\n",
       "  max-height: 0;\n",
       "  max-width: 0;\n",
       "  overflow: hidden;\n",
       "  text-align: left;\n",
       "  /* unfitted */\n",
       "  background-color: var(--sklearn-color-unfitted-level-0);\n",
       "}\n",
       "\n",
       "#sk-container-id-2 div.sk-toggleable__content.fitted {\n",
       "  /* fitted */\n",
       "  background-color: var(--sklearn-color-fitted-level-0);\n",
       "}\n",
       "\n",
       "#sk-container-id-2 div.sk-toggleable__content pre {\n",
       "  margin: 0.2em;\n",
       "  border-radius: 0.25em;\n",
       "  color: var(--sklearn-color-text);\n",
       "  /* unfitted */\n",
       "  background-color: var(--sklearn-color-unfitted-level-0);\n",
       "}\n",
       "\n",
       "#sk-container-id-2 div.sk-toggleable__content.fitted pre {\n",
       "  /* unfitted */\n",
       "  background-color: var(--sklearn-color-fitted-level-0);\n",
       "}\n",
       "\n",
       "#sk-container-id-2 input.sk-toggleable__control:checked~div.sk-toggleable__content {\n",
       "  /* Expand drop-down */\n",
       "  max-height: 200px;\n",
       "  max-width: 100%;\n",
       "  overflow: auto;\n",
       "}\n",
       "\n",
       "#sk-container-id-2 input.sk-toggleable__control:checked~label.sk-toggleable__label-arrow:before {\n",
       "  content: \"▾\";\n",
       "}\n",
       "\n",
       "/* Pipeline/ColumnTransformer-specific style */\n",
       "\n",
       "#sk-container-id-2 div.sk-label input.sk-toggleable__control:checked~label.sk-toggleable__label {\n",
       "  color: var(--sklearn-color-text);\n",
       "  background-color: var(--sklearn-color-unfitted-level-2);\n",
       "}\n",
       "\n",
       "#sk-container-id-2 div.sk-label.fitted input.sk-toggleable__control:checked~label.sk-toggleable__label {\n",
       "  background-color: var(--sklearn-color-fitted-level-2);\n",
       "}\n",
       "\n",
       "/* Estimator-specific style */\n",
       "\n",
       "/* Colorize estimator box */\n",
       "#sk-container-id-2 div.sk-estimator input.sk-toggleable__control:checked~label.sk-toggleable__label {\n",
       "  /* unfitted */\n",
       "  background-color: var(--sklearn-color-unfitted-level-2);\n",
       "}\n",
       "\n",
       "#sk-container-id-2 div.sk-estimator.fitted input.sk-toggleable__control:checked~label.sk-toggleable__label {\n",
       "  /* fitted */\n",
       "  background-color: var(--sklearn-color-fitted-level-2);\n",
       "}\n",
       "\n",
       "#sk-container-id-2 div.sk-label label.sk-toggleable__label,\n",
       "#sk-container-id-2 div.sk-label label {\n",
       "  /* The background is the default theme color */\n",
       "  color: var(--sklearn-color-text-on-default-background);\n",
       "}\n",
       "\n",
       "/* On hover, darken the color of the background */\n",
       "#sk-container-id-2 div.sk-label:hover label.sk-toggleable__label {\n",
       "  color: var(--sklearn-color-text);\n",
       "  background-color: var(--sklearn-color-unfitted-level-2);\n",
       "}\n",
       "\n",
       "/* Label box, darken color on hover, fitted */\n",
       "#sk-container-id-2 div.sk-label.fitted:hover label.sk-toggleable__label.fitted {\n",
       "  color: var(--sklearn-color-text);\n",
       "  background-color: var(--sklearn-color-fitted-level-2);\n",
       "}\n",
       "\n",
       "/* Estimator label */\n",
       "\n",
       "#sk-container-id-2 div.sk-label label {\n",
       "  font-family: monospace;\n",
       "  font-weight: bold;\n",
       "  display: inline-block;\n",
       "  line-height: 1.2em;\n",
       "}\n",
       "\n",
       "#sk-container-id-2 div.sk-label-container {\n",
       "  text-align: center;\n",
       "}\n",
       "\n",
       "/* Estimator-specific */\n",
       "#sk-container-id-2 div.sk-estimator {\n",
       "  font-family: monospace;\n",
       "  border: 1px dotted var(--sklearn-color-border-box);\n",
       "  border-radius: 0.25em;\n",
       "  box-sizing: border-box;\n",
       "  margin-bottom: 0.5em;\n",
       "  /* unfitted */\n",
       "  background-color: var(--sklearn-color-unfitted-level-0);\n",
       "}\n",
       "\n",
       "#sk-container-id-2 div.sk-estimator.fitted {\n",
       "  /* fitted */\n",
       "  background-color: var(--sklearn-color-fitted-level-0);\n",
       "}\n",
       "\n",
       "/* on hover */\n",
       "#sk-container-id-2 div.sk-estimator:hover {\n",
       "  /* unfitted */\n",
       "  background-color: var(--sklearn-color-unfitted-level-2);\n",
       "}\n",
       "\n",
       "#sk-container-id-2 div.sk-estimator.fitted:hover {\n",
       "  /* fitted */\n",
       "  background-color: var(--sklearn-color-fitted-level-2);\n",
       "}\n",
       "\n",
       "/* Specification for estimator info (e.g. \"i\" and \"?\") */\n",
       "\n",
       "/* Common style for \"i\" and \"?\" */\n",
       "\n",
       ".sk-estimator-doc-link,\n",
       "a:link.sk-estimator-doc-link,\n",
       "a:visited.sk-estimator-doc-link {\n",
       "  float: right;\n",
       "  font-size: smaller;\n",
       "  line-height: 1em;\n",
       "  font-family: monospace;\n",
       "  background-color: var(--sklearn-color-background);\n",
       "  border-radius: 1em;\n",
       "  height: 1em;\n",
       "  width: 1em;\n",
       "  text-decoration: none !important;\n",
       "  margin-left: 1ex;\n",
       "  /* unfitted */\n",
       "  border: var(--sklearn-color-unfitted-level-1) 1pt solid;\n",
       "  color: var(--sklearn-color-unfitted-level-1);\n",
       "}\n",
       "\n",
       ".sk-estimator-doc-link.fitted,\n",
       "a:link.sk-estimator-doc-link.fitted,\n",
       "a:visited.sk-estimator-doc-link.fitted {\n",
       "  /* fitted */\n",
       "  border: var(--sklearn-color-fitted-level-1) 1pt solid;\n",
       "  color: var(--sklearn-color-fitted-level-1);\n",
       "}\n",
       "\n",
       "/* On hover */\n",
       "div.sk-estimator:hover .sk-estimator-doc-link:hover,\n",
       ".sk-estimator-doc-link:hover,\n",
       "div.sk-label-container:hover .sk-estimator-doc-link:hover,\n",
       ".sk-estimator-doc-link:hover {\n",
       "  /* unfitted */\n",
       "  background-color: var(--sklearn-color-unfitted-level-3);\n",
       "  color: var(--sklearn-color-background);\n",
       "  text-decoration: none;\n",
       "}\n",
       "\n",
       "div.sk-estimator.fitted:hover .sk-estimator-doc-link.fitted:hover,\n",
       ".sk-estimator-doc-link.fitted:hover,\n",
       "div.sk-label-container:hover .sk-estimator-doc-link.fitted:hover,\n",
       ".sk-estimator-doc-link.fitted:hover {\n",
       "  /* fitted */\n",
       "  background-color: var(--sklearn-color-fitted-level-3);\n",
       "  color: var(--sklearn-color-background);\n",
       "  text-decoration: none;\n",
       "}\n",
       "\n",
       "/* Span, style for the box shown on hovering the info icon */\n",
       ".sk-estimator-doc-link span {\n",
       "  display: none;\n",
       "  z-index: 9999;\n",
       "  position: relative;\n",
       "  font-weight: normal;\n",
       "  right: .2ex;\n",
       "  padding: .5ex;\n",
       "  margin: .5ex;\n",
       "  width: min-content;\n",
       "  min-width: 20ex;\n",
       "  max-width: 50ex;\n",
       "  color: var(--sklearn-color-text);\n",
       "  box-shadow: 2pt 2pt 4pt #999;\n",
       "  /* unfitted */\n",
       "  background: var(--sklearn-color-unfitted-level-0);\n",
       "  border: .5pt solid var(--sklearn-color-unfitted-level-3);\n",
       "}\n",
       "\n",
       ".sk-estimator-doc-link.fitted span {\n",
       "  /* fitted */\n",
       "  background: var(--sklearn-color-fitted-level-0);\n",
       "  border: var(--sklearn-color-fitted-level-3);\n",
       "}\n",
       "\n",
       ".sk-estimator-doc-link:hover span {\n",
       "  display: block;\n",
       "}\n",
       "\n",
       "/* \"?\"-specific style due to the `<a>` HTML tag */\n",
       "\n",
       "#sk-container-id-2 a.estimator_doc_link {\n",
       "  float: right;\n",
       "  font-size: 1rem;\n",
       "  line-height: 1em;\n",
       "  font-family: monospace;\n",
       "  background-color: var(--sklearn-color-background);\n",
       "  border-radius: 1rem;\n",
       "  height: 1rem;\n",
       "  width: 1rem;\n",
       "  text-decoration: none;\n",
       "  /* unfitted */\n",
       "  color: var(--sklearn-color-unfitted-level-1);\n",
       "  border: var(--sklearn-color-unfitted-level-1) 1pt solid;\n",
       "}\n",
       "\n",
       "#sk-container-id-2 a.estimator_doc_link.fitted {\n",
       "  /* fitted */\n",
       "  border: var(--sklearn-color-fitted-level-1) 1pt solid;\n",
       "  color: var(--sklearn-color-fitted-level-1);\n",
       "}\n",
       "\n",
       "/* On hover */\n",
       "#sk-container-id-2 a.estimator_doc_link:hover {\n",
       "  /* unfitted */\n",
       "  background-color: var(--sklearn-color-unfitted-level-3);\n",
       "  color: var(--sklearn-color-background);\n",
       "  text-decoration: none;\n",
       "}\n",
       "\n",
       "#sk-container-id-2 a.estimator_doc_link.fitted:hover {\n",
       "  /* fitted */\n",
       "  background-color: var(--sklearn-color-fitted-level-3);\n",
       "}\n",
       "</style><div id=\"sk-container-id-2\" class=\"sk-top-container\"><div class=\"sk-text-repr-fallback\"><pre>DecisionTreeClassifier(max_depth=1, min_samples_split=5)</pre><b>In a Jupyter environment, please rerun this cell to show the HTML representation or trust the notebook. <br />On GitHub, the HTML representation is unable to render, please try loading this page with nbviewer.org.</b></div><div class=\"sk-container\" hidden><div class=\"sk-item\"><div class=\"sk-estimator fitted sk-toggleable\"><input class=\"sk-toggleable__control sk-hidden--visually\" id=\"sk-estimator-id-4\" type=\"checkbox\" checked><label for=\"sk-estimator-id-4\" class=\"sk-toggleable__label fitted sk-toggleable__label-arrow fitted\">&nbsp;&nbsp;DecisionTreeClassifier<a class=\"sk-estimator-doc-link fitted\" rel=\"noreferrer\" target=\"_blank\" href=\"https://scikit-learn.org/1.4/modules/generated/sklearn.tree.DecisionTreeClassifier.html\">?<span>Documentation for DecisionTreeClassifier</span></a><span class=\"sk-estimator-doc-link fitted\">i<span>Fitted</span></span></label><div class=\"sk-toggleable__content fitted\"><pre>DecisionTreeClassifier(max_depth=1, min_samples_split=5)</pre></div> </div></div></div></div>"
      ],
      "text/plain": [
       "DecisionTreeClassifier(max_depth=1, min_samples_split=5)"
      ]
     },
     "execution_count": 42,
     "metadata": {},
     "output_type": "execute_result"
    }
   ],
   "source": [
    "best_model_tree = grid_search.best_estimator_\n",
    "best_model_tree"
   ]
  },
  {
   "cell_type": "markdown",
   "id": "c08c2113-50c5-49bd-ae67-c4d3a49de032",
   "metadata": {
    "jp-MarkdownHeadingCollapsed": true
   },
   "source": [
    "### Random Forest Grid Search"
   ]
  },
  {
   "cell_type": "code",
   "execution_count": 45,
   "id": "530dbf00-8f8d-4162-97fc-2160b003b345",
   "metadata": {},
   "outputs": [
    {
     "data": {
      "text/plain": [
       "{'n_estimators': array([ 10, 100], dtype=int32),\n",
       " 'max_depth': [None, 1, 2, 3, 4, 5],\n",
       " 'min_samples_split': [1, 5, 10],\n",
       " 'min_samples_leaf': [1, 5, 10],\n",
       " 'class_weight': [None, 'balanced']}"
      ]
     },
     "execution_count": 45,
     "metadata": {},
     "output_type": "execute_result"
    }
   ],
   "source": [
    "rf_param_grid = {'n_estimators': 10 ** np.arange(1, 3),\n",
    "              'max_depth': [None, 1,2,3,4,5],\n",
    "              'min_samples_split' : [1, 5, 10],\n",
    "               'min_samples_leaf' : [1, 5, 10],\n",
    "              'class_weight':[None, \"balanced\"]\n",
    "              }\n",
    "\n",
    "rf_param_grid"
   ]
  },
  {
   "cell_type": "code",
   "execution_count": 49,
   "id": "91609de3-fca0-4bd3-a487-989d3292d307",
   "metadata": {},
   "outputs": [],
   "source": [
    "from sklearn.ensemble import RandomForestClassifier"
   ]
  },
  {
   "cell_type": "code",
   "execution_count": null,
   "id": "91de1ff2-1495-4a06-ab59-214e3cf8f8d0",
   "metadata": {},
   "outputs": [],
   "source": [
    "rf_grid_search = GridSearchCV(RandomForestClassifier(), rf_param_grid, verbose=3, cv=cv_obj)\n",
    "\n",
    "rf_grid_search.fit(fielding_training, gold_glove_train)"
   ]
  },
  {
   "cell_type": "code",
   "execution_count": null,
   "id": "e9b95cf7-5f36-4e94-b7d9-86be1fa24e4c",
   "metadata": {},
   "outputs": [],
   "source": [
    "rf_grid_search.best_score_"
   ]
  },
  {
   "cell_type": "code",
   "execution_count": null,
   "id": "661871e7-b417-4f2a-a07c-c265d2901496",
   "metadata": {},
   "outputs": [],
   "source": [
    "rf_grid_search.best_params_"
   ]
  },
  {
   "cell_type": "code",
   "execution_count": null,
   "id": "a0177f99-3a17-4502-9603-b81fe01a057e",
   "metadata": {},
   "outputs": [],
   "source": [
    "best_model_rf = rf_grid_search.best_estimator_\n",
    "best_model_rf"
   ]
  },
  {
   "cell_type": "markdown",
   "id": "8d959767-1de4-4084-97ad-56f9b774986c",
   "metadata": {},
   "source": [
    "### Comparing Scores"
   ]
  },
  {
   "cell_type": "code",
   "execution_count": null,
   "id": "cb1641ac-60f0-47d9-8e08-310fe968803d",
   "metadata": {},
   "outputs": [],
   "source": [
    "rf_grid_search.best_score_ > grid_search.best_score_"
   ]
  },
  {
   "cell_type": "markdown",
   "id": "804d8a86-12d9-45bc-97f7-3078163843e8",
   "metadata": {},
   "source": [
    "### Measuring Performance"
   ]
  },
  {
   "cell_type": "code",
   "execution_count": null,
   "id": "7129d707-33cd-4a63-bfb1-ec42aabfcb24",
   "metadata": {},
   "outputs": [],
   "source": [
    "gold_glove_validation_pred_rf = rf_grid_search.predict(fielding_validation)"
   ]
  },
  {
   "cell_type": "code",
   "execution_count": null,
   "id": "9ae912e0-df57-4a68-b959-fd59f4871cdc",
   "metadata": {},
   "outputs": [],
   "source": [
    "get_metrics(gold_glove_validation, gold_glove_validation_pred_rf)"
   ]
  },
  {
   "cell_type": "markdown",
   "id": "6e6c85d8-56f2-4ae0-8acc-8b35ba41feab",
   "metadata": {
    "jp-MarkdownHeadingCollapsed": true
   },
   "source": [
    "## Fitting the Best Model"
   ]
  },
  {
   "cell_type": "code",
   "execution_count": null,
   "id": "9d8fc5b6-6cb7-43a0-8a0f-56f29460aa20",
   "metadata": {},
   "outputs": [],
   "source": [
    "forest = RandomForestClassifier(min_samples_leaf=5, min_samples_split=10, n_estimators=10)\n",
    "forest.fit(fielding_training, gold_glove_train)"
   ]
  },
  {
   "cell_type": "markdown",
   "id": "c7795f19-f3a0-428c-9786-326134138fe3",
   "metadata": {
    "jp-MarkdownHeadingCollapsed": true
   },
   "source": [
    "## ROC Curve"
   ]
  },
  {
   "cell_type": "code",
   "execution_count": null,
   "id": "09928668-a5ed-4ba5-a50b-4fabfaac966b",
   "metadata": {},
   "outputs": [],
   "source": [
    "from sklearn.metrics import RocCurveDisplay\n",
    "\n",
    "plt.rcParams[\"figure.figsize\"] = (8,6)\n",
    "\n",
    "RocCurveDisplay.from_estimator(forest, fielding_training, gold_glove_train)\n",
    "\n",
    "plt.show()"
   ]
  },
  {
   "cell_type": "markdown",
   "id": "2d4c90a9-6bb5-4545-b5e1-46e233636a27",
   "metadata": {
    "jp-MarkdownHeadingCollapsed": true
   },
   "source": [
    "## AUC"
   ]
  },
  {
   "cell_type": "code",
   "execution_count": null,
   "id": "337a6225-5759-4b64-bcb1-90e35e705dd6",
   "metadata": {},
   "outputs": [],
   "source": [
    "def get_class_prob_df(clf, X):\n",
    "    \"\"\" Return a dataframe of class probabilities.\n",
    "\n",
    "    Arg:\n",
    "        clf:  A fitted model object\n",
    "        X:    The matrix of (test) features.\n",
    "    Returns: A dataframe of class probabilities\n",
    "    \"\"\"\n",
    "    return pd.DataFrame(clf.predict_proba(X), columns=clf.classes_)"
   ]
  },
  {
   "cell_type": "code",
   "execution_count": null,
   "id": "f0b362f5-60ad-40fb-b1b3-b1d2284bd608",
   "metadata": {},
   "outputs": [],
   "source": [
    "y_test_probs = get_class_prob_df(forest, fielding_validation)\n",
    "\n",
    "y_test_probs"
   ]
  },
  {
   "cell_type": "code",
   "execution_count": null,
   "id": "37326024-c3a7-47aa-b8c4-a784ee965ce5",
   "metadata": {},
   "outputs": [],
   "source": [
    "from sklearn.metrics import roc_auc_score\n",
    "\n",
    "roc_auc_score(gold_glove_validation, y_test_probs['Yes'])"
   ]
  },
  {
   "cell_type": "markdown",
   "id": "dfbb5059-d459-4e0e-8c0a-d17e5793f3ca",
   "metadata": {
    "jp-MarkdownHeadingCollapsed": true
   },
   "source": [
    "## Balanced Success"
   ]
  },
  {
   "cell_type": "code",
   "execution_count": null,
   "id": "1d424831-04a0-4adb-855d-82718a58424a",
   "metadata": {},
   "outputs": [],
   "source": [
    "forest = RandomForestClassifier(min_samples_leaf=5, min_samples_split=10, n_estimators=10)\n",
    "forest.fit(fielding_training, gold_glove_train)\n",
    "\n",
    "y_test_pred = forest.predict(fielding_validation)\n",
    "y_test_prob = get_class_prob_df(forest, fielding_validation)"
   ]
  },
  {
   "cell_type": "code",
   "execution_count": null,
   "id": "d885d52d-9fe9-4ead-a0ff-c665d6208c25",
   "metadata": {},
   "outputs": [],
   "source": [
    "forest2 = RandomForestClassifier()\n",
    "forest2.fit(fielding_training, gold_glove_train)\n",
    "\n",
    "y_test_pred2 = forest.predict(fielding_validation)\n",
    "y_test_prob2 = get_class_prob_df(forest2, fielding_validation)"
   ]
  },
  {
   "cell_type": "code",
   "execution_count": null,
   "id": "c51843be-4f81-4a58-8e77-a4e970e8d098",
   "metadata": {},
   "outputs": [],
   "source": [
    "get_metrics(gold_glove_validation, y_test_pred)"
   ]
  },
  {
   "cell_type": "code",
   "execution_count": null,
   "id": "444f72a2-48e5-4485-8194-6021df8d6c7e",
   "metadata": {},
   "outputs": [],
   "source": [
    "get_metrics(gold_glove_validation, y_test_pred2)"
   ]
  },
  {
   "cell_type": "code",
   "execution_count": null,
   "id": "5e31009d-5630-454f-88af-db8d02157384",
   "metadata": {},
   "outputs": [],
   "source": [
    "ax = plt.gca()\n",
    "\n",
    "RocCurveDisplay.from_estimator(forest, fielding_validation, gold_glove_validation, ax = ax, name = \"Random Forest\")\n",
    "RocCurveDisplay.from_estimator(forest2, fielding_validation, gold_glove_validation, ax = ax, name = \"Default Random Forest\")\n",
    "\n",
    "plt.show()"
   ]
  },
  {
   "cell_type": "code",
   "execution_count": null,
   "id": "7410f322-5703-475d-89e4-a7481036be97",
   "metadata": {},
   "outputs": [],
   "source": [
    "roc_auc_score(gold_glove_validation, y_test_probs['Yes'])"
   ]
  },
  {
   "cell_type": "code",
   "execution_count": null,
   "id": "e896fb17-9168-4473-8d1c-c445c4f5e869",
   "metadata": {},
   "outputs": [],
   "source": [
    "roc_auc_score(gold_glove_validation, y_test_prob2['Yes'])"
   ]
  },
  {
   "cell_type": "markdown",
   "id": "1e5d426c-2af4-4c75-8787-479575d0fd74",
   "metadata": {},
   "source": [
    "# Regression Problem"
   ]
  },
  {
   "cell_type": "markdown",
   "id": "22d8606a-b905-4503-ba6f-57939e558485",
   "metadata": {
    "jp-MarkdownHeadingCollapsed": true
   },
   "source": [
    "## Preparing Data"
   ]
  },
  {
   "cell_type": "code",
   "execution_count": null,
   "id": "e383fe96-7f8c-4bb2-ad55-e064af79ea70",
   "metadata": {},
   "outputs": [],
   "source": [
    "salaries.columns"
   ]
  },
  {
   "cell_type": "code",
   "execution_count": 59,
   "id": "f6e818f8-11b8-4e1a-a274-a158d746b0b6",
   "metadata": {},
   "outputs": [],
   "source": [
    "salaries_training = salaries_final.filter(pl.col('Training-Validation') == 'Training').drop('playerID','yearID','salary', 'Training-Validation')\n",
    "salary_train = salaries_final.filter(pl.col('Training-Validation') == 'Training').drop('playerID','yearID','Training-Validation').select('salary')\n",
    "\n",
    "salaries_validation = salaries_final.filter(pl.col('Training-Validation') == 'Validation').drop('playerID','yearID','salary', 'Training-Validation')\n",
    "salary_validation = salaries_final.filter(pl.col('Training-Validation') == 'Validation').drop('playerID','yearID','Training-Validation').select('salary')\n",
    "\n",
    "salaries_training = salaries_training.to_pandas()\n",
    "salary_train = salary_train.to_pandas()\n",
    "\n",
    "salaries_validation = salaries_validation.to_pandas()\n",
    "salary_validation = salary_validation.to_pandas()\n"
   ]
  },
  {
   "cell_type": "code",
   "execution_count": 61,
   "id": "7dd04007-ab69-475a-8396-e7ca4533e924",
   "metadata": {},
   "outputs": [],
   "source": [
    "from sklearn.tree import DecisionTreeRegressor\n",
    "from sklearn.ensemble import RandomForestRegressor"
   ]
  },
  {
   "cell_type": "markdown",
   "id": "7c7465d2-b83f-4d08-a73f-ece8c99785b1",
   "metadata": {
    "jp-MarkdownHeadingCollapsed": true
   },
   "source": [
    "## Tree Grid Search"
   ]
  },
  {
   "cell_type": "code",
   "execution_count": 65,
   "id": "976e4580-7d0b-4331-aafc-3c11ac46a047",
   "metadata": {},
   "outputs": [
    {
     "name": "stdout",
     "output_type": "stream",
     "text": [
      "Fitting 10 folds for each of 36 candidates, totalling 360 fits\n",
      "[CV 1/10] END max_depth=None, min_samples_leaf=1, min_samples_split=2;, score=-0.502 total time=   0.0s\n",
      "[CV 2/10] END max_depth=None, min_samples_leaf=1, min_samples_split=2;, score=-0.507 total time=   0.0s\n"
     ]
    },
    {
     "name": "stderr",
     "output_type": "stream",
     "text": [
      "C:\\Users\\ben8h\\anaconda3\\Lib\\site-packages\\sklearn\\model_selection\\_split.py:737: UserWarning: The least populated class in y has only 1 members, which is less than n_splits=10.\n",
      "  warnings.warn(\n"
     ]
    },
    {
     "name": "stdout",
     "output_type": "stream",
     "text": [
      "[CV 3/10] END max_depth=None, min_samples_leaf=1, min_samples_split=2;, score=-0.771 total time=   0.0s\n",
      "[CV 4/10] END max_depth=None, min_samples_leaf=1, min_samples_split=2;, score=-0.541 total time=   0.0s\n",
      "[CV 5/10] END max_depth=None, min_samples_leaf=1, min_samples_split=2;, score=-0.342 total time=   0.0s\n",
      "[CV 6/10] END max_depth=None, min_samples_leaf=1, min_samples_split=2;, score=-0.604 total time=   0.0s\n",
      "[CV 7/10] END max_depth=None, min_samples_leaf=1, min_samples_split=2;, score=-0.679 total time=   0.0s\n",
      "[CV 8/10] END max_depth=None, min_samples_leaf=1, min_samples_split=2;, score=-0.643 total time=   0.0s\n",
      "[CV 9/10] END max_depth=None, min_samples_leaf=1, min_samples_split=2;, score=-0.693 total time=   0.0s\n",
      "[CV 10/10] END max_depth=None, min_samples_leaf=1, min_samples_split=2;, score=-0.601 total time=   0.0s\n",
      "[CV 1/10] END max_depth=None, min_samples_leaf=1, min_samples_split=5;, score=-0.469 total time=   0.0s\n",
      "[CV 2/10] END max_depth=None, min_samples_leaf=1, min_samples_split=5;, score=-0.389 total time=   0.0s\n",
      "[CV 3/10] END max_depth=None, min_samples_leaf=1, min_samples_split=5;, score=-0.643 total time=   0.0s\n",
      "[CV 4/10] END max_depth=None, min_samples_leaf=1, min_samples_split=5;, score=-0.453 total time=   0.0s\n",
      "[CV 5/10] END max_depth=None, min_samples_leaf=1, min_samples_split=5;, score=-0.375 total time=   0.0s\n",
      "[CV 6/10] END max_depth=None, min_samples_leaf=1, min_samples_split=5;, score=-0.382 total time=   0.0s\n",
      "[CV 7/10] END max_depth=None, min_samples_leaf=1, min_samples_split=5;, score=-0.618 total time=   0.0s\n",
      "[CV 8/10] END max_depth=None, min_samples_leaf=1, min_samples_split=5;, score=-0.438 total time=   0.0s\n",
      "[CV 9/10] END max_depth=None, min_samples_leaf=1, min_samples_split=5;, score=-0.505 total time=   0.0s\n",
      "[CV 10/10] END max_depth=None, min_samples_leaf=1, min_samples_split=5;, score=-0.603 total time=   0.0s\n",
      "[CV 1/10] END max_depth=None, min_samples_leaf=1, min_samples_split=10;, score=-0.358 total time=   0.0s\n",
      "[CV 2/10] END max_depth=None, min_samples_leaf=1, min_samples_split=10;, score=-0.265 total time=   0.0s\n",
      "[CV 3/10] END max_depth=None, min_samples_leaf=1, min_samples_split=10;, score=-0.390 total time=   0.0s\n",
      "[CV 4/10] END max_depth=None, min_samples_leaf=1, min_samples_split=10;, score=-0.311 total time=   0.0s\n",
      "[CV 5/10] END max_depth=None, min_samples_leaf=1, min_samples_split=10;, score=-0.271 total time=   0.0s\n",
      "[CV 6/10] END max_depth=None, min_samples_leaf=1, min_samples_split=10;, score=-0.235 total time=   0.0s\n",
      "[CV 7/10] END max_depth=None, min_samples_leaf=1, min_samples_split=10;, score=-0.415 total time=   0.0s\n",
      "[CV 8/10] END max_depth=None, min_samples_leaf=1, min_samples_split=10;, score=-0.355 total time=   0.0s\n",
      "[CV 9/10] END max_depth=None, min_samples_leaf=1, min_samples_split=10;, score=-0.298 total time=   0.0s\n",
      "[CV 10/10] END max_depth=None, min_samples_leaf=1, min_samples_split=10;, score=-0.470 total time=   0.0s\n",
      "[CV 1/10] END max_depth=None, min_samples_leaf=5, min_samples_split=2;, score=-0.202 total time=   0.0s\n",
      "[CV 2/10] END max_depth=None, min_samples_leaf=5, min_samples_split=2;, score=-0.132 total time=   0.0s\n",
      "[CV 3/10] END max_depth=None, min_samples_leaf=5, min_samples_split=2;, score=-0.217 total time=   0.0s\n",
      "[CV 4/10] END max_depth=None, min_samples_leaf=5, min_samples_split=2;, score=-0.173 total time=   0.0s\n",
      "[CV 5/10] END max_depth=None, min_samples_leaf=5, min_samples_split=2;, score=-0.195 total time=   0.0s\n",
      "[CV 6/10] END max_depth=None, min_samples_leaf=5, min_samples_split=2;, score=-0.182 total time=   0.0s\n",
      "[CV 7/10] END max_depth=None, min_samples_leaf=5, min_samples_split=2;, score=-0.088 total time=   0.0s\n",
      "[CV 8/10] END max_depth=None, min_samples_leaf=5, min_samples_split=2;, score=-0.156 total time=   0.0s\n",
      "[CV 9/10] END max_depth=None, min_samples_leaf=5, min_samples_split=2;, score=-0.125 total time=   0.0s\n",
      "[CV 10/10] END max_depth=None, min_samples_leaf=5, min_samples_split=2;, score=-0.186 total time=   0.0s\n",
      "[CV 1/10] END max_depth=None, min_samples_leaf=5, min_samples_split=5;, score=-0.204 total time=   0.0s\n",
      "[CV 2/10] END max_depth=None, min_samples_leaf=5, min_samples_split=5;, score=-0.130 total time=   0.0s\n",
      "[CV 3/10] END max_depth=None, min_samples_leaf=5, min_samples_split=5;, score=-0.220 total time=   0.0s\n",
      "[CV 4/10] END max_depth=None, min_samples_leaf=5, min_samples_split=5;, score=-0.177 total time=   0.0s\n",
      "[CV 5/10] END max_depth=None, min_samples_leaf=5, min_samples_split=5;, score=-0.179 total time=   0.0s\n",
      "[CV 6/10] END max_depth=None, min_samples_leaf=5, min_samples_split=5;, score=-0.182 total time=   0.0s\n",
      "[CV 7/10] END max_depth=None, min_samples_leaf=5, min_samples_split=5;, score=-0.090 total time=   0.0s\n",
      "[CV 8/10] END max_depth=None, min_samples_leaf=5, min_samples_split=5;, score=-0.156 total time=   0.0s\n",
      "[CV 9/10] END max_depth=None, min_samples_leaf=5, min_samples_split=5;, score=-0.125 total time=   0.0s\n",
      "[CV 10/10] END max_depth=None, min_samples_leaf=5, min_samples_split=5;, score=-0.211 total time=   0.0s\n",
      "[CV 1/10] END max_depth=None, min_samples_leaf=5, min_samples_split=10;, score=-0.204 total time=   0.0s\n",
      "[CV 2/10] END max_depth=None, min_samples_leaf=5, min_samples_split=10;, score=-0.132 total time=   0.0s\n",
      "[CV 3/10] END max_depth=None, min_samples_leaf=5, min_samples_split=10;, score=-0.222 total time=   0.0s\n",
      "[CV 4/10] END max_depth=None, min_samples_leaf=5, min_samples_split=10;, score=-0.177 total time=   0.0s\n",
      "[CV 5/10] END max_depth=None, min_samples_leaf=5, min_samples_split=10;, score=-0.187 total time=   0.0s\n",
      "[CV 6/10] END max_depth=None, min_samples_leaf=5, min_samples_split=10;, score=-0.169 total time=   0.0s\n",
      "[CV 7/10] END max_depth=None, min_samples_leaf=5, min_samples_split=10;, score=-0.089 total time=   0.0s\n",
      "[CV 8/10] END max_depth=None, min_samples_leaf=5, min_samples_split=10;, score=-0.156 total time=   0.0s\n",
      "[CV 9/10] END max_depth=None, min_samples_leaf=5, min_samples_split=10;, score=-0.127 total time=   0.0s\n",
      "[CV 10/10] END max_depth=None, min_samples_leaf=5, min_samples_split=10;, score=-0.211 total time=   0.0s\n",
      "[CV 1/10] END max_depth=None, min_samples_leaf=10, min_samples_split=2;, score=-0.035 total time=   0.0s\n",
      "[CV 2/10] END max_depth=None, min_samples_leaf=10, min_samples_split=2;, score=0.026 total time=   0.0s\n",
      "[CV 3/10] END max_depth=None, min_samples_leaf=10, min_samples_split=2;, score=-0.106 total time=   0.0s\n",
      "[CV 4/10] END max_depth=None, min_samples_leaf=10, min_samples_split=2;, score=0.003 total time=   0.0s\n",
      "[CV 5/10] END max_depth=None, min_samples_leaf=10, min_samples_split=2;, score=-0.082 total time=   0.0s\n",
      "[CV 6/10] END max_depth=None, min_samples_leaf=10, min_samples_split=2;, score=-0.077 total time=   0.0s\n",
      "[CV 7/10] END max_depth=None, min_samples_leaf=10, min_samples_split=2;, score=-0.031 total time=   0.0s\n",
      "[CV 8/10] END max_depth=None, min_samples_leaf=10, min_samples_split=2;, score=0.009 total time=   0.0s\n",
      "[CV 9/10] END max_depth=None, min_samples_leaf=10, min_samples_split=2;, score=-0.075 total time=   0.0s\n",
      "[CV 10/10] END max_depth=None, min_samples_leaf=10, min_samples_split=2;, score=-0.030 total time=   0.0s\n",
      "[CV 1/10] END max_depth=None, min_samples_leaf=10, min_samples_split=5;, score=-0.035 total time=   0.0s\n",
      "[CV 2/10] END max_depth=None, min_samples_leaf=10, min_samples_split=5;, score=0.026 total time=   0.0s\n",
      "[CV 3/10] END max_depth=None, min_samples_leaf=10, min_samples_split=5;, score=-0.132 total time=   0.0s\n",
      "[CV 4/10] END max_depth=None, min_samples_leaf=10, min_samples_split=5;, score=0.003 total time=   0.0s\n",
      "[CV 5/10] END max_depth=None, min_samples_leaf=10, min_samples_split=5;, score=-0.082 total time=   0.0s\n",
      "[CV 6/10] END max_depth=None, min_samples_leaf=10, min_samples_split=5;, score=-0.077 total time=   0.0s\n",
      "[CV 7/10] END max_depth=None, min_samples_leaf=10, min_samples_split=5;, score=-0.031 total time=   0.0s\n",
      "[CV 8/10] END max_depth=None, min_samples_leaf=10, min_samples_split=5;, score=0.010 total time=   0.0s\n",
      "[CV 9/10] END max_depth=None, min_samples_leaf=10, min_samples_split=5;, score=-0.075 total time=   0.0s\n",
      "[CV 10/10] END max_depth=None, min_samples_leaf=10, min_samples_split=5;, score=-0.030 total time=   0.0s\n",
      "[CV 1/10] END max_depth=None, min_samples_leaf=10, min_samples_split=10;, score=-0.035 total time=   0.0s\n",
      "[CV 2/10] END max_depth=None, min_samples_leaf=10, min_samples_split=10;, score=0.026 total time=   0.0s\n",
      "[CV 3/10] END max_depth=None, min_samples_leaf=10, min_samples_split=10;, score=-0.106 total time=   0.0s\n",
      "[CV 4/10] END max_depth=None, min_samples_leaf=10, min_samples_split=10;, score=0.003 total time=   0.0s\n",
      "[CV 5/10] END max_depth=None, min_samples_leaf=10, min_samples_split=10;, score=-0.082 total time=   0.0s\n",
      "[CV 6/10] END max_depth=None, min_samples_leaf=10, min_samples_split=10;, score=-0.077 total time=   0.0s\n",
      "[CV 7/10] END max_depth=None, min_samples_leaf=10, min_samples_split=10;, score=-0.031 total time=   0.0s\n",
      "[CV 8/10] END max_depth=None, min_samples_leaf=10, min_samples_split=10;, score=0.007 total time=   0.0s\n",
      "[CV 9/10] END max_depth=None, min_samples_leaf=10, min_samples_split=10;, score=-0.075 total time=   0.0s\n",
      "[CV 10/10] END max_depth=None, min_samples_leaf=10, min_samples_split=10;, score=-0.030 total time=   0.0s\n",
      "[CV 1/10] END max_depth=3, min_samples_leaf=1, min_samples_split=2;, score=0.095 total time=   0.0s\n",
      "[CV 2/10] END max_depth=3, min_samples_leaf=1, min_samples_split=2;, score=0.097 total time=   0.0s\n",
      "[CV 3/10] END max_depth=3, min_samples_leaf=1, min_samples_split=2;, score=0.100 total time=   0.0s\n",
      "[CV 4/10] END max_depth=3, min_samples_leaf=1, min_samples_split=2;, score=0.144 total time=   0.0s\n",
      "[CV 5/10] END max_depth=3, min_samples_leaf=1, min_samples_split=2;, score=0.101 total time=   0.0s\n",
      "[CV 6/10] END max_depth=3, min_samples_leaf=1, min_samples_split=2;, score=0.069 total time=   0.0s\n",
      "[CV 7/10] END max_depth=3, min_samples_leaf=1, min_samples_split=2;, score=0.151 total time=   0.0s\n",
      "[CV 8/10] END max_depth=3, min_samples_leaf=1, min_samples_split=2;, score=0.095 total time=   0.0s\n",
      "[CV 9/10] END max_depth=3, min_samples_leaf=1, min_samples_split=2;, score=0.094 total time=   0.0s\n",
      "[CV 10/10] END max_depth=3, min_samples_leaf=1, min_samples_split=2;, score=0.137 total time=   0.0s\n",
      "[CV 1/10] END max_depth=3, min_samples_leaf=1, min_samples_split=5;, score=0.095 total time=   0.0s\n",
      "[CV 2/10] END max_depth=3, min_samples_leaf=1, min_samples_split=5;, score=0.097 total time=   0.0s\n",
      "[CV 3/10] END max_depth=3, min_samples_leaf=1, min_samples_split=5;, score=0.100 total time=   0.0s\n",
      "[CV 4/10] END max_depth=3, min_samples_leaf=1, min_samples_split=5;, score=0.144 total time=   0.0s\n",
      "[CV 5/10] END max_depth=3, min_samples_leaf=1, min_samples_split=5;, score=0.101 total time=   0.0s\n",
      "[CV 6/10] END max_depth=3, min_samples_leaf=1, min_samples_split=5;, score=0.069 total time=   0.0s\n",
      "[CV 7/10] END max_depth=3, min_samples_leaf=1, min_samples_split=5;, score=0.151 total time=   0.0s\n",
      "[CV 8/10] END max_depth=3, min_samples_leaf=1, min_samples_split=5;, score=0.095 total time=   0.0s\n",
      "[CV 9/10] END max_depth=3, min_samples_leaf=1, min_samples_split=5;, score=0.094 total time=   0.0s\n",
      "[CV 10/10] END max_depth=3, min_samples_leaf=1, min_samples_split=5;, score=0.137 total time=   0.0s\n",
      "[CV 1/10] END max_depth=3, min_samples_leaf=1, min_samples_split=10;, score=0.095 total time=   0.0s\n",
      "[CV 2/10] END max_depth=3, min_samples_leaf=1, min_samples_split=10;, score=0.097 total time=   0.0s\n",
      "[CV 3/10] END max_depth=3, min_samples_leaf=1, min_samples_split=10;, score=0.100 total time=   0.0s\n",
      "[CV 4/10] END max_depth=3, min_samples_leaf=1, min_samples_split=10;, score=0.144 total time=   0.0s\n",
      "[CV 5/10] END max_depth=3, min_samples_leaf=1, min_samples_split=10;, score=0.101 total time=   0.0s\n",
      "[CV 6/10] END max_depth=3, min_samples_leaf=1, min_samples_split=10;, score=0.069 total time=   0.0s\n",
      "[CV 7/10] END max_depth=3, min_samples_leaf=1, min_samples_split=10;, score=0.151 total time=   0.0s\n",
      "[CV 8/10] END max_depth=3, min_samples_leaf=1, min_samples_split=10;, score=0.095 total time=   0.0s\n",
      "[CV 9/10] END max_depth=3, min_samples_leaf=1, min_samples_split=10;, score=0.094 total time=   0.0s\n",
      "[CV 10/10] END max_depth=3, min_samples_leaf=1, min_samples_split=10;, score=0.137 total time=   0.0s\n",
      "[CV 1/10] END max_depth=3, min_samples_leaf=5, min_samples_split=2;, score=0.095 total time=   0.0s\n",
      "[CV 2/10] END max_depth=3, min_samples_leaf=5, min_samples_split=2;, score=0.097 total time=   0.0s\n",
      "[CV 3/10] END max_depth=3, min_samples_leaf=5, min_samples_split=2;, score=0.100 total time=   0.0s\n",
      "[CV 4/10] END max_depth=3, min_samples_leaf=5, min_samples_split=2;, score=0.144 total time=   0.0s\n",
      "[CV 5/10] END max_depth=3, min_samples_leaf=5, min_samples_split=2;, score=0.101 total time=   0.0s\n",
      "[CV 6/10] END max_depth=3, min_samples_leaf=5, min_samples_split=2;, score=0.069 total time=   0.0s\n",
      "[CV 7/10] END max_depth=3, min_samples_leaf=5, min_samples_split=2;, score=0.151 total time=   0.0s\n",
      "[CV 8/10] END max_depth=3, min_samples_leaf=5, min_samples_split=2;, score=0.095 total time=   0.0s\n",
      "[CV 9/10] END max_depth=3, min_samples_leaf=5, min_samples_split=2;, score=0.094 total time=   0.0s\n",
      "[CV 10/10] END max_depth=3, min_samples_leaf=5, min_samples_split=2;, score=0.137 total time=   0.0s\n",
      "[CV 1/10] END max_depth=3, min_samples_leaf=5, min_samples_split=5;, score=0.095 total time=   0.0s\n",
      "[CV 2/10] END max_depth=3, min_samples_leaf=5, min_samples_split=5;, score=0.097 total time=   0.0s\n",
      "[CV 3/10] END max_depth=3, min_samples_leaf=5, min_samples_split=5;, score=0.100 total time=   0.0s\n",
      "[CV 4/10] END max_depth=3, min_samples_leaf=5, min_samples_split=5;, score=0.144 total time=   0.0s\n",
      "[CV 5/10] END max_depth=3, min_samples_leaf=5, min_samples_split=5;, score=0.101 total time=   0.0s\n",
      "[CV 6/10] END max_depth=3, min_samples_leaf=5, min_samples_split=5;, score=0.069 total time=   0.0s\n",
      "[CV 7/10] END max_depth=3, min_samples_leaf=5, min_samples_split=5;, score=0.151 total time=   0.0s\n",
      "[CV 8/10] END max_depth=3, min_samples_leaf=5, min_samples_split=5;, score=0.095 total time=   0.0s\n",
      "[CV 9/10] END max_depth=3, min_samples_leaf=5, min_samples_split=5;, score=0.094 total time=   0.0s\n",
      "[CV 10/10] END max_depth=3, min_samples_leaf=5, min_samples_split=5;, score=0.137 total time=   0.0s\n",
      "[CV 1/10] END max_depth=3, min_samples_leaf=5, min_samples_split=10;, score=0.095 total time=   0.0s\n",
      "[CV 2/10] END max_depth=3, min_samples_leaf=5, min_samples_split=10;, score=0.097 total time=   0.0s\n",
      "[CV 3/10] END max_depth=3, min_samples_leaf=5, min_samples_split=10;, score=0.100 total time=   0.0s\n",
      "[CV 4/10] END max_depth=3, min_samples_leaf=5, min_samples_split=10;, score=0.144 total time=   0.0s\n",
      "[CV 5/10] END max_depth=3, min_samples_leaf=5, min_samples_split=10;, score=0.101 total time=   0.0s\n",
      "[CV 6/10] END max_depth=3, min_samples_leaf=5, min_samples_split=10;, score=0.069 total time=   0.0s\n",
      "[CV 7/10] END max_depth=3, min_samples_leaf=5, min_samples_split=10;, score=0.151 total time=   0.0s\n",
      "[CV 8/10] END max_depth=3, min_samples_leaf=5, min_samples_split=10;, score=0.095 total time=   0.0s\n",
      "[CV 9/10] END max_depth=3, min_samples_leaf=5, min_samples_split=10;, score=0.094 total time=   0.0s\n",
      "[CV 10/10] END max_depth=3, min_samples_leaf=5, min_samples_split=10;, score=0.137 total time=   0.0s\n",
      "[CV 1/10] END max_depth=3, min_samples_leaf=10, min_samples_split=2;, score=0.095 total time=   0.0s\n",
      "[CV 2/10] END max_depth=3, min_samples_leaf=10, min_samples_split=2;, score=0.097 total time=   0.0s\n",
      "[CV 3/10] END max_depth=3, min_samples_leaf=10, min_samples_split=2;, score=0.100 total time=   0.0s\n",
      "[CV 4/10] END max_depth=3, min_samples_leaf=10, min_samples_split=2;, score=0.144 total time=   0.0s\n",
      "[CV 5/10] END max_depth=3, min_samples_leaf=10, min_samples_split=2;, score=0.101 total time=   0.0s\n",
      "[CV 6/10] END max_depth=3, min_samples_leaf=10, min_samples_split=2;, score=0.069 total time=   0.0s\n",
      "[CV 7/10] END max_depth=3, min_samples_leaf=10, min_samples_split=2;, score=0.151 total time=   0.0s\n",
      "[CV 8/10] END max_depth=3, min_samples_leaf=10, min_samples_split=2;, score=0.095 total time=   0.0s\n",
      "[CV 9/10] END max_depth=3, min_samples_leaf=10, min_samples_split=2;, score=0.094 total time=   0.0s\n",
      "[CV 10/10] END max_depth=3, min_samples_leaf=10, min_samples_split=2;, score=0.137 total time=   0.0s\n",
      "[CV 1/10] END max_depth=3, min_samples_leaf=10, min_samples_split=5;, score=0.095 total time=   0.0s\n",
      "[CV 2/10] END max_depth=3, min_samples_leaf=10, min_samples_split=5;, score=0.097 total time=   0.0s\n",
      "[CV 3/10] END max_depth=3, min_samples_leaf=10, min_samples_split=5;, score=0.100 total time=   0.0s\n",
      "[CV 4/10] END max_depth=3, min_samples_leaf=10, min_samples_split=5;, score=0.144 total time=   0.0s\n",
      "[CV 5/10] END max_depth=3, min_samples_leaf=10, min_samples_split=5;, score=0.101 total time=   0.0s\n",
      "[CV 6/10] END max_depth=3, min_samples_leaf=10, min_samples_split=5;, score=0.069 total time=   0.0s\n",
      "[CV 7/10] END max_depth=3, min_samples_leaf=10, min_samples_split=5;, score=0.151 total time=   0.0s\n",
      "[CV 8/10] END max_depth=3, min_samples_leaf=10, min_samples_split=5;, score=0.095 total time=   0.0s\n",
      "[CV 9/10] END max_depth=3, min_samples_leaf=10, min_samples_split=5;, score=0.094 total time=   0.0s\n",
      "[CV 10/10] END max_depth=3, min_samples_leaf=10, min_samples_split=5;, score=0.137 total time=   0.0s\n",
      "[CV 1/10] END max_depth=3, min_samples_leaf=10, min_samples_split=10;, score=0.095 total time=   0.0s\n",
      "[CV 2/10] END max_depth=3, min_samples_leaf=10, min_samples_split=10;, score=0.097 total time=   0.0s\n",
      "[CV 3/10] END max_depth=3, min_samples_leaf=10, min_samples_split=10;, score=0.100 total time=   0.0s\n",
      "[CV 4/10] END max_depth=3, min_samples_leaf=10, min_samples_split=10;, score=0.144 total time=   0.0s\n",
      "[CV 5/10] END max_depth=3, min_samples_leaf=10, min_samples_split=10;, score=0.101 total time=   0.0s\n",
      "[CV 6/10] END max_depth=3, min_samples_leaf=10, min_samples_split=10;, score=0.069 total time=   0.0s\n",
      "[CV 7/10] END max_depth=3, min_samples_leaf=10, min_samples_split=10;, score=0.151 total time=   0.0s\n",
      "[CV 8/10] END max_depth=3, min_samples_leaf=10, min_samples_split=10;, score=0.095 total time=   0.0s\n",
      "[CV 9/10] END max_depth=3, min_samples_leaf=10, min_samples_split=10;, score=0.094 total time=   0.0s\n",
      "[CV 10/10] END max_depth=3, min_samples_leaf=10, min_samples_split=10;, score=0.137 total time=   0.0s\n",
      "[CV 1/10] END max_depth=5, min_samples_leaf=1, min_samples_split=2;, score=0.084 total time=   0.0s\n",
      "[CV 2/10] END max_depth=5, min_samples_leaf=1, min_samples_split=2;, score=0.114 total time=   0.0s\n",
      "[CV 3/10] END max_depth=5, min_samples_leaf=1, min_samples_split=2;, score=0.059 total time=   0.0s\n",
      "[CV 4/10] END max_depth=5, min_samples_leaf=1, min_samples_split=2;, score=0.162 total time=   0.0s\n",
      "[CV 5/10] END max_depth=5, min_samples_leaf=1, min_samples_split=2;, score=0.047 total time=   0.0s\n",
      "[CV 6/10] END max_depth=5, min_samples_leaf=1, min_samples_split=2;, score=0.081 total time=   0.0s\n",
      "[CV 7/10] END max_depth=5, min_samples_leaf=1, min_samples_split=2;, score=0.135 total time=   0.0s\n",
      "[CV 8/10] END max_depth=5, min_samples_leaf=1, min_samples_split=2;, score=0.024 total time=   0.0s\n",
      "[CV 9/10] END max_depth=5, min_samples_leaf=1, min_samples_split=2;, score=0.121 total time=   0.0s\n",
      "[CV 10/10] END max_depth=5, min_samples_leaf=1, min_samples_split=2;, score=0.043 total time=   0.0s\n",
      "[CV 1/10] END max_depth=5, min_samples_leaf=1, min_samples_split=5;, score=0.084 total time=   0.0s\n",
      "[CV 2/10] END max_depth=5, min_samples_leaf=1, min_samples_split=5;, score=0.114 total time=   0.0s\n",
      "[CV 3/10] END max_depth=5, min_samples_leaf=1, min_samples_split=5;, score=0.064 total time=   0.0s\n",
      "[CV 4/10] END max_depth=5, min_samples_leaf=1, min_samples_split=5;, score=0.162 total time=   0.0s\n",
      "[CV 5/10] END max_depth=5, min_samples_leaf=1, min_samples_split=5;, score=0.059 total time=   0.0s\n",
      "[CV 6/10] END max_depth=5, min_samples_leaf=1, min_samples_split=5;, score=0.079 total time=   0.0s\n",
      "[CV 7/10] END max_depth=5, min_samples_leaf=1, min_samples_split=5;, score=0.135 total time=   0.0s\n",
      "[CV 8/10] END max_depth=5, min_samples_leaf=1, min_samples_split=5;, score=0.024 total time=   0.0s\n",
      "[CV 9/10] END max_depth=5, min_samples_leaf=1, min_samples_split=5;, score=0.121 total time=   0.0s\n",
      "[CV 10/10] END max_depth=5, min_samples_leaf=1, min_samples_split=5;, score=0.044 total time=   0.0s\n",
      "[CV 1/10] END max_depth=5, min_samples_leaf=1, min_samples_split=10;, score=0.084 total time=   0.0s\n",
      "[CV 2/10] END max_depth=5, min_samples_leaf=1, min_samples_split=10;, score=0.114 total time=   0.0s\n",
      "[CV 3/10] END max_depth=5, min_samples_leaf=1, min_samples_split=10;, score=0.090 total time=   0.0s\n",
      "[CV 4/10] END max_depth=5, min_samples_leaf=1, min_samples_split=10;, score=0.162 total time=   0.0s\n",
      "[CV 5/10] END max_depth=5, min_samples_leaf=1, min_samples_split=10;, score=0.058 total time=   0.0s\n",
      "[CV 6/10] END max_depth=5, min_samples_leaf=1, min_samples_split=10;, score=0.079 total time=   0.0s\n",
      "[CV 7/10] END max_depth=5, min_samples_leaf=1, min_samples_split=10;, score=0.135 total time=   0.0s\n",
      "[CV 8/10] END max_depth=5, min_samples_leaf=1, min_samples_split=10;, score=0.024 total time=   0.0s\n",
      "[CV 9/10] END max_depth=5, min_samples_leaf=1, min_samples_split=10;, score=0.121 total time=   0.0s\n",
      "[CV 10/10] END max_depth=5, min_samples_leaf=1, min_samples_split=10;, score=0.043 total time=   0.0s\n",
      "[CV 1/10] END max_depth=5, min_samples_leaf=5, min_samples_split=2;, score=0.083 total time=   0.0s\n",
      "[CV 2/10] END max_depth=5, min_samples_leaf=5, min_samples_split=2;, score=0.114 total time=   0.0s\n",
      "[CV 3/10] END max_depth=5, min_samples_leaf=5, min_samples_split=2;, score=0.082 total time=   0.0s\n",
      "[CV 4/10] END max_depth=5, min_samples_leaf=5, min_samples_split=2;, score=0.170 total time=   0.0s\n",
      "[CV 5/10] END max_depth=5, min_samples_leaf=5, min_samples_split=2;, score=0.071 total time=   0.0s\n",
      "[CV 6/10] END max_depth=5, min_samples_leaf=5, min_samples_split=2;, score=0.069 total time=   0.0s\n",
      "[CV 7/10] END max_depth=5, min_samples_leaf=5, min_samples_split=2;, score=0.162 total time=   0.0s\n",
      "[CV 8/10] END max_depth=5, min_samples_leaf=5, min_samples_split=2;, score=0.026 total time=   0.0s\n",
      "[CV 9/10] END max_depth=5, min_samples_leaf=5, min_samples_split=2;, score=0.119 total time=   0.0s\n",
      "[CV 10/10] END max_depth=5, min_samples_leaf=5, min_samples_split=2;, score=0.132 total time=   0.0s\n",
      "[CV 1/10] END max_depth=5, min_samples_leaf=5, min_samples_split=5;, score=0.083 total time=   0.0s\n",
      "[CV 2/10] END max_depth=5, min_samples_leaf=5, min_samples_split=5;, score=0.114 total time=   0.0s\n",
      "[CV 3/10] END max_depth=5, min_samples_leaf=5, min_samples_split=5;, score=0.082 total time=   0.0s\n",
      "[CV 4/10] END max_depth=5, min_samples_leaf=5, min_samples_split=5;, score=0.170 total time=   0.0s\n",
      "[CV 5/10] END max_depth=5, min_samples_leaf=5, min_samples_split=5;, score=0.071 total time=   0.0s\n",
      "[CV 6/10] END max_depth=5, min_samples_leaf=5, min_samples_split=5;, score=0.069 total time=   0.0s\n",
      "[CV 7/10] END max_depth=5, min_samples_leaf=5, min_samples_split=5;, score=0.162 total time=   0.0s\n",
      "[CV 8/10] END max_depth=5, min_samples_leaf=5, min_samples_split=5;, score=0.026 total time=   0.0s\n",
      "[CV 9/10] END max_depth=5, min_samples_leaf=5, min_samples_split=5;, score=0.119 total time=   0.0s\n",
      "[CV 10/10] END max_depth=5, min_samples_leaf=5, min_samples_split=5;, score=0.132 total time=   0.0s\n",
      "[CV 1/10] END max_depth=5, min_samples_leaf=5, min_samples_split=10;, score=0.083 total time=   0.0s\n",
      "[CV 2/10] END max_depth=5, min_samples_leaf=5, min_samples_split=10;, score=0.114 total time=   0.0s\n",
      "[CV 3/10] END max_depth=5, min_samples_leaf=5, min_samples_split=10;, score=0.082 total time=   0.0s\n",
      "[CV 4/10] END max_depth=5, min_samples_leaf=5, min_samples_split=10;, score=0.170 total time=   0.0s\n",
      "[CV 5/10] END max_depth=5, min_samples_leaf=5, min_samples_split=10;, score=0.071 total time=   0.0s\n",
      "[CV 6/10] END max_depth=5, min_samples_leaf=5, min_samples_split=10;, score=0.069 total time=   0.0s\n",
      "[CV 7/10] END max_depth=5, min_samples_leaf=5, min_samples_split=10;, score=0.162 total time=   0.0s\n",
      "[CV 8/10] END max_depth=5, min_samples_leaf=5, min_samples_split=10;, score=0.026 total time=   0.0s\n",
      "[CV 9/10] END max_depth=5, min_samples_leaf=5, min_samples_split=10;, score=0.119 total time=   0.0s\n",
      "[CV 10/10] END max_depth=5, min_samples_leaf=5, min_samples_split=10;, score=0.132 total time=   0.0s\n",
      "[CV 1/10] END max_depth=5, min_samples_leaf=10, min_samples_split=2;, score=0.080 total time=   0.0s\n",
      "[CV 2/10] END max_depth=5, min_samples_leaf=10, min_samples_split=2;, score=0.121 total time=   0.0s\n",
      "[CV 3/10] END max_depth=5, min_samples_leaf=10, min_samples_split=2;, score=0.116 total time=   0.0s\n",
      "[CV 4/10] END max_depth=5, min_samples_leaf=10, min_samples_split=2;, score=0.161 total time=   0.0s\n",
      "[CV 5/10] END max_depth=5, min_samples_leaf=10, min_samples_split=2;, score=0.068 total time=   0.0s\n",
      "[CV 6/10] END max_depth=5, min_samples_leaf=10, min_samples_split=2;, score=0.069 total time=   0.0s\n",
      "[CV 7/10] END max_depth=5, min_samples_leaf=10, min_samples_split=2;, score=0.160 total time=   0.0s\n",
      "[CV 8/10] END max_depth=5, min_samples_leaf=10, min_samples_split=2;, score=0.081 total time=   0.0s\n",
      "[CV 9/10] END max_depth=5, min_samples_leaf=10, min_samples_split=2;, score=0.116 total time=   0.0s\n",
      "[CV 10/10] END max_depth=5, min_samples_leaf=10, min_samples_split=2;, score=0.139 total time=   0.0s\n",
      "[CV 1/10] END max_depth=5, min_samples_leaf=10, min_samples_split=5;, score=0.080 total time=   0.0s\n",
      "[CV 2/10] END max_depth=5, min_samples_leaf=10, min_samples_split=5;, score=0.121 total time=   0.0s\n",
      "[CV 3/10] END max_depth=5, min_samples_leaf=10, min_samples_split=5;, score=0.116 total time=   0.0s\n",
      "[CV 4/10] END max_depth=5, min_samples_leaf=10, min_samples_split=5;, score=0.161 total time=   0.0s\n",
      "[CV 5/10] END max_depth=5, min_samples_leaf=10, min_samples_split=5;, score=0.068 total time=   0.0s\n",
      "[CV 6/10] END max_depth=5, min_samples_leaf=10, min_samples_split=5;, score=0.069 total time=   0.0s\n",
      "[CV 7/10] END max_depth=5, min_samples_leaf=10, min_samples_split=5;, score=0.160 total time=   0.0s\n",
      "[CV 8/10] END max_depth=5, min_samples_leaf=10, min_samples_split=5;, score=0.081 total time=   0.0s\n",
      "[CV 9/10] END max_depth=5, min_samples_leaf=10, min_samples_split=5;, score=0.116 total time=   0.0s\n",
      "[CV 10/10] END max_depth=5, min_samples_leaf=10, min_samples_split=5;, score=0.139 total time=   0.0s\n",
      "[CV 1/10] END max_depth=5, min_samples_leaf=10, min_samples_split=10;, score=0.080 total time=   0.0s\n",
      "[CV 2/10] END max_depth=5, min_samples_leaf=10, min_samples_split=10;, score=0.121 total time=   0.0s\n",
      "[CV 3/10] END max_depth=5, min_samples_leaf=10, min_samples_split=10;, score=0.116 total time=   0.0s\n",
      "[CV 4/10] END max_depth=5, min_samples_leaf=10, min_samples_split=10;, score=0.161 total time=   0.0s\n",
      "[CV 5/10] END max_depth=5, min_samples_leaf=10, min_samples_split=10;, score=0.068 total time=   0.0s\n",
      "[CV 6/10] END max_depth=5, min_samples_leaf=10, min_samples_split=10;, score=0.069 total time=   0.0s\n",
      "[CV 7/10] END max_depth=5, min_samples_leaf=10, min_samples_split=10;, score=0.160 total time=   0.0s\n",
      "[CV 8/10] END max_depth=5, min_samples_leaf=10, min_samples_split=10;, score=0.081 total time=   0.0s\n",
      "[CV 9/10] END max_depth=5, min_samples_leaf=10, min_samples_split=10;, score=0.116 total time=   0.0s\n",
      "[CV 10/10] END max_depth=5, min_samples_leaf=10, min_samples_split=10;, score=0.139 total time=   0.0s\n",
      "[CV 1/10] END max_depth=10, min_samples_leaf=1, min_samples_split=2;, score=-0.111 total time=   0.0s\n",
      "[CV 2/10] END max_depth=10, min_samples_leaf=1, min_samples_split=2;, score=0.060 total time=   0.0s\n",
      "[CV 3/10] END max_depth=10, min_samples_leaf=1, min_samples_split=2;, score=-0.282 total time=   0.0s\n",
      "[CV 4/10] END max_depth=10, min_samples_leaf=1, min_samples_split=2;, score=-0.150 total time=   0.0s\n",
      "[CV 5/10] END max_depth=10, min_samples_leaf=1, min_samples_split=2;, score=-0.093 total time=   0.0s\n",
      "[CV 6/10] END max_depth=10, min_samples_leaf=1, min_samples_split=2;, score=-0.076 total time=   0.0s\n",
      "[CV 7/10] END max_depth=10, min_samples_leaf=1, min_samples_split=2;, score=0.008 total time=   0.0s\n",
      "[CV 8/10] END max_depth=10, min_samples_leaf=1, min_samples_split=2;, score=-0.069 total time=   0.0s\n",
      "[CV 9/10] END max_depth=10, min_samples_leaf=1, min_samples_split=2;, score=-0.050 total time=   0.0s\n",
      "[CV 10/10] END max_depth=10, min_samples_leaf=1, min_samples_split=2;, score=-0.035 total time=   0.0s\n",
      "[CV 1/10] END max_depth=10, min_samples_leaf=1, min_samples_split=5;, score=-0.139 total time=   0.0s\n",
      "[CV 2/10] END max_depth=10, min_samples_leaf=1, min_samples_split=5;, score=0.020 total time=   0.0s\n",
      "[CV 3/10] END max_depth=10, min_samples_leaf=1, min_samples_split=5;, score=-0.141 total time=   0.0s\n",
      "[CV 4/10] END max_depth=10, min_samples_leaf=1, min_samples_split=5;, score=-0.075 total time=   0.0s\n",
      "[CV 5/10] END max_depth=10, min_samples_leaf=1, min_samples_split=5;, score=-0.097 total time=   0.0s\n",
      "[CV 6/10] END max_depth=10, min_samples_leaf=1, min_samples_split=5;, score=-0.028 total time=   0.0s\n",
      "[CV 7/10] END max_depth=10, min_samples_leaf=1, min_samples_split=5;, score=-0.011 total time=   0.0s\n",
      "[CV 8/10] END max_depth=10, min_samples_leaf=1, min_samples_split=5;, score=-0.074 total time=   0.0s\n",
      "[CV 9/10] END max_depth=10, min_samples_leaf=1, min_samples_split=5;, score=-0.011 total time=   0.0s\n",
      "[CV 10/10] END max_depth=10, min_samples_leaf=1, min_samples_split=5;, score=-0.085 total time=   0.0s\n",
      "[CV 1/10] END max_depth=10, min_samples_leaf=1, min_samples_split=10;, score=-0.107 total time=   0.0s\n",
      "[CV 2/10] END max_depth=10, min_samples_leaf=1, min_samples_split=10;, score=0.076 total time=   0.0s\n",
      "[CV 3/10] END max_depth=10, min_samples_leaf=1, min_samples_split=10;, score=-0.079 total time=   0.0s\n",
      "[CV 4/10] END max_depth=10, min_samples_leaf=1, min_samples_split=10;, score=-0.043 total time=   0.0s\n",
      "[CV 5/10] END max_depth=10, min_samples_leaf=1, min_samples_split=10;, score=-0.050 total time=   0.0s\n",
      "[CV 6/10] END max_depth=10, min_samples_leaf=1, min_samples_split=10;, score=-0.038 total time=   0.0s\n",
      "[CV 7/10] END max_depth=10, min_samples_leaf=1, min_samples_split=10;, score=-0.042 total time=   0.0s\n",
      "[CV 8/10] END max_depth=10, min_samples_leaf=1, min_samples_split=10;, score=-0.067 total time=   0.0s\n",
      "[CV 9/10] END max_depth=10, min_samples_leaf=1, min_samples_split=10;, score=0.044 total time=   0.0s\n",
      "[CV 10/10] END max_depth=10, min_samples_leaf=1, min_samples_split=10;, score=-0.093 total time=   0.0s\n",
      "[CV 1/10] END max_depth=10, min_samples_leaf=5, min_samples_split=2;, score=0.000 total time=   0.0s\n",
      "[CV 2/10] END max_depth=10, min_samples_leaf=5, min_samples_split=2;, score=0.028 total time=   0.0s\n",
      "[CV 3/10] END max_depth=10, min_samples_leaf=5, min_samples_split=2;, score=-0.051 total time=   0.0s\n",
      "[CV 4/10] END max_depth=10, min_samples_leaf=5, min_samples_split=2;, score=0.008 total time=   0.0s\n",
      "[CV 5/10] END max_depth=10, min_samples_leaf=5, min_samples_split=2;, score=-0.064 total time=   0.0s\n",
      "[CV 6/10] END max_depth=10, min_samples_leaf=5, min_samples_split=2;, score=-0.022 total time=   0.0s\n",
      "[CV 7/10] END max_depth=10, min_samples_leaf=5, min_samples_split=2;, score=0.035 total time=   0.0s\n",
      "[CV 8/10] END max_depth=10, min_samples_leaf=5, min_samples_split=2;, score=-0.032 total time=   0.0s\n",
      "[CV 9/10] END max_depth=10, min_samples_leaf=5, min_samples_split=2;, score=0.031 total time=   0.0s\n",
      "[CV 10/10] END max_depth=10, min_samples_leaf=5, min_samples_split=2;, score=0.013 total time=   0.0s\n",
      "[CV 1/10] END max_depth=10, min_samples_leaf=5, min_samples_split=5;, score=0.000 total time=   0.0s\n",
      "[CV 2/10] END max_depth=10, min_samples_leaf=5, min_samples_split=5;, score=0.028 total time=   0.0s\n",
      "[CV 3/10] END max_depth=10, min_samples_leaf=5, min_samples_split=5;, score=-0.051 total time=   0.0s\n",
      "[CV 4/10] END max_depth=10, min_samples_leaf=5, min_samples_split=5;, score=0.008 total time=   0.0s\n",
      "[CV 5/10] END max_depth=10, min_samples_leaf=5, min_samples_split=5;, score=-0.058 total time=   0.0s\n",
      "[CV 6/10] END max_depth=10, min_samples_leaf=5, min_samples_split=5;, score=-0.020 total time=   0.0s\n",
      "[CV 7/10] END max_depth=10, min_samples_leaf=5, min_samples_split=5;, score=0.035 total time=   0.0s\n",
      "[CV 8/10] END max_depth=10, min_samples_leaf=5, min_samples_split=5;, score=-0.031 total time=   0.0s\n",
      "[CV 9/10] END max_depth=10, min_samples_leaf=5, min_samples_split=5;, score=0.023 total time=   0.0s\n",
      "[CV 10/10] END max_depth=10, min_samples_leaf=5, min_samples_split=5;, score=0.013 total time=   0.0s\n",
      "[CV 1/10] END max_depth=10, min_samples_leaf=5, min_samples_split=10;, score=-0.001 total time=   0.0s\n",
      "[CV 2/10] END max_depth=10, min_samples_leaf=5, min_samples_split=10;, score=0.028 total time=   0.0s\n",
      "[CV 3/10] END max_depth=10, min_samples_leaf=5, min_samples_split=10;, score=-0.042 total time=   0.0s\n",
      "[CV 4/10] END max_depth=10, min_samples_leaf=5, min_samples_split=10;, score=0.008 total time=   0.0s\n",
      "[CV 5/10] END max_depth=10, min_samples_leaf=5, min_samples_split=10;, score=-0.062 total time=   0.0s\n",
      "[CV 6/10] END max_depth=10, min_samples_leaf=5, min_samples_split=10;, score=-0.020 total time=   0.0s\n",
      "[CV 7/10] END max_depth=10, min_samples_leaf=5, min_samples_split=10;, score=0.035 total time=   0.0s\n",
      "[CV 8/10] END max_depth=10, min_samples_leaf=5, min_samples_split=10;, score=-0.031 total time=   0.0s\n",
      "[CV 9/10] END max_depth=10, min_samples_leaf=5, min_samples_split=10;, score=0.023 total time=   0.0s\n",
      "[CV 10/10] END max_depth=10, min_samples_leaf=5, min_samples_split=10;, score=-0.011 total time=   0.0s\n",
      "[CV 1/10] END max_depth=10, min_samples_leaf=10, min_samples_split=2;, score=0.054 total time=   0.0s\n",
      "[CV 2/10] END max_depth=10, min_samples_leaf=10, min_samples_split=2;, score=0.077 total time=   0.0s\n",
      "[CV 3/10] END max_depth=10, min_samples_leaf=10, min_samples_split=2;, score=-0.024 total time=   0.0s\n",
      "[CV 4/10] END max_depth=10, min_samples_leaf=10, min_samples_split=2;, score=0.087 total time=   0.0s\n",
      "[CV 5/10] END max_depth=10, min_samples_leaf=10, min_samples_split=2;, score=-0.063 total time=   0.0s\n",
      "[CV 6/10] END max_depth=10, min_samples_leaf=10, min_samples_split=2;, score=-0.019 total time=   0.0s\n",
      "[CV 7/10] END max_depth=10, min_samples_leaf=10, min_samples_split=2;, score=0.038 total time=   0.0s\n",
      "[CV 8/10] END max_depth=10, min_samples_leaf=10, min_samples_split=2;, score=0.028 total time=   0.0s\n",
      "[CV 9/10] END max_depth=10, min_samples_leaf=10, min_samples_split=2;, score=0.037 total time=   0.0s\n",
      "[CV 10/10] END max_depth=10, min_samples_leaf=10, min_samples_split=2;, score=0.018 total time=   0.0s\n",
      "[CV 1/10] END max_depth=10, min_samples_leaf=10, min_samples_split=5;, score=0.054 total time=   0.0s\n",
      "[CV 2/10] END max_depth=10, min_samples_leaf=10, min_samples_split=5;, score=0.077 total time=   0.0s\n",
      "[CV 3/10] END max_depth=10, min_samples_leaf=10, min_samples_split=5;, score=-0.051 total time=   0.0s\n",
      "[CV 4/10] END max_depth=10, min_samples_leaf=10, min_samples_split=5;, score=0.087 total time=   0.0s\n",
      "[CV 5/10] END max_depth=10, min_samples_leaf=10, min_samples_split=5;, score=-0.063 total time=   0.0s\n",
      "[CV 6/10] END max_depth=10, min_samples_leaf=10, min_samples_split=5;, score=-0.019 total time=   0.0s\n",
      "[CV 7/10] END max_depth=10, min_samples_leaf=10, min_samples_split=5;, score=0.038 total time=   0.0s\n",
      "[CV 8/10] END max_depth=10, min_samples_leaf=10, min_samples_split=5;, score=0.028 total time=   0.0s\n",
      "[CV 9/10] END max_depth=10, min_samples_leaf=10, min_samples_split=5;, score=0.040 total time=   0.0s\n",
      "[CV 10/10] END max_depth=10, min_samples_leaf=10, min_samples_split=5;, score=0.019 total time=   0.0s\n",
      "[CV 1/10] END max_depth=10, min_samples_leaf=10, min_samples_split=10;, score=0.054 total time=   0.0s\n",
      "[CV 2/10] END max_depth=10, min_samples_leaf=10, min_samples_split=10;, score=0.077 total time=   0.0s\n",
      "[CV 3/10] END max_depth=10, min_samples_leaf=10, min_samples_split=10;, score=-0.024 total time=   0.0s\n",
      "[CV 4/10] END max_depth=10, min_samples_leaf=10, min_samples_split=10;, score=0.087 total time=   0.0s\n",
      "[CV 5/10] END max_depth=10, min_samples_leaf=10, min_samples_split=10;, score=-0.063 total time=   0.0s\n",
      "[CV 6/10] END max_depth=10, min_samples_leaf=10, min_samples_split=10;, score=-0.019 total time=   0.0s\n",
      "[CV 7/10] END max_depth=10, min_samples_leaf=10, min_samples_split=10;, score=0.038 total time=   0.0s\n",
      "[CV 8/10] END max_depth=10, min_samples_leaf=10, min_samples_split=10;, score=0.029 total time=   0.0s\n",
      "[CV 9/10] END max_depth=10, min_samples_leaf=10, min_samples_split=10;, score=0.040 total time=   0.0s\n",
      "[CV 10/10] END max_depth=10, min_samples_leaf=10, min_samples_split=10;, score=0.019 total time=   0.0s\n"
     ]
    },
    {
     "data": {
      "text/html": [
       "<style>#sk-container-id-4 {\n",
       "  /* Definition of color scheme common for light and dark mode */\n",
       "  --sklearn-color-text: black;\n",
       "  --sklearn-color-line: gray;\n",
       "  /* Definition of color scheme for unfitted estimators */\n",
       "  --sklearn-color-unfitted-level-0: #fff5e6;\n",
       "  --sklearn-color-unfitted-level-1: #f6e4d2;\n",
       "  --sklearn-color-unfitted-level-2: #ffe0b3;\n",
       "  --sklearn-color-unfitted-level-3: chocolate;\n",
       "  /* Definition of color scheme for fitted estimators */\n",
       "  --sklearn-color-fitted-level-0: #f0f8ff;\n",
       "  --sklearn-color-fitted-level-1: #d4ebff;\n",
       "  --sklearn-color-fitted-level-2: #b3dbfd;\n",
       "  --sklearn-color-fitted-level-3: cornflowerblue;\n",
       "\n",
       "  /* Specific color for light theme */\n",
       "  --sklearn-color-text-on-default-background: var(--sg-text-color, var(--theme-code-foreground, var(--jp-content-font-color1, black)));\n",
       "  --sklearn-color-background: var(--sg-background-color, var(--theme-background, var(--jp-layout-color0, white)));\n",
       "  --sklearn-color-border-box: var(--sg-text-color, var(--theme-code-foreground, var(--jp-content-font-color1, black)));\n",
       "  --sklearn-color-icon: #696969;\n",
       "\n",
       "  @media (prefers-color-scheme: dark) {\n",
       "    /* Redefinition of color scheme for dark theme */\n",
       "    --sklearn-color-text-on-default-background: var(--sg-text-color, var(--theme-code-foreground, var(--jp-content-font-color1, white)));\n",
       "    --sklearn-color-background: var(--sg-background-color, var(--theme-background, var(--jp-layout-color0, #111)));\n",
       "    --sklearn-color-border-box: var(--sg-text-color, var(--theme-code-foreground, var(--jp-content-font-color1, white)));\n",
       "    --sklearn-color-icon: #878787;\n",
       "  }\n",
       "}\n",
       "\n",
       "#sk-container-id-4 {\n",
       "  color: var(--sklearn-color-text);\n",
       "}\n",
       "\n",
       "#sk-container-id-4 pre {\n",
       "  padding: 0;\n",
       "}\n",
       "\n",
       "#sk-container-id-4 input.sk-hidden--visually {\n",
       "  border: 0;\n",
       "  clip: rect(1px 1px 1px 1px);\n",
       "  clip: rect(1px, 1px, 1px, 1px);\n",
       "  height: 1px;\n",
       "  margin: -1px;\n",
       "  overflow: hidden;\n",
       "  padding: 0;\n",
       "  position: absolute;\n",
       "  width: 1px;\n",
       "}\n",
       "\n",
       "#sk-container-id-4 div.sk-dashed-wrapped {\n",
       "  border: 1px dashed var(--sklearn-color-line);\n",
       "  margin: 0 0.4em 0.5em 0.4em;\n",
       "  box-sizing: border-box;\n",
       "  padding-bottom: 0.4em;\n",
       "  background-color: var(--sklearn-color-background);\n",
       "}\n",
       "\n",
       "#sk-container-id-4 div.sk-container {\n",
       "  /* jupyter's `normalize.less` sets `[hidden] { display: none; }`\n",
       "     but bootstrap.min.css set `[hidden] { display: none !important; }`\n",
       "     so we also need the `!important` here to be able to override the\n",
       "     default hidden behavior on the sphinx rendered scikit-learn.org.\n",
       "     See: https://github.com/scikit-learn/scikit-learn/issues/21755 */\n",
       "  display: inline-block !important;\n",
       "  position: relative;\n",
       "}\n",
       "\n",
       "#sk-container-id-4 div.sk-text-repr-fallback {\n",
       "  display: none;\n",
       "}\n",
       "\n",
       "div.sk-parallel-item,\n",
       "div.sk-serial,\n",
       "div.sk-item {\n",
       "  /* draw centered vertical line to link estimators */\n",
       "  background-image: linear-gradient(var(--sklearn-color-text-on-default-background), var(--sklearn-color-text-on-default-background));\n",
       "  background-size: 2px 100%;\n",
       "  background-repeat: no-repeat;\n",
       "  background-position: center center;\n",
       "}\n",
       "\n",
       "/* Parallel-specific style estimator block */\n",
       "\n",
       "#sk-container-id-4 div.sk-parallel-item::after {\n",
       "  content: \"\";\n",
       "  width: 100%;\n",
       "  border-bottom: 2px solid var(--sklearn-color-text-on-default-background);\n",
       "  flex-grow: 1;\n",
       "}\n",
       "\n",
       "#sk-container-id-4 div.sk-parallel {\n",
       "  display: flex;\n",
       "  align-items: stretch;\n",
       "  justify-content: center;\n",
       "  background-color: var(--sklearn-color-background);\n",
       "  position: relative;\n",
       "}\n",
       "\n",
       "#sk-container-id-4 div.sk-parallel-item {\n",
       "  display: flex;\n",
       "  flex-direction: column;\n",
       "}\n",
       "\n",
       "#sk-container-id-4 div.sk-parallel-item:first-child::after {\n",
       "  align-self: flex-end;\n",
       "  width: 50%;\n",
       "}\n",
       "\n",
       "#sk-container-id-4 div.sk-parallel-item:last-child::after {\n",
       "  align-self: flex-start;\n",
       "  width: 50%;\n",
       "}\n",
       "\n",
       "#sk-container-id-4 div.sk-parallel-item:only-child::after {\n",
       "  width: 0;\n",
       "}\n",
       "\n",
       "/* Serial-specific style estimator block */\n",
       "\n",
       "#sk-container-id-4 div.sk-serial {\n",
       "  display: flex;\n",
       "  flex-direction: column;\n",
       "  align-items: center;\n",
       "  background-color: var(--sklearn-color-background);\n",
       "  padding-right: 1em;\n",
       "  padding-left: 1em;\n",
       "}\n",
       "\n",
       "\n",
       "/* Toggleable style: style used for estimator/Pipeline/ColumnTransformer box that is\n",
       "clickable and can be expanded/collapsed.\n",
       "- Pipeline and ColumnTransformer use this feature and define the default style\n",
       "- Estimators will overwrite some part of the style using the `sk-estimator` class\n",
       "*/\n",
       "\n",
       "/* Pipeline and ColumnTransformer style (default) */\n",
       "\n",
       "#sk-container-id-4 div.sk-toggleable {\n",
       "  /* Default theme specific background. It is overwritten whether we have a\n",
       "  specific estimator or a Pipeline/ColumnTransformer */\n",
       "  background-color: var(--sklearn-color-background);\n",
       "}\n",
       "\n",
       "/* Toggleable label */\n",
       "#sk-container-id-4 label.sk-toggleable__label {\n",
       "  cursor: pointer;\n",
       "  display: block;\n",
       "  width: 100%;\n",
       "  margin-bottom: 0;\n",
       "  padding: 0.5em;\n",
       "  box-sizing: border-box;\n",
       "  text-align: center;\n",
       "}\n",
       "\n",
       "#sk-container-id-4 label.sk-toggleable__label-arrow:before {\n",
       "  /* Arrow on the left of the label */\n",
       "  content: \"▸\";\n",
       "  float: left;\n",
       "  margin-right: 0.25em;\n",
       "  color: var(--sklearn-color-icon);\n",
       "}\n",
       "\n",
       "#sk-container-id-4 label.sk-toggleable__label-arrow:hover:before {\n",
       "  color: var(--sklearn-color-text);\n",
       "}\n",
       "\n",
       "/* Toggleable content - dropdown */\n",
       "\n",
       "#sk-container-id-4 div.sk-toggleable__content {\n",
       "  max-height: 0;\n",
       "  max-width: 0;\n",
       "  overflow: hidden;\n",
       "  text-align: left;\n",
       "  /* unfitted */\n",
       "  background-color: var(--sklearn-color-unfitted-level-0);\n",
       "}\n",
       "\n",
       "#sk-container-id-4 div.sk-toggleable__content.fitted {\n",
       "  /* fitted */\n",
       "  background-color: var(--sklearn-color-fitted-level-0);\n",
       "}\n",
       "\n",
       "#sk-container-id-4 div.sk-toggleable__content pre {\n",
       "  margin: 0.2em;\n",
       "  border-radius: 0.25em;\n",
       "  color: var(--sklearn-color-text);\n",
       "  /* unfitted */\n",
       "  background-color: var(--sklearn-color-unfitted-level-0);\n",
       "}\n",
       "\n",
       "#sk-container-id-4 div.sk-toggleable__content.fitted pre {\n",
       "  /* unfitted */\n",
       "  background-color: var(--sklearn-color-fitted-level-0);\n",
       "}\n",
       "\n",
       "#sk-container-id-4 input.sk-toggleable__control:checked~div.sk-toggleable__content {\n",
       "  /* Expand drop-down */\n",
       "  max-height: 200px;\n",
       "  max-width: 100%;\n",
       "  overflow: auto;\n",
       "}\n",
       "\n",
       "#sk-container-id-4 input.sk-toggleable__control:checked~label.sk-toggleable__label-arrow:before {\n",
       "  content: \"▾\";\n",
       "}\n",
       "\n",
       "/* Pipeline/ColumnTransformer-specific style */\n",
       "\n",
       "#sk-container-id-4 div.sk-label input.sk-toggleable__control:checked~label.sk-toggleable__label {\n",
       "  color: var(--sklearn-color-text);\n",
       "  background-color: var(--sklearn-color-unfitted-level-2);\n",
       "}\n",
       "\n",
       "#sk-container-id-4 div.sk-label.fitted input.sk-toggleable__control:checked~label.sk-toggleable__label {\n",
       "  background-color: var(--sklearn-color-fitted-level-2);\n",
       "}\n",
       "\n",
       "/* Estimator-specific style */\n",
       "\n",
       "/* Colorize estimator box */\n",
       "#sk-container-id-4 div.sk-estimator input.sk-toggleable__control:checked~label.sk-toggleable__label {\n",
       "  /* unfitted */\n",
       "  background-color: var(--sklearn-color-unfitted-level-2);\n",
       "}\n",
       "\n",
       "#sk-container-id-4 div.sk-estimator.fitted input.sk-toggleable__control:checked~label.sk-toggleable__label {\n",
       "  /* fitted */\n",
       "  background-color: var(--sklearn-color-fitted-level-2);\n",
       "}\n",
       "\n",
       "#sk-container-id-4 div.sk-label label.sk-toggleable__label,\n",
       "#sk-container-id-4 div.sk-label label {\n",
       "  /* The background is the default theme color */\n",
       "  color: var(--sklearn-color-text-on-default-background);\n",
       "}\n",
       "\n",
       "/* On hover, darken the color of the background */\n",
       "#sk-container-id-4 div.sk-label:hover label.sk-toggleable__label {\n",
       "  color: var(--sklearn-color-text);\n",
       "  background-color: var(--sklearn-color-unfitted-level-2);\n",
       "}\n",
       "\n",
       "/* Label box, darken color on hover, fitted */\n",
       "#sk-container-id-4 div.sk-label.fitted:hover label.sk-toggleable__label.fitted {\n",
       "  color: var(--sklearn-color-text);\n",
       "  background-color: var(--sklearn-color-fitted-level-2);\n",
       "}\n",
       "\n",
       "/* Estimator label */\n",
       "\n",
       "#sk-container-id-4 div.sk-label label {\n",
       "  font-family: monospace;\n",
       "  font-weight: bold;\n",
       "  display: inline-block;\n",
       "  line-height: 1.2em;\n",
       "}\n",
       "\n",
       "#sk-container-id-4 div.sk-label-container {\n",
       "  text-align: center;\n",
       "}\n",
       "\n",
       "/* Estimator-specific */\n",
       "#sk-container-id-4 div.sk-estimator {\n",
       "  font-family: monospace;\n",
       "  border: 1px dotted var(--sklearn-color-border-box);\n",
       "  border-radius: 0.25em;\n",
       "  box-sizing: border-box;\n",
       "  margin-bottom: 0.5em;\n",
       "  /* unfitted */\n",
       "  background-color: var(--sklearn-color-unfitted-level-0);\n",
       "}\n",
       "\n",
       "#sk-container-id-4 div.sk-estimator.fitted {\n",
       "  /* fitted */\n",
       "  background-color: var(--sklearn-color-fitted-level-0);\n",
       "}\n",
       "\n",
       "/* on hover */\n",
       "#sk-container-id-4 div.sk-estimator:hover {\n",
       "  /* unfitted */\n",
       "  background-color: var(--sklearn-color-unfitted-level-2);\n",
       "}\n",
       "\n",
       "#sk-container-id-4 div.sk-estimator.fitted:hover {\n",
       "  /* fitted */\n",
       "  background-color: var(--sklearn-color-fitted-level-2);\n",
       "}\n",
       "\n",
       "/* Specification for estimator info (e.g. \"i\" and \"?\") */\n",
       "\n",
       "/* Common style for \"i\" and \"?\" */\n",
       "\n",
       ".sk-estimator-doc-link,\n",
       "a:link.sk-estimator-doc-link,\n",
       "a:visited.sk-estimator-doc-link {\n",
       "  float: right;\n",
       "  font-size: smaller;\n",
       "  line-height: 1em;\n",
       "  font-family: monospace;\n",
       "  background-color: var(--sklearn-color-background);\n",
       "  border-radius: 1em;\n",
       "  height: 1em;\n",
       "  width: 1em;\n",
       "  text-decoration: none !important;\n",
       "  margin-left: 1ex;\n",
       "  /* unfitted */\n",
       "  border: var(--sklearn-color-unfitted-level-1) 1pt solid;\n",
       "  color: var(--sklearn-color-unfitted-level-1);\n",
       "}\n",
       "\n",
       ".sk-estimator-doc-link.fitted,\n",
       "a:link.sk-estimator-doc-link.fitted,\n",
       "a:visited.sk-estimator-doc-link.fitted {\n",
       "  /* fitted */\n",
       "  border: var(--sklearn-color-fitted-level-1) 1pt solid;\n",
       "  color: var(--sklearn-color-fitted-level-1);\n",
       "}\n",
       "\n",
       "/* On hover */\n",
       "div.sk-estimator:hover .sk-estimator-doc-link:hover,\n",
       ".sk-estimator-doc-link:hover,\n",
       "div.sk-label-container:hover .sk-estimator-doc-link:hover,\n",
       ".sk-estimator-doc-link:hover {\n",
       "  /* unfitted */\n",
       "  background-color: var(--sklearn-color-unfitted-level-3);\n",
       "  color: var(--sklearn-color-background);\n",
       "  text-decoration: none;\n",
       "}\n",
       "\n",
       "div.sk-estimator.fitted:hover .sk-estimator-doc-link.fitted:hover,\n",
       ".sk-estimator-doc-link.fitted:hover,\n",
       "div.sk-label-container:hover .sk-estimator-doc-link.fitted:hover,\n",
       ".sk-estimator-doc-link.fitted:hover {\n",
       "  /* fitted */\n",
       "  background-color: var(--sklearn-color-fitted-level-3);\n",
       "  color: var(--sklearn-color-background);\n",
       "  text-decoration: none;\n",
       "}\n",
       "\n",
       "/* Span, style for the box shown on hovering the info icon */\n",
       ".sk-estimator-doc-link span {\n",
       "  display: none;\n",
       "  z-index: 9999;\n",
       "  position: relative;\n",
       "  font-weight: normal;\n",
       "  right: .2ex;\n",
       "  padding: .5ex;\n",
       "  margin: .5ex;\n",
       "  width: min-content;\n",
       "  min-width: 20ex;\n",
       "  max-width: 50ex;\n",
       "  color: var(--sklearn-color-text);\n",
       "  box-shadow: 2pt 2pt 4pt #999;\n",
       "  /* unfitted */\n",
       "  background: var(--sklearn-color-unfitted-level-0);\n",
       "  border: .5pt solid var(--sklearn-color-unfitted-level-3);\n",
       "}\n",
       "\n",
       ".sk-estimator-doc-link.fitted span {\n",
       "  /* fitted */\n",
       "  background: var(--sklearn-color-fitted-level-0);\n",
       "  border: var(--sklearn-color-fitted-level-3);\n",
       "}\n",
       "\n",
       ".sk-estimator-doc-link:hover span {\n",
       "  display: block;\n",
       "}\n",
       "\n",
       "/* \"?\"-specific style due to the `<a>` HTML tag */\n",
       "\n",
       "#sk-container-id-4 a.estimator_doc_link {\n",
       "  float: right;\n",
       "  font-size: 1rem;\n",
       "  line-height: 1em;\n",
       "  font-family: monospace;\n",
       "  background-color: var(--sklearn-color-background);\n",
       "  border-radius: 1rem;\n",
       "  height: 1rem;\n",
       "  width: 1rem;\n",
       "  text-decoration: none;\n",
       "  /* unfitted */\n",
       "  color: var(--sklearn-color-unfitted-level-1);\n",
       "  border: var(--sklearn-color-unfitted-level-1) 1pt solid;\n",
       "}\n",
       "\n",
       "#sk-container-id-4 a.estimator_doc_link.fitted {\n",
       "  /* fitted */\n",
       "  border: var(--sklearn-color-fitted-level-1) 1pt solid;\n",
       "  color: var(--sklearn-color-fitted-level-1);\n",
       "}\n",
       "\n",
       "/* On hover */\n",
       "#sk-container-id-4 a.estimator_doc_link:hover {\n",
       "  /* unfitted */\n",
       "  background-color: var(--sklearn-color-unfitted-level-3);\n",
       "  color: var(--sklearn-color-background);\n",
       "  text-decoration: none;\n",
       "}\n",
       "\n",
       "#sk-container-id-4 a.estimator_doc_link.fitted:hover {\n",
       "  /* fitted */\n",
       "  background-color: var(--sklearn-color-fitted-level-3);\n",
       "}\n",
       "</style><div id=\"sk-container-id-4\" class=\"sk-top-container\"><div class=\"sk-text-repr-fallback\"><pre>GridSearchCV(cv=StratifiedKFold(n_splits=10, random_state=458, shuffle=True),\n",
       "             estimator=DecisionTreeRegressor(),\n",
       "             param_grid={&#x27;max_depth&#x27;: [None, 3, 5, 10],\n",
       "                         &#x27;min_samples_leaf&#x27;: [1, 5, 10],\n",
       "                         &#x27;min_samples_split&#x27;: [2, 5, 10]},\n",
       "             verbose=3)</pre><b>In a Jupyter environment, please rerun this cell to show the HTML representation or trust the notebook. <br />On GitHub, the HTML representation is unable to render, please try loading this page with nbviewer.org.</b></div><div class=\"sk-container\" hidden><div class=\"sk-item sk-dashed-wrapped\"><div class=\"sk-label-container\"><div class=\"sk-label fitted sk-toggleable\"><input class=\"sk-toggleable__control sk-hidden--visually\" id=\"sk-estimator-id-8\" type=\"checkbox\" ><label for=\"sk-estimator-id-8\" class=\"sk-toggleable__label fitted sk-toggleable__label-arrow fitted\">&nbsp;&nbsp;GridSearchCV<a class=\"sk-estimator-doc-link fitted\" rel=\"noreferrer\" target=\"_blank\" href=\"https://scikit-learn.org/1.4/modules/generated/sklearn.model_selection.GridSearchCV.html\">?<span>Documentation for GridSearchCV</span></a><span class=\"sk-estimator-doc-link fitted\">i<span>Fitted</span></span></label><div class=\"sk-toggleable__content fitted\"><pre>GridSearchCV(cv=StratifiedKFold(n_splits=10, random_state=458, shuffle=True),\n",
       "             estimator=DecisionTreeRegressor(),\n",
       "             param_grid={&#x27;max_depth&#x27;: [None, 3, 5, 10],\n",
       "                         &#x27;min_samples_leaf&#x27;: [1, 5, 10],\n",
       "                         &#x27;min_samples_split&#x27;: [2, 5, 10]},\n",
       "             verbose=3)</pre></div> </div></div><div class=\"sk-parallel\"><div class=\"sk-parallel-item\"><div class=\"sk-item\"><div class=\"sk-label-container\"><div class=\"sk-label fitted sk-toggleable\"><input class=\"sk-toggleable__control sk-hidden--visually\" id=\"sk-estimator-id-9\" type=\"checkbox\" ><label for=\"sk-estimator-id-9\" class=\"sk-toggleable__label fitted sk-toggleable__label-arrow fitted\">estimator: DecisionTreeRegressor</label><div class=\"sk-toggleable__content fitted\"><pre>DecisionTreeRegressor()</pre></div> </div></div><div class=\"sk-serial\"><div class=\"sk-item\"><div class=\"sk-estimator fitted sk-toggleable\"><input class=\"sk-toggleable__control sk-hidden--visually\" id=\"sk-estimator-id-10\" type=\"checkbox\" ><label for=\"sk-estimator-id-10\" class=\"sk-toggleable__label fitted sk-toggleable__label-arrow fitted\">&nbsp;DecisionTreeRegressor<a class=\"sk-estimator-doc-link fitted\" rel=\"noreferrer\" target=\"_blank\" href=\"https://scikit-learn.org/1.4/modules/generated/sklearn.tree.DecisionTreeRegressor.html\">?<span>Documentation for DecisionTreeRegressor</span></a></label><div class=\"sk-toggleable__content fitted\"><pre>DecisionTreeRegressor()</pre></div> </div></div></div></div></div></div></div></div></div>"
      ],
      "text/plain": [
       "GridSearchCV(cv=StratifiedKFold(n_splits=10, random_state=458, shuffle=True),\n",
       "             estimator=DecisionTreeRegressor(),\n",
       "             param_grid={'max_depth': [None, 3, 5, 10],\n",
       "                         'min_samples_leaf': [1, 5, 10],\n",
       "                         'min_samples_split': [2, 5, 10]},\n",
       "             verbose=3)"
      ]
     },
     "execution_count": 65,
     "metadata": {},
     "output_type": "execute_result"
    }
   ],
   "source": [
    "tree_param_grid = {\n",
    "    'max_depth': [None, 3, 5, 10],\n",
    "    'min_samples_split': [2, 5, 10],\n",
    "    'min_samples_leaf': [1, 5, 10]\n",
    "}\n",
    "\n",
    "from sklearn.model_selection import StratifiedKFold\n",
    "\n",
    "state = 458\n",
    "\n",
    "cv_obj = StratifiedKFold(n_splits=10, shuffle=True, random_state=state)\n",
    "\n",
    "grid_search_tree_regressor = GridSearchCV(DecisionTreeRegressor(), tree_param_grid, verbose=3, cv=cv_obj)\n",
    "\n",
    "grid_search_tree_regressor.fit(salaries_training, salary_train)"
   ]
  },
  {
   "cell_type": "code",
   "execution_count": 71,
   "id": "0ebb87ca-ae1f-4bea-87f0-8ec155e4e7c2",
   "metadata": {},
   "outputs": [
    {
     "data": {
      "text/plain": [
       "0.11122828772285229"
      ]
     },
     "execution_count": 71,
     "metadata": {},
     "output_type": "execute_result"
    }
   ],
   "source": [
    "grid_search_tree_regressor.best_score_"
   ]
  },
  {
   "cell_type": "code",
   "execution_count": 73,
   "id": "13151edb-127d-4c3e-a3ad-8ec43e3d406f",
   "metadata": {},
   "outputs": [
    {
     "data": {
      "text/plain": [
       "{'max_depth': 5, 'min_samples_leaf': 10, 'min_samples_split': 2}"
      ]
     },
     "execution_count": 73,
     "metadata": {},
     "output_type": "execute_result"
    }
   ],
   "source": [
    "grid_search_tree_regressor.best_params_"
   ]
  },
  {
   "cell_type": "code",
   "execution_count": 75,
   "id": "5f837c4e-a343-4e44-b480-f7372543637e",
   "metadata": {},
   "outputs": [
    {
     "data": {
      "text/html": [
       "<style>#sk-container-id-6 {\n",
       "  /* Definition of color scheme common for light and dark mode */\n",
       "  --sklearn-color-text: black;\n",
       "  --sklearn-color-line: gray;\n",
       "  /* Definition of color scheme for unfitted estimators */\n",
       "  --sklearn-color-unfitted-level-0: #fff5e6;\n",
       "  --sklearn-color-unfitted-level-1: #f6e4d2;\n",
       "  --sklearn-color-unfitted-level-2: #ffe0b3;\n",
       "  --sklearn-color-unfitted-level-3: chocolate;\n",
       "  /* Definition of color scheme for fitted estimators */\n",
       "  --sklearn-color-fitted-level-0: #f0f8ff;\n",
       "  --sklearn-color-fitted-level-1: #d4ebff;\n",
       "  --sklearn-color-fitted-level-2: #b3dbfd;\n",
       "  --sklearn-color-fitted-level-3: cornflowerblue;\n",
       "\n",
       "  /* Specific color for light theme */\n",
       "  --sklearn-color-text-on-default-background: var(--sg-text-color, var(--theme-code-foreground, var(--jp-content-font-color1, black)));\n",
       "  --sklearn-color-background: var(--sg-background-color, var(--theme-background, var(--jp-layout-color0, white)));\n",
       "  --sklearn-color-border-box: var(--sg-text-color, var(--theme-code-foreground, var(--jp-content-font-color1, black)));\n",
       "  --sklearn-color-icon: #696969;\n",
       "\n",
       "  @media (prefers-color-scheme: dark) {\n",
       "    /* Redefinition of color scheme for dark theme */\n",
       "    --sklearn-color-text-on-default-background: var(--sg-text-color, var(--theme-code-foreground, var(--jp-content-font-color1, white)));\n",
       "    --sklearn-color-background: var(--sg-background-color, var(--theme-background, var(--jp-layout-color0, #111)));\n",
       "    --sklearn-color-border-box: var(--sg-text-color, var(--theme-code-foreground, var(--jp-content-font-color1, white)));\n",
       "    --sklearn-color-icon: #878787;\n",
       "  }\n",
       "}\n",
       "\n",
       "#sk-container-id-6 {\n",
       "  color: var(--sklearn-color-text);\n",
       "}\n",
       "\n",
       "#sk-container-id-6 pre {\n",
       "  padding: 0;\n",
       "}\n",
       "\n",
       "#sk-container-id-6 input.sk-hidden--visually {\n",
       "  border: 0;\n",
       "  clip: rect(1px 1px 1px 1px);\n",
       "  clip: rect(1px, 1px, 1px, 1px);\n",
       "  height: 1px;\n",
       "  margin: -1px;\n",
       "  overflow: hidden;\n",
       "  padding: 0;\n",
       "  position: absolute;\n",
       "  width: 1px;\n",
       "}\n",
       "\n",
       "#sk-container-id-6 div.sk-dashed-wrapped {\n",
       "  border: 1px dashed var(--sklearn-color-line);\n",
       "  margin: 0 0.4em 0.5em 0.4em;\n",
       "  box-sizing: border-box;\n",
       "  padding-bottom: 0.4em;\n",
       "  background-color: var(--sklearn-color-background);\n",
       "}\n",
       "\n",
       "#sk-container-id-6 div.sk-container {\n",
       "  /* jupyter's `normalize.less` sets `[hidden] { display: none; }`\n",
       "     but bootstrap.min.css set `[hidden] { display: none !important; }`\n",
       "     so we also need the `!important` here to be able to override the\n",
       "     default hidden behavior on the sphinx rendered scikit-learn.org.\n",
       "     See: https://github.com/scikit-learn/scikit-learn/issues/21755 */\n",
       "  display: inline-block !important;\n",
       "  position: relative;\n",
       "}\n",
       "\n",
       "#sk-container-id-6 div.sk-text-repr-fallback {\n",
       "  display: none;\n",
       "}\n",
       "\n",
       "div.sk-parallel-item,\n",
       "div.sk-serial,\n",
       "div.sk-item {\n",
       "  /* draw centered vertical line to link estimators */\n",
       "  background-image: linear-gradient(var(--sklearn-color-text-on-default-background), var(--sklearn-color-text-on-default-background));\n",
       "  background-size: 2px 100%;\n",
       "  background-repeat: no-repeat;\n",
       "  background-position: center center;\n",
       "}\n",
       "\n",
       "/* Parallel-specific style estimator block */\n",
       "\n",
       "#sk-container-id-6 div.sk-parallel-item::after {\n",
       "  content: \"\";\n",
       "  width: 100%;\n",
       "  border-bottom: 2px solid var(--sklearn-color-text-on-default-background);\n",
       "  flex-grow: 1;\n",
       "}\n",
       "\n",
       "#sk-container-id-6 div.sk-parallel {\n",
       "  display: flex;\n",
       "  align-items: stretch;\n",
       "  justify-content: center;\n",
       "  background-color: var(--sklearn-color-background);\n",
       "  position: relative;\n",
       "}\n",
       "\n",
       "#sk-container-id-6 div.sk-parallel-item {\n",
       "  display: flex;\n",
       "  flex-direction: column;\n",
       "}\n",
       "\n",
       "#sk-container-id-6 div.sk-parallel-item:first-child::after {\n",
       "  align-self: flex-end;\n",
       "  width: 50%;\n",
       "}\n",
       "\n",
       "#sk-container-id-6 div.sk-parallel-item:last-child::after {\n",
       "  align-self: flex-start;\n",
       "  width: 50%;\n",
       "}\n",
       "\n",
       "#sk-container-id-6 div.sk-parallel-item:only-child::after {\n",
       "  width: 0;\n",
       "}\n",
       "\n",
       "/* Serial-specific style estimator block */\n",
       "\n",
       "#sk-container-id-6 div.sk-serial {\n",
       "  display: flex;\n",
       "  flex-direction: column;\n",
       "  align-items: center;\n",
       "  background-color: var(--sklearn-color-background);\n",
       "  padding-right: 1em;\n",
       "  padding-left: 1em;\n",
       "}\n",
       "\n",
       "\n",
       "/* Toggleable style: style used for estimator/Pipeline/ColumnTransformer box that is\n",
       "clickable and can be expanded/collapsed.\n",
       "- Pipeline and ColumnTransformer use this feature and define the default style\n",
       "- Estimators will overwrite some part of the style using the `sk-estimator` class\n",
       "*/\n",
       "\n",
       "/* Pipeline and ColumnTransformer style (default) */\n",
       "\n",
       "#sk-container-id-6 div.sk-toggleable {\n",
       "  /* Default theme specific background. It is overwritten whether we have a\n",
       "  specific estimator or a Pipeline/ColumnTransformer */\n",
       "  background-color: var(--sklearn-color-background);\n",
       "}\n",
       "\n",
       "/* Toggleable label */\n",
       "#sk-container-id-6 label.sk-toggleable__label {\n",
       "  cursor: pointer;\n",
       "  display: block;\n",
       "  width: 100%;\n",
       "  margin-bottom: 0;\n",
       "  padding: 0.5em;\n",
       "  box-sizing: border-box;\n",
       "  text-align: center;\n",
       "}\n",
       "\n",
       "#sk-container-id-6 label.sk-toggleable__label-arrow:before {\n",
       "  /* Arrow on the left of the label */\n",
       "  content: \"▸\";\n",
       "  float: left;\n",
       "  margin-right: 0.25em;\n",
       "  color: var(--sklearn-color-icon);\n",
       "}\n",
       "\n",
       "#sk-container-id-6 label.sk-toggleable__label-arrow:hover:before {\n",
       "  color: var(--sklearn-color-text);\n",
       "}\n",
       "\n",
       "/* Toggleable content - dropdown */\n",
       "\n",
       "#sk-container-id-6 div.sk-toggleable__content {\n",
       "  max-height: 0;\n",
       "  max-width: 0;\n",
       "  overflow: hidden;\n",
       "  text-align: left;\n",
       "  /* unfitted */\n",
       "  background-color: var(--sklearn-color-unfitted-level-0);\n",
       "}\n",
       "\n",
       "#sk-container-id-6 div.sk-toggleable__content.fitted {\n",
       "  /* fitted */\n",
       "  background-color: var(--sklearn-color-fitted-level-0);\n",
       "}\n",
       "\n",
       "#sk-container-id-6 div.sk-toggleable__content pre {\n",
       "  margin: 0.2em;\n",
       "  border-radius: 0.25em;\n",
       "  color: var(--sklearn-color-text);\n",
       "  /* unfitted */\n",
       "  background-color: var(--sklearn-color-unfitted-level-0);\n",
       "}\n",
       "\n",
       "#sk-container-id-6 div.sk-toggleable__content.fitted pre {\n",
       "  /* unfitted */\n",
       "  background-color: var(--sklearn-color-fitted-level-0);\n",
       "}\n",
       "\n",
       "#sk-container-id-6 input.sk-toggleable__control:checked~div.sk-toggleable__content {\n",
       "  /* Expand drop-down */\n",
       "  max-height: 200px;\n",
       "  max-width: 100%;\n",
       "  overflow: auto;\n",
       "}\n",
       "\n",
       "#sk-container-id-6 input.sk-toggleable__control:checked~label.sk-toggleable__label-arrow:before {\n",
       "  content: \"▾\";\n",
       "}\n",
       "\n",
       "/* Pipeline/ColumnTransformer-specific style */\n",
       "\n",
       "#sk-container-id-6 div.sk-label input.sk-toggleable__control:checked~label.sk-toggleable__label {\n",
       "  color: var(--sklearn-color-text);\n",
       "  background-color: var(--sklearn-color-unfitted-level-2);\n",
       "}\n",
       "\n",
       "#sk-container-id-6 div.sk-label.fitted input.sk-toggleable__control:checked~label.sk-toggleable__label {\n",
       "  background-color: var(--sklearn-color-fitted-level-2);\n",
       "}\n",
       "\n",
       "/* Estimator-specific style */\n",
       "\n",
       "/* Colorize estimator box */\n",
       "#sk-container-id-6 div.sk-estimator input.sk-toggleable__control:checked~label.sk-toggleable__label {\n",
       "  /* unfitted */\n",
       "  background-color: var(--sklearn-color-unfitted-level-2);\n",
       "}\n",
       "\n",
       "#sk-container-id-6 div.sk-estimator.fitted input.sk-toggleable__control:checked~label.sk-toggleable__label {\n",
       "  /* fitted */\n",
       "  background-color: var(--sklearn-color-fitted-level-2);\n",
       "}\n",
       "\n",
       "#sk-container-id-6 div.sk-label label.sk-toggleable__label,\n",
       "#sk-container-id-6 div.sk-label label {\n",
       "  /* The background is the default theme color */\n",
       "  color: var(--sklearn-color-text-on-default-background);\n",
       "}\n",
       "\n",
       "/* On hover, darken the color of the background */\n",
       "#sk-container-id-6 div.sk-label:hover label.sk-toggleable__label {\n",
       "  color: var(--sklearn-color-text);\n",
       "  background-color: var(--sklearn-color-unfitted-level-2);\n",
       "}\n",
       "\n",
       "/* Label box, darken color on hover, fitted */\n",
       "#sk-container-id-6 div.sk-label.fitted:hover label.sk-toggleable__label.fitted {\n",
       "  color: var(--sklearn-color-text);\n",
       "  background-color: var(--sklearn-color-fitted-level-2);\n",
       "}\n",
       "\n",
       "/* Estimator label */\n",
       "\n",
       "#sk-container-id-6 div.sk-label label {\n",
       "  font-family: monospace;\n",
       "  font-weight: bold;\n",
       "  display: inline-block;\n",
       "  line-height: 1.2em;\n",
       "}\n",
       "\n",
       "#sk-container-id-6 div.sk-label-container {\n",
       "  text-align: center;\n",
       "}\n",
       "\n",
       "/* Estimator-specific */\n",
       "#sk-container-id-6 div.sk-estimator {\n",
       "  font-family: monospace;\n",
       "  border: 1px dotted var(--sklearn-color-border-box);\n",
       "  border-radius: 0.25em;\n",
       "  box-sizing: border-box;\n",
       "  margin-bottom: 0.5em;\n",
       "  /* unfitted */\n",
       "  background-color: var(--sklearn-color-unfitted-level-0);\n",
       "}\n",
       "\n",
       "#sk-container-id-6 div.sk-estimator.fitted {\n",
       "  /* fitted */\n",
       "  background-color: var(--sklearn-color-fitted-level-0);\n",
       "}\n",
       "\n",
       "/* on hover */\n",
       "#sk-container-id-6 div.sk-estimator:hover {\n",
       "  /* unfitted */\n",
       "  background-color: var(--sklearn-color-unfitted-level-2);\n",
       "}\n",
       "\n",
       "#sk-container-id-6 div.sk-estimator.fitted:hover {\n",
       "  /* fitted */\n",
       "  background-color: var(--sklearn-color-fitted-level-2);\n",
       "}\n",
       "\n",
       "/* Specification for estimator info (e.g. \"i\" and \"?\") */\n",
       "\n",
       "/* Common style for \"i\" and \"?\" */\n",
       "\n",
       ".sk-estimator-doc-link,\n",
       "a:link.sk-estimator-doc-link,\n",
       "a:visited.sk-estimator-doc-link {\n",
       "  float: right;\n",
       "  font-size: smaller;\n",
       "  line-height: 1em;\n",
       "  font-family: monospace;\n",
       "  background-color: var(--sklearn-color-background);\n",
       "  border-radius: 1em;\n",
       "  height: 1em;\n",
       "  width: 1em;\n",
       "  text-decoration: none !important;\n",
       "  margin-left: 1ex;\n",
       "  /* unfitted */\n",
       "  border: var(--sklearn-color-unfitted-level-1) 1pt solid;\n",
       "  color: var(--sklearn-color-unfitted-level-1);\n",
       "}\n",
       "\n",
       ".sk-estimator-doc-link.fitted,\n",
       "a:link.sk-estimator-doc-link.fitted,\n",
       "a:visited.sk-estimator-doc-link.fitted {\n",
       "  /* fitted */\n",
       "  border: var(--sklearn-color-fitted-level-1) 1pt solid;\n",
       "  color: var(--sklearn-color-fitted-level-1);\n",
       "}\n",
       "\n",
       "/* On hover */\n",
       "div.sk-estimator:hover .sk-estimator-doc-link:hover,\n",
       ".sk-estimator-doc-link:hover,\n",
       "div.sk-label-container:hover .sk-estimator-doc-link:hover,\n",
       ".sk-estimator-doc-link:hover {\n",
       "  /* unfitted */\n",
       "  background-color: var(--sklearn-color-unfitted-level-3);\n",
       "  color: var(--sklearn-color-background);\n",
       "  text-decoration: none;\n",
       "}\n",
       "\n",
       "div.sk-estimator.fitted:hover .sk-estimator-doc-link.fitted:hover,\n",
       ".sk-estimator-doc-link.fitted:hover,\n",
       "div.sk-label-container:hover .sk-estimator-doc-link.fitted:hover,\n",
       ".sk-estimator-doc-link.fitted:hover {\n",
       "  /* fitted */\n",
       "  background-color: var(--sklearn-color-fitted-level-3);\n",
       "  color: var(--sklearn-color-background);\n",
       "  text-decoration: none;\n",
       "}\n",
       "\n",
       "/* Span, style for the box shown on hovering the info icon */\n",
       ".sk-estimator-doc-link span {\n",
       "  display: none;\n",
       "  z-index: 9999;\n",
       "  position: relative;\n",
       "  font-weight: normal;\n",
       "  right: .2ex;\n",
       "  padding: .5ex;\n",
       "  margin: .5ex;\n",
       "  width: min-content;\n",
       "  min-width: 20ex;\n",
       "  max-width: 50ex;\n",
       "  color: var(--sklearn-color-text);\n",
       "  box-shadow: 2pt 2pt 4pt #999;\n",
       "  /* unfitted */\n",
       "  background: var(--sklearn-color-unfitted-level-0);\n",
       "  border: .5pt solid var(--sklearn-color-unfitted-level-3);\n",
       "}\n",
       "\n",
       ".sk-estimator-doc-link.fitted span {\n",
       "  /* fitted */\n",
       "  background: var(--sklearn-color-fitted-level-0);\n",
       "  border: var(--sklearn-color-fitted-level-3);\n",
       "}\n",
       "\n",
       ".sk-estimator-doc-link:hover span {\n",
       "  display: block;\n",
       "}\n",
       "\n",
       "/* \"?\"-specific style due to the `<a>` HTML tag */\n",
       "\n",
       "#sk-container-id-6 a.estimator_doc_link {\n",
       "  float: right;\n",
       "  font-size: 1rem;\n",
       "  line-height: 1em;\n",
       "  font-family: monospace;\n",
       "  background-color: var(--sklearn-color-background);\n",
       "  border-radius: 1rem;\n",
       "  height: 1rem;\n",
       "  width: 1rem;\n",
       "  text-decoration: none;\n",
       "  /* unfitted */\n",
       "  color: var(--sklearn-color-unfitted-level-1);\n",
       "  border: var(--sklearn-color-unfitted-level-1) 1pt solid;\n",
       "}\n",
       "\n",
       "#sk-container-id-6 a.estimator_doc_link.fitted {\n",
       "  /* fitted */\n",
       "  border: var(--sklearn-color-fitted-level-1) 1pt solid;\n",
       "  color: var(--sklearn-color-fitted-level-1);\n",
       "}\n",
       "\n",
       "/* On hover */\n",
       "#sk-container-id-6 a.estimator_doc_link:hover {\n",
       "  /* unfitted */\n",
       "  background-color: var(--sklearn-color-unfitted-level-3);\n",
       "  color: var(--sklearn-color-background);\n",
       "  text-decoration: none;\n",
       "}\n",
       "\n",
       "#sk-container-id-6 a.estimator_doc_link.fitted:hover {\n",
       "  /* fitted */\n",
       "  background-color: var(--sklearn-color-fitted-level-3);\n",
       "}\n",
       "</style><div id=\"sk-container-id-6\" class=\"sk-top-container\"><div class=\"sk-text-repr-fallback\"><pre>DecisionTreeRegressor(max_depth=5, min_samples_leaf=10)</pre><b>In a Jupyter environment, please rerun this cell to show the HTML representation or trust the notebook. <br />On GitHub, the HTML representation is unable to render, please try loading this page with nbviewer.org.</b></div><div class=\"sk-container\" hidden><div class=\"sk-item\"><div class=\"sk-estimator fitted sk-toggleable\"><input class=\"sk-toggleable__control sk-hidden--visually\" id=\"sk-estimator-id-12\" type=\"checkbox\" checked><label for=\"sk-estimator-id-12\" class=\"sk-toggleable__label fitted sk-toggleable__label-arrow fitted\">&nbsp;&nbsp;DecisionTreeRegressor<a class=\"sk-estimator-doc-link fitted\" rel=\"noreferrer\" target=\"_blank\" href=\"https://scikit-learn.org/1.4/modules/generated/sklearn.tree.DecisionTreeRegressor.html\">?<span>Documentation for DecisionTreeRegressor</span></a><span class=\"sk-estimator-doc-link fitted\">i<span>Fitted</span></span></label><div class=\"sk-toggleable__content fitted\"><pre>DecisionTreeRegressor(max_depth=5, min_samples_leaf=10)</pre></div> </div></div></div></div>"
      ],
      "text/plain": [
       "DecisionTreeRegressor(max_depth=5, min_samples_leaf=10)"
      ]
     },
     "execution_count": 75,
     "metadata": {},
     "output_type": "execute_result"
    }
   ],
   "source": [
    "best_model_tree_regressor = grid_search_tree_regressor.best_estimator_\n",
    "best_model_tree_regressor"
   ]
  },
  {
   "cell_type": "markdown",
   "id": "66b90a52-3768-42be-9134-2ebfae9a7099",
   "metadata": {},
   "source": [
    "## Forest Grid Search"
   ]
  },
  {
   "cell_type": "code",
   "execution_count": null,
   "id": "506ad0e4-d041-4b2f-bdb9-7564feea1a60",
   "metadata": {},
   "outputs": [
    {
     "name": "stdout",
     "output_type": "stream",
     "text": [
      "Fitting 10 folds for each of 81 candidates, totalling 810 fits\n"
     ]
    },
    {
     "name": "stderr",
     "output_type": "stream",
     "text": [
      "C:\\Users\\ben8h\\anaconda3\\Lib\\site-packages\\sklearn\\model_selection\\_split.py:737: UserWarning: The least populated class in y has only 1 members, which is less than n_splits=10.\n",
      "  warnings.warn(\n",
      "C:\\Users\\ben8h\\anaconda3\\Lib\\site-packages\\sklearn\\base.py:1474: DataConversionWarning: A column-vector y was passed when a 1d array was expected. Please change the shape of y to (n_samples,), for example using ravel().\n",
      "  return fit_method(estimator, *args, **kwargs)\n"
     ]
    },
    {
     "name": "stdout",
     "output_type": "stream",
     "text": [
      "[CV 1/10] END max_depth=None, min_samples_leaf=1, min_samples_split=2, n_estimators=50;, score=0.150 total time=   2.9s\n"
     ]
    },
    {
     "name": "stderr",
     "output_type": "stream",
     "text": [
      "C:\\Users\\ben8h\\anaconda3\\Lib\\site-packages\\sklearn\\base.py:1474: DataConversionWarning: A column-vector y was passed when a 1d array was expected. Please change the shape of y to (n_samples,), for example using ravel().\n",
      "  return fit_method(estimator, *args, **kwargs)\n"
     ]
    },
    {
     "name": "stdout",
     "output_type": "stream",
     "text": [
      "[CV 2/10] END max_depth=None, min_samples_leaf=1, min_samples_split=2, n_estimators=50;, score=0.166 total time=   2.8s\n"
     ]
    },
    {
     "name": "stderr",
     "output_type": "stream",
     "text": [
      "C:\\Users\\ben8h\\anaconda3\\Lib\\site-packages\\sklearn\\base.py:1474: DataConversionWarning: A column-vector y was passed when a 1d array was expected. Please change the shape of y to (n_samples,), for example using ravel().\n",
      "  return fit_method(estimator, *args, **kwargs)\n"
     ]
    },
    {
     "name": "stdout",
     "output_type": "stream",
     "text": [
      "[CV 3/10] END max_depth=None, min_samples_leaf=1, min_samples_split=2, n_estimators=50;, score=0.139 total time=   2.8s\n"
     ]
    },
    {
     "name": "stderr",
     "output_type": "stream",
     "text": [
      "C:\\Users\\ben8h\\anaconda3\\Lib\\site-packages\\sklearn\\base.py:1474: DataConversionWarning: A column-vector y was passed when a 1d array was expected. Please change the shape of y to (n_samples,), for example using ravel().\n",
      "  return fit_method(estimator, *args, **kwargs)\n"
     ]
    },
    {
     "name": "stdout",
     "output_type": "stream",
     "text": [
      "[CV 4/10] END max_depth=None, min_samples_leaf=1, min_samples_split=2, n_estimators=50;, score=0.191 total time=   3.0s\n"
     ]
    },
    {
     "name": "stderr",
     "output_type": "stream",
     "text": [
      "C:\\Users\\ben8h\\anaconda3\\Lib\\site-packages\\sklearn\\base.py:1474: DataConversionWarning: A column-vector y was passed when a 1d array was expected. Please change the shape of y to (n_samples,), for example using ravel().\n",
      "  return fit_method(estimator, *args, **kwargs)\n"
     ]
    },
    {
     "name": "stdout",
     "output_type": "stream",
     "text": [
      "[CV 5/10] END max_depth=None, min_samples_leaf=1, min_samples_split=2, n_estimators=50;, score=0.121 total time=   2.9s\n"
     ]
    },
    {
     "name": "stderr",
     "output_type": "stream",
     "text": [
      "C:\\Users\\ben8h\\anaconda3\\Lib\\site-packages\\sklearn\\base.py:1474: DataConversionWarning: A column-vector y was passed when a 1d array was expected. Please change the shape of y to (n_samples,), for example using ravel().\n",
      "  return fit_method(estimator, *args, **kwargs)\n"
     ]
    },
    {
     "name": "stdout",
     "output_type": "stream",
     "text": [
      "[CV 6/10] END max_depth=None, min_samples_leaf=1, min_samples_split=2, n_estimators=50;, score=0.125 total time=   2.9s\n"
     ]
    },
    {
     "name": "stderr",
     "output_type": "stream",
     "text": [
      "C:\\Users\\ben8h\\anaconda3\\Lib\\site-packages\\sklearn\\base.py:1474: DataConversionWarning: A column-vector y was passed when a 1d array was expected. Please change the shape of y to (n_samples,), for example using ravel().\n",
      "  return fit_method(estimator, *args, **kwargs)\n"
     ]
    },
    {
     "name": "stdout",
     "output_type": "stream",
     "text": [
      "[CV 7/10] END max_depth=None, min_samples_leaf=1, min_samples_split=2, n_estimators=50;, score=0.161 total time=   2.9s\n"
     ]
    },
    {
     "name": "stderr",
     "output_type": "stream",
     "text": [
      "C:\\Users\\ben8h\\anaconda3\\Lib\\site-packages\\sklearn\\base.py:1474: DataConversionWarning: A column-vector y was passed when a 1d array was expected. Please change the shape of y to (n_samples,), for example using ravel().\n",
      "  return fit_method(estimator, *args, **kwargs)\n"
     ]
    },
    {
     "name": "stdout",
     "output_type": "stream",
     "text": [
      "[CV 8/10] END max_depth=None, min_samples_leaf=1, min_samples_split=2, n_estimators=50;, score=0.072 total time=   2.9s\n"
     ]
    },
    {
     "name": "stderr",
     "output_type": "stream",
     "text": [
      "C:\\Users\\ben8h\\anaconda3\\Lib\\site-packages\\sklearn\\base.py:1474: DataConversionWarning: A column-vector y was passed when a 1d array was expected. Please change the shape of y to (n_samples,), for example using ravel().\n",
      "  return fit_method(estimator, *args, **kwargs)\n"
     ]
    },
    {
     "name": "stdout",
     "output_type": "stream",
     "text": [
      "[CV 9/10] END max_depth=None, min_samples_leaf=1, min_samples_split=2, n_estimators=50;, score=0.143 total time=   2.9s\n"
     ]
    },
    {
     "name": "stderr",
     "output_type": "stream",
     "text": [
      "C:\\Users\\ben8h\\anaconda3\\Lib\\site-packages\\sklearn\\base.py:1474: DataConversionWarning: A column-vector y was passed when a 1d array was expected. Please change the shape of y to (n_samples,), for example using ravel().\n",
      "  return fit_method(estimator, *args, **kwargs)\n"
     ]
    },
    {
     "name": "stdout",
     "output_type": "stream",
     "text": [
      "[CV 10/10] END max_depth=None, min_samples_leaf=1, min_samples_split=2, n_estimators=50;, score=0.148 total time=   2.9s\n"
     ]
    },
    {
     "name": "stderr",
     "output_type": "stream",
     "text": [
      "C:\\Users\\ben8h\\anaconda3\\Lib\\site-packages\\sklearn\\base.py:1474: DataConversionWarning: A column-vector y was passed when a 1d array was expected. Please change the shape of y to (n_samples,), for example using ravel().\n",
      "  return fit_method(estimator, *args, **kwargs)\n"
     ]
    },
    {
     "name": "stdout",
     "output_type": "stream",
     "text": [
      "[CV 1/10] END max_depth=None, min_samples_leaf=1, min_samples_split=2, n_estimators=100;, score=0.158 total time=   6.0s\n"
     ]
    },
    {
     "name": "stderr",
     "output_type": "stream",
     "text": [
      "C:\\Users\\ben8h\\anaconda3\\Lib\\site-packages\\sklearn\\base.py:1474: DataConversionWarning: A column-vector y was passed when a 1d array was expected. Please change the shape of y to (n_samples,), for example using ravel().\n",
      "  return fit_method(estimator, *args, **kwargs)\n"
     ]
    },
    {
     "name": "stdout",
     "output_type": "stream",
     "text": [
      "[CV 2/10] END max_depth=None, min_samples_leaf=1, min_samples_split=2, n_estimators=100;, score=0.183 total time=   5.8s\n"
     ]
    },
    {
     "name": "stderr",
     "output_type": "stream",
     "text": [
      "C:\\Users\\ben8h\\anaconda3\\Lib\\site-packages\\sklearn\\base.py:1474: DataConversionWarning: A column-vector y was passed when a 1d array was expected. Please change the shape of y to (n_samples,), for example using ravel().\n",
      "  return fit_method(estimator, *args, **kwargs)\n"
     ]
    },
    {
     "name": "stdout",
     "output_type": "stream",
     "text": [
      "[CV 3/10] END max_depth=None, min_samples_leaf=1, min_samples_split=2, n_estimators=100;, score=0.122 total time=   5.9s\n"
     ]
    },
    {
     "name": "stderr",
     "output_type": "stream",
     "text": [
      "C:\\Users\\ben8h\\anaconda3\\Lib\\site-packages\\sklearn\\base.py:1474: DataConversionWarning: A column-vector y was passed when a 1d array was expected. Please change the shape of y to (n_samples,), for example using ravel().\n",
      "  return fit_method(estimator, *args, **kwargs)\n"
     ]
    },
    {
     "name": "stdout",
     "output_type": "stream",
     "text": [
      "[CV 4/10] END max_depth=None, min_samples_leaf=1, min_samples_split=2, n_estimators=100;, score=0.188 total time=   6.0s\n"
     ]
    },
    {
     "name": "stderr",
     "output_type": "stream",
     "text": [
      "C:\\Users\\ben8h\\anaconda3\\Lib\\site-packages\\sklearn\\base.py:1474: DataConversionWarning: A column-vector y was passed when a 1d array was expected. Please change the shape of y to (n_samples,), for example using ravel().\n",
      "  return fit_method(estimator, *args, **kwargs)\n"
     ]
    },
    {
     "name": "stdout",
     "output_type": "stream",
     "text": [
      "[CV 5/10] END max_depth=None, min_samples_leaf=1, min_samples_split=2, n_estimators=100;, score=0.120 total time=   5.8s\n"
     ]
    },
    {
     "name": "stderr",
     "output_type": "stream",
     "text": [
      "C:\\Users\\ben8h\\anaconda3\\Lib\\site-packages\\sklearn\\base.py:1474: DataConversionWarning: A column-vector y was passed when a 1d array was expected. Please change the shape of y to (n_samples,), for example using ravel().\n",
      "  return fit_method(estimator, *args, **kwargs)\n"
     ]
    },
    {
     "name": "stdout",
     "output_type": "stream",
     "text": [
      "[CV 6/10] END max_depth=None, min_samples_leaf=1, min_samples_split=2, n_estimators=100;, score=0.139 total time=   5.9s\n"
     ]
    },
    {
     "name": "stderr",
     "output_type": "stream",
     "text": [
      "C:\\Users\\ben8h\\anaconda3\\Lib\\site-packages\\sklearn\\base.py:1474: DataConversionWarning: A column-vector y was passed when a 1d array was expected. Please change the shape of y to (n_samples,), for example using ravel().\n",
      "  return fit_method(estimator, *args, **kwargs)\n"
     ]
    },
    {
     "name": "stdout",
     "output_type": "stream",
     "text": [
      "[CV 7/10] END max_depth=None, min_samples_leaf=1, min_samples_split=2, n_estimators=100;, score=0.171 total time=   5.9s\n"
     ]
    },
    {
     "name": "stderr",
     "output_type": "stream",
     "text": [
      "C:\\Users\\ben8h\\anaconda3\\Lib\\site-packages\\sklearn\\base.py:1474: DataConversionWarning: A column-vector y was passed when a 1d array was expected. Please change the shape of y to (n_samples,), for example using ravel().\n",
      "  return fit_method(estimator, *args, **kwargs)\n"
     ]
    },
    {
     "name": "stdout",
     "output_type": "stream",
     "text": [
      "[CV 8/10] END max_depth=None, min_samples_leaf=1, min_samples_split=2, n_estimators=100;, score=0.084 total time=   5.8s\n"
     ]
    },
    {
     "name": "stderr",
     "output_type": "stream",
     "text": [
      "C:\\Users\\ben8h\\anaconda3\\Lib\\site-packages\\sklearn\\base.py:1474: DataConversionWarning: A column-vector y was passed when a 1d array was expected. Please change the shape of y to (n_samples,), for example using ravel().\n",
      "  return fit_method(estimator, *args, **kwargs)\n"
     ]
    },
    {
     "name": "stdout",
     "output_type": "stream",
     "text": [
      "[CV 9/10] END max_depth=None, min_samples_leaf=1, min_samples_split=2, n_estimators=100;, score=0.156 total time=   5.8s\n"
     ]
    },
    {
     "name": "stderr",
     "output_type": "stream",
     "text": [
      "C:\\Users\\ben8h\\anaconda3\\Lib\\site-packages\\sklearn\\base.py:1474: DataConversionWarning: A column-vector y was passed when a 1d array was expected. Please change the shape of y to (n_samples,), for example using ravel().\n",
      "  return fit_method(estimator, *args, **kwargs)\n"
     ]
    },
    {
     "name": "stdout",
     "output_type": "stream",
     "text": [
      "[CV 10/10] END max_depth=None, min_samples_leaf=1, min_samples_split=2, n_estimators=100;, score=0.136 total time=   5.9s\n"
     ]
    },
    {
     "name": "stderr",
     "output_type": "stream",
     "text": [
      "C:\\Users\\ben8h\\anaconda3\\Lib\\site-packages\\sklearn\\base.py:1474: DataConversionWarning: A column-vector y was passed when a 1d array was expected. Please change the shape of y to (n_samples,), for example using ravel().\n",
      "  return fit_method(estimator, *args, **kwargs)\n"
     ]
    },
    {
     "name": "stdout",
     "output_type": "stream",
     "text": [
      "[CV 1/10] END max_depth=None, min_samples_leaf=1, min_samples_split=2, n_estimators=200;, score=0.179 total time=  12.0s\n"
     ]
    },
    {
     "name": "stderr",
     "output_type": "stream",
     "text": [
      "C:\\Users\\ben8h\\anaconda3\\Lib\\site-packages\\sklearn\\base.py:1474: DataConversionWarning: A column-vector y was passed when a 1d array was expected. Please change the shape of y to (n_samples,), for example using ravel().\n",
      "  return fit_method(estimator, *args, **kwargs)\n"
     ]
    },
    {
     "name": "stdout",
     "output_type": "stream",
     "text": [
      "[CV 2/10] END max_depth=None, min_samples_leaf=1, min_samples_split=2, n_estimators=200;, score=0.195 total time=  11.7s\n"
     ]
    },
    {
     "name": "stderr",
     "output_type": "stream",
     "text": [
      "C:\\Users\\ben8h\\anaconda3\\Lib\\site-packages\\sklearn\\base.py:1474: DataConversionWarning: A column-vector y was passed when a 1d array was expected. Please change the shape of y to (n_samples,), for example using ravel().\n",
      "  return fit_method(estimator, *args, **kwargs)\n"
     ]
    },
    {
     "name": "stdout",
     "output_type": "stream",
     "text": [
      "[CV 3/10] END max_depth=None, min_samples_leaf=1, min_samples_split=2, n_estimators=200;, score=0.134 total time=  11.7s\n"
     ]
    },
    {
     "name": "stderr",
     "output_type": "stream",
     "text": [
      "C:\\Users\\ben8h\\anaconda3\\Lib\\site-packages\\sklearn\\base.py:1474: DataConversionWarning: A column-vector y was passed when a 1d array was expected. Please change the shape of y to (n_samples,), for example using ravel().\n",
      "  return fit_method(estimator, *args, **kwargs)\n"
     ]
    },
    {
     "name": "stdout",
     "output_type": "stream",
     "text": [
      "[CV 4/10] END max_depth=None, min_samples_leaf=1, min_samples_split=2, n_estimators=200;, score=0.202 total time=  12.0s\n"
     ]
    },
    {
     "name": "stderr",
     "output_type": "stream",
     "text": [
      "C:\\Users\\ben8h\\anaconda3\\Lib\\site-packages\\sklearn\\base.py:1474: DataConversionWarning: A column-vector y was passed when a 1d array was expected. Please change the shape of y to (n_samples,), for example using ravel().\n",
      "  return fit_method(estimator, *args, **kwargs)\n"
     ]
    },
    {
     "name": "stdout",
     "output_type": "stream",
     "text": [
      "[CV 5/10] END max_depth=None, min_samples_leaf=1, min_samples_split=2, n_estimators=200;, score=0.119 total time=  11.8s\n"
     ]
    },
    {
     "name": "stderr",
     "output_type": "stream",
     "text": [
      "C:\\Users\\ben8h\\anaconda3\\Lib\\site-packages\\sklearn\\base.py:1474: DataConversionWarning: A column-vector y was passed when a 1d array was expected. Please change the shape of y to (n_samples,), for example using ravel().\n",
      "  return fit_method(estimator, *args, **kwargs)\n"
     ]
    },
    {
     "name": "stdout",
     "output_type": "stream",
     "text": [
      "[CV 6/10] END max_depth=None, min_samples_leaf=1, min_samples_split=2, n_estimators=200;, score=0.138 total time=  11.7s\n"
     ]
    },
    {
     "name": "stderr",
     "output_type": "stream",
     "text": [
      "C:\\Users\\ben8h\\anaconda3\\Lib\\site-packages\\sklearn\\base.py:1474: DataConversionWarning: A column-vector y was passed when a 1d array was expected. Please change the shape of y to (n_samples,), for example using ravel().\n",
      "  return fit_method(estimator, *args, **kwargs)\n"
     ]
    },
    {
     "name": "stdout",
     "output_type": "stream",
     "text": [
      "[CV 7/10] END max_depth=None, min_samples_leaf=1, min_samples_split=2, n_estimators=200;, score=0.179 total time=  11.8s\n"
     ]
    },
    {
     "name": "stderr",
     "output_type": "stream",
     "text": [
      "C:\\Users\\ben8h\\anaconda3\\Lib\\site-packages\\sklearn\\base.py:1474: DataConversionWarning: A column-vector y was passed when a 1d array was expected. Please change the shape of y to (n_samples,), for example using ravel().\n",
      "  return fit_method(estimator, *args, **kwargs)\n"
     ]
    },
    {
     "name": "stdout",
     "output_type": "stream",
     "text": [
      "[CV 8/10] END max_depth=None, min_samples_leaf=1, min_samples_split=2, n_estimators=200;, score=0.086 total time=  11.9s\n"
     ]
    },
    {
     "name": "stderr",
     "output_type": "stream",
     "text": [
      "C:\\Users\\ben8h\\anaconda3\\Lib\\site-packages\\sklearn\\base.py:1474: DataConversionWarning: A column-vector y was passed when a 1d array was expected. Please change the shape of y to (n_samples,), for example using ravel().\n",
      "  return fit_method(estimator, *args, **kwargs)\n"
     ]
    },
    {
     "name": "stdout",
     "output_type": "stream",
     "text": [
      "[CV 9/10] END max_depth=None, min_samples_leaf=1, min_samples_split=2, n_estimators=200;, score=0.148 total time=  11.7s\n"
     ]
    },
    {
     "name": "stderr",
     "output_type": "stream",
     "text": [
      "C:\\Users\\ben8h\\anaconda3\\Lib\\site-packages\\sklearn\\base.py:1474: DataConversionWarning: A column-vector y was passed when a 1d array was expected. Please change the shape of y to (n_samples,), for example using ravel().\n",
      "  return fit_method(estimator, *args, **kwargs)\n"
     ]
    },
    {
     "name": "stdout",
     "output_type": "stream",
     "text": [
      "[CV 10/10] END max_depth=None, min_samples_leaf=1, min_samples_split=2, n_estimators=200;, score=0.149 total time=  11.8s\n"
     ]
    },
    {
     "name": "stderr",
     "output_type": "stream",
     "text": [
      "C:\\Users\\ben8h\\anaconda3\\Lib\\site-packages\\sklearn\\base.py:1474: DataConversionWarning: A column-vector y was passed when a 1d array was expected. Please change the shape of y to (n_samples,), for example using ravel().\n",
      "  return fit_method(estimator, *args, **kwargs)\n"
     ]
    },
    {
     "name": "stdout",
     "output_type": "stream",
     "text": [
      "[CV 1/10] END max_depth=None, min_samples_leaf=1, min_samples_split=5, n_estimators=50;, score=0.176 total time=   2.6s\n"
     ]
    },
    {
     "name": "stderr",
     "output_type": "stream",
     "text": [
      "C:\\Users\\ben8h\\anaconda3\\Lib\\site-packages\\sklearn\\base.py:1474: DataConversionWarning: A column-vector y was passed when a 1d array was expected. Please change the shape of y to (n_samples,), for example using ravel().\n",
      "  return fit_method(estimator, *args, **kwargs)\n"
     ]
    },
    {
     "name": "stdout",
     "output_type": "stream",
     "text": [
      "[CV 2/10] END max_depth=None, min_samples_leaf=1, min_samples_split=5, n_estimators=50;, score=0.198 total time=   2.5s\n"
     ]
    },
    {
     "name": "stderr",
     "output_type": "stream",
     "text": [
      "C:\\Users\\ben8h\\anaconda3\\Lib\\site-packages\\sklearn\\base.py:1474: DataConversionWarning: A column-vector y was passed when a 1d array was expected. Please change the shape of y to (n_samples,), for example using ravel().\n",
      "  return fit_method(estimator, *args, **kwargs)\n"
     ]
    },
    {
     "name": "stdout",
     "output_type": "stream",
     "text": [
      "[CV 3/10] END max_depth=None, min_samples_leaf=1, min_samples_split=5, n_estimators=50;, score=0.131 total time=   2.5s\n"
     ]
    },
    {
     "name": "stderr",
     "output_type": "stream",
     "text": [
      "C:\\Users\\ben8h\\anaconda3\\Lib\\site-packages\\sklearn\\base.py:1474: DataConversionWarning: A column-vector y was passed when a 1d array was expected. Please change the shape of y to (n_samples,), for example using ravel().\n",
      "  return fit_method(estimator, *args, **kwargs)\n"
     ]
    },
    {
     "name": "stdout",
     "output_type": "stream",
     "text": [
      "[CV 4/10] END max_depth=None, min_samples_leaf=1, min_samples_split=5, n_estimators=50;, score=0.194 total time=   2.6s\n"
     ]
    },
    {
     "name": "stderr",
     "output_type": "stream",
     "text": [
      "C:\\Users\\ben8h\\anaconda3\\Lib\\site-packages\\sklearn\\base.py:1474: DataConversionWarning: A column-vector y was passed when a 1d array was expected. Please change the shape of y to (n_samples,), for example using ravel().\n",
      "  return fit_method(estimator, *args, **kwargs)\n"
     ]
    },
    {
     "name": "stdout",
     "output_type": "stream",
     "text": [
      "[CV 5/10] END max_depth=None, min_samples_leaf=1, min_samples_split=5, n_estimators=50;, score=0.110 total time=   2.5s\n"
     ]
    },
    {
     "name": "stderr",
     "output_type": "stream",
     "text": [
      "C:\\Users\\ben8h\\anaconda3\\Lib\\site-packages\\sklearn\\base.py:1474: DataConversionWarning: A column-vector y was passed when a 1d array was expected. Please change the shape of y to (n_samples,), for example using ravel().\n",
      "  return fit_method(estimator, *args, **kwargs)\n"
     ]
    },
    {
     "name": "stdout",
     "output_type": "stream",
     "text": [
      "[CV 6/10] END max_depth=None, min_samples_leaf=1, min_samples_split=5, n_estimators=50;, score=0.126 total time=   2.6s\n"
     ]
    },
    {
     "name": "stderr",
     "output_type": "stream",
     "text": [
      "C:\\Users\\ben8h\\anaconda3\\Lib\\site-packages\\sklearn\\base.py:1474: DataConversionWarning: A column-vector y was passed when a 1d array was expected. Please change the shape of y to (n_samples,), for example using ravel().\n",
      "  return fit_method(estimator, *args, **kwargs)\n"
     ]
    },
    {
     "name": "stdout",
     "output_type": "stream",
     "text": [
      "[CV 7/10] END max_depth=None, min_samples_leaf=1, min_samples_split=5, n_estimators=50;, score=0.175 total time=   2.5s\n"
     ]
    },
    {
     "name": "stderr",
     "output_type": "stream",
     "text": [
      "C:\\Users\\ben8h\\anaconda3\\Lib\\site-packages\\sklearn\\base.py:1474: DataConversionWarning: A column-vector y was passed when a 1d array was expected. Please change the shape of y to (n_samples,), for example using ravel().\n",
      "  return fit_method(estimator, *args, **kwargs)\n"
     ]
    },
    {
     "name": "stdout",
     "output_type": "stream",
     "text": [
      "[CV 8/10] END max_depth=None, min_samples_leaf=1, min_samples_split=5, n_estimators=50;, score=0.094 total time=   2.5s\n"
     ]
    },
    {
     "name": "stderr",
     "output_type": "stream",
     "text": [
      "C:\\Users\\ben8h\\anaconda3\\Lib\\site-packages\\sklearn\\base.py:1474: DataConversionWarning: A column-vector y was passed when a 1d array was expected. Please change the shape of y to (n_samples,), for example using ravel().\n",
      "  return fit_method(estimator, *args, **kwargs)\n"
     ]
    },
    {
     "name": "stdout",
     "output_type": "stream",
     "text": [
      "[CV 9/10] END max_depth=None, min_samples_leaf=1, min_samples_split=5, n_estimators=50;, score=0.127 total time=   2.5s\n"
     ]
    },
    {
     "name": "stderr",
     "output_type": "stream",
     "text": [
      "C:\\Users\\ben8h\\anaconda3\\Lib\\site-packages\\sklearn\\base.py:1474: DataConversionWarning: A column-vector y was passed when a 1d array was expected. Please change the shape of y to (n_samples,), for example using ravel().\n",
      "  return fit_method(estimator, *args, **kwargs)\n"
     ]
    },
    {
     "name": "stdout",
     "output_type": "stream",
     "text": [
      "[CV 10/10] END max_depth=None, min_samples_leaf=1, min_samples_split=5, n_estimators=50;, score=0.136 total time=   2.5s\n"
     ]
    },
    {
     "name": "stderr",
     "output_type": "stream",
     "text": [
      "C:\\Users\\ben8h\\anaconda3\\Lib\\site-packages\\sklearn\\base.py:1474: DataConversionWarning: A column-vector y was passed when a 1d array was expected. Please change the shape of y to (n_samples,), for example using ravel().\n",
      "  return fit_method(estimator, *args, **kwargs)\n"
     ]
    },
    {
     "name": "stdout",
     "output_type": "stream",
     "text": [
      "[CV 1/10] END max_depth=None, min_samples_leaf=1, min_samples_split=5, n_estimators=100;, score=0.178 total time=   5.2s\n"
     ]
    },
    {
     "name": "stderr",
     "output_type": "stream",
     "text": [
      "C:\\Users\\ben8h\\anaconda3\\Lib\\site-packages\\sklearn\\base.py:1474: DataConversionWarning: A column-vector y was passed when a 1d array was expected. Please change the shape of y to (n_samples,), for example using ravel().\n",
      "  return fit_method(estimator, *args, **kwargs)\n"
     ]
    },
    {
     "name": "stdout",
     "output_type": "stream",
     "text": [
      "[CV 2/10] END max_depth=None, min_samples_leaf=1, min_samples_split=5, n_estimators=100;, score=0.165 total time=   5.1s\n"
     ]
    },
    {
     "name": "stderr",
     "output_type": "stream",
     "text": [
      "C:\\Users\\ben8h\\anaconda3\\Lib\\site-packages\\sklearn\\base.py:1474: DataConversionWarning: A column-vector y was passed when a 1d array was expected. Please change the shape of y to (n_samples,), for example using ravel().\n",
      "  return fit_method(estimator, *args, **kwargs)\n"
     ]
    },
    {
     "name": "stdout",
     "output_type": "stream",
     "text": [
      "[CV 3/10] END max_depth=None, min_samples_leaf=1, min_samples_split=5, n_estimators=100;, score=0.143 total time=   5.1s\n"
     ]
    },
    {
     "name": "stderr",
     "output_type": "stream",
     "text": [
      "C:\\Users\\ben8h\\anaconda3\\Lib\\site-packages\\sklearn\\base.py:1474: DataConversionWarning: A column-vector y was passed when a 1d array was expected. Please change the shape of y to (n_samples,), for example using ravel().\n",
      "  return fit_method(estimator, *args, **kwargs)\n"
     ]
    },
    {
     "name": "stdout",
     "output_type": "stream",
     "text": [
      "[CV 4/10] END max_depth=None, min_samples_leaf=1, min_samples_split=5, n_estimators=100;, score=0.188 total time=   5.2s\n"
     ]
    },
    {
     "name": "stderr",
     "output_type": "stream",
     "text": [
      "C:\\Users\\ben8h\\anaconda3\\Lib\\site-packages\\sklearn\\base.py:1474: DataConversionWarning: A column-vector y was passed when a 1d array was expected. Please change the shape of y to (n_samples,), for example using ravel().\n",
      "  return fit_method(estimator, *args, **kwargs)\n"
     ]
    },
    {
     "name": "stdout",
     "output_type": "stream",
     "text": [
      "[CV 5/10] END max_depth=None, min_samples_leaf=1, min_samples_split=5, n_estimators=100;, score=0.108 total time=   5.1s\n"
     ]
    },
    {
     "name": "stderr",
     "output_type": "stream",
     "text": [
      "C:\\Users\\ben8h\\anaconda3\\Lib\\site-packages\\sklearn\\base.py:1474: DataConversionWarning: A column-vector y was passed when a 1d array was expected. Please change the shape of y to (n_samples,), for example using ravel().\n",
      "  return fit_method(estimator, *args, **kwargs)\n"
     ]
    },
    {
     "name": "stdout",
     "output_type": "stream",
     "text": [
      "[CV 6/10] END max_depth=None, min_samples_leaf=1, min_samples_split=5, n_estimators=100;, score=0.122 total time=   5.2s\n"
     ]
    },
    {
     "name": "stderr",
     "output_type": "stream",
     "text": [
      "C:\\Users\\ben8h\\anaconda3\\Lib\\site-packages\\sklearn\\base.py:1474: DataConversionWarning: A column-vector y was passed when a 1d array was expected. Please change the shape of y to (n_samples,), for example using ravel().\n",
      "  return fit_method(estimator, *args, **kwargs)\n"
     ]
    },
    {
     "name": "stdout",
     "output_type": "stream",
     "text": [
      "[CV 7/10] END max_depth=None, min_samples_leaf=1, min_samples_split=5, n_estimators=100;, score=0.169 total time=   5.2s\n"
     ]
    },
    {
     "name": "stderr",
     "output_type": "stream",
     "text": [
      "C:\\Users\\ben8h\\anaconda3\\Lib\\site-packages\\sklearn\\base.py:1474: DataConversionWarning: A column-vector y was passed when a 1d array was expected. Please change the shape of y to (n_samples,), for example using ravel().\n",
      "  return fit_method(estimator, *args, **kwargs)\n"
     ]
    },
    {
     "name": "stdout",
     "output_type": "stream",
     "text": [
      "[CV 8/10] END max_depth=None, min_samples_leaf=1, min_samples_split=5, n_estimators=100;, score=0.087 total time=   5.1s\n"
     ]
    },
    {
     "name": "stderr",
     "output_type": "stream",
     "text": [
      "C:\\Users\\ben8h\\anaconda3\\Lib\\site-packages\\sklearn\\base.py:1474: DataConversionWarning: A column-vector y was passed when a 1d array was expected. Please change the shape of y to (n_samples,), for example using ravel().\n",
      "  return fit_method(estimator, *args, **kwargs)\n"
     ]
    },
    {
     "name": "stdout",
     "output_type": "stream",
     "text": [
      "[CV 9/10] END max_depth=None, min_samples_leaf=1, min_samples_split=5, n_estimators=100;, score=0.158 total time=   5.1s\n"
     ]
    },
    {
     "name": "stderr",
     "output_type": "stream",
     "text": [
      "C:\\Users\\ben8h\\anaconda3\\Lib\\site-packages\\sklearn\\base.py:1474: DataConversionWarning: A column-vector y was passed when a 1d array was expected. Please change the shape of y to (n_samples,), for example using ravel().\n",
      "  return fit_method(estimator, *args, **kwargs)\n"
     ]
    },
    {
     "name": "stdout",
     "output_type": "stream",
     "text": [
      "[CV 10/10] END max_depth=None, min_samples_leaf=1, min_samples_split=5, n_estimators=100;, score=0.124 total time=   5.2s\n"
     ]
    },
    {
     "name": "stderr",
     "output_type": "stream",
     "text": [
      "C:\\Users\\ben8h\\anaconda3\\Lib\\site-packages\\sklearn\\base.py:1474: DataConversionWarning: A column-vector y was passed when a 1d array was expected. Please change the shape of y to (n_samples,), for example using ravel().\n",
      "  return fit_method(estimator, *args, **kwargs)\n"
     ]
    },
    {
     "name": "stdout",
     "output_type": "stream",
     "text": [
      "[CV 1/10] END max_depth=None, min_samples_leaf=1, min_samples_split=5, n_estimators=200;, score=0.166 total time=  10.6s\n"
     ]
    },
    {
     "name": "stderr",
     "output_type": "stream",
     "text": [
      "C:\\Users\\ben8h\\anaconda3\\Lib\\site-packages\\sklearn\\base.py:1474: DataConversionWarning: A column-vector y was passed when a 1d array was expected. Please change the shape of y to (n_samples,), for example using ravel().\n",
      "  return fit_method(estimator, *args, **kwargs)\n"
     ]
    },
    {
     "name": "stdout",
     "output_type": "stream",
     "text": [
      "[CV 2/10] END max_depth=None, min_samples_leaf=1, min_samples_split=5, n_estimators=200;, score=0.186 total time=  10.3s\n"
     ]
    },
    {
     "name": "stderr",
     "output_type": "stream",
     "text": [
      "C:\\Users\\ben8h\\anaconda3\\Lib\\site-packages\\sklearn\\base.py:1474: DataConversionWarning: A column-vector y was passed when a 1d array was expected. Please change the shape of y to (n_samples,), for example using ravel().\n",
      "  return fit_method(estimator, *args, **kwargs)\n"
     ]
    },
    {
     "name": "stdout",
     "output_type": "stream",
     "text": [
      "[CV 3/10] END max_depth=None, min_samples_leaf=1, min_samples_split=5, n_estimators=200;, score=0.142 total time=  10.4s\n"
     ]
    },
    {
     "name": "stderr",
     "output_type": "stream",
     "text": [
      "C:\\Users\\ben8h\\anaconda3\\Lib\\site-packages\\sklearn\\base.py:1474: DataConversionWarning: A column-vector y was passed when a 1d array was expected. Please change the shape of y to (n_samples,), for example using ravel().\n",
      "  return fit_method(estimator, *args, **kwargs)\n"
     ]
    },
    {
     "name": "stdout",
     "output_type": "stream",
     "text": [
      "[CV 4/10] END max_depth=None, min_samples_leaf=1, min_samples_split=5, n_estimators=200;, score=0.200 total time=  10.6s\n"
     ]
    },
    {
     "name": "stderr",
     "output_type": "stream",
     "text": [
      "C:\\Users\\ben8h\\anaconda3\\Lib\\site-packages\\sklearn\\base.py:1474: DataConversionWarning: A column-vector y was passed when a 1d array was expected. Please change the shape of y to (n_samples,), for example using ravel().\n",
      "  return fit_method(estimator, *args, **kwargs)\n"
     ]
    },
    {
     "name": "stdout",
     "output_type": "stream",
     "text": [
      "[CV 5/10] END max_depth=None, min_samples_leaf=1, min_samples_split=5, n_estimators=200;, score=0.128 total time=  10.4s\n"
     ]
    },
    {
     "name": "stderr",
     "output_type": "stream",
     "text": [
      "C:\\Users\\ben8h\\anaconda3\\Lib\\site-packages\\sklearn\\base.py:1474: DataConversionWarning: A column-vector y was passed when a 1d array was expected. Please change the shape of y to (n_samples,), for example using ravel().\n",
      "  return fit_method(estimator, *args, **kwargs)\n"
     ]
    },
    {
     "name": "stdout",
     "output_type": "stream",
     "text": [
      "[CV 6/10] END max_depth=None, min_samples_leaf=1, min_samples_split=5, n_estimators=200;, score=0.135 total time=  10.3s\n"
     ]
    },
    {
     "name": "stderr",
     "output_type": "stream",
     "text": [
      "C:\\Users\\ben8h\\anaconda3\\Lib\\site-packages\\sklearn\\base.py:1474: DataConversionWarning: A column-vector y was passed when a 1d array was expected. Please change the shape of y to (n_samples,), for example using ravel().\n",
      "  return fit_method(estimator, *args, **kwargs)\n"
     ]
    },
    {
     "name": "stdout",
     "output_type": "stream",
     "text": [
      "[CV 7/10] END max_depth=None, min_samples_leaf=1, min_samples_split=5, n_estimators=200;, score=0.173 total time=  10.4s\n"
     ]
    },
    {
     "name": "stderr",
     "output_type": "stream",
     "text": [
      "C:\\Users\\ben8h\\anaconda3\\Lib\\site-packages\\sklearn\\base.py:1474: DataConversionWarning: A column-vector y was passed when a 1d array was expected. Please change the shape of y to (n_samples,), for example using ravel().\n",
      "  return fit_method(estimator, *args, **kwargs)\n"
     ]
    },
    {
     "name": "stdout",
     "output_type": "stream",
     "text": [
      "[CV 8/10] END max_depth=None, min_samples_leaf=1, min_samples_split=5, n_estimators=200;, score=0.091 total time=  10.4s\n"
     ]
    },
    {
     "name": "stderr",
     "output_type": "stream",
     "text": [
      "C:\\Users\\ben8h\\anaconda3\\Lib\\site-packages\\sklearn\\base.py:1474: DataConversionWarning: A column-vector y was passed when a 1d array was expected. Please change the shape of y to (n_samples,), for example using ravel().\n",
      "  return fit_method(estimator, *args, **kwargs)\n"
     ]
    },
    {
     "name": "stdout",
     "output_type": "stream",
     "text": [
      "[CV 9/10] END max_depth=None, min_samples_leaf=1, min_samples_split=5, n_estimators=200;, score=0.149 total time=  10.4s\n"
     ]
    },
    {
     "name": "stderr",
     "output_type": "stream",
     "text": [
      "C:\\Users\\ben8h\\anaconda3\\Lib\\site-packages\\sklearn\\base.py:1474: DataConversionWarning: A column-vector y was passed when a 1d array was expected. Please change the shape of y to (n_samples,), for example using ravel().\n",
      "  return fit_method(estimator, *args, **kwargs)\n"
     ]
    },
    {
     "name": "stdout",
     "output_type": "stream",
     "text": [
      "[CV 10/10] END max_depth=None, min_samples_leaf=1, min_samples_split=5, n_estimators=200;, score=0.151 total time=  10.7s\n"
     ]
    },
    {
     "name": "stderr",
     "output_type": "stream",
     "text": [
      "C:\\Users\\ben8h\\anaconda3\\Lib\\site-packages\\sklearn\\base.py:1474: DataConversionWarning: A column-vector y was passed when a 1d array was expected. Please change the shape of y to (n_samples,), for example using ravel().\n",
      "  return fit_method(estimator, *args, **kwargs)\n"
     ]
    },
    {
     "name": "stdout",
     "output_type": "stream",
     "text": [
      "[CV 1/10] END max_depth=None, min_samples_leaf=1, min_samples_split=10, n_estimators=50;, score=0.172 total time=   2.4s\n"
     ]
    },
    {
     "name": "stderr",
     "output_type": "stream",
     "text": [
      "C:\\Users\\ben8h\\anaconda3\\Lib\\site-packages\\sklearn\\base.py:1474: DataConversionWarning: A column-vector y was passed when a 1d array was expected. Please change the shape of y to (n_samples,), for example using ravel().\n",
      "  return fit_method(estimator, *args, **kwargs)\n"
     ]
    },
    {
     "name": "stdout",
     "output_type": "stream",
     "text": [
      "[CV 2/10] END max_depth=None, min_samples_leaf=1, min_samples_split=10, n_estimators=50;, score=0.206 total time=   2.3s\n"
     ]
    },
    {
     "name": "stderr",
     "output_type": "stream",
     "text": [
      "C:\\Users\\ben8h\\anaconda3\\Lib\\site-packages\\sklearn\\base.py:1474: DataConversionWarning: A column-vector y was passed when a 1d array was expected. Please change the shape of y to (n_samples,), for example using ravel().\n",
      "  return fit_method(estimator, *args, **kwargs)\n"
     ]
    },
    {
     "name": "stdout",
     "output_type": "stream",
     "text": [
      "[CV 3/10] END max_depth=None, min_samples_leaf=1, min_samples_split=10, n_estimators=50;, score=0.154 total time=   2.4s\n"
     ]
    },
    {
     "name": "stderr",
     "output_type": "stream",
     "text": [
      "C:\\Users\\ben8h\\anaconda3\\Lib\\site-packages\\sklearn\\base.py:1474: DataConversionWarning: A column-vector y was passed when a 1d array was expected. Please change the shape of y to (n_samples,), for example using ravel().\n",
      "  return fit_method(estimator, *args, **kwargs)\n"
     ]
    },
    {
     "name": "stdout",
     "output_type": "stream",
     "text": [
      "[CV 4/10] END max_depth=None, min_samples_leaf=1, min_samples_split=10, n_estimators=50;, score=0.200 total time=   2.4s\n"
     ]
    },
    {
     "name": "stderr",
     "output_type": "stream",
     "text": [
      "C:\\Users\\ben8h\\anaconda3\\Lib\\site-packages\\sklearn\\base.py:1474: DataConversionWarning: A column-vector y was passed when a 1d array was expected. Please change the shape of y to (n_samples,), for example using ravel().\n",
      "  return fit_method(estimator, *args, **kwargs)\n"
     ]
    },
    {
     "name": "stdout",
     "output_type": "stream",
     "text": [
      "[CV 5/10] END max_depth=None, min_samples_leaf=1, min_samples_split=10, n_estimators=50;, score=0.128 total time=   2.3s\n"
     ]
    },
    {
     "name": "stderr",
     "output_type": "stream",
     "text": [
      "C:\\Users\\ben8h\\anaconda3\\Lib\\site-packages\\sklearn\\base.py:1474: DataConversionWarning: A column-vector y was passed when a 1d array was expected. Please change the shape of y to (n_samples,), for example using ravel().\n",
      "  return fit_method(estimator, *args, **kwargs)\n"
     ]
    },
    {
     "name": "stdout",
     "output_type": "stream",
     "text": [
      "[CV 6/10] END max_depth=None, min_samples_leaf=1, min_samples_split=10, n_estimators=50;, score=0.121 total time=   2.3s\n"
     ]
    },
    {
     "name": "stderr",
     "output_type": "stream",
     "text": [
      "C:\\Users\\ben8h\\anaconda3\\Lib\\site-packages\\sklearn\\base.py:1474: DataConversionWarning: A column-vector y was passed when a 1d array was expected. Please change the shape of y to (n_samples,), for example using ravel().\n",
      "  return fit_method(estimator, *args, **kwargs)\n"
     ]
    },
    {
     "name": "stdout",
     "output_type": "stream",
     "text": [
      "[CV 7/10] END max_depth=None, min_samples_leaf=1, min_samples_split=10, n_estimators=50;, score=0.185 total time=   2.3s\n"
     ]
    },
    {
     "name": "stderr",
     "output_type": "stream",
     "text": [
      "C:\\Users\\ben8h\\anaconda3\\Lib\\site-packages\\sklearn\\base.py:1474: DataConversionWarning: A column-vector y was passed when a 1d array was expected. Please change the shape of y to (n_samples,), for example using ravel().\n",
      "  return fit_method(estimator, *args, **kwargs)\n"
     ]
    },
    {
     "name": "stdout",
     "output_type": "stream",
     "text": [
      "[CV 8/10] END max_depth=None, min_samples_leaf=1, min_samples_split=10, n_estimators=50;, score=0.095 total time=   2.3s\n"
     ]
    },
    {
     "name": "stderr",
     "output_type": "stream",
     "text": [
      "C:\\Users\\ben8h\\anaconda3\\Lib\\site-packages\\sklearn\\base.py:1474: DataConversionWarning: A column-vector y was passed when a 1d array was expected. Please change the shape of y to (n_samples,), for example using ravel().\n",
      "  return fit_method(estimator, *args, **kwargs)\n"
     ]
    },
    {
     "name": "stdout",
     "output_type": "stream",
     "text": [
      "[CV 9/10] END max_depth=None, min_samples_leaf=1, min_samples_split=10, n_estimators=50;, score=0.157 total time=   2.3s\n"
     ]
    },
    {
     "name": "stderr",
     "output_type": "stream",
     "text": [
      "C:\\Users\\ben8h\\anaconda3\\Lib\\site-packages\\sklearn\\base.py:1474: DataConversionWarning: A column-vector y was passed when a 1d array was expected. Please change the shape of y to (n_samples,), for example using ravel().\n",
      "  return fit_method(estimator, *args, **kwargs)\n"
     ]
    },
    {
     "name": "stdout",
     "output_type": "stream",
     "text": [
      "[CV 10/10] END max_depth=None, min_samples_leaf=1, min_samples_split=10, n_estimators=50;, score=0.131 total time=   2.3s\n"
     ]
    },
    {
     "name": "stderr",
     "output_type": "stream",
     "text": [
      "C:\\Users\\ben8h\\anaconda3\\Lib\\site-packages\\sklearn\\base.py:1474: DataConversionWarning: A column-vector y was passed when a 1d array was expected. Please change the shape of y to (n_samples,), for example using ravel().\n",
      "  return fit_method(estimator, *args, **kwargs)\n"
     ]
    },
    {
     "name": "stdout",
     "output_type": "stream",
     "text": [
      "[CV 1/10] END max_depth=None, min_samples_leaf=1, min_samples_split=10, n_estimators=100;, score=0.179 total time=   4.9s\n"
     ]
    },
    {
     "name": "stderr",
     "output_type": "stream",
     "text": [
      "C:\\Users\\ben8h\\anaconda3\\Lib\\site-packages\\sklearn\\base.py:1474: DataConversionWarning: A column-vector y was passed when a 1d array was expected. Please change the shape of y to (n_samples,), for example using ravel().\n",
      "  return fit_method(estimator, *args, **kwargs)\n"
     ]
    },
    {
     "name": "stdout",
     "output_type": "stream",
     "text": [
      "[CV 2/10] END max_depth=None, min_samples_leaf=1, min_samples_split=10, n_estimators=100;, score=0.195 total time=   4.7s\n"
     ]
    },
    {
     "name": "stderr",
     "output_type": "stream",
     "text": [
      "C:\\Users\\ben8h\\anaconda3\\Lib\\site-packages\\sklearn\\base.py:1474: DataConversionWarning: A column-vector y was passed when a 1d array was expected. Please change the shape of y to (n_samples,), for example using ravel().\n",
      "  return fit_method(estimator, *args, **kwargs)\n"
     ]
    },
    {
     "name": "stdout",
     "output_type": "stream",
     "text": [
      "[CV 3/10] END max_depth=None, min_samples_leaf=1, min_samples_split=10, n_estimators=100;, score=0.135 total time=   4.8s\n"
     ]
    },
    {
     "name": "stderr",
     "output_type": "stream",
     "text": [
      "C:\\Users\\ben8h\\anaconda3\\Lib\\site-packages\\sklearn\\base.py:1474: DataConversionWarning: A column-vector y was passed when a 1d array was expected. Please change the shape of y to (n_samples,), for example using ravel().\n",
      "  return fit_method(estimator, *args, **kwargs)\n"
     ]
    },
    {
     "name": "stdout",
     "output_type": "stream",
     "text": [
      "[CV 4/10] END max_depth=None, min_samples_leaf=1, min_samples_split=10, n_estimators=100;, score=0.212 total time=   4.8s\n"
     ]
    },
    {
     "name": "stderr",
     "output_type": "stream",
     "text": [
      "C:\\Users\\ben8h\\anaconda3\\Lib\\site-packages\\sklearn\\base.py:1474: DataConversionWarning: A column-vector y was passed when a 1d array was expected. Please change the shape of y to (n_samples,), for example using ravel().\n",
      "  return fit_method(estimator, *args, **kwargs)\n"
     ]
    },
    {
     "name": "stdout",
     "output_type": "stream",
     "text": [
      "[CV 5/10] END max_depth=None, min_samples_leaf=1, min_samples_split=10, n_estimators=100;, score=0.132 total time=   4.8s\n"
     ]
    },
    {
     "name": "stderr",
     "output_type": "stream",
     "text": [
      "C:\\Users\\ben8h\\anaconda3\\Lib\\site-packages\\sklearn\\base.py:1474: DataConversionWarning: A column-vector y was passed when a 1d array was expected. Please change the shape of y to (n_samples,), for example using ravel().\n",
      "  return fit_method(estimator, *args, **kwargs)\n"
     ]
    },
    {
     "name": "stdout",
     "output_type": "stream",
     "text": [
      "[CV 6/10] END max_depth=None, min_samples_leaf=1, min_samples_split=10, n_estimators=100;, score=0.150 total time=   4.7s\n"
     ]
    },
    {
     "name": "stderr",
     "output_type": "stream",
     "text": [
      "C:\\Users\\ben8h\\anaconda3\\Lib\\site-packages\\sklearn\\base.py:1474: DataConversionWarning: A column-vector y was passed when a 1d array was expected. Please change the shape of y to (n_samples,), for example using ravel().\n",
      "  return fit_method(estimator, *args, **kwargs)\n"
     ]
    },
    {
     "name": "stdout",
     "output_type": "stream",
     "text": [
      "[CV 7/10] END max_depth=None, min_samples_leaf=1, min_samples_split=10, n_estimators=100;, score=0.194 total time=   4.8s\n"
     ]
    },
    {
     "name": "stderr",
     "output_type": "stream",
     "text": [
      "C:\\Users\\ben8h\\anaconda3\\Lib\\site-packages\\sklearn\\base.py:1474: DataConversionWarning: A column-vector y was passed when a 1d array was expected. Please change the shape of y to (n_samples,), for example using ravel().\n",
      "  return fit_method(estimator, *args, **kwargs)\n"
     ]
    },
    {
     "name": "stdout",
     "output_type": "stream",
     "text": [
      "[CV 8/10] END max_depth=None, min_samples_leaf=1, min_samples_split=10, n_estimators=100;, score=0.109 total time=   4.7s\n"
     ]
    },
    {
     "name": "stderr",
     "output_type": "stream",
     "text": [
      "C:\\Users\\ben8h\\anaconda3\\Lib\\site-packages\\sklearn\\base.py:1474: DataConversionWarning: A column-vector y was passed when a 1d array was expected. Please change the shape of y to (n_samples,), for example using ravel().\n",
      "  return fit_method(estimator, *args, **kwargs)\n"
     ]
    },
    {
     "name": "stdout",
     "output_type": "stream",
     "text": [
      "[CV 9/10] END max_depth=None, min_samples_leaf=1, min_samples_split=10, n_estimators=100;, score=0.143 total time=   4.7s\n"
     ]
    },
    {
     "name": "stderr",
     "output_type": "stream",
     "text": [
      "C:\\Users\\ben8h\\anaconda3\\Lib\\site-packages\\sklearn\\base.py:1474: DataConversionWarning: A column-vector y was passed when a 1d array was expected. Please change the shape of y to (n_samples,), for example using ravel().\n",
      "  return fit_method(estimator, *args, **kwargs)\n"
     ]
    },
    {
     "name": "stdout",
     "output_type": "stream",
     "text": [
      "[CV 10/10] END max_depth=None, min_samples_leaf=1, min_samples_split=10, n_estimators=100;, score=0.145 total time=   4.7s\n"
     ]
    },
    {
     "name": "stderr",
     "output_type": "stream",
     "text": [
      "C:\\Users\\ben8h\\anaconda3\\Lib\\site-packages\\sklearn\\base.py:1474: DataConversionWarning: A column-vector y was passed when a 1d array was expected. Please change the shape of y to (n_samples,), for example using ravel().\n",
      "  return fit_method(estimator, *args, **kwargs)\n"
     ]
    },
    {
     "name": "stdout",
     "output_type": "stream",
     "text": [
      "[CV 1/10] END max_depth=None, min_samples_leaf=1, min_samples_split=10, n_estimators=200;, score=0.175 total time=   9.7s\n"
     ]
    },
    {
     "name": "stderr",
     "output_type": "stream",
     "text": [
      "C:\\Users\\ben8h\\anaconda3\\Lib\\site-packages\\sklearn\\base.py:1474: DataConversionWarning: A column-vector y was passed when a 1d array was expected. Please change the shape of y to (n_samples,), for example using ravel().\n",
      "  return fit_method(estimator, *args, **kwargs)\n"
     ]
    },
    {
     "name": "stdout",
     "output_type": "stream",
     "text": [
      "[CV 2/10] END max_depth=None, min_samples_leaf=1, min_samples_split=10, n_estimators=200;, score=0.208 total time=   9.4s\n"
     ]
    },
    {
     "name": "stderr",
     "output_type": "stream",
     "text": [
      "C:\\Users\\ben8h\\anaconda3\\Lib\\site-packages\\sklearn\\base.py:1474: DataConversionWarning: A column-vector y was passed when a 1d array was expected. Please change the shape of y to (n_samples,), for example using ravel().\n",
      "  return fit_method(estimator, *args, **kwargs)\n"
     ]
    },
    {
     "name": "stdout",
     "output_type": "stream",
     "text": [
      "[CV 3/10] END max_depth=None, min_samples_leaf=1, min_samples_split=10, n_estimators=200;, score=0.142 total time=   9.7s\n"
     ]
    },
    {
     "name": "stderr",
     "output_type": "stream",
     "text": [
      "C:\\Users\\ben8h\\anaconda3\\Lib\\site-packages\\sklearn\\base.py:1474: DataConversionWarning: A column-vector y was passed when a 1d array was expected. Please change the shape of y to (n_samples,), for example using ravel().\n",
      "  return fit_method(estimator, *args, **kwargs)\n"
     ]
    },
    {
     "name": "stdout",
     "output_type": "stream",
     "text": [
      "[CV 4/10] END max_depth=None, min_samples_leaf=1, min_samples_split=10, n_estimators=200;, score=0.204 total time=   9.7s\n"
     ]
    },
    {
     "name": "stderr",
     "output_type": "stream",
     "text": [
      "C:\\Users\\ben8h\\anaconda3\\Lib\\site-packages\\sklearn\\base.py:1474: DataConversionWarning: A column-vector y was passed when a 1d array was expected. Please change the shape of y to (n_samples,), for example using ravel().\n",
      "  return fit_method(estimator, *args, **kwargs)\n"
     ]
    },
    {
     "name": "stdout",
     "output_type": "stream",
     "text": [
      "[CV 5/10] END max_depth=None, min_samples_leaf=1, min_samples_split=10, n_estimators=200;, score=0.128 total time=   9.5s\n"
     ]
    },
    {
     "name": "stderr",
     "output_type": "stream",
     "text": [
      "C:\\Users\\ben8h\\anaconda3\\Lib\\site-packages\\sklearn\\base.py:1474: DataConversionWarning: A column-vector y was passed when a 1d array was expected. Please change the shape of y to (n_samples,), for example using ravel().\n",
      "  return fit_method(estimator, *args, **kwargs)\n"
     ]
    },
    {
     "name": "stdout",
     "output_type": "stream",
     "text": [
      "[CV 6/10] END max_depth=None, min_samples_leaf=1, min_samples_split=10, n_estimators=200;, score=0.141 total time=   9.4s\n"
     ]
    },
    {
     "name": "stderr",
     "output_type": "stream",
     "text": [
      "C:\\Users\\ben8h\\anaconda3\\Lib\\site-packages\\sklearn\\base.py:1474: DataConversionWarning: A column-vector y was passed when a 1d array was expected. Please change the shape of y to (n_samples,), for example using ravel().\n",
      "  return fit_method(estimator, *args, **kwargs)\n"
     ]
    },
    {
     "name": "stdout",
     "output_type": "stream",
     "text": [
      "[CV 7/10] END max_depth=None, min_samples_leaf=1, min_samples_split=10, n_estimators=200;, score=0.190 total time=   9.6s\n"
     ]
    },
    {
     "name": "stderr",
     "output_type": "stream",
     "text": [
      "C:\\Users\\ben8h\\anaconda3\\Lib\\site-packages\\sklearn\\base.py:1474: DataConversionWarning: A column-vector y was passed when a 1d array was expected. Please change the shape of y to (n_samples,), for example using ravel().\n",
      "  return fit_method(estimator, *args, **kwargs)\n"
     ]
    },
    {
     "name": "stdout",
     "output_type": "stream",
     "text": [
      "[CV 8/10] END max_depth=None, min_samples_leaf=1, min_samples_split=10, n_estimators=200;, score=0.098 total time=   9.5s\n"
     ]
    },
    {
     "name": "stderr",
     "output_type": "stream",
     "text": [
      "C:\\Users\\ben8h\\anaconda3\\Lib\\site-packages\\sklearn\\base.py:1474: DataConversionWarning: A column-vector y was passed when a 1d array was expected. Please change the shape of y to (n_samples,), for example using ravel().\n",
      "  return fit_method(estimator, *args, **kwargs)\n"
     ]
    },
    {
     "name": "stdout",
     "output_type": "stream",
     "text": [
      "[CV 9/10] END max_depth=None, min_samples_leaf=1, min_samples_split=10, n_estimators=200;, score=0.154 total time=   9.4s\n"
     ]
    },
    {
     "name": "stderr",
     "output_type": "stream",
     "text": [
      "C:\\Users\\ben8h\\anaconda3\\Lib\\site-packages\\sklearn\\base.py:1474: DataConversionWarning: A column-vector y was passed when a 1d array was expected. Please change the shape of y to (n_samples,), for example using ravel().\n",
      "  return fit_method(estimator, *args, **kwargs)\n"
     ]
    },
    {
     "name": "stdout",
     "output_type": "stream",
     "text": [
      "[CV 10/10] END max_depth=None, min_samples_leaf=1, min_samples_split=10, n_estimators=200;, score=0.145 total time=   9.5s\n"
     ]
    },
    {
     "name": "stderr",
     "output_type": "stream",
     "text": [
      "C:\\Users\\ben8h\\anaconda3\\Lib\\site-packages\\sklearn\\base.py:1474: DataConversionWarning: A column-vector y was passed when a 1d array was expected. Please change the shape of y to (n_samples,), for example using ravel().\n",
      "  return fit_method(estimator, *args, **kwargs)\n"
     ]
    },
    {
     "name": "stdout",
     "output_type": "stream",
     "text": [
      "[CV 1/10] END max_depth=None, min_samples_leaf=5, min_samples_split=2, n_estimators=50;, score=0.206 total time=   1.8s\n"
     ]
    },
    {
     "name": "stderr",
     "output_type": "stream",
     "text": [
      "C:\\Users\\ben8h\\anaconda3\\Lib\\site-packages\\sklearn\\base.py:1474: DataConversionWarning: A column-vector y was passed when a 1d array was expected. Please change the shape of y to (n_samples,), for example using ravel().\n",
      "  return fit_method(estimator, *args, **kwargs)\n"
     ]
    },
    {
     "name": "stdout",
     "output_type": "stream",
     "text": [
      "[CV 2/10] END max_depth=None, min_samples_leaf=5, min_samples_split=2, n_estimators=50;, score=0.199 total time=   1.8s\n"
     ]
    },
    {
     "name": "stderr",
     "output_type": "stream",
     "text": [
      "C:\\Users\\ben8h\\anaconda3\\Lib\\site-packages\\sklearn\\base.py:1474: DataConversionWarning: A column-vector y was passed when a 1d array was expected. Please change the shape of y to (n_samples,), for example using ravel().\n",
      "  return fit_method(estimator, *args, **kwargs)\n"
     ]
    },
    {
     "name": "stdout",
     "output_type": "stream",
     "text": [
      "[CV 3/10] END max_depth=None, min_samples_leaf=5, min_samples_split=2, n_estimators=50;, score=0.166 total time=   1.8s\n"
     ]
    },
    {
     "name": "stderr",
     "output_type": "stream",
     "text": [
      "C:\\Users\\ben8h\\anaconda3\\Lib\\site-packages\\sklearn\\base.py:1474: DataConversionWarning: A column-vector y was passed when a 1d array was expected. Please change the shape of y to (n_samples,), for example using ravel().\n",
      "  return fit_method(estimator, *args, **kwargs)\n"
     ]
    },
    {
     "name": "stdout",
     "output_type": "stream",
     "text": [
      "[CV 4/10] END max_depth=None, min_samples_leaf=5, min_samples_split=2, n_estimators=50;, score=0.210 total time=   1.9s\n"
     ]
    },
    {
     "name": "stderr",
     "output_type": "stream",
     "text": [
      "C:\\Users\\ben8h\\anaconda3\\Lib\\site-packages\\sklearn\\base.py:1474: DataConversionWarning: A column-vector y was passed when a 1d array was expected. Please change the shape of y to (n_samples,), for example using ravel().\n",
      "  return fit_method(estimator, *args, **kwargs)\n"
     ]
    },
    {
     "name": "stdout",
     "output_type": "stream",
     "text": [
      "[CV 5/10] END max_depth=None, min_samples_leaf=5, min_samples_split=2, n_estimators=50;, score=0.138 total time=   1.8s\n"
     ]
    },
    {
     "name": "stderr",
     "output_type": "stream",
     "text": [
      "C:\\Users\\ben8h\\anaconda3\\Lib\\site-packages\\sklearn\\base.py:1474: DataConversionWarning: A column-vector y was passed when a 1d array was expected. Please change the shape of y to (n_samples,), for example using ravel().\n",
      "  return fit_method(estimator, *args, **kwargs)\n"
     ]
    },
    {
     "name": "stdout",
     "output_type": "stream",
     "text": [
      "[CV 6/10] END max_depth=None, min_samples_leaf=5, min_samples_split=2, n_estimators=50;, score=0.154 total time=   1.8s\n"
     ]
    },
    {
     "name": "stderr",
     "output_type": "stream",
     "text": [
      "C:\\Users\\ben8h\\anaconda3\\Lib\\site-packages\\sklearn\\base.py:1474: DataConversionWarning: A column-vector y was passed when a 1d array was expected. Please change the shape of y to (n_samples,), for example using ravel().\n",
      "  return fit_method(estimator, *args, **kwargs)\n"
     ]
    },
    {
     "name": "stdout",
     "output_type": "stream",
     "text": [
      "[CV 7/10] END max_depth=None, min_samples_leaf=5, min_samples_split=2, n_estimators=50;, score=0.202 total time=   1.8s\n"
     ]
    },
    {
     "name": "stderr",
     "output_type": "stream",
     "text": [
      "C:\\Users\\ben8h\\anaconda3\\Lib\\site-packages\\sklearn\\base.py:1474: DataConversionWarning: A column-vector y was passed when a 1d array was expected. Please change the shape of y to (n_samples,), for example using ravel().\n",
      "  return fit_method(estimator, *args, **kwargs)\n"
     ]
    },
    {
     "name": "stdout",
     "output_type": "stream",
     "text": [
      "[CV 8/10] END max_depth=None, min_samples_leaf=5, min_samples_split=2, n_estimators=50;, score=0.123 total time=   1.8s\n"
     ]
    },
    {
     "name": "stderr",
     "output_type": "stream",
     "text": [
      "C:\\Users\\ben8h\\anaconda3\\Lib\\site-packages\\sklearn\\base.py:1474: DataConversionWarning: A column-vector y was passed when a 1d array was expected. Please change the shape of y to (n_samples,), for example using ravel().\n",
      "  return fit_method(estimator, *args, **kwargs)\n"
     ]
    },
    {
     "name": "stdout",
     "output_type": "stream",
     "text": [
      "[CV 9/10] END max_depth=None, min_samples_leaf=5, min_samples_split=2, n_estimators=50;, score=0.155 total time=   1.8s\n"
     ]
    },
    {
     "name": "stderr",
     "output_type": "stream",
     "text": [
      "C:\\Users\\ben8h\\anaconda3\\Lib\\site-packages\\sklearn\\base.py:1474: DataConversionWarning: A column-vector y was passed when a 1d array was expected. Please change the shape of y to (n_samples,), for example using ravel().\n",
      "  return fit_method(estimator, *args, **kwargs)\n"
     ]
    },
    {
     "name": "stdout",
     "output_type": "stream",
     "text": [
      "[CV 10/10] END max_depth=None, min_samples_leaf=5, min_samples_split=2, n_estimators=50;, score=0.192 total time=   1.8s\n"
     ]
    },
    {
     "name": "stderr",
     "output_type": "stream",
     "text": [
      "C:\\Users\\ben8h\\anaconda3\\Lib\\site-packages\\sklearn\\base.py:1474: DataConversionWarning: A column-vector y was passed when a 1d array was expected. Please change the shape of y to (n_samples,), for example using ravel().\n",
      "  return fit_method(estimator, *args, **kwargs)\n"
     ]
    },
    {
     "name": "stdout",
     "output_type": "stream",
     "text": [
      "[CV 1/10] END max_depth=None, min_samples_leaf=5, min_samples_split=2, n_estimators=100;, score=0.193 total time=   3.8s\n"
     ]
    },
    {
     "name": "stderr",
     "output_type": "stream",
     "text": [
      "C:\\Users\\ben8h\\anaconda3\\Lib\\site-packages\\sklearn\\base.py:1474: DataConversionWarning: A column-vector y was passed when a 1d array was expected. Please change the shape of y to (n_samples,), for example using ravel().\n",
      "  return fit_method(estimator, *args, **kwargs)\n"
     ]
    },
    {
     "name": "stdout",
     "output_type": "stream",
     "text": [
      "[CV 2/10] END max_depth=None, min_samples_leaf=5, min_samples_split=2, n_estimators=100;, score=0.215 total time=   3.7s\n"
     ]
    },
    {
     "name": "stderr",
     "output_type": "stream",
     "text": [
      "C:\\Users\\ben8h\\anaconda3\\Lib\\site-packages\\sklearn\\base.py:1474: DataConversionWarning: A column-vector y was passed when a 1d array was expected. Please change the shape of y to (n_samples,), for example using ravel().\n",
      "  return fit_method(estimator, *args, **kwargs)\n"
     ]
    },
    {
     "name": "stdout",
     "output_type": "stream",
     "text": [
      "[CV 3/10] END max_depth=None, min_samples_leaf=5, min_samples_split=2, n_estimators=100;, score=0.184 total time=   3.7s\n"
     ]
    },
    {
     "name": "stderr",
     "output_type": "stream",
     "text": [
      "C:\\Users\\ben8h\\anaconda3\\Lib\\site-packages\\sklearn\\base.py:1474: DataConversionWarning: A column-vector y was passed when a 1d array was expected. Please change the shape of y to (n_samples,), for example using ravel().\n",
      "  return fit_method(estimator, *args, **kwargs)\n"
     ]
    },
    {
     "name": "stdout",
     "output_type": "stream",
     "text": [
      "[CV 4/10] END max_depth=None, min_samples_leaf=5, min_samples_split=2, n_estimators=100;, score=0.220 total time=   3.8s\n"
     ]
    },
    {
     "name": "stderr",
     "output_type": "stream",
     "text": [
      "C:\\Users\\ben8h\\anaconda3\\Lib\\site-packages\\sklearn\\base.py:1474: DataConversionWarning: A column-vector y was passed when a 1d array was expected. Please change the shape of y to (n_samples,), for example using ravel().\n",
      "  return fit_method(estimator, *args, **kwargs)\n"
     ]
    },
    {
     "name": "stdout",
     "output_type": "stream",
     "text": [
      "[CV 5/10] END max_depth=None, min_samples_leaf=5, min_samples_split=2, n_estimators=100;, score=0.138 total time=   3.7s\n"
     ]
    },
    {
     "name": "stderr",
     "output_type": "stream",
     "text": [
      "C:\\Users\\ben8h\\anaconda3\\Lib\\site-packages\\sklearn\\base.py:1474: DataConversionWarning: A column-vector y was passed when a 1d array was expected. Please change the shape of y to (n_samples,), for example using ravel().\n",
      "  return fit_method(estimator, *args, **kwargs)\n"
     ]
    },
    {
     "name": "stdout",
     "output_type": "stream",
     "text": [
      "[CV 6/10] END max_depth=None, min_samples_leaf=5, min_samples_split=2, n_estimators=100;, score=0.148 total time=   3.7s\n"
     ]
    },
    {
     "name": "stderr",
     "output_type": "stream",
     "text": [
      "C:\\Users\\ben8h\\anaconda3\\Lib\\site-packages\\sklearn\\base.py:1474: DataConversionWarning: A column-vector y was passed when a 1d array was expected. Please change the shape of y to (n_samples,), for example using ravel().\n",
      "  return fit_method(estimator, *args, **kwargs)\n"
     ]
    },
    {
     "name": "stdout",
     "output_type": "stream",
     "text": [
      "[CV 7/10] END max_depth=None, min_samples_leaf=5, min_samples_split=2, n_estimators=100;, score=0.203 total time=   3.8s\n"
     ]
    },
    {
     "name": "stderr",
     "output_type": "stream",
     "text": [
      "C:\\Users\\ben8h\\anaconda3\\Lib\\site-packages\\sklearn\\base.py:1474: DataConversionWarning: A column-vector y was passed when a 1d array was expected. Please change the shape of y to (n_samples,), for example using ravel().\n",
      "  return fit_method(estimator, *args, **kwargs)\n"
     ]
    },
    {
     "name": "stdout",
     "output_type": "stream",
     "text": [
      "[CV 8/10] END max_depth=None, min_samples_leaf=5, min_samples_split=2, n_estimators=100;, score=0.111 total time=   3.7s\n"
     ]
    },
    {
     "name": "stderr",
     "output_type": "stream",
     "text": [
      "C:\\Users\\ben8h\\anaconda3\\Lib\\site-packages\\sklearn\\base.py:1474: DataConversionWarning: A column-vector y was passed when a 1d array was expected. Please change the shape of y to (n_samples,), for example using ravel().\n",
      "  return fit_method(estimator, *args, **kwargs)\n"
     ]
    },
    {
     "name": "stdout",
     "output_type": "stream",
     "text": [
      "[CV 9/10] END max_depth=None, min_samples_leaf=5, min_samples_split=2, n_estimators=100;, score=0.178 total time=   3.7s\n"
     ]
    },
    {
     "name": "stderr",
     "output_type": "stream",
     "text": [
      "C:\\Users\\ben8h\\anaconda3\\Lib\\site-packages\\sklearn\\base.py:1474: DataConversionWarning: A column-vector y was passed when a 1d array was expected. Please change the shape of y to (n_samples,), for example using ravel().\n",
      "  return fit_method(estimator, *args, **kwargs)\n"
     ]
    },
    {
     "name": "stdout",
     "output_type": "stream",
     "text": [
      "[CV 10/10] END max_depth=None, min_samples_leaf=5, min_samples_split=2, n_estimators=100;, score=0.186 total time=   3.7s\n"
     ]
    },
    {
     "name": "stderr",
     "output_type": "stream",
     "text": [
      "C:\\Users\\ben8h\\anaconda3\\Lib\\site-packages\\sklearn\\base.py:1474: DataConversionWarning: A column-vector y was passed when a 1d array was expected. Please change the shape of y to (n_samples,), for example using ravel().\n",
      "  return fit_method(estimator, *args, **kwargs)\n"
     ]
    },
    {
     "name": "stdout",
     "output_type": "stream",
     "text": [
      "[CV 1/10] END max_depth=None, min_samples_leaf=5, min_samples_split=2, n_estimators=200;, score=0.193 total time=   7.7s\n"
     ]
    },
    {
     "name": "stderr",
     "output_type": "stream",
     "text": [
      "C:\\Users\\ben8h\\anaconda3\\Lib\\site-packages\\sklearn\\base.py:1474: DataConversionWarning: A column-vector y was passed when a 1d array was expected. Please change the shape of y to (n_samples,), for example using ravel().\n",
      "  return fit_method(estimator, *args, **kwargs)\n"
     ]
    },
    {
     "name": "stdout",
     "output_type": "stream",
     "text": [
      "[CV 2/10] END max_depth=None, min_samples_leaf=5, min_samples_split=2, n_estimators=200;, score=0.211 total time=   7.4s\n"
     ]
    },
    {
     "name": "stderr",
     "output_type": "stream",
     "text": [
      "C:\\Users\\ben8h\\anaconda3\\Lib\\site-packages\\sklearn\\base.py:1474: DataConversionWarning: A column-vector y was passed when a 1d array was expected. Please change the shape of y to (n_samples,), for example using ravel().\n",
      "  return fit_method(estimator, *args, **kwargs)\n"
     ]
    },
    {
     "name": "stdout",
     "output_type": "stream",
     "text": [
      "[CV 3/10] END max_depth=None, min_samples_leaf=5, min_samples_split=2, n_estimators=200;, score=0.174 total time=   7.6s\n"
     ]
    },
    {
     "name": "stderr",
     "output_type": "stream",
     "text": [
      "C:\\Users\\ben8h\\anaconda3\\Lib\\site-packages\\sklearn\\base.py:1474: DataConversionWarning: A column-vector y was passed when a 1d array was expected. Please change the shape of y to (n_samples,), for example using ravel().\n",
      "  return fit_method(estimator, *args, **kwargs)\n"
     ]
    },
    {
     "name": "stdout",
     "output_type": "stream",
     "text": [
      "[CV 4/10] END max_depth=None, min_samples_leaf=5, min_samples_split=2, n_estimators=200;, score=0.220 total time=   7.7s\n"
     ]
    },
    {
     "name": "stderr",
     "output_type": "stream",
     "text": [
      "C:\\Users\\ben8h\\anaconda3\\Lib\\site-packages\\sklearn\\base.py:1474: DataConversionWarning: A column-vector y was passed when a 1d array was expected. Please change the shape of y to (n_samples,), for example using ravel().\n",
      "  return fit_method(estimator, *args, **kwargs)\n"
     ]
    },
    {
     "name": "stdout",
     "output_type": "stream",
     "text": [
      "[CV 5/10] END max_depth=None, min_samples_leaf=5, min_samples_split=2, n_estimators=200;, score=0.146 total time=   7.5s\n"
     ]
    },
    {
     "name": "stderr",
     "output_type": "stream",
     "text": [
      "C:\\Users\\ben8h\\anaconda3\\Lib\\site-packages\\sklearn\\base.py:1474: DataConversionWarning: A column-vector y was passed when a 1d array was expected. Please change the shape of y to (n_samples,), for example using ravel().\n",
      "  return fit_method(estimator, *args, **kwargs)\n"
     ]
    },
    {
     "name": "stdout",
     "output_type": "stream",
     "text": [
      "[CV 6/10] END max_depth=None, min_samples_leaf=5, min_samples_split=2, n_estimators=200;, score=0.141 total time=   7.5s\n"
     ]
    },
    {
     "name": "stderr",
     "output_type": "stream",
     "text": [
      "C:\\Users\\ben8h\\anaconda3\\Lib\\site-packages\\sklearn\\base.py:1474: DataConversionWarning: A column-vector y was passed when a 1d array was expected. Please change the shape of y to (n_samples,), for example using ravel().\n",
      "  return fit_method(estimator, *args, **kwargs)\n"
     ]
    },
    {
     "name": "stdout",
     "output_type": "stream",
     "text": [
      "[CV 7/10] END max_depth=None, min_samples_leaf=5, min_samples_split=2, n_estimators=200;, score=0.208 total time=   7.6s\n"
     ]
    },
    {
     "name": "stderr",
     "output_type": "stream",
     "text": [
      "C:\\Users\\ben8h\\anaconda3\\Lib\\site-packages\\sklearn\\base.py:1474: DataConversionWarning: A column-vector y was passed when a 1d array was expected. Please change the shape of y to (n_samples,), for example using ravel().\n",
      "  return fit_method(estimator, *args, **kwargs)\n"
     ]
    },
    {
     "name": "stdout",
     "output_type": "stream",
     "text": [
      "[CV 8/10] END max_depth=None, min_samples_leaf=5, min_samples_split=2, n_estimators=200;, score=0.115 total time=   7.5s\n"
     ]
    },
    {
     "name": "stderr",
     "output_type": "stream",
     "text": [
      "C:\\Users\\ben8h\\anaconda3\\Lib\\site-packages\\sklearn\\base.py:1474: DataConversionWarning: A column-vector y was passed when a 1d array was expected. Please change the shape of y to (n_samples,), for example using ravel().\n",
      "  return fit_method(estimator, *args, **kwargs)\n"
     ]
    },
    {
     "name": "stdout",
     "output_type": "stream",
     "text": [
      "[CV 9/10] END max_depth=None, min_samples_leaf=5, min_samples_split=2, n_estimators=200;, score=0.182 total time=   7.5s\n"
     ]
    },
    {
     "name": "stderr",
     "output_type": "stream",
     "text": [
      "C:\\Users\\ben8h\\anaconda3\\Lib\\site-packages\\sklearn\\base.py:1474: DataConversionWarning: A column-vector y was passed when a 1d array was expected. Please change the shape of y to (n_samples,), for example using ravel().\n",
      "  return fit_method(estimator, *args, **kwargs)\n"
     ]
    },
    {
     "name": "stdout",
     "output_type": "stream",
     "text": [
      "[CV 10/10] END max_depth=None, min_samples_leaf=5, min_samples_split=2, n_estimators=200;, score=0.192 total time=   7.6s\n"
     ]
    },
    {
     "name": "stderr",
     "output_type": "stream",
     "text": [
      "C:\\Users\\ben8h\\anaconda3\\Lib\\site-packages\\sklearn\\base.py:1474: DataConversionWarning: A column-vector y was passed when a 1d array was expected. Please change the shape of y to (n_samples,), for example using ravel().\n",
      "  return fit_method(estimator, *args, **kwargs)\n"
     ]
    },
    {
     "name": "stdout",
     "output_type": "stream",
     "text": [
      "[CV 1/10] END max_depth=None, min_samples_leaf=5, min_samples_split=5, n_estimators=50;, score=0.200 total time=   1.8s\n"
     ]
    },
    {
     "name": "stderr",
     "output_type": "stream",
     "text": [
      "C:\\Users\\ben8h\\anaconda3\\Lib\\site-packages\\sklearn\\base.py:1474: DataConversionWarning: A column-vector y was passed when a 1d array was expected. Please change the shape of y to (n_samples,), for example using ravel().\n",
      "  return fit_method(estimator, *args, **kwargs)\n"
     ]
    },
    {
     "name": "stdout",
     "output_type": "stream",
     "text": [
      "[CV 2/10] END max_depth=None, min_samples_leaf=5, min_samples_split=5, n_estimators=50;, score=0.226 total time=   1.8s\n"
     ]
    },
    {
     "name": "stderr",
     "output_type": "stream",
     "text": [
      "C:\\Users\\ben8h\\anaconda3\\Lib\\site-packages\\sklearn\\base.py:1474: DataConversionWarning: A column-vector y was passed when a 1d array was expected. Please change the shape of y to (n_samples,), for example using ravel().\n",
      "  return fit_method(estimator, *args, **kwargs)\n"
     ]
    },
    {
     "name": "stdout",
     "output_type": "stream",
     "text": [
      "[CV 3/10] END max_depth=None, min_samples_leaf=5, min_samples_split=5, n_estimators=50;, score=0.172 total time=   1.8s\n"
     ]
    },
    {
     "name": "stderr",
     "output_type": "stream",
     "text": [
      "C:\\Users\\ben8h\\anaconda3\\Lib\\site-packages\\sklearn\\base.py:1474: DataConversionWarning: A column-vector y was passed when a 1d array was expected. Please change the shape of y to (n_samples,), for example using ravel().\n",
      "  return fit_method(estimator, *args, **kwargs)\n"
     ]
    },
    {
     "name": "stdout",
     "output_type": "stream",
     "text": [
      "[CV 4/10] END max_depth=None, min_samples_leaf=5, min_samples_split=5, n_estimators=50;, score=0.209 total time=   1.9s\n"
     ]
    },
    {
     "name": "stderr",
     "output_type": "stream",
     "text": [
      "C:\\Users\\ben8h\\anaconda3\\Lib\\site-packages\\sklearn\\base.py:1474: DataConversionWarning: A column-vector y was passed when a 1d array was expected. Please change the shape of y to (n_samples,), for example using ravel().\n",
      "  return fit_method(estimator, *args, **kwargs)\n"
     ]
    },
    {
     "name": "stdout",
     "output_type": "stream",
     "text": [
      "[CV 5/10] END max_depth=None, min_samples_leaf=5, min_samples_split=5, n_estimators=50;, score=0.133 total time=   1.8s\n"
     ]
    },
    {
     "name": "stderr",
     "output_type": "stream",
     "text": [
      "C:\\Users\\ben8h\\anaconda3\\Lib\\site-packages\\sklearn\\base.py:1474: DataConversionWarning: A column-vector y was passed when a 1d array was expected. Please change the shape of y to (n_samples,), for example using ravel().\n",
      "  return fit_method(estimator, *args, **kwargs)\n"
     ]
    },
    {
     "name": "stdout",
     "output_type": "stream",
     "text": [
      "[CV 6/10] END max_depth=None, min_samples_leaf=5, min_samples_split=5, n_estimators=50;, score=0.138 total time=   1.8s\n"
     ]
    },
    {
     "name": "stderr",
     "output_type": "stream",
     "text": [
      "C:\\Users\\ben8h\\anaconda3\\Lib\\site-packages\\sklearn\\base.py:1474: DataConversionWarning: A column-vector y was passed when a 1d array was expected. Please change the shape of y to (n_samples,), for example using ravel().\n",
      "  return fit_method(estimator, *args, **kwargs)\n"
     ]
    },
    {
     "name": "stdout",
     "output_type": "stream",
     "text": [
      "[CV 7/10] END max_depth=None, min_samples_leaf=5, min_samples_split=5, n_estimators=50;, score=0.212 total time=   1.8s\n"
     ]
    },
    {
     "name": "stderr",
     "output_type": "stream",
     "text": [
      "C:\\Users\\ben8h\\anaconda3\\Lib\\site-packages\\sklearn\\base.py:1474: DataConversionWarning: A column-vector y was passed when a 1d array was expected. Please change the shape of y to (n_samples,), for example using ravel().\n",
      "  return fit_method(estimator, *args, **kwargs)\n"
     ]
    },
    {
     "name": "stdout",
     "output_type": "stream",
     "text": [
      "[CV 8/10] END max_depth=None, min_samples_leaf=5, min_samples_split=5, n_estimators=50;, score=0.100 total time=   1.8s\n"
     ]
    },
    {
     "name": "stderr",
     "output_type": "stream",
     "text": [
      "C:\\Users\\ben8h\\anaconda3\\Lib\\site-packages\\sklearn\\base.py:1474: DataConversionWarning: A column-vector y was passed when a 1d array was expected. Please change the shape of y to (n_samples,), for example using ravel().\n",
      "  return fit_method(estimator, *args, **kwargs)\n"
     ]
    },
    {
     "name": "stdout",
     "output_type": "stream",
     "text": [
      "[CV 9/10] END max_depth=None, min_samples_leaf=5, min_samples_split=5, n_estimators=50;, score=0.172 total time=   1.8s\n"
     ]
    },
    {
     "name": "stderr",
     "output_type": "stream",
     "text": [
      "C:\\Users\\ben8h\\anaconda3\\Lib\\site-packages\\sklearn\\base.py:1474: DataConversionWarning: A column-vector y was passed when a 1d array was expected. Please change the shape of y to (n_samples,), for example using ravel().\n",
      "  return fit_method(estimator, *args, **kwargs)\n"
     ]
    },
    {
     "name": "stdout",
     "output_type": "stream",
     "text": [
      "[CV 10/10] END max_depth=None, min_samples_leaf=5, min_samples_split=5, n_estimators=50;, score=0.191 total time=   1.8s\n"
     ]
    },
    {
     "name": "stderr",
     "output_type": "stream",
     "text": [
      "C:\\Users\\ben8h\\anaconda3\\Lib\\site-packages\\sklearn\\base.py:1474: DataConversionWarning: A column-vector y was passed when a 1d array was expected. Please change the shape of y to (n_samples,), for example using ravel().\n",
      "  return fit_method(estimator, *args, **kwargs)\n"
     ]
    },
    {
     "name": "stdout",
     "output_type": "stream",
     "text": [
      "[CV 1/10] END max_depth=None, min_samples_leaf=5, min_samples_split=5, n_estimators=100;, score=0.203 total time=   3.8s\n"
     ]
    },
    {
     "name": "stderr",
     "output_type": "stream",
     "text": [
      "C:\\Users\\ben8h\\anaconda3\\Lib\\site-packages\\sklearn\\base.py:1474: DataConversionWarning: A column-vector y was passed when a 1d array was expected. Please change the shape of y to (n_samples,), for example using ravel().\n",
      "  return fit_method(estimator, *args, **kwargs)\n"
     ]
    },
    {
     "name": "stdout",
     "output_type": "stream",
     "text": [
      "[CV 2/10] END max_depth=None, min_samples_leaf=5, min_samples_split=5, n_estimators=100;, score=0.210 total time=   3.7s\n"
     ]
    },
    {
     "name": "stderr",
     "output_type": "stream",
     "text": [
      "C:\\Users\\ben8h\\anaconda3\\Lib\\site-packages\\sklearn\\base.py:1474: DataConversionWarning: A column-vector y was passed when a 1d array was expected. Please change the shape of y to (n_samples,), for example using ravel().\n",
      "  return fit_method(estimator, *args, **kwargs)\n"
     ]
    },
    {
     "name": "stdout",
     "output_type": "stream",
     "text": [
      "[CV 3/10] END max_depth=None, min_samples_leaf=5, min_samples_split=5, n_estimators=100;, score=0.177 total time=   3.7s\n"
     ]
    },
    {
     "name": "stderr",
     "output_type": "stream",
     "text": [
      "C:\\Users\\ben8h\\anaconda3\\Lib\\site-packages\\sklearn\\base.py:1474: DataConversionWarning: A column-vector y was passed when a 1d array was expected. Please change the shape of y to (n_samples,), for example using ravel().\n",
      "  return fit_method(estimator, *args, **kwargs)\n"
     ]
    },
    {
     "name": "stdout",
     "output_type": "stream",
     "text": [
      "[CV 4/10] END max_depth=None, min_samples_leaf=5, min_samples_split=5, n_estimators=100;, score=0.219 total time=   3.8s\n"
     ]
    },
    {
     "name": "stderr",
     "output_type": "stream",
     "text": [
      "C:\\Users\\ben8h\\anaconda3\\Lib\\site-packages\\sklearn\\base.py:1474: DataConversionWarning: A column-vector y was passed when a 1d array was expected. Please change the shape of y to (n_samples,), for example using ravel().\n",
      "  return fit_method(estimator, *args, **kwargs)\n"
     ]
    },
    {
     "name": "stdout",
     "output_type": "stream",
     "text": [
      "[CV 5/10] END max_depth=None, min_samples_leaf=5, min_samples_split=5, n_estimators=100;, score=0.146 total time=   3.7s\n"
     ]
    },
    {
     "name": "stderr",
     "output_type": "stream",
     "text": [
      "C:\\Users\\ben8h\\anaconda3\\Lib\\site-packages\\sklearn\\base.py:1474: DataConversionWarning: A column-vector y was passed when a 1d array was expected. Please change the shape of y to (n_samples,), for example using ravel().\n",
      "  return fit_method(estimator, *args, **kwargs)\n"
     ]
    },
    {
     "name": "stdout",
     "output_type": "stream",
     "text": [
      "[CV 6/10] END max_depth=None, min_samples_leaf=5, min_samples_split=5, n_estimators=100;, score=0.143 total time=   3.7s\n"
     ]
    },
    {
     "name": "stderr",
     "output_type": "stream",
     "text": [
      "C:\\Users\\ben8h\\anaconda3\\Lib\\site-packages\\sklearn\\base.py:1474: DataConversionWarning: A column-vector y was passed when a 1d array was expected. Please change the shape of y to (n_samples,), for example using ravel().\n",
      "  return fit_method(estimator, *args, **kwargs)\n"
     ]
    },
    {
     "name": "stdout",
     "output_type": "stream",
     "text": [
      "[CV 7/10] END max_depth=None, min_samples_leaf=5, min_samples_split=5, n_estimators=100;, score=0.199 total time=   3.7s\n"
     ]
    },
    {
     "name": "stderr",
     "output_type": "stream",
     "text": [
      "C:\\Users\\ben8h\\anaconda3\\Lib\\site-packages\\sklearn\\base.py:1474: DataConversionWarning: A column-vector y was passed when a 1d array was expected. Please change the shape of y to (n_samples,), for example using ravel().\n",
      "  return fit_method(estimator, *args, **kwargs)\n"
     ]
    },
    {
     "name": "stdout",
     "output_type": "stream",
     "text": [
      "[CV 8/10] END max_depth=None, min_samples_leaf=5, min_samples_split=5, n_estimators=100;, score=0.116 total time=   3.7s\n"
     ]
    },
    {
     "name": "stderr",
     "output_type": "stream",
     "text": [
      "C:\\Users\\ben8h\\anaconda3\\Lib\\site-packages\\sklearn\\base.py:1474: DataConversionWarning: A column-vector y was passed when a 1d array was expected. Please change the shape of y to (n_samples,), for example using ravel().\n",
      "  return fit_method(estimator, *args, **kwargs)\n"
     ]
    },
    {
     "name": "stdout",
     "output_type": "stream",
     "text": [
      "[CV 9/10] END max_depth=None, min_samples_leaf=5, min_samples_split=5, n_estimators=100;, score=0.173 total time=   3.7s\n"
     ]
    },
    {
     "name": "stderr",
     "output_type": "stream",
     "text": [
      "C:\\Users\\ben8h\\anaconda3\\Lib\\site-packages\\sklearn\\base.py:1474: DataConversionWarning: A column-vector y was passed when a 1d array was expected. Please change the shape of y to (n_samples,), for example using ravel().\n",
      "  return fit_method(estimator, *args, **kwargs)\n"
     ]
    },
    {
     "name": "stdout",
     "output_type": "stream",
     "text": [
      "[CV 10/10] END max_depth=None, min_samples_leaf=5, min_samples_split=5, n_estimators=100;, score=0.190 total time=   3.7s\n"
     ]
    },
    {
     "name": "stderr",
     "output_type": "stream",
     "text": [
      "C:\\Users\\ben8h\\anaconda3\\Lib\\site-packages\\sklearn\\base.py:1474: DataConversionWarning: A column-vector y was passed when a 1d array was expected. Please change the shape of y to (n_samples,), for example using ravel().\n",
      "  return fit_method(estimator, *args, **kwargs)\n"
     ]
    },
    {
     "name": "stdout",
     "output_type": "stream",
     "text": [
      "[CV 1/10] END max_depth=None, min_samples_leaf=5, min_samples_split=5, n_estimators=200;, score=0.198 total time=   7.6s\n"
     ]
    },
    {
     "name": "stderr",
     "output_type": "stream",
     "text": [
      "C:\\Users\\ben8h\\anaconda3\\Lib\\site-packages\\sklearn\\base.py:1474: DataConversionWarning: A column-vector y was passed when a 1d array was expected. Please change the shape of y to (n_samples,), for example using ravel().\n",
      "  return fit_method(estimator, *args, **kwargs)\n"
     ]
    },
    {
     "name": "stdout",
     "output_type": "stream",
     "text": [
      "[CV 2/10] END max_depth=None, min_samples_leaf=5, min_samples_split=5, n_estimators=200;, score=0.211 total time=   7.4s\n"
     ]
    },
    {
     "name": "stderr",
     "output_type": "stream",
     "text": [
      "C:\\Users\\ben8h\\anaconda3\\Lib\\site-packages\\sklearn\\base.py:1474: DataConversionWarning: A column-vector y was passed when a 1d array was expected. Please change the shape of y to (n_samples,), for example using ravel().\n",
      "  return fit_method(estimator, *args, **kwargs)\n"
     ]
    },
    {
     "name": "stdout",
     "output_type": "stream",
     "text": [
      "[CV 3/10] END max_depth=None, min_samples_leaf=5, min_samples_split=5, n_estimators=200;, score=0.176 total time=   7.4s\n"
     ]
    },
    {
     "name": "stderr",
     "output_type": "stream",
     "text": [
      "C:\\Users\\ben8h\\anaconda3\\Lib\\site-packages\\sklearn\\base.py:1474: DataConversionWarning: A column-vector y was passed when a 1d array was expected. Please change the shape of y to (n_samples,), for example using ravel().\n",
      "  return fit_method(estimator, *args, **kwargs)\n"
     ]
    },
    {
     "name": "stdout",
     "output_type": "stream",
     "text": [
      "[CV 4/10] END max_depth=None, min_samples_leaf=5, min_samples_split=5, n_estimators=200;, score=0.225 total time=   7.6s\n"
     ]
    },
    {
     "name": "stderr",
     "output_type": "stream",
     "text": [
      "C:\\Users\\ben8h\\anaconda3\\Lib\\site-packages\\sklearn\\base.py:1474: DataConversionWarning: A column-vector y was passed when a 1d array was expected. Please change the shape of y to (n_samples,), for example using ravel().\n",
      "  return fit_method(estimator, *args, **kwargs)\n"
     ]
    },
    {
     "name": "stdout",
     "output_type": "stream",
     "text": [
      "[CV 5/10] END max_depth=None, min_samples_leaf=5, min_samples_split=5, n_estimators=200;, score=0.144 total time=   7.4s\n"
     ]
    },
    {
     "name": "stderr",
     "output_type": "stream",
     "text": [
      "C:\\Users\\ben8h\\anaconda3\\Lib\\site-packages\\sklearn\\base.py:1474: DataConversionWarning: A column-vector y was passed when a 1d array was expected. Please change the shape of y to (n_samples,), for example using ravel().\n",
      "  return fit_method(estimator, *args, **kwargs)\n"
     ]
    },
    {
     "name": "stdout",
     "output_type": "stream",
     "text": [
      "[CV 6/10] END max_depth=None, min_samples_leaf=5, min_samples_split=5, n_estimators=200;, score=0.156 total time=   7.5s\n"
     ]
    },
    {
     "name": "stderr",
     "output_type": "stream",
     "text": [
      "C:\\Users\\ben8h\\anaconda3\\Lib\\site-packages\\sklearn\\base.py:1474: DataConversionWarning: A column-vector y was passed when a 1d array was expected. Please change the shape of y to (n_samples,), for example using ravel().\n",
      "  return fit_method(estimator, *args, **kwargs)\n"
     ]
    },
    {
     "name": "stdout",
     "output_type": "stream",
     "text": [
      "[CV 7/10] END max_depth=None, min_samples_leaf=5, min_samples_split=5, n_estimators=200;, score=0.209 total time=   7.5s\n"
     ]
    },
    {
     "name": "stderr",
     "output_type": "stream",
     "text": [
      "C:\\Users\\ben8h\\anaconda3\\Lib\\site-packages\\sklearn\\base.py:1474: DataConversionWarning: A column-vector y was passed when a 1d array was expected. Please change the shape of y to (n_samples,), for example using ravel().\n",
      "  return fit_method(estimator, *args, **kwargs)\n"
     ]
    },
    {
     "name": "stdout",
     "output_type": "stream",
     "text": [
      "[CV 8/10] END max_depth=None, min_samples_leaf=5, min_samples_split=5, n_estimators=200;, score=0.113 total time=   7.4s\n"
     ]
    },
    {
     "name": "stderr",
     "output_type": "stream",
     "text": [
      "C:\\Users\\ben8h\\anaconda3\\Lib\\site-packages\\sklearn\\base.py:1474: DataConversionWarning: A column-vector y was passed when a 1d array was expected. Please change the shape of y to (n_samples,), for example using ravel().\n",
      "  return fit_method(estimator, *args, **kwargs)\n"
     ]
    },
    {
     "name": "stdout",
     "output_type": "stream",
     "text": [
      "[CV 9/10] END max_depth=None, min_samples_leaf=5, min_samples_split=5, n_estimators=200;, score=0.176 total time=   7.4s\n"
     ]
    },
    {
     "name": "stderr",
     "output_type": "stream",
     "text": [
      "C:\\Users\\ben8h\\anaconda3\\Lib\\site-packages\\sklearn\\base.py:1474: DataConversionWarning: A column-vector y was passed when a 1d array was expected. Please change the shape of y to (n_samples,), for example using ravel().\n",
      "  return fit_method(estimator, *args, **kwargs)\n"
     ]
    },
    {
     "name": "stdout",
     "output_type": "stream",
     "text": [
      "[CV 10/10] END max_depth=None, min_samples_leaf=5, min_samples_split=5, n_estimators=200;, score=0.203 total time=   7.5s\n"
     ]
    },
    {
     "name": "stderr",
     "output_type": "stream",
     "text": [
      "C:\\Users\\ben8h\\anaconda3\\Lib\\site-packages\\sklearn\\base.py:1474: DataConversionWarning: A column-vector y was passed when a 1d array was expected. Please change the shape of y to (n_samples,), for example using ravel().\n",
      "  return fit_method(estimator, *args, **kwargs)\n"
     ]
    },
    {
     "name": "stdout",
     "output_type": "stream",
     "text": [
      "[CV 1/10] END max_depth=None, min_samples_leaf=5, min_samples_split=10, n_estimators=50;, score=0.200 total time=   1.9s\n"
     ]
    },
    {
     "name": "stderr",
     "output_type": "stream",
     "text": [
      "C:\\Users\\ben8h\\anaconda3\\Lib\\site-packages\\sklearn\\base.py:1474: DataConversionWarning: A column-vector y was passed when a 1d array was expected. Please change the shape of y to (n_samples,), for example using ravel().\n",
      "  return fit_method(estimator, *args, **kwargs)\n"
     ]
    },
    {
     "name": "stdout",
     "output_type": "stream",
     "text": [
      "[CV 2/10] END max_depth=None, min_samples_leaf=5, min_samples_split=10, n_estimators=50;, score=0.225 total time=   1.8s\n"
     ]
    },
    {
     "name": "stderr",
     "output_type": "stream",
     "text": [
      "C:\\Users\\ben8h\\anaconda3\\Lib\\site-packages\\sklearn\\base.py:1474: DataConversionWarning: A column-vector y was passed when a 1d array was expected. Please change the shape of y to (n_samples,), for example using ravel().\n",
      "  return fit_method(estimator, *args, **kwargs)\n"
     ]
    },
    {
     "name": "stdout",
     "output_type": "stream",
     "text": [
      "[CV 3/10] END max_depth=None, min_samples_leaf=5, min_samples_split=10, n_estimators=50;, score=0.159 total time=   1.8s\n"
     ]
    },
    {
     "name": "stderr",
     "output_type": "stream",
     "text": [
      "C:\\Users\\ben8h\\anaconda3\\Lib\\site-packages\\sklearn\\base.py:1474: DataConversionWarning: A column-vector y was passed when a 1d array was expected. Please change the shape of y to (n_samples,), for example using ravel().\n",
      "  return fit_method(estimator, *args, **kwargs)\n"
     ]
    },
    {
     "name": "stdout",
     "output_type": "stream",
     "text": [
      "[CV 4/10] END max_depth=None, min_samples_leaf=5, min_samples_split=10, n_estimators=50;, score=0.226 total time=   1.8s\n"
     ]
    },
    {
     "name": "stderr",
     "output_type": "stream",
     "text": [
      "C:\\Users\\ben8h\\anaconda3\\Lib\\site-packages\\sklearn\\base.py:1474: DataConversionWarning: A column-vector y was passed when a 1d array was expected. Please change the shape of y to (n_samples,), for example using ravel().\n",
      "  return fit_method(estimator, *args, **kwargs)\n"
     ]
    },
    {
     "name": "stdout",
     "output_type": "stream",
     "text": [
      "[CV 5/10] END max_depth=None, min_samples_leaf=5, min_samples_split=10, n_estimators=50;, score=0.129 total time=   1.8s\n"
     ]
    },
    {
     "name": "stderr",
     "output_type": "stream",
     "text": [
      "C:\\Users\\ben8h\\anaconda3\\Lib\\site-packages\\sklearn\\base.py:1474: DataConversionWarning: A column-vector y was passed when a 1d array was expected. Please change the shape of y to (n_samples,), for example using ravel().\n",
      "  return fit_method(estimator, *args, **kwargs)\n"
     ]
    },
    {
     "name": "stdout",
     "output_type": "stream",
     "text": [
      "[CV 6/10] END max_depth=None, min_samples_leaf=5, min_samples_split=10, n_estimators=50;, score=0.153 total time=   1.8s\n"
     ]
    },
    {
     "name": "stderr",
     "output_type": "stream",
     "text": [
      "C:\\Users\\ben8h\\anaconda3\\Lib\\site-packages\\sklearn\\base.py:1474: DataConversionWarning: A column-vector y was passed when a 1d array was expected. Please change the shape of y to (n_samples,), for example using ravel().\n",
      "  return fit_method(estimator, *args, **kwargs)\n"
     ]
    },
    {
     "name": "stdout",
     "output_type": "stream",
     "text": [
      "[CV 7/10] END max_depth=None, min_samples_leaf=5, min_samples_split=10, n_estimators=50;, score=0.203 total time=   1.8s\n"
     ]
    },
    {
     "name": "stderr",
     "output_type": "stream",
     "text": [
      "C:\\Users\\ben8h\\anaconda3\\Lib\\site-packages\\sklearn\\base.py:1474: DataConversionWarning: A column-vector y was passed when a 1d array was expected. Please change the shape of y to (n_samples,), for example using ravel().\n",
      "  return fit_method(estimator, *args, **kwargs)\n"
     ]
    },
    {
     "name": "stdout",
     "output_type": "stream",
     "text": [
      "[CV 8/10] END max_depth=None, min_samples_leaf=5, min_samples_split=10, n_estimators=50;, score=0.118 total time=   1.8s\n"
     ]
    },
    {
     "name": "stderr",
     "output_type": "stream",
     "text": [
      "C:\\Users\\ben8h\\anaconda3\\Lib\\site-packages\\sklearn\\base.py:1474: DataConversionWarning: A column-vector y was passed when a 1d array was expected. Please change the shape of y to (n_samples,), for example using ravel().\n",
      "  return fit_method(estimator, *args, **kwargs)\n"
     ]
    },
    {
     "name": "stdout",
     "output_type": "stream",
     "text": [
      "[CV 9/10] END max_depth=None, min_samples_leaf=5, min_samples_split=10, n_estimators=50;, score=0.187 total time=   1.8s\n"
     ]
    },
    {
     "name": "stderr",
     "output_type": "stream",
     "text": [
      "C:\\Users\\ben8h\\anaconda3\\Lib\\site-packages\\sklearn\\base.py:1474: DataConversionWarning: A column-vector y was passed when a 1d array was expected. Please change the shape of y to (n_samples,), for example using ravel().\n",
      "  return fit_method(estimator, *args, **kwargs)\n"
     ]
    },
    {
     "name": "stdout",
     "output_type": "stream",
     "text": [
      "[CV 10/10] END max_depth=None, min_samples_leaf=5, min_samples_split=10, n_estimators=50;, score=0.183 total time=   1.8s\n"
     ]
    },
    {
     "name": "stderr",
     "output_type": "stream",
     "text": [
      "C:\\Users\\ben8h\\anaconda3\\Lib\\site-packages\\sklearn\\base.py:1474: DataConversionWarning: A column-vector y was passed when a 1d array was expected. Please change the shape of y to (n_samples,), for example using ravel().\n",
      "  return fit_method(estimator, *args, **kwargs)\n"
     ]
    },
    {
     "name": "stdout",
     "output_type": "stream",
     "text": [
      "[CV 1/10] END max_depth=None, min_samples_leaf=5, min_samples_split=10, n_estimators=100;, score=0.206 total time=   3.7s\n"
     ]
    },
    {
     "name": "stderr",
     "output_type": "stream",
     "text": [
      "C:\\Users\\ben8h\\anaconda3\\Lib\\site-packages\\sklearn\\base.py:1474: DataConversionWarning: A column-vector y was passed when a 1d array was expected. Please change the shape of y to (n_samples,), for example using ravel().\n",
      "  return fit_method(estimator, *args, **kwargs)\n"
     ]
    },
    {
     "name": "stdout",
     "output_type": "stream",
     "text": [
      "[CV 2/10] END max_depth=None, min_samples_leaf=5, min_samples_split=10, n_estimators=100;, score=0.218 total time=   3.7s\n"
     ]
    },
    {
     "name": "stderr",
     "output_type": "stream",
     "text": [
      "C:\\Users\\ben8h\\anaconda3\\Lib\\site-packages\\sklearn\\base.py:1474: DataConversionWarning: A column-vector y was passed when a 1d array was expected. Please change the shape of y to (n_samples,), for example using ravel().\n",
      "  return fit_method(estimator, *args, **kwargs)\n"
     ]
    },
    {
     "name": "stdout",
     "output_type": "stream",
     "text": [
      "[CV 3/10] END max_depth=None, min_samples_leaf=5, min_samples_split=10, n_estimators=100;, score=0.171 total time=   3.7s\n"
     ]
    },
    {
     "name": "stderr",
     "output_type": "stream",
     "text": [
      "C:\\Users\\ben8h\\anaconda3\\Lib\\site-packages\\sklearn\\base.py:1474: DataConversionWarning: A column-vector y was passed when a 1d array was expected. Please change the shape of y to (n_samples,), for example using ravel().\n",
      "  return fit_method(estimator, *args, **kwargs)\n"
     ]
    },
    {
     "name": "stdout",
     "output_type": "stream",
     "text": [
      "[CV 4/10] END max_depth=None, min_samples_leaf=5, min_samples_split=10, n_estimators=100;, score=0.221 total time=   3.8s\n"
     ]
    },
    {
     "name": "stderr",
     "output_type": "stream",
     "text": [
      "C:\\Users\\ben8h\\anaconda3\\Lib\\site-packages\\sklearn\\base.py:1474: DataConversionWarning: A column-vector y was passed when a 1d array was expected. Please change the shape of y to (n_samples,), for example using ravel().\n",
      "  return fit_method(estimator, *args, **kwargs)\n"
     ]
    },
    {
     "name": "stdout",
     "output_type": "stream",
     "text": [
      "[CV 5/10] END max_depth=None, min_samples_leaf=5, min_samples_split=10, n_estimators=100;, score=0.143 total time=   3.7s\n"
     ]
    },
    {
     "name": "stderr",
     "output_type": "stream",
     "text": [
      "C:\\Users\\ben8h\\anaconda3\\Lib\\site-packages\\sklearn\\base.py:1474: DataConversionWarning: A column-vector y was passed when a 1d array was expected. Please change the shape of y to (n_samples,), for example using ravel().\n",
      "  return fit_method(estimator, *args, **kwargs)\n"
     ]
    },
    {
     "name": "stdout",
     "output_type": "stream",
     "text": [
      "[CV 6/10] END max_depth=None, min_samples_leaf=5, min_samples_split=10, n_estimators=100;, score=0.143 total time=   3.7s\n"
     ]
    },
    {
     "name": "stderr",
     "output_type": "stream",
     "text": [
      "C:\\Users\\ben8h\\anaconda3\\Lib\\site-packages\\sklearn\\base.py:1474: DataConversionWarning: A column-vector y was passed when a 1d array was expected. Please change the shape of y to (n_samples,), for example using ravel().\n",
      "  return fit_method(estimator, *args, **kwargs)\n"
     ]
    },
    {
     "name": "stdout",
     "output_type": "stream",
     "text": [
      "[CV 7/10] END max_depth=None, min_samples_leaf=5, min_samples_split=10, n_estimators=100;, score=0.216 total time=   3.7s\n"
     ]
    },
    {
     "name": "stderr",
     "output_type": "stream",
     "text": [
      "C:\\Users\\ben8h\\anaconda3\\Lib\\site-packages\\sklearn\\base.py:1474: DataConversionWarning: A column-vector y was passed when a 1d array was expected. Please change the shape of y to (n_samples,), for example using ravel().\n",
      "  return fit_method(estimator, *args, **kwargs)\n"
     ]
    },
    {
     "name": "stdout",
     "output_type": "stream",
     "text": [
      "[CV 8/10] END max_depth=None, min_samples_leaf=5, min_samples_split=10, n_estimators=100;, score=0.111 total time=   3.7s\n"
     ]
    },
    {
     "name": "stderr",
     "output_type": "stream",
     "text": [
      "C:\\Users\\ben8h\\anaconda3\\Lib\\site-packages\\sklearn\\base.py:1474: DataConversionWarning: A column-vector y was passed when a 1d array was expected. Please change the shape of y to (n_samples,), for example using ravel().\n",
      "  return fit_method(estimator, *args, **kwargs)\n"
     ]
    },
    {
     "name": "stdout",
     "output_type": "stream",
     "text": [
      "[CV 9/10] END max_depth=None, min_samples_leaf=5, min_samples_split=10, n_estimators=100;, score=0.172 total time=   3.7s\n"
     ]
    },
    {
     "name": "stderr",
     "output_type": "stream",
     "text": [
      "C:\\Users\\ben8h\\anaconda3\\Lib\\site-packages\\sklearn\\base.py:1474: DataConversionWarning: A column-vector y was passed when a 1d array was expected. Please change the shape of y to (n_samples,), for example using ravel().\n",
      "  return fit_method(estimator, *args, **kwargs)\n"
     ]
    },
    {
     "name": "stdout",
     "output_type": "stream",
     "text": [
      "[CV 10/10] END max_depth=None, min_samples_leaf=5, min_samples_split=10, n_estimators=100;, score=0.191 total time=   3.7s\n"
     ]
    },
    {
     "name": "stderr",
     "output_type": "stream",
     "text": [
      "C:\\Users\\ben8h\\anaconda3\\Lib\\site-packages\\sklearn\\base.py:1474: DataConversionWarning: A column-vector y was passed when a 1d array was expected. Please change the shape of y to (n_samples,), for example using ravel().\n",
      "  return fit_method(estimator, *args, **kwargs)\n"
     ]
    },
    {
     "name": "stdout",
     "output_type": "stream",
     "text": [
      "[CV 1/10] END max_depth=None, min_samples_leaf=5, min_samples_split=10, n_estimators=200;, score=0.200 total time=   7.6s\n"
     ]
    },
    {
     "name": "stderr",
     "output_type": "stream",
     "text": [
      "C:\\Users\\ben8h\\anaconda3\\Lib\\site-packages\\sklearn\\base.py:1474: DataConversionWarning: A column-vector y was passed when a 1d array was expected. Please change the shape of y to (n_samples,), for example using ravel().\n",
      "  return fit_method(estimator, *args, **kwargs)\n"
     ]
    },
    {
     "name": "stdout",
     "output_type": "stream",
     "text": [
      "[CV 2/10] END max_depth=None, min_samples_leaf=5, min_samples_split=10, n_estimators=200;, score=0.212 total time=   7.4s\n"
     ]
    },
    {
     "name": "stderr",
     "output_type": "stream",
     "text": [
      "C:\\Users\\ben8h\\anaconda3\\Lib\\site-packages\\sklearn\\base.py:1474: DataConversionWarning: A column-vector y was passed when a 1d array was expected. Please change the shape of y to (n_samples,), for example using ravel().\n",
      "  return fit_method(estimator, *args, **kwargs)\n"
     ]
    },
    {
     "name": "stdout",
     "output_type": "stream",
     "text": [
      "[CV 3/10] END max_depth=None, min_samples_leaf=5, min_samples_split=10, n_estimators=200;, score=0.184 total time=   7.5s\n"
     ]
    },
    {
     "name": "stderr",
     "output_type": "stream",
     "text": [
      "C:\\Users\\ben8h\\anaconda3\\Lib\\site-packages\\sklearn\\base.py:1474: DataConversionWarning: A column-vector y was passed when a 1d array was expected. Please change the shape of y to (n_samples,), for example using ravel().\n",
      "  return fit_method(estimator, *args, **kwargs)\n"
     ]
    },
    {
     "name": "stdout",
     "output_type": "stream",
     "text": [
      "[CV 4/10] END max_depth=None, min_samples_leaf=5, min_samples_split=10, n_estimators=200;, score=0.224 total time=   7.7s\n"
     ]
    },
    {
     "name": "stderr",
     "output_type": "stream",
     "text": [
      "C:\\Users\\ben8h\\anaconda3\\Lib\\site-packages\\sklearn\\base.py:1474: DataConversionWarning: A column-vector y was passed when a 1d array was expected. Please change the shape of y to (n_samples,), for example using ravel().\n",
      "  return fit_method(estimator, *args, **kwargs)\n"
     ]
    },
    {
     "name": "stdout",
     "output_type": "stream",
     "text": [
      "[CV 5/10] END max_depth=None, min_samples_leaf=5, min_samples_split=10, n_estimators=200;, score=0.139 total time=   7.5s\n"
     ]
    },
    {
     "name": "stderr",
     "output_type": "stream",
     "text": [
      "C:\\Users\\ben8h\\anaconda3\\Lib\\site-packages\\sklearn\\base.py:1474: DataConversionWarning: A column-vector y was passed when a 1d array was expected. Please change the shape of y to (n_samples,), for example using ravel().\n",
      "  return fit_method(estimator, *args, **kwargs)\n"
     ]
    },
    {
     "name": "stdout",
     "output_type": "stream",
     "text": [
      "[CV 6/10] END max_depth=None, min_samples_leaf=5, min_samples_split=10, n_estimators=200;, score=0.150 total time=   7.6s\n"
     ]
    },
    {
     "name": "stderr",
     "output_type": "stream",
     "text": [
      "C:\\Users\\ben8h\\anaconda3\\Lib\\site-packages\\sklearn\\base.py:1474: DataConversionWarning: A column-vector y was passed when a 1d array was expected. Please change the shape of y to (n_samples,), for example using ravel().\n",
      "  return fit_method(estimator, *args, **kwargs)\n"
     ]
    },
    {
     "name": "stdout",
     "output_type": "stream",
     "text": [
      "[CV 7/10] END max_depth=None, min_samples_leaf=5, min_samples_split=10, n_estimators=200;, score=0.216 total time=   7.5s\n"
     ]
    },
    {
     "name": "stderr",
     "output_type": "stream",
     "text": [
      "C:\\Users\\ben8h\\anaconda3\\Lib\\site-packages\\sklearn\\base.py:1474: DataConversionWarning: A column-vector y was passed when a 1d array was expected. Please change the shape of y to (n_samples,), for example using ravel().\n",
      "  return fit_method(estimator, *args, **kwargs)\n"
     ]
    },
    {
     "name": "stdout",
     "output_type": "stream",
     "text": [
      "[CV 8/10] END max_depth=None, min_samples_leaf=5, min_samples_split=10, n_estimators=200;, score=0.116 total time=   7.5s\n"
     ]
    },
    {
     "name": "stderr",
     "output_type": "stream",
     "text": [
      "C:\\Users\\ben8h\\anaconda3\\Lib\\site-packages\\sklearn\\base.py:1474: DataConversionWarning: A column-vector y was passed when a 1d array was expected. Please change the shape of y to (n_samples,), for example using ravel().\n",
      "  return fit_method(estimator, *args, **kwargs)\n"
     ]
    },
    {
     "name": "stdout",
     "output_type": "stream",
     "text": [
      "[CV 9/10] END max_depth=None, min_samples_leaf=5, min_samples_split=10, n_estimators=200;, score=0.179 total time=   7.4s\n"
     ]
    },
    {
     "name": "stderr",
     "output_type": "stream",
     "text": [
      "C:\\Users\\ben8h\\anaconda3\\Lib\\site-packages\\sklearn\\base.py:1474: DataConversionWarning: A column-vector y was passed when a 1d array was expected. Please change the shape of y to (n_samples,), for example using ravel().\n",
      "  return fit_method(estimator, *args, **kwargs)\n"
     ]
    },
    {
     "name": "stdout",
     "output_type": "stream",
     "text": [
      "[CV 10/10] END max_depth=None, min_samples_leaf=5, min_samples_split=10, n_estimators=200;, score=0.195 total time=   7.5s\n"
     ]
    },
    {
     "name": "stderr",
     "output_type": "stream",
     "text": [
      "C:\\Users\\ben8h\\anaconda3\\Lib\\site-packages\\sklearn\\base.py:1474: DataConversionWarning: A column-vector y was passed when a 1d array was expected. Please change the shape of y to (n_samples,), for example using ravel().\n",
      "  return fit_method(estimator, *args, **kwargs)\n"
     ]
    },
    {
     "name": "stdout",
     "output_type": "stream",
     "text": [
      "[CV 1/10] END max_depth=None, min_samples_leaf=10, min_samples_split=2, n_estimators=50;, score=0.202 total time=   1.5s\n"
     ]
    },
    {
     "name": "stderr",
     "output_type": "stream",
     "text": [
      "C:\\Users\\ben8h\\anaconda3\\Lib\\site-packages\\sklearn\\base.py:1474: DataConversionWarning: A column-vector y was passed when a 1d array was expected. Please change the shape of y to (n_samples,), for example using ravel().\n",
      "  return fit_method(estimator, *args, **kwargs)\n"
     ]
    },
    {
     "name": "stdout",
     "output_type": "stream",
     "text": [
      "[CV 2/10] END max_depth=None, min_samples_leaf=10, min_samples_split=2, n_estimators=50;, score=0.207 total time=   1.5s\n"
     ]
    },
    {
     "name": "stderr",
     "output_type": "stream",
     "text": [
      "C:\\Users\\ben8h\\anaconda3\\Lib\\site-packages\\sklearn\\base.py:1474: DataConversionWarning: A column-vector y was passed when a 1d array was expected. Please change the shape of y to (n_samples,), for example using ravel().\n",
      "  return fit_method(estimator, *args, **kwargs)\n"
     ]
    },
    {
     "name": "stdout",
     "output_type": "stream",
     "text": [
      "[CV 3/10] END max_depth=None, min_samples_leaf=10, min_samples_split=2, n_estimators=50;, score=0.166 total time=   1.5s\n"
     ]
    },
    {
     "name": "stderr",
     "output_type": "stream",
     "text": [
      "C:\\Users\\ben8h\\anaconda3\\Lib\\site-packages\\sklearn\\base.py:1474: DataConversionWarning: A column-vector y was passed when a 1d array was expected. Please change the shape of y to (n_samples,), for example using ravel().\n",
      "  return fit_method(estimator, *args, **kwargs)\n"
     ]
    },
    {
     "name": "stdout",
     "output_type": "stream",
     "text": [
      "[CV 4/10] END max_depth=None, min_samples_leaf=10, min_samples_split=2, n_estimators=50;, score=0.228 total time=   1.5s\n"
     ]
    },
    {
     "name": "stderr",
     "output_type": "stream",
     "text": [
      "C:\\Users\\ben8h\\anaconda3\\Lib\\site-packages\\sklearn\\base.py:1474: DataConversionWarning: A column-vector y was passed when a 1d array was expected. Please change the shape of y to (n_samples,), for example using ravel().\n",
      "  return fit_method(estimator, *args, **kwargs)\n"
     ]
    },
    {
     "name": "stdout",
     "output_type": "stream",
     "text": [
      "[CV 5/10] END max_depth=None, min_samples_leaf=10, min_samples_split=2, n_estimators=50;, score=0.162 total time=   1.5s\n"
     ]
    },
    {
     "name": "stderr",
     "output_type": "stream",
     "text": [
      "C:\\Users\\ben8h\\anaconda3\\Lib\\site-packages\\sklearn\\base.py:1474: DataConversionWarning: A column-vector y was passed when a 1d array was expected. Please change the shape of y to (n_samples,), for example using ravel().\n",
      "  return fit_method(estimator, *args, **kwargs)\n"
     ]
    },
    {
     "name": "stdout",
     "output_type": "stream",
     "text": [
      "[CV 6/10] END max_depth=None, min_samples_leaf=10, min_samples_split=2, n_estimators=50;, score=0.127 total time=   1.5s\n"
     ]
    },
    {
     "name": "stderr",
     "output_type": "stream",
     "text": [
      "C:\\Users\\ben8h\\anaconda3\\Lib\\site-packages\\sklearn\\base.py:1474: DataConversionWarning: A column-vector y was passed when a 1d array was expected. Please change the shape of y to (n_samples,), for example using ravel().\n",
      "  return fit_method(estimator, *args, **kwargs)\n"
     ]
    },
    {
     "name": "stdout",
     "output_type": "stream",
     "text": [
      "[CV 7/10] END max_depth=None, min_samples_leaf=10, min_samples_split=2, n_estimators=50;, score=0.207 total time=   1.5s\n"
     ]
    },
    {
     "name": "stderr",
     "output_type": "stream",
     "text": [
      "C:\\Users\\ben8h\\anaconda3\\Lib\\site-packages\\sklearn\\base.py:1474: DataConversionWarning: A column-vector y was passed when a 1d array was expected. Please change the shape of y to (n_samples,), for example using ravel().\n",
      "  return fit_method(estimator, *args, **kwargs)\n"
     ]
    },
    {
     "name": "stdout",
     "output_type": "stream",
     "text": [
      "[CV 8/10] END max_depth=None, min_samples_leaf=10, min_samples_split=2, n_estimators=50;, score=0.116 total time=   1.5s\n"
     ]
    },
    {
     "name": "stderr",
     "output_type": "stream",
     "text": [
      "C:\\Users\\ben8h\\anaconda3\\Lib\\site-packages\\sklearn\\base.py:1474: DataConversionWarning: A column-vector y was passed when a 1d array was expected. Please change the shape of y to (n_samples,), for example using ravel().\n",
      "  return fit_method(estimator, *args, **kwargs)\n"
     ]
    },
    {
     "name": "stdout",
     "output_type": "stream",
     "text": [
      "[CV 9/10] END max_depth=None, min_samples_leaf=10, min_samples_split=2, n_estimators=50;, score=0.171 total time=   1.5s\n"
     ]
    },
    {
     "name": "stderr",
     "output_type": "stream",
     "text": [
      "C:\\Users\\ben8h\\anaconda3\\Lib\\site-packages\\sklearn\\base.py:1474: DataConversionWarning: A column-vector y was passed when a 1d array was expected. Please change the shape of y to (n_samples,), for example using ravel().\n",
      "  return fit_method(estimator, *args, **kwargs)\n"
     ]
    },
    {
     "name": "stdout",
     "output_type": "stream",
     "text": [
      "[CV 10/10] END max_depth=None, min_samples_leaf=10, min_samples_split=2, n_estimators=50;, score=0.205 total time=   1.5s\n"
     ]
    },
    {
     "name": "stderr",
     "output_type": "stream",
     "text": [
      "C:\\Users\\ben8h\\anaconda3\\Lib\\site-packages\\sklearn\\base.py:1474: DataConversionWarning: A column-vector y was passed when a 1d array was expected. Please change the shape of y to (n_samples,), for example using ravel().\n",
      "  return fit_method(estimator, *args, **kwargs)\n"
     ]
    },
    {
     "name": "stdout",
     "output_type": "stream",
     "text": [
      "[CV 1/10] END max_depth=None, min_samples_leaf=10, min_samples_split=2, n_estimators=100;, score=0.199 total time=   3.2s\n"
     ]
    },
    {
     "name": "stderr",
     "output_type": "stream",
     "text": [
      "C:\\Users\\ben8h\\anaconda3\\Lib\\site-packages\\sklearn\\base.py:1474: DataConversionWarning: A column-vector y was passed when a 1d array was expected. Please change the shape of y to (n_samples,), for example using ravel().\n",
      "  return fit_method(estimator, *args, **kwargs)\n"
     ]
    },
    {
     "name": "stdout",
     "output_type": "stream",
     "text": [
      "[CV 2/10] END max_depth=None, min_samples_leaf=10, min_samples_split=2, n_estimators=100;, score=0.203 total time=   3.1s\n"
     ]
    },
    {
     "name": "stderr",
     "output_type": "stream",
     "text": [
      "C:\\Users\\ben8h\\anaconda3\\Lib\\site-packages\\sklearn\\base.py:1474: DataConversionWarning: A column-vector y was passed when a 1d array was expected. Please change the shape of y to (n_samples,), for example using ravel().\n",
      "  return fit_method(estimator, *args, **kwargs)\n"
     ]
    },
    {
     "name": "stdout",
     "output_type": "stream",
     "text": [
      "[CV 3/10] END max_depth=None, min_samples_leaf=10, min_samples_split=2, n_estimators=100;, score=0.167 total time=   3.1s\n"
     ]
    },
    {
     "name": "stderr",
     "output_type": "stream",
     "text": [
      "C:\\Users\\ben8h\\anaconda3\\Lib\\site-packages\\sklearn\\base.py:1474: DataConversionWarning: A column-vector y was passed when a 1d array was expected. Please change the shape of y to (n_samples,), for example using ravel().\n",
      "  return fit_method(estimator, *args, **kwargs)\n"
     ]
    },
    {
     "name": "stdout",
     "output_type": "stream",
     "text": [
      "[CV 4/10] END max_depth=None, min_samples_leaf=10, min_samples_split=2, n_estimators=100;, score=0.229 total time=   3.2s\n"
     ]
    },
    {
     "name": "stderr",
     "output_type": "stream",
     "text": [
      "C:\\Users\\ben8h\\anaconda3\\Lib\\site-packages\\sklearn\\base.py:1474: DataConversionWarning: A column-vector y was passed when a 1d array was expected. Please change the shape of y to (n_samples,), for example using ravel().\n",
      "  return fit_method(estimator, *args, **kwargs)\n"
     ]
    },
    {
     "name": "stdout",
     "output_type": "stream",
     "text": [
      "[CV 5/10] END max_depth=None, min_samples_leaf=10, min_samples_split=2, n_estimators=100;, score=0.158 total time=   3.1s\n"
     ]
    },
    {
     "name": "stderr",
     "output_type": "stream",
     "text": [
      "C:\\Users\\ben8h\\anaconda3\\Lib\\site-packages\\sklearn\\base.py:1474: DataConversionWarning: A column-vector y was passed when a 1d array was expected. Please change the shape of y to (n_samples,), for example using ravel().\n",
      "  return fit_method(estimator, *args, **kwargs)\n"
     ]
    },
    {
     "name": "stdout",
     "output_type": "stream",
     "text": [
      "[CV 6/10] END max_depth=None, min_samples_leaf=10, min_samples_split=2, n_estimators=100;, score=0.128 total time=   3.1s\n"
     ]
    },
    {
     "name": "stderr",
     "output_type": "stream",
     "text": [
      "C:\\Users\\ben8h\\anaconda3\\Lib\\site-packages\\sklearn\\base.py:1474: DataConversionWarning: A column-vector y was passed when a 1d array was expected. Please change the shape of y to (n_samples,), for example using ravel().\n",
      "  return fit_method(estimator, *args, **kwargs)\n"
     ]
    },
    {
     "name": "stdout",
     "output_type": "stream",
     "text": [
      "[CV 7/10] END max_depth=None, min_samples_leaf=10, min_samples_split=2, n_estimators=100;, score=0.219 total time=   3.2s\n"
     ]
    },
    {
     "name": "stderr",
     "output_type": "stream",
     "text": [
      "C:\\Users\\ben8h\\anaconda3\\Lib\\site-packages\\sklearn\\base.py:1474: DataConversionWarning: A column-vector y was passed when a 1d array was expected. Please change the shape of y to (n_samples,), for example using ravel().\n",
      "  return fit_method(estimator, *args, **kwargs)\n"
     ]
    },
    {
     "name": "stdout",
     "output_type": "stream",
     "text": [
      "[CV 8/10] END max_depth=None, min_samples_leaf=10, min_samples_split=2, n_estimators=100;, score=0.118 total time=   3.2s\n"
     ]
    },
    {
     "name": "stderr",
     "output_type": "stream",
     "text": [
      "C:\\Users\\ben8h\\anaconda3\\Lib\\site-packages\\sklearn\\base.py:1474: DataConversionWarning: A column-vector y was passed when a 1d array was expected. Please change the shape of y to (n_samples,), for example using ravel().\n",
      "  return fit_method(estimator, *args, **kwargs)\n"
     ]
    },
    {
     "name": "stdout",
     "output_type": "stream",
     "text": [
      "[CV 9/10] END max_depth=None, min_samples_leaf=10, min_samples_split=2, n_estimators=100;, score=0.166 total time=   3.2s\n"
     ]
    },
    {
     "name": "stderr",
     "output_type": "stream",
     "text": [
      "C:\\Users\\ben8h\\anaconda3\\Lib\\site-packages\\sklearn\\base.py:1474: DataConversionWarning: A column-vector y was passed when a 1d array was expected. Please change the shape of y to (n_samples,), for example using ravel().\n",
      "  return fit_method(estimator, *args, **kwargs)\n"
     ]
    },
    {
     "name": "stdout",
     "output_type": "stream",
     "text": [
      "[CV 10/10] END max_depth=None, min_samples_leaf=10, min_samples_split=2, n_estimators=100;, score=0.203 total time=   3.1s\n"
     ]
    },
    {
     "name": "stderr",
     "output_type": "stream",
     "text": [
      "C:\\Users\\ben8h\\anaconda3\\Lib\\site-packages\\sklearn\\base.py:1474: DataConversionWarning: A column-vector y was passed when a 1d array was expected. Please change the shape of y to (n_samples,), for example using ravel().\n",
      "  return fit_method(estimator, *args, **kwargs)\n"
     ]
    },
    {
     "name": "stdout",
     "output_type": "stream",
     "text": [
      "[CV 1/10] END max_depth=None, min_samples_leaf=10, min_samples_split=2, n_estimators=200;, score=0.204 total time=   6.4s\n"
     ]
    },
    {
     "name": "stderr",
     "output_type": "stream",
     "text": [
      "C:\\Users\\ben8h\\anaconda3\\Lib\\site-packages\\sklearn\\base.py:1474: DataConversionWarning: A column-vector y was passed when a 1d array was expected. Please change the shape of y to (n_samples,), for example using ravel().\n",
      "  return fit_method(estimator, *args, **kwargs)\n"
     ]
    },
    {
     "name": "stdout",
     "output_type": "stream",
     "text": [
      "[CV 2/10] END max_depth=None, min_samples_leaf=10, min_samples_split=2, n_estimators=200;, score=0.207 total time=   6.3s\n"
     ]
    },
    {
     "name": "stderr",
     "output_type": "stream",
     "text": [
      "C:\\Users\\ben8h\\anaconda3\\Lib\\site-packages\\sklearn\\base.py:1474: DataConversionWarning: A column-vector y was passed when a 1d array was expected. Please change the shape of y to (n_samples,), for example using ravel().\n",
      "  return fit_method(estimator, *args, **kwargs)\n"
     ]
    },
    {
     "name": "stdout",
     "output_type": "stream",
     "text": [
      "[CV 3/10] END max_depth=None, min_samples_leaf=10, min_samples_split=2, n_estimators=200;, score=0.171 total time=   6.4s\n"
     ]
    },
    {
     "name": "stderr",
     "output_type": "stream",
     "text": [
      "C:\\Users\\ben8h\\anaconda3\\Lib\\site-packages\\sklearn\\base.py:1474: DataConversionWarning: A column-vector y was passed when a 1d array was expected. Please change the shape of y to (n_samples,), for example using ravel().\n",
      "  return fit_method(estimator, *args, **kwargs)\n"
     ]
    },
    {
     "name": "stdout",
     "output_type": "stream",
     "text": [
      "[CV 4/10] END max_depth=None, min_samples_leaf=10, min_samples_split=2, n_estimators=200;, score=0.227 total time=   6.5s\n"
     ]
    },
    {
     "name": "stderr",
     "output_type": "stream",
     "text": [
      "C:\\Users\\ben8h\\anaconda3\\Lib\\site-packages\\sklearn\\base.py:1474: DataConversionWarning: A column-vector y was passed when a 1d array was expected. Please change the shape of y to (n_samples,), for example using ravel().\n",
      "  return fit_method(estimator, *args, **kwargs)\n"
     ]
    },
    {
     "name": "stdout",
     "output_type": "stream",
     "text": [
      "[CV 5/10] END max_depth=None, min_samples_leaf=10, min_samples_split=2, n_estimators=200;, score=0.161 total time=   6.3s\n"
     ]
    },
    {
     "name": "stderr",
     "output_type": "stream",
     "text": [
      "C:\\Users\\ben8h\\anaconda3\\Lib\\site-packages\\sklearn\\base.py:1474: DataConversionWarning: A column-vector y was passed when a 1d array was expected. Please change the shape of y to (n_samples,), for example using ravel().\n",
      "  return fit_method(estimator, *args, **kwargs)\n"
     ]
    },
    {
     "name": "stdout",
     "output_type": "stream",
     "text": [
      "[CV 6/10] END max_depth=None, min_samples_leaf=10, min_samples_split=2, n_estimators=200;, score=0.137 total time=   6.4s\n"
     ]
    },
    {
     "name": "stderr",
     "output_type": "stream",
     "text": [
      "C:\\Users\\ben8h\\anaconda3\\Lib\\site-packages\\sklearn\\base.py:1474: DataConversionWarning: A column-vector y was passed when a 1d array was expected. Please change the shape of y to (n_samples,), for example using ravel().\n",
      "  return fit_method(estimator, *args, **kwargs)\n"
     ]
    },
    {
     "name": "stdout",
     "output_type": "stream",
     "text": [
      "[CV 7/10] END max_depth=None, min_samples_leaf=10, min_samples_split=2, n_estimators=200;, score=0.215 total time=   6.6s\n"
     ]
    },
    {
     "name": "stderr",
     "output_type": "stream",
     "text": [
      "C:\\Users\\ben8h\\anaconda3\\Lib\\site-packages\\sklearn\\base.py:1474: DataConversionWarning: A column-vector y was passed when a 1d array was expected. Please change the shape of y to (n_samples,), for example using ravel().\n",
      "  return fit_method(estimator, *args, **kwargs)\n"
     ]
    },
    {
     "name": "stdout",
     "output_type": "stream",
     "text": [
      "[CV 8/10] END max_depth=None, min_samples_leaf=10, min_samples_split=2, n_estimators=200;, score=0.125 total time=   6.4s\n"
     ]
    },
    {
     "name": "stderr",
     "output_type": "stream",
     "text": [
      "C:\\Users\\ben8h\\anaconda3\\Lib\\site-packages\\sklearn\\base.py:1474: DataConversionWarning: A column-vector y was passed when a 1d array was expected. Please change the shape of y to (n_samples,), for example using ravel().\n",
      "  return fit_method(estimator, *args, **kwargs)\n"
     ]
    },
    {
     "name": "stdout",
     "output_type": "stream",
     "text": [
      "[CV 9/10] END max_depth=None, min_samples_leaf=10, min_samples_split=2, n_estimators=200;, score=0.167 total time=   6.4s\n"
     ]
    },
    {
     "name": "stderr",
     "output_type": "stream",
     "text": [
      "C:\\Users\\ben8h\\anaconda3\\Lib\\site-packages\\sklearn\\base.py:1474: DataConversionWarning: A column-vector y was passed when a 1d array was expected. Please change the shape of y to (n_samples,), for example using ravel().\n",
      "  return fit_method(estimator, *args, **kwargs)\n"
     ]
    },
    {
     "name": "stdout",
     "output_type": "stream",
     "text": [
      "[CV 10/10] END max_depth=None, min_samples_leaf=10, min_samples_split=2, n_estimators=200;, score=0.202 total time=   6.4s\n"
     ]
    },
    {
     "name": "stderr",
     "output_type": "stream",
     "text": [
      "C:\\Users\\ben8h\\anaconda3\\Lib\\site-packages\\sklearn\\base.py:1474: DataConversionWarning: A column-vector y was passed when a 1d array was expected. Please change the shape of y to (n_samples,), for example using ravel().\n",
      "  return fit_method(estimator, *args, **kwargs)\n"
     ]
    },
    {
     "name": "stdout",
     "output_type": "stream",
     "text": [
      "[CV 1/10] END max_depth=None, min_samples_leaf=10, min_samples_split=5, n_estimators=50;, score=0.199 total time=   1.6s\n"
     ]
    },
    {
     "name": "stderr",
     "output_type": "stream",
     "text": [
      "C:\\Users\\ben8h\\anaconda3\\Lib\\site-packages\\sklearn\\base.py:1474: DataConversionWarning: A column-vector y was passed when a 1d array was expected. Please change the shape of y to (n_samples,), for example using ravel().\n",
      "  return fit_method(estimator, *args, **kwargs)\n"
     ]
    },
    {
     "name": "stdout",
     "output_type": "stream",
     "text": [
      "[CV 2/10] END max_depth=None, min_samples_leaf=10, min_samples_split=5, n_estimators=50;, score=0.212 total time=   1.5s\n"
     ]
    },
    {
     "name": "stderr",
     "output_type": "stream",
     "text": [
      "C:\\Users\\ben8h\\anaconda3\\Lib\\site-packages\\sklearn\\base.py:1474: DataConversionWarning: A column-vector y was passed when a 1d array was expected. Please change the shape of y to (n_samples,), for example using ravel().\n",
      "  return fit_method(estimator, *args, **kwargs)\n"
     ]
    },
    {
     "name": "stdout",
     "output_type": "stream",
     "text": [
      "[CV 3/10] END max_depth=None, min_samples_leaf=10, min_samples_split=5, n_estimators=50;, score=0.169 total time=   1.5s\n"
     ]
    },
    {
     "name": "stderr",
     "output_type": "stream",
     "text": [
      "C:\\Users\\ben8h\\anaconda3\\Lib\\site-packages\\sklearn\\base.py:1474: DataConversionWarning: A column-vector y was passed when a 1d array was expected. Please change the shape of y to (n_samples,), for example using ravel().\n",
      "  return fit_method(estimator, *args, **kwargs)\n"
     ]
    },
    {
     "name": "stdout",
     "output_type": "stream",
     "text": [
      "[CV 4/10] END max_depth=None, min_samples_leaf=10, min_samples_split=5, n_estimators=50;, score=0.231 total time=   1.5s\n"
     ]
    },
    {
     "name": "stderr",
     "output_type": "stream",
     "text": [
      "C:\\Users\\ben8h\\anaconda3\\Lib\\site-packages\\sklearn\\base.py:1474: DataConversionWarning: A column-vector y was passed when a 1d array was expected. Please change the shape of y to (n_samples,), for example using ravel().\n",
      "  return fit_method(estimator, *args, **kwargs)\n"
     ]
    },
    {
     "name": "stdout",
     "output_type": "stream",
     "text": [
      "[CV 5/10] END max_depth=None, min_samples_leaf=10, min_samples_split=5, n_estimators=50;, score=0.147 total time=   1.5s\n"
     ]
    },
    {
     "name": "stderr",
     "output_type": "stream",
     "text": [
      "C:\\Users\\ben8h\\anaconda3\\Lib\\site-packages\\sklearn\\base.py:1474: DataConversionWarning: A column-vector y was passed when a 1d array was expected. Please change the shape of y to (n_samples,), for example using ravel().\n",
      "  return fit_method(estimator, *args, **kwargs)\n"
     ]
    },
    {
     "name": "stdout",
     "output_type": "stream",
     "text": [
      "[CV 6/10] END max_depth=None, min_samples_leaf=10, min_samples_split=5, n_estimators=50;, score=0.139 total time=   1.6s\n"
     ]
    },
    {
     "name": "stderr",
     "output_type": "stream",
     "text": [
      "C:\\Users\\ben8h\\anaconda3\\Lib\\site-packages\\sklearn\\base.py:1474: DataConversionWarning: A column-vector y was passed when a 1d array was expected. Please change the shape of y to (n_samples,), for example using ravel().\n",
      "  return fit_method(estimator, *args, **kwargs)\n"
     ]
    },
    {
     "name": "stdout",
     "output_type": "stream",
     "text": [
      "[CV 7/10] END max_depth=None, min_samples_leaf=10, min_samples_split=5, n_estimators=50;, score=0.213 total time=   1.5s\n"
     ]
    },
    {
     "name": "stderr",
     "output_type": "stream",
     "text": [
      "C:\\Users\\ben8h\\anaconda3\\Lib\\site-packages\\sklearn\\base.py:1474: DataConversionWarning: A column-vector y was passed when a 1d array was expected. Please change the shape of y to (n_samples,), for example using ravel().\n",
      "  return fit_method(estimator, *args, **kwargs)\n"
     ]
    },
    {
     "name": "stdout",
     "output_type": "stream",
     "text": [
      "[CV 8/10] END max_depth=None, min_samples_leaf=10, min_samples_split=5, n_estimators=50;, score=0.118 total time=   1.5s\n"
     ]
    },
    {
     "name": "stderr",
     "output_type": "stream",
     "text": [
      "C:\\Users\\ben8h\\anaconda3\\Lib\\site-packages\\sklearn\\base.py:1474: DataConversionWarning: A column-vector y was passed when a 1d array was expected. Please change the shape of y to (n_samples,), for example using ravel().\n",
      "  return fit_method(estimator, *args, **kwargs)\n"
     ]
    },
    {
     "name": "stdout",
     "output_type": "stream",
     "text": [
      "[CV 9/10] END max_depth=None, min_samples_leaf=10, min_samples_split=5, n_estimators=50;, score=0.165 total time=   1.5s\n"
     ]
    },
    {
     "name": "stderr",
     "output_type": "stream",
     "text": [
      "C:\\Users\\ben8h\\anaconda3\\Lib\\site-packages\\sklearn\\base.py:1474: DataConversionWarning: A column-vector y was passed when a 1d array was expected. Please change the shape of y to (n_samples,), for example using ravel().\n",
      "  return fit_method(estimator, *args, **kwargs)\n"
     ]
    },
    {
     "name": "stdout",
     "output_type": "stream",
     "text": [
      "[CV 10/10] END max_depth=None, min_samples_leaf=10, min_samples_split=5, n_estimators=50;, score=0.191 total time=   1.5s\n"
     ]
    },
    {
     "name": "stderr",
     "output_type": "stream",
     "text": [
      "C:\\Users\\ben8h\\anaconda3\\Lib\\site-packages\\sklearn\\base.py:1474: DataConversionWarning: A column-vector y was passed when a 1d array was expected. Please change the shape of y to (n_samples,), for example using ravel().\n",
      "  return fit_method(estimator, *args, **kwargs)\n"
     ]
    },
    {
     "name": "stdout",
     "output_type": "stream",
     "text": [
      "[CV 1/10] END max_depth=None, min_samples_leaf=10, min_samples_split=5, n_estimators=100;, score=0.207 total time=   3.3s\n"
     ]
    },
    {
     "name": "stderr",
     "output_type": "stream",
     "text": [
      "C:\\Users\\ben8h\\anaconda3\\Lib\\site-packages\\sklearn\\base.py:1474: DataConversionWarning: A column-vector y was passed when a 1d array was expected. Please change the shape of y to (n_samples,), for example using ravel().\n",
      "  return fit_method(estimator, *args, **kwargs)\n"
     ]
    },
    {
     "name": "stdout",
     "output_type": "stream",
     "text": [
      "[CV 2/10] END max_depth=None, min_samples_leaf=10, min_samples_split=5, n_estimators=100;, score=0.212 total time=   3.1s\n"
     ]
    },
    {
     "name": "stderr",
     "output_type": "stream",
     "text": [
      "C:\\Users\\ben8h\\anaconda3\\Lib\\site-packages\\sklearn\\base.py:1474: DataConversionWarning: A column-vector y was passed when a 1d array was expected. Please change the shape of y to (n_samples,), for example using ravel().\n",
      "  return fit_method(estimator, *args, **kwargs)\n"
     ]
    },
    {
     "name": "stdout",
     "output_type": "stream",
     "text": [
      "[CV 3/10] END max_depth=None, min_samples_leaf=10, min_samples_split=5, n_estimators=100;, score=0.171 total time=   3.1s\n"
     ]
    },
    {
     "name": "stderr",
     "output_type": "stream",
     "text": [
      "C:\\Users\\ben8h\\anaconda3\\Lib\\site-packages\\sklearn\\base.py:1474: DataConversionWarning: A column-vector y was passed when a 1d array was expected. Please change the shape of y to (n_samples,), for example using ravel().\n",
      "  return fit_method(estimator, *args, **kwargs)\n"
     ]
    },
    {
     "name": "stdout",
     "output_type": "stream",
     "text": [
      "[CV 4/10] END max_depth=None, min_samples_leaf=10, min_samples_split=5, n_estimators=100;, score=0.234 total time=   3.2s\n"
     ]
    },
    {
     "name": "stderr",
     "output_type": "stream",
     "text": [
      "C:\\Users\\ben8h\\anaconda3\\Lib\\site-packages\\sklearn\\base.py:1474: DataConversionWarning: A column-vector y was passed when a 1d array was expected. Please change the shape of y to (n_samples,), for example using ravel().\n",
      "  return fit_method(estimator, *args, **kwargs)\n"
     ]
    },
    {
     "name": "stdout",
     "output_type": "stream",
     "text": [
      "[CV 5/10] END max_depth=None, min_samples_leaf=10, min_samples_split=5, n_estimators=100;, score=0.155 total time=   3.2s\n"
     ]
    },
    {
     "name": "stderr",
     "output_type": "stream",
     "text": [
      "C:\\Users\\ben8h\\anaconda3\\Lib\\site-packages\\sklearn\\base.py:1474: DataConversionWarning: A column-vector y was passed when a 1d array was expected. Please change the shape of y to (n_samples,), for example using ravel().\n",
      "  return fit_method(estimator, *args, **kwargs)\n"
     ]
    },
    {
     "name": "stdout",
     "output_type": "stream",
     "text": [
      "[CV 6/10] END max_depth=None, min_samples_leaf=10, min_samples_split=5, n_estimators=100;, score=0.137 total time=   3.1s\n"
     ]
    },
    {
     "name": "stderr",
     "output_type": "stream",
     "text": [
      "C:\\Users\\ben8h\\anaconda3\\Lib\\site-packages\\sklearn\\base.py:1474: DataConversionWarning: A column-vector y was passed when a 1d array was expected. Please change the shape of y to (n_samples,), for example using ravel().\n",
      "  return fit_method(estimator, *args, **kwargs)\n"
     ]
    },
    {
     "name": "stdout",
     "output_type": "stream",
     "text": [
      "[CV 7/10] END max_depth=None, min_samples_leaf=10, min_samples_split=5, n_estimators=100;, score=0.223 total time=   3.1s\n"
     ]
    },
    {
     "name": "stderr",
     "output_type": "stream",
     "text": [
      "C:\\Users\\ben8h\\anaconda3\\Lib\\site-packages\\sklearn\\base.py:1474: DataConversionWarning: A column-vector y was passed when a 1d array was expected. Please change the shape of y to (n_samples,), for example using ravel().\n",
      "  return fit_method(estimator, *args, **kwargs)\n"
     ]
    },
    {
     "name": "stdout",
     "output_type": "stream",
     "text": [
      "[CV 8/10] END max_depth=None, min_samples_leaf=10, min_samples_split=5, n_estimators=100;, score=0.128 total time=   3.1s\n"
     ]
    },
    {
     "name": "stderr",
     "output_type": "stream",
     "text": [
      "C:\\Users\\ben8h\\anaconda3\\Lib\\site-packages\\sklearn\\base.py:1474: DataConversionWarning: A column-vector y was passed when a 1d array was expected. Please change the shape of y to (n_samples,), for example using ravel().\n",
      "  return fit_method(estimator, *args, **kwargs)\n"
     ]
    },
    {
     "name": "stdout",
     "output_type": "stream",
     "text": [
      "[CV 9/10] END max_depth=None, min_samples_leaf=10, min_samples_split=5, n_estimators=100;, score=0.167 total time=   3.1s\n"
     ]
    },
    {
     "name": "stderr",
     "output_type": "stream",
     "text": [
      "C:\\Users\\ben8h\\anaconda3\\Lib\\site-packages\\sklearn\\base.py:1474: DataConversionWarning: A column-vector y was passed when a 1d array was expected. Please change the shape of y to (n_samples,), for example using ravel().\n",
      "  return fit_method(estimator, *args, **kwargs)\n"
     ]
    },
    {
     "name": "stdout",
     "output_type": "stream",
     "text": [
      "[CV 10/10] END max_depth=None, min_samples_leaf=10, min_samples_split=5, n_estimators=100;, score=0.188 total time=   3.1s\n"
     ]
    },
    {
     "name": "stderr",
     "output_type": "stream",
     "text": [
      "C:\\Users\\ben8h\\anaconda3\\Lib\\site-packages\\sklearn\\base.py:1474: DataConversionWarning: A column-vector y was passed when a 1d array was expected. Please change the shape of y to (n_samples,), for example using ravel().\n",
      "  return fit_method(estimator, *args, **kwargs)\n"
     ]
    },
    {
     "name": "stdout",
     "output_type": "stream",
     "text": [
      "[CV 1/10] END max_depth=None, min_samples_leaf=10, min_samples_split=5, n_estimators=200;, score=0.206 total time=   6.4s\n"
     ]
    },
    {
     "name": "stderr",
     "output_type": "stream",
     "text": [
      "C:\\Users\\ben8h\\anaconda3\\Lib\\site-packages\\sklearn\\base.py:1474: DataConversionWarning: A column-vector y was passed when a 1d array was expected. Please change the shape of y to (n_samples,), for example using ravel().\n",
      "  return fit_method(estimator, *args, **kwargs)\n"
     ]
    },
    {
     "name": "stdout",
     "output_type": "stream",
     "text": [
      "[CV 2/10] END max_depth=None, min_samples_leaf=10, min_samples_split=5, n_estimators=200;, score=0.209 total time=   6.4s\n"
     ]
    },
    {
     "name": "stderr",
     "output_type": "stream",
     "text": [
      "C:\\Users\\ben8h\\anaconda3\\Lib\\site-packages\\sklearn\\base.py:1474: DataConversionWarning: A column-vector y was passed when a 1d array was expected. Please change the shape of y to (n_samples,), for example using ravel().\n",
      "  return fit_method(estimator, *args, **kwargs)\n"
     ]
    },
    {
     "name": "stdout",
     "output_type": "stream",
     "text": [
      "[CV 3/10] END max_depth=None, min_samples_leaf=10, min_samples_split=5, n_estimators=200;, score=0.173 total time=   6.3s\n"
     ]
    },
    {
     "name": "stderr",
     "output_type": "stream",
     "text": [
      "C:\\Users\\ben8h\\anaconda3\\Lib\\site-packages\\sklearn\\base.py:1474: DataConversionWarning: A column-vector y was passed when a 1d array was expected. Please change the shape of y to (n_samples,), for example using ravel().\n",
      "  return fit_method(estimator, *args, **kwargs)\n"
     ]
    },
    {
     "name": "stdout",
     "output_type": "stream",
     "text": [
      "[CV 4/10] END max_depth=None, min_samples_leaf=10, min_samples_split=5, n_estimators=200;, score=0.229 total time=   6.5s\n"
     ]
    },
    {
     "name": "stderr",
     "output_type": "stream",
     "text": [
      "C:\\Users\\ben8h\\anaconda3\\Lib\\site-packages\\sklearn\\base.py:1474: DataConversionWarning: A column-vector y was passed when a 1d array was expected. Please change the shape of y to (n_samples,), for example using ravel().\n",
      "  return fit_method(estimator, *args, **kwargs)\n"
     ]
    },
    {
     "name": "stdout",
     "output_type": "stream",
     "text": [
      "[CV 5/10] END max_depth=None, min_samples_leaf=10, min_samples_split=5, n_estimators=200;, score=0.157 total time=   6.3s\n"
     ]
    },
    {
     "name": "stderr",
     "output_type": "stream",
     "text": [
      "C:\\Users\\ben8h\\anaconda3\\Lib\\site-packages\\sklearn\\base.py:1474: DataConversionWarning: A column-vector y was passed when a 1d array was expected. Please change the shape of y to (n_samples,), for example using ravel().\n",
      "  return fit_method(estimator, *args, **kwargs)\n"
     ]
    },
    {
     "name": "stdout",
     "output_type": "stream",
     "text": [
      "[CV 6/10] END max_depth=None, min_samples_leaf=10, min_samples_split=5, n_estimators=200;, score=0.133 total time=   6.3s\n"
     ]
    },
    {
     "name": "stderr",
     "output_type": "stream",
     "text": [
      "C:\\Users\\ben8h\\anaconda3\\Lib\\site-packages\\sklearn\\base.py:1474: DataConversionWarning: A column-vector y was passed when a 1d array was expected. Please change the shape of y to (n_samples,), for example using ravel().\n",
      "  return fit_method(estimator, *args, **kwargs)\n"
     ]
    },
    {
     "name": "stdout",
     "output_type": "stream",
     "text": [
      "[CV 7/10] END max_depth=None, min_samples_leaf=10, min_samples_split=5, n_estimators=200;, score=0.218 total time=   6.4s\n"
     ]
    },
    {
     "name": "stderr",
     "output_type": "stream",
     "text": [
      "C:\\Users\\ben8h\\anaconda3\\Lib\\site-packages\\sklearn\\base.py:1474: DataConversionWarning: A column-vector y was passed when a 1d array was expected. Please change the shape of y to (n_samples,), for example using ravel().\n",
      "  return fit_method(estimator, *args, **kwargs)\n"
     ]
    },
    {
     "name": "stdout",
     "output_type": "stream",
     "text": [
      "[CV 8/10] END max_depth=None, min_samples_leaf=10, min_samples_split=5, n_estimators=200;, score=0.119 total time=   6.2s\n"
     ]
    },
    {
     "name": "stderr",
     "output_type": "stream",
     "text": [
      "C:\\Users\\ben8h\\anaconda3\\Lib\\site-packages\\sklearn\\base.py:1474: DataConversionWarning: A column-vector y was passed when a 1d array was expected. Please change the shape of y to (n_samples,), for example using ravel().\n",
      "  return fit_method(estimator, *args, **kwargs)\n"
     ]
    },
    {
     "name": "stdout",
     "output_type": "stream",
     "text": [
      "[CV 9/10] END max_depth=None, min_samples_leaf=10, min_samples_split=5, n_estimators=200;, score=0.169 total time=   6.3s\n"
     ]
    },
    {
     "name": "stderr",
     "output_type": "stream",
     "text": [
      "C:\\Users\\ben8h\\anaconda3\\Lib\\site-packages\\sklearn\\base.py:1474: DataConversionWarning: A column-vector y was passed when a 1d array was expected. Please change the shape of y to (n_samples,), for example using ravel().\n",
      "  return fit_method(estimator, *args, **kwargs)\n"
     ]
    },
    {
     "name": "stdout",
     "output_type": "stream",
     "text": [
      "[CV 10/10] END max_depth=None, min_samples_leaf=10, min_samples_split=5, n_estimators=200;, score=0.199 total time=   6.3s\n"
     ]
    },
    {
     "name": "stderr",
     "output_type": "stream",
     "text": [
      "C:\\Users\\ben8h\\anaconda3\\Lib\\site-packages\\sklearn\\base.py:1474: DataConversionWarning: A column-vector y was passed when a 1d array was expected. Please change the shape of y to (n_samples,), for example using ravel().\n",
      "  return fit_method(estimator, *args, **kwargs)\n"
     ]
    },
    {
     "name": "stdout",
     "output_type": "stream",
     "text": [
      "[CV 1/10] END max_depth=None, min_samples_leaf=10, min_samples_split=10, n_estimators=50;, score=0.199 total time=   1.5s\n"
     ]
    },
    {
     "name": "stderr",
     "output_type": "stream",
     "text": [
      "C:\\Users\\ben8h\\anaconda3\\Lib\\site-packages\\sklearn\\base.py:1474: DataConversionWarning: A column-vector y was passed when a 1d array was expected. Please change the shape of y to (n_samples,), for example using ravel().\n",
      "  return fit_method(estimator, *args, **kwargs)\n"
     ]
    },
    {
     "name": "stdout",
     "output_type": "stream",
     "text": [
      "[CV 2/10] END max_depth=None, min_samples_leaf=10, min_samples_split=10, n_estimators=50;, score=0.210 total time=   1.5s\n"
     ]
    },
    {
     "name": "stderr",
     "output_type": "stream",
     "text": [
      "C:\\Users\\ben8h\\anaconda3\\Lib\\site-packages\\sklearn\\base.py:1474: DataConversionWarning: A column-vector y was passed when a 1d array was expected. Please change the shape of y to (n_samples,), for example using ravel().\n",
      "  return fit_method(estimator, *args, **kwargs)\n"
     ]
    },
    {
     "name": "stdout",
     "output_type": "stream",
     "text": [
      "[CV 3/10] END max_depth=None, min_samples_leaf=10, min_samples_split=10, n_estimators=50;, score=0.180 total time=   1.5s\n"
     ]
    },
    {
     "name": "stderr",
     "output_type": "stream",
     "text": [
      "C:\\Users\\ben8h\\anaconda3\\Lib\\site-packages\\sklearn\\base.py:1474: DataConversionWarning: A column-vector y was passed when a 1d array was expected. Please change the shape of y to (n_samples,), for example using ravel().\n",
      "  return fit_method(estimator, *args, **kwargs)\n"
     ]
    },
    {
     "name": "stdout",
     "output_type": "stream",
     "text": [
      "[CV 4/10] END max_depth=None, min_samples_leaf=10, min_samples_split=10, n_estimators=50;, score=0.219 total time=   1.6s\n"
     ]
    },
    {
     "name": "stderr",
     "output_type": "stream",
     "text": [
      "C:\\Users\\ben8h\\anaconda3\\Lib\\site-packages\\sklearn\\base.py:1474: DataConversionWarning: A column-vector y was passed when a 1d array was expected. Please change the shape of y to (n_samples,), for example using ravel().\n",
      "  return fit_method(estimator, *args, **kwargs)\n"
     ]
    },
    {
     "name": "stdout",
     "output_type": "stream",
     "text": [
      "[CV 5/10] END max_depth=None, min_samples_leaf=10, min_samples_split=10, n_estimators=50;, score=0.151 total time=   1.5s\n"
     ]
    },
    {
     "name": "stderr",
     "output_type": "stream",
     "text": [
      "C:\\Users\\ben8h\\anaconda3\\Lib\\site-packages\\sklearn\\base.py:1474: DataConversionWarning: A column-vector y was passed when a 1d array was expected. Please change the shape of y to (n_samples,), for example using ravel().\n",
      "  return fit_method(estimator, *args, **kwargs)\n"
     ]
    },
    {
     "name": "stdout",
     "output_type": "stream",
     "text": [
      "[CV 6/10] END max_depth=None, min_samples_leaf=10, min_samples_split=10, n_estimators=50;, score=0.136 total time=   1.5s\n"
     ]
    },
    {
     "name": "stderr",
     "output_type": "stream",
     "text": [
      "C:\\Users\\ben8h\\anaconda3\\Lib\\site-packages\\sklearn\\base.py:1474: DataConversionWarning: A column-vector y was passed when a 1d array was expected. Please change the shape of y to (n_samples,), for example using ravel().\n",
      "  return fit_method(estimator, *args, **kwargs)\n"
     ]
    },
    {
     "name": "stdout",
     "output_type": "stream",
     "text": [
      "[CV 7/10] END max_depth=None, min_samples_leaf=10, min_samples_split=10, n_estimators=50;, score=0.229 total time=   1.5s\n"
     ]
    },
    {
     "name": "stderr",
     "output_type": "stream",
     "text": [
      "C:\\Users\\ben8h\\anaconda3\\Lib\\site-packages\\sklearn\\base.py:1474: DataConversionWarning: A column-vector y was passed when a 1d array was expected. Please change the shape of y to (n_samples,), for example using ravel().\n",
      "  return fit_method(estimator, *args, **kwargs)\n"
     ]
    },
    {
     "name": "stdout",
     "output_type": "stream",
     "text": [
      "[CV 8/10] END max_depth=None, min_samples_leaf=10, min_samples_split=10, n_estimators=50;, score=0.119 total time=   1.5s\n"
     ]
    },
    {
     "name": "stderr",
     "output_type": "stream",
     "text": [
      "C:\\Users\\ben8h\\anaconda3\\Lib\\site-packages\\sklearn\\base.py:1474: DataConversionWarning: A column-vector y was passed when a 1d array was expected. Please change the shape of y to (n_samples,), for example using ravel().\n",
      "  return fit_method(estimator, *args, **kwargs)\n"
     ]
    },
    {
     "name": "stdout",
     "output_type": "stream",
     "text": [
      "[CV 9/10] END max_depth=None, min_samples_leaf=10, min_samples_split=10, n_estimators=50;, score=0.166 total time=   1.5s\n"
     ]
    },
    {
     "name": "stderr",
     "output_type": "stream",
     "text": [
      "C:\\Users\\ben8h\\anaconda3\\Lib\\site-packages\\sklearn\\base.py:1474: DataConversionWarning: A column-vector y was passed when a 1d array was expected. Please change the shape of y to (n_samples,), for example using ravel().\n",
      "  return fit_method(estimator, *args, **kwargs)\n"
     ]
    },
    {
     "name": "stdout",
     "output_type": "stream",
     "text": [
      "[CV 10/10] END max_depth=None, min_samples_leaf=10, min_samples_split=10, n_estimators=50;, score=0.190 total time=   1.5s\n"
     ]
    },
    {
     "name": "stderr",
     "output_type": "stream",
     "text": [
      "C:\\Users\\ben8h\\anaconda3\\Lib\\site-packages\\sklearn\\base.py:1474: DataConversionWarning: A column-vector y was passed when a 1d array was expected. Please change the shape of y to (n_samples,), for example using ravel().\n",
      "  return fit_method(estimator, *args, **kwargs)\n"
     ]
    },
    {
     "name": "stdout",
     "output_type": "stream",
     "text": [
      "[CV 1/10] END max_depth=None, min_samples_leaf=10, min_samples_split=10, n_estimators=100;, score=0.206 total time=   3.2s\n"
     ]
    },
    {
     "name": "stderr",
     "output_type": "stream",
     "text": [
      "C:\\Users\\ben8h\\anaconda3\\Lib\\site-packages\\sklearn\\base.py:1474: DataConversionWarning: A column-vector y was passed when a 1d array was expected. Please change the shape of y to (n_samples,), for example using ravel().\n",
      "  return fit_method(estimator, *args, **kwargs)\n"
     ]
    },
    {
     "name": "stdout",
     "output_type": "stream",
     "text": [
      "[CV 2/10] END max_depth=None, min_samples_leaf=10, min_samples_split=10, n_estimators=100;, score=0.215 total time=   3.1s\n"
     ]
    },
    {
     "name": "stderr",
     "output_type": "stream",
     "text": [
      "C:\\Users\\ben8h\\anaconda3\\Lib\\site-packages\\sklearn\\base.py:1474: DataConversionWarning: A column-vector y was passed when a 1d array was expected. Please change the shape of y to (n_samples,), for example using ravel().\n",
      "  return fit_method(estimator, *args, **kwargs)\n"
     ]
    },
    {
     "name": "stdout",
     "output_type": "stream",
     "text": [
      "[CV 3/10] END max_depth=None, min_samples_leaf=10, min_samples_split=10, n_estimators=100;, score=0.170 total time=   3.1s\n"
     ]
    },
    {
     "name": "stderr",
     "output_type": "stream",
     "text": [
      "C:\\Users\\ben8h\\anaconda3\\Lib\\site-packages\\sklearn\\base.py:1474: DataConversionWarning: A column-vector y was passed when a 1d array was expected. Please change the shape of y to (n_samples,), for example using ravel().\n",
      "  return fit_method(estimator, *args, **kwargs)\n"
     ]
    },
    {
     "name": "stdout",
     "output_type": "stream",
     "text": [
      "[CV 4/10] END max_depth=None, min_samples_leaf=10, min_samples_split=10, n_estimators=100;, score=0.225 total time=   3.2s\n"
     ]
    },
    {
     "name": "stderr",
     "output_type": "stream",
     "text": [
      "C:\\Users\\ben8h\\anaconda3\\Lib\\site-packages\\sklearn\\base.py:1474: DataConversionWarning: A column-vector y was passed when a 1d array was expected. Please change the shape of y to (n_samples,), for example using ravel().\n",
      "  return fit_method(estimator, *args, **kwargs)\n"
     ]
    },
    {
     "name": "stdout",
     "output_type": "stream",
     "text": [
      "[CV 5/10] END max_depth=None, min_samples_leaf=10, min_samples_split=10, n_estimators=100;, score=0.163 total time=   3.1s\n"
     ]
    },
    {
     "name": "stderr",
     "output_type": "stream",
     "text": [
      "C:\\Users\\ben8h\\anaconda3\\Lib\\site-packages\\sklearn\\base.py:1474: DataConversionWarning: A column-vector y was passed when a 1d array was expected. Please change the shape of y to (n_samples,), for example using ravel().\n",
      "  return fit_method(estimator, *args, **kwargs)\n"
     ]
    },
    {
     "name": "stdout",
     "output_type": "stream",
     "text": [
      "[CV 6/10] END max_depth=None, min_samples_leaf=10, min_samples_split=10, n_estimators=100;, score=0.141 total time=   3.1s\n"
     ]
    },
    {
     "name": "stderr",
     "output_type": "stream",
     "text": [
      "C:\\Users\\ben8h\\anaconda3\\Lib\\site-packages\\sklearn\\base.py:1474: DataConversionWarning: A column-vector y was passed when a 1d array was expected. Please change the shape of y to (n_samples,), for example using ravel().\n",
      "  return fit_method(estimator, *args, **kwargs)\n"
     ]
    },
    {
     "name": "stdout",
     "output_type": "stream",
     "text": [
      "[CV 7/10] END max_depth=None, min_samples_leaf=10, min_samples_split=10, n_estimators=100;, score=0.206 total time=   3.1s\n"
     ]
    },
    {
     "name": "stderr",
     "output_type": "stream",
     "text": [
      "C:\\Users\\ben8h\\anaconda3\\Lib\\site-packages\\sklearn\\base.py:1474: DataConversionWarning: A column-vector y was passed when a 1d array was expected. Please change the shape of y to (n_samples,), for example using ravel().\n",
      "  return fit_method(estimator, *args, **kwargs)\n"
     ]
    },
    {
     "name": "stdout",
     "output_type": "stream",
     "text": [
      "[CV 8/10] END max_depth=None, min_samples_leaf=10, min_samples_split=10, n_estimators=100;, score=0.123 total time=   3.1s\n"
     ]
    },
    {
     "name": "stderr",
     "output_type": "stream",
     "text": [
      "C:\\Users\\ben8h\\anaconda3\\Lib\\site-packages\\sklearn\\base.py:1474: DataConversionWarning: A column-vector y was passed when a 1d array was expected. Please change the shape of y to (n_samples,), for example using ravel().\n",
      "  return fit_method(estimator, *args, **kwargs)\n"
     ]
    },
    {
     "name": "stdout",
     "output_type": "stream",
     "text": [
      "[CV 9/10] END max_depth=None, min_samples_leaf=10, min_samples_split=10, n_estimators=100;, score=0.160 total time=   3.1s\n"
     ]
    },
    {
     "name": "stderr",
     "output_type": "stream",
     "text": [
      "C:\\Users\\ben8h\\anaconda3\\Lib\\site-packages\\sklearn\\base.py:1474: DataConversionWarning: A column-vector y was passed when a 1d array was expected. Please change the shape of y to (n_samples,), for example using ravel().\n",
      "  return fit_method(estimator, *args, **kwargs)\n"
     ]
    },
    {
     "name": "stdout",
     "output_type": "stream",
     "text": [
      "[CV 10/10] END max_depth=None, min_samples_leaf=10, min_samples_split=10, n_estimators=100;, score=0.204 total time=   3.1s\n"
     ]
    },
    {
     "name": "stderr",
     "output_type": "stream",
     "text": [
      "C:\\Users\\ben8h\\anaconda3\\Lib\\site-packages\\sklearn\\base.py:1474: DataConversionWarning: A column-vector y was passed when a 1d array was expected. Please change the shape of y to (n_samples,), for example using ravel().\n",
      "  return fit_method(estimator, *args, **kwargs)\n"
     ]
    },
    {
     "name": "stdout",
     "output_type": "stream",
     "text": [
      "[CV 1/10] END max_depth=None, min_samples_leaf=10, min_samples_split=10, n_estimators=200;, score=0.203 total time=   6.4s\n"
     ]
    },
    {
     "name": "stderr",
     "output_type": "stream",
     "text": [
      "C:\\Users\\ben8h\\anaconda3\\Lib\\site-packages\\sklearn\\base.py:1474: DataConversionWarning: A column-vector y was passed when a 1d array was expected. Please change the shape of y to (n_samples,), for example using ravel().\n",
      "  return fit_method(estimator, *args, **kwargs)\n"
     ]
    },
    {
     "name": "stdout",
     "output_type": "stream",
     "text": [
      "[CV 2/10] END max_depth=None, min_samples_leaf=10, min_samples_split=10, n_estimators=200;, score=0.210 total time=   6.2s\n"
     ]
    },
    {
     "name": "stderr",
     "output_type": "stream",
     "text": [
      "C:\\Users\\ben8h\\anaconda3\\Lib\\site-packages\\sklearn\\base.py:1474: DataConversionWarning: A column-vector y was passed when a 1d array was expected. Please change the shape of y to (n_samples,), for example using ravel().\n",
      "  return fit_method(estimator, *args, **kwargs)\n"
     ]
    },
    {
     "name": "stdout",
     "output_type": "stream",
     "text": [
      "[CV 3/10] END max_depth=None, min_samples_leaf=10, min_samples_split=10, n_estimators=200;, score=0.175 total time=   6.3s\n"
     ]
    },
    {
     "name": "stderr",
     "output_type": "stream",
     "text": [
      "C:\\Users\\ben8h\\anaconda3\\Lib\\site-packages\\sklearn\\base.py:1474: DataConversionWarning: A column-vector y was passed when a 1d array was expected. Please change the shape of y to (n_samples,), for example using ravel().\n",
      "  return fit_method(estimator, *args, **kwargs)\n"
     ]
    },
    {
     "name": "stdout",
     "output_type": "stream",
     "text": [
      "[CV 4/10] END max_depth=None, min_samples_leaf=10, min_samples_split=10, n_estimators=200;, score=0.227 total time=   6.4s\n"
     ]
    },
    {
     "name": "stderr",
     "output_type": "stream",
     "text": [
      "C:\\Users\\ben8h\\anaconda3\\Lib\\site-packages\\sklearn\\base.py:1474: DataConversionWarning: A column-vector y was passed when a 1d array was expected. Please change the shape of y to (n_samples,), for example using ravel().\n",
      "  return fit_method(estimator, *args, **kwargs)\n"
     ]
    },
    {
     "name": "stdout",
     "output_type": "stream",
     "text": [
      "[CV 5/10] END max_depth=None, min_samples_leaf=10, min_samples_split=10, n_estimators=200;, score=0.161 total time=   6.3s\n"
     ]
    },
    {
     "name": "stderr",
     "output_type": "stream",
     "text": [
      "C:\\Users\\ben8h\\anaconda3\\Lib\\site-packages\\sklearn\\base.py:1474: DataConversionWarning: A column-vector y was passed when a 1d array was expected. Please change the shape of y to (n_samples,), for example using ravel().\n",
      "  return fit_method(estimator, *args, **kwargs)\n"
     ]
    },
    {
     "name": "stdout",
     "output_type": "stream",
     "text": [
      "[CV 6/10] END max_depth=None, min_samples_leaf=10, min_samples_split=10, n_estimators=200;, score=0.140 total time=   6.3s\n"
     ]
    },
    {
     "name": "stderr",
     "output_type": "stream",
     "text": [
      "C:\\Users\\ben8h\\anaconda3\\Lib\\site-packages\\sklearn\\base.py:1474: DataConversionWarning: A column-vector y was passed when a 1d array was expected. Please change the shape of y to (n_samples,), for example using ravel().\n",
      "  return fit_method(estimator, *args, **kwargs)\n"
     ]
    },
    {
     "name": "stdout",
     "output_type": "stream",
     "text": [
      "[CV 7/10] END max_depth=None, min_samples_leaf=10, min_samples_split=10, n_estimators=200;, score=0.210 total time=   6.4s\n"
     ]
    },
    {
     "name": "stderr",
     "output_type": "stream",
     "text": [
      "C:\\Users\\ben8h\\anaconda3\\Lib\\site-packages\\sklearn\\base.py:1474: DataConversionWarning: A column-vector y was passed when a 1d array was expected. Please change the shape of y to (n_samples,), for example using ravel().\n",
      "  return fit_method(estimator, *args, **kwargs)\n"
     ]
    },
    {
     "name": "stdout",
     "output_type": "stream",
     "text": [
      "[CV 8/10] END max_depth=None, min_samples_leaf=10, min_samples_split=10, n_estimators=200;, score=0.117 total time=   6.4s\n"
     ]
    },
    {
     "name": "stderr",
     "output_type": "stream",
     "text": [
      "C:\\Users\\ben8h\\anaconda3\\Lib\\site-packages\\sklearn\\base.py:1474: DataConversionWarning: A column-vector y was passed when a 1d array was expected. Please change the shape of y to (n_samples,), for example using ravel().\n",
      "  return fit_method(estimator, *args, **kwargs)\n"
     ]
    },
    {
     "name": "stdout",
     "output_type": "stream",
     "text": [
      "[CV 9/10] END max_depth=None, min_samples_leaf=10, min_samples_split=10, n_estimators=200;, score=0.169 total time=   6.3s\n"
     ]
    },
    {
     "name": "stderr",
     "output_type": "stream",
     "text": [
      "C:\\Users\\ben8h\\anaconda3\\Lib\\site-packages\\sklearn\\base.py:1474: DataConversionWarning: A column-vector y was passed when a 1d array was expected. Please change the shape of y to (n_samples,), for example using ravel().\n",
      "  return fit_method(estimator, *args, **kwargs)\n"
     ]
    },
    {
     "name": "stdout",
     "output_type": "stream",
     "text": [
      "[CV 10/10] END max_depth=None, min_samples_leaf=10, min_samples_split=10, n_estimators=200;, score=0.200 total time=   6.3s\n"
     ]
    },
    {
     "name": "stderr",
     "output_type": "stream",
     "text": [
      "C:\\Users\\ben8h\\anaconda3\\Lib\\site-packages\\sklearn\\base.py:1474: DataConversionWarning: A column-vector y was passed when a 1d array was expected. Please change the shape of y to (n_samples,), for example using ravel().\n",
      "  return fit_method(estimator, *args, **kwargs)\n"
     ]
    },
    {
     "name": "stdout",
     "output_type": "stream",
     "text": [
      "[CV 1/10] END max_depth=5, min_samples_leaf=1, min_samples_split=2, n_estimators=50;, score=0.142 total time=   0.6s\n"
     ]
    },
    {
     "name": "stderr",
     "output_type": "stream",
     "text": [
      "C:\\Users\\ben8h\\anaconda3\\Lib\\site-packages\\sklearn\\base.py:1474: DataConversionWarning: A column-vector y was passed when a 1d array was expected. Please change the shape of y to (n_samples,), for example using ravel().\n",
      "  return fit_method(estimator, *args, **kwargs)\n"
     ]
    },
    {
     "name": "stdout",
     "output_type": "stream",
     "text": [
      "[CV 2/10] END max_depth=5, min_samples_leaf=1, min_samples_split=2, n_estimators=50;, score=0.148 total time=   0.6s\n"
     ]
    },
    {
     "name": "stderr",
     "output_type": "stream",
     "text": [
      "C:\\Users\\ben8h\\anaconda3\\Lib\\site-packages\\sklearn\\base.py:1474: DataConversionWarning: A column-vector y was passed when a 1d array was expected. Please change the shape of y to (n_samples,), for example using ravel().\n",
      "  return fit_method(estimator, *args, **kwargs)\n"
     ]
    },
    {
     "name": "stdout",
     "output_type": "stream",
     "text": [
      "[CV 3/10] END max_depth=5, min_samples_leaf=1, min_samples_split=2, n_estimators=50;, score=0.132 total time=   0.6s\n"
     ]
    },
    {
     "name": "stderr",
     "output_type": "stream",
     "text": [
      "C:\\Users\\ben8h\\anaconda3\\Lib\\site-packages\\sklearn\\base.py:1474: DataConversionWarning: A column-vector y was passed when a 1d array was expected. Please change the shape of y to (n_samples,), for example using ravel().\n",
      "  return fit_method(estimator, *args, **kwargs)\n"
     ]
    },
    {
     "name": "stdout",
     "output_type": "stream",
     "text": [
      "[CV 4/10] END max_depth=5, min_samples_leaf=1, min_samples_split=2, n_estimators=50;, score=0.163 total time=   0.6s\n"
     ]
    },
    {
     "name": "stderr",
     "output_type": "stream",
     "text": [
      "C:\\Users\\ben8h\\anaconda3\\Lib\\site-packages\\sklearn\\base.py:1474: DataConversionWarning: A column-vector y was passed when a 1d array was expected. Please change the shape of y to (n_samples,), for example using ravel().\n",
      "  return fit_method(estimator, *args, **kwargs)\n"
     ]
    },
    {
     "name": "stdout",
     "output_type": "stream",
     "text": [
      "[CV 5/10] END max_depth=5, min_samples_leaf=1, min_samples_split=2, n_estimators=50;, score=0.130 total time=   0.6s\n"
     ]
    },
    {
     "name": "stderr",
     "output_type": "stream",
     "text": [
      "C:\\Users\\ben8h\\anaconda3\\Lib\\site-packages\\sklearn\\base.py:1474: DataConversionWarning: A column-vector y was passed when a 1d array was expected. Please change the shape of y to (n_samples,), for example using ravel().\n",
      "  return fit_method(estimator, *args, **kwargs)\n"
     ]
    },
    {
     "name": "stdout",
     "output_type": "stream",
     "text": [
      "[CV 6/10] END max_depth=5, min_samples_leaf=1, min_samples_split=2, n_estimators=50;, score=0.103 total time=   0.6s\n"
     ]
    },
    {
     "name": "stderr",
     "output_type": "stream",
     "text": [
      "C:\\Users\\ben8h\\anaconda3\\Lib\\site-packages\\sklearn\\base.py:1474: DataConversionWarning: A column-vector y was passed when a 1d array was expected. Please change the shape of y to (n_samples,), for example using ravel().\n",
      "  return fit_method(estimator, *args, **kwargs)\n"
     ]
    },
    {
     "name": "stdout",
     "output_type": "stream",
     "text": [
      "[CV 7/10] END max_depth=5, min_samples_leaf=1, min_samples_split=2, n_estimators=50;, score=0.187 total time=   0.6s\n"
     ]
    },
    {
     "name": "stderr",
     "output_type": "stream",
     "text": [
      "C:\\Users\\ben8h\\anaconda3\\Lib\\site-packages\\sklearn\\base.py:1474: DataConversionWarning: A column-vector y was passed when a 1d array was expected. Please change the shape of y to (n_samples,), for example using ravel().\n",
      "  return fit_method(estimator, *args, **kwargs)\n"
     ]
    },
    {
     "name": "stdout",
     "output_type": "stream",
     "text": [
      "[CV 8/10] END max_depth=5, min_samples_leaf=1, min_samples_split=2, n_estimators=50;, score=0.103 total time=   0.6s\n"
     ]
    },
    {
     "name": "stderr",
     "output_type": "stream",
     "text": [
      "C:\\Users\\ben8h\\anaconda3\\Lib\\site-packages\\sklearn\\base.py:1474: DataConversionWarning: A column-vector y was passed when a 1d array was expected. Please change the shape of y to (n_samples,), for example using ravel().\n",
      "  return fit_method(estimator, *args, **kwargs)\n"
     ]
    },
    {
     "name": "stdout",
     "output_type": "stream",
     "text": [
      "[CV 9/10] END max_depth=5, min_samples_leaf=1, min_samples_split=2, n_estimators=50;, score=0.151 total time=   0.6s\n"
     ]
    },
    {
     "name": "stderr",
     "output_type": "stream",
     "text": [
      "C:\\Users\\ben8h\\anaconda3\\Lib\\site-packages\\sklearn\\base.py:1474: DataConversionWarning: A column-vector y was passed when a 1d array was expected. Please change the shape of y to (n_samples,), for example using ravel().\n",
      "  return fit_method(estimator, *args, **kwargs)\n"
     ]
    },
    {
     "name": "stdout",
     "output_type": "stream",
     "text": [
      "[CV 10/10] END max_depth=5, min_samples_leaf=1, min_samples_split=2, n_estimators=50;, score=0.154 total time=   0.6s\n"
     ]
    },
    {
     "name": "stderr",
     "output_type": "stream",
     "text": [
      "C:\\Users\\ben8h\\anaconda3\\Lib\\site-packages\\sklearn\\base.py:1474: DataConversionWarning: A column-vector y was passed when a 1d array was expected. Please change the shape of y to (n_samples,), for example using ravel().\n",
      "  return fit_method(estimator, *args, **kwargs)\n"
     ]
    },
    {
     "name": "stdout",
     "output_type": "stream",
     "text": [
      "[CV 1/10] END max_depth=5, min_samples_leaf=1, min_samples_split=2, n_estimators=100;, score=0.145 total time=   1.4s\n"
     ]
    },
    {
     "name": "stderr",
     "output_type": "stream",
     "text": [
      "C:\\Users\\ben8h\\anaconda3\\Lib\\site-packages\\sklearn\\base.py:1474: DataConversionWarning: A column-vector y was passed when a 1d array was expected. Please change the shape of y to (n_samples,), for example using ravel().\n",
      "  return fit_method(estimator, *args, **kwargs)\n"
     ]
    },
    {
     "name": "stdout",
     "output_type": "stream",
     "text": [
      "[CV 2/10] END max_depth=5, min_samples_leaf=1, min_samples_split=2, n_estimators=100;, score=0.144 total time=   1.4s\n"
     ]
    },
    {
     "name": "stderr",
     "output_type": "stream",
     "text": [
      "C:\\Users\\ben8h\\anaconda3\\Lib\\site-packages\\sklearn\\base.py:1474: DataConversionWarning: A column-vector y was passed when a 1d array was expected. Please change the shape of y to (n_samples,), for example using ravel().\n",
      "  return fit_method(estimator, *args, **kwargs)\n"
     ]
    },
    {
     "name": "stdout",
     "output_type": "stream",
     "text": [
      "[CV 3/10] END max_depth=5, min_samples_leaf=1, min_samples_split=2, n_estimators=100;, score=0.136 total time=   1.4s\n"
     ]
    },
    {
     "name": "stderr",
     "output_type": "stream",
     "text": [
      "C:\\Users\\ben8h\\anaconda3\\Lib\\site-packages\\sklearn\\base.py:1474: DataConversionWarning: A column-vector y was passed when a 1d array was expected. Please change the shape of y to (n_samples,), for example using ravel().\n",
      "  return fit_method(estimator, *args, **kwargs)\n"
     ]
    },
    {
     "name": "stdout",
     "output_type": "stream",
     "text": [
      "[CV 4/10] END max_depth=5, min_samples_leaf=1, min_samples_split=2, n_estimators=100;, score=0.166 total time=   1.4s\n"
     ]
    },
    {
     "name": "stderr",
     "output_type": "stream",
     "text": [
      "C:\\Users\\ben8h\\anaconda3\\Lib\\site-packages\\sklearn\\base.py:1474: DataConversionWarning: A column-vector y was passed when a 1d array was expected. Please change the shape of y to (n_samples,), for example using ravel().\n",
      "  return fit_method(estimator, *args, **kwargs)\n"
     ]
    },
    {
     "name": "stdout",
     "output_type": "stream",
     "text": [
      "[CV 5/10] END max_depth=5, min_samples_leaf=1, min_samples_split=2, n_estimators=100;, score=0.130 total time=   1.4s\n"
     ]
    },
    {
     "name": "stderr",
     "output_type": "stream",
     "text": [
      "C:\\Users\\ben8h\\anaconda3\\Lib\\site-packages\\sklearn\\base.py:1474: DataConversionWarning: A column-vector y was passed when a 1d array was expected. Please change the shape of y to (n_samples,), for example using ravel().\n",
      "  return fit_method(estimator, *args, **kwargs)\n"
     ]
    },
    {
     "name": "stdout",
     "output_type": "stream",
     "text": [
      "[CV 6/10] END max_depth=5, min_samples_leaf=1, min_samples_split=2, n_estimators=100;, score=0.103 total time=   1.4s\n"
     ]
    },
    {
     "name": "stderr",
     "output_type": "stream",
     "text": [
      "C:\\Users\\ben8h\\anaconda3\\Lib\\site-packages\\sklearn\\base.py:1474: DataConversionWarning: A column-vector y was passed when a 1d array was expected. Please change the shape of y to (n_samples,), for example using ravel().\n",
      "  return fit_method(estimator, *args, **kwargs)\n"
     ]
    },
    {
     "name": "stdout",
     "output_type": "stream",
     "text": [
      "[CV 7/10] END max_depth=5, min_samples_leaf=1, min_samples_split=2, n_estimators=100;, score=0.182 total time=   1.4s\n"
     ]
    },
    {
     "name": "stderr",
     "output_type": "stream",
     "text": [
      "C:\\Users\\ben8h\\anaconda3\\Lib\\site-packages\\sklearn\\base.py:1474: DataConversionWarning: A column-vector y was passed when a 1d array was expected. Please change the shape of y to (n_samples,), for example using ravel().\n",
      "  return fit_method(estimator, *args, **kwargs)\n"
     ]
    },
    {
     "name": "stdout",
     "output_type": "stream",
     "text": [
      "[CV 8/10] END max_depth=5, min_samples_leaf=1, min_samples_split=2, n_estimators=100;, score=0.102 total time=   1.4s\n"
     ]
    },
    {
     "name": "stderr",
     "output_type": "stream",
     "text": [
      "C:\\Users\\ben8h\\anaconda3\\Lib\\site-packages\\sklearn\\base.py:1474: DataConversionWarning: A column-vector y was passed when a 1d array was expected. Please change the shape of y to (n_samples,), for example using ravel().\n",
      "  return fit_method(estimator, *args, **kwargs)\n"
     ]
    },
    {
     "name": "stdout",
     "output_type": "stream",
     "text": [
      "[CV 9/10] END max_depth=5, min_samples_leaf=1, min_samples_split=2, n_estimators=100;, score=0.143 total time=   1.4s\n"
     ]
    },
    {
     "name": "stderr",
     "output_type": "stream",
     "text": [
      "C:\\Users\\ben8h\\anaconda3\\Lib\\site-packages\\sklearn\\base.py:1474: DataConversionWarning: A column-vector y was passed when a 1d array was expected. Please change the shape of y to (n_samples,), for example using ravel().\n",
      "  return fit_method(estimator, *args, **kwargs)\n"
     ]
    },
    {
     "name": "stdout",
     "output_type": "stream",
     "text": [
      "[CV 10/10] END max_depth=5, min_samples_leaf=1, min_samples_split=2, n_estimators=100;, score=0.155 total time=   1.4s\n"
     ]
    },
    {
     "name": "stderr",
     "output_type": "stream",
     "text": [
      "C:\\Users\\ben8h\\anaconda3\\Lib\\site-packages\\sklearn\\base.py:1474: DataConversionWarning: A column-vector y was passed when a 1d array was expected. Please change the shape of y to (n_samples,), for example using ravel().\n",
      "  return fit_method(estimator, *args, **kwargs)\n"
     ]
    },
    {
     "name": "stdout",
     "output_type": "stream",
     "text": [
      "[CV 1/10] END max_depth=5, min_samples_leaf=1, min_samples_split=2, n_estimators=200;, score=0.144 total time=   2.9s\n"
     ]
    },
    {
     "name": "stderr",
     "output_type": "stream",
     "text": [
      "C:\\Users\\ben8h\\anaconda3\\Lib\\site-packages\\sklearn\\base.py:1474: DataConversionWarning: A column-vector y was passed when a 1d array was expected. Please change the shape of y to (n_samples,), for example using ravel().\n",
      "  return fit_method(estimator, *args, **kwargs)\n"
     ]
    },
    {
     "name": "stdout",
     "output_type": "stream",
     "text": [
      "[CV 2/10] END max_depth=5, min_samples_leaf=1, min_samples_split=2, n_estimators=200;, score=0.145 total time=   2.9s\n"
     ]
    },
    {
     "name": "stderr",
     "output_type": "stream",
     "text": [
      "C:\\Users\\ben8h\\anaconda3\\Lib\\site-packages\\sklearn\\base.py:1474: DataConversionWarning: A column-vector y was passed when a 1d array was expected. Please change the shape of y to (n_samples,), for example using ravel().\n",
      "  return fit_method(estimator, *args, **kwargs)\n"
     ]
    },
    {
     "name": "stdout",
     "output_type": "stream",
     "text": [
      "[CV 3/10] END max_depth=5, min_samples_leaf=1, min_samples_split=2, n_estimators=200;, score=0.147 total time=   2.8s\n"
     ]
    },
    {
     "name": "stderr",
     "output_type": "stream",
     "text": [
      "C:\\Users\\ben8h\\anaconda3\\Lib\\site-packages\\sklearn\\base.py:1474: DataConversionWarning: A column-vector y was passed when a 1d array was expected. Please change the shape of y to (n_samples,), for example using ravel().\n",
      "  return fit_method(estimator, *args, **kwargs)\n"
     ]
    },
    {
     "name": "stdout",
     "output_type": "stream",
     "text": [
      "[CV 4/10] END max_depth=5, min_samples_leaf=1, min_samples_split=2, n_estimators=200;, score=0.167 total time=   2.8s\n"
     ]
    },
    {
     "name": "stderr",
     "output_type": "stream",
     "text": [
      "C:\\Users\\ben8h\\anaconda3\\Lib\\site-packages\\sklearn\\base.py:1474: DataConversionWarning: A column-vector y was passed when a 1d array was expected. Please change the shape of y to (n_samples,), for example using ravel().\n",
      "  return fit_method(estimator, *args, **kwargs)\n"
     ]
    },
    {
     "name": "stdout",
     "output_type": "stream",
     "text": [
      "[CV 5/10] END max_depth=5, min_samples_leaf=1, min_samples_split=2, n_estimators=200;, score=0.129 total time=   2.8s\n"
     ]
    },
    {
     "name": "stderr",
     "output_type": "stream",
     "text": [
      "C:\\Users\\ben8h\\anaconda3\\Lib\\site-packages\\sklearn\\base.py:1474: DataConversionWarning: A column-vector y was passed when a 1d array was expected. Please change the shape of y to (n_samples,), for example using ravel().\n",
      "  return fit_method(estimator, *args, **kwargs)\n"
     ]
    },
    {
     "name": "stdout",
     "output_type": "stream",
     "text": [
      "[CV 6/10] END max_depth=5, min_samples_leaf=1, min_samples_split=2, n_estimators=200;, score=0.103 total time=   2.8s\n"
     ]
    },
    {
     "name": "stderr",
     "output_type": "stream",
     "text": [
      "C:\\Users\\ben8h\\anaconda3\\Lib\\site-packages\\sklearn\\base.py:1474: DataConversionWarning: A column-vector y was passed when a 1d array was expected. Please change the shape of y to (n_samples,), for example using ravel().\n",
      "  return fit_method(estimator, *args, **kwargs)\n"
     ]
    },
    {
     "name": "stdout",
     "output_type": "stream",
     "text": [
      "[CV 7/10] END max_depth=5, min_samples_leaf=1, min_samples_split=2, n_estimators=200;, score=0.184 total time=   2.8s\n"
     ]
    },
    {
     "name": "stderr",
     "output_type": "stream",
     "text": [
      "C:\\Users\\ben8h\\anaconda3\\Lib\\site-packages\\sklearn\\base.py:1474: DataConversionWarning: A column-vector y was passed when a 1d array was expected. Please change the shape of y to (n_samples,), for example using ravel().\n",
      "  return fit_method(estimator, *args, **kwargs)\n"
     ]
    },
    {
     "name": "stdout",
     "output_type": "stream",
     "text": [
      "[CV 8/10] END max_depth=5, min_samples_leaf=1, min_samples_split=2, n_estimators=200;, score=0.106 total time=   2.8s\n"
     ]
    },
    {
     "name": "stderr",
     "output_type": "stream",
     "text": [
      "C:\\Users\\ben8h\\anaconda3\\Lib\\site-packages\\sklearn\\base.py:1474: DataConversionWarning: A column-vector y was passed when a 1d array was expected. Please change the shape of y to (n_samples,), for example using ravel().\n",
      "  return fit_method(estimator, *args, **kwargs)\n"
     ]
    },
    {
     "name": "stdout",
     "output_type": "stream",
     "text": [
      "[CV 9/10] END max_depth=5, min_samples_leaf=1, min_samples_split=2, n_estimators=200;, score=0.146 total time=   2.8s\n"
     ]
    },
    {
     "name": "stderr",
     "output_type": "stream",
     "text": [
      "C:\\Users\\ben8h\\anaconda3\\Lib\\site-packages\\sklearn\\base.py:1474: DataConversionWarning: A column-vector y was passed when a 1d array was expected. Please change the shape of y to (n_samples,), for example using ravel().\n",
      "  return fit_method(estimator, *args, **kwargs)\n"
     ]
    },
    {
     "name": "stdout",
     "output_type": "stream",
     "text": [
      "[CV 10/10] END max_depth=5, min_samples_leaf=1, min_samples_split=2, n_estimators=200;, score=0.157 total time=   2.8s\n"
     ]
    },
    {
     "name": "stderr",
     "output_type": "stream",
     "text": [
      "C:\\Users\\ben8h\\anaconda3\\Lib\\site-packages\\sklearn\\base.py:1474: DataConversionWarning: A column-vector y was passed when a 1d array was expected. Please change the shape of y to (n_samples,), for example using ravel().\n",
      "  return fit_method(estimator, *args, **kwargs)\n"
     ]
    },
    {
     "name": "stdout",
     "output_type": "stream",
     "text": [
      "[CV 1/10] END max_depth=5, min_samples_leaf=1, min_samples_split=5, n_estimators=50;, score=0.142 total time=   0.6s\n"
     ]
    },
    {
     "name": "stderr",
     "output_type": "stream",
     "text": [
      "C:\\Users\\ben8h\\anaconda3\\Lib\\site-packages\\sklearn\\base.py:1474: DataConversionWarning: A column-vector y was passed when a 1d array was expected. Please change the shape of y to (n_samples,), for example using ravel().\n",
      "  return fit_method(estimator, *args, **kwargs)\n"
     ]
    },
    {
     "name": "stdout",
     "output_type": "stream",
     "text": [
      "[CV 2/10] END max_depth=5, min_samples_leaf=1, min_samples_split=5, n_estimators=50;, score=0.146 total time=   0.6s\n"
     ]
    },
    {
     "name": "stderr",
     "output_type": "stream",
     "text": [
      "C:\\Users\\ben8h\\anaconda3\\Lib\\site-packages\\sklearn\\base.py:1474: DataConversionWarning: A column-vector y was passed when a 1d array was expected. Please change the shape of y to (n_samples,), for example using ravel().\n",
      "  return fit_method(estimator, *args, **kwargs)\n"
     ]
    },
    {
     "name": "stdout",
     "output_type": "stream",
     "text": [
      "[CV 3/10] END max_depth=5, min_samples_leaf=1, min_samples_split=5, n_estimators=50;, score=0.142 total time=   0.6s\n"
     ]
    },
    {
     "name": "stderr",
     "output_type": "stream",
     "text": [
      "C:\\Users\\ben8h\\anaconda3\\Lib\\site-packages\\sklearn\\base.py:1474: DataConversionWarning: A column-vector y was passed when a 1d array was expected. Please change the shape of y to (n_samples,), for example using ravel().\n",
      "  return fit_method(estimator, *args, **kwargs)\n"
     ]
    },
    {
     "name": "stdout",
     "output_type": "stream",
     "text": [
      "[CV 4/10] END max_depth=5, min_samples_leaf=1, min_samples_split=5, n_estimators=50;, score=0.156 total time=   0.6s\n"
     ]
    },
    {
     "name": "stderr",
     "output_type": "stream",
     "text": [
      "C:\\Users\\ben8h\\anaconda3\\Lib\\site-packages\\sklearn\\base.py:1474: DataConversionWarning: A column-vector y was passed when a 1d array was expected. Please change the shape of y to (n_samples,), for example using ravel().\n",
      "  return fit_method(estimator, *args, **kwargs)\n"
     ]
    },
    {
     "name": "stdout",
     "output_type": "stream",
     "text": [
      "[CV 5/10] END max_depth=5, min_samples_leaf=1, min_samples_split=5, n_estimators=50;, score=0.129 total time=   0.6s\n"
     ]
    },
    {
     "name": "stderr",
     "output_type": "stream",
     "text": [
      "C:\\Users\\ben8h\\anaconda3\\Lib\\site-packages\\sklearn\\base.py:1474: DataConversionWarning: A column-vector y was passed when a 1d array was expected. Please change the shape of y to (n_samples,), for example using ravel().\n",
      "  return fit_method(estimator, *args, **kwargs)\n"
     ]
    },
    {
     "name": "stdout",
     "output_type": "stream",
     "text": [
      "[CV 6/10] END max_depth=5, min_samples_leaf=1, min_samples_split=5, n_estimators=50;, score=0.102 total time=   0.6s\n"
     ]
    },
    {
     "name": "stderr",
     "output_type": "stream",
     "text": [
      "C:\\Users\\ben8h\\anaconda3\\Lib\\site-packages\\sklearn\\base.py:1474: DataConversionWarning: A column-vector y was passed when a 1d array was expected. Please change the shape of y to (n_samples,), for example using ravel().\n",
      "  return fit_method(estimator, *args, **kwargs)\n"
     ]
    },
    {
     "name": "stdout",
     "output_type": "stream",
     "text": [
      "[CV 7/10] END max_depth=5, min_samples_leaf=1, min_samples_split=5, n_estimators=50;, score=0.186 total time=   0.6s\n"
     ]
    },
    {
     "name": "stderr",
     "output_type": "stream",
     "text": [
      "C:\\Users\\ben8h\\anaconda3\\Lib\\site-packages\\sklearn\\base.py:1474: DataConversionWarning: A column-vector y was passed when a 1d array was expected. Please change the shape of y to (n_samples,), for example using ravel().\n",
      "  return fit_method(estimator, *args, **kwargs)\n"
     ]
    },
    {
     "name": "stdout",
     "output_type": "stream",
     "text": [
      "[CV 8/10] END max_depth=5, min_samples_leaf=1, min_samples_split=5, n_estimators=50;, score=0.098 total time=   0.7s\n"
     ]
    },
    {
     "name": "stderr",
     "output_type": "stream",
     "text": [
      "C:\\Users\\ben8h\\anaconda3\\Lib\\site-packages\\sklearn\\base.py:1474: DataConversionWarning: A column-vector y was passed when a 1d array was expected. Please change the shape of y to (n_samples,), for example using ravel().\n",
      "  return fit_method(estimator, *args, **kwargs)\n"
     ]
    },
    {
     "name": "stdout",
     "output_type": "stream",
     "text": [
      "[CV 9/10] END max_depth=5, min_samples_leaf=1, min_samples_split=5, n_estimators=50;, score=0.144 total time=   0.6s\n"
     ]
    },
    {
     "name": "stderr",
     "output_type": "stream",
     "text": [
      "C:\\Users\\ben8h\\anaconda3\\Lib\\site-packages\\sklearn\\base.py:1474: DataConversionWarning: A column-vector y was passed when a 1d array was expected. Please change the shape of y to (n_samples,), for example using ravel().\n",
      "  return fit_method(estimator, *args, **kwargs)\n"
     ]
    },
    {
     "name": "stdout",
     "output_type": "stream",
     "text": [
      "[CV 10/10] END max_depth=5, min_samples_leaf=1, min_samples_split=5, n_estimators=50;, score=0.141 total time=   0.6s\n"
     ]
    },
    {
     "name": "stderr",
     "output_type": "stream",
     "text": [
      "C:\\Users\\ben8h\\anaconda3\\Lib\\site-packages\\sklearn\\base.py:1474: DataConversionWarning: A column-vector y was passed when a 1d array was expected. Please change the shape of y to (n_samples,), for example using ravel().\n",
      "  return fit_method(estimator, *args, **kwargs)\n"
     ]
    },
    {
     "name": "stdout",
     "output_type": "stream",
     "text": [
      "[CV 1/10] END max_depth=5, min_samples_leaf=1, min_samples_split=5, n_estimators=100;, score=0.141 total time=   1.4s\n"
     ]
    },
    {
     "name": "stderr",
     "output_type": "stream",
     "text": [
      "C:\\Users\\ben8h\\anaconda3\\Lib\\site-packages\\sklearn\\base.py:1474: DataConversionWarning: A column-vector y was passed when a 1d array was expected. Please change the shape of y to (n_samples,), for example using ravel().\n",
      "  return fit_method(estimator, *args, **kwargs)\n"
     ]
    },
    {
     "name": "stdout",
     "output_type": "stream",
     "text": [
      "[CV 2/10] END max_depth=5, min_samples_leaf=1, min_samples_split=5, n_estimators=100;, score=0.145 total time=   1.4s\n"
     ]
    },
    {
     "name": "stderr",
     "output_type": "stream",
     "text": [
      "C:\\Users\\ben8h\\anaconda3\\Lib\\site-packages\\sklearn\\base.py:1474: DataConversionWarning: A column-vector y was passed when a 1d array was expected. Please change the shape of y to (n_samples,), for example using ravel().\n",
      "  return fit_method(estimator, *args, **kwargs)\n"
     ]
    },
    {
     "name": "stdout",
     "output_type": "stream",
     "text": [
      "[CV 3/10] END max_depth=5, min_samples_leaf=1, min_samples_split=5, n_estimators=100;, score=0.140 total time=   1.4s\n"
     ]
    },
    {
     "name": "stderr",
     "output_type": "stream",
     "text": [
      "C:\\Users\\ben8h\\anaconda3\\Lib\\site-packages\\sklearn\\base.py:1474: DataConversionWarning: A column-vector y was passed when a 1d array was expected. Please change the shape of y to (n_samples,), for example using ravel().\n",
      "  return fit_method(estimator, *args, **kwargs)\n"
     ]
    },
    {
     "name": "stdout",
     "output_type": "stream",
     "text": [
      "[CV 4/10] END max_depth=5, min_samples_leaf=1, min_samples_split=5, n_estimators=100;, score=0.163 total time=   1.4s\n"
     ]
    },
    {
     "name": "stderr",
     "output_type": "stream",
     "text": [
      "C:\\Users\\ben8h\\anaconda3\\Lib\\site-packages\\sklearn\\base.py:1474: DataConversionWarning: A column-vector y was passed when a 1d array was expected. Please change the shape of y to (n_samples,), for example using ravel().\n",
      "  return fit_method(estimator, *args, **kwargs)\n"
     ]
    },
    {
     "name": "stdout",
     "output_type": "stream",
     "text": [
      "[CV 5/10] END max_depth=5, min_samples_leaf=1, min_samples_split=5, n_estimators=100;, score=0.127 total time=   1.4s\n"
     ]
    },
    {
     "name": "stderr",
     "output_type": "stream",
     "text": [
      "C:\\Users\\ben8h\\anaconda3\\Lib\\site-packages\\sklearn\\base.py:1474: DataConversionWarning: A column-vector y was passed when a 1d array was expected. Please change the shape of y to (n_samples,), for example using ravel().\n",
      "  return fit_method(estimator, *args, **kwargs)\n"
     ]
    },
    {
     "name": "stdout",
     "output_type": "stream",
     "text": [
      "[CV 6/10] END max_depth=5, min_samples_leaf=1, min_samples_split=5, n_estimators=100;, score=0.101 total time=   1.4s\n"
     ]
    },
    {
     "name": "stderr",
     "output_type": "stream",
     "text": [
      "C:\\Users\\ben8h\\anaconda3\\Lib\\site-packages\\sklearn\\base.py:1474: DataConversionWarning: A column-vector y was passed when a 1d array was expected. Please change the shape of y to (n_samples,), for example using ravel().\n",
      "  return fit_method(estimator, *args, **kwargs)\n"
     ]
    },
    {
     "name": "stdout",
     "output_type": "stream",
     "text": [
      "[CV 7/10] END max_depth=5, min_samples_leaf=1, min_samples_split=5, n_estimators=100;, score=0.185 total time=   1.4s\n"
     ]
    },
    {
     "name": "stderr",
     "output_type": "stream",
     "text": [
      "C:\\Users\\ben8h\\anaconda3\\Lib\\site-packages\\sklearn\\base.py:1474: DataConversionWarning: A column-vector y was passed when a 1d array was expected. Please change the shape of y to (n_samples,), for example using ravel().\n",
      "  return fit_method(estimator, *args, **kwargs)\n"
     ]
    },
    {
     "name": "stdout",
     "output_type": "stream",
     "text": [
      "[CV 8/10] END max_depth=5, min_samples_leaf=1, min_samples_split=5, n_estimators=100;, score=0.102 total time=   1.4s\n"
     ]
    },
    {
     "name": "stderr",
     "output_type": "stream",
     "text": [
      "C:\\Users\\ben8h\\anaconda3\\Lib\\site-packages\\sklearn\\base.py:1474: DataConversionWarning: A column-vector y was passed when a 1d array was expected. Please change the shape of y to (n_samples,), for example using ravel().\n",
      "  return fit_method(estimator, *args, **kwargs)\n"
     ]
    },
    {
     "name": "stdout",
     "output_type": "stream",
     "text": [
      "[CV 9/10] END max_depth=5, min_samples_leaf=1, min_samples_split=5, n_estimators=100;, score=0.146 total time=   1.4s\n"
     ]
    },
    {
     "name": "stderr",
     "output_type": "stream",
     "text": [
      "C:\\Users\\ben8h\\anaconda3\\Lib\\site-packages\\sklearn\\base.py:1474: DataConversionWarning: A column-vector y was passed when a 1d array was expected. Please change the shape of y to (n_samples,), for example using ravel().\n",
      "  return fit_method(estimator, *args, **kwargs)\n"
     ]
    },
    {
     "name": "stdout",
     "output_type": "stream",
     "text": [
      "[CV 10/10] END max_depth=5, min_samples_leaf=1, min_samples_split=5, n_estimators=100;, score=0.154 total time=   1.4s\n"
     ]
    },
    {
     "name": "stderr",
     "output_type": "stream",
     "text": [
      "C:\\Users\\ben8h\\anaconda3\\Lib\\site-packages\\sklearn\\base.py:1474: DataConversionWarning: A column-vector y was passed when a 1d array was expected. Please change the shape of y to (n_samples,), for example using ravel().\n",
      "  return fit_method(estimator, *args, **kwargs)\n"
     ]
    },
    {
     "name": "stdout",
     "output_type": "stream",
     "text": [
      "[CV 1/10] END max_depth=5, min_samples_leaf=1, min_samples_split=5, n_estimators=200;, score=0.143 total time=   2.9s\n"
     ]
    },
    {
     "name": "stderr",
     "output_type": "stream",
     "text": [
      "C:\\Users\\ben8h\\anaconda3\\Lib\\site-packages\\sklearn\\base.py:1474: DataConversionWarning: A column-vector y was passed when a 1d array was expected. Please change the shape of y to (n_samples,), for example using ravel().\n",
      "  return fit_method(estimator, *args, **kwargs)\n"
     ]
    },
    {
     "name": "stdout",
     "output_type": "stream",
     "text": [
      "[CV 2/10] END max_depth=5, min_samples_leaf=1, min_samples_split=5, n_estimators=200;, score=0.144 total time=   2.8s\n"
     ]
    },
    {
     "name": "stderr",
     "output_type": "stream",
     "text": [
      "C:\\Users\\ben8h\\anaconda3\\Lib\\site-packages\\sklearn\\base.py:1474: DataConversionWarning: A column-vector y was passed when a 1d array was expected. Please change the shape of y to (n_samples,), for example using ravel().\n",
      "  return fit_method(estimator, *args, **kwargs)\n"
     ]
    },
    {
     "name": "stdout",
     "output_type": "stream",
     "text": [
      "[CV 3/10] END max_depth=5, min_samples_leaf=1, min_samples_split=5, n_estimators=200;, score=0.142 total time=   2.8s\n"
     ]
    },
    {
     "name": "stderr",
     "output_type": "stream",
     "text": [
      "C:\\Users\\ben8h\\anaconda3\\Lib\\site-packages\\sklearn\\base.py:1474: DataConversionWarning: A column-vector y was passed when a 1d array was expected. Please change the shape of y to (n_samples,), for example using ravel().\n",
      "  return fit_method(estimator, *args, **kwargs)\n"
     ]
    },
    {
     "name": "stdout",
     "output_type": "stream",
     "text": [
      "[CV 4/10] END max_depth=5, min_samples_leaf=1, min_samples_split=5, n_estimators=200;, score=0.165 total time=   2.9s\n"
     ]
    },
    {
     "name": "stderr",
     "output_type": "stream",
     "text": [
      "C:\\Users\\ben8h\\anaconda3\\Lib\\site-packages\\sklearn\\base.py:1474: DataConversionWarning: A column-vector y was passed when a 1d array was expected. Please change the shape of y to (n_samples,), for example using ravel().\n",
      "  return fit_method(estimator, *args, **kwargs)\n"
     ]
    },
    {
     "name": "stdout",
     "output_type": "stream",
     "text": [
      "[CV 5/10] END max_depth=5, min_samples_leaf=1, min_samples_split=5, n_estimators=200;, score=0.126 total time=   2.9s\n"
     ]
    },
    {
     "name": "stderr",
     "output_type": "stream",
     "text": [
      "C:\\Users\\ben8h\\anaconda3\\Lib\\site-packages\\sklearn\\base.py:1474: DataConversionWarning: A column-vector y was passed when a 1d array was expected. Please change the shape of y to (n_samples,), for example using ravel().\n",
      "  return fit_method(estimator, *args, **kwargs)\n"
     ]
    },
    {
     "name": "stdout",
     "output_type": "stream",
     "text": [
      "[CV 6/10] END max_depth=5, min_samples_leaf=1, min_samples_split=5, n_estimators=200;, score=0.103 total time=   2.8s\n"
     ]
    },
    {
     "name": "stderr",
     "output_type": "stream",
     "text": [
      "C:\\Users\\ben8h\\anaconda3\\Lib\\site-packages\\sklearn\\base.py:1474: DataConversionWarning: A column-vector y was passed when a 1d array was expected. Please change the shape of y to (n_samples,), for example using ravel().\n",
      "  return fit_method(estimator, *args, **kwargs)\n"
     ]
    },
    {
     "name": "stdout",
     "output_type": "stream",
     "text": [
      "[CV 7/10] END max_depth=5, min_samples_leaf=1, min_samples_split=5, n_estimators=200;, score=0.186 total time=   2.8s\n"
     ]
    },
    {
     "name": "stderr",
     "output_type": "stream",
     "text": [
      "C:\\Users\\ben8h\\anaconda3\\Lib\\site-packages\\sklearn\\base.py:1474: DataConversionWarning: A column-vector y was passed when a 1d array was expected. Please change the shape of y to (n_samples,), for example using ravel().\n",
      "  return fit_method(estimator, *args, **kwargs)\n"
     ]
    },
    {
     "name": "stdout",
     "output_type": "stream",
     "text": [
      "[CV 8/10] END max_depth=5, min_samples_leaf=1, min_samples_split=5, n_estimators=200;, score=0.101 total time=   2.8s\n"
     ]
    },
    {
     "name": "stderr",
     "output_type": "stream",
     "text": [
      "C:\\Users\\ben8h\\anaconda3\\Lib\\site-packages\\sklearn\\base.py:1474: DataConversionWarning: A column-vector y was passed when a 1d array was expected. Please change the shape of y to (n_samples,), for example using ravel().\n",
      "  return fit_method(estimator, *args, **kwargs)\n"
     ]
    },
    {
     "name": "stdout",
     "output_type": "stream",
     "text": [
      "[CV 9/10] END max_depth=5, min_samples_leaf=1, min_samples_split=5, n_estimators=200;, score=0.149 total time=   2.8s\n"
     ]
    },
    {
     "name": "stderr",
     "output_type": "stream",
     "text": [
      "C:\\Users\\ben8h\\anaconda3\\Lib\\site-packages\\sklearn\\base.py:1474: DataConversionWarning: A column-vector y was passed when a 1d array was expected. Please change the shape of y to (n_samples,), for example using ravel().\n",
      "  return fit_method(estimator, *args, **kwargs)\n"
     ]
    },
    {
     "name": "stdout",
     "output_type": "stream",
     "text": [
      "[CV 10/10] END max_depth=5, min_samples_leaf=1, min_samples_split=5, n_estimators=200;, score=0.151 total time=   2.8s\n"
     ]
    },
    {
     "name": "stderr",
     "output_type": "stream",
     "text": [
      "C:\\Users\\ben8h\\anaconda3\\Lib\\site-packages\\sklearn\\base.py:1474: DataConversionWarning: A column-vector y was passed when a 1d array was expected. Please change the shape of y to (n_samples,), for example using ravel().\n",
      "  return fit_method(estimator, *args, **kwargs)\n"
     ]
    },
    {
     "name": "stdout",
     "output_type": "stream",
     "text": [
      "[CV 1/10] END max_depth=5, min_samples_leaf=1, min_samples_split=10, n_estimators=50;, score=0.141 total time=   0.6s\n"
     ]
    },
    {
     "name": "stderr",
     "output_type": "stream",
     "text": [
      "C:\\Users\\ben8h\\anaconda3\\Lib\\site-packages\\sklearn\\base.py:1474: DataConversionWarning: A column-vector y was passed when a 1d array was expected. Please change the shape of y to (n_samples,), for example using ravel().\n",
      "  return fit_method(estimator, *args, **kwargs)\n"
     ]
    },
    {
     "name": "stdout",
     "output_type": "stream",
     "text": [
      "[CV 2/10] END max_depth=5, min_samples_leaf=1, min_samples_split=10, n_estimators=50;, score=0.142 total time=   0.7s\n"
     ]
    },
    {
     "name": "stderr",
     "output_type": "stream",
     "text": [
      "C:\\Users\\ben8h\\anaconda3\\Lib\\site-packages\\sklearn\\base.py:1474: DataConversionWarning: A column-vector y was passed when a 1d array was expected. Please change the shape of y to (n_samples,), for example using ravel().\n",
      "  return fit_method(estimator, *args, **kwargs)\n"
     ]
    },
    {
     "name": "stdout",
     "output_type": "stream",
     "text": [
      "[CV 3/10] END max_depth=5, min_samples_leaf=1, min_samples_split=10, n_estimators=50;, score=0.140 total time=   0.6s\n"
     ]
    },
    {
     "name": "stderr",
     "output_type": "stream",
     "text": [
      "C:\\Users\\ben8h\\anaconda3\\Lib\\site-packages\\sklearn\\base.py:1474: DataConversionWarning: A column-vector y was passed when a 1d array was expected. Please change the shape of y to (n_samples,), for example using ravel().\n",
      "  return fit_method(estimator, *args, **kwargs)\n"
     ]
    },
    {
     "name": "stdout",
     "output_type": "stream",
     "text": [
      "[CV 4/10] END max_depth=5, min_samples_leaf=1, min_samples_split=10, n_estimators=50;, score=0.160 total time=   0.6s\n"
     ]
    },
    {
     "name": "stderr",
     "output_type": "stream",
     "text": [
      "C:\\Users\\ben8h\\anaconda3\\Lib\\site-packages\\sklearn\\base.py:1474: DataConversionWarning: A column-vector y was passed when a 1d array was expected. Please change the shape of y to (n_samples,), for example using ravel().\n",
      "  return fit_method(estimator, *args, **kwargs)\n"
     ]
    },
    {
     "name": "stdout",
     "output_type": "stream",
     "text": [
      "[CV 5/10] END max_depth=5, min_samples_leaf=1, min_samples_split=10, n_estimators=50;, score=0.128 total time=   0.6s\n"
     ]
    },
    {
     "name": "stderr",
     "output_type": "stream",
     "text": [
      "C:\\Users\\ben8h\\anaconda3\\Lib\\site-packages\\sklearn\\base.py:1474: DataConversionWarning: A column-vector y was passed when a 1d array was expected. Please change the shape of y to (n_samples,), for example using ravel().\n",
      "  return fit_method(estimator, *args, **kwargs)\n"
     ]
    },
    {
     "name": "stdout",
     "output_type": "stream",
     "text": [
      "[CV 6/10] END max_depth=5, min_samples_leaf=1, min_samples_split=10, n_estimators=50;, score=0.100 total time=   0.6s\n"
     ]
    },
    {
     "name": "stderr",
     "output_type": "stream",
     "text": [
      "C:\\Users\\ben8h\\anaconda3\\Lib\\site-packages\\sklearn\\base.py:1474: DataConversionWarning: A column-vector y was passed when a 1d array was expected. Please change the shape of y to (n_samples,), for example using ravel().\n",
      "  return fit_method(estimator, *args, **kwargs)\n"
     ]
    },
    {
     "name": "stdout",
     "output_type": "stream",
     "text": [
      "[CV 7/10] END max_depth=5, min_samples_leaf=1, min_samples_split=10, n_estimators=50;, score=0.187 total time=   0.6s\n"
     ]
    },
    {
     "name": "stderr",
     "output_type": "stream",
     "text": [
      "C:\\Users\\ben8h\\anaconda3\\Lib\\site-packages\\sklearn\\base.py:1474: DataConversionWarning: A column-vector y was passed when a 1d array was expected. Please change the shape of y to (n_samples,), for example using ravel().\n",
      "  return fit_method(estimator, *args, **kwargs)\n"
     ]
    },
    {
     "name": "stdout",
     "output_type": "stream",
     "text": [
      "[CV 8/10] END max_depth=5, min_samples_leaf=1, min_samples_split=10, n_estimators=50;, score=0.097 total time=   0.6s\n"
     ]
    },
    {
     "name": "stderr",
     "output_type": "stream",
     "text": [
      "C:\\Users\\ben8h\\anaconda3\\Lib\\site-packages\\sklearn\\base.py:1474: DataConversionWarning: A column-vector y was passed when a 1d array was expected. Please change the shape of y to (n_samples,), for example using ravel().\n",
      "  return fit_method(estimator, *args, **kwargs)\n"
     ]
    },
    {
     "name": "stdout",
     "output_type": "stream",
     "text": [
      "[CV 9/10] END max_depth=5, min_samples_leaf=1, min_samples_split=10, n_estimators=50;, score=0.146 total time=   0.6s\n"
     ]
    },
    {
     "name": "stderr",
     "output_type": "stream",
     "text": [
      "C:\\Users\\ben8h\\anaconda3\\Lib\\site-packages\\sklearn\\base.py:1474: DataConversionWarning: A column-vector y was passed when a 1d array was expected. Please change the shape of y to (n_samples,), for example using ravel().\n",
      "  return fit_method(estimator, *args, **kwargs)\n"
     ]
    },
    {
     "name": "stdout",
     "output_type": "stream",
     "text": [
      "[CV 10/10] END max_depth=5, min_samples_leaf=1, min_samples_split=10, n_estimators=50;, score=0.161 total time=   0.6s\n"
     ]
    },
    {
     "name": "stderr",
     "output_type": "stream",
     "text": [
      "C:\\Users\\ben8h\\anaconda3\\Lib\\site-packages\\sklearn\\base.py:1474: DataConversionWarning: A column-vector y was passed when a 1d array was expected. Please change the shape of y to (n_samples,), for example using ravel().\n",
      "  return fit_method(estimator, *args, **kwargs)\n"
     ]
    },
    {
     "name": "stdout",
     "output_type": "stream",
     "text": [
      "[CV 1/10] END max_depth=5, min_samples_leaf=1, min_samples_split=10, n_estimators=100;, score=0.140 total time=   1.3s\n"
     ]
    },
    {
     "name": "stderr",
     "output_type": "stream",
     "text": [
      "C:\\Users\\ben8h\\anaconda3\\Lib\\site-packages\\sklearn\\base.py:1474: DataConversionWarning: A column-vector y was passed when a 1d array was expected. Please change the shape of y to (n_samples,), for example using ravel().\n",
      "  return fit_method(estimator, *args, **kwargs)\n"
     ]
    },
    {
     "name": "stdout",
     "output_type": "stream",
     "text": [
      "[CV 2/10] END max_depth=5, min_samples_leaf=1, min_samples_split=10, n_estimators=100;, score=0.141 total time=   1.4s\n"
     ]
    },
    {
     "name": "stderr",
     "output_type": "stream",
     "text": [
      "C:\\Users\\ben8h\\anaconda3\\Lib\\site-packages\\sklearn\\base.py:1474: DataConversionWarning: A column-vector y was passed when a 1d array was expected. Please change the shape of y to (n_samples,), for example using ravel().\n",
      "  return fit_method(estimator, *args, **kwargs)\n"
     ]
    },
    {
     "name": "stdout",
     "output_type": "stream",
     "text": [
      "[CV 3/10] END max_depth=5, min_samples_leaf=1, min_samples_split=10, n_estimators=100;, score=0.141 total time=   1.4s\n"
     ]
    },
    {
     "name": "stderr",
     "output_type": "stream",
     "text": [
      "C:\\Users\\ben8h\\anaconda3\\Lib\\site-packages\\sklearn\\base.py:1474: DataConversionWarning: A column-vector y was passed when a 1d array was expected. Please change the shape of y to (n_samples,), for example using ravel().\n",
      "  return fit_method(estimator, *args, **kwargs)\n"
     ]
    },
    {
     "name": "stdout",
     "output_type": "stream",
     "text": [
      "[CV 4/10] END max_depth=5, min_samples_leaf=1, min_samples_split=10, n_estimators=100;, score=0.164 total time=   1.4s\n"
     ]
    },
    {
     "name": "stderr",
     "output_type": "stream",
     "text": [
      "C:\\Users\\ben8h\\anaconda3\\Lib\\site-packages\\sklearn\\base.py:1474: DataConversionWarning: A column-vector y was passed when a 1d array was expected. Please change the shape of y to (n_samples,), for example using ravel().\n",
      "  return fit_method(estimator, *args, **kwargs)\n"
     ]
    },
    {
     "name": "stdout",
     "output_type": "stream",
     "text": [
      "[CV 5/10] END max_depth=5, min_samples_leaf=1, min_samples_split=10, n_estimators=100;, score=0.132 total time=   1.4s\n"
     ]
    },
    {
     "name": "stderr",
     "output_type": "stream",
     "text": [
      "C:\\Users\\ben8h\\anaconda3\\Lib\\site-packages\\sklearn\\base.py:1474: DataConversionWarning: A column-vector y was passed when a 1d array was expected. Please change the shape of y to (n_samples,), for example using ravel().\n",
      "  return fit_method(estimator, *args, **kwargs)\n"
     ]
    },
    {
     "name": "stdout",
     "output_type": "stream",
     "text": [
      "[CV 6/10] END max_depth=5, min_samples_leaf=1, min_samples_split=10, n_estimators=100;, score=0.097 total time=   1.4s\n"
     ]
    },
    {
     "name": "stderr",
     "output_type": "stream",
     "text": [
      "C:\\Users\\ben8h\\anaconda3\\Lib\\site-packages\\sklearn\\base.py:1474: DataConversionWarning: A column-vector y was passed when a 1d array was expected. Please change the shape of y to (n_samples,), for example using ravel().\n",
      "  return fit_method(estimator, *args, **kwargs)\n"
     ]
    },
    {
     "name": "stdout",
     "output_type": "stream",
     "text": [
      "[CV 7/10] END max_depth=5, min_samples_leaf=1, min_samples_split=10, n_estimators=100;, score=0.183 total time=   1.4s\n"
     ]
    },
    {
     "name": "stderr",
     "output_type": "stream",
     "text": [
      "C:\\Users\\ben8h\\anaconda3\\Lib\\site-packages\\sklearn\\base.py:1474: DataConversionWarning: A column-vector y was passed when a 1d array was expected. Please change the shape of y to (n_samples,), for example using ravel().\n",
      "  return fit_method(estimator, *args, **kwargs)\n"
     ]
    },
    {
     "name": "stdout",
     "output_type": "stream",
     "text": [
      "[CV 8/10] END max_depth=5, min_samples_leaf=1, min_samples_split=10, n_estimators=100;, score=0.103 total time=   1.4s\n"
     ]
    },
    {
     "name": "stderr",
     "output_type": "stream",
     "text": [
      "C:\\Users\\ben8h\\anaconda3\\Lib\\site-packages\\sklearn\\base.py:1474: DataConversionWarning: A column-vector y was passed when a 1d array was expected. Please change the shape of y to (n_samples,), for example using ravel().\n",
      "  return fit_method(estimator, *args, **kwargs)\n"
     ]
    },
    {
     "name": "stdout",
     "output_type": "stream",
     "text": [
      "[CV 9/10] END max_depth=5, min_samples_leaf=1, min_samples_split=10, n_estimators=100;, score=0.145 total time=   1.4s\n"
     ]
    },
    {
     "name": "stderr",
     "output_type": "stream",
     "text": [
      "C:\\Users\\ben8h\\anaconda3\\Lib\\site-packages\\sklearn\\base.py:1474: DataConversionWarning: A column-vector y was passed when a 1d array was expected. Please change the shape of y to (n_samples,), for example using ravel().\n",
      "  return fit_method(estimator, *args, **kwargs)\n"
     ]
    },
    {
     "name": "stdout",
     "output_type": "stream",
     "text": [
      "[CV 10/10] END max_depth=5, min_samples_leaf=1, min_samples_split=10, n_estimators=100;, score=0.156 total time=   1.4s\n"
     ]
    },
    {
     "name": "stderr",
     "output_type": "stream",
     "text": [
      "C:\\Users\\ben8h\\anaconda3\\Lib\\site-packages\\sklearn\\base.py:1474: DataConversionWarning: A column-vector y was passed when a 1d array was expected. Please change the shape of y to (n_samples,), for example using ravel().\n",
      "  return fit_method(estimator, *args, **kwargs)\n"
     ]
    },
    {
     "name": "stdout",
     "output_type": "stream",
     "text": [
      "[CV 1/10] END max_depth=5, min_samples_leaf=1, min_samples_split=10, n_estimators=200;, score=0.142 total time=   2.9s\n"
     ]
    },
    {
     "name": "stderr",
     "output_type": "stream",
     "text": [
      "C:\\Users\\ben8h\\anaconda3\\Lib\\site-packages\\sklearn\\base.py:1474: DataConversionWarning: A column-vector y was passed when a 1d array was expected. Please change the shape of y to (n_samples,), for example using ravel().\n",
      "  return fit_method(estimator, *args, **kwargs)\n"
     ]
    },
    {
     "name": "stdout",
     "output_type": "stream",
     "text": [
      "[CV 2/10] END max_depth=5, min_samples_leaf=1, min_samples_split=10, n_estimators=200;, score=0.142 total time=   2.8s\n"
     ]
    },
    {
     "name": "stderr",
     "output_type": "stream",
     "text": [
      "C:\\Users\\ben8h\\anaconda3\\Lib\\site-packages\\sklearn\\base.py:1474: DataConversionWarning: A column-vector y was passed when a 1d array was expected. Please change the shape of y to (n_samples,), for example using ravel().\n",
      "  return fit_method(estimator, *args, **kwargs)\n"
     ]
    },
    {
     "name": "stdout",
     "output_type": "stream",
     "text": [
      "[CV 3/10] END max_depth=5, min_samples_leaf=1, min_samples_split=10, n_estimators=200;, score=0.145 total time=   2.8s\n"
     ]
    },
    {
     "name": "stderr",
     "output_type": "stream",
     "text": [
      "C:\\Users\\ben8h\\anaconda3\\Lib\\site-packages\\sklearn\\base.py:1474: DataConversionWarning: A column-vector y was passed when a 1d array was expected. Please change the shape of y to (n_samples,), for example using ravel().\n",
      "  return fit_method(estimator, *args, **kwargs)\n"
     ]
    },
    {
     "name": "stdout",
     "output_type": "stream",
     "text": [
      "[CV 4/10] END max_depth=5, min_samples_leaf=1, min_samples_split=10, n_estimators=200;, score=0.168 total time=   2.9s\n"
     ]
    },
    {
     "name": "stderr",
     "output_type": "stream",
     "text": [
      "C:\\Users\\ben8h\\anaconda3\\Lib\\site-packages\\sklearn\\base.py:1474: DataConversionWarning: A column-vector y was passed when a 1d array was expected. Please change the shape of y to (n_samples,), for example using ravel().\n",
      "  return fit_method(estimator, *args, **kwargs)\n"
     ]
    },
    {
     "name": "stdout",
     "output_type": "stream",
     "text": [
      "[CV 5/10] END max_depth=5, min_samples_leaf=1, min_samples_split=10, n_estimators=200;, score=0.129 total time=   2.8s\n"
     ]
    },
    {
     "name": "stderr",
     "output_type": "stream",
     "text": [
      "C:\\Users\\ben8h\\anaconda3\\Lib\\site-packages\\sklearn\\base.py:1474: DataConversionWarning: A column-vector y was passed when a 1d array was expected. Please change the shape of y to (n_samples,), for example using ravel().\n",
      "  return fit_method(estimator, *args, **kwargs)\n"
     ]
    },
    {
     "name": "stdout",
     "output_type": "stream",
     "text": [
      "[CV 6/10] END max_depth=5, min_samples_leaf=1, min_samples_split=10, n_estimators=200;, score=0.101 total time=   2.8s\n"
     ]
    },
    {
     "name": "stderr",
     "output_type": "stream",
     "text": [
      "C:\\Users\\ben8h\\anaconda3\\Lib\\site-packages\\sklearn\\base.py:1474: DataConversionWarning: A column-vector y was passed when a 1d array was expected. Please change the shape of y to (n_samples,), for example using ravel().\n",
      "  return fit_method(estimator, *args, **kwargs)\n"
     ]
    },
    {
     "name": "stdout",
     "output_type": "stream",
     "text": [
      "[CV 7/10] END max_depth=5, min_samples_leaf=1, min_samples_split=10, n_estimators=200;, score=0.188 total time=   2.9s\n"
     ]
    },
    {
     "name": "stderr",
     "output_type": "stream",
     "text": [
      "C:\\Users\\ben8h\\anaconda3\\Lib\\site-packages\\sklearn\\base.py:1474: DataConversionWarning: A column-vector y was passed when a 1d array was expected. Please change the shape of y to (n_samples,), for example using ravel().\n",
      "  return fit_method(estimator, *args, **kwargs)\n"
     ]
    },
    {
     "name": "stdout",
     "output_type": "stream",
     "text": [
      "[CV 8/10] END max_depth=5, min_samples_leaf=1, min_samples_split=10, n_estimators=200;, score=0.104 total time=   2.8s\n"
     ]
    },
    {
     "name": "stderr",
     "output_type": "stream",
     "text": [
      "C:\\Users\\ben8h\\anaconda3\\Lib\\site-packages\\sklearn\\base.py:1474: DataConversionWarning: A column-vector y was passed when a 1d array was expected. Please change the shape of y to (n_samples,), for example using ravel().\n",
      "  return fit_method(estimator, *args, **kwargs)\n"
     ]
    },
    {
     "name": "stdout",
     "output_type": "stream",
     "text": [
      "[CV 9/10] END max_depth=5, min_samples_leaf=1, min_samples_split=10, n_estimators=200;, score=0.145 total time=   2.8s\n"
     ]
    },
    {
     "name": "stderr",
     "output_type": "stream",
     "text": [
      "C:\\Users\\ben8h\\anaconda3\\Lib\\site-packages\\sklearn\\base.py:1474: DataConversionWarning: A column-vector y was passed when a 1d array was expected. Please change the shape of y to (n_samples,), for example using ravel().\n",
      "  return fit_method(estimator, *args, **kwargs)\n"
     ]
    },
    {
     "name": "stdout",
     "output_type": "stream",
     "text": [
      "[CV 10/10] END max_depth=5, min_samples_leaf=1, min_samples_split=10, n_estimators=200;, score=0.151 total time=   2.9s\n"
     ]
    },
    {
     "name": "stderr",
     "output_type": "stream",
     "text": [
      "C:\\Users\\ben8h\\anaconda3\\Lib\\site-packages\\sklearn\\base.py:1474: DataConversionWarning: A column-vector y was passed when a 1d array was expected. Please change the shape of y to (n_samples,), for example using ravel().\n",
      "  return fit_method(estimator, *args, **kwargs)\n"
     ]
    },
    {
     "name": "stdout",
     "output_type": "stream",
     "text": [
      "[CV 1/10] END max_depth=5, min_samples_leaf=5, min_samples_split=2, n_estimators=50;, score=0.146 total time=   0.6s\n"
     ]
    },
    {
     "name": "stderr",
     "output_type": "stream",
     "text": [
      "C:\\Users\\ben8h\\anaconda3\\Lib\\site-packages\\sklearn\\base.py:1474: DataConversionWarning: A column-vector y was passed when a 1d array was expected. Please change the shape of y to (n_samples,), for example using ravel().\n",
      "  return fit_method(estimator, *args, **kwargs)\n"
     ]
    },
    {
     "name": "stdout",
     "output_type": "stream",
     "text": [
      "[CV 2/10] END max_depth=5, min_samples_leaf=5, min_samples_split=2, n_estimators=50;, score=0.147 total time=   0.6s\n"
     ]
    },
    {
     "name": "stderr",
     "output_type": "stream",
     "text": [
      "C:\\Users\\ben8h\\anaconda3\\Lib\\site-packages\\sklearn\\base.py:1474: DataConversionWarning: A column-vector y was passed when a 1d array was expected. Please change the shape of y to (n_samples,), for example using ravel().\n",
      "  return fit_method(estimator, *args, **kwargs)\n"
     ]
    },
    {
     "name": "stdout",
     "output_type": "stream",
     "text": [
      "[CV 3/10] END max_depth=5, min_samples_leaf=5, min_samples_split=2, n_estimators=50;, score=0.144 total time=   0.6s\n"
     ]
    },
    {
     "name": "stderr",
     "output_type": "stream",
     "text": [
      "C:\\Users\\ben8h\\anaconda3\\Lib\\site-packages\\sklearn\\base.py:1474: DataConversionWarning: A column-vector y was passed when a 1d array was expected. Please change the shape of y to (n_samples,), for example using ravel().\n",
      "  return fit_method(estimator, *args, **kwargs)\n"
     ]
    },
    {
     "name": "stdout",
     "output_type": "stream",
     "text": [
      "[CV 4/10] END max_depth=5, min_samples_leaf=5, min_samples_split=2, n_estimators=50;, score=0.177 total time=   0.6s\n"
     ]
    },
    {
     "name": "stderr",
     "output_type": "stream",
     "text": [
      "C:\\Users\\ben8h\\anaconda3\\Lib\\site-packages\\sklearn\\base.py:1474: DataConversionWarning: A column-vector y was passed when a 1d array was expected. Please change the shape of y to (n_samples,), for example using ravel().\n",
      "  return fit_method(estimator, *args, **kwargs)\n"
     ]
    },
    {
     "name": "stdout",
     "output_type": "stream",
     "text": [
      "[CV 5/10] END max_depth=5, min_samples_leaf=5, min_samples_split=2, n_estimators=50;, score=0.136 total time=   0.6s\n"
     ]
    },
    {
     "name": "stderr",
     "output_type": "stream",
     "text": [
      "C:\\Users\\ben8h\\anaconda3\\Lib\\site-packages\\sklearn\\base.py:1474: DataConversionWarning: A column-vector y was passed when a 1d array was expected. Please change the shape of y to (n_samples,), for example using ravel().\n",
      "  return fit_method(estimator, *args, **kwargs)\n"
     ]
    },
    {
     "name": "stdout",
     "output_type": "stream",
     "text": [
      "[CV 6/10] END max_depth=5, min_samples_leaf=5, min_samples_split=2, n_estimators=50;, score=0.108 total time=   0.7s\n"
     ]
    },
    {
     "name": "stderr",
     "output_type": "stream",
     "text": [
      "C:\\Users\\ben8h\\anaconda3\\Lib\\site-packages\\sklearn\\base.py:1474: DataConversionWarning: A column-vector y was passed when a 1d array was expected. Please change the shape of y to (n_samples,), for example using ravel().\n",
      "  return fit_method(estimator, *args, **kwargs)\n"
     ]
    },
    {
     "name": "stdout",
     "output_type": "stream",
     "text": [
      "[CV 7/10] END max_depth=5, min_samples_leaf=5, min_samples_split=2, n_estimators=50;, score=0.193 total time=   0.6s\n"
     ]
    },
    {
     "name": "stderr",
     "output_type": "stream",
     "text": [
      "C:\\Users\\ben8h\\anaconda3\\Lib\\site-packages\\sklearn\\base.py:1474: DataConversionWarning: A column-vector y was passed when a 1d array was expected. Please change the shape of y to (n_samples,), for example using ravel().\n",
      "  return fit_method(estimator, *args, **kwargs)\n"
     ]
    },
    {
     "name": "stdout",
     "output_type": "stream",
     "text": [
      "[CV 8/10] END max_depth=5, min_samples_leaf=5, min_samples_split=2, n_estimators=50;, score=0.103 total time=   0.6s\n"
     ]
    },
    {
     "name": "stderr",
     "output_type": "stream",
     "text": [
      "C:\\Users\\ben8h\\anaconda3\\Lib\\site-packages\\sklearn\\base.py:1474: DataConversionWarning: A column-vector y was passed when a 1d array was expected. Please change the shape of y to (n_samples,), for example using ravel().\n",
      "  return fit_method(estimator, *args, **kwargs)\n"
     ]
    },
    {
     "name": "stdout",
     "output_type": "stream",
     "text": [
      "[CV 9/10] END max_depth=5, min_samples_leaf=5, min_samples_split=2, n_estimators=50;, score=0.147 total time=   0.6s\n"
     ]
    },
    {
     "name": "stderr",
     "output_type": "stream",
     "text": [
      "C:\\Users\\ben8h\\anaconda3\\Lib\\site-packages\\sklearn\\base.py:1474: DataConversionWarning: A column-vector y was passed when a 1d array was expected. Please change the shape of y to (n_samples,), for example using ravel().\n",
      "  return fit_method(estimator, *args, **kwargs)\n"
     ]
    },
    {
     "name": "stdout",
     "output_type": "stream",
     "text": [
      "[CV 10/10] END max_depth=5, min_samples_leaf=5, min_samples_split=2, n_estimators=50;, score=0.156 total time=   0.6s\n"
     ]
    },
    {
     "name": "stderr",
     "output_type": "stream",
     "text": [
      "C:\\Users\\ben8h\\anaconda3\\Lib\\site-packages\\sklearn\\base.py:1474: DataConversionWarning: A column-vector y was passed when a 1d array was expected. Please change the shape of y to (n_samples,), for example using ravel().\n",
      "  return fit_method(estimator, *args, **kwargs)\n"
     ]
    },
    {
     "name": "stdout",
     "output_type": "stream",
     "text": [
      "[CV 1/10] END max_depth=5, min_samples_leaf=5, min_samples_split=2, n_estimators=100;, score=0.143 total time=   1.4s\n"
     ]
    },
    {
     "name": "stderr",
     "output_type": "stream",
     "text": [
      "C:\\Users\\ben8h\\anaconda3\\Lib\\site-packages\\sklearn\\base.py:1474: DataConversionWarning: A column-vector y was passed when a 1d array was expected. Please change the shape of y to (n_samples,), for example using ravel().\n",
      "  return fit_method(estimator, *args, **kwargs)\n"
     ]
    },
    {
     "name": "stdout",
     "output_type": "stream",
     "text": [
      "[CV 2/10] END max_depth=5, min_samples_leaf=5, min_samples_split=2, n_estimators=100;, score=0.147 total time=   1.4s\n"
     ]
    },
    {
     "name": "stderr",
     "output_type": "stream",
     "text": [
      "C:\\Users\\ben8h\\anaconda3\\Lib\\site-packages\\sklearn\\base.py:1474: DataConversionWarning: A column-vector y was passed when a 1d array was expected. Please change the shape of y to (n_samples,), for example using ravel().\n",
      "  return fit_method(estimator, *args, **kwargs)\n"
     ]
    },
    {
     "name": "stdout",
     "output_type": "stream",
     "text": [
      "[CV 3/10] END max_depth=5, min_samples_leaf=5, min_samples_split=2, n_estimators=100;, score=0.153 total time=   1.4s\n"
     ]
    },
    {
     "name": "stderr",
     "output_type": "stream",
     "text": [
      "C:\\Users\\ben8h\\anaconda3\\Lib\\site-packages\\sklearn\\base.py:1474: DataConversionWarning: A column-vector y was passed when a 1d array was expected. Please change the shape of y to (n_samples,), for example using ravel().\n",
      "  return fit_method(estimator, *args, **kwargs)\n"
     ]
    },
    {
     "name": "stdout",
     "output_type": "stream",
     "text": [
      "[CV 4/10] END max_depth=5, min_samples_leaf=5, min_samples_split=2, n_estimators=100;, score=0.173 total time=   1.4s\n"
     ]
    },
    {
     "name": "stderr",
     "output_type": "stream",
     "text": [
      "C:\\Users\\ben8h\\anaconda3\\Lib\\site-packages\\sklearn\\base.py:1474: DataConversionWarning: A column-vector y was passed when a 1d array was expected. Please change the shape of y to (n_samples,), for example using ravel().\n",
      "  return fit_method(estimator, *args, **kwargs)\n"
     ]
    },
    {
     "name": "stdout",
     "output_type": "stream",
     "text": [
      "[CV 5/10] END max_depth=5, min_samples_leaf=5, min_samples_split=2, n_estimators=100;, score=0.135 total time=   1.4s\n"
     ]
    },
    {
     "name": "stderr",
     "output_type": "stream",
     "text": [
      "C:\\Users\\ben8h\\anaconda3\\Lib\\site-packages\\sklearn\\base.py:1474: DataConversionWarning: A column-vector y was passed when a 1d array was expected. Please change the shape of y to (n_samples,), for example using ravel().\n",
      "  return fit_method(estimator, *args, **kwargs)\n"
     ]
    },
    {
     "name": "stdout",
     "output_type": "stream",
     "text": [
      "[CV 6/10] END max_depth=5, min_samples_leaf=5, min_samples_split=2, n_estimators=100;, score=0.100 total time=   1.4s\n"
     ]
    },
    {
     "name": "stderr",
     "output_type": "stream",
     "text": [
      "C:\\Users\\ben8h\\anaconda3\\Lib\\site-packages\\sklearn\\base.py:1474: DataConversionWarning: A column-vector y was passed when a 1d array was expected. Please change the shape of y to (n_samples,), for example using ravel().\n",
      "  return fit_method(estimator, *args, **kwargs)\n"
     ]
    },
    {
     "name": "stdout",
     "output_type": "stream",
     "text": [
      "[CV 7/10] END max_depth=5, min_samples_leaf=5, min_samples_split=2, n_estimators=100;, score=0.190 total time=   1.4s\n"
     ]
    },
    {
     "name": "stderr",
     "output_type": "stream",
     "text": [
      "C:\\Users\\ben8h\\anaconda3\\Lib\\site-packages\\sklearn\\base.py:1474: DataConversionWarning: A column-vector y was passed when a 1d array was expected. Please change the shape of y to (n_samples,), for example using ravel().\n",
      "  return fit_method(estimator, *args, **kwargs)\n"
     ]
    },
    {
     "name": "stdout",
     "output_type": "stream",
     "text": [
      "[CV 8/10] END max_depth=5, min_samples_leaf=5, min_samples_split=2, n_estimators=100;, score=0.109 total time=   1.4s\n"
     ]
    },
    {
     "name": "stderr",
     "output_type": "stream",
     "text": [
      "C:\\Users\\ben8h\\anaconda3\\Lib\\site-packages\\sklearn\\base.py:1474: DataConversionWarning: A column-vector y was passed when a 1d array was expected. Please change the shape of y to (n_samples,), for example using ravel().\n",
      "  return fit_method(estimator, *args, **kwargs)\n"
     ]
    },
    {
     "name": "stdout",
     "output_type": "stream",
     "text": [
      "[CV 9/10] END max_depth=5, min_samples_leaf=5, min_samples_split=2, n_estimators=100;, score=0.146 total time=   1.4s\n"
     ]
    },
    {
     "name": "stderr",
     "output_type": "stream",
     "text": [
      "C:\\Users\\ben8h\\anaconda3\\Lib\\site-packages\\sklearn\\base.py:1474: DataConversionWarning: A column-vector y was passed when a 1d array was expected. Please change the shape of y to (n_samples,), for example using ravel().\n",
      "  return fit_method(estimator, *args, **kwargs)\n"
     ]
    },
    {
     "name": "stdout",
     "output_type": "stream",
     "text": [
      "[CV 10/10] END max_depth=5, min_samples_leaf=5, min_samples_split=2, n_estimators=100;, score=0.162 total time=   1.4s\n"
     ]
    },
    {
     "name": "stderr",
     "output_type": "stream",
     "text": [
      "C:\\Users\\ben8h\\anaconda3\\Lib\\site-packages\\sklearn\\base.py:1474: DataConversionWarning: A column-vector y was passed when a 1d array was expected. Please change the shape of y to (n_samples,), for example using ravel().\n",
      "  return fit_method(estimator, *args, **kwargs)\n"
     ]
    },
    {
     "name": "stdout",
     "output_type": "stream",
     "text": [
      "[CV 1/10] END max_depth=5, min_samples_leaf=5, min_samples_split=2, n_estimators=200;, score=0.144 total time=   2.8s\n"
     ]
    },
    {
     "name": "stderr",
     "output_type": "stream",
     "text": [
      "C:\\Users\\ben8h\\anaconda3\\Lib\\site-packages\\sklearn\\base.py:1474: DataConversionWarning: A column-vector y was passed when a 1d array was expected. Please change the shape of y to (n_samples,), for example using ravel().\n",
      "  return fit_method(estimator, *args, **kwargs)\n"
     ]
    },
    {
     "name": "stdout",
     "output_type": "stream",
     "text": [
      "[CV 2/10] END max_depth=5, min_samples_leaf=5, min_samples_split=2, n_estimators=200;, score=0.149 total time=   2.8s\n"
     ]
    },
    {
     "name": "stderr",
     "output_type": "stream",
     "text": [
      "C:\\Users\\ben8h\\anaconda3\\Lib\\site-packages\\sklearn\\base.py:1474: DataConversionWarning: A column-vector y was passed when a 1d array was expected. Please change the shape of y to (n_samples,), for example using ravel().\n",
      "  return fit_method(estimator, *args, **kwargs)\n"
     ]
    },
    {
     "name": "stdout",
     "output_type": "stream",
     "text": [
      "[CV 3/10] END max_depth=5, min_samples_leaf=5, min_samples_split=2, n_estimators=200;, score=0.156 total time=   2.8s\n"
     ]
    },
    {
     "name": "stderr",
     "output_type": "stream",
     "text": [
      "C:\\Users\\ben8h\\anaconda3\\Lib\\site-packages\\sklearn\\base.py:1474: DataConversionWarning: A column-vector y was passed when a 1d array was expected. Please change the shape of y to (n_samples,), for example using ravel().\n",
      "  return fit_method(estimator, *args, **kwargs)\n"
     ]
    },
    {
     "name": "stdout",
     "output_type": "stream",
     "text": [
      "[CV 4/10] END max_depth=5, min_samples_leaf=5, min_samples_split=2, n_estimators=200;, score=0.173 total time=   2.8s\n"
     ]
    },
    {
     "name": "stderr",
     "output_type": "stream",
     "text": [
      "C:\\Users\\ben8h\\anaconda3\\Lib\\site-packages\\sklearn\\base.py:1474: DataConversionWarning: A column-vector y was passed when a 1d array was expected. Please change the shape of y to (n_samples,), for example using ravel().\n",
      "  return fit_method(estimator, *args, **kwargs)\n"
     ]
    },
    {
     "name": "stdout",
     "output_type": "stream",
     "text": [
      "[CV 5/10] END max_depth=5, min_samples_leaf=5, min_samples_split=2, n_estimators=200;, score=0.132 total time=   2.8s\n"
     ]
    },
    {
     "name": "stderr",
     "output_type": "stream",
     "text": [
      "C:\\Users\\ben8h\\anaconda3\\Lib\\site-packages\\sklearn\\base.py:1474: DataConversionWarning: A column-vector y was passed when a 1d array was expected. Please change the shape of y to (n_samples,), for example using ravel().\n",
      "  return fit_method(estimator, *args, **kwargs)\n"
     ]
    },
    {
     "name": "stdout",
     "output_type": "stream",
     "text": [
      "[CV 6/10] END max_depth=5, min_samples_leaf=5, min_samples_split=2, n_estimators=200;, score=0.107 total time=   2.8s\n"
     ]
    },
    {
     "name": "stderr",
     "output_type": "stream",
     "text": [
      "C:\\Users\\ben8h\\anaconda3\\Lib\\site-packages\\sklearn\\base.py:1474: DataConversionWarning: A column-vector y was passed when a 1d array was expected. Please change the shape of y to (n_samples,), for example using ravel().\n",
      "  return fit_method(estimator, *args, **kwargs)\n"
     ]
    },
    {
     "name": "stdout",
     "output_type": "stream",
     "text": [
      "[CV 7/10] END max_depth=5, min_samples_leaf=5, min_samples_split=2, n_estimators=200;, score=0.189 total time=   2.8s\n"
     ]
    },
    {
     "name": "stderr",
     "output_type": "stream",
     "text": [
      "C:\\Users\\ben8h\\anaconda3\\Lib\\site-packages\\sklearn\\base.py:1474: DataConversionWarning: A column-vector y was passed when a 1d array was expected. Please change the shape of y to (n_samples,), for example using ravel().\n",
      "  return fit_method(estimator, *args, **kwargs)\n"
     ]
    },
    {
     "name": "stdout",
     "output_type": "stream",
     "text": [
      "[CV 8/10] END max_depth=5, min_samples_leaf=5, min_samples_split=2, n_estimators=200;, score=0.106 total time=   2.8s\n"
     ]
    },
    {
     "name": "stderr",
     "output_type": "stream",
     "text": [
      "C:\\Users\\ben8h\\anaconda3\\Lib\\site-packages\\sklearn\\base.py:1474: DataConversionWarning: A column-vector y was passed when a 1d array was expected. Please change the shape of y to (n_samples,), for example using ravel().\n",
      "  return fit_method(estimator, *args, **kwargs)\n"
     ]
    },
    {
     "name": "stdout",
     "output_type": "stream",
     "text": [
      "[CV 9/10] END max_depth=5, min_samples_leaf=5, min_samples_split=2, n_estimators=200;, score=0.147 total time=   2.8s\n"
     ]
    },
    {
     "name": "stderr",
     "output_type": "stream",
     "text": [
      "C:\\Users\\ben8h\\anaconda3\\Lib\\site-packages\\sklearn\\base.py:1474: DataConversionWarning: A column-vector y was passed when a 1d array was expected. Please change the shape of y to (n_samples,), for example using ravel().\n",
      "  return fit_method(estimator, *args, **kwargs)\n"
     ]
    },
    {
     "name": "stdout",
     "output_type": "stream",
     "text": [
      "[CV 10/10] END max_depth=5, min_samples_leaf=5, min_samples_split=2, n_estimators=200;, score=0.164 total time=   2.8s\n"
     ]
    },
    {
     "name": "stderr",
     "output_type": "stream",
     "text": [
      "C:\\Users\\ben8h\\anaconda3\\Lib\\site-packages\\sklearn\\base.py:1474: DataConversionWarning: A column-vector y was passed when a 1d array was expected. Please change the shape of y to (n_samples,), for example using ravel().\n",
      "  return fit_method(estimator, *args, **kwargs)\n"
     ]
    },
    {
     "name": "stdout",
     "output_type": "stream",
     "text": [
      "[CV 1/10] END max_depth=5, min_samples_leaf=5, min_samples_split=5, n_estimators=50;, score=0.145 total time=   0.6s\n"
     ]
    },
    {
     "name": "stderr",
     "output_type": "stream",
     "text": [
      "C:\\Users\\ben8h\\anaconda3\\Lib\\site-packages\\sklearn\\base.py:1474: DataConversionWarning: A column-vector y was passed when a 1d array was expected. Please change the shape of y to (n_samples,), for example using ravel().\n",
      "  return fit_method(estimator, *args, **kwargs)\n"
     ]
    },
    {
     "name": "stdout",
     "output_type": "stream",
     "text": [
      "[CV 2/10] END max_depth=5, min_samples_leaf=5, min_samples_split=5, n_estimators=50;, score=0.143 total time=   0.6s\n"
     ]
    },
    {
     "name": "stderr",
     "output_type": "stream",
     "text": [
      "C:\\Users\\ben8h\\anaconda3\\Lib\\site-packages\\sklearn\\base.py:1474: DataConversionWarning: A column-vector y was passed when a 1d array was expected. Please change the shape of y to (n_samples,), for example using ravel().\n",
      "  return fit_method(estimator, *args, **kwargs)\n"
     ]
    },
    {
     "name": "stdout",
     "output_type": "stream",
     "text": [
      "[CV 3/10] END max_depth=5, min_samples_leaf=5, min_samples_split=5, n_estimators=50;, score=0.148 total time=   0.6s\n"
     ]
    },
    {
     "name": "stderr",
     "output_type": "stream",
     "text": [
      "C:\\Users\\ben8h\\anaconda3\\Lib\\site-packages\\sklearn\\base.py:1474: DataConversionWarning: A column-vector y was passed when a 1d array was expected. Please change the shape of y to (n_samples,), for example using ravel().\n",
      "  return fit_method(estimator, *args, **kwargs)\n"
     ]
    },
    {
     "name": "stdout",
     "output_type": "stream",
     "text": [
      "[CV 4/10] END max_depth=5, min_samples_leaf=5, min_samples_split=5, n_estimators=50;, score=0.175 total time=   0.6s\n"
     ]
    },
    {
     "name": "stderr",
     "output_type": "stream",
     "text": [
      "C:\\Users\\ben8h\\anaconda3\\Lib\\site-packages\\sklearn\\base.py:1474: DataConversionWarning: A column-vector y was passed when a 1d array was expected. Please change the shape of y to (n_samples,), for example using ravel().\n",
      "  return fit_method(estimator, *args, **kwargs)\n"
     ]
    },
    {
     "name": "stdout",
     "output_type": "stream",
     "text": [
      "[CV 5/10] END max_depth=5, min_samples_leaf=5, min_samples_split=5, n_estimators=50;, score=0.135 total time=   0.6s\n"
     ]
    },
    {
     "name": "stderr",
     "output_type": "stream",
     "text": [
      "C:\\Users\\ben8h\\anaconda3\\Lib\\site-packages\\sklearn\\base.py:1474: DataConversionWarning: A column-vector y was passed when a 1d array was expected. Please change the shape of y to (n_samples,), for example using ravel().\n",
      "  return fit_method(estimator, *args, **kwargs)\n"
     ]
    },
    {
     "name": "stdout",
     "output_type": "stream",
     "text": [
      "[CV 6/10] END max_depth=5, min_samples_leaf=5, min_samples_split=5, n_estimators=50;, score=0.092 total time=   0.6s\n"
     ]
    },
    {
     "name": "stderr",
     "output_type": "stream",
     "text": [
      "C:\\Users\\ben8h\\anaconda3\\Lib\\site-packages\\sklearn\\base.py:1474: DataConversionWarning: A column-vector y was passed when a 1d array was expected. Please change the shape of y to (n_samples,), for example using ravel().\n",
      "  return fit_method(estimator, *args, **kwargs)\n"
     ]
    },
    {
     "name": "stdout",
     "output_type": "stream",
     "text": [
      "[CV 7/10] END max_depth=5, min_samples_leaf=5, min_samples_split=5, n_estimators=50;, score=0.185 total time=   0.6s\n"
     ]
    },
    {
     "name": "stderr",
     "output_type": "stream",
     "text": [
      "C:\\Users\\ben8h\\anaconda3\\Lib\\site-packages\\sklearn\\base.py:1474: DataConversionWarning: A column-vector y was passed when a 1d array was expected. Please change the shape of y to (n_samples,), for example using ravel().\n",
      "  return fit_method(estimator, *args, **kwargs)\n"
     ]
    },
    {
     "name": "stdout",
     "output_type": "stream",
     "text": [
      "[CV 8/10] END max_depth=5, min_samples_leaf=5, min_samples_split=5, n_estimators=50;, score=0.104 total time=   0.6s\n"
     ]
    },
    {
     "name": "stderr",
     "output_type": "stream",
     "text": [
      "C:\\Users\\ben8h\\anaconda3\\Lib\\site-packages\\sklearn\\base.py:1474: DataConversionWarning: A column-vector y was passed when a 1d array was expected. Please change the shape of y to (n_samples,), for example using ravel().\n",
      "  return fit_method(estimator, *args, **kwargs)\n"
     ]
    },
    {
     "name": "stdout",
     "output_type": "stream",
     "text": [
      "[CV 9/10] END max_depth=5, min_samples_leaf=5, min_samples_split=5, n_estimators=50;, score=0.149 total time=   0.6s\n"
     ]
    },
    {
     "name": "stderr",
     "output_type": "stream",
     "text": [
      "C:\\Users\\ben8h\\anaconda3\\Lib\\site-packages\\sklearn\\base.py:1474: DataConversionWarning: A column-vector y was passed when a 1d array was expected. Please change the shape of y to (n_samples,), for example using ravel().\n",
      "  return fit_method(estimator, *args, **kwargs)\n"
     ]
    },
    {
     "name": "stdout",
     "output_type": "stream",
     "text": [
      "[CV 10/10] END max_depth=5, min_samples_leaf=5, min_samples_split=5, n_estimators=50;, score=0.167 total time=   0.6s\n"
     ]
    },
    {
     "name": "stderr",
     "output_type": "stream",
     "text": [
      "C:\\Users\\ben8h\\anaconda3\\Lib\\site-packages\\sklearn\\base.py:1474: DataConversionWarning: A column-vector y was passed when a 1d array was expected. Please change the shape of y to (n_samples,), for example using ravel().\n",
      "  return fit_method(estimator, *args, **kwargs)\n"
     ]
    },
    {
     "name": "stdout",
     "output_type": "stream",
     "text": [
      "[CV 1/10] END max_depth=5, min_samples_leaf=5, min_samples_split=5, n_estimators=100;, score=0.144 total time=   1.4s\n"
     ]
    },
    {
     "name": "stderr",
     "output_type": "stream",
     "text": [
      "C:\\Users\\ben8h\\anaconda3\\Lib\\site-packages\\sklearn\\base.py:1474: DataConversionWarning: A column-vector y was passed when a 1d array was expected. Please change the shape of y to (n_samples,), for example using ravel().\n",
      "  return fit_method(estimator, *args, **kwargs)\n"
     ]
    },
    {
     "name": "stdout",
     "output_type": "stream",
     "text": [
      "[CV 2/10] END max_depth=5, min_samples_leaf=5, min_samples_split=5, n_estimators=100;, score=0.143 total time=   1.4s\n"
     ]
    },
    {
     "name": "stderr",
     "output_type": "stream",
     "text": [
      "C:\\Users\\ben8h\\anaconda3\\Lib\\site-packages\\sklearn\\base.py:1474: DataConversionWarning: A column-vector y was passed when a 1d array was expected. Please change the shape of y to (n_samples,), for example using ravel().\n",
      "  return fit_method(estimator, *args, **kwargs)\n"
     ]
    },
    {
     "name": "stdout",
     "output_type": "stream",
     "text": [
      "[CV 3/10] END max_depth=5, min_samples_leaf=5, min_samples_split=5, n_estimators=100;, score=0.151 total time=   1.4s\n"
     ]
    },
    {
     "name": "stderr",
     "output_type": "stream",
     "text": [
      "C:\\Users\\ben8h\\anaconda3\\Lib\\site-packages\\sklearn\\base.py:1474: DataConversionWarning: A column-vector y was passed when a 1d array was expected. Please change the shape of y to (n_samples,), for example using ravel().\n",
      "  return fit_method(estimator, *args, **kwargs)\n"
     ]
    },
    {
     "name": "stdout",
     "output_type": "stream",
     "text": [
      "[CV 4/10] END max_depth=5, min_samples_leaf=5, min_samples_split=5, n_estimators=100;, score=0.171 total time=   1.4s\n"
     ]
    },
    {
     "name": "stderr",
     "output_type": "stream",
     "text": [
      "C:\\Users\\ben8h\\anaconda3\\Lib\\site-packages\\sklearn\\base.py:1474: DataConversionWarning: A column-vector y was passed when a 1d array was expected. Please change the shape of y to (n_samples,), for example using ravel().\n",
      "  return fit_method(estimator, *args, **kwargs)\n"
     ]
    },
    {
     "name": "stdout",
     "output_type": "stream",
     "text": [
      "[CV 5/10] END max_depth=5, min_samples_leaf=5, min_samples_split=5, n_estimators=100;, score=0.133 total time=   1.4s\n"
     ]
    },
    {
     "name": "stderr",
     "output_type": "stream",
     "text": [
      "C:\\Users\\ben8h\\anaconda3\\Lib\\site-packages\\sklearn\\base.py:1474: DataConversionWarning: A column-vector y was passed when a 1d array was expected. Please change the shape of y to (n_samples,), for example using ravel().\n",
      "  return fit_method(estimator, *args, **kwargs)\n"
     ]
    },
    {
     "name": "stdout",
     "output_type": "stream",
     "text": [
      "[CV 6/10] END max_depth=5, min_samples_leaf=5, min_samples_split=5, n_estimators=100;, score=0.102 total time=   1.4s\n"
     ]
    },
    {
     "name": "stderr",
     "output_type": "stream",
     "text": [
      "C:\\Users\\ben8h\\anaconda3\\Lib\\site-packages\\sklearn\\base.py:1474: DataConversionWarning: A column-vector y was passed when a 1d array was expected. Please change the shape of y to (n_samples,), for example using ravel().\n",
      "  return fit_method(estimator, *args, **kwargs)\n"
     ]
    },
    {
     "name": "stdout",
     "output_type": "stream",
     "text": [
      "[CV 7/10] END max_depth=5, min_samples_leaf=5, min_samples_split=5, n_estimators=100;, score=0.187 total time=   1.3s\n"
     ]
    },
    {
     "name": "stderr",
     "output_type": "stream",
     "text": [
      "C:\\Users\\ben8h\\anaconda3\\Lib\\site-packages\\sklearn\\base.py:1474: DataConversionWarning: A column-vector y was passed when a 1d array was expected. Please change the shape of y to (n_samples,), for example using ravel().\n",
      "  return fit_method(estimator, *args, **kwargs)\n"
     ]
    },
    {
     "name": "stdout",
     "output_type": "stream",
     "text": [
      "[CV 8/10] END max_depth=5, min_samples_leaf=5, min_samples_split=5, n_estimators=100;, score=0.108 total time=   1.4s\n"
     ]
    },
    {
     "name": "stderr",
     "output_type": "stream",
     "text": [
      "C:\\Users\\ben8h\\anaconda3\\Lib\\site-packages\\sklearn\\base.py:1474: DataConversionWarning: A column-vector y was passed when a 1d array was expected. Please change the shape of y to (n_samples,), for example using ravel().\n",
      "  return fit_method(estimator, *args, **kwargs)\n"
     ]
    },
    {
     "name": "stdout",
     "output_type": "stream",
     "text": [
      "[CV 9/10] END max_depth=5, min_samples_leaf=5, min_samples_split=5, n_estimators=100;, score=0.145 total time=   1.3s\n"
     ]
    },
    {
     "name": "stderr",
     "output_type": "stream",
     "text": [
      "C:\\Users\\ben8h\\anaconda3\\Lib\\site-packages\\sklearn\\base.py:1474: DataConversionWarning: A column-vector y was passed when a 1d array was expected. Please change the shape of y to (n_samples,), for example using ravel().\n",
      "  return fit_method(estimator, *args, **kwargs)\n"
     ]
    },
    {
     "name": "stdout",
     "output_type": "stream",
     "text": [
      "[CV 10/10] END max_depth=5, min_samples_leaf=5, min_samples_split=5, n_estimators=100;, score=0.166 total time=   1.4s\n"
     ]
    },
    {
     "name": "stderr",
     "output_type": "stream",
     "text": [
      "C:\\Users\\ben8h\\anaconda3\\Lib\\site-packages\\sklearn\\base.py:1474: DataConversionWarning: A column-vector y was passed when a 1d array was expected. Please change the shape of y to (n_samples,), for example using ravel().\n",
      "  return fit_method(estimator, *args, **kwargs)\n"
     ]
    },
    {
     "name": "stdout",
     "output_type": "stream",
     "text": [
      "[CV 1/10] END max_depth=5, min_samples_leaf=5, min_samples_split=5, n_estimators=200;, score=0.146 total time=   2.8s\n"
     ]
    },
    {
     "name": "stderr",
     "output_type": "stream",
     "text": [
      "C:\\Users\\ben8h\\anaconda3\\Lib\\site-packages\\sklearn\\base.py:1474: DataConversionWarning: A column-vector y was passed when a 1d array was expected. Please change the shape of y to (n_samples,), for example using ravel().\n",
      "  return fit_method(estimator, *args, **kwargs)\n"
     ]
    },
    {
     "name": "stdout",
     "output_type": "stream",
     "text": [
      "[CV 2/10] END max_depth=5, min_samples_leaf=5, min_samples_split=5, n_estimators=200;, score=0.148 total time=   2.8s\n"
     ]
    },
    {
     "name": "stderr",
     "output_type": "stream",
     "text": [
      "C:\\Users\\ben8h\\anaconda3\\Lib\\site-packages\\sklearn\\base.py:1474: DataConversionWarning: A column-vector y was passed when a 1d array was expected. Please change the shape of y to (n_samples,), for example using ravel().\n",
      "  return fit_method(estimator, *args, **kwargs)\n"
     ]
    },
    {
     "name": "stdout",
     "output_type": "stream",
     "text": [
      "[CV 3/10] END max_depth=5, min_samples_leaf=5, min_samples_split=5, n_estimators=200;, score=0.155 total time=   2.8s\n"
     ]
    },
    {
     "name": "stderr",
     "output_type": "stream",
     "text": [
      "C:\\Users\\ben8h\\anaconda3\\Lib\\site-packages\\sklearn\\base.py:1474: DataConversionWarning: A column-vector y was passed when a 1d array was expected. Please change the shape of y to (n_samples,), for example using ravel().\n",
      "  return fit_method(estimator, *args, **kwargs)\n"
     ]
    },
    {
     "name": "stdout",
     "output_type": "stream",
     "text": [
      "[CV 4/10] END max_depth=5, min_samples_leaf=5, min_samples_split=5, n_estimators=200;, score=0.171 total time=   2.9s\n"
     ]
    },
    {
     "name": "stderr",
     "output_type": "stream",
     "text": [
      "C:\\Users\\ben8h\\anaconda3\\Lib\\site-packages\\sklearn\\base.py:1474: DataConversionWarning: A column-vector y was passed when a 1d array was expected. Please change the shape of y to (n_samples,), for example using ravel().\n",
      "  return fit_method(estimator, *args, **kwargs)\n"
     ]
    },
    {
     "name": "stdout",
     "output_type": "stream",
     "text": [
      "[CV 5/10] END max_depth=5, min_samples_leaf=5, min_samples_split=5, n_estimators=200;, score=0.131 total time=   2.8s\n"
     ]
    },
    {
     "name": "stderr",
     "output_type": "stream",
     "text": [
      "C:\\Users\\ben8h\\anaconda3\\Lib\\site-packages\\sklearn\\base.py:1474: DataConversionWarning: A column-vector y was passed when a 1d array was expected. Please change the shape of y to (n_samples,), for example using ravel().\n",
      "  return fit_method(estimator, *args, **kwargs)\n"
     ]
    },
    {
     "name": "stdout",
     "output_type": "stream",
     "text": [
      "[CV 6/10] END max_depth=5, min_samples_leaf=5, min_samples_split=5, n_estimators=200;, score=0.107 total time=   2.8s\n"
     ]
    },
    {
     "name": "stderr",
     "output_type": "stream",
     "text": [
      "C:\\Users\\ben8h\\anaconda3\\Lib\\site-packages\\sklearn\\base.py:1474: DataConversionWarning: A column-vector y was passed when a 1d array was expected. Please change the shape of y to (n_samples,), for example using ravel().\n",
      "  return fit_method(estimator, *args, **kwargs)\n"
     ]
    },
    {
     "name": "stdout",
     "output_type": "stream",
     "text": [
      "[CV 7/10] END max_depth=5, min_samples_leaf=5, min_samples_split=5, n_estimators=200;, score=0.192 total time=   2.8s\n"
     ]
    },
    {
     "name": "stderr",
     "output_type": "stream",
     "text": [
      "C:\\Users\\ben8h\\anaconda3\\Lib\\site-packages\\sklearn\\base.py:1474: DataConversionWarning: A column-vector y was passed when a 1d array was expected. Please change the shape of y to (n_samples,), for example using ravel().\n",
      "  return fit_method(estimator, *args, **kwargs)\n"
     ]
    },
    {
     "name": "stdout",
     "output_type": "stream",
     "text": [
      "[CV 8/10] END max_depth=5, min_samples_leaf=5, min_samples_split=5, n_estimators=200;, score=0.107 total time=   2.8s\n"
     ]
    },
    {
     "name": "stderr",
     "output_type": "stream",
     "text": [
      "C:\\Users\\ben8h\\anaconda3\\Lib\\site-packages\\sklearn\\base.py:1474: DataConversionWarning: A column-vector y was passed when a 1d array was expected. Please change the shape of y to (n_samples,), for example using ravel().\n",
      "  return fit_method(estimator, *args, **kwargs)\n"
     ]
    },
    {
     "name": "stdout",
     "output_type": "stream",
     "text": [
      "[CV 9/10] END max_depth=5, min_samples_leaf=5, min_samples_split=5, n_estimators=200;, score=0.144 total time=   2.8s\n"
     ]
    },
    {
     "name": "stderr",
     "output_type": "stream",
     "text": [
      "C:\\Users\\ben8h\\anaconda3\\Lib\\site-packages\\sklearn\\base.py:1474: DataConversionWarning: A column-vector y was passed when a 1d array was expected. Please change the shape of y to (n_samples,), for example using ravel().\n",
      "  return fit_method(estimator, *args, **kwargs)\n"
     ]
    },
    {
     "name": "stdout",
     "output_type": "stream",
     "text": [
      "[CV 10/10] END max_depth=5, min_samples_leaf=5, min_samples_split=5, n_estimators=200;, score=0.164 total time=   2.8s\n"
     ]
    },
    {
     "name": "stderr",
     "output_type": "stream",
     "text": [
      "C:\\Users\\ben8h\\anaconda3\\Lib\\site-packages\\sklearn\\base.py:1474: DataConversionWarning: A column-vector y was passed when a 1d array was expected. Please change the shape of y to (n_samples,), for example using ravel().\n",
      "  return fit_method(estimator, *args, **kwargs)\n"
     ]
    },
    {
     "name": "stdout",
     "output_type": "stream",
     "text": [
      "[CV 1/10] END max_depth=5, min_samples_leaf=5, min_samples_split=10, n_estimators=50;, score=0.144 total time=   0.6s\n"
     ]
    },
    {
     "name": "stderr",
     "output_type": "stream",
     "text": [
      "C:\\Users\\ben8h\\anaconda3\\Lib\\site-packages\\sklearn\\base.py:1474: DataConversionWarning: A column-vector y was passed when a 1d array was expected. Please change the shape of y to (n_samples,), for example using ravel().\n",
      "  return fit_method(estimator, *args, **kwargs)\n"
     ]
    },
    {
     "name": "stdout",
     "output_type": "stream",
     "text": [
      "[CV 2/10] END max_depth=5, min_samples_leaf=5, min_samples_split=10, n_estimators=50;, score=0.145 total time=   0.6s\n"
     ]
    },
    {
     "name": "stderr",
     "output_type": "stream",
     "text": [
      "C:\\Users\\ben8h\\anaconda3\\Lib\\site-packages\\sklearn\\base.py:1474: DataConversionWarning: A column-vector y was passed when a 1d array was expected. Please change the shape of y to (n_samples,), for example using ravel().\n",
      "  return fit_method(estimator, *args, **kwargs)\n"
     ]
    },
    {
     "name": "stdout",
     "output_type": "stream",
     "text": [
      "[CV 3/10] END max_depth=5, min_samples_leaf=5, min_samples_split=10, n_estimators=50;, score=0.150 total time=   0.6s\n"
     ]
    },
    {
     "name": "stderr",
     "output_type": "stream",
     "text": [
      "C:\\Users\\ben8h\\anaconda3\\Lib\\site-packages\\sklearn\\base.py:1474: DataConversionWarning: A column-vector y was passed when a 1d array was expected. Please change the shape of y to (n_samples,), for example using ravel().\n",
      "  return fit_method(estimator, *args, **kwargs)\n"
     ]
    },
    {
     "name": "stdout",
     "output_type": "stream",
     "text": [
      "[CV 4/10] END max_depth=5, min_samples_leaf=5, min_samples_split=10, n_estimators=50;, score=0.170 total time=   0.6s\n"
     ]
    },
    {
     "name": "stderr",
     "output_type": "stream",
     "text": [
      "C:\\Users\\ben8h\\anaconda3\\Lib\\site-packages\\sklearn\\base.py:1474: DataConversionWarning: A column-vector y was passed when a 1d array was expected. Please change the shape of y to (n_samples,), for example using ravel().\n",
      "  return fit_method(estimator, *args, **kwargs)\n"
     ]
    },
    {
     "name": "stdout",
     "output_type": "stream",
     "text": [
      "[CV 5/10] END max_depth=5, min_samples_leaf=5, min_samples_split=10, n_estimators=50;, score=0.127 total time=   0.6s\n"
     ]
    },
    {
     "name": "stderr",
     "output_type": "stream",
     "text": [
      "C:\\Users\\ben8h\\anaconda3\\Lib\\site-packages\\sklearn\\base.py:1474: DataConversionWarning: A column-vector y was passed when a 1d array was expected. Please change the shape of y to (n_samples,), for example using ravel().\n",
      "  return fit_method(estimator, *args, **kwargs)\n"
     ]
    },
    {
     "name": "stdout",
     "output_type": "stream",
     "text": [
      "[CV 6/10] END max_depth=5, min_samples_leaf=5, min_samples_split=10, n_estimators=50;, score=0.092 total time=   0.6s\n"
     ]
    },
    {
     "name": "stderr",
     "output_type": "stream",
     "text": [
      "C:\\Users\\ben8h\\anaconda3\\Lib\\site-packages\\sklearn\\base.py:1474: DataConversionWarning: A column-vector y was passed when a 1d array was expected. Please change the shape of y to (n_samples,), for example using ravel().\n",
      "  return fit_method(estimator, *args, **kwargs)\n"
     ]
    },
    {
     "name": "stdout",
     "output_type": "stream",
     "text": [
      "[CV 7/10] END max_depth=5, min_samples_leaf=5, min_samples_split=10, n_estimators=50;, score=0.189 total time=   0.6s\n"
     ]
    },
    {
     "name": "stderr",
     "output_type": "stream",
     "text": [
      "C:\\Users\\ben8h\\anaconda3\\Lib\\site-packages\\sklearn\\base.py:1474: DataConversionWarning: A column-vector y was passed when a 1d array was expected. Please change the shape of y to (n_samples,), for example using ravel().\n",
      "  return fit_method(estimator, *args, **kwargs)\n"
     ]
    },
    {
     "name": "stdout",
     "output_type": "stream",
     "text": [
      "[CV 8/10] END max_depth=5, min_samples_leaf=5, min_samples_split=10, n_estimators=50;, score=0.106 total time=   0.6s\n"
     ]
    },
    {
     "name": "stderr",
     "output_type": "stream",
     "text": [
      "C:\\Users\\ben8h\\anaconda3\\Lib\\site-packages\\sklearn\\base.py:1474: DataConversionWarning: A column-vector y was passed when a 1d array was expected. Please change the shape of y to (n_samples,), for example using ravel().\n",
      "  return fit_method(estimator, *args, **kwargs)\n"
     ]
    },
    {
     "name": "stdout",
     "output_type": "stream",
     "text": [
      "[CV 9/10] END max_depth=5, min_samples_leaf=5, min_samples_split=10, n_estimators=50;, score=0.147 total time=   0.6s\n"
     ]
    },
    {
     "name": "stderr",
     "output_type": "stream",
     "text": [
      "C:\\Users\\ben8h\\anaconda3\\Lib\\site-packages\\sklearn\\base.py:1474: DataConversionWarning: A column-vector y was passed when a 1d array was expected. Please change the shape of y to (n_samples,), for example using ravel().\n",
      "  return fit_method(estimator, *args, **kwargs)\n"
     ]
    },
    {
     "name": "stdout",
     "output_type": "stream",
     "text": [
      "[CV 10/10] END max_depth=5, min_samples_leaf=5, min_samples_split=10, n_estimators=50;, score=0.161 total time=   0.6s\n"
     ]
    },
    {
     "name": "stderr",
     "output_type": "stream",
     "text": [
      "C:\\Users\\ben8h\\anaconda3\\Lib\\site-packages\\sklearn\\base.py:1474: DataConversionWarning: A column-vector y was passed when a 1d array was expected. Please change the shape of y to (n_samples,), for example using ravel().\n",
      "  return fit_method(estimator, *args, **kwargs)\n"
     ]
    },
    {
     "name": "stdout",
     "output_type": "stream",
     "text": [
      "[CV 1/10] END max_depth=5, min_samples_leaf=5, min_samples_split=10, n_estimators=100;, score=0.143 total time=   1.4s\n"
     ]
    },
    {
     "name": "stderr",
     "output_type": "stream",
     "text": [
      "C:\\Users\\ben8h\\anaconda3\\Lib\\site-packages\\sklearn\\base.py:1474: DataConversionWarning: A column-vector y was passed when a 1d array was expected. Please change the shape of y to (n_samples,), for example using ravel().\n",
      "  return fit_method(estimator, *args, **kwargs)\n"
     ]
    },
    {
     "name": "stdout",
     "output_type": "stream",
     "text": [
      "[CV 2/10] END max_depth=5, min_samples_leaf=5, min_samples_split=10, n_estimators=100;, score=0.145 total time=   1.3s\n"
     ]
    },
    {
     "name": "stderr",
     "output_type": "stream",
     "text": [
      "C:\\Users\\ben8h\\anaconda3\\Lib\\site-packages\\sklearn\\base.py:1474: DataConversionWarning: A column-vector y was passed when a 1d array was expected. Please change the shape of y to (n_samples,), for example using ravel().\n",
      "  return fit_method(estimator, *args, **kwargs)\n"
     ]
    },
    {
     "name": "stdout",
     "output_type": "stream",
     "text": [
      "[CV 3/10] END max_depth=5, min_samples_leaf=5, min_samples_split=10, n_estimators=100;, score=0.156 total time=   1.4s\n"
     ]
    },
    {
     "name": "stderr",
     "output_type": "stream",
     "text": [
      "C:\\Users\\ben8h\\anaconda3\\Lib\\site-packages\\sklearn\\base.py:1474: DataConversionWarning: A column-vector y was passed when a 1d array was expected. Please change the shape of y to (n_samples,), for example using ravel().\n",
      "  return fit_method(estimator, *args, **kwargs)\n"
     ]
    },
    {
     "name": "stdout",
     "output_type": "stream",
     "text": [
      "[CV 4/10] END max_depth=5, min_samples_leaf=5, min_samples_split=10, n_estimators=100;, score=0.175 total time=   1.4s\n"
     ]
    },
    {
     "name": "stderr",
     "output_type": "stream",
     "text": [
      "C:\\Users\\ben8h\\anaconda3\\Lib\\site-packages\\sklearn\\base.py:1474: DataConversionWarning: A column-vector y was passed when a 1d array was expected. Please change the shape of y to (n_samples,), for example using ravel().\n",
      "  return fit_method(estimator, *args, **kwargs)\n"
     ]
    },
    {
     "name": "stdout",
     "output_type": "stream",
     "text": [
      "[CV 5/10] END max_depth=5, min_samples_leaf=5, min_samples_split=10, n_estimators=100;, score=0.132 total time=   1.4s\n"
     ]
    },
    {
     "name": "stderr",
     "output_type": "stream",
     "text": [
      "C:\\Users\\ben8h\\anaconda3\\Lib\\site-packages\\sklearn\\base.py:1474: DataConversionWarning: A column-vector y was passed when a 1d array was expected. Please change the shape of y to (n_samples,), for example using ravel().\n",
      "  return fit_method(estimator, *args, **kwargs)\n"
     ]
    },
    {
     "name": "stdout",
     "output_type": "stream",
     "text": [
      "[CV 6/10] END max_depth=5, min_samples_leaf=5, min_samples_split=10, n_estimators=100;, score=0.105 total time=   1.3s\n"
     ]
    },
    {
     "name": "stderr",
     "output_type": "stream",
     "text": [
      "C:\\Users\\ben8h\\anaconda3\\Lib\\site-packages\\sklearn\\base.py:1474: DataConversionWarning: A column-vector y was passed when a 1d array was expected. Please change the shape of y to (n_samples,), for example using ravel().\n",
      "  return fit_method(estimator, *args, **kwargs)\n"
     ]
    },
    {
     "name": "stdout",
     "output_type": "stream",
     "text": [
      "[CV 7/10] END max_depth=5, min_samples_leaf=5, min_samples_split=10, n_estimators=100;, score=0.189 total time=   1.4s\n"
     ]
    },
    {
     "name": "stderr",
     "output_type": "stream",
     "text": [
      "C:\\Users\\ben8h\\anaconda3\\Lib\\site-packages\\sklearn\\base.py:1474: DataConversionWarning: A column-vector y was passed when a 1d array was expected. Please change the shape of y to (n_samples,), for example using ravel().\n",
      "  return fit_method(estimator, *args, **kwargs)\n"
     ]
    },
    {
     "name": "stdout",
     "output_type": "stream",
     "text": [
      "[CV 8/10] END max_depth=5, min_samples_leaf=5, min_samples_split=10, n_estimators=100;, score=0.110 total time=   1.4s\n"
     ]
    },
    {
     "name": "stderr",
     "output_type": "stream",
     "text": [
      "C:\\Users\\ben8h\\anaconda3\\Lib\\site-packages\\sklearn\\base.py:1474: DataConversionWarning: A column-vector y was passed when a 1d array was expected. Please change the shape of y to (n_samples,), for example using ravel().\n",
      "  return fit_method(estimator, *args, **kwargs)\n"
     ]
    },
    {
     "name": "stdout",
     "output_type": "stream",
     "text": [
      "[CV 9/10] END max_depth=5, min_samples_leaf=5, min_samples_split=10, n_estimators=100;, score=0.147 total time=   1.4s\n"
     ]
    },
    {
     "name": "stderr",
     "output_type": "stream",
     "text": [
      "C:\\Users\\ben8h\\anaconda3\\Lib\\site-packages\\sklearn\\base.py:1474: DataConversionWarning: A column-vector y was passed when a 1d array was expected. Please change the shape of y to (n_samples,), for example using ravel().\n",
      "  return fit_method(estimator, *args, **kwargs)\n"
     ]
    },
    {
     "name": "stdout",
     "output_type": "stream",
     "text": [
      "[CV 10/10] END max_depth=5, min_samples_leaf=5, min_samples_split=10, n_estimators=100;, score=0.161 total time=   1.4s\n"
     ]
    },
    {
     "name": "stderr",
     "output_type": "stream",
     "text": [
      "C:\\Users\\ben8h\\anaconda3\\Lib\\site-packages\\sklearn\\base.py:1474: DataConversionWarning: A column-vector y was passed when a 1d array was expected. Please change the shape of y to (n_samples,), for example using ravel().\n",
      "  return fit_method(estimator, *args, **kwargs)\n"
     ]
    },
    {
     "name": "stdout",
     "output_type": "stream",
     "text": [
      "[CV 1/10] END max_depth=5, min_samples_leaf=5, min_samples_split=10, n_estimators=200;, score=0.145 total time=   2.9s\n"
     ]
    },
    {
     "name": "stderr",
     "output_type": "stream",
     "text": [
      "C:\\Users\\ben8h\\anaconda3\\Lib\\site-packages\\sklearn\\base.py:1474: DataConversionWarning: A column-vector y was passed when a 1d array was expected. Please change the shape of y to (n_samples,), for example using ravel().\n",
      "  return fit_method(estimator, *args, **kwargs)\n"
     ]
    },
    {
     "name": "stdout",
     "output_type": "stream",
     "text": [
      "[CV 2/10] END max_depth=5, min_samples_leaf=5, min_samples_split=10, n_estimators=200;, score=0.147 total time=   2.8s\n"
     ]
    },
    {
     "name": "stderr",
     "output_type": "stream",
     "text": [
      "C:\\Users\\ben8h\\anaconda3\\Lib\\site-packages\\sklearn\\base.py:1474: DataConversionWarning: A column-vector y was passed when a 1d array was expected. Please change the shape of y to (n_samples,), for example using ravel().\n",
      "  return fit_method(estimator, *args, **kwargs)\n"
     ]
    },
    {
     "name": "stdout",
     "output_type": "stream",
     "text": [
      "[CV 3/10] END max_depth=5, min_samples_leaf=5, min_samples_split=10, n_estimators=200;, score=0.154 total time=   2.8s\n"
     ]
    },
    {
     "name": "stderr",
     "output_type": "stream",
     "text": [
      "C:\\Users\\ben8h\\anaconda3\\Lib\\site-packages\\sklearn\\base.py:1474: DataConversionWarning: A column-vector y was passed when a 1d array was expected. Please change the shape of y to (n_samples,), for example using ravel().\n",
      "  return fit_method(estimator, *args, **kwargs)\n"
     ]
    },
    {
     "name": "stdout",
     "output_type": "stream",
     "text": [
      "[CV 4/10] END max_depth=5, min_samples_leaf=5, min_samples_split=10, n_estimators=200;, score=0.175 total time=   2.8s\n"
     ]
    },
    {
     "name": "stderr",
     "output_type": "stream",
     "text": [
      "C:\\Users\\ben8h\\anaconda3\\Lib\\site-packages\\sklearn\\base.py:1474: DataConversionWarning: A column-vector y was passed when a 1d array was expected. Please change the shape of y to (n_samples,), for example using ravel().\n",
      "  return fit_method(estimator, *args, **kwargs)\n"
     ]
    },
    {
     "name": "stdout",
     "output_type": "stream",
     "text": [
      "[CV 5/10] END max_depth=5, min_samples_leaf=5, min_samples_split=10, n_estimators=200;, score=0.135 total time=   2.8s\n"
     ]
    },
    {
     "name": "stderr",
     "output_type": "stream",
     "text": [
      "C:\\Users\\ben8h\\anaconda3\\Lib\\site-packages\\sklearn\\base.py:1474: DataConversionWarning: A column-vector y was passed when a 1d array was expected. Please change the shape of y to (n_samples,), for example using ravel().\n",
      "  return fit_method(estimator, *args, **kwargs)\n"
     ]
    },
    {
     "name": "stdout",
     "output_type": "stream",
     "text": [
      "[CV 6/10] END max_depth=5, min_samples_leaf=5, min_samples_split=10, n_estimators=200;, score=0.105 total time=   2.8s\n"
     ]
    },
    {
     "name": "stderr",
     "output_type": "stream",
     "text": [
      "C:\\Users\\ben8h\\anaconda3\\Lib\\site-packages\\sklearn\\base.py:1474: DataConversionWarning: A column-vector y was passed when a 1d array was expected. Please change the shape of y to (n_samples,), for example using ravel().\n",
      "  return fit_method(estimator, *args, **kwargs)\n"
     ]
    },
    {
     "name": "stdout",
     "output_type": "stream",
     "text": [
      "[CV 7/10] END max_depth=5, min_samples_leaf=5, min_samples_split=10, n_estimators=200;, score=0.189 total time=   2.8s\n"
     ]
    },
    {
     "name": "stderr",
     "output_type": "stream",
     "text": [
      "C:\\Users\\ben8h\\anaconda3\\Lib\\site-packages\\sklearn\\base.py:1474: DataConversionWarning: A column-vector y was passed when a 1d array was expected. Please change the shape of y to (n_samples,), for example using ravel().\n",
      "  return fit_method(estimator, *args, **kwargs)\n"
     ]
    },
    {
     "name": "stdout",
     "output_type": "stream",
     "text": [
      "[CV 8/10] END max_depth=5, min_samples_leaf=5, min_samples_split=10, n_estimators=200;, score=0.106 total time=   2.8s\n"
     ]
    },
    {
     "name": "stderr",
     "output_type": "stream",
     "text": [
      "C:\\Users\\ben8h\\anaconda3\\Lib\\site-packages\\sklearn\\base.py:1474: DataConversionWarning: A column-vector y was passed when a 1d array was expected. Please change the shape of y to (n_samples,), for example using ravel().\n",
      "  return fit_method(estimator, *args, **kwargs)\n"
     ]
    },
    {
     "name": "stdout",
     "output_type": "stream",
     "text": [
      "[CV 9/10] END max_depth=5, min_samples_leaf=5, min_samples_split=10, n_estimators=200;, score=0.146 total time=   2.8s\n"
     ]
    },
    {
     "name": "stderr",
     "output_type": "stream",
     "text": [
      "C:\\Users\\ben8h\\anaconda3\\Lib\\site-packages\\sklearn\\base.py:1474: DataConversionWarning: A column-vector y was passed when a 1d array was expected. Please change the shape of y to (n_samples,), for example using ravel().\n",
      "  return fit_method(estimator, *args, **kwargs)\n"
     ]
    },
    {
     "name": "stdout",
     "output_type": "stream",
     "text": [
      "[CV 10/10] END max_depth=5, min_samples_leaf=5, min_samples_split=10, n_estimators=200;, score=0.168 total time=   2.8s\n"
     ]
    },
    {
     "name": "stderr",
     "output_type": "stream",
     "text": [
      "C:\\Users\\ben8h\\anaconda3\\Lib\\site-packages\\sklearn\\base.py:1474: DataConversionWarning: A column-vector y was passed when a 1d array was expected. Please change the shape of y to (n_samples,), for example using ravel().\n",
      "  return fit_method(estimator, *args, **kwargs)\n"
     ]
    },
    {
     "name": "stdout",
     "output_type": "stream",
     "text": [
      "[CV 1/10] END max_depth=5, min_samples_leaf=10, min_samples_split=2, n_estimators=50;, score=0.144 total time=   0.6s\n"
     ]
    },
    {
     "name": "stderr",
     "output_type": "stream",
     "text": [
      "C:\\Users\\ben8h\\anaconda3\\Lib\\site-packages\\sklearn\\base.py:1474: DataConversionWarning: A column-vector y was passed when a 1d array was expected. Please change the shape of y to (n_samples,), for example using ravel().\n",
      "  return fit_method(estimator, *args, **kwargs)\n"
     ]
    },
    {
     "name": "stdout",
     "output_type": "stream",
     "text": [
      "[CV 2/10] END max_depth=5, min_samples_leaf=10, min_samples_split=2, n_estimators=50;, score=0.153 total time=   0.6s\n"
     ]
    },
    {
     "name": "stderr",
     "output_type": "stream",
     "text": [
      "C:\\Users\\ben8h\\anaconda3\\Lib\\site-packages\\sklearn\\base.py:1474: DataConversionWarning: A column-vector y was passed when a 1d array was expected. Please change the shape of y to (n_samples,), for example using ravel().\n",
      "  return fit_method(estimator, *args, **kwargs)\n"
     ]
    },
    {
     "name": "stdout",
     "output_type": "stream",
     "text": [
      "[CV 3/10] END max_depth=5, min_samples_leaf=10, min_samples_split=2, n_estimators=50;, score=0.158 total time=   0.6s\n"
     ]
    },
    {
     "name": "stderr",
     "output_type": "stream",
     "text": [
      "C:\\Users\\ben8h\\anaconda3\\Lib\\site-packages\\sklearn\\base.py:1474: DataConversionWarning: A column-vector y was passed when a 1d array was expected. Please change the shape of y to (n_samples,), for example using ravel().\n",
      "  return fit_method(estimator, *args, **kwargs)\n"
     ]
    },
    {
     "name": "stdout",
     "output_type": "stream",
     "text": [
      "[CV 4/10] END max_depth=5, min_samples_leaf=10, min_samples_split=2, n_estimators=50;, score=0.173 total time=   0.7s\n"
     ]
    },
    {
     "name": "stderr",
     "output_type": "stream",
     "text": [
      "C:\\Users\\ben8h\\anaconda3\\Lib\\site-packages\\sklearn\\base.py:1474: DataConversionWarning: A column-vector y was passed when a 1d array was expected. Please change the shape of y to (n_samples,), for example using ravel().\n",
      "  return fit_method(estimator, *args, **kwargs)\n"
     ]
    },
    {
     "name": "stdout",
     "output_type": "stream",
     "text": [
      "[CV 5/10] END max_depth=5, min_samples_leaf=10, min_samples_split=2, n_estimators=50;, score=0.134 total time=   0.6s\n"
     ]
    },
    {
     "name": "stderr",
     "output_type": "stream",
     "text": [
      "C:\\Users\\ben8h\\anaconda3\\Lib\\site-packages\\sklearn\\base.py:1474: DataConversionWarning: A column-vector y was passed when a 1d array was expected. Please change the shape of y to (n_samples,), for example using ravel().\n",
      "  return fit_method(estimator, *args, **kwargs)\n"
     ]
    },
    {
     "name": "stdout",
     "output_type": "stream",
     "text": [
      "[CV 6/10] END max_depth=5, min_samples_leaf=10, min_samples_split=2, n_estimators=50;, score=0.097 total time=   0.7s\n"
     ]
    },
    {
     "name": "stderr",
     "output_type": "stream",
     "text": [
      "C:\\Users\\ben8h\\anaconda3\\Lib\\site-packages\\sklearn\\base.py:1474: DataConversionWarning: A column-vector y was passed when a 1d array was expected. Please change the shape of y to (n_samples,), for example using ravel().\n",
      "  return fit_method(estimator, *args, **kwargs)\n"
     ]
    },
    {
     "name": "stdout",
     "output_type": "stream",
     "text": [
      "[CV 7/10] END max_depth=5, min_samples_leaf=10, min_samples_split=2, n_estimators=50;, score=0.189 total time=   0.6s\n"
     ]
    },
    {
     "name": "stderr",
     "output_type": "stream",
     "text": [
      "C:\\Users\\ben8h\\anaconda3\\Lib\\site-packages\\sklearn\\base.py:1474: DataConversionWarning: A column-vector y was passed when a 1d array was expected. Please change the shape of y to (n_samples,), for example using ravel().\n",
      "  return fit_method(estimator, *args, **kwargs)\n"
     ]
    },
    {
     "name": "stdout",
     "output_type": "stream",
     "text": [
      "[CV 8/10] END max_depth=5, min_samples_leaf=10, min_samples_split=2, n_estimators=50;, score=0.107 total time=   0.6s\n"
     ]
    },
    {
     "name": "stderr",
     "output_type": "stream",
     "text": [
      "C:\\Users\\ben8h\\anaconda3\\Lib\\site-packages\\sklearn\\base.py:1474: DataConversionWarning: A column-vector y was passed when a 1d array was expected. Please change the shape of y to (n_samples,), for example using ravel().\n",
      "  return fit_method(estimator, *args, **kwargs)\n"
     ]
    },
    {
     "name": "stdout",
     "output_type": "stream",
     "text": [
      "[CV 9/10] END max_depth=5, min_samples_leaf=10, min_samples_split=2, n_estimators=50;, score=0.138 total time=   0.6s\n"
     ]
    },
    {
     "name": "stderr",
     "output_type": "stream",
     "text": [
      "C:\\Users\\ben8h\\anaconda3\\Lib\\site-packages\\sklearn\\base.py:1474: DataConversionWarning: A column-vector y was passed when a 1d array was expected. Please change the shape of y to (n_samples,), for example using ravel().\n",
      "  return fit_method(estimator, *args, **kwargs)\n"
     ]
    },
    {
     "name": "stdout",
     "output_type": "stream",
     "text": [
      "[CV 10/10] END max_depth=5, min_samples_leaf=10, min_samples_split=2, n_estimators=50;, score=0.168 total time=   0.6s\n"
     ]
    },
    {
     "name": "stderr",
     "output_type": "stream",
     "text": [
      "C:\\Users\\ben8h\\anaconda3\\Lib\\site-packages\\sklearn\\base.py:1474: DataConversionWarning: A column-vector y was passed when a 1d array was expected. Please change the shape of y to (n_samples,), for example using ravel().\n",
      "  return fit_method(estimator, *args, **kwargs)\n"
     ]
    },
    {
     "name": "stdout",
     "output_type": "stream",
     "text": [
      "[CV 1/10] END max_depth=5, min_samples_leaf=10, min_samples_split=2, n_estimators=100;, score=0.149 total time=   1.4s\n"
     ]
    },
    {
     "name": "stderr",
     "output_type": "stream",
     "text": [
      "C:\\Users\\ben8h\\anaconda3\\Lib\\site-packages\\sklearn\\base.py:1474: DataConversionWarning: A column-vector y was passed when a 1d array was expected. Please change the shape of y to (n_samples,), for example using ravel().\n",
      "  return fit_method(estimator, *args, **kwargs)\n"
     ]
    },
    {
     "name": "stdout",
     "output_type": "stream",
     "text": [
      "[CV 2/10] END max_depth=5, min_samples_leaf=10, min_samples_split=2, n_estimators=100;, score=0.154 total time=   1.4s\n"
     ]
    },
    {
     "name": "stderr",
     "output_type": "stream",
     "text": [
      "C:\\Users\\ben8h\\anaconda3\\Lib\\site-packages\\sklearn\\base.py:1474: DataConversionWarning: A column-vector y was passed when a 1d array was expected. Please change the shape of y to (n_samples,), for example using ravel().\n",
      "  return fit_method(estimator, *args, **kwargs)\n"
     ]
    },
    {
     "name": "stdout",
     "output_type": "stream",
     "text": [
      "[CV 3/10] END max_depth=5, min_samples_leaf=10, min_samples_split=2, n_estimators=100;, score=0.157 total time=   1.3s\n"
     ]
    },
    {
     "name": "stderr",
     "output_type": "stream",
     "text": [
      "C:\\Users\\ben8h\\anaconda3\\Lib\\site-packages\\sklearn\\base.py:1474: DataConversionWarning: A column-vector y was passed when a 1d array was expected. Please change the shape of y to (n_samples,), for example using ravel().\n",
      "  return fit_method(estimator, *args, **kwargs)\n"
     ]
    },
    {
     "name": "stdout",
     "output_type": "stream",
     "text": [
      "[CV 4/10] END max_depth=5, min_samples_leaf=10, min_samples_split=2, n_estimators=100;, score=0.178 total time=   1.4s\n"
     ]
    },
    {
     "name": "stderr",
     "output_type": "stream",
     "text": [
      "C:\\Users\\ben8h\\anaconda3\\Lib\\site-packages\\sklearn\\base.py:1474: DataConversionWarning: A column-vector y was passed when a 1d array was expected. Please change the shape of y to (n_samples,), for example using ravel().\n",
      "  return fit_method(estimator, *args, **kwargs)\n"
     ]
    },
    {
     "name": "stdout",
     "output_type": "stream",
     "text": [
      "[CV 5/10] END max_depth=5, min_samples_leaf=10, min_samples_split=2, n_estimators=100;, score=0.132 total time=   1.3s\n"
     ]
    },
    {
     "name": "stderr",
     "output_type": "stream",
     "text": [
      "C:\\Users\\ben8h\\anaconda3\\Lib\\site-packages\\sklearn\\base.py:1474: DataConversionWarning: A column-vector y was passed when a 1d array was expected. Please change the shape of y to (n_samples,), for example using ravel().\n",
      "  return fit_method(estimator, *args, **kwargs)\n"
     ]
    },
    {
     "name": "stdout",
     "output_type": "stream",
     "text": [
      "[CV 6/10] END max_depth=5, min_samples_leaf=10, min_samples_split=2, n_estimators=100;, score=0.096 total time=   1.3s\n"
     ]
    },
    {
     "name": "stderr",
     "output_type": "stream",
     "text": [
      "C:\\Users\\ben8h\\anaconda3\\Lib\\site-packages\\sklearn\\base.py:1474: DataConversionWarning: A column-vector y was passed when a 1d array was expected. Please change the shape of y to (n_samples,), for example using ravel().\n",
      "  return fit_method(estimator, *args, **kwargs)\n"
     ]
    },
    {
     "name": "stdout",
     "output_type": "stream",
     "text": [
      "[CV 7/10] END max_depth=5, min_samples_leaf=10, min_samples_split=2, n_estimators=100;, score=0.193 total time=   1.4s\n"
     ]
    },
    {
     "name": "stderr",
     "output_type": "stream",
     "text": [
      "C:\\Users\\ben8h\\anaconda3\\Lib\\site-packages\\sklearn\\base.py:1474: DataConversionWarning: A column-vector y was passed when a 1d array was expected. Please change the shape of y to (n_samples,), for example using ravel().\n",
      "  return fit_method(estimator, *args, **kwargs)\n"
     ]
    },
    {
     "name": "stdout",
     "output_type": "stream",
     "text": [
      "[CV 8/10] END max_depth=5, min_samples_leaf=10, min_samples_split=2, n_estimators=100;, score=0.109 total time=   1.4s\n"
     ]
    },
    {
     "name": "stderr",
     "output_type": "stream",
     "text": [
      "C:\\Users\\ben8h\\anaconda3\\Lib\\site-packages\\sklearn\\base.py:1474: DataConversionWarning: A column-vector y was passed when a 1d array was expected. Please change the shape of y to (n_samples,), for example using ravel().\n",
      "  return fit_method(estimator, *args, **kwargs)\n"
     ]
    },
    {
     "name": "stdout",
     "output_type": "stream",
     "text": [
      "[CV 9/10] END max_depth=5, min_samples_leaf=10, min_samples_split=2, n_estimators=100;, score=0.139 total time=   1.4s\n"
     ]
    },
    {
     "name": "stderr",
     "output_type": "stream",
     "text": [
      "C:\\Users\\ben8h\\anaconda3\\Lib\\site-packages\\sklearn\\base.py:1474: DataConversionWarning: A column-vector y was passed when a 1d array was expected. Please change the shape of y to (n_samples,), for example using ravel().\n",
      "  return fit_method(estimator, *args, **kwargs)\n"
     ]
    },
    {
     "name": "stdout",
     "output_type": "stream",
     "text": [
      "[CV 10/10] END max_depth=5, min_samples_leaf=10, min_samples_split=2, n_estimators=100;, score=0.166 total time=   1.4s\n"
     ]
    },
    {
     "name": "stderr",
     "output_type": "stream",
     "text": [
      "C:\\Users\\ben8h\\anaconda3\\Lib\\site-packages\\sklearn\\base.py:1474: DataConversionWarning: A column-vector y was passed when a 1d array was expected. Please change the shape of y to (n_samples,), for example using ravel().\n",
      "  return fit_method(estimator, *args, **kwargs)\n"
     ]
    },
    {
     "name": "stdout",
     "output_type": "stream",
     "text": [
      "[CV 1/10] END max_depth=5, min_samples_leaf=10, min_samples_split=2, n_estimators=200;, score=0.147 total time=   2.8s\n"
     ]
    },
    {
     "name": "stderr",
     "output_type": "stream",
     "text": [
      "C:\\Users\\ben8h\\anaconda3\\Lib\\site-packages\\sklearn\\base.py:1474: DataConversionWarning: A column-vector y was passed when a 1d array was expected. Please change the shape of y to (n_samples,), for example using ravel().\n",
      "  return fit_method(estimator, *args, **kwargs)\n"
     ]
    },
    {
     "name": "stdout",
     "output_type": "stream",
     "text": [
      "[CV 2/10] END max_depth=5, min_samples_leaf=10, min_samples_split=2, n_estimators=200;, score=0.151 total time=   3.0s\n"
     ]
    },
    {
     "name": "stderr",
     "output_type": "stream",
     "text": [
      "C:\\Users\\ben8h\\anaconda3\\Lib\\site-packages\\sklearn\\base.py:1474: DataConversionWarning: A column-vector y was passed when a 1d array was expected. Please change the shape of y to (n_samples,), for example using ravel().\n",
      "  return fit_method(estimator, *args, **kwargs)\n"
     ]
    },
    {
     "name": "stdout",
     "output_type": "stream",
     "text": [
      "[CV 3/10] END max_depth=5, min_samples_leaf=10, min_samples_split=2, n_estimators=200;, score=0.154 total time=   2.8s\n"
     ]
    },
    {
     "name": "stderr",
     "output_type": "stream",
     "text": [
      "C:\\Users\\ben8h\\anaconda3\\Lib\\site-packages\\sklearn\\base.py:1474: DataConversionWarning: A column-vector y was passed when a 1d array was expected. Please change the shape of y to (n_samples,), for example using ravel().\n",
      "  return fit_method(estimator, *args, **kwargs)\n"
     ]
    },
    {
     "name": "stdout",
     "output_type": "stream",
     "text": [
      "[CV 4/10] END max_depth=5, min_samples_leaf=10, min_samples_split=2, n_estimators=200;, score=0.175 total time=   2.8s\n"
     ]
    },
    {
     "name": "stderr",
     "output_type": "stream",
     "text": [
      "C:\\Users\\ben8h\\anaconda3\\Lib\\site-packages\\sklearn\\base.py:1474: DataConversionWarning: A column-vector y was passed when a 1d array was expected. Please change the shape of y to (n_samples,), for example using ravel().\n",
      "  return fit_method(estimator, *args, **kwargs)\n"
     ]
    },
    {
     "name": "stdout",
     "output_type": "stream",
     "text": [
      "[CV 5/10] END max_depth=5, min_samples_leaf=10, min_samples_split=2, n_estimators=200;, score=0.136 total time=   2.8s\n"
     ]
    },
    {
     "name": "stderr",
     "output_type": "stream",
     "text": [
      "C:\\Users\\ben8h\\anaconda3\\Lib\\site-packages\\sklearn\\base.py:1474: DataConversionWarning: A column-vector y was passed when a 1d array was expected. Please change the shape of y to (n_samples,), for example using ravel().\n",
      "  return fit_method(estimator, *args, **kwargs)\n"
     ]
    },
    {
     "name": "stdout",
     "output_type": "stream",
     "text": [
      "[CV 6/10] END max_depth=5, min_samples_leaf=10, min_samples_split=2, n_estimators=200;, score=0.097 total time=   2.8s\n"
     ]
    },
    {
     "name": "stderr",
     "output_type": "stream",
     "text": [
      "C:\\Users\\ben8h\\anaconda3\\Lib\\site-packages\\sklearn\\base.py:1474: DataConversionWarning: A column-vector y was passed when a 1d array was expected. Please change the shape of y to (n_samples,), for example using ravel().\n",
      "  return fit_method(estimator, *args, **kwargs)\n"
     ]
    },
    {
     "name": "stdout",
     "output_type": "stream",
     "text": [
      "[CV 7/10] END max_depth=5, min_samples_leaf=10, min_samples_split=2, n_estimators=200;, score=0.191 total time=   2.8s\n"
     ]
    },
    {
     "name": "stderr",
     "output_type": "stream",
     "text": [
      "C:\\Users\\ben8h\\anaconda3\\Lib\\site-packages\\sklearn\\base.py:1474: DataConversionWarning: A column-vector y was passed when a 1d array was expected. Please change the shape of y to (n_samples,), for example using ravel().\n",
      "  return fit_method(estimator, *args, **kwargs)\n"
     ]
    },
    {
     "name": "stdout",
     "output_type": "stream",
     "text": [
      "[CV 8/10] END max_depth=5, min_samples_leaf=10, min_samples_split=2, n_estimators=200;, score=0.108 total time=   2.8s\n"
     ]
    },
    {
     "name": "stderr",
     "output_type": "stream",
     "text": [
      "C:\\Users\\ben8h\\anaconda3\\Lib\\site-packages\\sklearn\\base.py:1474: DataConversionWarning: A column-vector y was passed when a 1d array was expected. Please change the shape of y to (n_samples,), for example using ravel().\n",
      "  return fit_method(estimator, *args, **kwargs)\n"
     ]
    },
    {
     "name": "stdout",
     "output_type": "stream",
     "text": [
      "[CV 9/10] END max_depth=5, min_samples_leaf=10, min_samples_split=2, n_estimators=200;, score=0.141 total time=   2.8s\n"
     ]
    },
    {
     "name": "stderr",
     "output_type": "stream",
     "text": [
      "C:\\Users\\ben8h\\anaconda3\\Lib\\site-packages\\sklearn\\base.py:1474: DataConversionWarning: A column-vector y was passed when a 1d array was expected. Please change the shape of y to (n_samples,), for example using ravel().\n",
      "  return fit_method(estimator, *args, **kwargs)\n"
     ]
    },
    {
     "name": "stdout",
     "output_type": "stream",
     "text": [
      "[CV 10/10] END max_depth=5, min_samples_leaf=10, min_samples_split=2, n_estimators=200;, score=0.164 total time=   3.0s\n"
     ]
    },
    {
     "name": "stderr",
     "output_type": "stream",
     "text": [
      "C:\\Users\\ben8h\\anaconda3\\Lib\\site-packages\\sklearn\\base.py:1474: DataConversionWarning: A column-vector y was passed when a 1d array was expected. Please change the shape of y to (n_samples,), for example using ravel().\n",
      "  return fit_method(estimator, *args, **kwargs)\n"
     ]
    },
    {
     "name": "stdout",
     "output_type": "stream",
     "text": [
      "[CV 1/10] END max_depth=5, min_samples_leaf=10, min_samples_split=5, n_estimators=50;, score=0.146 total time=   0.6s\n"
     ]
    },
    {
     "name": "stderr",
     "output_type": "stream",
     "text": [
      "C:\\Users\\ben8h\\anaconda3\\Lib\\site-packages\\sklearn\\base.py:1474: DataConversionWarning: A column-vector y was passed when a 1d array was expected. Please change the shape of y to (n_samples,), for example using ravel().\n",
      "  return fit_method(estimator, *args, **kwargs)\n"
     ]
    },
    {
     "name": "stdout",
     "output_type": "stream",
     "text": [
      "[CV 2/10] END max_depth=5, min_samples_leaf=10, min_samples_split=5, n_estimators=50;, score=0.147 total time=   0.7s\n"
     ]
    },
    {
     "name": "stderr",
     "output_type": "stream",
     "text": [
      "C:\\Users\\ben8h\\anaconda3\\Lib\\site-packages\\sklearn\\base.py:1474: DataConversionWarning: A column-vector y was passed when a 1d array was expected. Please change the shape of y to (n_samples,), for example using ravel().\n",
      "  return fit_method(estimator, *args, **kwargs)\n"
     ]
    },
    {
     "name": "stdout",
     "output_type": "stream",
     "text": [
      "[CV 3/10] END max_depth=5, min_samples_leaf=10, min_samples_split=5, n_estimators=50;, score=0.152 total time=   0.7s\n"
     ]
    },
    {
     "name": "stderr",
     "output_type": "stream",
     "text": [
      "C:\\Users\\ben8h\\anaconda3\\Lib\\site-packages\\sklearn\\base.py:1474: DataConversionWarning: A column-vector y was passed when a 1d array was expected. Please change the shape of y to (n_samples,), for example using ravel().\n",
      "  return fit_method(estimator, *args, **kwargs)\n"
     ]
    },
    {
     "name": "stdout",
     "output_type": "stream",
     "text": [
      "[CV 4/10] END max_depth=5, min_samples_leaf=10, min_samples_split=5, n_estimators=50;, score=0.168 total time=   0.6s\n"
     ]
    },
    {
     "name": "stderr",
     "output_type": "stream",
     "text": [
      "C:\\Users\\ben8h\\anaconda3\\Lib\\site-packages\\sklearn\\base.py:1474: DataConversionWarning: A column-vector y was passed when a 1d array was expected. Please change the shape of y to (n_samples,), for example using ravel().\n",
      "  return fit_method(estimator, *args, **kwargs)\n"
     ]
    },
    {
     "name": "stdout",
     "output_type": "stream",
     "text": [
      "[CV 5/10] END max_depth=5, min_samples_leaf=10, min_samples_split=5, n_estimators=50;, score=0.141 total time=   0.6s\n"
     ]
    },
    {
     "name": "stderr",
     "output_type": "stream",
     "text": [
      "C:\\Users\\ben8h\\anaconda3\\Lib\\site-packages\\sklearn\\base.py:1474: DataConversionWarning: A column-vector y was passed when a 1d array was expected. Please change the shape of y to (n_samples,), for example using ravel().\n",
      "  return fit_method(estimator, *args, **kwargs)\n"
     ]
    },
    {
     "name": "stdout",
     "output_type": "stream",
     "text": [
      "[CV 6/10] END max_depth=5, min_samples_leaf=10, min_samples_split=5, n_estimators=50;, score=0.096 total time=   0.6s\n"
     ]
    },
    {
     "name": "stderr",
     "output_type": "stream",
     "text": [
      "C:\\Users\\ben8h\\anaconda3\\Lib\\site-packages\\sklearn\\base.py:1474: DataConversionWarning: A column-vector y was passed when a 1d array was expected. Please change the shape of y to (n_samples,), for example using ravel().\n",
      "  return fit_method(estimator, *args, **kwargs)\n"
     ]
    },
    {
     "name": "stdout",
     "output_type": "stream",
     "text": [
      "[CV 7/10] END max_depth=5, min_samples_leaf=10, min_samples_split=5, n_estimators=50;, score=0.188 total time=   0.6s\n"
     ]
    },
    {
     "name": "stderr",
     "output_type": "stream",
     "text": [
      "C:\\Users\\ben8h\\anaconda3\\Lib\\site-packages\\sklearn\\base.py:1474: DataConversionWarning: A column-vector y was passed when a 1d array was expected. Please change the shape of y to (n_samples,), for example using ravel().\n",
      "  return fit_method(estimator, *args, **kwargs)\n"
     ]
    },
    {
     "name": "stdout",
     "output_type": "stream",
     "text": [
      "[CV 8/10] END max_depth=5, min_samples_leaf=10, min_samples_split=5, n_estimators=50;, score=0.108 total time=   0.6s\n"
     ]
    },
    {
     "name": "stderr",
     "output_type": "stream",
     "text": [
      "C:\\Users\\ben8h\\anaconda3\\Lib\\site-packages\\sklearn\\base.py:1474: DataConversionWarning: A column-vector y was passed when a 1d array was expected. Please change the shape of y to (n_samples,), for example using ravel().\n",
      "  return fit_method(estimator, *args, **kwargs)\n"
     ]
    },
    {
     "name": "stdout",
     "output_type": "stream",
     "text": [
      "[CV 9/10] END max_depth=5, min_samples_leaf=10, min_samples_split=5, n_estimators=50;, score=0.141 total time=   0.6s\n"
     ]
    },
    {
     "name": "stderr",
     "output_type": "stream",
     "text": [
      "C:\\Users\\ben8h\\anaconda3\\Lib\\site-packages\\sklearn\\base.py:1474: DataConversionWarning: A column-vector y was passed when a 1d array was expected. Please change the shape of y to (n_samples,), for example using ravel().\n",
      "  return fit_method(estimator, *args, **kwargs)\n"
     ]
    },
    {
     "name": "stdout",
     "output_type": "stream",
     "text": [
      "[CV 10/10] END max_depth=5, min_samples_leaf=10, min_samples_split=5, n_estimators=50;, score=0.168 total time=   0.6s\n"
     ]
    },
    {
     "name": "stderr",
     "output_type": "stream",
     "text": [
      "C:\\Users\\ben8h\\anaconda3\\Lib\\site-packages\\sklearn\\base.py:1474: DataConversionWarning: A column-vector y was passed when a 1d array was expected. Please change the shape of y to (n_samples,), for example using ravel().\n",
      "  return fit_method(estimator, *args, **kwargs)\n"
     ]
    },
    {
     "name": "stdout",
     "output_type": "stream",
     "text": [
      "[CV 1/10] END max_depth=5, min_samples_leaf=10, min_samples_split=5, n_estimators=100;, score=0.147 total time=   1.4s\n"
     ]
    },
    {
     "name": "stderr",
     "output_type": "stream",
     "text": [
      "C:\\Users\\ben8h\\anaconda3\\Lib\\site-packages\\sklearn\\base.py:1474: DataConversionWarning: A column-vector y was passed when a 1d array was expected. Please change the shape of y to (n_samples,), for example using ravel().\n",
      "  return fit_method(estimator, *args, **kwargs)\n"
     ]
    },
    {
     "name": "stdout",
     "output_type": "stream",
     "text": [
      "[CV 2/10] END max_depth=5, min_samples_leaf=10, min_samples_split=5, n_estimators=100;, score=0.149 total time=   1.4s\n"
     ]
    },
    {
     "name": "stderr",
     "output_type": "stream",
     "text": [
      "C:\\Users\\ben8h\\anaconda3\\Lib\\site-packages\\sklearn\\base.py:1474: DataConversionWarning: A column-vector y was passed when a 1d array was expected. Please change the shape of y to (n_samples,), for example using ravel().\n",
      "  return fit_method(estimator, *args, **kwargs)\n"
     ]
    },
    {
     "name": "stdout",
     "output_type": "stream",
     "text": [
      "[CV 3/10] END max_depth=5, min_samples_leaf=10, min_samples_split=5, n_estimators=100;, score=0.153 total time=   1.3s\n"
     ]
    },
    {
     "name": "stderr",
     "output_type": "stream",
     "text": [
      "C:\\Users\\ben8h\\anaconda3\\Lib\\site-packages\\sklearn\\base.py:1474: DataConversionWarning: A column-vector y was passed when a 1d array was expected. Please change the shape of y to (n_samples,), for example using ravel().\n",
      "  return fit_method(estimator, *args, **kwargs)\n"
     ]
    },
    {
     "name": "stdout",
     "output_type": "stream",
     "text": [
      "[CV 4/10] END max_depth=5, min_samples_leaf=10, min_samples_split=5, n_estimators=100;, score=0.177 total time=   1.4s\n"
     ]
    },
    {
     "name": "stderr",
     "output_type": "stream",
     "text": [
      "C:\\Users\\ben8h\\anaconda3\\Lib\\site-packages\\sklearn\\base.py:1474: DataConversionWarning: A column-vector y was passed when a 1d array was expected. Please change the shape of y to (n_samples,), for example using ravel().\n",
      "  return fit_method(estimator, *args, **kwargs)\n"
     ]
    },
    {
     "name": "stdout",
     "output_type": "stream",
     "text": [
      "[CV 5/10] END max_depth=5, min_samples_leaf=10, min_samples_split=5, n_estimators=100;, score=0.132 total time=   1.4s\n"
     ]
    },
    {
     "name": "stderr",
     "output_type": "stream",
     "text": [
      "C:\\Users\\ben8h\\anaconda3\\Lib\\site-packages\\sklearn\\base.py:1474: DataConversionWarning: A column-vector y was passed when a 1d array was expected. Please change the shape of y to (n_samples,), for example using ravel().\n",
      "  return fit_method(estimator, *args, **kwargs)\n"
     ]
    },
    {
     "name": "stdout",
     "output_type": "stream",
     "text": [
      "[CV 6/10] END max_depth=5, min_samples_leaf=10, min_samples_split=5, n_estimators=100;, score=0.095 total time=   1.4s\n"
     ]
    },
    {
     "name": "stderr",
     "output_type": "stream",
     "text": [
      "C:\\Users\\ben8h\\anaconda3\\Lib\\site-packages\\sklearn\\base.py:1474: DataConversionWarning: A column-vector y was passed when a 1d array was expected. Please change the shape of y to (n_samples,), for example using ravel().\n",
      "  return fit_method(estimator, *args, **kwargs)\n"
     ]
    },
    {
     "name": "stdout",
     "output_type": "stream",
     "text": [
      "[CV 7/10] END max_depth=5, min_samples_leaf=10, min_samples_split=5, n_estimators=100;, score=0.192 total time=   1.4s\n"
     ]
    },
    {
     "name": "stderr",
     "output_type": "stream",
     "text": [
      "C:\\Users\\ben8h\\anaconda3\\Lib\\site-packages\\sklearn\\base.py:1474: DataConversionWarning: A column-vector y was passed when a 1d array was expected. Please change the shape of y to (n_samples,), for example using ravel().\n",
      "  return fit_method(estimator, *args, **kwargs)\n"
     ]
    },
    {
     "name": "stdout",
     "output_type": "stream",
     "text": [
      "[CV 8/10] END max_depth=5, min_samples_leaf=10, min_samples_split=5, n_estimators=100;, score=0.106 total time=   1.4s\n"
     ]
    },
    {
     "name": "stderr",
     "output_type": "stream",
     "text": [
      "C:\\Users\\ben8h\\anaconda3\\Lib\\site-packages\\sklearn\\base.py:1474: DataConversionWarning: A column-vector y was passed when a 1d array was expected. Please change the shape of y to (n_samples,), for example using ravel().\n",
      "  return fit_method(estimator, *args, **kwargs)\n"
     ]
    },
    {
     "name": "stdout",
     "output_type": "stream",
     "text": [
      "[CV 9/10] END max_depth=5, min_samples_leaf=10, min_samples_split=5, n_estimators=100;, score=0.143 total time=   1.4s\n"
     ]
    },
    {
     "name": "stderr",
     "output_type": "stream",
     "text": [
      "C:\\Users\\ben8h\\anaconda3\\Lib\\site-packages\\sklearn\\base.py:1474: DataConversionWarning: A column-vector y was passed when a 1d array was expected. Please change the shape of y to (n_samples,), for example using ravel().\n",
      "  return fit_method(estimator, *args, **kwargs)\n"
     ]
    },
    {
     "name": "stdout",
     "output_type": "stream",
     "text": [
      "[CV 10/10] END max_depth=5, min_samples_leaf=10, min_samples_split=5, n_estimators=100;, score=0.162 total time=   1.4s\n"
     ]
    },
    {
     "name": "stderr",
     "output_type": "stream",
     "text": [
      "C:\\Users\\ben8h\\anaconda3\\Lib\\site-packages\\sklearn\\base.py:1474: DataConversionWarning: A column-vector y was passed when a 1d array was expected. Please change the shape of y to (n_samples,), for example using ravel().\n",
      "  return fit_method(estimator, *args, **kwargs)\n"
     ]
    },
    {
     "name": "stdout",
     "output_type": "stream",
     "text": [
      "[CV 1/10] END max_depth=5, min_samples_leaf=10, min_samples_split=5, n_estimators=200;, score=0.150 total time=   2.8s\n"
     ]
    },
    {
     "name": "stderr",
     "output_type": "stream",
     "text": [
      "C:\\Users\\ben8h\\anaconda3\\Lib\\site-packages\\sklearn\\base.py:1474: DataConversionWarning: A column-vector y was passed when a 1d array was expected. Please change the shape of y to (n_samples,), for example using ravel().\n",
      "  return fit_method(estimator, *args, **kwargs)\n"
     ]
    },
    {
     "name": "stdout",
     "output_type": "stream",
     "text": [
      "[CV 2/10] END max_depth=5, min_samples_leaf=10, min_samples_split=5, n_estimators=200;, score=0.149 total time=   2.8s\n"
     ]
    },
    {
     "name": "stderr",
     "output_type": "stream",
     "text": [
      "C:\\Users\\ben8h\\anaconda3\\Lib\\site-packages\\sklearn\\base.py:1474: DataConversionWarning: A column-vector y was passed when a 1d array was expected. Please change the shape of y to (n_samples,), for example using ravel().\n",
      "  return fit_method(estimator, *args, **kwargs)\n"
     ]
    },
    {
     "name": "stdout",
     "output_type": "stream",
     "text": [
      "[CV 3/10] END max_depth=5, min_samples_leaf=10, min_samples_split=5, n_estimators=200;, score=0.152 total time=   2.8s\n"
     ]
    },
    {
     "name": "stderr",
     "output_type": "stream",
     "text": [
      "C:\\Users\\ben8h\\anaconda3\\Lib\\site-packages\\sklearn\\base.py:1474: DataConversionWarning: A column-vector y was passed when a 1d array was expected. Please change the shape of y to (n_samples,), for example using ravel().\n",
      "  return fit_method(estimator, *args, **kwargs)\n"
     ]
    },
    {
     "name": "stdout",
     "output_type": "stream",
     "text": [
      "[CV 4/10] END max_depth=5, min_samples_leaf=10, min_samples_split=5, n_estimators=200;, score=0.176 total time=   2.8s\n"
     ]
    },
    {
     "name": "stderr",
     "output_type": "stream",
     "text": [
      "C:\\Users\\ben8h\\anaconda3\\Lib\\site-packages\\sklearn\\base.py:1474: DataConversionWarning: A column-vector y was passed when a 1d array was expected. Please change the shape of y to (n_samples,), for example using ravel().\n",
      "  return fit_method(estimator, *args, **kwargs)\n"
     ]
    },
    {
     "name": "stdout",
     "output_type": "stream",
     "text": [
      "[CV 5/10] END max_depth=5, min_samples_leaf=10, min_samples_split=5, n_estimators=200;, score=0.134 total time=   2.8s\n"
     ]
    },
    {
     "name": "stderr",
     "output_type": "stream",
     "text": [
      "C:\\Users\\ben8h\\anaconda3\\Lib\\site-packages\\sklearn\\base.py:1474: DataConversionWarning: A column-vector y was passed when a 1d array was expected. Please change the shape of y to (n_samples,), for example using ravel().\n",
      "  return fit_method(estimator, *args, **kwargs)\n"
     ]
    },
    {
     "name": "stdout",
     "output_type": "stream",
     "text": [
      "[CV 6/10] END max_depth=5, min_samples_leaf=10, min_samples_split=5, n_estimators=200;, score=0.096 total time=   2.8s\n"
     ]
    },
    {
     "name": "stderr",
     "output_type": "stream",
     "text": [
      "C:\\Users\\ben8h\\anaconda3\\Lib\\site-packages\\sklearn\\base.py:1474: DataConversionWarning: A column-vector y was passed when a 1d array was expected. Please change the shape of y to (n_samples,), for example using ravel().\n",
      "  return fit_method(estimator, *args, **kwargs)\n"
     ]
    },
    {
     "name": "stdout",
     "output_type": "stream",
     "text": [
      "[CV 7/10] END max_depth=5, min_samples_leaf=10, min_samples_split=5, n_estimators=200;, score=0.194 total time=   2.8s\n"
     ]
    },
    {
     "name": "stderr",
     "output_type": "stream",
     "text": [
      "C:\\Users\\ben8h\\anaconda3\\Lib\\site-packages\\sklearn\\base.py:1474: DataConversionWarning: A column-vector y was passed when a 1d array was expected. Please change the shape of y to (n_samples,), for example using ravel().\n",
      "  return fit_method(estimator, *args, **kwargs)\n"
     ]
    },
    {
     "name": "stdout",
     "output_type": "stream",
     "text": [
      "[CV 8/10] END max_depth=5, min_samples_leaf=10, min_samples_split=5, n_estimators=200;, score=0.108 total time=   2.8s\n"
     ]
    },
    {
     "name": "stderr",
     "output_type": "stream",
     "text": [
      "C:\\Users\\ben8h\\anaconda3\\Lib\\site-packages\\sklearn\\base.py:1474: DataConversionWarning: A column-vector y was passed when a 1d array was expected. Please change the shape of y to (n_samples,), for example using ravel().\n",
      "  return fit_method(estimator, *args, **kwargs)\n"
     ]
    },
    {
     "name": "stdout",
     "output_type": "stream",
     "text": [
      "[CV 9/10] END max_depth=5, min_samples_leaf=10, min_samples_split=5, n_estimators=200;, score=0.141 total time=   2.8s\n"
     ]
    },
    {
     "name": "stderr",
     "output_type": "stream",
     "text": [
      "C:\\Users\\ben8h\\anaconda3\\Lib\\site-packages\\sklearn\\base.py:1474: DataConversionWarning: A column-vector y was passed when a 1d array was expected. Please change the shape of y to (n_samples,), for example using ravel().\n",
      "  return fit_method(estimator, *args, **kwargs)\n"
     ]
    },
    {
     "name": "stdout",
     "output_type": "stream",
     "text": [
      "[CV 10/10] END max_depth=5, min_samples_leaf=10, min_samples_split=5, n_estimators=200;, score=0.164 total time=   2.8s\n"
     ]
    },
    {
     "name": "stderr",
     "output_type": "stream",
     "text": [
      "C:\\Users\\ben8h\\anaconda3\\Lib\\site-packages\\sklearn\\base.py:1474: DataConversionWarning: A column-vector y was passed when a 1d array was expected. Please change the shape of y to (n_samples,), for example using ravel().\n",
      "  return fit_method(estimator, *args, **kwargs)\n"
     ]
    },
    {
     "name": "stdout",
     "output_type": "stream",
     "text": [
      "[CV 1/10] END max_depth=5, min_samples_leaf=10, min_samples_split=10, n_estimators=50;, score=0.141 total time=   0.6s\n"
     ]
    },
    {
     "name": "stderr",
     "output_type": "stream",
     "text": [
      "C:\\Users\\ben8h\\anaconda3\\Lib\\site-packages\\sklearn\\base.py:1474: DataConversionWarning: A column-vector y was passed when a 1d array was expected. Please change the shape of y to (n_samples,), for example using ravel().\n",
      "  return fit_method(estimator, *args, **kwargs)\n"
     ]
    },
    {
     "name": "stdout",
     "output_type": "stream",
     "text": [
      "[CV 2/10] END max_depth=5, min_samples_leaf=10, min_samples_split=10, n_estimators=50;, score=0.148 total time=   0.6s\n"
     ]
    },
    {
     "name": "stderr",
     "output_type": "stream",
     "text": [
      "C:\\Users\\ben8h\\anaconda3\\Lib\\site-packages\\sklearn\\base.py:1474: DataConversionWarning: A column-vector y was passed when a 1d array was expected. Please change the shape of y to (n_samples,), for example using ravel().\n",
      "  return fit_method(estimator, *args, **kwargs)\n"
     ]
    },
    {
     "name": "stdout",
     "output_type": "stream",
     "text": [
      "[CV 3/10] END max_depth=5, min_samples_leaf=10, min_samples_split=10, n_estimators=50;, score=0.157 total time=   0.6s\n"
     ]
    },
    {
     "name": "stderr",
     "output_type": "stream",
     "text": [
      "C:\\Users\\ben8h\\anaconda3\\Lib\\site-packages\\sklearn\\base.py:1474: DataConversionWarning: A column-vector y was passed when a 1d array was expected. Please change the shape of y to (n_samples,), for example using ravel().\n",
      "  return fit_method(estimator, *args, **kwargs)\n"
     ]
    },
    {
     "name": "stdout",
     "output_type": "stream",
     "text": [
      "[CV 4/10] END max_depth=5, min_samples_leaf=10, min_samples_split=10, n_estimators=50;, score=0.180 total time=   0.6s\n"
     ]
    },
    {
     "name": "stderr",
     "output_type": "stream",
     "text": [
      "C:\\Users\\ben8h\\anaconda3\\Lib\\site-packages\\sklearn\\base.py:1474: DataConversionWarning: A column-vector y was passed when a 1d array was expected. Please change the shape of y to (n_samples,), for example using ravel().\n",
      "  return fit_method(estimator, *args, **kwargs)\n"
     ]
    },
    {
     "name": "stdout",
     "output_type": "stream",
     "text": [
      "[CV 5/10] END max_depth=5, min_samples_leaf=10, min_samples_split=10, n_estimators=50;, score=0.134 total time=   0.6s\n"
     ]
    },
    {
     "name": "stderr",
     "output_type": "stream",
     "text": [
      "C:\\Users\\ben8h\\anaconda3\\Lib\\site-packages\\sklearn\\base.py:1474: DataConversionWarning: A column-vector y was passed when a 1d array was expected. Please change the shape of y to (n_samples,), for example using ravel().\n",
      "  return fit_method(estimator, *args, **kwargs)\n"
     ]
    },
    {
     "name": "stdout",
     "output_type": "stream",
     "text": [
      "[CV 6/10] END max_depth=5, min_samples_leaf=10, min_samples_split=10, n_estimators=50;, score=0.092 total time=   0.6s\n"
     ]
    },
    {
     "name": "stderr",
     "output_type": "stream",
     "text": [
      "C:\\Users\\ben8h\\anaconda3\\Lib\\site-packages\\sklearn\\base.py:1474: DataConversionWarning: A column-vector y was passed when a 1d array was expected. Please change the shape of y to (n_samples,), for example using ravel().\n",
      "  return fit_method(estimator, *args, **kwargs)\n"
     ]
    },
    {
     "name": "stdout",
     "output_type": "stream",
     "text": [
      "[CV 7/10] END max_depth=5, min_samples_leaf=10, min_samples_split=10, n_estimators=50;, score=0.197 total time=   0.6s\n"
     ]
    },
    {
     "name": "stderr",
     "output_type": "stream",
     "text": [
      "C:\\Users\\ben8h\\anaconda3\\Lib\\site-packages\\sklearn\\base.py:1474: DataConversionWarning: A column-vector y was passed when a 1d array was expected. Please change the shape of y to (n_samples,), for example using ravel().\n",
      "  return fit_method(estimator, *args, **kwargs)\n"
     ]
    },
    {
     "name": "stdout",
     "output_type": "stream",
     "text": [
      "[CV 8/10] END max_depth=5, min_samples_leaf=10, min_samples_split=10, n_estimators=50;, score=0.110 total time=   0.6s\n"
     ]
    },
    {
     "name": "stderr",
     "output_type": "stream",
     "text": [
      "C:\\Users\\ben8h\\anaconda3\\Lib\\site-packages\\sklearn\\base.py:1474: DataConversionWarning: A column-vector y was passed when a 1d array was expected. Please change the shape of y to (n_samples,), for example using ravel().\n",
      "  return fit_method(estimator, *args, **kwargs)\n"
     ]
    },
    {
     "name": "stdout",
     "output_type": "stream",
     "text": [
      "[CV 9/10] END max_depth=5, min_samples_leaf=10, min_samples_split=10, n_estimators=50;, score=0.140 total time=   0.6s\n"
     ]
    },
    {
     "name": "stderr",
     "output_type": "stream",
     "text": [
      "C:\\Users\\ben8h\\anaconda3\\Lib\\site-packages\\sklearn\\base.py:1474: DataConversionWarning: A column-vector y was passed when a 1d array was expected. Please change the shape of y to (n_samples,), for example using ravel().\n",
      "  return fit_method(estimator, *args, **kwargs)\n"
     ]
    },
    {
     "name": "stdout",
     "output_type": "stream",
     "text": [
      "[CV 10/10] END max_depth=5, min_samples_leaf=10, min_samples_split=10, n_estimators=50;, score=0.158 total time=   0.6s\n"
     ]
    },
    {
     "name": "stderr",
     "output_type": "stream",
     "text": [
      "C:\\Users\\ben8h\\anaconda3\\Lib\\site-packages\\sklearn\\base.py:1474: DataConversionWarning: A column-vector y was passed when a 1d array was expected. Please change the shape of y to (n_samples,), for example using ravel().\n",
      "  return fit_method(estimator, *args, **kwargs)\n"
     ]
    },
    {
     "name": "stdout",
     "output_type": "stream",
     "text": [
      "[CV 1/10] END max_depth=5, min_samples_leaf=10, min_samples_split=10, n_estimators=100;, score=0.148 total time=   1.3s\n"
     ]
    },
    {
     "name": "stderr",
     "output_type": "stream",
     "text": [
      "C:\\Users\\ben8h\\anaconda3\\Lib\\site-packages\\sklearn\\base.py:1474: DataConversionWarning: A column-vector y was passed when a 1d array was expected. Please change the shape of y to (n_samples,), for example using ravel().\n",
      "  return fit_method(estimator, *args, **kwargs)\n"
     ]
    },
    {
     "name": "stdout",
     "output_type": "stream",
     "text": [
      "[CV 2/10] END max_depth=5, min_samples_leaf=10, min_samples_split=10, n_estimators=100;, score=0.146 total time=   1.3s\n"
     ]
    },
    {
     "name": "stderr",
     "output_type": "stream",
     "text": [
      "C:\\Users\\ben8h\\anaconda3\\Lib\\site-packages\\sklearn\\base.py:1474: DataConversionWarning: A column-vector y was passed when a 1d array was expected. Please change the shape of y to (n_samples,), for example using ravel().\n",
      "  return fit_method(estimator, *args, **kwargs)\n"
     ]
    },
    {
     "name": "stdout",
     "output_type": "stream",
     "text": [
      "[CV 3/10] END max_depth=5, min_samples_leaf=10, min_samples_split=10, n_estimators=100;, score=0.156 total time=   1.3s\n"
     ]
    },
    {
     "name": "stderr",
     "output_type": "stream",
     "text": [
      "C:\\Users\\ben8h\\anaconda3\\Lib\\site-packages\\sklearn\\base.py:1474: DataConversionWarning: A column-vector y was passed when a 1d array was expected. Please change the shape of y to (n_samples,), for example using ravel().\n",
      "  return fit_method(estimator, *args, **kwargs)\n"
     ]
    },
    {
     "name": "stdout",
     "output_type": "stream",
     "text": [
      "[CV 4/10] END max_depth=5, min_samples_leaf=10, min_samples_split=10, n_estimators=100;, score=0.176 total time=   1.4s\n"
     ]
    },
    {
     "name": "stderr",
     "output_type": "stream",
     "text": [
      "C:\\Users\\ben8h\\anaconda3\\Lib\\site-packages\\sklearn\\base.py:1474: DataConversionWarning: A column-vector y was passed when a 1d array was expected. Please change the shape of y to (n_samples,), for example using ravel().\n",
      "  return fit_method(estimator, *args, **kwargs)\n"
     ]
    },
    {
     "name": "stdout",
     "output_type": "stream",
     "text": [
      "[CV 5/10] END max_depth=5, min_samples_leaf=10, min_samples_split=10, n_estimators=100;, score=0.132 total time=   1.4s\n"
     ]
    },
    {
     "name": "stderr",
     "output_type": "stream",
     "text": [
      "C:\\Users\\ben8h\\anaconda3\\Lib\\site-packages\\sklearn\\base.py:1474: DataConversionWarning: A column-vector y was passed when a 1d array was expected. Please change the shape of y to (n_samples,), for example using ravel().\n",
      "  return fit_method(estimator, *args, **kwargs)\n"
     ]
    },
    {
     "name": "stdout",
     "output_type": "stream",
     "text": [
      "[CV 6/10] END max_depth=5, min_samples_leaf=10, min_samples_split=10, n_estimators=100;, score=0.099 total time=   1.4s\n"
     ]
    },
    {
     "name": "stderr",
     "output_type": "stream",
     "text": [
      "C:\\Users\\ben8h\\anaconda3\\Lib\\site-packages\\sklearn\\base.py:1474: DataConversionWarning: A column-vector y was passed when a 1d array was expected. Please change the shape of y to (n_samples,), for example using ravel().\n",
      "  return fit_method(estimator, *args, **kwargs)\n"
     ]
    },
    {
     "name": "stdout",
     "output_type": "stream",
     "text": [
      "[CV 7/10] END max_depth=5, min_samples_leaf=10, min_samples_split=10, n_estimators=100;, score=0.194 total time=   1.3s\n"
     ]
    },
    {
     "name": "stderr",
     "output_type": "stream",
     "text": [
      "C:\\Users\\ben8h\\anaconda3\\Lib\\site-packages\\sklearn\\base.py:1474: DataConversionWarning: A column-vector y was passed when a 1d array was expected. Please change the shape of y to (n_samples,), for example using ravel().\n",
      "  return fit_method(estimator, *args, **kwargs)\n"
     ]
    },
    {
     "name": "stdout",
     "output_type": "stream",
     "text": [
      "[CV 8/10] END max_depth=5, min_samples_leaf=10, min_samples_split=10, n_estimators=100;, score=0.107 total time=   1.3s\n"
     ]
    },
    {
     "name": "stderr",
     "output_type": "stream",
     "text": [
      "C:\\Users\\ben8h\\anaconda3\\Lib\\site-packages\\sklearn\\base.py:1474: DataConversionWarning: A column-vector y was passed when a 1d array was expected. Please change the shape of y to (n_samples,), for example using ravel().\n",
      "  return fit_method(estimator, *args, **kwargs)\n"
     ]
    },
    {
     "name": "stdout",
     "output_type": "stream",
     "text": [
      "[CV 9/10] END max_depth=5, min_samples_leaf=10, min_samples_split=10, n_estimators=100;, score=0.140 total time=   1.3s\n"
     ]
    },
    {
     "name": "stderr",
     "output_type": "stream",
     "text": [
      "C:\\Users\\ben8h\\anaconda3\\Lib\\site-packages\\sklearn\\base.py:1474: DataConversionWarning: A column-vector y was passed when a 1d array was expected. Please change the shape of y to (n_samples,), for example using ravel().\n",
      "  return fit_method(estimator, *args, **kwargs)\n"
     ]
    },
    {
     "name": "stdout",
     "output_type": "stream",
     "text": [
      "[CV 10/10] END max_depth=5, min_samples_leaf=10, min_samples_split=10, n_estimators=100;, score=0.167 total time=   1.3s\n"
     ]
    },
    {
     "name": "stderr",
     "output_type": "stream",
     "text": [
      "C:\\Users\\ben8h\\anaconda3\\Lib\\site-packages\\sklearn\\base.py:1474: DataConversionWarning: A column-vector y was passed when a 1d array was expected. Please change the shape of y to (n_samples,), for example using ravel().\n",
      "  return fit_method(estimator, *args, **kwargs)\n"
     ]
    },
    {
     "name": "stdout",
     "output_type": "stream",
     "text": [
      "[CV 1/10] END max_depth=5, min_samples_leaf=10, min_samples_split=10, n_estimators=200;, score=0.147 total time=   2.8s\n"
     ]
    },
    {
     "name": "stderr",
     "output_type": "stream",
     "text": [
      "C:\\Users\\ben8h\\anaconda3\\Lib\\site-packages\\sklearn\\base.py:1474: DataConversionWarning: A column-vector y was passed when a 1d array was expected. Please change the shape of y to (n_samples,), for example using ravel().\n",
      "  return fit_method(estimator, *args, **kwargs)\n"
     ]
    },
    {
     "name": "stdout",
     "output_type": "stream",
     "text": [
      "[CV 2/10] END max_depth=5, min_samples_leaf=10, min_samples_split=10, n_estimators=200;, score=0.148 total time=   2.8s\n"
     ]
    },
    {
     "name": "stderr",
     "output_type": "stream",
     "text": [
      "C:\\Users\\ben8h\\anaconda3\\Lib\\site-packages\\sklearn\\base.py:1474: DataConversionWarning: A column-vector y was passed when a 1d array was expected. Please change the shape of y to (n_samples,), for example using ravel().\n",
      "  return fit_method(estimator, *args, **kwargs)\n"
     ]
    },
    {
     "name": "stdout",
     "output_type": "stream",
     "text": [
      "[CV 3/10] END max_depth=5, min_samples_leaf=10, min_samples_split=10, n_estimators=200;, score=0.154 total time=   2.8s\n"
     ]
    },
    {
     "name": "stderr",
     "output_type": "stream",
     "text": [
      "C:\\Users\\ben8h\\anaconda3\\Lib\\site-packages\\sklearn\\base.py:1474: DataConversionWarning: A column-vector y was passed when a 1d array was expected. Please change the shape of y to (n_samples,), for example using ravel().\n",
      "  return fit_method(estimator, *args, **kwargs)\n"
     ]
    },
    {
     "name": "stdout",
     "output_type": "stream",
     "text": [
      "[CV 4/10] END max_depth=5, min_samples_leaf=10, min_samples_split=10, n_estimators=200;, score=0.176 total time=   2.8s\n"
     ]
    },
    {
     "name": "stderr",
     "output_type": "stream",
     "text": [
      "C:\\Users\\ben8h\\anaconda3\\Lib\\site-packages\\sklearn\\base.py:1474: DataConversionWarning: A column-vector y was passed when a 1d array was expected. Please change the shape of y to (n_samples,), for example using ravel().\n",
      "  return fit_method(estimator, *args, **kwargs)\n"
     ]
    },
    {
     "name": "stdout",
     "output_type": "stream",
     "text": [
      "[CV 5/10] END max_depth=5, min_samples_leaf=10, min_samples_split=10, n_estimators=200;, score=0.133 total time=   2.8s\n"
     ]
    },
    {
     "name": "stderr",
     "output_type": "stream",
     "text": [
      "C:\\Users\\ben8h\\anaconda3\\Lib\\site-packages\\sklearn\\base.py:1474: DataConversionWarning: A column-vector y was passed when a 1d array was expected. Please change the shape of y to (n_samples,), for example using ravel().\n",
      "  return fit_method(estimator, *args, **kwargs)\n"
     ]
    },
    {
     "name": "stdout",
     "output_type": "stream",
     "text": [
      "[CV 6/10] END max_depth=5, min_samples_leaf=10, min_samples_split=10, n_estimators=200;, score=0.094 total time=   2.8s\n"
     ]
    },
    {
     "name": "stderr",
     "output_type": "stream",
     "text": [
      "C:\\Users\\ben8h\\anaconda3\\Lib\\site-packages\\sklearn\\base.py:1474: DataConversionWarning: A column-vector y was passed when a 1d array was expected. Please change the shape of y to (n_samples,), for example using ravel().\n",
      "  return fit_method(estimator, *args, **kwargs)\n"
     ]
    },
    {
     "name": "stdout",
     "output_type": "stream",
     "text": [
      "[CV 7/10] END max_depth=5, min_samples_leaf=10, min_samples_split=10, n_estimators=200;, score=0.189 total time=   2.8s\n"
     ]
    },
    {
     "name": "stderr",
     "output_type": "stream",
     "text": [
      "C:\\Users\\ben8h\\anaconda3\\Lib\\site-packages\\sklearn\\base.py:1474: DataConversionWarning: A column-vector y was passed when a 1d array was expected. Please change the shape of y to (n_samples,), for example using ravel().\n",
      "  return fit_method(estimator, *args, **kwargs)\n"
     ]
    },
    {
     "name": "stdout",
     "output_type": "stream",
     "text": [
      "[CV 8/10] END max_depth=5, min_samples_leaf=10, min_samples_split=10, n_estimators=200;, score=0.108 total time=   2.8s\n"
     ]
    },
    {
     "name": "stderr",
     "output_type": "stream",
     "text": [
      "C:\\Users\\ben8h\\anaconda3\\Lib\\site-packages\\sklearn\\base.py:1474: DataConversionWarning: A column-vector y was passed when a 1d array was expected. Please change the shape of y to (n_samples,), for example using ravel().\n",
      "  return fit_method(estimator, *args, **kwargs)\n"
     ]
    },
    {
     "name": "stdout",
     "output_type": "stream",
     "text": [
      "[CV 9/10] END max_depth=5, min_samples_leaf=10, min_samples_split=10, n_estimators=200;, score=0.143 total time=   2.8s\n"
     ]
    },
    {
     "name": "stderr",
     "output_type": "stream",
     "text": [
      "C:\\Users\\ben8h\\anaconda3\\Lib\\site-packages\\sklearn\\base.py:1474: DataConversionWarning: A column-vector y was passed when a 1d array was expected. Please change the shape of y to (n_samples,), for example using ravel().\n",
      "  return fit_method(estimator, *args, **kwargs)\n"
     ]
    },
    {
     "name": "stdout",
     "output_type": "stream",
     "text": [
      "[CV 10/10] END max_depth=5, min_samples_leaf=10, min_samples_split=10, n_estimators=200;, score=0.165 total time=   2.9s\n"
     ]
    },
    {
     "name": "stderr",
     "output_type": "stream",
     "text": [
      "C:\\Users\\ben8h\\anaconda3\\Lib\\site-packages\\sklearn\\base.py:1474: DataConversionWarning: A column-vector y was passed when a 1d array was expected. Please change the shape of y to (n_samples,), for example using ravel().\n",
      "  return fit_method(estimator, *args, **kwargs)\n"
     ]
    },
    {
     "name": "stdout",
     "output_type": "stream",
     "text": [
      "[CV 1/10] END max_depth=10, min_samples_leaf=1, min_samples_split=2, n_estimators=50;, score=0.171 total time=   1.3s\n"
     ]
    },
    {
     "name": "stderr",
     "output_type": "stream",
     "text": [
      "C:\\Users\\ben8h\\anaconda3\\Lib\\site-packages\\sklearn\\base.py:1474: DataConversionWarning: A column-vector y was passed when a 1d array was expected. Please change the shape of y to (n_samples,), for example using ravel().\n",
      "  return fit_method(estimator, *args, **kwargs)\n"
     ]
    },
    {
     "name": "stdout",
     "output_type": "stream",
     "text": [
      "[CV 2/10] END max_depth=10, min_samples_leaf=1, min_samples_split=2, n_estimators=50;, score=0.187 total time=   1.3s\n"
     ]
    },
    {
     "name": "stderr",
     "output_type": "stream",
     "text": [
      "C:\\Users\\ben8h\\anaconda3\\Lib\\site-packages\\sklearn\\base.py:1474: DataConversionWarning: A column-vector y was passed when a 1d array was expected. Please change the shape of y to (n_samples,), for example using ravel().\n",
      "  return fit_method(estimator, *args, **kwargs)\n"
     ]
    },
    {
     "name": "stdout",
     "output_type": "stream",
     "text": [
      "[CV 3/10] END max_depth=10, min_samples_leaf=1, min_samples_split=2, n_estimators=50;, score=0.163 total time=   1.3s\n"
     ]
    },
    {
     "name": "stderr",
     "output_type": "stream",
     "text": [
      "C:\\Users\\ben8h\\anaconda3\\Lib\\site-packages\\sklearn\\base.py:1474: DataConversionWarning: A column-vector y was passed when a 1d array was expected. Please change the shape of y to (n_samples,), for example using ravel().\n",
      "  return fit_method(estimator, *args, **kwargs)\n"
     ]
    },
    {
     "name": "stdout",
     "output_type": "stream",
     "text": [
      "[CV 4/10] END max_depth=10, min_samples_leaf=1, min_samples_split=2, n_estimators=50;, score=0.182 total time=   1.3s\n"
     ]
    },
    {
     "name": "stderr",
     "output_type": "stream",
     "text": [
      "C:\\Users\\ben8h\\anaconda3\\Lib\\site-packages\\sklearn\\base.py:1474: DataConversionWarning: A column-vector y was passed when a 1d array was expected. Please change the shape of y to (n_samples,), for example using ravel().\n",
      "  return fit_method(estimator, *args, **kwargs)\n"
     ]
    },
    {
     "name": "stdout",
     "output_type": "stream",
     "text": [
      "[CV 5/10] END max_depth=10, min_samples_leaf=1, min_samples_split=2, n_estimators=50;, score=0.137 total time=   1.3s\n"
     ]
    },
    {
     "name": "stderr",
     "output_type": "stream",
     "text": [
      "C:\\Users\\ben8h\\anaconda3\\Lib\\site-packages\\sklearn\\base.py:1474: DataConversionWarning: A column-vector y was passed when a 1d array was expected. Please change the shape of y to (n_samples,), for example using ravel().\n",
      "  return fit_method(estimator, *args, **kwargs)\n"
     ]
    },
    {
     "name": "stdout",
     "output_type": "stream",
     "text": [
      "[CV 6/10] END max_depth=10, min_samples_leaf=1, min_samples_split=2, n_estimators=50;, score=0.125 total time=   1.3s\n"
     ]
    },
    {
     "name": "stderr",
     "output_type": "stream",
     "text": [
      "C:\\Users\\ben8h\\anaconda3\\Lib\\site-packages\\sklearn\\base.py:1474: DataConversionWarning: A column-vector y was passed when a 1d array was expected. Please change the shape of y to (n_samples,), for example using ravel().\n",
      "  return fit_method(estimator, *args, **kwargs)\n"
     ]
    },
    {
     "name": "stdout",
     "output_type": "stream",
     "text": [
      "[CV 7/10] END max_depth=10, min_samples_leaf=1, min_samples_split=2, n_estimators=50;, score=0.189 total time=   1.3s\n"
     ]
    },
    {
     "name": "stderr",
     "output_type": "stream",
     "text": [
      "C:\\Users\\ben8h\\anaconda3\\Lib\\site-packages\\sklearn\\base.py:1474: DataConversionWarning: A column-vector y was passed when a 1d array was expected. Please change the shape of y to (n_samples,), for example using ravel().\n",
      "  return fit_method(estimator, *args, **kwargs)\n"
     ]
    },
    {
     "name": "stdout",
     "output_type": "stream",
     "text": [
      "[CV 8/10] END max_depth=10, min_samples_leaf=1, min_samples_split=2, n_estimators=50;, score=0.104 total time=   1.4s\n"
     ]
    },
    {
     "name": "stderr",
     "output_type": "stream",
     "text": [
      "C:\\Users\\ben8h\\anaconda3\\Lib\\site-packages\\sklearn\\base.py:1474: DataConversionWarning: A column-vector y was passed when a 1d array was expected. Please change the shape of y to (n_samples,), for example using ravel().\n",
      "  return fit_method(estimator, *args, **kwargs)\n"
     ]
    },
    {
     "name": "stdout",
     "output_type": "stream",
     "text": [
      "[CV 9/10] END max_depth=10, min_samples_leaf=1, min_samples_split=2, n_estimators=50;, score=0.163 total time=   1.3s\n"
     ]
    },
    {
     "name": "stderr",
     "output_type": "stream",
     "text": [
      "C:\\Users\\ben8h\\anaconda3\\Lib\\site-packages\\sklearn\\base.py:1474: DataConversionWarning: A column-vector y was passed when a 1d array was expected. Please change the shape of y to (n_samples,), for example using ravel().\n",
      "  return fit_method(estimator, *args, **kwargs)\n"
     ]
    },
    {
     "name": "stdout",
     "output_type": "stream",
     "text": [
      "[CV 10/10] END max_depth=10, min_samples_leaf=1, min_samples_split=2, n_estimators=50;, score=0.163 total time=   1.3s\n"
     ]
    },
    {
     "name": "stderr",
     "output_type": "stream",
     "text": [
      "C:\\Users\\ben8h\\anaconda3\\Lib\\site-packages\\sklearn\\base.py:1474: DataConversionWarning: A column-vector y was passed when a 1d array was expected. Please change the shape of y to (n_samples,), for example using ravel().\n",
      "  return fit_method(estimator, *args, **kwargs)\n"
     ]
    },
    {
     "name": "stdout",
     "output_type": "stream",
     "text": [
      "[CV 1/10] END max_depth=10, min_samples_leaf=1, min_samples_split=2, n_estimators=100;, score=0.178 total time=   2.8s\n"
     ]
    },
    {
     "name": "stderr",
     "output_type": "stream",
     "text": [
      "C:\\Users\\ben8h\\anaconda3\\Lib\\site-packages\\sklearn\\base.py:1474: DataConversionWarning: A column-vector y was passed when a 1d array was expected. Please change the shape of y to (n_samples,), for example using ravel().\n",
      "  return fit_method(estimator, *args, **kwargs)\n"
     ]
    },
    {
     "name": "stdout",
     "output_type": "stream",
     "text": [
      "[CV 2/10] END max_depth=10, min_samples_leaf=1, min_samples_split=2, n_estimators=100;, score=0.181 total time=   2.8s\n"
     ]
    },
    {
     "name": "stderr",
     "output_type": "stream",
     "text": [
      "C:\\Users\\ben8h\\anaconda3\\Lib\\site-packages\\sklearn\\base.py:1474: DataConversionWarning: A column-vector y was passed when a 1d array was expected. Please change the shape of y to (n_samples,), for example using ravel().\n",
      "  return fit_method(estimator, *args, **kwargs)\n"
     ]
    },
    {
     "name": "stdout",
     "output_type": "stream",
     "text": [
      "[CV 3/10] END max_depth=10, min_samples_leaf=1, min_samples_split=2, n_estimators=100;, score=0.153 total time=   2.7s\n"
     ]
    },
    {
     "name": "stderr",
     "output_type": "stream",
     "text": [
      "C:\\Users\\ben8h\\anaconda3\\Lib\\site-packages\\sklearn\\base.py:1474: DataConversionWarning: A column-vector y was passed when a 1d array was expected. Please change the shape of y to (n_samples,), for example using ravel().\n",
      "  return fit_method(estimator, *args, **kwargs)\n"
     ]
    },
    {
     "name": "stdout",
     "output_type": "stream",
     "text": [
      "[CV 4/10] END max_depth=10, min_samples_leaf=1, min_samples_split=2, n_estimators=100;, score=0.195 total time=   2.8s\n"
     ]
    },
    {
     "name": "stderr",
     "output_type": "stream",
     "text": [
      "C:\\Users\\ben8h\\anaconda3\\Lib\\site-packages\\sklearn\\base.py:1474: DataConversionWarning: A column-vector y was passed when a 1d array was expected. Please change the shape of y to (n_samples,), for example using ravel().\n",
      "  return fit_method(estimator, *args, **kwargs)\n"
     ]
    },
    {
     "name": "stdout",
     "output_type": "stream",
     "text": [
      "[CV 5/10] END max_depth=10, min_samples_leaf=1, min_samples_split=2, n_estimators=100;, score=0.128 total time=   2.8s\n"
     ]
    },
    {
     "name": "stderr",
     "output_type": "stream",
     "text": [
      "C:\\Users\\ben8h\\anaconda3\\Lib\\site-packages\\sklearn\\base.py:1474: DataConversionWarning: A column-vector y was passed when a 1d array was expected. Please change the shape of y to (n_samples,), for example using ravel().\n",
      "  return fit_method(estimator, *args, **kwargs)\n"
     ]
    },
    {
     "name": "stdout",
     "output_type": "stream",
     "text": [
      "[CV 6/10] END max_depth=10, min_samples_leaf=1, min_samples_split=2, n_estimators=100;, score=0.132 total time=   2.8s\n"
     ]
    },
    {
     "name": "stderr",
     "output_type": "stream",
     "text": [
      "C:\\Users\\ben8h\\anaconda3\\Lib\\site-packages\\sklearn\\base.py:1474: DataConversionWarning: A column-vector y was passed when a 1d array was expected. Please change the shape of y to (n_samples,), for example using ravel().\n",
      "  return fit_method(estimator, *args, **kwargs)\n"
     ]
    },
    {
     "name": "stdout",
     "output_type": "stream",
     "text": [
      "[CV 7/10] END max_depth=10, min_samples_leaf=1, min_samples_split=2, n_estimators=100;, score=0.196 total time=   2.7s\n"
     ]
    },
    {
     "name": "stderr",
     "output_type": "stream",
     "text": [
      "C:\\Users\\ben8h\\anaconda3\\Lib\\site-packages\\sklearn\\base.py:1474: DataConversionWarning: A column-vector y was passed when a 1d array was expected. Please change the shape of y to (n_samples,), for example using ravel().\n",
      "  return fit_method(estimator, *args, **kwargs)\n"
     ]
    },
    {
     "name": "stdout",
     "output_type": "stream",
     "text": [
      "[CV 8/10] END max_depth=10, min_samples_leaf=1, min_samples_split=2, n_estimators=100;, score=0.102 total time=   2.8s\n"
     ]
    },
    {
     "name": "stderr",
     "output_type": "stream",
     "text": [
      "C:\\Users\\ben8h\\anaconda3\\Lib\\site-packages\\sklearn\\base.py:1474: DataConversionWarning: A column-vector y was passed when a 1d array was expected. Please change the shape of y to (n_samples,), for example using ravel().\n",
      "  return fit_method(estimator, *args, **kwargs)\n"
     ]
    },
    {
     "name": "stdout",
     "output_type": "stream",
     "text": [
      "[CV 9/10] END max_depth=10, min_samples_leaf=1, min_samples_split=2, n_estimators=100;, score=0.167 total time=   2.8s\n"
     ]
    },
    {
     "name": "stderr",
     "output_type": "stream",
     "text": [
      "C:\\Users\\ben8h\\anaconda3\\Lib\\site-packages\\sklearn\\base.py:1474: DataConversionWarning: A column-vector y was passed when a 1d array was expected. Please change the shape of y to (n_samples,), for example using ravel().\n",
      "  return fit_method(estimator, *args, **kwargs)\n"
     ]
    },
    {
     "name": "stdout",
     "output_type": "stream",
     "text": [
      "[CV 10/10] END max_depth=10, min_samples_leaf=1, min_samples_split=2, n_estimators=100;, score=0.162 total time=   2.7s\n"
     ]
    },
    {
     "name": "stderr",
     "output_type": "stream",
     "text": [
      "C:\\Users\\ben8h\\anaconda3\\Lib\\site-packages\\sklearn\\base.py:1474: DataConversionWarning: A column-vector y was passed when a 1d array was expected. Please change the shape of y to (n_samples,), for example using ravel().\n",
      "  return fit_method(estimator, *args, **kwargs)\n"
     ]
    },
    {
     "name": "stdout",
     "output_type": "stream",
     "text": [
      "[CV 1/10] END max_depth=10, min_samples_leaf=1, min_samples_split=2, n_estimators=200;, score=0.185 total time=   5.6s\n"
     ]
    },
    {
     "name": "stderr",
     "output_type": "stream",
     "text": [
      "C:\\Users\\ben8h\\anaconda3\\Lib\\site-packages\\sklearn\\base.py:1474: DataConversionWarning: A column-vector y was passed when a 1d array was expected. Please change the shape of y to (n_samples,), for example using ravel().\n",
      "  return fit_method(estimator, *args, **kwargs)\n"
     ]
    },
    {
     "name": "stdout",
     "output_type": "stream",
     "text": [
      "[CV 2/10] END max_depth=10, min_samples_leaf=1, min_samples_split=2, n_estimators=200;, score=0.179 total time=   5.6s\n"
     ]
    },
    {
     "name": "stderr",
     "output_type": "stream",
     "text": [
      "C:\\Users\\ben8h\\anaconda3\\Lib\\site-packages\\sklearn\\base.py:1474: DataConversionWarning: A column-vector y was passed when a 1d array was expected. Please change the shape of y to (n_samples,), for example using ravel().\n",
      "  return fit_method(estimator, *args, **kwargs)\n"
     ]
    },
    {
     "name": "stdout",
     "output_type": "stream",
     "text": [
      "[CV 3/10] END max_depth=10, min_samples_leaf=1, min_samples_split=2, n_estimators=200;, score=0.150 total time=   5.6s\n"
     ]
    },
    {
     "name": "stderr",
     "output_type": "stream",
     "text": [
      "C:\\Users\\ben8h\\anaconda3\\Lib\\site-packages\\sklearn\\base.py:1474: DataConversionWarning: A column-vector y was passed when a 1d array was expected. Please change the shape of y to (n_samples,), for example using ravel().\n",
      "  return fit_method(estimator, *args, **kwargs)\n"
     ]
    },
    {
     "name": "stdout",
     "output_type": "stream",
     "text": [
      "[CV 4/10] END max_depth=10, min_samples_leaf=1, min_samples_split=2, n_estimators=200;, score=0.195 total time=   5.6s\n"
     ]
    },
    {
     "name": "stderr",
     "output_type": "stream",
     "text": [
      "C:\\Users\\ben8h\\anaconda3\\Lib\\site-packages\\sklearn\\base.py:1474: DataConversionWarning: A column-vector y was passed when a 1d array was expected. Please change the shape of y to (n_samples,), for example using ravel().\n",
      "  return fit_method(estimator, *args, **kwargs)\n"
     ]
    },
    {
     "name": "stdout",
     "output_type": "stream",
     "text": [
      "[CV 5/10] END max_depth=10, min_samples_leaf=1, min_samples_split=2, n_estimators=200;, score=0.137 total time=   5.6s\n"
     ]
    },
    {
     "name": "stderr",
     "output_type": "stream",
     "text": [
      "C:\\Users\\ben8h\\anaconda3\\Lib\\site-packages\\sklearn\\base.py:1474: DataConversionWarning: A column-vector y was passed when a 1d array was expected. Please change the shape of y to (n_samples,), for example using ravel().\n",
      "  return fit_method(estimator, *args, **kwargs)\n"
     ]
    },
    {
     "name": "stdout",
     "output_type": "stream",
     "text": [
      "[CV 6/10] END max_depth=10, min_samples_leaf=1, min_samples_split=2, n_estimators=200;, score=0.131 total time=   5.6s\n"
     ]
    },
    {
     "name": "stderr",
     "output_type": "stream",
     "text": [
      "C:\\Users\\ben8h\\anaconda3\\Lib\\site-packages\\sklearn\\base.py:1474: DataConversionWarning: A column-vector y was passed when a 1d array was expected. Please change the shape of y to (n_samples,), for example using ravel().\n",
      "  return fit_method(estimator, *args, **kwargs)\n"
     ]
    },
    {
     "name": "stdout",
     "output_type": "stream",
     "text": [
      "[CV 7/10] END max_depth=10, min_samples_leaf=1, min_samples_split=2, n_estimators=200;, score=0.203 total time=   5.6s\n"
     ]
    },
    {
     "name": "stderr",
     "output_type": "stream",
     "text": [
      "C:\\Users\\ben8h\\anaconda3\\Lib\\site-packages\\sklearn\\base.py:1474: DataConversionWarning: A column-vector y was passed when a 1d array was expected. Please change the shape of y to (n_samples,), for example using ravel().\n",
      "  return fit_method(estimator, *args, **kwargs)\n"
     ]
    },
    {
     "name": "stdout",
     "output_type": "stream",
     "text": [
      "[CV 8/10] END max_depth=10, min_samples_leaf=1, min_samples_split=2, n_estimators=200;, score=0.103 total time=   5.6s\n"
     ]
    },
    {
     "name": "stderr",
     "output_type": "stream",
     "text": [
      "C:\\Users\\ben8h\\anaconda3\\Lib\\site-packages\\sklearn\\base.py:1474: DataConversionWarning: A column-vector y was passed when a 1d array was expected. Please change the shape of y to (n_samples,), for example using ravel().\n",
      "  return fit_method(estimator, *args, **kwargs)\n"
     ]
    },
    {
     "name": "stdout",
     "output_type": "stream",
     "text": [
      "[CV 9/10] END max_depth=10, min_samples_leaf=1, min_samples_split=2, n_estimators=200;, score=0.166 total time=   5.6s\n"
     ]
    },
    {
     "name": "stderr",
     "output_type": "stream",
     "text": [
      "C:\\Users\\ben8h\\anaconda3\\Lib\\site-packages\\sklearn\\base.py:1474: DataConversionWarning: A column-vector y was passed when a 1d array was expected. Please change the shape of y to (n_samples,), for example using ravel().\n",
      "  return fit_method(estimator, *args, **kwargs)\n"
     ]
    },
    {
     "name": "stdout",
     "output_type": "stream",
     "text": [
      "[CV 10/10] END max_depth=10, min_samples_leaf=1, min_samples_split=2, n_estimators=200;, score=0.172 total time=   5.7s\n"
     ]
    },
    {
     "name": "stderr",
     "output_type": "stream",
     "text": [
      "C:\\Users\\ben8h\\anaconda3\\Lib\\site-packages\\sklearn\\base.py:1474: DataConversionWarning: A column-vector y was passed when a 1d array was expected. Please change the shape of y to (n_samples,), for example using ravel().\n",
      "  return fit_method(estimator, *args, **kwargs)\n"
     ]
    },
    {
     "name": "stdout",
     "output_type": "stream",
     "text": [
      "[CV 1/10] END max_depth=10, min_samples_leaf=1, min_samples_split=5, n_estimators=50;, score=0.178 total time=   1.3s\n"
     ]
    },
    {
     "name": "stderr",
     "output_type": "stream",
     "text": [
      "C:\\Users\\ben8h\\anaconda3\\Lib\\site-packages\\sklearn\\base.py:1474: DataConversionWarning: A column-vector y was passed when a 1d array was expected. Please change the shape of y to (n_samples,), for example using ravel().\n",
      "  return fit_method(estimator, *args, **kwargs)\n"
     ]
    },
    {
     "name": "stdout",
     "output_type": "stream",
     "text": [
      "[CV 2/10] END max_depth=10, min_samples_leaf=1, min_samples_split=5, n_estimators=50;, score=0.186 total time=   1.3s\n"
     ]
    },
    {
     "name": "stderr",
     "output_type": "stream",
     "text": [
      "C:\\Users\\ben8h\\anaconda3\\Lib\\site-packages\\sklearn\\base.py:1474: DataConversionWarning: A column-vector y was passed when a 1d array was expected. Please change the shape of y to (n_samples,), for example using ravel().\n",
      "  return fit_method(estimator, *args, **kwargs)\n"
     ]
    },
    {
     "name": "stdout",
     "output_type": "stream",
     "text": [
      "[CV 3/10] END max_depth=10, min_samples_leaf=1, min_samples_split=5, n_estimators=50;, score=0.154 total time=   1.3s\n"
     ]
    },
    {
     "name": "stderr",
     "output_type": "stream",
     "text": [
      "C:\\Users\\ben8h\\anaconda3\\Lib\\site-packages\\sklearn\\base.py:1474: DataConversionWarning: A column-vector y was passed when a 1d array was expected. Please change the shape of y to (n_samples,), for example using ravel().\n",
      "  return fit_method(estimator, *args, **kwargs)\n"
     ]
    },
    {
     "name": "stdout",
     "output_type": "stream",
     "text": [
      "[CV 4/10] END max_depth=10, min_samples_leaf=1, min_samples_split=5, n_estimators=50;, score=0.195 total time=   1.4s\n"
     ]
    },
    {
     "name": "stderr",
     "output_type": "stream",
     "text": [
      "C:\\Users\\ben8h\\anaconda3\\Lib\\site-packages\\sklearn\\base.py:1474: DataConversionWarning: A column-vector y was passed when a 1d array was expected. Please change the shape of y to (n_samples,), for example using ravel().\n",
      "  return fit_method(estimator, *args, **kwargs)\n"
     ]
    },
    {
     "name": "stdout",
     "output_type": "stream",
     "text": [
      "[CV 5/10] END max_depth=10, min_samples_leaf=1, min_samples_split=5, n_estimators=50;, score=0.129 total time=   1.3s\n"
     ]
    },
    {
     "name": "stderr",
     "output_type": "stream",
     "text": [
      "C:\\Users\\ben8h\\anaconda3\\Lib\\site-packages\\sklearn\\base.py:1474: DataConversionWarning: A column-vector y was passed when a 1d array was expected. Please change the shape of y to (n_samples,), for example using ravel().\n",
      "  return fit_method(estimator, *args, **kwargs)\n"
     ]
    },
    {
     "name": "stdout",
     "output_type": "stream",
     "text": [
      "[CV 6/10] END max_depth=10, min_samples_leaf=1, min_samples_split=5, n_estimators=50;, score=0.135 total time=   1.3s\n"
     ]
    },
    {
     "name": "stderr",
     "output_type": "stream",
     "text": [
      "C:\\Users\\ben8h\\anaconda3\\Lib\\site-packages\\sklearn\\base.py:1474: DataConversionWarning: A column-vector y was passed when a 1d array was expected. Please change the shape of y to (n_samples,), for example using ravel().\n",
      "  return fit_method(estimator, *args, **kwargs)\n"
     ]
    },
    {
     "name": "stdout",
     "output_type": "stream",
     "text": [
      "[CV 7/10] END max_depth=10, min_samples_leaf=1, min_samples_split=5, n_estimators=50;, score=0.180 total time=   1.3s\n"
     ]
    },
    {
     "name": "stderr",
     "output_type": "stream",
     "text": [
      "C:\\Users\\ben8h\\anaconda3\\Lib\\site-packages\\sklearn\\base.py:1474: DataConversionWarning: A column-vector y was passed when a 1d array was expected. Please change the shape of y to (n_samples,), for example using ravel().\n",
      "  return fit_method(estimator, *args, **kwargs)\n"
     ]
    },
    {
     "name": "stdout",
     "output_type": "stream",
     "text": [
      "[CV 8/10] END max_depth=10, min_samples_leaf=1, min_samples_split=5, n_estimators=50;, score=0.098 total time=   1.3s\n"
     ]
    },
    {
     "name": "stderr",
     "output_type": "stream",
     "text": [
      "C:\\Users\\ben8h\\anaconda3\\Lib\\site-packages\\sklearn\\base.py:1474: DataConversionWarning: A column-vector y was passed when a 1d array was expected. Please change the shape of y to (n_samples,), for example using ravel().\n",
      "  return fit_method(estimator, *args, **kwargs)\n"
     ]
    },
    {
     "name": "stdout",
     "output_type": "stream",
     "text": [
      "[CV 9/10] END max_depth=10, min_samples_leaf=1, min_samples_split=5, n_estimators=50;, score=0.167 total time=   1.3s\n"
     ]
    },
    {
     "name": "stderr",
     "output_type": "stream",
     "text": [
      "C:\\Users\\ben8h\\anaconda3\\Lib\\site-packages\\sklearn\\base.py:1474: DataConversionWarning: A column-vector y was passed when a 1d array was expected. Please change the shape of y to (n_samples,), for example using ravel().\n",
      "  return fit_method(estimator, *args, **kwargs)\n"
     ]
    },
    {
     "name": "stdout",
     "output_type": "stream",
     "text": [
      "[CV 10/10] END max_depth=10, min_samples_leaf=1, min_samples_split=5, n_estimators=50;, score=0.158 total time=   1.3s\n"
     ]
    },
    {
     "name": "stderr",
     "output_type": "stream",
     "text": [
      "C:\\Users\\ben8h\\anaconda3\\Lib\\site-packages\\sklearn\\base.py:1474: DataConversionWarning: A column-vector y was passed when a 1d array was expected. Please change the shape of y to (n_samples,), for example using ravel().\n",
      "  return fit_method(estimator, *args, **kwargs)\n"
     ]
    },
    {
     "name": "stdout",
     "output_type": "stream",
     "text": [
      "[CV 1/10] END max_depth=10, min_samples_leaf=1, min_samples_split=5, n_estimators=100;, score=0.173 total time=   2.8s\n"
     ]
    },
    {
     "name": "stderr",
     "output_type": "stream",
     "text": [
      "C:\\Users\\ben8h\\anaconda3\\Lib\\site-packages\\sklearn\\base.py:1474: DataConversionWarning: A column-vector y was passed when a 1d array was expected. Please change the shape of y to (n_samples,), for example using ravel().\n",
      "  return fit_method(estimator, *args, **kwargs)\n"
     ]
    },
    {
     "name": "stdout",
     "output_type": "stream",
     "text": [
      "[CV 2/10] END max_depth=10, min_samples_leaf=1, min_samples_split=5, n_estimators=100;, score=0.175 total time=   2.8s\n"
     ]
    },
    {
     "name": "stderr",
     "output_type": "stream",
     "text": [
      "C:\\Users\\ben8h\\anaconda3\\Lib\\site-packages\\sklearn\\base.py:1474: DataConversionWarning: A column-vector y was passed when a 1d array was expected. Please change the shape of y to (n_samples,), for example using ravel().\n",
      "  return fit_method(estimator, *args, **kwargs)\n"
     ]
    },
    {
     "name": "stdout",
     "output_type": "stream",
     "text": [
      "[CV 3/10] END max_depth=10, min_samples_leaf=1, min_samples_split=5, n_estimators=100;, score=0.161 total time=   2.7s\n"
     ]
    },
    {
     "name": "stderr",
     "output_type": "stream",
     "text": [
      "C:\\Users\\ben8h\\anaconda3\\Lib\\site-packages\\sklearn\\base.py:1474: DataConversionWarning: A column-vector y was passed when a 1d array was expected. Please change the shape of y to (n_samples,), for example using ravel().\n",
      "  return fit_method(estimator, *args, **kwargs)\n"
     ]
    },
    {
     "name": "stdout",
     "output_type": "stream",
     "text": [
      "[CV 4/10] END max_depth=10, min_samples_leaf=1, min_samples_split=5, n_estimators=100;, score=0.194 total time=   2.8s\n"
     ]
    },
    {
     "name": "stderr",
     "output_type": "stream",
     "text": [
      "C:\\Users\\ben8h\\anaconda3\\Lib\\site-packages\\sklearn\\base.py:1474: DataConversionWarning: A column-vector y was passed when a 1d array was expected. Please change the shape of y to (n_samples,), for example using ravel().\n",
      "  return fit_method(estimator, *args, **kwargs)\n"
     ]
    },
    {
     "name": "stdout",
     "output_type": "stream",
     "text": [
      "[CV 5/10] END max_depth=10, min_samples_leaf=1, min_samples_split=5, n_estimators=100;, score=0.134 total time=   2.7s\n"
     ]
    },
    {
     "name": "stderr",
     "output_type": "stream",
     "text": [
      "C:\\Users\\ben8h\\anaconda3\\Lib\\site-packages\\sklearn\\base.py:1474: DataConversionWarning: A column-vector y was passed when a 1d array was expected. Please change the shape of y to (n_samples,), for example using ravel().\n",
      "  return fit_method(estimator, *args, **kwargs)\n"
     ]
    },
    {
     "name": "stdout",
     "output_type": "stream",
     "text": [
      "[CV 6/10] END max_depth=10, min_samples_leaf=1, min_samples_split=5, n_estimators=100;, score=0.135 total time=   2.8s\n"
     ]
    },
    {
     "name": "stderr",
     "output_type": "stream",
     "text": [
      "C:\\Users\\ben8h\\anaconda3\\Lib\\site-packages\\sklearn\\base.py:1474: DataConversionWarning: A column-vector y was passed when a 1d array was expected. Please change the shape of y to (n_samples,), for example using ravel().\n",
      "  return fit_method(estimator, *args, **kwargs)\n"
     ]
    },
    {
     "name": "stdout",
     "output_type": "stream",
     "text": [
      "[CV 7/10] END max_depth=10, min_samples_leaf=1, min_samples_split=5, n_estimators=100;, score=0.204 total time=   2.7s\n"
     ]
    },
    {
     "name": "stderr",
     "output_type": "stream",
     "text": [
      "C:\\Users\\ben8h\\anaconda3\\Lib\\site-packages\\sklearn\\base.py:1474: DataConversionWarning: A column-vector y was passed when a 1d array was expected. Please change the shape of y to (n_samples,), for example using ravel().\n",
      "  return fit_method(estimator, *args, **kwargs)\n"
     ]
    },
    {
     "name": "stdout",
     "output_type": "stream",
     "text": [
      "[CV 8/10] END max_depth=10, min_samples_leaf=1, min_samples_split=5, n_estimators=100;, score=0.100 total time=   2.8s\n"
     ]
    },
    {
     "name": "stderr",
     "output_type": "stream",
     "text": [
      "C:\\Users\\ben8h\\anaconda3\\Lib\\site-packages\\sklearn\\base.py:1474: DataConversionWarning: A column-vector y was passed when a 1d array was expected. Please change the shape of y to (n_samples,), for example using ravel().\n",
      "  return fit_method(estimator, *args, **kwargs)\n"
     ]
    },
    {
     "name": "stdout",
     "output_type": "stream",
     "text": [
      "[CV 9/10] END max_depth=10, min_samples_leaf=1, min_samples_split=5, n_estimators=100;, score=0.166 total time=   2.8s\n"
     ]
    },
    {
     "name": "stderr",
     "output_type": "stream",
     "text": [
      "C:\\Users\\ben8h\\anaconda3\\Lib\\site-packages\\sklearn\\base.py:1474: DataConversionWarning: A column-vector y was passed when a 1d array was expected. Please change the shape of y to (n_samples,), for example using ravel().\n",
      "  return fit_method(estimator, *args, **kwargs)\n"
     ]
    },
    {
     "name": "stdout",
     "output_type": "stream",
     "text": [
      "[CV 10/10] END max_depth=10, min_samples_leaf=1, min_samples_split=5, n_estimators=100;, score=0.155 total time=   2.8s\n"
     ]
    },
    {
     "name": "stderr",
     "output_type": "stream",
     "text": [
      "C:\\Users\\ben8h\\anaconda3\\Lib\\site-packages\\sklearn\\base.py:1474: DataConversionWarning: A column-vector y was passed when a 1d array was expected. Please change the shape of y to (n_samples,), for example using ravel().\n",
      "  return fit_method(estimator, *args, **kwargs)\n"
     ]
    },
    {
     "name": "stdout",
     "output_type": "stream",
     "text": [
      "[CV 1/10] END max_depth=10, min_samples_leaf=1, min_samples_split=5, n_estimators=200;, score=0.181 total time=   5.6s\n"
     ]
    },
    {
     "name": "stderr",
     "output_type": "stream",
     "text": [
      "C:\\Users\\ben8h\\anaconda3\\Lib\\site-packages\\sklearn\\base.py:1474: DataConversionWarning: A column-vector y was passed when a 1d array was expected. Please change the shape of y to (n_samples,), for example using ravel().\n",
      "  return fit_method(estimator, *args, **kwargs)\n"
     ]
    },
    {
     "name": "stdout",
     "output_type": "stream",
     "text": [
      "[CV 2/10] END max_depth=10, min_samples_leaf=1, min_samples_split=5, n_estimators=200;, score=0.184 total time=   5.5s\n"
     ]
    },
    {
     "name": "stderr",
     "output_type": "stream",
     "text": [
      "C:\\Users\\ben8h\\anaconda3\\Lib\\site-packages\\sklearn\\base.py:1474: DataConversionWarning: A column-vector y was passed when a 1d array was expected. Please change the shape of y to (n_samples,), for example using ravel().\n",
      "  return fit_method(estimator, *args, **kwargs)\n"
     ]
    },
    {
     "name": "stdout",
     "output_type": "stream",
     "text": [
      "[CV 3/10] END max_depth=10, min_samples_leaf=1, min_samples_split=5, n_estimators=200;, score=0.161 total time=   5.6s\n"
     ]
    },
    {
     "name": "stderr",
     "output_type": "stream",
     "text": [
      "C:\\Users\\ben8h\\anaconda3\\Lib\\site-packages\\sklearn\\base.py:1474: DataConversionWarning: A column-vector y was passed when a 1d array was expected. Please change the shape of y to (n_samples,), for example using ravel().\n",
      "  return fit_method(estimator, *args, **kwargs)\n"
     ]
    },
    {
     "name": "stdout",
     "output_type": "stream",
     "text": [
      "[CV 4/10] END max_depth=10, min_samples_leaf=1, min_samples_split=5, n_estimators=200;, score=0.202 total time=   5.6s\n"
     ]
    },
    {
     "name": "stderr",
     "output_type": "stream",
     "text": [
      "C:\\Users\\ben8h\\anaconda3\\Lib\\site-packages\\sklearn\\base.py:1474: DataConversionWarning: A column-vector y was passed when a 1d array was expected. Please change the shape of y to (n_samples,), for example using ravel().\n",
      "  return fit_method(estimator, *args, **kwargs)\n"
     ]
    },
    {
     "name": "stdout",
     "output_type": "stream",
     "text": [
      "[CV 5/10] END max_depth=10, min_samples_leaf=1, min_samples_split=5, n_estimators=200;, score=0.137 total time=   5.6s\n"
     ]
    },
    {
     "name": "stderr",
     "output_type": "stream",
     "text": [
      "C:\\Users\\ben8h\\anaconda3\\Lib\\site-packages\\sklearn\\base.py:1474: DataConversionWarning: A column-vector y was passed when a 1d array was expected. Please change the shape of y to (n_samples,), for example using ravel().\n",
      "  return fit_method(estimator, *args, **kwargs)\n"
     ]
    },
    {
     "name": "stdout",
     "output_type": "stream",
     "text": [
      "[CV 6/10] END max_depth=10, min_samples_leaf=1, min_samples_split=5, n_estimators=200;, score=0.138 total time=   5.6s\n"
     ]
    },
    {
     "name": "stderr",
     "output_type": "stream",
     "text": [
      "C:\\Users\\ben8h\\anaconda3\\Lib\\site-packages\\sklearn\\base.py:1474: DataConversionWarning: A column-vector y was passed when a 1d array was expected. Please change the shape of y to (n_samples,), for example using ravel().\n",
      "  return fit_method(estimator, *args, **kwargs)\n"
     ]
    },
    {
     "name": "stdout",
     "output_type": "stream",
     "text": [
      "[CV 7/10] END max_depth=10, min_samples_leaf=1, min_samples_split=5, n_estimators=200;, score=0.198 total time=   5.6s\n"
     ]
    },
    {
     "name": "stderr",
     "output_type": "stream",
     "text": [
      "C:\\Users\\ben8h\\anaconda3\\Lib\\site-packages\\sklearn\\base.py:1474: DataConversionWarning: A column-vector y was passed when a 1d array was expected. Please change the shape of y to (n_samples,), for example using ravel().\n",
      "  return fit_method(estimator, *args, **kwargs)\n"
     ]
    },
    {
     "name": "stdout",
     "output_type": "stream",
     "text": [
      "[CV 8/10] END max_depth=10, min_samples_leaf=1, min_samples_split=5, n_estimators=200;, score=0.102 total time=   5.6s\n"
     ]
    },
    {
     "name": "stderr",
     "output_type": "stream",
     "text": [
      "C:\\Users\\ben8h\\anaconda3\\Lib\\site-packages\\sklearn\\base.py:1474: DataConversionWarning: A column-vector y was passed when a 1d array was expected. Please change the shape of y to (n_samples,), for example using ravel().\n",
      "  return fit_method(estimator, *args, **kwargs)\n"
     ]
    },
    {
     "name": "stdout",
     "output_type": "stream",
     "text": [
      "[CV 9/10] END max_depth=10, min_samples_leaf=1, min_samples_split=5, n_estimators=200;, score=0.171 total time=   5.6s\n"
     ]
    },
    {
     "name": "stderr",
     "output_type": "stream",
     "text": [
      "C:\\Users\\ben8h\\anaconda3\\Lib\\site-packages\\sklearn\\base.py:1474: DataConversionWarning: A column-vector y was passed when a 1d array was expected. Please change the shape of y to (n_samples,), for example using ravel().\n",
      "  return fit_method(estimator, *args, **kwargs)\n"
     ]
    },
    {
     "name": "stdout",
     "output_type": "stream",
     "text": [
      "[CV 10/10] END max_depth=10, min_samples_leaf=1, min_samples_split=5, n_estimators=200;, score=0.160 total time=   5.6s\n"
     ]
    },
    {
     "name": "stderr",
     "output_type": "stream",
     "text": [
      "C:\\Users\\ben8h\\anaconda3\\Lib\\site-packages\\sklearn\\base.py:1474: DataConversionWarning: A column-vector y was passed when a 1d array was expected. Please change the shape of y to (n_samples,), for example using ravel().\n",
      "  return fit_method(estimator, *args, **kwargs)\n"
     ]
    },
    {
     "name": "stdout",
     "output_type": "stream",
     "text": [
      "[CV 1/10] END max_depth=10, min_samples_leaf=1, min_samples_split=10, n_estimators=50;, score=0.181 total time=   1.3s\n"
     ]
    },
    {
     "name": "stderr",
     "output_type": "stream",
     "text": [
      "C:\\Users\\ben8h\\anaconda3\\Lib\\site-packages\\sklearn\\base.py:1474: DataConversionWarning: A column-vector y was passed when a 1d array was expected. Please change the shape of y to (n_samples,), for example using ravel().\n",
      "  return fit_method(estimator, *args, **kwargs)\n"
     ]
    },
    {
     "name": "stdout",
     "output_type": "stream",
     "text": [
      "[CV 2/10] END max_depth=10, min_samples_leaf=1, min_samples_split=10, n_estimators=50;, score=0.167 total time=   1.3s\n"
     ]
    },
    {
     "name": "stderr",
     "output_type": "stream",
     "text": [
      "C:\\Users\\ben8h\\anaconda3\\Lib\\site-packages\\sklearn\\base.py:1474: DataConversionWarning: A column-vector y was passed when a 1d array was expected. Please change the shape of y to (n_samples,), for example using ravel().\n",
      "  return fit_method(estimator, *args, **kwargs)\n"
     ]
    },
    {
     "name": "stdout",
     "output_type": "stream",
     "text": [
      "[CV 3/10] END max_depth=10, min_samples_leaf=1, min_samples_split=10, n_estimators=50;, score=0.147 total time=   1.3s\n"
     ]
    },
    {
     "name": "stderr",
     "output_type": "stream",
     "text": [
      "C:\\Users\\ben8h\\anaconda3\\Lib\\site-packages\\sklearn\\base.py:1474: DataConversionWarning: A column-vector y was passed when a 1d array was expected. Please change the shape of y to (n_samples,), for example using ravel().\n",
      "  return fit_method(estimator, *args, **kwargs)\n"
     ]
    },
    {
     "name": "stdout",
     "output_type": "stream",
     "text": [
      "[CV 4/10] END max_depth=10, min_samples_leaf=1, min_samples_split=10, n_estimators=50;, score=0.206 total time=   1.3s\n"
     ]
    },
    {
     "name": "stderr",
     "output_type": "stream",
     "text": [
      "C:\\Users\\ben8h\\anaconda3\\Lib\\site-packages\\sklearn\\base.py:1474: DataConversionWarning: A column-vector y was passed when a 1d array was expected. Please change the shape of y to (n_samples,), for example using ravel().\n",
      "  return fit_method(estimator, *args, **kwargs)\n"
     ]
    },
    {
     "name": "stdout",
     "output_type": "stream",
     "text": [
      "[CV 5/10] END max_depth=10, min_samples_leaf=1, min_samples_split=10, n_estimators=50;, score=0.137 total time=   1.3s\n"
     ]
    },
    {
     "name": "stderr",
     "output_type": "stream",
     "text": [
      "C:\\Users\\ben8h\\anaconda3\\Lib\\site-packages\\sklearn\\base.py:1474: DataConversionWarning: A column-vector y was passed when a 1d array was expected. Please change the shape of y to (n_samples,), for example using ravel().\n",
      "  return fit_method(estimator, *args, **kwargs)\n"
     ]
    },
    {
     "name": "stdout",
     "output_type": "stream",
     "text": [
      "[CV 6/10] END max_depth=10, min_samples_leaf=1, min_samples_split=10, n_estimators=50;, score=0.130 total time=   1.3s\n"
     ]
    },
    {
     "name": "stderr",
     "output_type": "stream",
     "text": [
      "C:\\Users\\ben8h\\anaconda3\\Lib\\site-packages\\sklearn\\base.py:1474: DataConversionWarning: A column-vector y was passed when a 1d array was expected. Please change the shape of y to (n_samples,), for example using ravel().\n",
      "  return fit_method(estimator, *args, **kwargs)\n"
     ]
    },
    {
     "name": "stdout",
     "output_type": "stream",
     "text": [
      "[CV 7/10] END max_depth=10, min_samples_leaf=1, min_samples_split=10, n_estimators=50;, score=0.205 total time=   1.3s\n"
     ]
    },
    {
     "name": "stderr",
     "output_type": "stream",
     "text": [
      "C:\\Users\\ben8h\\anaconda3\\Lib\\site-packages\\sklearn\\base.py:1474: DataConversionWarning: A column-vector y was passed when a 1d array was expected. Please change the shape of y to (n_samples,), for example using ravel().\n",
      "  return fit_method(estimator, *args, **kwargs)\n"
     ]
    },
    {
     "name": "stdout",
     "output_type": "stream",
     "text": [
      "[CV 8/10] END max_depth=10, min_samples_leaf=1, min_samples_split=10, n_estimators=50;, score=0.106 total time=   1.3s\n"
     ]
    },
    {
     "name": "stderr",
     "output_type": "stream",
     "text": [
      "C:\\Users\\ben8h\\anaconda3\\Lib\\site-packages\\sklearn\\base.py:1474: DataConversionWarning: A column-vector y was passed when a 1d array was expected. Please change the shape of y to (n_samples,), for example using ravel().\n",
      "  return fit_method(estimator, *args, **kwargs)\n"
     ]
    },
    {
     "name": "stdout",
     "output_type": "stream",
     "text": [
      "[CV 9/10] END max_depth=10, min_samples_leaf=1, min_samples_split=10, n_estimators=50;, score=0.163 total time=   1.3s\n"
     ]
    },
    {
     "name": "stderr",
     "output_type": "stream",
     "text": [
      "C:\\Users\\ben8h\\anaconda3\\Lib\\site-packages\\sklearn\\base.py:1474: DataConversionWarning: A column-vector y was passed when a 1d array was expected. Please change the shape of y to (n_samples,), for example using ravel().\n",
      "  return fit_method(estimator, *args, **kwargs)\n"
     ]
    },
    {
     "name": "stdout",
     "output_type": "stream",
     "text": [
      "[CV 10/10] END max_depth=10, min_samples_leaf=1, min_samples_split=10, n_estimators=50;, score=0.170 total time=   1.3s\n"
     ]
    },
    {
     "name": "stderr",
     "output_type": "stream",
     "text": [
      "C:\\Users\\ben8h\\anaconda3\\Lib\\site-packages\\sklearn\\base.py:1474: DataConversionWarning: A column-vector y was passed when a 1d array was expected. Please change the shape of y to (n_samples,), for example using ravel().\n",
      "  return fit_method(estimator, *args, **kwargs)\n"
     ]
    },
    {
     "name": "stdout",
     "output_type": "stream",
     "text": [
      "[CV 1/10] END max_depth=10, min_samples_leaf=1, min_samples_split=10, n_estimators=100;, score=0.183 total time=   2.7s\n"
     ]
    },
    {
     "name": "stderr",
     "output_type": "stream",
     "text": [
      "C:\\Users\\ben8h\\anaconda3\\Lib\\site-packages\\sklearn\\base.py:1474: DataConversionWarning: A column-vector y was passed when a 1d array was expected. Please change the shape of y to (n_samples,), for example using ravel().\n",
      "  return fit_method(estimator, *args, **kwargs)\n"
     ]
    },
    {
     "name": "stdout",
     "output_type": "stream",
     "text": [
      "[CV 2/10] END max_depth=10, min_samples_leaf=1, min_samples_split=10, n_estimators=100;, score=0.179 total time=   2.7s\n"
     ]
    },
    {
     "name": "stderr",
     "output_type": "stream",
     "text": [
      "C:\\Users\\ben8h\\anaconda3\\Lib\\site-packages\\sklearn\\base.py:1474: DataConversionWarning: A column-vector y was passed when a 1d array was expected. Please change the shape of y to (n_samples,), for example using ravel().\n",
      "  return fit_method(estimator, *args, **kwargs)\n"
     ]
    },
    {
     "name": "stdout",
     "output_type": "stream",
     "text": [
      "[CV 3/10] END max_depth=10, min_samples_leaf=1, min_samples_split=10, n_estimators=100;, score=0.166 total time=   2.7s\n"
     ]
    },
    {
     "name": "stderr",
     "output_type": "stream",
     "text": [
      "C:\\Users\\ben8h\\anaconda3\\Lib\\site-packages\\sklearn\\base.py:1474: DataConversionWarning: A column-vector y was passed when a 1d array was expected. Please change the shape of y to (n_samples,), for example using ravel().\n",
      "  return fit_method(estimator, *args, **kwargs)\n"
     ]
    },
    {
     "name": "stdout",
     "output_type": "stream",
     "text": [
      "[CV 4/10] END max_depth=10, min_samples_leaf=1, min_samples_split=10, n_estimators=100;, score=0.197 total time=   2.7s\n"
     ]
    },
    {
     "name": "stderr",
     "output_type": "stream",
     "text": [
      "C:\\Users\\ben8h\\anaconda3\\Lib\\site-packages\\sklearn\\base.py:1474: DataConversionWarning: A column-vector y was passed when a 1d array was expected. Please change the shape of y to (n_samples,), for example using ravel().\n",
      "  return fit_method(estimator, *args, **kwargs)\n"
     ]
    },
    {
     "name": "stdout",
     "output_type": "stream",
     "text": [
      "[CV 5/10] END max_depth=10, min_samples_leaf=1, min_samples_split=10, n_estimators=100;, score=0.138 total time=   2.7s\n"
     ]
    },
    {
     "name": "stderr",
     "output_type": "stream",
     "text": [
      "C:\\Users\\ben8h\\anaconda3\\Lib\\site-packages\\sklearn\\base.py:1474: DataConversionWarning: A column-vector y was passed when a 1d array was expected. Please change the shape of y to (n_samples,), for example using ravel().\n",
      "  return fit_method(estimator, *args, **kwargs)\n"
     ]
    },
    {
     "name": "stdout",
     "output_type": "stream",
     "text": [
      "[CV 6/10] END max_depth=10, min_samples_leaf=1, min_samples_split=10, n_estimators=100;, score=0.137 total time=   2.7s\n"
     ]
    },
    {
     "name": "stderr",
     "output_type": "stream",
     "text": [
      "C:\\Users\\ben8h\\anaconda3\\Lib\\site-packages\\sklearn\\base.py:1474: DataConversionWarning: A column-vector y was passed when a 1d array was expected. Please change the shape of y to (n_samples,), for example using ravel().\n",
      "  return fit_method(estimator, *args, **kwargs)\n"
     ]
    },
    {
     "name": "stdout",
     "output_type": "stream",
     "text": [
      "[CV 7/10] END max_depth=10, min_samples_leaf=1, min_samples_split=10, n_estimators=100;, score=0.200 total time=   2.7s\n"
     ]
    },
    {
     "name": "stderr",
     "output_type": "stream",
     "text": [
      "C:\\Users\\ben8h\\anaconda3\\Lib\\site-packages\\sklearn\\base.py:1474: DataConversionWarning: A column-vector y was passed when a 1d array was expected. Please change the shape of y to (n_samples,), for example using ravel().\n",
      "  return fit_method(estimator, *args, **kwargs)\n"
     ]
    },
    {
     "name": "stdout",
     "output_type": "stream",
     "text": [
      "[CV 8/10] END max_depth=10, min_samples_leaf=1, min_samples_split=10, n_estimators=100;, score=0.098 total time=   2.7s\n"
     ]
    },
    {
     "name": "stderr",
     "output_type": "stream",
     "text": [
      "C:\\Users\\ben8h\\anaconda3\\Lib\\site-packages\\sklearn\\base.py:1474: DataConversionWarning: A column-vector y was passed when a 1d array was expected. Please change the shape of y to (n_samples,), for example using ravel().\n",
      "  return fit_method(estimator, *args, **kwargs)\n"
     ]
    },
    {
     "name": "stdout",
     "output_type": "stream",
     "text": [
      "[CV 9/10] END max_depth=10, min_samples_leaf=1, min_samples_split=10, n_estimators=100;, score=0.168 total time=   2.7s\n"
     ]
    },
    {
     "name": "stderr",
     "output_type": "stream",
     "text": [
      "C:\\Users\\ben8h\\anaconda3\\Lib\\site-packages\\sklearn\\base.py:1474: DataConversionWarning: A column-vector y was passed when a 1d array was expected. Please change the shape of y to (n_samples,), for example using ravel().\n",
      "  return fit_method(estimator, *args, **kwargs)\n"
     ]
    },
    {
     "name": "stdout",
     "output_type": "stream",
     "text": [
      "[CV 10/10] END max_depth=10, min_samples_leaf=1, min_samples_split=10, n_estimators=100;, score=0.168 total time=   2.7s\n"
     ]
    },
    {
     "name": "stderr",
     "output_type": "stream",
     "text": [
      "C:\\Users\\ben8h\\anaconda3\\Lib\\site-packages\\sklearn\\base.py:1474: DataConversionWarning: A column-vector y was passed when a 1d array was expected. Please change the shape of y to (n_samples,), for example using ravel().\n",
      "  return fit_method(estimator, *args, **kwargs)\n"
     ]
    },
    {
     "name": "stdout",
     "output_type": "stream",
     "text": [
      "[CV 1/10] END max_depth=10, min_samples_leaf=1, min_samples_split=10, n_estimators=200;, score=0.185 total time=   5.5s\n"
     ]
    },
    {
     "name": "stderr",
     "output_type": "stream",
     "text": [
      "C:\\Users\\ben8h\\anaconda3\\Lib\\site-packages\\sklearn\\base.py:1474: DataConversionWarning: A column-vector y was passed when a 1d array was expected. Please change the shape of y to (n_samples,), for example using ravel().\n",
      "  return fit_method(estimator, *args, **kwargs)\n"
     ]
    },
    {
     "name": "stdout",
     "output_type": "stream",
     "text": [
      "[CV 2/10] END max_depth=10, min_samples_leaf=1, min_samples_split=10, n_estimators=200;, score=0.181 total time=   5.5s\n"
     ]
    },
    {
     "name": "stderr",
     "output_type": "stream",
     "text": [
      "C:\\Users\\ben8h\\anaconda3\\Lib\\site-packages\\sklearn\\base.py:1474: DataConversionWarning: A column-vector y was passed when a 1d array was expected. Please change the shape of y to (n_samples,), for example using ravel().\n",
      "  return fit_method(estimator, *args, **kwargs)\n"
     ]
    },
    {
     "name": "stdout",
     "output_type": "stream",
     "text": [
      "[CV 3/10] END max_depth=10, min_samples_leaf=1, min_samples_split=10, n_estimators=200;, score=0.159 total time=   5.4s\n"
     ]
    },
    {
     "name": "stderr",
     "output_type": "stream",
     "text": [
      "C:\\Users\\ben8h\\anaconda3\\Lib\\site-packages\\sklearn\\base.py:1474: DataConversionWarning: A column-vector y was passed when a 1d array was expected. Please change the shape of y to (n_samples,), for example using ravel().\n",
      "  return fit_method(estimator, *args, **kwargs)\n"
     ]
    },
    {
     "name": "stdout",
     "output_type": "stream",
     "text": [
      "[CV 4/10] END max_depth=10, min_samples_leaf=1, min_samples_split=10, n_estimators=200;, score=0.198 total time=   5.6s\n"
     ]
    },
    {
     "name": "stderr",
     "output_type": "stream",
     "text": [
      "C:\\Users\\ben8h\\anaconda3\\Lib\\site-packages\\sklearn\\base.py:1474: DataConversionWarning: A column-vector y was passed when a 1d array was expected. Please change the shape of y to (n_samples,), for example using ravel().\n",
      "  return fit_method(estimator, *args, **kwargs)\n"
     ]
    },
    {
     "name": "stdout",
     "output_type": "stream",
     "text": [
      "[CV 5/10] END max_depth=10, min_samples_leaf=1, min_samples_split=10, n_estimators=200;, score=0.142 total time=   5.5s\n"
     ]
    },
    {
     "name": "stderr",
     "output_type": "stream",
     "text": [
      "C:\\Users\\ben8h\\anaconda3\\Lib\\site-packages\\sklearn\\base.py:1474: DataConversionWarning: A column-vector y was passed when a 1d array was expected. Please change the shape of y to (n_samples,), for example using ravel().\n",
      "  return fit_method(estimator, *args, **kwargs)\n"
     ]
    },
    {
     "name": "stdout",
     "output_type": "stream",
     "text": [
      "[CV 6/10] END max_depth=10, min_samples_leaf=1, min_samples_split=10, n_estimators=200;, score=0.134 total time=   5.5s\n"
     ]
    },
    {
     "name": "stderr",
     "output_type": "stream",
     "text": [
      "C:\\Users\\ben8h\\anaconda3\\Lib\\site-packages\\sklearn\\base.py:1474: DataConversionWarning: A column-vector y was passed when a 1d array was expected. Please change the shape of y to (n_samples,), for example using ravel().\n",
      "  return fit_method(estimator, *args, **kwargs)\n"
     ]
    },
    {
     "name": "stdout",
     "output_type": "stream",
     "text": [
      "[CV 7/10] END max_depth=10, min_samples_leaf=1, min_samples_split=10, n_estimators=200;, score=0.202 total time=   5.4s\n"
     ]
    },
    {
     "name": "stderr",
     "output_type": "stream",
     "text": [
      "C:\\Users\\ben8h\\anaconda3\\Lib\\site-packages\\sklearn\\base.py:1474: DataConversionWarning: A column-vector y was passed when a 1d array was expected. Please change the shape of y to (n_samples,), for example using ravel().\n",
      "  return fit_method(estimator, *args, **kwargs)\n"
     ]
    },
    {
     "name": "stdout",
     "output_type": "stream",
     "text": [
      "[CV 8/10] END max_depth=10, min_samples_leaf=1, min_samples_split=10, n_estimators=200;, score=0.106 total time=   5.6s\n"
     ]
    },
    {
     "name": "stderr",
     "output_type": "stream",
     "text": [
      "C:\\Users\\ben8h\\anaconda3\\Lib\\site-packages\\sklearn\\base.py:1474: DataConversionWarning: A column-vector y was passed when a 1d array was expected. Please change the shape of y to (n_samples,), for example using ravel().\n",
      "  return fit_method(estimator, *args, **kwargs)\n"
     ]
    },
    {
     "name": "stdout",
     "output_type": "stream",
     "text": [
      "[CV 9/10] END max_depth=10, min_samples_leaf=1, min_samples_split=10, n_estimators=200;, score=0.166 total time=   5.5s\n"
     ]
    },
    {
     "name": "stderr",
     "output_type": "stream",
     "text": [
      "C:\\Users\\ben8h\\anaconda3\\Lib\\site-packages\\sklearn\\base.py:1474: DataConversionWarning: A column-vector y was passed when a 1d array was expected. Please change the shape of y to (n_samples,), for example using ravel().\n",
      "  return fit_method(estimator, *args, **kwargs)\n"
     ]
    },
    {
     "name": "stdout",
     "output_type": "stream",
     "text": [
      "[CV 10/10] END max_depth=10, min_samples_leaf=1, min_samples_split=10, n_estimators=200;, score=0.174 total time=   5.5s\n"
     ]
    },
    {
     "name": "stderr",
     "output_type": "stream",
     "text": [
      "C:\\Users\\ben8h\\anaconda3\\Lib\\site-packages\\sklearn\\base.py:1474: DataConversionWarning: A column-vector y was passed when a 1d array was expected. Please change the shape of y to (n_samples,), for example using ravel().\n",
      "  return fit_method(estimator, *args, **kwargs)\n"
     ]
    },
    {
     "name": "stdout",
     "output_type": "stream",
     "text": [
      "[CV 1/10] END max_depth=10, min_samples_leaf=5, min_samples_split=2, n_estimators=50;, score=0.203 total time=   1.2s\n"
     ]
    },
    {
     "name": "stderr",
     "output_type": "stream",
     "text": [
      "C:\\Users\\ben8h\\anaconda3\\Lib\\site-packages\\sklearn\\base.py:1474: DataConversionWarning: A column-vector y was passed when a 1d array was expected. Please change the shape of y to (n_samples,), for example using ravel().\n",
      "  return fit_method(estimator, *args, **kwargs)\n"
     ]
    },
    {
     "name": "stdout",
     "output_type": "stream",
     "text": [
      "[CV 2/10] END max_depth=10, min_samples_leaf=5, min_samples_split=2, n_estimators=50;, score=0.201 total time=   1.3s\n"
     ]
    },
    {
     "name": "stderr",
     "output_type": "stream",
     "text": [
      "C:\\Users\\ben8h\\anaconda3\\Lib\\site-packages\\sklearn\\base.py:1474: DataConversionWarning: A column-vector y was passed when a 1d array was expected. Please change the shape of y to (n_samples,), for example using ravel().\n",
      "  return fit_method(estimator, *args, **kwargs)\n"
     ]
    },
    {
     "name": "stdout",
     "output_type": "stream",
     "text": [
      "[CV 3/10] END max_depth=10, min_samples_leaf=5, min_samples_split=2, n_estimators=50;, score=0.169 total time=   1.2s\n"
     ]
    },
    {
     "name": "stderr",
     "output_type": "stream",
     "text": [
      "C:\\Users\\ben8h\\anaconda3\\Lib\\site-packages\\sklearn\\base.py:1474: DataConversionWarning: A column-vector y was passed when a 1d array was expected. Please change the shape of y to (n_samples,), for example using ravel().\n",
      "  return fit_method(estimator, *args, **kwargs)\n"
     ]
    },
    {
     "name": "stdout",
     "output_type": "stream",
     "text": [
      "[CV 4/10] END max_depth=10, min_samples_leaf=5, min_samples_split=2, n_estimators=50;, score=0.213 total time=   1.3s\n"
     ]
    },
    {
     "name": "stderr",
     "output_type": "stream",
     "text": [
      "C:\\Users\\ben8h\\anaconda3\\Lib\\site-packages\\sklearn\\base.py:1474: DataConversionWarning: A column-vector y was passed when a 1d array was expected. Please change the shape of y to (n_samples,), for example using ravel().\n",
      "  return fit_method(estimator, *args, **kwargs)\n"
     ]
    },
    {
     "name": "stdout",
     "output_type": "stream",
     "text": [
      "[CV 5/10] END max_depth=10, min_samples_leaf=5, min_samples_split=2, n_estimators=50;, score=0.159 total time=   1.2s\n"
     ]
    },
    {
     "name": "stderr",
     "output_type": "stream",
     "text": [
      "C:\\Users\\ben8h\\anaconda3\\Lib\\site-packages\\sklearn\\base.py:1474: DataConversionWarning: A column-vector y was passed when a 1d array was expected. Please change the shape of y to (n_samples,), for example using ravel().\n",
      "  return fit_method(estimator, *args, **kwargs)\n"
     ]
    },
    {
     "name": "stdout",
     "output_type": "stream",
     "text": [
      "[CV 6/10] END max_depth=10, min_samples_leaf=5, min_samples_split=2, n_estimators=50;, score=0.125 total time=   1.3s\n"
     ]
    },
    {
     "name": "stderr",
     "output_type": "stream",
     "text": [
      "C:\\Users\\ben8h\\anaconda3\\Lib\\site-packages\\sklearn\\base.py:1474: DataConversionWarning: A column-vector y was passed when a 1d array was expected. Please change the shape of y to (n_samples,), for example using ravel().\n",
      "  return fit_method(estimator, *args, **kwargs)\n"
     ]
    },
    {
     "name": "stdout",
     "output_type": "stream",
     "text": [
      "[CV 7/10] END max_depth=10, min_samples_leaf=5, min_samples_split=2, n_estimators=50;, score=0.203 total time=   1.2s\n"
     ]
    },
    {
     "name": "stderr",
     "output_type": "stream",
     "text": [
      "C:\\Users\\ben8h\\anaconda3\\Lib\\site-packages\\sklearn\\base.py:1474: DataConversionWarning: A column-vector y was passed when a 1d array was expected. Please change the shape of y to (n_samples,), for example using ravel().\n",
      "  return fit_method(estimator, *args, **kwargs)\n"
     ]
    },
    {
     "name": "stdout",
     "output_type": "stream",
     "text": [
      "[CV 8/10] END max_depth=10, min_samples_leaf=5, min_samples_split=2, n_estimators=50;, score=0.117 total time=   1.2s\n"
     ]
    },
    {
     "name": "stderr",
     "output_type": "stream",
     "text": [
      "C:\\Users\\ben8h\\anaconda3\\Lib\\site-packages\\sklearn\\base.py:1474: DataConversionWarning: A column-vector y was passed when a 1d array was expected. Please change the shape of y to (n_samples,), for example using ravel().\n",
      "  return fit_method(estimator, *args, **kwargs)\n"
     ]
    },
    {
     "name": "stdout",
     "output_type": "stream",
     "text": [
      "[CV 9/10] END max_depth=10, min_samples_leaf=5, min_samples_split=2, n_estimators=50;, score=0.171 total time=   1.2s\n"
     ]
    },
    {
     "name": "stderr",
     "output_type": "stream",
     "text": [
      "C:\\Users\\ben8h\\anaconda3\\Lib\\site-packages\\sklearn\\base.py:1474: DataConversionWarning: A column-vector y was passed when a 1d array was expected. Please change the shape of y to (n_samples,), for example using ravel().\n",
      "  return fit_method(estimator, *args, **kwargs)\n"
     ]
    },
    {
     "name": "stdout",
     "output_type": "stream",
     "text": [
      "[CV 10/10] END max_depth=10, min_samples_leaf=5, min_samples_split=2, n_estimators=50;, score=0.190 total time=   1.3s\n"
     ]
    },
    {
     "name": "stderr",
     "output_type": "stream",
     "text": [
      "C:\\Users\\ben8h\\anaconda3\\Lib\\site-packages\\sklearn\\base.py:1474: DataConversionWarning: A column-vector y was passed when a 1d array was expected. Please change the shape of y to (n_samples,), for example using ravel().\n",
      "  return fit_method(estimator, *args, **kwargs)\n"
     ]
    },
    {
     "name": "stdout",
     "output_type": "stream",
     "text": [
      "[CV 1/10] END max_depth=10, min_samples_leaf=5, min_samples_split=2, n_estimators=100;, score=0.194 total time=   2.6s\n"
     ]
    },
    {
     "name": "stderr",
     "output_type": "stream",
     "text": [
      "C:\\Users\\ben8h\\anaconda3\\Lib\\site-packages\\sklearn\\base.py:1474: DataConversionWarning: A column-vector y was passed when a 1d array was expected. Please change the shape of y to (n_samples,), for example using ravel().\n",
      "  return fit_method(estimator, *args, **kwargs)\n"
     ]
    },
    {
     "name": "stdout",
     "output_type": "stream",
     "text": [
      "[CV 2/10] END max_depth=10, min_samples_leaf=5, min_samples_split=2, n_estimators=100;, score=0.206 total time=   2.6s\n"
     ]
    },
    {
     "name": "stderr",
     "output_type": "stream",
     "text": [
      "C:\\Users\\ben8h\\anaconda3\\Lib\\site-packages\\sklearn\\base.py:1474: DataConversionWarning: A column-vector y was passed when a 1d array was expected. Please change the shape of y to (n_samples,), for example using ravel().\n",
      "  return fit_method(estimator, *args, **kwargs)\n"
     ]
    },
    {
     "name": "stdout",
     "output_type": "stream",
     "text": [
      "[CV 3/10] END max_depth=10, min_samples_leaf=5, min_samples_split=2, n_estimators=100;, score=0.176 total time=   2.6s\n"
     ]
    },
    {
     "name": "stderr",
     "output_type": "stream",
     "text": [
      "C:\\Users\\ben8h\\anaconda3\\Lib\\site-packages\\sklearn\\base.py:1474: DataConversionWarning: A column-vector y was passed when a 1d array was expected. Please change the shape of y to (n_samples,), for example using ravel().\n",
      "  return fit_method(estimator, *args, **kwargs)\n"
     ]
    },
    {
     "name": "stdout",
     "output_type": "stream",
     "text": [
      "[CV 4/10] END max_depth=10, min_samples_leaf=5, min_samples_split=2, n_estimators=100;, score=0.215 total time=   2.6s\n"
     ]
    },
    {
     "name": "stderr",
     "output_type": "stream",
     "text": [
      "C:\\Users\\ben8h\\anaconda3\\Lib\\site-packages\\sklearn\\base.py:1474: DataConversionWarning: A column-vector y was passed when a 1d array was expected. Please change the shape of y to (n_samples,), for example using ravel().\n",
      "  return fit_method(estimator, *args, **kwargs)\n"
     ]
    },
    {
     "name": "stdout",
     "output_type": "stream",
     "text": [
      "[CV 5/10] END max_depth=10, min_samples_leaf=5, min_samples_split=2, n_estimators=100;, score=0.142 total time=   2.6s\n"
     ]
    },
    {
     "name": "stderr",
     "output_type": "stream",
     "text": [
      "C:\\Users\\ben8h\\anaconda3\\Lib\\site-packages\\sklearn\\base.py:1474: DataConversionWarning: A column-vector y was passed when a 1d array was expected. Please change the shape of y to (n_samples,), for example using ravel().\n",
      "  return fit_method(estimator, *args, **kwargs)\n"
     ]
    },
    {
     "name": "stdout",
     "output_type": "stream",
     "text": [
      "[CV 6/10] END max_depth=10, min_samples_leaf=5, min_samples_split=2, n_estimators=100;, score=0.129 total time=   2.6s\n"
     ]
    },
    {
     "name": "stderr",
     "output_type": "stream",
     "text": [
      "C:\\Users\\ben8h\\anaconda3\\Lib\\site-packages\\sklearn\\base.py:1474: DataConversionWarning: A column-vector y was passed when a 1d array was expected. Please change the shape of y to (n_samples,), for example using ravel().\n",
      "  return fit_method(estimator, *args, **kwargs)\n"
     ]
    },
    {
     "name": "stdout",
     "output_type": "stream",
     "text": [
      "[CV 7/10] END max_depth=10, min_samples_leaf=5, min_samples_split=2, n_estimators=100;, score=0.217 total time=   2.6s\n"
     ]
    },
    {
     "name": "stderr",
     "output_type": "stream",
     "text": [
      "C:\\Users\\ben8h\\anaconda3\\Lib\\site-packages\\sklearn\\base.py:1474: DataConversionWarning: A column-vector y was passed when a 1d array was expected. Please change the shape of y to (n_samples,), for example using ravel().\n",
      "  return fit_method(estimator, *args, **kwargs)\n"
     ]
    },
    {
     "name": "stdout",
     "output_type": "stream",
     "text": [
      "[CV 8/10] END max_depth=10, min_samples_leaf=5, min_samples_split=2, n_estimators=100;, score=0.115 total time=   2.6s\n"
     ]
    },
    {
     "name": "stderr",
     "output_type": "stream",
     "text": [
      "C:\\Users\\ben8h\\anaconda3\\Lib\\site-packages\\sklearn\\base.py:1474: DataConversionWarning: A column-vector y was passed when a 1d array was expected. Please change the shape of y to (n_samples,), for example using ravel().\n",
      "  return fit_method(estimator, *args, **kwargs)\n"
     ]
    },
    {
     "name": "stdout",
     "output_type": "stream",
     "text": [
      "[CV 9/10] END max_depth=10, min_samples_leaf=5, min_samples_split=2, n_estimators=100;, score=0.177 total time=   2.7s\n"
     ]
    },
    {
     "name": "stderr",
     "output_type": "stream",
     "text": [
      "C:\\Users\\ben8h\\anaconda3\\Lib\\site-packages\\sklearn\\base.py:1474: DataConversionWarning: A column-vector y was passed when a 1d array was expected. Please change the shape of y to (n_samples,), for example using ravel().\n",
      "  return fit_method(estimator, *args, **kwargs)\n"
     ]
    },
    {
     "name": "stdout",
     "output_type": "stream",
     "text": [
      "[CV 10/10] END max_depth=10, min_samples_leaf=5, min_samples_split=2, n_estimators=100;, score=0.196 total time=   2.6s\n"
     ]
    },
    {
     "name": "stderr",
     "output_type": "stream",
     "text": [
      "C:\\Users\\ben8h\\anaconda3\\Lib\\site-packages\\sklearn\\base.py:1474: DataConversionWarning: A column-vector y was passed when a 1d array was expected. Please change the shape of y to (n_samples,), for example using ravel().\n",
      "  return fit_method(estimator, *args, **kwargs)\n"
     ]
    },
    {
     "name": "stdout",
     "output_type": "stream",
     "text": [
      "[CV 1/10] END max_depth=10, min_samples_leaf=5, min_samples_split=2, n_estimators=200;, score=0.186 total time=   5.3s\n"
     ]
    },
    {
     "name": "stderr",
     "output_type": "stream",
     "text": [
      "C:\\Users\\ben8h\\anaconda3\\Lib\\site-packages\\sklearn\\base.py:1474: DataConversionWarning: A column-vector y was passed when a 1d array was expected. Please change the shape of y to (n_samples,), for example using ravel().\n",
      "  return fit_method(estimator, *args, **kwargs)\n"
     ]
    },
    {
     "name": "stdout",
     "output_type": "stream",
     "text": [
      "[CV 2/10] END max_depth=10, min_samples_leaf=5, min_samples_split=2, n_estimators=200;, score=0.191 total time=   5.3s\n"
     ]
    },
    {
     "name": "stderr",
     "output_type": "stream",
     "text": [
      "C:\\Users\\ben8h\\anaconda3\\Lib\\site-packages\\sklearn\\base.py:1474: DataConversionWarning: A column-vector y was passed when a 1d array was expected. Please change the shape of y to (n_samples,), for example using ravel().\n",
      "  return fit_method(estimator, *args, **kwargs)\n"
     ]
    }
   ],
   "source": [
    "rf_param_grid = {\n",
    "    'n_estimators': [50, 100, 200],\n",
    "    'max_depth': [None, 5, 10],\n",
    "    'min_samples_split': [2, 5, 10],\n",
    "    'min_samples_leaf': [1, 5, 10]\n",
    "}\n",
    "\n",
    "from sklearn.model_selection import StratifiedKFold\n",
    "\n",
    "state = 458\n",
    "\n",
    "cv_obj = StratifiedKFold(n_splits=10, shuffle=True, random_state=state)\n",
    "\n",
    "grid_search_forest_r = GridSearchCV(RandomForestRegressor(), rf_param_grid, verbose=3, cv=cv_obj)\n",
    "\n",
    "grid_search_forest_r.fit(salaries_training, salary_train)"
   ]
  },
  {
   "cell_type": "code",
   "execution_count": null,
   "id": "c030f9c6-ef82-4a75-8010-48442f3837a3",
   "metadata": {},
   "outputs": [],
   "source": [
    "grid_search_forest_r.best_score_"
   ]
  },
  {
   "cell_type": "code",
   "execution_count": null,
   "id": "060fe327-41d1-4287-a948-eb6e428ffd53",
   "metadata": {},
   "outputs": [],
   "source": [
    "grid_search_forest_r.best_params_"
   ]
  },
  {
   "cell_type": "code",
   "execution_count": null,
   "id": "43694b2d-b56b-4912-b337-c824c12170b5",
   "metadata": {},
   "outputs": [],
   "source": [
    "best_model_forest_r = grid_search_forest_r.best_estimator_\n",
    "best_model_forest_r"
   ]
  },
  {
   "cell_type": "markdown",
   "id": "c703a9ce-bd2c-41bc-ac02-4cb27fc1be91",
   "metadata": {
    "jp-MarkdownHeadingCollapsed": true
   },
   "source": [
    "## Comparing Scores"
   ]
  },
  {
   "cell_type": "code",
   "execution_count": null,
   "id": "de215123-4bd9-4b25-98f0-d4c819840376",
   "metadata": {},
   "outputs": [],
   "source": [
    "grid_search_forest_r.best_score_ > grid_search_tree_regressor.best_score_"
   ]
  },
  {
   "cell_type": "markdown",
   "id": "7e73dcf3-6cff-40ad-9908-7d6b3c5ff889",
   "metadata": {
    "jp-MarkdownHeadingCollapsed": true
   },
   "source": [
    "## Measuring Performance"
   ]
  },
  {
   "cell_type": "code",
   "execution_count": null,
   "id": "764fd9e0-8bf4-440e-8c6a-4f5f1d7cb607",
   "metadata": {},
   "outputs": [],
   "source": [
    "salaries_validation_pred_rf = grid_search_forest_r.predict(salaries_validation)"
   ]
  },
  {
   "cell_type": "code",
   "execution_count": 55,
   "id": "af867d29-a4e0-42c1-a691-a7d116c9d921",
   "metadata": {},
   "outputs": [
    {
     "name": "stderr",
     "output_type": "stream",
     "text": [
      "C:\\Users\\ben8h\\AppData\\Local\\Temp\\ipykernel_6376\\987674393.py:19: RuntimeWarning: invalid value encountered in scalar divide\n",
      "  'ppv'              :  tp / (tp + fp),\n"
     ]
    },
    {
     "data": {
      "text/plain": [
       "{'accuracy': 0.9864668922184631,\n",
       " 'balanced_accuracy': 0.5,\n",
       " 'specificity': 1.0,\n",
       " 'sensitivity': 0.0,\n",
       " 'ppv': nan,\n",
       " 'npv': 0.9864668922184631}"
      ]
     },
     "execution_count": 55,
     "metadata": {},
     "output_type": "execute_result"
    }
   ],
   "source": [
    "get_metrics(salary_validation, salaries_validation_pred_rf)"
   ]
  },
  {
   "cell_type": "markdown",
   "id": "f4af6fda-876e-477a-859d-7b3f514dff6a",
   "metadata": {},
   "source": [
    "## Fitting the Best Model"
   ]
  },
  {
   "cell_type": "code",
   "execution_count": null,
   "id": "2005c81b-9aad-4b79-84d4-debde19ba0da",
   "metadata": {},
   "outputs": [],
   "source": [
    "forest = RandomForestClassifier(min_samples_leaf=5, min_samples_split=10, n_estimators=10)\n",
    "forest.fit(fielding_training, gold_glove_train)"
   ]
  }
 ],
 "metadata": {
  "kernelspec": {
   "display_name": "Python 3 (ipykernel)",
   "language": "python",
   "name": "python3"
  },
  "language_info": {
   "codemirror_mode": {
    "name": "ipython",
    "version": 3
   },
   "file_extension": ".py",
   "mimetype": "text/x-python",
   "name": "python",
   "nbconvert_exporter": "python",
   "pygments_lexer": "ipython3",
   "version": "3.12.3"
  }
 },
 "nbformat": 4,
 "nbformat_minor": 5
}
