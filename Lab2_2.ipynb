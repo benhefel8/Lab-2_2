{
 "cells": [
  {
   "cell_type": "markdown",
   "id": "ca2e6128-f254-48e0-b9b2-2852f465fbad",
   "metadata": {},
   "source": [
    "# Reading in Polars and Data"
   ]
  },
  {
   "cell_type": "code",
   "execution_count": 3,
   "id": "3b0619a7-3a78-4904-9d92-0e5cc7823b7d",
   "metadata": {},
   "outputs": [],
   "source": [
    "import polars as pl\n",
    "pl.Config.with_columns_kwargs = True"
   ]
  },
  {
   "cell_type": "code",
   "execution_count": 4,
   "id": "bed6a7f1-6575-4e6a-970d-cd6e2ee0725f",
   "metadata": {},
   "outputs": [],
   "source": [
    "batting = pl.read_csv('Data/lahman baseball data/Batting.csv')\n",
    "pitching = pl.read_csv('Data/lahman baseball data/Pitching.csv')\n",
    "fielding = pl.read_csv('Data/lahman baseball data/Fielding.csv')\n",
    "awards = pl.read_csv('Data/lahman baseball data/AwardsPlayers.csv')\n",
    "salaries = pl.read_csv('Data/lahman baseball data/Salaries.csv')"
   ]
  },
  {
   "cell_type": "markdown",
   "id": "c8a38c58-c92e-49d4-bc75-fced280fb958",
   "metadata": {
    "jp-MarkdownHeadingCollapsed": true
   },
   "source": [
    "# Gold Glove Data Set"
   ]
  },
  {
   "cell_type": "code",
   "execution_count": 3,
   "id": "789059ae-326c-4142-b0ce-73310b7888ef",
   "metadata": {},
   "outputs": [
    {
     "data": {
      "text/plain": [
       "'case is player, year, pos, league'"
      ]
     },
     "execution_count": 3,
     "metadata": {},
     "output_type": "execute_result"
    }
   ],
   "source": [
    "'case is player, year, pos, league'"
   ]
  },
  {
   "cell_type": "code",
   "execution_count": 238,
   "id": "a4324954-6b89-4c71-a0db-2dfe917cc258",
   "metadata": {},
   "outputs": [
    {
     "data": {
      "text/html": [
       "<div><style>\n",
       ".dataframe > thead > tr,\n",
       ".dataframe > tbody > tr {\n",
       "  text-align: right;\n",
       "  white-space: pre-wrap;\n",
       "}\n",
       "</style>\n",
       "<small>shape: (21_356, 16)</small><table border=\"1\" class=\"dataframe\"><thead><tr><th>playerID</th><th>yearID</th><th>lgID</th><th>POS</th><th>InnOuts</th><th>PO</th><th>A</th><th>E</th><th>DP</th><th>PB</th><th>WP</th><th>SB</th><th>CS</th><th>ZR</th><th>Gold Glove?</th><th>Training-Validation</th></tr><tr><td>str</td><td>i64</td><td>str</td><td>str</td><td>i64</td><td>i64</td><td>i64</td><td>i64</td><td>i64</td><td>i64</td><td>i64</td><td>i64</td><td>i64</td><td>i64</td><td>str</td><td>str</td></tr></thead><tbody><tr><td>&quot;burnese01&quot;</td><td>2014</td><td>&quot;AL&quot;</td><td>&quot;P&quot;</td><td>2</td><td>0</td><td>0</td><td>0</td><td>0</td><td>0</td><td>0</td><td>0</td><td>0</td><td>0</td><td>&quot;No&quot;</td><td>&quot;Training&quot;</td></tr><tr><td>&quot;adamecr01&quot;</td><td>2016</td><td>&quot;NL&quot;</td><td>&quot;3B&quot;</td><td>66</td><td>1</td><td>3</td><td>0</td><td>1</td><td>0</td><td>0</td><td>0</td><td>0</td><td>0</td><td>&quot;No&quot;</td><td>&quot;Training&quot;</td></tr><tr><td>&quot;morenga01&quot;</td><td>2022</td><td>&quot;AL&quot;</td><td>&quot;C&quot;</td><td>443</td><td>134</td><td>12</td><td>2</td><td>1</td><td>0</td><td>0</td><td>10</td><td>7</td><td>0</td><td>&quot;No&quot;</td><td>&quot;Training&quot;</td></tr><tr><td>&quot;darviyu01&quot;</td><td>2016</td><td>&quot;AL&quot;</td><td>&quot;P&quot;</td><td>301</td><td>3</td><td>9</td><td>0</td><td>2</td><td>0</td><td>0</td><td>0</td><td>0</td><td>0</td><td>&quot;No&quot;</td><td>&quot;Training&quot;</td></tr><tr><td>&quot;pencehu01&quot;</td><td>2015</td><td>&quot;NL&quot;</td><td>&quot;OF&quot;</td><td>1323</td><td>122</td><td>4</td><td>3</td><td>2</td><td>0</td><td>0</td><td>0</td><td>0</td><td>0</td><td>&quot;No&quot;</td><td>&quot;Training&quot;</td></tr><tr><td>&hellip;</td><td>&hellip;</td><td>&hellip;</td><td>&hellip;</td><td>&hellip;</td><td>&hellip;</td><td>&hellip;</td><td>&hellip;</td><td>&hellip;</td><td>&hellip;</td><td>&hellip;</td><td>&hellip;</td><td>&hellip;</td><td>&hellip;</td><td>&hellip;</td><td>&hellip;</td></tr><tr><td>&quot;pachecr01&quot;</td><td>2023</td><td>&quot;NL&quot;</td><td>&quot;OF&quot;</td><td>681</td><td>63</td><td>2</td><td>1</td><td>0</td><td>0</td><td>0</td><td>0</td><td>0</td><td>0</td><td>&quot;No&quot;</td><td>&quot;Validation&quot;</td></tr><tr><td>&quot;holtoty01&quot;</td><td>2022</td><td>&quot;NL&quot;</td><td>&quot;P&quot;</td><td>27</td><td>0</td><td>0</td><td>0</td><td>0</td><td>0</td><td>0</td><td>0</td><td>0</td><td>0</td><td>&quot;No&quot;</td><td>&quot;Training&quot;</td></tr><tr><td>&quot;lynnla01&quot;</td><td>2019</td><td>&quot;AL&quot;</td><td>&quot;P&quot;</td><td>625</td><td>8</td><td>6</td><td>0</td><td>0</td><td>0</td><td>0</td><td>0</td><td>0</td><td>0</td><td>&quot;No&quot;</td><td>&quot;Training&quot;</td></tr><tr><td>&quot;perezol01&quot;</td><td>2018</td><td>&quot;AL&quot;</td><td>&quot;P&quot;</td><td>97</td><td>1</td><td>5</td><td>0</td><td>0</td><td>0</td><td>0</td><td>0</td><td>0</td><td>0</td><td>&quot;No&quot;</td><td>&quot;Training&quot;</td></tr><tr><td>&quot;watsoto01&quot;</td><td>2018</td><td>&quot;NL&quot;</td><td>&quot;P&quot;</td><td>198</td><td>6</td><td>11</td><td>0</td><td>2</td><td>0</td><td>0</td><td>0</td><td>0</td><td>0</td><td>&quot;No&quot;</td><td>&quot;Training&quot;</td></tr></tbody></table></div>"
      ],
      "text/plain": [
       "shape: (21_356, 16)\n",
       "┌───────────┬────────┬──────┬─────┬───┬─────┬─────┬─────────────┬─────────────────────┐\n",
       "│ playerID  ┆ yearID ┆ lgID ┆ POS ┆ … ┆ CS  ┆ ZR  ┆ Gold Glove? ┆ Training-Validation │\n",
       "│ ---       ┆ ---    ┆ ---  ┆ --- ┆   ┆ --- ┆ --- ┆ ---         ┆ ---                 │\n",
       "│ str       ┆ i64    ┆ str  ┆ str ┆   ┆ i64 ┆ i64 ┆ str         ┆ str                 │\n",
       "╞═══════════╪════════╪══════╪═════╪═══╪═════╪═════╪═════════════╪═════════════════════╡\n",
       "│ burnese01 ┆ 2014   ┆ AL   ┆ P   ┆ … ┆ 0   ┆ 0   ┆ No          ┆ Training            │\n",
       "│ adamecr01 ┆ 2016   ┆ NL   ┆ 3B  ┆ … ┆ 0   ┆ 0   ┆ No          ┆ Training            │\n",
       "│ morenga01 ┆ 2022   ┆ AL   ┆ C   ┆ … ┆ 7   ┆ 0   ┆ No          ┆ Training            │\n",
       "│ darviyu01 ┆ 2016   ┆ AL   ┆ P   ┆ … ┆ 0   ┆ 0   ┆ No          ┆ Training            │\n",
       "│ pencehu01 ┆ 2015   ┆ NL   ┆ OF  ┆ … ┆ 0   ┆ 0   ┆ No          ┆ Training            │\n",
       "│ …         ┆ …      ┆ …    ┆ …   ┆ … ┆ …   ┆ …   ┆ …           ┆ …                   │\n",
       "│ pachecr01 ┆ 2023   ┆ NL   ┆ OF  ┆ … ┆ 0   ┆ 0   ┆ No          ┆ Validation          │\n",
       "│ holtoty01 ┆ 2022   ┆ NL   ┆ P   ┆ … ┆ 0   ┆ 0   ┆ No          ┆ Training            │\n",
       "│ lynnla01  ┆ 2019   ┆ AL   ┆ P   ┆ … ┆ 0   ┆ 0   ┆ No          ┆ Training            │\n",
       "│ perezol01 ┆ 2018   ┆ AL   ┆ P   ┆ … ┆ 0   ┆ 0   ┆ No          ┆ Training            │\n",
       "│ watsoto01 ┆ 2018   ┆ NL   ┆ P   ┆ … ┆ 0   ┆ 0   ┆ No          ┆ Training            │\n",
       "└───────────┴────────┴──────┴─────┴───┴─────┴─────┴─────────────┴─────────────────────┘"
      ]
     },
     "execution_count": 238,
     "metadata": {},
     "output_type": "execute_result"
    }
   ],
   "source": [
    "fielding_awards = (fielding\n",
    ".filter((pl.col('yearID') >= 2013))\n",
    ".join(\n",
    "     awards.rename({\"notes\": \"POS\"}) \n",
    "           .select(['playerID', 'yearID', 'awardID', 'lgID', 'POS'])  \n",
    "           .filter((pl.col('awardID') == 'Gold Glove') & (pl.col('yearID') >= 2013)),\n",
    "      on=['playerID', 'yearID', 'lgID'],\n",
    "      how='left'\n",
    "     )\n",
    ".group_by(['playerID','yearID', 'lgID', 'POS', 'awardID'])\n",
    ".agg(\n",
    "     pl.col('InnOuts').sum().alias('InnOuts'),\n",
    "     pl.col('PO').sum().alias('PO'),\n",
    "     pl.col('A').sum().alias('A'),\n",
    "     pl.col('E').sum().alias('E'),\n",
    "     pl.col('DP').sum().alias('DP'),\n",
    "     pl.col('PB').cast(int).sum().alias('PB'),\n",
    "     pl.col('WP').cast(int).sum().alias('WP'),\n",
    "     pl.col('SB').cast(int).sum().alias('SB'),\n",
    "     pl.col('CS').cast(int).sum().alias('CS'),\n",
    "     pl.col('ZR').cast(int).sum().alias('ZR') \n",
    "    )    \n",
    ".with_columns(\n",
    "        pl.when(pl.col('awardID').is_null())\n",
    "          .then(pl.lit('No'))\n",
    "          .otherwise(pl.lit('Yes'))\n",
    "          .alias('Gold Glove?'),\n",
    "         pl.when(pl.col('yearID') == 2023)\n",
    "          .then(pl.lit('Validation'))\n",
    "          .otherwise(pl.lit('Training'))\n",
    "          .alias('Training-Validation')\n",
    "              )\n",
    ".drop(pl.col('awardID'))\n",
    "                  )\n",
    "# fielding_awards = fielding_awards.filter(pl.col('Gold Glove?') == 'Yes', pl.col('POS') == 'C', pl.col('yearID') == 2017)\n",
    "fielding_awards.write_csv('data/fielding_awards.csv')\n",
    "\n",
    "fielding_awards"
   ]
  },
  {
   "cell_type": "markdown",
   "id": "9e7fa5cd-588e-4505-8289-47516a746291",
   "metadata": {},
   "source": [
    "# Salary Dataset"
   ]
  },
  {
   "cell_type": "code",
   "execution_count": null,
   "id": "e30ce0b4-037b-4ec5-8a28-7c21252d5a20",
   "metadata": {},
   "outputs": [],
   "source": [
    "'case is player year' 'salary, batting, fielding, pitching'"
   ]
  },
  {
   "cell_type": "code",
   "execution_count": 9,
   "id": "921fc61f-4264-4547-9e3f-a7f99e994c7c",
   "metadata": {},
   "outputs": [
    {
     "data": {
      "text/html": [
       "<div><style>\n",
       ".dataframe > thead > tr,\n",
       ".dataframe > tbody > tr {\n",
       "  text-align: right;\n",
       "  white-space: pre-wrap;\n",
       "}\n",
       "</style>\n",
       "<small>shape: (9_131, 51)</small><table border=\"1\" class=\"dataframe\"><thead><tr><th>playerID</th><th>yearID</th><th>salary</th><th>InnOuts</th><th>PO</th><th>A</th><th>E</th><th>DP</th><th>PB</th><th>WP</th><th>SB</th><th>CS</th><th>ZR</th><th>G</th><th>AB</th><th>R</th><th>H</th><th>2B</th><th>3B</th><th>HR</th><th>SB_batting</th><th>CS_batting</th><th>BB_batting</th><th>SO_batting</th><th>IBB_batting</th><th>HBP_batting</th><th>Sacrifice Hits</th><th>Sacrifice Flies</th><th>GIDP</th><th>GS</th><th>CG</th><th>SHO</th><th>SV</th><th>IPOuts</th><th>H_pitching</th><th>ER_pitching</th><th>HR_pitching</th><th>BB_pitching</th><th>SO_pitching</th><th>BAOpp</th><th>ERA_pitching</th><th>IBB_pitching</th><th>WP_pitching</th><th>HBP_pitching</th><th>Balk</th><th>Batters Faced by Pitcher</th><th>Games Finished</th><th>SH_pitching</th><th>SF_pitching</th><th>GIDP_pitching</th><th>Training-Validation</th></tr><tr><td>str</td><td>i64</td><td>i64</td><td>i64</td><td>i64</td><td>i64</td><td>i64</td><td>i64</td><td>i64</td><td>i64</td><td>i64</td><td>i64</td><td>i64</td><td>i64</td><td>i64</td><td>i64</td><td>i64</td><td>i64</td><td>i64</td><td>i64</td><td>i64</td><td>i64</td><td>i64</td><td>i64</td><td>i64</td><td>i64</td><td>i64</td><td>i64</td><td>i64</td><td>i64</td><td>i64</td><td>i64</td><td>i64</td><td>i64</td><td>i64</td><td>i64</td><td>i64</td><td>i64</td><td>i64</td><td>f64</td><td>f64</td><td>i64</td><td>i64</td><td>i64</td><td>i64</td><td>i64</td><td>i64</td><td>i64</td><td>i64</td><td>i64</td><td>str</td></tr></thead><tbody><tr><td>&quot;sanchdu01&quot;</td><td>2006</td><td>399500</td><td>166</td><td>4</td><td>5</td><td>1</td><td>0</td><td>0</td><td>0</td><td>0</td><td>0</td><td>0</td><td>49</td><td>1</td><td>1</td><td>0</td><td>0</td><td>0</td><td>0</td><td>0</td><td>0</td><td>0</td><td>1</td><td>0</td><td>1</td><td>0</td><td>0</td><td>0</td><td>0</td><td>0</td><td>0</td><td>0</td><td>166</td><td>43</td><td>16</td><td>3</td><td>24</td><td>44</td><td>0.223</td><td>2.6</td><td>6</td><td>1</td><td>4</td><td>0</td><td>229</td><td>15</td><td>0</td><td>0</td><td>12</td><td>&quot;Training&quot;</td></tr><tr><td>&quot;adriaeh01&quot;</td><td>2014</td><td>1501500</td><td>594</td><td>32</td><td>70</td><td>2</td><td>12</td><td>0</td><td>0</td><td>0</td><td>0</td><td>0</td><td>35</td><td>0</td><td>0</td><td>0</td><td>0</td><td>0</td><td>0</td><td>0</td><td>0</td><td>0</td><td>0</td><td>0</td><td>0</td><td>0</td><td>0</td><td>0</td><td>20</td><td>0</td><td>0</td><td>0</td><td>0</td><td>0</td><td>0</td><td>0</td><td>0</td><td>0</td><td>0.0</td><td>0.0</td><td>0</td><td>0</td><td>0</td><td>0</td><td>0</td><td>0</td><td>0</td><td>0</td><td>0</td><td>&quot;Training&quot;</td></tr><tr><td>&quot;ellisma01&quot;</td><td>2008</td><td>5000000</td><td>3035</td><td>228</td><td>336</td><td>4</td><td>88</td><td>0</td><td>0</td><td>0</td><td>0</td><td>0</td><td>115</td><td>0</td><td>0</td><td>0</td><td>0</td><td>0</td><td>0</td><td>0</td><td>0</td><td>0</td><td>0</td><td>0</td><td>0</td><td>0</td><td>0</td><td>0</td><td>114</td><td>0</td><td>0</td><td>0</td><td>0</td><td>0</td><td>0</td><td>0</td><td>0</td><td>0</td><td>0.0</td><td>0.0</td><td>0</td><td>0</td><td>0</td><td>0</td><td>0</td><td>0</td><td>0</td><td>0</td><td>0</td><td>&quot;Training&quot;</td></tr><tr><td>&quot;utleych01&quot;</td><td>2016</td><td>14000000</td><td>3199</td><td>195</td><td>266</td><td>5</td><td>49</td><td>0</td><td>0</td><td>0</td><td>0</td><td>0</td><td>135</td><td>0</td><td>0</td><td>0</td><td>0</td><td>0</td><td>0</td><td>0</td><td>0</td><td>0</td><td>0</td><td>0</td><td>0</td><td>0</td><td>0</td><td>0</td><td>118</td><td>0</td><td>0</td><td>0</td><td>0</td><td>0</td><td>0</td><td>0</td><td>0</td><td>0</td><td>0.0</td><td>0.0</td><td>0</td><td>0</td><td>0</td><td>0</td><td>0</td><td>0</td><td>0</td><td>0</td><td>0</td><td>&quot;Validation&quot;</td></tr><tr><td>&quot;anderga01&quot;</td><td>2010</td><td>550000</td><td>703</td><td>38</td><td>2</td><td>2</td><td>0</td><td>0</td><td>0</td><td>0</td><td>0</td><td>0</td><td>34</td><td>0</td><td>0</td><td>0</td><td>0</td><td>0</td><td>0</td><td>0</td><td>0</td><td>0</td><td>0</td><td>0</td><td>0</td><td>0</td><td>0</td><td>0</td><td>25</td><td>0</td><td>0</td><td>0</td><td>0</td><td>0</td><td>0</td><td>0</td><td>0</td><td>0</td><td>0.0</td><td>0.0</td><td>0</td><td>0</td><td>0</td><td>0</td><td>0</td><td>0</td><td>0</td><td>0</td><td>0</td><td>&quot;Training&quot;</td></tr><tr><td>&hellip;</td><td>&hellip;</td><td>&hellip;</td><td>&hellip;</td><td>&hellip;</td><td>&hellip;</td><td>&hellip;</td><td>&hellip;</td><td>&hellip;</td><td>&hellip;</td><td>&hellip;</td><td>&hellip;</td><td>&hellip;</td><td>&hellip;</td><td>&hellip;</td><td>&hellip;</td><td>&hellip;</td><td>&hellip;</td><td>&hellip;</td><td>&hellip;</td><td>&hellip;</td><td>&hellip;</td><td>&hellip;</td><td>&hellip;</td><td>&hellip;</td><td>&hellip;</td><td>&hellip;</td><td>&hellip;</td><td>&hellip;</td><td>&hellip;</td><td>&hellip;</td><td>&hellip;</td><td>&hellip;</td><td>&hellip;</td><td>&hellip;</td><td>&hellip;</td><td>&hellip;</td><td>&hellip;</td><td>&hellip;</td><td>&hellip;</td><td>&hellip;</td><td>&hellip;</td><td>&hellip;</td><td>&hellip;</td><td>&hellip;</td><td>&hellip;</td><td>&hellip;</td><td>&hellip;</td><td>&hellip;</td><td>&hellip;</td><td>&hellip;</td></tr><tr><td>&quot;rizzoan01&quot;</td><td>2013</td><td>498000</td><td>4245</td><td>1287</td><td>149</td><td>5</td><td>114</td><td>0</td><td>0</td><td>0</td><td>0</td><td>0</td><td>159</td><td>0</td><td>0</td><td>0</td><td>0</td><td>0</td><td>0</td><td>0</td><td>0</td><td>0</td><td>0</td><td>0</td><td>0</td><td>0</td><td>0</td><td>0</td><td>158</td><td>0</td><td>0</td><td>0</td><td>0</td><td>0</td><td>0</td><td>0</td><td>0</td><td>0</td><td>0.0</td><td>0.0</td><td>0</td><td>0</td><td>0</td><td>0</td><td>0</td><td>0</td><td>0</td><td>0</td><td>0</td><td>&quot;Training&quot;</td></tr><tr><td>&quot;colonba01&quot;</td><td>2012</td><td>2000000</td><td>457</td><td>6</td><td>18</td><td>4</td><td>2</td><td>0</td><td>0</td><td>0</td><td>0</td><td>0</td><td>24</td><td>4</td><td>0</td><td>0</td><td>0</td><td>0</td><td>0</td><td>0</td><td>0</td><td>0</td><td>3</td><td>0</td><td>0</td><td>0</td><td>0</td><td>0</td><td>24</td><td>0</td><td>0</td><td>0</td><td>457</td><td>161</td><td>58</td><td>17</td><td>23</td><td>91</td><td>0.266</td><td>3.43</td><td>3</td><td>0</td><td>1</td><td>0</td><td>636</td><td>0</td><td>0</td><td>0</td><td>14</td><td>&quot;Training&quot;</td></tr><tr><td>&quot;margoma01&quot;</td><td>2016</td><td>512500</td><td>0</td><td>0</td><td>0</td><td>0</td><td>0</td><td>0</td><td>0</td><td>0</td><td>0</td><td>0</td><td>0</td><td>0</td><td>0</td><td>0</td><td>0</td><td>0</td><td>0</td><td>0</td><td>0</td><td>0</td><td>0</td><td>0</td><td>0</td><td>0</td><td>0</td><td>0</td><td>0</td><td>0</td><td>0</td><td>0</td><td>0</td><td>0</td><td>0</td><td>0</td><td>0</td><td>0</td><td>0.0</td><td>0.0</td><td>0</td><td>0</td><td>0</td><td>0</td><td>0</td><td>0</td><td>0</td><td>0</td><td>0</td><td>&quot;Validation&quot;</td></tr><tr><td>&quot;bartlja01&quot;</td><td>2008</td><td>416600</td><td>3291</td><td>204</td><td>309</td><td>16</td><td>69</td><td>0</td><td>0</td><td>0</td><td>0</td><td>0</td><td>125</td><td>0</td><td>0</td><td>0</td><td>0</td><td>0</td><td>0</td><td>0</td><td>0</td><td>0</td><td>0</td><td>0</td><td>0</td><td>0</td><td>0</td><td>0</td><td>122</td><td>0</td><td>0</td><td>0</td><td>0</td><td>0</td><td>0</td><td>0</td><td>0</td><td>0</td><td>0.0</td><td>0.0</td><td>0</td><td>0</td><td>0</td><td>0</td><td>0</td><td>0</td><td>0</td><td>0</td><td>0</td><td>&quot;Training&quot;</td></tr><tr><td>&quot;patteer01&quot;</td><td>2011</td><td>846600</td><td>549</td><td>54</td><td>19</td><td>2</td><td>8</td><td>0</td><td>0</td><td>0</td><td>0</td><td>0</td><td>26</td><td>0</td><td>0</td><td>0</td><td>0</td><td>0</td><td>0</td><td>0</td><td>0</td><td>0</td><td>0</td><td>0</td><td>0</td><td>0</td><td>0</td><td>0</td><td>21</td><td>0</td><td>0</td><td>0</td><td>0</td><td>0</td><td>0</td><td>0</td><td>0</td><td>0</td><td>0.0</td><td>0.0</td><td>0</td><td>0</td><td>0</td><td>0</td><td>0</td><td>0</td><td>0</td><td>0</td><td>0</td><td>&quot;Training&quot;</td></tr></tbody></table></div>"
      ],
      "text/plain": [
       "shape: (9_131, 51)\n",
       "┌───────────┬────────┬──────────┬─────────┬───┬─────────────┬────────────┬────────────┬────────────┐\n",
       "│ playerID  ┆ yearID ┆ salary   ┆ InnOuts ┆ … ┆ SH_pitching ┆ SF_pitchin ┆ GIDP_pitch ┆ Training-V │\n",
       "│ ---       ┆ ---    ┆ ---      ┆ ---     ┆   ┆ ---         ┆ g          ┆ ing        ┆ alidation  │\n",
       "│ str       ┆ i64    ┆ i64      ┆ i64     ┆   ┆ i64         ┆ ---        ┆ ---        ┆ ---        │\n",
       "│           ┆        ┆          ┆         ┆   ┆             ┆ i64        ┆ i64        ┆ str        │\n",
       "╞═══════════╪════════╪══════════╪═════════╪═══╪═════════════╪════════════╪════════════╪════════════╡\n",
       "│ sanchdu01 ┆ 2006   ┆ 399500   ┆ 166     ┆ … ┆ 0           ┆ 0          ┆ 12         ┆ Training   │\n",
       "│ adriaeh01 ┆ 2014   ┆ 1501500  ┆ 594     ┆ … ┆ 0           ┆ 0          ┆ 0          ┆ Training   │\n",
       "│ ellisma01 ┆ 2008   ┆ 5000000  ┆ 3035    ┆ … ┆ 0           ┆ 0          ┆ 0          ┆ Training   │\n",
       "│ utleych01 ┆ 2016   ┆ 14000000 ┆ 3199    ┆ … ┆ 0           ┆ 0          ┆ 0          ┆ Validation │\n",
       "│ anderga01 ┆ 2010   ┆ 550000   ┆ 703     ┆ … ┆ 0           ┆ 0          ┆ 0          ┆ Training   │\n",
       "│ …         ┆ …      ┆ …        ┆ …       ┆ … ┆ …           ┆ …          ┆ …          ┆ …          │\n",
       "│ rizzoan01 ┆ 2013   ┆ 498000   ┆ 4245    ┆ … ┆ 0           ┆ 0          ┆ 0          ┆ Training   │\n",
       "│ colonba01 ┆ 2012   ┆ 2000000  ┆ 457     ┆ … ┆ 0           ┆ 0          ┆ 14         ┆ Training   │\n",
       "│ margoma01 ┆ 2016   ┆ 512500   ┆ 0       ┆ … ┆ 0           ┆ 0          ┆ 0          ┆ Validation │\n",
       "│ bartlja01 ┆ 2008   ┆ 416600   ┆ 3291    ┆ … ┆ 0           ┆ 0          ┆ 0          ┆ Training   │\n",
       "│ patteer01 ┆ 2011   ┆ 846600   ┆ 549     ┆ … ┆ 0           ┆ 0          ┆ 0          ┆ Training   │\n",
       "└───────────┴────────┴──────────┴─────────┴───┴─────────────┴────────────┴────────────┴────────────┘"
      ]
     },
     "execution_count": 9,
     "metadata": {},
     "output_type": "execute_result"
    }
   ],
   "source": [
    "salaries_final = (salaries\n",
    ".filter(pl.col('yearID') >= 2006)\n",
    ".join(fielding\n",
    "        .filter(pl.col('yearID') >= 2006),\n",
    "        on=['playerID', 'yearID', 'lgID', 'teamID'],\n",
    "        how='left'\n",
    "     )\n",
    ".join(batting\n",
    "        .rename({\"CS\": \"CS_batting\", \"SB\": \"SB_Batting\"})\n",
    "        .filter(pl.col('yearID') >= 2006),\n",
    "        on=['playerID', 'yearID', 'teamID', 'stint', 'lgID', 'G'],\n",
    "        how='left',\n",
    "     )\n",
    ".join(pitching\n",
    "        .rename({\n",
    "            \"GIDP\": \"GIDP_pitching\", \"H\": \"H_pitching\", \"HR\": \"HR_pitching\", \"BB\": \"BB_pitching\",\n",
    "            \"SO\": \"SO_pitching\", \"IBB\": \"IBB_pitching\", \"WP\": \"WP_pitching\", \"HBP\": \"HBP_pitching\",\n",
    "            \"SH\": \"SH_pitching\", \"SF\": \"SF_pitching\", \"R\": \"R_pitching\", \"GIDP\": \"GIDP_pitching\"\n",
    "                })\n",
    "        .filter(pl.col('yearID') >= 2006),\n",
    "        on=['playerID', 'yearID', 'teamID', 'stint', 'lgID', 'G', 'GS'],\n",
    "        how='left'\n",
    "     )\n",
    ".group_by(['playerID','yearID'])\n",
    ".agg(\n",
    "     pl.col('salary').sum().alias('salary'),\n",
    "     pl.col('InnOuts').sum().alias('InnOuts'),\n",
    "     pl.col('PO').sum().alias('PO'),\n",
    "     pl.col('A').sum().alias('A'),\n",
    "     pl.col('E').sum().alias('E'),\n",
    "     pl.col('DP').sum().alias('DP'),\n",
    "     pl.col('PB').cast(int).sum().alias('PB'),\n",
    "     pl.col('WP').cast(int).sum().alias('WP'),\n",
    "     pl.col('SB').cast(int).sum().alias('SB'),\n",
    "     pl.col('CS').cast(int).sum().alias('CS'),\n",
    "     pl.col('ZR').cast(int).sum().alias('ZR'),\n",
    "     pl.col('G').sum().alias('G'),\n",
    "     pl.col('AB').sum().alias('AB'),\n",
    "     pl.col('R').sum().alias('R'),\n",
    "     pl.col('H').sum().alias('H'),\n",
    "     pl.col('2B').sum().alias('2B'),\n",
    "     pl.col('3B').sum().alias('3B'),\n",
    "     pl.col('HR').sum().alias('HR'),\n",
    "     pl.col('SB_Batting').sum().alias('SB_batting'),\n",
    "     pl.col('CS_batting').sum().alias('CS_batting'),\n",
    "     pl.col('BB').sum().alias('BB_batting'),\n",
    "     pl.col('SO').sum().alias('SO_batting'),\n",
    "     pl.col('IBB').sum().alias('IBB_batting'),\n",
    "     pl.col('HBP').sum().alias('HBP_batting'),\n",
    "     pl.col('SH').sum().alias('Sacrifice Hits'),\n",
    "     pl.col('SF').sum().alias('Sacrifice Flies'),\n",
    "     pl.col('GIDP').sum().alias('GIDP'),\n",
    "     pl.col('GS').sum().alias('GS'),\n",
    "     pl.col('CG').sum().alias('CG'),\n",
    "     pl.col('SHO').sum().alias('SHO'),\n",
    "     pl.col('SV').sum().alias('SV'),\n",
    "     pl.col('IPouts').sum().alias('IPOuts'),\n",
    "     pl.col('H_pitching').sum().alias('H_pitching'),\n",
    "     pl.col('ER').sum().alias('ER_pitching'),\n",
    "     pl.col('HR_pitching').sum().alias('HR_pitching'),\n",
    "     pl.col('BB_pitching').sum().alias('BB_pitching'),\n",
    "     pl.col('SO_pitching').sum().alias('SO_pitching'),\n",
    "     pl.col('BAOpp').sum().alias('BAOpp'),\n",
    "     pl.col('ERA').sum().alias('ERA_pitching'),\n",
    "     pl.col('IBB_pitching').sum().alias('IBB_pitching'),\n",
    "     pl.col('WP_pitching').sum().alias('WP_pitching'),\n",
    "     pl.col('HBP_pitching').sum().alias('HBP_pitching'),\n",
    "     pl.col('BK').sum().alias('Balk'),\n",
    "     pl.col('BFP').sum().alias('Batters Faced by Pitcher'),\n",
    "     pl.col('GF').sum().alias('Games Finished'),\n",
    "     pl.col('SH').sum().alias('SH_pitching'),\n",
    "     pl.col('SF').sum().alias('SF_pitching'),\n",
    "     pl.col('GIDP_pitching').sum().alias('GIDP_pitching')\n",
    "    )   \n",
    ".with_columns(\n",
    "         pl.when(pl.col('yearID') == 2016)\n",
    "          .then(pl.lit('Validation'))\n",
    "          .otherwise(pl.lit('Training'))\n",
    "          .alias('Training-Validation')\n",
    "               )\n",
    ")\n",
    "salaries_final.write_csv('data/salaries_final.csv')\n",
    "salaries_final"
   ]
  }
 ],
 "metadata": {
  "kernelspec": {
   "display_name": "Python 3 (ipykernel)",
   "language": "python",
   "name": "python3"
  },
  "language_info": {
   "codemirror_mode": {
    "name": "ipython",
    "version": 3
   },
   "file_extension": ".py",
   "mimetype": "text/x-python",
   "name": "python",
   "nbconvert_exporter": "python",
   "pygments_lexer": "ipython3",
   "version": "3.12.5"
  }
 },
 "nbformat": 4,
 "nbformat_minor": 5
}
