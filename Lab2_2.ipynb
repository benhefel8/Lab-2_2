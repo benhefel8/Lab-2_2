{
 "cells": [
  {
   "cell_type": "code",
   "execution_count": 1,
   "id": "3b0619a7-3a78-4904-9d92-0e5cc7823b7d",
   "metadata": {},
   "outputs": [],
   "source": [
    "import polars as pl\n",
    "pl.Config.with_columns_kwargs = True"
   ]
  },
  {
   "cell_type": "code",
   "execution_count": 124,
   "id": "bed6a7f1-6575-4e6a-970d-cd6e2ee0725f",
   "metadata": {},
   "outputs": [
    {
     "data": {
      "text/html": [
       "<div><style>\n",
       ".dataframe > thead > tr,\n",
       ".dataframe > tbody > tr {\n",
       "  text-align: right;\n",
       "  white-space: pre-wrap;\n",
       "}\n",
       "</style>\n",
       "<small>shape: (6_797, 6)</small><table border=\"1\" class=\"dataframe\"><thead><tr><th>playerID</th><th>awardID</th><th>yearID</th><th>lgID</th><th>tie</th><th>notes</th></tr><tr><td>str</td><td>str</td><td>i64</td><td>str</td><td>str</td><td>str</td></tr></thead><tbody><tr><td>&quot;poseybu01&quot;</td><td>&quot;Lou Gehrig Memorial Award&quot;</td><td>2019</td><td>&quot;ML&quot;</td><td>null</td><td>null</td></tr><tr><td>&quot;klubeco01&quot;</td><td>&quot;Lou Gehrig Memorial Award&quot;</td><td>2018</td><td>&quot;ML&quot;</td><td>null</td><td>null</td></tr><tr><td>&quot;vottojo01&quot;</td><td>&quot;Lou Gehrig Memorial Award&quot;</td><td>2017</td><td>&quot;ML&quot;</td><td>null</td><td>null</td></tr><tr><td>&quot;altuvjo01&quot;</td><td>&quot;Lou Gehrig Memorial Award&quot;</td><td>2016</td><td>&quot;ML&quot;</td><td>null</td><td>null</td></tr><tr><td>&quot;grandcu01&quot;</td><td>&quot;Lou Gehrig Memorial Award&quot;</td><td>2015</td><td>&quot;ML&quot;</td><td>null</td><td>null</td></tr><tr><td>&hellip;</td><td>&hellip;</td><td>&hellip;</td><td>&hellip;</td><td>&hellip;</td><td>&hellip;</td></tr><tr><td>&quot;barnhtu01&quot;</td><td>&quot;Gold Glove&quot;</td><td>2017</td><td>&quot;NL&quot;</td><td>null</td><td>&quot;C&quot;</td></tr><tr><td>&quot;goldspa01&quot;</td><td>&quot;Gold Glove&quot;</td><td>2017</td><td>&quot;NL&quot;</td><td>null</td><td>&quot;1B&quot;</td></tr><tr><td>&quot;lemahdj01&quot;</td><td>&quot;Gold Glove&quot;</td><td>2017</td><td>&quot;NL&quot;</td><td>null</td><td>&quot;2B&quot;</td></tr><tr><td>&quot;arenano01&quot;</td><td>&quot;Gold Glove&quot;</td><td>2017</td><td>&quot;NL&quot;</td><td>null</td><td>&quot;3B&quot;</td></tr><tr><td>&quot;crawfbr01&quot;</td><td>&quot;Gold Glove&quot;</td><td>2017</td><td>&quot;NL&quot;</td><td>null</td><td>&quot;SS&quot;</td></tr></tbody></table></div>"
      ],
      "text/plain": [
       "shape: (6_797, 6)\n",
       "┌───────────┬───────────────────────────┬────────┬──────┬──────┬───────┐\n",
       "│ playerID  ┆ awardID                   ┆ yearID ┆ lgID ┆ tie  ┆ notes │\n",
       "│ ---       ┆ ---                       ┆ ---    ┆ ---  ┆ ---  ┆ ---   │\n",
       "│ str       ┆ str                       ┆ i64    ┆ str  ┆ str  ┆ str   │\n",
       "╞═══════════╪═══════════════════════════╪════════╪══════╪══════╪═══════╡\n",
       "│ poseybu01 ┆ Lou Gehrig Memorial Award ┆ 2019   ┆ ML   ┆ null ┆ null  │\n",
       "│ klubeco01 ┆ Lou Gehrig Memorial Award ┆ 2018   ┆ ML   ┆ null ┆ null  │\n",
       "│ vottojo01 ┆ Lou Gehrig Memorial Award ┆ 2017   ┆ ML   ┆ null ┆ null  │\n",
       "│ altuvjo01 ┆ Lou Gehrig Memorial Award ┆ 2016   ┆ ML   ┆ null ┆ null  │\n",
       "│ grandcu01 ┆ Lou Gehrig Memorial Award ┆ 2015   ┆ ML   ┆ null ┆ null  │\n",
       "│ …         ┆ …                         ┆ …      ┆ …    ┆ …    ┆ …     │\n",
       "│ barnhtu01 ┆ Gold Glove                ┆ 2017   ┆ NL   ┆ null ┆ C     │\n",
       "│ goldspa01 ┆ Gold Glove                ┆ 2017   ┆ NL   ┆ null ┆ 1B    │\n",
       "│ lemahdj01 ┆ Gold Glove                ┆ 2017   ┆ NL   ┆ null ┆ 2B    │\n",
       "│ arenano01 ┆ Gold Glove                ┆ 2017   ┆ NL   ┆ null ┆ 3B    │\n",
       "│ crawfbr01 ┆ Gold Glove                ┆ 2017   ┆ NL   ┆ null ┆ SS    │\n",
       "└───────────┴───────────────────────────┴────────┴──────┴──────┴───────┘"
      ]
     },
     "execution_count": 124,
     "metadata": {},
     "output_type": "execute_result"
    }
   ],
   "source": [
    "batting = pl.read_csv('Data/lahman baseball data/Batting.csv')\n",
    "pitching = pl.read_csv('Data/lahman baseball data/Pitching.csv')\n",
    "fielding = pl.read_csv('Data/lahman baseball data/Fielding.csv')\n",
    "awards = pl.read_csv('Data/lahman baseball data/AwardsPlayers.csv')\n",
    "salaries = pl.read_csv('Data/lahman baseball data/Salaries.csv')\n",
    "awards"
   ]
  },
  {
   "cell_type": "code",
   "execution_count": 12,
   "id": "6e360349-14e7-4d66-9c5a-8e1d88c3122d",
   "metadata": {},
   "outputs": [
    {
     "data": {
      "text/plain": [
       "['yearID', 'teamID', 'lgID', 'playerID', 'salary']"
      ]
     },
     "execution_count": 12,
     "metadata": {},
     "output_type": "execute_result"
    }
   ],
   "source": [
    "salaries.columns"
   ]
  },
  {
   "cell_type": "code",
   "execution_count": 109,
   "id": "842c201c-3239-4ec6-ae94-57e59601d182",
   "metadata": {},
   "outputs": [
    {
     "data": {
      "text/plain": [
       "['playerID', 'yearID', 'awardID']"
      ]
     },
     "execution_count": 109,
     "metadata": {},
     "output_type": "execute_result"
    }
   ],
   "source": [
    "awards.columns"
   ]
  },
  {
   "cell_type": "code",
   "execution_count": 146,
   "id": "2d960fcb-99d8-4dd5-a56a-e2418f310eb1",
   "metadata": {},
   "outputs": [
    {
     "data": {
      "text/html": [
       "<div><style>\n",
       ".dataframe > thead > tr,\n",
       ".dataframe > tbody > tr {\n",
       "  text-align: right;\n",
       "  white-space: pre-wrap;\n",
       "}\n",
       "</style>\n",
       "<small>shape: (151_507, 18)</small><table border=\"1\" class=\"dataframe\"><thead><tr><th>playerID</th><th>yearID</th><th>stint</th><th>teamID</th><th>lgID</th><th>POS</th><th>G</th><th>GS</th><th>InnOuts</th><th>PO</th><th>A</th><th>E</th><th>DP</th><th>PB</th><th>WP</th><th>SB</th><th>CS</th><th>ZR</th></tr><tr><td>str</td><td>i64</td><td>i64</td><td>str</td><td>str</td><td>str</td><td>i64</td><td>i64</td><td>i64</td><td>i64</td><td>i64</td><td>i64</td><td>i64</td><td>str</td><td>str</td><td>str</td><td>str</td><td>str</td></tr></thead><tbody><tr><td>&quot;abadfe01&quot;</td><td>2023</td><td>1</td><td>&quot;COL&quot;</td><td>&quot;NL&quot;</td><td>&quot;P&quot;</td><td>6</td><td>0</td><td>19</td><td>0</td><td>0</td><td>1</td><td>0</td><td>null</td><td>null</td><td>null</td><td>null</td><td>null</td></tr><tr><td>&quot;abbotan01&quot;</td><td>2023</td><td>1</td><td>&quot;CIN&quot;</td><td>&quot;NL&quot;</td><td>&quot;P&quot;</td><td>21</td><td>21</td><td>328</td><td>1</td><td>9</td><td>0</td><td>1</td><td>null</td><td>null</td><td>null</td><td>null</td><td>null</td></tr><tr><td>&quot;abbotco01&quot;</td><td>2023</td><td>1</td><td>&quot;WAS&quot;</td><td>&quot;NL&quot;</td><td>&quot;P&quot;</td><td>22</td><td>0</td><td>118</td><td>0</td><td>1</td><td>0</td><td>1</td><td>null</td><td>null</td><td>null</td><td>null</td><td>null</td></tr><tr><td>&quot;abramcj01&quot;</td><td>2023</td><td>1</td><td>&quot;WAS&quot;</td><td>&quot;NL&quot;</td><td>&quot;SS&quot;</td><td>151</td><td>148</td><td>3884</td><td>245</td><td>384</td><td>22</td><td>100</td><td>null</td><td>null</td><td>null</td><td>null</td><td>null</td></tr><tr><td>&quot;abreual01&quot;</td><td>2023</td><td>1</td><td>&quot;NYA&quot;</td><td>&quot;AL&quot;</td><td>&quot;P&quot;</td><td>45</td><td>0</td><td>177</td><td>6</td><td>4</td><td>2</td><td>0</td><td>null</td><td>null</td><td>null</td><td>null</td><td>null</td></tr><tr><td>&hellip;</td><td>&hellip;</td><td>&hellip;</td><td>&hellip;</td><td>&hellip;</td><td>&hellip;</td><td>&hellip;</td><td>&hellip;</td><td>&hellip;</td><td>&hellip;</td><td>&hellip;</td><td>&hellip;</td><td>&hellip;</td><td>&hellip;</td><td>&hellip;</td><td>&hellip;</td><td>&hellip;</td><td>&hellip;</td></tr><tr><td>&quot;wrighha01&quot;</td><td>1871</td><td>1</td><td>&quot;BS1&quot;</td><td>&quot;NA&quot;</td><td>&quot;P&quot;</td><td>9</td><td>0</td><td>57</td><td>1</td><td>5</td><td>1</td><td>0</td><td>null</td><td>null</td><td>null</td><td>null</td><td>null</td></tr><tr><td>&quot;wrighha01&quot;</td><td>1871</td><td>1</td><td>&quot;BS1&quot;</td><td>&quot;NA&quot;</td><td>&quot;SS&quot;</td><td>1</td><td>1</td><td>18</td><td>0</td><td>3</td><td>2</td><td>0</td><td>null</td><td>null</td><td>null</td><td>null</td><td>null</td></tr><tr><td>&quot;yorkto01&quot;</td><td>1871</td><td>1</td><td>&quot;TRO&quot;</td><td>&quot;NA&quot;</td><td>&quot;OF&quot;</td><td>29</td><td>29</td><td>750</td><td>60</td><td>5</td><td>11</td><td>2</td><td>null</td><td>null</td><td>null</td><td>null</td><td>null</td></tr><tr><td>&quot;zettlge01&quot;</td><td>1871</td><td>1</td><td>&quot;CH1&quot;</td><td>&quot;NA&quot;</td><td>&quot;OF&quot;</td><td>3</td><td>0</td><td>27</td><td>1</td><td>0</td><td>1</td><td>0</td><td>null</td><td>null</td><td>null</td><td>null</td><td>null</td></tr><tr><td>&quot;zettlge01&quot;</td><td>1871</td><td>1</td><td>&quot;CH1&quot;</td><td>&quot;NA&quot;</td><td>&quot;P&quot;</td><td>28</td><td>28</td><td>723</td><td>8</td><td>41</td><td>10</td><td>2</td><td>null</td><td>null</td><td>null</td><td>null</td><td>null</td></tr></tbody></table></div>"
      ],
      "text/plain": [
       "shape: (151_507, 18)\n",
       "┌───────────┬────────┬───────┬────────┬───┬──────┬──────┬──────┬──────┐\n",
       "│ playerID  ┆ yearID ┆ stint ┆ teamID ┆ … ┆ WP   ┆ SB   ┆ CS   ┆ ZR   │\n",
       "│ ---       ┆ ---    ┆ ---   ┆ ---    ┆   ┆ ---  ┆ ---  ┆ ---  ┆ ---  │\n",
       "│ str       ┆ i64    ┆ i64   ┆ str    ┆   ┆ str  ┆ str  ┆ str  ┆ str  │\n",
       "╞═══════════╪════════╪═══════╪════════╪═══╪══════╪══════╪══════╪══════╡\n",
       "│ abadfe01  ┆ 2023   ┆ 1     ┆ COL    ┆ … ┆ null ┆ null ┆ null ┆ null │\n",
       "│ abbotan01 ┆ 2023   ┆ 1     ┆ CIN    ┆ … ┆ null ┆ null ┆ null ┆ null │\n",
       "│ abbotco01 ┆ 2023   ┆ 1     ┆ WAS    ┆ … ┆ null ┆ null ┆ null ┆ null │\n",
       "│ abramcj01 ┆ 2023   ┆ 1     ┆ WAS    ┆ … ┆ null ┆ null ┆ null ┆ null │\n",
       "│ abreual01 ┆ 2023   ┆ 1     ┆ NYA    ┆ … ┆ null ┆ null ┆ null ┆ null │\n",
       "│ …         ┆ …      ┆ …     ┆ …      ┆ … ┆ …    ┆ …    ┆ …    ┆ …    │\n",
       "│ wrighha01 ┆ 1871   ┆ 1     ┆ BS1    ┆ … ┆ null ┆ null ┆ null ┆ null │\n",
       "│ wrighha01 ┆ 1871   ┆ 1     ┆ BS1    ┆ … ┆ null ┆ null ┆ null ┆ null │\n",
       "│ yorkto01  ┆ 1871   ┆ 1     ┆ TRO    ┆ … ┆ null ┆ null ┆ null ┆ null │\n",
       "│ zettlge01 ┆ 1871   ┆ 1     ┆ CH1    ┆ … ┆ null ┆ null ┆ null ┆ null │\n",
       "│ zettlge01 ┆ 1871   ┆ 1     ┆ CH1    ┆ … ┆ null ┆ null ┆ null ┆ null │\n",
       "└───────────┴────────┴───────┴────────┴───┴──────┴──────┴──────┴──────┘"
      ]
     },
     "execution_count": 146,
     "metadata": {},
     "output_type": "execute_result"
    }
   ],
   "source": [
    "fielding.sort('yearID', descending=True)\n"
   ]
  },
  {
   "cell_type": "code",
   "execution_count": 36,
   "id": "2655b32b-4501-41a3-879e-0c3342bca4b2",
   "metadata": {},
   "outputs": [
    {
     "data": {
      "text/plain": [
       "['playerID',\n",
       " 'yearID',\n",
       " 'stint',\n",
       " 'teamID',\n",
       " 'lgID',\n",
       " 'POS',\n",
       " 'G',\n",
       " 'GS',\n",
       " 'InnOuts',\n",
       " 'PO',\n",
       " 'A',\n",
       " 'E',\n",
       " 'DP',\n",
       " 'PB',\n",
       " 'WP',\n",
       " 'SB',\n",
       " 'CS',\n",
       " 'ZR']"
      ]
     },
     "execution_count": 36,
     "metadata": {},
     "output_type": "execute_result"
    }
   ],
   "source": [
    "fielding.columns"
   ]
  },
  {
   "cell_type": "code",
   "execution_count": null,
   "id": "789059ae-326c-4142-b0ce-73310b7888ef",
   "metadata": {},
   "outputs": [],
   "source": [
    "'case is player, year, pos, league'"
   ]
  },
  {
   "cell_type": "code",
   "execution_count": 151,
   "id": "a4324954-6b89-4c71-a0db-2dfe917cc258",
   "metadata": {},
   "outputs": [
    {
     "data": {
      "text/html": [
       "<div><style>\n",
       ".dataframe > thead > tr,\n",
       ".dataframe > tbody > tr {\n",
       "  text-align: right;\n",
       "  white-space: pre-wrap;\n",
       "}\n",
       "</style>\n",
       "<small>shape: (106_919, 15)</small><table border=\"1\" class=\"dataframe\"><thead><tr><th>yearID</th><th>lgID</th><th>playerID</th><th>awardID</th><th>InnOuts</th><th>PO</th><th>A</th><th>E</th><th>DP</th><th>PB</th><th>WP</th><th>SB</th><th>CS</th><th>ZR</th><th>Gold Glove?</th></tr><tr><td>i64</td><td>str</td><td>str</td><td>str</td><td>i64</td><td>i64</td><td>i64</td><td>i64</td><td>i64</td><td>str</td><td>str</td><td>str</td><td>str</td><td>str</td><td>str</td></tr></thead><tbody><tr><td>1990</td><td>&quot;NL&quot;</td><td>&quot;quiseda01&quot;</td><td>null</td><td>20</td><td>0</td><td>1</td><td>0</td><td>0</td><td>null</td><td>null</td><td>null</td><td>null</td><td>null</td><td>&quot;No&quot;</td></tr><tr><td>2012</td><td>&quot;NL&quot;</td><td>&quot;sanchbr01&quot;</td><td>null</td><td>19</td><td>0</td><td>0</td><td>0</td><td>0</td><td>null</td><td>null</td><td>null</td><td>null</td><td>null</td><td>&quot;No&quot;</td></tr><tr><td>2017</td><td>&quot;AL&quot;</td><td>&quot;warread01&quot;</td><td>null</td><td>172</td><td>1</td><td>10</td><td>0</td><td>0</td><td>null</td><td>null</td><td>null</td><td>null</td><td>null</td><td>&quot;No&quot;</td></tr><tr><td>2019</td><td>&quot;AL&quot;</td><td>&quot;rondojo02&quot;</td><td>null</td><td>948</td><td>43</td><td>80</td><td>4</td><td>15</td><td>null</td><td>null</td><td>null</td><td>null</td><td>null</td><td>&quot;No&quot;</td></tr><tr><td>1882</td><td>&quot;AA&quot;</td><td>&quot;mountfr01&quot;</td><td>null</td><td>213</td><td>2</td><td>31</td><td>3</td><td>0</td><td>null</td><td>null</td><td>null</td><td>null</td><td>null</td><td>&quot;No&quot;</td></tr><tr><td>&hellip;</td><td>&hellip;</td><td>&hellip;</td><td>&hellip;</td><td>&hellip;</td><td>&hellip;</td><td>&hellip;</td><td>&hellip;</td><td>&hellip;</td><td>&hellip;</td><td>&hellip;</td><td>&hellip;</td><td>&hellip;</td><td>&hellip;</td><td>&hellip;</td></tr><tr><td>1983</td><td>&quot;AL&quot;</td><td>&quot;wathajo01&quot;</td><td>null</td><td>3173</td><td>615</td><td>58</td><td>9</td><td>29</td><td>null</td><td>null</td><td>null</td><td>null</td><td>null</td><td>&quot;No&quot;</td></tr><tr><td>1996</td><td>&quot;NL&quot;</td><td>&quot;webstle01&quot;</td><td>null</td><td>1293</td><td>390</td><td>25</td><td>1</td><td>3</td><td>null</td><td>null</td><td>null</td><td>null</td><td>null</td><td>&quot;No&quot;</td></tr><tr><td>1890</td><td>&quot;NL&quot;</td><td>&quot;stockle01&quot;</td><td>null</td><td>54</td><td>10</td><td>1</td><td>3</td><td>0</td><td>null</td><td>null</td><td>null</td><td>null</td><td>null</td><td>&quot;No&quot;</td></tr><tr><td>1987</td><td>&quot;NL&quot;</td><td>&quot;wilforo01&quot;</td><td>null</td><td>48</td><td>2</td><td>3</td><td>1</td><td>2</td><td>null</td><td>null</td><td>null</td><td>null</td><td>null</td><td>&quot;No&quot;</td></tr><tr><td>1929</td><td>&quot;NL&quot;</td><td>&quot;willocl01&quot;</td><td>null</td><td>0</td><td>8</td><td>76</td><td>2</td><td>6</td><td>null</td><td>null</td><td>null</td><td>null</td><td>null</td><td>&quot;No&quot;</td></tr></tbody></table></div>"
      ],
      "text/plain": [
       "shape: (106_919, 15)\n",
       "┌────────┬──────┬───────────┬─────────┬───┬──────┬──────┬──────┬─────────────┐\n",
       "│ yearID ┆ lgID ┆ playerID  ┆ awardID ┆ … ┆ SB   ┆ CS   ┆ ZR   ┆ Gold Glove? │\n",
       "│ ---    ┆ ---  ┆ ---       ┆ ---     ┆   ┆ ---  ┆ ---  ┆ ---  ┆ ---         │\n",
       "│ i64    ┆ str  ┆ str       ┆ str     ┆   ┆ str  ┆ str  ┆ str  ┆ str         │\n",
       "╞════════╪══════╪═══════════╪═════════╪═══╪══════╪══════╪══════╪═════════════╡\n",
       "│ 1990   ┆ NL   ┆ quiseda01 ┆ null    ┆ … ┆ null ┆ null ┆ null ┆ No          │\n",
       "│ 2012   ┆ NL   ┆ sanchbr01 ┆ null    ┆ … ┆ null ┆ null ┆ null ┆ No          │\n",
       "│ 2017   ┆ AL   ┆ warread01 ┆ null    ┆ … ┆ null ┆ null ┆ null ┆ No          │\n",
       "│ 2019   ┆ AL   ┆ rondojo02 ┆ null    ┆ … ┆ null ┆ null ┆ null ┆ No          │\n",
       "│ 1882   ┆ AA   ┆ mountfr01 ┆ null    ┆ … ┆ null ┆ null ┆ null ┆ No          │\n",
       "│ …      ┆ …    ┆ …         ┆ …       ┆ … ┆ …    ┆ …    ┆ …    ┆ …           │\n",
       "│ 1983   ┆ AL   ┆ wathajo01 ┆ null    ┆ … ┆ null ┆ null ┆ null ┆ No          │\n",
       "│ 1996   ┆ NL   ┆ webstle01 ┆ null    ┆ … ┆ null ┆ null ┆ null ┆ No          │\n",
       "│ 1890   ┆ NL   ┆ stockle01 ┆ null    ┆ … ┆ null ┆ null ┆ null ┆ No          │\n",
       "│ 1987   ┆ NL   ┆ wilforo01 ┆ null    ┆ … ┆ null ┆ null ┆ null ┆ No          │\n",
       "│ 1929   ┆ NL   ┆ willocl01 ┆ null    ┆ … ┆ null ┆ null ┆ null ┆ No          │\n",
       "└────────┴──────┴───────────┴─────────┴───┴──────┴──────┴──────┴─────────────┘"
      ]
     },
     "execution_count": 151,
     "metadata": {},
     "output_type": "execute_result"
    }
   ],
   "source": [
    "awards_filter = (awards\n",
    "                 .rename({\"notes\": \"pos\"})\n",
    "\n",
    "                 .select(['playerID',\n",
    "                           'yearID',\n",
    "                           'awardID',\n",
    "                           'pos'])\n",
    "                 .filter(pl.col('awardID') == 'Gold Glove'))\n",
    "\n",
    "fielding_awards = (fielding\n",
    ".join(awards_filter, on=['playerID', 'yearID'], how='left')\n",
    ".group_by(pl.col('yearID'), pl.col('lgID'), pl.col('playerID'), pl.col('awardID'))\n",
    ".agg(pl.col('InnOuts').sum().alias('InnOuts'),\n",
    "     pl.col('PO').sum().alias('PO'),\n",
    "     pl.col('A').sum().alias('A'),\n",
    "     pl.col('E').sum().alias('E'),\n",
    "     pl.col('DP').sum().alias('DP'),\n",
    "     pl.col('PB').sum().alias('PB'),\n",
    "     pl.col('WP').sum().alias('WP'),\n",
    "     pl.col('SB').sum().alias('SB'),\n",
    "     pl.col('CS').sum().alias('CS'),\n",
    "     pl.col('ZR').sum().alias('ZR')\n",
    "    )    \n",
    "\n",
    " .with_columns(\n",
    "        pl.when(pl.col('awardID').is_null())\n",
    "          .then(pl.lit('No'))\n",
    "          .otherwise(pl.lit('Yes'))\n",
    "          .alias('Gold Glove?')\n",
    "    )\n",
    " # .with_columns(\n",
    " #         pl.when(pl.col('yearID') == '2023')\n",
    " #            .then(pl.lit('Validation'))\n",
    " #            .otherwise(pl.lit('Training'))\n",
    " #                  )\n",
    "                   \n",
    "                  )\n",
    "fielding_awards"
   ]
  }
 ],
 "metadata": {
  "kernelspec": {
   "display_name": "Python 3 (ipykernel)",
   "language": "python",
   "name": "python3"
  },
  "language_info": {
   "codemirror_mode": {
    "name": "ipython",
    "version": 3
   },
   "file_extension": ".py",
   "mimetype": "text/x-python",
   "name": "python",
   "nbconvert_exporter": "python",
   "pygments_lexer": "ipython3",
   "version": "3.12.5"
  }
 },
 "nbformat": 4,
 "nbformat_minor": 5
}
