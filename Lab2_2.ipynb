{
 "cells": [
  {
   "cell_type": "code",
   "execution_count": 16,
   "id": "3b0619a7-3a78-4904-9d92-0e5cc7823b7d",
   "metadata": {},
   "outputs": [],
   "source": [
    "import polars as pl\n",
    "pl.Config.with_columns_kwargs = True"
   ]
  },
  {
   "cell_type": "code",
   "execution_count": 17,
   "id": "bed6a7f1-6575-4e6a-970d-cd6e2ee0725f",
   "metadata": {},
   "outputs": [],
   "source": [
    "batting = pl.read_csv('Data/lahman baseball data/Batting.csv')\n",
    "pitching = pl.read_csv('Data/lahman baseball data/Pitching.csv')\n",
    "fielding = pl.read_csv('Data/lahman baseball data/Fielding.csv')\n",
    "awards = pl.read_csv('Data/lahman baseball data/AwardsPlayers.csv')\n",
    "salaries = pl.read_csv('Data/lahman baseball data/Salaries.csv')"
   ]
  },
  {
   "cell_type": "code",
   "execution_count": 18,
   "id": "842c201c-3239-4ec6-ae94-57e59601d182",
   "metadata": {},
   "outputs": [
    {
     "data": {
      "text/plain": [
       "['playerID', 'awardID', 'yearID', 'lgID', 'tie', 'notes']"
      ]
     },
     "execution_count": 18,
     "metadata": {},
     "output_type": "execute_result"
    }
   ],
   "source": [
    "awards.columns"
   ]
  },
  {
   "cell_type": "code",
   "execution_count": 19,
   "id": "2655b32b-4501-41a3-879e-0c3342bca4b2",
   "metadata": {},
   "outputs": [
    {
     "data": {
      "text/plain": [
       "['playerID',\n",
       " 'yearID',\n",
       " 'stint',\n",
       " 'teamID',\n",
       " 'lgID',\n",
       " 'POS',\n",
       " 'G',\n",
       " 'GS',\n",
       " 'InnOuts',\n",
       " 'PO',\n",
       " 'A',\n",
       " 'E',\n",
       " 'DP',\n",
       " 'PB',\n",
       " 'WP',\n",
       " 'SB',\n",
       " 'CS',\n",
       " 'ZR']"
      ]
     },
     "execution_count": 19,
     "metadata": {},
     "output_type": "execute_result"
    }
   ],
   "source": [
    "fielding.columns"
   ]
  },
  {
   "cell_type": "code",
   "execution_count": 20,
   "id": "789059ae-326c-4142-b0ce-73310b7888ef",
   "metadata": {},
   "outputs": [
    {
     "data": {
      "text/plain": [
       "'case is player, year, pos, league'"
      ]
     },
     "execution_count": 20,
     "metadata": {},
     "output_type": "execute_result"
    }
   ],
   "source": [
    "'case is player, year, pos, league'"
   ]
  },
  {
   "cell_type": "code",
   "execution_count": 72,
   "id": "9eb95e3d-d132-4138-8288-f01da0658a3f",
   "metadata": {},
   "outputs": [
    {
     "name": "stdout",
     "output_type": "stream",
     "text": [
      "shape: (2, 6)\n",
      "┌──────────┬────────┬──────┬───────────────┬──────────┬─────────┐\n",
      "│ playerID ┆ yearID ┆ lgID ┆ Total InnOuts ┆ Total PO ┆ Total A │\n",
      "│ ---      ┆ ---    ┆ ---  ┆ ---           ┆ ---      ┆ ---     │\n",
      "│ str      ┆ i64    ┆ str  ┆ i64           ┆ i64      ┆ i64     │\n",
      "╞══════════╪════════╪══════╪═══════════════╪══════════╪═════════╡\n",
      "│ player1  ┆ 2019   ┆ AL   ┆ 300           ┆ 110      ┆ 70      │\n",
      "│ player2  ┆ 2020   ┆ NL   ┆ 400           ┆ 110      ┆ 50      │\n",
      "└──────────┴────────┴──────┴───────────────┴──────────┴─────────┘\n"
     ]
    }
   ],
   "source": [
    "df = pl.DataFrame({\n",
    "    \"playerID\": [\"player1\", \"player1\", \"player2\", \"player2\"],\n",
    "    \"yearID\": [2019, 2019, 2020, 2020],\n",
    "    \"lgID\": [\"AL\", \"AL\", \"NL\", \"NL\"],\n",
    "    \"InnOuts\": [100, 200, 150, 250],\n",
    "    \"PO\": [50, 60, 40, 70],\n",
    "    \"A\": [30, 40, 20, 30]\n",
    "})\n",
    "\n",
    "# Group by playerID, yearID, and lgID, then sum specific columns\n",
    "result = df.group_by([\"playerID\", \"yearID\", \"lgID\"]).agg([\n",
    "    pl.col(\"InnOuts\").sum().alias(\"Total InnOuts\"),\n",
    "    pl.col(\"PO\").sum().alias(\"Total PO\"),\n",
    "    pl.col(\"A\").sum().alias(\"Total A\")\n",
    "])\n",
    "\n",
    "print(result)\n"
   ]
  },
  {
   "cell_type": "code",
   "execution_count": 113,
   "id": "a4324954-6b89-4c71-a0db-2dfe917cc258",
   "metadata": {},
   "outputs": [
    {
     "data": {
      "text/html": [
       "<div><style>\n",
       ".dataframe > thead > tr,\n",
       ".dataframe > tbody > tr {\n",
       "  text-align: right;\n",
       "  white-space: pre-wrap;\n",
       "}\n",
       "</style>\n",
       "<small>shape: (21_356, 16)</small><table border=\"1\" class=\"dataframe\"><thead><tr><th>playerID</th><th>yearID</th><th>lgID</th><th>POS</th><th>InnOuts</th><th>PO</th><th>A</th><th>E</th><th>DP</th><th>PB</th><th>WP</th><th>SB</th><th>CS</th><th>ZR</th><th>Gold Glove?</th><th>Training-Validation</th></tr><tr><td>str</td><td>i64</td><td>str</td><td>str</td><td>i64</td><td>i64</td><td>i64</td><td>i64</td><td>i64</td><td>str</td><td>str</td><td>str</td><td>str</td><td>str</td><td>str</td><td>str</td></tr></thead><tbody><tr><td>&quot;marjami01&quot;</td><td>2018</td><td>&quot;AL&quot;</td><td>&quot;C&quot;</td><td>216</td><td>61</td><td>4</td><td>1</td><td>0</td><td>null</td><td>null</td><td>null</td><td>null</td><td>null</td><td>&quot;No&quot;</td><td>&quot;Training&quot;</td></tr><tr><td>&quot;polloaj01&quot;</td><td>2021</td><td>&quot;NL&quot;</td><td>&quot;OF&quot;</td><td>2562</td><td>177</td><td>4</td><td>0</td><td>1</td><td>null</td><td>null</td><td>null</td><td>null</td><td>null</td><td>&quot;No&quot;</td><td>&quot;Training&quot;</td></tr><tr><td>&quot;diazed04&quot;</td><td>2019</td><td>&quot;NL&quot;</td><td>&quot;P&quot;</td><td>174</td><td>2</td><td>3</td><td>0</td><td>0</td><td>null</td><td>null</td><td>null</td><td>null</td><td>null</td><td>&quot;No&quot;</td><td>&quot;Training&quot;</td></tr><tr><td>&quot;kratzer01&quot;</td><td>2018</td><td>&quot;NL&quot;</td><td>&quot;1B&quot;</td><td>0</td><td>0</td><td>0</td><td>0</td><td>0</td><td>null</td><td>null</td><td>null</td><td>null</td><td>null</td><td>&quot;No&quot;</td><td>&quot;Training&quot;</td></tr><tr><td>&quot;bakerje03&quot;</td><td>2013</td><td>&quot;AL&quot;</td><td>&quot;1B&quot;</td><td>342</td><td>109</td><td>3</td><td>0</td><td>7</td><td>null</td><td>null</td><td>null</td><td>null</td><td>null</td><td>&quot;No&quot;</td><td>&quot;Training&quot;</td></tr><tr><td>&hellip;</td><td>&hellip;</td><td>&hellip;</td><td>&hellip;</td><td>&hellip;</td><td>&hellip;</td><td>&hellip;</td><td>&hellip;</td><td>&hellip;</td><td>&hellip;</td><td>&hellip;</td><td>&hellip;</td><td>&hellip;</td><td>&hellip;</td><td>&hellip;</td><td>&hellip;</td></tr><tr><td>&quot;isbelky01&quot;</td><td>2023</td><td>&quot;AL&quot;</td><td>&quot;OF&quot;</td><td>2131</td><td>200</td><td>2</td><td>1</td><td>0</td><td>null</td><td>null</td><td>null</td><td>null</td><td>null</td><td>&quot;No&quot;</td><td>&quot;Validation&quot;</td></tr><tr><td>&quot;jeffrje01&quot;</td><td>2014</td><td>&quot;AL&quot;</td><td>&quot;P&quot;</td><td>10</td><td>0</td><td>0</td><td>1</td><td>0</td><td>null</td><td>null</td><td>null</td><td>null</td><td>null</td><td>&quot;No&quot;</td><td>&quot;Training&quot;</td></tr><tr><td>&quot;nicasju01&quot;</td><td>2017</td><td>&quot;NL&quot;</td><td>&quot;P&quot;</td><td>217</td><td>4</td><td>8</td><td>1</td><td>1</td><td>null</td><td>null</td><td>null</td><td>null</td><td>null</td><td>&quot;No&quot;</td><td>&quot;Training&quot;</td></tr><tr><td>&quot;rizzoan01&quot;</td><td>2017</td><td>&quot;NL&quot;</td><td>&quot;2B&quot;</td><td>13</td><td>0</td><td>2</td><td>0</td><td>1</td><td>null</td><td>null</td><td>null</td><td>null</td><td>null</td><td>&quot;No&quot;</td><td>&quot;Training&quot;</td></tr><tr><td>&quot;tomka01&quot;</td><td>2022</td><td>&quot;NL&quot;</td><td>&quot;OF&quot;</td><td>3</td><td>0</td><td>0</td><td>0</td><td>0</td><td>null</td><td>null</td><td>null</td><td>null</td><td>null</td><td>&quot;No&quot;</td><td>&quot;Training&quot;</td></tr></tbody></table></div>"
      ],
      "text/plain": [
       "shape: (21_356, 16)\n",
       "┌───────────┬────────┬──────┬─────┬───┬──────┬──────┬─────────────┬─────────────────────┐\n",
       "│ playerID  ┆ yearID ┆ lgID ┆ POS ┆ … ┆ CS   ┆ ZR   ┆ Gold Glove? ┆ Training-Validation │\n",
       "│ ---       ┆ ---    ┆ ---  ┆ --- ┆   ┆ ---  ┆ ---  ┆ ---         ┆ ---                 │\n",
       "│ str       ┆ i64    ┆ str  ┆ str ┆   ┆ str  ┆ str  ┆ str         ┆ str                 │\n",
       "╞═══════════╪════════╪══════╪═════╪═══╪══════╪══════╪═════════════╪═════════════════════╡\n",
       "│ marjami01 ┆ 2018   ┆ AL   ┆ C   ┆ … ┆ null ┆ null ┆ No          ┆ Training            │\n",
       "│ polloaj01 ┆ 2021   ┆ NL   ┆ OF  ┆ … ┆ null ┆ null ┆ No          ┆ Training            │\n",
       "│ diazed04  ┆ 2019   ┆ NL   ┆ P   ┆ … ┆ null ┆ null ┆ No          ┆ Training            │\n",
       "│ kratzer01 ┆ 2018   ┆ NL   ┆ 1B  ┆ … ┆ null ┆ null ┆ No          ┆ Training            │\n",
       "│ bakerje03 ┆ 2013   ┆ AL   ┆ 1B  ┆ … ┆ null ┆ null ┆ No          ┆ Training            │\n",
       "│ …         ┆ …      ┆ …    ┆ …   ┆ … ┆ …    ┆ …    ┆ …           ┆ …                   │\n",
       "│ isbelky01 ┆ 2023   ┆ AL   ┆ OF  ┆ … ┆ null ┆ null ┆ No          ┆ Validation          │\n",
       "│ jeffrje01 ┆ 2014   ┆ AL   ┆ P   ┆ … ┆ null ┆ null ┆ No          ┆ Training            │\n",
       "│ nicasju01 ┆ 2017   ┆ NL   ┆ P   ┆ … ┆ null ┆ null ┆ No          ┆ Training            │\n",
       "│ rizzoan01 ┆ 2017   ┆ NL   ┆ 2B  ┆ … ┆ null ┆ null ┆ No          ┆ Training            │\n",
       "│ tomka01   ┆ 2022   ┆ NL   ┆ OF  ┆ … ┆ null ┆ null ┆ No          ┆ Training            │\n",
       "└───────────┴────────┴──────┴─────┴───┴──────┴──────┴─────────────┴─────────────────────┘"
      ]
     },
     "execution_count": 113,
     "metadata": {},
     "output_type": "execute_result"
    }
   ],
   "source": [
    "fielding_awards = (fielding\n",
    ".filter((pl.col('yearID') >= 2013))\n",
    ".join(\n",
    "     awards.rename({\"notes\": \"POS\"}) \n",
    "           .select(['playerID', 'yearID', 'awardID', 'lgID', 'POS'])  \n",
    "           .filter((pl.col('awardID') == 'Gold Glove') & (pl.col('yearID') >= 2013)),\n",
    "      on=['playerID', 'yearID', 'lgID'],\n",
    "      how='left'\n",
    "     )\n",
    ".with_columns(\n",
    "        pl.when(pl.col('awardID').is_null())\n",
    "          .then(pl.lit('No'))\n",
    "          .otherwise(pl.lit('Yes'))\n",
    "          .alias('Gold Glove?'),\n",
    "         pl.when(pl.col('yearID') == 2023)\n",
    "          .then(pl.lit('Validation'))\n",
    "          .otherwise(pl.lit('Training'))\n",
    "          .alias('Training-Validation')\n",
    "              )\n",
    ".group_by(['playerID','yearID', 'lgID', 'POS'])\n",
    ".agg(\n",
    "     pl.col('InnOuts').sum().alias('InnOuts'),\n",
    "     pl.col('PO').sum().alias('PO'),\n",
    "     pl.col('A').sum().alias('A'),\n",
    "     pl.col('E').sum().alias('E'),\n",
    "     pl.col('DP').sum().alias('DP'),\n",
    "     pl.col('PB').sum().alias('PB'),\n",
    "     pl.col('WP').sum().alias('WP'),\n",
    "     pl.col('SB').sum().alias('SB'),\n",
    "     pl.col('CS').sum().alias('CS'),\n",
    "     pl.col('ZR').sum().alias('ZR'),\n",
    "     pl.col('Gold Glove?').first().alias('Gold Glove?'), \n",
    "     pl.col('Training-Validation').first().alias('Training-Validation') \n",
    "    )    \n",
    "                  \n",
    "                  )\n",
    "# fielding_awards = fielding_awards.filter(pl.col('Gold Glove?') == 'Yes')\n",
    "\n",
    "# fielding_awards = fielding_awards.filter(pl.col('Gold Glove?') == 'No', pl.col('POS') == 'C', pl.col('yearID') == 2017, pl.col('playerID') == 'avilaal01')\n",
    "\n",
    "fielding_awards"
   ]
  },
  {
   "cell_type": "code",
   "execution_count": 114,
   "id": "96b97242-bada-4928-b886-c31509ea7bbd",
   "metadata": {},
   "outputs": [
    {
     "data": {
      "text/html": [
       "<div><style>\n",
       ".dataframe > thead > tr,\n",
       ".dataframe > tbody > tr {\n",
       "  text-align: right;\n",
       "  white-space: pre-wrap;\n",
       "}\n",
       "</style>\n",
       "<small>shape: (760, 3)</small><table border=\"1\" class=\"dataframe\"><thead><tr><th>playerID</th><th>yearID</th><th>count</th></tr><tr><td>str</td><td>i64</td><td>u32</td></tr></thead><tbody><tr><td>&quot;stephro01&quot;</td><td>2023</td><td>2</td></tr><tr><td>&quot;faircst01&quot;</td><td>2022</td><td>2</td></tr><tr><td>&quot;kratzer01&quot;</td><td>2015</td><td>2</td></tr><tr><td>&quot;ciriape01&quot;</td><td>2013</td><td>2</td></tr><tr><td>&quot;rickajo01&quot;</td><td>2019</td><td>2</td></tr><tr><td>&hellip;</td><td>&hellip;</td><td>&hellip;</td></tr><tr><td>&quot;triggan01&quot;</td><td>2020</td><td>2</td></tr><tr><td>&quot;quintjo01&quot;</td><td>2021</td><td>2</td></tr><tr><td>&quot;tomka01&quot;</td><td>2021</td><td>2</td></tr><tr><td>&quot;romeren01&quot;</td><td>2018</td><td>2</td></tr><tr><td>&quot;godoyjo01&quot;</td><td>2022</td><td>2</td></tr></tbody></table></div>"
      ],
      "text/plain": [
       "shape: (760, 3)\n",
       "┌───────────┬────────┬───────┐\n",
       "│ playerID  ┆ yearID ┆ count │\n",
       "│ ---       ┆ ---    ┆ ---   │\n",
       "│ str       ┆ i64    ┆ u32   │\n",
       "╞═══════════╪════════╪═══════╡\n",
       "│ stephro01 ┆ 2023   ┆ 2     │\n",
       "│ faircst01 ┆ 2022   ┆ 2     │\n",
       "│ kratzer01 ┆ 2015   ┆ 2     │\n",
       "│ ciriape01 ┆ 2013   ┆ 2     │\n",
       "│ rickajo01 ┆ 2019   ┆ 2     │\n",
       "│ …         ┆ …      ┆ …     │\n",
       "│ triggan01 ┆ 2020   ┆ 2     │\n",
       "│ quintjo01 ┆ 2021   ┆ 2     │\n",
       "│ tomka01   ┆ 2021   ┆ 2     │\n",
       "│ romeren01 ┆ 2018   ┆ 2     │\n",
       "│ godoyjo01 ┆ 2022   ┆ 2     │\n",
       "└───────────┴────────┴───────┘"
      ]
     },
     "execution_count": 114,
     "metadata": {},
     "output_type": "execute_result"
    }
   ],
   "source": [
    "duplicates = (\n",
    "    fielding_summed\n",
    "    .group_by(pl.col('playerID'), pl.col('yearID'))\n",
    "    .agg(pl.len().alias('count'))\n",
    "    .filter(pl.col('count') > 1)\n",
    "    .sort('count', descending = True)\n",
    ")\n",
    "\n",
    "duplicates\n"
   ]
  },
  {
   "cell_type": "code",
   "execution_count": null,
   "id": "71fbe8fd-ce14-4f2a-b76f-400d6bae75f6",
   "metadata": {},
   "outputs": [],
   "source": []
  }
 ],
 "metadata": {
  "kernelspec": {
   "display_name": "Python 3 (ipykernel)",
   "language": "python",
   "name": "python3"
  },
  "language_info": {
   "codemirror_mode": {
    "name": "ipython",
    "version": 3
   },
   "file_extension": ".py",
   "mimetype": "text/x-python",
   "name": "python",
   "nbconvert_exporter": "python",
   "pygments_lexer": "ipython3",
   "version": "3.12.5"
  }
 },
 "nbformat": 4,
 "nbformat_minor": 5
}
