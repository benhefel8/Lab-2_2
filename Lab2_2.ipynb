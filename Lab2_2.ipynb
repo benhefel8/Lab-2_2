{
 "cells": [
  {
   "cell_type": "code",
   "execution_count": 1,
   "id": "3b0619a7-3a78-4904-9d92-0e5cc7823b7d",
   "metadata": {},
   "outputs": [],
   "source": [
    "import polars as pl\n",
    "pl.Config.with_columns_kwargs = True"
   ]
  },
  {
   "cell_type": "code",
   "execution_count": 166,
   "id": "bed6a7f1-6575-4e6a-970d-cd6e2ee0725f",
   "metadata": {},
   "outputs": [],
   "source": [
    "batting = pl.read_csv('Data/lahman baseball data/Batting.csv')\n",
    "pitching = pl.read_csv('Data/lahman baseball data/Pitching.csv')\n",
    "fielding = pl.read_csv('Data/lahman baseball data/Fielding.csv')\n",
    "awards = pl.read_csv('Data/lahman baseball data/AwardsPlayers.csv')\n",
    "salaries = pl.read_csv('Data/lahman baseball data/Salaries.csv')"
   ]
  },
  {
   "cell_type": "code",
   "execution_count": 178,
   "id": "842c201c-3239-4ec6-ae94-57e59601d182",
   "metadata": {},
   "outputs": [
    {
     "data": {
      "text/plain": [
       "['playerID', 'awardID', 'yearID', 'lgID', 'tie', 'notes']"
      ]
     },
     "execution_count": 178,
     "metadata": {},
     "output_type": "execute_result"
    }
   ],
   "source": [
    "awards.columns"
   ]
  },
  {
   "cell_type": "code",
   "execution_count": 177,
   "id": "2655b32b-4501-41a3-879e-0c3342bca4b2",
   "metadata": {},
   "outputs": [
    {
     "data": {
      "text/plain": [
       "['playerID',\n",
       " 'yearID',\n",
       " 'stint',\n",
       " 'teamID',\n",
       " 'lgID',\n",
       " 'POS',\n",
       " 'G',\n",
       " 'GS',\n",
       " 'InnOuts',\n",
       " 'PO',\n",
       " 'A',\n",
       " 'E',\n",
       " 'DP',\n",
       " 'PB',\n",
       " 'WP',\n",
       " 'SB',\n",
       " 'CS',\n",
       " 'ZR']"
      ]
     },
     "execution_count": 177,
     "metadata": {},
     "output_type": "execute_result"
    }
   ],
   "source": [
    "fielding.columns"
   ]
  },
  {
   "cell_type": "code",
   "execution_count": null,
   "id": "2d960fcb-99d8-4dd5-a56a-e2418f310eb1",
   "metadata": {},
   "outputs": [],
   "source": [
    "fielding.sort('yearID', descending=True)\n"
   ]
  },
  {
   "cell_type": "code",
   "execution_count": null,
   "id": "789059ae-326c-4142-b0ce-73310b7888ef",
   "metadata": {},
   "outputs": [],
   "source": [
    "'case is player, year, pos, league'"
   ]
  },
  {
   "cell_type": "code",
   "execution_count": 241,
   "id": "e24babdd-45d5-41c5-97aa-5e4011b58154",
   "metadata": {},
   "outputs": [
    {
     "data": {
      "text/html": [
       "<div><style>\n",
       ".dataframe > thead > tr,\n",
       ".dataframe > tbody > tr {\n",
       "  text-align: right;\n",
       "  white-space: pre-wrap;\n",
       "}\n",
       "</style>\n",
       "<small>shape: (0, 15)</small><table border=\"1\" class=\"dataframe\"><thead><tr><th>playerID</th><th>yearID</th><th>lgID</th><th>POS</th><th>awardID</th><th>InnOuts</th><th>PO</th><th>A</th><th>E</th><th>DP</th><th>PB</th><th>WP</th><th>SB</th><th>CS</th><th>ZR</th></tr><tr><td>str</td><td>i64</td><td>str</td><td>str</td><td>str</td><td>i64</td><td>i64</td><td>i64</td><td>i64</td><td>i64</td><td>str</td><td>str</td><td>str</td><td>str</td><td>str</td></tr></thead><tbody></tbody></table></div>"
      ],
      "text/plain": [
       "shape: (0, 15)\n",
       "┌──────────┬────────┬──────┬─────┬───┬─────┬─────┬─────┬─────┐\n",
       "│ playerID ┆ yearID ┆ lgID ┆ POS ┆ … ┆ WP  ┆ SB  ┆ CS  ┆ ZR  │\n",
       "│ ---      ┆ ---    ┆ ---  ┆ --- ┆   ┆ --- ┆ --- ┆ --- ┆ --- │\n",
       "│ str      ┆ i64    ┆ str  ┆ str ┆   ┆ str ┆ str ┆ str ┆ str │\n",
       "╞══════════╪════════╪══════╪═════╪═══╪═════╪═════╪═════╪═════╡\n",
       "└──────────┴────────┴──────┴─────┴───┴─────┴─────┴─────┴─────┘"
      ]
     },
     "execution_count": 241,
     "metadata": {},
     "output_type": "execute_result"
    }
   ],
   "source": []
  },
  {
   "cell_type": "code",
   "execution_count": 263,
   "id": "a4324954-6b89-4c71-a0db-2dfe917cc258",
   "metadata": {},
   "outputs": [
    {
     "data": {
      "text/html": [
       "<div><style>\n",
       ".dataframe > thead > tr,\n",
       ".dataframe > tbody > tr {\n",
       "  text-align: right;\n",
       "  white-space: pre-wrap;\n",
       "}\n",
       "</style>\n",
       "<small>shape: (145_528, 17)</small><table border=\"1\" class=\"dataframe\"><thead><tr><th>yearID</th><th>lgID</th><th>POS</th><th>awardID</th><th>playerID</th><th>InnOuts</th><th>PO</th><th>A</th><th>E</th><th>DP</th><th>PB</th><th>WP</th><th>SB</th><th>CS</th><th>ZR</th><th>Gold Glove?</th><th>Training-Validation</th></tr><tr><td>i64</td><td>str</td><td>str</td><td>str</td><td>str</td><td>i64</td><td>i64</td><td>i64</td><td>i64</td><td>i64</td><td>str</td><td>str</td><td>str</td><td>str</td><td>str</td><td>str</td><td>str</td></tr></thead><tbody><tr><td>1895</td><td>&quot;NL&quot;</td><td>&quot;OF&quot;</td><td>null</td><td>&quot;stratsc01&quot;</td><td>66</td><td>5</td><td>0</td><td>2</td><td>0</td><td>null</td><td>null</td><td>null</td><td>null</td><td>null</td><td>&quot;No&quot;</td><td>&quot;Training&quot;</td></tr><tr><td>1970</td><td>&quot;AL&quot;</td><td>&quot;P&quot;</td><td>null</td><td>&quot;bluevi01&quot;</td><td>117</td><td>1</td><td>7</td><td>0</td><td>0</td><td>null</td><td>null</td><td>null</td><td>null</td><td>null</td><td>&quot;No&quot;</td><td>&quot;Training&quot;</td></tr><tr><td>1943</td><td>&quot;NL&quot;</td><td>&quot;P&quot;</td><td>null</td><td>&quot;headed01&quot;</td><td>0</td><td>6</td><td>40</td><td>3</td><td>2</td><td>null</td><td>null</td><td>null</td><td>null</td><td>null</td><td>&quot;No&quot;</td><td>&quot;Training&quot;</td></tr><tr><td>1908</td><td>&quot;AL&quot;</td><td>&quot;P&quot;</td><td>null</td><td>&quot;burnsbi01&quot;</td><td>492</td><td>2</td><td>69</td><td>6</td><td>2</td><td>null</td><td>null</td><td>null</td><td>null</td><td>null</td><td>&quot;No&quot;</td><td>&quot;Training&quot;</td></tr><tr><td>2006</td><td>&quot;AL&quot;</td><td>&quot;P&quot;</td><td>null</td><td>&quot;campsh01&quot;</td><td>225</td><td>6</td><td>13</td><td>1</td><td>2</td><td>null</td><td>null</td><td>null</td><td>null</td><td>null</td><td>&quot;No&quot;</td><td>&quot;Training&quot;</td></tr><tr><td>&hellip;</td><td>&hellip;</td><td>&hellip;</td><td>&hellip;</td><td>&hellip;</td><td>&hellip;</td><td>&hellip;</td><td>&hellip;</td><td>&hellip;</td><td>&hellip;</td><td>&hellip;</td><td>&hellip;</td><td>&hellip;</td><td>&hellip;</td><td>&hellip;</td><td>&hellip;</td><td>&hellip;</td></tr><tr><td>2021</td><td>&quot;NL&quot;</td><td>&quot;P&quot;</td><td>null</td><td>&quot;kranima01&quot;</td><td>116</td><td>2</td><td>5</td><td>0</td><td>0</td><td>null</td><td>null</td><td>null</td><td>null</td><td>null</td><td>&quot;No&quot;</td><td>&quot;Training&quot;</td></tr><tr><td>1872</td><td>&quot;NA&quot;</td><td>&quot;P&quot;</td><td>null</td><td>&quot;woltery01&quot;</td><td>225</td><td>1</td><td>8</td><td>9</td><td>1</td><td>null</td><td>null</td><td>null</td><td>null</td><td>null</td><td>&quot;No&quot;</td><td>&quot;Training&quot;</td></tr><tr><td>2019</td><td>&quot;NL&quot;</td><td>&quot;P&quot;</td><td>null</td><td>&quot;altheaa01&quot;</td><td>3</td><td>0</td><td>0</td><td>0</td><td>0</td><td>null</td><td>null</td><td>null</td><td>null</td><td>null</td><td>&quot;No&quot;</td><td>&quot;Training&quot;</td></tr><tr><td>1990</td><td>&quot;NL&quot;</td><td>&quot;SS&quot;</td><td>null</td><td>&quot;harrile01&quot;</td><td>3</td><td>0</td><td>2</td><td>0</td><td>0</td><td>null</td><td>null</td><td>null</td><td>null</td><td>null</td><td>&quot;No&quot;</td><td>&quot;Training&quot;</td></tr><tr><td>1965</td><td>&quot;AL&quot;</td><td>&quot;OF&quot;</td><td>null</td><td>&quot;stahlla01&quot;</td><td>513</td><td>47</td><td>1</td><td>0</td><td>0</td><td>null</td><td>null</td><td>null</td><td>null</td><td>null</td><td>&quot;No&quot;</td><td>&quot;Training&quot;</td></tr></tbody></table></div>"
      ],
      "text/plain": [
       "shape: (145_528, 17)\n",
       "┌────────┬──────┬─────┬─────────┬───┬──────┬──────┬─────────────┬─────────────────────┐\n",
       "│ yearID ┆ lgID ┆ POS ┆ awardID ┆ … ┆ CS   ┆ ZR   ┆ Gold Glove? ┆ Training-Validation │\n",
       "│ ---    ┆ ---  ┆ --- ┆ ---     ┆   ┆ ---  ┆ ---  ┆ ---         ┆ ---                 │\n",
       "│ i64    ┆ str  ┆ str ┆ str     ┆   ┆ str  ┆ str  ┆ str         ┆ str                 │\n",
       "╞════════╪══════╪═════╪═════════╪═══╪══════╪══════╪═════════════╪═════════════════════╡\n",
       "│ 1895   ┆ NL   ┆ OF  ┆ null    ┆ … ┆ null ┆ null ┆ No          ┆ Training            │\n",
       "│ 1970   ┆ AL   ┆ P   ┆ null    ┆ … ┆ null ┆ null ┆ No          ┆ Training            │\n",
       "│ 1943   ┆ NL   ┆ P   ┆ null    ┆ … ┆ null ┆ null ┆ No          ┆ Training            │\n",
       "│ 1908   ┆ AL   ┆ P   ┆ null    ┆ … ┆ null ┆ null ┆ No          ┆ Training            │\n",
       "│ 2006   ┆ AL   ┆ P   ┆ null    ┆ … ┆ null ┆ null ┆ No          ┆ Training            │\n",
       "│ …      ┆ …    ┆ …   ┆ …       ┆ … ┆ …    ┆ …    ┆ …           ┆ …                   │\n",
       "│ 2021   ┆ NL   ┆ P   ┆ null    ┆ … ┆ null ┆ null ┆ No          ┆ Training            │\n",
       "│ 1872   ┆ NA   ┆ P   ┆ null    ┆ … ┆ null ┆ null ┆ No          ┆ Training            │\n",
       "│ 2019   ┆ NL   ┆ P   ┆ null    ┆ … ┆ null ┆ null ┆ No          ┆ Training            │\n",
       "│ 1990   ┆ NL   ┆ SS  ┆ null    ┆ … ┆ null ┆ null ┆ No          ┆ Training            │\n",
       "│ 1965   ┆ AL   ┆ OF  ┆ null    ┆ … ┆ null ┆ null ┆ No          ┆ Training            │\n",
       "└────────┴──────┴─────┴─────────┴───┴──────┴──────┴─────────────┴─────────────────────┘"
      ]
     },
     "execution_count": 263,
     "metadata": {},
     "output_type": "execute_result"
    }
   ],
   "source": [
    "awards_filter = (awards\n",
    "                 .rename({\"notes\": \"POS\"})\n",
    "                 .select(['playerID',\n",
    "                           'yearID',\n",
    "                           'awardID',\n",
    "                           'lgID',\n",
    "                           'POS'])\n",
    "                 .filter(pl.col('awardID') == 'Gold Glove'))\n",
    "\n",
    "fielding_awards = (fielding\n",
    ".join(awards_filter, on=['playerID', 'yearID'], how='left')\n",
    ".group_by(['yearID', 'lgID', 'POS', 'awardID', 'playerID'])\n",
    ".agg(\n",
    "     pl.col('InnOuts').sum().alias('InnOuts'),\n",
    "     pl.col('PO').sum().alias('PO'),\n",
    "     pl.col('A').sum().alias('A'),\n",
    "     pl.col('E').sum().alias('E'),\n",
    "     pl.col('DP').sum().alias('DP'),\n",
    "     pl.col('PB').sum().alias('PB'),\n",
    "     pl.col('WP').sum().alias('WP'),\n",
    "     pl.col('SB').sum().alias('SB'),\n",
    "     pl.col('CS').sum().alias('CS'),\n",
    "     pl.col('ZR').sum().alias('ZR')\n",
    "    )    \n",
    "\n",
    " .with_columns(\n",
    "        pl.when(pl.col('awardID').is_null())\n",
    "          .then(pl.lit('No'))\n",
    "          .otherwise(pl.lit('Yes'))\n",
    "          .alias('Gold Glove?')\n",
    "              )\n",
    " .with_columns(\n",
    "         pl.when(pl.col('yearID') == 2023)\n",
    "            .then(pl.lit('Validation'))\n",
    "            .otherwise(pl.lit('Training'))\n",
    "            .alias('Training-Validation')\n",
    "              )\n",
    "                   \n",
    "                  )\n",
    "# fielding_awards = fielding_awards.filter(pl.col('awardID') == 'Gold Glove', pl.col('POS') == 'C')\n",
    "\n",
    "fielding_awards"
   ]
  },
  {
   "cell_type": "code",
   "execution_count": 264,
   "id": "96b97242-bada-4928-b886-c31509ea7bbd",
   "metadata": {},
   "outputs": [
    {
     "data": {
      "text/html": [
       "<div><style>\n",
       ".dataframe > thead > tr,\n",
       ".dataframe > tbody > tr {\n",
       "  text-align: right;\n",
       "  white-space: pre-wrap;\n",
       "}\n",
       "</style>\n",
       "<small>shape: (25_818, 3)</small><table border=\"1\" class=\"dataframe\"><thead><tr><th>playerID</th><th>yearID</th><th>count</th></tr><tr><td>str</td><td>i64</td><td>u32</td></tr></thead><tbody><tr><td>&quot;lopezni01&quot;</td><td>2023</td><td>10</td></tr><tr><td>&quot;betemwi01&quot;</td><td>2007</td><td>9</td></tr><tr><td>&quot;lopezfe01&quot;</td><td>2010</td><td>9</td></tr><tr><td>&quot;kellyki01&quot;</td><td>1891</td><td>9</td></tr><tr><td>&quot;lunahe01&quot;</td><td>2006</td><td>9</td></tr><tr><td>&hellip;</td><td>&hellip;</td><td>&hellip;</td></tr><tr><td>&quot;garvest01&quot;</td><td>1972</td><td>2</td></tr><tr><td>&quot;steinte01&quot;</td><td>1992</td><td>2</td></tr><tr><td>&quot;hoffmgl01&quot;</td><td>1981</td><td>2</td></tr><tr><td>&quot;teufeti01&quot;</td><td>1987</td><td>2</td></tr><tr><td>&quot;javiest01&quot;</td><td>1991</td><td>2</td></tr></tbody></table></div>"
      ],
      "text/plain": [
       "shape: (25_818, 3)\n",
       "┌───────────┬────────┬───────┐\n",
       "│ playerID  ┆ yearID ┆ count │\n",
       "│ ---       ┆ ---    ┆ ---   │\n",
       "│ str       ┆ i64    ┆ u32   │\n",
       "╞═══════════╪════════╪═══════╡\n",
       "│ lopezni01 ┆ 2023   ┆ 10    │\n",
       "│ betemwi01 ┆ 2007   ┆ 9     │\n",
       "│ lopezfe01 ┆ 2010   ┆ 9     │\n",
       "│ kellyki01 ┆ 1891   ┆ 9     │\n",
       "│ lunahe01  ┆ 2006   ┆ 9     │\n",
       "│ …         ┆ …      ┆ …     │\n",
       "│ garvest01 ┆ 1972   ┆ 2     │\n",
       "│ steinte01 ┆ 1992   ┆ 2     │\n",
       "│ hoffmgl01 ┆ 1981   ┆ 2     │\n",
       "│ teufeti01 ┆ 1987   ┆ 2     │\n",
       "│ javiest01 ┆ 1991   ┆ 2     │\n",
       "└───────────┴────────┴───────┘"
      ]
     },
     "execution_count": 264,
     "metadata": {},
     "output_type": "execute_result"
    }
   ],
   "source": [
    "duplicates = (\n",
    "    fielding_awards\n",
    "    .group_by('playerID', 'yearID')\n",
    "    .agg(pl.len().alias('count'))\n",
    "    .filter(pl.col('count') > 1)\n",
    "    .sort('count', descending = True)# Filter only players that appear more than once\n",
    ")\n",
    "\n",
    "duplicates\n"
   ]
  }
 ],
 "metadata": {
  "kernelspec": {
   "display_name": "Python 3 (ipykernel)",
   "language": "python",
   "name": "python3"
  },
  "language_info": {
   "codemirror_mode": {
    "name": "ipython",
    "version": 3
   },
   "file_extension": ".py",
   "mimetype": "text/x-python",
   "name": "python",
   "nbconvert_exporter": "python",
   "pygments_lexer": "ipython3",
   "version": "3.12.5"
  }
 },
 "nbformat": 4,
 "nbformat_minor": 5
}
