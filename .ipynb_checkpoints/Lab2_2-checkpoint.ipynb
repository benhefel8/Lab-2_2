{
 "cells": [
  {
   "cell_type": "code",
   "execution_count": 1,
   "id": "3b0619a7-3a78-4904-9d92-0e5cc7823b7d",
   "metadata": {},
   "outputs": [],
   "source": [
    "import polars as pl\n",
    "pl.Config.with_columns_kwargs = True"
   ]
  },
  {
   "cell_type": "code",
   "execution_count": 166,
   "id": "bed6a7f1-6575-4e6a-970d-cd6e2ee0725f",
   "metadata": {},
   "outputs": [],
   "source": [
    "batting = pl.read_csv('Data/lahman baseball data/Batting.csv')\n",
    "pitching = pl.read_csv('Data/lahman baseball data/Pitching.csv')\n",
    "fielding = pl.read_csv('Data/lahman baseball data/Fielding.csv')\n",
    "awards = pl.read_csv('Data/lahman baseball data/AwardsPlayers.csv')\n",
    "salaries = pl.read_csv('Data/lahman baseball data/Salaries.csv')"
   ]
  },
  {
   "cell_type": "code",
   "execution_count": 109,
   "id": "842c201c-3239-4ec6-ae94-57e59601d182",
   "metadata": {},
   "outputs": [
    {
     "data": {
      "text/plain": [
       "['playerID', 'yearID', 'awardID']"
      ]
     },
     "execution_count": 109,
     "metadata": {},
     "output_type": "execute_result"
    }
   ],
   "source": [
    "awards.columns"
   ]
  },
  {
   "cell_type": "code",
   "execution_count": null,
   "id": "2655b32b-4501-41a3-879e-0c3342bca4b2",
   "metadata": {},
   "outputs": [],
   "source": [
    "fielding.columns"
   ]
  },
  {
   "cell_type": "code",
   "execution_count": null,
   "id": "2d960fcb-99d8-4dd5-a56a-e2418f310eb1",
   "metadata": {},
   "outputs": [],
   "source": [
    "fielding.sort('yearID', descending=True)\n"
   ]
  },
  {
   "cell_type": "code",
   "execution_count": null,
   "id": "789059ae-326c-4142-b0ce-73310b7888ef",
   "metadata": {},
   "outputs": [],
   "source": [
    "'case is player, year, pos, league'"
   ]
  },
  {
   "cell_type": "code",
   "execution_count": 170,
   "id": "a4324954-6b89-4c71-a0db-2dfe917cc258",
   "metadata": {},
   "outputs": [
    {
     "data": {
      "text/html": [
       "<div><style>\n",
       ".dataframe > thead > tr,\n",
       ".dataframe > tbody > tr {\n",
       "  text-align: right;\n",
       "  white-space: pre-wrap;\n",
       "}\n",
       "</style>\n",
       "<small>shape: (106_919, 17)</small><table border=\"1\" class=\"dataframe\"><thead><tr><th>yearID</th><th>lgID</th><th>playerID</th><th>pos</th><th>awardID</th><th>InnOuts</th><th>PO</th><th>A</th><th>E</th><th>DP</th><th>PB</th><th>WP</th><th>SB</th><th>CS</th><th>ZR</th><th>Gold Glove?</th><th>Training-Validation</th></tr><tr><td>i64</td><td>str</td><td>str</td><td>str</td><td>str</td><td>i64</td><td>i64</td><td>i64</td><td>i64</td><td>i64</td><td>str</td><td>str</td><td>str</td><td>str</td><td>str</td><td>str</td><td>str</td></tr></thead><tbody><tr><td>2015</td><td>&quot;AL&quot;</td><td>&quot;chiselo01&quot;</td><td>null</td><td>null</td><td>2280</td><td>117</td><td>106</td><td>6</td><td>14</td><td>null</td><td>null</td><td>null</td><td>null</td><td>null</td><td>&quot;No&quot;</td><td>&quot;Training&quot;</td></tr><tr><td>1969</td><td>&quot;NL&quot;</td><td>&quot;handsbi01&quot;</td><td>null</td><td>null</td><td>900</td><td>16</td><td>56</td><td>3</td><td>2</td><td>null</td><td>null</td><td>null</td><td>null</td><td>null</td><td>&quot;No&quot;</td><td>&quot;Training&quot;</td></tr><tr><td>1931</td><td>&quot;NL&quot;</td><td>&quot;cunnibr01&quot;</td><td>null</td><td>null</td><td>0</td><td>6</td><td>50</td><td>1</td><td>4</td><td>null</td><td>null</td><td>null</td><td>null</td><td>null</td><td>&quot;No&quot;</td><td>&quot;Training&quot;</td></tr><tr><td>1991</td><td>&quot;AL&quot;</td><td>&quot;whitede03&quot;</td><td>&quot;OF&quot;</td><td>&quot;Gold Glove&quot;</td><td>4152</td><td>439</td><td>8</td><td>1</td><td>2</td><td>null</td><td>null</td><td>null</td><td>null</td><td>null</td><td>&quot;Yes&quot;</td><td>&quot;Training&quot;</td></tr><tr><td>1899</td><td>&quot;NL&quot;</td><td>&quot;tayloja02&quot;</td><td>null</td><td>null</td><td>1065</td><td>24</td><td>88</td><td>8</td><td>8</td><td>null</td><td>null</td><td>null</td><td>null</td><td>null</td><td>&quot;No&quot;</td><td>&quot;Training&quot;</td></tr><tr><td>&hellip;</td><td>&hellip;</td><td>&hellip;</td><td>&hellip;</td><td>&hellip;</td><td>&hellip;</td><td>&hellip;</td><td>&hellip;</td><td>&hellip;</td><td>&hellip;</td><td>&hellip;</td><td>&hellip;</td><td>&hellip;</td><td>&hellip;</td><td>&hellip;</td><td>&hellip;</td><td>&hellip;</td></tr><tr><td>1933</td><td>&quot;NL&quot;</td><td>&quot;kolpra01&quot;</td><td>null</td><td>null</td><td>0</td><td>5</td><td>39</td><td>2</td><td>0</td><td>null</td><td>null</td><td>null</td><td>null</td><td>null</td><td>&quot;No&quot;</td><td>&quot;Training&quot;</td></tr><tr><td>2002</td><td>&quot;NL&quot;</td><td>&quot;beirnke01&quot;</td><td>null</td><td>null</td><td>87</td><td>1</td><td>3</td><td>0</td><td>0</td><td>null</td><td>null</td><td>null</td><td>null</td><td>null</td><td>&quot;No&quot;</td><td>&quot;Training&quot;</td></tr><tr><td>1963</td><td>&quot;NL&quot;</td><td>&quot;burkele02&quot;</td><td>null</td><td>null</td><td>510</td><td>72</td><td>35</td><td>7</td><td>7</td><td>null</td><td>null</td><td>null</td><td>null</td><td>null</td><td>&quot;No&quot;</td><td>&quot;Training&quot;</td></tr><tr><td>1914</td><td>&quot;AL&quot;</td><td>&quot;hartzro01&quot;</td><td>null</td><td>null</td><td>0</td><td>249</td><td>26</td><td>9</td><td>2</td><td>null</td><td>null</td><td>null</td><td>null</td><td>null</td><td>&quot;No&quot;</td><td>&quot;Training&quot;</td></tr><tr><td>2020</td><td>&quot;NL&quot;</td><td>&quot;alcansa01&quot;</td><td>null</td><td>null</td><td>126</td><td>1</td><td>4</td><td>0</td><td>0</td><td>null</td><td>null</td><td>null</td><td>null</td><td>null</td><td>&quot;No&quot;</td><td>&quot;Training&quot;</td></tr></tbody></table></div>"
      ],
      "text/plain": [
       "shape: (106_919, 17)\n",
       "┌────────┬──────┬───────────┬──────┬───┬──────┬──────┬─────────────┬─────────────────────┐\n",
       "│ yearID ┆ lgID ┆ playerID  ┆ pos  ┆ … ┆ CS   ┆ ZR   ┆ Gold Glove? ┆ Training-Validation │\n",
       "│ ---    ┆ ---  ┆ ---       ┆ ---  ┆   ┆ ---  ┆ ---  ┆ ---         ┆ ---                 │\n",
       "│ i64    ┆ str  ┆ str       ┆ str  ┆   ┆ str  ┆ str  ┆ str         ┆ str                 │\n",
       "╞════════╪══════╪═══════════╪══════╪═══╪══════╪══════╪═════════════╪═════════════════════╡\n",
       "│ 2015   ┆ AL   ┆ chiselo01 ┆ null ┆ … ┆ null ┆ null ┆ No          ┆ Training            │\n",
       "│ 1969   ┆ NL   ┆ handsbi01 ┆ null ┆ … ┆ null ┆ null ┆ No          ┆ Training            │\n",
       "│ 1931   ┆ NL   ┆ cunnibr01 ┆ null ┆ … ┆ null ┆ null ┆ No          ┆ Training            │\n",
       "│ 1991   ┆ AL   ┆ whitede03 ┆ OF   ┆ … ┆ null ┆ null ┆ Yes         ┆ Training            │\n",
       "│ 1899   ┆ NL   ┆ tayloja02 ┆ null ┆ … ┆ null ┆ null ┆ No          ┆ Training            │\n",
       "│ …      ┆ …    ┆ …         ┆ …    ┆ … ┆ …    ┆ …    ┆ …           ┆ …                   │\n",
       "│ 1933   ┆ NL   ┆ kolpra01  ┆ null ┆ … ┆ null ┆ null ┆ No          ┆ Training            │\n",
       "│ 2002   ┆ NL   ┆ beirnke01 ┆ null ┆ … ┆ null ┆ null ┆ No          ┆ Training            │\n",
       "│ 1963   ┆ NL   ┆ burkele02 ┆ null ┆ … ┆ null ┆ null ┆ No          ┆ Training            │\n",
       "│ 1914   ┆ AL   ┆ hartzro01 ┆ null ┆ … ┆ null ┆ null ┆ No          ┆ Training            │\n",
       "│ 2020   ┆ NL   ┆ alcansa01 ┆ null ┆ … ┆ null ┆ null ┆ No          ┆ Training            │\n",
       "└────────┴──────┴───────────┴──────┴───┴──────┴──────┴─────────────┴─────────────────────┘"
      ]
     },
     "execution_count": 170,
     "metadata": {},
     "output_type": "execute_result"
    }
   ],
   "source": [
    "awards_filter = (awards\n",
    "                 .rename({\"notes\": \"pos\"})\n",
    "\n",
    "                 .select(['playerID',\n",
    "                           'yearID',\n",
    "                           'awardID',\n",
    "                           'lgID',\n",
    "                           'pos'])\n",
    "                 .filter(pl.col('awardID') == 'Gold Glove'))\n",
    "# awards_filter\n",
    "fielding_awards = (fielding\n",
    ".join(awards_filter, on=['playerID', 'yearID'], how='left')\n",
    "#get one row for each player\n",
    ".group_by(pl.col('yearID'), pl.col('lgID'), pl.col('playerID'), pl.col('pos'), pl.col('awardID'))\n",
    ".agg(pl.col('InnOuts').sum().alias('InnOuts'),\n",
    "     pl.col('PO').sum().alias('PO'),\n",
    "     pl.col('A').sum().alias('A'),\n",
    "     pl.col('E').sum().alias('E'),\n",
    "     pl.col('DP').sum().alias('DP'),\n",
    "     pl.col('PB').sum().alias('PB'),\n",
    "     pl.col('WP').sum().alias('WP'),\n",
    "     pl.col('SB').sum().alias('SB'),\n",
    "     pl.col('CS').sum().alias('CS'),\n",
    "     pl.col('ZR').sum().alias('ZR')\n",
    "    )    \n",
    "\n",
    " .with_columns(\n",
    "        pl.when(pl.col('awardID').is_null())\n",
    "          .then(pl.lit('No'))\n",
    "          .otherwise(pl.lit('Yes'))\n",
    "          .alias('Gold Glove?')\n",
    "    )\n",
    " .with_columns(\n",
    "         pl.when(pl.col('yearID') == 2023)\n",
    "            .then(pl.lit('Validation'))\n",
    "            .otherwise(pl.lit('Training'))\n",
    "            .alias('Training-Validation')\n",
    "\n",
    "                  )\n",
    "                   \n",
    "                  )\n",
    "\n",
    "fielding_awards"
   ]
  }
 ],
 "metadata": {
  "kernelspec": {
   "display_name": "Python 3 (ipykernel)",
   "language": "python",
   "name": "python3"
  },
  "language_info": {
   "codemirror_mode": {
    "name": "ipython",
    "version": 3
   },
   "file_extension": ".py",
   "mimetype": "text/x-python",
   "name": "python",
   "nbconvert_exporter": "python",
   "pygments_lexer": "ipython3",
   "version": "3.12.5"
  }
 },
 "nbformat": 4,
 "nbformat_minor": 5
}
