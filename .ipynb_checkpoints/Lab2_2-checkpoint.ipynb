{
 "cells": [
  {
   "cell_type": "code",
   "execution_count": 4,
   "id": "3b0619a7-3a78-4904-9d92-0e5cc7823b7d",
   "metadata": {},
   "outputs": [],
   "source": [
    "import polars as pl\n",
    "pl.Config.with_columns_kwargs = True"
   ]
  },
  {
   "cell_type": "code",
   "execution_count": 6,
   "id": "bed6a7f1-6575-4e6a-970d-cd6e2ee0725f",
   "metadata": {},
   "outputs": [],
   "source": [
    "batting = pl.read_csv('Data/lahman baseball data/Batting.csv')\n",
    "pitching = pl.read_csv('Data/lahman baseball data/Pitching.csv')\n",
    "fielding = pl.read_csv('Data/lahman baseball data/Fielding.csv')\n",
    "awards = pl.read_csv('Data/lahman baseball data/AwardsPlayers.csv')\n",
    "salaries = pl.read_csv('Data/lahman baseball data/Salaries.csv')"
   ]
  },
  {
   "cell_type": "code",
   "execution_count": 8,
   "id": "842c201c-3239-4ec6-ae94-57e59601d182",
   "metadata": {},
   "outputs": [
    {
     "data": {
      "text/plain": [
       "['playerID', 'awardID', 'yearID', 'lgID', 'tie', 'notes']"
      ]
     },
     "execution_count": 8,
     "metadata": {},
     "output_type": "execute_result"
    }
   ],
   "source": [
    "awards.columns"
   ]
  },
  {
   "cell_type": "code",
   "execution_count": 10,
   "id": "2655b32b-4501-41a3-879e-0c3342bca4b2",
   "metadata": {},
   "outputs": [
    {
     "data": {
      "text/plain": [
       "['playerID',\n",
       " 'yearID',\n",
       " 'stint',\n",
       " 'teamID',\n",
       " 'lgID',\n",
       " 'POS',\n",
       " 'G',\n",
       " 'GS',\n",
       " 'InnOuts',\n",
       " 'PO',\n",
       " 'A',\n",
       " 'E',\n",
       " 'DP',\n",
       " 'PB',\n",
       " 'WP',\n",
       " 'SB',\n",
       " 'CS',\n",
       " 'ZR']"
      ]
     },
     "execution_count": 10,
     "metadata": {},
     "output_type": "execute_result"
    }
   ],
   "source": [
    "fielding.columns"
   ]
  },
  {
   "cell_type": "code",
   "execution_count": 14,
   "id": "789059ae-326c-4142-b0ce-73310b7888ef",
   "metadata": {},
   "outputs": [
    {
     "data": {
      "text/plain": [
       "'case is player, year, pos, league'"
      ]
     },
     "execution_count": 14,
     "metadata": {},
     "output_type": "execute_result"
    }
   ],
   "source": [
    "'case is player, year, pos, league'"
   ]
  },
  {
   "cell_type": "code",
   "execution_count": 189,
   "id": "a4324954-6b89-4c71-a0db-2dfe917cc258",
   "metadata": {},
   "outputs": [
    {
     "data": {
      "text/html": [
       "<div><style>\n",
       ".dataframe > thead > tr,\n",
       ".dataframe > tbody > tr {\n",
       "  text-align: right;\n",
       "  white-space: pre-wrap;\n",
       "}\n",
       "</style>\n",
       "<small>shape: (22, 17)</small><table border=\"1\" class=\"dataframe\"><thead><tr><th>playerID</th><th>yearID</th><th>lgID</th><th>awardID</th><th>POS</th><th>InnOuts</th><th>PO</th><th>A</th><th>E</th><th>DP</th><th>PB</th><th>WP</th><th>SB</th><th>CS</th><th>ZR</th><th>Gold Glove?</th><th>Training-Validation</th></tr><tr><td>str</td><td>i64</td><td>str</td><td>str</td><td>str</td><td>i64</td><td>i64</td><td>i64</td><td>i64</td><td>i64</td><td>list[str]</td><td>list[str]</td><td>list[str]</td><td>list[str]</td><td>list[str]</td><td>str</td><td>str</td></tr></thead><tbody><tr><td>&quot;molinya01&quot;</td><td>2018</td><td>&quot;NL&quot;</td><td>&quot;Gold Glove&quot;</td><td>&quot;C&quot;</td><td>3053</td><td>966</td><td>42</td><td>2</td><td>8</td><td>[&quot;4&quot;]</td><td>[null]</td><td>[&quot;27&quot;]</td><td>[&quot;12&quot;]</td><td>[null]</td><td>&quot;Yes&quot;</td><td>&quot;Training&quot;</td></tr><tr><td>&quot;maldoma01&quot;</td><td>2017</td><td>&quot;AL&quot;</td><td>&quot;Gold Glove&quot;</td><td>&quot;C&quot;</td><td>3439</td><td>1046</td><td>65</td><td>2</td><td>2</td><td>[&quot;8&quot;]</td><td>[null]</td><td>[&quot;46&quot;]</td><td>[&quot;29&quot;]</td><td>[null]</td><td>&quot;Yes&quot;</td><td>&quot;Training&quot;</td></tr><tr><td>&quot;stallja01&quot;</td><td>2021</td><td>&quot;NL&quot;</td><td>&quot;Gold Glove&quot;</td><td>&quot;C&quot;</td><td>2676</td><td>868</td><td>49</td><td>5</td><td>2</td><td>[&quot;0&quot;]</td><td>[null]</td><td>[&quot;45&quot;]</td><td>[&quot;12&quot;]</td><td>[null]</td><td>&quot;Yes&quot;</td><td>&quot;Training&quot;</td></tr><tr><td>&quot;perezsa02&quot;</td><td>2013</td><td>&quot;AL&quot;</td><td>&quot;Gold Glove&quot;</td><td>&quot;C&quot;</td><td>3346</td><td>930</td><td>71</td><td>7</td><td>4</td><td>[&quot;3&quot;]</td><td>[null]</td><td>[&quot;46&quot;]</td><td>[&quot;25&quot;]</td><td>[null]</td><td>&quot;Yes&quot;</td><td>&quot;Training&quot;</td></tr><tr><td>&quot;barnhtu01&quot;</td><td>2017</td><td>&quot;NL&quot;</td><td>&quot;Gold Glove&quot;</td><td>&quot;C&quot;</td><td>2779</td><td>863</td><td>89</td><td>1</td><td>9</td><td>[&quot;4&quot;]</td><td>[null]</td><td>[&quot;41&quot;]</td><td>[&quot;32&quot;]</td><td>[null]</td><td>&quot;Yes&quot;</td><td>&quot;Training&quot;</td></tr><tr><td>&hellip;</td><td>&hellip;</td><td>&hellip;</td><td>&hellip;</td><td>&hellip;</td><td>&hellip;</td><td>&hellip;</td><td>&hellip;</td><td>&hellip;</td><td>&hellip;</td><td>&hellip;</td><td>&hellip;</td><td>&hellip;</td><td>&hellip;</td><td>&hellip;</td><td>&hellip;</td><td>&hellip;</td></tr><tr><td>&quot;perezsa02&quot;</td><td>2015</td><td>&quot;AL&quot;</td><td>&quot;Gold Glove&quot;</td><td>&quot;C&quot;</td><td>3577</td><td>974</td><td>90</td><td>4</td><td>10</td><td>[&quot;4&quot;]</td><td>[null]</td><td>[&quot;66&quot;]</td><td>[&quot;29&quot;]</td><td>[null]</td><td>&quot;Yes&quot;</td><td>&quot;Training&quot;</td></tr><tr><td>&quot;murphse01&quot;</td><td>2021</td><td>&quot;AL&quot;</td><td>&quot;Gold Glove&quot;</td><td>&quot;C&quot;</td><td>2770</td><td>873</td><td>42</td><td>6</td><td>6</td><td>[&quot;1&quot;]</td><td>[null]</td><td>[&quot;41&quot;]</td><td>[&quot;13&quot;]</td><td>[null]</td><td>&quot;Yes&quot;</td><td>&quot;Training&quot;</td></tr><tr><td>&quot;perezro02&quot;</td><td>2020</td><td>&quot;AL&quot;</td><td>&quot;Gold Glove&quot;</td><td>&quot;C&quot;</td><td>768</td><td>291</td><td>21</td><td>0</td><td>2</td><td>[&quot;0&quot;]</td><td>[null]</td><td>[&quot;4&quot;]</td><td>[&quot;10&quot;]</td><td>[null]</td><td>&quot;Yes&quot;</td><td>&quot;Training&quot;</td></tr><tr><td>&quot;molinya01&quot;</td><td>2014</td><td>&quot;NL&quot;</td><td>&quot;Gold Glove&quot;</td><td>&quot;C&quot;</td><td>2795</td><td>810</td><td>56</td><td>2</td><td>10</td><td>[&quot;3&quot;]</td><td>[null]</td><td>[&quot;23&quot;]</td><td>[&quot;21&quot;]</td><td>[null]</td><td>&quot;Yes&quot;</td><td>&quot;Training&quot;</td></tr><tr><td>&quot;morenga01&quot;</td><td>2023</td><td>&quot;NL&quot;</td><td>&quot;Gold Glove&quot;</td><td>&quot;C&quot;</td><td>2562</td><td>821</td><td>55</td><td>3</td><td>3</td><td>[&quot;1&quot;]</td><td>[&quot;22&quot;]</td><td>[&quot;35&quot;]</td><td>[&quot;22&quot;]</td><td>[null]</td><td>&quot;Yes&quot;</td><td>&quot;Validation&quot;</td></tr></tbody></table></div>"
      ],
      "text/plain": [
       "shape: (22, 17)\n",
       "┌───────────┬────────┬──────┬────────────┬───┬───────────┬───────────┬─────────────┬───────────────┐\n",
       "│ playerID  ┆ yearID ┆ lgID ┆ awardID    ┆ … ┆ CS        ┆ ZR        ┆ Gold Glove? ┆ Training-Vali │\n",
       "│ ---       ┆ ---    ┆ ---  ┆ ---        ┆   ┆ ---       ┆ ---       ┆ ---         ┆ dation        │\n",
       "│ str       ┆ i64    ┆ str  ┆ str        ┆   ┆ list[str] ┆ list[str] ┆ str         ┆ ---           │\n",
       "│           ┆        ┆      ┆            ┆   ┆           ┆           ┆             ┆ str           │\n",
       "╞═══════════╪════════╪══════╪════════════╪═══╪═══════════╪═══════════╪═════════════╪═══════════════╡\n",
       "│ molinya01 ┆ 2018   ┆ NL   ┆ Gold Glove ┆ … ┆ [\"12\"]    ┆ [null]    ┆ Yes         ┆ Training      │\n",
       "│ maldoma01 ┆ 2017   ┆ AL   ┆ Gold Glove ┆ … ┆ [\"29\"]    ┆ [null]    ┆ Yes         ┆ Training      │\n",
       "│ stallja01 ┆ 2021   ┆ NL   ┆ Gold Glove ┆ … ┆ [\"12\"]    ┆ [null]    ┆ Yes         ┆ Training      │\n",
       "│ perezsa02 ┆ 2013   ┆ AL   ┆ Gold Glove ┆ … ┆ [\"25\"]    ┆ [null]    ┆ Yes         ┆ Training      │\n",
       "│ barnhtu01 ┆ 2017   ┆ NL   ┆ Gold Glove ┆ … ┆ [\"32\"]    ┆ [null]    ┆ Yes         ┆ Training      │\n",
       "│ …         ┆ …      ┆ …    ┆ …          ┆ … ┆ …         ┆ …         ┆ …           ┆ …             │\n",
       "│ perezsa02 ┆ 2015   ┆ AL   ┆ Gold Glove ┆ … ┆ [\"29\"]    ┆ [null]    ┆ Yes         ┆ Training      │\n",
       "│ murphse01 ┆ 2021   ┆ AL   ┆ Gold Glove ┆ … ┆ [\"13\"]    ┆ [null]    ┆ Yes         ┆ Training      │\n",
       "│ perezro02 ┆ 2020   ┆ AL   ┆ Gold Glove ┆ … ┆ [\"10\"]    ┆ [null]    ┆ Yes         ┆ Training      │\n",
       "│ molinya01 ┆ 2014   ┆ NL   ┆ Gold Glove ┆ … ┆ [\"21\"]    ┆ [null]    ┆ Yes         ┆ Training      │\n",
       "│ morenga01 ┆ 2023   ┆ NL   ┆ Gold Glove ┆ … ┆ [\"22\"]    ┆ [null]    ┆ Yes         ┆ Validation    │\n",
       "└───────────┴────────┴──────┴────────────┴───┴───────────┴───────────┴─────────────┴───────────────┘"
      ]
     },
     "execution_count": 189,
     "metadata": {},
     "output_type": "execute_result"
    }
   ],
   "source": [
    "awards_filter = (awards\n",
    "                 .rename({\"notes\": \"POS\"})\n",
    "                 .select(['playerID',\n",
    "                           'yearID',\n",
    "                           'awardID',\n",
    "                           'lgID',\n",
    "                           'POS'])\n",
    "                 .filter(pl.col('awardID') == 'Gold Glove', pl.col('yearID') >= 2013))\n",
    "\n",
    "fielding_awards = (fielding\n",
    ".join(awards_filter, on=['playerID', 'yearID'], how='left')\n",
    ".group_by(['playerID','yearID', 'lgID', 'awardID', 'POS'])\n",
    ".agg(\n",
    "     pl.col('InnOuts').sum().alias('InnOuts'),\n",
    "     pl.col('PO').sum().alias('PO'),\n",
    "     pl.col('A').sum().alias('A'),\n",
    "     pl.col('E').sum().alias('E'),\n",
    "     pl.col('DP').sum().alias('DP'),\n",
    "     pl.col('PB'),\n",
    "     pl.col('WP'),\n",
    "     pl.col('SB'),\n",
    "     pl.col('CS'),\n",
    "     pl.col('ZR')\n",
    "    )    \n",
    "                  \n",
    " .with_columns(\n",
    "        pl.when(pl.col('awardID').is_null())\n",
    "          .then(pl.lit('No'))\n",
    "          .otherwise(pl.lit('Yes'))\n",
    "          .alias('Gold Glove?')\n",
    "              )\n",
    " .with_columns(\n",
    "         pl.when(pl.col('yearID') == 2023)\n",
    "            .then(pl.lit('Validation'))\n",
    "            .otherwise(pl.lit('Training'))\n",
    "            .alias('Training-Validation')\n",
    "              )\n",
    "                   \n",
    "                  )\n",
    "fielding_awards = fielding_awards.filter(pl.col('awardID') == 'Gold Glove', pl.col('POS') == 'C')\n",
    "\n",
    "fielding_awards"
   ]
  },
  {
   "cell_type": "code",
   "execution_count": 191,
   "id": "96b97242-bada-4928-b886-c31509ea7bbd",
   "metadata": {},
   "outputs": [
    {
     "data": {
      "text/html": [
       "<div><style>\n",
       ".dataframe > thead > tr,\n",
       ".dataframe > tbody > tr {\n",
       "  text-align: right;\n",
       "  white-space: pre-wrap;\n",
       "}\n",
       "</style>\n",
       "<small>shape: (11, 2)</small><table border=\"1\" class=\"dataframe\"><thead><tr><th>yearID</th><th>count</th></tr><tr><td>i64</td><td>u32</td></tr></thead><tbody><tr><td>2021</td><td>2</td></tr><tr><td>2020</td><td>2</td></tr><tr><td>2019</td><td>2</td></tr><tr><td>2023</td><td>2</td></tr><tr><td>2013</td><td>2</td></tr><tr><td>&hellip;</td><td>&hellip;</td></tr><tr><td>2015</td><td>2</td></tr><tr><td>2022</td><td>2</td></tr><tr><td>2017</td><td>2</td></tr><tr><td>2018</td><td>2</td></tr><tr><td>2014</td><td>2</td></tr></tbody></table></div>"
      ],
      "text/plain": [
       "shape: (11, 2)\n",
       "┌────────┬───────┐\n",
       "│ yearID ┆ count │\n",
       "│ ---    ┆ ---   │\n",
       "│ i64    ┆ u32   │\n",
       "╞════════╪═══════╡\n",
       "│ 2021   ┆ 2     │\n",
       "│ 2020   ┆ 2     │\n",
       "│ 2019   ┆ 2     │\n",
       "│ 2023   ┆ 2     │\n",
       "│ 2013   ┆ 2     │\n",
       "│ …      ┆ …     │\n",
       "│ 2015   ┆ 2     │\n",
       "│ 2022   ┆ 2     │\n",
       "│ 2017   ┆ 2     │\n",
       "│ 2018   ┆ 2     │\n",
       "│ 2014   ┆ 2     │\n",
       "└────────┴───────┘"
      ]
     },
     "execution_count": 191,
     "metadata": {},
     "output_type": "execute_result"
    }
   ],
   "source": [
    "duplicates = (\n",
    "    fielding_awards\n",
    "    .group_by('yearID')\n",
    "    .agg(pl.len().alias('count'))\n",
    "    .filter(pl.col('count') > 1)\n",
    "    .sort('count', descending = True)\n",
    ")\n",
    "\n",
    "duplicates\n"
   ]
  }
 ],
 "metadata": {
  "kernelspec": {
   "display_name": "Python 3 (ipykernel)",
   "language": "python",
   "name": "python3"
  },
  "language_info": {
   "codemirror_mode": {
    "name": "ipython",
    "version": 3
   },
   "file_extension": ".py",
   "mimetype": "text/x-python",
   "name": "python",
   "nbconvert_exporter": "python",
   "pygments_lexer": "ipython3",
   "version": "3.12.3"
  }
 },
 "nbformat": 4,
 "nbformat_minor": 5
}
