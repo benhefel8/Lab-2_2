{
 "cells": [
  {
   "cell_type": "code",
   "execution_count": 1,
   "id": "3b0619a7-3a78-4904-9d92-0e5cc7823b7d",
   "metadata": {},
   "outputs": [],
   "source": [
    "import polars as pl\n",
    "pl.Config.with_columns_kwargs = True"
   ]
  },
  {
   "cell_type": "code",
   "execution_count": 166,
   "id": "bed6a7f1-6575-4e6a-970d-cd6e2ee0725f",
   "metadata": {},
   "outputs": [],
   "source": [
    "batting = pl.read_csv('Data/lahman baseball data/Batting.csv')\n",
    "pitching = pl.read_csv('Data/lahman baseball data/Pitching.csv')\n",
    "fielding = pl.read_csv('Data/lahman baseball data/Fielding.csv')\n",
    "awards = pl.read_csv('Data/lahman baseball data/AwardsPlayers.csv')\n",
    "salaries = pl.read_csv('Data/lahman baseball data/Salaries.csv')"
   ]
  },
  {
   "cell_type": "code",
   "execution_count": 178,
   "id": "842c201c-3239-4ec6-ae94-57e59601d182",
   "metadata": {},
   "outputs": [
    {
     "data": {
      "text/plain": [
       "['playerID', 'awardID', 'yearID', 'lgID', 'tie', 'notes']"
      ]
     },
     "execution_count": 178,
     "metadata": {},
     "output_type": "execute_result"
    }
   ],
   "source": [
    "awards.columns"
   ]
  },
  {
   "cell_type": "code",
   "execution_count": 177,
   "id": "2655b32b-4501-41a3-879e-0c3342bca4b2",
   "metadata": {},
   "outputs": [
    {
     "data": {
      "text/plain": [
       "['playerID',\n",
       " 'yearID',\n",
       " 'stint',\n",
       " 'teamID',\n",
       " 'lgID',\n",
       " 'POS',\n",
       " 'G',\n",
       " 'GS',\n",
       " 'InnOuts',\n",
       " 'PO',\n",
       " 'A',\n",
       " 'E',\n",
       " 'DP',\n",
       " 'PB',\n",
       " 'WP',\n",
       " 'SB',\n",
       " 'CS',\n",
       " 'ZR']"
      ]
     },
     "execution_count": 177,
     "metadata": {},
     "output_type": "execute_result"
    }
   ],
   "source": [
    "fielding.columns"
   ]
  },
  {
   "cell_type": "code",
   "execution_count": null,
   "id": "2d960fcb-99d8-4dd5-a56a-e2418f310eb1",
   "metadata": {},
   "outputs": [],
   "source": [
    "fielding.sort('yearID', descending=True)\n"
   ]
  },
  {
   "cell_type": "code",
   "execution_count": null,
   "id": "789059ae-326c-4142-b0ce-73310b7888ef",
   "metadata": {},
   "outputs": [],
   "source": [
    "'case is player, year, pos, league'"
   ]
  },
  {
   "cell_type": "code",
   "execution_count": 179,
   "id": "a4324954-6b89-4c71-a0db-2dfe917cc258",
   "metadata": {},
   "outputs": [
    {
     "data": {
      "text/html": [
       "<div><style>\n",
       ".dataframe > thead > tr,\n",
       ".dataframe > tbody > tr {\n",
       "  text-align: right;\n",
       "  white-space: pre-wrap;\n",
       "}\n",
       "</style>\n",
       "<small>shape: (145_528, 17)</small><table border=\"1\" class=\"dataframe\"><thead><tr><th>yearID</th><th>lgID</th><th>playerID</th><th>POS</th><th>awardID</th><th>InnOuts</th><th>PO</th><th>A</th><th>E</th><th>DP</th><th>PB</th><th>WP</th><th>SB</th><th>CS</th><th>ZR</th><th>Gold Glove?</th><th>Training-Validation</th></tr><tr><td>i64</td><td>str</td><td>str</td><td>str</td><td>str</td><td>i64</td><td>i64</td><td>i64</td><td>i64</td><td>i64</td><td>str</td><td>str</td><td>str</td><td>str</td><td>str</td><td>str</td><td>str</td></tr></thead><tbody><tr><td>1912</td><td>&quot;AL&quot;</td><td>&quot;thompho01&quot;</td><td>&quot;C&quot;</td><td>null</td><td>0</td><td>1</td><td>0</td><td>1</td><td>0</td><td>null</td><td>null</td><td>null</td><td>null</td><td>null</td><td>&quot;No&quot;</td><td>&quot;Training&quot;</td></tr><tr><td>1955</td><td>&quot;NL&quot;</td><td>&quot;gorinch01&quot;</td><td>&quot;P&quot;</td><td>null</td><td>2</td><td>0</td><td>0</td><td>0</td><td>0</td><td>null</td><td>null</td><td>null</td><td>null</td><td>null</td><td>&quot;No&quot;</td><td>&quot;Training&quot;</td></tr><tr><td>1905</td><td>&quot;NL&quot;</td><td>&quot;burkeji01&quot;</td><td>&quot;3B&quot;</td><td>null</td><td>3171</td><td>174</td><td>238</td><td>34</td><td>13</td><td>null</td><td>null</td><td>null</td><td>null</td><td>null</td><td>&quot;No&quot;</td><td>&quot;Training&quot;</td></tr><tr><td>1955</td><td>&quot;AL&quot;</td><td>&quot;roberji02&quot;</td><td>&quot;C&quot;</td><td>null</td><td>57</td><td>8</td><td>2</td><td>0</td><td>0</td><td>null</td><td>null</td><td>null</td><td>null</td><td>null</td><td>&quot;No&quot;</td><td>&quot;Training&quot;</td></tr><tr><td>2004</td><td>&quot;NL&quot;</td><td>&quot;venafmi01&quot;</td><td>&quot;P&quot;</td><td>null</td><td>27</td><td>0</td><td>1</td><td>0</td><td>0</td><td>null</td><td>null</td><td>null</td><td>null</td><td>null</td><td>&quot;No&quot;</td><td>&quot;Training&quot;</td></tr><tr><td>&hellip;</td><td>&hellip;</td><td>&hellip;</td><td>&hellip;</td><td>&hellip;</td><td>&hellip;</td><td>&hellip;</td><td>&hellip;</td><td>&hellip;</td><td>&hellip;</td><td>&hellip;</td><td>&hellip;</td><td>&hellip;</td><td>&hellip;</td><td>&hellip;</td><td>&hellip;</td><td>&hellip;</td></tr><tr><td>2016</td><td>&quot;AL&quot;</td><td>&quot;marinjh01&quot;</td><td>&quot;P&quot;</td><td>null</td><td>11</td><td>0</td><td>1</td><td>0</td><td>0</td><td>null</td><td>null</td><td>null</td><td>null</td><td>null</td><td>&quot;No&quot;</td><td>&quot;Training&quot;</td></tr><tr><td>1997</td><td>&quot;NL&quot;</td><td>&quot;petkoma01&quot;</td><td>&quot;P&quot;</td><td>null</td><td>288</td><td>11</td><td>19</td><td>1</td><td>3</td><td>null</td><td>null</td><td>null</td><td>null</td><td>null</td><td>&quot;No&quot;</td><td>&quot;Training&quot;</td></tr><tr><td>2017</td><td>&quot;NL&quot;</td><td>&quot;newcose01&quot;</td><td>&quot;P&quot;</td><td>null</td><td>300</td><td>2</td><td>14</td><td>1</td><td>1</td><td>null</td><td>null</td><td>null</td><td>null</td><td>null</td><td>&quot;No&quot;</td><td>&quot;Training&quot;</td></tr><tr><td>2006</td><td>&quot;AL&quot;</td><td>&quot;laraju01&quot;</td><td>&quot;P&quot;</td><td>null</td><td>15</td><td>0</td><td>0</td><td>0</td><td>0</td><td>null</td><td>null</td><td>null</td><td>null</td><td>null</td><td>&quot;No&quot;</td><td>&quot;Training&quot;</td></tr><tr><td>1968</td><td>&quot;NL&quot;</td><td>&quot;brownpa01&quot;</td><td>&quot;P&quot;</td><td>null</td><td>12</td><td>0</td><td>0</td><td>0</td><td>0</td><td>null</td><td>null</td><td>null</td><td>null</td><td>null</td><td>&quot;No&quot;</td><td>&quot;Training&quot;</td></tr></tbody></table></div>"
      ],
      "text/plain": [
       "shape: (145_528, 17)\n",
       "┌────────┬──────┬───────────┬─────┬───┬──────┬──────┬─────────────┬─────────────────────┐\n",
       "│ yearID ┆ lgID ┆ playerID  ┆ POS ┆ … ┆ CS   ┆ ZR   ┆ Gold Glove? ┆ Training-Validation │\n",
       "│ ---    ┆ ---  ┆ ---       ┆ --- ┆   ┆ ---  ┆ ---  ┆ ---         ┆ ---                 │\n",
       "│ i64    ┆ str  ┆ str       ┆ str ┆   ┆ str  ┆ str  ┆ str         ┆ str                 │\n",
       "╞════════╪══════╪═══════════╪═════╪═══╪══════╪══════╪═════════════╪═════════════════════╡\n",
       "│ 1912   ┆ AL   ┆ thompho01 ┆ C   ┆ … ┆ null ┆ null ┆ No          ┆ Training            │\n",
       "│ 1955   ┆ NL   ┆ gorinch01 ┆ P   ┆ … ┆ null ┆ null ┆ No          ┆ Training            │\n",
       "│ 1905   ┆ NL   ┆ burkeji01 ┆ 3B  ┆ … ┆ null ┆ null ┆ No          ┆ Training            │\n",
       "│ 1955   ┆ AL   ┆ roberji02 ┆ C   ┆ … ┆ null ┆ null ┆ No          ┆ Training            │\n",
       "│ 2004   ┆ NL   ┆ venafmi01 ┆ P   ┆ … ┆ null ┆ null ┆ No          ┆ Training            │\n",
       "│ …      ┆ …    ┆ …         ┆ …   ┆ … ┆ …    ┆ …    ┆ …           ┆ …                   │\n",
       "│ 2016   ┆ AL   ┆ marinjh01 ┆ P   ┆ … ┆ null ┆ null ┆ No          ┆ Training            │\n",
       "│ 1997   ┆ NL   ┆ petkoma01 ┆ P   ┆ … ┆ null ┆ null ┆ No          ┆ Training            │\n",
       "│ 2017   ┆ NL   ┆ newcose01 ┆ P   ┆ … ┆ null ┆ null ┆ No          ┆ Training            │\n",
       "│ 2006   ┆ AL   ┆ laraju01  ┆ P   ┆ … ┆ null ┆ null ┆ No          ┆ Training            │\n",
       "│ 1968   ┆ NL   ┆ brownpa01 ┆ P   ┆ … ┆ null ┆ null ┆ No          ┆ Training            │\n",
       "└────────┴──────┴───────────┴─────┴───┴──────┴──────┴─────────────┴─────────────────────┘"
      ]
     },
     "execution_count": 179,
     "metadata": {},
     "output_type": "execute_result"
    }
   ],
   "source": [
    "awards_filter = (awards\n",
    "                 .rename({\"notes\": \"POS\"})\n",
    "\n",
    "                 .select(['playerID',\n",
    "                           'yearID',\n",
    "                           'awardID',\n",
    "                           'lgID',\n",
    "                           'POS'])\n",
    "                 .filter(pl.col('awardID') == 'Gold Glove'))\n",
    "fielding_awards = (fielding\n",
    ".join(awards_filter, on=['playerID', 'yearID'], how='left')\n",
    ".group_by(pl.col('yearID'), pl.col('lgID'), pl.col('playerID'), pl.col('POS'), pl.col('awardID'))\n",
    ".agg(pl.col('InnOuts').sum().alias('InnOuts'),\n",
    "     pl.col('PO').sum().alias('PO'),\n",
    "     pl.col('A').sum().alias('A'),\n",
    "     pl.col('E').sum().alias('E'),\n",
    "     pl.col('DP').sum().alias('DP'),\n",
    "     pl.col('PB').sum().alias('PB'),\n",
    "     pl.col('WP').sum().alias('WP'),\n",
    "     pl.col('SB').sum().alias('SB'),\n",
    "     pl.col('CS').sum().alias('CS'),\n",
    "     pl.col('ZR').sum().alias('ZR')\n",
    "    )    \n",
    "\n",
    " .with_columns(\n",
    "        pl.when(pl.col('awardID').is_null())\n",
    "          .then(pl.lit('No'))\n",
    "          .otherwise(pl.lit('Yes'))\n",
    "          .alias('Gold Glove?')\n",
    "              )\n",
    " .with_columns(\n",
    "         pl.when(pl.col('yearID') == 2023)\n",
    "            .then(pl.lit('Validation'))\n",
    "            .otherwise(pl.lit('Training'))\n",
    "            .alias('Training-Validation')\n",
    "              )\n",
    "                   \n",
    "                  )\n",
    "\n",
    "fielding_awards"
   ]
  },
  {
   "cell_type": "code",
   "execution_count": 189,
   "id": "f84c305c-ad3f-42f5-9db8-7a77c161c14e",
   "metadata": {},
   "outputs": [
    {
     "data": {
      "text/html": [
       "<div><style>\n",
       ".dataframe > thead > tr,\n",
       ".dataframe > tbody > tr {\n",
       "  text-align: right;\n",
       "  white-space: pre-wrap;\n",
       "}\n",
       "</style>\n",
       "<small>shape: (133, 17)</small><table border=\"1\" class=\"dataframe\"><thead><tr><th>yearID</th><th>lgID</th><th>playerID</th><th>awardID</th><th>Position</th><th>InnOuts</th><th>PO</th><th>A</th><th>E</th><th>DP</th><th>PB</th><th>WP</th><th>SB</th><th>CS</th><th>ZR</th><th>Gold Glove?</th><th>Training-Validation</th></tr><tr><td>i64</td><td>str</td><td>str</td><td>str</td><td>str</td><td>i64</td><td>i64</td><td>i64</td><td>i64</td><td>i64</td><td>str</td><td>str</td><td>str</td><td>str</td><td>str</td><td>str</td><td>str</td></tr></thead><tbody><tr><td>1978</td><td>&quot;NL&quot;</td><td>&quot;boonebo01&quot;</td><td>&quot;Gold Glove&quot;</td><td>&quot;C&quot;</td><td>3234</td><td>650</td><td>55</td><td>8</td><td>7</td><td>null</td><td>null</td><td>null</td><td>null</td><td>null</td><td>&quot;Yes&quot;</td><td>&quot;Training&quot;</td></tr><tr><td>1997</td><td>&quot;NL&quot;</td><td>&quot;johnsch04&quot;</td><td>&quot;Gold Glove&quot;</td><td>&quot;C&quot;</td><td>3230</td><td>900</td><td>73</td><td>0</td><td>17</td><td>null</td><td>null</td><td>null</td><td>null</td><td>null</td><td>&quot;Yes&quot;</td><td>&quot;Training&quot;</td></tr><tr><td>1962</td><td>&quot;AL&quot;</td><td>&quot;batteea01&quot;</td><td>&quot;Gold Glove&quot;</td><td>&quot;C&quot;</td><td>3723</td><td>872</td><td>82</td><td>9</td><td>9</td><td>null</td><td>null</td><td>null</td><td>null</td><td>null</td><td>&quot;Yes&quot;</td><td>&quot;Training&quot;</td></tr><tr><td>1997</td><td>&quot;AL&quot;</td><td>&quot;rodriiv01&quot;</td><td>&quot;Gold Glove&quot;</td><td>&quot;C&quot;</td><td>3603</td><td>821</td><td>75</td><td>7</td><td>11</td><td>null</td><td>null</td><td>null</td><td>null</td><td>null</td><td>&quot;Yes&quot;</td><td>&quot;Training&quot;</td></tr><tr><td>2002</td><td>&quot;NL&quot;</td><td>&quot;ausmubr01&quot;</td><td>&quot;Gold Glove&quot;</td><td>&quot;C&quot;</td><td>3237</td><td>942</td><td>65</td><td>3</td><td>9</td><td>null</td><td>null</td><td>null</td><td>null</td><td>null</td><td>&quot;Yes&quot;</td><td>&quot;Training&quot;</td></tr><tr><td>&hellip;</td><td>&hellip;</td><td>&hellip;</td><td>&hellip;</td><td>&hellip;</td><td>&hellip;</td><td>&hellip;</td><td>&hellip;</td><td>&hellip;</td><td>&hellip;</td><td>&hellip;</td><td>&hellip;</td><td>&hellip;</td><td>&hellip;</td><td>&hellip;</td><td>&hellip;</td><td>&hellip;</td></tr><tr><td>1988</td><td>&quot;NL&quot;</td><td>&quot;santibe01&quot;</td><td>&quot;Gold Glove&quot;</td><td>&quot;C&quot;</td><td>3505</td><td>725</td><td>75</td><td>12</td><td>11</td><td>null</td><td>null</td><td>null</td><td>null</td><td>null</td><td>&quot;Yes&quot;</td><td>&quot;Training&quot;</td></tr><tr><td>2011</td><td>&quot;NL&quot;</td><td>&quot;molinya01&quot;</td><td>&quot;Gold Glove&quot;</td><td>&quot;C&quot;</td><td>3456</td><td>860</td><td>67</td><td>6</td><td>5</td><td>null</td><td>null</td><td>null</td><td>null</td><td>null</td><td>&quot;Yes&quot;</td><td>&quot;Training&quot;</td></tr><tr><td>2005</td><td>&quot;AL&quot;</td><td>&quot;varitja01&quot;</td><td>&quot;Gold Glove&quot;</td><td>&quot;C&quot;</td><td>3267</td><td>784</td><td>32</td><td>8</td><td>4</td><td>null</td><td>null</td><td>null</td><td>null</td><td>null</td><td>&quot;Yes&quot;</td><td>&quot;Training&quot;</td></tr><tr><td>2006</td><td>&quot;AL&quot;</td><td>&quot;rodriiv01&quot;</td><td>&quot;Gold Glove&quot;</td><td>&quot;C&quot;</td><td>3334</td><td>797</td><td>65</td><td>3</td><td>13</td><td>null</td><td>null</td><td>null</td><td>null</td><td>null</td><td>&quot;Yes&quot;</td><td>&quot;Training&quot;</td></tr><tr><td>2021</td><td>&quot;NL&quot;</td><td>&quot;stallja01&quot;</td><td>&quot;Gold Glove&quot;</td><td>&quot;C&quot;</td><td>2679</td><td>871</td><td>49</td><td>5</td><td>2</td><td>null</td><td>null</td><td>null</td><td>null</td><td>null</td><td>&quot;Yes&quot;</td><td>&quot;Training&quot;</td></tr></tbody></table></div>"
      ],
      "text/plain": [
       "shape: (133, 17)\n",
       "┌────────┬──────┬───────────┬────────────┬───┬──────┬──────┬─────────────┬─────────────────────┐\n",
       "│ yearID ┆ lgID ┆ playerID  ┆ awardID    ┆ … ┆ CS   ┆ ZR   ┆ Gold Glove? ┆ Training-Validation │\n",
       "│ ---    ┆ ---  ┆ ---       ┆ ---        ┆   ┆ ---  ┆ ---  ┆ ---         ┆ ---                 │\n",
       "│ i64    ┆ str  ┆ str       ┆ str        ┆   ┆ str  ┆ str  ┆ str         ┆ str                 │\n",
       "╞════════╪══════╪═══════════╪════════════╪═══╪══════╪══════╪═════════════╪═════════════════════╡\n",
       "│ 1978   ┆ NL   ┆ boonebo01 ┆ Gold Glove ┆ … ┆ null ┆ null ┆ Yes         ┆ Training            │\n",
       "│ 1997   ┆ NL   ┆ johnsch04 ┆ Gold Glove ┆ … ┆ null ┆ null ┆ Yes         ┆ Training            │\n",
       "│ 1962   ┆ AL   ┆ batteea01 ┆ Gold Glove ┆ … ┆ null ┆ null ┆ Yes         ┆ Training            │\n",
       "│ 1997   ┆ AL   ┆ rodriiv01 ┆ Gold Glove ┆ … ┆ null ┆ null ┆ Yes         ┆ Training            │\n",
       "│ 2002   ┆ NL   ┆ ausmubr01 ┆ Gold Glove ┆ … ┆ null ┆ null ┆ Yes         ┆ Training            │\n",
       "│ …      ┆ …    ┆ …         ┆ …          ┆ … ┆ …    ┆ …    ┆ …           ┆ …                   │\n",
       "│ 1988   ┆ NL   ┆ santibe01 ┆ Gold Glove ┆ … ┆ null ┆ null ┆ Yes         ┆ Training            │\n",
       "│ 2011   ┆ NL   ┆ molinya01 ┆ Gold Glove ┆ … ┆ null ┆ null ┆ Yes         ┆ Training            │\n",
       "│ 2005   ┆ AL   ┆ varitja01 ┆ Gold Glove ┆ … ┆ null ┆ null ┆ Yes         ┆ Training            │\n",
       "│ 2006   ┆ AL   ┆ rodriiv01 ┆ Gold Glove ┆ … ┆ null ┆ null ┆ Yes         ┆ Training            │\n",
       "│ 2021   ┆ NL   ┆ stallja01 ┆ Gold Glove ┆ … ┆ null ┆ null ┆ Yes         ┆ Training            │\n",
       "└────────┴──────┴───────────┴────────────┴───┴──────┴──────┴─────────────┴─────────────────────┘"
      ]
     },
     "execution_count": 189,
     "metadata": {},
     "output_type": "execute_result"
    }
   ],
   "source": [
    "awards_filter = (\n",
    "    awards\n",
    "    .rename({\"notes\": \"pos\"})\n",
    "    .select(['playerID', 'yearID', 'awardID', 'lgID', 'pos'])\n",
    "    .filter(pl.col('awardID') == 'Gold Glove')\n",
    ")\n",
    "\n",
    "fielding_awards = (\n",
    "    fielding\n",
    "    .join(awards_filter, on=['playerID', 'yearID'], how='left')\n",
    "    .group_by(['yearID', 'lgID', 'playerID', 'pos', 'awardID'])\n",
    "    .agg(\n",
    "        pl.col('InnOuts').sum().alias('InnOuts'),\n",
    "        pl.col('PO').sum().alias('PO'),\n",
    "        pl.col('A').sum().alias('A'),\n",
    "        pl.col('E').sum().alias('E'),\n",
    "        pl.col('DP').sum().alias('DP'),\n",
    "        pl.col('PB').sum().alias('PB'),\n",
    "        pl.col('WP').sum().alias('WP'),\n",
    "        pl.col('SB').sum().alias('SB'),\n",
    "        pl.col('CS').sum().alias('CS'),\n",
    "        pl.col('ZR').sum().alias('ZR')\n",
    "    )\n",
    ")\n",
    "\n",
    "fielding_awards = (\n",
    "    fielding_awards\n",
    "    .sort(['InnOuts'], descending=True)  \n",
    "    .group_by(['yearID', 'lgID', 'playerID', 'awardID'])  \n",
    "    .agg(\n",
    "        pl.first('pos').alias('Position'),  \n",
    "        pl.first('InnOuts').alias('InnOuts'),  \n",
    "        pl.first('PO').alias('PO'),\n",
    "        pl.first('A').alias('A'),\n",
    "        pl.first('E').alias('E'),\n",
    "        pl.first('DP').alias('DP'),\n",
    "        pl.first('PB').alias('PB'),\n",
    "        pl.first('WP').alias('WP'),\n",
    "        pl.first('SB').alias('SB'),\n",
    "        pl.first('CS').alias('CS'),\n",
    "        pl.first('ZR').alias('ZR')\n",
    "        )\n",
    "    .with_columns(\n",
    "        pl.when(pl.col('awardID').is_null())\n",
    "          .then(pl.lit('No'))\n",
    "          .otherwise(pl.lit('Yes'))\n",
    "          .alias('Gold Glove?')\n",
    "                 )\n",
    "    .with_columns(\n",
    "        pl.when(pl.col('yearID') == 2023)\n",
    "          .then(pl.lit('Validation'))\n",
    "          .otherwise(pl.lit('Training'))\n",
    "          .alias('Training-Validation')\n",
    "                 )\n",
    "                  )\n",
    "fielding_awards = fielding_awards.filter(pl.col('awardID') == 'Gold Glove', pl.col('Position') == 'C')\n",
    "fielding_awards\n"
   ]
  }
 ],
 "metadata": {
  "kernelspec": {
   "display_name": "Python 3 (ipykernel)",
   "language": "python",
   "name": "python3"
  },
  "language_info": {
   "codemirror_mode": {
    "name": "ipython",
    "version": 3
   },
   "file_extension": ".py",
   "mimetype": "text/x-python",
   "name": "python",
   "nbconvert_exporter": "python",
   "pygments_lexer": "ipython3",
   "version": "3.12.5"
  }
 },
 "nbformat": 4,
 "nbformat_minor": 5
}
