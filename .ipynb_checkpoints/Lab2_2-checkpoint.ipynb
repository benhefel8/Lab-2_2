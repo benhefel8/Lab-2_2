{
 "cells": [
  {
   "cell_type": "code",
   "execution_count": 2,
   "id": "3b0619a7-3a78-4904-9d92-0e5cc7823b7d",
   "metadata": {},
   "outputs": [],
   "source": [
    "import polars as pl\n",
    "pl.Config.with_columns_kwargs = True"
   ]
  },
  {
   "cell_type": "code",
   "execution_count": 40,
   "id": "bed6a7f1-6575-4e6a-970d-cd6e2ee0725f",
   "metadata": {},
   "outputs": [],
   "source": [
    "batting = pl.read_csv('Data/lahman baseball data/Batting.csv')\n",
    "pitching = pl.read_csv('Data/lahman baseball data/Pitching.csv')\n",
    "fielding = pl.read_csv('Data/lahman baseball data/Fielding.csv')\n",
    "awards = pl.read_csv('Data/lahman baseball data/AwardsPlayers.csv')\n",
    "salaries = pl.read_csv('Data/lahman baseball data/Salaries.csv')"
   ]
  },
  {
   "cell_type": "code",
   "execution_count": 6,
   "id": "842c201c-3239-4ec6-ae94-57e59601d182",
   "metadata": {},
   "outputs": [
    {
     "data": {
      "text/plain": [
       "['playerID', 'awardID', 'yearID', 'lgID', 'tie', 'notes']"
      ]
     },
     "execution_count": 6,
     "metadata": {},
     "output_type": "execute_result"
    }
   ],
   "source": [
    "awards.columns"
   ]
  },
  {
   "cell_type": "code",
   "execution_count": 8,
   "id": "2655b32b-4501-41a3-879e-0c3342bca4b2",
   "metadata": {},
   "outputs": [
    {
     "data": {
      "text/plain": [
       "['playerID',\n",
       " 'yearID',\n",
       " 'stint',\n",
       " 'teamID',\n",
       " 'lgID',\n",
       " 'POS',\n",
       " 'G',\n",
       " 'GS',\n",
       " 'InnOuts',\n",
       " 'PO',\n",
       " 'A',\n",
       " 'E',\n",
       " 'DP',\n",
       " 'PB',\n",
       " 'WP',\n",
       " 'SB',\n",
       " 'CS',\n",
       " 'ZR']"
      ]
     },
     "execution_count": 8,
     "metadata": {},
     "output_type": "execute_result"
    }
   ],
   "source": [
    "fielding.columns"
   ]
  },
  {
   "cell_type": "code",
   "execution_count": 10,
   "id": "789059ae-326c-4142-b0ce-73310b7888ef",
   "metadata": {},
   "outputs": [
    {
     "data": {
      "text/plain": [
       "'case is player, year, pos, league'"
      ]
     },
     "execution_count": 10,
     "metadata": {},
     "output_type": "execute_result"
    }
   ],
   "source": [
    "'case is player, year, pos, league'"
   ]
  },
  {
   "cell_type": "code",
   "execution_count": 74,
   "id": "f5b31876-1c7c-4e1a-8a24-e3b1ab72425b",
   "metadata": {},
   "outputs": [
    {
     "data": {
      "text/html": [
       "<div><style>\n",
       ".dataframe > thead > tr,\n",
       ".dataframe > tbody > tr {\n",
       "  text-align: right;\n",
       "  white-space: pre-wrap;\n",
       "}\n",
       "</style>\n",
       "<small>shape: (103_940, 14)</small><table border=\"1\" class=\"dataframe\"><thead><tr><th>playerID</th><th>yearID</th><th>InnOuts</th><th>PO</th><th>A</th><th>E</th><th>DP</th><th>PB</th><th>WP</th><th>SB</th><th>CS</th><th>ZR</th><th>Gold Glove?</th><th>Training-Validation</th></tr><tr><td>str</td><td>i64</td><td>i64</td><td>i64</td><td>i64</td><td>i64</td><td>i64</td><td>str</td><td>str</td><td>str</td><td>str</td><td>str</td><td>str</td><td>str</td></tr></thead><tbody><tr><td>&quot;willike02&quot;</td><td>1991</td><td>666</td><td>58</td><td>4</td><td>2</td><td>0</td><td>null</td><td>null</td><td>null</td><td>null</td><td>null</td><td>&quot;No&quot;</td><td>&quot;Training&quot;</td></tr><tr><td>&quot;powelbo01&quot;</td><td>1973</td><td>2750</td><td>988</td><td>77</td><td>12</td><td>95</td><td>null</td><td>null</td><td>null</td><td>null</td><td>null</td><td>&quot;No&quot;</td><td>&quot;Training&quot;</td></tr><tr><td>&quot;santado01&quot;</td><td>2017</td><td>3634</td><td>224</td><td>4</td><td>5</td><td>1</td><td>null</td><td>null</td><td>null</td><td>null</td><td>null</td><td>&quot;No&quot;</td><td>&quot;Training&quot;</td></tr><tr><td>&quot;randajo01&quot;</td><td>1996</td><td>2385</td><td>80</td><td>160</td><td>10</td><td>18</td><td>null</td><td>null</td><td>null</td><td>null</td><td>null</td><td>&quot;No&quot;</td><td>&quot;Training&quot;</td></tr><tr><td>&quot;seaneru01&quot;</td><td>2005</td><td>181</td><td>4</td><td>5</td><td>0</td><td>0</td><td>null</td><td>null</td><td>null</td><td>null</td><td>null</td><td>&quot;No&quot;</td><td>&quot;Training&quot;</td></tr><tr><td>&hellip;</td><td>&hellip;</td><td>&hellip;</td><td>&hellip;</td><td>&hellip;</td><td>&hellip;</td><td>&hellip;</td><td>&hellip;</td><td>&hellip;</td><td>&hellip;</td><td>&hellip;</td><td>&hellip;</td><td>&hellip;</td><td>&hellip;</td></tr><tr><td>&quot;mcgowky01&quot;</td><td>2020</td><td>33</td><td>0</td><td>0</td><td>0</td><td>0</td><td>null</td><td>null</td><td>null</td><td>null</td><td>null</td><td>&quot;No&quot;</td><td>&quot;Training&quot;</td></tr><tr><td>&quot;valenbo02&quot;</td><td>1979</td><td>666</td><td>32</td><td>38</td><td>2</td><td>5</td><td>null</td><td>null</td><td>null</td><td>null</td><td>null</td><td>&quot;No&quot;</td><td>&quot;Training&quot;</td></tr><tr><td>&quot;nelsoca01&quot;</td><td>1875</td><td>1866</td><td>153</td><td>189</td><td>64</td><td>15</td><td>null</td><td>null</td><td>null</td><td>null</td><td>null</td><td>&quot;No&quot;</td><td>&quot;Training&quot;</td></tr><tr><td>&quot;parrila02&quot;</td><td>1978</td><td>1959</td><td>353</td><td>39</td><td>5</td><td>5</td><td>null</td><td>null</td><td>null</td><td>null</td><td>null</td><td>&quot;No&quot;</td><td>&quot;Training&quot;</td></tr><tr><td>&quot;gohrgr01&quot;</td><td>1996</td><td>347</td><td>7</td><td>10</td><td>1</td><td>0</td><td>null</td><td>null</td><td>null</td><td>null</td><td>null</td><td>&quot;No&quot;</td><td>&quot;Training&quot;</td></tr></tbody></table></div>"
      ],
      "text/plain": [
       "shape: (103_940, 14)\n",
       "┌───────────┬────────┬─────────┬─────┬───┬──────┬──────┬─────────────┬─────────────────────┐\n",
       "│ playerID  ┆ yearID ┆ InnOuts ┆ PO  ┆ … ┆ CS   ┆ ZR   ┆ Gold Glove? ┆ Training-Validation │\n",
       "│ ---       ┆ ---    ┆ ---     ┆ --- ┆   ┆ ---  ┆ ---  ┆ ---         ┆ ---                 │\n",
       "│ str       ┆ i64    ┆ i64     ┆ i64 ┆   ┆ str  ┆ str  ┆ str         ┆ str                 │\n",
       "╞═══════════╪════════╪═════════╪═════╪═══╪══════╪══════╪═════════════╪═════════════════════╡\n",
       "│ willike02 ┆ 1991   ┆ 666     ┆ 58  ┆ … ┆ null ┆ null ┆ No          ┆ Training            │\n",
       "│ powelbo01 ┆ 1973   ┆ 2750    ┆ 988 ┆ … ┆ null ┆ null ┆ No          ┆ Training            │\n",
       "│ santado01 ┆ 2017   ┆ 3634    ┆ 224 ┆ … ┆ null ┆ null ┆ No          ┆ Training            │\n",
       "│ randajo01 ┆ 1996   ┆ 2385    ┆ 80  ┆ … ┆ null ┆ null ┆ No          ┆ Training            │\n",
       "│ seaneru01 ┆ 2005   ┆ 181     ┆ 4   ┆ … ┆ null ┆ null ┆ No          ┆ Training            │\n",
       "│ …         ┆ …      ┆ …       ┆ …   ┆ … ┆ …    ┆ …    ┆ …           ┆ …                   │\n",
       "│ mcgowky01 ┆ 2020   ┆ 33      ┆ 0   ┆ … ┆ null ┆ null ┆ No          ┆ Training            │\n",
       "│ valenbo02 ┆ 1979   ┆ 666     ┆ 32  ┆ … ┆ null ┆ null ┆ No          ┆ Training            │\n",
       "│ nelsoca01 ┆ 1875   ┆ 1866    ┆ 153 ┆ … ┆ null ┆ null ┆ No          ┆ Training            │\n",
       "│ parrila02 ┆ 1978   ┆ 1959    ┆ 353 ┆ … ┆ null ┆ null ┆ No          ┆ Training            │\n",
       "│ gohrgr01  ┆ 1996   ┆ 347     ┆ 7   ┆ … ┆ null ┆ null ┆ No          ┆ Training            │\n",
       "└───────────┴────────┴─────────┴─────┴───┴──────┴──────┴─────────────┴─────────────────────┘"
      ]
     },
     "execution_count": 74,
     "metadata": {},
     "output_type": "execute_result"
    }
   ],
   "source": [
    "# Group by playerID and yearID, then sum the relevant statistics\n",
    "fielding_awards_summed = (\n",
    "    fielding_awards\n",
    "    .group_by(['playerID', 'yearID'])  # Only group by playerID and yearID\n",
    "    .agg([\n",
    "        pl.col('InnOuts').sum().alias('InnOuts'),\n",
    "        pl.col('PO').sum().alias('PO'),\n",
    "        pl.col('A').sum().alias('A'),\n",
    "        pl.col('E').sum().alias('E'),\n",
    "        pl.col('DP').sum().alias('DP'),\n",
    "        pl.col('PB').sum().alias('PB'),\n",
    "        pl.col('WP').sum().alias('WP'),\n",
    "        pl.col('SB').sum().alias('SB'),\n",
    "        pl.col('CS').sum().alias('CS'),\n",
    "        pl.col('ZR').sum().alias('ZR'),\n",
    "        pl.col('Gold Glove?').first().alias('Gold Glove?'),  # Keep Gold Glove status\n",
    "        pl.col('Training-Validation').first().alias('Training-Validation')  # Keep Training-Validation status\n",
    "    ])\n",
    ")\n",
    "\n",
    "# Output the final summed DataFrame\n",
    "fielding_awards_summed\n"
   ]
  },
  {
   "cell_type": "code",
   "execution_count": 119,
   "id": "a4324954-6b89-4c71-a0db-2dfe917cc258",
   "metadata": {},
   "outputs": [
    {
     "data": {
      "text/html": [
       "<div><style>\n",
       ".dataframe > thead > tr,\n",
       ".dataframe > tbody > tr {\n",
       "  text-align: right;\n",
       "  white-space: pre-wrap;\n",
       "}\n",
       "</style>\n",
       "<small>shape: (22, 16)</small><table border=\"1\" class=\"dataframe\"><thead><tr><th>playerID</th><th>yearID</th><th>lgID</th><th>POS</th><th>InnOuts</th><th>PO</th><th>A</th><th>E</th><th>DP</th><th>PB</th><th>WP</th><th>SB</th><th>CS</th><th>ZR</th><th>Gold Glove?</th><th>Training-Validation</th></tr><tr><td>str</td><td>i64</td><td>str</td><td>str</td><td>i64</td><td>i64</td><td>i64</td><td>i64</td><td>i64</td><td>str</td><td>str</td><td>str</td><td>str</td><td>str</td><td>str</td><td>str</td></tr></thead><tbody><tr><td>&quot;perezsa02&quot;</td><td>2018</td><td>&quot;AL&quot;</td><td>&quot;C&quot;</td><td>2493</td><td>690</td><td>69</td><td>0</td><td>11</td><td>&quot;0&quot;</td><td>&quot;0&quot;</td><td>&quot;0&quot;</td><td>&quot;0&quot;</td><td>&quot;0&quot;</td><td>&quot;Yes&quot;</td><td>&quot;Training&quot;</td></tr><tr><td>&quot;barnhtu01&quot;</td><td>2017</td><td>&quot;NL&quot;</td><td>&quot;C&quot;</td><td>2779</td><td>863</td><td>89</td><td>1</td><td>9</td><td>&quot;0&quot;</td><td>&quot;0&quot;</td><td>&quot;0&quot;</td><td>&quot;0&quot;</td><td>&quot;0&quot;</td><td>&quot;Yes&quot;</td><td>&quot;Training&quot;</td></tr><tr><td>&quot;heimjo01&quot;</td><td>2023</td><td>&quot;AL&quot;</td><td>&quot;C&quot;</td><td>2980</td><td>938</td><td>40</td><td>2</td><td>8</td><td>&quot;0&quot;</td><td>&quot;0&quot;</td><td>&quot;0&quot;</td><td>&quot;0&quot;</td><td>&quot;0&quot;</td><td>&quot;Yes&quot;</td><td>&quot;Validation&quot;</td></tr><tr><td>&quot;barnhtu01&quot;</td><td>2020</td><td>&quot;NL&quot;</td><td>&quot;C&quot;</td><td>817</td><td>341</td><td>15</td><td>0</td><td>0</td><td>&quot;0&quot;</td><td>&quot;0&quot;</td><td>&quot;0&quot;</td><td>&quot;0&quot;</td><td>&quot;0&quot;</td><td>&quot;Yes&quot;</td><td>&quot;Training&quot;</td></tr><tr><td>&quot;molinya01&quot;</td><td>2013</td><td>&quot;NL&quot;</td><td>&quot;C&quot;</td><td>3346</td><td>976</td><td>63</td><td>4</td><td>11</td><td>&quot;0&quot;</td><td>&quot;0&quot;</td><td>&quot;0&quot;</td><td>&quot;0&quot;</td><td>&quot;0&quot;</td><td>&quot;Yes&quot;</td><td>&quot;Training&quot;</td></tr><tr><td>&hellip;</td><td>&hellip;</td><td>&hellip;</td><td>&hellip;</td><td>&hellip;</td><td>&hellip;</td><td>&hellip;</td><td>&hellip;</td><td>&hellip;</td><td>&hellip;</td><td>&hellip;</td><td>&hellip;</td><td>&hellip;</td><td>&hellip;</td><td>&hellip;</td><td>&hellip;</td></tr><tr><td>&quot;realmjt01&quot;</td><td>2019</td><td>&quot;NL&quot;</td><td>&quot;C&quot;</td><td>3418</td><td>1098</td><td>67</td><td>9</td><td>14</td><td>&quot;0&quot;</td><td>&quot;0&quot;</td><td>&quot;0&quot;</td><td>&quot;0&quot;</td><td>&quot;0&quot;</td><td>&quot;Yes&quot;</td><td>&quot;Training&quot;</td></tr><tr><td>&quot;morenga01&quot;</td><td>2023</td><td>&quot;NL&quot;</td><td>&quot;C&quot;</td><td>2562</td><td>821</td><td>55</td><td>3</td><td>3</td><td>&quot;0&quot;</td><td>&quot;0&quot;</td><td>&quot;0&quot;</td><td>&quot;0&quot;</td><td>&quot;0&quot;</td><td>&quot;Yes&quot;</td><td>&quot;Validation&quot;</td></tr><tr><td>&quot;murphse01&quot;</td><td>2021</td><td>&quot;AL&quot;</td><td>&quot;C&quot;</td><td>2770</td><td>873</td><td>42</td><td>6</td><td>6</td><td>&quot;0&quot;</td><td>&quot;0&quot;</td><td>&quot;0&quot;</td><td>&quot;0&quot;</td><td>&quot;0&quot;</td><td>&quot;Yes&quot;</td><td>&quot;Training&quot;</td></tr><tr><td>&quot;perezro02&quot;</td><td>2020</td><td>&quot;AL&quot;</td><td>&quot;C&quot;</td><td>768</td><td>291</td><td>21</td><td>0</td><td>2</td><td>&quot;0&quot;</td><td>&quot;0&quot;</td><td>&quot;0&quot;</td><td>&quot;0&quot;</td><td>&quot;0&quot;</td><td>&quot;Yes&quot;</td><td>&quot;Training&quot;</td></tr><tr><td>&quot;perezro02&quot;</td><td>2019</td><td>&quot;AL&quot;</td><td>&quot;C&quot;</td><td>2981</td><td>1082</td><td>52</td><td>3</td><td>12</td><td>&quot;0&quot;</td><td>&quot;0&quot;</td><td>&quot;0&quot;</td><td>&quot;0&quot;</td><td>&quot;0&quot;</td><td>&quot;Yes&quot;</td><td>&quot;Training&quot;</td></tr></tbody></table></div>"
      ],
      "text/plain": [
       "shape: (22, 16)\n",
       "┌───────────┬────────┬──────┬─────┬───┬─────┬─────┬─────────────┬─────────────────────┐\n",
       "│ playerID  ┆ yearID ┆ lgID ┆ POS ┆ … ┆ CS  ┆ ZR  ┆ Gold Glove? ┆ Training-Validation │\n",
       "│ ---       ┆ ---    ┆ ---  ┆ --- ┆   ┆ --- ┆ --- ┆ ---         ┆ ---                 │\n",
       "│ str       ┆ i64    ┆ str  ┆ str ┆   ┆ str ┆ str ┆ str         ┆ str                 │\n",
       "╞═══════════╪════════╪══════╪═════╪═══╪═════╪═════╪═════════════╪═════════════════════╡\n",
       "│ perezsa02 ┆ 2018   ┆ AL   ┆ C   ┆ … ┆ 0   ┆ 0   ┆ Yes         ┆ Training            │\n",
       "│ barnhtu01 ┆ 2017   ┆ NL   ┆ C   ┆ … ┆ 0   ┆ 0   ┆ Yes         ┆ Training            │\n",
       "│ heimjo01  ┆ 2023   ┆ AL   ┆ C   ┆ … ┆ 0   ┆ 0   ┆ Yes         ┆ Validation          │\n",
       "│ barnhtu01 ┆ 2020   ┆ NL   ┆ C   ┆ … ┆ 0   ┆ 0   ┆ Yes         ┆ Training            │\n",
       "│ molinya01 ┆ 2013   ┆ NL   ┆ C   ┆ … ┆ 0   ┆ 0   ┆ Yes         ┆ Training            │\n",
       "│ …         ┆ …      ┆ …    ┆ …   ┆ … ┆ …   ┆ …   ┆ …           ┆ …                   │\n",
       "│ realmjt01 ┆ 2019   ┆ NL   ┆ C   ┆ … ┆ 0   ┆ 0   ┆ Yes         ┆ Training            │\n",
       "│ morenga01 ┆ 2023   ┆ NL   ┆ C   ┆ … ┆ 0   ┆ 0   ┆ Yes         ┆ Validation          │\n",
       "│ murphse01 ┆ 2021   ┆ AL   ┆ C   ┆ … ┆ 0   ┆ 0   ┆ Yes         ┆ Training            │\n",
       "│ perezro02 ┆ 2020   ┆ AL   ┆ C   ┆ … ┆ 0   ┆ 0   ┆ Yes         ┆ Training            │\n",
       "│ perezro02 ┆ 2019   ┆ AL   ┆ C   ┆ … ┆ 0   ┆ 0   ┆ Yes         ┆ Training            │\n",
       "└───────────┴────────┴──────┴─────┴───┴─────┴─────┴─────────────┴─────────────────────┘"
      ]
     },
     "execution_count": 119,
     "metadata": {},
     "output_type": "execute_result"
    }
   ],
   "source": [
    "fielding_awards = (fielding\n",
    ".filter((pl.col('yearID') >= 2013))\n",
    ".join(\n",
    "     awards.rename({\"notes\": \"POS\"}) \n",
    "           .select(['playerID', 'yearID', 'awardID', 'lgID', 'POS'])  \n",
    "           .filter((pl.col('awardID') == 'Gold Glove') & (pl.col('yearID') >= 2013)),\n",
    "      on=['playerID', 'yearID'],\n",
    "      how='left'\n",
    "     )\n",
    ".with_columns(\n",
    "        pl.when(pl.col('awardID').is_null())\n",
    "          .then(pl.lit('No'))\n",
    "          .otherwise(pl.lit('Yes'))\n",
    "          .alias('Gold Glove?')\n",
    "              )\n",
    ".with_columns(\n",
    "         pl.when(pl.col('yearID') == 2023)\n",
    "            .then(pl.lit('Validation'))\n",
    "            .otherwise(pl.lit('Training'))\n",
    "            .alias('Training-Validation')\n",
    "              )\n",
    ".group_by(['playerID','yearID', 'lgID', 'POS'])\n",
    ".agg(\n",
    "     pl.col('InnOuts').sum().alias('InnOuts'),\n",
    "     pl.col('PO').sum().alias('PO'),\n",
    "     pl.col('A').sum().alias('A'),\n",
    "     pl.col('E').sum().alias('E'),\n",
    "     pl.col('DP').sum().alias('DP'),\n",
    "     pl.col('PB').sum().alias('PB'),\n",
    "     pl.col('WP').sum().alias('WP'),\n",
    "     pl.col('SB').sum().alias('SB'),\n",
    "     pl.col('CS').sum().alias('CS'),\n",
    "     pl.col('ZR').sum().alias('ZR'),\n",
    "     pl.col('Gold Glove?').first().alias('Gold Glove?'),  # Keep Gold Glove status\n",
    "     pl.col('Training-Validation').first().alias('Training-Validation')  # Keep Training-Validation status\n",
    "    )    \n",
    "                  \n",
    "\n",
    "                  )\n",
    "fielding_awards = fielding_awards.filter(pl.col('Gold Glove?') == 'Yes', pl.col('POS') == 'C')\n",
    "\n",
    "fielding_awards"
   ]
  },
  {
   "cell_type": "code",
   "execution_count": 98,
   "id": "96b97242-bada-4928-b886-c31509ea7bbd",
   "metadata": {},
   "outputs": [
    {
     "data": {
      "text/html": [
       "<div><style>\n",
       ".dataframe > thead > tr,\n",
       ".dataframe > tbody > tr {\n",
       "  text-align: right;\n",
       "  white-space: pre-wrap;\n",
       "}\n",
       "</style>\n",
       "<small>shape: (0, 3)</small><table border=\"1\" class=\"dataframe\"><thead><tr><th>playerID</th><th>yearID</th><th>count</th></tr><tr><td>str</td><td>i64</td><td>u32</td></tr></thead><tbody></tbody></table></div>"
      ],
      "text/plain": [
       "shape: (0, 3)\n",
       "┌──────────┬────────┬───────┐\n",
       "│ playerID ┆ yearID ┆ count │\n",
       "│ ---      ┆ ---    ┆ ---   │\n",
       "│ str      ┆ i64    ┆ u32   │\n",
       "╞══════════╪════════╪═══════╡\n",
       "└──────────┴────────┴───────┘"
      ]
     },
     "execution_count": 98,
     "metadata": {},
     "output_type": "execute_result"
    }
   ],
   "source": [
    "duplicates = (\n",
    "    fielding_awards_summed\n",
    "    .group_by(pl.col('playerID'), pl.col('yearID'))\n",
    "    .agg(pl.len().alias('count'))\n",
    "    .filter(pl.col('count') > 1)\n",
    "    .sort('count', descending = True)\n",
    ")\n",
    "\n",
    "duplicates\n"
   ]
  },
  {
   "cell_type": "code",
   "execution_count": null,
   "id": "71fbe8fd-ce14-4f2a-b76f-400d6bae75f6",
   "metadata": {},
   "outputs": [],
   "source": []
  }
 ],
 "metadata": {
  "kernelspec": {
   "display_name": "Python 3 (ipykernel)",
   "language": "python",
   "name": "python3"
  },
  "language_info": {
   "codemirror_mode": {
    "name": "ipython",
    "version": 3
   },
   "file_extension": ".py",
   "mimetype": "text/x-python",
   "name": "python",
   "nbconvert_exporter": "python",
   "pygments_lexer": "ipython3",
   "version": "3.12.3"
  }
 },
 "nbformat": 4,
 "nbformat_minor": 5
}
