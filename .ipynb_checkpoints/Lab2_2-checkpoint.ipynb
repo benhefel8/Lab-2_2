{
 "cells": [
  {
   "cell_type": "code",
   "execution_count": 1,
   "id": "3b0619a7-3a78-4904-9d92-0e5cc7823b7d",
   "metadata": {},
   "outputs": [],
   "source": [
    "import polars as pl\n",
    "pl.Config.with_columns_kwargs = True"
   ]
  },
  {
   "cell_type": "code",
   "execution_count": 6,
   "id": "bed6a7f1-6575-4e6a-970d-cd6e2ee0725f",
   "metadata": {},
   "outputs": [
    {
     "data": {
      "text/html": [
       "<div><style>\n",
       ".dataframe > thead > tr,\n",
       ".dataframe > tbody > tr {\n",
       "  text-align: right;\n",
       "  white-space: pre-wrap;\n",
       "}\n",
       "</style>\n",
       "<small>shape: (26_428, 5)</small><table border=\"1\" class=\"dataframe\"><thead><tr><th>yearID</th><th>teamID</th><th>lgID</th><th>playerID</th><th>salary</th></tr><tr><td>i64</td><td>str</td><td>str</td><td>str</td><td>i64</td></tr></thead><tbody><tr><td>1985</td><td>&quot;ATL&quot;</td><td>&quot;NL&quot;</td><td>&quot;barkele01&quot;</td><td>870000</td></tr><tr><td>1985</td><td>&quot;ATL&quot;</td><td>&quot;NL&quot;</td><td>&quot;bedrost01&quot;</td><td>550000</td></tr><tr><td>1985</td><td>&quot;ATL&quot;</td><td>&quot;NL&quot;</td><td>&quot;benedbr01&quot;</td><td>545000</td></tr><tr><td>1985</td><td>&quot;ATL&quot;</td><td>&quot;NL&quot;</td><td>&quot;campri01&quot;</td><td>633333</td></tr><tr><td>1985</td><td>&quot;ATL&quot;</td><td>&quot;NL&quot;</td><td>&quot;ceronri01&quot;</td><td>625000</td></tr><tr><td>&hellip;</td><td>&hellip;</td><td>&hellip;</td><td>&hellip;</td><td>&hellip;</td></tr><tr><td>2016</td><td>&quot;WAS&quot;</td><td>&quot;NL&quot;</td><td>&quot;strasst01&quot;</td><td>10400000</td></tr><tr><td>2016</td><td>&quot;WAS&quot;</td><td>&quot;NL&quot;</td><td>&quot;taylomi02&quot;</td><td>524000</td></tr><tr><td>2016</td><td>&quot;WAS&quot;</td><td>&quot;NL&quot;</td><td>&quot;treinbl01&quot;</td><td>524900</td></tr><tr><td>2016</td><td>&quot;WAS&quot;</td><td>&quot;NL&quot;</td><td>&quot;werthja01&quot;</td><td>21733615</td></tr><tr><td>2016</td><td>&quot;WAS&quot;</td><td>&quot;NL&quot;</td><td>&quot;zimmery01&quot;</td><td>14000000</td></tr></tbody></table></div>"
      ],
      "text/plain": [
       "shape: (26_428, 5)\n",
       "┌────────┬────────┬──────┬───────────┬──────────┐\n",
       "│ yearID ┆ teamID ┆ lgID ┆ playerID  ┆ salary   │\n",
       "│ ---    ┆ ---    ┆ ---  ┆ ---       ┆ ---      │\n",
       "│ i64    ┆ str    ┆ str  ┆ str       ┆ i64      │\n",
       "╞════════╪════════╪══════╪═══════════╪══════════╡\n",
       "│ 1985   ┆ ATL    ┆ NL   ┆ barkele01 ┆ 870000   │\n",
       "│ 1985   ┆ ATL    ┆ NL   ┆ bedrost01 ┆ 550000   │\n",
       "│ 1985   ┆ ATL    ┆ NL   ┆ benedbr01 ┆ 545000   │\n",
       "│ 1985   ┆ ATL    ┆ NL   ┆ campri01  ┆ 633333   │\n",
       "│ 1985   ┆ ATL    ┆ NL   ┆ ceronri01 ┆ 625000   │\n",
       "│ …      ┆ …      ┆ …    ┆ …         ┆ …        │\n",
       "│ 2016   ┆ WAS    ┆ NL   ┆ strasst01 ┆ 10400000 │\n",
       "│ 2016   ┆ WAS    ┆ NL   ┆ taylomi02 ┆ 524000   │\n",
       "│ 2016   ┆ WAS    ┆ NL   ┆ treinbl01 ┆ 524900   │\n",
       "│ 2016   ┆ WAS    ┆ NL   ┆ werthja01 ┆ 21733615 │\n",
       "│ 2016   ┆ WAS    ┆ NL   ┆ zimmery01 ┆ 14000000 │\n",
       "└────────┴────────┴──────┴───────────┴──────────┘"
      ]
     },
     "execution_count": 6,
     "metadata": {},
     "output_type": "execute_result"
    }
   ],
   "source": [
    "batting = pl.read_csv('Data/lahman baseball data/Batting.csv')\n",
    "pitching = pl.read_csv('Data/lahman baseball data/Pitching.csv')\n",
    "fielding = pl.read_csv('Data/lahman baseball data/Fielding.csv')\n",
    "awards = pl.read_csv('Data/lahman baseball data/AwardsPlayers.csv')\n",
    "salaries = pl.read_csv('Data/lahman baseball data/Salaries.csv')\n",
    "salaries"
   ]
  },
  {
   "cell_type": "code",
   "execution_count": 3,
   "id": "789059ae-326c-4142-b0ce-73310b7888ef",
   "metadata": {},
   "outputs": [
    {
     "data": {
      "text/plain": [
       "'case is player, year, pos, league'"
      ]
     },
     "execution_count": 3,
     "metadata": {},
     "output_type": "execute_result"
    }
   ],
   "source": [
    "'case is player, year, pos, league'"
   ]
  },
  {
   "cell_type": "code",
   "execution_count": 5,
   "id": "a4324954-6b89-4c71-a0db-2dfe917cc258",
   "metadata": {},
   "outputs": [
    {
     "data": {
      "text/html": [
       "<div><style>\n",
       ".dataframe > thead > tr,\n",
       ".dataframe > tbody > tr {\n",
       "  text-align: right;\n",
       "  white-space: pre-wrap;\n",
       "}\n",
       "</style>\n",
       "<small>shape: (2, 16)</small><table border=\"1\" class=\"dataframe\"><thead><tr><th>playerID</th><th>yearID</th><th>lgID</th><th>POS</th><th>InnOuts</th><th>PO</th><th>A</th><th>E</th><th>DP</th><th>PB</th><th>WP</th><th>SB</th><th>CS</th><th>ZR</th><th>Gold Glove?</th><th>Training-Validation</th></tr><tr><td>str</td><td>i64</td><td>str</td><td>str</td><td>i64</td><td>i64</td><td>i64</td><td>i64</td><td>i64</td><td>i64</td><td>i64</td><td>i64</td><td>i64</td><td>i64</td><td>str</td><td>str</td></tr></thead><tbody><tr><td>&quot;maldoma01&quot;</td><td>2017</td><td>&quot;AL&quot;</td><td>&quot;C&quot;</td><td>3439</td><td>1046</td><td>65</td><td>2</td><td>2</td><td>8</td><td>0</td><td>46</td><td>29</td><td>0</td><td>&quot;Yes&quot;</td><td>&quot;Training&quot;</td></tr><tr><td>&quot;barnhtu01&quot;</td><td>2017</td><td>&quot;NL&quot;</td><td>&quot;C&quot;</td><td>2779</td><td>863</td><td>89</td><td>1</td><td>9</td><td>4</td><td>0</td><td>41</td><td>32</td><td>0</td><td>&quot;Yes&quot;</td><td>&quot;Training&quot;</td></tr></tbody></table></div>"
      ],
      "text/plain": [
       "shape: (2, 16)\n",
       "┌───────────┬────────┬──────┬─────┬───┬─────┬─────┬─────────────┬─────────────────────┐\n",
       "│ playerID  ┆ yearID ┆ lgID ┆ POS ┆ … ┆ CS  ┆ ZR  ┆ Gold Glove? ┆ Training-Validation │\n",
       "│ ---       ┆ ---    ┆ ---  ┆ --- ┆   ┆ --- ┆ --- ┆ ---         ┆ ---                 │\n",
       "│ str       ┆ i64    ┆ str  ┆ str ┆   ┆ i64 ┆ i64 ┆ str         ┆ str                 │\n",
       "╞═══════════╪════════╪══════╪═════╪═══╪═════╪═════╪═════════════╪═════════════════════╡\n",
       "│ maldoma01 ┆ 2017   ┆ AL   ┆ C   ┆ … ┆ 29  ┆ 0   ┆ Yes         ┆ Training            │\n",
       "│ barnhtu01 ┆ 2017   ┆ NL   ┆ C   ┆ … ┆ 32  ┆ 0   ┆ Yes         ┆ Training            │\n",
       "└───────────┴────────┴──────┴─────┴───┴─────┴─────┴─────────────┴─────────────────────┘"
      ]
     },
     "execution_count": 5,
     "metadata": {},
     "output_type": "execute_result"
    }
   ],
   "source": [
    "fielding_awards = (fielding\n",
    ".filter((pl.col('yearID') >= 2013))\n",
    ".join(\n",
    "     awards.rename({\"notes\": \"POS\"}) \n",
    "           .select(['playerID', 'yearID', 'awardID', 'lgID', 'POS'])  \n",
    "           .filter((pl.col('awardID') == 'Gold Glove') & (pl.col('yearID') >= 2013)),\n",
    "      on=['playerID', 'yearID', 'lgID'],\n",
    "      how='left'\n",
    "     )\n",
    ".group_by(['playerID','yearID', 'lgID', 'POS', 'awardID'])\n",
    ".agg(\n",
    "     pl.col('InnOuts').sum().alias('InnOuts'),\n",
    "     pl.col('PO').sum().alias('PO'),\n",
    "     pl.col('A').sum().alias('A'),\n",
    "     pl.col('E').sum().alias('E'),\n",
    "     pl.col('DP').sum().alias('DP'),\n",
    "     pl.col('PB').cast(int).sum().alias('PB'),\n",
    "     pl.col('WP').cast(int).sum().alias('WP'),\n",
    "     pl.col('SB').cast(int).sum().alias('SB'),\n",
    "     pl.col('CS').cast(int).sum().alias('CS'),\n",
    "     pl.col('ZR').cast(int).sum().alias('ZR') \n",
    "    )    \n",
    ".with_columns(\n",
    "        pl.when(pl.col('awardID').is_null())\n",
    "          .then(pl.lit('No'))\n",
    "          .otherwise(pl.lit('Yes'))\n",
    "          .alias('Gold Glove?'),\n",
    "         pl.when(pl.col('yearID') == 2023)\n",
    "          .then(pl.lit('Validation'))\n",
    "          .otherwise(pl.lit('Training'))\n",
    "          .alias('Training-Validation')\n",
    "              )\n",
    ".drop(pl.col('awardID'))\n",
    "                  )\n",
    "fielding_awards = fielding_awards.filter(pl.col('Gold Glove?') == 'Yes', pl.col('POS') == 'C', pl.col('yearID') == 2017)\n",
    "\n",
    "fielding_awards"
   ]
  },
  {
   "cell_type": "code",
   "execution_count": 30,
   "id": "1b9c212e-98a9-484e-b2a5-51e5091e09a2",
   "metadata": {},
   "outputs": [
    {
     "ename": "DuplicateError",
     "evalue": "unable to hstack, column with name \"teamID_right\" already exists",
     "output_type": "error",
     "traceback": [
      "\u001b[1;31m---------------------------------------------------------------------------\u001b[0m",
      "\u001b[1;31mDuplicateError\u001b[0m                            Traceback (most recent call last)",
      "Cell \u001b[1;32mIn[30], line 3\u001b[0m\n\u001b[0;32m      1\u001b[0m salaries_final \u001b[38;5;241m=\u001b[39m (\u001b[43msalaries\u001b[49m\n\u001b[0;32m      2\u001b[0m \u001b[43m \u001b[49m\u001b[38;5;241;43m.\u001b[39;49m\u001b[43mjoin\u001b[49m\u001b[43m(\u001b[49m\u001b[43mbatting\u001b[49m\u001b[43m,\u001b[49m\u001b[43m \u001b[49m\u001b[43mon\u001b[49m\u001b[38;5;241;43m=\u001b[39;49m\u001b[43m[\u001b[49m\u001b[38;5;124;43m'\u001b[39;49m\u001b[38;5;124;43myearID\u001b[39;49m\u001b[38;5;124;43m'\u001b[39;49m\u001b[43m,\u001b[49m\u001b[43m \u001b[49m\u001b[38;5;124;43m'\u001b[39;49m\u001b[38;5;124;43mplayerID\u001b[39;49m\u001b[38;5;124;43m'\u001b[39;49m\u001b[43m]\u001b[49m\u001b[43m,\u001b[49m\u001b[43m \u001b[49m\u001b[43mhow\u001b[49m\u001b[38;5;241;43m=\u001b[39;49m\u001b[38;5;124;43m'\u001b[39;49m\u001b[38;5;124;43mleft\u001b[39;49m\u001b[38;5;124;43m'\u001b[39;49m\u001b[43m)\u001b[49m\n\u001b[1;32m----> 3\u001b[0m \u001b[43m \u001b[49m\u001b[38;5;241;43m.\u001b[39;49m\u001b[43mjoin\u001b[49m\u001b[43m(\u001b[49m\u001b[43mfielding\u001b[49m\u001b[43m,\u001b[49m\u001b[43m \u001b[49m\u001b[43mon\u001b[49m\u001b[38;5;241;43m=\u001b[39;49m\u001b[43m[\u001b[49m\u001b[38;5;124;43m'\u001b[39;49m\u001b[38;5;124;43myearID\u001b[39;49m\u001b[38;5;124;43m'\u001b[39;49m\u001b[43m,\u001b[49m\u001b[43m \u001b[49m\u001b[38;5;124;43m'\u001b[39;49m\u001b[38;5;124;43mplayerID\u001b[39;49m\u001b[38;5;124;43m'\u001b[39;49m\u001b[43m]\u001b[49m\u001b[43m,\u001b[49m\u001b[43m \u001b[49m\u001b[43mhow\u001b[49m\u001b[38;5;241;43m=\u001b[39;49m\u001b[38;5;124;43m'\u001b[39;49m\u001b[38;5;124;43mleft\u001b[39;49m\u001b[38;5;124;43m'\u001b[39;49m\u001b[43m)\u001b[49m\n\u001b[0;32m      4\u001b[0m   \u001b[38;5;241m.\u001b[39mjoin(pitching,[\u001b[38;5;124m'\u001b[39m\u001b[38;5;124myearID\u001b[39m\u001b[38;5;124m'\u001b[39m, \u001b[38;5;124m'\u001b[39m\u001b[38;5;124mplayerID\u001b[39m\u001b[38;5;124m'\u001b[39m], how\u001b[38;5;241m=\u001b[39m\u001b[38;5;124m'\u001b[39m\u001b[38;5;124mleft\u001b[39m\u001b[38;5;124m'\u001b[39m))\n",
      "File \u001b[1;32m~\\AppData\\Local\\anaconda3\\envs\\polars\\Lib\\site-packages\\polars\\dataframe\\frame.py:7083\u001b[0m, in \u001b[0;36mDataFrame.join\u001b[1;34m(self, other, on, how, left_on, right_on, suffix, validate, join_nulls, coalesce)\u001b[0m\n\u001b[0;32m   7067\u001b[0m     msg \u001b[38;5;241m=\u001b[39m \u001b[38;5;124mf\u001b[39m\u001b[38;5;124m\"\u001b[39m\u001b[38;5;124mexpected `other` join table to be a DataFrame, got \u001b[39m\u001b[38;5;132;01m{\u001b[39;00m\u001b[38;5;28mtype\u001b[39m(other)\u001b[38;5;241m.\u001b[39m\u001b[38;5;18m__name__\u001b[39m\u001b[38;5;132;01m!r}\u001b[39;00m\u001b[38;5;124m\"\u001b[39m\n\u001b[0;32m   7068\u001b[0m     \u001b[38;5;28;01mraise\u001b[39;00m \u001b[38;5;167;01mTypeError\u001b[39;00m(msg)\n\u001b[0;32m   7070\u001b[0m \u001b[38;5;28;01mreturn\u001b[39;00m (\n\u001b[0;32m   7071\u001b[0m     \u001b[38;5;28;43mself\u001b[39;49m\u001b[38;5;241;43m.\u001b[39;49m\u001b[43mlazy\u001b[49m\u001b[43m(\u001b[49m\u001b[43m)\u001b[49m\n\u001b[0;32m   7072\u001b[0m \u001b[43m    \u001b[49m\u001b[38;5;241;43m.\u001b[39;49m\u001b[43mjoin\u001b[49m\u001b[43m(\u001b[49m\n\u001b[0;32m   7073\u001b[0m \u001b[43m        \u001b[49m\u001b[43mother\u001b[49m\u001b[38;5;241;43m=\u001b[39;49m\u001b[43mother\u001b[49m\u001b[38;5;241;43m.\u001b[39;49m\u001b[43mlazy\u001b[49m\u001b[43m(\u001b[49m\u001b[43m)\u001b[49m\u001b[43m,\u001b[49m\n\u001b[0;32m   7074\u001b[0m \u001b[43m        \u001b[49m\u001b[43mleft_on\u001b[49m\u001b[38;5;241;43m=\u001b[39;49m\u001b[43mleft_on\u001b[49m\u001b[43m,\u001b[49m\n\u001b[0;32m   7075\u001b[0m \u001b[43m        \u001b[49m\u001b[43mright_on\u001b[49m\u001b[38;5;241;43m=\u001b[39;49m\u001b[43mright_on\u001b[49m\u001b[43m,\u001b[49m\n\u001b[0;32m   7076\u001b[0m \u001b[43m        \u001b[49m\u001b[43mon\u001b[49m\u001b[38;5;241;43m=\u001b[39;49m\u001b[43mon\u001b[49m\u001b[43m,\u001b[49m\n\u001b[0;32m   7077\u001b[0m \u001b[43m        \u001b[49m\u001b[43mhow\u001b[49m\u001b[38;5;241;43m=\u001b[39;49m\u001b[43mhow\u001b[49m\u001b[43m,\u001b[49m\n\u001b[0;32m   7078\u001b[0m \u001b[43m        \u001b[49m\u001b[43msuffix\u001b[49m\u001b[38;5;241;43m=\u001b[39;49m\u001b[43msuffix\u001b[49m\u001b[43m,\u001b[49m\n\u001b[0;32m   7079\u001b[0m \u001b[43m        \u001b[49m\u001b[43mvalidate\u001b[49m\u001b[38;5;241;43m=\u001b[39;49m\u001b[43mvalidate\u001b[49m\u001b[43m,\u001b[49m\n\u001b[0;32m   7080\u001b[0m \u001b[43m        \u001b[49m\u001b[43mjoin_nulls\u001b[49m\u001b[38;5;241;43m=\u001b[39;49m\u001b[43mjoin_nulls\u001b[49m\u001b[43m,\u001b[49m\n\u001b[0;32m   7081\u001b[0m \u001b[43m        \u001b[49m\u001b[43mcoalesce\u001b[49m\u001b[38;5;241;43m=\u001b[39;49m\u001b[43mcoalesce\u001b[49m\u001b[43m,\u001b[49m\n\u001b[0;32m   7082\u001b[0m \u001b[43m    \u001b[49m\u001b[43m)\u001b[49m\n\u001b[1;32m-> 7083\u001b[0m \u001b[43m    \u001b[49m\u001b[38;5;241;43m.\u001b[39;49m\u001b[43mcollect\u001b[49m\u001b[43m(\u001b[49m\u001b[43m_eager\u001b[49m\u001b[38;5;241;43m=\u001b[39;49m\u001b[38;5;28;43;01mTrue\u001b[39;49;00m\u001b[43m)\u001b[49m\n\u001b[0;32m   7084\u001b[0m )\n",
      "File \u001b[1;32m~\\AppData\\Local\\anaconda3\\envs\\polars\\Lib\\site-packages\\polars\\lazyframe\\frame.py:2034\u001b[0m, in \u001b[0;36mLazyFrame.collect\u001b[1;34m(self, type_coercion, predicate_pushdown, projection_pushdown, simplify_expression, slice_pushdown, comm_subplan_elim, comm_subexpr_elim, cluster_with_columns, no_optimization, streaming, engine, background, _eager, **_kwargs)\u001b[0m\n\u001b[0;32m   2032\u001b[0m \u001b[38;5;66;03m# Only for testing purposes\u001b[39;00m\n\u001b[0;32m   2033\u001b[0m callback \u001b[38;5;241m=\u001b[39m _kwargs\u001b[38;5;241m.\u001b[39mget(\u001b[38;5;124m\"\u001b[39m\u001b[38;5;124mpost_opt_callback\u001b[39m\u001b[38;5;124m\"\u001b[39m, callback)\n\u001b[1;32m-> 2034\u001b[0m \u001b[38;5;28;01mreturn\u001b[39;00m wrap_df(\u001b[43mldf\u001b[49m\u001b[38;5;241;43m.\u001b[39;49m\u001b[43mcollect\u001b[49m\u001b[43m(\u001b[49m\u001b[43mcallback\u001b[49m\u001b[43m)\u001b[49m)\n",
      "\u001b[1;31mDuplicateError\u001b[0m: unable to hstack, column with name \"teamID_right\" already exists"
     ]
    }
   ],
   "source": [
    "salaries_final = (salaries\n",
    " .join(batting, on=['yearID', 'playerID'], how='left')\n",
    " .join(fielding, on=['yearID', 'playerID'], how='left')\n",
    "  .join(pitching,['yearID', 'playerID'], how='left'))"
   ]
  },
  {
   "cell_type": "code",
   "execution_count": 27,
   "id": "61fa44eb-6e94-4a63-b994-7625a64a869a",
   "metadata": {},
   "outputs": [
    {
     "ename": "DuplicateError",
     "evalue": "unable to hstack, column with name \"stint_right\" already exists",
     "output_type": "error",
     "traceback": [
      "\u001b[1;31m---------------------------------------------------------------------------\u001b[0m",
      "\u001b[1;31mDuplicateError\u001b[0m                            Traceback (most recent call last)",
      "Cell \u001b[1;32mIn[27], line 15\u001b[0m\n\u001b[0;32m      1\u001b[0m salaries_fielding \u001b[38;5;241m=\u001b[39m (salaries\n\u001b[0;32m      2\u001b[0m         \u001b[38;5;241m.\u001b[39mfilter((pl\u001b[38;5;241m.\u001b[39mcol(\u001b[38;5;124m'\u001b[39m\u001b[38;5;124myearID\u001b[39m\u001b[38;5;124m'\u001b[39m) \u001b[38;5;241m>\u001b[39m\u001b[38;5;241m=\u001b[39m \u001b[38;5;241m2013\u001b[39m))\n\u001b[0;32m      3\u001b[0m         \u001b[38;5;241m.\u001b[39mjoin(\n\u001b[1;32m   (...)\u001b[0m\n\u001b[0;32m      6\u001b[0m          how\u001b[38;5;241m=\u001b[39m\u001b[38;5;124m'\u001b[39m\u001b[38;5;124mleft\u001b[39m\u001b[38;5;124m'\u001b[39m)\n\u001b[0;32m      7\u001b[0m         )\n\u001b[0;32m      8\u001b[0m salaries_batting \u001b[38;5;241m=\u001b[39m (salaries_fielding\n\u001b[0;32m      9\u001b[0m                    \u001b[38;5;241m.\u001b[39mjoin(\n\u001b[0;32m     10\u001b[0m                     batting,\n\u001b[0;32m     11\u001b[0m                     on\u001b[38;5;241m=\u001b[39m[\u001b[38;5;124m'\u001b[39m\u001b[38;5;124mplayerID\u001b[39m\u001b[38;5;124m'\u001b[39m, \u001b[38;5;124m'\u001b[39m\u001b[38;5;124myearID\u001b[39m\u001b[38;5;124m'\u001b[39m, \u001b[38;5;124m'\u001b[39m\u001b[38;5;124mlgID\u001b[39m\u001b[38;5;124m'\u001b[39m, \u001b[38;5;124m'\u001b[39m\u001b[38;5;124mteamID\u001b[39m\u001b[38;5;124m'\u001b[39m],\n\u001b[0;32m     12\u001b[0m                     how\u001b[38;5;241m=\u001b[39m\u001b[38;5;124m'\u001b[39m\u001b[38;5;124mleft\u001b[39m\u001b[38;5;124m'\u001b[39m)\n\u001b[0;32m     13\u001b[0m                    ) \n\u001b[0;32m     14\u001b[0m salaries_pitching \u001b[38;5;241m=\u001b[39m (\u001b[43msalaries_batting\u001b[49m\n\u001b[1;32m---> 15\u001b[0m \u001b[43m                   \u001b[49m\u001b[38;5;241;43m.\u001b[39;49m\u001b[43mjoin\u001b[49m\u001b[43m(\u001b[49m\n\u001b[0;32m     16\u001b[0m \u001b[43m                    \u001b[49m\u001b[43mpitching\u001b[49m\u001b[43m,\u001b[49m\n\u001b[0;32m     17\u001b[0m \u001b[43m                    \u001b[49m\u001b[43mon\u001b[49m\u001b[38;5;241;43m=\u001b[39;49m\u001b[43m[\u001b[49m\u001b[38;5;124;43m'\u001b[39;49m\u001b[38;5;124;43mplayerID\u001b[39;49m\u001b[38;5;124;43m'\u001b[39;49m\u001b[43m,\u001b[49m\u001b[43m \u001b[49m\u001b[38;5;124;43m'\u001b[39;49m\u001b[38;5;124;43myearID\u001b[39;49m\u001b[38;5;124;43m'\u001b[39;49m\u001b[43m,\u001b[49m\u001b[43m \u001b[49m\u001b[38;5;124;43m'\u001b[39;49m\u001b[38;5;124;43mlgID\u001b[39;49m\u001b[38;5;124;43m'\u001b[39;49m\u001b[43m,\u001b[49m\u001b[43m \u001b[49m\u001b[38;5;124;43m'\u001b[39;49m\u001b[38;5;124;43mteamID\u001b[39;49m\u001b[38;5;124;43m'\u001b[39;49m\u001b[43m]\u001b[49m\u001b[43m,\u001b[49m\n\u001b[0;32m     18\u001b[0m \u001b[43m                    \u001b[49m\u001b[43mhow\u001b[49m\u001b[38;5;241;43m=\u001b[39;49m\u001b[38;5;124;43m'\u001b[39;49m\u001b[38;5;124;43mleft\u001b[39;49m\u001b[38;5;124;43m'\u001b[39;49m\u001b[43m)\u001b[49m\n\u001b[0;32m     19\u001b[0m                    ) \n",
      "File \u001b[1;32m~\\AppData\\Local\\anaconda3\\envs\\polars\\Lib\\site-packages\\polars\\dataframe\\frame.py:7083\u001b[0m, in \u001b[0;36mDataFrame.join\u001b[1;34m(self, other, on, how, left_on, right_on, suffix, validate, join_nulls, coalesce)\u001b[0m\n\u001b[0;32m   7067\u001b[0m     msg \u001b[38;5;241m=\u001b[39m \u001b[38;5;124mf\u001b[39m\u001b[38;5;124m\"\u001b[39m\u001b[38;5;124mexpected `other` join table to be a DataFrame, got \u001b[39m\u001b[38;5;132;01m{\u001b[39;00m\u001b[38;5;28mtype\u001b[39m(other)\u001b[38;5;241m.\u001b[39m\u001b[38;5;18m__name__\u001b[39m\u001b[38;5;132;01m!r}\u001b[39;00m\u001b[38;5;124m\"\u001b[39m\n\u001b[0;32m   7068\u001b[0m     \u001b[38;5;28;01mraise\u001b[39;00m \u001b[38;5;167;01mTypeError\u001b[39;00m(msg)\n\u001b[0;32m   7070\u001b[0m \u001b[38;5;28;01mreturn\u001b[39;00m (\n\u001b[0;32m   7071\u001b[0m     \u001b[38;5;28;43mself\u001b[39;49m\u001b[38;5;241;43m.\u001b[39;49m\u001b[43mlazy\u001b[49m\u001b[43m(\u001b[49m\u001b[43m)\u001b[49m\n\u001b[0;32m   7072\u001b[0m \u001b[43m    \u001b[49m\u001b[38;5;241;43m.\u001b[39;49m\u001b[43mjoin\u001b[49m\u001b[43m(\u001b[49m\n\u001b[0;32m   7073\u001b[0m \u001b[43m        \u001b[49m\u001b[43mother\u001b[49m\u001b[38;5;241;43m=\u001b[39;49m\u001b[43mother\u001b[49m\u001b[38;5;241;43m.\u001b[39;49m\u001b[43mlazy\u001b[49m\u001b[43m(\u001b[49m\u001b[43m)\u001b[49m\u001b[43m,\u001b[49m\n\u001b[0;32m   7074\u001b[0m \u001b[43m        \u001b[49m\u001b[43mleft_on\u001b[49m\u001b[38;5;241;43m=\u001b[39;49m\u001b[43mleft_on\u001b[49m\u001b[43m,\u001b[49m\n\u001b[0;32m   7075\u001b[0m \u001b[43m        \u001b[49m\u001b[43mright_on\u001b[49m\u001b[38;5;241;43m=\u001b[39;49m\u001b[43mright_on\u001b[49m\u001b[43m,\u001b[49m\n\u001b[0;32m   7076\u001b[0m \u001b[43m        \u001b[49m\u001b[43mon\u001b[49m\u001b[38;5;241;43m=\u001b[39;49m\u001b[43mon\u001b[49m\u001b[43m,\u001b[49m\n\u001b[0;32m   7077\u001b[0m \u001b[43m        \u001b[49m\u001b[43mhow\u001b[49m\u001b[38;5;241;43m=\u001b[39;49m\u001b[43mhow\u001b[49m\u001b[43m,\u001b[49m\n\u001b[0;32m   7078\u001b[0m \u001b[43m        \u001b[49m\u001b[43msuffix\u001b[49m\u001b[38;5;241;43m=\u001b[39;49m\u001b[43msuffix\u001b[49m\u001b[43m,\u001b[49m\n\u001b[0;32m   7079\u001b[0m \u001b[43m        \u001b[49m\u001b[43mvalidate\u001b[49m\u001b[38;5;241;43m=\u001b[39;49m\u001b[43mvalidate\u001b[49m\u001b[43m,\u001b[49m\n\u001b[0;32m   7080\u001b[0m \u001b[43m        \u001b[49m\u001b[43mjoin_nulls\u001b[49m\u001b[38;5;241;43m=\u001b[39;49m\u001b[43mjoin_nulls\u001b[49m\u001b[43m,\u001b[49m\n\u001b[0;32m   7081\u001b[0m \u001b[43m        \u001b[49m\u001b[43mcoalesce\u001b[49m\u001b[38;5;241;43m=\u001b[39;49m\u001b[43mcoalesce\u001b[49m\u001b[43m,\u001b[49m\n\u001b[0;32m   7082\u001b[0m \u001b[43m    \u001b[49m\u001b[43m)\u001b[49m\n\u001b[1;32m-> 7083\u001b[0m \u001b[43m    \u001b[49m\u001b[38;5;241;43m.\u001b[39;49m\u001b[43mcollect\u001b[49m\u001b[43m(\u001b[49m\u001b[43m_eager\u001b[49m\u001b[38;5;241;43m=\u001b[39;49m\u001b[38;5;28;43;01mTrue\u001b[39;49;00m\u001b[43m)\u001b[49m\n\u001b[0;32m   7084\u001b[0m )\n",
      "File \u001b[1;32m~\\AppData\\Local\\anaconda3\\envs\\polars\\Lib\\site-packages\\polars\\lazyframe\\frame.py:2034\u001b[0m, in \u001b[0;36mLazyFrame.collect\u001b[1;34m(self, type_coercion, predicate_pushdown, projection_pushdown, simplify_expression, slice_pushdown, comm_subplan_elim, comm_subexpr_elim, cluster_with_columns, no_optimization, streaming, engine, background, _eager, **_kwargs)\u001b[0m\n\u001b[0;32m   2032\u001b[0m \u001b[38;5;66;03m# Only for testing purposes\u001b[39;00m\n\u001b[0;32m   2033\u001b[0m callback \u001b[38;5;241m=\u001b[39m _kwargs\u001b[38;5;241m.\u001b[39mget(\u001b[38;5;124m\"\u001b[39m\u001b[38;5;124mpost_opt_callback\u001b[39m\u001b[38;5;124m\"\u001b[39m, callback)\n\u001b[1;32m-> 2034\u001b[0m \u001b[38;5;28;01mreturn\u001b[39;00m wrap_df(\u001b[43mldf\u001b[49m\u001b[38;5;241;43m.\u001b[39;49m\u001b[43mcollect\u001b[49m\u001b[43m(\u001b[49m\u001b[43mcallback\u001b[49m\u001b[43m)\u001b[49m)\n",
      "\u001b[1;31mDuplicateError\u001b[0m: unable to hstack, column with name \"stint_right\" already exists"
     ]
    }
   ],
   "source": [
    "salaries_fielding = (salaries\n",
    "        .filter((pl.col('yearID') >= 2013))\n",
    "        .join(\n",
    "         fielding,\n",
    "         on=['playerID', 'yearID', 'lgID', 'teamID'],\n",
    "         how='left')\n",
    "        )\n",
    "salaries_batting = (salaries_fielding\n",
    "                   .join(\n",
    "                    batting,\n",
    "                    on=['playerID', 'yearID', 'lgID', 'teamID'],\n",
    "                    how='left')\n",
    "                   ) \n",
    "salaries_pitching = (salaries_batting\n",
    "                   .join(\n",
    "                    pitching,\n",
    "                    on=['playerID', 'yearID', 'lgID', 'teamID'],\n",
    "                    how='left')\n",
    "                   ) "
   ]
  }
 ],
 "metadata": {
  "kernelspec": {
   "display_name": "Python 3 (ipykernel)",
   "language": "python",
   "name": "python3"
  },
  "language_info": {
   "codemirror_mode": {
    "name": "ipython",
    "version": 3
   },
   "file_extension": ".py",
   "mimetype": "text/x-python",
   "name": "python",
   "nbconvert_exporter": "python",
   "pygments_lexer": "ipython3",
   "version": "3.12.5"
  }
 },
 "nbformat": 4,
 "nbformat_minor": 5
}
