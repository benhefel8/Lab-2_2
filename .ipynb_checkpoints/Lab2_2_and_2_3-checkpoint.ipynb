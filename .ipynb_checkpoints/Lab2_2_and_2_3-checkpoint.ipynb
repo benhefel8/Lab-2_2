{
 "cells": [
  {
   "cell_type": "markdown",
   "id": "ca2e6128-f254-48e0-b9b2-2852f465fbad",
   "metadata": {},
   "source": [
    "# Reading in Polars and Data"
   ]
  },
  {
   "cell_type": "code",
   "execution_count": 1,
   "id": "3b0619a7-3a78-4904-9d92-0e5cc7823b7d",
   "metadata": {},
   "outputs": [],
   "source": [
    "import polars as pl\n",
    "pl.Config.with_columns_kwargs = True"
   ]
  },
  {
   "cell_type": "code",
   "execution_count": 2,
   "id": "bed6a7f1-6575-4e6a-970d-cd6e2ee0725f",
   "metadata": {},
   "outputs": [
    {
     "data": {
      "text/html": [
       "<div><style>\n",
       ".dataframe > thead > tr,\n",
       ".dataframe > tbody > tr {\n",
       "  text-align: right;\n",
       "  white-space: pre-wrap;\n",
       "}\n",
       "</style>\n",
       "<small>shape: (26_428, 5)</small><table border=\"1\" class=\"dataframe\"><thead><tr><th>yearID</th><th>teamID</th><th>lgID</th><th>playerID</th><th>salary</th></tr><tr><td>i64</td><td>str</td><td>str</td><td>str</td><td>i64</td></tr></thead><tbody><tr><td>1985</td><td>&quot;ATL&quot;</td><td>&quot;NL&quot;</td><td>&quot;barkele01&quot;</td><td>870000</td></tr><tr><td>1985</td><td>&quot;ATL&quot;</td><td>&quot;NL&quot;</td><td>&quot;bedrost01&quot;</td><td>550000</td></tr><tr><td>1985</td><td>&quot;ATL&quot;</td><td>&quot;NL&quot;</td><td>&quot;benedbr01&quot;</td><td>545000</td></tr><tr><td>1985</td><td>&quot;ATL&quot;</td><td>&quot;NL&quot;</td><td>&quot;campri01&quot;</td><td>633333</td></tr><tr><td>1985</td><td>&quot;ATL&quot;</td><td>&quot;NL&quot;</td><td>&quot;ceronri01&quot;</td><td>625000</td></tr><tr><td>&hellip;</td><td>&hellip;</td><td>&hellip;</td><td>&hellip;</td><td>&hellip;</td></tr><tr><td>2016</td><td>&quot;WAS&quot;</td><td>&quot;NL&quot;</td><td>&quot;strasst01&quot;</td><td>10400000</td></tr><tr><td>2016</td><td>&quot;WAS&quot;</td><td>&quot;NL&quot;</td><td>&quot;taylomi02&quot;</td><td>524000</td></tr><tr><td>2016</td><td>&quot;WAS&quot;</td><td>&quot;NL&quot;</td><td>&quot;treinbl01&quot;</td><td>524900</td></tr><tr><td>2016</td><td>&quot;WAS&quot;</td><td>&quot;NL&quot;</td><td>&quot;werthja01&quot;</td><td>21733615</td></tr><tr><td>2016</td><td>&quot;WAS&quot;</td><td>&quot;NL&quot;</td><td>&quot;zimmery01&quot;</td><td>14000000</td></tr></tbody></table></div>"
      ],
      "text/plain": [
       "shape: (26_428, 5)\n",
       "┌────────┬────────┬──────┬───────────┬──────────┐\n",
       "│ yearID ┆ teamID ┆ lgID ┆ playerID  ┆ salary   │\n",
       "│ ---    ┆ ---    ┆ ---  ┆ ---       ┆ ---      │\n",
       "│ i64    ┆ str    ┆ str  ┆ str       ┆ i64      │\n",
       "╞════════╪════════╪══════╪═══════════╪══════════╡\n",
       "│ 1985   ┆ ATL    ┆ NL   ┆ barkele01 ┆ 870000   │\n",
       "│ 1985   ┆ ATL    ┆ NL   ┆ bedrost01 ┆ 550000   │\n",
       "│ 1985   ┆ ATL    ┆ NL   ┆ benedbr01 ┆ 545000   │\n",
       "│ 1985   ┆ ATL    ┆ NL   ┆ campri01  ┆ 633333   │\n",
       "│ 1985   ┆ ATL    ┆ NL   ┆ ceronri01 ┆ 625000   │\n",
       "│ …      ┆ …      ┆ …    ┆ …         ┆ …        │\n",
       "│ 2016   ┆ WAS    ┆ NL   ┆ strasst01 ┆ 10400000 │\n",
       "│ 2016   ┆ WAS    ┆ NL   ┆ taylomi02 ┆ 524000   │\n",
       "│ 2016   ┆ WAS    ┆ NL   ┆ treinbl01 ┆ 524900   │\n",
       "│ 2016   ┆ WAS    ┆ NL   ┆ werthja01 ┆ 21733615 │\n",
       "│ 2016   ┆ WAS    ┆ NL   ┆ zimmery01 ┆ 14000000 │\n",
       "└────────┴────────┴──────┴───────────┴──────────┘"
      ]
     },
     "execution_count": 2,
     "metadata": {},
     "output_type": "execute_result"
    }
   ],
   "source": [
    "batting = pl.read_csv('Data/lahman baseball data/Batting.csv')\n",
    "pitching = pl.read_csv('Data/lahman baseball data/Pitching.csv')\n",
    "fielding = pl.read_csv('Data/lahman baseball data/Fielding.csv')\n",
    "awards = pl.read_csv('Data/lahman baseball data/AwardsPlayers.csv')\n",
    "salaries = pl.read_csv('Data/lahman baseball data/Salaries.csv')\n",
    "salaries"
   ]
  },
  {
   "cell_type": "markdown",
   "id": "c8a38c58-c92e-49d4-bc75-fced280fb958",
   "metadata": {},
   "source": [
    "# Gold Glove Data Set"
   ]
  },
  {
   "cell_type": "code",
   "execution_count": 3,
   "id": "a4324954-6b89-4c71-a0db-2dfe917cc258",
   "metadata": {},
   "outputs": [
    {
     "data": {
      "text/html": [
       "<div><style>\n",
       ".dataframe > thead > tr,\n",
       ".dataframe > tbody > tr {\n",
       "  text-align: right;\n",
       "  white-space: pre-wrap;\n",
       "}\n",
       "</style>\n",
       "<small>shape: (21_356, 16)</small><table border=\"1\" class=\"dataframe\"><thead><tr><th>playerID</th><th>yearID</th><th>lgID</th><th>POS</th><th>InnOuts</th><th>PO</th><th>A</th><th>E</th><th>DP</th><th>PB</th><th>WP</th><th>SB</th><th>CS</th><th>ZR</th><th>Gold Glove?</th><th>Training-Validation</th></tr><tr><td>str</td><td>i64</td><td>str</td><td>str</td><td>i64</td><td>i64</td><td>i64</td><td>i64</td><td>i64</td><td>i64</td><td>i64</td><td>i64</td><td>i64</td><td>i64</td><td>str</td><td>str</td></tr></thead><tbody><tr><td>&quot;borucry01&quot;</td><td>2020</td><td>&quot;AL&quot;</td><td>&quot;P&quot;</td><td>50</td><td>0</td><td>1</td><td>0</td><td>0</td><td>0</td><td>0</td><td>0</td><td>0</td><td>0</td><td>&quot;No&quot;</td><td>&quot;Training&quot;</td></tr><tr><td>&quot;burleal01&quot;</td><td>2022</td><td>&quot;NL&quot;</td><td>&quot;OF&quot;</td><td>216</td><td>16</td><td>0</td><td>0</td><td>0</td><td>0</td><td>0</td><td>0</td><td>0</td><td>0</td><td>&quot;No&quot;</td><td>&quot;Training&quot;</td></tr><tr><td>&quot;farmeky01&quot;</td><td>2021</td><td>&quot;NL&quot;</td><td>&quot;3B&quot;</td><td>197</td><td>4</td><td>9</td><td>1</td><td>1</td><td>0</td><td>0</td><td>0</td><td>0</td><td>0</td><td>&quot;No&quot;</td><td>&quot;Training&quot;</td></tr><tr><td>&quot;herrmch01&quot;</td><td>2014</td><td>&quot;AL&quot;</td><td>&quot;OF&quot;</td><td>474</td><td>32</td><td>0</td><td>1</td><td>0</td><td>0</td><td>0</td><td>0</td><td>0</td><td>0</td><td>&quot;No&quot;</td><td>&quot;Training&quot;</td></tr><tr><td>&quot;luplojo01&quot;</td><td>2019</td><td>&quot;AL&quot;</td><td>&quot;OF&quot;</td><td>1566</td><td>117</td><td>5</td><td>0</td><td>1</td><td>0</td><td>0</td><td>0</td><td>0</td><td>0</td><td>&quot;No&quot;</td><td>&quot;Training&quot;</td></tr><tr><td>&hellip;</td><td>&hellip;</td><td>&hellip;</td><td>&hellip;</td><td>&hellip;</td><td>&hellip;</td><td>&hellip;</td><td>&hellip;</td><td>&hellip;</td><td>&hellip;</td><td>&hellip;</td><td>&hellip;</td><td>&hellip;</td><td>&hellip;</td><td>&hellip;</td><td>&hellip;</td></tr><tr><td>&quot;figgich01&quot;</td><td>2014</td><td>&quot;NL&quot;</td><td>&quot;SS&quot;</td><td>18</td><td>1</td><td>0</td><td>0</td><td>0</td><td>0</td><td>0</td><td>0</td><td>0</td><td>0</td><td>&quot;No&quot;</td><td>&quot;Training&quot;</td></tr><tr><td>&quot;hillaa01&quot;</td><td>2013</td><td>&quot;NL&quot;</td><td>&quot;2B&quot;</td><td>2223</td><td>150</td><td>232</td><td>2</td><td>48</td><td>0</td><td>0</td><td>0</td><td>0</td><td>0</td><td>&quot;No&quot;</td><td>&quot;Training&quot;</td></tr><tr><td>&quot;mejiaje02&quot;</td><td>2023</td><td>&quot;NL&quot;</td><td>&quot;P&quot;</td><td>34</td><td>0</td><td>1</td><td>0</td><td>0</td><td>0</td><td>0</td><td>0</td><td>0</td><td>0</td><td>&quot;No&quot;</td><td>&quot;Validation&quot;</td></tr><tr><td>&quot;stewaia01&quot;</td><td>2014</td><td>&quot;AL&quot;</td><td>&quot;1B&quot;</td><td>75</td><td>24</td><td>1</td><td>0</td><td>1</td><td>0</td><td>0</td><td>0</td><td>0</td><td>0</td><td>&quot;No&quot;</td><td>&quot;Training&quot;</td></tr><tr><td>&quot;youngde03&quot;</td><td>2013</td><td>&quot;NL&quot;</td><td>&quot;OF&quot;</td><td>1507</td><td>115</td><td>4</td><td>5</td><td>2</td><td>0</td><td>0</td><td>0</td><td>0</td><td>0</td><td>&quot;No&quot;</td><td>&quot;Training&quot;</td></tr></tbody></table></div>"
      ],
      "text/plain": [
       "shape: (21_356, 16)\n",
       "┌───────────┬────────┬──────┬─────┬───┬─────┬─────┬─────────────┬─────────────────────┐\n",
       "│ playerID  ┆ yearID ┆ lgID ┆ POS ┆ … ┆ CS  ┆ ZR  ┆ Gold Glove? ┆ Training-Validation │\n",
       "│ ---       ┆ ---    ┆ ---  ┆ --- ┆   ┆ --- ┆ --- ┆ ---         ┆ ---                 │\n",
       "│ str       ┆ i64    ┆ str  ┆ str ┆   ┆ i64 ┆ i64 ┆ str         ┆ str                 │\n",
       "╞═══════════╪════════╪══════╪═════╪═══╪═════╪═════╪═════════════╪═════════════════════╡\n",
       "│ borucry01 ┆ 2020   ┆ AL   ┆ P   ┆ … ┆ 0   ┆ 0   ┆ No          ┆ Training            │\n",
       "│ burleal01 ┆ 2022   ┆ NL   ┆ OF  ┆ … ┆ 0   ┆ 0   ┆ No          ┆ Training            │\n",
       "│ farmeky01 ┆ 2021   ┆ NL   ┆ 3B  ┆ … ┆ 0   ┆ 0   ┆ No          ┆ Training            │\n",
       "│ herrmch01 ┆ 2014   ┆ AL   ┆ OF  ┆ … ┆ 0   ┆ 0   ┆ No          ┆ Training            │\n",
       "│ luplojo01 ┆ 2019   ┆ AL   ┆ OF  ┆ … ┆ 0   ┆ 0   ┆ No          ┆ Training            │\n",
       "│ …         ┆ …      ┆ …    ┆ …   ┆ … ┆ …   ┆ …   ┆ …           ┆ …                   │\n",
       "│ figgich01 ┆ 2014   ┆ NL   ┆ SS  ┆ … ┆ 0   ┆ 0   ┆ No          ┆ Training            │\n",
       "│ hillaa01  ┆ 2013   ┆ NL   ┆ 2B  ┆ … ┆ 0   ┆ 0   ┆ No          ┆ Training            │\n",
       "│ mejiaje02 ┆ 2023   ┆ NL   ┆ P   ┆ … ┆ 0   ┆ 0   ┆ No          ┆ Validation          │\n",
       "│ stewaia01 ┆ 2014   ┆ AL   ┆ 1B  ┆ … ┆ 0   ┆ 0   ┆ No          ┆ Training            │\n",
       "│ youngde03 ┆ 2013   ┆ NL   ┆ OF  ┆ … ┆ 0   ┆ 0   ┆ No          ┆ Training            │\n",
       "└───────────┴────────┴──────┴─────┴───┴─────┴─────┴─────────────┴─────────────────────┘"
      ]
     },
     "execution_count": 3,
     "metadata": {},
     "output_type": "execute_result"
    }
   ],
   "source": [
    "fielding_awards = (fielding\n",
    ".filter((pl.col('yearID') >= 2013))\n",
    ".join(\n",
    "     awards.rename({\"notes\": \"POS\"}) \n",
    "           .select(['playerID', 'yearID', 'awardID', 'lgID', 'POS'])  \n",
    "           .filter((pl.col('awardID') == 'Gold Glove') & (pl.col('yearID') >= 2013)),\n",
    "      on=['playerID', 'yearID', 'lgID'],\n",
    "      how='left'\n",
    "     )\n",
    ".group_by(['playerID','yearID', 'lgID', 'POS', 'awardID'])\n",
    ".agg(\n",
    "     pl.col('InnOuts').sum().alias('InnOuts'),\n",
    "     pl.col('PO').sum().alias('PO'),\n",
    "     pl.col('A').sum().alias('A'),\n",
    "     pl.col('E').sum().alias('E'),\n",
    "     pl.col('DP').sum().alias('DP'),\n",
    "     pl.col('PB').cast(int).sum().alias('PB'),\n",
    "     pl.col('WP').cast(int).sum().alias('WP'),\n",
    "     pl.col('SB').cast(int).sum().alias('SB'),\n",
    "     pl.col('CS').cast(int).sum().alias('CS'),\n",
    "     pl.col('ZR').cast(int).sum().alias('ZR') \n",
    "    )    \n",
    ".with_columns(\n",
    "        pl.when(pl.col('awardID').is_null())\n",
    "          .then(pl.lit('No'))\n",
    "          .otherwise(pl.lit('Yes'))\n",
    "          .alias('Gold Glove?'),\n",
    "         pl.when(pl.col('yearID') == 2023)\n",
    "          .then(pl.lit('Validation'))\n",
    "          .otherwise(pl.lit('Training'))\n",
    "          .alias('Training-Validation')\n",
    "              )\n",
    ".drop(pl.col('awardID'))\n",
    "                  )\n",
    "# fielding_awards = fielding_awards.filter(pl.col('Gold Glove?') == 'Yes', pl.col('POS') == 'C', pl.col('yearID') == 2017)\n",
    "fielding_awards.write_csv('data/fielding_awards.csv')\n",
    "\n",
    "fielding_awards"
   ]
  },
  {
   "cell_type": "markdown",
   "id": "9e7fa5cd-588e-4505-8289-47516a746291",
   "metadata": {},
   "source": [
    "# Salary Dataset"
   ]
  },
  {
   "cell_type": "code",
   "execution_count": 4,
   "id": "921fc61f-4264-4547-9e3f-a7f99e994c7c",
   "metadata": {},
   "outputs": [
    {
     "data": {
      "text/html": [
       "<div><style>\n",
       ".dataframe > thead > tr,\n",
       ".dataframe > tbody > tr {\n",
       "  text-align: right;\n",
       "  white-space: pre-wrap;\n",
       "}\n",
       "</style>\n",
       "<small>shape: (9_131, 51)</small><table border=\"1\" class=\"dataframe\"><thead><tr><th>playerID</th><th>yearID</th><th>salary</th><th>InnOuts</th><th>PO</th><th>A</th><th>E</th><th>DP</th><th>PB</th><th>WP</th><th>SB</th><th>CS</th><th>ZR</th><th>G</th><th>AB</th><th>R</th><th>H</th><th>2B</th><th>3B</th><th>HR</th><th>SB_batting</th><th>CS_batting</th><th>BB_batting</th><th>SO_batting</th><th>IBB_batting</th><th>HBP_batting</th><th>Sacrifice Hits</th><th>Sacrifice Flies</th><th>GIDP</th><th>GS</th><th>CG</th><th>SHO</th><th>SV</th><th>IPOuts</th><th>H_pitching</th><th>ER_pitching</th><th>HR_pitching</th><th>BB_pitching</th><th>SO_pitching</th><th>BAOpp</th><th>ERA_pitching</th><th>IBB_pitching</th><th>WP_pitching</th><th>HBP_pitching</th><th>Balk</th><th>Batters Faced by Pitcher</th><th>Games Finished</th><th>SH_pitching</th><th>SF_pitching</th><th>GIDP_pitching</th><th>Training-Validation</th></tr><tr><td>str</td><td>i64</td><td>i64</td><td>i64</td><td>i64</td><td>i64</td><td>i64</td><td>i64</td><td>i64</td><td>i64</td><td>i64</td><td>i64</td><td>i64</td><td>i64</td><td>i64</td><td>i64</td><td>i64</td><td>i64</td><td>i64</td><td>i64</td><td>i64</td><td>i64</td><td>i64</td><td>i64</td><td>i64</td><td>i64</td><td>i64</td><td>i64</td><td>i64</td><td>i64</td><td>i64</td><td>i64</td><td>i64</td><td>i64</td><td>i64</td><td>i64</td><td>i64</td><td>i64</td><td>i64</td><td>f64</td><td>f64</td><td>i64</td><td>i64</td><td>i64</td><td>i64</td><td>i64</td><td>i64</td><td>i64</td><td>i64</td><td>i64</td><td>str</td></tr></thead><tbody><tr><td>&quot;wolteto01&quot;</td><td>2016</td><td>1522500</td><td>1550</td><td>451</td><td>39</td><td>7</td><td>1</td><td>3</td><td>0</td><td>27</td><td>12</td><td>0</td><td>69</td><td>0</td><td>0</td><td>0</td><td>0</td><td>0</td><td>0</td><td>0</td><td>0</td><td>0</td><td>0</td><td>0</td><td>0</td><td>0</td><td>0</td><td>0</td><td>58</td><td>0</td><td>0</td><td>0</td><td>0</td><td>0</td><td>0</td><td>0</td><td>0</td><td>0</td><td>0.0</td><td>0.0</td><td>0</td><td>0</td><td>0</td><td>0</td><td>0</td><td>0</td><td>0</td><td>0</td><td>0</td><td>&quot;Validation&quot;</td></tr><tr><td>&quot;layneto01&quot;</td><td>2016</td><td>563750</td><td>86</td><td>3</td><td>5</td><td>1</td><td>1</td><td>0</td><td>0</td><td>0</td><td>0</td><td>0</td><td>34</td><td>0</td><td>0</td><td>0</td><td>0</td><td>0</td><td>0</td><td>0</td><td>0</td><td>0</td><td>0</td><td>0</td><td>0</td><td>0</td><td>0</td><td>0</td><td>0</td><td>0</td><td>0</td><td>0</td><td>86</td><td>27</td><td>12</td><td>1</td><td>14</td><td>25</td><td>0.26</td><td>3.77</td><td>2</td><td>1</td><td>1</td><td>0</td><td>120</td><td>12</td><td>0</td><td>0</td><td>3</td><td>&quot;Validation&quot;</td></tr><tr><td>&quot;sabatcc01&quot;</td><td>2006</td><td>7000000</td><td>578</td><td>7</td><td>15</td><td>3</td><td>1</td><td>0</td><td>0</td><td>0</td><td>0</td><td>0</td><td>28</td><td>9</td><td>0</td><td>2</td><td>0</td><td>0</td><td>0</td><td>0</td><td>0</td><td>0</td><td>5</td><td>0</td><td>0</td><td>0</td><td>0</td><td>0</td><td>28</td><td>6</td><td>2</td><td>0</td><td>578</td><td>182</td><td>69</td><td>17</td><td>44</td><td>172</td><td>0.247</td><td>3.22</td><td>3</td><td>3</td><td>7</td><td>0</td><td>802</td><td>0</td><td>0</td><td>0</td><td>16</td><td>&quot;Training&quot;</td></tr><tr><td>&quot;roberbr01&quot;</td><td>2014</td><td>2000000</td><td>2324</td><td>135</td><td>239</td><td>10</td><td>34</td><td>0</td><td>0</td><td>0</td><td>0</td><td>0</td><td>91</td><td>317</td><td>40</td><td>75</td><td>16</td><td>4</td><td>5</td><td>7</td><td>4</td><td>28</td><td>53</td><td>1</td><td>1</td><td>1</td><td>1</td><td>9</td><td>85</td><td>0</td><td>0</td><td>0</td><td>0</td><td>0</td><td>0</td><td>0</td><td>0</td><td>0</td><td>0.0</td><td>0.0</td><td>0</td><td>0</td><td>0</td><td>0</td><td>0</td><td>0</td><td>1</td><td>1</td><td>0</td><td>&quot;Training&quot;</td></tr><tr><td>&quot;gonzaad01&quot;</td><td>2007</td><td>500000</td><td>4388</td><td>1470</td><td>140</td><td>10</td><td>134</td><td>0</td><td>0</td><td>0</td><td>0</td><td>0</td><td>161</td><td>646</td><td>101</td><td>182</td><td>46</td><td>3</td><td>30</td><td>0</td><td>0</td><td>65</td><td>140</td><td>9</td><td>3</td><td>0</td><td>6</td><td>6</td><td>161</td><td>0</td><td>0</td><td>0</td><td>0</td><td>0</td><td>0</td><td>0</td><td>0</td><td>0</td><td>0.0</td><td>0.0</td><td>0</td><td>0</td><td>0</td><td>0</td><td>0</td><td>0</td><td>0</td><td>6</td><td>0</td><td>&quot;Training&quot;</td></tr><tr><td>&hellip;</td><td>&hellip;</td><td>&hellip;</td><td>&hellip;</td><td>&hellip;</td><td>&hellip;</td><td>&hellip;</td><td>&hellip;</td><td>&hellip;</td><td>&hellip;</td><td>&hellip;</td><td>&hellip;</td><td>&hellip;</td><td>&hellip;</td><td>&hellip;</td><td>&hellip;</td><td>&hellip;</td><td>&hellip;</td><td>&hellip;</td><td>&hellip;</td><td>&hellip;</td><td>&hellip;</td><td>&hellip;</td><td>&hellip;</td><td>&hellip;</td><td>&hellip;</td><td>&hellip;</td><td>&hellip;</td><td>&hellip;</td><td>&hellip;</td><td>&hellip;</td><td>&hellip;</td><td>&hellip;</td><td>&hellip;</td><td>&hellip;</td><td>&hellip;</td><td>&hellip;</td><td>&hellip;</td><td>&hellip;</td><td>&hellip;</td><td>&hellip;</td><td>&hellip;</td><td>&hellip;</td><td>&hellip;</td><td>&hellip;</td><td>&hellip;</td><td>&hellip;</td><td>&hellip;</td><td>&hellip;</td><td>&hellip;</td><td>&hellip;</td></tr><tr><td>&quot;morrobr01&quot;</td><td>2010</td><td>409800</td><td>439</td><td>4</td><td>12</td><td>0</td><td>2</td><td>0</td><td>0</td><td>0</td><td>0</td><td>0</td><td>26</td><td>3</td><td>0</td><td>0</td><td>0</td><td>0</td><td>0</td><td>0</td><td>0</td><td>0</td><td>1</td><td>0</td><td>0</td><td>0</td><td>0</td><td>0</td><td>26</td><td>1</td><td>1</td><td>0</td><td>439</td><td>136</td><td>73</td><td>11</td><td>66</td><td>178</td><td>0.248</td><td>4.49</td><td>0</td><td>8</td><td>9</td><td>0</td><td>629</td><td>0</td><td>0</td><td>0</td><td>9</td><td>&quot;Training&quot;</td></tr><tr><td>&quot;glavito02&quot;</td><td>2006</td><td>9993640</td><td>594</td><td>11</td><td>43</td><td>4</td><td>3</td><td>0</td><td>0</td><td>0</td><td>0</td><td>0</td><td>32</td><td>53</td><td>6</td><td>9</td><td>1</td><td>0</td><td>0</td><td>0</td><td>0</td><td>7</td><td>18</td><td>0</td><td>0</td><td>10</td><td>0</td><td>2</td><td>32</td><td>0</td><td>0</td><td>0</td><td>594</td><td>202</td><td>84</td><td>22</td><td>62</td><td>131</td><td>0.267</td><td>3.82</td><td>7</td><td>1</td><td>6</td><td>0</td><td>842</td><td>0</td><td>10</td><td>0</td><td>18</td><td>&quot;Training&quot;</td></tr><tr><td>&quot;sheffga01&quot;</td><td>2008</td><td>13326306</td><td>141</td><td>13</td><td>0</td><td>0</td><td>0</td><td>0</td><td>0</td><td>0</td><td>0</td><td>0</td><td>6</td><td>0</td><td>0</td><td>0</td><td>0</td><td>0</td><td>0</td><td>0</td><td>0</td><td>0</td><td>0</td><td>0</td><td>0</td><td>0</td><td>0</td><td>0</td><td>6</td><td>0</td><td>0</td><td>0</td><td>0</td><td>0</td><td>0</td><td>0</td><td>0</td><td>0</td><td>0.0</td><td>0.0</td><td>0</td><td>0</td><td>0</td><td>0</td><td>0</td><td>0</td><td>0</td><td>0</td><td>0</td><td>&quot;Training&quot;</td></tr><tr><td>&quot;sanchan02&quot;</td><td>2013</td><td>505000</td><td>10</td><td>0</td><td>1</td><td>0</td><td>0</td><td>0</td><td>0</td><td>0</td><td>0</td><td>0</td><td>1</td><td>2</td><td>0</td><td>0</td><td>0</td><td>0</td><td>0</td><td>0</td><td>0</td><td>0</td><td>0</td><td>0</td><td>0</td><td>0</td><td>0</td><td>0</td><td>0</td><td>0</td><td>0</td><td>0</td><td>0</td><td>0</td><td>0</td><td>0</td><td>0</td><td>0</td><td>0.0</td><td>0.0</td><td>0</td><td>0</td><td>0</td><td>0</td><td>0</td><td>0</td><td>0</td><td>0</td><td>0</td><td>&quot;Training&quot;</td></tr><tr><td>&quot;mateoju01&quot;</td><td>2006</td><td>700000</td><td>161</td><td>1</td><td>4</td><td>1</td><td>1</td><td>0</td><td>0</td><td>0</td><td>0</td><td>0</td><td>48</td><td>0</td><td>0</td><td>0</td><td>0</td><td>0</td><td>0</td><td>0</td><td>0</td><td>0</td><td>0</td><td>0</td><td>0</td><td>0</td><td>0</td><td>0</td><td>0</td><td>0</td><td>0</td><td>0</td><td>161</td><td>62</td><td>25</td><td>6</td><td>22</td><td>31</td><td>0.297</td><td>4.19</td><td>8</td><td>1</td><td>3</td><td>0</td><td>241</td><td>13</td><td>0</td><td>0</td><td>4</td><td>&quot;Training&quot;</td></tr></tbody></table></div>"
      ],
      "text/plain": [
       "shape: (9_131, 51)\n",
       "┌───────────┬────────┬──────────┬─────────┬───┬─────────────┬────────────┬────────────┬────────────┐\n",
       "│ playerID  ┆ yearID ┆ salary   ┆ InnOuts ┆ … ┆ SH_pitching ┆ SF_pitchin ┆ GIDP_pitch ┆ Training-V │\n",
       "│ ---       ┆ ---    ┆ ---      ┆ ---     ┆   ┆ ---         ┆ g          ┆ ing        ┆ alidation  │\n",
       "│ str       ┆ i64    ┆ i64      ┆ i64     ┆   ┆ i64         ┆ ---        ┆ ---        ┆ ---        │\n",
       "│           ┆        ┆          ┆         ┆   ┆             ┆ i64        ┆ i64        ┆ str        │\n",
       "╞═══════════╪════════╪══════════╪═════════╪═══╪═════════════╪════════════╪════════════╪════════════╡\n",
       "│ wolteto01 ┆ 2016   ┆ 1522500  ┆ 1550    ┆ … ┆ 0           ┆ 0          ┆ 0          ┆ Validation │\n",
       "│ layneto01 ┆ 2016   ┆ 563750   ┆ 86      ┆ … ┆ 0           ┆ 0          ┆ 3          ┆ Validation │\n",
       "│ sabatcc01 ┆ 2006   ┆ 7000000  ┆ 578     ┆ … ┆ 0           ┆ 0          ┆ 16         ┆ Training   │\n",
       "│ roberbr01 ┆ 2014   ┆ 2000000  ┆ 2324    ┆ … ┆ 1           ┆ 1          ┆ 0          ┆ Training   │\n",
       "│ gonzaad01 ┆ 2007   ┆ 500000   ┆ 4388    ┆ … ┆ 0           ┆ 6          ┆ 0          ┆ Training   │\n",
       "│ …         ┆ …      ┆ …        ┆ …       ┆ … ┆ …           ┆ …          ┆ …          ┆ …          │\n",
       "│ morrobr01 ┆ 2010   ┆ 409800   ┆ 439     ┆ … ┆ 0           ┆ 0          ┆ 9          ┆ Training   │\n",
       "│ glavito02 ┆ 2006   ┆ 9993640  ┆ 594     ┆ … ┆ 10          ┆ 0          ┆ 18         ┆ Training   │\n",
       "│ sheffga01 ┆ 2008   ┆ 13326306 ┆ 141     ┆ … ┆ 0           ┆ 0          ┆ 0          ┆ Training   │\n",
       "│ sanchan02 ┆ 2013   ┆ 505000   ┆ 10      ┆ … ┆ 0           ┆ 0          ┆ 0          ┆ Training   │\n",
       "│ mateoju01 ┆ 2006   ┆ 700000   ┆ 161     ┆ … ┆ 0           ┆ 0          ┆ 4          ┆ Training   │\n",
       "└───────────┴────────┴──────────┴─────────┴───┴─────────────┴────────────┴────────────┴────────────┘"
      ]
     },
     "execution_count": 4,
     "metadata": {},
     "output_type": "execute_result"
    }
   ],
   "source": [
    "salaries_final = (salaries\n",
    ".filter(pl.col('yearID') >= 2006)\n",
    ".join(fielding\n",
    "        .filter(pl.col('yearID') >= 2006),\n",
    "        on=['playerID', 'yearID', 'lgID', 'teamID'],\n",
    "        how='left'\n",
    "     )\n",
    ".join(batting\n",
    "        .rename({\"CS\": \"CS_batting\", \"SB\": \"SB_Batting\"})\n",
    "        .filter(pl.col('yearID') >= 2006),\n",
    "        on=['playerID', 'yearID', 'teamID', 'stint', 'lgID', 'G'],\n",
    "        how='left',\n",
    "     )\n",
    ".join(pitching\n",
    "        .rename({\n",
    "            \"GIDP\": \"GIDP_pitching\", \"H\": \"H_pitching\", \"HR\": \"HR_pitching\", \"BB\": \"BB_pitching\",\n",
    "            \"SO\": \"SO_pitching\", \"IBB\": \"IBB_pitching\", \"WP\": \"WP_pitching\", \"HBP\": \"HBP_pitching\",\n",
    "            \"SH\": \"SH_pitching\", \"SF\": \"SF_pitching\", \"R\": \"R_pitching\", \"GIDP\": \"GIDP_pitching\"\n",
    "                })\n",
    "        .filter(pl.col('yearID') >= 2006),\n",
    "        on=['playerID', 'yearID', 'teamID', 'stint', 'lgID', 'G', 'GS'],\n",
    "        how='left'\n",
    "     )\n",
    ".group_by(['playerID','yearID'])\n",
    ".agg(\n",
    "     pl.col('salary').sum().alias('salary'),\n",
    "     pl.col('InnOuts').sum().alias('InnOuts'),\n",
    "     pl.col('PO').sum().alias('PO'),\n",
    "     pl.col('A').sum().alias('A'),\n",
    "     pl.col('E').sum().alias('E'),\n",
    "     pl.col('DP').sum().alias('DP'),\n",
    "     pl.col('PB').cast(int).sum().alias('PB'),\n",
    "     pl.col('WP').cast(int).sum().alias('WP'),\n",
    "     pl.col('SB').cast(int).sum().alias('SB'),\n",
    "     pl.col('CS').cast(int).sum().alias('CS'),\n",
    "     pl.col('ZR').cast(int).sum().alias('ZR'),\n",
    "     pl.col('G').sum().alias('G'),\n",
    "     pl.col('AB').sum().alias('AB'),\n",
    "     pl.col('R').sum().alias('R'),\n",
    "     pl.col('H').sum().alias('H'),\n",
    "     pl.col('2B').sum().alias('2B'),\n",
    "     pl.col('3B').sum().alias('3B'),\n",
    "     pl.col('HR').sum().alias('HR'),\n",
    "     pl.col('SB_Batting').sum().alias('SB_batting'),\n",
    "     pl.col('CS_batting').sum().alias('CS_batting'),\n",
    "     pl.col('BB').sum().alias('BB_batting'),\n",
    "     pl.col('SO').sum().alias('SO_batting'),\n",
    "     pl.col('IBB').sum().alias('IBB_batting'),\n",
    "     pl.col('HBP').sum().alias('HBP_batting'),\n",
    "     pl.col('SH').sum().alias('Sacrifice Hits'),\n",
    "     pl.col('SF').sum().alias('Sacrifice Flies'),\n",
    "     pl.col('GIDP').sum().alias('GIDP'),\n",
    "     pl.col('GS').sum().alias('GS'),\n",
    "     pl.col('CG').sum().alias('CG'),\n",
    "     pl.col('SHO').sum().alias('SHO'),\n",
    "     pl.col('SV').sum().alias('SV'),\n",
    "     pl.col('IPouts').sum().alias('IPOuts'),\n",
    "     pl.col('H_pitching').sum().alias('H_pitching'),\n",
    "     pl.col('ER').sum().alias('ER_pitching'),\n",
    "     pl.col('HR_pitching').sum().alias('HR_pitching'),\n",
    "     pl.col('BB_pitching').sum().alias('BB_pitching'),\n",
    "     pl.col('SO_pitching').sum().alias('SO_pitching'),\n",
    "     pl.col('BAOpp').sum().alias('BAOpp'),\n",
    "     pl.col('ERA').sum().alias('ERA_pitching'),\n",
    "     pl.col('IBB_pitching').sum().alias('IBB_pitching'),\n",
    "     pl.col('WP_pitching').sum().alias('WP_pitching'),\n",
    "     pl.col('HBP_pitching').sum().alias('HBP_pitching'),\n",
    "     pl.col('BK').sum().alias('Balk'),\n",
    "     pl.col('BFP').sum().alias('Batters Faced by Pitcher'),\n",
    "     pl.col('GF').sum().alias('Games Finished'),\n",
    "     pl.col('SH').sum().alias('SH_pitching'),\n",
    "     pl.col('SF').sum().alias('SF_pitching'),\n",
    "     pl.col('GIDP_pitching').sum().alias('GIDP_pitching')\n",
    "    )   \n",
    ".with_columns(\n",
    "         pl.when(pl.col('yearID') == 2016)\n",
    "          .then(pl.lit('Validation'))\n",
    "          .otherwise(pl.lit('Training'))\n",
    "          .alias('Training-Validation')\n",
    "               )\n",
    ")\n",
    "salaries_final.write_csv('data/salaries_final.csv')\n",
    "salaries_final"
   ]
  },
  {
   "cell_type": "code",
   "execution_count": null,
   "id": "dfdb8bb9-60b9-421a-9d88-92cba6cf66fc",
   "metadata": {},
   "outputs": [],
   "source": []
  },
  {
   "cell_type": "markdown",
   "id": "9cf6544c-39bb-40a9-b316-bc4c5a7e6d32",
   "metadata": {},
   "source": [
    "# Classification Problem"
   ]
  },
  {
   "cell_type": "markdown",
   "id": "5051a91b-95bf-421c-b199-419213aa95df",
   "metadata": {},
   "source": [
    "## Setting Up"
   ]
  },
  {
   "cell_type": "code",
   "execution_count": 5,
   "id": "896ab002-b450-42bc-9634-dbc20d30f934",
   "metadata": {},
   "outputs": [],
   "source": [
    "import sklearn\n",
    "import pandas as pd\n",
    "import numpy as np\n",
    "import matplotlib.pyplot as plt"
   ]
  },
  {
   "cell_type": "code",
   "execution_count": 6,
   "id": "9c73e321-84a0-4837-a924-811d8754776d",
   "metadata": {},
   "outputs": [],
   "source": [
    "from sklearn.metrics import confusion_matrix\n",
    "\n",
    "def get_metrics(y_true, y_pred, labels=None):\n",
    "    \"\"\" Compute various measures from a confusion matrix\n",
    "\n",
    "    Args:\n",
    "        y_true: a column of the true labels.\n",
    "        y_pred: a column of the predicted labels.\n",
    "    Returns:\n",
    "        A dictionary of metrics.\n",
    "    \"\"\"\n",
    "    conf_mat = confusion_matrix(y_true, y_pred, labels=labels)\n",
    "    tn, fp, fn, tp = conf_mat.ravel()\n",
    "\n",
    "    return {'accuracy'          :  (tp + tn)/(tp + tn + fp + fn),\n",
    "            'balanced_accuracy' :  0.5*tn / (tn+fp) + 0.5*tp / (tp+fn),\n",
    "            'specificity'       :  tn / (tn+fp),\n",
    "            'sensitivity'       :  tp / (tp+fn),\n",
    "             'ppv'              :  tp / (tp + fp),\n",
    "             'npv'              :  tn / (tn + fn)}\n"
   ]
  },
  {
   "cell_type": "code",
   "execution_count": 7,
   "id": "ff1239c0-5c90-4737-9f66-53ee57f672e8",
   "metadata": {},
   "outputs": [
    {
     "data": {
      "text/html": [
       "<div><style>\n",
       ".dataframe > thead > tr,\n",
       ".dataframe > tbody > tr {\n",
       "  text-align: right;\n",
       "  white-space: pre-wrap;\n",
       "}\n",
       "</style>\n",
       "<small>shape: (21_356, 16)</small><table border=\"1\" class=\"dataframe\"><thead><tr><th>playerID</th><th>yearID</th><th>lgID</th><th>POS</th><th>InnOuts</th><th>PO</th><th>A</th><th>E</th><th>DP</th><th>PB</th><th>WP</th><th>SB</th><th>CS</th><th>ZR</th><th>Gold Glove?</th><th>Training-Validation</th></tr><tr><td>str</td><td>i64</td><td>str</td><td>str</td><td>i64</td><td>i64</td><td>i64</td><td>i64</td><td>i64</td><td>i64</td><td>i64</td><td>i64</td><td>i64</td><td>i64</td><td>str</td><td>str</td></tr></thead><tbody><tr><td>&quot;borucry01&quot;</td><td>2020</td><td>&quot;AL&quot;</td><td>&quot;P&quot;</td><td>50</td><td>0</td><td>1</td><td>0</td><td>0</td><td>0</td><td>0</td><td>0</td><td>0</td><td>0</td><td>&quot;No&quot;</td><td>&quot;Training&quot;</td></tr><tr><td>&quot;burleal01&quot;</td><td>2022</td><td>&quot;NL&quot;</td><td>&quot;OF&quot;</td><td>216</td><td>16</td><td>0</td><td>0</td><td>0</td><td>0</td><td>0</td><td>0</td><td>0</td><td>0</td><td>&quot;No&quot;</td><td>&quot;Training&quot;</td></tr><tr><td>&quot;farmeky01&quot;</td><td>2021</td><td>&quot;NL&quot;</td><td>&quot;3B&quot;</td><td>197</td><td>4</td><td>9</td><td>1</td><td>1</td><td>0</td><td>0</td><td>0</td><td>0</td><td>0</td><td>&quot;No&quot;</td><td>&quot;Training&quot;</td></tr><tr><td>&quot;herrmch01&quot;</td><td>2014</td><td>&quot;AL&quot;</td><td>&quot;OF&quot;</td><td>474</td><td>32</td><td>0</td><td>1</td><td>0</td><td>0</td><td>0</td><td>0</td><td>0</td><td>0</td><td>&quot;No&quot;</td><td>&quot;Training&quot;</td></tr><tr><td>&quot;luplojo01&quot;</td><td>2019</td><td>&quot;AL&quot;</td><td>&quot;OF&quot;</td><td>1566</td><td>117</td><td>5</td><td>0</td><td>1</td><td>0</td><td>0</td><td>0</td><td>0</td><td>0</td><td>&quot;No&quot;</td><td>&quot;Training&quot;</td></tr><tr><td>&hellip;</td><td>&hellip;</td><td>&hellip;</td><td>&hellip;</td><td>&hellip;</td><td>&hellip;</td><td>&hellip;</td><td>&hellip;</td><td>&hellip;</td><td>&hellip;</td><td>&hellip;</td><td>&hellip;</td><td>&hellip;</td><td>&hellip;</td><td>&hellip;</td><td>&hellip;</td></tr><tr><td>&quot;figgich01&quot;</td><td>2014</td><td>&quot;NL&quot;</td><td>&quot;SS&quot;</td><td>18</td><td>1</td><td>0</td><td>0</td><td>0</td><td>0</td><td>0</td><td>0</td><td>0</td><td>0</td><td>&quot;No&quot;</td><td>&quot;Training&quot;</td></tr><tr><td>&quot;hillaa01&quot;</td><td>2013</td><td>&quot;NL&quot;</td><td>&quot;2B&quot;</td><td>2223</td><td>150</td><td>232</td><td>2</td><td>48</td><td>0</td><td>0</td><td>0</td><td>0</td><td>0</td><td>&quot;No&quot;</td><td>&quot;Training&quot;</td></tr><tr><td>&quot;mejiaje02&quot;</td><td>2023</td><td>&quot;NL&quot;</td><td>&quot;P&quot;</td><td>34</td><td>0</td><td>1</td><td>0</td><td>0</td><td>0</td><td>0</td><td>0</td><td>0</td><td>0</td><td>&quot;No&quot;</td><td>&quot;Validation&quot;</td></tr><tr><td>&quot;stewaia01&quot;</td><td>2014</td><td>&quot;AL&quot;</td><td>&quot;1B&quot;</td><td>75</td><td>24</td><td>1</td><td>0</td><td>1</td><td>0</td><td>0</td><td>0</td><td>0</td><td>0</td><td>&quot;No&quot;</td><td>&quot;Training&quot;</td></tr><tr><td>&quot;youngde03&quot;</td><td>2013</td><td>&quot;NL&quot;</td><td>&quot;OF&quot;</td><td>1507</td><td>115</td><td>4</td><td>5</td><td>2</td><td>0</td><td>0</td><td>0</td><td>0</td><td>0</td><td>&quot;No&quot;</td><td>&quot;Training&quot;</td></tr></tbody></table></div>"
      ],
      "text/plain": [
       "shape: (21_356, 16)\n",
       "┌───────────┬────────┬──────┬─────┬───┬─────┬─────┬─────────────┬─────────────────────┐\n",
       "│ playerID  ┆ yearID ┆ lgID ┆ POS ┆ … ┆ CS  ┆ ZR  ┆ Gold Glove? ┆ Training-Validation │\n",
       "│ ---       ┆ ---    ┆ ---  ┆ --- ┆   ┆ --- ┆ --- ┆ ---         ┆ ---                 │\n",
       "│ str       ┆ i64    ┆ str  ┆ str ┆   ┆ i64 ┆ i64 ┆ str         ┆ str                 │\n",
       "╞═══════════╪════════╪══════╪═════╪═══╪═════╪═════╪═════════════╪═════════════════════╡\n",
       "│ borucry01 ┆ 2020   ┆ AL   ┆ P   ┆ … ┆ 0   ┆ 0   ┆ No          ┆ Training            │\n",
       "│ burleal01 ┆ 2022   ┆ NL   ┆ OF  ┆ … ┆ 0   ┆ 0   ┆ No          ┆ Training            │\n",
       "│ farmeky01 ┆ 2021   ┆ NL   ┆ 3B  ┆ … ┆ 0   ┆ 0   ┆ No          ┆ Training            │\n",
       "│ herrmch01 ┆ 2014   ┆ AL   ┆ OF  ┆ … ┆ 0   ┆ 0   ┆ No          ┆ Training            │\n",
       "│ luplojo01 ┆ 2019   ┆ AL   ┆ OF  ┆ … ┆ 0   ┆ 0   ┆ No          ┆ Training            │\n",
       "│ …         ┆ …      ┆ …    ┆ …   ┆ … ┆ …   ┆ …   ┆ …           ┆ …                   │\n",
       "│ figgich01 ┆ 2014   ┆ NL   ┆ SS  ┆ … ┆ 0   ┆ 0   ┆ No          ┆ Training            │\n",
       "│ hillaa01  ┆ 2013   ┆ NL   ┆ 2B  ┆ … ┆ 0   ┆ 0   ┆ No          ┆ Training            │\n",
       "│ mejiaje02 ┆ 2023   ┆ NL   ┆ P   ┆ … ┆ 0   ┆ 0   ┆ No          ┆ Validation          │\n",
       "│ stewaia01 ┆ 2014   ┆ AL   ┆ 1B  ┆ … ┆ 0   ┆ 0   ┆ No          ┆ Training            │\n",
       "│ youngde03 ┆ 2013   ┆ NL   ┆ OF  ┆ … ┆ 0   ┆ 0   ┆ No          ┆ Training            │\n",
       "└───────────┴────────┴──────┴─────┴───┴─────┴─────┴─────────────┴─────────────────────┘"
      ]
     },
     "execution_count": 7,
     "metadata": {},
     "output_type": "execute_result"
    }
   ],
   "source": [
    "fielding_awards"
   ]
  },
  {
   "cell_type": "code",
   "execution_count": 8,
   "id": "44d96dc4-d1b4-4f0d-a2a2-94e83d8ccfb2",
   "metadata": {},
   "outputs": [
    {
     "data": {
      "text/plain": [
       "['playerID',\n",
       " 'yearID',\n",
       " 'lgID',\n",
       " 'POS',\n",
       " 'InnOuts',\n",
       " 'PO',\n",
       " 'A',\n",
       " 'E',\n",
       " 'DP',\n",
       " 'PB',\n",
       " 'WP',\n",
       " 'SB',\n",
       " 'CS',\n",
       " 'ZR',\n",
       " 'Gold Glove?',\n",
       " 'Training-Validation']"
      ]
     },
     "execution_count": 8,
     "metadata": {},
     "output_type": "execute_result"
    }
   ],
   "source": [
    "fielding_awards.columns"
   ]
  },
  {
   "cell_type": "markdown",
   "id": "be03c394-69f2-4f2c-bfcd-c43332e206eb",
   "metadata": {},
   "source": [
    "## Preparing Data"
   ]
  },
  {
   "cell_type": "code",
   "execution_count": 9,
   "id": "b620f27a-233a-43cc-a921-29a1e8f05cb2",
   "metadata": {},
   "outputs": [],
   "source": [
    "fielding_training = fielding_awards.filter(pl.col('Training-Validation') == 'Training').drop(['Gold Glove?', 'playerID', 'yearID', 'lgID', 'POS', 'Training-Validation'])\n",
    "gold_glove_train = fielding_awards.filter(pl.col('Training-Validation') == 'Training').drop(['playerID', 'yearID', 'lgID', 'POS', 'Training-Validation']).select('Gold Glove?')\n",
    "\n",
    "fielding_validation = fielding_awards.filter(pl.col('Training-Validation') == 'Validation').drop(['Gold Glove?', 'playerID', 'yearID', 'lgID', 'POS', 'Training-Validation'])\n",
    "gold_glove_validation = fielding_awards.filter(pl.col('Training-Validation') == 'Validation').drop(['playerID', 'yearID', 'lgID', 'POS', 'Training-Validation']).select('Gold Glove?')\n",
    "\n",
    "fielding_stats_train = fielding_training.to_pandas()\n",
    "gold_glove_train = gold_glove_train.to_pandas()\n",
    "\n",
    "fielding_stats_validation = fielding_validation.to_pandas()\n",
    "gold_glove_validation = gold_glove_validation.to_pandas()"
   ]
  },
  {
   "cell_type": "markdown",
   "id": "a9a0df6c-5d8a-4aff-846d-7b7ce629951f",
   "metadata": {},
   "source": [
    "## Grid Search"
   ]
  },
  {
   "cell_type": "markdown",
   "id": "5567368f-363e-441c-8277-7ee5dc97d7d8",
   "metadata": {},
   "source": [
    "### Tree Grid Search"
   ]
  },
  {
   "cell_type": "code",
   "execution_count": 10,
   "id": "08c36232-56eb-4c0c-ab42-a34e431c3838",
   "metadata": {},
   "outputs": [],
   "source": [
    "from sklearn.model_selection import GridSearchCV\n",
    "from sklearn.tree import DecisionTreeClassifier\n",
    "import numpy as np"
   ]
  },
  {
   "cell_type": "code",
   "execution_count": 11,
   "id": "b95c0360-63d8-4a03-9bc0-917f5936e668",
   "metadata": {},
   "outputs": [],
   "source": [
    "param_grid = {'max_depth': [None, 1,2,3,4,5],\n",
    "              'min_samples_split' : [1, 5, 10],\n",
    "               'min_samples_leaf' : [1, 5, 10],\n",
    "              'class_weight':[\"balanced\"]\n",
    "              }\n"
   ]
  },
  {
   "cell_type": "code",
   "execution_count": 12,
   "id": "8cb91c1d-e4f4-4935-95b3-c86b48f89401",
   "metadata": {},
   "outputs": [],
   "source": [
    "from sklearn.model_selection import StratifiedKFold"
   ]
  },
  {
   "cell_type": "code",
   "execution_count": null,
   "id": "e3b49b4d-b077-42d6-8cc3-754bc23cc319",
   "metadata": {},
   "outputs": [],
   "source": [
    "state = 458\n",
    "\n",
    "cv_obj = StratifiedKFold(n_splits=10, shuffle=True, random_state=state)\n",
    "\n",
    "grid_search = GridSearchCV(DecisionTreeClassifier(), param_grid, verbose=3, cv=cv_obj)\n",
    "\n",
    "grid_search.fit(fielding_training, gold_glove_train)"
   ]
  },
  {
   "cell_type": "code",
   "execution_count": 14,
   "id": "cb492327-192a-4af5-bd53-2fe010978a44",
   "metadata": {},
   "outputs": [
    {
     "data": {
      "text/plain": [
       "np.float64(0.9564986749525156)"
      ]
     },
     "execution_count": 14,
     "metadata": {},
     "output_type": "execute_result"
    }
   ],
   "source": [
    "grid_search.best_score_"
   ]
  },
  {
   "cell_type": "code",
   "execution_count": 15,
   "id": "8de98f65-5279-41f6-9966-560228573180",
   "metadata": {},
   "outputs": [
    {
     "data": {
      "text/plain": [
       "{'class_weight': 'balanced',\n",
       " 'max_depth': None,\n",
       " 'min_samples_leaf': 1,\n",
       " 'min_samples_split': 5}"
      ]
     },
     "execution_count": 15,
     "metadata": {},
     "output_type": "execute_result"
    }
   ],
   "source": [
    "grid_search.best_params_"
   ]
  },
  {
   "cell_type": "code",
   "execution_count": 16,
   "id": "f9ef34c6-71cd-4be5-8f14-666ff20db382",
   "metadata": {},
   "outputs": [
    {
     "data": {
      "text/html": [
       "<style>#sk-container-id-2 {\n",
       "  /* Definition of color scheme common for light and dark mode */\n",
       "  --sklearn-color-text: black;\n",
       "  --sklearn-color-line: gray;\n",
       "  /* Definition of color scheme for unfitted estimators */\n",
       "  --sklearn-color-unfitted-level-0: #fff5e6;\n",
       "  --sklearn-color-unfitted-level-1: #f6e4d2;\n",
       "  --sklearn-color-unfitted-level-2: #ffe0b3;\n",
       "  --sklearn-color-unfitted-level-3: chocolate;\n",
       "  /* Definition of color scheme for fitted estimators */\n",
       "  --sklearn-color-fitted-level-0: #f0f8ff;\n",
       "  --sklearn-color-fitted-level-1: #d4ebff;\n",
       "  --sklearn-color-fitted-level-2: #b3dbfd;\n",
       "  --sklearn-color-fitted-level-3: cornflowerblue;\n",
       "\n",
       "  /* Specific color for light theme */\n",
       "  --sklearn-color-text-on-default-background: var(--sg-text-color, var(--theme-code-foreground, var(--jp-content-font-color1, black)));\n",
       "  --sklearn-color-background: var(--sg-background-color, var(--theme-background, var(--jp-layout-color0, white)));\n",
       "  --sklearn-color-border-box: var(--sg-text-color, var(--theme-code-foreground, var(--jp-content-font-color1, black)));\n",
       "  --sklearn-color-icon: #696969;\n",
       "\n",
       "  @media (prefers-color-scheme: dark) {\n",
       "    /* Redefinition of color scheme for dark theme */\n",
       "    --sklearn-color-text-on-default-background: var(--sg-text-color, var(--theme-code-foreground, var(--jp-content-font-color1, white)));\n",
       "    --sklearn-color-background: var(--sg-background-color, var(--theme-background, var(--jp-layout-color0, #111)));\n",
       "    --sklearn-color-border-box: var(--sg-text-color, var(--theme-code-foreground, var(--jp-content-font-color1, white)));\n",
       "    --sklearn-color-icon: #878787;\n",
       "  }\n",
       "}\n",
       "\n",
       "#sk-container-id-2 {\n",
       "  color: var(--sklearn-color-text);\n",
       "}\n",
       "\n",
       "#sk-container-id-2 pre {\n",
       "  padding: 0;\n",
       "}\n",
       "\n",
       "#sk-container-id-2 input.sk-hidden--visually {\n",
       "  border: 0;\n",
       "  clip: rect(1px 1px 1px 1px);\n",
       "  clip: rect(1px, 1px, 1px, 1px);\n",
       "  height: 1px;\n",
       "  margin: -1px;\n",
       "  overflow: hidden;\n",
       "  padding: 0;\n",
       "  position: absolute;\n",
       "  width: 1px;\n",
       "}\n",
       "\n",
       "#sk-container-id-2 div.sk-dashed-wrapped {\n",
       "  border: 1px dashed var(--sklearn-color-line);\n",
       "  margin: 0 0.4em 0.5em 0.4em;\n",
       "  box-sizing: border-box;\n",
       "  padding-bottom: 0.4em;\n",
       "  background-color: var(--sklearn-color-background);\n",
       "}\n",
       "\n",
       "#sk-container-id-2 div.sk-container {\n",
       "  /* jupyter's `normalize.less` sets `[hidden] { display: none; }`\n",
       "     but bootstrap.min.css set `[hidden] { display: none !important; }`\n",
       "     so we also need the `!important` here to be able to override the\n",
       "     default hidden behavior on the sphinx rendered scikit-learn.org.\n",
       "     See: https://github.com/scikit-learn/scikit-learn/issues/21755 */\n",
       "  display: inline-block !important;\n",
       "  position: relative;\n",
       "}\n",
       "\n",
       "#sk-container-id-2 div.sk-text-repr-fallback {\n",
       "  display: none;\n",
       "}\n",
       "\n",
       "div.sk-parallel-item,\n",
       "div.sk-serial,\n",
       "div.sk-item {\n",
       "  /* draw centered vertical line to link estimators */\n",
       "  background-image: linear-gradient(var(--sklearn-color-text-on-default-background), var(--sklearn-color-text-on-default-background));\n",
       "  background-size: 2px 100%;\n",
       "  background-repeat: no-repeat;\n",
       "  background-position: center center;\n",
       "}\n",
       "\n",
       "/* Parallel-specific style estimator block */\n",
       "\n",
       "#sk-container-id-2 div.sk-parallel-item::after {\n",
       "  content: \"\";\n",
       "  width: 100%;\n",
       "  border-bottom: 2px solid var(--sklearn-color-text-on-default-background);\n",
       "  flex-grow: 1;\n",
       "}\n",
       "\n",
       "#sk-container-id-2 div.sk-parallel {\n",
       "  display: flex;\n",
       "  align-items: stretch;\n",
       "  justify-content: center;\n",
       "  background-color: var(--sklearn-color-background);\n",
       "  position: relative;\n",
       "}\n",
       "\n",
       "#sk-container-id-2 div.sk-parallel-item {\n",
       "  display: flex;\n",
       "  flex-direction: column;\n",
       "}\n",
       "\n",
       "#sk-container-id-2 div.sk-parallel-item:first-child::after {\n",
       "  align-self: flex-end;\n",
       "  width: 50%;\n",
       "}\n",
       "\n",
       "#sk-container-id-2 div.sk-parallel-item:last-child::after {\n",
       "  align-self: flex-start;\n",
       "  width: 50%;\n",
       "}\n",
       "\n",
       "#sk-container-id-2 div.sk-parallel-item:only-child::after {\n",
       "  width: 0;\n",
       "}\n",
       "\n",
       "/* Serial-specific style estimator block */\n",
       "\n",
       "#sk-container-id-2 div.sk-serial {\n",
       "  display: flex;\n",
       "  flex-direction: column;\n",
       "  align-items: center;\n",
       "  background-color: var(--sklearn-color-background);\n",
       "  padding-right: 1em;\n",
       "  padding-left: 1em;\n",
       "}\n",
       "\n",
       "\n",
       "/* Toggleable style: style used for estimator/Pipeline/ColumnTransformer box that is\n",
       "clickable and can be expanded/collapsed.\n",
       "- Pipeline and ColumnTransformer use this feature and define the default style\n",
       "- Estimators will overwrite some part of the style using the `sk-estimator` class\n",
       "*/\n",
       "\n",
       "/* Pipeline and ColumnTransformer style (default) */\n",
       "\n",
       "#sk-container-id-2 div.sk-toggleable {\n",
       "  /* Default theme specific background. It is overwritten whether we have a\n",
       "  specific estimator or a Pipeline/ColumnTransformer */\n",
       "  background-color: var(--sklearn-color-background);\n",
       "}\n",
       "\n",
       "/* Toggleable label */\n",
       "#sk-container-id-2 label.sk-toggleable__label {\n",
       "  cursor: pointer;\n",
       "  display: block;\n",
       "  width: 100%;\n",
       "  margin-bottom: 0;\n",
       "  padding: 0.5em;\n",
       "  box-sizing: border-box;\n",
       "  text-align: center;\n",
       "}\n",
       "\n",
       "#sk-container-id-2 label.sk-toggleable__label-arrow:before {\n",
       "  /* Arrow on the left of the label */\n",
       "  content: \"▸\";\n",
       "  float: left;\n",
       "  margin-right: 0.25em;\n",
       "  color: var(--sklearn-color-icon);\n",
       "}\n",
       "\n",
       "#sk-container-id-2 label.sk-toggleable__label-arrow:hover:before {\n",
       "  color: var(--sklearn-color-text);\n",
       "}\n",
       "\n",
       "/* Toggleable content - dropdown */\n",
       "\n",
       "#sk-container-id-2 div.sk-toggleable__content {\n",
       "  max-height: 0;\n",
       "  max-width: 0;\n",
       "  overflow: hidden;\n",
       "  text-align: left;\n",
       "  /* unfitted */\n",
       "  background-color: var(--sklearn-color-unfitted-level-0);\n",
       "}\n",
       "\n",
       "#sk-container-id-2 div.sk-toggleable__content.fitted {\n",
       "  /* fitted */\n",
       "  background-color: var(--sklearn-color-fitted-level-0);\n",
       "}\n",
       "\n",
       "#sk-container-id-2 div.sk-toggleable__content pre {\n",
       "  margin: 0.2em;\n",
       "  border-radius: 0.25em;\n",
       "  color: var(--sklearn-color-text);\n",
       "  /* unfitted */\n",
       "  background-color: var(--sklearn-color-unfitted-level-0);\n",
       "}\n",
       "\n",
       "#sk-container-id-2 div.sk-toggleable__content.fitted pre {\n",
       "  /* unfitted */\n",
       "  background-color: var(--sklearn-color-fitted-level-0);\n",
       "}\n",
       "\n",
       "#sk-container-id-2 input.sk-toggleable__control:checked~div.sk-toggleable__content {\n",
       "  /* Expand drop-down */\n",
       "  max-height: 200px;\n",
       "  max-width: 100%;\n",
       "  overflow: auto;\n",
       "}\n",
       "\n",
       "#sk-container-id-2 input.sk-toggleable__control:checked~label.sk-toggleable__label-arrow:before {\n",
       "  content: \"▾\";\n",
       "}\n",
       "\n",
       "/* Pipeline/ColumnTransformer-specific style */\n",
       "\n",
       "#sk-container-id-2 div.sk-label input.sk-toggleable__control:checked~label.sk-toggleable__label {\n",
       "  color: var(--sklearn-color-text);\n",
       "  background-color: var(--sklearn-color-unfitted-level-2);\n",
       "}\n",
       "\n",
       "#sk-container-id-2 div.sk-label.fitted input.sk-toggleable__control:checked~label.sk-toggleable__label {\n",
       "  background-color: var(--sklearn-color-fitted-level-2);\n",
       "}\n",
       "\n",
       "/* Estimator-specific style */\n",
       "\n",
       "/* Colorize estimator box */\n",
       "#sk-container-id-2 div.sk-estimator input.sk-toggleable__control:checked~label.sk-toggleable__label {\n",
       "  /* unfitted */\n",
       "  background-color: var(--sklearn-color-unfitted-level-2);\n",
       "}\n",
       "\n",
       "#sk-container-id-2 div.sk-estimator.fitted input.sk-toggleable__control:checked~label.sk-toggleable__label {\n",
       "  /* fitted */\n",
       "  background-color: var(--sklearn-color-fitted-level-2);\n",
       "}\n",
       "\n",
       "#sk-container-id-2 div.sk-label label.sk-toggleable__label,\n",
       "#sk-container-id-2 div.sk-label label {\n",
       "  /* The background is the default theme color */\n",
       "  color: var(--sklearn-color-text-on-default-background);\n",
       "}\n",
       "\n",
       "/* On hover, darken the color of the background */\n",
       "#sk-container-id-2 div.sk-label:hover label.sk-toggleable__label {\n",
       "  color: var(--sklearn-color-text);\n",
       "  background-color: var(--sklearn-color-unfitted-level-2);\n",
       "}\n",
       "\n",
       "/* Label box, darken color on hover, fitted */\n",
       "#sk-container-id-2 div.sk-label.fitted:hover label.sk-toggleable__label.fitted {\n",
       "  color: var(--sklearn-color-text);\n",
       "  background-color: var(--sklearn-color-fitted-level-2);\n",
       "}\n",
       "\n",
       "/* Estimator label */\n",
       "\n",
       "#sk-container-id-2 div.sk-label label {\n",
       "  font-family: monospace;\n",
       "  font-weight: bold;\n",
       "  display: inline-block;\n",
       "  line-height: 1.2em;\n",
       "}\n",
       "\n",
       "#sk-container-id-2 div.sk-label-container {\n",
       "  text-align: center;\n",
       "}\n",
       "\n",
       "/* Estimator-specific */\n",
       "#sk-container-id-2 div.sk-estimator {\n",
       "  font-family: monospace;\n",
       "  border: 1px dotted var(--sklearn-color-border-box);\n",
       "  border-radius: 0.25em;\n",
       "  box-sizing: border-box;\n",
       "  margin-bottom: 0.5em;\n",
       "  /* unfitted */\n",
       "  background-color: var(--sklearn-color-unfitted-level-0);\n",
       "}\n",
       "\n",
       "#sk-container-id-2 div.sk-estimator.fitted {\n",
       "  /* fitted */\n",
       "  background-color: var(--sklearn-color-fitted-level-0);\n",
       "}\n",
       "\n",
       "/* on hover */\n",
       "#sk-container-id-2 div.sk-estimator:hover {\n",
       "  /* unfitted */\n",
       "  background-color: var(--sklearn-color-unfitted-level-2);\n",
       "}\n",
       "\n",
       "#sk-container-id-2 div.sk-estimator.fitted:hover {\n",
       "  /* fitted */\n",
       "  background-color: var(--sklearn-color-fitted-level-2);\n",
       "}\n",
       "\n",
       "/* Specification for estimator info (e.g. \"i\" and \"?\") */\n",
       "\n",
       "/* Common style for \"i\" and \"?\" */\n",
       "\n",
       ".sk-estimator-doc-link,\n",
       "a:link.sk-estimator-doc-link,\n",
       "a:visited.sk-estimator-doc-link {\n",
       "  float: right;\n",
       "  font-size: smaller;\n",
       "  line-height: 1em;\n",
       "  font-family: monospace;\n",
       "  background-color: var(--sklearn-color-background);\n",
       "  border-radius: 1em;\n",
       "  height: 1em;\n",
       "  width: 1em;\n",
       "  text-decoration: none !important;\n",
       "  margin-left: 1ex;\n",
       "  /* unfitted */\n",
       "  border: var(--sklearn-color-unfitted-level-1) 1pt solid;\n",
       "  color: var(--sklearn-color-unfitted-level-1);\n",
       "}\n",
       "\n",
       ".sk-estimator-doc-link.fitted,\n",
       "a:link.sk-estimator-doc-link.fitted,\n",
       "a:visited.sk-estimator-doc-link.fitted {\n",
       "  /* fitted */\n",
       "  border: var(--sklearn-color-fitted-level-1) 1pt solid;\n",
       "  color: var(--sklearn-color-fitted-level-1);\n",
       "}\n",
       "\n",
       "/* On hover */\n",
       "div.sk-estimator:hover .sk-estimator-doc-link:hover,\n",
       ".sk-estimator-doc-link:hover,\n",
       "div.sk-label-container:hover .sk-estimator-doc-link:hover,\n",
       ".sk-estimator-doc-link:hover {\n",
       "  /* unfitted */\n",
       "  background-color: var(--sklearn-color-unfitted-level-3);\n",
       "  color: var(--sklearn-color-background);\n",
       "  text-decoration: none;\n",
       "}\n",
       "\n",
       "div.sk-estimator.fitted:hover .sk-estimator-doc-link.fitted:hover,\n",
       ".sk-estimator-doc-link.fitted:hover,\n",
       "div.sk-label-container:hover .sk-estimator-doc-link.fitted:hover,\n",
       ".sk-estimator-doc-link.fitted:hover {\n",
       "  /* fitted */\n",
       "  background-color: var(--sklearn-color-fitted-level-3);\n",
       "  color: var(--sklearn-color-background);\n",
       "  text-decoration: none;\n",
       "}\n",
       "\n",
       "/* Span, style for the box shown on hovering the info icon */\n",
       ".sk-estimator-doc-link span {\n",
       "  display: none;\n",
       "  z-index: 9999;\n",
       "  position: relative;\n",
       "  font-weight: normal;\n",
       "  right: .2ex;\n",
       "  padding: .5ex;\n",
       "  margin: .5ex;\n",
       "  width: min-content;\n",
       "  min-width: 20ex;\n",
       "  max-width: 50ex;\n",
       "  color: var(--sklearn-color-text);\n",
       "  box-shadow: 2pt 2pt 4pt #999;\n",
       "  /* unfitted */\n",
       "  background: var(--sklearn-color-unfitted-level-0);\n",
       "  border: .5pt solid var(--sklearn-color-unfitted-level-3);\n",
       "}\n",
       "\n",
       ".sk-estimator-doc-link.fitted span {\n",
       "  /* fitted */\n",
       "  background: var(--sklearn-color-fitted-level-0);\n",
       "  border: var(--sklearn-color-fitted-level-3);\n",
       "}\n",
       "\n",
       ".sk-estimator-doc-link:hover span {\n",
       "  display: block;\n",
       "}\n",
       "\n",
       "/* \"?\"-specific style due to the `<a>` HTML tag */\n",
       "\n",
       "#sk-container-id-2 a.estimator_doc_link {\n",
       "  float: right;\n",
       "  font-size: 1rem;\n",
       "  line-height: 1em;\n",
       "  font-family: monospace;\n",
       "  background-color: var(--sklearn-color-background);\n",
       "  border-radius: 1rem;\n",
       "  height: 1rem;\n",
       "  width: 1rem;\n",
       "  text-decoration: none;\n",
       "  /* unfitted */\n",
       "  color: var(--sklearn-color-unfitted-level-1);\n",
       "  border: var(--sklearn-color-unfitted-level-1) 1pt solid;\n",
       "}\n",
       "\n",
       "#sk-container-id-2 a.estimator_doc_link.fitted {\n",
       "  /* fitted */\n",
       "  border: var(--sklearn-color-fitted-level-1) 1pt solid;\n",
       "  color: var(--sklearn-color-fitted-level-1);\n",
       "}\n",
       "\n",
       "/* On hover */\n",
       "#sk-container-id-2 a.estimator_doc_link:hover {\n",
       "  /* unfitted */\n",
       "  background-color: var(--sklearn-color-unfitted-level-3);\n",
       "  color: var(--sklearn-color-background);\n",
       "  text-decoration: none;\n",
       "}\n",
       "\n",
       "#sk-container-id-2 a.estimator_doc_link.fitted:hover {\n",
       "  /* fitted */\n",
       "  background-color: var(--sklearn-color-fitted-level-3);\n",
       "}\n",
       "</style><div id=\"sk-container-id-2\" class=\"sk-top-container\"><div class=\"sk-text-repr-fallback\"><pre>DecisionTreeClassifier(class_weight=&#x27;balanced&#x27;, min_samples_split=5)</pre><b>In a Jupyter environment, please rerun this cell to show the HTML representation or trust the notebook. <br />On GitHub, the HTML representation is unable to render, please try loading this page with nbviewer.org.</b></div><div class=\"sk-container\" hidden><div class=\"sk-item\"><div class=\"sk-estimator fitted sk-toggleable\"><input class=\"sk-toggleable__control sk-hidden--visually\" id=\"sk-estimator-id-4\" type=\"checkbox\" checked><label for=\"sk-estimator-id-4\" class=\"sk-toggleable__label fitted sk-toggleable__label-arrow fitted\">&nbsp;&nbsp;DecisionTreeClassifier<a class=\"sk-estimator-doc-link fitted\" rel=\"noreferrer\" target=\"_blank\" href=\"https://scikit-learn.org/1.5/modules/generated/sklearn.tree.DecisionTreeClassifier.html\">?<span>Documentation for DecisionTreeClassifier</span></a><span class=\"sk-estimator-doc-link fitted\">i<span>Fitted</span></span></label><div class=\"sk-toggleable__content fitted\"><pre>DecisionTreeClassifier(class_weight=&#x27;balanced&#x27;, min_samples_split=5)</pre></div> </div></div></div></div>"
      ],
      "text/plain": [
       "DecisionTreeClassifier(class_weight='balanced', min_samples_split=5)"
      ]
     },
     "execution_count": 16,
     "metadata": {},
     "output_type": "execute_result"
    }
   ],
   "source": [
    "best_model_tree = grid_search.best_estimator_\n",
    "best_model_tree"
   ]
  },
  {
   "cell_type": "markdown",
   "id": "c08c2113-50c5-49bd-ae67-c4d3a49de032",
   "metadata": {},
   "source": [
    "### Random Forest Grid Search"
   ]
  },
  {
   "cell_type": "code",
   "execution_count": null,
   "id": "530dbf00-8f8d-4162-97fc-2160b003b345",
   "metadata": {},
   "outputs": [],
   "source": [
    "rf_param_grid = {'n_estimators':  [25, 50, 100],\n",
    "              'max_depth': [None, 1,2,3,4,5],\n",
    "              'min_samples_split' : [1, 5, 10],\n",
    "               'min_samples_leaf' : [1, 5, 10],\n",
    "              'class_weight':[\"balanced\"]\n",
    "              }\n",
    "\n",
    "rf_param_grid"
   ]
  },
  {
   "cell_type": "code",
   "execution_count": null,
   "id": "91609de3-fca0-4bd3-a487-989d3292d307",
   "metadata": {},
   "outputs": [],
   "source": [
    "from sklearn.ensemble import RandomForestClassifier"
   ]
  },
  {
   "cell_type": "code",
   "execution_count": null,
   "id": "e053c320-717b-4e64-9afe-424e93a6e351",
   "metadata": {},
   "outputs": [],
   "source": [
    "rf_grid_search = GridSearchCV(RandomForestClassifier(), rf_param_grid, verbose=3, cv=cv_obj)\n",
    "\n",
    "rf_grid_search.fit(fielding_training, gold_glove_train)"
   ]
  },
  {
   "cell_type": "code",
   "execution_count": null,
   "id": "e9b95cf7-5f36-4e94-b7d9-86be1fa24e4c",
   "metadata": {},
   "outputs": [],
   "source": [
    "rf_grid_search.best_score_"
   ]
  },
  {
   "cell_type": "code",
   "execution_count": null,
   "id": "661871e7-b417-4f2a-a07c-c265d2901496",
   "metadata": {},
   "outputs": [],
   "source": [
    "rf_grid_search.best_params_"
   ]
  },
  {
   "cell_type": "code",
   "execution_count": null,
   "id": "a0177f99-3a17-4502-9603-b81fe01a057e",
   "metadata": {},
   "outputs": [],
   "source": [
    "best_model_rf = rf_grid_search.best_estimator_\n",
    "best_model_rf"
   ]
  },
  {
   "cell_type": "markdown",
   "id": "8d959767-1de4-4084-97ad-56f9b774986c",
   "metadata": {},
   "source": [
    "### Comparing Scores"
   ]
  },
  {
   "cell_type": "code",
   "execution_count": 23,
   "id": "cb1641ac-60f0-47d9-8e08-310fe968803d",
   "metadata": {},
   "outputs": [
    {
     "data": {
      "text/plain": [
       "np.True_"
      ]
     },
     "execution_count": 23,
     "metadata": {},
     "output_type": "execute_result"
    }
   ],
   "source": [
    "rf_grid_search.best_score_ > grid_search.best_score_"
   ]
  },
  {
   "cell_type": "markdown",
   "id": "804d8a86-12d9-45bc-97f7-3078163843e8",
   "metadata": {},
   "source": [
    "### Measuring Performance"
   ]
  },
  {
   "cell_type": "code",
   "execution_count": 24,
   "id": "7129d707-33cd-4a63-bfb1-ec42aabfcb24",
   "metadata": {},
   "outputs": [],
   "source": [
    "gold_glove_validation_pred_rf = rf_grid_search.predict(fielding_validation)"
   ]
  },
  {
   "cell_type": "code",
   "execution_count": 25,
   "id": "9ae912e0-df57-4a68-b959-fd59f4871cdc",
   "metadata": {},
   "outputs": [
    {
     "data": {
      "text/plain": [
       "{'accuracy': np.float64(0.9811503141614306),\n",
       " 'balanced_accuracy': np.float64(0.514917407433331),\n",
       " 'specificity': np.float64(0.9941205291523763),\n",
       " 'sensitivity': np.float64(0.03571428571428571),\n",
       " 'ppv': np.float64(0.07692307692307693),\n",
       " 'npv': np.float64(0.9868677042801557)}"
      ]
     },
     "execution_count": 25,
     "metadata": {},
     "output_type": "execute_result"
    }
   ],
   "source": [
    "get_metrics(gold_glove_validation, gold_glove_validation_pred_rf)"
   ]
  },
  {
   "cell_type": "markdown",
   "id": "6e6c85d8-56f2-4ae0-8acc-8b35ba41feab",
   "metadata": {},
   "source": [
    "## Fitting the Best Model"
   ]
  },
  {
   "cell_type": "code",
   "execution_count": 26,
   "id": "9d8fc5b6-6cb7-43a0-8a0f-56f29460aa20",
   "metadata": {},
   "outputs": [
    {
     "name": "stderr",
     "output_type": "stream",
     "text": [
      "C:\\Users\\hp6265bz\\AppData\\Local\\anaconda3\\envs\\polars\\Lib\\site-packages\\sklearn\\base.py:1473: DataConversionWarning: A column-vector y was passed when a 1d array was expected. Please change the shape of y to (n_samples,), for example using ravel().\n",
      "  return fit_method(estimator, *args, **kwargs)\n"
     ]
    },
    {
     "data": {
      "text/html": [
       "<style>#sk-container-id-5 {\n",
       "  /* Definition of color scheme common for light and dark mode */\n",
       "  --sklearn-color-text: black;\n",
       "  --sklearn-color-line: gray;\n",
       "  /* Definition of color scheme for unfitted estimators */\n",
       "  --sklearn-color-unfitted-level-0: #fff5e6;\n",
       "  --sklearn-color-unfitted-level-1: #f6e4d2;\n",
       "  --sklearn-color-unfitted-level-2: #ffe0b3;\n",
       "  --sklearn-color-unfitted-level-3: chocolate;\n",
       "  /* Definition of color scheme for fitted estimators */\n",
       "  --sklearn-color-fitted-level-0: #f0f8ff;\n",
       "  --sklearn-color-fitted-level-1: #d4ebff;\n",
       "  --sklearn-color-fitted-level-2: #b3dbfd;\n",
       "  --sklearn-color-fitted-level-3: cornflowerblue;\n",
       "\n",
       "  /* Specific color for light theme */\n",
       "  --sklearn-color-text-on-default-background: var(--sg-text-color, var(--theme-code-foreground, var(--jp-content-font-color1, black)));\n",
       "  --sklearn-color-background: var(--sg-background-color, var(--theme-background, var(--jp-layout-color0, white)));\n",
       "  --sklearn-color-border-box: var(--sg-text-color, var(--theme-code-foreground, var(--jp-content-font-color1, black)));\n",
       "  --sklearn-color-icon: #696969;\n",
       "\n",
       "  @media (prefers-color-scheme: dark) {\n",
       "    /* Redefinition of color scheme for dark theme */\n",
       "    --sklearn-color-text-on-default-background: var(--sg-text-color, var(--theme-code-foreground, var(--jp-content-font-color1, white)));\n",
       "    --sklearn-color-background: var(--sg-background-color, var(--theme-background, var(--jp-layout-color0, #111)));\n",
       "    --sklearn-color-border-box: var(--sg-text-color, var(--theme-code-foreground, var(--jp-content-font-color1, white)));\n",
       "    --sklearn-color-icon: #878787;\n",
       "  }\n",
       "}\n",
       "\n",
       "#sk-container-id-5 {\n",
       "  color: var(--sklearn-color-text);\n",
       "}\n",
       "\n",
       "#sk-container-id-5 pre {\n",
       "  padding: 0;\n",
       "}\n",
       "\n",
       "#sk-container-id-5 input.sk-hidden--visually {\n",
       "  border: 0;\n",
       "  clip: rect(1px 1px 1px 1px);\n",
       "  clip: rect(1px, 1px, 1px, 1px);\n",
       "  height: 1px;\n",
       "  margin: -1px;\n",
       "  overflow: hidden;\n",
       "  padding: 0;\n",
       "  position: absolute;\n",
       "  width: 1px;\n",
       "}\n",
       "\n",
       "#sk-container-id-5 div.sk-dashed-wrapped {\n",
       "  border: 1px dashed var(--sklearn-color-line);\n",
       "  margin: 0 0.4em 0.5em 0.4em;\n",
       "  box-sizing: border-box;\n",
       "  padding-bottom: 0.4em;\n",
       "  background-color: var(--sklearn-color-background);\n",
       "}\n",
       "\n",
       "#sk-container-id-5 div.sk-container {\n",
       "  /* jupyter's `normalize.less` sets `[hidden] { display: none; }`\n",
       "     but bootstrap.min.css set `[hidden] { display: none !important; }`\n",
       "     so we also need the `!important` here to be able to override the\n",
       "     default hidden behavior on the sphinx rendered scikit-learn.org.\n",
       "     See: https://github.com/scikit-learn/scikit-learn/issues/21755 */\n",
       "  display: inline-block !important;\n",
       "  position: relative;\n",
       "}\n",
       "\n",
       "#sk-container-id-5 div.sk-text-repr-fallback {\n",
       "  display: none;\n",
       "}\n",
       "\n",
       "div.sk-parallel-item,\n",
       "div.sk-serial,\n",
       "div.sk-item {\n",
       "  /* draw centered vertical line to link estimators */\n",
       "  background-image: linear-gradient(var(--sklearn-color-text-on-default-background), var(--sklearn-color-text-on-default-background));\n",
       "  background-size: 2px 100%;\n",
       "  background-repeat: no-repeat;\n",
       "  background-position: center center;\n",
       "}\n",
       "\n",
       "/* Parallel-specific style estimator block */\n",
       "\n",
       "#sk-container-id-5 div.sk-parallel-item::after {\n",
       "  content: \"\";\n",
       "  width: 100%;\n",
       "  border-bottom: 2px solid var(--sklearn-color-text-on-default-background);\n",
       "  flex-grow: 1;\n",
       "}\n",
       "\n",
       "#sk-container-id-5 div.sk-parallel {\n",
       "  display: flex;\n",
       "  align-items: stretch;\n",
       "  justify-content: center;\n",
       "  background-color: var(--sklearn-color-background);\n",
       "  position: relative;\n",
       "}\n",
       "\n",
       "#sk-container-id-5 div.sk-parallel-item {\n",
       "  display: flex;\n",
       "  flex-direction: column;\n",
       "}\n",
       "\n",
       "#sk-container-id-5 div.sk-parallel-item:first-child::after {\n",
       "  align-self: flex-end;\n",
       "  width: 50%;\n",
       "}\n",
       "\n",
       "#sk-container-id-5 div.sk-parallel-item:last-child::after {\n",
       "  align-self: flex-start;\n",
       "  width: 50%;\n",
       "}\n",
       "\n",
       "#sk-container-id-5 div.sk-parallel-item:only-child::after {\n",
       "  width: 0;\n",
       "}\n",
       "\n",
       "/* Serial-specific style estimator block */\n",
       "\n",
       "#sk-container-id-5 div.sk-serial {\n",
       "  display: flex;\n",
       "  flex-direction: column;\n",
       "  align-items: center;\n",
       "  background-color: var(--sklearn-color-background);\n",
       "  padding-right: 1em;\n",
       "  padding-left: 1em;\n",
       "}\n",
       "\n",
       "\n",
       "/* Toggleable style: style used for estimator/Pipeline/ColumnTransformer box that is\n",
       "clickable and can be expanded/collapsed.\n",
       "- Pipeline and ColumnTransformer use this feature and define the default style\n",
       "- Estimators will overwrite some part of the style using the `sk-estimator` class\n",
       "*/\n",
       "\n",
       "/* Pipeline and ColumnTransformer style (default) */\n",
       "\n",
       "#sk-container-id-5 div.sk-toggleable {\n",
       "  /* Default theme specific background. It is overwritten whether we have a\n",
       "  specific estimator or a Pipeline/ColumnTransformer */\n",
       "  background-color: var(--sklearn-color-background);\n",
       "}\n",
       "\n",
       "/* Toggleable label */\n",
       "#sk-container-id-5 label.sk-toggleable__label {\n",
       "  cursor: pointer;\n",
       "  display: block;\n",
       "  width: 100%;\n",
       "  margin-bottom: 0;\n",
       "  padding: 0.5em;\n",
       "  box-sizing: border-box;\n",
       "  text-align: center;\n",
       "}\n",
       "\n",
       "#sk-container-id-5 label.sk-toggleable__label-arrow:before {\n",
       "  /* Arrow on the left of the label */\n",
       "  content: \"▸\";\n",
       "  float: left;\n",
       "  margin-right: 0.25em;\n",
       "  color: var(--sklearn-color-icon);\n",
       "}\n",
       "\n",
       "#sk-container-id-5 label.sk-toggleable__label-arrow:hover:before {\n",
       "  color: var(--sklearn-color-text);\n",
       "}\n",
       "\n",
       "/* Toggleable content - dropdown */\n",
       "\n",
       "#sk-container-id-5 div.sk-toggleable__content {\n",
       "  max-height: 0;\n",
       "  max-width: 0;\n",
       "  overflow: hidden;\n",
       "  text-align: left;\n",
       "  /* unfitted */\n",
       "  background-color: var(--sklearn-color-unfitted-level-0);\n",
       "}\n",
       "\n",
       "#sk-container-id-5 div.sk-toggleable__content.fitted {\n",
       "  /* fitted */\n",
       "  background-color: var(--sklearn-color-fitted-level-0);\n",
       "}\n",
       "\n",
       "#sk-container-id-5 div.sk-toggleable__content pre {\n",
       "  margin: 0.2em;\n",
       "  border-radius: 0.25em;\n",
       "  color: var(--sklearn-color-text);\n",
       "  /* unfitted */\n",
       "  background-color: var(--sklearn-color-unfitted-level-0);\n",
       "}\n",
       "\n",
       "#sk-container-id-5 div.sk-toggleable__content.fitted pre {\n",
       "  /* unfitted */\n",
       "  background-color: var(--sklearn-color-fitted-level-0);\n",
       "}\n",
       "\n",
       "#sk-container-id-5 input.sk-toggleable__control:checked~div.sk-toggleable__content {\n",
       "  /* Expand drop-down */\n",
       "  max-height: 200px;\n",
       "  max-width: 100%;\n",
       "  overflow: auto;\n",
       "}\n",
       "\n",
       "#sk-container-id-5 input.sk-toggleable__control:checked~label.sk-toggleable__label-arrow:before {\n",
       "  content: \"▾\";\n",
       "}\n",
       "\n",
       "/* Pipeline/ColumnTransformer-specific style */\n",
       "\n",
       "#sk-container-id-5 div.sk-label input.sk-toggleable__control:checked~label.sk-toggleable__label {\n",
       "  color: var(--sklearn-color-text);\n",
       "  background-color: var(--sklearn-color-unfitted-level-2);\n",
       "}\n",
       "\n",
       "#sk-container-id-5 div.sk-label.fitted input.sk-toggleable__control:checked~label.sk-toggleable__label {\n",
       "  background-color: var(--sklearn-color-fitted-level-2);\n",
       "}\n",
       "\n",
       "/* Estimator-specific style */\n",
       "\n",
       "/* Colorize estimator box */\n",
       "#sk-container-id-5 div.sk-estimator input.sk-toggleable__control:checked~label.sk-toggleable__label {\n",
       "  /* unfitted */\n",
       "  background-color: var(--sklearn-color-unfitted-level-2);\n",
       "}\n",
       "\n",
       "#sk-container-id-5 div.sk-estimator.fitted input.sk-toggleable__control:checked~label.sk-toggleable__label {\n",
       "  /* fitted */\n",
       "  background-color: var(--sklearn-color-fitted-level-2);\n",
       "}\n",
       "\n",
       "#sk-container-id-5 div.sk-label label.sk-toggleable__label,\n",
       "#sk-container-id-5 div.sk-label label {\n",
       "  /* The background is the default theme color */\n",
       "  color: var(--sklearn-color-text-on-default-background);\n",
       "}\n",
       "\n",
       "/* On hover, darken the color of the background */\n",
       "#sk-container-id-5 div.sk-label:hover label.sk-toggleable__label {\n",
       "  color: var(--sklearn-color-text);\n",
       "  background-color: var(--sklearn-color-unfitted-level-2);\n",
       "}\n",
       "\n",
       "/* Label box, darken color on hover, fitted */\n",
       "#sk-container-id-5 div.sk-label.fitted:hover label.sk-toggleable__label.fitted {\n",
       "  color: var(--sklearn-color-text);\n",
       "  background-color: var(--sklearn-color-fitted-level-2);\n",
       "}\n",
       "\n",
       "/* Estimator label */\n",
       "\n",
       "#sk-container-id-5 div.sk-label label {\n",
       "  font-family: monospace;\n",
       "  font-weight: bold;\n",
       "  display: inline-block;\n",
       "  line-height: 1.2em;\n",
       "}\n",
       "\n",
       "#sk-container-id-5 div.sk-label-container {\n",
       "  text-align: center;\n",
       "}\n",
       "\n",
       "/* Estimator-specific */\n",
       "#sk-container-id-5 div.sk-estimator {\n",
       "  font-family: monospace;\n",
       "  border: 1px dotted var(--sklearn-color-border-box);\n",
       "  border-radius: 0.25em;\n",
       "  box-sizing: border-box;\n",
       "  margin-bottom: 0.5em;\n",
       "  /* unfitted */\n",
       "  background-color: var(--sklearn-color-unfitted-level-0);\n",
       "}\n",
       "\n",
       "#sk-container-id-5 div.sk-estimator.fitted {\n",
       "  /* fitted */\n",
       "  background-color: var(--sklearn-color-fitted-level-0);\n",
       "}\n",
       "\n",
       "/* on hover */\n",
       "#sk-container-id-5 div.sk-estimator:hover {\n",
       "  /* unfitted */\n",
       "  background-color: var(--sklearn-color-unfitted-level-2);\n",
       "}\n",
       "\n",
       "#sk-container-id-5 div.sk-estimator.fitted:hover {\n",
       "  /* fitted */\n",
       "  background-color: var(--sklearn-color-fitted-level-2);\n",
       "}\n",
       "\n",
       "/* Specification for estimator info (e.g. \"i\" and \"?\") */\n",
       "\n",
       "/* Common style for \"i\" and \"?\" */\n",
       "\n",
       ".sk-estimator-doc-link,\n",
       "a:link.sk-estimator-doc-link,\n",
       "a:visited.sk-estimator-doc-link {\n",
       "  float: right;\n",
       "  font-size: smaller;\n",
       "  line-height: 1em;\n",
       "  font-family: monospace;\n",
       "  background-color: var(--sklearn-color-background);\n",
       "  border-radius: 1em;\n",
       "  height: 1em;\n",
       "  width: 1em;\n",
       "  text-decoration: none !important;\n",
       "  margin-left: 1ex;\n",
       "  /* unfitted */\n",
       "  border: var(--sklearn-color-unfitted-level-1) 1pt solid;\n",
       "  color: var(--sklearn-color-unfitted-level-1);\n",
       "}\n",
       "\n",
       ".sk-estimator-doc-link.fitted,\n",
       "a:link.sk-estimator-doc-link.fitted,\n",
       "a:visited.sk-estimator-doc-link.fitted {\n",
       "  /* fitted */\n",
       "  border: var(--sklearn-color-fitted-level-1) 1pt solid;\n",
       "  color: var(--sklearn-color-fitted-level-1);\n",
       "}\n",
       "\n",
       "/* On hover */\n",
       "div.sk-estimator:hover .sk-estimator-doc-link:hover,\n",
       ".sk-estimator-doc-link:hover,\n",
       "div.sk-label-container:hover .sk-estimator-doc-link:hover,\n",
       ".sk-estimator-doc-link:hover {\n",
       "  /* unfitted */\n",
       "  background-color: var(--sklearn-color-unfitted-level-3);\n",
       "  color: var(--sklearn-color-background);\n",
       "  text-decoration: none;\n",
       "}\n",
       "\n",
       "div.sk-estimator.fitted:hover .sk-estimator-doc-link.fitted:hover,\n",
       ".sk-estimator-doc-link.fitted:hover,\n",
       "div.sk-label-container:hover .sk-estimator-doc-link.fitted:hover,\n",
       ".sk-estimator-doc-link.fitted:hover {\n",
       "  /* fitted */\n",
       "  background-color: var(--sklearn-color-fitted-level-3);\n",
       "  color: var(--sklearn-color-background);\n",
       "  text-decoration: none;\n",
       "}\n",
       "\n",
       "/* Span, style for the box shown on hovering the info icon */\n",
       ".sk-estimator-doc-link span {\n",
       "  display: none;\n",
       "  z-index: 9999;\n",
       "  position: relative;\n",
       "  font-weight: normal;\n",
       "  right: .2ex;\n",
       "  padding: .5ex;\n",
       "  margin: .5ex;\n",
       "  width: min-content;\n",
       "  min-width: 20ex;\n",
       "  max-width: 50ex;\n",
       "  color: var(--sklearn-color-text);\n",
       "  box-shadow: 2pt 2pt 4pt #999;\n",
       "  /* unfitted */\n",
       "  background: var(--sklearn-color-unfitted-level-0);\n",
       "  border: .5pt solid var(--sklearn-color-unfitted-level-3);\n",
       "}\n",
       "\n",
       ".sk-estimator-doc-link.fitted span {\n",
       "  /* fitted */\n",
       "  background: var(--sklearn-color-fitted-level-0);\n",
       "  border: var(--sklearn-color-fitted-level-3);\n",
       "}\n",
       "\n",
       ".sk-estimator-doc-link:hover span {\n",
       "  display: block;\n",
       "}\n",
       "\n",
       "/* \"?\"-specific style due to the `<a>` HTML tag */\n",
       "\n",
       "#sk-container-id-5 a.estimator_doc_link {\n",
       "  float: right;\n",
       "  font-size: 1rem;\n",
       "  line-height: 1em;\n",
       "  font-family: monospace;\n",
       "  background-color: var(--sklearn-color-background);\n",
       "  border-radius: 1rem;\n",
       "  height: 1rem;\n",
       "  width: 1rem;\n",
       "  text-decoration: none;\n",
       "  /* unfitted */\n",
       "  color: var(--sklearn-color-unfitted-level-1);\n",
       "  border: var(--sklearn-color-unfitted-level-1) 1pt solid;\n",
       "}\n",
       "\n",
       "#sk-container-id-5 a.estimator_doc_link.fitted {\n",
       "  /* fitted */\n",
       "  border: var(--sklearn-color-fitted-level-1) 1pt solid;\n",
       "  color: var(--sklearn-color-fitted-level-1);\n",
       "}\n",
       "\n",
       "/* On hover */\n",
       "#sk-container-id-5 a.estimator_doc_link:hover {\n",
       "  /* unfitted */\n",
       "  background-color: var(--sklearn-color-unfitted-level-3);\n",
       "  color: var(--sklearn-color-background);\n",
       "  text-decoration: none;\n",
       "}\n",
       "\n",
       "#sk-container-id-5 a.estimator_doc_link.fitted:hover {\n",
       "  /* fitted */\n",
       "  background-color: var(--sklearn-color-fitted-level-3);\n",
       "}\n",
       "</style><div id=\"sk-container-id-5\" class=\"sk-top-container\"><div class=\"sk-text-repr-fallback\"><pre>RandomForestClassifier(min_samples_leaf=5, min_samples_split=10,\n",
       "                       n_estimators=10)</pre><b>In a Jupyter environment, please rerun this cell to show the HTML representation or trust the notebook. <br />On GitHub, the HTML representation is unable to render, please try loading this page with nbviewer.org.</b></div><div class=\"sk-container\" hidden><div class=\"sk-item\"><div class=\"sk-estimator fitted sk-toggleable\"><input class=\"sk-toggleable__control sk-hidden--visually\" id=\"sk-estimator-id-9\" type=\"checkbox\" checked><label for=\"sk-estimator-id-9\" class=\"sk-toggleable__label fitted sk-toggleable__label-arrow fitted\">&nbsp;&nbsp;RandomForestClassifier<a class=\"sk-estimator-doc-link fitted\" rel=\"noreferrer\" target=\"_blank\" href=\"https://scikit-learn.org/1.5/modules/generated/sklearn.ensemble.RandomForestClassifier.html\">?<span>Documentation for RandomForestClassifier</span></a><span class=\"sk-estimator-doc-link fitted\">i<span>Fitted</span></span></label><div class=\"sk-toggleable__content fitted\"><pre>RandomForestClassifier(min_samples_leaf=5, min_samples_split=10,\n",
       "                       n_estimators=10)</pre></div> </div></div></div></div>"
      ],
      "text/plain": [
       "RandomForestClassifier(min_samples_leaf=5, min_samples_split=10,\n",
       "                       n_estimators=10)"
      ]
     },
     "execution_count": 26,
     "metadata": {},
     "output_type": "execute_result"
    }
   ],
   "source": [
    "forest = RandomForestClassifier(min_samples_leaf=5, min_samples_split=10, n_estimators=10)\n",
    "forest.fit(fielding_training, gold_glove_train)"
   ]
  },
  {
   "cell_type": "markdown",
   "id": "c7795f19-f3a0-428c-9786-326134138fe3",
   "metadata": {},
   "source": [
    "## ROC Curve"
   ]
  },
  {
   "cell_type": "code",
   "execution_count": 27,
   "id": "09928668-a5ed-4ba5-a50b-4fabfaac966b",
   "metadata": {},
   "outputs": [
    {
     "data": {
      "image/png": "[encoded data removed]",
      "text/plain": [
       "<Figure size 800x600 with 1 Axes>"
      ]
     },
     "metadata": {},
     "output_type": "display_data"
    }
   ],
   "source": [
    "from sklearn.metrics import RocCurveDisplay\n",
    "\n",
    "plt.rcParams[\"figure.figsize\"] = (8,6)\n",
    "\n",
    "RocCurveDisplay.from_estimator(forest, fielding_training, gold_glove_train)\n",
    "\n",
    "plt.show()"
   ]
  },
  {
   "cell_type": "markdown",
   "id": "2d4c90a9-6bb5-4545-b5e1-46e233636a27",
   "metadata": {},
   "source": [
    "## AUC"
   ]
  },
  {
   "cell_type": "code",
   "execution_count": 28,
   "id": "337a6225-5759-4b64-bcb1-90e35e705dd6",
   "metadata": {},
   "outputs": [],
   "source": [
    "def get_class_prob_df(clf, X):\n",
    "    \"\"\" Return a dataframe of class probabilities.\n",
    "\n",
    "    Arg:\n",
    "        clf:  A fitted model object\n",
    "        X:    The matrix of (test) features.\n",
    "    Returns: A dataframe of class probabilities\n",
    "    \"\"\"\n",
    "    return pd.DataFrame(clf.predict_proba(X), columns=clf.classes_)"
   ]
  },
  {
   "cell_type": "code",
   "execution_count": 29,
   "id": "f0b362f5-60ad-40fb-b1b3-b1d2284bd608",
   "metadata": {},
   "outputs": [
    {
     "data": {
      "text/html": [
       "<div>\n",
       "<style scoped>\n",
       "    .dataframe tbody tr th:only-of-type {\n",
       "        vertical-align: middle;\n",
       "    }\n",
       "\n",
       "    .dataframe tbody tr th {\n",
       "        vertical-align: top;\n",
       "    }\n",
       "\n",
       "    .dataframe thead th {\n",
       "        text-align: right;\n",
       "    }\n",
       "</style>\n",
       "<table border=\"1\" class=\"dataframe\">\n",
       "  <thead>\n",
       "    <tr style=\"text-align: right;\">\n",
       "      <th></th>\n",
       "      <th>No</th>\n",
       "      <th>Yes</th>\n",
       "    </tr>\n",
       "  </thead>\n",
       "  <tbody>\n",
       "    <tr>\n",
       "      <th>0</th>\n",
       "      <td>0.985714</td>\n",
       "      <td>0.014286</td>\n",
       "    </tr>\n",
       "    <tr>\n",
       "      <th>1</th>\n",
       "      <td>1.000000</td>\n",
       "      <td>0.000000</td>\n",
       "    </tr>\n",
       "    <tr>\n",
       "      <th>2</th>\n",
       "      <td>0.991474</td>\n",
       "      <td>0.008526</td>\n",
       "    </tr>\n",
       "    <tr>\n",
       "      <th>3</th>\n",
       "      <td>1.000000</td>\n",
       "      <td>0.000000</td>\n",
       "    </tr>\n",
       "    <tr>\n",
       "      <th>4</th>\n",
       "      <td>0.997413</td>\n",
       "      <td>0.002587</td>\n",
       "    </tr>\n",
       "    <tr>\n",
       "      <th>...</th>\n",
       "      <td>...</td>\n",
       "      <td>...</td>\n",
       "    </tr>\n",
       "    <tr>\n",
       "      <th>2064</th>\n",
       "      <td>0.999919</td>\n",
       "      <td>0.000081</td>\n",
       "    </tr>\n",
       "    <tr>\n",
       "      <th>2065</th>\n",
       "      <td>1.000000</td>\n",
       "      <td>0.000000</td>\n",
       "    </tr>\n",
       "    <tr>\n",
       "      <th>2066</th>\n",
       "      <td>0.999919</td>\n",
       "      <td>0.000081</td>\n",
       "    </tr>\n",
       "    <tr>\n",
       "      <th>2067</th>\n",
       "      <td>0.998942</td>\n",
       "      <td>0.001058</td>\n",
       "    </tr>\n",
       "    <tr>\n",
       "      <th>2068</th>\n",
       "      <td>0.999321</td>\n",
       "      <td>0.000679</td>\n",
       "    </tr>\n",
       "  </tbody>\n",
       "</table>\n",
       "<p>2069 rows × 2 columns</p>\n",
       "</div>"
      ],
      "text/plain": [
       "            No       Yes\n",
       "0     0.985714  0.014286\n",
       "1     1.000000  0.000000\n",
       "2     0.991474  0.008526\n",
       "3     1.000000  0.000000\n",
       "4     0.997413  0.002587\n",
       "...        ...       ...\n",
       "2064  0.999919  0.000081\n",
       "2065  1.000000  0.000000\n",
       "2066  0.999919  0.000081\n",
       "2067  0.998942  0.001058\n",
       "2068  0.999321  0.000679\n",
       "\n",
       "[2069 rows x 2 columns]"
      ]
     },
     "execution_count": 29,
     "metadata": {},
     "output_type": "execute_result"
    }
   ],
   "source": [
    "y_test_probs = get_class_prob_df(forest, fielding_validation)\n",
    "\n",
    "y_test_probs"
   ]
  },
  {
   "cell_type": "code",
   "execution_count": 30,
   "id": "37326024-c3a7-47aa-b8c4-a784ee965ce5",
   "metadata": {},
   "outputs": [
    {
     "data": {
      "text/plain": [
       "np.float64(0.7758539231469167)"
      ]
     },
     "execution_count": 30,
     "metadata": {},
     "output_type": "execute_result"
    }
   ],
   "source": [
    "from sklearn.metrics import roc_auc_score\n",
    "\n",
    "roc_auc_score(gold_glove_validation, y_test_probs['Yes'])"
   ]
  },
  {
   "cell_type": "markdown",
   "id": "dfbb5059-d459-4e0e-8c0a-d17e5793f3ca",
   "metadata": {},
   "source": [
    "## Balanced Success"
   ]
  },
  {
   "cell_type": "code",
   "execution_count": 31,
   "id": "1d424831-04a0-4adb-855d-82718a58424a",
   "metadata": {},
   "outputs": [
    {
     "name": "stderr",
     "output_type": "stream",
     "text": [
      "C:\\Users\\hp6265bz\\AppData\\Local\\anaconda3\\envs\\polars\\Lib\\site-packages\\sklearn\\base.py:1473: DataConversionWarning: A column-vector y was passed when a 1d array was expected. Please change the shape of y to (n_samples,), for example using ravel().\n",
      "  return fit_method(estimator, *args, **kwargs)\n"
     ]
    }
   ],
   "source": [
    "forest = RandomForestClassifier(min_samples_leaf=5, min_samples_split=10, n_estimators=10)\n",
    "forest.fit(fielding_training, gold_glove_train)\n",
    "\n",
    "y_test_pred = forest.predict(fielding_validation)\n",
    "y_test_prob = get_class_prob_df(forest, fielding_validation)"
   ]
  },
  {
   "cell_type": "code",
   "execution_count": 32,
   "id": "d885d52d-9fe9-4ead-a0ff-c665d6208c25",
   "metadata": {},
   "outputs": [
    {
     "name": "stderr",
     "output_type": "stream",
     "text": [
      "C:\\Users\\hp6265bz\\AppData\\Local\\anaconda3\\envs\\polars\\Lib\\site-packages\\sklearn\\base.py:1473: DataConversionWarning: A column-vector y was passed when a 1d array was expected. Please change the shape of y to (n_samples,), for example using ravel().\n",
      "  return fit_method(estimator, *args, **kwargs)\n"
     ]
    }
   ],
   "source": [
    "forest2 = RandomForestClassifier()\n",
    "forest2.fit(fielding_training, gold_glove_train)\n",
    "\n",
    "y_test_pred2 = forest.predict(fielding_validation)\n",
    "y_test_prob2 = get_class_prob_df(forest2, fielding_validation)"
   ]
  },
  {
   "cell_type": "code",
   "execution_count": 33,
   "id": "c51843be-4f81-4a58-8e77-a4e970e8d098",
   "metadata": {},
   "outputs": [
    {
     "name": "stderr",
     "output_type": "stream",
     "text": [
      "C:\\Users\\hp6265bz\\AppData\\Local\\Temp\\ipykernel_732\\987674393.py:19: RuntimeWarning: invalid value encountered in scalar divide\n",
      "  'ppv'              :  tp / (tp + fp),\n"
     ]
    },
    {
     "data": {
      "text/plain": [
       "{'accuracy': np.float64(0.9864668922184631),\n",
       " 'balanced_accuracy': np.float64(0.5),\n",
       " 'specificity': np.float64(1.0),\n",
       " 'sensitivity': np.float64(0.0),\n",
       " 'ppv': np.float64(nan),\n",
       " 'npv': np.float64(0.9864668922184631)}"
      ]
     },
     "execution_count": 33,
     "metadata": {},
     "output_type": "execute_result"
    }
   ],
   "source": [
    "get_metrics(gold_glove_validation, y_test_pred)"
   ]
  },
  {
   "cell_type": "code",
   "execution_count": 34,
   "id": "444f72a2-48e5-4485-8194-6021df8d6c7e",
   "metadata": {},
   "outputs": [
    {
     "name": "stderr",
     "output_type": "stream",
     "text": [
      "C:\\Users\\hp6265bz\\AppData\\Local\\Temp\\ipykernel_732\\987674393.py:19: RuntimeWarning: invalid value encountered in scalar divide\n",
      "  'ppv'              :  tp / (tp + fp),\n"
     ]
    },
    {
     "data": {
      "text/plain": [
       "{'accuracy': np.float64(0.9864668922184631),\n",
       " 'balanced_accuracy': np.float64(0.5),\n",
       " 'specificity': np.float64(1.0),\n",
       " 'sensitivity': np.float64(0.0),\n",
       " 'ppv': np.float64(nan),\n",
       " 'npv': np.float64(0.9864668922184631)}"
      ]
     },
     "execution_count": 34,
     "metadata": {},
     "output_type": "execute_result"
    }
   ],
   "source": [
    "get_metrics(gold_glove_validation, y_test_pred2)"
   ]
  },
  {
   "cell_type": "code",
   "execution_count": 35,
   "id": "5e31009d-5630-454f-88af-db8d02157384",
   "metadata": {},
   "outputs": [
    {
     "data": {
      "image/png": "[encoded data removed]",
      "text/plain": [
       "<Figure size 800x600 with 1 Axes>"
      ]
     },
     "metadata": {},
     "output_type": "display_data"
    }
   ],
   "source": [
    "ax = plt.gca()\n",
    "\n",
    "RocCurveDisplay.from_estimator(forest, fielding_validation, gold_glove_validation, ax = ax, name = \"Random Forest\")\n",
    "RocCurveDisplay.from_estimator(forest2, fielding_validation, gold_glove_validation, ax = ax, name = \"Default Random Forest\")\n",
    "\n",
    "plt.show()"
   ]
  },
  {
   "cell_type": "code",
   "execution_count": 36,
   "id": "7410f322-5703-475d-89e4-a7481036be97",
   "metadata": {},
   "outputs": [
    {
     "data": {
      "text/plain": [
       "np.float64(0.7758539231469167)"
      ]
     },
     "execution_count": 36,
     "metadata": {},
     "output_type": "execute_result"
    }
   ],
   "source": [
    "roc_auc_score(gold_glove_validation, y_test_probs['Yes'])"
   ]
  },
  {
   "cell_type": "code",
   "execution_count": 37,
   "id": "e896fb17-9168-4473-8d1c-c445c4f5e869",
   "metadata": {},
   "outputs": [
    {
     "data": {
      "text/plain": [
       "np.float64(0.835707286344229)"
      ]
     },
     "execution_count": 37,
     "metadata": {},
     "output_type": "execute_result"
    }
   ],
   "source": [
    "roc_auc_score(gold_glove_validation, y_test_prob2['Yes'])"
   ]
  },
  {
   "cell_type": "markdown",
   "id": "1e5d426c-2af4-4c75-8787-479575d0fd74",
   "metadata": {},
   "source": [
    "# Regression Problem"
   ]
  },
  {
   "cell_type": "markdown",
   "id": "22d8606a-b905-4503-ba6f-57939e558485",
   "metadata": {},
   "source": [
    "## Preparing Data"
   ]
  },
  {
   "cell_type": "code",
   "execution_count": null,
   "id": "e383fe96-7f8c-4bb2-ad55-e064af79ea70",
   "metadata": {},
   "outputs": [],
   "source": [
    "salaries.columns"
   ]
  },
  {
   "cell_type": "code",
   "execution_count": null,
   "id": "f6e818f8-11b8-4e1a-a274-a158d746b0b6",
   "metadata": {},
   "outputs": [],
   "source": [
    "salaries_training = salaries_final.filter(pl.col('Training-Validation') == 'Training').drop('playerID','yearID','salary', 'Training-Validation')\n",
    "salary_train = salaries_final.filter(pl.col('Training-Validation') == 'Training').drop('playerID','yearID','Training-Validation').select('salary')\n",
    "\n",
    "salaries_validation = salaries_final.filter(pl.col('Training-Validation') == 'Validation').drop('playerID','yearID','salary', 'Training-Validation')\n",
    "salary_validation = salaries_final.filter(pl.col('Training-Validation') == 'Validation').drop('playerID','yearID','Training-Validation').select('salary')\n",
    "\n",
    "salaries_training = salaries_training.to_pandas()\n",
    "salary_train = salary_train.to_pandas()\n",
    "\n",
    "salaries_validation = salaries_validation.to_pandas()\n",
    "salary_validation = salary_validation.to_pandas()\n"
   ]
  },
  {
   "cell_type": "code",
   "execution_count": null,
   "id": "7dd04007-ab69-475a-8396-e7ca4533e924",
   "metadata": {},
   "outputs": [],
   "source": [
    "from sklearn.tree import DecisionTreeRegressor\n",
    "from sklearn.ensemble import RandomForestRegressor"
   ]
  },
  {
   "cell_type": "markdown",
   "id": "7c7465d2-b83f-4d08-a73f-ece8c99785b1",
   "metadata": {},
   "source": [
    "## Tree Grid Search"
   ]
  },
  {
   "cell_type": "code",
   "execution_count": null,
   "id": "976e4580-7d0b-4331-aafc-3c11ac46a047",
   "metadata": {},
   "outputs": [],
   "source": [
    "tree_param_grid = {\n",
    "    'max_depth': [None, 3, 5, 10],\n",
    "    'min_samples_split': [2, 5, 10],\n",
    "    'min_samples_leaf': [1, 5, 10]\n",
    "}\n",
    "\n",
    "from sklearn.model_selection import StratifiedKFold\n",
    "\n",
    "state = 458\n",
    "\n",
    "cv_obj = StratifiedKFold(n_splits=10, shuffle=True, random_state=state)\n",
    "\n",
    "grid_search_tree_regressor = GridSearchCV(DecisionTreeRegressor(), tree_param_grid, verbose=3, cv=cv_obj)\n",
    "\n",
    "grid_search_tree_regressor.fit(salaries_training, salary_train)"
   ]
  },
  {
   "cell_type": "code",
   "execution_count": null,
   "id": "0ebb87ca-ae1f-4bea-87f0-8ec155e4e7c2",
   "metadata": {},
   "outputs": [],
   "source": [
    "grid_search_tree_regressor.best_score_"
   ]
  },
  {
   "cell_type": "code",
   "execution_count": null,
   "id": "13151edb-127d-4c3e-a3ad-8ec43e3d406f",
   "metadata": {},
   "outputs": [],
   "source": [
    "grid_search_tree_regressor.best_params_"
   ]
  },
  {
   "cell_type": "code",
   "execution_count": null,
   "id": "5f837c4e-a343-4e44-b480-f7372543637e",
   "metadata": {},
   "outputs": [],
   "source": [
    "best_model_tree_regressor = grid_search_tree_regressor.best_estimator_\n",
    "best_model_tree_regressor"
   ]
  },
  {
   "cell_type": "markdown",
   "id": "66b90a52-3768-42be-9134-2ebfae9a7099",
   "metadata": {},
   "source": [
    "## Forest Grid Search"
   ]
  },
  {
   "cell_type": "code",
   "execution_count": null,
   "id": "974d1354-896a-4e78-9470-966bb5b7ee25",
   "metadata": {},
   "outputs": [],
   "source": [
    "rf_param_grid = {\n",
    "    'n_estimators': [25, 50, 100],\n",
    "    'max_depth': [None, 5, 10],\n",
    "    'min_samples_split': [2, 5, 10],\n",
    "    'min_samples_leaf': [1, 5, 10]\n",
    "}\n",
    "\n",
    "from sklearn.model_selection import StratifiedKFold\n",
    "\n",
    "state = 458\n",
    "\n",
    "cv_obj = StratifiedKFold(n_splits=10, shuffle=True, random_state=state)\n",
    "\n",
    "grid_search_forest_r = GridSearchCV(RandomForestRegressor(), rf_param_grid, verbose=3, cv=cv_obj)\n",
    "\n",
    "grid_search_forest_r.fit(salaries_training, salary_train)"
   ]
  },
  {
   "cell_type": "code",
   "execution_count": null,
   "id": "c030f9c6-ef82-4a75-8010-48442f3837a3",
   "metadata": {},
   "outputs": [],
   "source": [
    "grid_search_forest_r.best_score_"
   ]
  },
  {
   "cell_type": "code",
   "execution_count": null,
   "id": "060fe327-41d1-4287-a948-eb6e428ffd53",
   "metadata": {},
   "outputs": [],
   "source": [
    "grid_search_forest_r.best_params_"
   ]
  },
  {
   "cell_type": "code",
   "execution_count": null,
   "id": "43694b2d-b56b-4912-b337-c824c12170b5",
   "metadata": {},
   "outputs": [],
   "source": [
    "best_model_forest_r = grid_search_forest_r.best_estimator_\n",
    "best_model_forest_r"
   ]
  },
  {
   "cell_type": "markdown",
   "id": "c703a9ce-bd2c-41bc-ac02-4cb27fc1be91",
   "metadata": {},
   "source": [
    "## Comparing Scores"
   ]
  },
  {
   "cell_type": "code",
   "execution_count": null,
   "id": "de215123-4bd9-4b25-98f0-d4c819840376",
   "metadata": {},
   "outputs": [],
   "source": [
    "grid_search_forest_r.best_score_ > grid_search_tree_regressor.best_score_"
   ]
  },
  {
   "cell_type": "markdown",
   "id": "7e73dcf3-6cff-40ad-9908-7d6b3c5ff889",
   "metadata": {},
   "source": [
    "## Measuring Performance"
   ]
  },
  {
   "cell_type": "code",
   "execution_count": null,
   "id": "764fd9e0-8bf4-440e-8c6a-4f5f1d7cb607",
   "metadata": {},
   "outputs": [],
   "source": [
    "salaries_validation_pred_rf = grid_search_forest_r.predict(salaries_validation)"
   ]
  },
  {
   "cell_type": "code",
   "execution_count": null,
   "id": "af867d29-a4e0-42c1-a691-a7d116c9d921",
   "metadata": {},
   "outputs": [],
   "source": [
    "get_metrics(salary_validation, salaries_validation_pred_rf)"
   ]
  },
  {
   "cell_type": "markdown",
   "id": "f4af6fda-876e-477a-859d-7b3f514dff6a",
   "metadata": {},
   "source": [
    "## Fitting the Best Model"
   ]
  },
  {
   "cell_type": "code",
   "execution_count": null,
   "id": "2005c81b-9aad-4b79-84d4-debde19ba0da",
   "metadata": {},
   "outputs": [],
   "source": [
    "forest = RandomForestRegressor(min_samples_leaf=5, n_estimators=200)\n",
    "forest.fit(salaries_training, salary_train)"
   ]
  },
  {
   "cell_type": "markdown",
   "id": "ac442983-91e9-4f10-b422-e94a8ef87fc7",
   "metadata": {},
   "source": [
    "## Root MSE & $R^2$"
   ]
  },
  {
   "cell_type": "code",
   "execution_count": null,
   "id": "b7fd3cc5-23fd-4281-b4e7-4ae975199b4c",
   "metadata": {},
   "outputs": [],
   "source": [
    "from sklearn.metrics import explained_variance_score, mean_squared_error"
   ]
  },
  {
   "cell_type": "code",
   "execution_count": null,
   "id": "758360b0-8055-4ac9-bc5b-cc4638cdd7a1",
   "metadata": {},
   "outputs": [],
   "source": [
    "salary_validation_pred = forest.predict(salaries_validation)\n",
    "\n",
    "salary_validation_pred"
   ]
  },
  {
   "cell_type": "code",
   "execution_count": null,
   "id": "d2995a4f-7ba9-4002-99b9-6440a7e18175",
   "metadata": {},
   "outputs": [],
   "source": [
    "{\n",
    " 'R^2': explained_variance_score(salary_validation, salary_validation_pred),\n",
    " 'RMSE': np.root(mean_squared_error(salary_validation, salary_validation_pred))\n",
    "}"
   ]
  },
  {
   "cell_type": "code",
   "execution_count": null,
   "id": "a7484906-97ea-4629-b699-c7d6e7e451e4",
   "metadata": {},
   "outputs": [],
   "source": []
  },
  {
   "cell_type": "code",
   "execution_count": null,
   "id": "6a3890dc-bbdf-4b70-871f-8275600a2f91",
   "metadata": {},
   "outputs": [],
   "source": []
  },
  {
   "cell_type": "code",
   "execution_count": null,
   "id": "a3df1a96-6f19-4d75-9bc4-36a2de49c58f",
   "metadata": {},
   "outputs": [],
   "source": []
  }
 ],
 "metadata": {
  "kernelspec": {
   "display_name": "Python 3 (ipykernel)",
   "language": "python",
   "name": "python3"
  },
  "language_info": {
   "codemirror_mode": {
    "name": "ipython",
    "version": 3
   },
   "file_extension": ".py",
   "mimetype": "text/x-python",
   "name": "python",
   "nbconvert_exporter": "python",
   "pygments_lexer": "ipython3",
   "version": "3.12.5"
  }
 },
 "nbformat": 4,
 "nbformat_minor": 5
}
