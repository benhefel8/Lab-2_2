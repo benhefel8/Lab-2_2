{
 "cells": [
  {
   "cell_type": "markdown",
   "id": "ca2e6128-f254-48e0-b9b2-2852f465fbad",
   "metadata": {
    "jp-MarkdownHeadingCollapsed": true
   },
   "source": [
    "# Reading in Polars and Data"
   ]
  },
  {
   "cell_type": "code",
   "execution_count": 4,
   "id": "3b0619a7-3a78-4904-9d92-0e5cc7823b7d",
   "metadata": {},
   "outputs": [],
   "source": [
    "import polars as pl\n",
    "pl.Config.with_columns_kwargs = True"
   ]
  },
  {
   "cell_type": "code",
   "execution_count": 6,
   "id": "bed6a7f1-6575-4e6a-970d-cd6e2ee0725f",
   "metadata": {},
   "outputs": [
    {
     "data": {
      "text/html": [
       "<div><style>\n",
       ".dataframe > thead > tr,\n",
       ".dataframe > tbody > tr {\n",
       "  text-align: right;\n",
       "  white-space: pre-wrap;\n",
       "}\n",
       "</style>\n",
       "<small>shape: (26_428, 5)</small><table border=\"1\" class=\"dataframe\"><thead><tr><th>yearID</th><th>teamID</th><th>lgID</th><th>playerID</th><th>salary</th></tr><tr><td>i64</td><td>str</td><td>str</td><td>str</td><td>i64</td></tr></thead><tbody><tr><td>1985</td><td>&quot;ATL&quot;</td><td>&quot;NL&quot;</td><td>&quot;barkele01&quot;</td><td>870000</td></tr><tr><td>1985</td><td>&quot;ATL&quot;</td><td>&quot;NL&quot;</td><td>&quot;bedrost01&quot;</td><td>550000</td></tr><tr><td>1985</td><td>&quot;ATL&quot;</td><td>&quot;NL&quot;</td><td>&quot;benedbr01&quot;</td><td>545000</td></tr><tr><td>1985</td><td>&quot;ATL&quot;</td><td>&quot;NL&quot;</td><td>&quot;campri01&quot;</td><td>633333</td></tr><tr><td>1985</td><td>&quot;ATL&quot;</td><td>&quot;NL&quot;</td><td>&quot;ceronri01&quot;</td><td>625000</td></tr><tr><td>&hellip;</td><td>&hellip;</td><td>&hellip;</td><td>&hellip;</td><td>&hellip;</td></tr><tr><td>2016</td><td>&quot;WAS&quot;</td><td>&quot;NL&quot;</td><td>&quot;strasst01&quot;</td><td>10400000</td></tr><tr><td>2016</td><td>&quot;WAS&quot;</td><td>&quot;NL&quot;</td><td>&quot;taylomi02&quot;</td><td>524000</td></tr><tr><td>2016</td><td>&quot;WAS&quot;</td><td>&quot;NL&quot;</td><td>&quot;treinbl01&quot;</td><td>524900</td></tr><tr><td>2016</td><td>&quot;WAS&quot;</td><td>&quot;NL&quot;</td><td>&quot;werthja01&quot;</td><td>21733615</td></tr><tr><td>2016</td><td>&quot;WAS&quot;</td><td>&quot;NL&quot;</td><td>&quot;zimmery01&quot;</td><td>14000000</td></tr></tbody></table></div>"
      ],
      "text/plain": [
       "shape: (26_428, 5)\n",
       "┌────────┬────────┬──────┬───────────┬──────────┐\n",
       "│ yearID ┆ teamID ┆ lgID ┆ playerID  ┆ salary   │\n",
       "│ ---    ┆ ---    ┆ ---  ┆ ---       ┆ ---      │\n",
       "│ i64    ┆ str    ┆ str  ┆ str       ┆ i64      │\n",
       "╞════════╪════════╪══════╪═══════════╪══════════╡\n",
       "│ 1985   ┆ ATL    ┆ NL   ┆ barkele01 ┆ 870000   │\n",
       "│ 1985   ┆ ATL    ┆ NL   ┆ bedrost01 ┆ 550000   │\n",
       "│ 1985   ┆ ATL    ┆ NL   ┆ benedbr01 ┆ 545000   │\n",
       "│ 1985   ┆ ATL    ┆ NL   ┆ campri01  ┆ 633333   │\n",
       "│ 1985   ┆ ATL    ┆ NL   ┆ ceronri01 ┆ 625000   │\n",
       "│ …      ┆ …      ┆ …    ┆ …         ┆ …        │\n",
       "│ 2016   ┆ WAS    ┆ NL   ┆ strasst01 ┆ 10400000 │\n",
       "│ 2016   ┆ WAS    ┆ NL   ┆ taylomi02 ┆ 524000   │\n",
       "│ 2016   ┆ WAS    ┆ NL   ┆ treinbl01 ┆ 524900   │\n",
       "│ 2016   ┆ WAS    ┆ NL   ┆ werthja01 ┆ 21733615 │\n",
       "│ 2016   ┆ WAS    ┆ NL   ┆ zimmery01 ┆ 14000000 │\n",
       "└────────┴────────┴──────┴───────────┴──────────┘"
      ]
     },
     "execution_count": 6,
     "metadata": {},
     "output_type": "execute_result"
    }
   ],
   "source": [
    "batting = pl.read_csv('Data/lahman baseball data/Batting.csv')\n",
    "pitching = pl.read_csv('Data/lahman baseball data/Pitching.csv')\n",
    "fielding = pl.read_csv('Data/lahman baseball data/Fielding.csv')\n",
    "awards = pl.read_csv('Data/lahman baseball data/AwardsPlayers.csv')\n",
    "salaries = pl.read_csv('Data/lahman baseball data/Salaries.csv')\n",
    "salaries"
   ]
  },
  {
   "cell_type": "markdown",
   "id": "c8a38c58-c92e-49d4-bc75-fced280fb958",
   "metadata": {
    "jp-MarkdownHeadingCollapsed": true
   },
   "source": [
    "# Gold Glove Data Set"
   ]
  },
  {
   "cell_type": "code",
   "execution_count": 9,
   "id": "789059ae-326c-4142-b0ce-73310b7888ef",
   "metadata": {},
   "outputs": [
    {
     "data": {
      "text/plain": [
       "'case is player, year, pos, league'"
      ]
     },
     "execution_count": 9,
     "metadata": {},
     "output_type": "execute_result"
    }
   ],
   "source": [
    "'case is player, year, pos, league'"
   ]
  },
  {
   "cell_type": "code",
   "execution_count": 11,
   "id": "a4324954-6b89-4c71-a0db-2dfe917cc258",
   "metadata": {},
   "outputs": [
    {
     "data": {
      "text/html": [
       "<div><style>\n",
       ".dataframe > thead > tr,\n",
       ".dataframe > tbody > tr {\n",
       "  text-align: right;\n",
       "  white-space: pre-wrap;\n",
       "}\n",
       "</style>\n",
       "<small>shape: (21_356, 16)</small><table border=\"1\" class=\"dataframe\"><thead><tr><th>playerID</th><th>yearID</th><th>lgID</th><th>POS</th><th>InnOuts</th><th>PO</th><th>A</th><th>E</th><th>DP</th><th>PB</th><th>WP</th><th>SB</th><th>CS</th><th>ZR</th><th>Gold Glove?</th><th>Training-Validation</th></tr><tr><td>str</td><td>i64</td><td>str</td><td>str</td><td>i64</td><td>i64</td><td>i64</td><td>i64</td><td>i64</td><td>i64</td><td>i64</td><td>i64</td><td>i64</td><td>i64</td><td>str</td><td>str</td></tr></thead><tbody><tr><td>&quot;shrevch01&quot;</td><td>2014</td><td>&quot;NL&quot;</td><td>&quot;P&quot;</td><td>37</td><td>0</td><td>3</td><td>0</td><td>0</td><td>0</td><td>0</td><td>0</td><td>0</td><td>0</td><td>&quot;No&quot;</td><td>&quot;Training&quot;</td></tr><tr><td>&quot;uriasju01&quot;</td><td>2017</td><td>&quot;NL&quot;</td><td>&quot;P&quot;</td><td>70</td><td>1</td><td>0</td><td>3</td><td>0</td><td>0</td><td>0</td><td>0</td><td>0</td><td>0</td><td>&quot;No&quot;</td><td>&quot;Training&quot;</td></tr><tr><td>&quot;varshda01&quot;</td><td>2022</td><td>&quot;NL&quot;</td><td>&quot;OF&quot;</td><td>2761</td><td>271</td><td>8</td><td>3</td><td>0</td><td>0</td><td>0</td><td>0</td><td>0</td><td>0</td><td>&quot;No&quot;</td><td>&quot;Training&quot;</td></tr><tr><td>&quot;browndo01&quot;</td><td>2014</td><td>&quot;NL&quot;</td><td>&quot;OF&quot;</td><td>3124</td><td>182</td><td>4</td><td>2</td><td>2</td><td>0</td><td>0</td><td>0</td><td>0</td><td>0</td><td>&quot;No&quot;</td><td>&quot;Training&quot;</td></tr><tr><td>&quot;gordoal01&quot;</td><td>2013</td><td>&quot;AL&quot;</td><td>&quot;OF&quot;</td><td>4093</td><td>323</td><td>17</td><td>1</td><td>2</td><td>0</td><td>0</td><td>0</td><td>0</td><td>0</td><td>&quot;Yes&quot;</td><td>&quot;Training&quot;</td></tr><tr><td>&hellip;</td><td>&hellip;</td><td>&hellip;</td><td>&hellip;</td><td>&hellip;</td><td>&hellip;</td><td>&hellip;</td><td>&hellip;</td><td>&hellip;</td><td>&hellip;</td><td>&hellip;</td><td>&hellip;</td><td>&hellip;</td><td>&hellip;</td><td>&hellip;</td><td>&hellip;</td></tr><tr><td>&quot;lauerer01&quot;</td><td>2023</td><td>&quot;NL&quot;</td><td>&quot;P&quot;</td><td>140</td><td>1</td><td>2</td><td>1</td><td>0</td><td>0</td><td>0</td><td>0</td><td>0</td><td>0</td><td>&quot;No&quot;</td><td>&quot;Validation&quot;</td></tr><tr><td>&quot;deanau01&quot;</td><td>2020</td><td>&quot;NL&quot;</td><td>&quot;1B&quot;</td><td>6</td><td>2</td><td>0</td><td>0</td><td>0</td><td>0</td><td>0</td><td>0</td><td>0</td><td>0</td><td>&quot;No&quot;</td><td>&quot;Training&quot;</td></tr><tr><td>&quot;bregmal01&quot;</td><td>2018</td><td>&quot;AL&quot;</td><td>&quot;OF&quot;</td><td>6</td><td>0</td><td>0</td><td>0</td><td>0</td><td>0</td><td>0</td><td>0</td><td>0</td><td>0</td><td>&quot;No&quot;</td><td>&quot;Training&quot;</td></tr><tr><td>&quot;galleza01&quot;</td><td>2022</td><td>&quot;NL&quot;</td><td>&quot;P&quot;</td><td>552</td><td>10</td><td>16</td><td>1</td><td>3</td><td>0</td><td>0</td><td>0</td><td>0</td><td>0</td><td>&quot;No&quot;</td><td>&quot;Training&quot;</td></tr><tr><td>&quot;hoffmje02&quot;</td><td>2016</td><td>&quot;NL&quot;</td><td>&quot;P&quot;</td><td>94</td><td>3</td><td>2</td><td>1</td><td>1</td><td>0</td><td>0</td><td>0</td><td>0</td><td>0</td><td>&quot;No&quot;</td><td>&quot;Training&quot;</td></tr></tbody></table></div>"
      ],
      "text/plain": [
       "shape: (21_356, 16)\n",
       "┌───────────┬────────┬──────┬─────┬───┬─────┬─────┬─────────────┬─────────────────────┐\n",
       "│ playerID  ┆ yearID ┆ lgID ┆ POS ┆ … ┆ CS  ┆ ZR  ┆ Gold Glove? ┆ Training-Validation │\n",
       "│ ---       ┆ ---    ┆ ---  ┆ --- ┆   ┆ --- ┆ --- ┆ ---         ┆ ---                 │\n",
       "│ str       ┆ i64    ┆ str  ┆ str ┆   ┆ i64 ┆ i64 ┆ str         ┆ str                 │\n",
       "╞═══════════╪════════╪══════╪═════╪═══╪═════╪═════╪═════════════╪═════════════════════╡\n",
       "│ shrevch01 ┆ 2014   ┆ NL   ┆ P   ┆ … ┆ 0   ┆ 0   ┆ No          ┆ Training            │\n",
       "│ uriasju01 ┆ 2017   ┆ NL   ┆ P   ┆ … ┆ 0   ┆ 0   ┆ No          ┆ Training            │\n",
       "│ varshda01 ┆ 2022   ┆ NL   ┆ OF  ┆ … ┆ 0   ┆ 0   ┆ No          ┆ Training            │\n",
       "│ browndo01 ┆ 2014   ┆ NL   ┆ OF  ┆ … ┆ 0   ┆ 0   ┆ No          ┆ Training            │\n",
       "│ gordoal01 ┆ 2013   ┆ AL   ┆ OF  ┆ … ┆ 0   ┆ 0   ┆ Yes         ┆ Training            │\n",
       "│ …         ┆ …      ┆ …    ┆ …   ┆ … ┆ …   ┆ …   ┆ …           ┆ …                   │\n",
       "│ lauerer01 ┆ 2023   ┆ NL   ┆ P   ┆ … ┆ 0   ┆ 0   ┆ No          ┆ Validation          │\n",
       "│ deanau01  ┆ 2020   ┆ NL   ┆ 1B  ┆ … ┆ 0   ┆ 0   ┆ No          ┆ Training            │\n",
       "│ bregmal01 ┆ 2018   ┆ AL   ┆ OF  ┆ … ┆ 0   ┆ 0   ┆ No          ┆ Training            │\n",
       "│ galleza01 ┆ 2022   ┆ NL   ┆ P   ┆ … ┆ 0   ┆ 0   ┆ No          ┆ Training            │\n",
       "│ hoffmje02 ┆ 2016   ┆ NL   ┆ P   ┆ … ┆ 0   ┆ 0   ┆ No          ┆ Training            │\n",
       "└───────────┴────────┴──────┴─────┴───┴─────┴─────┴─────────────┴─────────────────────┘"
      ]
     },
     "execution_count": 11,
     "metadata": {},
     "output_type": "execute_result"
    }
   ],
   "source": [
    "fielding_awards = (fielding\n",
    ".filter((pl.col('yearID') >= 2013))\n",
    ".join(\n",
    "     awards.rename({\"notes\": \"POS\"}) \n",
    "           .select(['playerID', 'yearID', 'awardID', 'lgID', 'POS'])  \n",
    "           .filter((pl.col('awardID') == 'Gold Glove') & (pl.col('yearID') >= 2013)),\n",
    "      on=['playerID', 'yearID', 'lgID'],\n",
    "      how='left'\n",
    "     )\n",
    ".group_by(['playerID','yearID', 'lgID', 'POS', 'awardID'])\n",
    ".agg(\n",
    "     pl.col('InnOuts').sum().alias('InnOuts'),\n",
    "     pl.col('PO').sum().alias('PO'),\n",
    "     pl.col('A').sum().alias('A'),\n",
    "     pl.col('E').sum().alias('E'),\n",
    "     pl.col('DP').sum().alias('DP'),\n",
    "     pl.col('PB').cast(int).sum().alias('PB'),\n",
    "     pl.col('WP').cast(int).sum().alias('WP'),\n",
    "     pl.col('SB').cast(int).sum().alias('SB'),\n",
    "     pl.col('CS').cast(int).sum().alias('CS'),\n",
    "     pl.col('ZR').cast(int).sum().alias('ZR') \n",
    "    )    \n",
    ".with_columns(\n",
    "        pl.when(pl.col('awardID').is_null())\n",
    "          .then(pl.lit('No'))\n",
    "          .otherwise(pl.lit('Yes'))\n",
    "          .alias('Gold Glove?'),\n",
    "         pl.when(pl.col('yearID') == 2023)\n",
    "          .then(pl.lit('Validation'))\n",
    "          .otherwise(pl.lit('Training'))\n",
    "          .alias('Training-Validation')\n",
    "              )\n",
    ".drop(pl.col('awardID'))\n",
    "                  )\n",
    "# fielding_awards = fielding_awards.filter(pl.col('Gold Glove?') == 'Yes', pl.col('POS') == 'C', pl.col('yearID') == 2017)\n",
    "fielding_awards.write_csv('data/fielding_awards.csv')\n",
    "\n",
    "fielding_awards"
   ]
  },
  {
   "cell_type": "markdown",
   "id": "9e7fa5cd-588e-4505-8289-47516a746291",
   "metadata": {
    "jp-MarkdownHeadingCollapsed": true
   },
   "source": [
    "# Salary Dataset"
   ]
  },
  {
   "cell_type": "code",
   "execution_count": 14,
   "id": "e30ce0b4-037b-4ec5-8a28-7c21252d5a20",
   "metadata": {},
   "outputs": [
    {
     "data": {
      "text/plain": [
       "'case is player yearsalary, batting, fielding, pitching'"
      ]
     },
     "execution_count": 14,
     "metadata": {},
     "output_type": "execute_result"
    }
   ],
   "source": [
    "'case is player year' 'salary, batting, fielding, pitching'"
   ]
  },
  {
   "cell_type": "code",
   "execution_count": 16,
   "id": "921fc61f-4264-4547-9e3f-a7f99e994c7c",
   "metadata": {},
   "outputs": [
    {
     "data": {
      "text/html": [
       "<div><style>\n",
       ".dataframe > thead > tr,\n",
       ".dataframe > tbody > tr {\n",
       "  text-align: right;\n",
       "  white-space: pre-wrap;\n",
       "}\n",
       "</style>\n",
       "<small>shape: (9_131, 51)</small><table border=\"1\" class=\"dataframe\"><thead><tr><th>playerID</th><th>yearID</th><th>salary</th><th>InnOuts</th><th>PO</th><th>A</th><th>E</th><th>DP</th><th>PB</th><th>WP</th><th>SB</th><th>CS</th><th>ZR</th><th>G</th><th>AB</th><th>R</th><th>H</th><th>2B</th><th>3B</th><th>HR</th><th>SB_batting</th><th>CS_batting</th><th>BB_batting</th><th>SO_batting</th><th>IBB_batting</th><th>HBP_batting</th><th>Sacrifice Hits</th><th>Sacrifice Flies</th><th>GIDP</th><th>GS</th><th>CG</th><th>SHO</th><th>SV</th><th>IPOuts</th><th>H_pitching</th><th>ER_pitching</th><th>HR_pitching</th><th>BB_pitching</th><th>SO_pitching</th><th>BAOpp</th><th>ERA_pitching</th><th>IBB_pitching</th><th>WP_pitching</th><th>HBP_pitching</th><th>Balk</th><th>Batters Faced by Pitcher</th><th>Games Finished</th><th>SH_pitching</th><th>SF_pitching</th><th>GIDP_pitching</th><th>Training-Validation</th></tr><tr><td>str</td><td>i64</td><td>i64</td><td>i64</td><td>i64</td><td>i64</td><td>i64</td><td>i64</td><td>i64</td><td>i64</td><td>i64</td><td>i64</td><td>i64</td><td>i64</td><td>i64</td><td>i64</td><td>i64</td><td>i64</td><td>i64</td><td>i64</td><td>i64</td><td>i64</td><td>i64</td><td>i64</td><td>i64</td><td>i64</td><td>i64</td><td>i64</td><td>i64</td><td>i64</td><td>i64</td><td>i64</td><td>i64</td><td>i64</td><td>i64</td><td>i64</td><td>i64</td><td>i64</td><td>i64</td><td>f64</td><td>f64</td><td>i64</td><td>i64</td><td>i64</td><td>i64</td><td>i64</td><td>i64</td><td>i64</td><td>i64</td><td>i64</td><td>str</td></tr></thead><tbody><tr><td>&quot;bardda01&quot;</td><td>2012</td><td>1612500</td><td>178</td><td>4</td><td>8</td><td>0</td><td>3</td><td>0</td><td>0</td><td>0</td><td>0</td><td>0</td><td>17</td><td>2</td><td>0</td><td>0</td><td>0</td><td>0</td><td>0</td><td>0</td><td>0</td><td>0</td><td>1</td><td>0</td><td>0</td><td>0</td><td>0</td><td>0</td><td>10</td><td>0</td><td>0</td><td>0</td><td>178</td><td>60</td><td>41</td><td>9</td><td>43</td><td>38</td><td>0.271</td><td>6.22</td><td>1</td><td>1</td><td>8</td><td>2</td><td>277</td><td>2</td><td>0</td><td>0</td><td>7</td><td>&quot;Training&quot;</td></tr><tr><td>&quot;kimbrcr01&quot;</td><td>2016</td><td>11000000</td><td>159</td><td>0</td><td>2</td><td>0</td><td>0</td><td>0</td><td>0</td><td>0</td><td>0</td><td>0</td><td>57</td><td>0</td><td>0</td><td>0</td><td>0</td><td>0</td><td>0</td><td>0</td><td>0</td><td>0</td><td>0</td><td>0</td><td>0</td><td>0</td><td>0</td><td>0</td><td>0</td><td>0</td><td>0</td><td>31</td><td>159</td><td>28</td><td>20</td><td>4</td><td>30</td><td>83</td><td>0.152</td><td>3.4</td><td>0</td><td>6</td><td>4</td><td>0</td><td>220</td><td>47</td><td>0</td><td>0</td><td>3</td><td>&quot;Validation&quot;</td></tr><tr><td>&quot;schmija01&quot;</td><td>2008</td><td>15217401</td><td>0</td><td>0</td><td>0</td><td>0</td><td>0</td><td>0</td><td>0</td><td>0</td><td>0</td><td>0</td><td>0</td><td>0</td><td>0</td><td>0</td><td>0</td><td>0</td><td>0</td><td>0</td><td>0</td><td>0</td><td>0</td><td>0</td><td>0</td><td>0</td><td>0</td><td>0</td><td>0</td><td>0</td><td>0</td><td>0</td><td>0</td><td>0</td><td>0</td><td>0</td><td>0</td><td>0</td><td>0.0</td><td>0.0</td><td>0</td><td>0</td><td>0</td><td>0</td><td>0</td><td>0</td><td>0</td><td>0</td><td>0</td><td>&quot;Training&quot;</td></tr><tr><td>&quot;sizemgr01&quot;</td><td>2008</td><td>3166666</td><td>4014</td><td>382</td><td>2</td><td>2</td><td>1</td><td>0</td><td>0</td><td>0</td><td>0</td><td>0</td><td>151</td><td>0</td><td>0</td><td>0</td><td>0</td><td>0</td><td>0</td><td>0</td><td>0</td><td>0</td><td>0</td><td>0</td><td>0</td><td>0</td><td>0</td><td>0</td><td>151</td><td>0</td><td>0</td><td>0</td><td>0</td><td>0</td><td>0</td><td>0</td><td>0</td><td>0</td><td>0.0</td><td>0.0</td><td>0</td><td>0</td><td>0</td><td>0</td><td>0</td><td>0</td><td>0</td><td>0</td><td>0</td><td>&quot;Training&quot;</td></tr><tr><td>&quot;moralfr01&quot;</td><td>2010</td><td>406000</td><td>86</td><td>0</td><td>1</td><td>0</td><td>0</td><td>0</td><td>0</td><td>0</td><td>0</td><td>0</td><td>35</td><td>0</td><td>0</td><td>0</td><td>0</td><td>0</td><td>0</td><td>0</td><td>0</td><td>0</td><td>0</td><td>0</td><td>0</td><td>0</td><td>0</td><td>0</td><td>0</td><td>0</td><td>0</td><td>3</td><td>86</td><td>28</td><td>20</td><td>5</td><td>24</td><td>27</td><td>0.255</td><td>6.28</td><td>2</td><td>3</td><td>3</td><td>2</td><td>140</td><td>15</td><td>0</td><td>0</td><td>1</td><td>&quot;Training&quot;</td></tr><tr><td>&hellip;</td><td>&hellip;</td><td>&hellip;</td><td>&hellip;</td><td>&hellip;</td><td>&hellip;</td><td>&hellip;</td><td>&hellip;</td><td>&hellip;</td><td>&hellip;</td><td>&hellip;</td><td>&hellip;</td><td>&hellip;</td><td>&hellip;</td><td>&hellip;</td><td>&hellip;</td><td>&hellip;</td><td>&hellip;</td><td>&hellip;</td><td>&hellip;</td><td>&hellip;</td><td>&hellip;</td><td>&hellip;</td><td>&hellip;</td><td>&hellip;</td><td>&hellip;</td><td>&hellip;</td><td>&hellip;</td><td>&hellip;</td><td>&hellip;</td><td>&hellip;</td><td>&hellip;</td><td>&hellip;</td><td>&hellip;</td><td>&hellip;</td><td>&hellip;</td><td>&hellip;</td><td>&hellip;</td><td>&hellip;</td><td>&hellip;</td><td>&hellip;</td><td>&hellip;</td><td>&hellip;</td><td>&hellip;</td><td>&hellip;</td><td>&hellip;</td><td>&hellip;</td><td>&hellip;</td><td>&hellip;</td><td>&hellip;</td><td>&hellip;</td></tr><tr><td>&quot;paulxa01&quot;</td><td>2011</td><td>419500</td><td>60</td><td>5</td><td>1</td><td>0</td><td>0</td><td>0</td><td>0</td><td>0</td><td>0</td><td>0</td><td>5</td><td>0</td><td>0</td><td>0</td><td>0</td><td>0</td><td>0</td><td>0</td><td>0</td><td>0</td><td>0</td><td>0</td><td>0</td><td>0</td><td>0</td><td>0</td><td>2</td><td>0</td><td>0</td><td>0</td><td>0</td><td>0</td><td>0</td><td>0</td><td>0</td><td>0</td><td>0.0</td><td>0.0</td><td>0</td><td>0</td><td>0</td><td>0</td><td>0</td><td>0</td><td>0</td><td>0</td><td>0</td><td>&quot;Training&quot;</td></tr><tr><td>&quot;greenkh01&quot;</td><td>2006</td><td>405000</td><td>2993</td><td>138</td><td>309</td><td>9</td><td>60</td><td>0</td><td>0</td><td>0</td><td>0</td><td>0</td><td>113</td><td>0</td><td>0</td><td>0</td><td>0</td><td>0</td><td>0</td><td>0</td><td>0</td><td>0</td><td>0</td><td>0</td><td>0</td><td>0</td><td>0</td><td>0</td><td>111</td><td>0</td><td>0</td><td>0</td><td>0</td><td>0</td><td>0</td><td>0</td><td>0</td><td>0</td><td>0.0</td><td>0.0</td><td>0</td><td>0</td><td>0</td><td>0</td><td>0</td><td>0</td><td>0</td><td>0</td><td>0</td><td>&quot;Training&quot;</td></tr><tr><td>&quot;jepseke01&quot;</td><td>2013</td><td>1181250</td><td>108</td><td>0</td><td>2</td><td>0</td><td>0</td><td>0</td><td>0</td><td>0</td><td>0</td><td>0</td><td>45</td><td>0</td><td>0</td><td>0</td><td>0</td><td>0</td><td>0</td><td>0</td><td>0</td><td>0</td><td>0</td><td>0</td><td>0</td><td>0</td><td>0</td><td>0</td><td>0</td><td>0</td><td>0</td><td>0</td><td>108</td><td>41</td><td>18</td><td>3</td><td>14</td><td>36</td><td>0.283</td><td>4.5</td><td>4</td><td>2</td><td>1</td><td>0</td><td>164</td><td>7</td><td>0</td><td>0</td><td>1</td><td>&quot;Training&quot;</td></tr><tr><td>&quot;chaveje01&quot;</td><td>2010</td><td>415000</td><td>110</td><td>1</td><td>5</td><td>0</td><td>0</td><td>0</td><td>0</td><td>0</td><td>0</td><td>0</td><td>28</td><td>1</td><td>0</td><td>0</td><td>0</td><td>0</td><td>0</td><td>0</td><td>0</td><td>0</td><td>1</td><td>0</td><td>0</td><td>0</td><td>0</td><td>0</td><td>0</td><td>0</td><td>0</td><td>0</td><td>110</td><td>40</td><td>24</td><td>6</td><td>12</td><td>29</td><td>0.278</td><td>5.89</td><td>3</td><td>0</td><td>1</td><td>0</td><td>162</td><td>16</td><td>0</td><td>0</td><td>2</td><td>&quot;Training&quot;</td></tr><tr><td>&quot;smithwi04&quot;</td><td>2015</td><td>512500</td><td>190</td><td>0</td><td>4</td><td>0</td><td>0</td><td>0</td><td>0</td><td>0</td><td>0</td><td>0</td><td>76</td><td>0</td><td>0</td><td>0</td><td>0</td><td>0</td><td>0</td><td>0</td><td>0</td><td>0</td><td>0</td><td>0</td><td>0</td><td>0</td><td>0</td><td>0</td><td>0</td><td>0</td><td>0</td><td>0</td><td>190</td><td>52</td><td>19</td><td>5</td><td>24</td><td>91</td><td>0.22</td><td>2.7</td><td>1</td><td>5</td><td>1</td><td>0</td><td>264</td><td>11</td><td>0</td><td>0</td><td>5</td><td>&quot;Training&quot;</td></tr></tbody></table></div>"
      ],
      "text/plain": [
       "shape: (9_131, 51)\n",
       "┌───────────┬────────┬──────────┬─────────┬───┬─────────────┬────────────┬────────────┬────────────┐\n",
       "│ playerID  ┆ yearID ┆ salary   ┆ InnOuts ┆ … ┆ SH_pitching ┆ SF_pitchin ┆ GIDP_pitch ┆ Training-V │\n",
       "│ ---       ┆ ---    ┆ ---      ┆ ---     ┆   ┆ ---         ┆ g          ┆ ing        ┆ alidation  │\n",
       "│ str       ┆ i64    ┆ i64      ┆ i64     ┆   ┆ i64         ┆ ---        ┆ ---        ┆ ---        │\n",
       "│           ┆        ┆          ┆         ┆   ┆             ┆ i64        ┆ i64        ┆ str        │\n",
       "╞═══════════╪════════╪══════════╪═════════╪═══╪═════════════╪════════════╪════════════╪════════════╡\n",
       "│ bardda01  ┆ 2012   ┆ 1612500  ┆ 178     ┆ … ┆ 0           ┆ 0          ┆ 7          ┆ Training   │\n",
       "│ kimbrcr01 ┆ 2016   ┆ 11000000 ┆ 159     ┆ … ┆ 0           ┆ 0          ┆ 3          ┆ Validation │\n",
       "│ schmija01 ┆ 2008   ┆ 15217401 ┆ 0       ┆ … ┆ 0           ┆ 0          ┆ 0          ┆ Training   │\n",
       "│ sizemgr01 ┆ 2008   ┆ 3166666  ┆ 4014    ┆ … ┆ 0           ┆ 0          ┆ 0          ┆ Training   │\n",
       "│ moralfr01 ┆ 2010   ┆ 406000   ┆ 86      ┆ … ┆ 0           ┆ 0          ┆ 1          ┆ Training   │\n",
       "│ …         ┆ …      ┆ …        ┆ …       ┆ … ┆ …           ┆ …          ┆ …          ┆ …          │\n",
       "│ paulxa01  ┆ 2011   ┆ 419500   ┆ 60      ┆ … ┆ 0           ┆ 0          ┆ 0          ┆ Training   │\n",
       "│ greenkh01 ┆ 2006   ┆ 405000   ┆ 2993    ┆ … ┆ 0           ┆ 0          ┆ 0          ┆ Training   │\n",
       "│ jepseke01 ┆ 2013   ┆ 1181250  ┆ 108     ┆ … ┆ 0           ┆ 0          ┆ 1          ┆ Training   │\n",
       "│ chaveje01 ┆ 2010   ┆ 415000   ┆ 110     ┆ … ┆ 0           ┆ 0          ┆ 2          ┆ Training   │\n",
       "│ smithwi04 ┆ 2015   ┆ 512500   ┆ 190     ┆ … ┆ 0           ┆ 0          ┆ 5          ┆ Training   │\n",
       "└───────────┴────────┴──────────┴─────────┴───┴─────────────┴────────────┴────────────┴────────────┘"
      ]
     },
     "execution_count": 16,
     "metadata": {},
     "output_type": "execute_result"
    }
   ],
   "source": [
    "salaries_final = (salaries\n",
    ".filter(pl.col('yearID') >= 2006)\n",
    ".join(fielding\n",
    "        .filter(pl.col('yearID') >= 2006),\n",
    "        on=['playerID', 'yearID', 'lgID', 'teamID'],\n",
    "        how='left'\n",
    "     )\n",
    ".join(batting\n",
    "        .rename({\"CS\": \"CS_batting\", \"SB\": \"SB_Batting\"})\n",
    "        .filter(pl.col('yearID') >= 2006),\n",
    "        on=['playerID', 'yearID', 'teamID', 'stint', 'lgID', 'G'],\n",
    "        how='left',\n",
    "     )\n",
    ".join(pitching\n",
    "        .rename({\n",
    "            \"GIDP\": \"GIDP_pitching\", \"H\": \"H_pitching\", \"HR\": \"HR_pitching\", \"BB\": \"BB_pitching\",\n",
    "            \"SO\": \"SO_pitching\", \"IBB\": \"IBB_pitching\", \"WP\": \"WP_pitching\", \"HBP\": \"HBP_pitching\",\n",
    "            \"SH\": \"SH_pitching\", \"SF\": \"SF_pitching\", \"R\": \"R_pitching\", \"GIDP\": \"GIDP_pitching\"\n",
    "                })\n",
    "        .filter(pl.col('yearID') >= 2006),\n",
    "        on=['playerID', 'yearID', 'teamID', 'stint', 'lgID', 'G', 'GS'],\n",
    "        how='left'\n",
    "     )\n",
    ".group_by(['playerID','yearID'])\n",
    ".agg(\n",
    "     pl.col('salary').sum().alias('salary'),\n",
    "     pl.col('InnOuts').sum().alias('InnOuts'),\n",
    "     pl.col('PO').sum().alias('PO'),\n",
    "     pl.col('A').sum().alias('A'),\n",
    "     pl.col('E').sum().alias('E'),\n",
    "     pl.col('DP').sum().alias('DP'),\n",
    "     pl.col('PB').cast(int).sum().alias('PB'),\n",
    "     pl.col('WP').cast(int).sum().alias('WP'),\n",
    "     pl.col('SB').cast(int).sum().alias('SB'),\n",
    "     pl.col('CS').cast(int).sum().alias('CS'),\n",
    "     pl.col('ZR').cast(int).sum().alias('ZR'),\n",
    "     pl.col('G').sum().alias('G'),\n",
    "     pl.col('AB').sum().alias('AB'),\n",
    "     pl.col('R').sum().alias('R'),\n",
    "     pl.col('H').sum().alias('H'),\n",
    "     pl.col('2B').sum().alias('2B'),\n",
    "     pl.col('3B').sum().alias('3B'),\n",
    "     pl.col('HR').sum().alias('HR'),\n",
    "     pl.col('SB_Batting').sum().alias('SB_batting'),\n",
    "     pl.col('CS_batting').sum().alias('CS_batting'),\n",
    "     pl.col('BB').sum().alias('BB_batting'),\n",
    "     pl.col('SO').sum().alias('SO_batting'),\n",
    "     pl.col('IBB').sum().alias('IBB_batting'),\n",
    "     pl.col('HBP').sum().alias('HBP_batting'),\n",
    "     pl.col('SH').sum().alias('Sacrifice Hits'),\n",
    "     pl.col('SF').sum().alias('Sacrifice Flies'),\n",
    "     pl.col('GIDP').sum().alias('GIDP'),\n",
    "     pl.col('GS').sum().alias('GS'),\n",
    "     pl.col('CG').sum().alias('CG'),\n",
    "     pl.col('SHO').sum().alias('SHO'),\n",
    "     pl.col('SV').sum().alias('SV'),\n",
    "     pl.col('IPouts').sum().alias('IPOuts'),\n",
    "     pl.col('H_pitching').sum().alias('H_pitching'),\n",
    "     pl.col('ER').sum().alias('ER_pitching'),\n",
    "     pl.col('HR_pitching').sum().alias('HR_pitching'),\n",
    "     pl.col('BB_pitching').sum().alias('BB_pitching'),\n",
    "     pl.col('SO_pitching').sum().alias('SO_pitching'),\n",
    "     pl.col('BAOpp').sum().alias('BAOpp'),\n",
    "     pl.col('ERA').sum().alias('ERA_pitching'),\n",
    "     pl.col('IBB_pitching').sum().alias('IBB_pitching'),\n",
    "     pl.col('WP_pitching').sum().alias('WP_pitching'),\n",
    "     pl.col('HBP_pitching').sum().alias('HBP_pitching'),\n",
    "     pl.col('BK').sum().alias('Balk'),\n",
    "     pl.col('BFP').sum().alias('Batters Faced by Pitcher'),\n",
    "     pl.col('GF').sum().alias('Games Finished'),\n",
    "     pl.col('SH').sum().alias('SH_pitching'),\n",
    "     pl.col('SF').sum().alias('SF_pitching'),\n",
    "     pl.col('GIDP_pitching').sum().alias('GIDP_pitching')\n",
    "    )   \n",
    ".with_columns(\n",
    "         pl.when(pl.col('yearID') == 2016)\n",
    "          .then(pl.lit('Validation'))\n",
    "          .otherwise(pl.lit('Training'))\n",
    "          .alias('Training-Validation')\n",
    "               )\n",
    ")\n",
    "salaries_final.write_csv('data/salaries_final.csv')\n",
    "salaries_final"
   ]
  },
  {
   "cell_type": "code",
   "execution_count": null,
   "id": "dfdb8bb9-60b9-421a-9d88-92cba6cf66fc",
   "metadata": {},
   "outputs": [],
   "source": []
  },
  {
   "cell_type": "markdown",
   "id": "9cf6544c-39bb-40a9-b316-bc4c5a7e6d32",
   "metadata": {
    "jp-MarkdownHeadingCollapsed": true
   },
   "source": [
    "# Classification Problem"
   ]
  },
  {
   "cell_type": "markdown",
   "id": "5051a91b-95bf-421c-b199-419213aa95df",
   "metadata": {},
   "source": [
    "## Setting Up"
   ]
  },
  {
   "cell_type": "code",
   "execution_count": 21,
   "id": "896ab002-b450-42bc-9634-dbc20d30f934",
   "metadata": {},
   "outputs": [],
   "source": [
    "import sklearn\n",
    "import pandas as pd\n",
    "import numpy as np\n",
    "import matplotlib.pyplot as plt"
   ]
  },
  {
   "cell_type": "code",
   "execution_count": 22,
   "id": "9c73e321-84a0-4837-a924-811d8754776d",
   "metadata": {},
   "outputs": [],
   "source": [
    "from sklearn.metrics import confusion_matrix\n",
    "\n",
    "def get_metrics(y_true, y_pred, labels=None):\n",
    "    \"\"\" Compute various measures from a confusion matrix\n",
    "\n",
    "    Args:\n",
    "        y_true: a column of the true labels.\n",
    "        y_pred: a column of the predicted labels.\n",
    "    Returns:\n",
    "        A dictionary of metrics.\n",
    "    \"\"\"\n",
    "    conf_mat = confusion_matrix(y_true, y_pred, labels=labels)\n",
    "    tn, fp, fn, tp = conf_mat.ravel()\n",
    "\n",
    "    return {'accuracy'          :  (tp + tn)/(tp + tn + fp + fn),\n",
    "            'balanced_accuracy' :  0.5*tn / (tn+fp) + 0.5*tp / (tp+fn),\n",
    "            'specificity'       :  tn / (tn+fp),\n",
    "            'sensitivity'       :  tp / (tp+fn),\n",
    "             'ppv'              :  tp / (tp + fp),\n",
    "             'npv'              :  tn / (tn + fn)}\n"
   ]
  },
  {
   "cell_type": "code",
   "execution_count": 25,
   "id": "ff1239c0-5c90-4737-9f66-53ee57f672e8",
   "metadata": {},
   "outputs": [
    {
     "data": {
      "text/html": [
       "<div><style>\n",
       ".dataframe > thead > tr,\n",
       ".dataframe > tbody > tr {\n",
       "  text-align: right;\n",
       "  white-space: pre-wrap;\n",
       "}\n",
       "</style>\n",
       "<small>shape: (21_356, 16)</small><table border=\"1\" class=\"dataframe\"><thead><tr><th>playerID</th><th>yearID</th><th>lgID</th><th>POS</th><th>InnOuts</th><th>PO</th><th>A</th><th>E</th><th>DP</th><th>PB</th><th>WP</th><th>SB</th><th>CS</th><th>ZR</th><th>Gold Glove?</th><th>Training-Validation</th></tr><tr><td>str</td><td>i64</td><td>str</td><td>str</td><td>i64</td><td>i64</td><td>i64</td><td>i64</td><td>i64</td><td>i64</td><td>i64</td><td>i64</td><td>i64</td><td>i64</td><td>str</td><td>str</td></tr></thead><tbody><tr><td>&quot;shrevch01&quot;</td><td>2014</td><td>&quot;NL&quot;</td><td>&quot;P&quot;</td><td>37</td><td>0</td><td>3</td><td>0</td><td>0</td><td>0</td><td>0</td><td>0</td><td>0</td><td>0</td><td>&quot;No&quot;</td><td>&quot;Training&quot;</td></tr><tr><td>&quot;uriasju01&quot;</td><td>2017</td><td>&quot;NL&quot;</td><td>&quot;P&quot;</td><td>70</td><td>1</td><td>0</td><td>3</td><td>0</td><td>0</td><td>0</td><td>0</td><td>0</td><td>0</td><td>&quot;No&quot;</td><td>&quot;Training&quot;</td></tr><tr><td>&quot;varshda01&quot;</td><td>2022</td><td>&quot;NL&quot;</td><td>&quot;OF&quot;</td><td>2761</td><td>271</td><td>8</td><td>3</td><td>0</td><td>0</td><td>0</td><td>0</td><td>0</td><td>0</td><td>&quot;No&quot;</td><td>&quot;Training&quot;</td></tr><tr><td>&quot;browndo01&quot;</td><td>2014</td><td>&quot;NL&quot;</td><td>&quot;OF&quot;</td><td>3124</td><td>182</td><td>4</td><td>2</td><td>2</td><td>0</td><td>0</td><td>0</td><td>0</td><td>0</td><td>&quot;No&quot;</td><td>&quot;Training&quot;</td></tr><tr><td>&quot;gordoal01&quot;</td><td>2013</td><td>&quot;AL&quot;</td><td>&quot;OF&quot;</td><td>4093</td><td>323</td><td>17</td><td>1</td><td>2</td><td>0</td><td>0</td><td>0</td><td>0</td><td>0</td><td>&quot;Yes&quot;</td><td>&quot;Training&quot;</td></tr><tr><td>&hellip;</td><td>&hellip;</td><td>&hellip;</td><td>&hellip;</td><td>&hellip;</td><td>&hellip;</td><td>&hellip;</td><td>&hellip;</td><td>&hellip;</td><td>&hellip;</td><td>&hellip;</td><td>&hellip;</td><td>&hellip;</td><td>&hellip;</td><td>&hellip;</td><td>&hellip;</td></tr><tr><td>&quot;lauerer01&quot;</td><td>2023</td><td>&quot;NL&quot;</td><td>&quot;P&quot;</td><td>140</td><td>1</td><td>2</td><td>1</td><td>0</td><td>0</td><td>0</td><td>0</td><td>0</td><td>0</td><td>&quot;No&quot;</td><td>&quot;Validation&quot;</td></tr><tr><td>&quot;deanau01&quot;</td><td>2020</td><td>&quot;NL&quot;</td><td>&quot;1B&quot;</td><td>6</td><td>2</td><td>0</td><td>0</td><td>0</td><td>0</td><td>0</td><td>0</td><td>0</td><td>0</td><td>&quot;No&quot;</td><td>&quot;Training&quot;</td></tr><tr><td>&quot;bregmal01&quot;</td><td>2018</td><td>&quot;AL&quot;</td><td>&quot;OF&quot;</td><td>6</td><td>0</td><td>0</td><td>0</td><td>0</td><td>0</td><td>0</td><td>0</td><td>0</td><td>0</td><td>&quot;No&quot;</td><td>&quot;Training&quot;</td></tr><tr><td>&quot;galleza01&quot;</td><td>2022</td><td>&quot;NL&quot;</td><td>&quot;P&quot;</td><td>552</td><td>10</td><td>16</td><td>1</td><td>3</td><td>0</td><td>0</td><td>0</td><td>0</td><td>0</td><td>&quot;No&quot;</td><td>&quot;Training&quot;</td></tr><tr><td>&quot;hoffmje02&quot;</td><td>2016</td><td>&quot;NL&quot;</td><td>&quot;P&quot;</td><td>94</td><td>3</td><td>2</td><td>1</td><td>1</td><td>0</td><td>0</td><td>0</td><td>0</td><td>0</td><td>&quot;No&quot;</td><td>&quot;Training&quot;</td></tr></tbody></table></div>"
      ],
      "text/plain": [
       "shape: (21_356, 16)\n",
       "┌───────────┬────────┬──────┬─────┬───┬─────┬─────┬─────────────┬─────────────────────┐\n",
       "│ playerID  ┆ yearID ┆ lgID ┆ POS ┆ … ┆ CS  ┆ ZR  ┆ Gold Glove? ┆ Training-Validation │\n",
       "│ ---       ┆ ---    ┆ ---  ┆ --- ┆   ┆ --- ┆ --- ┆ ---         ┆ ---                 │\n",
       "│ str       ┆ i64    ┆ str  ┆ str ┆   ┆ i64 ┆ i64 ┆ str         ┆ str                 │\n",
       "╞═══════════╪════════╪══════╪═════╪═══╪═════╪═════╪═════════════╪═════════════════════╡\n",
       "│ shrevch01 ┆ 2014   ┆ NL   ┆ P   ┆ … ┆ 0   ┆ 0   ┆ No          ┆ Training            │\n",
       "│ uriasju01 ┆ 2017   ┆ NL   ┆ P   ┆ … ┆ 0   ┆ 0   ┆ No          ┆ Training            │\n",
       "│ varshda01 ┆ 2022   ┆ NL   ┆ OF  ┆ … ┆ 0   ┆ 0   ┆ No          ┆ Training            │\n",
       "│ browndo01 ┆ 2014   ┆ NL   ┆ OF  ┆ … ┆ 0   ┆ 0   ┆ No          ┆ Training            │\n",
       "│ gordoal01 ┆ 2013   ┆ AL   ┆ OF  ┆ … ┆ 0   ┆ 0   ┆ Yes         ┆ Training            │\n",
       "│ …         ┆ …      ┆ …    ┆ …   ┆ … ┆ …   ┆ …   ┆ …           ┆ …                   │\n",
       "│ lauerer01 ┆ 2023   ┆ NL   ┆ P   ┆ … ┆ 0   ┆ 0   ┆ No          ┆ Validation          │\n",
       "│ deanau01  ┆ 2020   ┆ NL   ┆ 1B  ┆ … ┆ 0   ┆ 0   ┆ No          ┆ Training            │\n",
       "│ bregmal01 ┆ 2018   ┆ AL   ┆ OF  ┆ … ┆ 0   ┆ 0   ┆ No          ┆ Training            │\n",
       "│ galleza01 ┆ 2022   ┆ NL   ┆ P   ┆ … ┆ 0   ┆ 0   ┆ No          ┆ Training            │\n",
       "│ hoffmje02 ┆ 2016   ┆ NL   ┆ P   ┆ … ┆ 0   ┆ 0   ┆ No          ┆ Training            │\n",
       "└───────────┴────────┴──────┴─────┴───┴─────┴─────┴─────────────┴─────────────────────┘"
      ]
     },
     "execution_count": 25,
     "metadata": {},
     "output_type": "execute_result"
    }
   ],
   "source": [
    "fielding_awards"
   ]
  },
  {
   "cell_type": "code",
   "execution_count": 27,
   "id": "44d96dc4-d1b4-4f0d-a2a2-94e83d8ccfb2",
   "metadata": {},
   "outputs": [
    {
     "data": {
      "text/plain": [
       "['playerID',\n",
       " 'yearID',\n",
       " 'lgID',\n",
       " 'POS',\n",
       " 'InnOuts',\n",
       " 'PO',\n",
       " 'A',\n",
       " 'E',\n",
       " 'DP',\n",
       " 'PB',\n",
       " 'WP',\n",
       " 'SB',\n",
       " 'CS',\n",
       " 'ZR',\n",
       " 'Gold Glove?',\n",
       " 'Training-Validation']"
      ]
     },
     "execution_count": 27,
     "metadata": {},
     "output_type": "execute_result"
    }
   ],
   "source": [
    "fielding_awards.columns"
   ]
  },
  {
   "cell_type": "markdown",
   "id": "be03c394-69f2-4f2c-bfcd-c43332e206eb",
   "metadata": {
    "jp-MarkdownHeadingCollapsed": true
   },
   "source": [
    "## Preparing Data"
   ]
  },
  {
   "cell_type": "code",
   "execution_count": 30,
   "id": "b620f27a-233a-43cc-a921-29a1e8f05cb2",
   "metadata": {},
   "outputs": [],
   "source": [
    "fielding_training = fielding_awards.filter(pl.col('Training-Validation') == 'Training').drop(['Gold Glove?', 'playerID', 'yearID', 'lgID', 'POS', 'Training-Validation'])\n",
    "gold_glove_train = fielding_awards.filter(pl.col('Training-Validation') == 'Training').drop(['playerID', 'yearID', 'lgID', 'POS', 'Training-Validation']).select('Gold Glove?')\n",
    "\n",
    "fielding_validation = fielding_awards.filter(pl.col('Training-Validation') == 'Validation').drop(['Gold Glove?', 'playerID', 'yearID', 'lgID', 'POS', 'Training-Validation'])\n",
    "gold_glove_validation = fielding_awards.filter(pl.col('Training-Validation') == 'Validation').drop(['playerID', 'yearID', 'lgID', 'POS', 'Training-Validation']).select('Gold Glove?')\n",
    "\n",
    "fielding_stats_train = fielding_training.to_pandas()\n",
    "gold_glove_train = gold_glove_train.to_pandas()\n",
    "\n",
    "fielding_stats_validation = fielding_validation.to_pandas()\n",
    "gold_glove_validation = gold_glove_validation.to_pandas()"
   ]
  },
  {
   "cell_type": "markdown",
   "id": "a9a0df6c-5d8a-4aff-846d-7b7ce629951f",
   "metadata": {
    "jp-MarkdownHeadingCollapsed": true
   },
   "source": [
    "## Grid Search"
   ]
  },
  {
   "cell_type": "markdown",
   "id": "5567368f-363e-441c-8277-7ee5dc97d7d8",
   "metadata": {},
   "source": [
    "### Tree Grid Search"
   ]
  },
  {
   "cell_type": "code",
   "execution_count": 34,
   "id": "08c36232-56eb-4c0c-ab42-a34e431c3838",
   "metadata": {},
   "outputs": [],
   "source": [
    "from sklearn.model_selection import GridSearchCV\n",
    "from sklearn.tree import DecisionTreeClassifier\n",
    "import numpy as np"
   ]
  },
  {
   "cell_type": "code",
   "execution_count": 36,
   "id": "b95c0360-63d8-4a03-9bc0-917f5936e668",
   "metadata": {},
   "outputs": [],
   "source": [
    "param_grid = {'max_depth': [None, 1,2,3,4,5],\n",
    "              'min_samples_split' : [1, 5, 10],\n",
    "               'min_samples_leaf' : [1, 5, 10],\n",
    "              'class_weight':[None, \"balanced\"]\n",
    "              }\n"
   ]
  },
  {
   "cell_type": "code",
   "execution_count": 38,
   "id": "8cb91c1d-e4f4-4935-95b3-c86b48f89401",
   "metadata": {},
   "outputs": [],
   "source": [
    "from sklearn.model_selection import StratifiedKFold"
   ]
  },
  {
   "cell_type": "code",
   "execution_count": 40,
   "id": "e3b49b4d-b077-42d6-8cc3-754bc23cc319",
   "metadata": {},
   "outputs": [
    {
     "name": "stdout",
     "output_type": "stream",
     "text": [
      "Fitting 10 folds for each of 108 candidates, totalling 1080 fits\n",
      "[CV 1/10] END class_weight=None, max_depth=None, min_samples_leaf=1, min_samples_split=1;, score=nan total time=   0.0s\n",
      "[CV 2/10] END class_weight=None, max_depth=None, min_samples_leaf=1, min_samples_split=1;, score=nan total time=   0.0s\n",
      "[CV 3/10] END class_weight=None, max_depth=None, min_samples_leaf=1, min_samples_split=1;, score=nan total time=   0.0s\n",
      "[CV 4/10] END class_weight=None, max_depth=None, min_samples_leaf=1, min_samples_split=1;, score=nan total time=   0.0s\n",
      "[CV 5/10] END class_weight=None, max_depth=None, min_samples_leaf=1, min_samples_split=1;, score=nan total time=   0.0s\n",
      "[CV 6/10] END class_weight=None, max_depth=None, min_samples_leaf=1, min_samples_split=1;, score=nan total time=   0.0s\n",
      "[CV 7/10] END class_weight=None, max_depth=None, min_samples_leaf=1, min_samples_split=1;, score=nan total time=   0.0s\n",
      "[CV 8/10] END class_weight=None, max_depth=None, min_samples_leaf=1, min_samples_split=1;, score=nan total time=   0.0s\n",
      "[CV 9/10] END class_weight=None, max_depth=None, min_samples_leaf=1, min_samples_split=1;, score=nan total time=   0.0s\n",
      "[CV 10/10] END class_weight=None, max_depth=None, min_samples_leaf=1, min_samples_split=1;, score=nan total time=   0.0s\n",
      "[CV 1/10] END class_weight=None, max_depth=None, min_samples_leaf=1, min_samples_split=5;, score=0.984 total time=   0.0s\n",
      "[CV 2/10] END class_weight=None, max_depth=None, min_samples_leaf=1, min_samples_split=5;, score=0.982 total time=   0.0s\n",
      "[CV 3/10] END class_weight=None, max_depth=None, min_samples_leaf=1, min_samples_split=5;, score=0.985 total time=   0.0s\n",
      "[CV 4/10] END class_weight=None, max_depth=None, min_samples_leaf=1, min_samples_split=5;, score=0.980 total time=   0.0s\n",
      "[CV 5/10] END class_weight=None, max_depth=None, min_samples_leaf=1, min_samples_split=5;, score=0.979 total time=   0.0s\n",
      "[CV 6/10] END class_weight=None, max_depth=None, min_samples_leaf=1, min_samples_split=5;, score=0.982 total time=   0.0s\n",
      "[CV 7/10] END class_weight=None, max_depth=None, min_samples_leaf=1, min_samples_split=5;, score=0.978 total time=   0.0s\n",
      "[CV 8/10] END class_weight=None, max_depth=None, min_samples_leaf=1, min_samples_split=5;, score=0.983 total time=   0.0s\n",
      "[CV 9/10] END class_weight=None, max_depth=None, min_samples_leaf=1, min_samples_split=5;, score=0.983 total time=   0.0s\n",
      "[CV 10/10] END class_weight=None, max_depth=None, min_samples_leaf=1, min_samples_split=5;, score=0.982 total time=   0.0s\n",
      "[CV 1/10] END class_weight=None, max_depth=None, min_samples_leaf=1, min_samples_split=10;, score=0.984 total time=   0.0s\n",
      "[CV 2/10] END class_weight=None, max_depth=None, min_samples_leaf=1, min_samples_split=10;, score=0.982 total time=   0.0s\n",
      "[CV 3/10] END class_weight=None, max_depth=None, min_samples_leaf=1, min_samples_split=10;, score=0.983 total time=   0.0s\n",
      "[CV 4/10] END class_weight=None, max_depth=None, min_samples_leaf=1, min_samples_split=10;, score=0.981 total time=   0.0s\n",
      "[CV 5/10] END class_weight=None, max_depth=None, min_samples_leaf=1, min_samples_split=10;, score=0.981 total time=   0.0s\n",
      "[CV 6/10] END class_weight=None, max_depth=None, min_samples_leaf=1, min_samples_split=10;, score=0.983 total time=   0.0s\n",
      "[CV 7/10] END class_weight=None, max_depth=None, min_samples_leaf=1, min_samples_split=10;, score=0.982 total time=   0.0s\n",
      "[CV 8/10] END class_weight=None, max_depth=None, min_samples_leaf=1, min_samples_split=10;, score=0.988 total time=   0.0s\n",
      "[CV 9/10] END class_weight=None, max_depth=None, min_samples_leaf=1, min_samples_split=10;, score=0.984 total time=   0.0s\n",
      "[CV 10/10] END class_weight=None, max_depth=None, min_samples_leaf=1, min_samples_split=10;, score=0.981 total time=   0.0s\n",
      "[CV 1/10] END class_weight=None, max_depth=None, min_samples_leaf=5, min_samples_split=1;, score=nan total time=   0.0s\n",
      "[CV 2/10] END class_weight=None, max_depth=None, min_samples_leaf=5, min_samples_split=1;, score=nan total time=   0.0s\n",
      "[CV 3/10] END class_weight=None, max_depth=None, min_samples_leaf=5, min_samples_split=1;, score=nan total time=   0.0s\n",
      "[CV 4/10] END class_weight=None, max_depth=None, min_samples_leaf=5, min_samples_split=1;, score=nan total time=   0.0s\n",
      "[CV 5/10] END class_weight=None, max_depth=None, min_samples_leaf=5, min_samples_split=1;, score=nan total time=   0.0s\n",
      "[CV 6/10] END class_weight=None, max_depth=None, min_samples_leaf=5, min_samples_split=1;, score=nan total time=   0.0s\n",
      "[CV 7/10] END class_weight=None, max_depth=None, min_samples_leaf=5, min_samples_split=1;, score=nan total time=   0.0s\n",
      "[CV 8/10] END class_weight=None, max_depth=None, min_samples_leaf=5, min_samples_split=1;, score=nan total time=   0.0s\n",
      "[CV 9/10] END class_weight=None, max_depth=None, min_samples_leaf=5, min_samples_split=1;, score=nan total time=   0.0s\n",
      "[CV 10/10] END class_weight=None, max_depth=None, min_samples_leaf=5, min_samples_split=1;, score=nan total time=   0.0s\n",
      "[CV 1/10] END class_weight=None, max_depth=None, min_samples_leaf=5, min_samples_split=5;, score=0.986 total time=   0.0s\n",
      "[CV 2/10] END class_weight=None, max_depth=None, min_samples_leaf=5, min_samples_split=5;, score=0.985 total time=   0.0s\n",
      "[CV 3/10] END class_weight=None, max_depth=None, min_samples_leaf=5, min_samples_split=5;, score=0.982 total time=   0.0s\n",
      "[CV 4/10] END class_weight=None, max_depth=None, min_samples_leaf=5, min_samples_split=5;, score=0.985 total time=   0.0s\n",
      "[CV 5/10] END class_weight=None, max_depth=None, min_samples_leaf=5, min_samples_split=5;, score=0.986 total time=   0.0s\n",
      "[CV 6/10] END class_weight=None, max_depth=None, min_samples_leaf=5, min_samples_split=5;, score=0.984 total time=   0.0s\n",
      "[CV 7/10] END class_weight=None, max_depth=None, min_samples_leaf=5, min_samples_split=5;, score=0.984 total time=   0.0s\n",
      "[CV 8/10] END class_weight=None, max_depth=None, min_samples_leaf=5, min_samples_split=5;, score=0.985 total time=   0.0s\n",
      "[CV 9/10] END class_weight=None, max_depth=None, min_samples_leaf=5, min_samples_split=5;, score=0.986 total time=   0.0s\n",
      "[CV 10/10] END class_weight=None, max_depth=None, min_samples_leaf=5, min_samples_split=5;, score=0.983 total time=   0.0s\n",
      "[CV 1/10] END class_weight=None, max_depth=None, min_samples_leaf=5, min_samples_split=10;, score=0.986 total time=   0.0s\n",
      "[CV 2/10] END class_weight=None, max_depth=None, min_samples_leaf=5, min_samples_split=10;, score=0.985 total time=   0.0s\n",
      "[CV 3/10] END class_weight=None, max_depth=None, min_samples_leaf=5, min_samples_split=10;, score=0.983 total time=   0.0s\n",
      "[CV 4/10] END class_weight=None, max_depth=None, min_samples_leaf=5, min_samples_split=10;, score=0.985 total time=   0.0s\n",
      "[CV 5/10] END class_weight=None, max_depth=None, min_samples_leaf=5, min_samples_split=10;, score=0.986 total time=   0.0s\n",
      "[CV 6/10] END class_weight=None, max_depth=None, min_samples_leaf=5, min_samples_split=10;, score=0.985 total time=   0.0s\n",
      "[CV 7/10] END class_weight=None, max_depth=None, min_samples_leaf=5, min_samples_split=10;, score=0.984 total time=   0.0s\n",
      "[CV 8/10] END class_weight=None, max_depth=None, min_samples_leaf=5, min_samples_split=10;, score=0.985 total time=   0.0s\n",
      "[CV 9/10] END class_weight=None, max_depth=None, min_samples_leaf=5, min_samples_split=10;, score=0.986 total time=   0.0s\n",
      "[CV 10/10] END class_weight=None, max_depth=None, min_samples_leaf=5, min_samples_split=10;, score=0.983 total time=   0.0s\n",
      "[CV 1/10] END class_weight=None, max_depth=None, min_samples_leaf=10, min_samples_split=1;, score=nan total time=   0.0s\n",
      "[CV 2/10] END class_weight=None, max_depth=None, min_samples_leaf=10, min_samples_split=1;, score=nan total time=   0.0s\n",
      "[CV 3/10] END class_weight=None, max_depth=None, min_samples_leaf=10, min_samples_split=1;, score=nan total time=   0.0s\n",
      "[CV 4/10] END class_weight=None, max_depth=None, min_samples_leaf=10, min_samples_split=1;, score=nan total time=   0.0s\n",
      "[CV 5/10] END class_weight=None, max_depth=None, min_samples_leaf=10, min_samples_split=1;, score=nan total time=   0.0s\n",
      "[CV 6/10] END class_weight=None, max_depth=None, min_samples_leaf=10, min_samples_split=1;, score=nan total time=   0.0s\n",
      "[CV 7/10] END class_weight=None, max_depth=None, min_samples_leaf=10, min_samples_split=1;, score=nan total time=   0.0s\n",
      "[CV 8/10] END class_weight=None, max_depth=None, min_samples_leaf=10, min_samples_split=1;, score=nan total time=   0.0s\n",
      "[CV 9/10] END class_weight=None, max_depth=None, min_samples_leaf=10, min_samples_split=1;, score=nan total time=   0.0s\n",
      "[CV 10/10] END class_weight=None, max_depth=None, min_samples_leaf=10, min_samples_split=1;, score=nan total time=   0.0s\n",
      "[CV 1/10] END class_weight=None, max_depth=None, min_samples_leaf=10, min_samples_split=5;, score=0.984 total time=   0.0s\n",
      "[CV 2/10] END class_weight=None, max_depth=None, min_samples_leaf=10, min_samples_split=5;, score=0.985 total time=   0.0s\n",
      "[CV 3/10] END class_weight=None, max_depth=None, min_samples_leaf=10, min_samples_split=5;, score=0.988 total time=   0.0s\n",
      "[CV 4/10] END class_weight=None, max_depth=None, min_samples_leaf=10, min_samples_split=5;, score=0.985 total time=   0.0s\n",
      "[CV 5/10] END class_weight=None, max_depth=None, min_samples_leaf=10, min_samples_split=5;, score=0.987 total time=   0.0s\n",
      "[CV 6/10] END class_weight=None, max_depth=None, min_samples_leaf=10, min_samples_split=5;, score=0.988 total time=   0.0s\n",
      "[CV 7/10] END class_weight=None, max_depth=None, min_samples_leaf=10, min_samples_split=5;, score=0.986 total time=   0.0s\n",
      "[CV 8/10] END class_weight=None, max_depth=None, min_samples_leaf=10, min_samples_split=5;, score=0.990 total time=   0.0s\n",
      "[CV 9/10] END class_weight=None, max_depth=None, min_samples_leaf=10, min_samples_split=5;, score=0.986 total time=   0.0s\n",
      "[CV 10/10] END class_weight=None, max_depth=None, min_samples_leaf=10, min_samples_split=5;, score=0.985 total time=   0.0s\n",
      "[CV 1/10] END class_weight=None, max_depth=None, min_samples_leaf=10, min_samples_split=10;, score=0.985 total time=   0.0s\n",
      "[CV 2/10] END class_weight=None, max_depth=None, min_samples_leaf=10, min_samples_split=10;, score=0.985 total time=   0.0s\n",
      "[CV 3/10] END class_weight=None, max_depth=None, min_samples_leaf=10, min_samples_split=10;, score=0.988 total time=   0.0s\n",
      "[CV 4/10] END class_weight=None, max_depth=None, min_samples_leaf=10, min_samples_split=10;, score=0.985 total time=   0.0s\n",
      "[CV 5/10] END class_weight=None, max_depth=None, min_samples_leaf=10, min_samples_split=10;, score=0.987 total time=   0.0s\n",
      "[CV 6/10] END class_weight=None, max_depth=None, min_samples_leaf=10, min_samples_split=10;, score=0.988 total time=   0.0s\n",
      "[CV 7/10] END class_weight=None, max_depth=None, min_samples_leaf=10, min_samples_split=10;, score=0.986 total time=   0.0s\n",
      "[CV 8/10] END class_weight=None, max_depth=None, min_samples_leaf=10, min_samples_split=10;, score=0.990 total time=   0.0s\n",
      "[CV 9/10] END class_weight=None, max_depth=None, min_samples_leaf=10, min_samples_split=10;, score=0.986 total time=   0.0s\n",
      "[CV 10/10] END class_weight=None, max_depth=None, min_samples_leaf=10, min_samples_split=10;, score=0.985 total time=   0.0s\n",
      "[CV 1/10] END class_weight=None, max_depth=1, min_samples_leaf=1, min_samples_split=1;, score=nan total time=   0.0s\n",
      "[CV 2/10] END class_weight=None, max_depth=1, min_samples_leaf=1, min_samples_split=1;, score=nan total time=   0.0s\n",
      "[CV 3/10] END class_weight=None, max_depth=1, min_samples_leaf=1, min_samples_split=1;, score=nan total time=   0.0s\n",
      "[CV 4/10] END class_weight=None, max_depth=1, min_samples_leaf=1, min_samples_split=1;, score=nan total time=   0.0s\n",
      "[CV 5/10] END class_weight=None, max_depth=1, min_samples_leaf=1, min_samples_split=1;, score=nan total time=   0.0s\n",
      "[CV 6/10] END class_weight=None, max_depth=1, min_samples_leaf=1, min_samples_split=1;, score=nan total time=   0.0s\n",
      "[CV 7/10] END class_weight=None, max_depth=1, min_samples_leaf=1, min_samples_split=1;, score=nan total time=   0.0s\n",
      "[CV 8/10] END class_weight=None, max_depth=1, min_samples_leaf=1, min_samples_split=1;, score=nan total time=   0.0s\n",
      "[CV 9/10] END class_weight=None, max_depth=1, min_samples_leaf=1, min_samples_split=1;, score=nan total time=   0.0s\n",
      "[CV 10/10] END class_weight=None, max_depth=1, min_samples_leaf=1, min_samples_split=1;, score=nan total time=   0.0s\n",
      "[CV 1/10] END class_weight=None, max_depth=1, min_samples_leaf=1, min_samples_split=5;, score=0.988 total time=   0.0s\n",
      "[CV 2/10] END class_weight=None, max_depth=1, min_samples_leaf=1, min_samples_split=5;, score=0.988 total time=   0.0s\n",
      "[CV 3/10] END class_weight=None, max_depth=1, min_samples_leaf=1, min_samples_split=5;, score=0.988 total time=   0.0s\n",
      "[CV 4/10] END class_weight=None, max_depth=1, min_samples_leaf=1, min_samples_split=5;, score=0.988 total time=   0.0s\n",
      "[CV 5/10] END class_weight=None, max_depth=1, min_samples_leaf=1, min_samples_split=5;, score=0.988 total time=   0.0s\n",
      "[CV 6/10] END class_weight=None, max_depth=1, min_samples_leaf=1, min_samples_split=5;, score=0.988 total time=   0.0s\n",
      "[CV 7/10] END class_weight=None, max_depth=1, min_samples_leaf=1, min_samples_split=5;, score=0.988 total time=   0.0s\n",
      "[CV 8/10] END class_weight=None, max_depth=1, min_samples_leaf=1, min_samples_split=5;, score=0.989 total time=   0.0s\n",
      "[CV 9/10] END class_weight=None, max_depth=1, min_samples_leaf=1, min_samples_split=5;, score=0.988 total time=   0.0s\n",
      "[CV 10/10] END class_weight=None, max_depth=1, min_samples_leaf=1, min_samples_split=5;, score=0.988 total time=   0.0s\n",
      "[CV 1/10] END class_weight=None, max_depth=1, min_samples_leaf=1, min_samples_split=10;, score=0.988 total time=   0.0s\n",
      "[CV 2/10] END class_weight=None, max_depth=1, min_samples_leaf=1, min_samples_split=10;, score=0.988 total time=   0.0s\n",
      "[CV 3/10] END class_weight=None, max_depth=1, min_samples_leaf=1, min_samples_split=10;, score=0.988 total time=   0.0s\n",
      "[CV 4/10] END class_weight=None, max_depth=1, min_samples_leaf=1, min_samples_split=10;, score=0.988 total time=   0.0s\n",
      "[CV 5/10] END class_weight=None, max_depth=1, min_samples_leaf=1, min_samples_split=10;, score=0.988 total time=   0.0s\n",
      "[CV 6/10] END class_weight=None, max_depth=1, min_samples_leaf=1, min_samples_split=10;, score=0.988 total time=   0.0s\n",
      "[CV 7/10] END class_weight=None, max_depth=1, min_samples_leaf=1, min_samples_split=10;, score=0.988 total time=   0.0s\n",
      "[CV 8/10] END class_weight=None, max_depth=1, min_samples_leaf=1, min_samples_split=10;, score=0.989 total time=   0.0s\n",
      "[CV 9/10] END class_weight=None, max_depth=1, min_samples_leaf=1, min_samples_split=10;, score=0.988 total time=   0.0s\n",
      "[CV 10/10] END class_weight=None, max_depth=1, min_samples_leaf=1, min_samples_split=10;, score=0.988 total time=   0.0s\n",
      "[CV 1/10] END class_weight=None, max_depth=1, min_samples_leaf=5, min_samples_split=1;, score=nan total time=   0.0s\n",
      "[CV 2/10] END class_weight=None, max_depth=1, min_samples_leaf=5, min_samples_split=1;, score=nan total time=   0.0s\n",
      "[CV 3/10] END class_weight=None, max_depth=1, min_samples_leaf=5, min_samples_split=1;, score=nan total time=   0.0s\n",
      "[CV 4/10] END class_weight=None, max_depth=1, min_samples_leaf=5, min_samples_split=1;, score=nan total time=   0.0s\n",
      "[CV 5/10] END class_weight=None, max_depth=1, min_samples_leaf=5, min_samples_split=1;, score=nan total time=   0.0s\n",
      "[CV 6/10] END class_weight=None, max_depth=1, min_samples_leaf=5, min_samples_split=1;, score=nan total time=   0.0s\n",
      "[CV 7/10] END class_weight=None, max_depth=1, min_samples_leaf=5, min_samples_split=1;, score=nan total time=   0.0s\n",
      "[CV 8/10] END class_weight=None, max_depth=1, min_samples_leaf=5, min_samples_split=1;, score=nan total time=   0.0s\n",
      "[CV 9/10] END class_weight=None, max_depth=1, min_samples_leaf=5, min_samples_split=1;, score=nan total time=   0.0s\n",
      "[CV 10/10] END class_weight=None, max_depth=1, min_samples_leaf=5, min_samples_split=1;, score=nan total time=   0.0s\n",
      "[CV 1/10] END class_weight=None, max_depth=1, min_samples_leaf=5, min_samples_split=5;, score=0.988 total time=   0.0s\n",
      "[CV 2/10] END class_weight=None, max_depth=1, min_samples_leaf=5, min_samples_split=5;, score=0.988 total time=   0.0s\n",
      "[CV 3/10] END class_weight=None, max_depth=1, min_samples_leaf=5, min_samples_split=5;, score=0.988 total time=   0.0s\n",
      "[CV 4/10] END class_weight=None, max_depth=1, min_samples_leaf=5, min_samples_split=5;, score=0.988 total time=   0.0s\n",
      "[CV 5/10] END class_weight=None, max_depth=1, min_samples_leaf=5, min_samples_split=5;, score=0.988 total time=   0.0s\n",
      "[CV 6/10] END class_weight=None, max_depth=1, min_samples_leaf=5, min_samples_split=5;, score=0.988 total time=   0.0s\n",
      "[CV 7/10] END class_weight=None, max_depth=1, min_samples_leaf=5, min_samples_split=5;, score=0.988 total time=   0.0s\n",
      "[CV 8/10] END class_weight=None, max_depth=1, min_samples_leaf=5, min_samples_split=5;, score=0.989 total time=   0.0s\n",
      "[CV 9/10] END class_weight=None, max_depth=1, min_samples_leaf=5, min_samples_split=5;, score=0.988 total time=   0.0s\n",
      "[CV 10/10] END class_weight=None, max_depth=1, min_samples_leaf=5, min_samples_split=5;, score=0.988 total time=   0.0s\n",
      "[CV 1/10] END class_weight=None, max_depth=1, min_samples_leaf=5, min_samples_split=10;, score=0.988 total time=   0.0s\n",
      "[CV 2/10] END class_weight=None, max_depth=1, min_samples_leaf=5, min_samples_split=10;, score=0.988 total time=   0.0s\n",
      "[CV 3/10] END class_weight=None, max_depth=1, min_samples_leaf=5, min_samples_split=10;, score=0.988 total time=   0.0s\n",
      "[CV 4/10] END class_weight=None, max_depth=1, min_samples_leaf=5, min_samples_split=10;, score=0.988 total time=   0.0s\n",
      "[CV 5/10] END class_weight=None, max_depth=1, min_samples_leaf=5, min_samples_split=10;, score=0.988 total time=   0.0s\n",
      "[CV 6/10] END class_weight=None, max_depth=1, min_samples_leaf=5, min_samples_split=10;, score=0.988 total time=   0.0s\n",
      "[CV 7/10] END class_weight=None, max_depth=1, min_samples_leaf=5, min_samples_split=10;, score=0.988 total time=   0.0s\n",
      "[CV 8/10] END class_weight=None, max_depth=1, min_samples_leaf=5, min_samples_split=10;, score=0.989 total time=   0.0s\n",
      "[CV 9/10] END class_weight=None, max_depth=1, min_samples_leaf=5, min_samples_split=10;, score=0.988 total time=   0.0s\n",
      "[CV 10/10] END class_weight=None, max_depth=1, min_samples_leaf=5, min_samples_split=10;, score=0.988 total time=   0.0s\n",
      "[CV 1/10] END class_weight=None, max_depth=1, min_samples_leaf=10, min_samples_split=1;, score=nan total time=   0.0s\n",
      "[CV 2/10] END class_weight=None, max_depth=1, min_samples_leaf=10, min_samples_split=1;, score=nan total time=   0.0s\n",
      "[CV 3/10] END class_weight=None, max_depth=1, min_samples_leaf=10, min_samples_split=1;, score=nan total time=   0.0s\n",
      "[CV 4/10] END class_weight=None, max_depth=1, min_samples_leaf=10, min_samples_split=1;, score=nan total time=   0.0s\n",
      "[CV 5/10] END class_weight=None, max_depth=1, min_samples_leaf=10, min_samples_split=1;, score=nan total time=   0.0s\n",
      "[CV 6/10] END class_weight=None, max_depth=1, min_samples_leaf=10, min_samples_split=1;, score=nan total time=   0.0s\n",
      "[CV 7/10] END class_weight=None, max_depth=1, min_samples_leaf=10, min_samples_split=1;, score=nan total time=   0.0s\n",
      "[CV 8/10] END class_weight=None, max_depth=1, min_samples_leaf=10, min_samples_split=1;, score=nan total time=   0.0s\n",
      "[CV 9/10] END class_weight=None, max_depth=1, min_samples_leaf=10, min_samples_split=1;, score=nan total time=   0.0s\n",
      "[CV 10/10] END class_weight=None, max_depth=1, min_samples_leaf=10, min_samples_split=1;, score=nan total time=   0.0s\n",
      "[CV 1/10] END class_weight=None, max_depth=1, min_samples_leaf=10, min_samples_split=5;, score=0.988 total time=   0.0s\n",
      "[CV 2/10] END class_weight=None, max_depth=1, min_samples_leaf=10, min_samples_split=5;, score=0.988 total time=   0.0s\n",
      "[CV 3/10] END class_weight=None, max_depth=1, min_samples_leaf=10, min_samples_split=5;, score=0.988 total time=   0.0s\n",
      "[CV 4/10] END class_weight=None, max_depth=1, min_samples_leaf=10, min_samples_split=5;, score=0.988 total time=   0.0s\n",
      "[CV 5/10] END class_weight=None, max_depth=1, min_samples_leaf=10, min_samples_split=5;, score=0.988 total time=   0.0s\n",
      "[CV 6/10] END class_weight=None, max_depth=1, min_samples_leaf=10, min_samples_split=5;, score=0.988 total time=   0.0s\n",
      "[CV 7/10] END class_weight=None, max_depth=1, min_samples_leaf=10, min_samples_split=5;, score=0.988 total time=   0.0s\n",
      "[CV 8/10] END class_weight=None, max_depth=1, min_samples_leaf=10, min_samples_split=5;, score=0.989 total time=   0.0s\n",
      "[CV 9/10] END class_weight=None, max_depth=1, min_samples_leaf=10, min_samples_split=5;, score=0.988 total time=   0.0s\n",
      "[CV 10/10] END class_weight=None, max_depth=1, min_samples_leaf=10, min_samples_split=5;, score=0.988 total time=   0.0s\n",
      "[CV 1/10] END class_weight=None, max_depth=1, min_samples_leaf=10, min_samples_split=10;, score=0.988 total time=   0.0s\n",
      "[CV 2/10] END class_weight=None, max_depth=1, min_samples_leaf=10, min_samples_split=10;, score=0.988 total time=   0.0s\n",
      "[CV 3/10] END class_weight=None, max_depth=1, min_samples_leaf=10, min_samples_split=10;, score=0.988 total time=   0.0s\n",
      "[CV 4/10] END class_weight=None, max_depth=1, min_samples_leaf=10, min_samples_split=10;, score=0.988 total time=   0.0s\n",
      "[CV 5/10] END class_weight=None, max_depth=1, min_samples_leaf=10, min_samples_split=10;, score=0.988 total time=   0.0s\n",
      "[CV 6/10] END class_weight=None, max_depth=1, min_samples_leaf=10, min_samples_split=10;, score=0.988 total time=   0.0s\n",
      "[CV 7/10] END class_weight=None, max_depth=1, min_samples_leaf=10, min_samples_split=10;, score=0.988 total time=   0.0s\n",
      "[CV 8/10] END class_weight=None, max_depth=1, min_samples_leaf=10, min_samples_split=10;, score=0.989 total time=   0.0s\n",
      "[CV 9/10] END class_weight=None, max_depth=1, min_samples_leaf=10, min_samples_split=10;, score=0.988 total time=   0.0s\n",
      "[CV 10/10] END class_weight=None, max_depth=1, min_samples_leaf=10, min_samples_split=10;, score=0.988 total time=   0.0s\n",
      "[CV 1/10] END class_weight=None, max_depth=2, min_samples_leaf=1, min_samples_split=1;, score=nan total time=   0.0s\n",
      "[CV 2/10] END class_weight=None, max_depth=2, min_samples_leaf=1, min_samples_split=1;, score=nan total time=   0.0s\n",
      "[CV 3/10] END class_weight=None, max_depth=2, min_samples_leaf=1, min_samples_split=1;, score=nan total time=   0.0s\n",
      "[CV 4/10] END class_weight=None, max_depth=2, min_samples_leaf=1, min_samples_split=1;, score=nan total time=   0.0s\n",
      "[CV 5/10] END class_weight=None, max_depth=2, min_samples_leaf=1, min_samples_split=1;, score=nan total time=   0.0s\n",
      "[CV 6/10] END class_weight=None, max_depth=2, min_samples_leaf=1, min_samples_split=1;, score=nan total time=   0.0s\n",
      "[CV 7/10] END class_weight=None, max_depth=2, min_samples_leaf=1, min_samples_split=1;, score=nan total time=   0.0s\n",
      "[CV 8/10] END class_weight=None, max_depth=2, min_samples_leaf=1, min_samples_split=1;, score=nan total time=   0.0s\n",
      "[CV 9/10] END class_weight=None, max_depth=2, min_samples_leaf=1, min_samples_split=1;, score=nan total time=   0.0s\n",
      "[CV 10/10] END class_weight=None, max_depth=2, min_samples_leaf=1, min_samples_split=1;, score=nan total time=   0.0s\n",
      "[CV 1/10] END class_weight=None, max_depth=2, min_samples_leaf=1, min_samples_split=5;, score=0.988 total time=   0.0s\n",
      "[CV 2/10] END class_weight=None, max_depth=2, min_samples_leaf=1, min_samples_split=5;, score=0.988 total time=   0.0s\n",
      "[CV 3/10] END class_weight=None, max_depth=2, min_samples_leaf=1, min_samples_split=5;, score=0.989 total time=   0.0s\n",
      "[CV 4/10] END class_weight=None, max_depth=2, min_samples_leaf=1, min_samples_split=5;, score=0.988 total time=   0.0s\n",
      "[CV 5/10] END class_weight=None, max_depth=2, min_samples_leaf=1, min_samples_split=5;, score=0.988 total time=   0.0s\n",
      "[CV 6/10] END class_weight=None, max_depth=2, min_samples_leaf=1, min_samples_split=5;, score=0.988 total time=   0.0s\n",
      "[CV 7/10] END class_weight=None, max_depth=2, min_samples_leaf=1, min_samples_split=5;, score=0.988 total time=   0.0s\n",
      "[CV 8/10] END class_weight=None, max_depth=2, min_samples_leaf=1, min_samples_split=5;, score=0.989 total time=   0.0s\n",
      "[CV 9/10] END class_weight=None, max_depth=2, min_samples_leaf=1, min_samples_split=5;, score=0.989 total time=   0.0s\n",
      "[CV 10/10] END class_weight=None, max_depth=2, min_samples_leaf=1, min_samples_split=5;, score=0.988 total time=   0.0s\n",
      "[CV 1/10] END class_weight=None, max_depth=2, min_samples_leaf=1, min_samples_split=10;, score=0.988 total time=   0.0s\n",
      "[CV 2/10] END class_weight=None, max_depth=2, min_samples_leaf=1, min_samples_split=10;, score=0.988 total time=   0.0s\n",
      "[CV 3/10] END class_weight=None, max_depth=2, min_samples_leaf=1, min_samples_split=10;, score=0.989 total time=   0.0s\n",
      "[CV 4/10] END class_weight=None, max_depth=2, min_samples_leaf=1, min_samples_split=10;, score=0.988 total time=   0.0s\n",
      "[CV 5/10] END class_weight=None, max_depth=2, min_samples_leaf=1, min_samples_split=10;, score=0.988 total time=   0.0s\n",
      "[CV 6/10] END class_weight=None, max_depth=2, min_samples_leaf=1, min_samples_split=10;, score=0.988 total time=   0.0s\n",
      "[CV 7/10] END class_weight=None, max_depth=2, min_samples_leaf=1, min_samples_split=10;, score=0.988 total time=   0.0s\n",
      "[CV 8/10] END class_weight=None, max_depth=2, min_samples_leaf=1, min_samples_split=10;, score=0.989 total time=   0.0s\n",
      "[CV 9/10] END class_weight=None, max_depth=2, min_samples_leaf=1, min_samples_split=10;, score=0.989 total time=   0.0s\n",
      "[CV 10/10] END class_weight=None, max_depth=2, min_samples_leaf=1, min_samples_split=10;, score=0.988 total time=   0.0s\n",
      "[CV 1/10] END class_weight=None, max_depth=2, min_samples_leaf=5, min_samples_split=1;, score=nan total time=   0.0s\n",
      "[CV 2/10] END class_weight=None, max_depth=2, min_samples_leaf=5, min_samples_split=1;, score=nan total time=   0.0s\n",
      "[CV 3/10] END class_weight=None, max_depth=2, min_samples_leaf=5, min_samples_split=1;, score=nan total time=   0.0s\n",
      "[CV 4/10] END class_weight=None, max_depth=2, min_samples_leaf=5, min_samples_split=1;, score=nan total time=   0.0s\n",
      "[CV 5/10] END class_weight=None, max_depth=2, min_samples_leaf=5, min_samples_split=1;, score=nan total time=   0.0s\n",
      "[CV 6/10] END class_weight=None, max_depth=2, min_samples_leaf=5, min_samples_split=1;, score=nan total time=   0.0s\n",
      "[CV 7/10] END class_weight=None, max_depth=2, min_samples_leaf=5, min_samples_split=1;, score=nan total time=   0.0s\n",
      "[CV 8/10] END class_weight=None, max_depth=2, min_samples_leaf=5, min_samples_split=1;, score=nan total time=   0.0s\n",
      "[CV 9/10] END class_weight=None, max_depth=2, min_samples_leaf=5, min_samples_split=1;, score=nan total time=   0.0s\n",
      "[CV 10/10] END class_weight=None, max_depth=2, min_samples_leaf=5, min_samples_split=1;, score=nan total time=   0.0s\n",
      "[CV 1/10] END class_weight=None, max_depth=2, min_samples_leaf=5, min_samples_split=5;, score=0.988 total time=   0.0s\n",
      "[CV 2/10] END class_weight=None, max_depth=2, min_samples_leaf=5, min_samples_split=5;, score=0.988 total time=   0.0s\n",
      "[CV 3/10] END class_weight=None, max_depth=2, min_samples_leaf=5, min_samples_split=5;, score=0.989 total time=   0.0s\n",
      "[CV 4/10] END class_weight=None, max_depth=2, min_samples_leaf=5, min_samples_split=5;, score=0.988 total time=   0.0s\n",
      "[CV 5/10] END class_weight=None, max_depth=2, min_samples_leaf=5, min_samples_split=5;, score=0.988 total time=   0.0s\n",
      "[CV 6/10] END class_weight=None, max_depth=2, min_samples_leaf=5, min_samples_split=5;, score=0.988 total time=   0.0s\n",
      "[CV 7/10] END class_weight=None, max_depth=2, min_samples_leaf=5, min_samples_split=5;, score=0.988 total time=   0.0s\n",
      "[CV 8/10] END class_weight=None, max_depth=2, min_samples_leaf=5, min_samples_split=5;, score=0.989 total time=   0.0s\n",
      "[CV 9/10] END class_weight=None, max_depth=2, min_samples_leaf=5, min_samples_split=5;, score=0.989 total time=   0.0s\n",
      "[CV 10/10] END class_weight=None, max_depth=2, min_samples_leaf=5, min_samples_split=5;, score=0.988 total time=   0.0s\n",
      "[CV 1/10] END class_weight=None, max_depth=2, min_samples_leaf=5, min_samples_split=10;, score=0.988 total time=   0.0s\n",
      "[CV 2/10] END class_weight=None, max_depth=2, min_samples_leaf=5, min_samples_split=10;, score=0.988 total time=   0.0s\n",
      "[CV 3/10] END class_weight=None, max_depth=2, min_samples_leaf=5, min_samples_split=10;, score=0.989 total time=   0.0s\n",
      "[CV 4/10] END class_weight=None, max_depth=2, min_samples_leaf=5, min_samples_split=10;, score=0.988 total time=   0.0s\n",
      "[CV 5/10] END class_weight=None, max_depth=2, min_samples_leaf=5, min_samples_split=10;, score=0.988 total time=   0.0s\n",
      "[CV 6/10] END class_weight=None, max_depth=2, min_samples_leaf=5, min_samples_split=10;, score=0.988 total time=   0.0s\n",
      "[CV 7/10] END class_weight=None, max_depth=2, min_samples_leaf=5, min_samples_split=10;, score=0.988 total time=   0.0s\n",
      "[CV 8/10] END class_weight=None, max_depth=2, min_samples_leaf=5, min_samples_split=10;, score=0.989 total time=   0.0s\n",
      "[CV 9/10] END class_weight=None, max_depth=2, min_samples_leaf=5, min_samples_split=10;, score=0.989 total time=   0.0s\n",
      "[CV 10/10] END class_weight=None, max_depth=2, min_samples_leaf=5, min_samples_split=10;, score=0.988 total time=   0.0s\n",
      "[CV 1/10] END class_weight=None, max_depth=2, min_samples_leaf=10, min_samples_split=1;, score=nan total time=   0.0s\n",
      "[CV 2/10] END class_weight=None, max_depth=2, min_samples_leaf=10, min_samples_split=1;, score=nan total time=   0.0s\n",
      "[CV 3/10] END class_weight=None, max_depth=2, min_samples_leaf=10, min_samples_split=1;, score=nan total time=   0.0s\n",
      "[CV 4/10] END class_weight=None, max_depth=2, min_samples_leaf=10, min_samples_split=1;, score=nan total time=   0.0s\n",
      "[CV 5/10] END class_weight=None, max_depth=2, min_samples_leaf=10, min_samples_split=1;, score=nan total time=   0.0s\n",
      "[CV 6/10] END class_weight=None, max_depth=2, min_samples_leaf=10, min_samples_split=1;, score=nan total time=   0.0s\n",
      "[CV 7/10] END class_weight=None, max_depth=2, min_samples_leaf=10, min_samples_split=1;, score=nan total time=   0.0s\n",
      "[CV 8/10] END class_weight=None, max_depth=2, min_samples_leaf=10, min_samples_split=1;, score=nan total time=   0.0s\n",
      "[CV 9/10] END class_weight=None, max_depth=2, min_samples_leaf=10, min_samples_split=1;, score=nan total time=   0.0s\n",
      "[CV 10/10] END class_weight=None, max_depth=2, min_samples_leaf=10, min_samples_split=1;, score=nan total time=   0.0s\n",
      "[CV 1/10] END class_weight=None, max_depth=2, min_samples_leaf=10, min_samples_split=5;, score=0.988 total time=   0.0s\n",
      "[CV 2/10] END class_weight=None, max_depth=2, min_samples_leaf=10, min_samples_split=5;, score=0.988 total time=   0.0s\n",
      "[CV 3/10] END class_weight=None, max_depth=2, min_samples_leaf=10, min_samples_split=5;, score=0.989 total time=   0.0s\n",
      "[CV 4/10] END class_weight=None, max_depth=2, min_samples_leaf=10, min_samples_split=5;, score=0.988 total time=   0.0s\n",
      "[CV 5/10] END class_weight=None, max_depth=2, min_samples_leaf=10, min_samples_split=5;, score=0.988 total time=   0.0s\n",
      "[CV 6/10] END class_weight=None, max_depth=2, min_samples_leaf=10, min_samples_split=5;, score=0.988 total time=   0.0s\n",
      "[CV 7/10] END class_weight=None, max_depth=2, min_samples_leaf=10, min_samples_split=5;, score=0.988 total time=   0.0s\n",
      "[CV 8/10] END class_weight=None, max_depth=2, min_samples_leaf=10, min_samples_split=5;, score=0.989 total time=   0.0s\n",
      "[CV 9/10] END class_weight=None, max_depth=2, min_samples_leaf=10, min_samples_split=5;, score=0.988 total time=   0.0s\n",
      "[CV 10/10] END class_weight=None, max_depth=2, min_samples_leaf=10, min_samples_split=5;, score=0.988 total time=   0.0s\n",
      "[CV 1/10] END class_weight=None, max_depth=2, min_samples_leaf=10, min_samples_split=10;, score=0.988 total time=   0.0s\n",
      "[CV 2/10] END class_weight=None, max_depth=2, min_samples_leaf=10, min_samples_split=10;, score=0.988 total time=   0.0s\n",
      "[CV 3/10] END class_weight=None, max_depth=2, min_samples_leaf=10, min_samples_split=10;, score=0.989 total time=   0.0s\n",
      "[CV 4/10] END class_weight=None, max_depth=2, min_samples_leaf=10, min_samples_split=10;, score=0.988 total time=   0.0s\n",
      "[CV 5/10] END class_weight=None, max_depth=2, min_samples_leaf=10, min_samples_split=10;, score=0.988 total time=   0.0s\n",
      "[CV 6/10] END class_weight=None, max_depth=2, min_samples_leaf=10, min_samples_split=10;, score=0.988 total time=   0.0s\n",
      "[CV 7/10] END class_weight=None, max_depth=2, min_samples_leaf=10, min_samples_split=10;, score=0.988 total time=   0.0s\n",
      "[CV 8/10] END class_weight=None, max_depth=2, min_samples_leaf=10, min_samples_split=10;, score=0.989 total time=   0.0s\n",
      "[CV 9/10] END class_weight=None, max_depth=2, min_samples_leaf=10, min_samples_split=10;, score=0.988 total time=   0.0s\n",
      "[CV 10/10] END class_weight=None, max_depth=2, min_samples_leaf=10, min_samples_split=10;, score=0.988 total time=   0.0s\n",
      "[CV 1/10] END class_weight=None, max_depth=3, min_samples_leaf=1, min_samples_split=1;, score=nan total time=   0.0s\n",
      "[CV 2/10] END class_weight=None, max_depth=3, min_samples_leaf=1, min_samples_split=1;, score=nan total time=   0.0s\n",
      "[CV 3/10] END class_weight=None, max_depth=3, min_samples_leaf=1, min_samples_split=1;, score=nan total time=   0.0s\n",
      "[CV 4/10] END class_weight=None, max_depth=3, min_samples_leaf=1, min_samples_split=1;, score=nan total time=   0.0s\n",
      "[CV 5/10] END class_weight=None, max_depth=3, min_samples_leaf=1, min_samples_split=1;, score=nan total time=   0.0s\n",
      "[CV 6/10] END class_weight=None, max_depth=3, min_samples_leaf=1, min_samples_split=1;, score=nan total time=   0.0s\n",
      "[CV 7/10] END class_weight=None, max_depth=3, min_samples_leaf=1, min_samples_split=1;, score=nan total time=   0.0s\n",
      "[CV 8/10] END class_weight=None, max_depth=3, min_samples_leaf=1, min_samples_split=1;, score=nan total time=   0.0s\n",
      "[CV 9/10] END class_weight=None, max_depth=3, min_samples_leaf=1, min_samples_split=1;, score=nan total time=   0.0s\n",
      "[CV 10/10] END class_weight=None, max_depth=3, min_samples_leaf=1, min_samples_split=1;, score=nan total time=   0.0s\n",
      "[CV 1/10] END class_weight=None, max_depth=3, min_samples_leaf=1, min_samples_split=5;, score=0.988 total time=   0.0s\n",
      "[CV 2/10] END class_weight=None, max_depth=3, min_samples_leaf=1, min_samples_split=5;, score=0.988 total time=   0.0s\n",
      "[CV 3/10] END class_weight=None, max_depth=3, min_samples_leaf=1, min_samples_split=5;, score=0.988 total time=   0.0s\n",
      "[CV 4/10] END class_weight=None, max_depth=3, min_samples_leaf=1, min_samples_split=5;, score=0.988 total time=   0.0s\n",
      "[CV 5/10] END class_weight=None, max_depth=3, min_samples_leaf=1, min_samples_split=5;, score=0.988 total time=   0.0s\n",
      "[CV 6/10] END class_weight=None, max_depth=3, min_samples_leaf=1, min_samples_split=5;, score=0.988 total time=   0.0s\n",
      "[CV 7/10] END class_weight=None, max_depth=3, min_samples_leaf=1, min_samples_split=5;, score=0.988 total time=   0.0s\n",
      "[CV 8/10] END class_weight=None, max_depth=3, min_samples_leaf=1, min_samples_split=5;, score=0.989 total time=   0.0s\n",
      "[CV 9/10] END class_weight=None, max_depth=3, min_samples_leaf=1, min_samples_split=5;, score=0.989 total time=   0.0s\n",
      "[CV 10/10] END class_weight=None, max_depth=3, min_samples_leaf=1, min_samples_split=5;, score=0.988 total time=   0.0s\n",
      "[CV 1/10] END class_weight=None, max_depth=3, min_samples_leaf=1, min_samples_split=10;, score=0.988 total time=   0.0s\n",
      "[CV 2/10] END class_weight=None, max_depth=3, min_samples_leaf=1, min_samples_split=10;, score=0.988 total time=   0.0s\n",
      "[CV 3/10] END class_weight=None, max_depth=3, min_samples_leaf=1, min_samples_split=10;, score=0.988 total time=   0.0s\n",
      "[CV 4/10] END class_weight=None, max_depth=3, min_samples_leaf=1, min_samples_split=10;, score=0.988 total time=   0.0s\n",
      "[CV 5/10] END class_weight=None, max_depth=3, min_samples_leaf=1, min_samples_split=10;, score=0.988 total time=   0.0s\n",
      "[CV 6/10] END class_weight=None, max_depth=3, min_samples_leaf=1, min_samples_split=10;, score=0.988 total time=   0.0s\n",
      "[CV 7/10] END class_weight=None, max_depth=3, min_samples_leaf=1, min_samples_split=10;, score=0.988 total time=   0.0s\n",
      "[CV 8/10] END class_weight=None, max_depth=3, min_samples_leaf=1, min_samples_split=10;, score=0.989 total time=   0.0s\n",
      "[CV 9/10] END class_weight=None, max_depth=3, min_samples_leaf=1, min_samples_split=10;, score=0.989 total time=   0.0s\n",
      "[CV 10/10] END class_weight=None, max_depth=3, min_samples_leaf=1, min_samples_split=10;, score=0.988 total time=   0.0s\n",
      "[CV 1/10] END class_weight=None, max_depth=3, min_samples_leaf=5, min_samples_split=1;, score=nan total time=   0.0s\n",
      "[CV 2/10] END class_weight=None, max_depth=3, min_samples_leaf=5, min_samples_split=1;, score=nan total time=   0.0s\n",
      "[CV 3/10] END class_weight=None, max_depth=3, min_samples_leaf=5, min_samples_split=1;, score=nan total time=   0.0s\n",
      "[CV 4/10] END class_weight=None, max_depth=3, min_samples_leaf=5, min_samples_split=1;, score=nan total time=   0.0s\n",
      "[CV 5/10] END class_weight=None, max_depth=3, min_samples_leaf=5, min_samples_split=1;, score=nan total time=   0.0s\n",
      "[CV 6/10] END class_weight=None, max_depth=3, min_samples_leaf=5, min_samples_split=1;, score=nan total time=   0.0s\n",
      "[CV 7/10] END class_weight=None, max_depth=3, min_samples_leaf=5, min_samples_split=1;, score=nan total time=   0.0s\n",
      "[CV 8/10] END class_weight=None, max_depth=3, min_samples_leaf=5, min_samples_split=1;, score=nan total time=   0.0s\n",
      "[CV 9/10] END class_weight=None, max_depth=3, min_samples_leaf=5, min_samples_split=1;, score=nan total time=   0.0s\n",
      "[CV 10/10] END class_weight=None, max_depth=3, min_samples_leaf=5, min_samples_split=1;, score=nan total time=   0.0s\n",
      "[CV 1/10] END class_weight=None, max_depth=3, min_samples_leaf=5, min_samples_split=5;, score=0.988 total time=   0.0s\n",
      "[CV 2/10] END class_weight=None, max_depth=3, min_samples_leaf=5, min_samples_split=5;, score=0.988 total time=   0.0s\n",
      "[CV 3/10] END class_weight=None, max_depth=3, min_samples_leaf=5, min_samples_split=5;, score=0.989 total time=   0.0s\n",
      "[CV 4/10] END class_weight=None, max_depth=3, min_samples_leaf=5, min_samples_split=5;, score=0.988 total time=   0.0s\n",
      "[CV 5/10] END class_weight=None, max_depth=3, min_samples_leaf=5, min_samples_split=5;, score=0.988 total time=   0.0s\n",
      "[CV 6/10] END class_weight=None, max_depth=3, min_samples_leaf=5, min_samples_split=5;, score=0.987 total time=   0.0s\n",
      "[CV 7/10] END class_weight=None, max_depth=3, min_samples_leaf=5, min_samples_split=5;, score=0.988 total time=   0.0s\n",
      "[CV 8/10] END class_weight=None, max_depth=3, min_samples_leaf=5, min_samples_split=5;, score=0.989 total time=   0.0s\n",
      "[CV 9/10] END class_weight=None, max_depth=3, min_samples_leaf=5, min_samples_split=5;, score=0.989 total time=   0.0s\n",
      "[CV 10/10] END class_weight=None, max_depth=3, min_samples_leaf=5, min_samples_split=5;, score=0.988 total time=   0.0s\n",
      "[CV 1/10] END class_weight=None, max_depth=3, min_samples_leaf=5, min_samples_split=10;, score=0.988 total time=   0.0s\n",
      "[CV 2/10] END class_weight=None, max_depth=3, min_samples_leaf=5, min_samples_split=10;, score=0.988 total time=   0.0s\n",
      "[CV 3/10] END class_weight=None, max_depth=3, min_samples_leaf=5, min_samples_split=10;, score=0.989 total time=   0.0s\n",
      "[CV 4/10] END class_weight=None, max_depth=3, min_samples_leaf=5, min_samples_split=10;, score=0.988 total time=   0.0s\n",
      "[CV 5/10] END class_weight=None, max_depth=3, min_samples_leaf=5, min_samples_split=10;, score=0.988 total time=   0.0s\n",
      "[CV 6/10] END class_weight=None, max_depth=3, min_samples_leaf=5, min_samples_split=10;, score=0.988 total time=   0.0s\n",
      "[CV 7/10] END class_weight=None, max_depth=3, min_samples_leaf=5, min_samples_split=10;, score=0.988 total time=   0.0s\n",
      "[CV 8/10] END class_weight=None, max_depth=3, min_samples_leaf=5, min_samples_split=10;, score=0.989 total time=   0.0s\n",
      "[CV 9/10] END class_weight=None, max_depth=3, min_samples_leaf=5, min_samples_split=10;, score=0.989 total time=   0.0s\n",
      "[CV 10/10] END class_weight=None, max_depth=3, min_samples_leaf=5, min_samples_split=10;, score=0.988 total time=   0.0s\n",
      "[CV 1/10] END class_weight=None, max_depth=3, min_samples_leaf=10, min_samples_split=1;, score=nan total time=   0.0s\n",
      "[CV 2/10] END class_weight=None, max_depth=3, min_samples_leaf=10, min_samples_split=1;, score=nan total time=   0.0s\n",
      "[CV 3/10] END class_weight=None, max_depth=3, min_samples_leaf=10, min_samples_split=1;, score=nan total time=   0.0s\n",
      "[CV 4/10] END class_weight=None, max_depth=3, min_samples_leaf=10, min_samples_split=1;, score=nan total time=   0.0s\n",
      "[CV 5/10] END class_weight=None, max_depth=3, min_samples_leaf=10, min_samples_split=1;, score=nan total time=   0.0s\n",
      "[CV 6/10] END class_weight=None, max_depth=3, min_samples_leaf=10, min_samples_split=1;, score=nan total time=   0.0s\n",
      "[CV 7/10] END class_weight=None, max_depth=3, min_samples_leaf=10, min_samples_split=1;, score=nan total time=   0.0s\n",
      "[CV 8/10] END class_weight=None, max_depth=3, min_samples_leaf=10, min_samples_split=1;, score=nan total time=   0.0s\n",
      "[CV 9/10] END class_weight=None, max_depth=3, min_samples_leaf=10, min_samples_split=1;, score=nan total time=   0.0s\n",
      "[CV 10/10] END class_weight=None, max_depth=3, min_samples_leaf=10, min_samples_split=1;, score=nan total time=   0.0s\n",
      "[CV 1/10] END class_weight=None, max_depth=3, min_samples_leaf=10, min_samples_split=5;, score=0.988 total time=   0.0s\n",
      "[CV 2/10] END class_weight=None, max_depth=3, min_samples_leaf=10, min_samples_split=5;, score=0.988 total time=   0.0s\n",
      "[CV 3/10] END class_weight=None, max_depth=3, min_samples_leaf=10, min_samples_split=5;, score=0.989 total time=   0.0s\n",
      "[CV 4/10] END class_weight=None, max_depth=3, min_samples_leaf=10, min_samples_split=5;, score=0.988 total time=   0.0s\n",
      "[CV 5/10] END class_weight=None, max_depth=3, min_samples_leaf=10, min_samples_split=5;, score=0.988 total time=   0.0s\n",
      "[CV 6/10] END class_weight=None, max_depth=3, min_samples_leaf=10, min_samples_split=5;, score=0.988 total time=   0.0s\n",
      "[CV 7/10] END class_weight=None, max_depth=3, min_samples_leaf=10, min_samples_split=5;, score=0.988 total time=   0.0s\n",
      "[CV 8/10] END class_weight=None, max_depth=3, min_samples_leaf=10, min_samples_split=5;, score=0.989 total time=   0.0s\n",
      "[CV 9/10] END class_weight=None, max_depth=3, min_samples_leaf=10, min_samples_split=5;, score=0.988 total time=   0.0s\n",
      "[CV 10/10] END class_weight=None, max_depth=3, min_samples_leaf=10, min_samples_split=5;, score=0.988 total time=   0.0s\n",
      "[CV 1/10] END class_weight=None, max_depth=3, min_samples_leaf=10, min_samples_split=10;, score=0.988 total time=   0.0s\n",
      "[CV 2/10] END class_weight=None, max_depth=3, min_samples_leaf=10, min_samples_split=10;, score=0.988 total time=   0.0s\n",
      "[CV 3/10] END class_weight=None, max_depth=3, min_samples_leaf=10, min_samples_split=10;, score=0.989 total time=   0.0s\n",
      "[CV 4/10] END class_weight=None, max_depth=3, min_samples_leaf=10, min_samples_split=10;, score=0.988 total time=   0.0s\n",
      "[CV 5/10] END class_weight=None, max_depth=3, min_samples_leaf=10, min_samples_split=10;, score=0.988 total time=   0.0s\n",
      "[CV 6/10] END class_weight=None, max_depth=3, min_samples_leaf=10, min_samples_split=10;, score=0.988 total time=   0.0s\n",
      "[CV 7/10] END class_weight=None, max_depth=3, min_samples_leaf=10, min_samples_split=10;, score=0.988 total time=   0.0s\n",
      "[CV 8/10] END class_weight=None, max_depth=3, min_samples_leaf=10, min_samples_split=10;, score=0.989 total time=   0.0s\n",
      "[CV 9/10] END class_weight=None, max_depth=3, min_samples_leaf=10, min_samples_split=10;, score=0.988 total time=   0.0s\n",
      "[CV 10/10] END class_weight=None, max_depth=3, min_samples_leaf=10, min_samples_split=10;, score=0.988 total time=   0.0s\n",
      "[CV 1/10] END class_weight=None, max_depth=4, min_samples_leaf=1, min_samples_split=1;, score=nan total time=   0.0s\n",
      "[CV 2/10] END class_weight=None, max_depth=4, min_samples_leaf=1, min_samples_split=1;, score=nan total time=   0.0s\n",
      "[CV 3/10] END class_weight=None, max_depth=4, min_samples_leaf=1, min_samples_split=1;, score=nan total time=   0.0s\n",
      "[CV 4/10] END class_weight=None, max_depth=4, min_samples_leaf=1, min_samples_split=1;, score=nan total time=   0.0s\n",
      "[CV 5/10] END class_weight=None, max_depth=4, min_samples_leaf=1, min_samples_split=1;, score=nan total time=   0.0s\n",
      "[CV 6/10] END class_weight=None, max_depth=4, min_samples_leaf=1, min_samples_split=1;, score=nan total time=   0.0s\n",
      "[CV 7/10] END class_weight=None, max_depth=4, min_samples_leaf=1, min_samples_split=1;, score=nan total time=   0.0s\n",
      "[CV 8/10] END class_weight=None, max_depth=4, min_samples_leaf=1, min_samples_split=1;, score=nan total time=   0.0s\n",
      "[CV 9/10] END class_weight=None, max_depth=4, min_samples_leaf=1, min_samples_split=1;, score=nan total time=   0.0s\n",
      "[CV 10/10] END class_weight=None, max_depth=4, min_samples_leaf=1, min_samples_split=1;, score=nan total time=   0.0s\n",
      "[CV 1/10] END class_weight=None, max_depth=4, min_samples_leaf=1, min_samples_split=5;, score=0.988 total time=   0.0s\n",
      "[CV 2/10] END class_weight=None, max_depth=4, min_samples_leaf=1, min_samples_split=5;, score=0.988 total time=   0.0s\n",
      "[CV 3/10] END class_weight=None, max_depth=4, min_samples_leaf=1, min_samples_split=5;, score=0.988 total time=   0.0s\n",
      "[CV 4/10] END class_weight=None, max_depth=4, min_samples_leaf=1, min_samples_split=5;, score=0.988 total time=   0.0s\n",
      "[CV 5/10] END class_weight=None, max_depth=4, min_samples_leaf=1, min_samples_split=5;, score=0.987 total time=   0.0s\n",
      "[CV 6/10] END class_weight=None, max_depth=4, min_samples_leaf=1, min_samples_split=5;, score=0.987 total time=   0.0s\n",
      "[CV 7/10] END class_weight=None, max_depth=4, min_samples_leaf=1, min_samples_split=5;, score=0.988 total time=   0.0s\n",
      "[CV 8/10] END class_weight=None, max_depth=4, min_samples_leaf=1, min_samples_split=5;, score=0.989 total time=   0.0s\n",
      "[CV 9/10] END class_weight=None, max_depth=4, min_samples_leaf=1, min_samples_split=5;, score=0.989 total time=   0.0s\n",
      "[CV 10/10] END class_weight=None, max_depth=4, min_samples_leaf=1, min_samples_split=5;, score=0.988 total time=   0.0s\n",
      "[CV 1/10] END class_weight=None, max_depth=4, min_samples_leaf=1, min_samples_split=10;, score=0.988 total time=   0.0s\n",
      "[CV 2/10] END class_weight=None, max_depth=4, min_samples_leaf=1, min_samples_split=10;, score=0.988 total time=   0.0s\n",
      "[CV 3/10] END class_weight=None, max_depth=4, min_samples_leaf=1, min_samples_split=10;, score=0.988 total time=   0.0s\n",
      "[CV 4/10] END class_weight=None, max_depth=4, min_samples_leaf=1, min_samples_split=10;, score=0.988 total time=   0.0s\n",
      "[CV 5/10] END class_weight=None, max_depth=4, min_samples_leaf=1, min_samples_split=10;, score=0.987 total time=   0.0s\n",
      "[CV 6/10] END class_weight=None, max_depth=4, min_samples_leaf=1, min_samples_split=10;, score=0.988 total time=   0.0s\n",
      "[CV 7/10] END class_weight=None, max_depth=4, min_samples_leaf=1, min_samples_split=10;, score=0.988 total time=   0.0s\n",
      "[CV 8/10] END class_weight=None, max_depth=4, min_samples_leaf=1, min_samples_split=10;, score=0.989 total time=   0.0s\n",
      "[CV 9/10] END class_weight=None, max_depth=4, min_samples_leaf=1, min_samples_split=10;, score=0.989 total time=   0.0s\n",
      "[CV 10/10] END class_weight=None, max_depth=4, min_samples_leaf=1, min_samples_split=10;, score=0.988 total time=   0.0s\n",
      "[CV 1/10] END class_weight=None, max_depth=4, min_samples_leaf=5, min_samples_split=1;, score=nan total time=   0.0s\n",
      "[CV 2/10] END class_weight=None, max_depth=4, min_samples_leaf=5, min_samples_split=1;, score=nan total time=   0.0s\n",
      "[CV 3/10] END class_weight=None, max_depth=4, min_samples_leaf=5, min_samples_split=1;, score=nan total time=   0.0s\n",
      "[CV 4/10] END class_weight=None, max_depth=4, min_samples_leaf=5, min_samples_split=1;, score=nan total time=   0.0s\n",
      "[CV 5/10] END class_weight=None, max_depth=4, min_samples_leaf=5, min_samples_split=1;, score=nan total time=   0.0s\n",
      "[CV 6/10] END class_weight=None, max_depth=4, min_samples_leaf=5, min_samples_split=1;, score=nan total time=   0.0s\n",
      "[CV 7/10] END class_weight=None, max_depth=4, min_samples_leaf=5, min_samples_split=1;, score=nan total time=   0.0s\n",
      "[CV 8/10] END class_weight=None, max_depth=4, min_samples_leaf=5, min_samples_split=1;, score=nan total time=   0.0s\n",
      "[CV 9/10] END class_weight=None, max_depth=4, min_samples_leaf=5, min_samples_split=1;, score=nan total time=   0.0s\n",
      "[CV 10/10] END class_weight=None, max_depth=4, min_samples_leaf=5, min_samples_split=1;, score=nan total time=   0.0s\n",
      "[CV 1/10] END class_weight=None, max_depth=4, min_samples_leaf=5, min_samples_split=5;, score=0.988 total time=   0.0s\n",
      "[CV 2/10] END class_weight=None, max_depth=4, min_samples_leaf=5, min_samples_split=5;, score=0.988 total time=   0.0s\n",
      "[CV 3/10] END class_weight=None, max_depth=4, min_samples_leaf=5, min_samples_split=5;, score=0.989 total time=   0.0s\n",
      "[CV 4/10] END class_weight=None, max_depth=4, min_samples_leaf=5, min_samples_split=5;, score=0.988 total time=   0.0s\n",
      "[CV 5/10] END class_weight=None, max_depth=4, min_samples_leaf=5, min_samples_split=5;, score=0.986 total time=   0.0s\n",
      "[CV 6/10] END class_weight=None, max_depth=4, min_samples_leaf=5, min_samples_split=5;, score=0.988 total time=   0.0s\n",
      "[CV 7/10] END class_weight=None, max_depth=4, min_samples_leaf=5, min_samples_split=5;, score=0.988 total time=   0.0s\n",
      "[CV 8/10] END class_weight=None, max_depth=4, min_samples_leaf=5, min_samples_split=5;, score=0.989 total time=   0.0s\n",
      "[CV 9/10] END class_weight=None, max_depth=4, min_samples_leaf=5, min_samples_split=5;, score=0.989 total time=   0.0s\n",
      "[CV 10/10] END class_weight=None, max_depth=4, min_samples_leaf=5, min_samples_split=5;, score=0.987 total time=   0.0s\n",
      "[CV 1/10] END class_weight=None, max_depth=4, min_samples_leaf=5, min_samples_split=10;, score=0.988 total time=   0.0s\n",
      "[CV 2/10] END class_weight=None, max_depth=4, min_samples_leaf=5, min_samples_split=10;, score=0.988 total time=   0.0s\n",
      "[CV 3/10] END class_weight=None, max_depth=4, min_samples_leaf=5, min_samples_split=10;, score=0.989 total time=   0.0s\n",
      "[CV 4/10] END class_weight=None, max_depth=4, min_samples_leaf=5, min_samples_split=10;, score=0.988 total time=   0.0s\n",
      "[CV 5/10] END class_weight=None, max_depth=4, min_samples_leaf=5, min_samples_split=10;, score=0.986 total time=   0.0s\n",
      "[CV 6/10] END class_weight=None, max_depth=4, min_samples_leaf=5, min_samples_split=10;, score=0.987 total time=   0.0s\n",
      "[CV 7/10] END class_weight=None, max_depth=4, min_samples_leaf=5, min_samples_split=10;, score=0.988 total time=   0.0s\n",
      "[CV 8/10] END class_weight=None, max_depth=4, min_samples_leaf=5, min_samples_split=10;, score=0.989 total time=   0.0s\n",
      "[CV 9/10] END class_weight=None, max_depth=4, min_samples_leaf=5, min_samples_split=10;, score=0.989 total time=   0.0s\n",
      "[CV 10/10] END class_weight=None, max_depth=4, min_samples_leaf=5, min_samples_split=10;, score=0.987 total time=   0.0s\n",
      "[CV 1/10] END class_weight=None, max_depth=4, min_samples_leaf=10, min_samples_split=1;, score=nan total time=   0.0s\n",
      "[CV 2/10] END class_weight=None, max_depth=4, min_samples_leaf=10, min_samples_split=1;, score=nan total time=   0.0s\n",
      "[CV 3/10] END class_weight=None, max_depth=4, min_samples_leaf=10, min_samples_split=1;, score=nan total time=   0.0s\n",
      "[CV 4/10] END class_weight=None, max_depth=4, min_samples_leaf=10, min_samples_split=1;, score=nan total time=   0.0s\n",
      "[CV 5/10] END class_weight=None, max_depth=4, min_samples_leaf=10, min_samples_split=1;, score=nan total time=   0.0s\n",
      "[CV 6/10] END class_weight=None, max_depth=4, min_samples_leaf=10, min_samples_split=1;, score=nan total time=   0.0s\n",
      "[CV 7/10] END class_weight=None, max_depth=4, min_samples_leaf=10, min_samples_split=1;, score=nan total time=   0.0s\n",
      "[CV 8/10] END class_weight=None, max_depth=4, min_samples_leaf=10, min_samples_split=1;, score=nan total time=   0.0s\n",
      "[CV 9/10] END class_weight=None, max_depth=4, min_samples_leaf=10, min_samples_split=1;, score=nan total time=   0.0s\n",
      "[CV 10/10] END class_weight=None, max_depth=4, min_samples_leaf=10, min_samples_split=1;, score=nan total time=   0.0s\n",
      "[CV 1/10] END class_weight=None, max_depth=4, min_samples_leaf=10, min_samples_split=5;, score=0.988 total time=   0.0s\n",
      "[CV 2/10] END class_weight=None, max_depth=4, min_samples_leaf=10, min_samples_split=5;, score=0.988 total time=   0.0s\n",
      "[CV 3/10] END class_weight=None, max_depth=4, min_samples_leaf=10, min_samples_split=5;, score=0.989 total time=   0.0s\n",
      "[CV 4/10] END class_weight=None, max_depth=4, min_samples_leaf=10, min_samples_split=5;, score=0.988 total time=   0.0s\n",
      "[CV 5/10] END class_weight=None, max_depth=4, min_samples_leaf=10, min_samples_split=5;, score=0.989 total time=   0.0s\n",
      "[CV 6/10] END class_weight=None, max_depth=4, min_samples_leaf=10, min_samples_split=5;, score=0.988 total time=   0.0s\n",
      "[CV 7/10] END class_weight=None, max_depth=4, min_samples_leaf=10, min_samples_split=5;, score=0.988 total time=   0.0s\n",
      "[CV 8/10] END class_weight=None, max_depth=4, min_samples_leaf=10, min_samples_split=5;, score=0.989 total time=   0.0s\n",
      "[CV 9/10] END class_weight=None, max_depth=4, min_samples_leaf=10, min_samples_split=5;, score=0.988 total time=   0.0s\n",
      "[CV 10/10] END class_weight=None, max_depth=4, min_samples_leaf=10, min_samples_split=5;, score=0.988 total time=   0.0s\n",
      "[CV 1/10] END class_weight=None, max_depth=4, min_samples_leaf=10, min_samples_split=10;, score=0.988 total time=   0.0s\n",
      "[CV 2/10] END class_weight=None, max_depth=4, min_samples_leaf=10, min_samples_split=10;, score=0.988 total time=   0.0s\n",
      "[CV 3/10] END class_weight=None, max_depth=4, min_samples_leaf=10, min_samples_split=10;, score=0.989 total time=   0.0s\n",
      "[CV 4/10] END class_weight=None, max_depth=4, min_samples_leaf=10, min_samples_split=10;, score=0.988 total time=   0.0s\n",
      "[CV 5/10] END class_weight=None, max_depth=4, min_samples_leaf=10, min_samples_split=10;, score=0.989 total time=   0.0s\n",
      "[CV 6/10] END class_weight=None, max_depth=4, min_samples_leaf=10, min_samples_split=10;, score=0.988 total time=   0.0s\n",
      "[CV 7/10] END class_weight=None, max_depth=4, min_samples_leaf=10, min_samples_split=10;, score=0.988 total time=   0.0s\n",
      "[CV 8/10] END class_weight=None, max_depth=4, min_samples_leaf=10, min_samples_split=10;, score=0.989 total time=   0.0s\n",
      "[CV 9/10] END class_weight=None, max_depth=4, min_samples_leaf=10, min_samples_split=10;, score=0.988 total time=   0.0s\n",
      "[CV 10/10] END class_weight=None, max_depth=4, min_samples_leaf=10, min_samples_split=10;, score=0.988 total time=   0.0s\n",
      "[CV 1/10] END class_weight=None, max_depth=5, min_samples_leaf=1, min_samples_split=1;, score=nan total time=   0.0s\n",
      "[CV 2/10] END class_weight=None, max_depth=5, min_samples_leaf=1, min_samples_split=1;, score=nan total time=   0.0s\n",
      "[CV 3/10] END class_weight=None, max_depth=5, min_samples_leaf=1, min_samples_split=1;, score=nan total time=   0.0s\n",
      "[CV 4/10] END class_weight=None, max_depth=5, min_samples_leaf=1, min_samples_split=1;, score=nan total time=   0.0s\n",
      "[CV 5/10] END class_weight=None, max_depth=5, min_samples_leaf=1, min_samples_split=1;, score=nan total time=   0.0s\n",
      "[CV 6/10] END class_weight=None, max_depth=5, min_samples_leaf=1, min_samples_split=1;, score=nan total time=   0.0s\n",
      "[CV 7/10] END class_weight=None, max_depth=5, min_samples_leaf=1, min_samples_split=1;, score=nan total time=   0.0s\n",
      "[CV 8/10] END class_weight=None, max_depth=5, min_samples_leaf=1, min_samples_split=1;, score=nan total time=   0.0s\n",
      "[CV 9/10] END class_weight=None, max_depth=5, min_samples_leaf=1, min_samples_split=1;, score=nan total time=   0.0s\n",
      "[CV 10/10] END class_weight=None, max_depth=5, min_samples_leaf=1, min_samples_split=1;, score=nan total time=   0.0s\n",
      "[CV 1/10] END class_weight=None, max_depth=5, min_samples_leaf=1, min_samples_split=5;, score=0.988 total time=   0.0s\n",
      "[CV 2/10] END class_weight=None, max_depth=5, min_samples_leaf=1, min_samples_split=5;, score=0.986 total time=   0.0s\n",
      "[CV 3/10] END class_weight=None, max_depth=5, min_samples_leaf=1, min_samples_split=5;, score=0.989 total time=   0.0s\n",
      "[CV 4/10] END class_weight=None, max_depth=5, min_samples_leaf=1, min_samples_split=5;, score=0.988 total time=   0.0s\n",
      "[CV 5/10] END class_weight=None, max_depth=5, min_samples_leaf=1, min_samples_split=5;, score=0.988 total time=   0.0s\n",
      "[CV 6/10] END class_weight=None, max_depth=5, min_samples_leaf=1, min_samples_split=5;, score=0.988 total time=   0.0s\n",
      "[CV 7/10] END class_weight=None, max_depth=5, min_samples_leaf=1, min_samples_split=5;, score=0.987 total time=   0.0s\n",
      "[CV 8/10] END class_weight=None, max_depth=5, min_samples_leaf=1, min_samples_split=5;, score=0.988 total time=   0.0s\n",
      "[CV 9/10] END class_weight=None, max_depth=5, min_samples_leaf=1, min_samples_split=5;, score=0.987 total time=   0.0s\n",
      "[CV 10/10] END class_weight=None, max_depth=5, min_samples_leaf=1, min_samples_split=5;, score=0.988 total time=   0.0s\n",
      "[CV 1/10] END class_weight=None, max_depth=5, min_samples_leaf=1, min_samples_split=10;, score=0.988 total time=   0.0s\n",
      "[CV 2/10] END class_weight=None, max_depth=5, min_samples_leaf=1, min_samples_split=10;, score=0.986 total time=   0.0s\n",
      "[CV 3/10] END class_weight=None, max_depth=5, min_samples_leaf=1, min_samples_split=10;, score=0.988 total time=   0.0s\n",
      "[CV 4/10] END class_weight=None, max_depth=5, min_samples_leaf=1, min_samples_split=10;, score=0.988 total time=   0.0s\n",
      "[CV 5/10] END class_weight=None, max_depth=5, min_samples_leaf=1, min_samples_split=10;, score=0.988 total time=   0.0s\n",
      "[CV 6/10] END class_weight=None, max_depth=5, min_samples_leaf=1, min_samples_split=10;, score=0.988 total time=   0.0s\n",
      "[CV 7/10] END class_weight=None, max_depth=5, min_samples_leaf=1, min_samples_split=10;, score=0.987 total time=   0.0s\n",
      "[CV 8/10] END class_weight=None, max_depth=5, min_samples_leaf=1, min_samples_split=10;, score=0.988 total time=   0.0s\n",
      "[CV 9/10] END class_weight=None, max_depth=5, min_samples_leaf=1, min_samples_split=10;, score=0.987 total time=   0.0s\n",
      "[CV 10/10] END class_weight=None, max_depth=5, min_samples_leaf=1, min_samples_split=10;, score=0.988 total time=   0.0s\n",
      "[CV 1/10] END class_weight=None, max_depth=5, min_samples_leaf=5, min_samples_split=1;, score=nan total time=   0.0s\n",
      "[CV 2/10] END class_weight=None, max_depth=5, min_samples_leaf=5, min_samples_split=1;, score=nan total time=   0.0s\n",
      "[CV 3/10] END class_weight=None, max_depth=5, min_samples_leaf=5, min_samples_split=1;, score=nan total time=   0.0s\n",
      "[CV 4/10] END class_weight=None, max_depth=5, min_samples_leaf=5, min_samples_split=1;, score=nan total time=   0.0s\n",
      "[CV 5/10] END class_weight=None, max_depth=5, min_samples_leaf=5, min_samples_split=1;, score=nan total time=   0.0s\n",
      "[CV 6/10] END class_weight=None, max_depth=5, min_samples_leaf=5, min_samples_split=1;, score=nan total time=   0.0s\n",
      "[CV 7/10] END class_weight=None, max_depth=5, min_samples_leaf=5, min_samples_split=1;, score=nan total time=   0.0s\n",
      "[CV 8/10] END class_weight=None, max_depth=5, min_samples_leaf=5, min_samples_split=1;, score=nan total time=   0.0s\n",
      "[CV 9/10] END class_weight=None, max_depth=5, min_samples_leaf=5, min_samples_split=1;, score=nan total time=   0.0s\n",
      "[CV 10/10] END class_weight=None, max_depth=5, min_samples_leaf=5, min_samples_split=1;, score=nan total time=   0.0s\n",
      "[CV 1/10] END class_weight=None, max_depth=5, min_samples_leaf=5, min_samples_split=5;, score=0.988 total time=   0.0s\n",
      "[CV 2/10] END class_weight=None, max_depth=5, min_samples_leaf=5, min_samples_split=5;, score=0.986 total time=   0.0s\n",
      "[CV 3/10] END class_weight=None, max_depth=5, min_samples_leaf=5, min_samples_split=5;, score=0.988 total time=   0.0s\n",
      "[CV 4/10] END class_weight=None, max_depth=5, min_samples_leaf=5, min_samples_split=5;, score=0.988 total time=   0.0s\n",
      "[CV 5/10] END class_weight=None, max_depth=5, min_samples_leaf=5, min_samples_split=5;, score=0.986 total time=   0.0s\n",
      "[CV 6/10] END class_weight=None, max_depth=5, min_samples_leaf=5, min_samples_split=5;, score=0.988 total time=   0.0s\n",
      "[CV 7/10] END class_weight=None, max_depth=5, min_samples_leaf=5, min_samples_split=5;, score=0.985 total time=   0.0s\n",
      "[CV 8/10] END class_weight=None, max_depth=5, min_samples_leaf=5, min_samples_split=5;, score=0.988 total time=   0.0s\n",
      "[CV 9/10] END class_weight=None, max_depth=5, min_samples_leaf=5, min_samples_split=5;, score=0.987 total time=   0.0s\n",
      "[CV 10/10] END class_weight=None, max_depth=5, min_samples_leaf=5, min_samples_split=5;, score=0.988 total time=   0.0s\n",
      "[CV 1/10] END class_weight=None, max_depth=5, min_samples_leaf=5, min_samples_split=10;, score=0.988 total time=   0.0s\n",
      "[CV 2/10] END class_weight=None, max_depth=5, min_samples_leaf=5, min_samples_split=10;, score=0.986 total time=   0.0s\n",
      "[CV 3/10] END class_weight=None, max_depth=5, min_samples_leaf=5, min_samples_split=10;, score=0.988 total time=   0.0s\n",
      "[CV 4/10] END class_weight=None, max_depth=5, min_samples_leaf=5, min_samples_split=10;, score=0.988 total time=   0.0s\n",
      "[CV 5/10] END class_weight=None, max_depth=5, min_samples_leaf=5, min_samples_split=10;, score=0.986 total time=   0.0s\n",
      "[CV 6/10] END class_weight=None, max_depth=5, min_samples_leaf=5, min_samples_split=10;, score=0.988 total time=   0.0s\n",
      "[CV 7/10] END class_weight=None, max_depth=5, min_samples_leaf=5, min_samples_split=10;, score=0.985 total time=   0.0s\n",
      "[CV 8/10] END class_weight=None, max_depth=5, min_samples_leaf=5, min_samples_split=10;, score=0.988 total time=   0.0s\n",
      "[CV 9/10] END class_weight=None, max_depth=5, min_samples_leaf=5, min_samples_split=10;, score=0.987 total time=   0.0s\n",
      "[CV 10/10] END class_weight=None, max_depth=5, min_samples_leaf=5, min_samples_split=10;, score=0.988 total time=   0.0s\n",
      "[CV 1/10] END class_weight=None, max_depth=5, min_samples_leaf=10, min_samples_split=1;, score=nan total time=   0.0s\n",
      "[CV 2/10] END class_weight=None, max_depth=5, min_samples_leaf=10, min_samples_split=1;, score=nan total time=   0.0s\n",
      "[CV 3/10] END class_weight=None, max_depth=5, min_samples_leaf=10, min_samples_split=1;, score=nan total time=   0.0s\n",
      "[CV 4/10] END class_weight=None, max_depth=5, min_samples_leaf=10, min_samples_split=1;, score=nan total time=   0.0s\n",
      "[CV 5/10] END class_weight=None, max_depth=5, min_samples_leaf=10, min_samples_split=1;, score=nan total time=   0.0s\n",
      "[CV 6/10] END class_weight=None, max_depth=5, min_samples_leaf=10, min_samples_split=1;, score=nan total time=   0.0s\n",
      "[CV 7/10] END class_weight=None, max_depth=5, min_samples_leaf=10, min_samples_split=1;, score=nan total time=   0.0s\n",
      "[CV 8/10] END class_weight=None, max_depth=5, min_samples_leaf=10, min_samples_split=1;, score=nan total time=   0.0s\n",
      "[CV 9/10] END class_weight=None, max_depth=5, min_samples_leaf=10, min_samples_split=1;, score=nan total time=   0.0s\n",
      "[CV 10/10] END class_weight=None, max_depth=5, min_samples_leaf=10, min_samples_split=1;, score=nan total time=   0.0s\n",
      "[CV 1/10] END class_weight=None, max_depth=5, min_samples_leaf=10, min_samples_split=5;, score=0.987 total time=   0.0s\n",
      "[CV 2/10] END class_weight=None, max_depth=5, min_samples_leaf=10, min_samples_split=5;, score=0.986 total time=   0.0s\n",
      "[CV 3/10] END class_weight=None, max_depth=5, min_samples_leaf=10, min_samples_split=5;, score=0.989 total time=   0.0s\n",
      "[CV 4/10] END class_weight=None, max_depth=5, min_samples_leaf=10, min_samples_split=5;, score=0.988 total time=   0.0s\n",
      "[CV 5/10] END class_weight=None, max_depth=5, min_samples_leaf=10, min_samples_split=5;, score=0.988 total time=   0.0s\n",
      "[CV 6/10] END class_weight=None, max_depth=5, min_samples_leaf=10, min_samples_split=5;, score=0.988 total time=   0.0s\n",
      "[CV 7/10] END class_weight=None, max_depth=5, min_samples_leaf=10, min_samples_split=5;, score=0.986 total time=   0.0s\n",
      "[CV 8/10] END class_weight=None, max_depth=5, min_samples_leaf=10, min_samples_split=5;, score=0.988 total time=   0.0s\n",
      "[CV 9/10] END class_weight=None, max_depth=5, min_samples_leaf=10, min_samples_split=5;, score=0.984 total time=   0.0s\n",
      "[CV 10/10] END class_weight=None, max_depth=5, min_samples_leaf=10, min_samples_split=5;, score=0.988 total time=   0.0s\n",
      "[CV 1/10] END class_weight=None, max_depth=5, min_samples_leaf=10, min_samples_split=10;, score=0.987 total time=   0.0s\n",
      "[CV 2/10] END class_weight=None, max_depth=5, min_samples_leaf=10, min_samples_split=10;, score=0.986 total time=   0.0s\n",
      "[CV 3/10] END class_weight=None, max_depth=5, min_samples_leaf=10, min_samples_split=10;, score=0.989 total time=   0.0s\n",
      "[CV 4/10] END class_weight=None, max_depth=5, min_samples_leaf=10, min_samples_split=10;, score=0.988 total time=   0.0s\n",
      "[CV 5/10] END class_weight=None, max_depth=5, min_samples_leaf=10, min_samples_split=10;, score=0.988 total time=   0.0s\n",
      "[CV 6/10] END class_weight=None, max_depth=5, min_samples_leaf=10, min_samples_split=10;, score=0.988 total time=   0.0s\n",
      "[CV 7/10] END class_weight=None, max_depth=5, min_samples_leaf=10, min_samples_split=10;, score=0.986 total time=   0.0s\n",
      "[CV 8/10] END class_weight=None, max_depth=5, min_samples_leaf=10, min_samples_split=10;, score=0.988 total time=   0.0s\n",
      "[CV 9/10] END class_weight=None, max_depth=5, min_samples_leaf=10, min_samples_split=10;, score=0.984 total time=   0.0s\n",
      "[CV 10/10] END class_weight=None, max_depth=5, min_samples_leaf=10, min_samples_split=10;, score=0.988 total time=   0.0s\n",
      "[CV 1/10] END class_weight=balanced, max_depth=None, min_samples_leaf=1, min_samples_split=1;, score=nan total time=   0.0s\n",
      "[CV 2/10] END class_weight=balanced, max_depth=None, min_samples_leaf=1, min_samples_split=1;, score=nan total time=   0.0s\n",
      "[CV 3/10] END class_weight=balanced, max_depth=None, min_samples_leaf=1, min_samples_split=1;, score=nan total time=   0.0s\n",
      "[CV 4/10] END class_weight=balanced, max_depth=None, min_samples_leaf=1, min_samples_split=1;, score=nan total time=   0.0s\n",
      "[CV 5/10] END class_weight=balanced, max_depth=None, min_samples_leaf=1, min_samples_split=1;, score=nan total time=   0.0s\n",
      "[CV 6/10] END class_weight=balanced, max_depth=None, min_samples_leaf=1, min_samples_split=1;, score=nan total time=   0.0s\n",
      "[CV 7/10] END class_weight=balanced, max_depth=None, min_samples_leaf=1, min_samples_split=1;, score=nan total time=   0.0s\n",
      "[CV 8/10] END class_weight=balanced, max_depth=None, min_samples_leaf=1, min_samples_split=1;, score=nan total time=   0.0s\n",
      "[CV 9/10] END class_weight=balanced, max_depth=None, min_samples_leaf=1, min_samples_split=1;, score=nan total time=   0.0s\n",
      "[CV 10/10] END class_weight=balanced, max_depth=None, min_samples_leaf=1, min_samples_split=1;, score=nan total time=   0.0s\n",
      "[CV 1/10] END class_weight=balanced, max_depth=None, min_samples_leaf=1, min_samples_split=5;, score=0.952 total time=   0.0s\n",
      "[CV 2/10] END class_weight=balanced, max_depth=None, min_samples_leaf=1, min_samples_split=5;, score=0.953 total time=   0.0s\n",
      "[CV 3/10] END class_weight=balanced, max_depth=None, min_samples_leaf=1, min_samples_split=5;, score=0.950 total time=   0.0s\n",
      "[CV 4/10] END class_weight=balanced, max_depth=None, min_samples_leaf=1, min_samples_split=5;, score=0.952 total time=   0.0s\n",
      "[CV 5/10] END class_weight=balanced, max_depth=None, min_samples_leaf=1, min_samples_split=5;, score=0.962 total time=   0.0s\n",
      "[CV 6/10] END class_weight=balanced, max_depth=None, min_samples_leaf=1, min_samples_split=5;, score=0.959 total time=   0.0s\n",
      "[CV 7/10] END class_weight=balanced, max_depth=None, min_samples_leaf=1, min_samples_split=5;, score=0.946 total time=   0.0s\n",
      "[CV 8/10] END class_weight=balanced, max_depth=None, min_samples_leaf=1, min_samples_split=5;, score=0.964 total time=   0.0s\n",
      "[CV 9/10] END class_weight=balanced, max_depth=None, min_samples_leaf=1, min_samples_split=5;, score=0.952 total time=   0.0s\n",
      "[CV 10/10] END class_weight=balanced, max_depth=None, min_samples_leaf=1, min_samples_split=5;, score=0.960 total time=   0.0s\n",
      "[CV 1/10] END class_weight=balanced, max_depth=None, min_samples_leaf=1, min_samples_split=10;, score=0.950 total time=   0.0s\n",
      "[CV 2/10] END class_weight=balanced, max_depth=None, min_samples_leaf=1, min_samples_split=10;, score=0.948 total time=   0.0s\n",
      "[CV 3/10] END class_weight=balanced, max_depth=None, min_samples_leaf=1, min_samples_split=10;, score=0.942 total time=   0.0s\n",
      "[CV 4/10] END class_weight=balanced, max_depth=None, min_samples_leaf=1, min_samples_split=10;, score=0.947 total time=   0.0s\n",
      "[CV 5/10] END class_weight=balanced, max_depth=None, min_samples_leaf=1, min_samples_split=10;, score=0.956 total time=   0.0s\n",
      "[CV 6/10] END class_weight=balanced, max_depth=None, min_samples_leaf=1, min_samples_split=10;, score=0.953 total time=   0.0s\n",
      "[CV 7/10] END class_weight=balanced, max_depth=None, min_samples_leaf=1, min_samples_split=10;, score=0.940 total time=   0.0s\n",
      "[CV 8/10] END class_weight=balanced, max_depth=None, min_samples_leaf=1, min_samples_split=10;, score=0.954 total time=   0.0s\n",
      "[CV 9/10] END class_weight=balanced, max_depth=None, min_samples_leaf=1, min_samples_split=10;, score=0.947 total time=   0.0s\n",
      "[CV 10/10] END class_weight=balanced, max_depth=None, min_samples_leaf=1, min_samples_split=10;, score=0.957 total time=   0.0s\n",
      "[CV 1/10] END class_weight=balanced, max_depth=None, min_samples_leaf=5, min_samples_split=1;, score=nan total time=   0.0s\n",
      "[CV 2/10] END class_weight=balanced, max_depth=None, min_samples_leaf=5, min_samples_split=1;, score=nan total time=   0.0s\n",
      "[CV 3/10] END class_weight=balanced, max_depth=None, min_samples_leaf=5, min_samples_split=1;, score=nan total time=   0.0s\n",
      "[CV 4/10] END class_weight=balanced, max_depth=None, min_samples_leaf=5, min_samples_split=1;, score=nan total time=   0.0s\n",
      "[CV 5/10] END class_weight=balanced, max_depth=None, min_samples_leaf=5, min_samples_split=1;, score=nan total time=   0.0s\n",
      "[CV 6/10] END class_weight=balanced, max_depth=None, min_samples_leaf=5, min_samples_split=1;, score=nan total time=   0.0s\n",
      "[CV 7/10] END class_weight=balanced, max_depth=None, min_samples_leaf=5, min_samples_split=1;, score=nan total time=   0.0s\n",
      "[CV 8/10] END class_weight=balanced, max_depth=None, min_samples_leaf=5, min_samples_split=1;, score=nan total time=   0.0s\n",
      "[CV 9/10] END class_weight=balanced, max_depth=None, min_samples_leaf=5, min_samples_split=1;, score=nan total time=   0.0s\n",
      "[CV 10/10] END class_weight=balanced, max_depth=None, min_samples_leaf=5, min_samples_split=1;, score=nan total time=   0.0s\n",
      "[CV 1/10] END class_weight=balanced, max_depth=None, min_samples_leaf=5, min_samples_split=5;, score=0.941 total time=   0.0s\n",
      "[CV 2/10] END class_weight=balanced, max_depth=None, min_samples_leaf=5, min_samples_split=5;, score=0.940 total time=   0.0s\n",
      "[CV 3/10] END class_weight=balanced, max_depth=None, min_samples_leaf=5, min_samples_split=5;, score=0.939 total time=   0.0s\n",
      "[CV 4/10] END class_weight=balanced, max_depth=None, min_samples_leaf=5, min_samples_split=5;, score=0.941 total time=   0.0s\n",
      "[CV 5/10] END class_weight=balanced, max_depth=None, min_samples_leaf=5, min_samples_split=5;, score=0.946 total time=   0.0s\n",
      "[CV 6/10] END class_weight=balanced, max_depth=None, min_samples_leaf=5, min_samples_split=5;, score=0.946 total time=   0.0s\n",
      "[CV 7/10] END class_weight=balanced, max_depth=None, min_samples_leaf=5, min_samples_split=5;, score=0.931 total time=   0.0s\n",
      "[CV 8/10] END class_weight=balanced, max_depth=None, min_samples_leaf=5, min_samples_split=5;, score=0.952 total time=   0.0s\n",
      "[CV 9/10] END class_weight=balanced, max_depth=None, min_samples_leaf=5, min_samples_split=5;, score=0.940 total time=   0.0s\n",
      "[CV 10/10] END class_weight=balanced, max_depth=None, min_samples_leaf=5, min_samples_split=5;, score=0.949 total time=   0.0s\n",
      "[CV 1/10] END class_weight=balanced, max_depth=None, min_samples_leaf=5, min_samples_split=10;, score=0.940 total time=   0.0s\n",
      "[CV 2/10] END class_weight=balanced, max_depth=None, min_samples_leaf=5, min_samples_split=10;, score=0.940 total time=   0.0s\n",
      "[CV 3/10] END class_weight=balanced, max_depth=None, min_samples_leaf=5, min_samples_split=10;, score=0.937 total time=   0.0s\n",
      "[CV 4/10] END class_weight=balanced, max_depth=None, min_samples_leaf=5, min_samples_split=10;, score=0.941 total time=   0.0s\n",
      "[CV 5/10] END class_weight=balanced, max_depth=None, min_samples_leaf=5, min_samples_split=10;, score=0.946 total time=   0.0s\n",
      "[CV 6/10] END class_weight=balanced, max_depth=None, min_samples_leaf=5, min_samples_split=10;, score=0.947 total time=   0.0s\n",
      "[CV 7/10] END class_weight=balanced, max_depth=None, min_samples_leaf=5, min_samples_split=10;, score=0.931 total time=   0.0s\n",
      "[CV 8/10] END class_weight=balanced, max_depth=None, min_samples_leaf=5, min_samples_split=10;, score=0.953 total time=   0.0s\n",
      "[CV 9/10] END class_weight=balanced, max_depth=None, min_samples_leaf=5, min_samples_split=10;, score=0.944 total time=   0.0s\n",
      "[CV 10/10] END class_weight=balanced, max_depth=None, min_samples_leaf=5, min_samples_split=10;, score=0.948 total time=   0.0s\n",
      "[CV 1/10] END class_weight=balanced, max_depth=None, min_samples_leaf=10, min_samples_split=1;, score=nan total time=   0.0s\n",
      "[CV 2/10] END class_weight=balanced, max_depth=None, min_samples_leaf=10, min_samples_split=1;, score=nan total time=   0.0s\n",
      "[CV 3/10] END class_weight=balanced, max_depth=None, min_samples_leaf=10, min_samples_split=1;, score=nan total time=   0.0s\n",
      "[CV 4/10] END class_weight=balanced, max_depth=None, min_samples_leaf=10, min_samples_split=1;, score=nan total time=   0.0s\n",
      "[CV 5/10] END class_weight=balanced, max_depth=None, min_samples_leaf=10, min_samples_split=1;, score=nan total time=   0.0s\n",
      "[CV 6/10] END class_weight=balanced, max_depth=None, min_samples_leaf=10, min_samples_split=1;, score=nan total time=   0.0s\n",
      "[CV 7/10] END class_weight=balanced, max_depth=None, min_samples_leaf=10, min_samples_split=1;, score=nan total time=   0.0s\n",
      "[CV 8/10] END class_weight=balanced, max_depth=None, min_samples_leaf=10, min_samples_split=1;, score=nan total time=   0.0s\n",
      "[CV 9/10] END class_weight=balanced, max_depth=None, min_samples_leaf=10, min_samples_split=1;, score=nan total time=   0.0s\n",
      "[CV 10/10] END class_weight=balanced, max_depth=None, min_samples_leaf=10, min_samples_split=1;, score=nan total time=   0.0s\n",
      "[CV 1/10] END class_weight=balanced, max_depth=None, min_samples_leaf=10, min_samples_split=5;, score=0.928 total time=   0.0s\n",
      "[CV 2/10] END class_weight=balanced, max_depth=None, min_samples_leaf=10, min_samples_split=5;, score=0.922 total time=   0.0s\n",
      "[CV 3/10] END class_weight=balanced, max_depth=None, min_samples_leaf=10, min_samples_split=5;, score=0.916 total time=   0.0s\n",
      "[CV 4/10] END class_weight=balanced, max_depth=None, min_samples_leaf=10, min_samples_split=5;, score=0.920 total time=   0.0s\n",
      "[CV 5/10] END class_weight=balanced, max_depth=None, min_samples_leaf=10, min_samples_split=5;, score=0.929 total time=   0.0s\n",
      "[CV 6/10] END class_weight=balanced, max_depth=None, min_samples_leaf=10, min_samples_split=5;, score=0.934 total time=   0.0s\n",
      "[CV 7/10] END class_weight=balanced, max_depth=None, min_samples_leaf=10, min_samples_split=5;, score=0.916 total time=   0.0s\n",
      "[CV 8/10] END class_weight=balanced, max_depth=None, min_samples_leaf=10, min_samples_split=5;, score=0.930 total time=   0.0s\n",
      "[CV 9/10] END class_weight=balanced, max_depth=None, min_samples_leaf=10, min_samples_split=5;, score=0.920 total time=   0.0s\n",
      "[CV 10/10] END class_weight=balanced, max_depth=None, min_samples_leaf=10, min_samples_split=5;, score=0.926 total time=   0.0s\n",
      "[CV 1/10] END class_weight=balanced, max_depth=None, min_samples_leaf=10, min_samples_split=10;, score=0.928 total time=   0.0s\n",
      "[CV 2/10] END class_weight=balanced, max_depth=None, min_samples_leaf=10, min_samples_split=10;, score=0.923 total time=   0.0s\n",
      "[CV 3/10] END class_weight=balanced, max_depth=None, min_samples_leaf=10, min_samples_split=10;, score=0.917 total time=   0.0s\n",
      "[CV 4/10] END class_weight=balanced, max_depth=None, min_samples_leaf=10, min_samples_split=10;, score=0.921 total time=   0.0s\n",
      "[CV 5/10] END class_weight=balanced, max_depth=None, min_samples_leaf=10, min_samples_split=10;, score=0.928 total time=   0.0s\n",
      "[CV 6/10] END class_weight=balanced, max_depth=None, min_samples_leaf=10, min_samples_split=10;, score=0.934 total time=   0.0s\n",
      "[CV 7/10] END class_weight=balanced, max_depth=None, min_samples_leaf=10, min_samples_split=10;, score=0.916 total time=   0.0s\n",
      "[CV 8/10] END class_weight=balanced, max_depth=None, min_samples_leaf=10, min_samples_split=10;, score=0.929 total time=   0.0s\n",
      "[CV 9/10] END class_weight=balanced, max_depth=None, min_samples_leaf=10, min_samples_split=10;, score=0.918 total time=   0.0s\n",
      "[CV 10/10] END class_weight=balanced, max_depth=None, min_samples_leaf=10, min_samples_split=10;, score=0.924 total time=   0.0s\n",
      "[CV 1/10] END class_weight=balanced, max_depth=1, min_samples_leaf=1, min_samples_split=1;, score=nan total time=   0.0s\n",
      "[CV 2/10] END class_weight=balanced, max_depth=1, min_samples_leaf=1, min_samples_split=1;, score=nan total time=   0.0s\n",
      "[CV 3/10] END class_weight=balanced, max_depth=1, min_samples_leaf=1, min_samples_split=1;, score=nan total time=   0.0s\n",
      "[CV 4/10] END class_weight=balanced, max_depth=1, min_samples_leaf=1, min_samples_split=1;, score=nan total time=   0.0s\n",
      "[CV 5/10] END class_weight=balanced, max_depth=1, min_samples_leaf=1, min_samples_split=1;, score=nan total time=   0.0s\n",
      "[CV 6/10] END class_weight=balanced, max_depth=1, min_samples_leaf=1, min_samples_split=1;, score=nan total time=   0.0s\n",
      "[CV 7/10] END class_weight=balanced, max_depth=1, min_samples_leaf=1, min_samples_split=1;, score=nan total time=   0.0s\n",
      "[CV 8/10] END class_weight=balanced, max_depth=1, min_samples_leaf=1, min_samples_split=1;, score=nan total time=   0.0s\n",
      "[CV 9/10] END class_weight=balanced, max_depth=1, min_samples_leaf=1, min_samples_split=1;, score=nan total time=   0.0s\n",
      "[CV 10/10] END class_weight=balanced, max_depth=1, min_samples_leaf=1, min_samples_split=1;, score=nan total time=   0.0s\n",
      "[CV 1/10] END class_weight=balanced, max_depth=1, min_samples_leaf=1, min_samples_split=5;, score=0.921 total time=   0.0s\n",
      "[CV 2/10] END class_weight=balanced, max_depth=1, min_samples_leaf=1, min_samples_split=5;, score=0.925 total time=   0.0s\n",
      "[CV 3/10] END class_weight=balanced, max_depth=1, min_samples_leaf=1, min_samples_split=5;, score=0.919 total time=   0.0s\n",
      "[CV 4/10] END class_weight=balanced, max_depth=1, min_samples_leaf=1, min_samples_split=5;, score=0.935 total time=   0.0s\n",
      "[CV 5/10] END class_weight=balanced, max_depth=1, min_samples_leaf=1, min_samples_split=5;, score=0.935 total time=   0.0s\n",
      "[CV 6/10] END class_weight=balanced, max_depth=1, min_samples_leaf=1, min_samples_split=5;, score=0.934 total time=   0.0s\n",
      "[CV 7/10] END class_weight=balanced, max_depth=1, min_samples_leaf=1, min_samples_split=5;, score=0.923 total time=   0.0s\n",
      "[CV 8/10] END class_weight=balanced, max_depth=1, min_samples_leaf=1, min_samples_split=5;, score=0.917 total time=   0.0s\n",
      "[CV 9/10] END class_weight=balanced, max_depth=1, min_samples_leaf=1, min_samples_split=5;, score=0.926 total time=   0.0s\n",
      "[CV 10/10] END class_weight=balanced, max_depth=1, min_samples_leaf=1, min_samples_split=5;, score=0.936 total time=   0.0s\n",
      "[CV 1/10] END class_weight=balanced, max_depth=1, min_samples_leaf=1, min_samples_split=10;, score=0.921 total time=   0.0s\n",
      "[CV 2/10] END class_weight=balanced, max_depth=1, min_samples_leaf=1, min_samples_split=10;, score=0.925 total time=   0.0s\n",
      "[CV 3/10] END class_weight=balanced, max_depth=1, min_samples_leaf=1, min_samples_split=10;, score=0.919 total time=   0.0s\n",
      "[CV 4/10] END class_weight=balanced, max_depth=1, min_samples_leaf=1, min_samples_split=10;, score=0.935 total time=   0.0s\n",
      "[CV 5/10] END class_weight=balanced, max_depth=1, min_samples_leaf=1, min_samples_split=10;, score=0.935 total time=   0.0s\n",
      "[CV 6/10] END class_weight=balanced, max_depth=1, min_samples_leaf=1, min_samples_split=10;, score=0.934 total time=   0.0s\n",
      "[CV 7/10] END class_weight=balanced, max_depth=1, min_samples_leaf=1, min_samples_split=10;, score=0.923 total time=   0.0s\n",
      "[CV 8/10] END class_weight=balanced, max_depth=1, min_samples_leaf=1, min_samples_split=10;, score=0.917 total time=   0.0s\n",
      "[CV 9/10] END class_weight=balanced, max_depth=1, min_samples_leaf=1, min_samples_split=10;, score=0.926 total time=   0.0s\n",
      "[CV 10/10] END class_weight=balanced, max_depth=1, min_samples_leaf=1, min_samples_split=10;, score=0.936 total time=   0.0s\n",
      "[CV 1/10] END class_weight=balanced, max_depth=1, min_samples_leaf=5, min_samples_split=1;, score=nan total time=   0.0s\n",
      "[CV 2/10] END class_weight=balanced, max_depth=1, min_samples_leaf=5, min_samples_split=1;, score=nan total time=   0.0s\n",
      "[CV 3/10] END class_weight=balanced, max_depth=1, min_samples_leaf=5, min_samples_split=1;, score=nan total time=   0.0s\n",
      "[CV 4/10] END class_weight=balanced, max_depth=1, min_samples_leaf=5, min_samples_split=1;, score=nan total time=   0.0s\n",
      "[CV 5/10] END class_weight=balanced, max_depth=1, min_samples_leaf=5, min_samples_split=1;, score=nan total time=   0.0s\n",
      "[CV 6/10] END class_weight=balanced, max_depth=1, min_samples_leaf=5, min_samples_split=1;, score=nan total time=   0.0s\n",
      "[CV 7/10] END class_weight=balanced, max_depth=1, min_samples_leaf=5, min_samples_split=1;, score=nan total time=   0.0s\n",
      "[CV 8/10] END class_weight=balanced, max_depth=1, min_samples_leaf=5, min_samples_split=1;, score=nan total time=   0.0s\n",
      "[CV 9/10] END class_weight=balanced, max_depth=1, min_samples_leaf=5, min_samples_split=1;, score=nan total time=   0.0s\n",
      "[CV 10/10] END class_weight=balanced, max_depth=1, min_samples_leaf=5, min_samples_split=1;, score=nan total time=   0.0s\n",
      "[CV 1/10] END class_weight=balanced, max_depth=1, min_samples_leaf=5, min_samples_split=5;, score=0.921 total time=   0.0s\n",
      "[CV 2/10] END class_weight=balanced, max_depth=1, min_samples_leaf=5, min_samples_split=5;, score=0.925 total time=   0.0s\n",
      "[CV 3/10] END class_weight=balanced, max_depth=1, min_samples_leaf=5, min_samples_split=5;, score=0.919 total time=   0.0s\n",
      "[CV 4/10] END class_weight=balanced, max_depth=1, min_samples_leaf=5, min_samples_split=5;, score=0.935 total time=   0.0s\n",
      "[CV 5/10] END class_weight=balanced, max_depth=1, min_samples_leaf=5, min_samples_split=5;, score=0.935 total time=   0.0s\n",
      "[CV 6/10] END class_weight=balanced, max_depth=1, min_samples_leaf=5, min_samples_split=5;, score=0.934 total time=   0.0s\n",
      "[CV 7/10] END class_weight=balanced, max_depth=1, min_samples_leaf=5, min_samples_split=5;, score=0.923 total time=   0.0s\n",
      "[CV 8/10] END class_weight=balanced, max_depth=1, min_samples_leaf=5, min_samples_split=5;, score=0.917 total time=   0.0s\n",
      "[CV 9/10] END class_weight=balanced, max_depth=1, min_samples_leaf=5, min_samples_split=5;, score=0.926 total time=   0.0s\n",
      "[CV 10/10] END class_weight=balanced, max_depth=1, min_samples_leaf=5, min_samples_split=5;, score=0.936 total time=   0.0s\n",
      "[CV 1/10] END class_weight=balanced, max_depth=1, min_samples_leaf=5, min_samples_split=10;, score=0.921 total time=   0.0s\n",
      "[CV 2/10] END class_weight=balanced, max_depth=1, min_samples_leaf=5, min_samples_split=10;, score=0.925 total time=   0.0s\n",
      "[CV 3/10] END class_weight=balanced, max_depth=1, min_samples_leaf=5, min_samples_split=10;, score=0.919 total time=   0.0s\n",
      "[CV 4/10] END class_weight=balanced, max_depth=1, min_samples_leaf=5, min_samples_split=10;, score=0.935 total time=   0.0s\n",
      "[CV 5/10] END class_weight=balanced, max_depth=1, min_samples_leaf=5, min_samples_split=10;, score=0.935 total time=   0.0s\n",
      "[CV 6/10] END class_weight=balanced, max_depth=1, min_samples_leaf=5, min_samples_split=10;, score=0.934 total time=   0.0s\n",
      "[CV 7/10] END class_weight=balanced, max_depth=1, min_samples_leaf=5, min_samples_split=10;, score=0.923 total time=   0.0s\n",
      "[CV 8/10] END class_weight=balanced, max_depth=1, min_samples_leaf=5, min_samples_split=10;, score=0.917 total time=   0.0s\n",
      "[CV 9/10] END class_weight=balanced, max_depth=1, min_samples_leaf=5, min_samples_split=10;, score=0.926 total time=   0.0s\n",
      "[CV 10/10] END class_weight=balanced, max_depth=1, min_samples_leaf=5, min_samples_split=10;, score=0.936 total time=   0.0s\n",
      "[CV 1/10] END class_weight=balanced, max_depth=1, min_samples_leaf=10, min_samples_split=1;, score=nan total time=   0.0s\n",
      "[CV 2/10] END class_weight=balanced, max_depth=1, min_samples_leaf=10, min_samples_split=1;, score=nan total time=   0.0s\n",
      "[CV 3/10] END class_weight=balanced, max_depth=1, min_samples_leaf=10, min_samples_split=1;, score=nan total time=   0.0s\n",
      "[CV 4/10] END class_weight=balanced, max_depth=1, min_samples_leaf=10, min_samples_split=1;, score=nan total time=   0.0s\n",
      "[CV 5/10] END class_weight=balanced, max_depth=1, min_samples_leaf=10, min_samples_split=1;, score=nan total time=   0.0s\n",
      "[CV 6/10] END class_weight=balanced, max_depth=1, min_samples_leaf=10, min_samples_split=1;, score=nan total time=   0.0s\n",
      "[CV 7/10] END class_weight=balanced, max_depth=1, min_samples_leaf=10, min_samples_split=1;, score=nan total time=   0.0s\n",
      "[CV 8/10] END class_weight=balanced, max_depth=1, min_samples_leaf=10, min_samples_split=1;, score=nan total time=   0.0s\n",
      "[CV 9/10] END class_weight=balanced, max_depth=1, min_samples_leaf=10, min_samples_split=1;, score=nan total time=   0.0s\n",
      "[CV 10/10] END class_weight=balanced, max_depth=1, min_samples_leaf=10, min_samples_split=1;, score=nan total time=   0.0s\n",
      "[CV 1/10] END class_weight=balanced, max_depth=1, min_samples_leaf=10, min_samples_split=5;, score=0.921 total time=   0.0s\n",
      "[CV 2/10] END class_weight=balanced, max_depth=1, min_samples_leaf=10, min_samples_split=5;, score=0.925 total time=   0.0s\n",
      "[CV 3/10] END class_weight=balanced, max_depth=1, min_samples_leaf=10, min_samples_split=5;, score=0.919 total time=   0.0s\n",
      "[CV 4/10] END class_weight=balanced, max_depth=1, min_samples_leaf=10, min_samples_split=5;, score=0.935 total time=   0.0s\n",
      "[CV 5/10] END class_weight=balanced, max_depth=1, min_samples_leaf=10, min_samples_split=5;, score=0.935 total time=   0.0s\n",
      "[CV 6/10] END class_weight=balanced, max_depth=1, min_samples_leaf=10, min_samples_split=5;, score=0.934 total time=   0.0s\n",
      "[CV 7/10] END class_weight=balanced, max_depth=1, min_samples_leaf=10, min_samples_split=5;, score=0.923 total time=   0.0s\n",
      "[CV 8/10] END class_weight=balanced, max_depth=1, min_samples_leaf=10, min_samples_split=5;, score=0.917 total time=   0.0s\n",
      "[CV 9/10] END class_weight=balanced, max_depth=1, min_samples_leaf=10, min_samples_split=5;, score=0.926 total time=   0.0s\n",
      "[CV 10/10] END class_weight=balanced, max_depth=1, min_samples_leaf=10, min_samples_split=5;, score=0.936 total time=   0.0s\n",
      "[CV 1/10] END class_weight=balanced, max_depth=1, min_samples_leaf=10, min_samples_split=10;, score=0.921 total time=   0.0s\n",
      "[CV 2/10] END class_weight=balanced, max_depth=1, min_samples_leaf=10, min_samples_split=10;, score=0.925 total time=   0.0s\n",
      "[CV 3/10] END class_weight=balanced, max_depth=1, min_samples_leaf=10, min_samples_split=10;, score=0.919 total time=   0.0s\n",
      "[CV 4/10] END class_weight=balanced, max_depth=1, min_samples_leaf=10, min_samples_split=10;, score=0.935 total time=   0.0s\n",
      "[CV 5/10] END class_weight=balanced, max_depth=1, min_samples_leaf=10, min_samples_split=10;, score=0.935 total time=   0.0s\n",
      "[CV 6/10] END class_weight=balanced, max_depth=1, min_samples_leaf=10, min_samples_split=10;, score=0.934 total time=   0.0s\n",
      "[CV 7/10] END class_weight=balanced, max_depth=1, min_samples_leaf=10, min_samples_split=10;, score=0.923 total time=   0.0s\n",
      "[CV 8/10] END class_weight=balanced, max_depth=1, min_samples_leaf=10, min_samples_split=10;, score=0.917 total time=   0.0s\n",
      "[CV 9/10] END class_weight=balanced, max_depth=1, min_samples_leaf=10, min_samples_split=10;, score=0.926 total time=   0.0s\n",
      "[CV 10/10] END class_weight=balanced, max_depth=1, min_samples_leaf=10, min_samples_split=10;, score=0.936 total time=   0.0s\n",
      "[CV 1/10] END class_weight=balanced, max_depth=2, min_samples_leaf=1, min_samples_split=1;, score=nan total time=   0.0s\n",
      "[CV 2/10] END class_weight=balanced, max_depth=2, min_samples_leaf=1, min_samples_split=1;, score=nan total time=   0.0s\n",
      "[CV 3/10] END class_weight=balanced, max_depth=2, min_samples_leaf=1, min_samples_split=1;, score=nan total time=   0.0s\n",
      "[CV 4/10] END class_weight=balanced, max_depth=2, min_samples_leaf=1, min_samples_split=1;, score=nan total time=   0.0s\n",
      "[CV 5/10] END class_weight=balanced, max_depth=2, min_samples_leaf=1, min_samples_split=1;, score=nan total time=   0.0s\n",
      "[CV 6/10] END class_weight=balanced, max_depth=2, min_samples_leaf=1, min_samples_split=1;, score=nan total time=   0.0s\n",
      "[CV 7/10] END class_weight=balanced, max_depth=2, min_samples_leaf=1, min_samples_split=1;, score=nan total time=   0.0s\n",
      "[CV 8/10] END class_weight=balanced, max_depth=2, min_samples_leaf=1, min_samples_split=1;, score=nan total time=   0.0s\n",
      "[CV 9/10] END class_weight=balanced, max_depth=2, min_samples_leaf=1, min_samples_split=1;, score=nan total time=   0.0s\n",
      "[CV 10/10] END class_weight=balanced, max_depth=2, min_samples_leaf=1, min_samples_split=1;, score=nan total time=   0.0s\n",
      "[CV 1/10] END class_weight=balanced, max_depth=2, min_samples_leaf=1, min_samples_split=5;, score=0.809 total time=   0.0s\n",
      "[CV 2/10] END class_weight=balanced, max_depth=2, min_samples_leaf=1, min_samples_split=5;, score=0.835 total time=   0.0s\n",
      "[CV 3/10] END class_weight=balanced, max_depth=2, min_samples_leaf=1, min_samples_split=5;, score=0.801 total time=   0.0s\n",
      "[CV 4/10] END class_weight=balanced, max_depth=2, min_samples_leaf=1, min_samples_split=5;, score=0.774 total time=   0.0s\n",
      "[CV 5/10] END class_weight=balanced, max_depth=2, min_samples_leaf=1, min_samples_split=5;, score=0.828 total time=   0.0s\n",
      "[CV 6/10] END class_weight=balanced, max_depth=2, min_samples_leaf=1, min_samples_split=5;, score=0.821 total time=   0.0s\n",
      "[CV 7/10] END class_weight=balanced, max_depth=2, min_samples_leaf=1, min_samples_split=5;, score=0.806 total time=   0.0s\n",
      "[CV 8/10] END class_weight=balanced, max_depth=2, min_samples_leaf=1, min_samples_split=5;, score=0.806 total time=   0.0s\n",
      "[CV 9/10] END class_weight=balanced, max_depth=2, min_samples_leaf=1, min_samples_split=5;, score=0.816 total time=   0.0s\n",
      "[CV 10/10] END class_weight=balanced, max_depth=2, min_samples_leaf=1, min_samples_split=5;, score=0.826 total time=   0.0s\n",
      "[CV 1/10] END class_weight=balanced, max_depth=2, min_samples_leaf=1, min_samples_split=10;, score=0.809 total time=   0.0s\n",
      "[CV 2/10] END class_weight=balanced, max_depth=2, min_samples_leaf=1, min_samples_split=10;, score=0.835 total time=   0.0s\n",
      "[CV 3/10] END class_weight=balanced, max_depth=2, min_samples_leaf=1, min_samples_split=10;, score=0.801 total time=   0.0s\n",
      "[CV 4/10] END class_weight=balanced, max_depth=2, min_samples_leaf=1, min_samples_split=10;, score=0.774 total time=   0.0s\n",
      "[CV 5/10] END class_weight=balanced, max_depth=2, min_samples_leaf=1, min_samples_split=10;, score=0.828 total time=   0.0s\n",
      "[CV 6/10] END class_weight=balanced, max_depth=2, min_samples_leaf=1, min_samples_split=10;, score=0.821 total time=   0.0s\n",
      "[CV 7/10] END class_weight=balanced, max_depth=2, min_samples_leaf=1, min_samples_split=10;, score=0.806 total time=   0.0s\n",
      "[CV 8/10] END class_weight=balanced, max_depth=2, min_samples_leaf=1, min_samples_split=10;, score=0.806 total time=   0.0s\n",
      "[CV 9/10] END class_weight=balanced, max_depth=2, min_samples_leaf=1, min_samples_split=10;, score=0.816 total time=   0.0s\n",
      "[CV 10/10] END class_weight=balanced, max_depth=2, min_samples_leaf=1, min_samples_split=10;, score=0.826 total time=   0.0s\n",
      "[CV 1/10] END class_weight=balanced, max_depth=2, min_samples_leaf=5, min_samples_split=1;, score=nan total time=   0.0s\n",
      "[CV 2/10] END class_weight=balanced, max_depth=2, min_samples_leaf=5, min_samples_split=1;, score=nan total time=   0.0s\n",
      "[CV 3/10] END class_weight=balanced, max_depth=2, min_samples_leaf=5, min_samples_split=1;, score=nan total time=   0.0s\n",
      "[CV 4/10] END class_weight=balanced, max_depth=2, min_samples_leaf=5, min_samples_split=1;, score=nan total time=   0.0s\n",
      "[CV 5/10] END class_weight=balanced, max_depth=2, min_samples_leaf=5, min_samples_split=1;, score=nan total time=   0.0s\n",
      "[CV 6/10] END class_weight=balanced, max_depth=2, min_samples_leaf=5, min_samples_split=1;, score=nan total time=   0.0s\n",
      "[CV 7/10] END class_weight=balanced, max_depth=2, min_samples_leaf=5, min_samples_split=1;, score=nan total time=   0.0s\n",
      "[CV 8/10] END class_weight=balanced, max_depth=2, min_samples_leaf=5, min_samples_split=1;, score=nan total time=   0.0s\n",
      "[CV 9/10] END class_weight=balanced, max_depth=2, min_samples_leaf=5, min_samples_split=1;, score=nan total time=   0.0s\n",
      "[CV 10/10] END class_weight=balanced, max_depth=2, min_samples_leaf=5, min_samples_split=1;, score=nan total time=   0.0s\n",
      "[CV 1/10] END class_weight=balanced, max_depth=2, min_samples_leaf=5, min_samples_split=5;, score=0.809 total time=   0.0s\n",
      "[CV 2/10] END class_weight=balanced, max_depth=2, min_samples_leaf=5, min_samples_split=5;, score=0.835 total time=   0.0s\n",
      "[CV 3/10] END class_weight=balanced, max_depth=2, min_samples_leaf=5, min_samples_split=5;, score=0.801 total time=   0.0s\n",
      "[CV 4/10] END class_weight=balanced, max_depth=2, min_samples_leaf=5, min_samples_split=5;, score=0.774 total time=   0.0s\n",
      "[CV 5/10] END class_weight=balanced, max_depth=2, min_samples_leaf=5, min_samples_split=5;, score=0.828 total time=   0.0s\n",
      "[CV 6/10] END class_weight=balanced, max_depth=2, min_samples_leaf=5, min_samples_split=5;, score=0.821 total time=   0.0s\n",
      "[CV 7/10] END class_weight=balanced, max_depth=2, min_samples_leaf=5, min_samples_split=5;, score=0.806 total time=   0.0s\n",
      "[CV 8/10] END class_weight=balanced, max_depth=2, min_samples_leaf=5, min_samples_split=5;, score=0.806 total time=   0.0s\n",
      "[CV 9/10] END class_weight=balanced, max_depth=2, min_samples_leaf=5, min_samples_split=5;, score=0.816 total time=   0.0s\n",
      "[CV 10/10] END class_weight=balanced, max_depth=2, min_samples_leaf=5, min_samples_split=5;, score=0.826 total time=   0.0s\n",
      "[CV 1/10] END class_weight=balanced, max_depth=2, min_samples_leaf=5, min_samples_split=10;, score=0.809 total time=   0.0s\n",
      "[CV 2/10] END class_weight=balanced, max_depth=2, min_samples_leaf=5, min_samples_split=10;, score=0.835 total time=   0.0s\n",
      "[CV 3/10] END class_weight=balanced, max_depth=2, min_samples_leaf=5, min_samples_split=10;, score=0.801 total time=   0.0s\n",
      "[CV 4/10] END class_weight=balanced, max_depth=2, min_samples_leaf=5, min_samples_split=10;, score=0.774 total time=   0.0s\n",
      "[CV 5/10] END class_weight=balanced, max_depth=2, min_samples_leaf=5, min_samples_split=10;, score=0.828 total time=   0.0s\n",
      "[CV 6/10] END class_weight=balanced, max_depth=2, min_samples_leaf=5, min_samples_split=10;, score=0.821 total time=   0.0s\n",
      "[CV 7/10] END class_weight=balanced, max_depth=2, min_samples_leaf=5, min_samples_split=10;, score=0.806 total time=   0.0s\n",
      "[CV 8/10] END class_weight=balanced, max_depth=2, min_samples_leaf=5, min_samples_split=10;, score=0.806 total time=   0.0s\n",
      "[CV 9/10] END class_weight=balanced, max_depth=2, min_samples_leaf=5, min_samples_split=10;, score=0.816 total time=   0.0s\n",
      "[CV 10/10] END class_weight=balanced, max_depth=2, min_samples_leaf=5, min_samples_split=10;, score=0.826 total time=   0.0s\n",
      "[CV 1/10] END class_weight=balanced, max_depth=2, min_samples_leaf=10, min_samples_split=1;, score=nan total time=   0.0s\n",
      "[CV 2/10] END class_weight=balanced, max_depth=2, min_samples_leaf=10, min_samples_split=1;, score=nan total time=   0.0s\n",
      "[CV 3/10] END class_weight=balanced, max_depth=2, min_samples_leaf=10, min_samples_split=1;, score=nan total time=   0.0s\n",
      "[CV 4/10] END class_weight=balanced, max_depth=2, min_samples_leaf=10, min_samples_split=1;, score=nan total time=   0.0s\n",
      "[CV 5/10] END class_weight=balanced, max_depth=2, min_samples_leaf=10, min_samples_split=1;, score=nan total time=   0.0s\n",
      "[CV 6/10] END class_weight=balanced, max_depth=2, min_samples_leaf=10, min_samples_split=1;, score=nan total time=   0.0s\n",
      "[CV 7/10] END class_weight=balanced, max_depth=2, min_samples_leaf=10, min_samples_split=1;, score=nan total time=   0.0s\n",
      "[CV 8/10] END class_weight=balanced, max_depth=2, min_samples_leaf=10, min_samples_split=1;, score=nan total time=   0.0s\n",
      "[CV 9/10] END class_weight=balanced, max_depth=2, min_samples_leaf=10, min_samples_split=1;, score=nan total time=   0.0s\n",
      "[CV 10/10] END class_weight=balanced, max_depth=2, min_samples_leaf=10, min_samples_split=1;, score=nan total time=   0.0s\n",
      "[CV 1/10] END class_weight=balanced, max_depth=2, min_samples_leaf=10, min_samples_split=5;, score=0.809 total time=   0.0s\n",
      "[CV 2/10] END class_weight=balanced, max_depth=2, min_samples_leaf=10, min_samples_split=5;, score=0.835 total time=   0.0s\n",
      "[CV 3/10] END class_weight=balanced, max_depth=2, min_samples_leaf=10, min_samples_split=5;, score=0.801 total time=   0.0s\n",
      "[CV 4/10] END class_weight=balanced, max_depth=2, min_samples_leaf=10, min_samples_split=5;, score=0.774 total time=   0.0s\n",
      "[CV 5/10] END class_weight=balanced, max_depth=2, min_samples_leaf=10, min_samples_split=5;, score=0.828 total time=   0.0s\n",
      "[CV 6/10] END class_weight=balanced, max_depth=2, min_samples_leaf=10, min_samples_split=5;, score=0.821 total time=   0.0s\n",
      "[CV 7/10] END class_weight=balanced, max_depth=2, min_samples_leaf=10, min_samples_split=5;, score=0.806 total time=   0.0s\n",
      "[CV 8/10] END class_weight=balanced, max_depth=2, min_samples_leaf=10, min_samples_split=5;, score=0.806 total time=   0.0s\n",
      "[CV 9/10] END class_weight=balanced, max_depth=2, min_samples_leaf=10, min_samples_split=5;, score=0.816 total time=   0.0s\n",
      "[CV 10/10] END class_weight=balanced, max_depth=2, min_samples_leaf=10, min_samples_split=5;, score=0.826 total time=   0.0s\n",
      "[CV 1/10] END class_weight=balanced, max_depth=2, min_samples_leaf=10, min_samples_split=10;, score=0.809 total time=   0.0s\n",
      "[CV 2/10] END class_weight=balanced, max_depth=2, min_samples_leaf=10, min_samples_split=10;, score=0.835 total time=   0.0s\n",
      "[CV 3/10] END class_weight=balanced, max_depth=2, min_samples_leaf=10, min_samples_split=10;, score=0.801 total time=   0.0s\n",
      "[CV 4/10] END class_weight=balanced, max_depth=2, min_samples_leaf=10, min_samples_split=10;, score=0.774 total time=   0.0s\n",
      "[CV 5/10] END class_weight=balanced, max_depth=2, min_samples_leaf=10, min_samples_split=10;, score=0.828 total time=   0.0s\n",
      "[CV 6/10] END class_weight=balanced, max_depth=2, min_samples_leaf=10, min_samples_split=10;, score=0.821 total time=   0.0s\n",
      "[CV 7/10] END class_weight=balanced, max_depth=2, min_samples_leaf=10, min_samples_split=10;, score=0.806 total time=   0.0s\n",
      "[CV 8/10] END class_weight=balanced, max_depth=2, min_samples_leaf=10, min_samples_split=10;, score=0.806 total time=   0.0s\n",
      "[CV 9/10] END class_weight=balanced, max_depth=2, min_samples_leaf=10, min_samples_split=10;, score=0.816 total time=   0.0s\n",
      "[CV 10/10] END class_weight=balanced, max_depth=2, min_samples_leaf=10, min_samples_split=10;, score=0.826 total time=   0.0s\n",
      "[CV 1/10] END class_weight=balanced, max_depth=3, min_samples_leaf=1, min_samples_split=1;, score=nan total time=   0.0s\n",
      "[CV 2/10] END class_weight=balanced, max_depth=3, min_samples_leaf=1, min_samples_split=1;, score=nan total time=   0.0s\n",
      "[CV 3/10] END class_weight=balanced, max_depth=3, min_samples_leaf=1, min_samples_split=1;, score=nan total time=   0.0s\n",
      "[CV 4/10] END class_weight=balanced, max_depth=3, min_samples_leaf=1, min_samples_split=1;, score=nan total time=   0.0s\n",
      "[CV 5/10] END class_weight=balanced, max_depth=3, min_samples_leaf=1, min_samples_split=1;, score=nan total time=   0.0s\n",
      "[CV 6/10] END class_weight=balanced, max_depth=3, min_samples_leaf=1, min_samples_split=1;, score=nan total time=   0.0s\n",
      "[CV 7/10] END class_weight=balanced, max_depth=3, min_samples_leaf=1, min_samples_split=1;, score=nan total time=   0.0s\n",
      "[CV 8/10] END class_weight=balanced, max_depth=3, min_samples_leaf=1, min_samples_split=1;, score=nan total time=   0.0s\n",
      "[CV 9/10] END class_weight=balanced, max_depth=3, min_samples_leaf=1, min_samples_split=1;, score=nan total time=   0.0s\n",
      "[CV 10/10] END class_weight=balanced, max_depth=3, min_samples_leaf=1, min_samples_split=1;, score=nan total time=   0.0s\n",
      "[CV 1/10] END class_weight=balanced, max_depth=3, min_samples_leaf=1, min_samples_split=5;, score=0.899 total time=   0.0s\n",
      "[CV 2/10] END class_weight=balanced, max_depth=3, min_samples_leaf=1, min_samples_split=5;, score=0.908 total time=   0.0s\n",
      "[CV 3/10] END class_weight=balanced, max_depth=3, min_samples_leaf=1, min_samples_split=5;, score=0.897 total time=   0.0s\n",
      "[CV 4/10] END class_weight=balanced, max_depth=3, min_samples_leaf=1, min_samples_split=5;, score=0.833 total time=   0.0s\n",
      "[CV 5/10] END class_weight=balanced, max_depth=3, min_samples_leaf=1, min_samples_split=5;, score=0.911 total time=   0.0s\n",
      "[CV 6/10] END class_weight=balanced, max_depth=3, min_samples_leaf=1, min_samples_split=5;, score=0.908 total time=   0.0s\n",
      "[CV 7/10] END class_weight=balanced, max_depth=3, min_samples_leaf=1, min_samples_split=5;, score=0.900 total time=   0.0s\n",
      "[CV 8/10] END class_weight=balanced, max_depth=3, min_samples_leaf=1, min_samples_split=5;, score=0.851 total time=   0.0s\n",
      "[CV 9/10] END class_weight=balanced, max_depth=3, min_samples_leaf=1, min_samples_split=5;, score=0.904 total time=   0.0s\n",
      "[CV 10/10] END class_weight=balanced, max_depth=3, min_samples_leaf=1, min_samples_split=5;, score=0.867 total time=   0.0s\n",
      "[CV 1/10] END class_weight=balanced, max_depth=3, min_samples_leaf=1, min_samples_split=10;, score=0.899 total time=   0.0s\n",
      "[CV 2/10] END class_weight=balanced, max_depth=3, min_samples_leaf=1, min_samples_split=10;, score=0.908 total time=   0.0s\n",
      "[CV 3/10] END class_weight=balanced, max_depth=3, min_samples_leaf=1, min_samples_split=10;, score=0.897 total time=   0.0s\n",
      "[CV 4/10] END class_weight=balanced, max_depth=3, min_samples_leaf=1, min_samples_split=10;, score=0.833 total time=   0.0s\n",
      "[CV 5/10] END class_weight=balanced, max_depth=3, min_samples_leaf=1, min_samples_split=10;, score=0.911 total time=   0.0s\n",
      "[CV 6/10] END class_weight=balanced, max_depth=3, min_samples_leaf=1, min_samples_split=10;, score=0.908 total time=   0.0s\n",
      "[CV 7/10] END class_weight=balanced, max_depth=3, min_samples_leaf=1, min_samples_split=10;, score=0.900 total time=   0.0s\n",
      "[CV 8/10] END class_weight=balanced, max_depth=3, min_samples_leaf=1, min_samples_split=10;, score=0.851 total time=   0.0s\n",
      "[CV 9/10] END class_weight=balanced, max_depth=3, min_samples_leaf=1, min_samples_split=10;, score=0.904 total time=   0.0s\n",
      "[CV 10/10] END class_weight=balanced, max_depth=3, min_samples_leaf=1, min_samples_split=10;, score=0.867 total time=   0.0s\n",
      "[CV 1/10] END class_weight=balanced, max_depth=3, min_samples_leaf=5, min_samples_split=1;, score=nan total time=   0.0s\n",
      "[CV 2/10] END class_weight=balanced, max_depth=3, min_samples_leaf=5, min_samples_split=1;, score=nan total time=   0.0s\n",
      "[CV 3/10] END class_weight=balanced, max_depth=3, min_samples_leaf=5, min_samples_split=1;, score=nan total time=   0.0s\n",
      "[CV 4/10] END class_weight=balanced, max_depth=3, min_samples_leaf=5, min_samples_split=1;, score=nan total time=   0.0s\n",
      "[CV 5/10] END class_weight=balanced, max_depth=3, min_samples_leaf=5, min_samples_split=1;, score=nan total time=   0.0s\n",
      "[CV 6/10] END class_weight=balanced, max_depth=3, min_samples_leaf=5, min_samples_split=1;, score=nan total time=   0.0s\n",
      "[CV 7/10] END class_weight=balanced, max_depth=3, min_samples_leaf=5, min_samples_split=1;, score=nan total time=   0.0s\n",
      "[CV 8/10] END class_weight=balanced, max_depth=3, min_samples_leaf=5, min_samples_split=1;, score=nan total time=   0.0s\n",
      "[CV 9/10] END class_weight=balanced, max_depth=3, min_samples_leaf=5, min_samples_split=1;, score=nan total time=   0.0s\n",
      "[CV 10/10] END class_weight=balanced, max_depth=3, min_samples_leaf=5, min_samples_split=1;, score=nan total time=   0.0s\n",
      "[CV 1/10] END class_weight=balanced, max_depth=3, min_samples_leaf=5, min_samples_split=5;, score=0.899 total time=   0.0s\n",
      "[CV 2/10] END class_weight=balanced, max_depth=3, min_samples_leaf=5, min_samples_split=5;, score=0.908 total time=   0.0s\n",
      "[CV 3/10] END class_weight=balanced, max_depth=3, min_samples_leaf=5, min_samples_split=5;, score=0.897 total time=   0.0s\n",
      "[CV 4/10] END class_weight=balanced, max_depth=3, min_samples_leaf=5, min_samples_split=5;, score=0.833 total time=   0.0s\n",
      "[CV 5/10] END class_weight=balanced, max_depth=3, min_samples_leaf=5, min_samples_split=5;, score=0.911 total time=   0.0s\n",
      "[CV 6/10] END class_weight=balanced, max_depth=3, min_samples_leaf=5, min_samples_split=5;, score=0.908 total time=   0.0s\n",
      "[CV 7/10] END class_weight=balanced, max_depth=3, min_samples_leaf=5, min_samples_split=5;, score=0.900 total time=   0.0s\n",
      "[CV 8/10] END class_weight=balanced, max_depth=3, min_samples_leaf=5, min_samples_split=5;, score=0.851 total time=   0.0s\n",
      "[CV 9/10] END class_weight=balanced, max_depth=3, min_samples_leaf=5, min_samples_split=5;, score=0.904 total time=   0.0s\n",
      "[CV 10/10] END class_weight=balanced, max_depth=3, min_samples_leaf=5, min_samples_split=5;, score=0.867 total time=   0.0s\n",
      "[CV 1/10] END class_weight=balanced, max_depth=3, min_samples_leaf=5, min_samples_split=10;, score=0.899 total time=   0.0s\n",
      "[CV 2/10] END class_weight=balanced, max_depth=3, min_samples_leaf=5, min_samples_split=10;, score=0.908 total time=   0.0s\n",
      "[CV 3/10] END class_weight=balanced, max_depth=3, min_samples_leaf=5, min_samples_split=10;, score=0.897 total time=   0.0s\n",
      "[CV 4/10] END class_weight=balanced, max_depth=3, min_samples_leaf=5, min_samples_split=10;, score=0.833 total time=   0.0s\n",
      "[CV 5/10] END class_weight=balanced, max_depth=3, min_samples_leaf=5, min_samples_split=10;, score=0.911 total time=   0.0s\n",
      "[CV 6/10] END class_weight=balanced, max_depth=3, min_samples_leaf=5, min_samples_split=10;, score=0.908 total time=   0.0s\n",
      "[CV 7/10] END class_weight=balanced, max_depth=3, min_samples_leaf=5, min_samples_split=10;, score=0.900 total time=   0.0s\n",
      "[CV 8/10] END class_weight=balanced, max_depth=3, min_samples_leaf=5, min_samples_split=10;, score=0.851 total time=   0.0s\n",
      "[CV 9/10] END class_weight=balanced, max_depth=3, min_samples_leaf=5, min_samples_split=10;, score=0.904 total time=   0.0s\n",
      "[CV 10/10] END class_weight=balanced, max_depth=3, min_samples_leaf=5, min_samples_split=10;, score=0.867 total time=   0.0s\n",
      "[CV 1/10] END class_weight=balanced, max_depth=3, min_samples_leaf=10, min_samples_split=1;, score=nan total time=   0.0s\n",
      "[CV 2/10] END class_weight=balanced, max_depth=3, min_samples_leaf=10, min_samples_split=1;, score=nan total time=   0.0s\n",
      "[CV 3/10] END class_weight=balanced, max_depth=3, min_samples_leaf=10, min_samples_split=1;, score=nan total time=   0.0s\n",
      "[CV 4/10] END class_weight=balanced, max_depth=3, min_samples_leaf=10, min_samples_split=1;, score=nan total time=   0.0s\n",
      "[CV 5/10] END class_weight=balanced, max_depth=3, min_samples_leaf=10, min_samples_split=1;, score=nan total time=   0.0s\n",
      "[CV 6/10] END class_weight=balanced, max_depth=3, min_samples_leaf=10, min_samples_split=1;, score=nan total time=   0.0s\n",
      "[CV 7/10] END class_weight=balanced, max_depth=3, min_samples_leaf=10, min_samples_split=1;, score=nan total time=   0.0s\n",
      "[CV 8/10] END class_weight=balanced, max_depth=3, min_samples_leaf=10, min_samples_split=1;, score=nan total time=   0.0s\n",
      "[CV 9/10] END class_weight=balanced, max_depth=3, min_samples_leaf=10, min_samples_split=1;, score=nan total time=   0.0s\n",
      "[CV 10/10] END class_weight=balanced, max_depth=3, min_samples_leaf=10, min_samples_split=1;, score=nan total time=   0.0s\n",
      "[CV 1/10] END class_weight=balanced, max_depth=3, min_samples_leaf=10, min_samples_split=5;, score=0.899 total time=   0.0s\n",
      "[CV 2/10] END class_weight=balanced, max_depth=3, min_samples_leaf=10, min_samples_split=5;, score=0.908 total time=   0.0s\n",
      "[CV 3/10] END class_weight=balanced, max_depth=3, min_samples_leaf=10, min_samples_split=5;, score=0.897 total time=   0.0s\n",
      "[CV 4/10] END class_weight=balanced, max_depth=3, min_samples_leaf=10, min_samples_split=5;, score=0.833 total time=   0.0s\n",
      "[CV 5/10] END class_weight=balanced, max_depth=3, min_samples_leaf=10, min_samples_split=5;, score=0.911 total time=   0.0s\n",
      "[CV 6/10] END class_weight=balanced, max_depth=3, min_samples_leaf=10, min_samples_split=5;, score=0.908 total time=   0.0s\n",
      "[CV 7/10] END class_weight=balanced, max_depth=3, min_samples_leaf=10, min_samples_split=5;, score=0.900 total time=   0.0s\n",
      "[CV 8/10] END class_weight=balanced, max_depth=3, min_samples_leaf=10, min_samples_split=5;, score=0.851 total time=   0.0s\n",
      "[CV 9/10] END class_weight=balanced, max_depth=3, min_samples_leaf=10, min_samples_split=5;, score=0.904 total time=   0.0s\n",
      "[CV 10/10] END class_weight=balanced, max_depth=3, min_samples_leaf=10, min_samples_split=5;, score=0.867 total time=   0.0s\n",
      "[CV 1/10] END class_weight=balanced, max_depth=3, min_samples_leaf=10, min_samples_split=10;, score=0.899 total time=   0.0s\n",
      "[CV 2/10] END class_weight=balanced, max_depth=3, min_samples_leaf=10, min_samples_split=10;, score=0.908 total time=   0.0s\n",
      "[CV 3/10] END class_weight=balanced, max_depth=3, min_samples_leaf=10, min_samples_split=10;, score=0.897 total time=   0.0s\n",
      "[CV 4/10] END class_weight=balanced, max_depth=3, min_samples_leaf=10, min_samples_split=10;, score=0.833 total time=   0.0s\n",
      "[CV 5/10] END class_weight=balanced, max_depth=3, min_samples_leaf=10, min_samples_split=10;, score=0.911 total time=   0.0s\n",
      "[CV 6/10] END class_weight=balanced, max_depth=3, min_samples_leaf=10, min_samples_split=10;, score=0.908 total time=   0.0s\n",
      "[CV 7/10] END class_weight=balanced, max_depth=3, min_samples_leaf=10, min_samples_split=10;, score=0.900 total time=   0.0s\n",
      "[CV 8/10] END class_weight=balanced, max_depth=3, min_samples_leaf=10, min_samples_split=10;, score=0.851 total time=   0.0s\n",
      "[CV 9/10] END class_weight=balanced, max_depth=3, min_samples_leaf=10, min_samples_split=10;, score=0.904 total time=   0.0s\n",
      "[CV 10/10] END class_weight=balanced, max_depth=3, min_samples_leaf=10, min_samples_split=10;, score=0.867 total time=   0.0s\n",
      "[CV 1/10] END class_weight=balanced, max_depth=4, min_samples_leaf=1, min_samples_split=1;, score=nan total time=   0.0s\n",
      "[CV 2/10] END class_weight=balanced, max_depth=4, min_samples_leaf=1, min_samples_split=1;, score=nan total time=   0.0s\n",
      "[CV 3/10] END class_weight=balanced, max_depth=4, min_samples_leaf=1, min_samples_split=1;, score=nan total time=   0.0s\n",
      "[CV 4/10] END class_weight=balanced, max_depth=4, min_samples_leaf=1, min_samples_split=1;, score=nan total time=   0.0s\n",
      "[CV 5/10] END class_weight=balanced, max_depth=4, min_samples_leaf=1, min_samples_split=1;, score=nan total time=   0.0s\n",
      "[CV 6/10] END class_weight=balanced, max_depth=4, min_samples_leaf=1, min_samples_split=1;, score=nan total time=   0.0s\n",
      "[CV 7/10] END class_weight=balanced, max_depth=4, min_samples_leaf=1, min_samples_split=1;, score=nan total time=   0.0s\n",
      "[CV 8/10] END class_weight=balanced, max_depth=4, min_samples_leaf=1, min_samples_split=1;, score=nan total time=   0.0s\n",
      "[CV 9/10] END class_weight=balanced, max_depth=4, min_samples_leaf=1, min_samples_split=1;, score=nan total time=   0.0s\n",
      "[CV 10/10] END class_weight=balanced, max_depth=4, min_samples_leaf=1, min_samples_split=1;, score=nan total time=   0.0s\n",
      "[CV 1/10] END class_weight=balanced, max_depth=4, min_samples_leaf=1, min_samples_split=5;, score=0.878 total time=   0.0s\n",
      "[CV 2/10] END class_weight=balanced, max_depth=4, min_samples_leaf=1, min_samples_split=5;, score=0.904 total time=   0.0s\n",
      "[CV 3/10] END class_weight=balanced, max_depth=4, min_samples_leaf=1, min_samples_split=5;, score=0.866 total time=   0.0s\n",
      "[CV 4/10] END class_weight=balanced, max_depth=4, min_samples_leaf=1, min_samples_split=5;, score=0.834 total time=   0.0s\n",
      "[CV 5/10] END class_weight=balanced, max_depth=4, min_samples_leaf=1, min_samples_split=5;, score=0.898 total time=   0.0s\n",
      "[CV 6/10] END class_weight=balanced, max_depth=4, min_samples_leaf=1, min_samples_split=5;, score=0.895 total time=   0.0s\n",
      "[CV 7/10] END class_weight=balanced, max_depth=4, min_samples_leaf=1, min_samples_split=5;, score=0.838 total time=   0.0s\n",
      "[CV 8/10] END class_weight=balanced, max_depth=4, min_samples_leaf=1, min_samples_split=5;, score=0.858 total time=   0.0s\n",
      "[CV 9/10] END class_weight=balanced, max_depth=4, min_samples_leaf=1, min_samples_split=5;, score=0.888 total time=   0.0s\n",
      "[CV 10/10] END class_weight=balanced, max_depth=4, min_samples_leaf=1, min_samples_split=5;, score=0.873 total time=   0.0s\n",
      "[CV 1/10] END class_weight=balanced, max_depth=4, min_samples_leaf=1, min_samples_split=10;, score=0.878 total time=   0.0s\n",
      "[CV 2/10] END class_weight=balanced, max_depth=4, min_samples_leaf=1, min_samples_split=10;, score=0.904 total time=   0.0s\n",
      "[CV 3/10] END class_weight=balanced, max_depth=4, min_samples_leaf=1, min_samples_split=10;, score=0.866 total time=   0.0s\n",
      "[CV 4/10] END class_weight=balanced, max_depth=4, min_samples_leaf=1, min_samples_split=10;, score=0.834 total time=   0.0s\n",
      "[CV 5/10] END class_weight=balanced, max_depth=4, min_samples_leaf=1, min_samples_split=10;, score=0.898 total time=   0.0s\n",
      "[CV 6/10] END class_weight=balanced, max_depth=4, min_samples_leaf=1, min_samples_split=10;, score=0.895 total time=   0.0s\n",
      "[CV 7/10] END class_weight=balanced, max_depth=4, min_samples_leaf=1, min_samples_split=10;, score=0.838 total time=   0.0s\n",
      "[CV 8/10] END class_weight=balanced, max_depth=4, min_samples_leaf=1, min_samples_split=10;, score=0.858 total time=   0.0s\n",
      "[CV 9/10] END class_weight=balanced, max_depth=4, min_samples_leaf=1, min_samples_split=10;, score=0.888 total time=   0.0s\n",
      "[CV 10/10] END class_weight=balanced, max_depth=4, min_samples_leaf=1, min_samples_split=10;, score=0.873 total time=   0.0s\n",
      "[CV 1/10] END class_weight=balanced, max_depth=4, min_samples_leaf=5, min_samples_split=1;, score=nan total time=   0.0s\n",
      "[CV 2/10] END class_weight=balanced, max_depth=4, min_samples_leaf=5, min_samples_split=1;, score=nan total time=   0.0s\n",
      "[CV 3/10] END class_weight=balanced, max_depth=4, min_samples_leaf=5, min_samples_split=1;, score=nan total time=   0.0s\n",
      "[CV 4/10] END class_weight=balanced, max_depth=4, min_samples_leaf=5, min_samples_split=1;, score=nan total time=   0.0s\n",
      "[CV 5/10] END class_weight=balanced, max_depth=4, min_samples_leaf=5, min_samples_split=1;, score=nan total time=   0.0s\n",
      "[CV 6/10] END class_weight=balanced, max_depth=4, min_samples_leaf=5, min_samples_split=1;, score=nan total time=   0.0s\n",
      "[CV 7/10] END class_weight=balanced, max_depth=4, min_samples_leaf=5, min_samples_split=1;, score=nan total time=   0.0s\n",
      "[CV 8/10] END class_weight=balanced, max_depth=4, min_samples_leaf=5, min_samples_split=1;, score=nan total time=   0.0s\n",
      "[CV 9/10] END class_weight=balanced, max_depth=4, min_samples_leaf=5, min_samples_split=1;, score=nan total time=   0.0s\n",
      "[CV 10/10] END class_weight=balanced, max_depth=4, min_samples_leaf=5, min_samples_split=1;, score=nan total time=   0.0s\n",
      "[CV 1/10] END class_weight=balanced, max_depth=4, min_samples_leaf=5, min_samples_split=5;, score=0.878 total time=   0.0s\n",
      "[CV 2/10] END class_weight=balanced, max_depth=4, min_samples_leaf=5, min_samples_split=5;, score=0.904 total time=   0.0s\n",
      "[CV 3/10] END class_weight=balanced, max_depth=4, min_samples_leaf=5, min_samples_split=5;, score=0.866 total time=   0.0s\n",
      "[CV 4/10] END class_weight=balanced, max_depth=4, min_samples_leaf=5, min_samples_split=5;, score=0.834 total time=   0.0s\n",
      "[CV 5/10] END class_weight=balanced, max_depth=4, min_samples_leaf=5, min_samples_split=5;, score=0.898 total time=   0.0s\n",
      "[CV 6/10] END class_weight=balanced, max_depth=4, min_samples_leaf=5, min_samples_split=5;, score=0.895 total time=   0.0s\n",
      "[CV 7/10] END class_weight=balanced, max_depth=4, min_samples_leaf=5, min_samples_split=5;, score=0.838 total time=   0.0s\n",
      "[CV 8/10] END class_weight=balanced, max_depth=4, min_samples_leaf=5, min_samples_split=5;, score=0.858 total time=   0.0s\n",
      "[CV 9/10] END class_weight=balanced, max_depth=4, min_samples_leaf=5, min_samples_split=5;, score=0.888 total time=   0.0s\n",
      "[CV 10/10] END class_weight=balanced, max_depth=4, min_samples_leaf=5, min_samples_split=5;, score=0.873 total time=   0.0s\n",
      "[CV 1/10] END class_weight=balanced, max_depth=4, min_samples_leaf=5, min_samples_split=10;, score=0.878 total time=   0.0s\n",
      "[CV 2/10] END class_weight=balanced, max_depth=4, min_samples_leaf=5, min_samples_split=10;, score=0.904 total time=   0.0s\n",
      "[CV 3/10] END class_weight=balanced, max_depth=4, min_samples_leaf=5, min_samples_split=10;, score=0.866 total time=   0.0s\n",
      "[CV 4/10] END class_weight=balanced, max_depth=4, min_samples_leaf=5, min_samples_split=10;, score=0.834 total time=   0.0s\n",
      "[CV 5/10] END class_weight=balanced, max_depth=4, min_samples_leaf=5, min_samples_split=10;, score=0.898 total time=   0.0s\n",
      "[CV 6/10] END class_weight=balanced, max_depth=4, min_samples_leaf=5, min_samples_split=10;, score=0.895 total time=   0.0s\n",
      "[CV 7/10] END class_weight=balanced, max_depth=4, min_samples_leaf=5, min_samples_split=10;, score=0.838 total time=   0.0s\n",
      "[CV 8/10] END class_weight=balanced, max_depth=4, min_samples_leaf=5, min_samples_split=10;, score=0.858 total time=   0.0s\n",
      "[CV 9/10] END class_weight=balanced, max_depth=4, min_samples_leaf=5, min_samples_split=10;, score=0.888 total time=   0.0s\n",
      "[CV 10/10] END class_weight=balanced, max_depth=4, min_samples_leaf=5, min_samples_split=10;, score=0.873 total time=   0.0s\n",
      "[CV 1/10] END class_weight=balanced, max_depth=4, min_samples_leaf=10, min_samples_split=1;, score=nan total time=   0.0s\n",
      "[CV 2/10] END class_weight=balanced, max_depth=4, min_samples_leaf=10, min_samples_split=1;, score=nan total time=   0.0s\n",
      "[CV 3/10] END class_weight=balanced, max_depth=4, min_samples_leaf=10, min_samples_split=1;, score=nan total time=   0.0s\n",
      "[CV 4/10] END class_weight=balanced, max_depth=4, min_samples_leaf=10, min_samples_split=1;, score=nan total time=   0.0s\n",
      "[CV 5/10] END class_weight=balanced, max_depth=4, min_samples_leaf=10, min_samples_split=1;, score=nan total time=   0.0s\n",
      "[CV 6/10] END class_weight=balanced, max_depth=4, min_samples_leaf=10, min_samples_split=1;, score=nan total time=   0.0s\n",
      "[CV 7/10] END class_weight=balanced, max_depth=4, min_samples_leaf=10, min_samples_split=1;, score=nan total time=   0.0s\n",
      "[CV 8/10] END class_weight=balanced, max_depth=4, min_samples_leaf=10, min_samples_split=1;, score=nan total time=   0.0s\n",
      "[CV 9/10] END class_weight=balanced, max_depth=4, min_samples_leaf=10, min_samples_split=1;, score=nan total time=   0.0s\n",
      "[CV 10/10] END class_weight=balanced, max_depth=4, min_samples_leaf=10, min_samples_split=1;, score=nan total time=   0.0s\n",
      "[CV 1/10] END class_weight=balanced, max_depth=4, min_samples_leaf=10, min_samples_split=5;, score=0.878 total time=   0.0s\n",
      "[CV 2/10] END class_weight=balanced, max_depth=4, min_samples_leaf=10, min_samples_split=5;, score=0.904 total time=   0.0s\n",
      "[CV 3/10] END class_weight=balanced, max_depth=4, min_samples_leaf=10, min_samples_split=5;, score=0.866 total time=   0.0s\n",
      "[CV 4/10] END class_weight=balanced, max_depth=4, min_samples_leaf=10, min_samples_split=5;, score=0.834 total time=   0.0s\n",
      "[CV 5/10] END class_weight=balanced, max_depth=4, min_samples_leaf=10, min_samples_split=5;, score=0.898 total time=   0.0s\n",
      "[CV 6/10] END class_weight=balanced, max_depth=4, min_samples_leaf=10, min_samples_split=5;, score=0.895 total time=   0.0s\n",
      "[CV 7/10] END class_weight=balanced, max_depth=4, min_samples_leaf=10, min_samples_split=5;, score=0.838 total time=   0.0s\n",
      "[CV 8/10] END class_weight=balanced, max_depth=4, min_samples_leaf=10, min_samples_split=5;, score=0.858 total time=   0.0s\n",
      "[CV 9/10] END class_weight=balanced, max_depth=4, min_samples_leaf=10, min_samples_split=5;, score=0.888 total time=   0.0s\n",
      "[CV 10/10] END class_weight=balanced, max_depth=4, min_samples_leaf=10, min_samples_split=5;, score=0.873 total time=   0.0s\n",
      "[CV 1/10] END class_weight=balanced, max_depth=4, min_samples_leaf=10, min_samples_split=10;, score=0.878 total time=   0.0s\n",
      "[CV 2/10] END class_weight=balanced, max_depth=4, min_samples_leaf=10, min_samples_split=10;, score=0.904 total time=   0.0s\n",
      "[CV 3/10] END class_weight=balanced, max_depth=4, min_samples_leaf=10, min_samples_split=10;, score=0.866 total time=   0.0s\n",
      "[CV 4/10] END class_weight=balanced, max_depth=4, min_samples_leaf=10, min_samples_split=10;, score=0.834 total time=   0.0s\n",
      "[CV 5/10] END class_weight=balanced, max_depth=4, min_samples_leaf=10, min_samples_split=10;, score=0.898 total time=   0.0s\n",
      "[CV 6/10] END class_weight=balanced, max_depth=4, min_samples_leaf=10, min_samples_split=10;, score=0.895 total time=   0.0s\n",
      "[CV 7/10] END class_weight=balanced, max_depth=4, min_samples_leaf=10, min_samples_split=10;, score=0.838 total time=   0.0s\n",
      "[CV 8/10] END class_weight=balanced, max_depth=4, min_samples_leaf=10, min_samples_split=10;, score=0.858 total time=   0.0s\n",
      "[CV 9/10] END class_weight=balanced, max_depth=4, min_samples_leaf=10, min_samples_split=10;, score=0.888 total time=   0.0s\n",
      "[CV 10/10] END class_weight=balanced, max_depth=4, min_samples_leaf=10, min_samples_split=10;, score=0.873 total time=   0.0s\n",
      "[CV 1/10] END class_weight=balanced, max_depth=5, min_samples_leaf=1, min_samples_split=1;, score=nan total time=   0.0s\n",
      "[CV 2/10] END class_weight=balanced, max_depth=5, min_samples_leaf=1, min_samples_split=1;, score=nan total time=   0.0s\n",
      "[CV 3/10] END class_weight=balanced, max_depth=5, min_samples_leaf=1, min_samples_split=1;, score=nan total time=   0.0s\n",
      "[CV 4/10] END class_weight=balanced, max_depth=5, min_samples_leaf=1, min_samples_split=1;, score=nan total time=   0.0s\n",
      "[CV 5/10] END class_weight=balanced, max_depth=5, min_samples_leaf=1, min_samples_split=1;, score=nan total time=   0.0s\n",
      "[CV 6/10] END class_weight=balanced, max_depth=5, min_samples_leaf=1, min_samples_split=1;, score=nan total time=   0.0s\n",
      "[CV 7/10] END class_weight=balanced, max_depth=5, min_samples_leaf=1, min_samples_split=1;, score=nan total time=   0.0s\n",
      "[CV 8/10] END class_weight=balanced, max_depth=5, min_samples_leaf=1, min_samples_split=1;, score=nan total time=   0.0s\n",
      "[CV 9/10] END class_weight=balanced, max_depth=5, min_samples_leaf=1, min_samples_split=1;, score=nan total time=   0.0s\n",
      "[CV 10/10] END class_weight=balanced, max_depth=5, min_samples_leaf=1, min_samples_split=1;, score=nan total time=   0.0s\n",
      "[CV 1/10] END class_weight=balanced, max_depth=5, min_samples_leaf=1, min_samples_split=5;, score=0.870 total time=   0.0s\n",
      "[CV 2/10] END class_weight=balanced, max_depth=5, min_samples_leaf=1, min_samples_split=5;, score=0.879 total time=   0.0s\n",
      "[CV 3/10] END class_weight=balanced, max_depth=5, min_samples_leaf=1, min_samples_split=5;, score=0.862 total time=   0.0s\n",
      "[CV 4/10] END class_weight=balanced, max_depth=5, min_samples_leaf=1, min_samples_split=5;, score=0.875 total time=   0.0s\n",
      "[CV 5/10] END class_weight=balanced, max_depth=5, min_samples_leaf=1, min_samples_split=5;, score=0.888 total time=   0.0s\n",
      "[CV 6/10] END class_weight=balanced, max_depth=5, min_samples_leaf=1, min_samples_split=5;, score=0.878 total time=   0.0s\n",
      "[CV 7/10] END class_weight=balanced, max_depth=5, min_samples_leaf=1, min_samples_split=5;, score=0.828 total time=   0.0s\n",
      "[CV 8/10] END class_weight=balanced, max_depth=5, min_samples_leaf=1, min_samples_split=5;, score=0.894 total time=   0.0s\n",
      "[CV 9/10] END class_weight=balanced, max_depth=5, min_samples_leaf=1, min_samples_split=5;, score=0.876 total time=   0.0s\n",
      "[CV 10/10] END class_weight=balanced, max_depth=5, min_samples_leaf=1, min_samples_split=5;, score=0.900 total time=   0.0s\n",
      "[CV 1/10] END class_weight=balanced, max_depth=5, min_samples_leaf=1, min_samples_split=10;, score=0.870 total time=   0.0s\n",
      "[CV 2/10] END class_weight=balanced, max_depth=5, min_samples_leaf=1, min_samples_split=10;, score=0.879 total time=   0.0s\n",
      "[CV 3/10] END class_weight=balanced, max_depth=5, min_samples_leaf=1, min_samples_split=10;, score=0.861 total time=   0.0s\n",
      "[CV 4/10] END class_weight=balanced, max_depth=5, min_samples_leaf=1, min_samples_split=10;, score=0.875 total time=   0.0s\n",
      "[CV 5/10] END class_weight=balanced, max_depth=5, min_samples_leaf=1, min_samples_split=10;, score=0.888 total time=   0.0s\n",
      "[CV 6/10] END class_weight=balanced, max_depth=5, min_samples_leaf=1, min_samples_split=10;, score=0.878 total time=   0.0s\n",
      "[CV 7/10] END class_weight=balanced, max_depth=5, min_samples_leaf=1, min_samples_split=10;, score=0.828 total time=   0.0s\n",
      "[CV 8/10] END class_weight=balanced, max_depth=5, min_samples_leaf=1, min_samples_split=10;, score=0.894 total time=   0.0s\n",
      "[CV 9/10] END class_weight=balanced, max_depth=5, min_samples_leaf=1, min_samples_split=10;, score=0.876 total time=   0.0s\n",
      "[CV 10/10] END class_weight=balanced, max_depth=5, min_samples_leaf=1, min_samples_split=10;, score=0.900 total time=   0.0s\n",
      "[CV 1/10] END class_weight=balanced, max_depth=5, min_samples_leaf=5, min_samples_split=1;, score=nan total time=   0.0s\n",
      "[CV 2/10] END class_weight=balanced, max_depth=5, min_samples_leaf=5, min_samples_split=1;, score=nan total time=   0.0s\n",
      "[CV 3/10] END class_weight=balanced, max_depth=5, min_samples_leaf=5, min_samples_split=1;, score=nan total time=   0.0s\n",
      "[CV 4/10] END class_weight=balanced, max_depth=5, min_samples_leaf=5, min_samples_split=1;, score=nan total time=   0.0s\n",
      "[CV 5/10] END class_weight=balanced, max_depth=5, min_samples_leaf=5, min_samples_split=1;, score=nan total time=   0.0s\n",
      "[CV 6/10] END class_weight=balanced, max_depth=5, min_samples_leaf=5, min_samples_split=1;, score=nan total time=   0.0s\n",
      "[CV 7/10] END class_weight=balanced, max_depth=5, min_samples_leaf=5, min_samples_split=1;, score=nan total time=   0.0s\n",
      "[CV 8/10] END class_weight=balanced, max_depth=5, min_samples_leaf=5, min_samples_split=1;, score=nan total time=   0.0s\n",
      "[CV 9/10] END class_weight=balanced, max_depth=5, min_samples_leaf=5, min_samples_split=1;, score=nan total time=   0.0s\n",
      "[CV 10/10] END class_weight=balanced, max_depth=5, min_samples_leaf=5, min_samples_split=1;, score=nan total time=   0.0s\n",
      "[CV 1/10] END class_weight=balanced, max_depth=5, min_samples_leaf=5, min_samples_split=5;, score=0.870 total time=   0.0s\n",
      "[CV 2/10] END class_weight=balanced, max_depth=5, min_samples_leaf=5, min_samples_split=5;, score=0.881 total time=   0.0s\n",
      "[CV 3/10] END class_weight=balanced, max_depth=5, min_samples_leaf=5, min_samples_split=5;, score=0.862 total time=   0.0s\n",
      "[CV 4/10] END class_weight=balanced, max_depth=5, min_samples_leaf=5, min_samples_split=5;, score=0.875 total time=   0.0s\n",
      "[CV 5/10] END class_weight=balanced, max_depth=5, min_samples_leaf=5, min_samples_split=5;, score=0.888 total time=   0.0s\n",
      "[CV 6/10] END class_weight=balanced, max_depth=5, min_samples_leaf=5, min_samples_split=5;, score=0.878 total time=   0.0s\n",
      "[CV 7/10] END class_weight=balanced, max_depth=5, min_samples_leaf=5, min_samples_split=5;, score=0.828 total time=   0.0s\n",
      "[CV 8/10] END class_weight=balanced, max_depth=5, min_samples_leaf=5, min_samples_split=5;, score=0.894 total time=   0.0s\n",
      "[CV 9/10] END class_weight=balanced, max_depth=5, min_samples_leaf=5, min_samples_split=5;, score=0.876 total time=   0.0s\n",
      "[CV 10/10] END class_weight=balanced, max_depth=5, min_samples_leaf=5, min_samples_split=5;, score=0.900 total time=   0.0s\n",
      "[CV 1/10] END class_weight=balanced, max_depth=5, min_samples_leaf=5, min_samples_split=10;, score=0.870 total time=   0.0s\n",
      "[CV 2/10] END class_weight=balanced, max_depth=5, min_samples_leaf=5, min_samples_split=10;, score=0.879 total time=   0.0s\n",
      "[CV 3/10] END class_weight=balanced, max_depth=5, min_samples_leaf=5, min_samples_split=10;, score=0.862 total time=   0.0s\n",
      "[CV 4/10] END class_weight=balanced, max_depth=5, min_samples_leaf=5, min_samples_split=10;, score=0.875 total time=   0.0s\n",
      "[CV 5/10] END class_weight=balanced, max_depth=5, min_samples_leaf=5, min_samples_split=10;, score=0.888 total time=   0.0s\n",
      "[CV 6/10] END class_weight=balanced, max_depth=5, min_samples_leaf=5, min_samples_split=10;, score=0.878 total time=   0.0s\n",
      "[CV 7/10] END class_weight=balanced, max_depth=5, min_samples_leaf=5, min_samples_split=10;, score=0.827 total time=   0.0s\n",
      "[CV 8/10] END class_weight=balanced, max_depth=5, min_samples_leaf=5, min_samples_split=10;, score=0.894 total time=   0.0s\n",
      "[CV 9/10] END class_weight=balanced, max_depth=5, min_samples_leaf=5, min_samples_split=10;, score=0.876 total time=   0.0s\n",
      "[CV 10/10] END class_weight=balanced, max_depth=5, min_samples_leaf=5, min_samples_split=10;, score=0.900 total time=   0.0s\n",
      "[CV 1/10] END class_weight=balanced, max_depth=5, min_samples_leaf=10, min_samples_split=1;, score=nan total time=   0.0s\n",
      "[CV 2/10] END class_weight=balanced, max_depth=5, min_samples_leaf=10, min_samples_split=1;, score=nan total time=   0.0s\n",
      "[CV 3/10] END class_weight=balanced, max_depth=5, min_samples_leaf=10, min_samples_split=1;, score=nan total time=   0.0s\n",
      "[CV 4/10] END class_weight=balanced, max_depth=5, min_samples_leaf=10, min_samples_split=1;, score=nan total time=   0.0s\n",
      "[CV 5/10] END class_weight=balanced, max_depth=5, min_samples_leaf=10, min_samples_split=1;, score=nan total time=   0.0s\n",
      "[CV 6/10] END class_weight=balanced, max_depth=5, min_samples_leaf=10, min_samples_split=1;, score=nan total time=   0.0s\n",
      "[CV 7/10] END class_weight=balanced, max_depth=5, min_samples_leaf=10, min_samples_split=1;, score=nan total time=   0.0s\n",
      "[CV 8/10] END class_weight=balanced, max_depth=5, min_samples_leaf=10, min_samples_split=1;, score=nan total time=   0.0s\n",
      "[CV 9/10] END class_weight=balanced, max_depth=5, min_samples_leaf=10, min_samples_split=1;, score=nan total time=   0.0s\n",
      "[CV 10/10] END class_weight=balanced, max_depth=5, min_samples_leaf=10, min_samples_split=1;, score=nan total time=   0.0s\n",
      "[CV 1/10] END class_weight=balanced, max_depth=5, min_samples_leaf=10, min_samples_split=5;, score=0.870 total time=   0.0s\n",
      "[CV 2/10] END class_weight=balanced, max_depth=5, min_samples_leaf=10, min_samples_split=5;, score=0.879 total time=   0.0s\n",
      "[CV 3/10] END class_weight=balanced, max_depth=5, min_samples_leaf=10, min_samples_split=5;, score=0.862 total time=   0.0s\n",
      "[CV 4/10] END class_weight=balanced, max_depth=5, min_samples_leaf=10, min_samples_split=5;, score=0.875 total time=   0.0s\n",
      "[CV 5/10] END class_weight=balanced, max_depth=5, min_samples_leaf=10, min_samples_split=5;, score=0.888 total time=   0.0s\n",
      "[CV 6/10] END class_weight=balanced, max_depth=5, min_samples_leaf=10, min_samples_split=5;, score=0.878 total time=   0.0s\n",
      "[CV 7/10] END class_weight=balanced, max_depth=5, min_samples_leaf=10, min_samples_split=5;, score=0.827 total time=   0.0s\n",
      "[CV 8/10] END class_weight=balanced, max_depth=5, min_samples_leaf=10, min_samples_split=5;, score=0.894 total time=   0.0s\n",
      "[CV 9/10] END class_weight=balanced, max_depth=5, min_samples_leaf=10, min_samples_split=5;, score=0.876 total time=   0.0s\n",
      "[CV 10/10] END class_weight=balanced, max_depth=5, min_samples_leaf=10, min_samples_split=5;, score=0.898 total time=   0.0s\n",
      "[CV 1/10] END class_weight=balanced, max_depth=5, min_samples_leaf=10, min_samples_split=10;, score=0.870 total time=   0.0s\n",
      "[CV 2/10] END class_weight=balanced, max_depth=5, min_samples_leaf=10, min_samples_split=10;, score=0.881 total time=   0.0s\n",
      "[CV 3/10] END class_weight=balanced, max_depth=5, min_samples_leaf=10, min_samples_split=10;, score=0.862 total time=   0.0s\n",
      "[CV 4/10] END class_weight=balanced, max_depth=5, min_samples_leaf=10, min_samples_split=10;, score=0.875 total time=   0.0s\n",
      "[CV 5/10] END class_weight=balanced, max_depth=5, min_samples_leaf=10, min_samples_split=10;, score=0.888 total time=   0.0s\n",
      "[CV 6/10] END class_weight=balanced, max_depth=5, min_samples_leaf=10, min_samples_split=10;, score=0.877 total time=   0.0s\n",
      "[CV 7/10] END class_weight=balanced, max_depth=5, min_samples_leaf=10, min_samples_split=10;, score=0.827 total time=   0.0s\n",
      "[CV 8/10] END class_weight=balanced, max_depth=5, min_samples_leaf=10, min_samples_split=10;, score=0.894 total time=   0.0s\n",
      "[CV 9/10] END class_weight=balanced, max_depth=5, min_samples_leaf=10, min_samples_split=10;, score=0.876 total time=   0.0s\n",
      "[CV 10/10] END class_weight=balanced, max_depth=5, min_samples_leaf=10, min_samples_split=10;, score=0.898 total time=   0.0s\n"
     ]
    },
    {
     "name": "stderr",
     "output_type": "stream",
     "text": [
      "C:\\Users\\ben8h\\anaconda3\\Lib\\site-packages\\sklearn\\model_selection\\_validation.py:547: FitFailedWarning: \n",
      "360 fits failed out of a total of 1080.\n",
      "The score on these train-test partitions for these parameters will be set to nan.\n",
      "If these failures are not expected, you can try to debug them by setting error_score='raise'.\n",
      "\n",
      "Below are more details about the failures:\n",
      "--------------------------------------------------------------------------------\n",
      "360 fits failed with the following error:\n",
      "Traceback (most recent call last):\n",
      "  File \"C:\\Users\\ben8h\\anaconda3\\Lib\\site-packages\\sklearn\\model_selection\\_validation.py\", line 895, in _fit_and_score\n",
      "    estimator.fit(X_train, y_train, **fit_params)\n",
      "  File \"C:\\Users\\ben8h\\anaconda3\\Lib\\site-packages\\sklearn\\base.py\", line 1467, in wrapper\n",
      "    estimator._validate_params()\n",
      "  File \"C:\\Users\\ben8h\\anaconda3\\Lib\\site-packages\\sklearn\\base.py\", line 666, in _validate_params\n",
      "    validate_parameter_constraints(\n",
      "  File \"C:\\Users\\ben8h\\anaconda3\\Lib\\site-packages\\sklearn\\utils\\_param_validation.py\", line 95, in validate_parameter_constraints\n",
      "    raise InvalidParameterError(\n",
      "sklearn.utils._param_validation.InvalidParameterError: The 'min_samples_split' parameter of DecisionTreeClassifier must be an int in the range [2, inf) or a float in the range (0.0, 1.0]. Got 1 instead.\n",
      "\n",
      "  warnings.warn(some_fits_failed_message, FitFailedWarning)\n",
      "C:\\Users\\ben8h\\anaconda3\\Lib\\site-packages\\sklearn\\model_selection\\_search.py:1051: UserWarning: One or more of the test scores are non-finite: [       nan 0.98195693 0.98294206        nan 0.98475658 0.98506765\n",
      "        nan 0.98641582 0.9865195         nan 0.98812674 0.98812674\n",
      "        nan 0.98812674 0.98812674        nan 0.98812674 0.98812674\n",
      "        nan 0.98807495 0.98807495        nan 0.98807495 0.98807495\n",
      "        nan 0.98802308 0.98802308        nan 0.98802308 0.98802308\n",
      "        nan 0.98802311 0.98817863        nan 0.98797124 0.98797124\n",
      "        nan 0.98786756 0.9879194         nan 0.98786753 0.98771201\n",
      "        nan 0.98797121 0.98797121        nan 0.98750454 0.98740086\n",
      "        nan 0.9871935  0.9871935         nan 0.98698598 0.98698598\n",
      "        nan 0.95494433 0.94955199        nan 0.94250084 0.94270839\n",
      "        nan 0.92414595 0.92362731        nan 0.92710101 0.92710101\n",
      "        nan 0.92710101 0.92710101        nan 0.92710101 0.92710101\n",
      "        nan 0.81220571 0.81220571        nan 0.81220571 0.81220571\n",
      "        nan 0.81220571 0.81220571        nan 0.88774603 0.88774603\n",
      "        nan 0.88774603 0.88774603        nan 0.88774603 0.88774603\n",
      "        nan 0.87317881 0.87317881        nan 0.87317881 0.87317881\n",
      "        nan 0.87317881 0.87317881        nan 0.87499583 0.87489215\n",
      "        nan 0.87509951 0.87489215        nan 0.874581   0.87463284]\n",
      "  warnings.warn(\n"
     ]
    },
    {
     "data": {
      "text/html": [
       "<style>#sk-container-id-1 {\n",
       "  /* Definition of color scheme common for light and dark mode */\n",
       "  --sklearn-color-text: black;\n",
       "  --sklearn-color-line: gray;\n",
       "  /* Definition of color scheme for unfitted estimators */\n",
       "  --sklearn-color-unfitted-level-0: #fff5e6;\n",
       "  --sklearn-color-unfitted-level-1: #f6e4d2;\n",
       "  --sklearn-color-unfitted-level-2: #ffe0b3;\n",
       "  --sklearn-color-unfitted-level-3: chocolate;\n",
       "  /* Definition of color scheme for fitted estimators */\n",
       "  --sklearn-color-fitted-level-0: #f0f8ff;\n",
       "  --sklearn-color-fitted-level-1: #d4ebff;\n",
       "  --sklearn-color-fitted-level-2: #b3dbfd;\n",
       "  --sklearn-color-fitted-level-3: cornflowerblue;\n",
       "\n",
       "  /* Specific color for light theme */\n",
       "  --sklearn-color-text-on-default-background: var(--sg-text-color, var(--theme-code-foreground, var(--jp-content-font-color1, black)));\n",
       "  --sklearn-color-background: var(--sg-background-color, var(--theme-background, var(--jp-layout-color0, white)));\n",
       "  --sklearn-color-border-box: var(--sg-text-color, var(--theme-code-foreground, var(--jp-content-font-color1, black)));\n",
       "  --sklearn-color-icon: #696969;\n",
       "\n",
       "  @media (prefers-color-scheme: dark) {\n",
       "    /* Redefinition of color scheme for dark theme */\n",
       "    --sklearn-color-text-on-default-background: var(--sg-text-color, var(--theme-code-foreground, var(--jp-content-font-color1, white)));\n",
       "    --sklearn-color-background: var(--sg-background-color, var(--theme-background, var(--jp-layout-color0, #111)));\n",
       "    --sklearn-color-border-box: var(--sg-text-color, var(--theme-code-foreground, var(--jp-content-font-color1, white)));\n",
       "    --sklearn-color-icon: #878787;\n",
       "  }\n",
       "}\n",
       "\n",
       "#sk-container-id-1 {\n",
       "  color: var(--sklearn-color-text);\n",
       "}\n",
       "\n",
       "#sk-container-id-1 pre {\n",
       "  padding: 0;\n",
       "}\n",
       "\n",
       "#sk-container-id-1 input.sk-hidden--visually {\n",
       "  border: 0;\n",
       "  clip: rect(1px 1px 1px 1px);\n",
       "  clip: rect(1px, 1px, 1px, 1px);\n",
       "  height: 1px;\n",
       "  margin: -1px;\n",
       "  overflow: hidden;\n",
       "  padding: 0;\n",
       "  position: absolute;\n",
       "  width: 1px;\n",
       "}\n",
       "\n",
       "#sk-container-id-1 div.sk-dashed-wrapped {\n",
       "  border: 1px dashed var(--sklearn-color-line);\n",
       "  margin: 0 0.4em 0.5em 0.4em;\n",
       "  box-sizing: border-box;\n",
       "  padding-bottom: 0.4em;\n",
       "  background-color: var(--sklearn-color-background);\n",
       "}\n",
       "\n",
       "#sk-container-id-1 div.sk-container {\n",
       "  /* jupyter's `normalize.less` sets `[hidden] { display: none; }`\n",
       "     but bootstrap.min.css set `[hidden] { display: none !important; }`\n",
       "     so we also need the `!important` here to be able to override the\n",
       "     default hidden behavior on the sphinx rendered scikit-learn.org.\n",
       "     See: https://github.com/scikit-learn/scikit-learn/issues/21755 */\n",
       "  display: inline-block !important;\n",
       "  position: relative;\n",
       "}\n",
       "\n",
       "#sk-container-id-1 div.sk-text-repr-fallback {\n",
       "  display: none;\n",
       "}\n",
       "\n",
       "div.sk-parallel-item,\n",
       "div.sk-serial,\n",
       "div.sk-item {\n",
       "  /* draw centered vertical line to link estimators */\n",
       "  background-image: linear-gradient(var(--sklearn-color-text-on-default-background), var(--sklearn-color-text-on-default-background));\n",
       "  background-size: 2px 100%;\n",
       "  background-repeat: no-repeat;\n",
       "  background-position: center center;\n",
       "}\n",
       "\n",
       "/* Parallel-specific style estimator block */\n",
       "\n",
       "#sk-container-id-1 div.sk-parallel-item::after {\n",
       "  content: \"\";\n",
       "  width: 100%;\n",
       "  border-bottom: 2px solid var(--sklearn-color-text-on-default-background);\n",
       "  flex-grow: 1;\n",
       "}\n",
       "\n",
       "#sk-container-id-1 div.sk-parallel {\n",
       "  display: flex;\n",
       "  align-items: stretch;\n",
       "  justify-content: center;\n",
       "  background-color: var(--sklearn-color-background);\n",
       "  position: relative;\n",
       "}\n",
       "\n",
       "#sk-container-id-1 div.sk-parallel-item {\n",
       "  display: flex;\n",
       "  flex-direction: column;\n",
       "}\n",
       "\n",
       "#sk-container-id-1 div.sk-parallel-item:first-child::after {\n",
       "  align-self: flex-end;\n",
       "  width: 50%;\n",
       "}\n",
       "\n",
       "#sk-container-id-1 div.sk-parallel-item:last-child::after {\n",
       "  align-self: flex-start;\n",
       "  width: 50%;\n",
       "}\n",
       "\n",
       "#sk-container-id-1 div.sk-parallel-item:only-child::after {\n",
       "  width: 0;\n",
       "}\n",
       "\n",
       "/* Serial-specific style estimator block */\n",
       "\n",
       "#sk-container-id-1 div.sk-serial {\n",
       "  display: flex;\n",
       "  flex-direction: column;\n",
       "  align-items: center;\n",
       "  background-color: var(--sklearn-color-background);\n",
       "  padding-right: 1em;\n",
       "  padding-left: 1em;\n",
       "}\n",
       "\n",
       "\n",
       "/* Toggleable style: style used for estimator/Pipeline/ColumnTransformer box that is\n",
       "clickable and can be expanded/collapsed.\n",
       "- Pipeline and ColumnTransformer use this feature and define the default style\n",
       "- Estimators will overwrite some part of the style using the `sk-estimator` class\n",
       "*/\n",
       "\n",
       "/* Pipeline and ColumnTransformer style (default) */\n",
       "\n",
       "#sk-container-id-1 div.sk-toggleable {\n",
       "  /* Default theme specific background. It is overwritten whether we have a\n",
       "  specific estimator or a Pipeline/ColumnTransformer */\n",
       "  background-color: var(--sklearn-color-background);\n",
       "}\n",
       "\n",
       "/* Toggleable label */\n",
       "#sk-container-id-1 label.sk-toggleable__label {\n",
       "  cursor: pointer;\n",
       "  display: block;\n",
       "  width: 100%;\n",
       "  margin-bottom: 0;\n",
       "  padding: 0.5em;\n",
       "  box-sizing: border-box;\n",
       "  text-align: center;\n",
       "}\n",
       "\n",
       "#sk-container-id-1 label.sk-toggleable__label-arrow:before {\n",
       "  /* Arrow on the left of the label */\n",
       "  content: \"▸\";\n",
       "  float: left;\n",
       "  margin-right: 0.25em;\n",
       "  color: var(--sklearn-color-icon);\n",
       "}\n",
       "\n",
       "#sk-container-id-1 label.sk-toggleable__label-arrow:hover:before {\n",
       "  color: var(--sklearn-color-text);\n",
       "}\n",
       "\n",
       "/* Toggleable content - dropdown */\n",
       "\n",
       "#sk-container-id-1 div.sk-toggleable__content {\n",
       "  max-height: 0;\n",
       "  max-width: 0;\n",
       "  overflow: hidden;\n",
       "  text-align: left;\n",
       "  /* unfitted */\n",
       "  background-color: var(--sklearn-color-unfitted-level-0);\n",
       "}\n",
       "\n",
       "#sk-container-id-1 div.sk-toggleable__content.fitted {\n",
       "  /* fitted */\n",
       "  background-color: var(--sklearn-color-fitted-level-0);\n",
       "}\n",
       "\n",
       "#sk-container-id-1 div.sk-toggleable__content pre {\n",
       "  margin: 0.2em;\n",
       "  border-radius: 0.25em;\n",
       "  color: var(--sklearn-color-text);\n",
       "  /* unfitted */\n",
       "  background-color: var(--sklearn-color-unfitted-level-0);\n",
       "}\n",
       "\n",
       "#sk-container-id-1 div.sk-toggleable__content.fitted pre {\n",
       "  /* unfitted */\n",
       "  background-color: var(--sklearn-color-fitted-level-0);\n",
       "}\n",
       "\n",
       "#sk-container-id-1 input.sk-toggleable__control:checked~div.sk-toggleable__content {\n",
       "  /* Expand drop-down */\n",
       "  max-height: 200px;\n",
       "  max-width: 100%;\n",
       "  overflow: auto;\n",
       "}\n",
       "\n",
       "#sk-container-id-1 input.sk-toggleable__control:checked~label.sk-toggleable__label-arrow:before {\n",
       "  content: \"▾\";\n",
       "}\n",
       "\n",
       "/* Pipeline/ColumnTransformer-specific style */\n",
       "\n",
       "#sk-container-id-1 div.sk-label input.sk-toggleable__control:checked~label.sk-toggleable__label {\n",
       "  color: var(--sklearn-color-text);\n",
       "  background-color: var(--sklearn-color-unfitted-level-2);\n",
       "}\n",
       "\n",
       "#sk-container-id-1 div.sk-label.fitted input.sk-toggleable__control:checked~label.sk-toggleable__label {\n",
       "  background-color: var(--sklearn-color-fitted-level-2);\n",
       "}\n",
       "\n",
       "/* Estimator-specific style */\n",
       "\n",
       "/* Colorize estimator box */\n",
       "#sk-container-id-1 div.sk-estimator input.sk-toggleable__control:checked~label.sk-toggleable__label {\n",
       "  /* unfitted */\n",
       "  background-color: var(--sklearn-color-unfitted-level-2);\n",
       "}\n",
       "\n",
       "#sk-container-id-1 div.sk-estimator.fitted input.sk-toggleable__control:checked~label.sk-toggleable__label {\n",
       "  /* fitted */\n",
       "  background-color: var(--sklearn-color-fitted-level-2);\n",
       "}\n",
       "\n",
       "#sk-container-id-1 div.sk-label label.sk-toggleable__label,\n",
       "#sk-container-id-1 div.sk-label label {\n",
       "  /* The background is the default theme color */\n",
       "  color: var(--sklearn-color-text-on-default-background);\n",
       "}\n",
       "\n",
       "/* On hover, darken the color of the background */\n",
       "#sk-container-id-1 div.sk-label:hover label.sk-toggleable__label {\n",
       "  color: var(--sklearn-color-text);\n",
       "  background-color: var(--sklearn-color-unfitted-level-2);\n",
       "}\n",
       "\n",
       "/* Label box, darken color on hover, fitted */\n",
       "#sk-container-id-1 div.sk-label.fitted:hover label.sk-toggleable__label.fitted {\n",
       "  color: var(--sklearn-color-text);\n",
       "  background-color: var(--sklearn-color-fitted-level-2);\n",
       "}\n",
       "\n",
       "/* Estimator label */\n",
       "\n",
       "#sk-container-id-1 div.sk-label label {\n",
       "  font-family: monospace;\n",
       "  font-weight: bold;\n",
       "  display: inline-block;\n",
       "  line-height: 1.2em;\n",
       "}\n",
       "\n",
       "#sk-container-id-1 div.sk-label-container {\n",
       "  text-align: center;\n",
       "}\n",
       "\n",
       "/* Estimator-specific */\n",
       "#sk-container-id-1 div.sk-estimator {\n",
       "  font-family: monospace;\n",
       "  border: 1px dotted var(--sklearn-color-border-box);\n",
       "  border-radius: 0.25em;\n",
       "  box-sizing: border-box;\n",
       "  margin-bottom: 0.5em;\n",
       "  /* unfitted */\n",
       "  background-color: var(--sklearn-color-unfitted-level-0);\n",
       "}\n",
       "\n",
       "#sk-container-id-1 div.sk-estimator.fitted {\n",
       "  /* fitted */\n",
       "  background-color: var(--sklearn-color-fitted-level-0);\n",
       "}\n",
       "\n",
       "/* on hover */\n",
       "#sk-container-id-1 div.sk-estimator:hover {\n",
       "  /* unfitted */\n",
       "  background-color: var(--sklearn-color-unfitted-level-2);\n",
       "}\n",
       "\n",
       "#sk-container-id-1 div.sk-estimator.fitted:hover {\n",
       "  /* fitted */\n",
       "  background-color: var(--sklearn-color-fitted-level-2);\n",
       "}\n",
       "\n",
       "/* Specification for estimator info (e.g. \"i\" and \"?\") */\n",
       "\n",
       "/* Common style for \"i\" and \"?\" */\n",
       "\n",
       ".sk-estimator-doc-link,\n",
       "a:link.sk-estimator-doc-link,\n",
       "a:visited.sk-estimator-doc-link {\n",
       "  float: right;\n",
       "  font-size: smaller;\n",
       "  line-height: 1em;\n",
       "  font-family: monospace;\n",
       "  background-color: var(--sklearn-color-background);\n",
       "  border-radius: 1em;\n",
       "  height: 1em;\n",
       "  width: 1em;\n",
       "  text-decoration: none !important;\n",
       "  margin-left: 1ex;\n",
       "  /* unfitted */\n",
       "  border: var(--sklearn-color-unfitted-level-1) 1pt solid;\n",
       "  color: var(--sklearn-color-unfitted-level-1);\n",
       "}\n",
       "\n",
       ".sk-estimator-doc-link.fitted,\n",
       "a:link.sk-estimator-doc-link.fitted,\n",
       "a:visited.sk-estimator-doc-link.fitted {\n",
       "  /* fitted */\n",
       "  border: var(--sklearn-color-fitted-level-1) 1pt solid;\n",
       "  color: var(--sklearn-color-fitted-level-1);\n",
       "}\n",
       "\n",
       "/* On hover */\n",
       "div.sk-estimator:hover .sk-estimator-doc-link:hover,\n",
       ".sk-estimator-doc-link:hover,\n",
       "div.sk-label-container:hover .sk-estimator-doc-link:hover,\n",
       ".sk-estimator-doc-link:hover {\n",
       "  /* unfitted */\n",
       "  background-color: var(--sklearn-color-unfitted-level-3);\n",
       "  color: var(--sklearn-color-background);\n",
       "  text-decoration: none;\n",
       "}\n",
       "\n",
       "div.sk-estimator.fitted:hover .sk-estimator-doc-link.fitted:hover,\n",
       ".sk-estimator-doc-link.fitted:hover,\n",
       "div.sk-label-container:hover .sk-estimator-doc-link.fitted:hover,\n",
       ".sk-estimator-doc-link.fitted:hover {\n",
       "  /* fitted */\n",
       "  background-color: var(--sklearn-color-fitted-level-3);\n",
       "  color: var(--sklearn-color-background);\n",
       "  text-decoration: none;\n",
       "}\n",
       "\n",
       "/* Span, style for the box shown on hovering the info icon */\n",
       ".sk-estimator-doc-link span {\n",
       "  display: none;\n",
       "  z-index: 9999;\n",
       "  position: relative;\n",
       "  font-weight: normal;\n",
       "  right: .2ex;\n",
       "  padding: .5ex;\n",
       "  margin: .5ex;\n",
       "  width: min-content;\n",
       "  min-width: 20ex;\n",
       "  max-width: 50ex;\n",
       "  color: var(--sklearn-color-text);\n",
       "  box-shadow: 2pt 2pt 4pt #999;\n",
       "  /* unfitted */\n",
       "  background: var(--sklearn-color-unfitted-level-0);\n",
       "  border: .5pt solid var(--sklearn-color-unfitted-level-3);\n",
       "}\n",
       "\n",
       ".sk-estimator-doc-link.fitted span {\n",
       "  /* fitted */\n",
       "  background: var(--sklearn-color-fitted-level-0);\n",
       "  border: var(--sklearn-color-fitted-level-3);\n",
       "}\n",
       "\n",
       ".sk-estimator-doc-link:hover span {\n",
       "  display: block;\n",
       "}\n",
       "\n",
       "/* \"?\"-specific style due to the `<a>` HTML tag */\n",
       "\n",
       "#sk-container-id-1 a.estimator_doc_link {\n",
       "  float: right;\n",
       "  font-size: 1rem;\n",
       "  line-height: 1em;\n",
       "  font-family: monospace;\n",
       "  background-color: var(--sklearn-color-background);\n",
       "  border-radius: 1rem;\n",
       "  height: 1rem;\n",
       "  width: 1rem;\n",
       "  text-decoration: none;\n",
       "  /* unfitted */\n",
       "  color: var(--sklearn-color-unfitted-level-1);\n",
       "  border: var(--sklearn-color-unfitted-level-1) 1pt solid;\n",
       "}\n",
       "\n",
       "#sk-container-id-1 a.estimator_doc_link.fitted {\n",
       "  /* fitted */\n",
       "  border: var(--sklearn-color-fitted-level-1) 1pt solid;\n",
       "  color: var(--sklearn-color-fitted-level-1);\n",
       "}\n",
       "\n",
       "/* On hover */\n",
       "#sk-container-id-1 a.estimator_doc_link:hover {\n",
       "  /* unfitted */\n",
       "  background-color: var(--sklearn-color-unfitted-level-3);\n",
       "  color: var(--sklearn-color-background);\n",
       "  text-decoration: none;\n",
       "}\n",
       "\n",
       "#sk-container-id-1 a.estimator_doc_link.fitted:hover {\n",
       "  /* fitted */\n",
       "  background-color: var(--sklearn-color-fitted-level-3);\n",
       "}\n",
       "</style><div id=\"sk-container-id-1\" class=\"sk-top-container\"><div class=\"sk-text-repr-fallback\"><pre>GridSearchCV(cv=StratifiedKFold(n_splits=10, random_state=458, shuffle=True),\n",
       "             estimator=DecisionTreeClassifier(),\n",
       "             param_grid={&#x27;class_weight&#x27;: [None, &#x27;balanced&#x27;],\n",
       "                         &#x27;max_depth&#x27;: [None, 1, 2, 3, 4, 5],\n",
       "                         &#x27;min_samples_leaf&#x27;: [1, 5, 10],\n",
       "                         &#x27;min_samples_split&#x27;: [1, 5, 10]},\n",
       "             verbose=3)</pre><b>In a Jupyter environment, please rerun this cell to show the HTML representation or trust the notebook. <br />On GitHub, the HTML representation is unable to render, please try loading this page with nbviewer.org.</b></div><div class=\"sk-container\" hidden><div class=\"sk-item sk-dashed-wrapped\"><div class=\"sk-label-container\"><div class=\"sk-label fitted sk-toggleable\"><input class=\"sk-toggleable__control sk-hidden--visually\" id=\"sk-estimator-id-1\" type=\"checkbox\" ><label for=\"sk-estimator-id-1\" class=\"sk-toggleable__label fitted sk-toggleable__label-arrow fitted\">&nbsp;&nbsp;GridSearchCV<a class=\"sk-estimator-doc-link fitted\" rel=\"noreferrer\" target=\"_blank\" href=\"https://scikit-learn.org/1.4/modules/generated/sklearn.model_selection.GridSearchCV.html\">?<span>Documentation for GridSearchCV</span></a><span class=\"sk-estimator-doc-link fitted\">i<span>Fitted</span></span></label><div class=\"sk-toggleable__content fitted\"><pre>GridSearchCV(cv=StratifiedKFold(n_splits=10, random_state=458, shuffle=True),\n",
       "             estimator=DecisionTreeClassifier(),\n",
       "             param_grid={&#x27;class_weight&#x27;: [None, &#x27;balanced&#x27;],\n",
       "                         &#x27;max_depth&#x27;: [None, 1, 2, 3, 4, 5],\n",
       "                         &#x27;min_samples_leaf&#x27;: [1, 5, 10],\n",
       "                         &#x27;min_samples_split&#x27;: [1, 5, 10]},\n",
       "             verbose=3)</pre></div> </div></div><div class=\"sk-parallel\"><div class=\"sk-parallel-item\"><div class=\"sk-item\"><div class=\"sk-label-container\"><div class=\"sk-label fitted sk-toggleable\"><input class=\"sk-toggleable__control sk-hidden--visually\" id=\"sk-estimator-id-2\" type=\"checkbox\" ><label for=\"sk-estimator-id-2\" class=\"sk-toggleable__label fitted sk-toggleable__label-arrow fitted\">estimator: DecisionTreeClassifier</label><div class=\"sk-toggleable__content fitted\"><pre>DecisionTreeClassifier()</pre></div> </div></div><div class=\"sk-serial\"><div class=\"sk-item\"><div class=\"sk-estimator fitted sk-toggleable\"><input class=\"sk-toggleable__control sk-hidden--visually\" id=\"sk-estimator-id-3\" type=\"checkbox\" ><label for=\"sk-estimator-id-3\" class=\"sk-toggleable__label fitted sk-toggleable__label-arrow fitted\">&nbsp;DecisionTreeClassifier<a class=\"sk-estimator-doc-link fitted\" rel=\"noreferrer\" target=\"_blank\" href=\"https://scikit-learn.org/1.4/modules/generated/sklearn.tree.DecisionTreeClassifier.html\">?<span>Documentation for DecisionTreeClassifier</span></a></label><div class=\"sk-toggleable__content fitted\"><pre>DecisionTreeClassifier()</pre></div> </div></div></div></div></div></div></div></div></div>"
      ],
      "text/plain": [
       "GridSearchCV(cv=StratifiedKFold(n_splits=10, random_state=458, shuffle=True),\n",
       "             estimator=DecisionTreeClassifier(),\n",
       "             param_grid={'class_weight': [None, 'balanced'],\n",
       "                         'max_depth': [None, 1, 2, 3, 4, 5],\n",
       "                         'min_samples_leaf': [1, 5, 10],\n",
       "                         'min_samples_split': [1, 5, 10]},\n",
       "             verbose=3)"
      ]
     },
     "execution_count": 40,
     "metadata": {},
     "output_type": "execute_result"
    }
   ],
   "source": [
    "state = 458\n",
    "\n",
    "cv_obj = StratifiedKFold(n_splits=10, shuffle=True, random_state=state)\n",
    "\n",
    "grid_search = GridSearchCV(DecisionTreeClassifier(), param_grid, verbose=3, cv=cv_obj)\n",
    "\n",
    "grid_search.fit(fielding_training, gold_glove_train)"
   ]
  },
  {
   "cell_type": "code",
   "execution_count": 44,
   "id": "cb492327-192a-4af5-bd53-2fe010978a44",
   "metadata": {},
   "outputs": [
    {
     "data": {
      "text/plain": [
       "0.9881786297374212"
      ]
     },
     "execution_count": 44,
     "metadata": {},
     "output_type": "execute_result"
    }
   ],
   "source": [
    "grid_search.best_score_"
   ]
  },
  {
   "cell_type": "code",
   "execution_count": 40,
   "id": "8de98f65-5279-41f6-9966-560228573180",
   "metadata": {},
   "outputs": [
    {
     "data": {
      "text/plain": [
       "{'class_weight': None,\n",
       " 'max_depth': 1,\n",
       " 'min_samples_leaf': 1,\n",
       " 'min_samples_split': 5}"
      ]
     },
     "execution_count": 40,
     "metadata": {},
     "output_type": "execute_result"
    }
   ],
   "source": [
    "grid_search.best_params_"
   ]
  },
  {
   "cell_type": "code",
   "execution_count": 42,
   "id": "f9ef34c6-71cd-4be5-8f14-666ff20db382",
   "metadata": {},
   "outputs": [
    {
     "data": {
      "text/html": [
       "<style>#sk-container-id-2 {\n",
       "  /* Definition of color scheme common for light and dark mode */\n",
       "  --sklearn-color-text: black;\n",
       "  --sklearn-color-line: gray;\n",
       "  /* Definition of color scheme for unfitted estimators */\n",
       "  --sklearn-color-unfitted-level-0: #fff5e6;\n",
       "  --sklearn-color-unfitted-level-1: #f6e4d2;\n",
       "  --sklearn-color-unfitted-level-2: #ffe0b3;\n",
       "  --sklearn-color-unfitted-level-3: chocolate;\n",
       "  /* Definition of color scheme for fitted estimators */\n",
       "  --sklearn-color-fitted-level-0: #f0f8ff;\n",
       "  --sklearn-color-fitted-level-1: #d4ebff;\n",
       "  --sklearn-color-fitted-level-2: #b3dbfd;\n",
       "  --sklearn-color-fitted-level-3: cornflowerblue;\n",
       "\n",
       "  /* Specific color for light theme */\n",
       "  --sklearn-color-text-on-default-background: var(--sg-text-color, var(--theme-code-foreground, var(--jp-content-font-color1, black)));\n",
       "  --sklearn-color-background: var(--sg-background-color, var(--theme-background, var(--jp-layout-color0, white)));\n",
       "  --sklearn-color-border-box: var(--sg-text-color, var(--theme-code-foreground, var(--jp-content-font-color1, black)));\n",
       "  --sklearn-color-icon: #696969;\n",
       "\n",
       "  @media (prefers-color-scheme: dark) {\n",
       "    /* Redefinition of color scheme for dark theme */\n",
       "    --sklearn-color-text-on-default-background: var(--sg-text-color, var(--theme-code-foreground, var(--jp-content-font-color1, white)));\n",
       "    --sklearn-color-background: var(--sg-background-color, var(--theme-background, var(--jp-layout-color0, #111)));\n",
       "    --sklearn-color-border-box: var(--sg-text-color, var(--theme-code-foreground, var(--jp-content-font-color1, white)));\n",
       "    --sklearn-color-icon: #878787;\n",
       "  }\n",
       "}\n",
       "\n",
       "#sk-container-id-2 {\n",
       "  color: var(--sklearn-color-text);\n",
       "}\n",
       "\n",
       "#sk-container-id-2 pre {\n",
       "  padding: 0;\n",
       "}\n",
       "\n",
       "#sk-container-id-2 input.sk-hidden--visually {\n",
       "  border: 0;\n",
       "  clip: rect(1px 1px 1px 1px);\n",
       "  clip: rect(1px, 1px, 1px, 1px);\n",
       "  height: 1px;\n",
       "  margin: -1px;\n",
       "  overflow: hidden;\n",
       "  padding: 0;\n",
       "  position: absolute;\n",
       "  width: 1px;\n",
       "}\n",
       "\n",
       "#sk-container-id-2 div.sk-dashed-wrapped {\n",
       "  border: 1px dashed var(--sklearn-color-line);\n",
       "  margin: 0 0.4em 0.5em 0.4em;\n",
       "  box-sizing: border-box;\n",
       "  padding-bottom: 0.4em;\n",
       "  background-color: var(--sklearn-color-background);\n",
       "}\n",
       "\n",
       "#sk-container-id-2 div.sk-container {\n",
       "  /* jupyter's `normalize.less` sets `[hidden] { display: none; }`\n",
       "     but bootstrap.min.css set `[hidden] { display: none !important; }`\n",
       "     so we also need the `!important` here to be able to override the\n",
       "     default hidden behavior on the sphinx rendered scikit-learn.org.\n",
       "     See: https://github.com/scikit-learn/scikit-learn/issues/21755 */\n",
       "  display: inline-block !important;\n",
       "  position: relative;\n",
       "}\n",
       "\n",
       "#sk-container-id-2 div.sk-text-repr-fallback {\n",
       "  display: none;\n",
       "}\n",
       "\n",
       "div.sk-parallel-item,\n",
       "div.sk-serial,\n",
       "div.sk-item {\n",
       "  /* draw centered vertical line to link estimators */\n",
       "  background-image: linear-gradient(var(--sklearn-color-text-on-default-background), var(--sklearn-color-text-on-default-background));\n",
       "  background-size: 2px 100%;\n",
       "  background-repeat: no-repeat;\n",
       "  background-position: center center;\n",
       "}\n",
       "\n",
       "/* Parallel-specific style estimator block */\n",
       "\n",
       "#sk-container-id-2 div.sk-parallel-item::after {\n",
       "  content: \"\";\n",
       "  width: 100%;\n",
       "  border-bottom: 2px solid var(--sklearn-color-text-on-default-background);\n",
       "  flex-grow: 1;\n",
       "}\n",
       "\n",
       "#sk-container-id-2 div.sk-parallel {\n",
       "  display: flex;\n",
       "  align-items: stretch;\n",
       "  justify-content: center;\n",
       "  background-color: var(--sklearn-color-background);\n",
       "  position: relative;\n",
       "}\n",
       "\n",
       "#sk-container-id-2 div.sk-parallel-item {\n",
       "  display: flex;\n",
       "  flex-direction: column;\n",
       "}\n",
       "\n",
       "#sk-container-id-2 div.sk-parallel-item:first-child::after {\n",
       "  align-self: flex-end;\n",
       "  width: 50%;\n",
       "}\n",
       "\n",
       "#sk-container-id-2 div.sk-parallel-item:last-child::after {\n",
       "  align-self: flex-start;\n",
       "  width: 50%;\n",
       "}\n",
       "\n",
       "#sk-container-id-2 div.sk-parallel-item:only-child::after {\n",
       "  width: 0;\n",
       "}\n",
       "\n",
       "/* Serial-specific style estimator block */\n",
       "\n",
       "#sk-container-id-2 div.sk-serial {\n",
       "  display: flex;\n",
       "  flex-direction: column;\n",
       "  align-items: center;\n",
       "  background-color: var(--sklearn-color-background);\n",
       "  padding-right: 1em;\n",
       "  padding-left: 1em;\n",
       "}\n",
       "\n",
       "\n",
       "/* Toggleable style: style used for estimator/Pipeline/ColumnTransformer box that is\n",
       "clickable and can be expanded/collapsed.\n",
       "- Pipeline and ColumnTransformer use this feature and define the default style\n",
       "- Estimators will overwrite some part of the style using the `sk-estimator` class\n",
       "*/\n",
       "\n",
       "/* Pipeline and ColumnTransformer style (default) */\n",
       "\n",
       "#sk-container-id-2 div.sk-toggleable {\n",
       "  /* Default theme specific background. It is overwritten whether we have a\n",
       "  specific estimator or a Pipeline/ColumnTransformer */\n",
       "  background-color: var(--sklearn-color-background);\n",
       "}\n",
       "\n",
       "/* Toggleable label */\n",
       "#sk-container-id-2 label.sk-toggleable__label {\n",
       "  cursor: pointer;\n",
       "  display: block;\n",
       "  width: 100%;\n",
       "  margin-bottom: 0;\n",
       "  padding: 0.5em;\n",
       "  box-sizing: border-box;\n",
       "  text-align: center;\n",
       "}\n",
       "\n",
       "#sk-container-id-2 label.sk-toggleable__label-arrow:before {\n",
       "  /* Arrow on the left of the label */\n",
       "  content: \"▸\";\n",
       "  float: left;\n",
       "  margin-right: 0.25em;\n",
       "  color: var(--sklearn-color-icon);\n",
       "}\n",
       "\n",
       "#sk-container-id-2 label.sk-toggleable__label-arrow:hover:before {\n",
       "  color: var(--sklearn-color-text);\n",
       "}\n",
       "\n",
       "/* Toggleable content - dropdown */\n",
       "\n",
       "#sk-container-id-2 div.sk-toggleable__content {\n",
       "  max-height: 0;\n",
       "  max-width: 0;\n",
       "  overflow: hidden;\n",
       "  text-align: left;\n",
       "  /* unfitted */\n",
       "  background-color: var(--sklearn-color-unfitted-level-0);\n",
       "}\n",
       "\n",
       "#sk-container-id-2 div.sk-toggleable__content.fitted {\n",
       "  /* fitted */\n",
       "  background-color: var(--sklearn-color-fitted-level-0);\n",
       "}\n",
       "\n",
       "#sk-container-id-2 div.sk-toggleable__content pre {\n",
       "  margin: 0.2em;\n",
       "  border-radius: 0.25em;\n",
       "  color: var(--sklearn-color-text);\n",
       "  /* unfitted */\n",
       "  background-color: var(--sklearn-color-unfitted-level-0);\n",
       "}\n",
       "\n",
       "#sk-container-id-2 div.sk-toggleable__content.fitted pre {\n",
       "  /* unfitted */\n",
       "  background-color: var(--sklearn-color-fitted-level-0);\n",
       "}\n",
       "\n",
       "#sk-container-id-2 input.sk-toggleable__control:checked~div.sk-toggleable__content {\n",
       "  /* Expand drop-down */\n",
       "  max-height: 200px;\n",
       "  max-width: 100%;\n",
       "  overflow: auto;\n",
       "}\n",
       "\n",
       "#sk-container-id-2 input.sk-toggleable__control:checked~label.sk-toggleable__label-arrow:before {\n",
       "  content: \"▾\";\n",
       "}\n",
       "\n",
       "/* Pipeline/ColumnTransformer-specific style */\n",
       "\n",
       "#sk-container-id-2 div.sk-label input.sk-toggleable__control:checked~label.sk-toggleable__label {\n",
       "  color: var(--sklearn-color-text);\n",
       "  background-color: var(--sklearn-color-unfitted-level-2);\n",
       "}\n",
       "\n",
       "#sk-container-id-2 div.sk-label.fitted input.sk-toggleable__control:checked~label.sk-toggleable__label {\n",
       "  background-color: var(--sklearn-color-fitted-level-2);\n",
       "}\n",
       "\n",
       "/* Estimator-specific style */\n",
       "\n",
       "/* Colorize estimator box */\n",
       "#sk-container-id-2 div.sk-estimator input.sk-toggleable__control:checked~label.sk-toggleable__label {\n",
       "  /* unfitted */\n",
       "  background-color: var(--sklearn-color-unfitted-level-2);\n",
       "}\n",
       "\n",
       "#sk-container-id-2 div.sk-estimator.fitted input.sk-toggleable__control:checked~label.sk-toggleable__label {\n",
       "  /* fitted */\n",
       "  background-color: var(--sklearn-color-fitted-level-2);\n",
       "}\n",
       "\n",
       "#sk-container-id-2 div.sk-label label.sk-toggleable__label,\n",
       "#sk-container-id-2 div.sk-label label {\n",
       "  /* The background is the default theme color */\n",
       "  color: var(--sklearn-color-text-on-default-background);\n",
       "}\n",
       "\n",
       "/* On hover, darken the color of the background */\n",
       "#sk-container-id-2 div.sk-label:hover label.sk-toggleable__label {\n",
       "  color: var(--sklearn-color-text);\n",
       "  background-color: var(--sklearn-color-unfitted-level-2);\n",
       "}\n",
       "\n",
       "/* Label box, darken color on hover, fitted */\n",
       "#sk-container-id-2 div.sk-label.fitted:hover label.sk-toggleable__label.fitted {\n",
       "  color: var(--sklearn-color-text);\n",
       "  background-color: var(--sklearn-color-fitted-level-2);\n",
       "}\n",
       "\n",
       "/* Estimator label */\n",
       "\n",
       "#sk-container-id-2 div.sk-label label {\n",
       "  font-family: monospace;\n",
       "  font-weight: bold;\n",
       "  display: inline-block;\n",
       "  line-height: 1.2em;\n",
       "}\n",
       "\n",
       "#sk-container-id-2 div.sk-label-container {\n",
       "  text-align: center;\n",
       "}\n",
       "\n",
       "/* Estimator-specific */\n",
       "#sk-container-id-2 div.sk-estimator {\n",
       "  font-family: monospace;\n",
       "  border: 1px dotted var(--sklearn-color-border-box);\n",
       "  border-radius: 0.25em;\n",
       "  box-sizing: border-box;\n",
       "  margin-bottom: 0.5em;\n",
       "  /* unfitted */\n",
       "  background-color: var(--sklearn-color-unfitted-level-0);\n",
       "}\n",
       "\n",
       "#sk-container-id-2 div.sk-estimator.fitted {\n",
       "  /* fitted */\n",
       "  background-color: var(--sklearn-color-fitted-level-0);\n",
       "}\n",
       "\n",
       "/* on hover */\n",
       "#sk-container-id-2 div.sk-estimator:hover {\n",
       "  /* unfitted */\n",
       "  background-color: var(--sklearn-color-unfitted-level-2);\n",
       "}\n",
       "\n",
       "#sk-container-id-2 div.sk-estimator.fitted:hover {\n",
       "  /* fitted */\n",
       "  background-color: var(--sklearn-color-fitted-level-2);\n",
       "}\n",
       "\n",
       "/* Specification for estimator info (e.g. \"i\" and \"?\") */\n",
       "\n",
       "/* Common style for \"i\" and \"?\" */\n",
       "\n",
       ".sk-estimator-doc-link,\n",
       "a:link.sk-estimator-doc-link,\n",
       "a:visited.sk-estimator-doc-link {\n",
       "  float: right;\n",
       "  font-size: smaller;\n",
       "  line-height: 1em;\n",
       "  font-family: monospace;\n",
       "  background-color: var(--sklearn-color-background);\n",
       "  border-radius: 1em;\n",
       "  height: 1em;\n",
       "  width: 1em;\n",
       "  text-decoration: none !important;\n",
       "  margin-left: 1ex;\n",
       "  /* unfitted */\n",
       "  border: var(--sklearn-color-unfitted-level-1) 1pt solid;\n",
       "  color: var(--sklearn-color-unfitted-level-1);\n",
       "}\n",
       "\n",
       ".sk-estimator-doc-link.fitted,\n",
       "a:link.sk-estimator-doc-link.fitted,\n",
       "a:visited.sk-estimator-doc-link.fitted {\n",
       "  /* fitted */\n",
       "  border: var(--sklearn-color-fitted-level-1) 1pt solid;\n",
       "  color: var(--sklearn-color-fitted-level-1);\n",
       "}\n",
       "\n",
       "/* On hover */\n",
       "div.sk-estimator:hover .sk-estimator-doc-link:hover,\n",
       ".sk-estimator-doc-link:hover,\n",
       "div.sk-label-container:hover .sk-estimator-doc-link:hover,\n",
       ".sk-estimator-doc-link:hover {\n",
       "  /* unfitted */\n",
       "  background-color: var(--sklearn-color-unfitted-level-3);\n",
       "  color: var(--sklearn-color-background);\n",
       "  text-decoration: none;\n",
       "}\n",
       "\n",
       "div.sk-estimator.fitted:hover .sk-estimator-doc-link.fitted:hover,\n",
       ".sk-estimator-doc-link.fitted:hover,\n",
       "div.sk-label-container:hover .sk-estimator-doc-link.fitted:hover,\n",
       ".sk-estimator-doc-link.fitted:hover {\n",
       "  /* fitted */\n",
       "  background-color: var(--sklearn-color-fitted-level-3);\n",
       "  color: var(--sklearn-color-background);\n",
       "  text-decoration: none;\n",
       "}\n",
       "\n",
       "/* Span, style for the box shown on hovering the info icon */\n",
       ".sk-estimator-doc-link span {\n",
       "  display: none;\n",
       "  z-index: 9999;\n",
       "  position: relative;\n",
       "  font-weight: normal;\n",
       "  right: .2ex;\n",
       "  padding: .5ex;\n",
       "  margin: .5ex;\n",
       "  width: min-content;\n",
       "  min-width: 20ex;\n",
       "  max-width: 50ex;\n",
       "  color: var(--sklearn-color-text);\n",
       "  box-shadow: 2pt 2pt 4pt #999;\n",
       "  /* unfitted */\n",
       "  background: var(--sklearn-color-unfitted-level-0);\n",
       "  border: .5pt solid var(--sklearn-color-unfitted-level-3);\n",
       "}\n",
       "\n",
       ".sk-estimator-doc-link.fitted span {\n",
       "  /* fitted */\n",
       "  background: var(--sklearn-color-fitted-level-0);\n",
       "  border: var(--sklearn-color-fitted-level-3);\n",
       "}\n",
       "\n",
       ".sk-estimator-doc-link:hover span {\n",
       "  display: block;\n",
       "}\n",
       "\n",
       "/* \"?\"-specific style due to the `<a>` HTML tag */\n",
       "\n",
       "#sk-container-id-2 a.estimator_doc_link {\n",
       "  float: right;\n",
       "  font-size: 1rem;\n",
       "  line-height: 1em;\n",
       "  font-family: monospace;\n",
       "  background-color: var(--sklearn-color-background);\n",
       "  border-radius: 1rem;\n",
       "  height: 1rem;\n",
       "  width: 1rem;\n",
       "  text-decoration: none;\n",
       "  /* unfitted */\n",
       "  color: var(--sklearn-color-unfitted-level-1);\n",
       "  border: var(--sklearn-color-unfitted-level-1) 1pt solid;\n",
       "}\n",
       "\n",
       "#sk-container-id-2 a.estimator_doc_link.fitted {\n",
       "  /* fitted */\n",
       "  border: var(--sklearn-color-fitted-level-1) 1pt solid;\n",
       "  color: var(--sklearn-color-fitted-level-1);\n",
       "}\n",
       "\n",
       "/* On hover */\n",
       "#sk-container-id-2 a.estimator_doc_link:hover {\n",
       "  /* unfitted */\n",
       "  background-color: var(--sklearn-color-unfitted-level-3);\n",
       "  color: var(--sklearn-color-background);\n",
       "  text-decoration: none;\n",
       "}\n",
       "\n",
       "#sk-container-id-2 a.estimator_doc_link.fitted:hover {\n",
       "  /* fitted */\n",
       "  background-color: var(--sklearn-color-fitted-level-3);\n",
       "}\n",
       "</style><div id=\"sk-container-id-2\" class=\"sk-top-container\"><div class=\"sk-text-repr-fallback\"><pre>DecisionTreeClassifier(max_depth=1, min_samples_split=5)</pre><b>In a Jupyter environment, please rerun this cell to show the HTML representation or trust the notebook. <br />On GitHub, the HTML representation is unable to render, please try loading this page with nbviewer.org.</b></div><div class=\"sk-container\" hidden><div class=\"sk-item\"><div class=\"sk-estimator fitted sk-toggleable\"><input class=\"sk-toggleable__control sk-hidden--visually\" id=\"sk-estimator-id-4\" type=\"checkbox\" checked><label for=\"sk-estimator-id-4\" class=\"sk-toggleable__label fitted sk-toggleable__label-arrow fitted\">&nbsp;&nbsp;DecisionTreeClassifier<a class=\"sk-estimator-doc-link fitted\" rel=\"noreferrer\" target=\"_blank\" href=\"https://scikit-learn.org/1.4/modules/generated/sklearn.tree.DecisionTreeClassifier.html\">?<span>Documentation for DecisionTreeClassifier</span></a><span class=\"sk-estimator-doc-link fitted\">i<span>Fitted</span></span></label><div class=\"sk-toggleable__content fitted\"><pre>DecisionTreeClassifier(max_depth=1, min_samples_split=5)</pre></div> </div></div></div></div>"
      ],
      "text/plain": [
       "DecisionTreeClassifier(max_depth=1, min_samples_split=5)"
      ]
     },
     "execution_count": 42,
     "metadata": {},
     "output_type": "execute_result"
    }
   ],
   "source": [
    "best_model_tree = grid_search.best_estimator_\n",
    "best_model_tree"
   ]
  },
  {
   "cell_type": "markdown",
   "id": "c08c2113-50c5-49bd-ae67-c4d3a49de032",
   "metadata": {},
   "source": [
    "### Random Forest Grid Search"
   ]
  },
  {
   "cell_type": "code",
   "execution_count": 45,
   "id": "530dbf00-8f8d-4162-97fc-2160b003b345",
   "metadata": {},
   "outputs": [
    {
     "data": {
      "text/plain": [
       "{'n_estimators': array([ 10, 100], dtype=int32),\n",
       " 'max_depth': [None, 1, 2, 3, 4, 5],\n",
       " 'min_samples_split': [1, 5, 10],\n",
       " 'min_samples_leaf': [1, 5, 10],\n",
       " 'class_weight': [None, 'balanced']}"
      ]
     },
     "execution_count": 45,
     "metadata": {},
     "output_type": "execute_result"
    }
   ],
   "source": [
    "rf_param_grid = {'n_estimators': 10 ** np.arange(1, 3),\n",
    "              'max_depth': [None, 1,2,3,4,5],\n",
    "              'min_samples_split' : [1, 5, 10],\n",
    "               'min_samples_leaf' : [1, 5, 10],\n",
    "              'class_weight':[None, \"balanced\"]\n",
    "              }\n",
    "\n",
    "rf_param_grid"
   ]
  },
  {
   "cell_type": "code",
   "execution_count": 10,
   "id": "91609de3-fca0-4bd3-a487-989d3292d307",
   "metadata": {},
   "outputs": [],
   "source": [
    "from sklearn.ensemble import RandomForestClassifier"
   ]
  },
  {
   "cell_type": "code",
   "execution_count": null,
   "id": "91de1ff2-1495-4a06-ab59-214e3cf8f8d0",
   "metadata": {},
   "outputs": [],
   "source": [
    "rf_grid_search = GridSearchCV(RandomForestClassifier(), rf_param_grid, verbose=3, cv=cv_obj)\n",
    "\n",
    "rf_grid_search.fit(fielding_training, gold_glove_train)"
   ]
  },
  {
   "cell_type": "code",
   "execution_count": null,
   "id": "e9b95cf7-5f36-4e94-b7d9-86be1fa24e4c",
   "metadata": {},
   "outputs": [],
   "source": [
    "rf_grid_search.best_score_"
   ]
  },
  {
   "cell_type": "code",
   "execution_count": null,
   "id": "661871e7-b417-4f2a-a07c-c265d2901496",
   "metadata": {},
   "outputs": [],
   "source": [
    "rf_grid_search.best_params_"
   ]
  },
  {
   "cell_type": "code",
   "execution_count": null,
   "id": "a0177f99-3a17-4502-9603-b81fe01a057e",
   "metadata": {},
   "outputs": [],
   "source": [
    "best_model_rf = rf_grid_search.best_estimator_\n",
    "best_model_rf"
   ]
  },
  {
   "cell_type": "markdown",
   "id": "8d959767-1de4-4084-97ad-56f9b774986c",
   "metadata": {},
   "source": [
    "### Comparing Scores"
   ]
  },
  {
   "cell_type": "code",
   "execution_count": null,
   "id": "cb1641ac-60f0-47d9-8e08-310fe968803d",
   "metadata": {},
   "outputs": [],
   "source": [
    "rf_grid_search.best_score_ > grid_search.best_score_"
   ]
  },
  {
   "cell_type": "markdown",
   "id": "804d8a86-12d9-45bc-97f7-3078163843e8",
   "metadata": {},
   "source": [
    "### Measuring Performance"
   ]
  },
  {
   "cell_type": "code",
   "execution_count": null,
   "id": "7129d707-33cd-4a63-bfb1-ec42aabfcb24",
   "metadata": {},
   "outputs": [],
   "source": [
    "gold_glove_validation_pred_rf = rf_grid_search.predict(fielding_validation)"
   ]
  },
  {
   "cell_type": "code",
   "execution_count": null,
   "id": "9ae912e0-df57-4a68-b959-fd59f4871cdc",
   "metadata": {},
   "outputs": [],
   "source": [
    "get_metrics(gold_glove_validation, gold_glove_validation_pred_rf)"
   ]
  },
  {
   "cell_type": "markdown",
   "id": "6e6c85d8-56f2-4ae0-8acc-8b35ba41feab",
   "metadata": {
    "jp-MarkdownHeadingCollapsed": true
   },
   "source": [
    "## Fitting the Best Model"
   ]
  },
  {
   "cell_type": "code",
   "execution_count": null,
   "id": "9d8fc5b6-6cb7-43a0-8a0f-56f29460aa20",
   "metadata": {},
   "outputs": [],
   "source": [
    "forest = RandomForestClassifier(min_samples_leaf=5, min_samples_split=10, n_estimators=10)\n",
    "forest.fit(fielding_training, gold_glove_train)"
   ]
  },
  {
   "cell_type": "markdown",
   "id": "c7795f19-f3a0-428c-9786-326134138fe3",
   "metadata": {
    "jp-MarkdownHeadingCollapsed": true
   },
   "source": [
    "## ROC Curve"
   ]
  },
  {
   "cell_type": "code",
   "execution_count": null,
   "id": "09928668-a5ed-4ba5-a50b-4fabfaac966b",
   "metadata": {},
   "outputs": [],
   "source": [
    "from sklearn.metrics import RocCurveDisplay\n",
    "\n",
    "plt.rcParams[\"figure.figsize\"] = (8,6)\n",
    "\n",
    "RocCurveDisplay.from_estimator(forest, fielding_training, gold_glove_train)\n",
    "\n",
    "plt.show()"
   ]
  },
  {
   "cell_type": "markdown",
   "id": "2d4c90a9-6bb5-4545-b5e1-46e233636a27",
   "metadata": {
    "jp-MarkdownHeadingCollapsed": true
   },
   "source": [
    "## AUC"
   ]
  },
  {
   "cell_type": "code",
   "execution_count": 11,
   "id": "337a6225-5759-4b64-bcb1-90e35e705dd6",
   "metadata": {},
   "outputs": [],
   "source": [
    "def get_class_prob_df(clf, X):\n",
    "    \"\"\" Return a dataframe of class probabilities.\n",
    "\n",
    "    Arg:\n",
    "        clf:  A fitted model object\n",
    "        X:    The matrix of (test) features.\n",
    "    Returns: A dataframe of class probabilities\n",
    "    \"\"\"\n",
    "    return pd.DataFrame(clf.predict_proba(X), columns=clf.classes_)"
   ]
  },
  {
   "cell_type": "code",
   "execution_count": null,
   "id": "f0b362f5-60ad-40fb-b1b3-b1d2284bd608",
   "metadata": {},
   "outputs": [],
   "source": [
    "y_test_probs = get_class_prob_df(forest, fielding_validation)\n",
    "\n",
    "y_test_probs"
   ]
  },
  {
   "cell_type": "code",
   "execution_count": null,
   "id": "37326024-c3a7-47aa-b8c4-a784ee965ce5",
   "metadata": {},
   "outputs": [],
   "source": [
    "from sklearn.metrics import roc_auc_score\n",
    "\n",
    "roc_auc_score(gold_glove_validation, y_test_probs['Yes'])"
   ]
  },
  {
   "cell_type": "markdown",
   "id": "dfbb5059-d459-4e0e-8c0a-d17e5793f3ca",
   "metadata": {
    "jp-MarkdownHeadingCollapsed": true
   },
   "source": [
    "## Balanced Success"
   ]
  },
  {
   "cell_type": "code",
   "execution_count": null,
   "id": "1d424831-04a0-4adb-855d-82718a58424a",
   "metadata": {},
   "outputs": [],
   "source": [
    "forest = RandomForestClassifier(min_samples_leaf=5, min_samples_split=10, n_estimators=10)\n",
    "forest.fit(fielding_training, gold_glove_train)\n",
    "\n",
    "y_test_pred = forest.predict(fielding_validation)\n",
    "y_test_prob = get_class_prob_df(forest, fielding_validation)"
   ]
  },
  {
   "cell_type": "code",
   "execution_count": null,
   "id": "d885d52d-9fe9-4ead-a0ff-c665d6208c25",
   "metadata": {},
   "outputs": [],
   "source": [
    "forest2 = RandomForestClassifier()\n",
    "forest2.fit(fielding_training, gold_glove_train)\n",
    "\n",
    "y_test_pred2 = forest.predict(fielding_validation)\n",
    "y_test_prob2 = get_class_prob_df(forest2, fielding_validation)"
   ]
  },
  {
   "cell_type": "code",
   "execution_count": null,
   "id": "c51843be-4f81-4a58-8e77-a4e970e8d098",
   "metadata": {},
   "outputs": [],
   "source": [
    "get_metrics(gold_glove_validation, y_test_pred)"
   ]
  },
  {
   "cell_type": "code",
   "execution_count": null,
   "id": "444f72a2-48e5-4485-8194-6021df8d6c7e",
   "metadata": {},
   "outputs": [],
   "source": [
    "get_metrics(gold_glove_validation, y_test_pred2)"
   ]
  },
  {
   "cell_type": "code",
   "execution_count": null,
   "id": "5e31009d-5630-454f-88af-db8d02157384",
   "metadata": {},
   "outputs": [],
   "source": [
    "ax = plt.gca()\n",
    "\n",
    "RocCurveDisplay.from_estimator(forest, fielding_validation, gold_glove_validation, ax = ax, name = \"Random Forest\")\n",
    "RocCurveDisplay.from_estimator(forest2, fielding_validation, gold_glove_validation, ax = ax, name = \"Default Random Forest\")\n",
    "\n",
    "plt.show()"
   ]
  },
  {
   "cell_type": "code",
   "execution_count": null,
   "id": "7410f322-5703-475d-89e4-a7481036be97",
   "metadata": {},
   "outputs": [],
   "source": [
    "roc_auc_score(gold_glove_validation, y_test_probs['Yes'])"
   ]
  },
  {
   "cell_type": "code",
   "execution_count": null,
   "id": "e896fb17-9168-4473-8d1c-c445c4f5e869",
   "metadata": {},
   "outputs": [],
   "source": [
    "roc_auc_score(gold_glove_validation, y_test_prob2['Yes'])"
   ]
  },
  {
   "cell_type": "markdown",
   "id": "1e5d426c-2af4-4c75-8787-479575d0fd74",
   "metadata": {
    "jp-MarkdownHeadingCollapsed": true
   },
   "source": [
    "# Regression Problem"
   ]
  },
  {
   "cell_type": "markdown",
   "id": "22d8606a-b905-4503-ba6f-57939e558485",
   "metadata": {
    "jp-MarkdownHeadingCollapsed": true
   },
   "source": [
    "## Preparing Data"
   ]
  },
  {
   "cell_type": "code",
   "execution_count": 28,
   "id": "e383fe96-7f8c-4bb2-ad55-e064af79ea70",
   "metadata": {},
   "outputs": [
    {
     "data": {
      "text/plain": [
       "['yearID', 'teamID', 'lgID', 'playerID', 'salary']"
      ]
     },
     "execution_count": 28,
     "metadata": {},
     "output_type": "execute_result"
    }
   ],
   "source": [
    "salaries.columns"
   ]
  },
  {
   "cell_type": "code",
   "execution_count": 50,
   "id": "f6e818f8-11b8-4e1a-a274-a158d746b0b6",
   "metadata": {},
   "outputs": [],
   "source": [
    "salaries_training = salaries_final.filter(pl.col('Training-Validation') == 'Training').drop('playerID','yearID','salary', 'Training-Validation')\n",
    "salary_train = salaries_final.filter(pl.col('Training-Validation') == 'Training').drop('playerID','yearID','Training-Validation').select('salary')\n",
    "\n",
    "salaries_validation = salaries_final.filter(pl.col('Training-Validation') == 'Validation').drop('playerID','yearID','salary', 'Training-Validation')\n",
    "salary_validation = salaries_final.filter(pl.col('Training-Validation') == 'Validation').drop('playerID','yearID','Training-Validation').select('salary')\n",
    "\n",
    "salaries_training = salaries_training.to_pandas()\n",
    "salary_train = salary_train.to_pandas()\n",
    "\n",
    "salaries_validation = salaries_validation.to_pandas()\n",
    "salary_validation = salary_validation.to_pandas()\n"
   ]
  },
  {
   "cell_type": "code",
   "execution_count": 52,
   "id": "7dd04007-ab69-475a-8396-e7ca4533e924",
   "metadata": {},
   "outputs": [],
   "source": [
    "from sklearn.tree import DecisionTreeRegressor\n",
    "from sklearn.ensemble import RandomForestRegressor"
   ]
  },
  {
   "cell_type": "markdown",
   "id": "7c7465d2-b83f-4d08-a73f-ece8c99785b1",
   "metadata": {
    "jp-MarkdownHeadingCollapsed": true
   },
   "source": [
    "## Tree Grid Search"
   ]
  },
  {
   "cell_type": "code",
   "execution_count": 55,
   "id": "976e4580-7d0b-4331-aafc-3c11ac46a047",
   "metadata": {},
   "outputs": [
    {
     "name": "stdout",
     "output_type": "stream",
     "text": [
      "Fitting 10 folds for each of 36 candidates, totalling 360 fits\n",
      "[CV 1/10] END max_depth=None, min_samples_leaf=1, min_samples_split=2;, score=-0.560 total time=   0.0s\n"
     ]
    },
    {
     "name": "stderr",
     "output_type": "stream",
     "text": [
      "C:\\Users\\ben8h\\anaconda3\\Lib\\site-packages\\sklearn\\model_selection\\_split.py:737: UserWarning: The least populated class in y has only 1 members, which is less than n_splits=10.\n",
      "  warnings.warn(\n"
     ]
    },
    {
     "name": "stdout",
     "output_type": "stream",
     "text": [
      "[CV 2/10] END max_depth=None, min_samples_leaf=1, min_samples_split=2;, score=-0.741 total time=   0.0s\n",
      "[CV 3/10] END max_depth=None, min_samples_leaf=1, min_samples_split=2;, score=-0.706 total time=   0.0s\n",
      "[CV 4/10] END max_depth=None, min_samples_leaf=1, min_samples_split=2;, score=-0.427 total time=   0.0s\n",
      "[CV 5/10] END max_depth=None, min_samples_leaf=1, min_samples_split=2;, score=-0.752 total time=   0.0s\n",
      "[CV 6/10] END max_depth=None, min_samples_leaf=1, min_samples_split=2;, score=-0.335 total time=   0.0s\n",
      "[CV 7/10] END max_depth=None, min_samples_leaf=1, min_samples_split=2;, score=-0.698 total time=   0.0s\n",
      "[CV 8/10] END max_depth=None, min_samples_leaf=1, min_samples_split=2;, score=-0.529 total time=   0.0s\n",
      "[CV 9/10] END max_depth=None, min_samples_leaf=1, min_samples_split=2;, score=-0.684 total time=   0.0s\n",
      "[CV 10/10] END max_depth=None, min_samples_leaf=1, min_samples_split=2;, score=-0.332 total time=   0.0s\n",
      "[CV 1/10] END max_depth=None, min_samples_leaf=1, min_samples_split=5;, score=-0.513 total time=   0.0s\n",
      "[CV 2/10] END max_depth=None, min_samples_leaf=1, min_samples_split=5;, score=-0.392 total time=   0.0s\n",
      "[CV 3/10] END max_depth=None, min_samples_leaf=1, min_samples_split=5;, score=-0.626 total time=   0.0s\n",
      "[CV 4/10] END max_depth=None, min_samples_leaf=1, min_samples_split=5;, score=-0.435 total time=   0.0s\n",
      "[CV 5/10] END max_depth=None, min_samples_leaf=1, min_samples_split=5;, score=-0.457 total time=   0.0s\n",
      "[CV 6/10] END max_depth=None, min_samples_leaf=1, min_samples_split=5;, score=-0.293 total time=   0.0s\n",
      "[CV 7/10] END max_depth=None, min_samples_leaf=1, min_samples_split=5;, score=-0.559 total time=   0.0s\n",
      "[CV 8/10] END max_depth=None, min_samples_leaf=1, min_samples_split=5;, score=-0.513 total time=   0.0s\n",
      "[CV 9/10] END max_depth=None, min_samples_leaf=1, min_samples_split=5;, score=-0.638 total time=   0.0s\n",
      "[CV 10/10] END max_depth=None, min_samples_leaf=1, min_samples_split=5;, score=-0.307 total time=   0.0s\n",
      "[CV 1/10] END max_depth=None, min_samples_leaf=1, min_samples_split=10;, score=-0.402 total time=   0.0s\n",
      "[CV 2/10] END max_depth=None, min_samples_leaf=1, min_samples_split=10;, score=-0.284 total time=   0.0s\n",
      "[CV 3/10] END max_depth=None, min_samples_leaf=1, min_samples_split=10;, score=-0.446 total time=   0.0s\n",
      "[CV 4/10] END max_depth=None, min_samples_leaf=1, min_samples_split=10;, score=-0.348 total time=   0.0s\n",
      "[CV 5/10] END max_depth=None, min_samples_leaf=1, min_samples_split=10;, score=-0.295 total time=   0.0s\n",
      "[CV 6/10] END max_depth=None, min_samples_leaf=1, min_samples_split=10;, score=-0.165 total time=   0.0s\n",
      "[CV 7/10] END max_depth=None, min_samples_leaf=1, min_samples_split=10;, score=-0.471 total time=   0.0s\n",
      "[CV 8/10] END max_depth=None, min_samples_leaf=1, min_samples_split=10;, score=-0.382 total time=   0.0s\n",
      "[CV 9/10] END max_depth=None, min_samples_leaf=1, min_samples_split=10;, score=-0.480 total time=   0.0s\n",
      "[CV 10/10] END max_depth=None, min_samples_leaf=1, min_samples_split=10;, score=-0.164 total time=   0.0s\n",
      "[CV 1/10] END max_depth=None, min_samples_leaf=5, min_samples_split=2;, score=-0.226 total time=   0.0s\n",
      "[CV 2/10] END max_depth=None, min_samples_leaf=5, min_samples_split=2;, score=-0.143 total time=   0.0s\n",
      "[CV 3/10] END max_depth=None, min_samples_leaf=5, min_samples_split=2;, score=-0.226 total time=   0.0s\n",
      "[CV 4/10] END max_depth=None, min_samples_leaf=5, min_samples_split=2;, score=-0.143 total time=   0.0s\n",
      "[CV 5/10] END max_depth=None, min_samples_leaf=5, min_samples_split=2;, score=-0.156 total time=   0.0s\n",
      "[CV 6/10] END max_depth=None, min_samples_leaf=5, min_samples_split=2;, score=-0.103 total time=   0.0s\n",
      "[CV 7/10] END max_depth=None, min_samples_leaf=5, min_samples_split=2;, score=-0.108 total time=   0.0s\n",
      "[CV 8/10] END max_depth=None, min_samples_leaf=5, min_samples_split=2;, score=-0.251 total time=   0.0s\n",
      "[CV 9/10] END max_depth=None, min_samples_leaf=5, min_samples_split=2;, score=-0.205 total time=   0.0s\n",
      "[CV 10/10] END max_depth=None, min_samples_leaf=5, min_samples_split=2;, score=-0.129 total time=   0.0s\n",
      "[CV 1/10] END max_depth=None, min_samples_leaf=5, min_samples_split=5;, score=-0.227 total time=   0.0s\n",
      "[CV 2/10] END max_depth=None, min_samples_leaf=5, min_samples_split=5;, score=-0.155 total time=   0.0s\n",
      "[CV 3/10] END max_depth=None, min_samples_leaf=5, min_samples_split=5;, score=-0.220 total time=   0.0s\n",
      "[CV 4/10] END max_depth=None, min_samples_leaf=5, min_samples_split=5;, score=-0.148 total time=   0.0s\n",
      "[CV 5/10] END max_depth=None, min_samples_leaf=5, min_samples_split=5;, score=-0.160 total time=   0.0s\n",
      "[CV 6/10] END max_depth=None, min_samples_leaf=5, min_samples_split=5;, score=-0.103 total time=   0.0s\n",
      "[CV 7/10] END max_depth=None, min_samples_leaf=5, min_samples_split=5;, score=-0.109 total time=   0.0s\n",
      "[CV 8/10] END max_depth=None, min_samples_leaf=5, min_samples_split=5;, score=-0.251 total time=   0.0s\n",
      "[CV 9/10] END max_depth=None, min_samples_leaf=5, min_samples_split=5;, score=-0.204 total time=   0.0s\n",
      "[CV 10/10] END max_depth=None, min_samples_leaf=5, min_samples_split=5;, score=-0.129 total time=   0.0s\n",
      "[CV 1/10] END max_depth=None, min_samples_leaf=5, min_samples_split=10;, score=-0.226 total time=   0.0s\n",
      "[CV 2/10] END max_depth=None, min_samples_leaf=5, min_samples_split=10;, score=-0.144 total time=   0.0s\n",
      "[CV 3/10] END max_depth=None, min_samples_leaf=5, min_samples_split=10;, score=-0.227 total time=   0.0s\n",
      "[CV 4/10] END max_depth=None, min_samples_leaf=5, min_samples_split=10;, score=-0.149 total time=   0.0s\n",
      "[CV 5/10] END max_depth=None, min_samples_leaf=5, min_samples_split=10;, score=-0.184 total time=   0.0s\n",
      "[CV 6/10] END max_depth=None, min_samples_leaf=5, min_samples_split=10;, score=-0.104 total time=   0.0s\n",
      "[CV 7/10] END max_depth=None, min_samples_leaf=5, min_samples_split=10;, score=-0.117 total time=   0.0s\n",
      "[CV 8/10] END max_depth=None, min_samples_leaf=5, min_samples_split=10;, score=-0.236 total time=   0.0s\n",
      "[CV 9/10] END max_depth=None, min_samples_leaf=5, min_samples_split=10;, score=-0.200 total time=   0.0s\n",
      "[CV 10/10] END max_depth=None, min_samples_leaf=5, min_samples_split=10;, score=-0.127 total time=   0.0s\n",
      "[CV 1/10] END max_depth=None, min_samples_leaf=10, min_samples_split=2;, score=0.010 total time=   0.0s\n",
      "[CV 2/10] END max_depth=None, min_samples_leaf=10, min_samples_split=2;, score=0.067 total time=   0.0s\n",
      "[CV 3/10] END max_depth=None, min_samples_leaf=10, min_samples_split=2;, score=0.057 total time=   0.0s\n",
      "[CV 4/10] END max_depth=None, min_samples_leaf=10, min_samples_split=2;, score=-0.005 total time=   0.0s\n",
      "[CV 5/10] END max_depth=None, min_samples_leaf=10, min_samples_split=2;, score=-0.025 total time=   0.0s\n",
      "[CV 6/10] END max_depth=None, min_samples_leaf=10, min_samples_split=2;, score=0.013 total time=   0.0s\n",
      "[CV 7/10] END max_depth=None, min_samples_leaf=10, min_samples_split=2;, score=-0.070 total time=   0.0s\n",
      "[CV 8/10] END max_depth=None, min_samples_leaf=10, min_samples_split=2;, score=-0.118 total time=   0.0s\n",
      "[CV 9/10] END max_depth=None, min_samples_leaf=10, min_samples_split=2;, score=-0.125 total time=   0.0s\n",
      "[CV 10/10] END max_depth=None, min_samples_leaf=10, min_samples_split=2;, score=-0.020 total time=   0.0s\n",
      "[CV 1/10] END max_depth=None, min_samples_leaf=10, min_samples_split=5;, score=0.010 total time=   0.0s\n",
      "[CV 2/10] END max_depth=None, min_samples_leaf=10, min_samples_split=5;, score=0.067 total time=   0.0s\n",
      "[CV 3/10] END max_depth=None, min_samples_leaf=10, min_samples_split=5;, score=0.057 total time=   0.0s\n",
      "[CV 4/10] END max_depth=None, min_samples_leaf=10, min_samples_split=5;, score=-0.005 total time=   0.0s\n",
      "[CV 5/10] END max_depth=None, min_samples_leaf=10, min_samples_split=5;, score=-0.025 total time=   0.0s\n",
      "[CV 6/10] END max_depth=None, min_samples_leaf=10, min_samples_split=5;, score=0.017 total time=   0.0s\n",
      "[CV 7/10] END max_depth=None, min_samples_leaf=10, min_samples_split=5;, score=-0.070 total time=   0.0s\n",
      "[CV 8/10] END max_depth=None, min_samples_leaf=10, min_samples_split=5;, score=-0.118 total time=   0.0s\n",
      "[CV 9/10] END max_depth=None, min_samples_leaf=10, min_samples_split=5;, score=-0.131 total time=   0.0s\n",
      "[CV 10/10] END max_depth=None, min_samples_leaf=10, min_samples_split=5;, score=-0.020 total time=   0.0s\n",
      "[CV 1/10] END max_depth=None, min_samples_leaf=10, min_samples_split=10;, score=0.010 total time=   0.0s\n",
      "[CV 2/10] END max_depth=None, min_samples_leaf=10, min_samples_split=10;, score=0.066 total time=   0.0s\n",
      "[CV 3/10] END max_depth=None, min_samples_leaf=10, min_samples_split=10;, score=0.057 total time=   0.0s\n",
      "[CV 4/10] END max_depth=None, min_samples_leaf=10, min_samples_split=10;, score=-0.005 total time=   0.0s\n",
      "[CV 5/10] END max_depth=None, min_samples_leaf=10, min_samples_split=10;, score=-0.025 total time=   0.0s\n",
      "[CV 6/10] END max_depth=None, min_samples_leaf=10, min_samples_split=10;, score=0.016 total time=   0.0s\n",
      "[CV 7/10] END max_depth=None, min_samples_leaf=10, min_samples_split=10;, score=-0.070 total time=   0.0s\n",
      "[CV 8/10] END max_depth=None, min_samples_leaf=10, min_samples_split=10;, score=-0.118 total time=   0.0s\n",
      "[CV 9/10] END max_depth=None, min_samples_leaf=10, min_samples_split=10;, score=-0.125 total time=   0.0s\n",
      "[CV 10/10] END max_depth=None, min_samples_leaf=10, min_samples_split=10;, score=-0.020 total time=   0.0s\n",
      "[CV 1/10] END max_depth=3, min_samples_leaf=1, min_samples_split=2;, score=0.095 total time=   0.0s\n",
      "[CV 2/10] END max_depth=3, min_samples_leaf=1, min_samples_split=2;, score=0.094 total time=   0.0s\n",
      "[CV 3/10] END max_depth=3, min_samples_leaf=1, min_samples_split=2;, score=0.128 total time=   0.0s\n",
      "[CV 4/10] END max_depth=3, min_samples_leaf=1, min_samples_split=2;, score=0.072 total time=   0.0s\n",
      "[CV 5/10] END max_depth=3, min_samples_leaf=1, min_samples_split=2;, score=0.117 total time=   0.0s\n",
      "[CV 6/10] END max_depth=3, min_samples_leaf=1, min_samples_split=2;, score=0.092 total time=   0.0s\n",
      "[CV 7/10] END max_depth=3, min_samples_leaf=1, min_samples_split=2;, score=0.108 total time=   0.0s\n",
      "[CV 8/10] END max_depth=3, min_samples_leaf=1, min_samples_split=2;, score=0.094 total time=   0.0s\n",
      "[CV 9/10] END max_depth=3, min_samples_leaf=1, min_samples_split=2;, score=0.119 total time=   0.0s\n",
      "[CV 10/10] END max_depth=3, min_samples_leaf=1, min_samples_split=2;, score=0.115 total time=   0.0s\n",
      "[CV 1/10] END max_depth=3, min_samples_leaf=1, min_samples_split=5;, score=0.095 total time=   0.0s\n",
      "[CV 2/10] END max_depth=3, min_samples_leaf=1, min_samples_split=5;, score=0.094 total time=   0.0s\n",
      "[CV 3/10] END max_depth=3, min_samples_leaf=1, min_samples_split=5;, score=0.128 total time=   0.0s\n",
      "[CV 4/10] END max_depth=3, min_samples_leaf=1, min_samples_split=5;, score=0.072 total time=   0.0s\n",
      "[CV 5/10] END max_depth=3, min_samples_leaf=1, min_samples_split=5;, score=0.117 total time=   0.0s\n",
      "[CV 6/10] END max_depth=3, min_samples_leaf=1, min_samples_split=5;, score=0.092 total time=   0.0s\n",
      "[CV 7/10] END max_depth=3, min_samples_leaf=1, min_samples_split=5;, score=0.108 total time=   0.0s\n",
      "[CV 8/10] END max_depth=3, min_samples_leaf=1, min_samples_split=5;, score=0.094 total time=   0.0s\n",
      "[CV 9/10] END max_depth=3, min_samples_leaf=1, min_samples_split=5;, score=0.119 total time=   0.0s\n",
      "[CV 10/10] END max_depth=3, min_samples_leaf=1, min_samples_split=5;, score=0.115 total time=   0.0s\n",
      "[CV 1/10] END max_depth=3, min_samples_leaf=1, min_samples_split=10;, score=0.095 total time=   0.0s\n",
      "[CV 2/10] END max_depth=3, min_samples_leaf=1, min_samples_split=10;, score=0.094 total time=   0.0s\n",
      "[CV 3/10] END max_depth=3, min_samples_leaf=1, min_samples_split=10;, score=0.128 total time=   0.0s\n",
      "[CV 4/10] END max_depth=3, min_samples_leaf=1, min_samples_split=10;, score=0.072 total time=   0.0s\n",
      "[CV 5/10] END max_depth=3, min_samples_leaf=1, min_samples_split=10;, score=0.117 total time=   0.0s\n",
      "[CV 6/10] END max_depth=3, min_samples_leaf=1, min_samples_split=10;, score=0.092 total time=   0.0s\n",
      "[CV 7/10] END max_depth=3, min_samples_leaf=1, min_samples_split=10;, score=0.108 total time=   0.0s\n",
      "[CV 8/10] END max_depth=3, min_samples_leaf=1, min_samples_split=10;, score=0.094 total time=   0.0s\n",
      "[CV 9/10] END max_depth=3, min_samples_leaf=1, min_samples_split=10;, score=0.119 total time=   0.0s\n",
      "[CV 10/10] END max_depth=3, min_samples_leaf=1, min_samples_split=10;, score=0.115 total time=   0.0s\n",
      "[CV 1/10] END max_depth=3, min_samples_leaf=5, min_samples_split=2;, score=0.095 total time=   0.0s\n",
      "[CV 2/10] END max_depth=3, min_samples_leaf=5, min_samples_split=2;, score=0.094 total time=   0.0s\n",
      "[CV 3/10] END max_depth=3, min_samples_leaf=5, min_samples_split=2;, score=0.128 total time=   0.0s\n",
      "[CV 4/10] END max_depth=3, min_samples_leaf=5, min_samples_split=2;, score=0.072 total time=   0.0s\n",
      "[CV 5/10] END max_depth=3, min_samples_leaf=5, min_samples_split=2;, score=0.117 total time=   0.0s\n",
      "[CV 6/10] END max_depth=3, min_samples_leaf=5, min_samples_split=2;, score=0.092 total time=   0.0s\n",
      "[CV 7/10] END max_depth=3, min_samples_leaf=5, min_samples_split=2;, score=0.108 total time=   0.0s\n",
      "[CV 8/10] END max_depth=3, min_samples_leaf=5, min_samples_split=2;, score=0.094 total time=   0.0s\n",
      "[CV 9/10] END max_depth=3, min_samples_leaf=5, min_samples_split=2;, score=0.119 total time=   0.0s\n",
      "[CV 10/10] END max_depth=3, min_samples_leaf=5, min_samples_split=2;, score=0.115 total time=   0.0s\n",
      "[CV 1/10] END max_depth=3, min_samples_leaf=5, min_samples_split=5;, score=0.095 total time=   0.0s\n",
      "[CV 2/10] END max_depth=3, min_samples_leaf=5, min_samples_split=5;, score=0.094 total time=   0.0s\n",
      "[CV 3/10] END max_depth=3, min_samples_leaf=5, min_samples_split=5;, score=0.128 total time=   0.0s\n",
      "[CV 4/10] END max_depth=3, min_samples_leaf=5, min_samples_split=5;, score=0.072 total time=   0.0s\n",
      "[CV 5/10] END max_depth=3, min_samples_leaf=5, min_samples_split=5;, score=0.117 total time=   0.0s\n",
      "[CV 6/10] END max_depth=3, min_samples_leaf=5, min_samples_split=5;, score=0.092 total time=   0.0s\n",
      "[CV 7/10] END max_depth=3, min_samples_leaf=5, min_samples_split=5;, score=0.108 total time=   0.0s\n",
      "[CV 8/10] END max_depth=3, min_samples_leaf=5, min_samples_split=5;, score=0.094 total time=   0.0s\n",
      "[CV 9/10] END max_depth=3, min_samples_leaf=5, min_samples_split=5;, score=0.119 total time=   0.0s\n",
      "[CV 10/10] END max_depth=3, min_samples_leaf=5, min_samples_split=5;, score=0.115 total time=   0.0s\n",
      "[CV 1/10] END max_depth=3, min_samples_leaf=5, min_samples_split=10;, score=0.095 total time=   0.0s\n",
      "[CV 2/10] END max_depth=3, min_samples_leaf=5, min_samples_split=10;, score=0.094 total time=   0.0s\n",
      "[CV 3/10] END max_depth=3, min_samples_leaf=5, min_samples_split=10;, score=0.128 total time=   0.0s\n",
      "[CV 4/10] END max_depth=3, min_samples_leaf=5, min_samples_split=10;, score=0.072 total time=   0.0s\n",
      "[CV 5/10] END max_depth=3, min_samples_leaf=5, min_samples_split=10;, score=0.117 total time=   0.0s\n",
      "[CV 6/10] END max_depth=3, min_samples_leaf=5, min_samples_split=10;, score=0.092 total time=   0.0s\n",
      "[CV 7/10] END max_depth=3, min_samples_leaf=5, min_samples_split=10;, score=0.108 total time=   0.0s\n",
      "[CV 8/10] END max_depth=3, min_samples_leaf=5, min_samples_split=10;, score=0.094 total time=   0.0s\n",
      "[CV 9/10] END max_depth=3, min_samples_leaf=5, min_samples_split=10;, score=0.119 total time=   0.0s\n",
      "[CV 10/10] END max_depth=3, min_samples_leaf=5, min_samples_split=10;, score=0.115 total time=   0.0s\n",
      "[CV 1/10] END max_depth=3, min_samples_leaf=10, min_samples_split=2;, score=0.095 total time=   0.0s\n",
      "[CV 2/10] END max_depth=3, min_samples_leaf=10, min_samples_split=2;, score=0.094 total time=   0.0s\n",
      "[CV 3/10] END max_depth=3, min_samples_leaf=10, min_samples_split=2;, score=0.128 total time=   0.0s\n",
      "[CV 4/10] END max_depth=3, min_samples_leaf=10, min_samples_split=2;, score=0.072 total time=   0.0s\n",
      "[CV 5/10] END max_depth=3, min_samples_leaf=10, min_samples_split=2;, score=0.117 total time=   0.0s\n",
      "[CV 6/10] END max_depth=3, min_samples_leaf=10, min_samples_split=2;, score=0.092 total time=   0.0s\n",
      "[CV 7/10] END max_depth=3, min_samples_leaf=10, min_samples_split=2;, score=0.108 total time=   0.0s\n",
      "[CV 8/10] END max_depth=3, min_samples_leaf=10, min_samples_split=2;, score=0.094 total time=   0.0s\n",
      "[CV 9/10] END max_depth=3, min_samples_leaf=10, min_samples_split=2;, score=0.119 total time=   0.0s\n",
      "[CV 10/10] END max_depth=3, min_samples_leaf=10, min_samples_split=2;, score=0.115 total time=   0.0s\n",
      "[CV 1/10] END max_depth=3, min_samples_leaf=10, min_samples_split=5;, score=0.095 total time=   0.0s\n",
      "[CV 2/10] END max_depth=3, min_samples_leaf=10, min_samples_split=5;, score=0.094 total time=   0.0s\n",
      "[CV 3/10] END max_depth=3, min_samples_leaf=10, min_samples_split=5;, score=0.128 total time=   0.0s\n",
      "[CV 4/10] END max_depth=3, min_samples_leaf=10, min_samples_split=5;, score=0.072 total time=   0.0s\n",
      "[CV 5/10] END max_depth=3, min_samples_leaf=10, min_samples_split=5;, score=0.117 total time=   0.0s\n",
      "[CV 6/10] END max_depth=3, min_samples_leaf=10, min_samples_split=5;, score=0.092 total time=   0.0s\n",
      "[CV 7/10] END max_depth=3, min_samples_leaf=10, min_samples_split=5;, score=0.108 total time=   0.0s\n",
      "[CV 8/10] END max_depth=3, min_samples_leaf=10, min_samples_split=5;, score=0.094 total time=   0.0s\n",
      "[CV 9/10] END max_depth=3, min_samples_leaf=10, min_samples_split=5;, score=0.119 total time=   0.0s\n",
      "[CV 10/10] END max_depth=3, min_samples_leaf=10, min_samples_split=5;, score=0.115 total time=   0.0s\n",
      "[CV 1/10] END max_depth=3, min_samples_leaf=10, min_samples_split=10;, score=0.095 total time=   0.0s\n",
      "[CV 2/10] END max_depth=3, min_samples_leaf=10, min_samples_split=10;, score=0.094 total time=   0.0s\n",
      "[CV 3/10] END max_depth=3, min_samples_leaf=10, min_samples_split=10;, score=0.128 total time=   0.0s\n",
      "[CV 4/10] END max_depth=3, min_samples_leaf=10, min_samples_split=10;, score=0.072 total time=   0.0s\n",
      "[CV 5/10] END max_depth=3, min_samples_leaf=10, min_samples_split=10;, score=0.117 total time=   0.0s\n",
      "[CV 6/10] END max_depth=3, min_samples_leaf=10, min_samples_split=10;, score=0.092 total time=   0.0s\n",
      "[CV 7/10] END max_depth=3, min_samples_leaf=10, min_samples_split=10;, score=0.108 total time=   0.0s\n",
      "[CV 8/10] END max_depth=3, min_samples_leaf=10, min_samples_split=10;, score=0.094 total time=   0.0s\n",
      "[CV 9/10] END max_depth=3, min_samples_leaf=10, min_samples_split=10;, score=0.119 total time=   0.0s\n",
      "[CV 10/10] END max_depth=3, min_samples_leaf=10, min_samples_split=10;, score=0.115 total time=   0.0s\n",
      "[CV 1/10] END max_depth=5, min_samples_leaf=1, min_samples_split=2;, score=-0.019 total time=   0.0s\n",
      "[CV 2/10] END max_depth=5, min_samples_leaf=1, min_samples_split=2;, score=0.109 total time=   0.0s\n",
      "[CV 3/10] END max_depth=5, min_samples_leaf=1, min_samples_split=2;, score=0.110 total time=   0.0s\n",
      "[CV 4/10] END max_depth=5, min_samples_leaf=1, min_samples_split=2;, score=0.062 total time=   0.0s\n",
      "[CV 5/10] END max_depth=5, min_samples_leaf=1, min_samples_split=2;, score=0.142 total time=   0.0s\n",
      "[CV 6/10] END max_depth=5, min_samples_leaf=1, min_samples_split=2;, score=0.098 total time=   0.0s\n",
      "[CV 7/10] END max_depth=5, min_samples_leaf=1, min_samples_split=2;, score=0.114 total time=   0.0s\n",
      "[CV 8/10] END max_depth=5, min_samples_leaf=1, min_samples_split=2;, score=0.108 total time=   0.0s\n",
      "[CV 9/10] END max_depth=5, min_samples_leaf=1, min_samples_split=2;, score=0.115 total time=   0.0s\n",
      "[CV 10/10] END max_depth=5, min_samples_leaf=1, min_samples_split=2;, score=0.093 total time=   0.0s\n",
      "[CV 1/10] END max_depth=5, min_samples_leaf=1, min_samples_split=5;, score=-0.019 total time=   0.0s\n",
      "[CV 2/10] END max_depth=5, min_samples_leaf=1, min_samples_split=5;, score=0.111 total time=   0.0s\n",
      "[CV 3/10] END max_depth=5, min_samples_leaf=1, min_samples_split=5;, score=0.107 total time=   0.0s\n",
      "[CV 4/10] END max_depth=5, min_samples_leaf=1, min_samples_split=5;, score=0.075 total time=   0.0s\n",
      "[CV 5/10] END max_depth=5, min_samples_leaf=1, min_samples_split=5;, score=0.142 total time=   0.0s\n",
      "[CV 6/10] END max_depth=5, min_samples_leaf=1, min_samples_split=5;, score=0.091 total time=   0.0s\n",
      "[CV 7/10] END max_depth=5, min_samples_leaf=1, min_samples_split=5;, score=0.114 total time=   0.0s\n",
      "[CV 8/10] END max_depth=5, min_samples_leaf=1, min_samples_split=5;, score=0.108 total time=   0.0s\n",
      "[CV 9/10] END max_depth=5, min_samples_leaf=1, min_samples_split=5;, score=0.115 total time=   0.0s\n",
      "[CV 10/10] END max_depth=5, min_samples_leaf=1, min_samples_split=5;, score=0.093 total time=   0.0s\n",
      "[CV 1/10] END max_depth=5, min_samples_leaf=1, min_samples_split=10;, score=-0.019 total time=   0.0s\n",
      "[CV 2/10] END max_depth=5, min_samples_leaf=1, min_samples_split=10;, score=0.111 total time=   0.0s\n",
      "[CV 3/10] END max_depth=5, min_samples_leaf=1, min_samples_split=10;, score=0.107 total time=   0.0s\n",
      "[CV 4/10] END max_depth=5, min_samples_leaf=1, min_samples_split=10;, score=0.075 total time=   0.0s\n",
      "[CV 5/10] END max_depth=5, min_samples_leaf=1, min_samples_split=10;, score=0.142 total time=   0.0s\n",
      "[CV 6/10] END max_depth=5, min_samples_leaf=1, min_samples_split=10;, score=0.091 total time=   0.0s\n",
      "[CV 7/10] END max_depth=5, min_samples_leaf=1, min_samples_split=10;, score=0.119 total time=   0.0s\n",
      "[CV 8/10] END max_depth=5, min_samples_leaf=1, min_samples_split=10;, score=0.108 total time=   0.0s\n",
      "[CV 9/10] END max_depth=5, min_samples_leaf=1, min_samples_split=10;, score=0.115 total time=   0.0s\n",
      "[CV 10/10] END max_depth=5, min_samples_leaf=1, min_samples_split=10;, score=0.093 total time=   0.0s\n",
      "[CV 1/10] END max_depth=5, min_samples_leaf=5, min_samples_split=2;, score=0.087 total time=   0.0s\n",
      "[CV 2/10] END max_depth=5, min_samples_leaf=5, min_samples_split=2;, score=0.106 total time=   0.0s\n",
      "[CV 3/10] END max_depth=5, min_samples_leaf=5, min_samples_split=2;, score=0.169 total time=   0.0s\n",
      "[CV 4/10] END max_depth=5, min_samples_leaf=5, min_samples_split=2;, score=0.088 total time=   0.0s\n",
      "[CV 5/10] END max_depth=5, min_samples_leaf=5, min_samples_split=2;, score=0.139 total time=   0.0s\n",
      "[CV 6/10] END max_depth=5, min_samples_leaf=5, min_samples_split=2;, score=0.093 total time=   0.0s\n",
      "[CV 7/10] END max_depth=5, min_samples_leaf=5, min_samples_split=2;, score=0.116 total time=   0.0s\n",
      "[CV 8/10] END max_depth=5, min_samples_leaf=5, min_samples_split=2;, score=0.112 total time=   0.0s\n",
      "[CV 9/10] END max_depth=5, min_samples_leaf=5, min_samples_split=2;, score=0.111 total time=   0.0s\n",
      "[CV 10/10] END max_depth=5, min_samples_leaf=5, min_samples_split=2;, score=0.090 total time=   0.0s\n",
      "[CV 1/10] END max_depth=5, min_samples_leaf=5, min_samples_split=5;, score=0.087 total time=   0.0s\n",
      "[CV 2/10] END max_depth=5, min_samples_leaf=5, min_samples_split=5;, score=0.106 total time=   0.0s\n",
      "[CV 3/10] END max_depth=5, min_samples_leaf=5, min_samples_split=5;, score=0.169 total time=   0.0s\n",
      "[CV 4/10] END max_depth=5, min_samples_leaf=5, min_samples_split=5;, score=0.088 total time=   0.0s\n",
      "[CV 5/10] END max_depth=5, min_samples_leaf=5, min_samples_split=5;, score=0.139 total time=   0.0s\n",
      "[CV 6/10] END max_depth=5, min_samples_leaf=5, min_samples_split=5;, score=0.093 total time=   0.0s\n",
      "[CV 7/10] END max_depth=5, min_samples_leaf=5, min_samples_split=5;, score=0.116 total time=   0.0s\n",
      "[CV 8/10] END max_depth=5, min_samples_leaf=5, min_samples_split=5;, score=0.112 total time=   0.0s\n",
      "[CV 9/10] END max_depth=5, min_samples_leaf=5, min_samples_split=5;, score=0.111 total time=   0.0s\n",
      "[CV 10/10] END max_depth=5, min_samples_leaf=5, min_samples_split=5;, score=0.090 total time=   0.0s\n",
      "[CV 1/10] END max_depth=5, min_samples_leaf=5, min_samples_split=10;, score=0.087 total time=   0.0s\n",
      "[CV 2/10] END max_depth=5, min_samples_leaf=5, min_samples_split=10;, score=0.106 total time=   0.0s\n",
      "[CV 3/10] END max_depth=5, min_samples_leaf=5, min_samples_split=10;, score=0.169 total time=   0.0s\n",
      "[CV 4/10] END max_depth=5, min_samples_leaf=5, min_samples_split=10;, score=0.088 total time=   0.0s\n",
      "[CV 5/10] END max_depth=5, min_samples_leaf=5, min_samples_split=10;, score=0.139 total time=   0.0s\n",
      "[CV 6/10] END max_depth=5, min_samples_leaf=5, min_samples_split=10;, score=0.093 total time=   0.0s\n",
      "[CV 7/10] END max_depth=5, min_samples_leaf=5, min_samples_split=10;, score=0.116 total time=   0.0s\n",
      "[CV 8/10] END max_depth=5, min_samples_leaf=5, min_samples_split=10;, score=0.112 total time=   0.0s\n",
      "[CV 9/10] END max_depth=5, min_samples_leaf=5, min_samples_split=10;, score=0.111 total time=   0.0s\n",
      "[CV 10/10] END max_depth=5, min_samples_leaf=5, min_samples_split=10;, score=0.090 total time=   0.0s\n",
      "[CV 1/10] END max_depth=5, min_samples_leaf=10, min_samples_split=2;, score=0.090 total time=   0.0s\n",
      "[CV 2/10] END max_depth=5, min_samples_leaf=10, min_samples_split=2;, score=0.128 total time=   0.0s\n",
      "[CV 3/10] END max_depth=5, min_samples_leaf=10, min_samples_split=2;, score=0.165 total time=   0.0s\n",
      "[CV 4/10] END max_depth=5, min_samples_leaf=10, min_samples_split=2;, score=0.109 total time=   0.0s\n",
      "[CV 5/10] END max_depth=5, min_samples_leaf=10, min_samples_split=2;, score=0.134 total time=   0.0s\n",
      "[CV 6/10] END max_depth=5, min_samples_leaf=10, min_samples_split=2;, score=0.098 total time=   0.0s\n",
      "[CV 7/10] END max_depth=5, min_samples_leaf=10, min_samples_split=2;, score=0.115 total time=   0.0s\n",
      "[CV 8/10] END max_depth=5, min_samples_leaf=10, min_samples_split=2;, score=0.106 total time=   0.0s\n",
      "[CV 9/10] END max_depth=5, min_samples_leaf=10, min_samples_split=2;, score=0.103 total time=   0.0s\n",
      "[CV 10/10] END max_depth=5, min_samples_leaf=10, min_samples_split=2;, score=0.097 total time=   0.0s\n",
      "[CV 1/10] END max_depth=5, min_samples_leaf=10, min_samples_split=5;, score=0.090 total time=   0.0s\n",
      "[CV 2/10] END max_depth=5, min_samples_leaf=10, min_samples_split=5;, score=0.128 total time=   0.0s\n",
      "[CV 3/10] END max_depth=5, min_samples_leaf=10, min_samples_split=5;, score=0.165 total time=   0.0s\n",
      "[CV 4/10] END max_depth=5, min_samples_leaf=10, min_samples_split=5;, score=0.109 total time=   0.0s\n",
      "[CV 5/10] END max_depth=5, min_samples_leaf=10, min_samples_split=5;, score=0.134 total time=   0.0s\n",
      "[CV 6/10] END max_depth=5, min_samples_leaf=10, min_samples_split=5;, score=0.098 total time=   0.0s\n",
      "[CV 7/10] END max_depth=5, min_samples_leaf=10, min_samples_split=5;, score=0.115 total time=   0.0s\n",
      "[CV 8/10] END max_depth=5, min_samples_leaf=10, min_samples_split=5;, score=0.106 total time=   0.0s\n",
      "[CV 9/10] END max_depth=5, min_samples_leaf=10, min_samples_split=5;, score=0.103 total time=   0.0s\n",
      "[CV 10/10] END max_depth=5, min_samples_leaf=10, min_samples_split=5;, score=0.097 total time=   0.0s\n",
      "[CV 1/10] END max_depth=5, min_samples_leaf=10, min_samples_split=10;, score=0.090 total time=   0.0s\n",
      "[CV 2/10] END max_depth=5, min_samples_leaf=10, min_samples_split=10;, score=0.128 total time=   0.0s\n",
      "[CV 3/10] END max_depth=5, min_samples_leaf=10, min_samples_split=10;, score=0.165 total time=   0.0s\n",
      "[CV 4/10] END max_depth=5, min_samples_leaf=10, min_samples_split=10;, score=0.109 total time=   0.0s\n",
      "[CV 5/10] END max_depth=5, min_samples_leaf=10, min_samples_split=10;, score=0.134 total time=   0.0s\n",
      "[CV 6/10] END max_depth=5, min_samples_leaf=10, min_samples_split=10;, score=0.098 total time=   0.0s\n",
      "[CV 7/10] END max_depth=5, min_samples_leaf=10, min_samples_split=10;, score=0.115 total time=   0.0s\n",
      "[CV 8/10] END max_depth=5, min_samples_leaf=10, min_samples_split=10;, score=0.106 total time=   0.0s\n",
      "[CV 9/10] END max_depth=5, min_samples_leaf=10, min_samples_split=10;, score=0.103 total time=   0.0s\n",
      "[CV 10/10] END max_depth=5, min_samples_leaf=10, min_samples_split=10;, score=0.097 total time=   0.0s\n",
      "[CV 1/10] END max_depth=10, min_samples_leaf=1, min_samples_split=2;, score=-0.032 total time=   0.0s\n",
      "[CV 2/10] END max_depth=10, min_samples_leaf=1, min_samples_split=2;, score=-0.237 total time=   0.0s\n",
      "[CV 3/10] END max_depth=10, min_samples_leaf=1, min_samples_split=2;, score=-0.045 total time=   0.0s\n",
      "[CV 4/10] END max_depth=10, min_samples_leaf=1, min_samples_split=2;, score=-0.009 total time=   0.0s\n",
      "[CV 5/10] END max_depth=10, min_samples_leaf=1, min_samples_split=2;, score=0.015 total time=   0.0s\n",
      "[CV 6/10] END max_depth=10, min_samples_leaf=1, min_samples_split=2;, score=-0.035 total time=   0.0s\n",
      "[CV 7/10] END max_depth=10, min_samples_leaf=1, min_samples_split=2;, score=-0.118 total time=   0.0s\n",
      "[CV 8/10] END max_depth=10, min_samples_leaf=1, min_samples_split=2;, score=0.029 total time=   0.0s\n",
      "[CV 9/10] END max_depth=10, min_samples_leaf=1, min_samples_split=2;, score=-0.125 total time=   0.0s\n",
      "[CV 10/10] END max_depth=10, min_samples_leaf=1, min_samples_split=2;, score=-0.068 total time=   0.0s\n",
      "[CV 1/10] END max_depth=10, min_samples_leaf=1, min_samples_split=5;, score=-0.155 total time=   0.0s\n",
      "[CV 2/10] END max_depth=10, min_samples_leaf=1, min_samples_split=5;, score=-0.168 total time=   0.0s\n",
      "[CV 3/10] END max_depth=10, min_samples_leaf=1, min_samples_split=5;, score=-0.074 total time=   0.0s\n",
      "[CV 4/10] END max_depth=10, min_samples_leaf=1, min_samples_split=5;, score=-0.044 total time=   0.0s\n",
      "[CV 5/10] END max_depth=10, min_samples_leaf=1, min_samples_split=5;, score=-0.052 total time=   0.0s\n",
      "[CV 6/10] END max_depth=10, min_samples_leaf=1, min_samples_split=5;, score=-0.006 total time=   0.0s\n",
      "[CV 7/10] END max_depth=10, min_samples_leaf=1, min_samples_split=5;, score=-0.102 total time=   0.0s\n",
      "[CV 8/10] END max_depth=10, min_samples_leaf=1, min_samples_split=5;, score=-0.002 total time=   0.0s\n",
      "[CV 9/10] END max_depth=10, min_samples_leaf=1, min_samples_split=5;, score=-0.166 total time=   0.0s\n",
      "[CV 10/10] END max_depth=10, min_samples_leaf=1, min_samples_split=5;, score=-0.072 total time=   0.0s\n",
      "[CV 1/10] END max_depth=10, min_samples_leaf=1, min_samples_split=10;, score=-0.120 total time=   0.0s\n",
      "[CV 2/10] END max_depth=10, min_samples_leaf=1, min_samples_split=10;, score=-0.147 total time=   0.0s\n",
      "[CV 3/10] END max_depth=10, min_samples_leaf=1, min_samples_split=10;, score=-0.025 total time=   0.0s\n",
      "[CV 4/10] END max_depth=10, min_samples_leaf=1, min_samples_split=10;, score=-0.030 total time=   0.0s\n",
      "[CV 5/10] END max_depth=10, min_samples_leaf=1, min_samples_split=10;, score=0.033 total time=   0.0s\n",
      "[CV 6/10] END max_depth=10, min_samples_leaf=1, min_samples_split=10;, score=-0.017 total time=   0.0s\n",
      "[CV 7/10] END max_depth=10, min_samples_leaf=1, min_samples_split=10;, score=-0.052 total time=   0.0s\n",
      "[CV 8/10] END max_depth=10, min_samples_leaf=1, min_samples_split=10;, score=0.024 total time=   0.0s\n",
      "[CV 9/10] END max_depth=10, min_samples_leaf=1, min_samples_split=10;, score=-0.126 total time=   0.0s\n",
      "[CV 10/10] END max_depth=10, min_samples_leaf=1, min_samples_split=10;, score=0.026 total time=   0.0s\n",
      "[CV 1/10] END max_depth=10, min_samples_leaf=5, min_samples_split=2;, score=-0.030 total time=   0.0s\n",
      "[CV 2/10] END max_depth=10, min_samples_leaf=5, min_samples_split=2;, score=-0.028 total time=   0.0s\n",
      "[CV 3/10] END max_depth=10, min_samples_leaf=5, min_samples_split=2;, score=-0.004 total time=   0.0s\n",
      "[CV 4/10] END max_depth=10, min_samples_leaf=5, min_samples_split=2;, score=-0.011 total time=   0.0s\n",
      "[CV 5/10] END max_depth=10, min_samples_leaf=5, min_samples_split=2;, score=0.035 total time=   0.0s\n",
      "[CV 6/10] END max_depth=10, min_samples_leaf=5, min_samples_split=2;, score=0.023 total time=   0.0s\n",
      "[CV 7/10] END max_depth=10, min_samples_leaf=5, min_samples_split=2;, score=0.043 total time=   0.0s\n",
      "[CV 8/10] END max_depth=10, min_samples_leaf=5, min_samples_split=2;, score=-0.028 total time=   0.0s\n",
      "[CV 9/10] END max_depth=10, min_samples_leaf=5, min_samples_split=2;, score=0.010 total time=   0.0s\n",
      "[CV 10/10] END max_depth=10, min_samples_leaf=5, min_samples_split=2;, score=0.048 total time=   0.0s\n",
      "[CV 1/10] END max_depth=10, min_samples_leaf=5, min_samples_split=5;, score=-0.030 total time=   0.0s\n",
      "[CV 2/10] END max_depth=10, min_samples_leaf=5, min_samples_split=5;, score=-0.001 total time=   0.0s\n",
      "[CV 3/10] END max_depth=10, min_samples_leaf=5, min_samples_split=5;, score=-0.003 total time=   0.0s\n",
      "[CV 4/10] END max_depth=10, min_samples_leaf=5, min_samples_split=5;, score=-0.014 total time=   0.0s\n",
      "[CV 5/10] END max_depth=10, min_samples_leaf=5, min_samples_split=5;, score=0.065 total time=   0.0s\n",
      "[CV 6/10] END max_depth=10, min_samples_leaf=5, min_samples_split=5;, score=0.023 total time=   0.0s\n",
      "[CV 7/10] END max_depth=10, min_samples_leaf=5, min_samples_split=5;, score=0.043 total time=   0.0s\n",
      "[CV 8/10] END max_depth=10, min_samples_leaf=5, min_samples_split=5;, score=-0.027 total time=   0.0s\n",
      "[CV 9/10] END max_depth=10, min_samples_leaf=5, min_samples_split=5;, score=0.010 total time=   0.0s\n",
      "[CV 10/10] END max_depth=10, min_samples_leaf=5, min_samples_split=5;, score=0.048 total time=   0.0s\n",
      "[CV 1/10] END max_depth=10, min_samples_leaf=5, min_samples_split=10;, score=-0.030 total time=   0.0s\n",
      "[CV 2/10] END max_depth=10, min_samples_leaf=5, min_samples_split=10;, score=-0.002 total time=   0.0s\n",
      "[CV 3/10] END max_depth=10, min_samples_leaf=5, min_samples_split=10;, score=-0.004 total time=   0.0s\n",
      "[CV 4/10] END max_depth=10, min_samples_leaf=5, min_samples_split=10;, score=-0.015 total time=   0.0s\n",
      "[CV 5/10] END max_depth=10, min_samples_leaf=5, min_samples_split=10;, score=0.065 total time=   0.0s\n",
      "[CV 6/10] END max_depth=10, min_samples_leaf=5, min_samples_split=10;, score=0.023 total time=   0.0s\n",
      "[CV 7/10] END max_depth=10, min_samples_leaf=5, min_samples_split=10;, score=0.043 total time=   0.0s\n",
      "[CV 8/10] END max_depth=10, min_samples_leaf=5, min_samples_split=10;, score=-0.037 total time=   0.0s\n",
      "[CV 9/10] END max_depth=10, min_samples_leaf=5, min_samples_split=10;, score=0.010 total time=   0.0s\n",
      "[CV 10/10] END max_depth=10, min_samples_leaf=5, min_samples_split=10;, score=0.048 total time=   0.0s\n",
      "[CV 1/10] END max_depth=10, min_samples_leaf=10, min_samples_split=2;, score=0.046 total time=   0.0s\n",
      "[CV 2/10] END max_depth=10, min_samples_leaf=10, min_samples_split=2;, score=0.105 total time=   0.0s\n",
      "[CV 3/10] END max_depth=10, min_samples_leaf=10, min_samples_split=2;, score=0.152 total time=   0.0s\n",
      "[CV 4/10] END max_depth=10, min_samples_leaf=10, min_samples_split=2;, score=0.082 total time=   0.0s\n",
      "[CV 5/10] END max_depth=10, min_samples_leaf=10, min_samples_split=2;, score=0.094 total time=   0.0s\n",
      "[CV 6/10] END max_depth=10, min_samples_leaf=10, min_samples_split=2;, score=0.032 total time=   0.0s\n",
      "[CV 7/10] END max_depth=10, min_samples_leaf=10, min_samples_split=2;, score=0.071 total time=   0.0s\n",
      "[CV 8/10] END max_depth=10, min_samples_leaf=10, min_samples_split=2;, score=0.022 total time=   0.0s\n",
      "[CV 9/10] END max_depth=10, min_samples_leaf=10, min_samples_split=2;, score=0.005 total time=   0.0s\n",
      "[CV 10/10] END max_depth=10, min_samples_leaf=10, min_samples_split=2;, score=0.027 total time=   0.0s\n",
      "[CV 1/10] END max_depth=10, min_samples_leaf=10, min_samples_split=5;, score=0.046 total time=   0.0s\n",
      "[CV 2/10] END max_depth=10, min_samples_leaf=10, min_samples_split=5;, score=0.104 total time=   0.0s\n",
      "[CV 3/10] END max_depth=10, min_samples_leaf=10, min_samples_split=5;, score=0.152 total time=   0.0s\n",
      "[CV 4/10] END max_depth=10, min_samples_leaf=10, min_samples_split=5;, score=0.082 total time=   0.0s\n",
      "[CV 5/10] END max_depth=10, min_samples_leaf=10, min_samples_split=5;, score=0.094 total time=   0.0s\n",
      "[CV 6/10] END max_depth=10, min_samples_leaf=10, min_samples_split=5;, score=0.030 total time=   0.0s\n",
      "[CV 7/10] END max_depth=10, min_samples_leaf=10, min_samples_split=5;, score=0.071 total time=   0.0s\n",
      "[CV 8/10] END max_depth=10, min_samples_leaf=10, min_samples_split=5;, score=0.022 total time=   0.0s\n",
      "[CV 9/10] END max_depth=10, min_samples_leaf=10, min_samples_split=5;, score=0.005 total time=   0.0s\n",
      "[CV 10/10] END max_depth=10, min_samples_leaf=10, min_samples_split=5;, score=0.027 total time=   0.0s\n",
      "[CV 1/10] END max_depth=10, min_samples_leaf=10, min_samples_split=10;, score=0.046 total time=   0.0s\n",
      "[CV 2/10] END max_depth=10, min_samples_leaf=10, min_samples_split=10;, score=0.104 total time=   0.0s\n",
      "[CV 3/10] END max_depth=10, min_samples_leaf=10, min_samples_split=10;, score=0.152 total time=   0.0s\n",
      "[CV 4/10] END max_depth=10, min_samples_leaf=10, min_samples_split=10;, score=0.082 total time=   0.0s\n",
      "[CV 5/10] END max_depth=10, min_samples_leaf=10, min_samples_split=10;, score=0.094 total time=   0.0s\n",
      "[CV 6/10] END max_depth=10, min_samples_leaf=10, min_samples_split=10;, score=0.030 total time=   0.0s\n",
      "[CV 7/10] END max_depth=10, min_samples_leaf=10, min_samples_split=10;, score=0.071 total time=   0.0s\n",
      "[CV 8/10] END max_depth=10, min_samples_leaf=10, min_samples_split=10;, score=0.022 total time=   0.0s\n",
      "[CV 9/10] END max_depth=10, min_samples_leaf=10, min_samples_split=10;, score=0.005 total time=   0.0s\n",
      "[CV 10/10] END max_depth=10, min_samples_leaf=10, min_samples_split=10;, score=0.027 total time=   0.0s\n"
     ]
    },
    {
     "data": {
      "text/html": [
       "<style>#sk-container-id-2 {\n",
       "  /* Definition of color scheme common for light and dark mode */\n",
       "  --sklearn-color-text: black;\n",
       "  --sklearn-color-line: gray;\n",
       "  /* Definition of color scheme for unfitted estimators */\n",
       "  --sklearn-color-unfitted-level-0: #fff5e6;\n",
       "  --sklearn-color-unfitted-level-1: #f6e4d2;\n",
       "  --sklearn-color-unfitted-level-2: #ffe0b3;\n",
       "  --sklearn-color-unfitted-level-3: chocolate;\n",
       "  /* Definition of color scheme for fitted estimators */\n",
       "  --sklearn-color-fitted-level-0: #f0f8ff;\n",
       "  --sklearn-color-fitted-level-1: #d4ebff;\n",
       "  --sklearn-color-fitted-level-2: #b3dbfd;\n",
       "  --sklearn-color-fitted-level-3: cornflowerblue;\n",
       "\n",
       "  /* Specific color for light theme */\n",
       "  --sklearn-color-text-on-default-background: var(--sg-text-color, var(--theme-code-foreground, var(--jp-content-font-color1, black)));\n",
       "  --sklearn-color-background: var(--sg-background-color, var(--theme-background, var(--jp-layout-color0, white)));\n",
       "  --sklearn-color-border-box: var(--sg-text-color, var(--theme-code-foreground, var(--jp-content-font-color1, black)));\n",
       "  --sklearn-color-icon: #696969;\n",
       "\n",
       "  @media (prefers-color-scheme: dark) {\n",
       "    /* Redefinition of color scheme for dark theme */\n",
       "    --sklearn-color-text-on-default-background: var(--sg-text-color, var(--theme-code-foreground, var(--jp-content-font-color1, white)));\n",
       "    --sklearn-color-background: var(--sg-background-color, var(--theme-background, var(--jp-layout-color0, #111)));\n",
       "    --sklearn-color-border-box: var(--sg-text-color, var(--theme-code-foreground, var(--jp-content-font-color1, white)));\n",
       "    --sklearn-color-icon: #878787;\n",
       "  }\n",
       "}\n",
       "\n",
       "#sk-container-id-2 {\n",
       "  color: var(--sklearn-color-text);\n",
       "}\n",
       "\n",
       "#sk-container-id-2 pre {\n",
       "  padding: 0;\n",
       "}\n",
       "\n",
       "#sk-container-id-2 input.sk-hidden--visually {\n",
       "  border: 0;\n",
       "  clip: rect(1px 1px 1px 1px);\n",
       "  clip: rect(1px, 1px, 1px, 1px);\n",
       "  height: 1px;\n",
       "  margin: -1px;\n",
       "  overflow: hidden;\n",
       "  padding: 0;\n",
       "  position: absolute;\n",
       "  width: 1px;\n",
       "}\n",
       "\n",
       "#sk-container-id-2 div.sk-dashed-wrapped {\n",
       "  border: 1px dashed var(--sklearn-color-line);\n",
       "  margin: 0 0.4em 0.5em 0.4em;\n",
       "  box-sizing: border-box;\n",
       "  padding-bottom: 0.4em;\n",
       "  background-color: var(--sklearn-color-background);\n",
       "}\n",
       "\n",
       "#sk-container-id-2 div.sk-container {\n",
       "  /* jupyter's `normalize.less` sets `[hidden] { display: none; }`\n",
       "     but bootstrap.min.css set `[hidden] { display: none !important; }`\n",
       "     so we also need the `!important` here to be able to override the\n",
       "     default hidden behavior on the sphinx rendered scikit-learn.org.\n",
       "     See: https://github.com/scikit-learn/scikit-learn/issues/21755 */\n",
       "  display: inline-block !important;\n",
       "  position: relative;\n",
       "}\n",
       "\n",
       "#sk-container-id-2 div.sk-text-repr-fallback {\n",
       "  display: none;\n",
       "}\n",
       "\n",
       "div.sk-parallel-item,\n",
       "div.sk-serial,\n",
       "div.sk-item {\n",
       "  /* draw centered vertical line to link estimators */\n",
       "  background-image: linear-gradient(var(--sklearn-color-text-on-default-background), var(--sklearn-color-text-on-default-background));\n",
       "  background-size: 2px 100%;\n",
       "  background-repeat: no-repeat;\n",
       "  background-position: center center;\n",
       "}\n",
       "\n",
       "/* Parallel-specific style estimator block */\n",
       "\n",
       "#sk-container-id-2 div.sk-parallel-item::after {\n",
       "  content: \"\";\n",
       "  width: 100%;\n",
       "  border-bottom: 2px solid var(--sklearn-color-text-on-default-background);\n",
       "  flex-grow: 1;\n",
       "}\n",
       "\n",
       "#sk-container-id-2 div.sk-parallel {\n",
       "  display: flex;\n",
       "  align-items: stretch;\n",
       "  justify-content: center;\n",
       "  background-color: var(--sklearn-color-background);\n",
       "  position: relative;\n",
       "}\n",
       "\n",
       "#sk-container-id-2 div.sk-parallel-item {\n",
       "  display: flex;\n",
       "  flex-direction: column;\n",
       "}\n",
       "\n",
       "#sk-container-id-2 div.sk-parallel-item:first-child::after {\n",
       "  align-self: flex-end;\n",
       "  width: 50%;\n",
       "}\n",
       "\n",
       "#sk-container-id-2 div.sk-parallel-item:last-child::after {\n",
       "  align-self: flex-start;\n",
       "  width: 50%;\n",
       "}\n",
       "\n",
       "#sk-container-id-2 div.sk-parallel-item:only-child::after {\n",
       "  width: 0;\n",
       "}\n",
       "\n",
       "/* Serial-specific style estimator block */\n",
       "\n",
       "#sk-container-id-2 div.sk-serial {\n",
       "  display: flex;\n",
       "  flex-direction: column;\n",
       "  align-items: center;\n",
       "  background-color: var(--sklearn-color-background);\n",
       "  padding-right: 1em;\n",
       "  padding-left: 1em;\n",
       "}\n",
       "\n",
       "\n",
       "/* Toggleable style: style used for estimator/Pipeline/ColumnTransformer box that is\n",
       "clickable and can be expanded/collapsed.\n",
       "- Pipeline and ColumnTransformer use this feature and define the default style\n",
       "- Estimators will overwrite some part of the style using the `sk-estimator` class\n",
       "*/\n",
       "\n",
       "/* Pipeline and ColumnTransformer style (default) */\n",
       "\n",
       "#sk-container-id-2 div.sk-toggleable {\n",
       "  /* Default theme specific background. It is overwritten whether we have a\n",
       "  specific estimator or a Pipeline/ColumnTransformer */\n",
       "  background-color: var(--sklearn-color-background);\n",
       "}\n",
       "\n",
       "/* Toggleable label */\n",
       "#sk-container-id-2 label.sk-toggleable__label {\n",
       "  cursor: pointer;\n",
       "  display: block;\n",
       "  width: 100%;\n",
       "  margin-bottom: 0;\n",
       "  padding: 0.5em;\n",
       "  box-sizing: border-box;\n",
       "  text-align: center;\n",
       "}\n",
       "\n",
       "#sk-container-id-2 label.sk-toggleable__label-arrow:before {\n",
       "  /* Arrow on the left of the label */\n",
       "  content: \"▸\";\n",
       "  float: left;\n",
       "  margin-right: 0.25em;\n",
       "  color: var(--sklearn-color-icon);\n",
       "}\n",
       "\n",
       "#sk-container-id-2 label.sk-toggleable__label-arrow:hover:before {\n",
       "  color: var(--sklearn-color-text);\n",
       "}\n",
       "\n",
       "/* Toggleable content - dropdown */\n",
       "\n",
       "#sk-container-id-2 div.sk-toggleable__content {\n",
       "  max-height: 0;\n",
       "  max-width: 0;\n",
       "  overflow: hidden;\n",
       "  text-align: left;\n",
       "  /* unfitted */\n",
       "  background-color: var(--sklearn-color-unfitted-level-0);\n",
       "}\n",
       "\n",
       "#sk-container-id-2 div.sk-toggleable__content.fitted {\n",
       "  /* fitted */\n",
       "  background-color: var(--sklearn-color-fitted-level-0);\n",
       "}\n",
       "\n",
       "#sk-container-id-2 div.sk-toggleable__content pre {\n",
       "  margin: 0.2em;\n",
       "  border-radius: 0.25em;\n",
       "  color: var(--sklearn-color-text);\n",
       "  /* unfitted */\n",
       "  background-color: var(--sklearn-color-unfitted-level-0);\n",
       "}\n",
       "\n",
       "#sk-container-id-2 div.sk-toggleable__content.fitted pre {\n",
       "  /* unfitted */\n",
       "  background-color: var(--sklearn-color-fitted-level-0);\n",
       "}\n",
       "\n",
       "#sk-container-id-2 input.sk-toggleable__control:checked~div.sk-toggleable__content {\n",
       "  /* Expand drop-down */\n",
       "  max-height: 200px;\n",
       "  max-width: 100%;\n",
       "  overflow: auto;\n",
       "}\n",
       "\n",
       "#sk-container-id-2 input.sk-toggleable__control:checked~label.sk-toggleable__label-arrow:before {\n",
       "  content: \"▾\";\n",
       "}\n",
       "\n",
       "/* Pipeline/ColumnTransformer-specific style */\n",
       "\n",
       "#sk-container-id-2 div.sk-label input.sk-toggleable__control:checked~label.sk-toggleable__label {\n",
       "  color: var(--sklearn-color-text);\n",
       "  background-color: var(--sklearn-color-unfitted-level-2);\n",
       "}\n",
       "\n",
       "#sk-container-id-2 div.sk-label.fitted input.sk-toggleable__control:checked~label.sk-toggleable__label {\n",
       "  background-color: var(--sklearn-color-fitted-level-2);\n",
       "}\n",
       "\n",
       "/* Estimator-specific style */\n",
       "\n",
       "/* Colorize estimator box */\n",
       "#sk-container-id-2 div.sk-estimator input.sk-toggleable__control:checked~label.sk-toggleable__label {\n",
       "  /* unfitted */\n",
       "  background-color: var(--sklearn-color-unfitted-level-2);\n",
       "}\n",
       "\n",
       "#sk-container-id-2 div.sk-estimator.fitted input.sk-toggleable__control:checked~label.sk-toggleable__label {\n",
       "  /* fitted */\n",
       "  background-color: var(--sklearn-color-fitted-level-2);\n",
       "}\n",
       "\n",
       "#sk-container-id-2 div.sk-label label.sk-toggleable__label,\n",
       "#sk-container-id-2 div.sk-label label {\n",
       "  /* The background is the default theme color */\n",
       "  color: var(--sklearn-color-text-on-default-background);\n",
       "}\n",
       "\n",
       "/* On hover, darken the color of the background */\n",
       "#sk-container-id-2 div.sk-label:hover label.sk-toggleable__label {\n",
       "  color: var(--sklearn-color-text);\n",
       "  background-color: var(--sklearn-color-unfitted-level-2);\n",
       "}\n",
       "\n",
       "/* Label box, darken color on hover, fitted */\n",
       "#sk-container-id-2 div.sk-label.fitted:hover label.sk-toggleable__label.fitted {\n",
       "  color: var(--sklearn-color-text);\n",
       "  background-color: var(--sklearn-color-fitted-level-2);\n",
       "}\n",
       "\n",
       "/* Estimator label */\n",
       "\n",
       "#sk-container-id-2 div.sk-label label {\n",
       "  font-family: monospace;\n",
       "  font-weight: bold;\n",
       "  display: inline-block;\n",
       "  line-height: 1.2em;\n",
       "}\n",
       "\n",
       "#sk-container-id-2 div.sk-label-container {\n",
       "  text-align: center;\n",
       "}\n",
       "\n",
       "/* Estimator-specific */\n",
       "#sk-container-id-2 div.sk-estimator {\n",
       "  font-family: monospace;\n",
       "  border: 1px dotted var(--sklearn-color-border-box);\n",
       "  border-radius: 0.25em;\n",
       "  box-sizing: border-box;\n",
       "  margin-bottom: 0.5em;\n",
       "  /* unfitted */\n",
       "  background-color: var(--sklearn-color-unfitted-level-0);\n",
       "}\n",
       "\n",
       "#sk-container-id-2 div.sk-estimator.fitted {\n",
       "  /* fitted */\n",
       "  background-color: var(--sklearn-color-fitted-level-0);\n",
       "}\n",
       "\n",
       "/* on hover */\n",
       "#sk-container-id-2 div.sk-estimator:hover {\n",
       "  /* unfitted */\n",
       "  background-color: var(--sklearn-color-unfitted-level-2);\n",
       "}\n",
       "\n",
       "#sk-container-id-2 div.sk-estimator.fitted:hover {\n",
       "  /* fitted */\n",
       "  background-color: var(--sklearn-color-fitted-level-2);\n",
       "}\n",
       "\n",
       "/* Specification for estimator info (e.g. \"i\" and \"?\") */\n",
       "\n",
       "/* Common style for \"i\" and \"?\" */\n",
       "\n",
       ".sk-estimator-doc-link,\n",
       "a:link.sk-estimator-doc-link,\n",
       "a:visited.sk-estimator-doc-link {\n",
       "  float: right;\n",
       "  font-size: smaller;\n",
       "  line-height: 1em;\n",
       "  font-family: monospace;\n",
       "  background-color: var(--sklearn-color-background);\n",
       "  border-radius: 1em;\n",
       "  height: 1em;\n",
       "  width: 1em;\n",
       "  text-decoration: none !important;\n",
       "  margin-left: 1ex;\n",
       "  /* unfitted */\n",
       "  border: var(--sklearn-color-unfitted-level-1) 1pt solid;\n",
       "  color: var(--sklearn-color-unfitted-level-1);\n",
       "}\n",
       "\n",
       ".sk-estimator-doc-link.fitted,\n",
       "a:link.sk-estimator-doc-link.fitted,\n",
       "a:visited.sk-estimator-doc-link.fitted {\n",
       "  /* fitted */\n",
       "  border: var(--sklearn-color-fitted-level-1) 1pt solid;\n",
       "  color: var(--sklearn-color-fitted-level-1);\n",
       "}\n",
       "\n",
       "/* On hover */\n",
       "div.sk-estimator:hover .sk-estimator-doc-link:hover,\n",
       ".sk-estimator-doc-link:hover,\n",
       "div.sk-label-container:hover .sk-estimator-doc-link:hover,\n",
       ".sk-estimator-doc-link:hover {\n",
       "  /* unfitted */\n",
       "  background-color: var(--sklearn-color-unfitted-level-3);\n",
       "  color: var(--sklearn-color-background);\n",
       "  text-decoration: none;\n",
       "}\n",
       "\n",
       "div.sk-estimator.fitted:hover .sk-estimator-doc-link.fitted:hover,\n",
       ".sk-estimator-doc-link.fitted:hover,\n",
       "div.sk-label-container:hover .sk-estimator-doc-link.fitted:hover,\n",
       ".sk-estimator-doc-link.fitted:hover {\n",
       "  /* fitted */\n",
       "  background-color: var(--sklearn-color-fitted-level-3);\n",
       "  color: var(--sklearn-color-background);\n",
       "  text-decoration: none;\n",
       "}\n",
       "\n",
       "/* Span, style for the box shown on hovering the info icon */\n",
       ".sk-estimator-doc-link span {\n",
       "  display: none;\n",
       "  z-index: 9999;\n",
       "  position: relative;\n",
       "  font-weight: normal;\n",
       "  right: .2ex;\n",
       "  padding: .5ex;\n",
       "  margin: .5ex;\n",
       "  width: min-content;\n",
       "  min-width: 20ex;\n",
       "  max-width: 50ex;\n",
       "  color: var(--sklearn-color-text);\n",
       "  box-shadow: 2pt 2pt 4pt #999;\n",
       "  /* unfitted */\n",
       "  background: var(--sklearn-color-unfitted-level-0);\n",
       "  border: .5pt solid var(--sklearn-color-unfitted-level-3);\n",
       "}\n",
       "\n",
       ".sk-estimator-doc-link.fitted span {\n",
       "  /* fitted */\n",
       "  background: var(--sklearn-color-fitted-level-0);\n",
       "  border: var(--sklearn-color-fitted-level-3);\n",
       "}\n",
       "\n",
       ".sk-estimator-doc-link:hover span {\n",
       "  display: block;\n",
       "}\n",
       "\n",
       "/* \"?\"-specific style due to the `<a>` HTML tag */\n",
       "\n",
       "#sk-container-id-2 a.estimator_doc_link {\n",
       "  float: right;\n",
       "  font-size: 1rem;\n",
       "  line-height: 1em;\n",
       "  font-family: monospace;\n",
       "  background-color: var(--sklearn-color-background);\n",
       "  border-radius: 1rem;\n",
       "  height: 1rem;\n",
       "  width: 1rem;\n",
       "  text-decoration: none;\n",
       "  /* unfitted */\n",
       "  color: var(--sklearn-color-unfitted-level-1);\n",
       "  border: var(--sklearn-color-unfitted-level-1) 1pt solid;\n",
       "}\n",
       "\n",
       "#sk-container-id-2 a.estimator_doc_link.fitted {\n",
       "  /* fitted */\n",
       "  border: var(--sklearn-color-fitted-level-1) 1pt solid;\n",
       "  color: var(--sklearn-color-fitted-level-1);\n",
       "}\n",
       "\n",
       "/* On hover */\n",
       "#sk-container-id-2 a.estimator_doc_link:hover {\n",
       "  /* unfitted */\n",
       "  background-color: var(--sklearn-color-unfitted-level-3);\n",
       "  color: var(--sklearn-color-background);\n",
       "  text-decoration: none;\n",
       "}\n",
       "\n",
       "#sk-container-id-2 a.estimator_doc_link.fitted:hover {\n",
       "  /* fitted */\n",
       "  background-color: var(--sklearn-color-fitted-level-3);\n",
       "}\n",
       "</style><div id=\"sk-container-id-2\" class=\"sk-top-container\"><div class=\"sk-text-repr-fallback\"><pre>GridSearchCV(cv=StratifiedKFold(n_splits=10, random_state=458, shuffle=True),\n",
       "             estimator=DecisionTreeRegressor(),\n",
       "             param_grid={&#x27;max_depth&#x27;: [None, 3, 5, 10],\n",
       "                         &#x27;min_samples_leaf&#x27;: [1, 5, 10],\n",
       "                         &#x27;min_samples_split&#x27;: [2, 5, 10]},\n",
       "             verbose=3)</pre><b>In a Jupyter environment, please rerun this cell to show the HTML representation or trust the notebook. <br />On GitHub, the HTML representation is unable to render, please try loading this page with nbviewer.org.</b></div><div class=\"sk-container\" hidden><div class=\"sk-item sk-dashed-wrapped\"><div class=\"sk-label-container\"><div class=\"sk-label fitted sk-toggleable\"><input class=\"sk-toggleable__control sk-hidden--visually\" id=\"sk-estimator-id-4\" type=\"checkbox\" ><label for=\"sk-estimator-id-4\" class=\"sk-toggleable__label fitted sk-toggleable__label-arrow fitted\">&nbsp;&nbsp;GridSearchCV<a class=\"sk-estimator-doc-link fitted\" rel=\"noreferrer\" target=\"_blank\" href=\"https://scikit-learn.org/1.4/modules/generated/sklearn.model_selection.GridSearchCV.html\">?<span>Documentation for GridSearchCV</span></a><span class=\"sk-estimator-doc-link fitted\">i<span>Fitted</span></span></label><div class=\"sk-toggleable__content fitted\"><pre>GridSearchCV(cv=StratifiedKFold(n_splits=10, random_state=458, shuffle=True),\n",
       "             estimator=DecisionTreeRegressor(),\n",
       "             param_grid={&#x27;max_depth&#x27;: [None, 3, 5, 10],\n",
       "                         &#x27;min_samples_leaf&#x27;: [1, 5, 10],\n",
       "                         &#x27;min_samples_split&#x27;: [2, 5, 10]},\n",
       "             verbose=3)</pre></div> </div></div><div class=\"sk-parallel\"><div class=\"sk-parallel-item\"><div class=\"sk-item\"><div class=\"sk-label-container\"><div class=\"sk-label fitted sk-toggleable\"><input class=\"sk-toggleable__control sk-hidden--visually\" id=\"sk-estimator-id-5\" type=\"checkbox\" ><label for=\"sk-estimator-id-5\" class=\"sk-toggleable__label fitted sk-toggleable__label-arrow fitted\">estimator: DecisionTreeRegressor</label><div class=\"sk-toggleable__content fitted\"><pre>DecisionTreeRegressor()</pre></div> </div></div><div class=\"sk-serial\"><div class=\"sk-item\"><div class=\"sk-estimator fitted sk-toggleable\"><input class=\"sk-toggleable__control sk-hidden--visually\" id=\"sk-estimator-id-6\" type=\"checkbox\" ><label for=\"sk-estimator-id-6\" class=\"sk-toggleable__label fitted sk-toggleable__label-arrow fitted\">&nbsp;DecisionTreeRegressor<a class=\"sk-estimator-doc-link fitted\" rel=\"noreferrer\" target=\"_blank\" href=\"https://scikit-learn.org/1.4/modules/generated/sklearn.tree.DecisionTreeRegressor.html\">?<span>Documentation for DecisionTreeRegressor</span></a></label><div class=\"sk-toggleable__content fitted\"><pre>DecisionTreeRegressor()</pre></div> </div></div></div></div></div></div></div></div></div>"
      ],
      "text/plain": [
       "GridSearchCV(cv=StratifiedKFold(n_splits=10, random_state=458, shuffle=True),\n",
       "             estimator=DecisionTreeRegressor(),\n",
       "             param_grid={'max_depth': [None, 3, 5, 10],\n",
       "                         'min_samples_leaf': [1, 5, 10],\n",
       "                         'min_samples_split': [2, 5, 10]},\n",
       "             verbose=3)"
      ]
     },
     "execution_count": 55,
     "metadata": {},
     "output_type": "execute_result"
    }
   ],
   "source": [
    "tree_param_grid = {\n",
    "    'max_depth': [None, 3, 5, 10],\n",
    "    'min_samples_split': [2, 5, 10],\n",
    "    'min_samples_leaf': [1, 5, 10]\n",
    "}\n",
    "\n",
    "from sklearn.model_selection import StratifiedKFold\n",
    "\n",
    "state = 458\n",
    "\n",
    "cv_obj = StratifiedKFold(n_splits=10, shuffle=True, random_state=state)\n",
    "\n",
    "grid_search_tree_regressor = GridSearchCV(DecisionTreeRegressor(), tree_param_grid, verbose=3, cv=cv_obj)\n",
    "\n",
    "grid_search_tree_regressor.fit(salaries_training, salary_train)"
   ]
  },
  {
   "cell_type": "code",
   "execution_count": 56,
   "id": "0ebb87ca-ae1f-4bea-87f0-8ec155e4e7c2",
   "metadata": {},
   "outputs": [
    {
     "data": {
      "text/plain": [
       "0.11441421542215002"
      ]
     },
     "execution_count": 56,
     "metadata": {},
     "output_type": "execute_result"
    }
   ],
   "source": [
    "grid_search_tree_regressor.best_score_"
   ]
  },
  {
   "cell_type": "code",
   "execution_count": 57,
   "id": "13151edb-127d-4c3e-a3ad-8ec43e3d406f",
   "metadata": {},
   "outputs": [
    {
     "data": {
      "text/plain": [
       "{'max_depth': 5, 'min_samples_leaf': 10, 'min_samples_split': 2}"
      ]
     },
     "execution_count": 57,
     "metadata": {},
     "output_type": "execute_result"
    }
   ],
   "source": [
    "grid_search_tree_regressor.best_params_"
   ]
  },
  {
   "cell_type": "code",
   "execution_count": 58,
   "id": "5f837c4e-a343-4e44-b480-f7372543637e",
   "metadata": {},
   "outputs": [
    {
     "data": {
      "text/html": [
       "<style>#sk-container-id-3 {\n",
       "  /* Definition of color scheme common for light and dark mode */\n",
       "  --sklearn-color-text: black;\n",
       "  --sklearn-color-line: gray;\n",
       "  /* Definition of color scheme for unfitted estimators */\n",
       "  --sklearn-color-unfitted-level-0: #fff5e6;\n",
       "  --sklearn-color-unfitted-level-1: #f6e4d2;\n",
       "  --sklearn-color-unfitted-level-2: #ffe0b3;\n",
       "  --sklearn-color-unfitted-level-3: chocolate;\n",
       "  /* Definition of color scheme for fitted estimators */\n",
       "  --sklearn-color-fitted-level-0: #f0f8ff;\n",
       "  --sklearn-color-fitted-level-1: #d4ebff;\n",
       "  --sklearn-color-fitted-level-2: #b3dbfd;\n",
       "  --sklearn-color-fitted-level-3: cornflowerblue;\n",
       "\n",
       "  /* Specific color for light theme */\n",
       "  --sklearn-color-text-on-default-background: var(--sg-text-color, var(--theme-code-foreground, var(--jp-content-font-color1, black)));\n",
       "  --sklearn-color-background: var(--sg-background-color, var(--theme-background, var(--jp-layout-color0, white)));\n",
       "  --sklearn-color-border-box: var(--sg-text-color, var(--theme-code-foreground, var(--jp-content-font-color1, black)));\n",
       "  --sklearn-color-icon: #696969;\n",
       "\n",
       "  @media (prefers-color-scheme: dark) {\n",
       "    /* Redefinition of color scheme for dark theme */\n",
       "    --sklearn-color-text-on-default-background: var(--sg-text-color, var(--theme-code-foreground, var(--jp-content-font-color1, white)));\n",
       "    --sklearn-color-background: var(--sg-background-color, var(--theme-background, var(--jp-layout-color0, #111)));\n",
       "    --sklearn-color-border-box: var(--sg-text-color, var(--theme-code-foreground, var(--jp-content-font-color1, white)));\n",
       "    --sklearn-color-icon: #878787;\n",
       "  }\n",
       "}\n",
       "\n",
       "#sk-container-id-3 {\n",
       "  color: var(--sklearn-color-text);\n",
       "}\n",
       "\n",
       "#sk-container-id-3 pre {\n",
       "  padding: 0;\n",
       "}\n",
       "\n",
       "#sk-container-id-3 input.sk-hidden--visually {\n",
       "  border: 0;\n",
       "  clip: rect(1px 1px 1px 1px);\n",
       "  clip: rect(1px, 1px, 1px, 1px);\n",
       "  height: 1px;\n",
       "  margin: -1px;\n",
       "  overflow: hidden;\n",
       "  padding: 0;\n",
       "  position: absolute;\n",
       "  width: 1px;\n",
       "}\n",
       "\n",
       "#sk-container-id-3 div.sk-dashed-wrapped {\n",
       "  border: 1px dashed var(--sklearn-color-line);\n",
       "  margin: 0 0.4em 0.5em 0.4em;\n",
       "  box-sizing: border-box;\n",
       "  padding-bottom: 0.4em;\n",
       "  background-color: var(--sklearn-color-background);\n",
       "}\n",
       "\n",
       "#sk-container-id-3 div.sk-container {\n",
       "  /* jupyter's `normalize.less` sets `[hidden] { display: none; }`\n",
       "     but bootstrap.min.css set `[hidden] { display: none !important; }`\n",
       "     so we also need the `!important` here to be able to override the\n",
       "     default hidden behavior on the sphinx rendered scikit-learn.org.\n",
       "     See: https://github.com/scikit-learn/scikit-learn/issues/21755 */\n",
       "  display: inline-block !important;\n",
       "  position: relative;\n",
       "}\n",
       "\n",
       "#sk-container-id-3 div.sk-text-repr-fallback {\n",
       "  display: none;\n",
       "}\n",
       "\n",
       "div.sk-parallel-item,\n",
       "div.sk-serial,\n",
       "div.sk-item {\n",
       "  /* draw centered vertical line to link estimators */\n",
       "  background-image: linear-gradient(var(--sklearn-color-text-on-default-background), var(--sklearn-color-text-on-default-background));\n",
       "  background-size: 2px 100%;\n",
       "  background-repeat: no-repeat;\n",
       "  background-position: center center;\n",
       "}\n",
       "\n",
       "/* Parallel-specific style estimator block */\n",
       "\n",
       "#sk-container-id-3 div.sk-parallel-item::after {\n",
       "  content: \"\";\n",
       "  width: 100%;\n",
       "  border-bottom: 2px solid var(--sklearn-color-text-on-default-background);\n",
       "  flex-grow: 1;\n",
       "}\n",
       "\n",
       "#sk-container-id-3 div.sk-parallel {\n",
       "  display: flex;\n",
       "  align-items: stretch;\n",
       "  justify-content: center;\n",
       "  background-color: var(--sklearn-color-background);\n",
       "  position: relative;\n",
       "}\n",
       "\n",
       "#sk-container-id-3 div.sk-parallel-item {\n",
       "  display: flex;\n",
       "  flex-direction: column;\n",
       "}\n",
       "\n",
       "#sk-container-id-3 div.sk-parallel-item:first-child::after {\n",
       "  align-self: flex-end;\n",
       "  width: 50%;\n",
       "}\n",
       "\n",
       "#sk-container-id-3 div.sk-parallel-item:last-child::after {\n",
       "  align-self: flex-start;\n",
       "  width: 50%;\n",
       "}\n",
       "\n",
       "#sk-container-id-3 div.sk-parallel-item:only-child::after {\n",
       "  width: 0;\n",
       "}\n",
       "\n",
       "/* Serial-specific style estimator block */\n",
       "\n",
       "#sk-container-id-3 div.sk-serial {\n",
       "  display: flex;\n",
       "  flex-direction: column;\n",
       "  align-items: center;\n",
       "  background-color: var(--sklearn-color-background);\n",
       "  padding-right: 1em;\n",
       "  padding-left: 1em;\n",
       "}\n",
       "\n",
       "\n",
       "/* Toggleable style: style used for estimator/Pipeline/ColumnTransformer box that is\n",
       "clickable and can be expanded/collapsed.\n",
       "- Pipeline and ColumnTransformer use this feature and define the default style\n",
       "- Estimators will overwrite some part of the style using the `sk-estimator` class\n",
       "*/\n",
       "\n",
       "/* Pipeline and ColumnTransformer style (default) */\n",
       "\n",
       "#sk-container-id-3 div.sk-toggleable {\n",
       "  /* Default theme specific background. It is overwritten whether we have a\n",
       "  specific estimator or a Pipeline/ColumnTransformer */\n",
       "  background-color: var(--sklearn-color-background);\n",
       "}\n",
       "\n",
       "/* Toggleable label */\n",
       "#sk-container-id-3 label.sk-toggleable__label {\n",
       "  cursor: pointer;\n",
       "  display: block;\n",
       "  width: 100%;\n",
       "  margin-bottom: 0;\n",
       "  padding: 0.5em;\n",
       "  box-sizing: border-box;\n",
       "  text-align: center;\n",
       "}\n",
       "\n",
       "#sk-container-id-3 label.sk-toggleable__label-arrow:before {\n",
       "  /* Arrow on the left of the label */\n",
       "  content: \"▸\";\n",
       "  float: left;\n",
       "  margin-right: 0.25em;\n",
       "  color: var(--sklearn-color-icon);\n",
       "}\n",
       "\n",
       "#sk-container-id-3 label.sk-toggleable__label-arrow:hover:before {\n",
       "  color: var(--sklearn-color-text);\n",
       "}\n",
       "\n",
       "/* Toggleable content - dropdown */\n",
       "\n",
       "#sk-container-id-3 div.sk-toggleable__content {\n",
       "  max-height: 0;\n",
       "  max-width: 0;\n",
       "  overflow: hidden;\n",
       "  text-align: left;\n",
       "  /* unfitted */\n",
       "  background-color: var(--sklearn-color-unfitted-level-0);\n",
       "}\n",
       "\n",
       "#sk-container-id-3 div.sk-toggleable__content.fitted {\n",
       "  /* fitted */\n",
       "  background-color: var(--sklearn-color-fitted-level-0);\n",
       "}\n",
       "\n",
       "#sk-container-id-3 div.sk-toggleable__content pre {\n",
       "  margin: 0.2em;\n",
       "  border-radius: 0.25em;\n",
       "  color: var(--sklearn-color-text);\n",
       "  /* unfitted */\n",
       "  background-color: var(--sklearn-color-unfitted-level-0);\n",
       "}\n",
       "\n",
       "#sk-container-id-3 div.sk-toggleable__content.fitted pre {\n",
       "  /* unfitted */\n",
       "  background-color: var(--sklearn-color-fitted-level-0);\n",
       "}\n",
       "\n",
       "#sk-container-id-3 input.sk-toggleable__control:checked~div.sk-toggleable__content {\n",
       "  /* Expand drop-down */\n",
       "  max-height: 200px;\n",
       "  max-width: 100%;\n",
       "  overflow: auto;\n",
       "}\n",
       "\n",
       "#sk-container-id-3 input.sk-toggleable__control:checked~label.sk-toggleable__label-arrow:before {\n",
       "  content: \"▾\";\n",
       "}\n",
       "\n",
       "/* Pipeline/ColumnTransformer-specific style */\n",
       "\n",
       "#sk-container-id-3 div.sk-label input.sk-toggleable__control:checked~label.sk-toggleable__label {\n",
       "  color: var(--sklearn-color-text);\n",
       "  background-color: var(--sklearn-color-unfitted-level-2);\n",
       "}\n",
       "\n",
       "#sk-container-id-3 div.sk-label.fitted input.sk-toggleable__control:checked~label.sk-toggleable__label {\n",
       "  background-color: var(--sklearn-color-fitted-level-2);\n",
       "}\n",
       "\n",
       "/* Estimator-specific style */\n",
       "\n",
       "/* Colorize estimator box */\n",
       "#sk-container-id-3 div.sk-estimator input.sk-toggleable__control:checked~label.sk-toggleable__label {\n",
       "  /* unfitted */\n",
       "  background-color: var(--sklearn-color-unfitted-level-2);\n",
       "}\n",
       "\n",
       "#sk-container-id-3 div.sk-estimator.fitted input.sk-toggleable__control:checked~label.sk-toggleable__label {\n",
       "  /* fitted */\n",
       "  background-color: var(--sklearn-color-fitted-level-2);\n",
       "}\n",
       "\n",
       "#sk-container-id-3 div.sk-label label.sk-toggleable__label,\n",
       "#sk-container-id-3 div.sk-label label {\n",
       "  /* The background is the default theme color */\n",
       "  color: var(--sklearn-color-text-on-default-background);\n",
       "}\n",
       "\n",
       "/* On hover, darken the color of the background */\n",
       "#sk-container-id-3 div.sk-label:hover label.sk-toggleable__label {\n",
       "  color: var(--sklearn-color-text);\n",
       "  background-color: var(--sklearn-color-unfitted-level-2);\n",
       "}\n",
       "\n",
       "/* Label box, darken color on hover, fitted */\n",
       "#sk-container-id-3 div.sk-label.fitted:hover label.sk-toggleable__label.fitted {\n",
       "  color: var(--sklearn-color-text);\n",
       "  background-color: var(--sklearn-color-fitted-level-2);\n",
       "}\n",
       "\n",
       "/* Estimator label */\n",
       "\n",
       "#sk-container-id-3 div.sk-label label {\n",
       "  font-family: monospace;\n",
       "  font-weight: bold;\n",
       "  display: inline-block;\n",
       "  line-height: 1.2em;\n",
       "}\n",
       "\n",
       "#sk-container-id-3 div.sk-label-container {\n",
       "  text-align: center;\n",
       "}\n",
       "\n",
       "/* Estimator-specific */\n",
       "#sk-container-id-3 div.sk-estimator {\n",
       "  font-family: monospace;\n",
       "  border: 1px dotted var(--sklearn-color-border-box);\n",
       "  border-radius: 0.25em;\n",
       "  box-sizing: border-box;\n",
       "  margin-bottom: 0.5em;\n",
       "  /* unfitted */\n",
       "  background-color: var(--sklearn-color-unfitted-level-0);\n",
       "}\n",
       "\n",
       "#sk-container-id-3 div.sk-estimator.fitted {\n",
       "  /* fitted */\n",
       "  background-color: var(--sklearn-color-fitted-level-0);\n",
       "}\n",
       "\n",
       "/* on hover */\n",
       "#sk-container-id-3 div.sk-estimator:hover {\n",
       "  /* unfitted */\n",
       "  background-color: var(--sklearn-color-unfitted-level-2);\n",
       "}\n",
       "\n",
       "#sk-container-id-3 div.sk-estimator.fitted:hover {\n",
       "  /* fitted */\n",
       "  background-color: var(--sklearn-color-fitted-level-2);\n",
       "}\n",
       "\n",
       "/* Specification for estimator info (e.g. \"i\" and \"?\") */\n",
       "\n",
       "/* Common style for \"i\" and \"?\" */\n",
       "\n",
       ".sk-estimator-doc-link,\n",
       "a:link.sk-estimator-doc-link,\n",
       "a:visited.sk-estimator-doc-link {\n",
       "  float: right;\n",
       "  font-size: smaller;\n",
       "  line-height: 1em;\n",
       "  font-family: monospace;\n",
       "  background-color: var(--sklearn-color-background);\n",
       "  border-radius: 1em;\n",
       "  height: 1em;\n",
       "  width: 1em;\n",
       "  text-decoration: none !important;\n",
       "  margin-left: 1ex;\n",
       "  /* unfitted */\n",
       "  border: var(--sklearn-color-unfitted-level-1) 1pt solid;\n",
       "  color: var(--sklearn-color-unfitted-level-1);\n",
       "}\n",
       "\n",
       ".sk-estimator-doc-link.fitted,\n",
       "a:link.sk-estimator-doc-link.fitted,\n",
       "a:visited.sk-estimator-doc-link.fitted {\n",
       "  /* fitted */\n",
       "  border: var(--sklearn-color-fitted-level-1) 1pt solid;\n",
       "  color: var(--sklearn-color-fitted-level-1);\n",
       "}\n",
       "\n",
       "/* On hover */\n",
       "div.sk-estimator:hover .sk-estimator-doc-link:hover,\n",
       ".sk-estimator-doc-link:hover,\n",
       "div.sk-label-container:hover .sk-estimator-doc-link:hover,\n",
       ".sk-estimator-doc-link:hover {\n",
       "  /* unfitted */\n",
       "  background-color: var(--sklearn-color-unfitted-level-3);\n",
       "  color: var(--sklearn-color-background);\n",
       "  text-decoration: none;\n",
       "}\n",
       "\n",
       "div.sk-estimator.fitted:hover .sk-estimator-doc-link.fitted:hover,\n",
       ".sk-estimator-doc-link.fitted:hover,\n",
       "div.sk-label-container:hover .sk-estimator-doc-link.fitted:hover,\n",
       ".sk-estimator-doc-link.fitted:hover {\n",
       "  /* fitted */\n",
       "  background-color: var(--sklearn-color-fitted-level-3);\n",
       "  color: var(--sklearn-color-background);\n",
       "  text-decoration: none;\n",
       "}\n",
       "\n",
       "/* Span, style for the box shown on hovering the info icon */\n",
       ".sk-estimator-doc-link span {\n",
       "  display: none;\n",
       "  z-index: 9999;\n",
       "  position: relative;\n",
       "  font-weight: normal;\n",
       "  right: .2ex;\n",
       "  padding: .5ex;\n",
       "  margin: .5ex;\n",
       "  width: min-content;\n",
       "  min-width: 20ex;\n",
       "  max-width: 50ex;\n",
       "  color: var(--sklearn-color-text);\n",
       "  box-shadow: 2pt 2pt 4pt #999;\n",
       "  /* unfitted */\n",
       "  background: var(--sklearn-color-unfitted-level-0);\n",
       "  border: .5pt solid var(--sklearn-color-unfitted-level-3);\n",
       "}\n",
       "\n",
       ".sk-estimator-doc-link.fitted span {\n",
       "  /* fitted */\n",
       "  background: var(--sklearn-color-fitted-level-0);\n",
       "  border: var(--sklearn-color-fitted-level-3);\n",
       "}\n",
       "\n",
       ".sk-estimator-doc-link:hover span {\n",
       "  display: block;\n",
       "}\n",
       "\n",
       "/* \"?\"-specific style due to the `<a>` HTML tag */\n",
       "\n",
       "#sk-container-id-3 a.estimator_doc_link {\n",
       "  float: right;\n",
       "  font-size: 1rem;\n",
       "  line-height: 1em;\n",
       "  font-family: monospace;\n",
       "  background-color: var(--sklearn-color-background);\n",
       "  border-radius: 1rem;\n",
       "  height: 1rem;\n",
       "  width: 1rem;\n",
       "  text-decoration: none;\n",
       "  /* unfitted */\n",
       "  color: var(--sklearn-color-unfitted-level-1);\n",
       "  border: var(--sklearn-color-unfitted-level-1) 1pt solid;\n",
       "}\n",
       "\n",
       "#sk-container-id-3 a.estimator_doc_link.fitted {\n",
       "  /* fitted */\n",
       "  border: var(--sklearn-color-fitted-level-1) 1pt solid;\n",
       "  color: var(--sklearn-color-fitted-level-1);\n",
       "}\n",
       "\n",
       "/* On hover */\n",
       "#sk-container-id-3 a.estimator_doc_link:hover {\n",
       "  /* unfitted */\n",
       "  background-color: var(--sklearn-color-unfitted-level-3);\n",
       "  color: var(--sklearn-color-background);\n",
       "  text-decoration: none;\n",
       "}\n",
       "\n",
       "#sk-container-id-3 a.estimator_doc_link.fitted:hover {\n",
       "  /* fitted */\n",
       "  background-color: var(--sklearn-color-fitted-level-3);\n",
       "}\n",
       "</style><div id=\"sk-container-id-3\" class=\"sk-top-container\"><div class=\"sk-text-repr-fallback\"><pre>DecisionTreeRegressor(max_depth=5, min_samples_leaf=10)</pre><b>In a Jupyter environment, please rerun this cell to show the HTML representation or trust the notebook. <br />On GitHub, the HTML representation is unable to render, please try loading this page with nbviewer.org.</b></div><div class=\"sk-container\" hidden><div class=\"sk-item\"><div class=\"sk-estimator fitted sk-toggleable\"><input class=\"sk-toggleable__control sk-hidden--visually\" id=\"sk-estimator-id-7\" type=\"checkbox\" checked><label for=\"sk-estimator-id-7\" class=\"sk-toggleable__label fitted sk-toggleable__label-arrow fitted\">&nbsp;&nbsp;DecisionTreeRegressor<a class=\"sk-estimator-doc-link fitted\" rel=\"noreferrer\" target=\"_blank\" href=\"https://scikit-learn.org/1.4/modules/generated/sklearn.tree.DecisionTreeRegressor.html\">?<span>Documentation for DecisionTreeRegressor</span></a><span class=\"sk-estimator-doc-link fitted\">i<span>Fitted</span></span></label><div class=\"sk-toggleable__content fitted\"><pre>DecisionTreeRegressor(max_depth=5, min_samples_leaf=10)</pre></div> </div></div></div></div>"
      ],
      "text/plain": [
       "DecisionTreeRegressor(max_depth=5, min_samples_leaf=10)"
      ]
     },
     "execution_count": 58,
     "metadata": {},
     "output_type": "execute_result"
    }
   ],
   "source": [
    "best_model_tree_regressor = grid_search_tree_regressor.best_estimator_\n",
    "best_model_tree_regressor"
   ]
  },
  {
   "cell_type": "markdown",
   "id": "66b90a52-3768-42be-9134-2ebfae9a7099",
   "metadata": {
    "jp-MarkdownHeadingCollapsed": true
   },
   "source": [
    "## Forest Grid Search"
   ]
  },
  {
   "cell_type": "code",
   "execution_count": 60,
   "id": "974d1354-896a-4e78-9470-966bb5b7ee25",
   "metadata": {},
   "outputs": [
    {
     "name": "stdout",
     "output_type": "stream",
     "text": [
      "Fitting 10 folds for each of 81 candidates, totalling 810 fits\n"
     ]
    },
    {
     "name": "stderr",
     "output_type": "stream",
     "text": [
      "C:\\Users\\ben8h\\anaconda3\\Lib\\site-packages\\sklearn\\model_selection\\_split.py:737: UserWarning: The least populated class in y has only 1 members, which is less than n_splits=10.\n",
      "  warnings.warn(\n",
      "C:\\Users\\ben8h\\anaconda3\\Lib\\site-packages\\sklearn\\base.py:1474: DataConversionWarning: A column-vector y was passed when a 1d array was expected. Please change the shape of y to (n_samples,), for example using ravel().\n",
      "  return fit_method(estimator, *args, **kwargs)\n"
     ]
    },
    {
     "name": "stdout",
     "output_type": "stream",
     "text": [
      "[CV 1/10] END max_depth=None, min_samples_leaf=1, min_samples_split=2, n_estimators=50;, score=0.124 total time=   3.1s\n"
     ]
    },
    {
     "name": "stderr",
     "output_type": "stream",
     "text": [
      "C:\\Users\\ben8h\\anaconda3\\Lib\\site-packages\\sklearn\\base.py:1474: DataConversionWarning: A column-vector y was passed when a 1d array was expected. Please change the shape of y to (n_samples,), for example using ravel().\n",
      "  return fit_method(estimator, *args, **kwargs)\n"
     ]
    },
    {
     "name": "stdout",
     "output_type": "stream",
     "text": [
      "[CV 2/10] END max_depth=None, min_samples_leaf=1, min_samples_split=2, n_estimators=50;, score=0.162 total time=   3.2s\n"
     ]
    },
    {
     "name": "stderr",
     "output_type": "stream",
     "text": [
      "C:\\Users\\ben8h\\anaconda3\\Lib\\site-packages\\sklearn\\base.py:1474: DataConversionWarning: A column-vector y was passed when a 1d array was expected. Please change the shape of y to (n_samples,), for example using ravel().\n",
      "  return fit_method(estimator, *args, **kwargs)\n"
     ]
    },
    {
     "name": "stdout",
     "output_type": "stream",
     "text": [
      "[CV 3/10] END max_depth=None, min_samples_leaf=1, min_samples_split=2, n_estimators=50;, score=0.237 total time=   3.2s\n"
     ]
    },
    {
     "name": "stderr",
     "output_type": "stream",
     "text": [
      "C:\\Users\\ben8h\\anaconda3\\Lib\\site-packages\\sklearn\\base.py:1474: DataConversionWarning: A column-vector y was passed when a 1d array was expected. Please change the shape of y to (n_samples,), for example using ravel().\n",
      "  return fit_method(estimator, *args, **kwargs)\n"
     ]
    },
    {
     "name": "stdout",
     "output_type": "stream",
     "text": [
      "[CV 4/10] END max_depth=None, min_samples_leaf=1, min_samples_split=2, n_estimators=50;, score=0.121 total time=   3.0s\n"
     ]
    },
    {
     "name": "stderr",
     "output_type": "stream",
     "text": [
      "C:\\Users\\ben8h\\anaconda3\\Lib\\site-packages\\sklearn\\base.py:1474: DataConversionWarning: A column-vector y was passed when a 1d array was expected. Please change the shape of y to (n_samples,), for example using ravel().\n",
      "  return fit_method(estimator, *args, **kwargs)\n"
     ]
    },
    {
     "name": "stdout",
     "output_type": "stream",
     "text": [
      "[CV 5/10] END max_depth=None, min_samples_leaf=1, min_samples_split=2, n_estimators=50;, score=0.187 total time=   3.1s\n"
     ]
    },
    {
     "name": "stderr",
     "output_type": "stream",
     "text": [
      "C:\\Users\\ben8h\\anaconda3\\Lib\\site-packages\\sklearn\\base.py:1474: DataConversionWarning: A column-vector y was passed when a 1d array was expected. Please change the shape of y to (n_samples,), for example using ravel().\n",
      "  return fit_method(estimator, *args, **kwargs)\n"
     ]
    },
    {
     "name": "stdout",
     "output_type": "stream",
     "text": [
      "[CV 6/10] END max_depth=None, min_samples_leaf=1, min_samples_split=2, n_estimators=50;, score=0.130 total time=   3.1s\n"
     ]
    },
    {
     "name": "stderr",
     "output_type": "stream",
     "text": [
      "C:\\Users\\ben8h\\anaconda3\\Lib\\site-packages\\sklearn\\base.py:1474: DataConversionWarning: A column-vector y was passed when a 1d array was expected. Please change the shape of y to (n_samples,), for example using ravel().\n",
      "  return fit_method(estimator, *args, **kwargs)\n"
     ]
    },
    {
     "name": "stdout",
     "output_type": "stream",
     "text": [
      "[CV 7/10] END max_depth=None, min_samples_leaf=1, min_samples_split=2, n_estimators=50;, score=0.095 total time=   2.9s\n"
     ]
    },
    {
     "name": "stderr",
     "output_type": "stream",
     "text": [
      "C:\\Users\\ben8h\\anaconda3\\Lib\\site-packages\\sklearn\\base.py:1474: DataConversionWarning: A column-vector y was passed when a 1d array was expected. Please change the shape of y to (n_samples,), for example using ravel().\n",
      "  return fit_method(estimator, *args, **kwargs)\n"
     ]
    },
    {
     "name": "stdout",
     "output_type": "stream",
     "text": [
      "[CV 8/10] END max_depth=None, min_samples_leaf=1, min_samples_split=2, n_estimators=50;, score=0.150 total time=   3.0s\n"
     ]
    },
    {
     "name": "stderr",
     "output_type": "stream",
     "text": [
      "C:\\Users\\ben8h\\anaconda3\\Lib\\site-packages\\sklearn\\base.py:1474: DataConversionWarning: A column-vector y was passed when a 1d array was expected. Please change the shape of y to (n_samples,), for example using ravel().\n",
      "  return fit_method(estimator, *args, **kwargs)\n"
     ]
    },
    {
     "name": "stdout",
     "output_type": "stream",
     "text": [
      "[CV 9/10] END max_depth=None, min_samples_leaf=1, min_samples_split=2, n_estimators=50;, score=0.127 total time=   2.9s\n"
     ]
    },
    {
     "name": "stderr",
     "output_type": "stream",
     "text": [
      "C:\\Users\\ben8h\\anaconda3\\Lib\\site-packages\\sklearn\\base.py:1474: DataConversionWarning: A column-vector y was passed when a 1d array was expected. Please change the shape of y to (n_samples,), for example using ravel().\n",
      "  return fit_method(estimator, *args, **kwargs)\n"
     ]
    },
    {
     "name": "stdout",
     "output_type": "stream",
     "text": [
      "[CV 10/10] END max_depth=None, min_samples_leaf=1, min_samples_split=2, n_estimators=50;, score=0.146 total time=   2.9s\n"
     ]
    },
    {
     "name": "stderr",
     "output_type": "stream",
     "text": [
      "C:\\Users\\ben8h\\anaconda3\\Lib\\site-packages\\sklearn\\base.py:1474: DataConversionWarning: A column-vector y was passed when a 1d array was expected. Please change the shape of y to (n_samples,), for example using ravel().\n",
      "  return fit_method(estimator, *args, **kwargs)\n"
     ]
    },
    {
     "name": "stdout",
     "output_type": "stream",
     "text": [
      "[CV 1/10] END max_depth=None, min_samples_leaf=1, min_samples_split=2, n_estimators=100;, score=0.140 total time=   5.8s\n"
     ]
    },
    {
     "name": "stderr",
     "output_type": "stream",
     "text": [
      "C:\\Users\\ben8h\\anaconda3\\Lib\\site-packages\\sklearn\\base.py:1474: DataConversionWarning: A column-vector y was passed when a 1d array was expected. Please change the shape of y to (n_samples,), for example using ravel().\n",
      "  return fit_method(estimator, *args, **kwargs)\n"
     ]
    },
    {
     "name": "stdout",
     "output_type": "stream",
     "text": [
      "[CV 2/10] END max_depth=None, min_samples_leaf=1, min_samples_split=2, n_estimators=100;, score=0.175 total time=   5.8s\n"
     ]
    },
    {
     "name": "stderr",
     "output_type": "stream",
     "text": [
      "C:\\Users\\ben8h\\anaconda3\\Lib\\site-packages\\sklearn\\base.py:1474: DataConversionWarning: A column-vector y was passed when a 1d array was expected. Please change the shape of y to (n_samples,), for example using ravel().\n",
      "  return fit_method(estimator, *args, **kwargs)\n"
     ]
    },
    {
     "name": "stdout",
     "output_type": "stream",
     "text": [
      "[CV 3/10] END max_depth=None, min_samples_leaf=1, min_samples_split=2, n_estimators=100;, score=0.225 total time=   5.9s\n"
     ]
    },
    {
     "name": "stderr",
     "output_type": "stream",
     "text": [
      "C:\\Users\\ben8h\\anaconda3\\Lib\\site-packages\\sklearn\\base.py:1474: DataConversionWarning: A column-vector y was passed when a 1d array was expected. Please change the shape of y to (n_samples,), for example using ravel().\n",
      "  return fit_method(estimator, *args, **kwargs)\n"
     ]
    },
    {
     "name": "stdout",
     "output_type": "stream",
     "text": [
      "[CV 4/10] END max_depth=None, min_samples_leaf=1, min_samples_split=2, n_estimators=100;, score=0.118 total time=   5.8s\n"
     ]
    },
    {
     "name": "stderr",
     "output_type": "stream",
     "text": [
      "C:\\Users\\ben8h\\anaconda3\\Lib\\site-packages\\sklearn\\base.py:1474: DataConversionWarning: A column-vector y was passed when a 1d array was expected. Please change the shape of y to (n_samples,), for example using ravel().\n",
      "  return fit_method(estimator, *args, **kwargs)\n"
     ]
    },
    {
     "name": "stdout",
     "output_type": "stream",
     "text": [
      "[CV 5/10] END max_depth=None, min_samples_leaf=1, min_samples_split=2, n_estimators=100;, score=0.200 total time=   6.1s\n"
     ]
    },
    {
     "name": "stderr",
     "output_type": "stream",
     "text": [
      "C:\\Users\\ben8h\\anaconda3\\Lib\\site-packages\\sklearn\\base.py:1474: DataConversionWarning: A column-vector y was passed when a 1d array was expected. Please change the shape of y to (n_samples,), for example using ravel().\n",
      "  return fit_method(estimator, *args, **kwargs)\n"
     ]
    },
    {
     "name": "stdout",
     "output_type": "stream",
     "text": [
      "[CV 6/10] END max_depth=None, min_samples_leaf=1, min_samples_split=2, n_estimators=100;, score=0.149 total time=   5.9s\n"
     ]
    },
    {
     "name": "stderr",
     "output_type": "stream",
     "text": [
      "C:\\Users\\ben8h\\anaconda3\\Lib\\site-packages\\sklearn\\base.py:1474: DataConversionWarning: A column-vector y was passed when a 1d array was expected. Please change the shape of y to (n_samples,), for example using ravel().\n",
      "  return fit_method(estimator, *args, **kwargs)\n"
     ]
    },
    {
     "name": "stdout",
     "output_type": "stream",
     "text": [
      "[CV 7/10] END max_depth=None, min_samples_leaf=1, min_samples_split=2, n_estimators=100;, score=0.137 total time=   6.1s\n"
     ]
    },
    {
     "name": "stderr",
     "output_type": "stream",
     "text": [
      "C:\\Users\\ben8h\\anaconda3\\Lib\\site-packages\\sklearn\\base.py:1474: DataConversionWarning: A column-vector y was passed when a 1d array was expected. Please change the shape of y to (n_samples,), for example using ravel().\n",
      "  return fit_method(estimator, *args, **kwargs)\n"
     ]
    },
    {
     "name": "stdout",
     "output_type": "stream",
     "text": [
      "[CV 8/10] END max_depth=None, min_samples_leaf=1, min_samples_split=2, n_estimators=100;, score=0.137 total time=   5.9s\n"
     ]
    },
    {
     "name": "stderr",
     "output_type": "stream",
     "text": [
      "C:\\Users\\ben8h\\anaconda3\\Lib\\site-packages\\sklearn\\base.py:1474: DataConversionWarning: A column-vector y was passed when a 1d array was expected. Please change the shape of y to (n_samples,), for example using ravel().\n",
      "  return fit_method(estimator, *args, **kwargs)\n"
     ]
    },
    {
     "name": "stdout",
     "output_type": "stream",
     "text": [
      "[CV 9/10] END max_depth=None, min_samples_leaf=1, min_samples_split=2, n_estimators=100;, score=0.118 total time=   5.8s\n"
     ]
    },
    {
     "name": "stderr",
     "output_type": "stream",
     "text": [
      "C:\\Users\\ben8h\\anaconda3\\Lib\\site-packages\\sklearn\\base.py:1474: DataConversionWarning: A column-vector y was passed when a 1d array was expected. Please change the shape of y to (n_samples,), for example using ravel().\n",
      "  return fit_method(estimator, *args, **kwargs)\n"
     ]
    },
    {
     "name": "stdout",
     "output_type": "stream",
     "text": [
      "[CV 10/10] END max_depth=None, min_samples_leaf=1, min_samples_split=2, n_estimators=100;, score=0.160 total time=   6.0s\n"
     ]
    },
    {
     "name": "stderr",
     "output_type": "stream",
     "text": [
      "C:\\Users\\ben8h\\anaconda3\\Lib\\site-packages\\sklearn\\base.py:1474: DataConversionWarning: A column-vector y was passed when a 1d array was expected. Please change the shape of y to (n_samples,), for example using ravel().\n",
      "  return fit_method(estimator, *args, **kwargs)\n"
     ]
    },
    {
     "name": "stdout",
     "output_type": "stream",
     "text": [
      "[CV 1/10] END max_depth=None, min_samples_leaf=1, min_samples_split=2, n_estimators=200;, score=0.147 total time=  12.0s\n"
     ]
    },
    {
     "name": "stderr",
     "output_type": "stream",
     "text": [
      "C:\\Users\\ben8h\\anaconda3\\Lib\\site-packages\\sklearn\\base.py:1474: DataConversionWarning: A column-vector y was passed when a 1d array was expected. Please change the shape of y to (n_samples,), for example using ravel().\n",
      "  return fit_method(estimator, *args, **kwargs)\n"
     ]
    },
    {
     "name": "stdout",
     "output_type": "stream",
     "text": [
      "[CV 2/10] END max_depth=None, min_samples_leaf=1, min_samples_split=2, n_estimators=200;, score=0.166 total time=  11.9s\n"
     ]
    },
    {
     "name": "stderr",
     "output_type": "stream",
     "text": [
      "C:\\Users\\ben8h\\anaconda3\\Lib\\site-packages\\sklearn\\base.py:1474: DataConversionWarning: A column-vector y was passed when a 1d array was expected. Please change the shape of y to (n_samples,), for example using ravel().\n",
      "  return fit_method(estimator, *args, **kwargs)\n"
     ]
    },
    {
     "name": "stdout",
     "output_type": "stream",
     "text": [
      "[CV 3/10] END max_depth=None, min_samples_leaf=1, min_samples_split=2, n_estimators=200;, score=0.236 total time=  12.2s\n"
     ]
    },
    {
     "name": "stderr",
     "output_type": "stream",
     "text": [
      "C:\\Users\\ben8h\\anaconda3\\Lib\\site-packages\\sklearn\\base.py:1474: DataConversionWarning: A column-vector y was passed when a 1d array was expected. Please change the shape of y to (n_samples,), for example using ravel().\n",
      "  return fit_method(estimator, *args, **kwargs)\n"
     ]
    },
    {
     "name": "stdout",
     "output_type": "stream",
     "text": [
      "[CV 4/10] END max_depth=None, min_samples_leaf=1, min_samples_split=2, n_estimators=200;, score=0.119 total time=  12.3s\n"
     ]
    },
    {
     "name": "stderr",
     "output_type": "stream",
     "text": [
      "C:\\Users\\ben8h\\anaconda3\\Lib\\site-packages\\sklearn\\base.py:1474: DataConversionWarning: A column-vector y was passed when a 1d array was expected. Please change the shape of y to (n_samples,), for example using ravel().\n",
      "  return fit_method(estimator, *args, **kwargs)\n"
     ]
    },
    {
     "name": "stdout",
     "output_type": "stream",
     "text": [
      "[CV 5/10] END max_depth=None, min_samples_leaf=1, min_samples_split=2, n_estimators=200;, score=0.198 total time=  12.2s\n"
     ]
    },
    {
     "name": "stderr",
     "output_type": "stream",
     "text": [
      "C:\\Users\\ben8h\\anaconda3\\Lib\\site-packages\\sklearn\\base.py:1474: DataConversionWarning: A column-vector y was passed when a 1d array was expected. Please change the shape of y to (n_samples,), for example using ravel().\n",
      "  return fit_method(estimator, *args, **kwargs)\n"
     ]
    },
    {
     "name": "stdout",
     "output_type": "stream",
     "text": [
      "[CV 6/10] END max_depth=None, min_samples_leaf=1, min_samples_split=2, n_estimators=200;, score=0.149 total time=  12.0s\n"
     ]
    },
    {
     "name": "stderr",
     "output_type": "stream",
     "text": [
      "C:\\Users\\ben8h\\anaconda3\\Lib\\site-packages\\sklearn\\base.py:1474: DataConversionWarning: A column-vector y was passed when a 1d array was expected. Please change the shape of y to (n_samples,), for example using ravel().\n",
      "  return fit_method(estimator, *args, **kwargs)\n"
     ]
    },
    {
     "name": "stdout",
     "output_type": "stream",
     "text": [
      "[CV 7/10] END max_depth=None, min_samples_leaf=1, min_samples_split=2, n_estimators=200;, score=0.137 total time=  11.9s\n"
     ]
    },
    {
     "name": "stderr",
     "output_type": "stream",
     "text": [
      "C:\\Users\\ben8h\\anaconda3\\Lib\\site-packages\\sklearn\\base.py:1474: DataConversionWarning: A column-vector y was passed when a 1d array was expected. Please change the shape of y to (n_samples,), for example using ravel().\n",
      "  return fit_method(estimator, *args, **kwargs)\n"
     ]
    },
    {
     "name": "stdout",
     "output_type": "stream",
     "text": [
      "[CV 8/10] END max_depth=None, min_samples_leaf=1, min_samples_split=2, n_estimators=200;, score=0.153 total time=  11.9s\n"
     ]
    },
    {
     "name": "stderr",
     "output_type": "stream",
     "text": [
      "C:\\Users\\ben8h\\anaconda3\\Lib\\site-packages\\sklearn\\base.py:1474: DataConversionWarning: A column-vector y was passed when a 1d array was expected. Please change the shape of y to (n_samples,), for example using ravel().\n",
      "  return fit_method(estimator, *args, **kwargs)\n"
     ]
    },
    {
     "name": "stdout",
     "output_type": "stream",
     "text": [
      "[CV 9/10] END max_depth=None, min_samples_leaf=1, min_samples_split=2, n_estimators=200;, score=0.142 total time=  11.9s\n"
     ]
    },
    {
     "name": "stderr",
     "output_type": "stream",
     "text": [
      "C:\\Users\\ben8h\\anaconda3\\Lib\\site-packages\\sklearn\\base.py:1474: DataConversionWarning: A column-vector y was passed when a 1d array was expected. Please change the shape of y to (n_samples,), for example using ravel().\n",
      "  return fit_method(estimator, *args, **kwargs)\n"
     ]
    },
    {
     "name": "stdout",
     "output_type": "stream",
     "text": [
      "[CV 10/10] END max_depth=None, min_samples_leaf=1, min_samples_split=2, n_estimators=200;, score=0.162 total time=  11.7s\n"
     ]
    },
    {
     "name": "stderr",
     "output_type": "stream",
     "text": [
      "C:\\Users\\ben8h\\anaconda3\\Lib\\site-packages\\sklearn\\base.py:1474: DataConversionWarning: A column-vector y was passed when a 1d array was expected. Please change the shape of y to (n_samples,), for example using ravel().\n",
      "  return fit_method(estimator, *args, **kwargs)\n"
     ]
    },
    {
     "name": "stdout",
     "output_type": "stream",
     "text": [
      "[CV 1/10] END max_depth=None, min_samples_leaf=1, min_samples_split=5, n_estimators=50;, score=0.117 total time=   2.6s\n"
     ]
    },
    {
     "name": "stderr",
     "output_type": "stream",
     "text": [
      "C:\\Users\\ben8h\\anaconda3\\Lib\\site-packages\\sklearn\\base.py:1474: DataConversionWarning: A column-vector y was passed when a 1d array was expected. Please change the shape of y to (n_samples,), for example using ravel().\n",
      "  return fit_method(estimator, *args, **kwargs)\n"
     ]
    },
    {
     "name": "stdout",
     "output_type": "stream",
     "text": [
      "[CV 2/10] END max_depth=None, min_samples_leaf=1, min_samples_split=5, n_estimators=50;, score=0.183 total time=   2.5s\n"
     ]
    },
    {
     "name": "stderr",
     "output_type": "stream",
     "text": [
      "C:\\Users\\ben8h\\anaconda3\\Lib\\site-packages\\sklearn\\base.py:1474: DataConversionWarning: A column-vector y was passed when a 1d array was expected. Please change the shape of y to (n_samples,), for example using ravel().\n",
      "  return fit_method(estimator, *args, **kwargs)\n"
     ]
    },
    {
     "name": "stdout",
     "output_type": "stream",
     "text": [
      "[CV 3/10] END max_depth=None, min_samples_leaf=1, min_samples_split=5, n_estimators=50;, score=0.227 total time=   2.6s\n"
     ]
    },
    {
     "name": "stderr",
     "output_type": "stream",
     "text": [
      "C:\\Users\\ben8h\\anaconda3\\Lib\\site-packages\\sklearn\\base.py:1474: DataConversionWarning: A column-vector y was passed when a 1d array was expected. Please change the shape of y to (n_samples,), for example using ravel().\n",
      "  return fit_method(estimator, *args, **kwargs)\n"
     ]
    },
    {
     "name": "stdout",
     "output_type": "stream",
     "text": [
      "[CV 4/10] END max_depth=None, min_samples_leaf=1, min_samples_split=5, n_estimators=50;, score=0.114 total time=   2.5s\n"
     ]
    },
    {
     "name": "stderr",
     "output_type": "stream",
     "text": [
      "C:\\Users\\ben8h\\anaconda3\\Lib\\site-packages\\sklearn\\base.py:1474: DataConversionWarning: A column-vector y was passed when a 1d array was expected. Please change the shape of y to (n_samples,), for example using ravel().\n",
      "  return fit_method(estimator, *args, **kwargs)\n"
     ]
    },
    {
     "name": "stdout",
     "output_type": "stream",
     "text": [
      "[CV 5/10] END max_depth=None, min_samples_leaf=1, min_samples_split=5, n_estimators=50;, score=0.210 total time=   2.6s\n"
     ]
    },
    {
     "name": "stderr",
     "output_type": "stream",
     "text": [
      "C:\\Users\\ben8h\\anaconda3\\Lib\\site-packages\\sklearn\\base.py:1474: DataConversionWarning: A column-vector y was passed when a 1d array was expected. Please change the shape of y to (n_samples,), for example using ravel().\n",
      "  return fit_method(estimator, *args, **kwargs)\n"
     ]
    },
    {
     "name": "stdout",
     "output_type": "stream",
     "text": [
      "[CV 6/10] END max_depth=None, min_samples_leaf=1, min_samples_split=5, n_estimators=50;, score=0.136 total time=   2.5s\n"
     ]
    },
    {
     "name": "stderr",
     "output_type": "stream",
     "text": [
      "C:\\Users\\ben8h\\anaconda3\\Lib\\site-packages\\sklearn\\base.py:1474: DataConversionWarning: A column-vector y was passed when a 1d array was expected. Please change the shape of y to (n_samples,), for example using ravel().\n",
      "  return fit_method(estimator, *args, **kwargs)\n"
     ]
    },
    {
     "name": "stdout",
     "output_type": "stream",
     "text": [
      "[CV 7/10] END max_depth=None, min_samples_leaf=1, min_samples_split=5, n_estimators=50;, score=0.140 total time=   2.7s\n"
     ]
    },
    {
     "name": "stderr",
     "output_type": "stream",
     "text": [
      "C:\\Users\\ben8h\\anaconda3\\Lib\\site-packages\\sklearn\\base.py:1474: DataConversionWarning: A column-vector y was passed when a 1d array was expected. Please change the shape of y to (n_samples,), for example using ravel().\n",
      "  return fit_method(estimator, *args, **kwargs)\n"
     ]
    },
    {
     "name": "stdout",
     "output_type": "stream",
     "text": [
      "[CV 8/10] END max_depth=None, min_samples_leaf=1, min_samples_split=5, n_estimators=50;, score=0.150 total time=   2.7s\n"
     ]
    },
    {
     "name": "stderr",
     "output_type": "stream",
     "text": [
      "C:\\Users\\ben8h\\anaconda3\\Lib\\site-packages\\sklearn\\base.py:1474: DataConversionWarning: A column-vector y was passed when a 1d array was expected. Please change the shape of y to (n_samples,), for example using ravel().\n",
      "  return fit_method(estimator, *args, **kwargs)\n"
     ]
    },
    {
     "name": "stdout",
     "output_type": "stream",
     "text": [
      "[CV 9/10] END max_depth=None, min_samples_leaf=1, min_samples_split=5, n_estimators=50;, score=0.136 total time=   2.6s\n"
     ]
    },
    {
     "name": "stderr",
     "output_type": "stream",
     "text": [
      "C:\\Users\\ben8h\\anaconda3\\Lib\\site-packages\\sklearn\\base.py:1474: DataConversionWarning: A column-vector y was passed when a 1d array was expected. Please change the shape of y to (n_samples,), for example using ravel().\n",
      "  return fit_method(estimator, *args, **kwargs)\n"
     ]
    },
    {
     "name": "stdout",
     "output_type": "stream",
     "text": [
      "[CV 10/10] END max_depth=None, min_samples_leaf=1, min_samples_split=5, n_estimators=50;, score=0.173 total time=   2.5s\n"
     ]
    },
    {
     "name": "stderr",
     "output_type": "stream",
     "text": [
      "C:\\Users\\ben8h\\anaconda3\\Lib\\site-packages\\sklearn\\base.py:1474: DataConversionWarning: A column-vector y was passed when a 1d array was expected. Please change the shape of y to (n_samples,), for example using ravel().\n",
      "  return fit_method(estimator, *args, **kwargs)\n"
     ]
    },
    {
     "name": "stdout",
     "output_type": "stream",
     "text": [
      "[CV 1/10] END max_depth=None, min_samples_leaf=1, min_samples_split=5, n_estimators=100;, score=0.137 total time=   5.3s\n"
     ]
    },
    {
     "name": "stderr",
     "output_type": "stream",
     "text": [
      "C:\\Users\\ben8h\\anaconda3\\Lib\\site-packages\\sklearn\\base.py:1474: DataConversionWarning: A column-vector y was passed when a 1d array was expected. Please change the shape of y to (n_samples,), for example using ravel().\n",
      "  return fit_method(estimator, *args, **kwargs)\n"
     ]
    },
    {
     "name": "stdout",
     "output_type": "stream",
     "text": [
      "[CV 2/10] END max_depth=None, min_samples_leaf=1, min_samples_split=5, n_estimators=100;, score=0.167 total time=   5.2s\n"
     ]
    },
    {
     "name": "stderr",
     "output_type": "stream",
     "text": [
      "C:\\Users\\ben8h\\anaconda3\\Lib\\site-packages\\sklearn\\base.py:1474: DataConversionWarning: A column-vector y was passed when a 1d array was expected. Please change the shape of y to (n_samples,), for example using ravel().\n",
      "  return fit_method(estimator, *args, **kwargs)\n"
     ]
    },
    {
     "name": "stdout",
     "output_type": "stream",
     "text": [
      "[CV 3/10] END max_depth=None, min_samples_leaf=1, min_samples_split=5, n_estimators=100;, score=0.251 total time=   5.3s\n"
     ]
    },
    {
     "name": "stderr",
     "output_type": "stream",
     "text": [
      "C:\\Users\\ben8h\\anaconda3\\Lib\\site-packages\\sklearn\\base.py:1474: DataConversionWarning: A column-vector y was passed when a 1d array was expected. Please change the shape of y to (n_samples,), for example using ravel().\n",
      "  return fit_method(estimator, *args, **kwargs)\n"
     ]
    },
    {
     "name": "stdout",
     "output_type": "stream",
     "text": [
      "[CV 4/10] END max_depth=None, min_samples_leaf=1, min_samples_split=5, n_estimators=100;, score=0.120 total time=   5.2s\n"
     ]
    },
    {
     "name": "stderr",
     "output_type": "stream",
     "text": [
      "C:\\Users\\ben8h\\anaconda3\\Lib\\site-packages\\sklearn\\base.py:1474: DataConversionWarning: A column-vector y was passed when a 1d array was expected. Please change the shape of y to (n_samples,), for example using ravel().\n",
      "  return fit_method(estimator, *args, **kwargs)\n"
     ]
    },
    {
     "name": "stdout",
     "output_type": "stream",
     "text": [
      "[CV 5/10] END max_depth=None, min_samples_leaf=1, min_samples_split=5, n_estimators=100;, score=0.215 total time=   5.3s\n"
     ]
    },
    {
     "name": "stderr",
     "output_type": "stream",
     "text": [
      "C:\\Users\\ben8h\\anaconda3\\Lib\\site-packages\\sklearn\\base.py:1474: DataConversionWarning: A column-vector y was passed when a 1d array was expected. Please change the shape of y to (n_samples,), for example using ravel().\n",
      "  return fit_method(estimator, *args, **kwargs)\n"
     ]
    },
    {
     "name": "stdout",
     "output_type": "stream",
     "text": [
      "[CV 6/10] END max_depth=None, min_samples_leaf=1, min_samples_split=5, n_estimators=100;, score=0.135 total time=   5.2s\n"
     ]
    },
    {
     "name": "stderr",
     "output_type": "stream",
     "text": [
      "C:\\Users\\ben8h\\anaconda3\\Lib\\site-packages\\sklearn\\base.py:1474: DataConversionWarning: A column-vector y was passed when a 1d array was expected. Please change the shape of y to (n_samples,), for example using ravel().\n",
      "  return fit_method(estimator, *args, **kwargs)\n"
     ]
    },
    {
     "name": "stdout",
     "output_type": "stream",
     "text": [
      "[CV 7/10] END max_depth=None, min_samples_leaf=1, min_samples_split=5, n_estimators=100;, score=0.130 total time=   5.4s\n"
     ]
    },
    {
     "name": "stderr",
     "output_type": "stream",
     "text": [
      "C:\\Users\\ben8h\\anaconda3\\Lib\\site-packages\\sklearn\\base.py:1474: DataConversionWarning: A column-vector y was passed when a 1d array was expected. Please change the shape of y to (n_samples,), for example using ravel().\n",
      "  return fit_method(estimator, *args, **kwargs)\n"
     ]
    },
    {
     "name": "stdout",
     "output_type": "stream",
     "text": [
      "[CV 8/10] END max_depth=None, min_samples_leaf=1, min_samples_split=5, n_estimators=100;, score=0.144 total time=   5.4s\n"
     ]
    },
    {
     "name": "stderr",
     "output_type": "stream",
     "text": [
      "C:\\Users\\ben8h\\anaconda3\\Lib\\site-packages\\sklearn\\base.py:1474: DataConversionWarning: A column-vector y was passed when a 1d array was expected. Please change the shape of y to (n_samples,), for example using ravel().\n",
      "  return fit_method(estimator, *args, **kwargs)\n"
     ]
    },
    {
     "name": "stdout",
     "output_type": "stream",
     "text": [
      "[CV 9/10] END max_depth=None, min_samples_leaf=1, min_samples_split=5, n_estimators=100;, score=0.144 total time=   5.2s\n"
     ]
    },
    {
     "name": "stderr",
     "output_type": "stream",
     "text": [
      "C:\\Users\\ben8h\\anaconda3\\Lib\\site-packages\\sklearn\\base.py:1474: DataConversionWarning: A column-vector y was passed when a 1d array was expected. Please change the shape of y to (n_samples,), for example using ravel().\n",
      "  return fit_method(estimator, *args, **kwargs)\n"
     ]
    },
    {
     "name": "stdout",
     "output_type": "stream",
     "text": [
      "[CV 10/10] END max_depth=None, min_samples_leaf=1, min_samples_split=5, n_estimators=100;, score=0.157 total time=   5.2s\n"
     ]
    },
    {
     "name": "stderr",
     "output_type": "stream",
     "text": [
      "C:\\Users\\ben8h\\anaconda3\\Lib\\site-packages\\sklearn\\base.py:1474: DataConversionWarning: A column-vector y was passed when a 1d array was expected. Please change the shape of y to (n_samples,), for example using ravel().\n",
      "  return fit_method(estimator, *args, **kwargs)\n"
     ]
    },
    {
     "name": "stdout",
     "output_type": "stream",
     "text": [
      "[CV 1/10] END max_depth=None, min_samples_leaf=1, min_samples_split=5, n_estimators=200;, score=0.145 total time=  10.6s\n"
     ]
    },
    {
     "name": "stderr",
     "output_type": "stream",
     "text": [
      "C:\\Users\\ben8h\\anaconda3\\Lib\\site-packages\\sklearn\\base.py:1474: DataConversionWarning: A column-vector y was passed when a 1d array was expected. Please change the shape of y to (n_samples,), for example using ravel().\n",
      "  return fit_method(estimator, *args, **kwargs)\n"
     ]
    },
    {
     "name": "stdout",
     "output_type": "stream",
     "text": [
      "[CV 2/10] END max_depth=None, min_samples_leaf=1, min_samples_split=5, n_estimators=200;, score=0.186 total time=  10.5s\n"
     ]
    },
    {
     "name": "stderr",
     "output_type": "stream",
     "text": [
      "C:\\Users\\ben8h\\anaconda3\\Lib\\site-packages\\sklearn\\base.py:1474: DataConversionWarning: A column-vector y was passed when a 1d array was expected. Please change the shape of y to (n_samples,), for example using ravel().\n",
      "  return fit_method(estimator, *args, **kwargs)\n"
     ]
    },
    {
     "name": "stdout",
     "output_type": "stream",
     "text": [
      "[CV 3/10] END max_depth=None, min_samples_leaf=1, min_samples_split=5, n_estimators=200;, score=0.241 total time=  10.7s\n"
     ]
    },
    {
     "name": "stderr",
     "output_type": "stream",
     "text": [
      "C:\\Users\\ben8h\\anaconda3\\Lib\\site-packages\\sklearn\\base.py:1474: DataConversionWarning: A column-vector y was passed when a 1d array was expected. Please change the shape of y to (n_samples,), for example using ravel().\n",
      "  return fit_method(estimator, *args, **kwargs)\n"
     ]
    },
    {
     "name": "stdout",
     "output_type": "stream",
     "text": [
      "[CV 4/10] END max_depth=None, min_samples_leaf=1, min_samples_split=5, n_estimators=200;, score=0.134 total time=  10.5s\n"
     ]
    },
    {
     "name": "stderr",
     "output_type": "stream",
     "text": [
      "C:\\Users\\ben8h\\anaconda3\\Lib\\site-packages\\sklearn\\base.py:1474: DataConversionWarning: A column-vector y was passed when a 1d array was expected. Please change the shape of y to (n_samples,), for example using ravel().\n",
      "  return fit_method(estimator, *args, **kwargs)\n"
     ]
    },
    {
     "name": "stdout",
     "output_type": "stream",
     "text": [
      "[CV 5/10] END max_depth=None, min_samples_leaf=1, min_samples_split=5, n_estimators=200;, score=0.212 total time=  10.7s\n"
     ]
    },
    {
     "name": "stderr",
     "output_type": "stream",
     "text": [
      "C:\\Users\\ben8h\\anaconda3\\Lib\\site-packages\\sklearn\\base.py:1474: DataConversionWarning: A column-vector y was passed when a 1d array was expected. Please change the shape of y to (n_samples,), for example using ravel().\n",
      "  return fit_method(estimator, *args, **kwargs)\n"
     ]
    },
    {
     "name": "stdout",
     "output_type": "stream",
     "text": [
      "[CV 6/10] END max_depth=None, min_samples_leaf=1, min_samples_split=5, n_estimators=200;, score=0.149 total time=  10.6s\n"
     ]
    },
    {
     "name": "stderr",
     "output_type": "stream",
     "text": [
      "C:\\Users\\ben8h\\anaconda3\\Lib\\site-packages\\sklearn\\base.py:1474: DataConversionWarning: A column-vector y was passed when a 1d array was expected. Please change the shape of y to (n_samples,), for example using ravel().\n",
      "  return fit_method(estimator, *args, **kwargs)\n"
     ]
    },
    {
     "name": "stdout",
     "output_type": "stream",
     "text": [
      "[CV 7/10] END max_depth=None, min_samples_leaf=1, min_samples_split=5, n_estimators=200;, score=0.139 total time=  10.7s\n"
     ]
    },
    {
     "name": "stderr",
     "output_type": "stream",
     "text": [
      "C:\\Users\\ben8h\\anaconda3\\Lib\\site-packages\\sklearn\\base.py:1474: DataConversionWarning: A column-vector y was passed when a 1d array was expected. Please change the shape of y to (n_samples,), for example using ravel().\n",
      "  return fit_method(estimator, *args, **kwargs)\n"
     ]
    },
    {
     "name": "stdout",
     "output_type": "stream",
     "text": [
      "[CV 8/10] END max_depth=None, min_samples_leaf=1, min_samples_split=5, n_estimators=200;, score=0.160 total time=  10.7s\n"
     ]
    },
    {
     "name": "stderr",
     "output_type": "stream",
     "text": [
      "C:\\Users\\ben8h\\anaconda3\\Lib\\site-packages\\sklearn\\base.py:1474: DataConversionWarning: A column-vector y was passed when a 1d array was expected. Please change the shape of y to (n_samples,), for example using ravel().\n",
      "  return fit_method(estimator, *args, **kwargs)\n"
     ]
    },
    {
     "name": "stdout",
     "output_type": "stream",
     "text": [
      "[CV 9/10] END max_depth=None, min_samples_leaf=1, min_samples_split=5, n_estimators=200;, score=0.151 total time=  10.5s\n"
     ]
    },
    {
     "name": "stderr",
     "output_type": "stream",
     "text": [
      "C:\\Users\\ben8h\\anaconda3\\Lib\\site-packages\\sklearn\\base.py:1474: DataConversionWarning: A column-vector y was passed when a 1d array was expected. Please change the shape of y to (n_samples,), for example using ravel().\n",
      "  return fit_method(estimator, *args, **kwargs)\n"
     ]
    },
    {
     "name": "stdout",
     "output_type": "stream",
     "text": [
      "[CV 10/10] END max_depth=None, min_samples_leaf=1, min_samples_split=5, n_estimators=200;, score=0.168 total time=  10.7s\n"
     ]
    },
    {
     "name": "stderr",
     "output_type": "stream",
     "text": [
      "C:\\Users\\ben8h\\anaconda3\\Lib\\site-packages\\sklearn\\base.py:1474: DataConversionWarning: A column-vector y was passed when a 1d array was expected. Please change the shape of y to (n_samples,), for example using ravel().\n",
      "  return fit_method(estimator, *args, **kwargs)\n"
     ]
    },
    {
     "name": "stdout",
     "output_type": "stream",
     "text": [
      "[CV 1/10] END max_depth=None, min_samples_leaf=1, min_samples_split=10, n_estimators=50;, score=0.140 total time=   2.4s\n"
     ]
    },
    {
     "name": "stderr",
     "output_type": "stream",
     "text": [
      "C:\\Users\\ben8h\\anaconda3\\Lib\\site-packages\\sklearn\\base.py:1474: DataConversionWarning: A column-vector y was passed when a 1d array was expected. Please change the shape of y to (n_samples,), for example using ravel().\n",
      "  return fit_method(estimator, *args, **kwargs)\n"
     ]
    },
    {
     "name": "stdout",
     "output_type": "stream",
     "text": [
      "[CV 2/10] END max_depth=None, min_samples_leaf=1, min_samples_split=10, n_estimators=50;, score=0.153 total time=   2.4s\n"
     ]
    },
    {
     "name": "stderr",
     "output_type": "stream",
     "text": [
      "C:\\Users\\ben8h\\anaconda3\\Lib\\site-packages\\sklearn\\base.py:1474: DataConversionWarning: A column-vector y was passed when a 1d array was expected. Please change the shape of y to (n_samples,), for example using ravel().\n",
      "  return fit_method(estimator, *args, **kwargs)\n"
     ]
    },
    {
     "name": "stdout",
     "output_type": "stream",
     "text": [
      "[CV 3/10] END max_depth=None, min_samples_leaf=1, min_samples_split=10, n_estimators=50;, score=0.227 total time=   2.4s\n"
     ]
    },
    {
     "name": "stderr",
     "output_type": "stream",
     "text": [
      "C:\\Users\\ben8h\\anaconda3\\Lib\\site-packages\\sklearn\\base.py:1474: DataConversionWarning: A column-vector y was passed when a 1d array was expected. Please change the shape of y to (n_samples,), for example using ravel().\n",
      "  return fit_method(estimator, *args, **kwargs)\n"
     ]
    },
    {
     "name": "stdout",
     "output_type": "stream",
     "text": [
      "[CV 4/10] END max_depth=None, min_samples_leaf=1, min_samples_split=10, n_estimators=50;, score=0.118 total time=   2.3s\n"
     ]
    },
    {
     "name": "stderr",
     "output_type": "stream",
     "text": [
      "C:\\Users\\ben8h\\anaconda3\\Lib\\site-packages\\sklearn\\base.py:1474: DataConversionWarning: A column-vector y was passed when a 1d array was expected. Please change the shape of y to (n_samples,), for example using ravel().\n",
      "  return fit_method(estimator, *args, **kwargs)\n"
     ]
    },
    {
     "name": "stdout",
     "output_type": "stream",
     "text": [
      "[CV 5/10] END max_depth=None, min_samples_leaf=1, min_samples_split=10, n_estimators=50;, score=0.206 total time=   2.3s\n"
     ]
    },
    {
     "name": "stderr",
     "output_type": "stream",
     "text": [
      "C:\\Users\\ben8h\\anaconda3\\Lib\\site-packages\\sklearn\\base.py:1474: DataConversionWarning: A column-vector y was passed when a 1d array was expected. Please change the shape of y to (n_samples,), for example using ravel().\n",
      "  return fit_method(estimator, *args, **kwargs)\n"
     ]
    },
    {
     "name": "stdout",
     "output_type": "stream",
     "text": [
      "[CV 6/10] END max_depth=None, min_samples_leaf=1, min_samples_split=10, n_estimators=50;, score=0.145 total time=   2.3s\n"
     ]
    },
    {
     "name": "stderr",
     "output_type": "stream",
     "text": [
      "C:\\Users\\ben8h\\anaconda3\\Lib\\site-packages\\sklearn\\base.py:1474: DataConversionWarning: A column-vector y was passed when a 1d array was expected. Please change the shape of y to (n_samples,), for example using ravel().\n",
      "  return fit_method(estimator, *args, **kwargs)\n"
     ]
    },
    {
     "name": "stdout",
     "output_type": "stream",
     "text": [
      "[CV 7/10] END max_depth=None, min_samples_leaf=1, min_samples_split=10, n_estimators=50;, score=0.160 total time=   2.4s\n"
     ]
    },
    {
     "name": "stderr",
     "output_type": "stream",
     "text": [
      "C:\\Users\\ben8h\\anaconda3\\Lib\\site-packages\\sklearn\\base.py:1474: DataConversionWarning: A column-vector y was passed when a 1d array was expected. Please change the shape of y to (n_samples,), for example using ravel().\n",
      "  return fit_method(estimator, *args, **kwargs)\n"
     ]
    },
    {
     "name": "stdout",
     "output_type": "stream",
     "text": [
      "[CV 8/10] END max_depth=None, min_samples_leaf=1, min_samples_split=10, n_estimators=50;, score=0.152 total time=   2.4s\n"
     ]
    },
    {
     "name": "stderr",
     "output_type": "stream",
     "text": [
      "C:\\Users\\ben8h\\anaconda3\\Lib\\site-packages\\sklearn\\base.py:1474: DataConversionWarning: A column-vector y was passed when a 1d array was expected. Please change the shape of y to (n_samples,), for example using ravel().\n",
      "  return fit_method(estimator, *args, **kwargs)\n"
     ]
    },
    {
     "name": "stdout",
     "output_type": "stream",
     "text": [
      "[CV 9/10] END max_depth=None, min_samples_leaf=1, min_samples_split=10, n_estimators=50;, score=0.142 total time=   2.3s\n"
     ]
    },
    {
     "name": "stderr",
     "output_type": "stream",
     "text": [
      "C:\\Users\\ben8h\\anaconda3\\Lib\\site-packages\\sklearn\\base.py:1474: DataConversionWarning: A column-vector y was passed when a 1d array was expected. Please change the shape of y to (n_samples,), for example using ravel().\n",
      "  return fit_method(estimator, *args, **kwargs)\n"
     ]
    },
    {
     "name": "stdout",
     "output_type": "stream",
     "text": [
      "[CV 10/10] END max_depth=None, min_samples_leaf=1, min_samples_split=10, n_estimators=50;, score=0.156 total time=   2.4s\n"
     ]
    },
    {
     "name": "stderr",
     "output_type": "stream",
     "text": [
      "C:\\Users\\ben8h\\anaconda3\\Lib\\site-packages\\sklearn\\base.py:1474: DataConversionWarning: A column-vector y was passed when a 1d array was expected. Please change the shape of y to (n_samples,), for example using ravel().\n",
      "  return fit_method(estimator, *args, **kwargs)\n"
     ]
    },
    {
     "name": "stdout",
     "output_type": "stream",
     "text": [
      "[CV 1/10] END max_depth=None, min_samples_leaf=1, min_samples_split=10, n_estimators=100;, score=0.131 total time=   4.9s\n"
     ]
    },
    {
     "name": "stderr",
     "output_type": "stream",
     "text": [
      "C:\\Users\\ben8h\\anaconda3\\Lib\\site-packages\\sklearn\\base.py:1474: DataConversionWarning: A column-vector y was passed when a 1d array was expected. Please change the shape of y to (n_samples,), for example using ravel().\n",
      "  return fit_method(estimator, *args, **kwargs)\n"
     ]
    },
    {
     "name": "stdout",
     "output_type": "stream",
     "text": [
      "[CV 2/10] END max_depth=None, min_samples_leaf=1, min_samples_split=10, n_estimators=100;, score=0.174 total time=   4.9s\n"
     ]
    },
    {
     "name": "stderr",
     "output_type": "stream",
     "text": [
      "C:\\Users\\ben8h\\anaconda3\\Lib\\site-packages\\sklearn\\base.py:1474: DataConversionWarning: A column-vector y was passed when a 1d array was expected. Please change the shape of y to (n_samples,), for example using ravel().\n",
      "  return fit_method(estimator, *args, **kwargs)\n"
     ]
    },
    {
     "name": "stdout",
     "output_type": "stream",
     "text": [
      "[CV 3/10] END max_depth=None, min_samples_leaf=1, min_samples_split=10, n_estimators=100;, score=0.234 total time=   5.0s\n"
     ]
    },
    {
     "name": "stderr",
     "output_type": "stream",
     "text": [
      "C:\\Users\\ben8h\\anaconda3\\Lib\\site-packages\\sklearn\\base.py:1474: DataConversionWarning: A column-vector y was passed when a 1d array was expected. Please change the shape of y to (n_samples,), for example using ravel().\n",
      "  return fit_method(estimator, *args, **kwargs)\n"
     ]
    },
    {
     "name": "stdout",
     "output_type": "stream",
     "text": [
      "[CV 4/10] END max_depth=None, min_samples_leaf=1, min_samples_split=10, n_estimators=100;, score=0.136 total time=   4.8s\n"
     ]
    },
    {
     "name": "stderr",
     "output_type": "stream",
     "text": [
      "C:\\Users\\ben8h\\anaconda3\\Lib\\site-packages\\sklearn\\base.py:1474: DataConversionWarning: A column-vector y was passed when a 1d array was expected. Please change the shape of y to (n_samples,), for example using ravel().\n",
      "  return fit_method(estimator, *args, **kwargs)\n"
     ]
    },
    {
     "name": "stdout",
     "output_type": "stream",
     "text": [
      "[CV 5/10] END max_depth=None, min_samples_leaf=1, min_samples_split=10, n_estimators=100;, score=0.214 total time=   4.9s\n"
     ]
    },
    {
     "name": "stderr",
     "output_type": "stream",
     "text": [
      "C:\\Users\\ben8h\\anaconda3\\Lib\\site-packages\\sklearn\\base.py:1474: DataConversionWarning: A column-vector y was passed when a 1d array was expected. Please change the shape of y to (n_samples,), for example using ravel().\n",
      "  return fit_method(estimator, *args, **kwargs)\n"
     ]
    },
    {
     "name": "stdout",
     "output_type": "stream",
     "text": [
      "[CV 6/10] END max_depth=None, min_samples_leaf=1, min_samples_split=10, n_estimators=100;, score=0.153 total time=   4.9s\n"
     ]
    },
    {
     "name": "stderr",
     "output_type": "stream",
     "text": [
      "C:\\Users\\ben8h\\anaconda3\\Lib\\site-packages\\sklearn\\base.py:1474: DataConversionWarning: A column-vector y was passed when a 1d array was expected. Please change the shape of y to (n_samples,), for example using ravel().\n",
      "  return fit_method(estimator, *args, **kwargs)\n"
     ]
    },
    {
     "name": "stdout",
     "output_type": "stream",
     "text": [
      "[CV 7/10] END max_depth=None, min_samples_leaf=1, min_samples_split=10, n_estimators=100;, score=0.155 total time=   4.9s\n"
     ]
    },
    {
     "name": "stderr",
     "output_type": "stream",
     "text": [
      "C:\\Users\\ben8h\\anaconda3\\Lib\\site-packages\\sklearn\\base.py:1474: DataConversionWarning: A column-vector y was passed when a 1d array was expected. Please change the shape of y to (n_samples,), for example using ravel().\n",
      "  return fit_method(estimator, *args, **kwargs)\n"
     ]
    },
    {
     "name": "stdout",
     "output_type": "stream",
     "text": [
      "[CV 8/10] END max_depth=None, min_samples_leaf=1, min_samples_split=10, n_estimators=100;, score=0.156 total time=   4.8s\n"
     ]
    },
    {
     "name": "stderr",
     "output_type": "stream",
     "text": [
      "C:\\Users\\ben8h\\anaconda3\\Lib\\site-packages\\sklearn\\base.py:1474: DataConversionWarning: A column-vector y was passed when a 1d array was expected. Please change the shape of y to (n_samples,), for example using ravel().\n",
      "  return fit_method(estimator, *args, **kwargs)\n"
     ]
    },
    {
     "name": "stdout",
     "output_type": "stream",
     "text": [
      "[CV 9/10] END max_depth=None, min_samples_leaf=1, min_samples_split=10, n_estimators=100;, score=0.156 total time=   4.8s\n"
     ]
    },
    {
     "name": "stderr",
     "output_type": "stream",
     "text": [
      "C:\\Users\\ben8h\\anaconda3\\Lib\\site-packages\\sklearn\\base.py:1474: DataConversionWarning: A column-vector y was passed when a 1d array was expected. Please change the shape of y to (n_samples,), for example using ravel().\n",
      "  return fit_method(estimator, *args, **kwargs)\n"
     ]
    },
    {
     "name": "stdout",
     "output_type": "stream",
     "text": [
      "[CV 10/10] END max_depth=None, min_samples_leaf=1, min_samples_split=10, n_estimators=100;, score=0.166 total time=   5.1s\n"
     ]
    },
    {
     "name": "stderr",
     "output_type": "stream",
     "text": [
      "C:\\Users\\ben8h\\anaconda3\\Lib\\site-packages\\sklearn\\base.py:1474: DataConversionWarning: A column-vector y was passed when a 1d array was expected. Please change the shape of y to (n_samples,), for example using ravel().\n",
      "  return fit_method(estimator, *args, **kwargs)\n"
     ]
    },
    {
     "name": "stdout",
     "output_type": "stream",
     "text": [
      "[CV 1/10] END max_depth=None, min_samples_leaf=1, min_samples_split=10, n_estimators=200;, score=0.143 total time=  10.1s\n"
     ]
    },
    {
     "name": "stderr",
     "output_type": "stream",
     "text": [
      "C:\\Users\\ben8h\\anaconda3\\Lib\\site-packages\\sklearn\\base.py:1474: DataConversionWarning: A column-vector y was passed when a 1d array was expected. Please change the shape of y to (n_samples,), for example using ravel().\n",
      "  return fit_method(estimator, *args, **kwargs)\n"
     ]
    },
    {
     "name": "stdout",
     "output_type": "stream",
     "text": [
      "[CV 2/10] END max_depth=None, min_samples_leaf=1, min_samples_split=10, n_estimators=200;, score=0.171 total time=  10.1s\n"
     ]
    },
    {
     "name": "stderr",
     "output_type": "stream",
     "text": [
      "C:\\Users\\ben8h\\anaconda3\\Lib\\site-packages\\sklearn\\base.py:1474: DataConversionWarning: A column-vector y was passed when a 1d array was expected. Please change the shape of y to (n_samples,), for example using ravel().\n",
      "  return fit_method(estimator, *args, **kwargs)\n"
     ]
    },
    {
     "name": "stdout",
     "output_type": "stream",
     "text": [
      "[CV 3/10] END max_depth=None, min_samples_leaf=1, min_samples_split=10, n_estimators=200;, score=0.234 total time=  10.0s\n"
     ]
    },
    {
     "name": "stderr",
     "output_type": "stream",
     "text": [
      "C:\\Users\\ben8h\\anaconda3\\Lib\\site-packages\\sklearn\\base.py:1474: DataConversionWarning: A column-vector y was passed when a 1d array was expected. Please change the shape of y to (n_samples,), for example using ravel().\n",
      "  return fit_method(estimator, *args, **kwargs)\n"
     ]
    },
    {
     "name": "stdout",
     "output_type": "stream",
     "text": [
      "[CV 4/10] END max_depth=None, min_samples_leaf=1, min_samples_split=10, n_estimators=200;, score=0.131 total time=   9.9s\n"
     ]
    },
    {
     "name": "stderr",
     "output_type": "stream",
     "text": [
      "C:\\Users\\ben8h\\anaconda3\\Lib\\site-packages\\sklearn\\base.py:1474: DataConversionWarning: A column-vector y was passed when a 1d array was expected. Please change the shape of y to (n_samples,), for example using ravel().\n",
      "  return fit_method(estimator, *args, **kwargs)\n"
     ]
    },
    {
     "name": "stdout",
     "output_type": "stream",
     "text": [
      "[CV 5/10] END max_depth=None, min_samples_leaf=1, min_samples_split=10, n_estimators=200;, score=0.223 total time=  10.1s\n"
     ]
    },
    {
     "name": "stderr",
     "output_type": "stream",
     "text": [
      "C:\\Users\\ben8h\\anaconda3\\Lib\\site-packages\\sklearn\\base.py:1474: DataConversionWarning: A column-vector y was passed when a 1d array was expected. Please change the shape of y to (n_samples,), for example using ravel().\n",
      "  return fit_method(estimator, *args, **kwargs)\n"
     ]
    },
    {
     "name": "stdout",
     "output_type": "stream",
     "text": [
      "[CV 6/10] END max_depth=None, min_samples_leaf=1, min_samples_split=10, n_estimators=200;, score=0.152 total time=  10.2s\n"
     ]
    },
    {
     "name": "stderr",
     "output_type": "stream",
     "text": [
      "C:\\Users\\ben8h\\anaconda3\\Lib\\site-packages\\sklearn\\base.py:1474: DataConversionWarning: A column-vector y was passed when a 1d array was expected. Please change the shape of y to (n_samples,), for example using ravel().\n",
      "  return fit_method(estimator, *args, **kwargs)\n"
     ]
    },
    {
     "name": "stdout",
     "output_type": "stream",
     "text": [
      "[CV 7/10] END max_depth=None, min_samples_leaf=1, min_samples_split=10, n_estimators=200;, score=0.154 total time=  10.4s\n"
     ]
    },
    {
     "name": "stderr",
     "output_type": "stream",
     "text": [
      "C:\\Users\\ben8h\\anaconda3\\Lib\\site-packages\\sklearn\\base.py:1474: DataConversionWarning: A column-vector y was passed when a 1d array was expected. Please change the shape of y to (n_samples,), for example using ravel().\n",
      "  return fit_method(estimator, *args, **kwargs)\n"
     ]
    },
    {
     "name": "stdout",
     "output_type": "stream",
     "text": [
      "[CV 8/10] END max_depth=None, min_samples_leaf=1, min_samples_split=10, n_estimators=200;, score=0.163 total time=  10.3s\n"
     ]
    },
    {
     "name": "stderr",
     "output_type": "stream",
     "text": [
      "C:\\Users\\ben8h\\anaconda3\\Lib\\site-packages\\sklearn\\base.py:1474: DataConversionWarning: A column-vector y was passed when a 1d array was expected. Please change the shape of y to (n_samples,), for example using ravel().\n",
      "  return fit_method(estimator, *args, **kwargs)\n"
     ]
    },
    {
     "name": "stdout",
     "output_type": "stream",
     "text": [
      "[CV 9/10] END max_depth=None, min_samples_leaf=1, min_samples_split=10, n_estimators=200;, score=0.154 total time=  10.1s\n"
     ]
    },
    {
     "name": "stderr",
     "output_type": "stream",
     "text": [
      "C:\\Users\\ben8h\\anaconda3\\Lib\\site-packages\\sklearn\\base.py:1474: DataConversionWarning: A column-vector y was passed when a 1d array was expected. Please change the shape of y to (n_samples,), for example using ravel().\n",
      "  return fit_method(estimator, *args, **kwargs)\n"
     ]
    },
    {
     "name": "stdout",
     "output_type": "stream",
     "text": [
      "[CV 10/10] END max_depth=None, min_samples_leaf=1, min_samples_split=10, n_estimators=200;, score=0.158 total time=  10.0s\n"
     ]
    },
    {
     "name": "stderr",
     "output_type": "stream",
     "text": [
      "C:\\Users\\ben8h\\anaconda3\\Lib\\site-packages\\sklearn\\base.py:1474: DataConversionWarning: A column-vector y was passed when a 1d array was expected. Please change the shape of y to (n_samples,), for example using ravel().\n",
      "  return fit_method(estimator, *args, **kwargs)\n"
     ]
    },
    {
     "name": "stdout",
     "output_type": "stream",
     "text": [
      "[CV 1/10] END max_depth=None, min_samples_leaf=5, min_samples_split=2, n_estimators=50;, score=0.173 total time=   1.9s\n"
     ]
    },
    {
     "name": "stderr",
     "output_type": "stream",
     "text": [
      "C:\\Users\\ben8h\\anaconda3\\Lib\\site-packages\\sklearn\\base.py:1474: DataConversionWarning: A column-vector y was passed when a 1d array was expected. Please change the shape of y to (n_samples,), for example using ravel().\n",
      "  return fit_method(estimator, *args, **kwargs)\n"
     ]
    },
    {
     "name": "stdout",
     "output_type": "stream",
     "text": [
      "[CV 2/10] END max_depth=None, min_samples_leaf=5, min_samples_split=2, n_estimators=50;, score=0.178 total time=   1.9s\n"
     ]
    },
    {
     "name": "stderr",
     "output_type": "stream",
     "text": [
      "C:\\Users\\ben8h\\anaconda3\\Lib\\site-packages\\sklearn\\base.py:1474: DataConversionWarning: A column-vector y was passed when a 1d array was expected. Please change the shape of y to (n_samples,), for example using ravel().\n",
      "  return fit_method(estimator, *args, **kwargs)\n"
     ]
    },
    {
     "name": "stdout",
     "output_type": "stream",
     "text": [
      "[CV 3/10] END max_depth=None, min_samples_leaf=5, min_samples_split=2, n_estimators=50;, score=0.252 total time=   2.0s\n"
     ]
    },
    {
     "name": "stderr",
     "output_type": "stream",
     "text": [
      "C:\\Users\\ben8h\\anaconda3\\Lib\\site-packages\\sklearn\\base.py:1474: DataConversionWarning: A column-vector y was passed when a 1d array was expected. Please change the shape of y to (n_samples,), for example using ravel().\n",
      "  return fit_method(estimator, *args, **kwargs)\n"
     ]
    },
    {
     "name": "stdout",
     "output_type": "stream",
     "text": [
      "[CV 4/10] END max_depth=None, min_samples_leaf=5, min_samples_split=2, n_estimators=50;, score=0.161 total time=   1.9s\n"
     ]
    },
    {
     "name": "stderr",
     "output_type": "stream",
     "text": [
      "C:\\Users\\ben8h\\anaconda3\\Lib\\site-packages\\sklearn\\base.py:1474: DataConversionWarning: A column-vector y was passed when a 1d array was expected. Please change the shape of y to (n_samples,), for example using ravel().\n",
      "  return fit_method(estimator, *args, **kwargs)\n"
     ]
    },
    {
     "name": "stdout",
     "output_type": "stream",
     "text": [
      "[CV 5/10] END max_depth=None, min_samples_leaf=5, min_samples_split=2, n_estimators=50;, score=0.242 total time=   1.9s\n"
     ]
    },
    {
     "name": "stderr",
     "output_type": "stream",
     "text": [
      "C:\\Users\\ben8h\\anaconda3\\Lib\\site-packages\\sklearn\\base.py:1474: DataConversionWarning: A column-vector y was passed when a 1d array was expected. Please change the shape of y to (n_samples,), for example using ravel().\n",
      "  return fit_method(estimator, *args, **kwargs)\n"
     ]
    },
    {
     "name": "stdout",
     "output_type": "stream",
     "text": [
      "[CV 6/10] END max_depth=None, min_samples_leaf=5, min_samples_split=2, n_estimators=50;, score=0.158 total time=   1.9s\n"
     ]
    },
    {
     "name": "stderr",
     "output_type": "stream",
     "text": [
      "C:\\Users\\ben8h\\anaconda3\\Lib\\site-packages\\sklearn\\base.py:1474: DataConversionWarning: A column-vector y was passed when a 1d array was expected. Please change the shape of y to (n_samples,), for example using ravel().\n",
      "  return fit_method(estimator, *args, **kwargs)\n"
     ]
    },
    {
     "name": "stdout",
     "output_type": "stream",
     "text": [
      "[CV 7/10] END max_depth=None, min_samples_leaf=5, min_samples_split=2, n_estimators=50;, score=0.165 total time=   1.9s\n"
     ]
    },
    {
     "name": "stderr",
     "output_type": "stream",
     "text": [
      "C:\\Users\\ben8h\\anaconda3\\Lib\\site-packages\\sklearn\\base.py:1474: DataConversionWarning: A column-vector y was passed when a 1d array was expected. Please change the shape of y to (n_samples,), for example using ravel().\n",
      "  return fit_method(estimator, *args, **kwargs)\n"
     ]
    },
    {
     "name": "stdout",
     "output_type": "stream",
     "text": [
      "[CV 8/10] END max_depth=None, min_samples_leaf=5, min_samples_split=2, n_estimators=50;, score=0.167 total time=   1.9s\n"
     ]
    },
    {
     "name": "stderr",
     "output_type": "stream",
     "text": [
      "C:\\Users\\ben8h\\anaconda3\\Lib\\site-packages\\sklearn\\base.py:1474: DataConversionWarning: A column-vector y was passed when a 1d array was expected. Please change the shape of y to (n_samples,), for example using ravel().\n",
      "  return fit_method(estimator, *args, **kwargs)\n"
     ]
    },
    {
     "name": "stdout",
     "output_type": "stream",
     "text": [
      "[CV 9/10] END max_depth=None, min_samples_leaf=5, min_samples_split=2, n_estimators=50;, score=0.165 total time=   1.9s\n"
     ]
    },
    {
     "name": "stderr",
     "output_type": "stream",
     "text": [
      "C:\\Users\\ben8h\\anaconda3\\Lib\\site-packages\\sklearn\\base.py:1474: DataConversionWarning: A column-vector y was passed when a 1d array was expected. Please change the shape of y to (n_samples,), for example using ravel().\n",
      "  return fit_method(estimator, *args, **kwargs)\n"
     ]
    },
    {
     "name": "stdout",
     "output_type": "stream",
     "text": [
      "[CV 10/10] END max_depth=None, min_samples_leaf=5, min_samples_split=2, n_estimators=50;, score=0.186 total time=   1.9s\n"
     ]
    },
    {
     "name": "stderr",
     "output_type": "stream",
     "text": [
      "C:\\Users\\ben8h\\anaconda3\\Lib\\site-packages\\sklearn\\base.py:1474: DataConversionWarning: A column-vector y was passed when a 1d array was expected. Please change the shape of y to (n_samples,), for example using ravel().\n",
      "  return fit_method(estimator, *args, **kwargs)\n"
     ]
    },
    {
     "name": "stdout",
     "output_type": "stream",
     "text": [
      "[CV 1/10] END max_depth=None, min_samples_leaf=5, min_samples_split=2, n_estimators=100;, score=0.167 total time=   4.0s\n"
     ]
    },
    {
     "name": "stderr",
     "output_type": "stream",
     "text": [
      "C:\\Users\\ben8h\\anaconda3\\Lib\\site-packages\\sklearn\\base.py:1474: DataConversionWarning: A column-vector y was passed when a 1d array was expected. Please change the shape of y to (n_samples,), for example using ravel().\n",
      "  return fit_method(estimator, *args, **kwargs)\n"
     ]
    },
    {
     "name": "stdout",
     "output_type": "stream",
     "text": [
      "[CV 2/10] END max_depth=None, min_samples_leaf=5, min_samples_split=2, n_estimators=100;, score=0.187 total time=   3.9s\n"
     ]
    },
    {
     "name": "stderr",
     "output_type": "stream",
     "text": [
      "C:\\Users\\ben8h\\anaconda3\\Lib\\site-packages\\sklearn\\base.py:1474: DataConversionWarning: A column-vector y was passed when a 1d array was expected. Please change the shape of y to (n_samples,), for example using ravel().\n",
      "  return fit_method(estimator, *args, **kwargs)\n"
     ]
    },
    {
     "name": "stdout",
     "output_type": "stream",
     "text": [
      "[CV 3/10] END max_depth=None, min_samples_leaf=5, min_samples_split=2, n_estimators=100;, score=0.254 total time=   4.0s\n"
     ]
    },
    {
     "name": "stderr",
     "output_type": "stream",
     "text": [
      "C:\\Users\\ben8h\\anaconda3\\Lib\\site-packages\\sklearn\\base.py:1474: DataConversionWarning: A column-vector y was passed when a 1d array was expected. Please change the shape of y to (n_samples,), for example using ravel().\n",
      "  return fit_method(estimator, *args, **kwargs)\n"
     ]
    },
    {
     "name": "stdout",
     "output_type": "stream",
     "text": [
      "[CV 4/10] END max_depth=None, min_samples_leaf=5, min_samples_split=2, n_estimators=100;, score=0.166 total time=   3.8s\n"
     ]
    },
    {
     "name": "stderr",
     "output_type": "stream",
     "text": [
      "C:\\Users\\ben8h\\anaconda3\\Lib\\site-packages\\sklearn\\base.py:1474: DataConversionWarning: A column-vector y was passed when a 1d array was expected. Please change the shape of y to (n_samples,), for example using ravel().\n",
      "  return fit_method(estimator, *args, **kwargs)\n"
     ]
    },
    {
     "name": "stdout",
     "output_type": "stream",
     "text": [
      "[CV 5/10] END max_depth=None, min_samples_leaf=5, min_samples_split=2, n_estimators=100;, score=0.239 total time=   4.0s\n"
     ]
    },
    {
     "name": "stderr",
     "output_type": "stream",
     "text": [
      "C:\\Users\\ben8h\\anaconda3\\Lib\\site-packages\\sklearn\\base.py:1474: DataConversionWarning: A column-vector y was passed when a 1d array was expected. Please change the shape of y to (n_samples,), for example using ravel().\n",
      "  return fit_method(estimator, *args, **kwargs)\n"
     ]
    },
    {
     "name": "stdout",
     "output_type": "stream",
     "text": [
      "[CV 6/10] END max_depth=None, min_samples_leaf=5, min_samples_split=2, n_estimators=100;, score=0.158 total time=   3.9s\n"
     ]
    },
    {
     "name": "stderr",
     "output_type": "stream",
     "text": [
      "C:\\Users\\ben8h\\anaconda3\\Lib\\site-packages\\sklearn\\base.py:1474: DataConversionWarning: A column-vector y was passed when a 1d array was expected. Please change the shape of y to (n_samples,), for example using ravel().\n",
      "  return fit_method(estimator, *args, **kwargs)\n"
     ]
    },
    {
     "name": "stdout",
     "output_type": "stream",
     "text": [
      "[CV 7/10] END max_depth=None, min_samples_leaf=5, min_samples_split=2, n_estimators=100;, score=0.167 total time=   3.9s\n"
     ]
    },
    {
     "name": "stderr",
     "output_type": "stream",
     "text": [
      "C:\\Users\\ben8h\\anaconda3\\Lib\\site-packages\\sklearn\\base.py:1474: DataConversionWarning: A column-vector y was passed when a 1d array was expected. Please change the shape of y to (n_samples,), for example using ravel().\n",
      "  return fit_method(estimator, *args, **kwargs)\n"
     ]
    },
    {
     "name": "stdout",
     "output_type": "stream",
     "text": [
      "[CV 8/10] END max_depth=None, min_samples_leaf=5, min_samples_split=2, n_estimators=100;, score=0.164 total time=   3.9s\n"
     ]
    },
    {
     "name": "stderr",
     "output_type": "stream",
     "text": [
      "C:\\Users\\ben8h\\anaconda3\\Lib\\site-packages\\sklearn\\base.py:1474: DataConversionWarning: A column-vector y was passed when a 1d array was expected. Please change the shape of y to (n_samples,), for example using ravel().\n",
      "  return fit_method(estimator, *args, **kwargs)\n"
     ]
    },
    {
     "name": "stdout",
     "output_type": "stream",
     "text": [
      "[CV 9/10] END max_depth=None, min_samples_leaf=5, min_samples_split=2, n_estimators=100;, score=0.183 total time=   3.9s\n"
     ]
    },
    {
     "name": "stderr",
     "output_type": "stream",
     "text": [
      "C:\\Users\\ben8h\\anaconda3\\Lib\\site-packages\\sklearn\\base.py:1474: DataConversionWarning: A column-vector y was passed when a 1d array was expected. Please change the shape of y to (n_samples,), for example using ravel().\n",
      "  return fit_method(estimator, *args, **kwargs)\n"
     ]
    },
    {
     "name": "stdout",
     "output_type": "stream",
     "text": [
      "[CV 10/10] END max_depth=None, min_samples_leaf=5, min_samples_split=2, n_estimators=100;, score=0.175 total time=   3.9s\n"
     ]
    },
    {
     "name": "stderr",
     "output_type": "stream",
     "text": [
      "C:\\Users\\ben8h\\anaconda3\\Lib\\site-packages\\sklearn\\base.py:1474: DataConversionWarning: A column-vector y was passed when a 1d array was expected. Please change the shape of y to (n_samples,), for example using ravel().\n",
      "  return fit_method(estimator, *args, **kwargs)\n"
     ]
    },
    {
     "name": "stdout",
     "output_type": "stream",
     "text": [
      "[CV 1/10] END max_depth=None, min_samples_leaf=5, min_samples_split=2, n_estimators=200;, score=0.174 total time=   7.9s\n"
     ]
    },
    {
     "name": "stderr",
     "output_type": "stream",
     "text": [
      "C:\\Users\\ben8h\\anaconda3\\Lib\\site-packages\\sklearn\\base.py:1474: DataConversionWarning: A column-vector y was passed when a 1d array was expected. Please change the shape of y to (n_samples,), for example using ravel().\n",
      "  return fit_method(estimator, *args, **kwargs)\n"
     ]
    },
    {
     "name": "stdout",
     "output_type": "stream",
     "text": [
      "[CV 2/10] END max_depth=None, min_samples_leaf=5, min_samples_split=2, n_estimators=200;, score=0.187 total time=   7.8s\n"
     ]
    },
    {
     "name": "stderr",
     "output_type": "stream",
     "text": [
      "C:\\Users\\ben8h\\anaconda3\\Lib\\site-packages\\sklearn\\base.py:1474: DataConversionWarning: A column-vector y was passed when a 1d array was expected. Please change the shape of y to (n_samples,), for example using ravel().\n",
      "  return fit_method(estimator, *args, **kwargs)\n"
     ]
    },
    {
     "name": "stdout",
     "output_type": "stream",
     "text": [
      "[CV 3/10] END max_depth=None, min_samples_leaf=5, min_samples_split=2, n_estimators=200;, score=0.261 total time=   7.9s\n"
     ]
    },
    {
     "name": "stderr",
     "output_type": "stream",
     "text": [
      "C:\\Users\\ben8h\\anaconda3\\Lib\\site-packages\\sklearn\\base.py:1474: DataConversionWarning: A column-vector y was passed when a 1d array was expected. Please change the shape of y to (n_samples,), for example using ravel().\n",
      "  return fit_method(estimator, *args, **kwargs)\n"
     ]
    },
    {
     "name": "stdout",
     "output_type": "stream",
     "text": [
      "[CV 4/10] END max_depth=None, min_samples_leaf=5, min_samples_split=2, n_estimators=200;, score=0.156 total time=   7.9s\n"
     ]
    },
    {
     "name": "stderr",
     "output_type": "stream",
     "text": [
      "C:\\Users\\ben8h\\anaconda3\\Lib\\site-packages\\sklearn\\base.py:1474: DataConversionWarning: A column-vector y was passed when a 1d array was expected. Please change the shape of y to (n_samples,), for example using ravel().\n",
      "  return fit_method(estimator, *args, **kwargs)\n"
     ]
    },
    {
     "name": "stdout",
     "output_type": "stream",
     "text": [
      "[CV 5/10] END max_depth=None, min_samples_leaf=5, min_samples_split=2, n_estimators=200;, score=0.245 total time=   7.9s\n"
     ]
    },
    {
     "name": "stderr",
     "output_type": "stream",
     "text": [
      "C:\\Users\\ben8h\\anaconda3\\Lib\\site-packages\\sklearn\\base.py:1474: DataConversionWarning: A column-vector y was passed when a 1d array was expected. Please change the shape of y to (n_samples,), for example using ravel().\n",
      "  return fit_method(estimator, *args, **kwargs)\n"
     ]
    },
    {
     "name": "stdout",
     "output_type": "stream",
     "text": [
      "[CV 6/10] END max_depth=None, min_samples_leaf=5, min_samples_split=2, n_estimators=200;, score=0.158 total time=   7.9s\n"
     ]
    },
    {
     "name": "stderr",
     "output_type": "stream",
     "text": [
      "C:\\Users\\ben8h\\anaconda3\\Lib\\site-packages\\sklearn\\base.py:1474: DataConversionWarning: A column-vector y was passed when a 1d array was expected. Please change the shape of y to (n_samples,), for example using ravel().\n",
      "  return fit_method(estimator, *args, **kwargs)\n"
     ]
    },
    {
     "name": "stdout",
     "output_type": "stream",
     "text": [
      "[CV 7/10] END max_depth=None, min_samples_leaf=5, min_samples_split=2, n_estimators=200;, score=0.179 total time=   7.9s\n"
     ]
    },
    {
     "name": "stderr",
     "output_type": "stream",
     "text": [
      "C:\\Users\\ben8h\\anaconda3\\Lib\\site-packages\\sklearn\\base.py:1474: DataConversionWarning: A column-vector y was passed when a 1d array was expected. Please change the shape of y to (n_samples,), for example using ravel().\n",
      "  return fit_method(estimator, *args, **kwargs)\n"
     ]
    },
    {
     "name": "stdout",
     "output_type": "stream",
     "text": [
      "[CV 8/10] END max_depth=None, min_samples_leaf=5, min_samples_split=2, n_estimators=200;, score=0.180 total time=   7.9s\n"
     ]
    },
    {
     "name": "stderr",
     "output_type": "stream",
     "text": [
      "C:\\Users\\ben8h\\anaconda3\\Lib\\site-packages\\sklearn\\base.py:1474: DataConversionWarning: A column-vector y was passed when a 1d array was expected. Please change the shape of y to (n_samples,), for example using ravel().\n",
      "  return fit_method(estimator, *args, **kwargs)\n"
     ]
    },
    {
     "name": "stdout",
     "output_type": "stream",
     "text": [
      "[CV 9/10] END max_depth=None, min_samples_leaf=5, min_samples_split=2, n_estimators=200;, score=0.177 total time=   7.8s\n"
     ]
    },
    {
     "name": "stderr",
     "output_type": "stream",
     "text": [
      "C:\\Users\\ben8h\\anaconda3\\Lib\\site-packages\\sklearn\\base.py:1474: DataConversionWarning: A column-vector y was passed when a 1d array was expected. Please change the shape of y to (n_samples,), for example using ravel().\n",
      "  return fit_method(estimator, *args, **kwargs)\n"
     ]
    },
    {
     "name": "stdout",
     "output_type": "stream",
     "text": [
      "[CV 10/10] END max_depth=None, min_samples_leaf=5, min_samples_split=2, n_estimators=200;, score=0.187 total time=   7.9s\n"
     ]
    },
    {
     "name": "stderr",
     "output_type": "stream",
     "text": [
      "C:\\Users\\ben8h\\anaconda3\\Lib\\site-packages\\sklearn\\base.py:1474: DataConversionWarning: A column-vector y was passed when a 1d array was expected. Please change the shape of y to (n_samples,), for example using ravel().\n",
      "  return fit_method(estimator, *args, **kwargs)\n"
     ]
    },
    {
     "name": "stdout",
     "output_type": "stream",
     "text": [
      "[CV 1/10] END max_depth=None, min_samples_leaf=5, min_samples_split=5, n_estimators=50;, score=0.169 total time=   1.9s\n"
     ]
    },
    {
     "name": "stderr",
     "output_type": "stream",
     "text": [
      "C:\\Users\\ben8h\\anaconda3\\Lib\\site-packages\\sklearn\\base.py:1474: DataConversionWarning: A column-vector y was passed when a 1d array was expected. Please change the shape of y to (n_samples,), for example using ravel().\n",
      "  return fit_method(estimator, *args, **kwargs)\n"
     ]
    },
    {
     "name": "stdout",
     "output_type": "stream",
     "text": [
      "[CV 2/10] END max_depth=None, min_samples_leaf=5, min_samples_split=5, n_estimators=50;, score=0.190 total time=   1.9s\n"
     ]
    },
    {
     "name": "stderr",
     "output_type": "stream",
     "text": [
      "C:\\Users\\ben8h\\anaconda3\\Lib\\site-packages\\sklearn\\base.py:1474: DataConversionWarning: A column-vector y was passed when a 1d array was expected. Please change the shape of y to (n_samples,), for example using ravel().\n",
      "  return fit_method(estimator, *args, **kwargs)\n"
     ]
    },
    {
     "name": "stdout",
     "output_type": "stream",
     "text": [
      "[CV 3/10] END max_depth=None, min_samples_leaf=5, min_samples_split=5, n_estimators=50;, score=0.266 total time=   1.9s\n"
     ]
    },
    {
     "name": "stderr",
     "output_type": "stream",
     "text": [
      "C:\\Users\\ben8h\\anaconda3\\Lib\\site-packages\\sklearn\\base.py:1474: DataConversionWarning: A column-vector y was passed when a 1d array was expected. Please change the shape of y to (n_samples,), for example using ravel().\n",
      "  return fit_method(estimator, *args, **kwargs)\n"
     ]
    },
    {
     "name": "stdout",
     "output_type": "stream",
     "text": [
      "[CV 4/10] END max_depth=None, min_samples_leaf=5, min_samples_split=5, n_estimators=50;, score=0.152 total time=   1.9s\n"
     ]
    },
    {
     "name": "stderr",
     "output_type": "stream",
     "text": [
      "C:\\Users\\ben8h\\anaconda3\\Lib\\site-packages\\sklearn\\base.py:1474: DataConversionWarning: A column-vector y was passed when a 1d array was expected. Please change the shape of y to (n_samples,), for example using ravel().\n",
      "  return fit_method(estimator, *args, **kwargs)\n"
     ]
    },
    {
     "name": "stdout",
     "output_type": "stream",
     "text": [
      "[CV 5/10] END max_depth=None, min_samples_leaf=5, min_samples_split=5, n_estimators=50;, score=0.243 total time=   1.9s\n"
     ]
    },
    {
     "name": "stderr",
     "output_type": "stream",
     "text": [
      "C:\\Users\\ben8h\\anaconda3\\Lib\\site-packages\\sklearn\\base.py:1474: DataConversionWarning: A column-vector y was passed when a 1d array was expected. Please change the shape of y to (n_samples,), for example using ravel().\n",
      "  return fit_method(estimator, *args, **kwargs)\n"
     ]
    },
    {
     "name": "stdout",
     "output_type": "stream",
     "text": [
      "[CV 6/10] END max_depth=None, min_samples_leaf=5, min_samples_split=5, n_estimators=50;, score=0.151 total time=   2.0s\n"
     ]
    },
    {
     "name": "stderr",
     "output_type": "stream",
     "text": [
      "C:\\Users\\ben8h\\anaconda3\\Lib\\site-packages\\sklearn\\base.py:1474: DataConversionWarning: A column-vector y was passed when a 1d array was expected. Please change the shape of y to (n_samples,), for example using ravel().\n",
      "  return fit_method(estimator, *args, **kwargs)\n"
     ]
    },
    {
     "name": "stdout",
     "output_type": "stream",
     "text": [
      "[CV 7/10] END max_depth=None, min_samples_leaf=5, min_samples_split=5, n_estimators=50;, score=0.172 total time=   2.1s\n"
     ]
    },
    {
     "name": "stderr",
     "output_type": "stream",
     "text": [
      "C:\\Users\\ben8h\\anaconda3\\Lib\\site-packages\\sklearn\\base.py:1474: DataConversionWarning: A column-vector y was passed when a 1d array was expected. Please change the shape of y to (n_samples,), for example using ravel().\n",
      "  return fit_method(estimator, *args, **kwargs)\n"
     ]
    },
    {
     "name": "stdout",
     "output_type": "stream",
     "text": [
      "[CV 8/10] END max_depth=None, min_samples_leaf=5, min_samples_split=5, n_estimators=50;, score=0.173 total time=   1.9s\n"
     ]
    },
    {
     "name": "stderr",
     "output_type": "stream",
     "text": [
      "C:\\Users\\ben8h\\anaconda3\\Lib\\site-packages\\sklearn\\base.py:1474: DataConversionWarning: A column-vector y was passed when a 1d array was expected. Please change the shape of y to (n_samples,), for example using ravel().\n",
      "  return fit_method(estimator, *args, **kwargs)\n"
     ]
    },
    {
     "name": "stdout",
     "output_type": "stream",
     "text": [
      "[CV 9/10] END max_depth=None, min_samples_leaf=5, min_samples_split=5, n_estimators=50;, score=0.162 total time=   1.9s\n"
     ]
    },
    {
     "name": "stderr",
     "output_type": "stream",
     "text": [
      "C:\\Users\\ben8h\\anaconda3\\Lib\\site-packages\\sklearn\\base.py:1474: DataConversionWarning: A column-vector y was passed when a 1d array was expected. Please change the shape of y to (n_samples,), for example using ravel().\n",
      "  return fit_method(estimator, *args, **kwargs)\n"
     ]
    },
    {
     "name": "stdout",
     "output_type": "stream",
     "text": [
      "[CV 10/10] END max_depth=None, min_samples_leaf=5, min_samples_split=5, n_estimators=50;, score=0.183 total time=   1.9s\n"
     ]
    },
    {
     "name": "stderr",
     "output_type": "stream",
     "text": [
      "C:\\Users\\ben8h\\anaconda3\\Lib\\site-packages\\sklearn\\base.py:1474: DataConversionWarning: A column-vector y was passed when a 1d array was expected. Please change the shape of y to (n_samples,), for example using ravel().\n",
      "  return fit_method(estimator, *args, **kwargs)\n"
     ]
    },
    {
     "name": "stdout",
     "output_type": "stream",
     "text": [
      "[CV 1/10] END max_depth=None, min_samples_leaf=5, min_samples_split=5, n_estimators=100;, score=0.169 total time=   3.9s\n"
     ]
    },
    {
     "name": "stderr",
     "output_type": "stream",
     "text": [
      "C:\\Users\\ben8h\\anaconda3\\Lib\\site-packages\\sklearn\\base.py:1474: DataConversionWarning: A column-vector y was passed when a 1d array was expected. Please change the shape of y to (n_samples,), for example using ravel().\n",
      "  return fit_method(estimator, *args, **kwargs)\n"
     ]
    },
    {
     "name": "stdout",
     "output_type": "stream",
     "text": [
      "[CV 2/10] END max_depth=None, min_samples_leaf=5, min_samples_split=5, n_estimators=100;, score=0.204 total time=   4.0s\n"
     ]
    },
    {
     "name": "stderr",
     "output_type": "stream",
     "text": [
      "C:\\Users\\ben8h\\anaconda3\\Lib\\site-packages\\sklearn\\base.py:1474: DataConversionWarning: A column-vector y was passed when a 1d array was expected. Please change the shape of y to (n_samples,), for example using ravel().\n",
      "  return fit_method(estimator, *args, **kwargs)\n"
     ]
    },
    {
     "name": "stdout",
     "output_type": "stream",
     "text": [
      "[CV 3/10] END max_depth=None, min_samples_leaf=5, min_samples_split=5, n_estimators=100;, score=0.256 total time=   4.0s\n"
     ]
    },
    {
     "name": "stderr",
     "output_type": "stream",
     "text": [
      "C:\\Users\\ben8h\\anaconda3\\Lib\\site-packages\\sklearn\\base.py:1474: DataConversionWarning: A column-vector y was passed when a 1d array was expected. Please change the shape of y to (n_samples,), for example using ravel().\n",
      "  return fit_method(estimator, *args, **kwargs)\n"
     ]
    },
    {
     "name": "stdout",
     "output_type": "stream",
     "text": [
      "[CV 4/10] END max_depth=None, min_samples_leaf=5, min_samples_split=5, n_estimators=100;, score=0.160 total time=   3.9s\n"
     ]
    },
    {
     "name": "stderr",
     "output_type": "stream",
     "text": [
      "C:\\Users\\ben8h\\anaconda3\\Lib\\site-packages\\sklearn\\base.py:1474: DataConversionWarning: A column-vector y was passed when a 1d array was expected. Please change the shape of y to (n_samples,), for example using ravel().\n",
      "  return fit_method(estimator, *args, **kwargs)\n"
     ]
    },
    {
     "name": "stdout",
     "output_type": "stream",
     "text": [
      "[CV 5/10] END max_depth=None, min_samples_leaf=5, min_samples_split=5, n_estimators=100;, score=0.249 total time=   4.1s\n"
     ]
    },
    {
     "name": "stderr",
     "output_type": "stream",
     "text": [
      "C:\\Users\\ben8h\\anaconda3\\Lib\\site-packages\\sklearn\\base.py:1474: DataConversionWarning: A column-vector y was passed when a 1d array was expected. Please change the shape of y to (n_samples,), for example using ravel().\n",
      "  return fit_method(estimator, *args, **kwargs)\n"
     ]
    },
    {
     "name": "stdout",
     "output_type": "stream",
     "text": [
      "[CV 6/10] END max_depth=None, min_samples_leaf=5, min_samples_split=5, n_estimators=100;, score=0.151 total time=   4.0s\n"
     ]
    },
    {
     "name": "stderr",
     "output_type": "stream",
     "text": [
      "C:\\Users\\ben8h\\anaconda3\\Lib\\site-packages\\sklearn\\base.py:1474: DataConversionWarning: A column-vector y was passed when a 1d array was expected. Please change the shape of y to (n_samples,), for example using ravel().\n",
      "  return fit_method(estimator, *args, **kwargs)\n"
     ]
    },
    {
     "name": "stdout",
     "output_type": "stream",
     "text": [
      "[CV 7/10] END max_depth=None, min_samples_leaf=5, min_samples_split=5, n_estimators=100;, score=0.174 total time=   4.1s\n"
     ]
    },
    {
     "name": "stderr",
     "output_type": "stream",
     "text": [
      "C:\\Users\\ben8h\\anaconda3\\Lib\\site-packages\\sklearn\\base.py:1474: DataConversionWarning: A column-vector y was passed when a 1d array was expected. Please change the shape of y to (n_samples,), for example using ravel().\n",
      "  return fit_method(estimator, *args, **kwargs)\n"
     ]
    },
    {
     "name": "stdout",
     "output_type": "stream",
     "text": [
      "[CV 8/10] END max_depth=None, min_samples_leaf=5, min_samples_split=5, n_estimators=100;, score=0.168 total time=   4.1s\n"
     ]
    },
    {
     "name": "stderr",
     "output_type": "stream",
     "text": [
      "C:\\Users\\ben8h\\anaconda3\\Lib\\site-packages\\sklearn\\base.py:1474: DataConversionWarning: A column-vector y was passed when a 1d array was expected. Please change the shape of y to (n_samples,), for example using ravel().\n",
      "  return fit_method(estimator, *args, **kwargs)\n"
     ]
    },
    {
     "name": "stdout",
     "output_type": "stream",
     "text": [
      "[CV 9/10] END max_depth=None, min_samples_leaf=5, min_samples_split=5, n_estimators=100;, score=0.171 total time=   4.0s\n"
     ]
    },
    {
     "name": "stderr",
     "output_type": "stream",
     "text": [
      "C:\\Users\\ben8h\\anaconda3\\Lib\\site-packages\\sklearn\\base.py:1474: DataConversionWarning: A column-vector y was passed when a 1d array was expected. Please change the shape of y to (n_samples,), for example using ravel().\n",
      "  return fit_method(estimator, *args, **kwargs)\n"
     ]
    },
    {
     "name": "stdout",
     "output_type": "stream",
     "text": [
      "[CV 10/10] END max_depth=None, min_samples_leaf=5, min_samples_split=5, n_estimators=100;, score=0.185 total time=   4.0s\n"
     ]
    },
    {
     "name": "stderr",
     "output_type": "stream",
     "text": [
      "C:\\Users\\ben8h\\anaconda3\\Lib\\site-packages\\sklearn\\base.py:1474: DataConversionWarning: A column-vector y was passed when a 1d array was expected. Please change the shape of y to (n_samples,), for example using ravel().\n",
      "  return fit_method(estimator, *args, **kwargs)\n"
     ]
    },
    {
     "name": "stdout",
     "output_type": "stream",
     "text": [
      "[CV 1/10] END max_depth=None, min_samples_leaf=5, min_samples_split=5, n_estimators=200;, score=0.174 total time=   8.1s\n"
     ]
    },
    {
     "name": "stderr",
     "output_type": "stream",
     "text": [
      "C:\\Users\\ben8h\\anaconda3\\Lib\\site-packages\\sklearn\\base.py:1474: DataConversionWarning: A column-vector y was passed when a 1d array was expected. Please change the shape of y to (n_samples,), for example using ravel().\n",
      "  return fit_method(estimator, *args, **kwargs)\n"
     ]
    },
    {
     "name": "stdout",
     "output_type": "stream",
     "text": [
      "[CV 2/10] END max_depth=None, min_samples_leaf=5, min_samples_split=5, n_estimators=200;, score=0.193 total time=   8.3s\n"
     ]
    },
    {
     "name": "stderr",
     "output_type": "stream",
     "text": [
      "C:\\Users\\ben8h\\anaconda3\\Lib\\site-packages\\sklearn\\base.py:1474: DataConversionWarning: A column-vector y was passed when a 1d array was expected. Please change the shape of y to (n_samples,), for example using ravel().\n",
      "  return fit_method(estimator, *args, **kwargs)\n"
     ]
    },
    {
     "name": "stdout",
     "output_type": "stream",
     "text": [
      "[CV 3/10] END max_depth=None, min_samples_leaf=5, min_samples_split=5, n_estimators=200;, score=0.252 total time=   8.1s\n"
     ]
    },
    {
     "name": "stderr",
     "output_type": "stream",
     "text": [
      "C:\\Users\\ben8h\\anaconda3\\Lib\\site-packages\\sklearn\\base.py:1474: DataConversionWarning: A column-vector y was passed when a 1d array was expected. Please change the shape of y to (n_samples,), for example using ravel().\n",
      "  return fit_method(estimator, *args, **kwargs)\n"
     ]
    },
    {
     "name": "stdout",
     "output_type": "stream",
     "text": [
      "[CV 4/10] END max_depth=None, min_samples_leaf=5, min_samples_split=5, n_estimators=200;, score=0.159 total time=   7.9s\n"
     ]
    },
    {
     "name": "stderr",
     "output_type": "stream",
     "text": [
      "C:\\Users\\ben8h\\anaconda3\\Lib\\site-packages\\sklearn\\base.py:1474: DataConversionWarning: A column-vector y was passed when a 1d array was expected. Please change the shape of y to (n_samples,), for example using ravel().\n",
      "  return fit_method(estimator, *args, **kwargs)\n"
     ]
    },
    {
     "name": "stdout",
     "output_type": "stream",
     "text": [
      "[CV 5/10] END max_depth=None, min_samples_leaf=5, min_samples_split=5, n_estimators=200;, score=0.244 total time=   8.1s\n"
     ]
    },
    {
     "name": "stderr",
     "output_type": "stream",
     "text": [
      "C:\\Users\\ben8h\\anaconda3\\Lib\\site-packages\\sklearn\\base.py:1474: DataConversionWarning: A column-vector y was passed when a 1d array was expected. Please change the shape of y to (n_samples,), for example using ravel().\n",
      "  return fit_method(estimator, *args, **kwargs)\n"
     ]
    },
    {
     "name": "stdout",
     "output_type": "stream",
     "text": [
      "[CV 6/10] END max_depth=None, min_samples_leaf=5, min_samples_split=5, n_estimators=200;, score=0.162 total time=   8.2s\n"
     ]
    },
    {
     "name": "stderr",
     "output_type": "stream",
     "text": [
      "C:\\Users\\ben8h\\anaconda3\\Lib\\site-packages\\sklearn\\base.py:1474: DataConversionWarning: A column-vector y was passed when a 1d array was expected. Please change the shape of y to (n_samples,), for example using ravel().\n",
      "  return fit_method(estimator, *args, **kwargs)\n"
     ]
    },
    {
     "name": "stdout",
     "output_type": "stream",
     "text": [
      "[CV 7/10] END max_depth=None, min_samples_leaf=5, min_samples_split=5, n_estimators=200;, score=0.180 total time=   8.0s\n"
     ]
    },
    {
     "name": "stderr",
     "output_type": "stream",
     "text": [
      "C:\\Users\\ben8h\\anaconda3\\Lib\\site-packages\\sklearn\\base.py:1474: DataConversionWarning: A column-vector y was passed when a 1d array was expected. Please change the shape of y to (n_samples,), for example using ravel().\n",
      "  return fit_method(estimator, *args, **kwargs)\n"
     ]
    },
    {
     "name": "stdout",
     "output_type": "stream",
     "text": [
      "[CV 8/10] END max_depth=None, min_samples_leaf=5, min_samples_split=5, n_estimators=200;, score=0.179 total time=   8.2s\n"
     ]
    },
    {
     "name": "stderr",
     "output_type": "stream",
     "text": [
      "C:\\Users\\ben8h\\anaconda3\\Lib\\site-packages\\sklearn\\base.py:1474: DataConversionWarning: A column-vector y was passed when a 1d array was expected. Please change the shape of y to (n_samples,), for example using ravel().\n",
      "  return fit_method(estimator, *args, **kwargs)\n"
     ]
    },
    {
     "name": "stdout",
     "output_type": "stream",
     "text": [
      "[CV 9/10] END max_depth=None, min_samples_leaf=5, min_samples_split=5, n_estimators=200;, score=0.180 total time=   7.9s\n"
     ]
    },
    {
     "name": "stderr",
     "output_type": "stream",
     "text": [
      "C:\\Users\\ben8h\\anaconda3\\Lib\\site-packages\\sklearn\\base.py:1474: DataConversionWarning: A column-vector y was passed when a 1d array was expected. Please change the shape of y to (n_samples,), for example using ravel().\n",
      "  return fit_method(estimator, *args, **kwargs)\n"
     ]
    },
    {
     "name": "stdout",
     "output_type": "stream",
     "text": [
      "[CV 10/10] END max_depth=None, min_samples_leaf=5, min_samples_split=5, n_estimators=200;, score=0.178 total time=   8.0s\n"
     ]
    },
    {
     "name": "stderr",
     "output_type": "stream",
     "text": [
      "C:\\Users\\ben8h\\anaconda3\\Lib\\site-packages\\sklearn\\base.py:1474: DataConversionWarning: A column-vector y was passed when a 1d array was expected. Please change the shape of y to (n_samples,), for example using ravel().\n",
      "  return fit_method(estimator, *args, **kwargs)\n"
     ]
    },
    {
     "name": "stdout",
     "output_type": "stream",
     "text": [
      "[CV 1/10] END max_depth=None, min_samples_leaf=5, min_samples_split=10, n_estimators=50;, score=0.180 total time=   1.9s\n"
     ]
    },
    {
     "name": "stderr",
     "output_type": "stream",
     "text": [
      "C:\\Users\\ben8h\\anaconda3\\Lib\\site-packages\\sklearn\\base.py:1474: DataConversionWarning: A column-vector y was passed when a 1d array was expected. Please change the shape of y to (n_samples,), for example using ravel().\n",
      "  return fit_method(estimator, *args, **kwargs)\n"
     ]
    },
    {
     "name": "stdout",
     "output_type": "stream",
     "text": [
      "[CV 2/10] END max_depth=None, min_samples_leaf=5, min_samples_split=10, n_estimators=50;, score=0.180 total time=   1.9s\n"
     ]
    },
    {
     "name": "stderr",
     "output_type": "stream",
     "text": [
      "C:\\Users\\ben8h\\anaconda3\\Lib\\site-packages\\sklearn\\base.py:1474: DataConversionWarning: A column-vector y was passed when a 1d array was expected. Please change the shape of y to (n_samples,), for example using ravel().\n",
      "  return fit_method(estimator, *args, **kwargs)\n"
     ]
    },
    {
     "name": "stdout",
     "output_type": "stream",
     "text": [
      "[CV 3/10] END max_depth=None, min_samples_leaf=5, min_samples_split=10, n_estimators=50;, score=0.247 total time=   1.9s\n"
     ]
    },
    {
     "name": "stderr",
     "output_type": "stream",
     "text": [
      "C:\\Users\\ben8h\\anaconda3\\Lib\\site-packages\\sklearn\\base.py:1474: DataConversionWarning: A column-vector y was passed when a 1d array was expected. Please change the shape of y to (n_samples,), for example using ravel().\n",
      "  return fit_method(estimator, *args, **kwargs)\n"
     ]
    },
    {
     "name": "stdout",
     "output_type": "stream",
     "text": [
      "[CV 4/10] END max_depth=None, min_samples_leaf=5, min_samples_split=10, n_estimators=50;, score=0.162 total time=   1.9s\n"
     ]
    },
    {
     "name": "stderr",
     "output_type": "stream",
     "text": [
      "C:\\Users\\ben8h\\anaconda3\\Lib\\site-packages\\sklearn\\base.py:1474: DataConversionWarning: A column-vector y was passed when a 1d array was expected. Please change the shape of y to (n_samples,), for example using ravel().\n",
      "  return fit_method(estimator, *args, **kwargs)\n"
     ]
    },
    {
     "name": "stdout",
     "output_type": "stream",
     "text": [
      "[CV 5/10] END max_depth=None, min_samples_leaf=5, min_samples_split=10, n_estimators=50;, score=0.236 total time=   1.9s\n"
     ]
    },
    {
     "name": "stderr",
     "output_type": "stream",
     "text": [
      "C:\\Users\\ben8h\\anaconda3\\Lib\\site-packages\\sklearn\\base.py:1474: DataConversionWarning: A column-vector y was passed when a 1d array was expected. Please change the shape of y to (n_samples,), for example using ravel().\n",
      "  return fit_method(estimator, *args, **kwargs)\n"
     ]
    },
    {
     "name": "stdout",
     "output_type": "stream",
     "text": [
      "[CV 6/10] END max_depth=None, min_samples_leaf=5, min_samples_split=10, n_estimators=50;, score=0.144 total time=   1.9s\n"
     ]
    },
    {
     "name": "stderr",
     "output_type": "stream",
     "text": [
      "C:\\Users\\ben8h\\anaconda3\\Lib\\site-packages\\sklearn\\base.py:1474: DataConversionWarning: A column-vector y was passed when a 1d array was expected. Please change the shape of y to (n_samples,), for example using ravel().\n",
      "  return fit_method(estimator, *args, **kwargs)\n"
     ]
    },
    {
     "name": "stdout",
     "output_type": "stream",
     "text": [
      "[CV 7/10] END max_depth=None, min_samples_leaf=5, min_samples_split=10, n_estimators=50;, score=0.160 total time=   1.9s\n"
     ]
    },
    {
     "name": "stderr",
     "output_type": "stream",
     "text": [
      "C:\\Users\\ben8h\\anaconda3\\Lib\\site-packages\\sklearn\\base.py:1474: DataConversionWarning: A column-vector y was passed when a 1d array was expected. Please change the shape of y to (n_samples,), for example using ravel().\n",
      "  return fit_method(estimator, *args, **kwargs)\n"
     ]
    },
    {
     "name": "stdout",
     "output_type": "stream",
     "text": [
      "[CV 8/10] END max_depth=None, min_samples_leaf=5, min_samples_split=10, n_estimators=50;, score=0.163 total time=   1.9s\n"
     ]
    },
    {
     "name": "stderr",
     "output_type": "stream",
     "text": [
      "C:\\Users\\ben8h\\anaconda3\\Lib\\site-packages\\sklearn\\base.py:1474: DataConversionWarning: A column-vector y was passed when a 1d array was expected. Please change the shape of y to (n_samples,), for example using ravel().\n",
      "  return fit_method(estimator, *args, **kwargs)\n"
     ]
    },
    {
     "name": "stdout",
     "output_type": "stream",
     "text": [
      "[CV 9/10] END max_depth=None, min_samples_leaf=5, min_samples_split=10, n_estimators=50;, score=0.174 total time=   1.9s\n"
     ]
    },
    {
     "name": "stderr",
     "output_type": "stream",
     "text": [
      "C:\\Users\\ben8h\\anaconda3\\Lib\\site-packages\\sklearn\\base.py:1474: DataConversionWarning: A column-vector y was passed when a 1d array was expected. Please change the shape of y to (n_samples,), for example using ravel().\n",
      "  return fit_method(estimator, *args, **kwargs)\n"
     ]
    },
    {
     "name": "stdout",
     "output_type": "stream",
     "text": [
      "[CV 10/10] END max_depth=None, min_samples_leaf=5, min_samples_split=10, n_estimators=50;, score=0.165 total time=   1.9s\n"
     ]
    },
    {
     "name": "stderr",
     "output_type": "stream",
     "text": [
      "C:\\Users\\ben8h\\anaconda3\\Lib\\site-packages\\sklearn\\base.py:1474: DataConversionWarning: A column-vector y was passed when a 1d array was expected. Please change the shape of y to (n_samples,), for example using ravel().\n",
      "  return fit_method(estimator, *args, **kwargs)\n"
     ]
    },
    {
     "name": "stdout",
     "output_type": "stream",
     "text": [
      "[CV 1/10] END max_depth=None, min_samples_leaf=5, min_samples_split=10, n_estimators=100;, score=0.170 total time=   4.0s\n"
     ]
    },
    {
     "name": "stderr",
     "output_type": "stream",
     "text": [
      "C:\\Users\\ben8h\\anaconda3\\Lib\\site-packages\\sklearn\\base.py:1474: DataConversionWarning: A column-vector y was passed when a 1d array was expected. Please change the shape of y to (n_samples,), for example using ravel().\n",
      "  return fit_method(estimator, *args, **kwargs)\n"
     ]
    },
    {
     "name": "stdout",
     "output_type": "stream",
     "text": [
      "[CV 2/10] END max_depth=None, min_samples_leaf=5, min_samples_split=10, n_estimators=100;, score=0.197 total time=   4.0s\n"
     ]
    },
    {
     "name": "stderr",
     "output_type": "stream",
     "text": [
      "C:\\Users\\ben8h\\anaconda3\\Lib\\site-packages\\sklearn\\base.py:1474: DataConversionWarning: A column-vector y was passed when a 1d array was expected. Please change the shape of y to (n_samples,), for example using ravel().\n",
      "  return fit_method(estimator, *args, **kwargs)\n"
     ]
    },
    {
     "name": "stdout",
     "output_type": "stream",
     "text": [
      "[CV 3/10] END max_depth=None, min_samples_leaf=5, min_samples_split=10, n_estimators=100;, score=0.257 total time=   4.0s\n"
     ]
    },
    {
     "name": "stderr",
     "output_type": "stream",
     "text": [
      "C:\\Users\\ben8h\\anaconda3\\Lib\\site-packages\\sklearn\\base.py:1474: DataConversionWarning: A column-vector y was passed when a 1d array was expected. Please change the shape of y to (n_samples,), for example using ravel().\n",
      "  return fit_method(estimator, *args, **kwargs)\n"
     ]
    },
    {
     "name": "stdout",
     "output_type": "stream",
     "text": [
      "[CV 4/10] END max_depth=None, min_samples_leaf=5, min_samples_split=10, n_estimators=100;, score=0.166 total time=   4.1s\n"
     ]
    },
    {
     "name": "stderr",
     "output_type": "stream",
     "text": [
      "C:\\Users\\ben8h\\anaconda3\\Lib\\site-packages\\sklearn\\base.py:1474: DataConversionWarning: A column-vector y was passed when a 1d array was expected. Please change the shape of y to (n_samples,), for example using ravel().\n",
      "  return fit_method(estimator, *args, **kwargs)\n"
     ]
    },
    {
     "name": "stdout",
     "output_type": "stream",
     "text": [
      "[CV 5/10] END max_depth=None, min_samples_leaf=5, min_samples_split=10, n_estimators=100;, score=0.231 total time=   4.1s\n"
     ]
    },
    {
     "name": "stderr",
     "output_type": "stream",
     "text": [
      "C:\\Users\\ben8h\\anaconda3\\Lib\\site-packages\\sklearn\\base.py:1474: DataConversionWarning: A column-vector y was passed when a 1d array was expected. Please change the shape of y to (n_samples,), for example using ravel().\n",
      "  return fit_method(estimator, *args, **kwargs)\n"
     ]
    },
    {
     "name": "stdout",
     "output_type": "stream",
     "text": [
      "[CV 6/10] END max_depth=None, min_samples_leaf=5, min_samples_split=10, n_estimators=100;, score=0.152 total time=   4.1s\n"
     ]
    },
    {
     "name": "stderr",
     "output_type": "stream",
     "text": [
      "C:\\Users\\ben8h\\anaconda3\\Lib\\site-packages\\sklearn\\base.py:1474: DataConversionWarning: A column-vector y was passed when a 1d array was expected. Please change the shape of y to (n_samples,), for example using ravel().\n",
      "  return fit_method(estimator, *args, **kwargs)\n"
     ]
    },
    {
     "name": "stdout",
     "output_type": "stream",
     "text": [
      "[CV 7/10] END max_depth=None, min_samples_leaf=5, min_samples_split=10, n_estimators=100;, score=0.180 total time=   4.0s\n"
     ]
    },
    {
     "name": "stderr",
     "output_type": "stream",
     "text": [
      "C:\\Users\\ben8h\\anaconda3\\Lib\\site-packages\\sklearn\\base.py:1474: DataConversionWarning: A column-vector y was passed when a 1d array was expected. Please change the shape of y to (n_samples,), for example using ravel().\n",
      "  return fit_method(estimator, *args, **kwargs)\n"
     ]
    },
    {
     "name": "stdout",
     "output_type": "stream",
     "text": [
      "[CV 8/10] END max_depth=None, min_samples_leaf=5, min_samples_split=10, n_estimators=100;, score=0.168 total time=   4.0s\n"
     ]
    },
    {
     "name": "stderr",
     "output_type": "stream",
     "text": [
      "C:\\Users\\ben8h\\anaconda3\\Lib\\site-packages\\sklearn\\base.py:1474: DataConversionWarning: A column-vector y was passed when a 1d array was expected. Please change the shape of y to (n_samples,), for example using ravel().\n",
      "  return fit_method(estimator, *args, **kwargs)\n"
     ]
    },
    {
     "name": "stdout",
     "output_type": "stream",
     "text": [
      "[CV 9/10] END max_depth=None, min_samples_leaf=5, min_samples_split=10, n_estimators=100;, score=0.175 total time=   4.0s\n"
     ]
    },
    {
     "name": "stderr",
     "output_type": "stream",
     "text": [
      "C:\\Users\\ben8h\\anaconda3\\Lib\\site-packages\\sklearn\\base.py:1474: DataConversionWarning: A column-vector y was passed when a 1d array was expected. Please change the shape of y to (n_samples,), for example using ravel().\n",
      "  return fit_method(estimator, *args, **kwargs)\n"
     ]
    },
    {
     "name": "stdout",
     "output_type": "stream",
     "text": [
      "[CV 10/10] END max_depth=None, min_samples_leaf=5, min_samples_split=10, n_estimators=100;, score=0.186 total time=   3.9s\n"
     ]
    },
    {
     "name": "stderr",
     "output_type": "stream",
     "text": [
      "C:\\Users\\ben8h\\anaconda3\\Lib\\site-packages\\sklearn\\base.py:1474: DataConversionWarning: A column-vector y was passed when a 1d array was expected. Please change the shape of y to (n_samples,), for example using ravel().\n",
      "  return fit_method(estimator, *args, **kwargs)\n"
     ]
    },
    {
     "name": "stdout",
     "output_type": "stream",
     "text": [
      "[CV 1/10] END max_depth=None, min_samples_leaf=5, min_samples_split=10, n_estimators=200;, score=0.176 total time=   7.9s\n"
     ]
    },
    {
     "name": "stderr",
     "output_type": "stream",
     "text": [
      "C:\\Users\\ben8h\\anaconda3\\Lib\\site-packages\\sklearn\\base.py:1474: DataConversionWarning: A column-vector y was passed when a 1d array was expected. Please change the shape of y to (n_samples,), for example using ravel().\n",
      "  return fit_method(estimator, *args, **kwargs)\n"
     ]
    },
    {
     "name": "stdout",
     "output_type": "stream",
     "text": [
      "[CV 2/10] END max_depth=None, min_samples_leaf=5, min_samples_split=10, n_estimators=200;, score=0.184 total time=   7.8s\n"
     ]
    },
    {
     "name": "stderr",
     "output_type": "stream",
     "text": [
      "C:\\Users\\ben8h\\anaconda3\\Lib\\site-packages\\sklearn\\base.py:1474: DataConversionWarning: A column-vector y was passed when a 1d array was expected. Please change the shape of y to (n_samples,), for example using ravel().\n",
      "  return fit_method(estimator, *args, **kwargs)\n"
     ]
    },
    {
     "name": "stdout",
     "output_type": "stream",
     "text": [
      "[CV 3/10] END max_depth=None, min_samples_leaf=5, min_samples_split=10, n_estimators=200;, score=0.255 total time=   7.9s\n"
     ]
    },
    {
     "name": "stderr",
     "output_type": "stream",
     "text": [
      "C:\\Users\\ben8h\\anaconda3\\Lib\\site-packages\\sklearn\\base.py:1474: DataConversionWarning: A column-vector y was passed when a 1d array was expected. Please change the shape of y to (n_samples,), for example using ravel().\n",
      "  return fit_method(estimator, *args, **kwargs)\n"
     ]
    },
    {
     "name": "stdout",
     "output_type": "stream",
     "text": [
      "[CV 4/10] END max_depth=None, min_samples_leaf=5, min_samples_split=10, n_estimators=200;, score=0.154 total time=   8.4s\n"
     ]
    },
    {
     "name": "stderr",
     "output_type": "stream",
     "text": [
      "C:\\Users\\ben8h\\anaconda3\\Lib\\site-packages\\sklearn\\base.py:1474: DataConversionWarning: A column-vector y was passed when a 1d array was expected. Please change the shape of y to (n_samples,), for example using ravel().\n",
      "  return fit_method(estimator, *args, **kwargs)\n"
     ]
    },
    {
     "name": "stdout",
     "output_type": "stream",
     "text": [
      "[CV 5/10] END max_depth=None, min_samples_leaf=5, min_samples_split=10, n_estimators=200;, score=0.242 total time=   8.0s\n"
     ]
    },
    {
     "name": "stderr",
     "output_type": "stream",
     "text": [
      "C:\\Users\\ben8h\\anaconda3\\Lib\\site-packages\\sklearn\\base.py:1474: DataConversionWarning: A column-vector y was passed when a 1d array was expected. Please change the shape of y to (n_samples,), for example using ravel().\n",
      "  return fit_method(estimator, *args, **kwargs)\n"
     ]
    },
    {
     "name": "stdout",
     "output_type": "stream",
     "text": [
      "[CV 6/10] END max_depth=None, min_samples_leaf=5, min_samples_split=10, n_estimators=200;, score=0.155 total time=   7.7s\n"
     ]
    },
    {
     "name": "stderr",
     "output_type": "stream",
     "text": [
      "C:\\Users\\ben8h\\anaconda3\\Lib\\site-packages\\sklearn\\base.py:1474: DataConversionWarning: A column-vector y was passed when a 1d array was expected. Please change the shape of y to (n_samples,), for example using ravel().\n",
      "  return fit_method(estimator, *args, **kwargs)\n"
     ]
    },
    {
     "name": "stdout",
     "output_type": "stream",
     "text": [
      "[CV 7/10] END max_depth=None, min_samples_leaf=5, min_samples_split=10, n_estimators=200;, score=0.173 total time=   7.7s\n"
     ]
    },
    {
     "name": "stderr",
     "output_type": "stream",
     "text": [
      "C:\\Users\\ben8h\\anaconda3\\Lib\\site-packages\\sklearn\\base.py:1474: DataConversionWarning: A column-vector y was passed when a 1d array was expected. Please change the shape of y to (n_samples,), for example using ravel().\n",
      "  return fit_method(estimator, *args, **kwargs)\n"
     ]
    },
    {
     "name": "stdout",
     "output_type": "stream",
     "text": [
      "[CV 8/10] END max_depth=None, min_samples_leaf=5, min_samples_split=10, n_estimators=200;, score=0.178 total time=   7.7s\n"
     ]
    },
    {
     "name": "stderr",
     "output_type": "stream",
     "text": [
      "C:\\Users\\ben8h\\anaconda3\\Lib\\site-packages\\sklearn\\base.py:1474: DataConversionWarning: A column-vector y was passed when a 1d array was expected. Please change the shape of y to (n_samples,), for example using ravel().\n",
      "  return fit_method(estimator, *args, **kwargs)\n"
     ]
    },
    {
     "name": "stdout",
     "output_type": "stream",
     "text": [
      "[CV 9/10] END max_depth=None, min_samples_leaf=5, min_samples_split=10, n_estimators=200;, score=0.181 total time=   7.6s\n"
     ]
    },
    {
     "name": "stderr",
     "output_type": "stream",
     "text": [
      "C:\\Users\\ben8h\\anaconda3\\Lib\\site-packages\\sklearn\\base.py:1474: DataConversionWarning: A column-vector y was passed when a 1d array was expected. Please change the shape of y to (n_samples,), for example using ravel().\n",
      "  return fit_method(estimator, *args, **kwargs)\n"
     ]
    },
    {
     "name": "stdout",
     "output_type": "stream",
     "text": [
      "[CV 10/10] END max_depth=None, min_samples_leaf=5, min_samples_split=10, n_estimators=200;, score=0.177 total time=   7.7s\n"
     ]
    },
    {
     "name": "stderr",
     "output_type": "stream",
     "text": [
      "C:\\Users\\ben8h\\anaconda3\\Lib\\site-packages\\sklearn\\base.py:1474: DataConversionWarning: A column-vector y was passed when a 1d array was expected. Please change the shape of y to (n_samples,), for example using ravel().\n",
      "  return fit_method(estimator, *args, **kwargs)\n"
     ]
    },
    {
     "name": "stdout",
     "output_type": "stream",
     "text": [
      "[CV 1/10] END max_depth=None, min_samples_leaf=10, min_samples_split=2, n_estimators=50;, score=0.156 total time=   1.6s\n"
     ]
    },
    {
     "name": "stderr",
     "output_type": "stream",
     "text": [
      "C:\\Users\\ben8h\\anaconda3\\Lib\\site-packages\\sklearn\\base.py:1474: DataConversionWarning: A column-vector y was passed when a 1d array was expected. Please change the shape of y to (n_samples,), for example using ravel().\n",
      "  return fit_method(estimator, *args, **kwargs)\n"
     ]
    },
    {
     "name": "stdout",
     "output_type": "stream",
     "text": [
      "[CV 2/10] END max_depth=None, min_samples_leaf=10, min_samples_split=2, n_estimators=50;, score=0.168 total time=   1.6s\n"
     ]
    },
    {
     "name": "stderr",
     "output_type": "stream",
     "text": [
      "C:\\Users\\ben8h\\anaconda3\\Lib\\site-packages\\sklearn\\base.py:1474: DataConversionWarning: A column-vector y was passed when a 1d array was expected. Please change the shape of y to (n_samples,), for example using ravel().\n",
      "  return fit_method(estimator, *args, **kwargs)\n"
     ]
    },
    {
     "name": "stdout",
     "output_type": "stream",
     "text": [
      "[CV 3/10] END max_depth=None, min_samples_leaf=10, min_samples_split=2, n_estimators=50;, score=0.248 total time=   1.6s\n"
     ]
    },
    {
     "name": "stderr",
     "output_type": "stream",
     "text": [
      "C:\\Users\\ben8h\\anaconda3\\Lib\\site-packages\\sklearn\\base.py:1474: DataConversionWarning: A column-vector y was passed when a 1d array was expected. Please change the shape of y to (n_samples,), for example using ravel().\n",
      "  return fit_method(estimator, *args, **kwargs)\n"
     ]
    },
    {
     "name": "stdout",
     "output_type": "stream",
     "text": [
      "[CV 4/10] END max_depth=None, min_samples_leaf=10, min_samples_split=2, n_estimators=50;, score=0.146 total time=   1.5s\n"
     ]
    },
    {
     "name": "stderr",
     "output_type": "stream",
     "text": [
      "C:\\Users\\ben8h\\anaconda3\\Lib\\site-packages\\sklearn\\base.py:1474: DataConversionWarning: A column-vector y was passed when a 1d array was expected. Please change the shape of y to (n_samples,), for example using ravel().\n",
      "  return fit_method(estimator, *args, **kwargs)\n"
     ]
    },
    {
     "name": "stdout",
     "output_type": "stream",
     "text": [
      "[CV 5/10] END max_depth=None, min_samples_leaf=10, min_samples_split=2, n_estimators=50;, score=0.242 total time=   1.6s\n"
     ]
    },
    {
     "name": "stderr",
     "output_type": "stream",
     "text": [
      "C:\\Users\\ben8h\\anaconda3\\Lib\\site-packages\\sklearn\\base.py:1474: DataConversionWarning: A column-vector y was passed when a 1d array was expected. Please change the shape of y to (n_samples,), for example using ravel().\n",
      "  return fit_method(estimator, *args, **kwargs)\n"
     ]
    },
    {
     "name": "stdout",
     "output_type": "stream",
     "text": [
      "[CV 6/10] END max_depth=None, min_samples_leaf=10, min_samples_split=2, n_estimators=50;, score=0.150 total time=   1.6s\n"
     ]
    },
    {
     "name": "stderr",
     "output_type": "stream",
     "text": [
      "C:\\Users\\ben8h\\anaconda3\\Lib\\site-packages\\sklearn\\base.py:1474: DataConversionWarning: A column-vector y was passed when a 1d array was expected. Please change the shape of y to (n_samples,), for example using ravel().\n",
      "  return fit_method(estimator, *args, **kwargs)\n"
     ]
    },
    {
     "name": "stdout",
     "output_type": "stream",
     "text": [
      "[CV 7/10] END max_depth=None, min_samples_leaf=10, min_samples_split=2, n_estimators=50;, score=0.186 total time=   1.6s\n"
     ]
    },
    {
     "name": "stderr",
     "output_type": "stream",
     "text": [
      "C:\\Users\\ben8h\\anaconda3\\Lib\\site-packages\\sklearn\\base.py:1474: DataConversionWarning: A column-vector y was passed when a 1d array was expected. Please change the shape of y to (n_samples,), for example using ravel().\n",
      "  return fit_method(estimator, *args, **kwargs)\n"
     ]
    },
    {
     "name": "stdout",
     "output_type": "stream",
     "text": [
      "[CV 8/10] END max_depth=None, min_samples_leaf=10, min_samples_split=2, n_estimators=50;, score=0.173 total time=   1.6s\n"
     ]
    },
    {
     "name": "stderr",
     "output_type": "stream",
     "text": [
      "C:\\Users\\ben8h\\anaconda3\\Lib\\site-packages\\sklearn\\base.py:1474: DataConversionWarning: A column-vector y was passed when a 1d array was expected. Please change the shape of y to (n_samples,), for example using ravel().\n",
      "  return fit_method(estimator, *args, **kwargs)\n"
     ]
    },
    {
     "name": "stdout",
     "output_type": "stream",
     "text": [
      "[CV 9/10] END max_depth=None, min_samples_leaf=10, min_samples_split=2, n_estimators=50;, score=0.181 total time=   1.6s\n"
     ]
    },
    {
     "name": "stderr",
     "output_type": "stream",
     "text": [
      "C:\\Users\\ben8h\\anaconda3\\Lib\\site-packages\\sklearn\\base.py:1474: DataConversionWarning: A column-vector y was passed when a 1d array was expected. Please change the shape of y to (n_samples,), for example using ravel().\n",
      "  return fit_method(estimator, *args, **kwargs)\n"
     ]
    },
    {
     "name": "stdout",
     "output_type": "stream",
     "text": [
      "[CV 10/10] END max_depth=None, min_samples_leaf=10, min_samples_split=2, n_estimators=50;, score=0.176 total time=   1.5s\n"
     ]
    },
    {
     "name": "stderr",
     "output_type": "stream",
     "text": [
      "C:\\Users\\ben8h\\anaconda3\\Lib\\site-packages\\sklearn\\base.py:1474: DataConversionWarning: A column-vector y was passed when a 1d array was expected. Please change the shape of y to (n_samples,), for example using ravel().\n",
      "  return fit_method(estimator, *args, **kwargs)\n"
     ]
    },
    {
     "name": "stdout",
     "output_type": "stream",
     "text": [
      "[CV 1/10] END max_depth=None, min_samples_leaf=10, min_samples_split=2, n_estimators=100;, score=0.166 total time=   3.2s\n"
     ]
    },
    {
     "name": "stderr",
     "output_type": "stream",
     "text": [
      "C:\\Users\\ben8h\\anaconda3\\Lib\\site-packages\\sklearn\\base.py:1474: DataConversionWarning: A column-vector y was passed when a 1d array was expected. Please change the shape of y to (n_samples,), for example using ravel().\n",
      "  return fit_method(estimator, *args, **kwargs)\n"
     ]
    },
    {
     "name": "stdout",
     "output_type": "stream",
     "text": [
      "[CV 2/10] END max_depth=None, min_samples_leaf=10, min_samples_split=2, n_estimators=100;, score=0.173 total time=   3.2s\n"
     ]
    },
    {
     "name": "stderr",
     "output_type": "stream",
     "text": [
      "C:\\Users\\ben8h\\anaconda3\\Lib\\site-packages\\sklearn\\base.py:1474: DataConversionWarning: A column-vector y was passed when a 1d array was expected. Please change the shape of y to (n_samples,), for example using ravel().\n",
      "  return fit_method(estimator, *args, **kwargs)\n"
     ]
    },
    {
     "name": "stdout",
     "output_type": "stream",
     "text": [
      "[CV 3/10] END max_depth=None, min_samples_leaf=10, min_samples_split=2, n_estimators=100;, score=0.256 total time=   3.3s\n"
     ]
    },
    {
     "name": "stderr",
     "output_type": "stream",
     "text": [
      "C:\\Users\\ben8h\\anaconda3\\Lib\\site-packages\\sklearn\\base.py:1474: DataConversionWarning: A column-vector y was passed when a 1d array was expected. Please change the shape of y to (n_samples,), for example using ravel().\n",
      "  return fit_method(estimator, *args, **kwargs)\n"
     ]
    },
    {
     "name": "stdout",
     "output_type": "stream",
     "text": [
      "[CV 4/10] END max_depth=None, min_samples_leaf=10, min_samples_split=2, n_estimators=100;, score=0.162 total time=   3.2s\n"
     ]
    },
    {
     "name": "stderr",
     "output_type": "stream",
     "text": [
      "C:\\Users\\ben8h\\anaconda3\\Lib\\site-packages\\sklearn\\base.py:1474: DataConversionWarning: A column-vector y was passed when a 1d array was expected. Please change the shape of y to (n_samples,), for example using ravel().\n",
      "  return fit_method(estimator, *args, **kwargs)\n"
     ]
    },
    {
     "name": "stdout",
     "output_type": "stream",
     "text": [
      "[CV 5/10] END max_depth=None, min_samples_leaf=10, min_samples_split=2, n_estimators=100;, score=0.241 total time=   3.2s\n"
     ]
    },
    {
     "name": "stderr",
     "output_type": "stream",
     "text": [
      "C:\\Users\\ben8h\\anaconda3\\Lib\\site-packages\\sklearn\\base.py:1474: DataConversionWarning: A column-vector y was passed when a 1d array was expected. Please change the shape of y to (n_samples,), for example using ravel().\n",
      "  return fit_method(estimator, *args, **kwargs)\n"
     ]
    },
    {
     "name": "stdout",
     "output_type": "stream",
     "text": [
      "[CV 6/10] END max_depth=None, min_samples_leaf=10, min_samples_split=2, n_estimators=100;, score=0.149 total time=   3.2s\n"
     ]
    },
    {
     "name": "stderr",
     "output_type": "stream",
     "text": [
      "C:\\Users\\ben8h\\anaconda3\\Lib\\site-packages\\sklearn\\base.py:1474: DataConversionWarning: A column-vector y was passed when a 1d array was expected. Please change the shape of y to (n_samples,), for example using ravel().\n",
      "  return fit_method(estimator, *args, **kwargs)\n"
     ]
    },
    {
     "name": "stdout",
     "output_type": "stream",
     "text": [
      "[CV 7/10] END max_depth=None, min_samples_leaf=10, min_samples_split=2, n_estimators=100;, score=0.181 total time=   3.2s\n"
     ]
    },
    {
     "name": "stderr",
     "output_type": "stream",
     "text": [
      "C:\\Users\\ben8h\\anaconda3\\Lib\\site-packages\\sklearn\\base.py:1474: DataConversionWarning: A column-vector y was passed when a 1d array was expected. Please change the shape of y to (n_samples,), for example using ravel().\n",
      "  return fit_method(estimator, *args, **kwargs)\n"
     ]
    },
    {
     "name": "stdout",
     "output_type": "stream",
     "text": [
      "[CV 8/10] END max_depth=None, min_samples_leaf=10, min_samples_split=2, n_estimators=100;, score=0.178 total time=   3.2s\n"
     ]
    },
    {
     "name": "stderr",
     "output_type": "stream",
     "text": [
      "C:\\Users\\ben8h\\anaconda3\\Lib\\site-packages\\sklearn\\base.py:1474: DataConversionWarning: A column-vector y was passed when a 1d array was expected. Please change the shape of y to (n_samples,), for example using ravel().\n",
      "  return fit_method(estimator, *args, **kwargs)\n"
     ]
    },
    {
     "name": "stdout",
     "output_type": "stream",
     "text": [
      "[CV 9/10] END max_depth=None, min_samples_leaf=10, min_samples_split=2, n_estimators=100;, score=0.164 total time=   3.3s\n"
     ]
    },
    {
     "name": "stderr",
     "output_type": "stream",
     "text": [
      "C:\\Users\\ben8h\\anaconda3\\Lib\\site-packages\\sklearn\\base.py:1474: DataConversionWarning: A column-vector y was passed when a 1d array was expected. Please change the shape of y to (n_samples,), for example using ravel().\n",
      "  return fit_method(estimator, *args, **kwargs)\n"
     ]
    },
    {
     "name": "stdout",
     "output_type": "stream",
     "text": [
      "[CV 10/10] END max_depth=None, min_samples_leaf=10, min_samples_split=2, n_estimators=100;, score=0.182 total time=   3.2s\n"
     ]
    },
    {
     "name": "stderr",
     "output_type": "stream",
     "text": [
      "C:\\Users\\ben8h\\anaconda3\\Lib\\site-packages\\sklearn\\base.py:1474: DataConversionWarning: A column-vector y was passed when a 1d array was expected. Please change the shape of y to (n_samples,), for example using ravel().\n",
      "  return fit_method(estimator, *args, **kwargs)\n"
     ]
    },
    {
     "name": "stdout",
     "output_type": "stream",
     "text": [
      "[CV 1/10] END max_depth=None, min_samples_leaf=10, min_samples_split=2, n_estimators=200;, score=0.168 total time=   6.6s\n"
     ]
    },
    {
     "name": "stderr",
     "output_type": "stream",
     "text": [
      "C:\\Users\\ben8h\\anaconda3\\Lib\\site-packages\\sklearn\\base.py:1474: DataConversionWarning: A column-vector y was passed when a 1d array was expected. Please change the shape of y to (n_samples,), for example using ravel().\n",
      "  return fit_method(estimator, *args, **kwargs)\n"
     ]
    },
    {
     "name": "stdout",
     "output_type": "stream",
     "text": [
      "[CV 2/10] END max_depth=None, min_samples_leaf=10, min_samples_split=2, n_estimators=200;, score=0.177 total time=   6.6s\n"
     ]
    },
    {
     "name": "stderr",
     "output_type": "stream",
     "text": [
      "C:\\Users\\ben8h\\anaconda3\\Lib\\site-packages\\sklearn\\base.py:1474: DataConversionWarning: A column-vector y was passed when a 1d array was expected. Please change the shape of y to (n_samples,), for example using ravel().\n",
      "  return fit_method(estimator, *args, **kwargs)\n"
     ]
    },
    {
     "name": "stdout",
     "output_type": "stream",
     "text": [
      "[CV 3/10] END max_depth=None, min_samples_leaf=10, min_samples_split=2, n_estimators=200;, score=0.260 total time=   6.6s\n"
     ]
    },
    {
     "name": "stderr",
     "output_type": "stream",
     "text": [
      "C:\\Users\\ben8h\\anaconda3\\Lib\\site-packages\\sklearn\\base.py:1474: DataConversionWarning: A column-vector y was passed when a 1d array was expected. Please change the shape of y to (n_samples,), for example using ravel().\n",
      "  return fit_method(estimator, *args, **kwargs)\n"
     ]
    },
    {
     "name": "stdout",
     "output_type": "stream",
     "text": [
      "[CV 4/10] END max_depth=None, min_samples_leaf=10, min_samples_split=2, n_estimators=200;, score=0.157 total time=   6.5s\n"
     ]
    },
    {
     "name": "stderr",
     "output_type": "stream",
     "text": [
      "C:\\Users\\ben8h\\anaconda3\\Lib\\site-packages\\sklearn\\base.py:1474: DataConversionWarning: A column-vector y was passed when a 1d array was expected. Please change the shape of y to (n_samples,), for example using ravel().\n",
      "  return fit_method(estimator, *args, **kwargs)\n"
     ]
    },
    {
     "name": "stdout",
     "output_type": "stream",
     "text": [
      "[CV 5/10] END max_depth=None, min_samples_leaf=10, min_samples_split=2, n_estimators=200;, score=0.237 total time=   6.7s\n"
     ]
    },
    {
     "name": "stderr",
     "output_type": "stream",
     "text": [
      "C:\\Users\\ben8h\\anaconda3\\Lib\\site-packages\\sklearn\\base.py:1474: DataConversionWarning: A column-vector y was passed when a 1d array was expected. Please change the shape of y to (n_samples,), for example using ravel().\n",
      "  return fit_method(estimator, *args, **kwargs)\n"
     ]
    },
    {
     "name": "stdout",
     "output_type": "stream",
     "text": [
      "[CV 6/10] END max_depth=None, min_samples_leaf=10, min_samples_split=2, n_estimators=200;, score=0.151 total time=   6.5s\n"
     ]
    },
    {
     "name": "stderr",
     "output_type": "stream",
     "text": [
      "C:\\Users\\ben8h\\anaconda3\\Lib\\site-packages\\sklearn\\base.py:1474: DataConversionWarning: A column-vector y was passed when a 1d array was expected. Please change the shape of y to (n_samples,), for example using ravel().\n",
      "  return fit_method(estimator, *args, **kwargs)\n"
     ]
    },
    {
     "name": "stdout",
     "output_type": "stream",
     "text": [
      "[CV 7/10] END max_depth=None, min_samples_leaf=10, min_samples_split=2, n_estimators=200;, score=0.193 total time=   6.5s\n"
     ]
    },
    {
     "name": "stderr",
     "output_type": "stream",
     "text": [
      "C:\\Users\\ben8h\\anaconda3\\Lib\\site-packages\\sklearn\\base.py:1474: DataConversionWarning: A column-vector y was passed when a 1d array was expected. Please change the shape of y to (n_samples,), for example using ravel().\n",
      "  return fit_method(estimator, *args, **kwargs)\n"
     ]
    },
    {
     "name": "stdout",
     "output_type": "stream",
     "text": [
      "[CV 8/10] END max_depth=None, min_samples_leaf=10, min_samples_split=2, n_estimators=200;, score=0.186 total time=   6.4s\n"
     ]
    },
    {
     "name": "stderr",
     "output_type": "stream",
     "text": [
      "C:\\Users\\ben8h\\anaconda3\\Lib\\site-packages\\sklearn\\base.py:1474: DataConversionWarning: A column-vector y was passed when a 1d array was expected. Please change the shape of y to (n_samples,), for example using ravel().\n",
      "  return fit_method(estimator, *args, **kwargs)\n"
     ]
    },
    {
     "name": "stdout",
     "output_type": "stream",
     "text": [
      "[CV 9/10] END max_depth=None, min_samples_leaf=10, min_samples_split=2, n_estimators=200;, score=0.169 total time=   6.5s\n"
     ]
    },
    {
     "name": "stderr",
     "output_type": "stream",
     "text": [
      "C:\\Users\\ben8h\\anaconda3\\Lib\\site-packages\\sklearn\\base.py:1474: DataConversionWarning: A column-vector y was passed when a 1d array was expected. Please change the shape of y to (n_samples,), for example using ravel().\n",
      "  return fit_method(estimator, *args, **kwargs)\n"
     ]
    },
    {
     "name": "stdout",
     "output_type": "stream",
     "text": [
      "[CV 10/10] END max_depth=None, min_samples_leaf=10, min_samples_split=2, n_estimators=200;, score=0.185 total time=   6.4s\n"
     ]
    },
    {
     "name": "stderr",
     "output_type": "stream",
     "text": [
      "C:\\Users\\ben8h\\anaconda3\\Lib\\site-packages\\sklearn\\base.py:1474: DataConversionWarning: A column-vector y was passed when a 1d array was expected. Please change the shape of y to (n_samples,), for example using ravel().\n",
      "  return fit_method(estimator, *args, **kwargs)\n"
     ]
    },
    {
     "name": "stdout",
     "output_type": "stream",
     "text": [
      "[CV 1/10] END max_depth=None, min_samples_leaf=10, min_samples_split=5, n_estimators=50;, score=0.157 total time=   1.5s\n"
     ]
    },
    {
     "name": "stderr",
     "output_type": "stream",
     "text": [
      "C:\\Users\\ben8h\\anaconda3\\Lib\\site-packages\\sklearn\\base.py:1474: DataConversionWarning: A column-vector y was passed when a 1d array was expected. Please change the shape of y to (n_samples,), for example using ravel().\n",
      "  return fit_method(estimator, *args, **kwargs)\n"
     ]
    },
    {
     "name": "stdout",
     "output_type": "stream",
     "text": [
      "[CV 2/10] END max_depth=None, min_samples_leaf=10, min_samples_split=5, n_estimators=50;, score=0.171 total time=   1.5s\n"
     ]
    },
    {
     "name": "stderr",
     "output_type": "stream",
     "text": [
      "C:\\Users\\ben8h\\anaconda3\\Lib\\site-packages\\sklearn\\base.py:1474: DataConversionWarning: A column-vector y was passed when a 1d array was expected. Please change the shape of y to (n_samples,), for example using ravel().\n",
      "  return fit_method(estimator, *args, **kwargs)\n"
     ]
    },
    {
     "name": "stdout",
     "output_type": "stream",
     "text": [
      "[CV 3/10] END max_depth=None, min_samples_leaf=10, min_samples_split=5, n_estimators=50;, score=0.248 total time=   1.5s\n"
     ]
    },
    {
     "name": "stderr",
     "output_type": "stream",
     "text": [
      "C:\\Users\\ben8h\\anaconda3\\Lib\\site-packages\\sklearn\\base.py:1474: DataConversionWarning: A column-vector y was passed when a 1d array was expected. Please change the shape of y to (n_samples,), for example using ravel().\n",
      "  return fit_method(estimator, *args, **kwargs)\n"
     ]
    },
    {
     "name": "stdout",
     "output_type": "stream",
     "text": [
      "[CV 4/10] END max_depth=None, min_samples_leaf=10, min_samples_split=5, n_estimators=50;, score=0.165 total time=   1.6s\n"
     ]
    },
    {
     "name": "stderr",
     "output_type": "stream",
     "text": [
      "C:\\Users\\ben8h\\anaconda3\\Lib\\site-packages\\sklearn\\base.py:1474: DataConversionWarning: A column-vector y was passed when a 1d array was expected. Please change the shape of y to (n_samples,), for example using ravel().\n",
      "  return fit_method(estimator, *args, **kwargs)\n"
     ]
    },
    {
     "name": "stdout",
     "output_type": "stream",
     "text": [
      "[CV 5/10] END max_depth=None, min_samples_leaf=10, min_samples_split=5, n_estimators=50;, score=0.242 total time=   1.5s\n"
     ]
    },
    {
     "name": "stderr",
     "output_type": "stream",
     "text": [
      "C:\\Users\\ben8h\\anaconda3\\Lib\\site-packages\\sklearn\\base.py:1474: DataConversionWarning: A column-vector y was passed when a 1d array was expected. Please change the shape of y to (n_samples,), for example using ravel().\n",
      "  return fit_method(estimator, *args, **kwargs)\n"
     ]
    },
    {
     "name": "stdout",
     "output_type": "stream",
     "text": [
      "[CV 6/10] END max_depth=None, min_samples_leaf=10, min_samples_split=5, n_estimators=50;, score=0.144 total time=   1.5s\n"
     ]
    },
    {
     "name": "stderr",
     "output_type": "stream",
     "text": [
      "C:\\Users\\ben8h\\anaconda3\\Lib\\site-packages\\sklearn\\base.py:1474: DataConversionWarning: A column-vector y was passed when a 1d array was expected. Please change the shape of y to (n_samples,), for example using ravel().\n",
      "  return fit_method(estimator, *args, **kwargs)\n"
     ]
    },
    {
     "name": "stdout",
     "output_type": "stream",
     "text": [
      "[CV 7/10] END max_depth=None, min_samples_leaf=10, min_samples_split=5, n_estimators=50;, score=0.182 total time=   1.5s\n"
     ]
    },
    {
     "name": "stderr",
     "output_type": "stream",
     "text": [
      "C:\\Users\\ben8h\\anaconda3\\Lib\\site-packages\\sklearn\\base.py:1474: DataConversionWarning: A column-vector y was passed when a 1d array was expected. Please change the shape of y to (n_samples,), for example using ravel().\n",
      "  return fit_method(estimator, *args, **kwargs)\n"
     ]
    },
    {
     "name": "stdout",
     "output_type": "stream",
     "text": [
      "[CV 8/10] END max_depth=None, min_samples_leaf=10, min_samples_split=5, n_estimators=50;, score=0.184 total time=   1.5s\n"
     ]
    },
    {
     "name": "stderr",
     "output_type": "stream",
     "text": [
      "C:\\Users\\ben8h\\anaconda3\\Lib\\site-packages\\sklearn\\base.py:1474: DataConversionWarning: A column-vector y was passed when a 1d array was expected. Please change the shape of y to (n_samples,), for example using ravel().\n",
      "  return fit_method(estimator, *args, **kwargs)\n"
     ]
    },
    {
     "name": "stdout",
     "output_type": "stream",
     "text": [
      "[CV 9/10] END max_depth=None, min_samples_leaf=10, min_samples_split=5, n_estimators=50;, score=0.168 total time=   1.5s\n"
     ]
    },
    {
     "name": "stderr",
     "output_type": "stream",
     "text": [
      "C:\\Users\\ben8h\\anaconda3\\Lib\\site-packages\\sklearn\\base.py:1474: DataConversionWarning: A column-vector y was passed when a 1d array was expected. Please change the shape of y to (n_samples,), for example using ravel().\n",
      "  return fit_method(estimator, *args, **kwargs)\n"
     ]
    },
    {
     "name": "stdout",
     "output_type": "stream",
     "text": [
      "[CV 10/10] END max_depth=None, min_samples_leaf=10, min_samples_split=5, n_estimators=50;, score=0.179 total time=   1.5s\n"
     ]
    },
    {
     "name": "stderr",
     "output_type": "stream",
     "text": [
      "C:\\Users\\ben8h\\anaconda3\\Lib\\site-packages\\sklearn\\base.py:1474: DataConversionWarning: A column-vector y was passed when a 1d array was expected. Please change the shape of y to (n_samples,), for example using ravel().\n",
      "  return fit_method(estimator, *args, **kwargs)\n"
     ]
    },
    {
     "name": "stdout",
     "output_type": "stream",
     "text": [
      "[CV 1/10] END max_depth=None, min_samples_leaf=10, min_samples_split=5, n_estimators=100;, score=0.155 total time=   3.2s\n"
     ]
    },
    {
     "name": "stderr",
     "output_type": "stream",
     "text": [
      "C:\\Users\\ben8h\\anaconda3\\Lib\\site-packages\\sklearn\\base.py:1474: DataConversionWarning: A column-vector y was passed when a 1d array was expected. Please change the shape of y to (n_samples,), for example using ravel().\n",
      "  return fit_method(estimator, *args, **kwargs)\n"
     ]
    },
    {
     "name": "stdout",
     "output_type": "stream",
     "text": [
      "[CV 2/10] END max_depth=None, min_samples_leaf=10, min_samples_split=5, n_estimators=100;, score=0.176 total time=   3.1s\n"
     ]
    },
    {
     "name": "stderr",
     "output_type": "stream",
     "text": [
      "C:\\Users\\ben8h\\anaconda3\\Lib\\site-packages\\sklearn\\base.py:1474: DataConversionWarning: A column-vector y was passed when a 1d array was expected. Please change the shape of y to (n_samples,), for example using ravel().\n",
      "  return fit_method(estimator, *args, **kwargs)\n"
     ]
    },
    {
     "name": "stdout",
     "output_type": "stream",
     "text": [
      "[CV 3/10] END max_depth=None, min_samples_leaf=10, min_samples_split=5, n_estimators=100;, score=0.249 total time=   3.3s\n"
     ]
    },
    {
     "name": "stderr",
     "output_type": "stream",
     "text": [
      "C:\\Users\\ben8h\\anaconda3\\Lib\\site-packages\\sklearn\\base.py:1474: DataConversionWarning: A column-vector y was passed when a 1d array was expected. Please change the shape of y to (n_samples,), for example using ravel().\n",
      "  return fit_method(estimator, *args, **kwargs)\n"
     ]
    },
    {
     "name": "stdout",
     "output_type": "stream",
     "text": [
      "[CV 4/10] END max_depth=None, min_samples_leaf=10, min_samples_split=5, n_estimators=100;, score=0.158 total time=   3.1s\n"
     ]
    },
    {
     "name": "stderr",
     "output_type": "stream",
     "text": [
      "C:\\Users\\ben8h\\anaconda3\\Lib\\site-packages\\sklearn\\base.py:1474: DataConversionWarning: A column-vector y was passed when a 1d array was expected. Please change the shape of y to (n_samples,), for example using ravel().\n",
      "  return fit_method(estimator, *args, **kwargs)\n"
     ]
    },
    {
     "name": "stdout",
     "output_type": "stream",
     "text": [
      "[CV 5/10] END max_depth=None, min_samples_leaf=10, min_samples_split=5, n_estimators=100;, score=0.246 total time=   3.2s\n"
     ]
    },
    {
     "name": "stderr",
     "output_type": "stream",
     "text": [
      "C:\\Users\\ben8h\\anaconda3\\Lib\\site-packages\\sklearn\\base.py:1474: DataConversionWarning: A column-vector y was passed when a 1d array was expected. Please change the shape of y to (n_samples,), for example using ravel().\n",
      "  return fit_method(estimator, *args, **kwargs)\n"
     ]
    },
    {
     "name": "stdout",
     "output_type": "stream",
     "text": [
      "[CV 6/10] END max_depth=None, min_samples_leaf=10, min_samples_split=5, n_estimators=100;, score=0.153 total time=   3.2s\n"
     ]
    },
    {
     "name": "stderr",
     "output_type": "stream",
     "text": [
      "C:\\Users\\ben8h\\anaconda3\\Lib\\site-packages\\sklearn\\base.py:1474: DataConversionWarning: A column-vector y was passed when a 1d array was expected. Please change the shape of y to (n_samples,), for example using ravel().\n",
      "  return fit_method(estimator, *args, **kwargs)\n"
     ]
    },
    {
     "name": "stdout",
     "output_type": "stream",
     "text": [
      "[CV 7/10] END max_depth=None, min_samples_leaf=10, min_samples_split=5, n_estimators=100;, score=0.182 total time=   3.2s\n"
     ]
    },
    {
     "name": "stderr",
     "output_type": "stream",
     "text": [
      "C:\\Users\\ben8h\\anaconda3\\Lib\\site-packages\\sklearn\\base.py:1474: DataConversionWarning: A column-vector y was passed when a 1d array was expected. Please change the shape of y to (n_samples,), for example using ravel().\n",
      "  return fit_method(estimator, *args, **kwargs)\n"
     ]
    },
    {
     "name": "stdout",
     "output_type": "stream",
     "text": [
      "[CV 8/10] END max_depth=None, min_samples_leaf=10, min_samples_split=5, n_estimators=100;, score=0.181 total time=   3.2s\n"
     ]
    },
    {
     "name": "stderr",
     "output_type": "stream",
     "text": [
      "C:\\Users\\ben8h\\anaconda3\\Lib\\site-packages\\sklearn\\base.py:1474: DataConversionWarning: A column-vector y was passed when a 1d array was expected. Please change the shape of y to (n_samples,), for example using ravel().\n",
      "  return fit_method(estimator, *args, **kwargs)\n"
     ]
    },
    {
     "name": "stdout",
     "output_type": "stream",
     "text": [
      "[CV 9/10] END max_depth=None, min_samples_leaf=10, min_samples_split=5, n_estimators=100;, score=0.174 total time=   3.2s\n"
     ]
    },
    {
     "name": "stderr",
     "output_type": "stream",
     "text": [
      "C:\\Users\\ben8h\\anaconda3\\Lib\\site-packages\\sklearn\\base.py:1474: DataConversionWarning: A column-vector y was passed when a 1d array was expected. Please change the shape of y to (n_samples,), for example using ravel().\n",
      "  return fit_method(estimator, *args, **kwargs)\n"
     ]
    },
    {
     "name": "stdout",
     "output_type": "stream",
     "text": [
      "[CV 10/10] END max_depth=None, min_samples_leaf=10, min_samples_split=5, n_estimators=100;, score=0.181 total time=   3.2s\n"
     ]
    },
    {
     "name": "stderr",
     "output_type": "stream",
     "text": [
      "C:\\Users\\ben8h\\anaconda3\\Lib\\site-packages\\sklearn\\base.py:1474: DataConversionWarning: A column-vector y was passed when a 1d array was expected. Please change the shape of y to (n_samples,), for example using ravel().\n",
      "  return fit_method(estimator, *args, **kwargs)\n"
     ]
    },
    {
     "name": "stdout",
     "output_type": "stream",
     "text": [
      "[CV 1/10] END max_depth=None, min_samples_leaf=10, min_samples_split=5, n_estimators=200;, score=0.167 total time=   6.5s\n"
     ]
    },
    {
     "name": "stderr",
     "output_type": "stream",
     "text": [
      "C:\\Users\\ben8h\\anaconda3\\Lib\\site-packages\\sklearn\\base.py:1474: DataConversionWarning: A column-vector y was passed when a 1d array was expected. Please change the shape of y to (n_samples,), for example using ravel().\n",
      "  return fit_method(estimator, *args, **kwargs)\n"
     ]
    },
    {
     "name": "stdout",
     "output_type": "stream",
     "text": [
      "[CV 2/10] END max_depth=None, min_samples_leaf=10, min_samples_split=5, n_estimators=200;, score=0.175 total time=   6.4s\n"
     ]
    },
    {
     "name": "stderr",
     "output_type": "stream",
     "text": [
      "C:\\Users\\ben8h\\anaconda3\\Lib\\site-packages\\sklearn\\base.py:1474: DataConversionWarning: A column-vector y was passed when a 1d array was expected. Please change the shape of y to (n_samples,), for example using ravel().\n",
      "  return fit_method(estimator, *args, **kwargs)\n"
     ]
    },
    {
     "name": "stdout",
     "output_type": "stream",
     "text": [
      "[CV 3/10] END max_depth=None, min_samples_leaf=10, min_samples_split=5, n_estimators=200;, score=0.256 total time=   6.5s\n"
     ]
    },
    {
     "name": "stderr",
     "output_type": "stream",
     "text": [
      "C:\\Users\\ben8h\\anaconda3\\Lib\\site-packages\\sklearn\\base.py:1474: DataConversionWarning: A column-vector y was passed when a 1d array was expected. Please change the shape of y to (n_samples,), for example using ravel().\n",
      "  return fit_method(estimator, *args, **kwargs)\n"
     ]
    },
    {
     "name": "stdout",
     "output_type": "stream",
     "text": [
      "[CV 4/10] END max_depth=None, min_samples_leaf=10, min_samples_split=5, n_estimators=200;, score=0.164 total time=   6.4s\n"
     ]
    },
    {
     "name": "stderr",
     "output_type": "stream",
     "text": [
      "C:\\Users\\ben8h\\anaconda3\\Lib\\site-packages\\sklearn\\base.py:1474: DataConversionWarning: A column-vector y was passed when a 1d array was expected. Please change the shape of y to (n_samples,), for example using ravel().\n",
      "  return fit_method(estimator, *args, **kwargs)\n"
     ]
    },
    {
     "name": "stdout",
     "output_type": "stream",
     "text": [
      "[CV 5/10] END max_depth=None, min_samples_leaf=10, min_samples_split=5, n_estimators=200;, score=0.240 total time=   6.5s\n"
     ]
    },
    {
     "name": "stderr",
     "output_type": "stream",
     "text": [
      "C:\\Users\\ben8h\\anaconda3\\Lib\\site-packages\\sklearn\\base.py:1474: DataConversionWarning: A column-vector y was passed when a 1d array was expected. Please change the shape of y to (n_samples,), for example using ravel().\n",
      "  return fit_method(estimator, *args, **kwargs)\n"
     ]
    },
    {
     "name": "stdout",
     "output_type": "stream",
     "text": [
      "[CV 6/10] END max_depth=None, min_samples_leaf=10, min_samples_split=5, n_estimators=200;, score=0.149 total time=   6.5s\n"
     ]
    },
    {
     "name": "stderr",
     "output_type": "stream",
     "text": [
      "C:\\Users\\ben8h\\anaconda3\\Lib\\site-packages\\sklearn\\base.py:1474: DataConversionWarning: A column-vector y was passed when a 1d array was expected. Please change the shape of y to (n_samples,), for example using ravel().\n",
      "  return fit_method(estimator, *args, **kwargs)\n"
     ]
    },
    {
     "name": "stdout",
     "output_type": "stream",
     "text": [
      "[CV 7/10] END max_depth=None, min_samples_leaf=10, min_samples_split=5, n_estimators=200;, score=0.184 total time=   6.5s\n"
     ]
    },
    {
     "name": "stderr",
     "output_type": "stream",
     "text": [
      "C:\\Users\\ben8h\\anaconda3\\Lib\\site-packages\\sklearn\\base.py:1474: DataConversionWarning: A column-vector y was passed when a 1d array was expected. Please change the shape of y to (n_samples,), for example using ravel().\n",
      "  return fit_method(estimator, *args, **kwargs)\n"
     ]
    },
    {
     "name": "stdout",
     "output_type": "stream",
     "text": [
      "[CV 8/10] END max_depth=None, min_samples_leaf=10, min_samples_split=5, n_estimators=200;, score=0.181 total time=   6.4s\n"
     ]
    },
    {
     "name": "stderr",
     "output_type": "stream",
     "text": [
      "C:\\Users\\ben8h\\anaconda3\\Lib\\site-packages\\sklearn\\base.py:1474: DataConversionWarning: A column-vector y was passed when a 1d array was expected. Please change the shape of y to (n_samples,), for example using ravel().\n",
      "  return fit_method(estimator, *args, **kwargs)\n"
     ]
    },
    {
     "name": "stdout",
     "output_type": "stream",
     "text": [
      "[CV 9/10] END max_depth=None, min_samples_leaf=10, min_samples_split=5, n_estimators=200;, score=0.171 total time=   6.4s\n"
     ]
    },
    {
     "name": "stderr",
     "output_type": "stream",
     "text": [
      "C:\\Users\\ben8h\\anaconda3\\Lib\\site-packages\\sklearn\\base.py:1474: DataConversionWarning: A column-vector y was passed when a 1d array was expected. Please change the shape of y to (n_samples,), for example using ravel().\n",
      "  return fit_method(estimator, *args, **kwargs)\n"
     ]
    },
    {
     "name": "stdout",
     "output_type": "stream",
     "text": [
      "[CV 10/10] END max_depth=None, min_samples_leaf=10, min_samples_split=5, n_estimators=200;, score=0.185 total time=   6.4s\n"
     ]
    },
    {
     "name": "stderr",
     "output_type": "stream",
     "text": [
      "C:\\Users\\ben8h\\anaconda3\\Lib\\site-packages\\sklearn\\base.py:1474: DataConversionWarning: A column-vector y was passed when a 1d array was expected. Please change the shape of y to (n_samples,), for example using ravel().\n",
      "  return fit_method(estimator, *args, **kwargs)\n"
     ]
    },
    {
     "name": "stdout",
     "output_type": "stream",
     "text": [
      "[CV 1/10] END max_depth=None, min_samples_leaf=10, min_samples_split=10, n_estimators=50;, score=0.166 total time=   1.5s\n"
     ]
    },
    {
     "name": "stderr",
     "output_type": "stream",
     "text": [
      "C:\\Users\\ben8h\\anaconda3\\Lib\\site-packages\\sklearn\\base.py:1474: DataConversionWarning: A column-vector y was passed when a 1d array was expected. Please change the shape of y to (n_samples,), for example using ravel().\n",
      "  return fit_method(estimator, *args, **kwargs)\n"
     ]
    },
    {
     "name": "stdout",
     "output_type": "stream",
     "text": [
      "[CV 2/10] END max_depth=None, min_samples_leaf=10, min_samples_split=10, n_estimators=50;, score=0.179 total time=   1.5s\n"
     ]
    },
    {
     "name": "stderr",
     "output_type": "stream",
     "text": [
      "C:\\Users\\ben8h\\anaconda3\\Lib\\site-packages\\sklearn\\base.py:1474: DataConversionWarning: A column-vector y was passed when a 1d array was expected. Please change the shape of y to (n_samples,), for example using ravel().\n",
      "  return fit_method(estimator, *args, **kwargs)\n"
     ]
    },
    {
     "name": "stdout",
     "output_type": "stream",
     "text": [
      "[CV 3/10] END max_depth=None, min_samples_leaf=10, min_samples_split=10, n_estimators=50;, score=0.251 total time=   1.5s\n"
     ]
    },
    {
     "name": "stderr",
     "output_type": "stream",
     "text": [
      "C:\\Users\\ben8h\\anaconda3\\Lib\\site-packages\\sklearn\\base.py:1474: DataConversionWarning: A column-vector y was passed when a 1d array was expected. Please change the shape of y to (n_samples,), for example using ravel().\n",
      "  return fit_method(estimator, *args, **kwargs)\n"
     ]
    },
    {
     "name": "stdout",
     "output_type": "stream",
     "text": [
      "[CV 4/10] END max_depth=None, min_samples_leaf=10, min_samples_split=10, n_estimators=50;, score=0.156 total time=   1.6s\n"
     ]
    },
    {
     "name": "stderr",
     "output_type": "stream",
     "text": [
      "C:\\Users\\ben8h\\anaconda3\\Lib\\site-packages\\sklearn\\base.py:1474: DataConversionWarning: A column-vector y was passed when a 1d array was expected. Please change the shape of y to (n_samples,), for example using ravel().\n",
      "  return fit_method(estimator, *args, **kwargs)\n"
     ]
    },
    {
     "name": "stdout",
     "output_type": "stream",
     "text": [
      "[CV 5/10] END max_depth=None, min_samples_leaf=10, min_samples_split=10, n_estimators=50;, score=0.237 total time=   1.6s\n"
     ]
    },
    {
     "name": "stderr",
     "output_type": "stream",
     "text": [
      "C:\\Users\\ben8h\\anaconda3\\Lib\\site-packages\\sklearn\\base.py:1474: DataConversionWarning: A column-vector y was passed when a 1d array was expected. Please change the shape of y to (n_samples,), for example using ravel().\n",
      "  return fit_method(estimator, *args, **kwargs)\n"
     ]
    },
    {
     "name": "stdout",
     "output_type": "stream",
     "text": [
      "[CV 6/10] END max_depth=None, min_samples_leaf=10, min_samples_split=10, n_estimators=50;, score=0.146 total time=   1.5s\n"
     ]
    },
    {
     "name": "stderr",
     "output_type": "stream",
     "text": [
      "C:\\Users\\ben8h\\anaconda3\\Lib\\site-packages\\sklearn\\base.py:1474: DataConversionWarning: A column-vector y was passed when a 1d array was expected. Please change the shape of y to (n_samples,), for example using ravel().\n",
      "  return fit_method(estimator, *args, **kwargs)\n"
     ]
    },
    {
     "name": "stdout",
     "output_type": "stream",
     "text": [
      "[CV 7/10] END max_depth=None, min_samples_leaf=10, min_samples_split=10, n_estimators=50;, score=0.193 total time=   1.5s\n"
     ]
    },
    {
     "name": "stderr",
     "output_type": "stream",
     "text": [
      "C:\\Users\\ben8h\\anaconda3\\Lib\\site-packages\\sklearn\\base.py:1474: DataConversionWarning: A column-vector y was passed when a 1d array was expected. Please change the shape of y to (n_samples,), for example using ravel().\n",
      "  return fit_method(estimator, *args, **kwargs)\n"
     ]
    },
    {
     "name": "stdout",
     "output_type": "stream",
     "text": [
      "[CV 8/10] END max_depth=None, min_samples_leaf=10, min_samples_split=10, n_estimators=50;, score=0.178 total time=   1.6s\n"
     ]
    },
    {
     "name": "stderr",
     "output_type": "stream",
     "text": [
      "C:\\Users\\ben8h\\anaconda3\\Lib\\site-packages\\sklearn\\base.py:1474: DataConversionWarning: A column-vector y was passed when a 1d array was expected. Please change the shape of y to (n_samples,), for example using ravel().\n",
      "  return fit_method(estimator, *args, **kwargs)\n"
     ]
    },
    {
     "name": "stdout",
     "output_type": "stream",
     "text": [
      "[CV 9/10] END max_depth=None, min_samples_leaf=10, min_samples_split=10, n_estimators=50;, score=0.169 total time=   1.5s\n"
     ]
    },
    {
     "name": "stderr",
     "output_type": "stream",
     "text": [
      "C:\\Users\\ben8h\\anaconda3\\Lib\\site-packages\\sklearn\\base.py:1474: DataConversionWarning: A column-vector y was passed when a 1d array was expected. Please change the shape of y to (n_samples,), for example using ravel().\n",
      "  return fit_method(estimator, *args, **kwargs)\n"
     ]
    },
    {
     "name": "stdout",
     "output_type": "stream",
     "text": [
      "[CV 10/10] END max_depth=None, min_samples_leaf=10, min_samples_split=10, n_estimators=50;, score=0.185 total time=   1.5s\n"
     ]
    },
    {
     "name": "stderr",
     "output_type": "stream",
     "text": [
      "C:\\Users\\ben8h\\anaconda3\\Lib\\site-packages\\sklearn\\base.py:1474: DataConversionWarning: A column-vector y was passed when a 1d array was expected. Please change the shape of y to (n_samples,), for example using ravel().\n",
      "  return fit_method(estimator, *args, **kwargs)\n"
     ]
    },
    {
     "name": "stdout",
     "output_type": "stream",
     "text": [
      "[CV 1/10] END max_depth=None, min_samples_leaf=10, min_samples_split=10, n_estimators=100;, score=0.167 total time=   3.1s\n"
     ]
    },
    {
     "name": "stderr",
     "output_type": "stream",
     "text": [
      "C:\\Users\\ben8h\\anaconda3\\Lib\\site-packages\\sklearn\\base.py:1474: DataConversionWarning: A column-vector y was passed when a 1d array was expected. Please change the shape of y to (n_samples,), for example using ravel().\n",
      "  return fit_method(estimator, *args, **kwargs)\n"
     ]
    },
    {
     "name": "stdout",
     "output_type": "stream",
     "text": [
      "[CV 2/10] END max_depth=None, min_samples_leaf=10, min_samples_split=10, n_estimators=100;, score=0.182 total time=   3.1s\n"
     ]
    },
    {
     "name": "stderr",
     "output_type": "stream",
     "text": [
      "C:\\Users\\ben8h\\anaconda3\\Lib\\site-packages\\sklearn\\base.py:1474: DataConversionWarning: A column-vector y was passed when a 1d array was expected. Please change the shape of y to (n_samples,), for example using ravel().\n",
      "  return fit_method(estimator, *args, **kwargs)\n"
     ]
    },
    {
     "name": "stdout",
     "output_type": "stream",
     "text": [
      "[CV 3/10] END max_depth=None, min_samples_leaf=10, min_samples_split=10, n_estimators=100;, score=0.250 total time=   3.2s\n"
     ]
    },
    {
     "name": "stderr",
     "output_type": "stream",
     "text": [
      "C:\\Users\\ben8h\\anaconda3\\Lib\\site-packages\\sklearn\\base.py:1474: DataConversionWarning: A column-vector y was passed when a 1d array was expected. Please change the shape of y to (n_samples,), for example using ravel().\n",
      "  return fit_method(estimator, *args, **kwargs)\n"
     ]
    },
    {
     "name": "stdout",
     "output_type": "stream",
     "text": [
      "[CV 4/10] END max_depth=None, min_samples_leaf=10, min_samples_split=10, n_estimators=100;, score=0.158 total time=   3.1s\n"
     ]
    },
    {
     "name": "stderr",
     "output_type": "stream",
     "text": [
      "C:\\Users\\ben8h\\anaconda3\\Lib\\site-packages\\sklearn\\base.py:1474: DataConversionWarning: A column-vector y was passed when a 1d array was expected. Please change the shape of y to (n_samples,), for example using ravel().\n",
      "  return fit_method(estimator, *args, **kwargs)\n"
     ]
    },
    {
     "name": "stdout",
     "output_type": "stream",
     "text": [
      "[CV 5/10] END max_depth=None, min_samples_leaf=10, min_samples_split=10, n_estimators=100;, score=0.227 total time=   3.2s\n"
     ]
    },
    {
     "name": "stderr",
     "output_type": "stream",
     "text": [
      "C:\\Users\\ben8h\\anaconda3\\Lib\\site-packages\\sklearn\\base.py:1474: DataConversionWarning: A column-vector y was passed when a 1d array was expected. Please change the shape of y to (n_samples,), for example using ravel().\n",
      "  return fit_method(estimator, *args, **kwargs)\n"
     ]
    },
    {
     "name": "stdout",
     "output_type": "stream",
     "text": [
      "[CV 6/10] END max_depth=None, min_samples_leaf=10, min_samples_split=10, n_estimators=100;, score=0.155 total time=   3.2s\n"
     ]
    },
    {
     "name": "stderr",
     "output_type": "stream",
     "text": [
      "C:\\Users\\ben8h\\anaconda3\\Lib\\site-packages\\sklearn\\base.py:1474: DataConversionWarning: A column-vector y was passed when a 1d array was expected. Please change the shape of y to (n_samples,), for example using ravel().\n",
      "  return fit_method(estimator, *args, **kwargs)\n"
     ]
    },
    {
     "name": "stdout",
     "output_type": "stream",
     "text": [
      "[CV 7/10] END max_depth=None, min_samples_leaf=10, min_samples_split=10, n_estimators=100;, score=0.183 total time=   3.2s\n"
     ]
    },
    {
     "name": "stderr",
     "output_type": "stream",
     "text": [
      "C:\\Users\\ben8h\\anaconda3\\Lib\\site-packages\\sklearn\\base.py:1474: DataConversionWarning: A column-vector y was passed when a 1d array was expected. Please change the shape of y to (n_samples,), for example using ravel().\n",
      "  return fit_method(estimator, *args, **kwargs)\n"
     ]
    },
    {
     "name": "stdout",
     "output_type": "stream",
     "text": [
      "[CV 8/10] END max_depth=None, min_samples_leaf=10, min_samples_split=10, n_estimators=100;, score=0.175 total time=   3.1s\n"
     ]
    },
    {
     "name": "stderr",
     "output_type": "stream",
     "text": [
      "C:\\Users\\ben8h\\anaconda3\\Lib\\site-packages\\sklearn\\base.py:1474: DataConversionWarning: A column-vector y was passed when a 1d array was expected. Please change the shape of y to (n_samples,), for example using ravel().\n",
      "  return fit_method(estimator, *args, **kwargs)\n"
     ]
    },
    {
     "name": "stdout",
     "output_type": "stream",
     "text": [
      "[CV 9/10] END max_depth=None, min_samples_leaf=10, min_samples_split=10, n_estimators=100;, score=0.172 total time=   3.1s\n"
     ]
    },
    {
     "name": "stderr",
     "output_type": "stream",
     "text": [
      "C:\\Users\\ben8h\\anaconda3\\Lib\\site-packages\\sklearn\\base.py:1474: DataConversionWarning: A column-vector y was passed when a 1d array was expected. Please change the shape of y to (n_samples,), for example using ravel().\n",
      "  return fit_method(estimator, *args, **kwargs)\n"
     ]
    },
    {
     "name": "stdout",
     "output_type": "stream",
     "text": [
      "[CV 10/10] END max_depth=None, min_samples_leaf=10, min_samples_split=10, n_estimators=100;, score=0.188 total time=   3.2s\n"
     ]
    },
    {
     "name": "stderr",
     "output_type": "stream",
     "text": [
      "C:\\Users\\ben8h\\anaconda3\\Lib\\site-packages\\sklearn\\base.py:1474: DataConversionWarning: A column-vector y was passed when a 1d array was expected. Please change the shape of y to (n_samples,), for example using ravel().\n",
      "  return fit_method(estimator, *args, **kwargs)\n"
     ]
    },
    {
     "name": "stdout",
     "output_type": "stream",
     "text": [
      "[CV 1/10] END max_depth=None, min_samples_leaf=10, min_samples_split=10, n_estimators=200;, score=0.167 total time=   6.5s\n"
     ]
    },
    {
     "name": "stderr",
     "output_type": "stream",
     "text": [
      "C:\\Users\\ben8h\\anaconda3\\Lib\\site-packages\\sklearn\\base.py:1474: DataConversionWarning: A column-vector y was passed when a 1d array was expected. Please change the shape of y to (n_samples,), for example using ravel().\n",
      "  return fit_method(estimator, *args, **kwargs)\n"
     ]
    },
    {
     "name": "stdout",
     "output_type": "stream",
     "text": [
      "[CV 2/10] END max_depth=None, min_samples_leaf=10, min_samples_split=10, n_estimators=200;, score=0.177 total time=   6.4s\n"
     ]
    },
    {
     "name": "stderr",
     "output_type": "stream",
     "text": [
      "C:\\Users\\ben8h\\anaconda3\\Lib\\site-packages\\sklearn\\base.py:1474: DataConversionWarning: A column-vector y was passed when a 1d array was expected. Please change the shape of y to (n_samples,), for example using ravel().\n",
      "  return fit_method(estimator, *args, **kwargs)\n"
     ]
    },
    {
     "name": "stdout",
     "output_type": "stream",
     "text": [
      "[CV 3/10] END max_depth=None, min_samples_leaf=10, min_samples_split=10, n_estimators=200;, score=0.252 total time=   6.5s\n"
     ]
    },
    {
     "name": "stderr",
     "output_type": "stream",
     "text": [
      "C:\\Users\\ben8h\\anaconda3\\Lib\\site-packages\\sklearn\\base.py:1474: DataConversionWarning: A column-vector y was passed when a 1d array was expected. Please change the shape of y to (n_samples,), for example using ravel().\n",
      "  return fit_method(estimator, *args, **kwargs)\n"
     ]
    },
    {
     "name": "stdout",
     "output_type": "stream",
     "text": [
      "[CV 4/10] END max_depth=None, min_samples_leaf=10, min_samples_split=10, n_estimators=200;, score=0.164 total time=   6.5s\n"
     ]
    },
    {
     "name": "stderr",
     "output_type": "stream",
     "text": [
      "C:\\Users\\ben8h\\anaconda3\\Lib\\site-packages\\sklearn\\base.py:1474: DataConversionWarning: A column-vector y was passed when a 1d array was expected. Please change the shape of y to (n_samples,), for example using ravel().\n",
      "  return fit_method(estimator, *args, **kwargs)\n"
     ]
    },
    {
     "name": "stdout",
     "output_type": "stream",
     "text": [
      "[CV 5/10] END max_depth=None, min_samples_leaf=10, min_samples_split=10, n_estimators=200;, score=0.234 total time=   6.5s\n"
     ]
    },
    {
     "name": "stderr",
     "output_type": "stream",
     "text": [
      "C:\\Users\\ben8h\\anaconda3\\Lib\\site-packages\\sklearn\\base.py:1474: DataConversionWarning: A column-vector y was passed when a 1d array was expected. Please change the shape of y to (n_samples,), for example using ravel().\n",
      "  return fit_method(estimator, *args, **kwargs)\n"
     ]
    },
    {
     "name": "stdout",
     "output_type": "stream",
     "text": [
      "[CV 6/10] END max_depth=None, min_samples_leaf=10, min_samples_split=10, n_estimators=200;, score=0.155 total time=   6.5s\n"
     ]
    },
    {
     "name": "stderr",
     "output_type": "stream",
     "text": [
      "C:\\Users\\ben8h\\anaconda3\\Lib\\site-packages\\sklearn\\base.py:1474: DataConversionWarning: A column-vector y was passed when a 1d array was expected. Please change the shape of y to (n_samples,), for example using ravel().\n",
      "  return fit_method(estimator, *args, **kwargs)\n"
     ]
    },
    {
     "name": "stdout",
     "output_type": "stream",
     "text": [
      "[CV 7/10] END max_depth=None, min_samples_leaf=10, min_samples_split=10, n_estimators=200;, score=0.185 total time=   6.5s\n"
     ]
    },
    {
     "name": "stderr",
     "output_type": "stream",
     "text": [
      "C:\\Users\\ben8h\\anaconda3\\Lib\\site-packages\\sklearn\\base.py:1474: DataConversionWarning: A column-vector y was passed when a 1d array was expected. Please change the shape of y to (n_samples,), for example using ravel().\n",
      "  return fit_method(estimator, *args, **kwargs)\n"
     ]
    },
    {
     "name": "stdout",
     "output_type": "stream",
     "text": [
      "[CV 8/10] END max_depth=None, min_samples_leaf=10, min_samples_split=10, n_estimators=200;, score=0.181 total time=   6.4s\n"
     ]
    },
    {
     "name": "stderr",
     "output_type": "stream",
     "text": [
      "C:\\Users\\ben8h\\anaconda3\\Lib\\site-packages\\sklearn\\base.py:1474: DataConversionWarning: A column-vector y was passed when a 1d array was expected. Please change the shape of y to (n_samples,), for example using ravel().\n",
      "  return fit_method(estimator, *args, **kwargs)\n"
     ]
    },
    {
     "name": "stdout",
     "output_type": "stream",
     "text": [
      "[CV 9/10] END max_depth=None, min_samples_leaf=10, min_samples_split=10, n_estimators=200;, score=0.167 total time=   6.5s\n"
     ]
    },
    {
     "name": "stderr",
     "output_type": "stream",
     "text": [
      "C:\\Users\\ben8h\\anaconda3\\Lib\\site-packages\\sklearn\\base.py:1474: DataConversionWarning: A column-vector y was passed when a 1d array was expected. Please change the shape of y to (n_samples,), for example using ravel().\n",
      "  return fit_method(estimator, *args, **kwargs)\n"
     ]
    },
    {
     "name": "stdout",
     "output_type": "stream",
     "text": [
      "[CV 10/10] END max_depth=None, min_samples_leaf=10, min_samples_split=10, n_estimators=200;, score=0.187 total time=   6.4s\n"
     ]
    },
    {
     "name": "stderr",
     "output_type": "stream",
     "text": [
      "C:\\Users\\ben8h\\anaconda3\\Lib\\site-packages\\sklearn\\base.py:1474: DataConversionWarning: A column-vector y was passed when a 1d array was expected. Please change the shape of y to (n_samples,), for example using ravel().\n",
      "  return fit_method(estimator, *args, **kwargs)\n"
     ]
    },
    {
     "name": "stdout",
     "output_type": "stream",
     "text": [
      "[CV 1/10] END max_depth=5, min_samples_leaf=1, min_samples_split=2, n_estimators=50;, score=0.122 total time=   0.6s\n"
     ]
    },
    {
     "name": "stderr",
     "output_type": "stream",
     "text": [
      "C:\\Users\\ben8h\\anaconda3\\Lib\\site-packages\\sklearn\\base.py:1474: DataConversionWarning: A column-vector y was passed when a 1d array was expected. Please change the shape of y to (n_samples,), for example using ravel().\n",
      "  return fit_method(estimator, *args, **kwargs)\n"
     ]
    },
    {
     "name": "stdout",
     "output_type": "stream",
     "text": [
      "[CV 2/10] END max_depth=5, min_samples_leaf=1, min_samples_split=2, n_estimators=50;, score=0.139 total time=   0.6s\n"
     ]
    },
    {
     "name": "stderr",
     "output_type": "stream",
     "text": [
      "C:\\Users\\ben8h\\anaconda3\\Lib\\site-packages\\sklearn\\base.py:1474: DataConversionWarning: A column-vector y was passed when a 1d array was expected. Please change the shape of y to (n_samples,), for example using ravel().\n",
      "  return fit_method(estimator, *args, **kwargs)\n"
     ]
    },
    {
     "name": "stdout",
     "output_type": "stream",
     "text": [
      "[CV 3/10] END max_depth=5, min_samples_leaf=1, min_samples_split=2, n_estimators=50;, score=0.185 total time=   0.7s\n"
     ]
    },
    {
     "name": "stderr",
     "output_type": "stream",
     "text": [
      "C:\\Users\\ben8h\\anaconda3\\Lib\\site-packages\\sklearn\\base.py:1474: DataConversionWarning: A column-vector y was passed when a 1d array was expected. Please change the shape of y to (n_samples,), for example using ravel().\n",
      "  return fit_method(estimator, *args, **kwargs)\n"
     ]
    },
    {
     "name": "stdout",
     "output_type": "stream",
     "text": [
      "[CV 4/10] END max_depth=5, min_samples_leaf=1, min_samples_split=2, n_estimators=50;, score=0.135 total time=   0.7s\n"
     ]
    },
    {
     "name": "stderr",
     "output_type": "stream",
     "text": [
      "C:\\Users\\ben8h\\anaconda3\\Lib\\site-packages\\sklearn\\base.py:1474: DataConversionWarning: A column-vector y was passed when a 1d array was expected. Please change the shape of y to (n_samples,), for example using ravel().\n",
      "  return fit_method(estimator, *args, **kwargs)\n"
     ]
    },
    {
     "name": "stdout",
     "output_type": "stream",
     "text": [
      "[CV 5/10] END max_depth=5, min_samples_leaf=1, min_samples_split=2, n_estimators=50;, score=0.170 total time=   0.7s\n"
     ]
    },
    {
     "name": "stderr",
     "output_type": "stream",
     "text": [
      "C:\\Users\\ben8h\\anaconda3\\Lib\\site-packages\\sklearn\\base.py:1474: DataConversionWarning: A column-vector y was passed when a 1d array was expected. Please change the shape of y to (n_samples,), for example using ravel().\n",
      "  return fit_method(estimator, *args, **kwargs)\n"
     ]
    },
    {
     "name": "stdout",
     "output_type": "stream",
     "text": [
      "[CV 6/10] END max_depth=5, min_samples_leaf=1, min_samples_split=2, n_estimators=50;, score=0.121 total time=   0.7s\n"
     ]
    },
    {
     "name": "stderr",
     "output_type": "stream",
     "text": [
      "C:\\Users\\ben8h\\anaconda3\\Lib\\site-packages\\sklearn\\base.py:1474: DataConversionWarning: A column-vector y was passed when a 1d array was expected. Please change the shape of y to (n_samples,), for example using ravel().\n",
      "  return fit_method(estimator, *args, **kwargs)\n"
     ]
    },
    {
     "name": "stdout",
     "output_type": "stream",
     "text": [
      "[CV 7/10] END max_depth=5, min_samples_leaf=1, min_samples_split=2, n_estimators=50;, score=0.147 total time=   0.7s\n"
     ]
    },
    {
     "name": "stderr",
     "output_type": "stream",
     "text": [
      "C:\\Users\\ben8h\\anaconda3\\Lib\\site-packages\\sklearn\\base.py:1474: DataConversionWarning: A column-vector y was passed when a 1d array was expected. Please change the shape of y to (n_samples,), for example using ravel().\n",
      "  return fit_method(estimator, *args, **kwargs)\n"
     ]
    },
    {
     "name": "stdout",
     "output_type": "stream",
     "text": [
      "[CV 8/10] END max_depth=5, min_samples_leaf=1, min_samples_split=2, n_estimators=50;, score=0.133 total time=   0.6s\n"
     ]
    },
    {
     "name": "stderr",
     "output_type": "stream",
     "text": [
      "C:\\Users\\ben8h\\anaconda3\\Lib\\site-packages\\sklearn\\base.py:1474: DataConversionWarning: A column-vector y was passed when a 1d array was expected. Please change the shape of y to (n_samples,), for example using ravel().\n",
      "  return fit_method(estimator, *args, **kwargs)\n"
     ]
    },
    {
     "name": "stdout",
     "output_type": "stream",
     "text": [
      "[CV 9/10] END max_depth=5, min_samples_leaf=1, min_samples_split=2, n_estimators=50;, score=0.147 total time=   0.6s\n"
     ]
    },
    {
     "name": "stderr",
     "output_type": "stream",
     "text": [
      "C:\\Users\\ben8h\\anaconda3\\Lib\\site-packages\\sklearn\\base.py:1474: DataConversionWarning: A column-vector y was passed when a 1d array was expected. Please change the shape of y to (n_samples,), for example using ravel().\n",
      "  return fit_method(estimator, *args, **kwargs)\n"
     ]
    },
    {
     "name": "stdout",
     "output_type": "stream",
     "text": [
      "[CV 10/10] END max_depth=5, min_samples_leaf=1, min_samples_split=2, n_estimators=50;, score=0.149 total time=   0.6s\n"
     ]
    },
    {
     "name": "stderr",
     "output_type": "stream",
     "text": [
      "C:\\Users\\ben8h\\anaconda3\\Lib\\site-packages\\sklearn\\base.py:1474: DataConversionWarning: A column-vector y was passed when a 1d array was expected. Please change the shape of y to (n_samples,), for example using ravel().\n",
      "  return fit_method(estimator, *args, **kwargs)\n"
     ]
    },
    {
     "name": "stdout",
     "output_type": "stream",
     "text": [
      "[CV 1/10] END max_depth=5, min_samples_leaf=1, min_samples_split=2, n_estimators=100;, score=0.130 total time=   1.4s\n"
     ]
    },
    {
     "name": "stderr",
     "output_type": "stream",
     "text": [
      "C:\\Users\\ben8h\\anaconda3\\Lib\\site-packages\\sklearn\\base.py:1474: DataConversionWarning: A column-vector y was passed when a 1d array was expected. Please change the shape of y to (n_samples,), for example using ravel().\n",
      "  return fit_method(estimator, *args, **kwargs)\n"
     ]
    },
    {
     "name": "stdout",
     "output_type": "stream",
     "text": [
      "[CV 2/10] END max_depth=5, min_samples_leaf=1, min_samples_split=2, n_estimators=100;, score=0.138 total time=   1.4s\n"
     ]
    },
    {
     "name": "stderr",
     "output_type": "stream",
     "text": [
      "C:\\Users\\ben8h\\anaconda3\\Lib\\site-packages\\sklearn\\base.py:1474: DataConversionWarning: A column-vector y was passed when a 1d array was expected. Please change the shape of y to (n_samples,), for example using ravel().\n",
      "  return fit_method(estimator, *args, **kwargs)\n"
     ]
    },
    {
     "name": "stdout",
     "output_type": "stream",
     "text": [
      "[CV 3/10] END max_depth=5, min_samples_leaf=1, min_samples_split=2, n_estimators=100;, score=0.188 total time=   1.4s\n"
     ]
    },
    {
     "name": "stderr",
     "output_type": "stream",
     "text": [
      "C:\\Users\\ben8h\\anaconda3\\Lib\\site-packages\\sklearn\\base.py:1474: DataConversionWarning: A column-vector y was passed when a 1d array was expected. Please change the shape of y to (n_samples,), for example using ravel().\n",
      "  return fit_method(estimator, *args, **kwargs)\n"
     ]
    },
    {
     "name": "stdout",
     "output_type": "stream",
     "text": [
      "[CV 4/10] END max_depth=5, min_samples_leaf=1, min_samples_split=2, n_estimators=100;, score=0.124 total time=   1.4s\n"
     ]
    },
    {
     "name": "stderr",
     "output_type": "stream",
     "text": [
      "C:\\Users\\ben8h\\anaconda3\\Lib\\site-packages\\sklearn\\base.py:1474: DataConversionWarning: A column-vector y was passed when a 1d array was expected. Please change the shape of y to (n_samples,), for example using ravel().\n",
      "  return fit_method(estimator, *args, **kwargs)\n"
     ]
    },
    {
     "name": "stdout",
     "output_type": "stream",
     "text": [
      "[CV 5/10] END max_depth=5, min_samples_leaf=1, min_samples_split=2, n_estimators=100;, score=0.171 total time=   1.4s\n"
     ]
    },
    {
     "name": "stderr",
     "output_type": "stream",
     "text": [
      "C:\\Users\\ben8h\\anaconda3\\Lib\\site-packages\\sklearn\\base.py:1474: DataConversionWarning: A column-vector y was passed when a 1d array was expected. Please change the shape of y to (n_samples,), for example using ravel().\n",
      "  return fit_method(estimator, *args, **kwargs)\n"
     ]
    },
    {
     "name": "stdout",
     "output_type": "stream",
     "text": [
      "[CV 6/10] END max_depth=5, min_samples_leaf=1, min_samples_split=2, n_estimators=100;, score=0.119 total time=   1.4s\n"
     ]
    },
    {
     "name": "stderr",
     "output_type": "stream",
     "text": [
      "C:\\Users\\ben8h\\anaconda3\\Lib\\site-packages\\sklearn\\base.py:1474: DataConversionWarning: A column-vector y was passed when a 1d array was expected. Please change the shape of y to (n_samples,), for example using ravel().\n",
      "  return fit_method(estimator, *args, **kwargs)\n"
     ]
    },
    {
     "name": "stdout",
     "output_type": "stream",
     "text": [
      "[CV 7/10] END max_depth=5, min_samples_leaf=1, min_samples_split=2, n_estimators=100;, score=0.144 total time=   1.4s\n"
     ]
    },
    {
     "name": "stderr",
     "output_type": "stream",
     "text": [
      "C:\\Users\\ben8h\\anaconda3\\Lib\\site-packages\\sklearn\\base.py:1474: DataConversionWarning: A column-vector y was passed when a 1d array was expected. Please change the shape of y to (n_samples,), for example using ravel().\n",
      "  return fit_method(estimator, *args, **kwargs)\n"
     ]
    },
    {
     "name": "stdout",
     "output_type": "stream",
     "text": [
      "[CV 8/10] END max_depth=5, min_samples_leaf=1, min_samples_split=2, n_estimators=100;, score=0.134 total time=   1.4s\n"
     ]
    },
    {
     "name": "stderr",
     "output_type": "stream",
     "text": [
      "C:\\Users\\ben8h\\anaconda3\\Lib\\site-packages\\sklearn\\base.py:1474: DataConversionWarning: A column-vector y was passed when a 1d array was expected. Please change the shape of y to (n_samples,), for example using ravel().\n",
      "  return fit_method(estimator, *args, **kwargs)\n"
     ]
    },
    {
     "name": "stdout",
     "output_type": "stream",
     "text": [
      "[CV 9/10] END max_depth=5, min_samples_leaf=1, min_samples_split=2, n_estimators=100;, score=0.148 total time=   1.4s\n"
     ]
    },
    {
     "name": "stderr",
     "output_type": "stream",
     "text": [
      "C:\\Users\\ben8h\\anaconda3\\Lib\\site-packages\\sklearn\\base.py:1474: DataConversionWarning: A column-vector y was passed when a 1d array was expected. Please change the shape of y to (n_samples,), for example using ravel().\n",
      "  return fit_method(estimator, *args, **kwargs)\n"
     ]
    },
    {
     "name": "stdout",
     "output_type": "stream",
     "text": [
      "[CV 10/10] END max_depth=5, min_samples_leaf=1, min_samples_split=2, n_estimators=100;, score=0.147 total time=   1.4s\n"
     ]
    },
    {
     "name": "stderr",
     "output_type": "stream",
     "text": [
      "C:\\Users\\ben8h\\anaconda3\\Lib\\site-packages\\sklearn\\base.py:1474: DataConversionWarning: A column-vector y was passed when a 1d array was expected. Please change the shape of y to (n_samples,), for example using ravel().\n",
      "  return fit_method(estimator, *args, **kwargs)\n"
     ]
    },
    {
     "name": "stdout",
     "output_type": "stream",
     "text": [
      "[CV 1/10] END max_depth=5, min_samples_leaf=1, min_samples_split=2, n_estimators=200;, score=0.122 total time=   2.9s\n"
     ]
    },
    {
     "name": "stderr",
     "output_type": "stream",
     "text": [
      "C:\\Users\\ben8h\\anaconda3\\Lib\\site-packages\\sklearn\\base.py:1474: DataConversionWarning: A column-vector y was passed when a 1d array was expected. Please change the shape of y to (n_samples,), for example using ravel().\n",
      "  return fit_method(estimator, *args, **kwargs)\n"
     ]
    },
    {
     "name": "stdout",
     "output_type": "stream",
     "text": [
      "[CV 2/10] END max_depth=5, min_samples_leaf=1, min_samples_split=2, n_estimators=200;, score=0.147 total time=   2.9s\n"
     ]
    },
    {
     "name": "stderr",
     "output_type": "stream",
     "text": [
      "C:\\Users\\ben8h\\anaconda3\\Lib\\site-packages\\sklearn\\base.py:1474: DataConversionWarning: A column-vector y was passed when a 1d array was expected. Please change the shape of y to (n_samples,), for example using ravel().\n",
      "  return fit_method(estimator, *args, **kwargs)\n"
     ]
    },
    {
     "name": "stdout",
     "output_type": "stream",
     "text": [
      "[CV 3/10] END max_depth=5, min_samples_leaf=1, min_samples_split=2, n_estimators=200;, score=0.185 total time=   2.9s\n"
     ]
    },
    {
     "name": "stderr",
     "output_type": "stream",
     "text": [
      "C:\\Users\\ben8h\\anaconda3\\Lib\\site-packages\\sklearn\\base.py:1474: DataConversionWarning: A column-vector y was passed when a 1d array was expected. Please change the shape of y to (n_samples,), for example using ravel().\n",
      "  return fit_method(estimator, *args, **kwargs)\n"
     ]
    },
    {
     "name": "stdout",
     "output_type": "stream",
     "text": [
      "[CV 4/10] END max_depth=5, min_samples_leaf=1, min_samples_split=2, n_estimators=200;, score=0.131 total time=   2.9s\n"
     ]
    },
    {
     "name": "stderr",
     "output_type": "stream",
     "text": [
      "C:\\Users\\ben8h\\anaconda3\\Lib\\site-packages\\sklearn\\base.py:1474: DataConversionWarning: A column-vector y was passed when a 1d array was expected. Please change the shape of y to (n_samples,), for example using ravel().\n",
      "  return fit_method(estimator, *args, **kwargs)\n"
     ]
    },
    {
     "name": "stdout",
     "output_type": "stream",
     "text": [
      "[CV 5/10] END max_depth=5, min_samples_leaf=1, min_samples_split=2, n_estimators=200;, score=0.171 total time=   2.9s\n"
     ]
    },
    {
     "name": "stderr",
     "output_type": "stream",
     "text": [
      "C:\\Users\\ben8h\\anaconda3\\Lib\\site-packages\\sklearn\\base.py:1474: DataConversionWarning: A column-vector y was passed when a 1d array was expected. Please change the shape of y to (n_samples,), for example using ravel().\n",
      "  return fit_method(estimator, *args, **kwargs)\n"
     ]
    },
    {
     "name": "stdout",
     "output_type": "stream",
     "text": [
      "[CV 6/10] END max_depth=5, min_samples_leaf=1, min_samples_split=2, n_estimators=200;, score=0.114 total time=   2.8s\n"
     ]
    },
    {
     "name": "stderr",
     "output_type": "stream",
     "text": [
      "C:\\Users\\ben8h\\anaconda3\\Lib\\site-packages\\sklearn\\base.py:1474: DataConversionWarning: A column-vector y was passed when a 1d array was expected. Please change the shape of y to (n_samples,), for example using ravel().\n",
      "  return fit_method(estimator, *args, **kwargs)\n"
     ]
    },
    {
     "name": "stdout",
     "output_type": "stream",
     "text": [
      "[CV 7/10] END max_depth=5, min_samples_leaf=1, min_samples_split=2, n_estimators=200;, score=0.150 total time=   2.9s\n"
     ]
    },
    {
     "name": "stderr",
     "output_type": "stream",
     "text": [
      "C:\\Users\\ben8h\\anaconda3\\Lib\\site-packages\\sklearn\\base.py:1474: DataConversionWarning: A column-vector y was passed when a 1d array was expected. Please change the shape of y to (n_samples,), for example using ravel().\n",
      "  return fit_method(estimator, *args, **kwargs)\n"
     ]
    },
    {
     "name": "stdout",
     "output_type": "stream",
     "text": [
      "[CV 8/10] END max_depth=5, min_samples_leaf=1, min_samples_split=2, n_estimators=200;, score=0.135 total time=   2.9s\n"
     ]
    },
    {
     "name": "stderr",
     "output_type": "stream",
     "text": [
      "C:\\Users\\ben8h\\anaconda3\\Lib\\site-packages\\sklearn\\base.py:1474: DataConversionWarning: A column-vector y was passed when a 1d array was expected. Please change the shape of y to (n_samples,), for example using ravel().\n",
      "  return fit_method(estimator, *args, **kwargs)\n"
     ]
    },
    {
     "name": "stdout",
     "output_type": "stream",
     "text": [
      "[CV 9/10] END max_depth=5, min_samples_leaf=1, min_samples_split=2, n_estimators=200;, score=0.151 total time=   2.9s\n"
     ]
    },
    {
     "name": "stderr",
     "output_type": "stream",
     "text": [
      "C:\\Users\\ben8h\\anaconda3\\Lib\\site-packages\\sklearn\\base.py:1474: DataConversionWarning: A column-vector y was passed when a 1d array was expected. Please change the shape of y to (n_samples,), for example using ravel().\n",
      "  return fit_method(estimator, *args, **kwargs)\n"
     ]
    },
    {
     "name": "stdout",
     "output_type": "stream",
     "text": [
      "[CV 10/10] END max_depth=5, min_samples_leaf=1, min_samples_split=2, n_estimators=200;, score=0.149 total time=   2.9s\n"
     ]
    },
    {
     "name": "stderr",
     "output_type": "stream",
     "text": [
      "C:\\Users\\ben8h\\anaconda3\\Lib\\site-packages\\sklearn\\base.py:1474: DataConversionWarning: A column-vector y was passed when a 1d array was expected. Please change the shape of y to (n_samples,), for example using ravel().\n",
      "  return fit_method(estimator, *args, **kwargs)\n"
     ]
    },
    {
     "name": "stdout",
     "output_type": "stream",
     "text": [
      "[CV 1/10] END max_depth=5, min_samples_leaf=1, min_samples_split=5, n_estimators=50;, score=0.119 total time=   0.7s\n"
     ]
    },
    {
     "name": "stderr",
     "output_type": "stream",
     "text": [
      "C:\\Users\\ben8h\\anaconda3\\Lib\\site-packages\\sklearn\\base.py:1474: DataConversionWarning: A column-vector y was passed when a 1d array was expected. Please change the shape of y to (n_samples,), for example using ravel().\n",
      "  return fit_method(estimator, *args, **kwargs)\n"
     ]
    },
    {
     "name": "stdout",
     "output_type": "stream",
     "text": [
      "[CV 2/10] END max_depth=5, min_samples_leaf=1, min_samples_split=5, n_estimators=50;, score=0.148 total time=   0.6s\n"
     ]
    },
    {
     "name": "stderr",
     "output_type": "stream",
     "text": [
      "C:\\Users\\ben8h\\anaconda3\\Lib\\site-packages\\sklearn\\base.py:1474: DataConversionWarning: A column-vector y was passed when a 1d array was expected. Please change the shape of y to (n_samples,), for example using ravel().\n",
      "  return fit_method(estimator, *args, **kwargs)\n"
     ]
    },
    {
     "name": "stdout",
     "output_type": "stream",
     "text": [
      "[CV 3/10] END max_depth=5, min_samples_leaf=1, min_samples_split=5, n_estimators=50;, score=0.192 total time=   0.6s\n"
     ]
    },
    {
     "name": "stderr",
     "output_type": "stream",
     "text": [
      "C:\\Users\\ben8h\\anaconda3\\Lib\\site-packages\\sklearn\\base.py:1474: DataConversionWarning: A column-vector y was passed when a 1d array was expected. Please change the shape of y to (n_samples,), for example using ravel().\n",
      "  return fit_method(estimator, *args, **kwargs)\n"
     ]
    },
    {
     "name": "stdout",
     "output_type": "stream",
     "text": [
      "[CV 4/10] END max_depth=5, min_samples_leaf=1, min_samples_split=5, n_estimators=50;, score=0.131 total time=   0.6s\n"
     ]
    },
    {
     "name": "stderr",
     "output_type": "stream",
     "text": [
      "C:\\Users\\ben8h\\anaconda3\\Lib\\site-packages\\sklearn\\base.py:1474: DataConversionWarning: A column-vector y was passed when a 1d array was expected. Please change the shape of y to (n_samples,), for example using ravel().\n",
      "  return fit_method(estimator, *args, **kwargs)\n"
     ]
    },
    {
     "name": "stdout",
     "output_type": "stream",
     "text": [
      "[CV 5/10] END max_depth=5, min_samples_leaf=1, min_samples_split=5, n_estimators=50;, score=0.170 total time=   0.6s\n"
     ]
    },
    {
     "name": "stderr",
     "output_type": "stream",
     "text": [
      "C:\\Users\\ben8h\\anaconda3\\Lib\\site-packages\\sklearn\\base.py:1474: DataConversionWarning: A column-vector y was passed when a 1d array was expected. Please change the shape of y to (n_samples,), for example using ravel().\n",
      "  return fit_method(estimator, *args, **kwargs)\n"
     ]
    },
    {
     "name": "stdout",
     "output_type": "stream",
     "text": [
      "[CV 6/10] END max_depth=5, min_samples_leaf=1, min_samples_split=5, n_estimators=50;, score=0.124 total time=   0.6s\n"
     ]
    },
    {
     "name": "stderr",
     "output_type": "stream",
     "text": [
      "C:\\Users\\ben8h\\anaconda3\\Lib\\site-packages\\sklearn\\base.py:1474: DataConversionWarning: A column-vector y was passed when a 1d array was expected. Please change the shape of y to (n_samples,), for example using ravel().\n",
      "  return fit_method(estimator, *args, **kwargs)\n"
     ]
    },
    {
     "name": "stdout",
     "output_type": "stream",
     "text": [
      "[CV 7/10] END max_depth=5, min_samples_leaf=1, min_samples_split=5, n_estimators=50;, score=0.143 total time=   0.7s\n"
     ]
    },
    {
     "name": "stderr",
     "output_type": "stream",
     "text": [
      "C:\\Users\\ben8h\\anaconda3\\Lib\\site-packages\\sklearn\\base.py:1474: DataConversionWarning: A column-vector y was passed when a 1d array was expected. Please change the shape of y to (n_samples,), for example using ravel().\n",
      "  return fit_method(estimator, *args, **kwargs)\n"
     ]
    },
    {
     "name": "stdout",
     "output_type": "stream",
     "text": [
      "[CV 8/10] END max_depth=5, min_samples_leaf=1, min_samples_split=5, n_estimators=50;, score=0.134 total time=   0.7s\n"
     ]
    },
    {
     "name": "stderr",
     "output_type": "stream",
     "text": [
      "C:\\Users\\ben8h\\anaconda3\\Lib\\site-packages\\sklearn\\base.py:1474: DataConversionWarning: A column-vector y was passed when a 1d array was expected. Please change the shape of y to (n_samples,), for example using ravel().\n",
      "  return fit_method(estimator, *args, **kwargs)\n"
     ]
    },
    {
     "name": "stdout",
     "output_type": "stream",
     "text": [
      "[CV 9/10] END max_depth=5, min_samples_leaf=1, min_samples_split=5, n_estimators=50;, score=0.148 total time=   0.6s\n"
     ]
    },
    {
     "name": "stderr",
     "output_type": "stream",
     "text": [
      "C:\\Users\\ben8h\\anaconda3\\Lib\\site-packages\\sklearn\\base.py:1474: DataConversionWarning: A column-vector y was passed when a 1d array was expected. Please change the shape of y to (n_samples,), for example using ravel().\n",
      "  return fit_method(estimator, *args, **kwargs)\n"
     ]
    },
    {
     "name": "stdout",
     "output_type": "stream",
     "text": [
      "[CV 10/10] END max_depth=5, min_samples_leaf=1, min_samples_split=5, n_estimators=50;, score=0.150 total time=   0.6s\n"
     ]
    },
    {
     "name": "stderr",
     "output_type": "stream",
     "text": [
      "C:\\Users\\ben8h\\anaconda3\\Lib\\site-packages\\sklearn\\base.py:1474: DataConversionWarning: A column-vector y was passed when a 1d array was expected. Please change the shape of y to (n_samples,), for example using ravel().\n",
      "  return fit_method(estimator, *args, **kwargs)\n"
     ]
    },
    {
     "name": "stdout",
     "output_type": "stream",
     "text": [
      "[CV 1/10] END max_depth=5, min_samples_leaf=1, min_samples_split=5, n_estimators=100;, score=0.126 total time=   1.4s\n"
     ]
    },
    {
     "name": "stderr",
     "output_type": "stream",
     "text": [
      "C:\\Users\\ben8h\\anaconda3\\Lib\\site-packages\\sklearn\\base.py:1474: DataConversionWarning: A column-vector y was passed when a 1d array was expected. Please change the shape of y to (n_samples,), for example using ravel().\n",
      "  return fit_method(estimator, *args, **kwargs)\n"
     ]
    },
    {
     "name": "stdout",
     "output_type": "stream",
     "text": [
      "[CV 2/10] END max_depth=5, min_samples_leaf=1, min_samples_split=5, n_estimators=100;, score=0.138 total time=   1.4s\n"
     ]
    },
    {
     "name": "stderr",
     "output_type": "stream",
     "text": [
      "C:\\Users\\ben8h\\anaconda3\\Lib\\site-packages\\sklearn\\base.py:1474: DataConversionWarning: A column-vector y was passed when a 1d array was expected. Please change the shape of y to (n_samples,), for example using ravel().\n",
      "  return fit_method(estimator, *args, **kwargs)\n"
     ]
    },
    {
     "name": "stdout",
     "output_type": "stream",
     "text": [
      "[CV 3/10] END max_depth=5, min_samples_leaf=1, min_samples_split=5, n_estimators=100;, score=0.185 total time=   1.4s\n"
     ]
    },
    {
     "name": "stderr",
     "output_type": "stream",
     "text": [
      "C:\\Users\\ben8h\\anaconda3\\Lib\\site-packages\\sklearn\\base.py:1474: DataConversionWarning: A column-vector y was passed when a 1d array was expected. Please change the shape of y to (n_samples,), for example using ravel().\n",
      "  return fit_method(estimator, *args, **kwargs)\n"
     ]
    },
    {
     "name": "stdout",
     "output_type": "stream",
     "text": [
      "[CV 4/10] END max_depth=5, min_samples_leaf=1, min_samples_split=5, n_estimators=100;, score=0.133 total time=   1.4s\n"
     ]
    },
    {
     "name": "stderr",
     "output_type": "stream",
     "text": [
      "C:\\Users\\ben8h\\anaconda3\\Lib\\site-packages\\sklearn\\base.py:1474: DataConversionWarning: A column-vector y was passed when a 1d array was expected. Please change the shape of y to (n_samples,), for example using ravel().\n",
      "  return fit_method(estimator, *args, **kwargs)\n"
     ]
    },
    {
     "name": "stdout",
     "output_type": "stream",
     "text": [
      "[CV 5/10] END max_depth=5, min_samples_leaf=1, min_samples_split=5, n_estimators=100;, score=0.168 total time=   1.4s\n"
     ]
    },
    {
     "name": "stderr",
     "output_type": "stream",
     "text": [
      "C:\\Users\\ben8h\\anaconda3\\Lib\\site-packages\\sklearn\\base.py:1474: DataConversionWarning: A column-vector y was passed when a 1d array was expected. Please change the shape of y to (n_samples,), for example using ravel().\n",
      "  return fit_method(estimator, *args, **kwargs)\n"
     ]
    },
    {
     "name": "stdout",
     "output_type": "stream",
     "text": [
      "[CV 6/10] END max_depth=5, min_samples_leaf=1, min_samples_split=5, n_estimators=100;, score=0.121 total time=   1.4s\n"
     ]
    },
    {
     "name": "stderr",
     "output_type": "stream",
     "text": [
      "C:\\Users\\ben8h\\anaconda3\\Lib\\site-packages\\sklearn\\base.py:1474: DataConversionWarning: A column-vector y was passed when a 1d array was expected. Please change the shape of y to (n_samples,), for example using ravel().\n",
      "  return fit_method(estimator, *args, **kwargs)\n"
     ]
    },
    {
     "name": "stdout",
     "output_type": "stream",
     "text": [
      "[CV 7/10] END max_depth=5, min_samples_leaf=1, min_samples_split=5, n_estimators=100;, score=0.150 total time=   1.4s\n"
     ]
    },
    {
     "name": "stderr",
     "output_type": "stream",
     "text": [
      "C:\\Users\\ben8h\\anaconda3\\Lib\\site-packages\\sklearn\\base.py:1474: DataConversionWarning: A column-vector y was passed when a 1d array was expected. Please change the shape of y to (n_samples,), for example using ravel().\n",
      "  return fit_method(estimator, *args, **kwargs)\n"
     ]
    },
    {
     "name": "stdout",
     "output_type": "stream",
     "text": [
      "[CV 8/10] END max_depth=5, min_samples_leaf=1, min_samples_split=5, n_estimators=100;, score=0.131 total time=   1.4s\n"
     ]
    },
    {
     "name": "stderr",
     "output_type": "stream",
     "text": [
      "C:\\Users\\ben8h\\anaconda3\\Lib\\site-packages\\sklearn\\base.py:1474: DataConversionWarning: A column-vector y was passed when a 1d array was expected. Please change the shape of y to (n_samples,), for example using ravel().\n",
      "  return fit_method(estimator, *args, **kwargs)\n"
     ]
    },
    {
     "name": "stdout",
     "output_type": "stream",
     "text": [
      "[CV 9/10] END max_depth=5, min_samples_leaf=1, min_samples_split=5, n_estimators=100;, score=0.154 total time=   1.4s\n"
     ]
    },
    {
     "name": "stderr",
     "output_type": "stream",
     "text": [
      "C:\\Users\\ben8h\\anaconda3\\Lib\\site-packages\\sklearn\\base.py:1474: DataConversionWarning: A column-vector y was passed when a 1d array was expected. Please change the shape of y to (n_samples,), for example using ravel().\n",
      "  return fit_method(estimator, *args, **kwargs)\n"
     ]
    },
    {
     "name": "stdout",
     "output_type": "stream",
     "text": [
      "[CV 10/10] END max_depth=5, min_samples_leaf=1, min_samples_split=5, n_estimators=100;, score=0.149 total time=   1.4s\n"
     ]
    },
    {
     "name": "stderr",
     "output_type": "stream",
     "text": [
      "C:\\Users\\ben8h\\anaconda3\\Lib\\site-packages\\sklearn\\base.py:1474: DataConversionWarning: A column-vector y was passed when a 1d array was expected. Please change the shape of y to (n_samples,), for example using ravel().\n",
      "  return fit_method(estimator, *args, **kwargs)\n"
     ]
    },
    {
     "name": "stdout",
     "output_type": "stream",
     "text": [
      "[CV 1/10] END max_depth=5, min_samples_leaf=1, min_samples_split=5, n_estimators=200;, score=0.125 total time=   2.9s\n"
     ]
    },
    {
     "name": "stderr",
     "output_type": "stream",
     "text": [
      "C:\\Users\\ben8h\\anaconda3\\Lib\\site-packages\\sklearn\\base.py:1474: DataConversionWarning: A column-vector y was passed when a 1d array was expected. Please change the shape of y to (n_samples,), for example using ravel().\n",
      "  return fit_method(estimator, *args, **kwargs)\n"
     ]
    },
    {
     "name": "stdout",
     "output_type": "stream",
     "text": [
      "[CV 2/10] END max_depth=5, min_samples_leaf=1, min_samples_split=5, n_estimators=200;, score=0.145 total time=   2.9s\n"
     ]
    },
    {
     "name": "stderr",
     "output_type": "stream",
     "text": [
      "C:\\Users\\ben8h\\anaconda3\\Lib\\site-packages\\sklearn\\base.py:1474: DataConversionWarning: A column-vector y was passed when a 1d array was expected. Please change the shape of y to (n_samples,), for example using ravel().\n",
      "  return fit_method(estimator, *args, **kwargs)\n"
     ]
    },
    {
     "name": "stdout",
     "output_type": "stream",
     "text": [
      "[CV 3/10] END max_depth=5, min_samples_leaf=1, min_samples_split=5, n_estimators=200;, score=0.190 total time=   2.9s\n"
     ]
    },
    {
     "name": "stderr",
     "output_type": "stream",
     "text": [
      "C:\\Users\\ben8h\\anaconda3\\Lib\\site-packages\\sklearn\\base.py:1474: DataConversionWarning: A column-vector y was passed when a 1d array was expected. Please change the shape of y to (n_samples,), for example using ravel().\n",
      "  return fit_method(estimator, *args, **kwargs)\n"
     ]
    },
    {
     "name": "stdout",
     "output_type": "stream",
     "text": [
      "[CV 4/10] END max_depth=5, min_samples_leaf=1, min_samples_split=5, n_estimators=200;, score=0.132 total time=   2.9s\n"
     ]
    },
    {
     "name": "stderr",
     "output_type": "stream",
     "text": [
      "C:\\Users\\ben8h\\anaconda3\\Lib\\site-packages\\sklearn\\base.py:1474: DataConversionWarning: A column-vector y was passed when a 1d array was expected. Please change the shape of y to (n_samples,), for example using ravel().\n",
      "  return fit_method(estimator, *args, **kwargs)\n"
     ]
    },
    {
     "name": "stdout",
     "output_type": "stream",
     "text": [
      "[CV 5/10] END max_depth=5, min_samples_leaf=1, min_samples_split=5, n_estimators=200;, score=0.170 total time=   2.9s\n"
     ]
    },
    {
     "name": "stderr",
     "output_type": "stream",
     "text": [
      "C:\\Users\\ben8h\\anaconda3\\Lib\\site-packages\\sklearn\\base.py:1474: DataConversionWarning: A column-vector y was passed when a 1d array was expected. Please change the shape of y to (n_samples,), for example using ravel().\n",
      "  return fit_method(estimator, *args, **kwargs)\n"
     ]
    },
    {
     "name": "stdout",
     "output_type": "stream",
     "text": [
      "[CV 6/10] END max_depth=5, min_samples_leaf=1, min_samples_split=5, n_estimators=200;, score=0.118 total time=   2.9s\n"
     ]
    },
    {
     "name": "stderr",
     "output_type": "stream",
     "text": [
      "C:\\Users\\ben8h\\anaconda3\\Lib\\site-packages\\sklearn\\base.py:1474: DataConversionWarning: A column-vector y was passed when a 1d array was expected. Please change the shape of y to (n_samples,), for example using ravel().\n",
      "  return fit_method(estimator, *args, **kwargs)\n"
     ]
    },
    {
     "name": "stdout",
     "output_type": "stream",
     "text": [
      "[CV 7/10] END max_depth=5, min_samples_leaf=1, min_samples_split=5, n_estimators=200;, score=0.148 total time=   2.9s\n"
     ]
    },
    {
     "name": "stderr",
     "output_type": "stream",
     "text": [
      "C:\\Users\\ben8h\\anaconda3\\Lib\\site-packages\\sklearn\\base.py:1474: DataConversionWarning: A column-vector y was passed when a 1d array was expected. Please change the shape of y to (n_samples,), for example using ravel().\n",
      "  return fit_method(estimator, *args, **kwargs)\n"
     ]
    },
    {
     "name": "stdout",
     "output_type": "stream",
     "text": [
      "[CV 8/10] END max_depth=5, min_samples_leaf=1, min_samples_split=5, n_estimators=200;, score=0.134 total time=   2.9s\n"
     ]
    },
    {
     "name": "stderr",
     "output_type": "stream",
     "text": [
      "C:\\Users\\ben8h\\anaconda3\\Lib\\site-packages\\sklearn\\base.py:1474: DataConversionWarning: A column-vector y was passed when a 1d array was expected. Please change the shape of y to (n_samples,), for example using ravel().\n",
      "  return fit_method(estimator, *args, **kwargs)\n"
     ]
    },
    {
     "name": "stdout",
     "output_type": "stream",
     "text": [
      "[CV 9/10] END max_depth=5, min_samples_leaf=1, min_samples_split=5, n_estimators=200;, score=0.150 total time=   2.9s\n"
     ]
    },
    {
     "name": "stderr",
     "output_type": "stream",
     "text": [
      "C:\\Users\\ben8h\\anaconda3\\Lib\\site-packages\\sklearn\\base.py:1474: DataConversionWarning: A column-vector y was passed when a 1d array was expected. Please change the shape of y to (n_samples,), for example using ravel().\n",
      "  return fit_method(estimator, *args, **kwargs)\n"
     ]
    },
    {
     "name": "stdout",
     "output_type": "stream",
     "text": [
      "[CV 10/10] END max_depth=5, min_samples_leaf=1, min_samples_split=5, n_estimators=200;, score=0.149 total time=   2.9s\n"
     ]
    },
    {
     "name": "stderr",
     "output_type": "stream",
     "text": [
      "C:\\Users\\ben8h\\anaconda3\\Lib\\site-packages\\sklearn\\base.py:1474: DataConversionWarning: A column-vector y was passed when a 1d array was expected. Please change the shape of y to (n_samples,), for example using ravel().\n",
      "  return fit_method(estimator, *args, **kwargs)\n"
     ]
    },
    {
     "name": "stdout",
     "output_type": "stream",
     "text": [
      "[CV 1/10] END max_depth=5, min_samples_leaf=1, min_samples_split=10, n_estimators=50;, score=0.121 total time=   0.6s\n"
     ]
    },
    {
     "name": "stderr",
     "output_type": "stream",
     "text": [
      "C:\\Users\\ben8h\\anaconda3\\Lib\\site-packages\\sklearn\\base.py:1474: DataConversionWarning: A column-vector y was passed when a 1d array was expected. Please change the shape of y to (n_samples,), for example using ravel().\n",
      "  return fit_method(estimator, *args, **kwargs)\n"
     ]
    },
    {
     "name": "stdout",
     "output_type": "stream",
     "text": [
      "[CV 2/10] END max_depth=5, min_samples_leaf=1, min_samples_split=10, n_estimators=50;, score=0.138 total time=   0.6s\n"
     ]
    },
    {
     "name": "stderr",
     "output_type": "stream",
     "text": [
      "C:\\Users\\ben8h\\anaconda3\\Lib\\site-packages\\sklearn\\base.py:1474: DataConversionWarning: A column-vector y was passed when a 1d array was expected. Please change the shape of y to (n_samples,), for example using ravel().\n",
      "  return fit_method(estimator, *args, **kwargs)\n"
     ]
    },
    {
     "name": "stdout",
     "output_type": "stream",
     "text": [
      "[CV 3/10] END max_depth=5, min_samples_leaf=1, min_samples_split=10, n_estimators=50;, score=0.194 total time=   0.6s\n"
     ]
    },
    {
     "name": "stderr",
     "output_type": "stream",
     "text": [
      "C:\\Users\\ben8h\\anaconda3\\Lib\\site-packages\\sklearn\\base.py:1474: DataConversionWarning: A column-vector y was passed when a 1d array was expected. Please change the shape of y to (n_samples,), for example using ravel().\n",
      "  return fit_method(estimator, *args, **kwargs)\n"
     ]
    },
    {
     "name": "stdout",
     "output_type": "stream",
     "text": [
      "[CV 4/10] END max_depth=5, min_samples_leaf=1, min_samples_split=10, n_estimators=50;, score=0.120 total time=   0.7s\n"
     ]
    },
    {
     "name": "stderr",
     "output_type": "stream",
     "text": [
      "C:\\Users\\ben8h\\anaconda3\\Lib\\site-packages\\sklearn\\base.py:1474: DataConversionWarning: A column-vector y was passed when a 1d array was expected. Please change the shape of y to (n_samples,), for example using ravel().\n",
      "  return fit_method(estimator, *args, **kwargs)\n"
     ]
    },
    {
     "name": "stdout",
     "output_type": "stream",
     "text": [
      "[CV 5/10] END max_depth=5, min_samples_leaf=1, min_samples_split=10, n_estimators=50;, score=0.166 total time=   0.6s\n"
     ]
    },
    {
     "name": "stderr",
     "output_type": "stream",
     "text": [
      "C:\\Users\\ben8h\\anaconda3\\Lib\\site-packages\\sklearn\\base.py:1474: DataConversionWarning: A column-vector y was passed when a 1d array was expected. Please change the shape of y to (n_samples,), for example using ravel().\n",
      "  return fit_method(estimator, *args, **kwargs)\n"
     ]
    },
    {
     "name": "stdout",
     "output_type": "stream",
     "text": [
      "[CV 6/10] END max_depth=5, min_samples_leaf=1, min_samples_split=10, n_estimators=50;, score=0.115 total time=   0.6s\n"
     ]
    },
    {
     "name": "stderr",
     "output_type": "stream",
     "text": [
      "C:\\Users\\ben8h\\anaconda3\\Lib\\site-packages\\sklearn\\base.py:1474: DataConversionWarning: A column-vector y was passed when a 1d array was expected. Please change the shape of y to (n_samples,), for example using ravel().\n",
      "  return fit_method(estimator, *args, **kwargs)\n"
     ]
    },
    {
     "name": "stdout",
     "output_type": "stream",
     "text": [
      "[CV 7/10] END max_depth=5, min_samples_leaf=1, min_samples_split=10, n_estimators=50;, score=0.146 total time=   0.6s\n"
     ]
    },
    {
     "name": "stderr",
     "output_type": "stream",
     "text": [
      "C:\\Users\\ben8h\\anaconda3\\Lib\\site-packages\\sklearn\\base.py:1474: DataConversionWarning: A column-vector y was passed when a 1d array was expected. Please change the shape of y to (n_samples,), for example using ravel().\n",
      "  return fit_method(estimator, *args, **kwargs)\n"
     ]
    },
    {
     "name": "stdout",
     "output_type": "stream",
     "text": [
      "[CV 8/10] END max_depth=5, min_samples_leaf=1, min_samples_split=10, n_estimators=50;, score=0.133 total time=   0.7s\n"
     ]
    },
    {
     "name": "stderr",
     "output_type": "stream",
     "text": [
      "C:\\Users\\ben8h\\anaconda3\\Lib\\site-packages\\sklearn\\base.py:1474: DataConversionWarning: A column-vector y was passed when a 1d array was expected. Please change the shape of y to (n_samples,), for example using ravel().\n",
      "  return fit_method(estimator, *args, **kwargs)\n"
     ]
    },
    {
     "name": "stdout",
     "output_type": "stream",
     "text": [
      "[CV 9/10] END max_depth=5, min_samples_leaf=1, min_samples_split=10, n_estimators=50;, score=0.161 total time=   0.6s\n"
     ]
    },
    {
     "name": "stderr",
     "output_type": "stream",
     "text": [
      "C:\\Users\\ben8h\\anaconda3\\Lib\\site-packages\\sklearn\\base.py:1474: DataConversionWarning: A column-vector y was passed when a 1d array was expected. Please change the shape of y to (n_samples,), for example using ravel().\n",
      "  return fit_method(estimator, *args, **kwargs)\n"
     ]
    },
    {
     "name": "stdout",
     "output_type": "stream",
     "text": [
      "[CV 10/10] END max_depth=5, min_samples_leaf=1, min_samples_split=10, n_estimators=50;, score=0.147 total time=   0.7s\n"
     ]
    },
    {
     "name": "stderr",
     "output_type": "stream",
     "text": [
      "C:\\Users\\ben8h\\anaconda3\\Lib\\site-packages\\sklearn\\base.py:1474: DataConversionWarning: A column-vector y was passed when a 1d array was expected. Please change the shape of y to (n_samples,), for example using ravel().\n",
      "  return fit_method(estimator, *args, **kwargs)\n"
     ]
    },
    {
     "name": "stdout",
     "output_type": "stream",
     "text": [
      "[CV 1/10] END max_depth=5, min_samples_leaf=1, min_samples_split=10, n_estimators=100;, score=0.128 total time=   1.4s\n"
     ]
    },
    {
     "name": "stderr",
     "output_type": "stream",
     "text": [
      "C:\\Users\\ben8h\\anaconda3\\Lib\\site-packages\\sklearn\\base.py:1474: DataConversionWarning: A column-vector y was passed when a 1d array was expected. Please change the shape of y to (n_samples,), for example using ravel().\n",
      "  return fit_method(estimator, *args, **kwargs)\n"
     ]
    },
    {
     "name": "stdout",
     "output_type": "stream",
     "text": [
      "[CV 2/10] END max_depth=5, min_samples_leaf=1, min_samples_split=10, n_estimators=100;, score=0.145 total time=   1.4s\n"
     ]
    },
    {
     "name": "stderr",
     "output_type": "stream",
     "text": [
      "C:\\Users\\ben8h\\anaconda3\\Lib\\site-packages\\sklearn\\base.py:1474: DataConversionWarning: A column-vector y was passed when a 1d array was expected. Please change the shape of y to (n_samples,), for example using ravel().\n",
      "  return fit_method(estimator, *args, **kwargs)\n"
     ]
    },
    {
     "name": "stdout",
     "output_type": "stream",
     "text": [
      "[CV 3/10] END max_depth=5, min_samples_leaf=1, min_samples_split=10, n_estimators=100;, score=0.186 total time=   1.4s\n"
     ]
    },
    {
     "name": "stderr",
     "output_type": "stream",
     "text": [
      "C:\\Users\\ben8h\\anaconda3\\Lib\\site-packages\\sklearn\\base.py:1474: DataConversionWarning: A column-vector y was passed when a 1d array was expected. Please change the shape of y to (n_samples,), for example using ravel().\n",
      "  return fit_method(estimator, *args, **kwargs)\n"
     ]
    },
    {
     "name": "stdout",
     "output_type": "stream",
     "text": [
      "[CV 4/10] END max_depth=5, min_samples_leaf=1, min_samples_split=10, n_estimators=100;, score=0.131 total time=   1.4s\n"
     ]
    },
    {
     "name": "stderr",
     "output_type": "stream",
     "text": [
      "C:\\Users\\ben8h\\anaconda3\\Lib\\site-packages\\sklearn\\base.py:1474: DataConversionWarning: A column-vector y was passed when a 1d array was expected. Please change the shape of y to (n_samples,), for example using ravel().\n",
      "  return fit_method(estimator, *args, **kwargs)\n"
     ]
    },
    {
     "name": "stdout",
     "output_type": "stream",
     "text": [
      "[CV 5/10] END max_depth=5, min_samples_leaf=1, min_samples_split=10, n_estimators=100;, score=0.168 total time=   1.4s\n"
     ]
    },
    {
     "name": "stderr",
     "output_type": "stream",
     "text": [
      "C:\\Users\\ben8h\\anaconda3\\Lib\\site-packages\\sklearn\\base.py:1474: DataConversionWarning: A column-vector y was passed when a 1d array was expected. Please change the shape of y to (n_samples,), for example using ravel().\n",
      "  return fit_method(estimator, *args, **kwargs)\n"
     ]
    },
    {
     "name": "stdout",
     "output_type": "stream",
     "text": [
      "[CV 6/10] END max_depth=5, min_samples_leaf=1, min_samples_split=10, n_estimators=100;, score=0.116 total time=   1.4s\n"
     ]
    },
    {
     "name": "stderr",
     "output_type": "stream",
     "text": [
      "C:\\Users\\ben8h\\anaconda3\\Lib\\site-packages\\sklearn\\base.py:1474: DataConversionWarning: A column-vector y was passed when a 1d array was expected. Please change the shape of y to (n_samples,), for example using ravel().\n",
      "  return fit_method(estimator, *args, **kwargs)\n"
     ]
    },
    {
     "name": "stdout",
     "output_type": "stream",
     "text": [
      "[CV 7/10] END max_depth=5, min_samples_leaf=1, min_samples_split=10, n_estimators=100;, score=0.150 total time=   1.4s\n"
     ]
    },
    {
     "name": "stderr",
     "output_type": "stream",
     "text": [
      "C:\\Users\\ben8h\\anaconda3\\Lib\\site-packages\\sklearn\\base.py:1474: DataConversionWarning: A column-vector y was passed when a 1d array was expected. Please change the shape of y to (n_samples,), for example using ravel().\n",
      "  return fit_method(estimator, *args, **kwargs)\n"
     ]
    },
    {
     "name": "stdout",
     "output_type": "stream",
     "text": [
      "[CV 8/10] END max_depth=5, min_samples_leaf=1, min_samples_split=10, n_estimators=100;, score=0.140 total time=   1.4s\n"
     ]
    },
    {
     "name": "stderr",
     "output_type": "stream",
     "text": [
      "C:\\Users\\ben8h\\anaconda3\\Lib\\site-packages\\sklearn\\base.py:1474: DataConversionWarning: A column-vector y was passed when a 1d array was expected. Please change the shape of y to (n_samples,), for example using ravel().\n",
      "  return fit_method(estimator, *args, **kwargs)\n"
     ]
    },
    {
     "name": "stdout",
     "output_type": "stream",
     "text": [
      "[CV 9/10] END max_depth=5, min_samples_leaf=1, min_samples_split=10, n_estimators=100;, score=0.150 total time=   1.4s\n"
     ]
    },
    {
     "name": "stderr",
     "output_type": "stream",
     "text": [
      "C:\\Users\\ben8h\\anaconda3\\Lib\\site-packages\\sklearn\\base.py:1474: DataConversionWarning: A column-vector y was passed when a 1d array was expected. Please change the shape of y to (n_samples,), for example using ravel().\n",
      "  return fit_method(estimator, *args, **kwargs)\n"
     ]
    },
    {
     "name": "stdout",
     "output_type": "stream",
     "text": [
      "[CV 10/10] END max_depth=5, min_samples_leaf=1, min_samples_split=10, n_estimators=100;, score=0.149 total time=   1.4s\n"
     ]
    },
    {
     "name": "stderr",
     "output_type": "stream",
     "text": [
      "C:\\Users\\ben8h\\anaconda3\\Lib\\site-packages\\sklearn\\base.py:1474: DataConversionWarning: A column-vector y was passed when a 1d array was expected. Please change the shape of y to (n_samples,), for example using ravel().\n",
      "  return fit_method(estimator, *args, **kwargs)\n"
     ]
    },
    {
     "name": "stdout",
     "output_type": "stream",
     "text": [
      "[CV 1/10] END max_depth=5, min_samples_leaf=1, min_samples_split=10, n_estimators=200;, score=0.125 total time=   2.9s\n"
     ]
    },
    {
     "name": "stderr",
     "output_type": "stream",
     "text": [
      "C:\\Users\\ben8h\\anaconda3\\Lib\\site-packages\\sklearn\\base.py:1474: DataConversionWarning: A column-vector y was passed when a 1d array was expected. Please change the shape of y to (n_samples,), for example using ravel().\n",
      "  return fit_method(estimator, *args, **kwargs)\n"
     ]
    },
    {
     "name": "stdout",
     "output_type": "stream",
     "text": [
      "[CV 2/10] END max_depth=5, min_samples_leaf=1, min_samples_split=10, n_estimators=200;, score=0.144 total time=   2.9s\n"
     ]
    },
    {
     "name": "stderr",
     "output_type": "stream",
     "text": [
      "C:\\Users\\ben8h\\anaconda3\\Lib\\site-packages\\sklearn\\base.py:1474: DataConversionWarning: A column-vector y was passed when a 1d array was expected. Please change the shape of y to (n_samples,), for example using ravel().\n",
      "  return fit_method(estimator, *args, **kwargs)\n"
     ]
    },
    {
     "name": "stdout",
     "output_type": "stream",
     "text": [
      "[CV 3/10] END max_depth=5, min_samples_leaf=1, min_samples_split=10, n_estimators=200;, score=0.187 total time=   2.9s\n"
     ]
    },
    {
     "name": "stderr",
     "output_type": "stream",
     "text": [
      "C:\\Users\\ben8h\\anaconda3\\Lib\\site-packages\\sklearn\\base.py:1474: DataConversionWarning: A column-vector y was passed when a 1d array was expected. Please change the shape of y to (n_samples,), for example using ravel().\n",
      "  return fit_method(estimator, *args, **kwargs)\n"
     ]
    },
    {
     "name": "stdout",
     "output_type": "stream",
     "text": [
      "[CV 4/10] END max_depth=5, min_samples_leaf=1, min_samples_split=10, n_estimators=200;, score=0.128 total time=   2.9s\n"
     ]
    },
    {
     "name": "stderr",
     "output_type": "stream",
     "text": [
      "C:\\Users\\ben8h\\anaconda3\\Lib\\site-packages\\sklearn\\base.py:1474: DataConversionWarning: A column-vector y was passed when a 1d array was expected. Please change the shape of y to (n_samples,), for example using ravel().\n",
      "  return fit_method(estimator, *args, **kwargs)\n"
     ]
    },
    {
     "name": "stdout",
     "output_type": "stream",
     "text": [
      "[CV 5/10] END max_depth=5, min_samples_leaf=1, min_samples_split=10, n_estimators=200;, score=0.169 total time=   2.9s\n"
     ]
    },
    {
     "name": "stderr",
     "output_type": "stream",
     "text": [
      "C:\\Users\\ben8h\\anaconda3\\Lib\\site-packages\\sklearn\\base.py:1474: DataConversionWarning: A column-vector y was passed when a 1d array was expected. Please change the shape of y to (n_samples,), for example using ravel().\n",
      "  return fit_method(estimator, *args, **kwargs)\n"
     ]
    },
    {
     "name": "stdout",
     "output_type": "stream",
     "text": [
      "[CV 6/10] END max_depth=5, min_samples_leaf=1, min_samples_split=10, n_estimators=200;, score=0.115 total time=   2.9s\n"
     ]
    },
    {
     "name": "stderr",
     "output_type": "stream",
     "text": [
      "C:\\Users\\ben8h\\anaconda3\\Lib\\site-packages\\sklearn\\base.py:1474: DataConversionWarning: A column-vector y was passed when a 1d array was expected. Please change the shape of y to (n_samples,), for example using ravel().\n",
      "  return fit_method(estimator, *args, **kwargs)\n"
     ]
    },
    {
     "name": "stdout",
     "output_type": "stream",
     "text": [
      "[CV 7/10] END max_depth=5, min_samples_leaf=1, min_samples_split=10, n_estimators=200;, score=0.150 total time=   3.0s\n"
     ]
    },
    {
     "name": "stderr",
     "output_type": "stream",
     "text": [
      "C:\\Users\\ben8h\\anaconda3\\Lib\\site-packages\\sklearn\\base.py:1474: DataConversionWarning: A column-vector y was passed when a 1d array was expected. Please change the shape of y to (n_samples,), for example using ravel().\n",
      "  return fit_method(estimator, *args, **kwargs)\n"
     ]
    },
    {
     "name": "stdout",
     "output_type": "stream",
     "text": [
      "[CV 8/10] END max_depth=5, min_samples_leaf=1, min_samples_split=10, n_estimators=200;, score=0.133 total time=   3.0s\n"
     ]
    },
    {
     "name": "stderr",
     "output_type": "stream",
     "text": [
      "C:\\Users\\ben8h\\anaconda3\\Lib\\site-packages\\sklearn\\base.py:1474: DataConversionWarning: A column-vector y was passed when a 1d array was expected. Please change the shape of y to (n_samples,), for example using ravel().\n",
      "  return fit_method(estimator, *args, **kwargs)\n"
     ]
    },
    {
     "name": "stdout",
     "output_type": "stream",
     "text": [
      "[CV 9/10] END max_depth=5, min_samples_leaf=1, min_samples_split=10, n_estimators=200;, score=0.151 total time=   2.9s\n"
     ]
    },
    {
     "name": "stderr",
     "output_type": "stream",
     "text": [
      "C:\\Users\\ben8h\\anaconda3\\Lib\\site-packages\\sklearn\\base.py:1474: DataConversionWarning: A column-vector y was passed when a 1d array was expected. Please change the shape of y to (n_samples,), for example using ravel().\n",
      "  return fit_method(estimator, *args, **kwargs)\n"
     ]
    },
    {
     "name": "stdout",
     "output_type": "stream",
     "text": [
      "[CV 10/10] END max_depth=5, min_samples_leaf=1, min_samples_split=10, n_estimators=200;, score=0.151 total time=   2.9s\n"
     ]
    },
    {
     "name": "stderr",
     "output_type": "stream",
     "text": [
      "C:\\Users\\ben8h\\anaconda3\\Lib\\site-packages\\sklearn\\base.py:1474: DataConversionWarning: A column-vector y was passed when a 1d array was expected. Please change the shape of y to (n_samples,), for example using ravel().\n",
      "  return fit_method(estimator, *args, **kwargs)\n"
     ]
    },
    {
     "name": "stdout",
     "output_type": "stream",
     "text": [
      "[CV 1/10] END max_depth=5, min_samples_leaf=5, min_samples_split=2, n_estimators=50;, score=0.125 total time=   0.7s\n"
     ]
    },
    {
     "name": "stderr",
     "output_type": "stream",
     "text": [
      "C:\\Users\\ben8h\\anaconda3\\Lib\\site-packages\\sklearn\\base.py:1474: DataConversionWarning: A column-vector y was passed when a 1d array was expected. Please change the shape of y to (n_samples,), for example using ravel().\n",
      "  return fit_method(estimator, *args, **kwargs)\n"
     ]
    },
    {
     "name": "stdout",
     "output_type": "stream",
     "text": [
      "[CV 2/10] END max_depth=5, min_samples_leaf=5, min_samples_split=2, n_estimators=50;, score=0.153 total time=   0.7s\n"
     ]
    },
    {
     "name": "stderr",
     "output_type": "stream",
     "text": [
      "C:\\Users\\ben8h\\anaconda3\\Lib\\site-packages\\sklearn\\base.py:1474: DataConversionWarning: A column-vector y was passed when a 1d array was expected. Please change the shape of y to (n_samples,), for example using ravel().\n",
      "  return fit_method(estimator, *args, **kwargs)\n"
     ]
    },
    {
     "name": "stdout",
     "output_type": "stream",
     "text": [
      "[CV 3/10] END max_depth=5, min_samples_leaf=5, min_samples_split=2, n_estimators=50;, score=0.191 total time=   0.7s\n"
     ]
    },
    {
     "name": "stderr",
     "output_type": "stream",
     "text": [
      "C:\\Users\\ben8h\\anaconda3\\Lib\\site-packages\\sklearn\\base.py:1474: DataConversionWarning: A column-vector y was passed when a 1d array was expected. Please change the shape of y to (n_samples,), for example using ravel().\n",
      "  return fit_method(estimator, *args, **kwargs)\n"
     ]
    },
    {
     "name": "stdout",
     "output_type": "stream",
     "text": [
      "[CV 4/10] END max_depth=5, min_samples_leaf=5, min_samples_split=2, n_estimators=50;, score=0.129 total time=   0.7s\n"
     ]
    },
    {
     "name": "stderr",
     "output_type": "stream",
     "text": [
      "C:\\Users\\ben8h\\anaconda3\\Lib\\site-packages\\sklearn\\base.py:1474: DataConversionWarning: A column-vector y was passed when a 1d array was expected. Please change the shape of y to (n_samples,), for example using ravel().\n",
      "  return fit_method(estimator, *args, **kwargs)\n"
     ]
    },
    {
     "name": "stdout",
     "output_type": "stream",
     "text": [
      "[CV 5/10] END max_depth=5, min_samples_leaf=5, min_samples_split=2, n_estimators=50;, score=0.172 total time=   0.7s\n"
     ]
    },
    {
     "name": "stderr",
     "output_type": "stream",
     "text": [
      "C:\\Users\\ben8h\\anaconda3\\Lib\\site-packages\\sklearn\\base.py:1474: DataConversionWarning: A column-vector y was passed when a 1d array was expected. Please change the shape of y to (n_samples,), for example using ravel().\n",
      "  return fit_method(estimator, *args, **kwargs)\n"
     ]
    },
    {
     "name": "stdout",
     "output_type": "stream",
     "text": [
      "[CV 6/10] END max_depth=5, min_samples_leaf=5, min_samples_split=2, n_estimators=50;, score=0.120 total time=   0.7s\n"
     ]
    },
    {
     "name": "stderr",
     "output_type": "stream",
     "text": [
      "C:\\Users\\ben8h\\anaconda3\\Lib\\site-packages\\sklearn\\base.py:1474: DataConversionWarning: A column-vector y was passed when a 1d array was expected. Please change the shape of y to (n_samples,), for example using ravel().\n",
      "  return fit_method(estimator, *args, **kwargs)\n"
     ]
    },
    {
     "name": "stdout",
     "output_type": "stream",
     "text": [
      "[CV 7/10] END max_depth=5, min_samples_leaf=5, min_samples_split=2, n_estimators=50;, score=0.145 total time=   0.7s\n"
     ]
    },
    {
     "name": "stderr",
     "output_type": "stream",
     "text": [
      "C:\\Users\\ben8h\\anaconda3\\Lib\\site-packages\\sklearn\\base.py:1474: DataConversionWarning: A column-vector y was passed when a 1d array was expected. Please change the shape of y to (n_samples,), for example using ravel().\n",
      "  return fit_method(estimator, *args, **kwargs)\n"
     ]
    },
    {
     "name": "stdout",
     "output_type": "stream",
     "text": [
      "[CV 8/10] END max_depth=5, min_samples_leaf=5, min_samples_split=2, n_estimators=50;, score=0.144 total time=   0.7s\n"
     ]
    },
    {
     "name": "stderr",
     "output_type": "stream",
     "text": [
      "C:\\Users\\ben8h\\anaconda3\\Lib\\site-packages\\sklearn\\base.py:1474: DataConversionWarning: A column-vector y was passed when a 1d array was expected. Please change the shape of y to (n_samples,), for example using ravel().\n",
      "  return fit_method(estimator, *args, **kwargs)\n"
     ]
    },
    {
     "name": "stdout",
     "output_type": "stream",
     "text": [
      "[CV 9/10] END max_depth=5, min_samples_leaf=5, min_samples_split=2, n_estimators=50;, score=0.146 total time=   0.7s\n"
     ]
    },
    {
     "name": "stderr",
     "output_type": "stream",
     "text": [
      "C:\\Users\\ben8h\\anaconda3\\Lib\\site-packages\\sklearn\\base.py:1474: DataConversionWarning: A column-vector y was passed when a 1d array was expected. Please change the shape of y to (n_samples,), for example using ravel().\n",
      "  return fit_method(estimator, *args, **kwargs)\n"
     ]
    },
    {
     "name": "stdout",
     "output_type": "stream",
     "text": [
      "[CV 10/10] END max_depth=5, min_samples_leaf=5, min_samples_split=2, n_estimators=50;, score=0.150 total time=   0.7s\n"
     ]
    },
    {
     "name": "stderr",
     "output_type": "stream",
     "text": [
      "C:\\Users\\ben8h\\anaconda3\\Lib\\site-packages\\sklearn\\base.py:1474: DataConversionWarning: A column-vector y was passed when a 1d array was expected. Please change the shape of y to (n_samples,), for example using ravel().\n",
      "  return fit_method(estimator, *args, **kwargs)\n"
     ]
    },
    {
     "name": "stdout",
     "output_type": "stream",
     "text": [
      "[CV 1/10] END max_depth=5, min_samples_leaf=5, min_samples_split=2, n_estimators=100;, score=0.128 total time=   1.4s\n"
     ]
    },
    {
     "name": "stderr",
     "output_type": "stream",
     "text": [
      "C:\\Users\\ben8h\\anaconda3\\Lib\\site-packages\\sklearn\\base.py:1474: DataConversionWarning: A column-vector y was passed when a 1d array was expected. Please change the shape of y to (n_samples,), for example using ravel().\n",
      "  return fit_method(estimator, *args, **kwargs)\n"
     ]
    },
    {
     "name": "stdout",
     "output_type": "stream",
     "text": [
      "[CV 2/10] END max_depth=5, min_samples_leaf=5, min_samples_split=2, n_estimators=100;, score=0.152 total time=   1.4s\n"
     ]
    },
    {
     "name": "stderr",
     "output_type": "stream",
     "text": [
      "C:\\Users\\ben8h\\anaconda3\\Lib\\site-packages\\sklearn\\base.py:1474: DataConversionWarning: A column-vector y was passed when a 1d array was expected. Please change the shape of y to (n_samples,), for example using ravel().\n",
      "  return fit_method(estimator, *args, **kwargs)\n"
     ]
    },
    {
     "name": "stdout",
     "output_type": "stream",
     "text": [
      "[CV 3/10] END max_depth=5, min_samples_leaf=5, min_samples_split=2, n_estimators=100;, score=0.192 total time=   1.4s\n"
     ]
    },
    {
     "name": "stderr",
     "output_type": "stream",
     "text": [
      "C:\\Users\\ben8h\\anaconda3\\Lib\\site-packages\\sklearn\\base.py:1474: DataConversionWarning: A column-vector y was passed when a 1d array was expected. Please change the shape of y to (n_samples,), for example using ravel().\n",
      "  return fit_method(estimator, *args, **kwargs)\n"
     ]
    },
    {
     "name": "stdout",
     "output_type": "stream",
     "text": [
      "[CV 4/10] END max_depth=5, min_samples_leaf=5, min_samples_split=2, n_estimators=100;, score=0.131 total time=   1.4s\n"
     ]
    },
    {
     "name": "stderr",
     "output_type": "stream",
     "text": [
      "C:\\Users\\ben8h\\anaconda3\\Lib\\site-packages\\sklearn\\base.py:1474: DataConversionWarning: A column-vector y was passed when a 1d array was expected. Please change the shape of y to (n_samples,), for example using ravel().\n",
      "  return fit_method(estimator, *args, **kwargs)\n"
     ]
    },
    {
     "name": "stdout",
     "output_type": "stream",
     "text": [
      "[CV 5/10] END max_depth=5, min_samples_leaf=5, min_samples_split=2, n_estimators=100;, score=0.174 total time=   1.4s\n"
     ]
    },
    {
     "name": "stderr",
     "output_type": "stream",
     "text": [
      "C:\\Users\\ben8h\\anaconda3\\Lib\\site-packages\\sklearn\\base.py:1474: DataConversionWarning: A column-vector y was passed when a 1d array was expected. Please change the shape of y to (n_samples,), for example using ravel().\n",
      "  return fit_method(estimator, *args, **kwargs)\n"
     ]
    },
    {
     "name": "stdout",
     "output_type": "stream",
     "text": [
      "[CV 6/10] END max_depth=5, min_samples_leaf=5, min_samples_split=2, n_estimators=100;, score=0.119 total time=   1.4s\n"
     ]
    },
    {
     "name": "stderr",
     "output_type": "stream",
     "text": [
      "C:\\Users\\ben8h\\anaconda3\\Lib\\site-packages\\sklearn\\base.py:1474: DataConversionWarning: A column-vector y was passed when a 1d array was expected. Please change the shape of y to (n_samples,), for example using ravel().\n",
      "  return fit_method(estimator, *args, **kwargs)\n"
     ]
    },
    {
     "name": "stdout",
     "output_type": "stream",
     "text": [
      "[CV 7/10] END max_depth=5, min_samples_leaf=5, min_samples_split=2, n_estimators=100;, score=0.153 total time=   1.4s\n"
     ]
    },
    {
     "name": "stderr",
     "output_type": "stream",
     "text": [
      "C:\\Users\\ben8h\\anaconda3\\Lib\\site-packages\\sklearn\\base.py:1474: DataConversionWarning: A column-vector y was passed when a 1d array was expected. Please change the shape of y to (n_samples,), for example using ravel().\n",
      "  return fit_method(estimator, *args, **kwargs)\n"
     ]
    },
    {
     "name": "stdout",
     "output_type": "stream",
     "text": [
      "[CV 8/10] END max_depth=5, min_samples_leaf=5, min_samples_split=2, n_estimators=100;, score=0.137 total time=   1.4s\n"
     ]
    },
    {
     "name": "stderr",
     "output_type": "stream",
     "text": [
      "C:\\Users\\ben8h\\anaconda3\\Lib\\site-packages\\sklearn\\base.py:1474: DataConversionWarning: A column-vector y was passed when a 1d array was expected. Please change the shape of y to (n_samples,), for example using ravel().\n",
      "  return fit_method(estimator, *args, **kwargs)\n"
     ]
    },
    {
     "name": "stdout",
     "output_type": "stream",
     "text": [
      "[CV 9/10] END max_depth=5, min_samples_leaf=5, min_samples_split=2, n_estimators=100;, score=0.152 total time=   1.4s\n"
     ]
    },
    {
     "name": "stderr",
     "output_type": "stream",
     "text": [
      "C:\\Users\\ben8h\\anaconda3\\Lib\\site-packages\\sklearn\\base.py:1474: DataConversionWarning: A column-vector y was passed when a 1d array was expected. Please change the shape of y to (n_samples,), for example using ravel().\n",
      "  return fit_method(estimator, *args, **kwargs)\n"
     ]
    },
    {
     "name": "stdout",
     "output_type": "stream",
     "text": [
      "[CV 10/10] END max_depth=5, min_samples_leaf=5, min_samples_split=2, n_estimators=100;, score=0.152 total time=   1.5s\n"
     ]
    },
    {
     "name": "stderr",
     "output_type": "stream",
     "text": [
      "C:\\Users\\ben8h\\anaconda3\\Lib\\site-packages\\sklearn\\base.py:1474: DataConversionWarning: A column-vector y was passed when a 1d array was expected. Please change the shape of y to (n_samples,), for example using ravel().\n",
      "  return fit_method(estimator, *args, **kwargs)\n"
     ]
    },
    {
     "name": "stdout",
     "output_type": "stream",
     "text": [
      "[CV 1/10] END max_depth=5, min_samples_leaf=5, min_samples_split=2, n_estimators=200;, score=0.129 total time=   3.0s\n"
     ]
    },
    {
     "name": "stderr",
     "output_type": "stream",
     "text": [
      "C:\\Users\\ben8h\\anaconda3\\Lib\\site-packages\\sklearn\\base.py:1474: DataConversionWarning: A column-vector y was passed when a 1d array was expected. Please change the shape of y to (n_samples,), for example using ravel().\n",
      "  return fit_method(estimator, *args, **kwargs)\n"
     ]
    },
    {
     "name": "stdout",
     "output_type": "stream",
     "text": [
      "[CV 2/10] END max_depth=5, min_samples_leaf=5, min_samples_split=2, n_estimators=200;, score=0.151 total time=   2.9s\n"
     ]
    },
    {
     "name": "stderr",
     "output_type": "stream",
     "text": [
      "C:\\Users\\ben8h\\anaconda3\\Lib\\site-packages\\sklearn\\base.py:1474: DataConversionWarning: A column-vector y was passed when a 1d array was expected. Please change the shape of y to (n_samples,), for example using ravel().\n",
      "  return fit_method(estimator, *args, **kwargs)\n"
     ]
    },
    {
     "name": "stdout",
     "output_type": "stream",
     "text": [
      "[CV 3/10] END max_depth=5, min_samples_leaf=5, min_samples_split=2, n_estimators=200;, score=0.193 total time=   3.0s\n"
     ]
    },
    {
     "name": "stderr",
     "output_type": "stream",
     "text": [
      "C:\\Users\\ben8h\\anaconda3\\Lib\\site-packages\\sklearn\\base.py:1474: DataConversionWarning: A column-vector y was passed when a 1d array was expected. Please change the shape of y to (n_samples,), for example using ravel().\n",
      "  return fit_method(estimator, *args, **kwargs)\n"
     ]
    },
    {
     "name": "stdout",
     "output_type": "stream",
     "text": [
      "[CV 4/10] END max_depth=5, min_samples_leaf=5, min_samples_split=2, n_estimators=200;, score=0.131 total time=   2.9s\n"
     ]
    },
    {
     "name": "stderr",
     "output_type": "stream",
     "text": [
      "C:\\Users\\ben8h\\anaconda3\\Lib\\site-packages\\sklearn\\base.py:1474: DataConversionWarning: A column-vector y was passed when a 1d array was expected. Please change the shape of y to (n_samples,), for example using ravel().\n",
      "  return fit_method(estimator, *args, **kwargs)\n"
     ]
    },
    {
     "name": "stdout",
     "output_type": "stream",
     "text": [
      "[CV 5/10] END max_depth=5, min_samples_leaf=5, min_samples_split=2, n_estimators=200;, score=0.174 total time=   2.9s\n"
     ]
    },
    {
     "name": "stderr",
     "output_type": "stream",
     "text": [
      "C:\\Users\\ben8h\\anaconda3\\Lib\\site-packages\\sklearn\\base.py:1474: DataConversionWarning: A column-vector y was passed when a 1d array was expected. Please change the shape of y to (n_samples,), for example using ravel().\n",
      "  return fit_method(estimator, *args, **kwargs)\n"
     ]
    },
    {
     "name": "stdout",
     "output_type": "stream",
     "text": [
      "[CV 6/10] END max_depth=5, min_samples_leaf=5, min_samples_split=2, n_estimators=200;, score=0.122 total time=   2.9s\n"
     ]
    },
    {
     "name": "stderr",
     "output_type": "stream",
     "text": [
      "C:\\Users\\ben8h\\anaconda3\\Lib\\site-packages\\sklearn\\base.py:1474: DataConversionWarning: A column-vector y was passed when a 1d array was expected. Please change the shape of y to (n_samples,), for example using ravel().\n",
      "  return fit_method(estimator, *args, **kwargs)\n"
     ]
    },
    {
     "name": "stdout",
     "output_type": "stream",
     "text": [
      "[CV 7/10] END max_depth=5, min_samples_leaf=5, min_samples_split=2, n_estimators=200;, score=0.153 total time=   2.9s\n"
     ]
    },
    {
     "name": "stderr",
     "output_type": "stream",
     "text": [
      "C:\\Users\\ben8h\\anaconda3\\Lib\\site-packages\\sklearn\\base.py:1474: DataConversionWarning: A column-vector y was passed when a 1d array was expected. Please change the shape of y to (n_samples,), for example using ravel().\n",
      "  return fit_method(estimator, *args, **kwargs)\n"
     ]
    },
    {
     "name": "stdout",
     "output_type": "stream",
     "text": [
      "[CV 8/10] END max_depth=5, min_samples_leaf=5, min_samples_split=2, n_estimators=200;, score=0.137 total time=   2.8s\n"
     ]
    },
    {
     "name": "stderr",
     "output_type": "stream",
     "text": [
      "C:\\Users\\ben8h\\anaconda3\\Lib\\site-packages\\sklearn\\base.py:1474: DataConversionWarning: A column-vector y was passed when a 1d array was expected. Please change the shape of y to (n_samples,), for example using ravel().\n",
      "  return fit_method(estimator, *args, **kwargs)\n"
     ]
    },
    {
     "name": "stdout",
     "output_type": "stream",
     "text": [
      "[CV 9/10] END max_depth=5, min_samples_leaf=5, min_samples_split=2, n_estimators=200;, score=0.151 total time=   2.9s\n"
     ]
    },
    {
     "name": "stderr",
     "output_type": "stream",
     "text": [
      "C:\\Users\\ben8h\\anaconda3\\Lib\\site-packages\\sklearn\\base.py:1474: DataConversionWarning: A column-vector y was passed when a 1d array was expected. Please change the shape of y to (n_samples,), for example using ravel().\n",
      "  return fit_method(estimator, *args, **kwargs)\n"
     ]
    },
    {
     "name": "stdout",
     "output_type": "stream",
     "text": [
      "[CV 10/10] END max_depth=5, min_samples_leaf=5, min_samples_split=2, n_estimators=200;, score=0.153 total time=   2.9s\n"
     ]
    },
    {
     "name": "stderr",
     "output_type": "stream",
     "text": [
      "C:\\Users\\ben8h\\anaconda3\\Lib\\site-packages\\sklearn\\base.py:1474: DataConversionWarning: A column-vector y was passed when a 1d array was expected. Please change the shape of y to (n_samples,), for example using ravel().\n",
      "  return fit_method(estimator, *args, **kwargs)\n"
     ]
    },
    {
     "name": "stdout",
     "output_type": "stream",
     "text": [
      "[CV 1/10] END max_depth=5, min_samples_leaf=5, min_samples_split=5, n_estimators=50;, score=0.128 total time=   0.7s\n"
     ]
    },
    {
     "name": "stderr",
     "output_type": "stream",
     "text": [
      "C:\\Users\\ben8h\\anaconda3\\Lib\\site-packages\\sklearn\\base.py:1474: DataConversionWarning: A column-vector y was passed when a 1d array was expected. Please change the shape of y to (n_samples,), for example using ravel().\n",
      "  return fit_method(estimator, *args, **kwargs)\n"
     ]
    },
    {
     "name": "stdout",
     "output_type": "stream",
     "text": [
      "[CV 2/10] END max_depth=5, min_samples_leaf=5, min_samples_split=5, n_estimators=50;, score=0.149 total time=   0.7s\n"
     ]
    },
    {
     "name": "stderr",
     "output_type": "stream",
     "text": [
      "C:\\Users\\ben8h\\anaconda3\\Lib\\site-packages\\sklearn\\base.py:1474: DataConversionWarning: A column-vector y was passed when a 1d array was expected. Please change the shape of y to (n_samples,), for example using ravel().\n",
      "  return fit_method(estimator, *args, **kwargs)\n"
     ]
    },
    {
     "name": "stdout",
     "output_type": "stream",
     "text": [
      "[CV 3/10] END max_depth=5, min_samples_leaf=5, min_samples_split=5, n_estimators=50;, score=0.191 total time=   0.7s\n"
     ]
    },
    {
     "name": "stderr",
     "output_type": "stream",
     "text": [
      "C:\\Users\\ben8h\\anaconda3\\Lib\\site-packages\\sklearn\\base.py:1474: DataConversionWarning: A column-vector y was passed when a 1d array was expected. Please change the shape of y to (n_samples,), for example using ravel().\n",
      "  return fit_method(estimator, *args, **kwargs)\n"
     ]
    },
    {
     "name": "stdout",
     "output_type": "stream",
     "text": [
      "[CV 4/10] END max_depth=5, min_samples_leaf=5, min_samples_split=5, n_estimators=50;, score=0.133 total time=   0.7s\n"
     ]
    },
    {
     "name": "stderr",
     "output_type": "stream",
     "text": [
      "C:\\Users\\ben8h\\anaconda3\\Lib\\site-packages\\sklearn\\base.py:1474: DataConversionWarning: A column-vector y was passed when a 1d array was expected. Please change the shape of y to (n_samples,), for example using ravel().\n",
      "  return fit_method(estimator, *args, **kwargs)\n"
     ]
    },
    {
     "name": "stdout",
     "output_type": "stream",
     "text": [
      "[CV 5/10] END max_depth=5, min_samples_leaf=5, min_samples_split=5, n_estimators=50;, score=0.168 total time=   0.7s\n"
     ]
    },
    {
     "name": "stderr",
     "output_type": "stream",
     "text": [
      "C:\\Users\\ben8h\\anaconda3\\Lib\\site-packages\\sklearn\\base.py:1474: DataConversionWarning: A column-vector y was passed when a 1d array was expected. Please change the shape of y to (n_samples,), for example using ravel().\n",
      "  return fit_method(estimator, *args, **kwargs)\n"
     ]
    },
    {
     "name": "stdout",
     "output_type": "stream",
     "text": [
      "[CV 6/10] END max_depth=5, min_samples_leaf=5, min_samples_split=5, n_estimators=50;, score=0.122 total time=   0.6s\n"
     ]
    },
    {
     "name": "stderr",
     "output_type": "stream",
     "text": [
      "C:\\Users\\ben8h\\anaconda3\\Lib\\site-packages\\sklearn\\base.py:1474: DataConversionWarning: A column-vector y was passed when a 1d array was expected. Please change the shape of y to (n_samples,), for example using ravel().\n",
      "  return fit_method(estimator, *args, **kwargs)\n"
     ]
    },
    {
     "name": "stdout",
     "output_type": "stream",
     "text": [
      "[CV 7/10] END max_depth=5, min_samples_leaf=5, min_samples_split=5, n_estimators=50;, score=0.148 total time=   0.6s\n"
     ]
    },
    {
     "name": "stderr",
     "output_type": "stream",
     "text": [
      "C:\\Users\\ben8h\\anaconda3\\Lib\\site-packages\\sklearn\\base.py:1474: DataConversionWarning: A column-vector y was passed when a 1d array was expected. Please change the shape of y to (n_samples,), for example using ravel().\n",
      "  return fit_method(estimator, *args, **kwargs)\n"
     ]
    },
    {
     "name": "stdout",
     "output_type": "stream",
     "text": [
      "[CV 8/10] END max_depth=5, min_samples_leaf=5, min_samples_split=5, n_estimators=50;, score=0.134 total time=   0.6s\n"
     ]
    },
    {
     "name": "stderr",
     "output_type": "stream",
     "text": [
      "C:\\Users\\ben8h\\anaconda3\\Lib\\site-packages\\sklearn\\base.py:1474: DataConversionWarning: A column-vector y was passed when a 1d array was expected. Please change the shape of y to (n_samples,), for example using ravel().\n",
      "  return fit_method(estimator, *args, **kwargs)\n"
     ]
    },
    {
     "name": "stdout",
     "output_type": "stream",
     "text": [
      "[CV 9/10] END max_depth=5, min_samples_leaf=5, min_samples_split=5, n_estimators=50;, score=0.149 total time=   0.6s\n"
     ]
    },
    {
     "name": "stderr",
     "output_type": "stream",
     "text": [
      "C:\\Users\\ben8h\\anaconda3\\Lib\\site-packages\\sklearn\\base.py:1474: DataConversionWarning: A column-vector y was passed when a 1d array was expected. Please change the shape of y to (n_samples,), for example using ravel().\n",
      "  return fit_method(estimator, *args, **kwargs)\n"
     ]
    },
    {
     "name": "stdout",
     "output_type": "stream",
     "text": [
      "[CV 10/10] END max_depth=5, min_samples_leaf=5, min_samples_split=5, n_estimators=50;, score=0.160 total time=   0.7s\n"
     ]
    },
    {
     "name": "stderr",
     "output_type": "stream",
     "text": [
      "C:\\Users\\ben8h\\anaconda3\\Lib\\site-packages\\sklearn\\base.py:1474: DataConversionWarning: A column-vector y was passed when a 1d array was expected. Please change the shape of y to (n_samples,), for example using ravel().\n",
      "  return fit_method(estimator, *args, **kwargs)\n"
     ]
    },
    {
     "name": "stdout",
     "output_type": "stream",
     "text": [
      "[CV 1/10] END max_depth=5, min_samples_leaf=5, min_samples_split=5, n_estimators=100;, score=0.128 total time=   1.4s\n"
     ]
    },
    {
     "name": "stderr",
     "output_type": "stream",
     "text": [
      "C:\\Users\\ben8h\\anaconda3\\Lib\\site-packages\\sklearn\\base.py:1474: DataConversionWarning: A column-vector y was passed when a 1d array was expected. Please change the shape of y to (n_samples,), for example using ravel().\n",
      "  return fit_method(estimator, *args, **kwargs)\n"
     ]
    },
    {
     "name": "stdout",
     "output_type": "stream",
     "text": [
      "[CV 2/10] END max_depth=5, min_samples_leaf=5, min_samples_split=5, n_estimators=100;, score=0.148 total time=   1.4s\n"
     ]
    },
    {
     "name": "stderr",
     "output_type": "stream",
     "text": [
      "C:\\Users\\ben8h\\anaconda3\\Lib\\site-packages\\sklearn\\base.py:1474: DataConversionWarning: A column-vector y was passed when a 1d array was expected. Please change the shape of y to (n_samples,), for example using ravel().\n",
      "  return fit_method(estimator, *args, **kwargs)\n"
     ]
    },
    {
     "name": "stdout",
     "output_type": "stream",
     "text": [
      "[CV 3/10] END max_depth=5, min_samples_leaf=5, min_samples_split=5, n_estimators=100;, score=0.190 total time=   1.4s\n"
     ]
    },
    {
     "name": "stderr",
     "output_type": "stream",
     "text": [
      "C:\\Users\\ben8h\\anaconda3\\Lib\\site-packages\\sklearn\\base.py:1474: DataConversionWarning: A column-vector y was passed when a 1d array was expected. Please change the shape of y to (n_samples,), for example using ravel().\n",
      "  return fit_method(estimator, *args, **kwargs)\n"
     ]
    },
    {
     "name": "stdout",
     "output_type": "stream",
     "text": [
      "[CV 4/10] END max_depth=5, min_samples_leaf=5, min_samples_split=5, n_estimators=100;, score=0.133 total time=   1.4s\n"
     ]
    },
    {
     "name": "stderr",
     "output_type": "stream",
     "text": [
      "C:\\Users\\ben8h\\anaconda3\\Lib\\site-packages\\sklearn\\base.py:1474: DataConversionWarning: A column-vector y was passed when a 1d array was expected. Please change the shape of y to (n_samples,), for example using ravel().\n",
      "  return fit_method(estimator, *args, **kwargs)\n"
     ]
    },
    {
     "name": "stdout",
     "output_type": "stream",
     "text": [
      "[CV 5/10] END max_depth=5, min_samples_leaf=5, min_samples_split=5, n_estimators=100;, score=0.175 total time=   1.4s\n"
     ]
    },
    {
     "name": "stderr",
     "output_type": "stream",
     "text": [
      "C:\\Users\\ben8h\\anaconda3\\Lib\\site-packages\\sklearn\\base.py:1474: DataConversionWarning: A column-vector y was passed when a 1d array was expected. Please change the shape of y to (n_samples,), for example using ravel().\n",
      "  return fit_method(estimator, *args, **kwargs)\n"
     ]
    },
    {
     "name": "stdout",
     "output_type": "stream",
     "text": [
      "[CV 6/10] END max_depth=5, min_samples_leaf=5, min_samples_split=5, n_estimators=100;, score=0.124 total time=   1.4s\n"
     ]
    },
    {
     "name": "stderr",
     "output_type": "stream",
     "text": [
      "C:\\Users\\ben8h\\anaconda3\\Lib\\site-packages\\sklearn\\base.py:1474: DataConversionWarning: A column-vector y was passed when a 1d array was expected. Please change the shape of y to (n_samples,), for example using ravel().\n",
      "  return fit_method(estimator, *args, **kwargs)\n"
     ]
    },
    {
     "name": "stdout",
     "output_type": "stream",
     "text": [
      "[CV 7/10] END max_depth=5, min_samples_leaf=5, min_samples_split=5, n_estimators=100;, score=0.148 total time=   1.4s\n"
     ]
    },
    {
     "name": "stderr",
     "output_type": "stream",
     "text": [
      "C:\\Users\\ben8h\\anaconda3\\Lib\\site-packages\\sklearn\\base.py:1474: DataConversionWarning: A column-vector y was passed when a 1d array was expected. Please change the shape of y to (n_samples,), for example using ravel().\n",
      "  return fit_method(estimator, *args, **kwargs)\n"
     ]
    },
    {
     "name": "stdout",
     "output_type": "stream",
     "text": [
      "[CV 8/10] END max_depth=5, min_samples_leaf=5, min_samples_split=5, n_estimators=100;, score=0.137 total time=   1.4s\n"
     ]
    },
    {
     "name": "stderr",
     "output_type": "stream",
     "text": [
      "C:\\Users\\ben8h\\anaconda3\\Lib\\site-packages\\sklearn\\base.py:1474: DataConversionWarning: A column-vector y was passed when a 1d array was expected. Please change the shape of y to (n_samples,), for example using ravel().\n",
      "  return fit_method(estimator, *args, **kwargs)\n"
     ]
    },
    {
     "name": "stdout",
     "output_type": "stream",
     "text": [
      "[CV 9/10] END max_depth=5, min_samples_leaf=5, min_samples_split=5, n_estimators=100;, score=0.153 total time=   1.4s\n"
     ]
    },
    {
     "name": "stderr",
     "output_type": "stream",
     "text": [
      "C:\\Users\\ben8h\\anaconda3\\Lib\\site-packages\\sklearn\\base.py:1474: DataConversionWarning: A column-vector y was passed when a 1d array was expected. Please change the shape of y to (n_samples,), for example using ravel().\n",
      "  return fit_method(estimator, *args, **kwargs)\n"
     ]
    },
    {
     "name": "stdout",
     "output_type": "stream",
     "text": [
      "[CV 10/10] END max_depth=5, min_samples_leaf=5, min_samples_split=5, n_estimators=100;, score=0.152 total time=   1.4s\n"
     ]
    },
    {
     "name": "stderr",
     "output_type": "stream",
     "text": [
      "C:\\Users\\ben8h\\anaconda3\\Lib\\site-packages\\sklearn\\base.py:1474: DataConversionWarning: A column-vector y was passed when a 1d array was expected. Please change the shape of y to (n_samples,), for example using ravel().\n",
      "  return fit_method(estimator, *args, **kwargs)\n"
     ]
    },
    {
     "name": "stdout",
     "output_type": "stream",
     "text": [
      "[CV 1/10] END max_depth=5, min_samples_leaf=5, min_samples_split=5, n_estimators=200;, score=0.125 total time=   2.8s\n"
     ]
    },
    {
     "name": "stderr",
     "output_type": "stream",
     "text": [
      "C:\\Users\\ben8h\\anaconda3\\Lib\\site-packages\\sklearn\\base.py:1474: DataConversionWarning: A column-vector y was passed when a 1d array was expected. Please change the shape of y to (n_samples,), for example using ravel().\n",
      "  return fit_method(estimator, *args, **kwargs)\n"
     ]
    },
    {
     "name": "stdout",
     "output_type": "stream",
     "text": [
      "[CV 2/10] END max_depth=5, min_samples_leaf=5, min_samples_split=5, n_estimators=200;, score=0.152 total time=   2.9s\n"
     ]
    },
    {
     "name": "stderr",
     "output_type": "stream",
     "text": [
      "C:\\Users\\ben8h\\anaconda3\\Lib\\site-packages\\sklearn\\base.py:1474: DataConversionWarning: A column-vector y was passed when a 1d array was expected. Please change the shape of y to (n_samples,), for example using ravel().\n",
      "  return fit_method(estimator, *args, **kwargs)\n"
     ]
    },
    {
     "name": "stdout",
     "output_type": "stream",
     "text": [
      "[CV 3/10] END max_depth=5, min_samples_leaf=5, min_samples_split=5, n_estimators=200;, score=0.190 total time=   2.8s\n"
     ]
    },
    {
     "name": "stderr",
     "output_type": "stream",
     "text": [
      "C:\\Users\\ben8h\\anaconda3\\Lib\\site-packages\\sklearn\\base.py:1474: DataConversionWarning: A column-vector y was passed when a 1d array was expected. Please change the shape of y to (n_samples,), for example using ravel().\n",
      "  return fit_method(estimator, *args, **kwargs)\n"
     ]
    },
    {
     "name": "stdout",
     "output_type": "stream",
     "text": [
      "[CV 4/10] END max_depth=5, min_samples_leaf=5, min_samples_split=5, n_estimators=200;, score=0.132 total time=   2.9s\n"
     ]
    },
    {
     "name": "stderr",
     "output_type": "stream",
     "text": [
      "C:\\Users\\ben8h\\anaconda3\\Lib\\site-packages\\sklearn\\base.py:1474: DataConversionWarning: A column-vector y was passed when a 1d array was expected. Please change the shape of y to (n_samples,), for example using ravel().\n",
      "  return fit_method(estimator, *args, **kwargs)\n"
     ]
    },
    {
     "name": "stdout",
     "output_type": "stream",
     "text": [
      "[CV 5/10] END max_depth=5, min_samples_leaf=5, min_samples_split=5, n_estimators=200;, score=0.171 total time=   2.9s\n"
     ]
    },
    {
     "name": "stderr",
     "output_type": "stream",
     "text": [
      "C:\\Users\\ben8h\\anaconda3\\Lib\\site-packages\\sklearn\\base.py:1474: DataConversionWarning: A column-vector y was passed when a 1d array was expected. Please change the shape of y to (n_samples,), for example using ravel().\n",
      "  return fit_method(estimator, *args, **kwargs)\n"
     ]
    },
    {
     "name": "stdout",
     "output_type": "stream",
     "text": [
      "[CV 6/10] END max_depth=5, min_samples_leaf=5, min_samples_split=5, n_estimators=200;, score=0.122 total time=   2.8s\n"
     ]
    },
    {
     "name": "stderr",
     "output_type": "stream",
     "text": [
      "C:\\Users\\ben8h\\anaconda3\\Lib\\site-packages\\sklearn\\base.py:1474: DataConversionWarning: A column-vector y was passed when a 1d array was expected. Please change the shape of y to (n_samples,), for example using ravel().\n",
      "  return fit_method(estimator, *args, **kwargs)\n"
     ]
    },
    {
     "name": "stdout",
     "output_type": "stream",
     "text": [
      "[CV 7/10] END max_depth=5, min_samples_leaf=5, min_samples_split=5, n_estimators=200;, score=0.152 total time=   2.9s\n"
     ]
    },
    {
     "name": "stderr",
     "output_type": "stream",
     "text": [
      "C:\\Users\\ben8h\\anaconda3\\Lib\\site-packages\\sklearn\\base.py:1474: DataConversionWarning: A column-vector y was passed when a 1d array was expected. Please change the shape of y to (n_samples,), for example using ravel().\n",
      "  return fit_method(estimator, *args, **kwargs)\n"
     ]
    },
    {
     "name": "stdout",
     "output_type": "stream",
     "text": [
      "[CV 8/10] END max_depth=5, min_samples_leaf=5, min_samples_split=5, n_estimators=200;, score=0.137 total time=   2.9s\n"
     ]
    },
    {
     "name": "stderr",
     "output_type": "stream",
     "text": [
      "C:\\Users\\ben8h\\anaconda3\\Lib\\site-packages\\sklearn\\base.py:1474: DataConversionWarning: A column-vector y was passed when a 1d array was expected. Please change the shape of y to (n_samples,), for example using ravel().\n",
      "  return fit_method(estimator, *args, **kwargs)\n"
     ]
    },
    {
     "name": "stdout",
     "output_type": "stream",
     "text": [
      "[CV 9/10] END max_depth=5, min_samples_leaf=5, min_samples_split=5, n_estimators=200;, score=0.151 total time=   2.9s\n"
     ]
    },
    {
     "name": "stderr",
     "output_type": "stream",
     "text": [
      "C:\\Users\\ben8h\\anaconda3\\Lib\\site-packages\\sklearn\\base.py:1474: DataConversionWarning: A column-vector y was passed when a 1d array was expected. Please change the shape of y to (n_samples,), for example using ravel().\n",
      "  return fit_method(estimator, *args, **kwargs)\n"
     ]
    },
    {
     "name": "stdout",
     "output_type": "stream",
     "text": [
      "[CV 10/10] END max_depth=5, min_samples_leaf=5, min_samples_split=5, n_estimators=200;, score=0.153 total time=   2.9s\n"
     ]
    },
    {
     "name": "stderr",
     "output_type": "stream",
     "text": [
      "C:\\Users\\ben8h\\anaconda3\\Lib\\site-packages\\sklearn\\base.py:1474: DataConversionWarning: A column-vector y was passed when a 1d array was expected. Please change the shape of y to (n_samples,), for example using ravel().\n",
      "  return fit_method(estimator, *args, **kwargs)\n"
     ]
    },
    {
     "name": "stdout",
     "output_type": "stream",
     "text": [
      "[CV 1/10] END max_depth=5, min_samples_leaf=5, min_samples_split=10, n_estimators=50;, score=0.127 total time=   0.7s\n"
     ]
    },
    {
     "name": "stderr",
     "output_type": "stream",
     "text": [
      "C:\\Users\\ben8h\\anaconda3\\Lib\\site-packages\\sklearn\\base.py:1474: DataConversionWarning: A column-vector y was passed when a 1d array was expected. Please change the shape of y to (n_samples,), for example using ravel().\n",
      "  return fit_method(estimator, *args, **kwargs)\n"
     ]
    },
    {
     "name": "stdout",
     "output_type": "stream",
     "text": [
      "[CV 2/10] END max_depth=5, min_samples_leaf=5, min_samples_split=10, n_estimators=50;, score=0.157 total time=   0.6s\n"
     ]
    },
    {
     "name": "stderr",
     "output_type": "stream",
     "text": [
      "C:\\Users\\ben8h\\anaconda3\\Lib\\site-packages\\sklearn\\base.py:1474: DataConversionWarning: A column-vector y was passed when a 1d array was expected. Please change the shape of y to (n_samples,), for example using ravel().\n",
      "  return fit_method(estimator, *args, **kwargs)\n"
     ]
    },
    {
     "name": "stdout",
     "output_type": "stream",
     "text": [
      "[CV 3/10] END max_depth=5, min_samples_leaf=5, min_samples_split=10, n_estimators=50;, score=0.183 total time=   0.6s\n"
     ]
    },
    {
     "name": "stderr",
     "output_type": "stream",
     "text": [
      "C:\\Users\\ben8h\\anaconda3\\Lib\\site-packages\\sklearn\\base.py:1474: DataConversionWarning: A column-vector y was passed when a 1d array was expected. Please change the shape of y to (n_samples,), for example using ravel().\n",
      "  return fit_method(estimator, *args, **kwargs)\n"
     ]
    },
    {
     "name": "stdout",
     "output_type": "stream",
     "text": [
      "[CV 4/10] END max_depth=5, min_samples_leaf=5, min_samples_split=10, n_estimators=50;, score=0.131 total time=   0.6s\n"
     ]
    },
    {
     "name": "stderr",
     "output_type": "stream",
     "text": [
      "C:\\Users\\ben8h\\anaconda3\\Lib\\site-packages\\sklearn\\base.py:1474: DataConversionWarning: A column-vector y was passed when a 1d array was expected. Please change the shape of y to (n_samples,), for example using ravel().\n",
      "  return fit_method(estimator, *args, **kwargs)\n"
     ]
    },
    {
     "name": "stdout",
     "output_type": "stream",
     "text": [
      "[CV 5/10] END max_depth=5, min_samples_leaf=5, min_samples_split=10, n_estimators=50;, score=0.173 total time=   0.6s\n"
     ]
    },
    {
     "name": "stderr",
     "output_type": "stream",
     "text": [
      "C:\\Users\\ben8h\\anaconda3\\Lib\\site-packages\\sklearn\\base.py:1474: DataConversionWarning: A column-vector y was passed when a 1d array was expected. Please change the shape of y to (n_samples,), for example using ravel().\n",
      "  return fit_method(estimator, *args, **kwargs)\n"
     ]
    },
    {
     "name": "stdout",
     "output_type": "stream",
     "text": [
      "[CV 6/10] END max_depth=5, min_samples_leaf=5, min_samples_split=10, n_estimators=50;, score=0.116 total time=   0.6s\n"
     ]
    },
    {
     "name": "stderr",
     "output_type": "stream",
     "text": [
      "C:\\Users\\ben8h\\anaconda3\\Lib\\site-packages\\sklearn\\base.py:1474: DataConversionWarning: A column-vector y was passed when a 1d array was expected. Please change the shape of y to (n_samples,), for example using ravel().\n",
      "  return fit_method(estimator, *args, **kwargs)\n"
     ]
    },
    {
     "name": "stdout",
     "output_type": "stream",
     "text": [
      "[CV 7/10] END max_depth=5, min_samples_leaf=5, min_samples_split=10, n_estimators=50;, score=0.148 total time=   0.6s\n"
     ]
    },
    {
     "name": "stderr",
     "output_type": "stream",
     "text": [
      "C:\\Users\\ben8h\\anaconda3\\Lib\\site-packages\\sklearn\\base.py:1474: DataConversionWarning: A column-vector y was passed when a 1d array was expected. Please change the shape of y to (n_samples,), for example using ravel().\n",
      "  return fit_method(estimator, *args, **kwargs)\n"
     ]
    },
    {
     "name": "stdout",
     "output_type": "stream",
     "text": [
      "[CV 8/10] END max_depth=5, min_samples_leaf=5, min_samples_split=10, n_estimators=50;, score=0.135 total time=   0.6s\n"
     ]
    },
    {
     "name": "stderr",
     "output_type": "stream",
     "text": [
      "C:\\Users\\ben8h\\anaconda3\\Lib\\site-packages\\sklearn\\base.py:1474: DataConversionWarning: A column-vector y was passed when a 1d array was expected. Please change the shape of y to (n_samples,), for example using ravel().\n",
      "  return fit_method(estimator, *args, **kwargs)\n"
     ]
    },
    {
     "name": "stdout",
     "output_type": "stream",
     "text": [
      "[CV 9/10] END max_depth=5, min_samples_leaf=5, min_samples_split=10, n_estimators=50;, score=0.148 total time=   0.6s\n"
     ]
    },
    {
     "name": "stderr",
     "output_type": "stream",
     "text": [
      "C:\\Users\\ben8h\\anaconda3\\Lib\\site-packages\\sklearn\\base.py:1474: DataConversionWarning: A column-vector y was passed when a 1d array was expected. Please change the shape of y to (n_samples,), for example using ravel().\n",
      "  return fit_method(estimator, *args, **kwargs)\n"
     ]
    },
    {
     "name": "stdout",
     "output_type": "stream",
     "text": [
      "[CV 10/10] END max_depth=5, min_samples_leaf=5, min_samples_split=10, n_estimators=50;, score=0.149 total time=   0.6s\n"
     ]
    },
    {
     "name": "stderr",
     "output_type": "stream",
     "text": [
      "C:\\Users\\ben8h\\anaconda3\\Lib\\site-packages\\sklearn\\base.py:1474: DataConversionWarning: A column-vector y was passed when a 1d array was expected. Please change the shape of y to (n_samples,), for example using ravel().\n",
      "  return fit_method(estimator, *args, **kwargs)\n"
     ]
    },
    {
     "name": "stdout",
     "output_type": "stream",
     "text": [
      "[CV 1/10] END max_depth=5, min_samples_leaf=5, min_samples_split=10, n_estimators=100;, score=0.120 total time=   1.4s\n"
     ]
    },
    {
     "name": "stderr",
     "output_type": "stream",
     "text": [
      "C:\\Users\\ben8h\\anaconda3\\Lib\\site-packages\\sklearn\\base.py:1474: DataConversionWarning: A column-vector y was passed when a 1d array was expected. Please change the shape of y to (n_samples,), for example using ravel().\n",
      "  return fit_method(estimator, *args, **kwargs)\n"
     ]
    },
    {
     "name": "stdout",
     "output_type": "stream",
     "text": [
      "[CV 2/10] END max_depth=5, min_samples_leaf=5, min_samples_split=10, n_estimators=100;, score=0.146 total time=   1.4s\n"
     ]
    },
    {
     "name": "stderr",
     "output_type": "stream",
     "text": [
      "C:\\Users\\ben8h\\anaconda3\\Lib\\site-packages\\sklearn\\base.py:1474: DataConversionWarning: A column-vector y was passed when a 1d array was expected. Please change the shape of y to (n_samples,), for example using ravel().\n",
      "  return fit_method(estimator, *args, **kwargs)\n"
     ]
    },
    {
     "name": "stdout",
     "output_type": "stream",
     "text": [
      "[CV 3/10] END max_depth=5, min_samples_leaf=5, min_samples_split=10, n_estimators=100;, score=0.193 total time=   1.4s\n"
     ]
    },
    {
     "name": "stderr",
     "output_type": "stream",
     "text": [
      "C:\\Users\\ben8h\\anaconda3\\Lib\\site-packages\\sklearn\\base.py:1474: DataConversionWarning: A column-vector y was passed when a 1d array was expected. Please change the shape of y to (n_samples,), for example using ravel().\n",
      "  return fit_method(estimator, *args, **kwargs)\n"
     ]
    },
    {
     "name": "stdout",
     "output_type": "stream",
     "text": [
      "[CV 4/10] END max_depth=5, min_samples_leaf=5, min_samples_split=10, n_estimators=100;, score=0.129 total time=   1.4s\n"
     ]
    },
    {
     "name": "stderr",
     "output_type": "stream",
     "text": [
      "C:\\Users\\ben8h\\anaconda3\\Lib\\site-packages\\sklearn\\base.py:1474: DataConversionWarning: A column-vector y was passed when a 1d array was expected. Please change the shape of y to (n_samples,), for example using ravel().\n",
      "  return fit_method(estimator, *args, **kwargs)\n"
     ]
    },
    {
     "name": "stdout",
     "output_type": "stream",
     "text": [
      "[CV 5/10] END max_depth=5, min_samples_leaf=5, min_samples_split=10, n_estimators=100;, score=0.176 total time=   1.4s\n"
     ]
    },
    {
     "name": "stderr",
     "output_type": "stream",
     "text": [
      "C:\\Users\\ben8h\\anaconda3\\Lib\\site-packages\\sklearn\\base.py:1474: DataConversionWarning: A column-vector y was passed when a 1d array was expected. Please change the shape of y to (n_samples,), for example using ravel().\n",
      "  return fit_method(estimator, *args, **kwargs)\n"
     ]
    },
    {
     "name": "stdout",
     "output_type": "stream",
     "text": [
      "[CV 6/10] END max_depth=5, min_samples_leaf=5, min_samples_split=10, n_estimators=100;, score=0.121 total time=   1.4s\n"
     ]
    },
    {
     "name": "stderr",
     "output_type": "stream",
     "text": [
      "C:\\Users\\ben8h\\anaconda3\\Lib\\site-packages\\sklearn\\base.py:1474: DataConversionWarning: A column-vector y was passed when a 1d array was expected. Please change the shape of y to (n_samples,), for example using ravel().\n",
      "  return fit_method(estimator, *args, **kwargs)\n"
     ]
    },
    {
     "name": "stdout",
     "output_type": "stream",
     "text": [
      "[CV 7/10] END max_depth=5, min_samples_leaf=5, min_samples_split=10, n_estimators=100;, score=0.149 total time=   1.4s\n"
     ]
    },
    {
     "name": "stderr",
     "output_type": "stream",
     "text": [
      "C:\\Users\\ben8h\\anaconda3\\Lib\\site-packages\\sklearn\\base.py:1474: DataConversionWarning: A column-vector y was passed when a 1d array was expected. Please change the shape of y to (n_samples,), for example using ravel().\n",
      "  return fit_method(estimator, *args, **kwargs)\n"
     ]
    },
    {
     "name": "stdout",
     "output_type": "stream",
     "text": [
      "[CV 8/10] END max_depth=5, min_samples_leaf=5, min_samples_split=10, n_estimators=100;, score=0.135 total time=   1.4s\n"
     ]
    },
    {
     "name": "stderr",
     "output_type": "stream",
     "text": [
      "C:\\Users\\ben8h\\anaconda3\\Lib\\site-packages\\sklearn\\base.py:1474: DataConversionWarning: A column-vector y was passed when a 1d array was expected. Please change the shape of y to (n_samples,), for example using ravel().\n",
      "  return fit_method(estimator, *args, **kwargs)\n"
     ]
    },
    {
     "name": "stdout",
     "output_type": "stream",
     "text": [
      "[CV 9/10] END max_depth=5, min_samples_leaf=5, min_samples_split=10, n_estimators=100;, score=0.152 total time=   1.4s\n"
     ]
    },
    {
     "name": "stderr",
     "output_type": "stream",
     "text": [
      "C:\\Users\\ben8h\\anaconda3\\Lib\\site-packages\\sklearn\\base.py:1474: DataConversionWarning: A column-vector y was passed when a 1d array was expected. Please change the shape of y to (n_samples,), for example using ravel().\n",
      "  return fit_method(estimator, *args, **kwargs)\n"
     ]
    },
    {
     "name": "stdout",
     "output_type": "stream",
     "text": [
      "[CV 10/10] END max_depth=5, min_samples_leaf=5, min_samples_split=10, n_estimators=100;, score=0.155 total time=   1.4s\n"
     ]
    },
    {
     "name": "stderr",
     "output_type": "stream",
     "text": [
      "C:\\Users\\ben8h\\anaconda3\\Lib\\site-packages\\sklearn\\base.py:1474: DataConversionWarning: A column-vector y was passed when a 1d array was expected. Please change the shape of y to (n_samples,), for example using ravel().\n",
      "  return fit_method(estimator, *args, **kwargs)\n"
     ]
    },
    {
     "name": "stdout",
     "output_type": "stream",
     "text": [
      "[CV 1/10] END max_depth=5, min_samples_leaf=5, min_samples_split=10, n_estimators=200;, score=0.128 total time=   2.9s\n"
     ]
    },
    {
     "name": "stderr",
     "output_type": "stream",
     "text": [
      "C:\\Users\\ben8h\\anaconda3\\Lib\\site-packages\\sklearn\\base.py:1474: DataConversionWarning: A column-vector y was passed when a 1d array was expected. Please change the shape of y to (n_samples,), for example using ravel().\n",
      "  return fit_method(estimator, *args, **kwargs)\n"
     ]
    },
    {
     "name": "stdout",
     "output_type": "stream",
     "text": [
      "[CV 2/10] END max_depth=5, min_samples_leaf=5, min_samples_split=10, n_estimators=200;, score=0.153 total time=   2.8s\n"
     ]
    },
    {
     "name": "stderr",
     "output_type": "stream",
     "text": [
      "C:\\Users\\ben8h\\anaconda3\\Lib\\site-packages\\sklearn\\base.py:1474: DataConversionWarning: A column-vector y was passed when a 1d array was expected. Please change the shape of y to (n_samples,), for example using ravel().\n",
      "  return fit_method(estimator, *args, **kwargs)\n"
     ]
    },
    {
     "name": "stdout",
     "output_type": "stream",
     "text": [
      "[CV 3/10] END max_depth=5, min_samples_leaf=5, min_samples_split=10, n_estimators=200;, score=0.191 total time=   2.9s\n"
     ]
    },
    {
     "name": "stderr",
     "output_type": "stream",
     "text": [
      "C:\\Users\\ben8h\\anaconda3\\Lib\\site-packages\\sklearn\\base.py:1474: DataConversionWarning: A column-vector y was passed when a 1d array was expected. Please change the shape of y to (n_samples,), for example using ravel().\n",
      "  return fit_method(estimator, *args, **kwargs)\n"
     ]
    },
    {
     "name": "stdout",
     "output_type": "stream",
     "text": [
      "[CV 4/10] END max_depth=5, min_samples_leaf=5, min_samples_split=10, n_estimators=200;, score=0.133 total time=   2.9s\n"
     ]
    },
    {
     "name": "stderr",
     "output_type": "stream",
     "text": [
      "C:\\Users\\ben8h\\anaconda3\\Lib\\site-packages\\sklearn\\base.py:1474: DataConversionWarning: A column-vector y was passed when a 1d array was expected. Please change the shape of y to (n_samples,), for example using ravel().\n",
      "  return fit_method(estimator, *args, **kwargs)\n"
     ]
    },
    {
     "name": "stdout",
     "output_type": "stream",
     "text": [
      "[CV 5/10] END max_depth=5, min_samples_leaf=5, min_samples_split=10, n_estimators=200;, score=0.172 total time=   2.8s\n"
     ]
    },
    {
     "name": "stderr",
     "output_type": "stream",
     "text": [
      "C:\\Users\\ben8h\\anaconda3\\Lib\\site-packages\\sklearn\\base.py:1474: DataConversionWarning: A column-vector y was passed when a 1d array was expected. Please change the shape of y to (n_samples,), for example using ravel().\n",
      "  return fit_method(estimator, *args, **kwargs)\n"
     ]
    },
    {
     "name": "stdout",
     "output_type": "stream",
     "text": [
      "[CV 6/10] END max_depth=5, min_samples_leaf=5, min_samples_split=10, n_estimators=200;, score=0.121 total time=   2.8s\n"
     ]
    },
    {
     "name": "stderr",
     "output_type": "stream",
     "text": [
      "C:\\Users\\ben8h\\anaconda3\\Lib\\site-packages\\sklearn\\base.py:1474: DataConversionWarning: A column-vector y was passed when a 1d array was expected. Please change the shape of y to (n_samples,), for example using ravel().\n",
      "  return fit_method(estimator, *args, **kwargs)\n"
     ]
    },
    {
     "name": "stdout",
     "output_type": "stream",
     "text": [
      "[CV 7/10] END max_depth=5, min_samples_leaf=5, min_samples_split=10, n_estimators=200;, score=0.150 total time=   2.8s\n"
     ]
    },
    {
     "name": "stderr",
     "output_type": "stream",
     "text": [
      "C:\\Users\\ben8h\\anaconda3\\Lib\\site-packages\\sklearn\\base.py:1474: DataConversionWarning: A column-vector y was passed when a 1d array was expected. Please change the shape of y to (n_samples,), for example using ravel().\n",
      "  return fit_method(estimator, *args, **kwargs)\n"
     ]
    },
    {
     "name": "stdout",
     "output_type": "stream",
     "text": [
      "[CV 8/10] END max_depth=5, min_samples_leaf=5, min_samples_split=10, n_estimators=200;, score=0.135 total time=   2.9s\n"
     ]
    },
    {
     "name": "stderr",
     "output_type": "stream",
     "text": [
      "C:\\Users\\ben8h\\anaconda3\\Lib\\site-packages\\sklearn\\base.py:1474: DataConversionWarning: A column-vector y was passed when a 1d array was expected. Please change the shape of y to (n_samples,), for example using ravel().\n",
      "  return fit_method(estimator, *args, **kwargs)\n"
     ]
    },
    {
     "name": "stdout",
     "output_type": "stream",
     "text": [
      "[CV 9/10] END max_depth=5, min_samples_leaf=5, min_samples_split=10, n_estimators=200;, score=0.153 total time=   2.9s\n"
     ]
    },
    {
     "name": "stderr",
     "output_type": "stream",
     "text": [
      "C:\\Users\\ben8h\\anaconda3\\Lib\\site-packages\\sklearn\\base.py:1474: DataConversionWarning: A column-vector y was passed when a 1d array was expected. Please change the shape of y to (n_samples,), for example using ravel().\n",
      "  return fit_method(estimator, *args, **kwargs)\n"
     ]
    },
    {
     "name": "stdout",
     "output_type": "stream",
     "text": [
      "[CV 10/10] END max_depth=5, min_samples_leaf=5, min_samples_split=10, n_estimators=200;, score=0.156 total time=   2.9s\n"
     ]
    },
    {
     "name": "stderr",
     "output_type": "stream",
     "text": [
      "C:\\Users\\ben8h\\anaconda3\\Lib\\site-packages\\sklearn\\base.py:1474: DataConversionWarning: A column-vector y was passed when a 1d array was expected. Please change the shape of y to (n_samples,), for example using ravel().\n",
      "  return fit_method(estimator, *args, **kwargs)\n"
     ]
    },
    {
     "name": "stdout",
     "output_type": "stream",
     "text": [
      "[CV 1/10] END max_depth=5, min_samples_leaf=10, min_samples_split=2, n_estimators=50;, score=0.125 total time=   0.6s\n"
     ]
    },
    {
     "name": "stderr",
     "output_type": "stream",
     "text": [
      "C:\\Users\\ben8h\\anaconda3\\Lib\\site-packages\\sklearn\\base.py:1474: DataConversionWarning: A column-vector y was passed when a 1d array was expected. Please change the shape of y to (n_samples,), for example using ravel().\n",
      "  return fit_method(estimator, *args, **kwargs)\n"
     ]
    },
    {
     "name": "stdout",
     "output_type": "stream",
     "text": [
      "[CV 2/10] END max_depth=5, min_samples_leaf=10, min_samples_split=2, n_estimators=50;, score=0.145 total time=   0.6s\n"
     ]
    },
    {
     "name": "stderr",
     "output_type": "stream",
     "text": [
      "C:\\Users\\ben8h\\anaconda3\\Lib\\site-packages\\sklearn\\base.py:1474: DataConversionWarning: A column-vector y was passed when a 1d array was expected. Please change the shape of y to (n_samples,), for example using ravel().\n",
      "  return fit_method(estimator, *args, **kwargs)\n"
     ]
    },
    {
     "name": "stdout",
     "output_type": "stream",
     "text": [
      "[CV 3/10] END max_depth=5, min_samples_leaf=10, min_samples_split=2, n_estimators=50;, score=0.186 total time=   0.7s\n"
     ]
    },
    {
     "name": "stderr",
     "output_type": "stream",
     "text": [
      "C:\\Users\\ben8h\\anaconda3\\Lib\\site-packages\\sklearn\\base.py:1474: DataConversionWarning: A column-vector y was passed when a 1d array was expected. Please change the shape of y to (n_samples,), for example using ravel().\n",
      "  return fit_method(estimator, *args, **kwargs)\n"
     ]
    },
    {
     "name": "stdout",
     "output_type": "stream",
     "text": [
      "[CV 4/10] END max_depth=5, min_samples_leaf=10, min_samples_split=2, n_estimators=50;, score=0.134 total time=   0.6s\n"
     ]
    },
    {
     "name": "stderr",
     "output_type": "stream",
     "text": [
      "C:\\Users\\ben8h\\anaconda3\\Lib\\site-packages\\sklearn\\base.py:1474: DataConversionWarning: A column-vector y was passed when a 1d array was expected. Please change the shape of y to (n_samples,), for example using ravel().\n",
      "  return fit_method(estimator, *args, **kwargs)\n"
     ]
    },
    {
     "name": "stdout",
     "output_type": "stream",
     "text": [
      "[CV 5/10] END max_depth=5, min_samples_leaf=10, min_samples_split=2, n_estimators=50;, score=0.175 total time=   0.6s\n"
     ]
    },
    {
     "name": "stderr",
     "output_type": "stream",
     "text": [
      "C:\\Users\\ben8h\\anaconda3\\Lib\\site-packages\\sklearn\\base.py:1474: DataConversionWarning: A column-vector y was passed when a 1d array was expected. Please change the shape of y to (n_samples,), for example using ravel().\n",
      "  return fit_method(estimator, *args, **kwargs)\n"
     ]
    },
    {
     "name": "stdout",
     "output_type": "stream",
     "text": [
      "[CV 6/10] END max_depth=5, min_samples_leaf=10, min_samples_split=2, n_estimators=50;, score=0.118 total time=   0.7s\n"
     ]
    },
    {
     "name": "stderr",
     "output_type": "stream",
     "text": [
      "C:\\Users\\ben8h\\anaconda3\\Lib\\site-packages\\sklearn\\base.py:1474: DataConversionWarning: A column-vector y was passed when a 1d array was expected. Please change the shape of y to (n_samples,), for example using ravel().\n",
      "  return fit_method(estimator, *args, **kwargs)\n"
     ]
    },
    {
     "name": "stdout",
     "output_type": "stream",
     "text": [
      "[CV 7/10] END max_depth=5, min_samples_leaf=10, min_samples_split=2, n_estimators=50;, score=0.144 total time=   0.7s\n"
     ]
    },
    {
     "name": "stderr",
     "output_type": "stream",
     "text": [
      "C:\\Users\\ben8h\\anaconda3\\Lib\\site-packages\\sklearn\\base.py:1474: DataConversionWarning: A column-vector y was passed when a 1d array was expected. Please change the shape of y to (n_samples,), for example using ravel().\n",
      "  return fit_method(estimator, *args, **kwargs)\n"
     ]
    },
    {
     "name": "stdout",
     "output_type": "stream",
     "text": [
      "[CV 8/10] END max_depth=5, min_samples_leaf=10, min_samples_split=2, n_estimators=50;, score=0.138 total time=   0.6s\n"
     ]
    },
    {
     "name": "stderr",
     "output_type": "stream",
     "text": [
      "C:\\Users\\ben8h\\anaconda3\\Lib\\site-packages\\sklearn\\base.py:1474: DataConversionWarning: A column-vector y was passed when a 1d array was expected. Please change the shape of y to (n_samples,), for example using ravel().\n",
      "  return fit_method(estimator, *args, **kwargs)\n"
     ]
    },
    {
     "name": "stdout",
     "output_type": "stream",
     "text": [
      "[CV 9/10] END max_depth=5, min_samples_leaf=10, min_samples_split=2, n_estimators=50;, score=0.153 total time=   0.6s\n"
     ]
    },
    {
     "name": "stderr",
     "output_type": "stream",
     "text": [
      "C:\\Users\\ben8h\\anaconda3\\Lib\\site-packages\\sklearn\\base.py:1474: DataConversionWarning: A column-vector y was passed when a 1d array was expected. Please change the shape of y to (n_samples,), for example using ravel().\n",
      "  return fit_method(estimator, *args, **kwargs)\n"
     ]
    },
    {
     "name": "stdout",
     "output_type": "stream",
     "text": [
      "[CV 10/10] END max_depth=5, min_samples_leaf=10, min_samples_split=2, n_estimators=50;, score=0.154 total time=   0.7s\n"
     ]
    },
    {
     "name": "stderr",
     "output_type": "stream",
     "text": [
      "C:\\Users\\ben8h\\anaconda3\\Lib\\site-packages\\sklearn\\base.py:1474: DataConversionWarning: A column-vector y was passed when a 1d array was expected. Please change the shape of y to (n_samples,), for example using ravel().\n",
      "  return fit_method(estimator, *args, **kwargs)\n"
     ]
    },
    {
     "name": "stdout",
     "output_type": "stream",
     "text": [
      "[CV 1/10] END max_depth=5, min_samples_leaf=10, min_samples_split=2, n_estimators=100;, score=0.125 total time=   1.4s\n"
     ]
    },
    {
     "name": "stderr",
     "output_type": "stream",
     "text": [
      "C:\\Users\\ben8h\\anaconda3\\Lib\\site-packages\\sklearn\\base.py:1474: DataConversionWarning: A column-vector y was passed when a 1d array was expected. Please change the shape of y to (n_samples,), for example using ravel().\n",
      "  return fit_method(estimator, *args, **kwargs)\n"
     ]
    },
    {
     "name": "stdout",
     "output_type": "stream",
     "text": [
      "[CV 2/10] END max_depth=5, min_samples_leaf=10, min_samples_split=2, n_estimators=100;, score=0.145 total time=   1.4s\n"
     ]
    },
    {
     "name": "stderr",
     "output_type": "stream",
     "text": [
      "C:\\Users\\ben8h\\anaconda3\\Lib\\site-packages\\sklearn\\base.py:1474: DataConversionWarning: A column-vector y was passed when a 1d array was expected. Please change the shape of y to (n_samples,), for example using ravel().\n",
      "  return fit_method(estimator, *args, **kwargs)\n"
     ]
    },
    {
     "name": "stdout",
     "output_type": "stream",
     "text": [
      "[CV 3/10] END max_depth=5, min_samples_leaf=10, min_samples_split=2, n_estimators=100;, score=0.187 total time=   1.4s\n"
     ]
    },
    {
     "name": "stderr",
     "output_type": "stream",
     "text": [
      "C:\\Users\\ben8h\\anaconda3\\Lib\\site-packages\\sklearn\\base.py:1474: DataConversionWarning: A column-vector y was passed when a 1d array was expected. Please change the shape of y to (n_samples,), for example using ravel().\n",
      "  return fit_method(estimator, *args, **kwargs)\n"
     ]
    },
    {
     "name": "stdout",
     "output_type": "stream",
     "text": [
      "[CV 4/10] END max_depth=5, min_samples_leaf=10, min_samples_split=2, n_estimators=100;, score=0.133 total time=   1.4s\n"
     ]
    },
    {
     "name": "stderr",
     "output_type": "stream",
     "text": [
      "C:\\Users\\ben8h\\anaconda3\\Lib\\site-packages\\sklearn\\base.py:1474: DataConversionWarning: A column-vector y was passed when a 1d array was expected. Please change the shape of y to (n_samples,), for example using ravel().\n",
      "  return fit_method(estimator, *args, **kwargs)\n"
     ]
    },
    {
     "name": "stdout",
     "output_type": "stream",
     "text": [
      "[CV 5/10] END max_depth=5, min_samples_leaf=10, min_samples_split=2, n_estimators=100;, score=0.175 total time=   1.4s\n"
     ]
    },
    {
     "name": "stderr",
     "output_type": "stream",
     "text": [
      "C:\\Users\\ben8h\\anaconda3\\Lib\\site-packages\\sklearn\\base.py:1474: DataConversionWarning: A column-vector y was passed when a 1d array was expected. Please change the shape of y to (n_samples,), for example using ravel().\n",
      "  return fit_method(estimator, *args, **kwargs)\n"
     ]
    },
    {
     "name": "stdout",
     "output_type": "stream",
     "text": [
      "[CV 6/10] END max_depth=5, min_samples_leaf=10, min_samples_split=2, n_estimators=100;, score=0.124 total time=   1.4s\n"
     ]
    },
    {
     "name": "stderr",
     "output_type": "stream",
     "text": [
      "C:\\Users\\ben8h\\anaconda3\\Lib\\site-packages\\sklearn\\base.py:1474: DataConversionWarning: A column-vector y was passed when a 1d array was expected. Please change the shape of y to (n_samples,), for example using ravel().\n",
      "  return fit_method(estimator, *args, **kwargs)\n"
     ]
    },
    {
     "name": "stdout",
     "output_type": "stream",
     "text": [
      "[CV 7/10] END max_depth=5, min_samples_leaf=10, min_samples_split=2, n_estimators=100;, score=0.151 total time=   1.4s\n"
     ]
    },
    {
     "name": "stderr",
     "output_type": "stream",
     "text": [
      "C:\\Users\\ben8h\\anaconda3\\Lib\\site-packages\\sklearn\\base.py:1474: DataConversionWarning: A column-vector y was passed when a 1d array was expected. Please change the shape of y to (n_samples,), for example using ravel().\n",
      "  return fit_method(estimator, *args, **kwargs)\n"
     ]
    },
    {
     "name": "stdout",
     "output_type": "stream",
     "text": [
      "[CV 8/10] END max_depth=5, min_samples_leaf=10, min_samples_split=2, n_estimators=100;, score=0.135 total time=   1.4s\n"
     ]
    },
    {
     "name": "stderr",
     "output_type": "stream",
     "text": [
      "C:\\Users\\ben8h\\anaconda3\\Lib\\site-packages\\sklearn\\base.py:1474: DataConversionWarning: A column-vector y was passed when a 1d array was expected. Please change the shape of y to (n_samples,), for example using ravel().\n",
      "  return fit_method(estimator, *args, **kwargs)\n"
     ]
    },
    {
     "name": "stdout",
     "output_type": "stream",
     "text": [
      "[CV 9/10] END max_depth=5, min_samples_leaf=10, min_samples_split=2, n_estimators=100;, score=0.148 total time=   1.4s\n"
     ]
    },
    {
     "name": "stderr",
     "output_type": "stream",
     "text": [
      "C:\\Users\\ben8h\\anaconda3\\Lib\\site-packages\\sklearn\\base.py:1474: DataConversionWarning: A column-vector y was passed when a 1d array was expected. Please change the shape of y to (n_samples,), for example using ravel().\n",
      "  return fit_method(estimator, *args, **kwargs)\n"
     ]
    },
    {
     "name": "stdout",
     "output_type": "stream",
     "text": [
      "[CV 10/10] END max_depth=5, min_samples_leaf=10, min_samples_split=2, n_estimators=100;, score=0.152 total time=   1.5s\n"
     ]
    },
    {
     "name": "stderr",
     "output_type": "stream",
     "text": [
      "C:\\Users\\ben8h\\anaconda3\\Lib\\site-packages\\sklearn\\base.py:1474: DataConversionWarning: A column-vector y was passed when a 1d array was expected. Please change the shape of y to (n_samples,), for example using ravel().\n",
      "  return fit_method(estimator, *args, **kwargs)\n"
     ]
    },
    {
     "name": "stdout",
     "output_type": "stream",
     "text": [
      "[CV 1/10] END max_depth=5, min_samples_leaf=10, min_samples_split=2, n_estimators=200;, score=0.124 total time=   2.9s\n"
     ]
    },
    {
     "name": "stderr",
     "output_type": "stream",
     "text": [
      "C:\\Users\\ben8h\\anaconda3\\Lib\\site-packages\\sklearn\\base.py:1474: DataConversionWarning: A column-vector y was passed when a 1d array was expected. Please change the shape of y to (n_samples,), for example using ravel().\n",
      "  return fit_method(estimator, *args, **kwargs)\n"
     ]
    },
    {
     "name": "stdout",
     "output_type": "stream",
     "text": [
      "[CV 2/10] END max_depth=5, min_samples_leaf=10, min_samples_split=2, n_estimators=200;, score=0.149 total time=   2.9s\n"
     ]
    },
    {
     "name": "stderr",
     "output_type": "stream",
     "text": [
      "C:\\Users\\ben8h\\anaconda3\\Lib\\site-packages\\sklearn\\base.py:1474: DataConversionWarning: A column-vector y was passed when a 1d array was expected. Please change the shape of y to (n_samples,), for example using ravel().\n",
      "  return fit_method(estimator, *args, **kwargs)\n"
     ]
    },
    {
     "name": "stdout",
     "output_type": "stream",
     "text": [
      "[CV 3/10] END max_depth=5, min_samples_leaf=10, min_samples_split=2, n_estimators=200;, score=0.189 total time=   2.9s\n"
     ]
    },
    {
     "name": "stderr",
     "output_type": "stream",
     "text": [
      "C:\\Users\\ben8h\\anaconda3\\Lib\\site-packages\\sklearn\\base.py:1474: DataConversionWarning: A column-vector y was passed when a 1d array was expected. Please change the shape of y to (n_samples,), for example using ravel().\n",
      "  return fit_method(estimator, *args, **kwargs)\n"
     ]
    },
    {
     "name": "stdout",
     "output_type": "stream",
     "text": [
      "[CV 4/10] END max_depth=5, min_samples_leaf=10, min_samples_split=2, n_estimators=200;, score=0.134 total time=   2.8s\n"
     ]
    },
    {
     "name": "stderr",
     "output_type": "stream",
     "text": [
      "C:\\Users\\ben8h\\anaconda3\\Lib\\site-packages\\sklearn\\base.py:1474: DataConversionWarning: A column-vector y was passed when a 1d array was expected. Please change the shape of y to (n_samples,), for example using ravel().\n",
      "  return fit_method(estimator, *args, **kwargs)\n"
     ]
    },
    {
     "name": "stdout",
     "output_type": "stream",
     "text": [
      "[CV 5/10] END max_depth=5, min_samples_leaf=10, min_samples_split=2, n_estimators=200;, score=0.176 total time=   2.9s\n"
     ]
    },
    {
     "name": "stderr",
     "output_type": "stream",
     "text": [
      "C:\\Users\\ben8h\\anaconda3\\Lib\\site-packages\\sklearn\\base.py:1474: DataConversionWarning: A column-vector y was passed when a 1d array was expected. Please change the shape of y to (n_samples,), for example using ravel().\n",
      "  return fit_method(estimator, *args, **kwargs)\n"
     ]
    },
    {
     "name": "stdout",
     "output_type": "stream",
     "text": [
      "[CV 6/10] END max_depth=5, min_samples_leaf=10, min_samples_split=2, n_estimators=200;, score=0.120 total time=   2.9s\n"
     ]
    },
    {
     "name": "stderr",
     "output_type": "stream",
     "text": [
      "C:\\Users\\ben8h\\anaconda3\\Lib\\site-packages\\sklearn\\base.py:1474: DataConversionWarning: A column-vector y was passed when a 1d array was expected. Please change the shape of y to (n_samples,), for example using ravel().\n",
      "  return fit_method(estimator, *args, **kwargs)\n"
     ]
    },
    {
     "name": "stdout",
     "output_type": "stream",
     "text": [
      "[CV 7/10] END max_depth=5, min_samples_leaf=10, min_samples_split=2, n_estimators=200;, score=0.150 total time=   2.9s\n"
     ]
    },
    {
     "name": "stderr",
     "output_type": "stream",
     "text": [
      "C:\\Users\\ben8h\\anaconda3\\Lib\\site-packages\\sklearn\\base.py:1474: DataConversionWarning: A column-vector y was passed when a 1d array was expected. Please change the shape of y to (n_samples,), for example using ravel().\n",
      "  return fit_method(estimator, *args, **kwargs)\n"
     ]
    },
    {
     "name": "stdout",
     "output_type": "stream",
     "text": [
      "[CV 8/10] END max_depth=5, min_samples_leaf=10, min_samples_split=2, n_estimators=200;, score=0.138 total time=   2.8s\n"
     ]
    },
    {
     "name": "stderr",
     "output_type": "stream",
     "text": [
      "C:\\Users\\ben8h\\anaconda3\\Lib\\site-packages\\sklearn\\base.py:1474: DataConversionWarning: A column-vector y was passed when a 1d array was expected. Please change the shape of y to (n_samples,), for example using ravel().\n",
      "  return fit_method(estimator, *args, **kwargs)\n"
     ]
    },
    {
     "name": "stdout",
     "output_type": "stream",
     "text": [
      "[CV 9/10] END max_depth=5, min_samples_leaf=10, min_samples_split=2, n_estimators=200;, score=0.152 total time=   2.8s\n"
     ]
    },
    {
     "name": "stderr",
     "output_type": "stream",
     "text": [
      "C:\\Users\\ben8h\\anaconda3\\Lib\\site-packages\\sklearn\\base.py:1474: DataConversionWarning: A column-vector y was passed when a 1d array was expected. Please change the shape of y to (n_samples,), for example using ravel().\n",
      "  return fit_method(estimator, *args, **kwargs)\n"
     ]
    },
    {
     "name": "stdout",
     "output_type": "stream",
     "text": [
      "[CV 10/10] END max_depth=5, min_samples_leaf=10, min_samples_split=2, n_estimators=200;, score=0.152 total time=   2.9s\n"
     ]
    },
    {
     "name": "stderr",
     "output_type": "stream",
     "text": [
      "C:\\Users\\ben8h\\anaconda3\\Lib\\site-packages\\sklearn\\base.py:1474: DataConversionWarning: A column-vector y was passed when a 1d array was expected. Please change the shape of y to (n_samples,), for example using ravel().\n",
      "  return fit_method(estimator, *args, **kwargs)\n"
     ]
    },
    {
     "name": "stdout",
     "output_type": "stream",
     "text": [
      "[CV 1/10] END max_depth=5, min_samples_leaf=10, min_samples_split=5, n_estimators=50;, score=0.127 total time=   0.7s\n"
     ]
    },
    {
     "name": "stderr",
     "output_type": "stream",
     "text": [
      "C:\\Users\\ben8h\\anaconda3\\Lib\\site-packages\\sklearn\\base.py:1474: DataConversionWarning: A column-vector y was passed when a 1d array was expected. Please change the shape of y to (n_samples,), for example using ravel().\n",
      "  return fit_method(estimator, *args, **kwargs)\n"
     ]
    },
    {
     "name": "stdout",
     "output_type": "stream",
     "text": [
      "[CV 2/10] END max_depth=5, min_samples_leaf=10, min_samples_split=5, n_estimators=50;, score=0.149 total time=   0.6s\n"
     ]
    },
    {
     "name": "stderr",
     "output_type": "stream",
     "text": [
      "C:\\Users\\ben8h\\anaconda3\\Lib\\site-packages\\sklearn\\base.py:1474: DataConversionWarning: A column-vector y was passed when a 1d array was expected. Please change the shape of y to (n_samples,), for example using ravel().\n",
      "  return fit_method(estimator, *args, **kwargs)\n"
     ]
    },
    {
     "name": "stdout",
     "output_type": "stream",
     "text": [
      "[CV 3/10] END max_depth=5, min_samples_leaf=10, min_samples_split=5, n_estimators=50;, score=0.183 total time=   0.6s\n"
     ]
    },
    {
     "name": "stderr",
     "output_type": "stream",
     "text": [
      "C:\\Users\\ben8h\\anaconda3\\Lib\\site-packages\\sklearn\\base.py:1474: DataConversionWarning: A column-vector y was passed when a 1d array was expected. Please change the shape of y to (n_samples,), for example using ravel().\n",
      "  return fit_method(estimator, *args, **kwargs)\n"
     ]
    },
    {
     "name": "stdout",
     "output_type": "stream",
     "text": [
      "[CV 4/10] END max_depth=5, min_samples_leaf=10, min_samples_split=5, n_estimators=50;, score=0.134 total time=   0.7s\n"
     ]
    },
    {
     "name": "stderr",
     "output_type": "stream",
     "text": [
      "C:\\Users\\ben8h\\anaconda3\\Lib\\site-packages\\sklearn\\base.py:1474: DataConversionWarning: A column-vector y was passed when a 1d array was expected. Please change the shape of y to (n_samples,), for example using ravel().\n",
      "  return fit_method(estimator, *args, **kwargs)\n"
     ]
    },
    {
     "name": "stdout",
     "output_type": "stream",
     "text": [
      "[CV 5/10] END max_depth=5, min_samples_leaf=10, min_samples_split=5, n_estimators=50;, score=0.168 total time=   0.6s\n"
     ]
    },
    {
     "name": "stderr",
     "output_type": "stream",
     "text": [
      "C:\\Users\\ben8h\\anaconda3\\Lib\\site-packages\\sklearn\\base.py:1474: DataConversionWarning: A column-vector y was passed when a 1d array was expected. Please change the shape of y to (n_samples,), for example using ravel().\n",
      "  return fit_method(estimator, *args, **kwargs)\n"
     ]
    },
    {
     "name": "stdout",
     "output_type": "stream",
     "text": [
      "[CV 6/10] END max_depth=5, min_samples_leaf=10, min_samples_split=5, n_estimators=50;, score=0.124 total time=   0.6s\n"
     ]
    },
    {
     "name": "stderr",
     "output_type": "stream",
     "text": [
      "C:\\Users\\ben8h\\anaconda3\\Lib\\site-packages\\sklearn\\base.py:1474: DataConversionWarning: A column-vector y was passed when a 1d array was expected. Please change the shape of y to (n_samples,), for example using ravel().\n",
      "  return fit_method(estimator, *args, **kwargs)\n"
     ]
    },
    {
     "name": "stdout",
     "output_type": "stream",
     "text": [
      "[CV 7/10] END max_depth=5, min_samples_leaf=10, min_samples_split=5, n_estimators=50;, score=0.152 total time=   0.7s\n"
     ]
    },
    {
     "name": "stderr",
     "output_type": "stream",
     "text": [
      "C:\\Users\\ben8h\\anaconda3\\Lib\\site-packages\\sklearn\\base.py:1474: DataConversionWarning: A column-vector y was passed when a 1d array was expected. Please change the shape of y to (n_samples,), for example using ravel().\n",
      "  return fit_method(estimator, *args, **kwargs)\n"
     ]
    },
    {
     "name": "stdout",
     "output_type": "stream",
     "text": [
      "[CV 8/10] END max_depth=5, min_samples_leaf=10, min_samples_split=5, n_estimators=50;, score=0.141 total time=   0.7s\n"
     ]
    },
    {
     "name": "stderr",
     "output_type": "stream",
     "text": [
      "C:\\Users\\ben8h\\anaconda3\\Lib\\site-packages\\sklearn\\base.py:1474: DataConversionWarning: A column-vector y was passed when a 1d array was expected. Please change the shape of y to (n_samples,), for example using ravel().\n",
      "  return fit_method(estimator, *args, **kwargs)\n"
     ]
    },
    {
     "name": "stdout",
     "output_type": "stream",
     "text": [
      "[CV 9/10] END max_depth=5, min_samples_leaf=10, min_samples_split=5, n_estimators=50;, score=0.144 total time=   0.6s\n"
     ]
    },
    {
     "name": "stderr",
     "output_type": "stream",
     "text": [
      "C:\\Users\\ben8h\\anaconda3\\Lib\\site-packages\\sklearn\\base.py:1474: DataConversionWarning: A column-vector y was passed when a 1d array was expected. Please change the shape of y to (n_samples,), for example using ravel().\n",
      "  return fit_method(estimator, *args, **kwargs)\n"
     ]
    },
    {
     "name": "stdout",
     "output_type": "stream",
     "text": [
      "[CV 10/10] END max_depth=5, min_samples_leaf=10, min_samples_split=5, n_estimators=50;, score=0.148 total time=   0.6s\n"
     ]
    },
    {
     "name": "stderr",
     "output_type": "stream",
     "text": [
      "C:\\Users\\ben8h\\anaconda3\\Lib\\site-packages\\sklearn\\base.py:1474: DataConversionWarning: A column-vector y was passed when a 1d array was expected. Please change the shape of y to (n_samples,), for example using ravel().\n",
      "  return fit_method(estimator, *args, **kwargs)\n"
     ]
    },
    {
     "name": "stdout",
     "output_type": "stream",
     "text": [
      "[CV 1/10] END max_depth=5, min_samples_leaf=10, min_samples_split=5, n_estimators=100;, score=0.126 total time=   1.4s\n"
     ]
    },
    {
     "name": "stderr",
     "output_type": "stream",
     "text": [
      "C:\\Users\\ben8h\\anaconda3\\Lib\\site-packages\\sklearn\\base.py:1474: DataConversionWarning: A column-vector y was passed when a 1d array was expected. Please change the shape of y to (n_samples,), for example using ravel().\n",
      "  return fit_method(estimator, *args, **kwargs)\n"
     ]
    },
    {
     "name": "stdout",
     "output_type": "stream",
     "text": [
      "[CV 2/10] END max_depth=5, min_samples_leaf=10, min_samples_split=5, n_estimators=100;, score=0.148 total time=   1.4s\n"
     ]
    },
    {
     "name": "stderr",
     "output_type": "stream",
     "text": [
      "C:\\Users\\ben8h\\anaconda3\\Lib\\site-packages\\sklearn\\base.py:1474: DataConversionWarning: A column-vector y was passed when a 1d array was expected. Please change the shape of y to (n_samples,), for example using ravel().\n",
      "  return fit_method(estimator, *args, **kwargs)\n"
     ]
    },
    {
     "name": "stdout",
     "output_type": "stream",
     "text": [
      "[CV 3/10] END max_depth=5, min_samples_leaf=10, min_samples_split=5, n_estimators=100;, score=0.187 total time=   1.4s\n"
     ]
    },
    {
     "name": "stderr",
     "output_type": "stream",
     "text": [
      "C:\\Users\\ben8h\\anaconda3\\Lib\\site-packages\\sklearn\\base.py:1474: DataConversionWarning: A column-vector y was passed when a 1d array was expected. Please change the shape of y to (n_samples,), for example using ravel().\n",
      "  return fit_method(estimator, *args, **kwargs)\n"
     ]
    },
    {
     "name": "stdout",
     "output_type": "stream",
     "text": [
      "[CV 4/10] END max_depth=5, min_samples_leaf=10, min_samples_split=5, n_estimators=100;, score=0.133 total time=   1.4s\n"
     ]
    },
    {
     "name": "stderr",
     "output_type": "stream",
     "text": [
      "C:\\Users\\ben8h\\anaconda3\\Lib\\site-packages\\sklearn\\base.py:1474: DataConversionWarning: A column-vector y was passed when a 1d array was expected. Please change the shape of y to (n_samples,), for example using ravel().\n",
      "  return fit_method(estimator, *args, **kwargs)\n"
     ]
    },
    {
     "name": "stdout",
     "output_type": "stream",
     "text": [
      "[CV 5/10] END max_depth=5, min_samples_leaf=10, min_samples_split=5, n_estimators=100;, score=0.175 total time=   1.4s\n"
     ]
    },
    {
     "name": "stderr",
     "output_type": "stream",
     "text": [
      "C:\\Users\\ben8h\\anaconda3\\Lib\\site-packages\\sklearn\\base.py:1474: DataConversionWarning: A column-vector y was passed when a 1d array was expected. Please change the shape of y to (n_samples,), for example using ravel().\n",
      "  return fit_method(estimator, *args, **kwargs)\n"
     ]
    },
    {
     "name": "stdout",
     "output_type": "stream",
     "text": [
      "[CV 6/10] END max_depth=5, min_samples_leaf=10, min_samples_split=5, n_estimators=100;, score=0.119 total time=   1.4s\n"
     ]
    },
    {
     "name": "stderr",
     "output_type": "stream",
     "text": [
      "C:\\Users\\ben8h\\anaconda3\\Lib\\site-packages\\sklearn\\base.py:1474: DataConversionWarning: A column-vector y was passed when a 1d array was expected. Please change the shape of y to (n_samples,), for example using ravel().\n",
      "  return fit_method(estimator, *args, **kwargs)\n"
     ]
    },
    {
     "name": "stdout",
     "output_type": "stream",
     "text": [
      "[CV 7/10] END max_depth=5, min_samples_leaf=10, min_samples_split=5, n_estimators=100;, score=0.148 total time=   1.4s\n"
     ]
    },
    {
     "name": "stderr",
     "output_type": "stream",
     "text": [
      "C:\\Users\\ben8h\\anaconda3\\Lib\\site-packages\\sklearn\\base.py:1474: DataConversionWarning: A column-vector y was passed when a 1d array was expected. Please change the shape of y to (n_samples,), for example using ravel().\n",
      "  return fit_method(estimator, *args, **kwargs)\n"
     ]
    },
    {
     "name": "stdout",
     "output_type": "stream",
     "text": [
      "[CV 8/10] END max_depth=5, min_samples_leaf=10, min_samples_split=5, n_estimators=100;, score=0.140 total time=   1.4s\n"
     ]
    },
    {
     "name": "stderr",
     "output_type": "stream",
     "text": [
      "C:\\Users\\ben8h\\anaconda3\\Lib\\site-packages\\sklearn\\base.py:1474: DataConversionWarning: A column-vector y was passed when a 1d array was expected. Please change the shape of y to (n_samples,), for example using ravel().\n",
      "  return fit_method(estimator, *args, **kwargs)\n"
     ]
    },
    {
     "name": "stdout",
     "output_type": "stream",
     "text": [
      "[CV 9/10] END max_depth=5, min_samples_leaf=10, min_samples_split=5, n_estimators=100;, score=0.151 total time=   1.4s\n"
     ]
    },
    {
     "name": "stderr",
     "output_type": "stream",
     "text": [
      "C:\\Users\\ben8h\\anaconda3\\Lib\\site-packages\\sklearn\\base.py:1474: DataConversionWarning: A column-vector y was passed when a 1d array was expected. Please change the shape of y to (n_samples,), for example using ravel().\n",
      "  return fit_method(estimator, *args, **kwargs)\n"
     ]
    },
    {
     "name": "stdout",
     "output_type": "stream",
     "text": [
      "[CV 10/10] END max_depth=5, min_samples_leaf=10, min_samples_split=5, n_estimators=100;, score=0.153 total time=   1.4s\n"
     ]
    },
    {
     "name": "stderr",
     "output_type": "stream",
     "text": [
      "C:\\Users\\ben8h\\anaconda3\\Lib\\site-packages\\sklearn\\base.py:1474: DataConversionWarning: A column-vector y was passed when a 1d array was expected. Please change the shape of y to (n_samples,), for example using ravel().\n",
      "  return fit_method(estimator, *args, **kwargs)\n"
     ]
    },
    {
     "name": "stdout",
     "output_type": "stream",
     "text": [
      "[CV 1/10] END max_depth=5, min_samples_leaf=10, min_samples_split=5, n_estimators=200;, score=0.126 total time=   2.8s\n"
     ]
    },
    {
     "name": "stderr",
     "output_type": "stream",
     "text": [
      "C:\\Users\\ben8h\\anaconda3\\Lib\\site-packages\\sklearn\\base.py:1474: DataConversionWarning: A column-vector y was passed when a 1d array was expected. Please change the shape of y to (n_samples,), for example using ravel().\n",
      "  return fit_method(estimator, *args, **kwargs)\n"
     ]
    },
    {
     "name": "stdout",
     "output_type": "stream",
     "text": [
      "[CV 2/10] END max_depth=5, min_samples_leaf=10, min_samples_split=5, n_estimators=200;, score=0.148 total time=   2.9s\n"
     ]
    },
    {
     "name": "stderr",
     "output_type": "stream",
     "text": [
      "C:\\Users\\ben8h\\anaconda3\\Lib\\site-packages\\sklearn\\base.py:1474: DataConversionWarning: A column-vector y was passed when a 1d array was expected. Please change the shape of y to (n_samples,), for example using ravel().\n",
      "  return fit_method(estimator, *args, **kwargs)\n"
     ]
    },
    {
     "name": "stdout",
     "output_type": "stream",
     "text": [
      "[CV 3/10] END max_depth=5, min_samples_leaf=10, min_samples_split=5, n_estimators=200;, score=0.189 total time=   2.9s\n"
     ]
    },
    {
     "name": "stderr",
     "output_type": "stream",
     "text": [
      "C:\\Users\\ben8h\\anaconda3\\Lib\\site-packages\\sklearn\\base.py:1474: DataConversionWarning: A column-vector y was passed when a 1d array was expected. Please change the shape of y to (n_samples,), for example using ravel().\n",
      "  return fit_method(estimator, *args, **kwargs)\n"
     ]
    },
    {
     "name": "stdout",
     "output_type": "stream",
     "text": [
      "[CV 4/10] END max_depth=5, min_samples_leaf=10, min_samples_split=5, n_estimators=200;, score=0.136 total time=   2.9s\n"
     ]
    },
    {
     "name": "stderr",
     "output_type": "stream",
     "text": [
      "C:\\Users\\ben8h\\anaconda3\\Lib\\site-packages\\sklearn\\base.py:1474: DataConversionWarning: A column-vector y was passed when a 1d array was expected. Please change the shape of y to (n_samples,), for example using ravel().\n",
      "  return fit_method(estimator, *args, **kwargs)\n"
     ]
    },
    {
     "name": "stdout",
     "output_type": "stream",
     "text": [
      "[CV 5/10] END max_depth=5, min_samples_leaf=10, min_samples_split=5, n_estimators=200;, score=0.172 total time=   2.9s\n"
     ]
    },
    {
     "name": "stderr",
     "output_type": "stream",
     "text": [
      "C:\\Users\\ben8h\\anaconda3\\Lib\\site-packages\\sklearn\\base.py:1474: DataConversionWarning: A column-vector y was passed when a 1d array was expected. Please change the shape of y to (n_samples,), for example using ravel().\n",
      "  return fit_method(estimator, *args, **kwargs)\n"
     ]
    },
    {
     "name": "stdout",
     "output_type": "stream",
     "text": [
      "[CV 6/10] END max_depth=5, min_samples_leaf=10, min_samples_split=5, n_estimators=200;, score=0.120 total time=   2.9s\n"
     ]
    },
    {
     "name": "stderr",
     "output_type": "stream",
     "text": [
      "C:\\Users\\ben8h\\anaconda3\\Lib\\site-packages\\sklearn\\base.py:1474: DataConversionWarning: A column-vector y was passed when a 1d array was expected. Please change the shape of y to (n_samples,), for example using ravel().\n",
      "  return fit_method(estimator, *args, **kwargs)\n"
     ]
    },
    {
     "name": "stdout",
     "output_type": "stream",
     "text": [
      "[CV 7/10] END max_depth=5, min_samples_leaf=10, min_samples_split=5, n_estimators=200;, score=0.149 total time=   2.8s\n"
     ]
    },
    {
     "name": "stderr",
     "output_type": "stream",
     "text": [
      "C:\\Users\\ben8h\\anaconda3\\Lib\\site-packages\\sklearn\\base.py:1474: DataConversionWarning: A column-vector y was passed when a 1d array was expected. Please change the shape of y to (n_samples,), for example using ravel().\n",
      "  return fit_method(estimator, *args, **kwargs)\n"
     ]
    },
    {
     "name": "stdout",
     "output_type": "stream",
     "text": [
      "[CV 8/10] END max_depth=5, min_samples_leaf=10, min_samples_split=5, n_estimators=200;, score=0.140 total time=   2.9s\n"
     ]
    },
    {
     "name": "stderr",
     "output_type": "stream",
     "text": [
      "C:\\Users\\ben8h\\anaconda3\\Lib\\site-packages\\sklearn\\base.py:1474: DataConversionWarning: A column-vector y was passed when a 1d array was expected. Please change the shape of y to (n_samples,), for example using ravel().\n",
      "  return fit_method(estimator, *args, **kwargs)\n"
     ]
    },
    {
     "name": "stdout",
     "output_type": "stream",
     "text": [
      "[CV 9/10] END max_depth=5, min_samples_leaf=10, min_samples_split=5, n_estimators=200;, score=0.150 total time=   2.8s\n"
     ]
    },
    {
     "name": "stderr",
     "output_type": "stream",
     "text": [
      "C:\\Users\\ben8h\\anaconda3\\Lib\\site-packages\\sklearn\\base.py:1474: DataConversionWarning: A column-vector y was passed when a 1d array was expected. Please change the shape of y to (n_samples,), for example using ravel().\n",
      "  return fit_method(estimator, *args, **kwargs)\n"
     ]
    },
    {
     "name": "stdout",
     "output_type": "stream",
     "text": [
      "[CV 10/10] END max_depth=5, min_samples_leaf=10, min_samples_split=5, n_estimators=200;, score=0.150 total time=   2.9s\n"
     ]
    },
    {
     "name": "stderr",
     "output_type": "stream",
     "text": [
      "C:\\Users\\ben8h\\anaconda3\\Lib\\site-packages\\sklearn\\base.py:1474: DataConversionWarning: A column-vector y was passed when a 1d array was expected. Please change the shape of y to (n_samples,), for example using ravel().\n",
      "  return fit_method(estimator, *args, **kwargs)\n"
     ]
    },
    {
     "name": "stdout",
     "output_type": "stream",
     "text": [
      "[CV 1/10] END max_depth=5, min_samples_leaf=10, min_samples_split=10, n_estimators=50;, score=0.121 total time=   0.6s\n"
     ]
    },
    {
     "name": "stderr",
     "output_type": "stream",
     "text": [
      "C:\\Users\\ben8h\\anaconda3\\Lib\\site-packages\\sklearn\\base.py:1474: DataConversionWarning: A column-vector y was passed when a 1d array was expected. Please change the shape of y to (n_samples,), for example using ravel().\n",
      "  return fit_method(estimator, *args, **kwargs)\n"
     ]
    },
    {
     "name": "stdout",
     "output_type": "stream",
     "text": [
      "[CV 2/10] END max_depth=5, min_samples_leaf=10, min_samples_split=10, n_estimators=50;, score=0.147 total time=   0.7s\n"
     ]
    },
    {
     "name": "stderr",
     "output_type": "stream",
     "text": [
      "C:\\Users\\ben8h\\anaconda3\\Lib\\site-packages\\sklearn\\base.py:1474: DataConversionWarning: A column-vector y was passed when a 1d array was expected. Please change the shape of y to (n_samples,), for example using ravel().\n",
      "  return fit_method(estimator, *args, **kwargs)\n"
     ]
    },
    {
     "name": "stdout",
     "output_type": "stream",
     "text": [
      "[CV 3/10] END max_depth=5, min_samples_leaf=10, min_samples_split=10, n_estimators=50;, score=0.191 total time=   0.7s\n"
     ]
    },
    {
     "name": "stderr",
     "output_type": "stream",
     "text": [
      "C:\\Users\\ben8h\\anaconda3\\Lib\\site-packages\\sklearn\\base.py:1474: DataConversionWarning: A column-vector y was passed when a 1d array was expected. Please change the shape of y to (n_samples,), for example using ravel().\n",
      "  return fit_method(estimator, *args, **kwargs)\n"
     ]
    },
    {
     "name": "stdout",
     "output_type": "stream",
     "text": [
      "[CV 4/10] END max_depth=5, min_samples_leaf=10, min_samples_split=10, n_estimators=50;, score=0.129 total time=   0.6s\n"
     ]
    },
    {
     "name": "stderr",
     "output_type": "stream",
     "text": [
      "C:\\Users\\ben8h\\anaconda3\\Lib\\site-packages\\sklearn\\base.py:1474: DataConversionWarning: A column-vector y was passed when a 1d array was expected. Please change the shape of y to (n_samples,), for example using ravel().\n",
      "  return fit_method(estimator, *args, **kwargs)\n"
     ]
    },
    {
     "name": "stdout",
     "output_type": "stream",
     "text": [
      "[CV 5/10] END max_depth=5, min_samples_leaf=10, min_samples_split=10, n_estimators=50;, score=0.170 total time=   0.6s\n"
     ]
    },
    {
     "name": "stderr",
     "output_type": "stream",
     "text": [
      "C:\\Users\\ben8h\\anaconda3\\Lib\\site-packages\\sklearn\\base.py:1474: DataConversionWarning: A column-vector y was passed when a 1d array was expected. Please change the shape of y to (n_samples,), for example using ravel().\n",
      "  return fit_method(estimator, *args, **kwargs)\n"
     ]
    },
    {
     "name": "stdout",
     "output_type": "stream",
     "text": [
      "[CV 6/10] END max_depth=5, min_samples_leaf=10, min_samples_split=10, n_estimators=50;, score=0.118 total time=   0.6s\n"
     ]
    },
    {
     "name": "stderr",
     "output_type": "stream",
     "text": [
      "C:\\Users\\ben8h\\anaconda3\\Lib\\site-packages\\sklearn\\base.py:1474: DataConversionWarning: A column-vector y was passed when a 1d array was expected. Please change the shape of y to (n_samples,), for example using ravel().\n",
      "  return fit_method(estimator, *args, **kwargs)\n"
     ]
    },
    {
     "name": "stdout",
     "output_type": "stream",
     "text": [
      "[CV 7/10] END max_depth=5, min_samples_leaf=10, min_samples_split=10, n_estimators=50;, score=0.147 total time=   0.6s\n"
     ]
    },
    {
     "name": "stderr",
     "output_type": "stream",
     "text": [
      "C:\\Users\\ben8h\\anaconda3\\Lib\\site-packages\\sklearn\\base.py:1474: DataConversionWarning: A column-vector y was passed when a 1d array was expected. Please change the shape of y to (n_samples,), for example using ravel().\n",
      "  return fit_method(estimator, *args, **kwargs)\n"
     ]
    },
    {
     "name": "stdout",
     "output_type": "stream",
     "text": [
      "[CV 8/10] END max_depth=5, min_samples_leaf=10, min_samples_split=10, n_estimators=50;, score=0.138 total time=   0.6s\n"
     ]
    },
    {
     "name": "stderr",
     "output_type": "stream",
     "text": [
      "C:\\Users\\ben8h\\anaconda3\\Lib\\site-packages\\sklearn\\base.py:1474: DataConversionWarning: A column-vector y was passed when a 1d array was expected. Please change the shape of y to (n_samples,), for example using ravel().\n",
      "  return fit_method(estimator, *args, **kwargs)\n"
     ]
    },
    {
     "name": "stdout",
     "output_type": "stream",
     "text": [
      "[CV 9/10] END max_depth=5, min_samples_leaf=10, min_samples_split=10, n_estimators=50;, score=0.156 total time=   0.6s\n"
     ]
    },
    {
     "name": "stderr",
     "output_type": "stream",
     "text": [
      "C:\\Users\\ben8h\\anaconda3\\Lib\\site-packages\\sklearn\\base.py:1474: DataConversionWarning: A column-vector y was passed when a 1d array was expected. Please change the shape of y to (n_samples,), for example using ravel().\n",
      "  return fit_method(estimator, *args, **kwargs)\n"
     ]
    },
    {
     "name": "stdout",
     "output_type": "stream",
     "text": [
      "[CV 10/10] END max_depth=5, min_samples_leaf=10, min_samples_split=10, n_estimators=50;, score=0.150 total time=   0.6s\n"
     ]
    },
    {
     "name": "stderr",
     "output_type": "stream",
     "text": [
      "C:\\Users\\ben8h\\anaconda3\\Lib\\site-packages\\sklearn\\base.py:1474: DataConversionWarning: A column-vector y was passed when a 1d array was expected. Please change the shape of y to (n_samples,), for example using ravel().\n",
      "  return fit_method(estimator, *args, **kwargs)\n"
     ]
    },
    {
     "name": "stdout",
     "output_type": "stream",
     "text": [
      "[CV 1/10] END max_depth=5, min_samples_leaf=10, min_samples_split=10, n_estimators=100;, score=0.122 total time=   1.4s\n"
     ]
    },
    {
     "name": "stderr",
     "output_type": "stream",
     "text": [
      "C:\\Users\\ben8h\\anaconda3\\Lib\\site-packages\\sklearn\\base.py:1474: DataConversionWarning: A column-vector y was passed when a 1d array was expected. Please change the shape of y to (n_samples,), for example using ravel().\n",
      "  return fit_method(estimator, *args, **kwargs)\n"
     ]
    },
    {
     "name": "stdout",
     "output_type": "stream",
     "text": [
      "[CV 2/10] END max_depth=5, min_samples_leaf=10, min_samples_split=10, n_estimators=100;, score=0.151 total time=   1.4s\n"
     ]
    },
    {
     "name": "stderr",
     "output_type": "stream",
     "text": [
      "C:\\Users\\ben8h\\anaconda3\\Lib\\site-packages\\sklearn\\base.py:1474: DataConversionWarning: A column-vector y was passed when a 1d array was expected. Please change the shape of y to (n_samples,), for example using ravel().\n",
      "  return fit_method(estimator, *args, **kwargs)\n"
     ]
    },
    {
     "name": "stdout",
     "output_type": "stream",
     "text": [
      "[CV 3/10] END max_depth=5, min_samples_leaf=10, min_samples_split=10, n_estimators=100;, score=0.186 total time=   1.4s\n"
     ]
    },
    {
     "name": "stderr",
     "output_type": "stream",
     "text": [
      "C:\\Users\\ben8h\\anaconda3\\Lib\\site-packages\\sklearn\\base.py:1474: DataConversionWarning: A column-vector y was passed when a 1d array was expected. Please change the shape of y to (n_samples,), for example using ravel().\n",
      "  return fit_method(estimator, *args, **kwargs)\n"
     ]
    },
    {
     "name": "stdout",
     "output_type": "stream",
     "text": [
      "[CV 4/10] END max_depth=5, min_samples_leaf=10, min_samples_split=10, n_estimators=100;, score=0.134 total time=   1.4s\n"
     ]
    },
    {
     "name": "stderr",
     "output_type": "stream",
     "text": [
      "C:\\Users\\ben8h\\anaconda3\\Lib\\site-packages\\sklearn\\base.py:1474: DataConversionWarning: A column-vector y was passed when a 1d array was expected. Please change the shape of y to (n_samples,), for example using ravel().\n",
      "  return fit_method(estimator, *args, **kwargs)\n"
     ]
    },
    {
     "name": "stdout",
     "output_type": "stream",
     "text": [
      "[CV 5/10] END max_depth=5, min_samples_leaf=10, min_samples_split=10, n_estimators=100;, score=0.173 total time=   1.4s\n"
     ]
    },
    {
     "name": "stderr",
     "output_type": "stream",
     "text": [
      "C:\\Users\\ben8h\\anaconda3\\Lib\\site-packages\\sklearn\\base.py:1474: DataConversionWarning: A column-vector y was passed when a 1d array was expected. Please change the shape of y to (n_samples,), for example using ravel().\n",
      "  return fit_method(estimator, *args, **kwargs)\n"
     ]
    },
    {
     "name": "stdout",
     "output_type": "stream",
     "text": [
      "[CV 6/10] END max_depth=5, min_samples_leaf=10, min_samples_split=10, n_estimators=100;, score=0.121 total time=   1.4s\n"
     ]
    },
    {
     "name": "stderr",
     "output_type": "stream",
     "text": [
      "C:\\Users\\ben8h\\anaconda3\\Lib\\site-packages\\sklearn\\base.py:1474: DataConversionWarning: A column-vector y was passed when a 1d array was expected. Please change the shape of y to (n_samples,), for example using ravel().\n",
      "  return fit_method(estimator, *args, **kwargs)\n"
     ]
    },
    {
     "name": "stdout",
     "output_type": "stream",
     "text": [
      "[CV 7/10] END max_depth=5, min_samples_leaf=10, min_samples_split=10, n_estimators=100;, score=0.150 total time=   1.4s\n"
     ]
    },
    {
     "name": "stderr",
     "output_type": "stream",
     "text": [
      "C:\\Users\\ben8h\\anaconda3\\Lib\\site-packages\\sklearn\\base.py:1474: DataConversionWarning: A column-vector y was passed when a 1d array was expected. Please change the shape of y to (n_samples,), for example using ravel().\n",
      "  return fit_method(estimator, *args, **kwargs)\n"
     ]
    },
    {
     "name": "stdout",
     "output_type": "stream",
     "text": [
      "[CV 8/10] END max_depth=5, min_samples_leaf=10, min_samples_split=10, n_estimators=100;, score=0.139 total time=   1.4s\n"
     ]
    },
    {
     "name": "stderr",
     "output_type": "stream",
     "text": [
      "C:\\Users\\ben8h\\anaconda3\\Lib\\site-packages\\sklearn\\base.py:1474: DataConversionWarning: A column-vector y was passed when a 1d array was expected. Please change the shape of y to (n_samples,), for example using ravel().\n",
      "  return fit_method(estimator, *args, **kwargs)\n"
     ]
    },
    {
     "name": "stdout",
     "output_type": "stream",
     "text": [
      "[CV 9/10] END max_depth=5, min_samples_leaf=10, min_samples_split=10, n_estimators=100;, score=0.148 total time=   1.4s\n"
     ]
    },
    {
     "name": "stderr",
     "output_type": "stream",
     "text": [
      "C:\\Users\\ben8h\\anaconda3\\Lib\\site-packages\\sklearn\\base.py:1474: DataConversionWarning: A column-vector y was passed when a 1d array was expected. Please change the shape of y to (n_samples,), for example using ravel().\n",
      "  return fit_method(estimator, *args, **kwargs)\n"
     ]
    },
    {
     "name": "stdout",
     "output_type": "stream",
     "text": [
      "[CV 10/10] END max_depth=5, min_samples_leaf=10, min_samples_split=10, n_estimators=100;, score=0.154 total time=   1.4s\n"
     ]
    },
    {
     "name": "stderr",
     "output_type": "stream",
     "text": [
      "C:\\Users\\ben8h\\anaconda3\\Lib\\site-packages\\sklearn\\base.py:1474: DataConversionWarning: A column-vector y was passed when a 1d array was expected. Please change the shape of y to (n_samples,), for example using ravel().\n",
      "  return fit_method(estimator, *args, **kwargs)\n"
     ]
    },
    {
     "name": "stdout",
     "output_type": "stream",
     "text": [
      "[CV 1/10] END max_depth=5, min_samples_leaf=10, min_samples_split=10, n_estimators=200;, score=0.125 total time=   2.9s\n"
     ]
    },
    {
     "name": "stderr",
     "output_type": "stream",
     "text": [
      "C:\\Users\\ben8h\\anaconda3\\Lib\\site-packages\\sklearn\\base.py:1474: DataConversionWarning: A column-vector y was passed when a 1d array was expected. Please change the shape of y to (n_samples,), for example using ravel().\n",
      "  return fit_method(estimator, *args, **kwargs)\n"
     ]
    },
    {
     "name": "stdout",
     "output_type": "stream",
     "text": [
      "[CV 2/10] END max_depth=5, min_samples_leaf=10, min_samples_split=10, n_estimators=200;, score=0.148 total time=   2.8s\n"
     ]
    },
    {
     "name": "stderr",
     "output_type": "stream",
     "text": [
      "C:\\Users\\ben8h\\anaconda3\\Lib\\site-packages\\sklearn\\base.py:1474: DataConversionWarning: A column-vector y was passed when a 1d array was expected. Please change the shape of y to (n_samples,), for example using ravel().\n",
      "  return fit_method(estimator, *args, **kwargs)\n"
     ]
    },
    {
     "name": "stdout",
     "output_type": "stream",
     "text": [
      "[CV 3/10] END max_depth=5, min_samples_leaf=10, min_samples_split=10, n_estimators=200;, score=0.188 total time=   2.8s\n"
     ]
    },
    {
     "name": "stderr",
     "output_type": "stream",
     "text": [
      "C:\\Users\\ben8h\\anaconda3\\Lib\\site-packages\\sklearn\\base.py:1474: DataConversionWarning: A column-vector y was passed when a 1d array was expected. Please change the shape of y to (n_samples,), for example using ravel().\n",
      "  return fit_method(estimator, *args, **kwargs)\n"
     ]
    },
    {
     "name": "stdout",
     "output_type": "stream",
     "text": [
      "[CV 4/10] END max_depth=5, min_samples_leaf=10, min_samples_split=10, n_estimators=200;, score=0.134 total time=   2.9s\n"
     ]
    },
    {
     "name": "stderr",
     "output_type": "stream",
     "text": [
      "C:\\Users\\ben8h\\anaconda3\\Lib\\site-packages\\sklearn\\base.py:1474: DataConversionWarning: A column-vector y was passed when a 1d array was expected. Please change the shape of y to (n_samples,), for example using ravel().\n",
      "  return fit_method(estimator, *args, **kwargs)\n"
     ]
    },
    {
     "name": "stdout",
     "output_type": "stream",
     "text": [
      "[CV 5/10] END max_depth=5, min_samples_leaf=10, min_samples_split=10, n_estimators=200;, score=0.175 total time=   2.9s\n"
     ]
    },
    {
     "name": "stderr",
     "output_type": "stream",
     "text": [
      "C:\\Users\\ben8h\\anaconda3\\Lib\\site-packages\\sklearn\\base.py:1474: DataConversionWarning: A column-vector y was passed when a 1d array was expected. Please change the shape of y to (n_samples,), for example using ravel().\n",
      "  return fit_method(estimator, *args, **kwargs)\n"
     ]
    },
    {
     "name": "stdout",
     "output_type": "stream",
     "text": [
      "[CV 6/10] END max_depth=5, min_samples_leaf=10, min_samples_split=10, n_estimators=200;, score=0.124 total time=   2.8s\n"
     ]
    },
    {
     "name": "stderr",
     "output_type": "stream",
     "text": [
      "C:\\Users\\ben8h\\anaconda3\\Lib\\site-packages\\sklearn\\base.py:1474: DataConversionWarning: A column-vector y was passed when a 1d array was expected. Please change the shape of y to (n_samples,), for example using ravel().\n",
      "  return fit_method(estimator, *args, **kwargs)\n"
     ]
    },
    {
     "name": "stdout",
     "output_type": "stream",
     "text": [
      "[CV 7/10] END max_depth=5, min_samples_leaf=10, min_samples_split=10, n_estimators=200;, score=0.149 total time=   2.8s\n"
     ]
    },
    {
     "name": "stderr",
     "output_type": "stream",
     "text": [
      "C:\\Users\\ben8h\\anaconda3\\Lib\\site-packages\\sklearn\\base.py:1474: DataConversionWarning: A column-vector y was passed when a 1d array was expected. Please change the shape of y to (n_samples,), for example using ravel().\n",
      "  return fit_method(estimator, *args, **kwargs)\n"
     ]
    },
    {
     "name": "stdout",
     "output_type": "stream",
     "text": [
      "[CV 8/10] END max_depth=5, min_samples_leaf=10, min_samples_split=10, n_estimators=200;, score=0.139 total time=   2.9s\n"
     ]
    },
    {
     "name": "stderr",
     "output_type": "stream",
     "text": [
      "C:\\Users\\ben8h\\anaconda3\\Lib\\site-packages\\sklearn\\base.py:1474: DataConversionWarning: A column-vector y was passed when a 1d array was expected. Please change the shape of y to (n_samples,), for example using ravel().\n",
      "  return fit_method(estimator, *args, **kwargs)\n"
     ]
    },
    {
     "name": "stdout",
     "output_type": "stream",
     "text": [
      "[CV 9/10] END max_depth=5, min_samples_leaf=10, min_samples_split=10, n_estimators=200;, score=0.149 total time=   2.9s\n"
     ]
    },
    {
     "name": "stderr",
     "output_type": "stream",
     "text": [
      "C:\\Users\\ben8h\\anaconda3\\Lib\\site-packages\\sklearn\\base.py:1474: DataConversionWarning: A column-vector y was passed when a 1d array was expected. Please change the shape of y to (n_samples,), for example using ravel().\n",
      "  return fit_method(estimator, *args, **kwargs)\n"
     ]
    },
    {
     "name": "stdout",
     "output_type": "stream",
     "text": [
      "[CV 10/10] END max_depth=5, min_samples_leaf=10, min_samples_split=10, n_estimators=200;, score=0.151 total time=   2.9s\n"
     ]
    },
    {
     "name": "stderr",
     "output_type": "stream",
     "text": [
      "C:\\Users\\ben8h\\anaconda3\\Lib\\site-packages\\sklearn\\base.py:1474: DataConversionWarning: A column-vector y was passed when a 1d array was expected. Please change the shape of y to (n_samples,), for example using ravel().\n",
      "  return fit_method(estimator, *args, **kwargs)\n"
     ]
    },
    {
     "name": "stdout",
     "output_type": "stream",
     "text": [
      "[CV 1/10] END max_depth=10, min_samples_leaf=1, min_samples_split=2, n_estimators=50;, score=0.142 total time=   1.3s\n"
     ]
    },
    {
     "name": "stderr",
     "output_type": "stream",
     "text": [
      "C:\\Users\\ben8h\\anaconda3\\Lib\\site-packages\\sklearn\\base.py:1474: DataConversionWarning: A column-vector y was passed when a 1d array was expected. Please change the shape of y to (n_samples,), for example using ravel().\n",
      "  return fit_method(estimator, *args, **kwargs)\n"
     ]
    },
    {
     "name": "stdout",
     "output_type": "stream",
     "text": [
      "[CV 2/10] END max_depth=10, min_samples_leaf=1, min_samples_split=2, n_estimators=50;, score=0.161 total time=   1.4s\n"
     ]
    },
    {
     "name": "stderr",
     "output_type": "stream",
     "text": [
      "C:\\Users\\ben8h\\anaconda3\\Lib\\site-packages\\sklearn\\base.py:1474: DataConversionWarning: A column-vector y was passed when a 1d array was expected. Please change the shape of y to (n_samples,), for example using ravel().\n",
      "  return fit_method(estimator, *args, **kwargs)\n"
     ]
    },
    {
     "name": "stdout",
     "output_type": "stream",
     "text": [
      "[CV 3/10] END max_depth=10, min_samples_leaf=1, min_samples_split=2, n_estimators=50;, score=0.226 total time=   1.4s\n"
     ]
    },
    {
     "name": "stderr",
     "output_type": "stream",
     "text": [
      "C:\\Users\\ben8h\\anaconda3\\Lib\\site-packages\\sklearn\\base.py:1474: DataConversionWarning: A column-vector y was passed when a 1d array was expected. Please change the shape of y to (n_samples,), for example using ravel().\n",
      "  return fit_method(estimator, *args, **kwargs)\n"
     ]
    },
    {
     "name": "stdout",
     "output_type": "stream",
     "text": [
      "[CV 4/10] END max_depth=10, min_samples_leaf=1, min_samples_split=2, n_estimators=50;, score=0.136 total time=   1.4s\n"
     ]
    },
    {
     "name": "stderr",
     "output_type": "stream",
     "text": [
      "C:\\Users\\ben8h\\anaconda3\\Lib\\site-packages\\sklearn\\base.py:1474: DataConversionWarning: A column-vector y was passed when a 1d array was expected. Please change the shape of y to (n_samples,), for example using ravel().\n",
      "  return fit_method(estimator, *args, **kwargs)\n"
     ]
    },
    {
     "name": "stdout",
     "output_type": "stream",
     "text": [
      "[CV 5/10] END max_depth=10, min_samples_leaf=1, min_samples_split=2, n_estimators=50;, score=0.191 total time=   1.4s\n"
     ]
    },
    {
     "name": "stderr",
     "output_type": "stream",
     "text": [
      "C:\\Users\\ben8h\\anaconda3\\Lib\\site-packages\\sklearn\\base.py:1474: DataConversionWarning: A column-vector y was passed when a 1d array was expected. Please change the shape of y to (n_samples,), for example using ravel().\n",
      "  return fit_method(estimator, *args, **kwargs)\n"
     ]
    },
    {
     "name": "stdout",
     "output_type": "stream",
     "text": [
      "[CV 6/10] END max_depth=10, min_samples_leaf=1, min_samples_split=2, n_estimators=50;, score=0.144 total time=   1.4s\n"
     ]
    },
    {
     "name": "stderr",
     "output_type": "stream",
     "text": [
      "C:\\Users\\ben8h\\anaconda3\\Lib\\site-packages\\sklearn\\base.py:1474: DataConversionWarning: A column-vector y was passed when a 1d array was expected. Please change the shape of y to (n_samples,), for example using ravel().\n",
      "  return fit_method(estimator, *args, **kwargs)\n"
     ]
    },
    {
     "name": "stdout",
     "output_type": "stream",
     "text": [
      "[CV 7/10] END max_depth=10, min_samples_leaf=1, min_samples_split=2, n_estimators=50;, score=0.162 total time=   1.3s\n"
     ]
    },
    {
     "name": "stderr",
     "output_type": "stream",
     "text": [
      "C:\\Users\\ben8h\\anaconda3\\Lib\\site-packages\\sklearn\\base.py:1474: DataConversionWarning: A column-vector y was passed when a 1d array was expected. Please change the shape of y to (n_samples,), for example using ravel().\n",
      "  return fit_method(estimator, *args, **kwargs)\n"
     ]
    },
    {
     "name": "stdout",
     "output_type": "stream",
     "text": [
      "[CV 8/10] END max_depth=10, min_samples_leaf=1, min_samples_split=2, n_estimators=50;, score=0.133 total time=   1.4s\n"
     ]
    },
    {
     "name": "stderr",
     "output_type": "stream",
     "text": [
      "C:\\Users\\ben8h\\anaconda3\\Lib\\site-packages\\sklearn\\base.py:1474: DataConversionWarning: A column-vector y was passed when a 1d array was expected. Please change the shape of y to (n_samples,), for example using ravel().\n",
      "  return fit_method(estimator, *args, **kwargs)\n"
     ]
    },
    {
     "name": "stdout",
     "output_type": "stream",
     "text": [
      "[CV 9/10] END max_depth=10, min_samples_leaf=1, min_samples_split=2, n_estimators=50;, score=0.156 total time=   1.4s\n"
     ]
    },
    {
     "name": "stderr",
     "output_type": "stream",
     "text": [
      "C:\\Users\\ben8h\\anaconda3\\Lib\\site-packages\\sklearn\\base.py:1474: DataConversionWarning: A column-vector y was passed when a 1d array was expected. Please change the shape of y to (n_samples,), for example using ravel().\n",
      "  return fit_method(estimator, *args, **kwargs)\n"
     ]
    },
    {
     "name": "stdout",
     "output_type": "stream",
     "text": [
      "[CV 10/10] END max_depth=10, min_samples_leaf=1, min_samples_split=2, n_estimators=50;, score=0.178 total time=   1.4s\n"
     ]
    },
    {
     "name": "stderr",
     "output_type": "stream",
     "text": [
      "C:\\Users\\ben8h\\anaconda3\\Lib\\site-packages\\sklearn\\base.py:1474: DataConversionWarning: A column-vector y was passed when a 1d array was expected. Please change the shape of y to (n_samples,), for example using ravel().\n",
      "  return fit_method(estimator, *args, **kwargs)\n"
     ]
    },
    {
     "name": "stdout",
     "output_type": "stream",
     "text": [
      "[CV 1/10] END max_depth=10, min_samples_leaf=1, min_samples_split=2, n_estimators=100;, score=0.146 total time=   2.8s\n"
     ]
    },
    {
     "name": "stderr",
     "output_type": "stream",
     "text": [
      "C:\\Users\\ben8h\\anaconda3\\Lib\\site-packages\\sklearn\\base.py:1474: DataConversionWarning: A column-vector y was passed when a 1d array was expected. Please change the shape of y to (n_samples,), for example using ravel().\n",
      "  return fit_method(estimator, *args, **kwargs)\n"
     ]
    },
    {
     "name": "stdout",
     "output_type": "stream",
     "text": [
      "[CV 2/10] END max_depth=10, min_samples_leaf=1, min_samples_split=2, n_estimators=100;, score=0.189 total time=   2.9s\n"
     ]
    },
    {
     "name": "stderr",
     "output_type": "stream",
     "text": [
      "C:\\Users\\ben8h\\anaconda3\\Lib\\site-packages\\sklearn\\base.py:1474: DataConversionWarning: A column-vector y was passed when a 1d array was expected. Please change the shape of y to (n_samples,), for example using ravel().\n",
      "  return fit_method(estimator, *args, **kwargs)\n"
     ]
    },
    {
     "name": "stdout",
     "output_type": "stream",
     "text": [
      "[CV 3/10] END max_depth=10, min_samples_leaf=1, min_samples_split=2, n_estimators=100;, score=0.228 total time=   2.8s\n"
     ]
    },
    {
     "name": "stderr",
     "output_type": "stream",
     "text": [
      "C:\\Users\\ben8h\\anaconda3\\Lib\\site-packages\\sklearn\\base.py:1474: DataConversionWarning: A column-vector y was passed when a 1d array was expected. Please change the shape of y to (n_samples,), for example using ravel().\n",
      "  return fit_method(estimator, *args, **kwargs)\n"
     ]
    },
    {
     "name": "stdout",
     "output_type": "stream",
     "text": [
      "[CV 4/10] END max_depth=10, min_samples_leaf=1, min_samples_split=2, n_estimators=100;, score=0.151 total time=   2.8s\n"
     ]
    },
    {
     "name": "stderr",
     "output_type": "stream",
     "text": [
      "C:\\Users\\ben8h\\anaconda3\\Lib\\site-packages\\sklearn\\base.py:1474: DataConversionWarning: A column-vector y was passed when a 1d array was expected. Please change the shape of y to (n_samples,), for example using ravel().\n",
      "  return fit_method(estimator, *args, **kwargs)\n"
     ]
    },
    {
     "name": "stdout",
     "output_type": "stream",
     "text": [
      "[CV 5/10] END max_depth=10, min_samples_leaf=1, min_samples_split=2, n_estimators=100;, score=0.205 total time=   2.9s\n"
     ]
    },
    {
     "name": "stderr",
     "output_type": "stream",
     "text": [
      "C:\\Users\\ben8h\\anaconda3\\Lib\\site-packages\\sklearn\\base.py:1474: DataConversionWarning: A column-vector y was passed when a 1d array was expected. Please change the shape of y to (n_samples,), for example using ravel().\n",
      "  return fit_method(estimator, *args, **kwargs)\n"
     ]
    },
    {
     "name": "stdout",
     "output_type": "stream",
     "text": [
      "[CV 6/10] END max_depth=10, min_samples_leaf=1, min_samples_split=2, n_estimators=100;, score=0.139 total time=   2.9s\n"
     ]
    },
    {
     "name": "stderr",
     "output_type": "stream",
     "text": [
      "C:\\Users\\ben8h\\anaconda3\\Lib\\site-packages\\sklearn\\base.py:1474: DataConversionWarning: A column-vector y was passed when a 1d array was expected. Please change the shape of y to (n_samples,), for example using ravel().\n",
      "  return fit_method(estimator, *args, **kwargs)\n"
     ]
    },
    {
     "name": "stdout",
     "output_type": "stream",
     "text": [
      "[CV 7/10] END max_depth=10, min_samples_leaf=1, min_samples_split=2, n_estimators=100;, score=0.169 total time=   2.8s\n"
     ]
    },
    {
     "name": "stderr",
     "output_type": "stream",
     "text": [
      "C:\\Users\\ben8h\\anaconda3\\Lib\\site-packages\\sklearn\\base.py:1474: DataConversionWarning: A column-vector y was passed when a 1d array was expected. Please change the shape of y to (n_samples,), for example using ravel().\n",
      "  return fit_method(estimator, *args, **kwargs)\n"
     ]
    },
    {
     "name": "stdout",
     "output_type": "stream",
     "text": [
      "[CV 8/10] END max_depth=10, min_samples_leaf=1, min_samples_split=2, n_estimators=100;, score=0.154 total time=   2.8s\n"
     ]
    },
    {
     "name": "stderr",
     "output_type": "stream",
     "text": [
      "C:\\Users\\ben8h\\anaconda3\\Lib\\site-packages\\sklearn\\base.py:1474: DataConversionWarning: A column-vector y was passed when a 1d array was expected. Please change the shape of y to (n_samples,), for example using ravel().\n",
      "  return fit_method(estimator, *args, **kwargs)\n"
     ]
    },
    {
     "name": "stdout",
     "output_type": "stream",
     "text": [
      "[CV 9/10] END max_depth=10, min_samples_leaf=1, min_samples_split=2, n_estimators=100;, score=0.170 total time=   2.8s\n"
     ]
    },
    {
     "name": "stderr",
     "output_type": "stream",
     "text": [
      "C:\\Users\\ben8h\\anaconda3\\Lib\\site-packages\\sklearn\\base.py:1474: DataConversionWarning: A column-vector y was passed when a 1d array was expected. Please change the shape of y to (n_samples,), for example using ravel().\n",
      "  return fit_method(estimator, *args, **kwargs)\n"
     ]
    },
    {
     "name": "stdout",
     "output_type": "stream",
     "text": [
      "[CV 10/10] END max_depth=10, min_samples_leaf=1, min_samples_split=2, n_estimators=100;, score=0.190 total time=   2.8s\n"
     ]
    },
    {
     "name": "stderr",
     "output_type": "stream",
     "text": [
      "C:\\Users\\ben8h\\anaconda3\\Lib\\site-packages\\sklearn\\base.py:1474: DataConversionWarning: A column-vector y was passed when a 1d array was expected. Please change the shape of y to (n_samples,), for example using ravel().\n",
      "  return fit_method(estimator, *args, **kwargs)\n"
     ]
    },
    {
     "name": "stdout",
     "output_type": "stream",
     "text": [
      "[CV 1/10] END max_depth=10, min_samples_leaf=1, min_samples_split=2, n_estimators=200;, score=0.148 total time=   5.7s\n"
     ]
    },
    {
     "name": "stderr",
     "output_type": "stream",
     "text": [
      "C:\\Users\\ben8h\\anaconda3\\Lib\\site-packages\\sklearn\\base.py:1474: DataConversionWarning: A column-vector y was passed when a 1d array was expected. Please change the shape of y to (n_samples,), for example using ravel().\n",
      "  return fit_method(estimator, *args, **kwargs)\n"
     ]
    },
    {
     "name": "stdout",
     "output_type": "stream",
     "text": [
      "[CV 2/10] END max_depth=10, min_samples_leaf=1, min_samples_split=2, n_estimators=200;, score=0.183 total time=   5.7s\n"
     ]
    },
    {
     "name": "stderr",
     "output_type": "stream",
     "text": [
      "C:\\Users\\ben8h\\anaconda3\\Lib\\site-packages\\sklearn\\base.py:1474: DataConversionWarning: A column-vector y was passed when a 1d array was expected. Please change the shape of y to (n_samples,), for example using ravel().\n",
      "  return fit_method(estimator, *args, **kwargs)\n"
     ]
    },
    {
     "name": "stdout",
     "output_type": "stream",
     "text": [
      "[CV 3/10] END max_depth=10, min_samples_leaf=1, min_samples_split=2, n_estimators=200;, score=0.231 total time=   5.7s\n"
     ]
    },
    {
     "name": "stderr",
     "output_type": "stream",
     "text": [
      "C:\\Users\\ben8h\\anaconda3\\Lib\\site-packages\\sklearn\\base.py:1474: DataConversionWarning: A column-vector y was passed when a 1d array was expected. Please change the shape of y to (n_samples,), for example using ravel().\n",
      "  return fit_method(estimator, *args, **kwargs)\n"
     ]
    },
    {
     "name": "stdout",
     "output_type": "stream",
     "text": [
      "[CV 4/10] END max_depth=10, min_samples_leaf=1, min_samples_split=2, n_estimators=200;, score=0.137 total time=   5.7s\n"
     ]
    },
    {
     "name": "stderr",
     "output_type": "stream",
     "text": [
      "C:\\Users\\ben8h\\anaconda3\\Lib\\site-packages\\sklearn\\base.py:1474: DataConversionWarning: A column-vector y was passed when a 1d array was expected. Please change the shape of y to (n_samples,), for example using ravel().\n",
      "  return fit_method(estimator, *args, **kwargs)\n"
     ]
    },
    {
     "name": "stdout",
     "output_type": "stream",
     "text": [
      "[CV 5/10] END max_depth=10, min_samples_leaf=1, min_samples_split=2, n_estimators=200;, score=0.208 total time=   5.7s\n"
     ]
    },
    {
     "name": "stderr",
     "output_type": "stream",
     "text": [
      "C:\\Users\\ben8h\\anaconda3\\Lib\\site-packages\\sklearn\\base.py:1474: DataConversionWarning: A column-vector y was passed when a 1d array was expected. Please change the shape of y to (n_samples,), for example using ravel().\n",
      "  return fit_method(estimator, *args, **kwargs)\n"
     ]
    },
    {
     "name": "stdout",
     "output_type": "stream",
     "text": [
      "[CV 6/10] END max_depth=10, min_samples_leaf=1, min_samples_split=2, n_estimators=200;, score=0.145 total time=   5.7s\n"
     ]
    },
    {
     "name": "stderr",
     "output_type": "stream",
     "text": [
      "C:\\Users\\ben8h\\anaconda3\\Lib\\site-packages\\sklearn\\base.py:1474: DataConversionWarning: A column-vector y was passed when a 1d array was expected. Please change the shape of y to (n_samples,), for example using ravel().\n",
      "  return fit_method(estimator, *args, **kwargs)\n"
     ]
    },
    {
     "name": "stdout",
     "output_type": "stream",
     "text": [
      "[CV 7/10] END max_depth=10, min_samples_leaf=1, min_samples_split=2, n_estimators=200;, score=0.163 total time=   5.7s\n"
     ]
    },
    {
     "name": "stderr",
     "output_type": "stream",
     "text": [
      "C:\\Users\\ben8h\\anaconda3\\Lib\\site-packages\\sklearn\\base.py:1474: DataConversionWarning: A column-vector y was passed when a 1d array was expected. Please change the shape of y to (n_samples,), for example using ravel().\n",
      "  return fit_method(estimator, *args, **kwargs)\n"
     ]
    },
    {
     "name": "stdout",
     "output_type": "stream",
     "text": [
      "[CV 8/10] END max_depth=10, min_samples_leaf=1, min_samples_split=2, n_estimators=200;, score=0.151 total time=   5.7s\n"
     ]
    },
    {
     "name": "stderr",
     "output_type": "stream",
     "text": [
      "C:\\Users\\ben8h\\anaconda3\\Lib\\site-packages\\sklearn\\base.py:1474: DataConversionWarning: A column-vector y was passed when a 1d array was expected. Please change the shape of y to (n_samples,), for example using ravel().\n",
      "  return fit_method(estimator, *args, **kwargs)\n"
     ]
    },
    {
     "name": "stdout",
     "output_type": "stream",
     "text": [
      "[CV 9/10] END max_depth=10, min_samples_leaf=1, min_samples_split=2, n_estimators=200;, score=0.163 total time=   5.8s\n"
     ]
    },
    {
     "name": "stderr",
     "output_type": "stream",
     "text": [
      "C:\\Users\\ben8h\\anaconda3\\Lib\\site-packages\\sklearn\\base.py:1474: DataConversionWarning: A column-vector y was passed when a 1d array was expected. Please change the shape of y to (n_samples,), for example using ravel().\n",
      "  return fit_method(estimator, *args, **kwargs)\n"
     ]
    },
    {
     "name": "stdout",
     "output_type": "stream",
     "text": [
      "[CV 10/10] END max_depth=10, min_samples_leaf=1, min_samples_split=2, n_estimators=200;, score=0.175 total time=   5.8s\n"
     ]
    },
    {
     "name": "stderr",
     "output_type": "stream",
     "text": [
      "C:\\Users\\ben8h\\anaconda3\\Lib\\site-packages\\sklearn\\base.py:1474: DataConversionWarning: A column-vector y was passed when a 1d array was expected. Please change the shape of y to (n_samples,), for example using ravel().\n",
      "  return fit_method(estimator, *args, **kwargs)\n"
     ]
    },
    {
     "name": "stdout",
     "output_type": "stream",
     "text": [
      "[CV 1/10] END max_depth=10, min_samples_leaf=1, min_samples_split=5, n_estimators=50;, score=0.131 total time=   1.4s\n"
     ]
    },
    {
     "name": "stderr",
     "output_type": "stream",
     "text": [
      "C:\\Users\\ben8h\\anaconda3\\Lib\\site-packages\\sklearn\\base.py:1474: DataConversionWarning: A column-vector y was passed when a 1d array was expected. Please change the shape of y to (n_samples,), for example using ravel().\n",
      "  return fit_method(estimator, *args, **kwargs)\n"
     ]
    },
    {
     "name": "stdout",
     "output_type": "stream",
     "text": [
      "[CV 2/10] END max_depth=10, min_samples_leaf=1, min_samples_split=5, n_estimators=50;, score=0.176 total time=   1.4s\n"
     ]
    },
    {
     "name": "stderr",
     "output_type": "stream",
     "text": [
      "C:\\Users\\ben8h\\anaconda3\\Lib\\site-packages\\sklearn\\base.py:1474: DataConversionWarning: A column-vector y was passed when a 1d array was expected. Please change the shape of y to (n_samples,), for example using ravel().\n",
      "  return fit_method(estimator, *args, **kwargs)\n"
     ]
    },
    {
     "name": "stdout",
     "output_type": "stream",
     "text": [
      "[CV 3/10] END max_depth=10, min_samples_leaf=1, min_samples_split=5, n_estimators=50;, score=0.225 total time=   1.4s\n"
     ]
    },
    {
     "name": "stderr",
     "output_type": "stream",
     "text": [
      "C:\\Users\\ben8h\\anaconda3\\Lib\\site-packages\\sklearn\\base.py:1474: DataConversionWarning: A column-vector y was passed when a 1d array was expected. Please change the shape of y to (n_samples,), for example using ravel().\n",
      "  return fit_method(estimator, *args, **kwargs)\n"
     ]
    },
    {
     "name": "stdout",
     "output_type": "stream",
     "text": [
      "[CV 4/10] END max_depth=10, min_samples_leaf=1, min_samples_split=5, n_estimators=50;, score=0.132 total time=   1.3s\n"
     ]
    },
    {
     "name": "stderr",
     "output_type": "stream",
     "text": [
      "C:\\Users\\ben8h\\anaconda3\\Lib\\site-packages\\sklearn\\base.py:1474: DataConversionWarning: A column-vector y was passed when a 1d array was expected. Please change the shape of y to (n_samples,), for example using ravel().\n",
      "  return fit_method(estimator, *args, **kwargs)\n"
     ]
    },
    {
     "name": "stdout",
     "output_type": "stream",
     "text": [
      "[CV 5/10] END max_depth=10, min_samples_leaf=1, min_samples_split=5, n_estimators=50;, score=0.203 total time=   1.4s\n"
     ]
    },
    {
     "name": "stderr",
     "output_type": "stream",
     "text": [
      "C:\\Users\\ben8h\\anaconda3\\Lib\\site-packages\\sklearn\\base.py:1474: DataConversionWarning: A column-vector y was passed when a 1d array was expected. Please change the shape of y to (n_samples,), for example using ravel().\n",
      "  return fit_method(estimator, *args, **kwargs)\n"
     ]
    },
    {
     "name": "stdout",
     "output_type": "stream",
     "text": [
      "[CV 6/10] END max_depth=10, min_samples_leaf=1, min_samples_split=5, n_estimators=50;, score=0.139 total time=   1.4s\n"
     ]
    },
    {
     "name": "stderr",
     "output_type": "stream",
     "text": [
      "C:\\Users\\ben8h\\anaconda3\\Lib\\site-packages\\sklearn\\base.py:1474: DataConversionWarning: A column-vector y was passed when a 1d array was expected. Please change the shape of y to (n_samples,), for example using ravel().\n",
      "  return fit_method(estimator, *args, **kwargs)\n"
     ]
    },
    {
     "name": "stdout",
     "output_type": "stream",
     "text": [
      "[CV 7/10] END max_depth=10, min_samples_leaf=1, min_samples_split=5, n_estimators=50;, score=0.159 total time=   1.4s\n"
     ]
    },
    {
     "name": "stderr",
     "output_type": "stream",
     "text": [
      "C:\\Users\\ben8h\\anaconda3\\Lib\\site-packages\\sklearn\\base.py:1474: DataConversionWarning: A column-vector y was passed when a 1d array was expected. Please change the shape of y to (n_samples,), for example using ravel().\n",
      "  return fit_method(estimator, *args, **kwargs)\n"
     ]
    },
    {
     "name": "stdout",
     "output_type": "stream",
     "text": [
      "[CV 8/10] END max_depth=10, min_samples_leaf=1, min_samples_split=5, n_estimators=50;, score=0.155 total time=   1.4s\n"
     ]
    },
    {
     "name": "stderr",
     "output_type": "stream",
     "text": [
      "C:\\Users\\ben8h\\anaconda3\\Lib\\site-packages\\sklearn\\base.py:1474: DataConversionWarning: A column-vector y was passed when a 1d array was expected. Please change the shape of y to (n_samples,), for example using ravel().\n",
      "  return fit_method(estimator, *args, **kwargs)\n"
     ]
    },
    {
     "name": "stdout",
     "output_type": "stream",
     "text": [
      "[CV 9/10] END max_depth=10, min_samples_leaf=1, min_samples_split=5, n_estimators=50;, score=0.157 total time=   1.3s\n"
     ]
    },
    {
     "name": "stderr",
     "output_type": "stream",
     "text": [
      "C:\\Users\\ben8h\\anaconda3\\Lib\\site-packages\\sklearn\\base.py:1474: DataConversionWarning: A column-vector y was passed when a 1d array was expected. Please change the shape of y to (n_samples,), for example using ravel().\n",
      "  return fit_method(estimator, *args, **kwargs)\n"
     ]
    },
    {
     "name": "stdout",
     "output_type": "stream",
     "text": [
      "[CV 10/10] END max_depth=10, min_samples_leaf=1, min_samples_split=5, n_estimators=50;, score=0.164 total time=   1.3s\n"
     ]
    },
    {
     "name": "stderr",
     "output_type": "stream",
     "text": [
      "C:\\Users\\ben8h\\anaconda3\\Lib\\site-packages\\sklearn\\base.py:1474: DataConversionWarning: A column-vector y was passed when a 1d array was expected. Please change the shape of y to (n_samples,), for example using ravel().\n",
      "  return fit_method(estimator, *args, **kwargs)\n"
     ]
    },
    {
     "name": "stdout",
     "output_type": "stream",
     "text": [
      "[CV 1/10] END max_depth=10, min_samples_leaf=1, min_samples_split=5, n_estimators=100;, score=0.128 total time=   2.8s\n"
     ]
    },
    {
     "name": "stderr",
     "output_type": "stream",
     "text": [
      "C:\\Users\\ben8h\\anaconda3\\Lib\\site-packages\\sklearn\\base.py:1474: DataConversionWarning: A column-vector y was passed when a 1d array was expected. Please change the shape of y to (n_samples,), for example using ravel().\n",
      "  return fit_method(estimator, *args, **kwargs)\n"
     ]
    },
    {
     "name": "stdout",
     "output_type": "stream",
     "text": [
      "[CV 2/10] END max_depth=10, min_samples_leaf=1, min_samples_split=5, n_estimators=100;, score=0.175 total time=   2.8s\n"
     ]
    },
    {
     "name": "stderr",
     "output_type": "stream",
     "text": [
      "C:\\Users\\ben8h\\anaconda3\\Lib\\site-packages\\sklearn\\base.py:1474: DataConversionWarning: A column-vector y was passed when a 1d array was expected. Please change the shape of y to (n_samples,), for example using ravel().\n",
      "  return fit_method(estimator, *args, **kwargs)\n"
     ]
    },
    {
     "name": "stdout",
     "output_type": "stream",
     "text": [
      "[CV 3/10] END max_depth=10, min_samples_leaf=1, min_samples_split=5, n_estimators=100;, score=0.230 total time=   2.8s\n"
     ]
    },
    {
     "name": "stderr",
     "output_type": "stream",
     "text": [
      "C:\\Users\\ben8h\\anaconda3\\Lib\\site-packages\\sklearn\\base.py:1474: DataConversionWarning: A column-vector y was passed when a 1d array was expected. Please change the shape of y to (n_samples,), for example using ravel().\n",
      "  return fit_method(estimator, *args, **kwargs)\n"
     ]
    },
    {
     "name": "stdout",
     "output_type": "stream",
     "text": [
      "[CV 4/10] END max_depth=10, min_samples_leaf=1, min_samples_split=5, n_estimators=100;, score=0.138 total time=   2.8s\n"
     ]
    },
    {
     "name": "stderr",
     "output_type": "stream",
     "text": [
      "C:\\Users\\ben8h\\anaconda3\\Lib\\site-packages\\sklearn\\base.py:1474: DataConversionWarning: A column-vector y was passed when a 1d array was expected. Please change the shape of y to (n_samples,), for example using ravel().\n",
      "  return fit_method(estimator, *args, **kwargs)\n"
     ]
    },
    {
     "name": "stdout",
     "output_type": "stream",
     "text": [
      "[CV 5/10] END max_depth=10, min_samples_leaf=1, min_samples_split=5, n_estimators=100;, score=0.203 total time=   2.8s\n"
     ]
    },
    {
     "name": "stderr",
     "output_type": "stream",
     "text": [
      "C:\\Users\\ben8h\\anaconda3\\Lib\\site-packages\\sklearn\\base.py:1474: DataConversionWarning: A column-vector y was passed when a 1d array was expected. Please change the shape of y to (n_samples,), for example using ravel().\n",
      "  return fit_method(estimator, *args, **kwargs)\n"
     ]
    },
    {
     "name": "stdout",
     "output_type": "stream",
     "text": [
      "[CV 6/10] END max_depth=10, min_samples_leaf=1, min_samples_split=5, n_estimators=100;, score=0.140 total time=   2.8s\n"
     ]
    },
    {
     "name": "stderr",
     "output_type": "stream",
     "text": [
      "C:\\Users\\ben8h\\anaconda3\\Lib\\site-packages\\sklearn\\base.py:1474: DataConversionWarning: A column-vector y was passed when a 1d array was expected. Please change the shape of y to (n_samples,), for example using ravel().\n",
      "  return fit_method(estimator, *args, **kwargs)\n"
     ]
    },
    {
     "name": "stdout",
     "output_type": "stream",
     "text": [
      "[CV 7/10] END max_depth=10, min_samples_leaf=1, min_samples_split=5, n_estimators=100;, score=0.172 total time=   2.8s\n"
     ]
    },
    {
     "name": "stderr",
     "output_type": "stream",
     "text": [
      "C:\\Users\\ben8h\\anaconda3\\Lib\\site-packages\\sklearn\\base.py:1474: DataConversionWarning: A column-vector y was passed when a 1d array was expected. Please change the shape of y to (n_samples,), for example using ravel().\n",
      "  return fit_method(estimator, *args, **kwargs)\n"
     ]
    },
    {
     "name": "stdout",
     "output_type": "stream",
     "text": [
      "[CV 8/10] END max_depth=10, min_samples_leaf=1, min_samples_split=5, n_estimators=100;, score=0.159 total time=   2.7s\n"
     ]
    },
    {
     "name": "stderr",
     "output_type": "stream",
     "text": [
      "C:\\Users\\ben8h\\anaconda3\\Lib\\site-packages\\sklearn\\base.py:1474: DataConversionWarning: A column-vector y was passed when a 1d array was expected. Please change the shape of y to (n_samples,), for example using ravel().\n",
      "  return fit_method(estimator, *args, **kwargs)\n"
     ]
    },
    {
     "name": "stdout",
     "output_type": "stream",
     "text": [
      "[CV 9/10] END max_depth=10, min_samples_leaf=1, min_samples_split=5, n_estimators=100;, score=0.162 total time=   2.8s\n"
     ]
    },
    {
     "name": "stderr",
     "output_type": "stream",
     "text": [
      "C:\\Users\\ben8h\\anaconda3\\Lib\\site-packages\\sklearn\\base.py:1474: DataConversionWarning: A column-vector y was passed when a 1d array was expected. Please change the shape of y to (n_samples,), for example using ravel().\n",
      "  return fit_method(estimator, *args, **kwargs)\n"
     ]
    },
    {
     "name": "stdout",
     "output_type": "stream",
     "text": [
      "[CV 10/10] END max_depth=10, min_samples_leaf=1, min_samples_split=5, n_estimators=100;, score=0.182 total time=   2.8s\n"
     ]
    },
    {
     "name": "stderr",
     "output_type": "stream",
     "text": [
      "C:\\Users\\ben8h\\anaconda3\\Lib\\site-packages\\sklearn\\base.py:1474: DataConversionWarning: A column-vector y was passed when a 1d array was expected. Please change the shape of y to (n_samples,), for example using ravel().\n",
      "  return fit_method(estimator, *args, **kwargs)\n"
     ]
    },
    {
     "name": "stdout",
     "output_type": "stream",
     "text": [
      "[CV 1/10] END max_depth=10, min_samples_leaf=1, min_samples_split=5, n_estimators=200;, score=0.137 total time=   5.6s\n"
     ]
    },
    {
     "name": "stderr",
     "output_type": "stream",
     "text": [
      "C:\\Users\\ben8h\\anaconda3\\Lib\\site-packages\\sklearn\\base.py:1474: DataConversionWarning: A column-vector y was passed when a 1d array was expected. Please change the shape of y to (n_samples,), for example using ravel().\n",
      "  return fit_method(estimator, *args, **kwargs)\n"
     ]
    },
    {
     "name": "stdout",
     "output_type": "stream",
     "text": [
      "[CV 2/10] END max_depth=10, min_samples_leaf=1, min_samples_split=5, n_estimators=200;, score=0.183 total time=   5.6s\n"
     ]
    },
    {
     "name": "stderr",
     "output_type": "stream",
     "text": [
      "C:\\Users\\ben8h\\anaconda3\\Lib\\site-packages\\sklearn\\base.py:1474: DataConversionWarning: A column-vector y was passed when a 1d array was expected. Please change the shape of y to (n_samples,), for example using ravel().\n",
      "  return fit_method(estimator, *args, **kwargs)\n"
     ]
    },
    {
     "name": "stdout",
     "output_type": "stream",
     "text": [
      "[CV 3/10] END max_depth=10, min_samples_leaf=1, min_samples_split=5, n_estimators=200;, score=0.236 total time=   5.7s\n"
     ]
    },
    {
     "name": "stderr",
     "output_type": "stream",
     "text": [
      "C:\\Users\\ben8h\\anaconda3\\Lib\\site-packages\\sklearn\\base.py:1474: DataConversionWarning: A column-vector y was passed when a 1d array was expected. Please change the shape of y to (n_samples,), for example using ravel().\n",
      "  return fit_method(estimator, *args, **kwargs)\n"
     ]
    },
    {
     "name": "stdout",
     "output_type": "stream",
     "text": [
      "[CV 4/10] END max_depth=10, min_samples_leaf=1, min_samples_split=5, n_estimators=200;, score=0.141 total time=   5.6s\n"
     ]
    },
    {
     "name": "stderr",
     "output_type": "stream",
     "text": [
      "C:\\Users\\ben8h\\anaconda3\\Lib\\site-packages\\sklearn\\base.py:1474: DataConversionWarning: A column-vector y was passed when a 1d array was expected. Please change the shape of y to (n_samples,), for example using ravel().\n",
      "  return fit_method(estimator, *args, **kwargs)\n"
     ]
    },
    {
     "name": "stdout",
     "output_type": "stream",
     "text": [
      "[CV 5/10] END max_depth=10, min_samples_leaf=1, min_samples_split=5, n_estimators=200;, score=0.210 total time=   5.6s\n"
     ]
    },
    {
     "name": "stderr",
     "output_type": "stream",
     "text": [
      "C:\\Users\\ben8h\\anaconda3\\Lib\\site-packages\\sklearn\\base.py:1474: DataConversionWarning: A column-vector y was passed when a 1d array was expected. Please change the shape of y to (n_samples,), for example using ravel().\n",
      "  return fit_method(estimator, *args, **kwargs)\n"
     ]
    },
    {
     "name": "stdout",
     "output_type": "stream",
     "text": [
      "[CV 6/10] END max_depth=10, min_samples_leaf=1, min_samples_split=5, n_estimators=200;, score=0.144 total time=   5.6s\n"
     ]
    },
    {
     "name": "stderr",
     "output_type": "stream",
     "text": [
      "C:\\Users\\ben8h\\anaconda3\\Lib\\site-packages\\sklearn\\base.py:1474: DataConversionWarning: A column-vector y was passed when a 1d array was expected. Please change the shape of y to (n_samples,), for example using ravel().\n",
      "  return fit_method(estimator, *args, **kwargs)\n"
     ]
    },
    {
     "name": "stdout",
     "output_type": "stream",
     "text": [
      "[CV 7/10] END max_depth=10, min_samples_leaf=1, min_samples_split=5, n_estimators=200;, score=0.159 total time=   5.6s\n"
     ]
    },
    {
     "name": "stderr",
     "output_type": "stream",
     "text": [
      "C:\\Users\\ben8h\\anaconda3\\Lib\\site-packages\\sklearn\\base.py:1474: DataConversionWarning: A column-vector y was passed when a 1d array was expected. Please change the shape of y to (n_samples,), for example using ravel().\n",
      "  return fit_method(estimator, *args, **kwargs)\n"
     ]
    },
    {
     "name": "stdout",
     "output_type": "stream",
     "text": [
      "[CV 8/10] END max_depth=10, min_samples_leaf=1, min_samples_split=5, n_estimators=200;, score=0.149 total time=   5.7s\n"
     ]
    },
    {
     "name": "stderr",
     "output_type": "stream",
     "text": [
      "C:\\Users\\ben8h\\anaconda3\\Lib\\site-packages\\sklearn\\base.py:1474: DataConversionWarning: A column-vector y was passed when a 1d array was expected. Please change the shape of y to (n_samples,), for example using ravel().\n",
      "  return fit_method(estimator, *args, **kwargs)\n"
     ]
    },
    {
     "name": "stdout",
     "output_type": "stream",
     "text": [
      "[CV 9/10] END max_depth=10, min_samples_leaf=1, min_samples_split=5, n_estimators=200;, score=0.166 total time=   5.6s\n"
     ]
    },
    {
     "name": "stderr",
     "output_type": "stream",
     "text": [
      "C:\\Users\\ben8h\\anaconda3\\Lib\\site-packages\\sklearn\\base.py:1474: DataConversionWarning: A column-vector y was passed when a 1d array was expected. Please change the shape of y to (n_samples,), for example using ravel().\n",
      "  return fit_method(estimator, *args, **kwargs)\n"
     ]
    },
    {
     "name": "stdout",
     "output_type": "stream",
     "text": [
      "[CV 10/10] END max_depth=10, min_samples_leaf=1, min_samples_split=5, n_estimators=200;, score=0.180 total time=   5.6s\n"
     ]
    },
    {
     "name": "stderr",
     "output_type": "stream",
     "text": [
      "C:\\Users\\ben8h\\anaconda3\\Lib\\site-packages\\sklearn\\base.py:1474: DataConversionWarning: A column-vector y was passed when a 1d array was expected. Please change the shape of y to (n_samples,), for example using ravel().\n",
      "  return fit_method(estimator, *args, **kwargs)\n"
     ]
    },
    {
     "name": "stdout",
     "output_type": "stream",
     "text": [
      "[CV 1/10] END max_depth=10, min_samples_leaf=1, min_samples_split=10, n_estimators=50;, score=0.141 total time=   1.3s\n"
     ]
    },
    {
     "name": "stderr",
     "output_type": "stream",
     "text": [
      "C:\\Users\\ben8h\\anaconda3\\Lib\\site-packages\\sklearn\\base.py:1474: DataConversionWarning: A column-vector y was passed when a 1d array was expected. Please change the shape of y to (n_samples,), for example using ravel().\n",
      "  return fit_method(estimator, *args, **kwargs)\n"
     ]
    },
    {
     "name": "stdout",
     "output_type": "stream",
     "text": [
      "[CV 2/10] END max_depth=10, min_samples_leaf=1, min_samples_split=10, n_estimators=50;, score=0.182 total time=   1.3s\n"
     ]
    },
    {
     "name": "stderr",
     "output_type": "stream",
     "text": [
      "C:\\Users\\ben8h\\anaconda3\\Lib\\site-packages\\sklearn\\base.py:1474: DataConversionWarning: A column-vector y was passed when a 1d array was expected. Please change the shape of y to (n_samples,), for example using ravel().\n",
      "  return fit_method(estimator, *args, **kwargs)\n"
     ]
    },
    {
     "name": "stdout",
     "output_type": "stream",
     "text": [
      "[CV 3/10] END max_depth=10, min_samples_leaf=1, min_samples_split=10, n_estimators=50;, score=0.218 total time=   1.3s\n"
     ]
    },
    {
     "name": "stderr",
     "output_type": "stream",
     "text": [
      "C:\\Users\\ben8h\\anaconda3\\Lib\\site-packages\\sklearn\\base.py:1474: DataConversionWarning: A column-vector y was passed when a 1d array was expected. Please change the shape of y to (n_samples,), for example using ravel().\n",
      "  return fit_method(estimator, *args, **kwargs)\n"
     ]
    },
    {
     "name": "stdout",
     "output_type": "stream",
     "text": [
      "[CV 4/10] END max_depth=10, min_samples_leaf=1, min_samples_split=10, n_estimators=50;, score=0.140 total time=   1.3s\n"
     ]
    },
    {
     "name": "stderr",
     "output_type": "stream",
     "text": [
      "C:\\Users\\ben8h\\anaconda3\\Lib\\site-packages\\sklearn\\base.py:1474: DataConversionWarning: A column-vector y was passed when a 1d array was expected. Please change the shape of y to (n_samples,), for example using ravel().\n",
      "  return fit_method(estimator, *args, **kwargs)\n"
     ]
    },
    {
     "name": "stdout",
     "output_type": "stream",
     "text": [
      "[CV 5/10] END max_depth=10, min_samples_leaf=1, min_samples_split=10, n_estimators=50;, score=0.206 total time=   1.3s\n"
     ]
    },
    {
     "name": "stderr",
     "output_type": "stream",
     "text": [
      "C:\\Users\\ben8h\\anaconda3\\Lib\\site-packages\\sklearn\\base.py:1474: DataConversionWarning: A column-vector y was passed when a 1d array was expected. Please change the shape of y to (n_samples,), for example using ravel().\n",
      "  return fit_method(estimator, *args, **kwargs)\n"
     ]
    },
    {
     "name": "stdout",
     "output_type": "stream",
     "text": [
      "[CV 6/10] END max_depth=10, min_samples_leaf=1, min_samples_split=10, n_estimators=50;, score=0.129 total time=   1.3s\n"
     ]
    },
    {
     "name": "stderr",
     "output_type": "stream",
     "text": [
      "C:\\Users\\ben8h\\anaconda3\\Lib\\site-packages\\sklearn\\base.py:1474: DataConversionWarning: A column-vector y was passed when a 1d array was expected. Please change the shape of y to (n_samples,), for example using ravel().\n",
      "  return fit_method(estimator, *args, **kwargs)\n"
     ]
    },
    {
     "name": "stdout",
     "output_type": "stream",
     "text": [
      "[CV 7/10] END max_depth=10, min_samples_leaf=1, min_samples_split=10, n_estimators=50;, score=0.182 total time=   1.3s\n"
     ]
    },
    {
     "name": "stderr",
     "output_type": "stream",
     "text": [
      "C:\\Users\\ben8h\\anaconda3\\Lib\\site-packages\\sklearn\\base.py:1474: DataConversionWarning: A column-vector y was passed when a 1d array was expected. Please change the shape of y to (n_samples,), for example using ravel().\n",
      "  return fit_method(estimator, *args, **kwargs)\n"
     ]
    },
    {
     "name": "stdout",
     "output_type": "stream",
     "text": [
      "[CV 8/10] END max_depth=10, min_samples_leaf=1, min_samples_split=10, n_estimators=50;, score=0.151 total time=   1.3s\n"
     ]
    },
    {
     "name": "stderr",
     "output_type": "stream",
     "text": [
      "C:\\Users\\ben8h\\anaconda3\\Lib\\site-packages\\sklearn\\base.py:1474: DataConversionWarning: A column-vector y was passed when a 1d array was expected. Please change the shape of y to (n_samples,), for example using ravel().\n",
      "  return fit_method(estimator, *args, **kwargs)\n"
     ]
    },
    {
     "name": "stdout",
     "output_type": "stream",
     "text": [
      "[CV 9/10] END max_depth=10, min_samples_leaf=1, min_samples_split=10, n_estimators=50;, score=0.158 total time=   1.3s\n"
     ]
    },
    {
     "name": "stderr",
     "output_type": "stream",
     "text": [
      "C:\\Users\\ben8h\\anaconda3\\Lib\\site-packages\\sklearn\\base.py:1474: DataConversionWarning: A column-vector y was passed when a 1d array was expected. Please change the shape of y to (n_samples,), for example using ravel().\n",
      "  return fit_method(estimator, *args, **kwargs)\n"
     ]
    },
    {
     "name": "stdout",
     "output_type": "stream",
     "text": [
      "[CV 10/10] END max_depth=10, min_samples_leaf=1, min_samples_split=10, n_estimators=50;, score=0.160 total time=   1.3s\n"
     ]
    },
    {
     "name": "stderr",
     "output_type": "stream",
     "text": [
      "C:\\Users\\ben8h\\anaconda3\\Lib\\site-packages\\sklearn\\base.py:1474: DataConversionWarning: A column-vector y was passed when a 1d array was expected. Please change the shape of y to (n_samples,), for example using ravel().\n",
      "  return fit_method(estimator, *args, **kwargs)\n"
     ]
    },
    {
     "name": "stdout",
     "output_type": "stream",
     "text": [
      "[CV 1/10] END max_depth=10, min_samples_leaf=1, min_samples_split=10, n_estimators=100;, score=0.133 total time=   2.7s\n"
     ]
    },
    {
     "name": "stderr",
     "output_type": "stream",
     "text": [
      "C:\\Users\\ben8h\\anaconda3\\Lib\\site-packages\\sklearn\\base.py:1474: DataConversionWarning: A column-vector y was passed when a 1d array was expected. Please change the shape of y to (n_samples,), for example using ravel().\n",
      "  return fit_method(estimator, *args, **kwargs)\n"
     ]
    },
    {
     "name": "stdout",
     "output_type": "stream",
     "text": [
      "[CV 2/10] END max_depth=10, min_samples_leaf=1, min_samples_split=10, n_estimators=100;, score=0.167 total time=   2.8s\n"
     ]
    },
    {
     "name": "stderr",
     "output_type": "stream",
     "text": [
      "C:\\Users\\ben8h\\anaconda3\\Lib\\site-packages\\sklearn\\base.py:1474: DataConversionWarning: A column-vector y was passed when a 1d array was expected. Please change the shape of y to (n_samples,), for example using ravel().\n",
      "  return fit_method(estimator, *args, **kwargs)\n"
     ]
    },
    {
     "name": "stdout",
     "output_type": "stream",
     "text": [
      "[CV 3/10] END max_depth=10, min_samples_leaf=1, min_samples_split=10, n_estimators=100;, score=0.226 total time=   2.7s\n"
     ]
    },
    {
     "name": "stderr",
     "output_type": "stream",
     "text": [
      "C:\\Users\\ben8h\\anaconda3\\Lib\\site-packages\\sklearn\\base.py:1474: DataConversionWarning: A column-vector y was passed when a 1d array was expected. Please change the shape of y to (n_samples,), for example using ravel().\n",
      "  return fit_method(estimator, *args, **kwargs)\n"
     ]
    },
    {
     "name": "stdout",
     "output_type": "stream",
     "text": [
      "[CV 4/10] END max_depth=10, min_samples_leaf=1, min_samples_split=10, n_estimators=100;, score=0.136 total time=   2.7s\n"
     ]
    },
    {
     "name": "stderr",
     "output_type": "stream",
     "text": [
      "C:\\Users\\ben8h\\anaconda3\\Lib\\site-packages\\sklearn\\base.py:1474: DataConversionWarning: A column-vector y was passed when a 1d array was expected. Please change the shape of y to (n_samples,), for example using ravel().\n",
      "  return fit_method(estimator, *args, **kwargs)\n"
     ]
    },
    {
     "name": "stdout",
     "output_type": "stream",
     "text": [
      "[CV 5/10] END max_depth=10, min_samples_leaf=1, min_samples_split=10, n_estimators=100;, score=0.197 total time=   2.7s\n"
     ]
    },
    {
     "name": "stderr",
     "output_type": "stream",
     "text": [
      "C:\\Users\\ben8h\\anaconda3\\Lib\\site-packages\\sklearn\\base.py:1474: DataConversionWarning: A column-vector y was passed when a 1d array was expected. Please change the shape of y to (n_samples,), for example using ravel().\n",
      "  return fit_method(estimator, *args, **kwargs)\n"
     ]
    },
    {
     "name": "stdout",
     "output_type": "stream",
     "text": [
      "[CV 6/10] END max_depth=10, min_samples_leaf=1, min_samples_split=10, n_estimators=100;, score=0.138 total time=   2.7s\n"
     ]
    },
    {
     "name": "stderr",
     "output_type": "stream",
     "text": [
      "C:\\Users\\ben8h\\anaconda3\\Lib\\site-packages\\sklearn\\base.py:1474: DataConversionWarning: A column-vector y was passed when a 1d array was expected. Please change the shape of y to (n_samples,), for example using ravel().\n",
      "  return fit_method(estimator, *args, **kwargs)\n"
     ]
    },
    {
     "name": "stdout",
     "output_type": "stream",
     "text": [
      "[CV 7/10] END max_depth=10, min_samples_leaf=1, min_samples_split=10, n_estimators=100;, score=0.166 total time=   2.7s\n"
     ]
    },
    {
     "name": "stderr",
     "output_type": "stream",
     "text": [
      "C:\\Users\\ben8h\\anaconda3\\Lib\\site-packages\\sklearn\\base.py:1474: DataConversionWarning: A column-vector y was passed when a 1d array was expected. Please change the shape of y to (n_samples,), for example using ravel().\n",
      "  return fit_method(estimator, *args, **kwargs)\n"
     ]
    },
    {
     "name": "stdout",
     "output_type": "stream",
     "text": [
      "[CV 8/10] END max_depth=10, min_samples_leaf=1, min_samples_split=10, n_estimators=100;, score=0.152 total time=   2.8s\n"
     ]
    },
    {
     "name": "stderr",
     "output_type": "stream",
     "text": [
      "C:\\Users\\ben8h\\anaconda3\\Lib\\site-packages\\sklearn\\base.py:1474: DataConversionWarning: A column-vector y was passed when a 1d array was expected. Please change the shape of y to (n_samples,), for example using ravel().\n",
      "  return fit_method(estimator, *args, **kwargs)\n"
     ]
    },
    {
     "name": "stdout",
     "output_type": "stream",
     "text": [
      "[CV 9/10] END max_depth=10, min_samples_leaf=1, min_samples_split=10, n_estimators=100;, score=0.163 total time=   2.7s\n"
     ]
    },
    {
     "name": "stderr",
     "output_type": "stream",
     "text": [
      "C:\\Users\\ben8h\\anaconda3\\Lib\\site-packages\\sklearn\\base.py:1474: DataConversionWarning: A column-vector y was passed when a 1d array was expected. Please change the shape of y to (n_samples,), for example using ravel().\n",
      "  return fit_method(estimator, *args, **kwargs)\n"
     ]
    },
    {
     "name": "stdout",
     "output_type": "stream",
     "text": [
      "[CV 10/10] END max_depth=10, min_samples_leaf=1, min_samples_split=10, n_estimators=100;, score=0.180 total time=   2.7s\n"
     ]
    },
    {
     "name": "stderr",
     "output_type": "stream",
     "text": [
      "C:\\Users\\ben8h\\anaconda3\\Lib\\site-packages\\sklearn\\base.py:1474: DataConversionWarning: A column-vector y was passed when a 1d array was expected. Please change the shape of y to (n_samples,), for example using ravel().\n",
      "  return fit_method(estimator, *args, **kwargs)\n"
     ]
    },
    {
     "name": "stdout",
     "output_type": "stream",
     "text": [
      "[CV 1/10] END max_depth=10, min_samples_leaf=1, min_samples_split=10, n_estimators=200;, score=0.144 total time=   5.6s\n"
     ]
    },
    {
     "name": "stderr",
     "output_type": "stream",
     "text": [
      "C:\\Users\\ben8h\\anaconda3\\Lib\\site-packages\\sklearn\\base.py:1474: DataConversionWarning: A column-vector y was passed when a 1d array was expected. Please change the shape of y to (n_samples,), for example using ravel().\n",
      "  return fit_method(estimator, *args, **kwargs)\n"
     ]
    },
    {
     "name": "stdout",
     "output_type": "stream",
     "text": [
      "[CV 2/10] END max_depth=10, min_samples_leaf=1, min_samples_split=10, n_estimators=200;, score=0.173 total time=   5.6s\n"
     ]
    },
    {
     "name": "stderr",
     "output_type": "stream",
     "text": [
      "C:\\Users\\ben8h\\anaconda3\\Lib\\site-packages\\sklearn\\base.py:1474: DataConversionWarning: A column-vector y was passed when a 1d array was expected. Please change the shape of y to (n_samples,), for example using ravel().\n",
      "  return fit_method(estimator, *args, **kwargs)\n"
     ]
    },
    {
     "name": "stdout",
     "output_type": "stream",
     "text": [
      "[CV 3/10] END max_depth=10, min_samples_leaf=1, min_samples_split=10, n_estimators=200;, score=0.227 total time=   5.6s\n"
     ]
    },
    {
     "name": "stderr",
     "output_type": "stream",
     "text": [
      "C:\\Users\\ben8h\\anaconda3\\Lib\\site-packages\\sklearn\\base.py:1474: DataConversionWarning: A column-vector y was passed when a 1d array was expected. Please change the shape of y to (n_samples,), for example using ravel().\n",
      "  return fit_method(estimator, *args, **kwargs)\n"
     ]
    },
    {
     "name": "stdout",
     "output_type": "stream",
     "text": [
      "[CV 4/10] END max_depth=10, min_samples_leaf=1, min_samples_split=10, n_estimators=200;, score=0.144 total time=   5.5s\n"
     ]
    },
    {
     "name": "stderr",
     "output_type": "stream",
     "text": [
      "C:\\Users\\ben8h\\anaconda3\\Lib\\site-packages\\sklearn\\base.py:1474: DataConversionWarning: A column-vector y was passed when a 1d array was expected. Please change the shape of y to (n_samples,), for example using ravel().\n",
      "  return fit_method(estimator, *args, **kwargs)\n"
     ]
    },
    {
     "name": "stdout",
     "output_type": "stream",
     "text": [
      "[CV 5/10] END max_depth=10, min_samples_leaf=1, min_samples_split=10, n_estimators=200;, score=0.210 total time=   5.6s\n"
     ]
    },
    {
     "name": "stderr",
     "output_type": "stream",
     "text": [
      "C:\\Users\\ben8h\\anaconda3\\Lib\\site-packages\\sklearn\\base.py:1474: DataConversionWarning: A column-vector y was passed when a 1d array was expected. Please change the shape of y to (n_samples,), for example using ravel().\n",
      "  return fit_method(estimator, *args, **kwargs)\n"
     ]
    },
    {
     "name": "stdout",
     "output_type": "stream",
     "text": [
      "[CV 6/10] END max_depth=10, min_samples_leaf=1, min_samples_split=10, n_estimators=200;, score=0.140 total time=   5.5s\n"
     ]
    },
    {
     "name": "stderr",
     "output_type": "stream",
     "text": [
      "C:\\Users\\ben8h\\anaconda3\\Lib\\site-packages\\sklearn\\base.py:1474: DataConversionWarning: A column-vector y was passed when a 1d array was expected. Please change the shape of y to (n_samples,), for example using ravel().\n",
      "  return fit_method(estimator, *args, **kwargs)\n"
     ]
    },
    {
     "name": "stdout",
     "output_type": "stream",
     "text": [
      "[CV 7/10] END max_depth=10, min_samples_leaf=1, min_samples_split=10, n_estimators=200;, score=0.168 total time=   5.6s\n"
     ]
    },
    {
     "name": "stderr",
     "output_type": "stream",
     "text": [
      "C:\\Users\\ben8h\\anaconda3\\Lib\\site-packages\\sklearn\\base.py:1474: DataConversionWarning: A column-vector y was passed when a 1d array was expected. Please change the shape of y to (n_samples,), for example using ravel().\n",
      "  return fit_method(estimator, *args, **kwargs)\n"
     ]
    },
    {
     "name": "stdout",
     "output_type": "stream",
     "text": [
      "[CV 8/10] END max_depth=10, min_samples_leaf=1, min_samples_split=10, n_estimators=200;, score=0.158 total time=   5.5s\n"
     ]
    },
    {
     "name": "stderr",
     "output_type": "stream",
     "text": [
      "C:\\Users\\ben8h\\anaconda3\\Lib\\site-packages\\sklearn\\base.py:1474: DataConversionWarning: A column-vector y was passed when a 1d array was expected. Please change the shape of y to (n_samples,), for example using ravel().\n",
      "  return fit_method(estimator, *args, **kwargs)\n"
     ]
    },
    {
     "name": "stdout",
     "output_type": "stream",
     "text": [
      "[CV 9/10] END max_depth=10, min_samples_leaf=1, min_samples_split=10, n_estimators=200;, score=0.166 total time=   5.6s\n"
     ]
    },
    {
     "name": "stderr",
     "output_type": "stream",
     "text": [
      "C:\\Users\\ben8h\\anaconda3\\Lib\\site-packages\\sklearn\\base.py:1474: DataConversionWarning: A column-vector y was passed when a 1d array was expected. Please change the shape of y to (n_samples,), for example using ravel().\n",
      "  return fit_method(estimator, *args, **kwargs)\n"
     ]
    },
    {
     "name": "stdout",
     "output_type": "stream",
     "text": [
      "[CV 10/10] END max_depth=10, min_samples_leaf=1, min_samples_split=10, n_estimators=200;, score=0.170 total time=   5.6s\n"
     ]
    },
    {
     "name": "stderr",
     "output_type": "stream",
     "text": [
      "C:\\Users\\ben8h\\anaconda3\\Lib\\site-packages\\sklearn\\base.py:1474: DataConversionWarning: A column-vector y was passed when a 1d array was expected. Please change the shape of y to (n_samples,), for example using ravel().\n",
      "  return fit_method(estimator, *args, **kwargs)\n"
     ]
    },
    {
     "name": "stdout",
     "output_type": "stream",
     "text": [
      "[CV 1/10] END max_depth=10, min_samples_leaf=5, min_samples_split=2, n_estimators=50;, score=0.156 total time=   1.3s\n"
     ]
    },
    {
     "name": "stderr",
     "output_type": "stream",
     "text": [
      "C:\\Users\\ben8h\\anaconda3\\Lib\\site-packages\\sklearn\\base.py:1474: DataConversionWarning: A column-vector y was passed when a 1d array was expected. Please change the shape of y to (n_samples,), for example using ravel().\n",
      "  return fit_method(estimator, *args, **kwargs)\n"
     ]
    },
    {
     "name": "stdout",
     "output_type": "stream",
     "text": [
      "[CV 2/10] END max_depth=10, min_samples_leaf=5, min_samples_split=2, n_estimators=50;, score=0.176 total time=   1.3s\n"
     ]
    },
    {
     "name": "stderr",
     "output_type": "stream",
     "text": [
      "C:\\Users\\ben8h\\anaconda3\\Lib\\site-packages\\sklearn\\base.py:1474: DataConversionWarning: A column-vector y was passed when a 1d array was expected. Please change the shape of y to (n_samples,), for example using ravel().\n",
      "  return fit_method(estimator, *args, **kwargs)\n"
     ]
    },
    {
     "name": "stdout",
     "output_type": "stream",
     "text": [
      "[CV 3/10] END max_depth=10, min_samples_leaf=5, min_samples_split=2, n_estimators=50;, score=0.238 total time=   1.3s\n"
     ]
    },
    {
     "name": "stderr",
     "output_type": "stream",
     "text": [
      "C:\\Users\\ben8h\\anaconda3\\Lib\\site-packages\\sklearn\\base.py:1474: DataConversionWarning: A column-vector y was passed when a 1d array was expected. Please change the shape of y to (n_samples,), for example using ravel().\n",
      "  return fit_method(estimator, *args, **kwargs)\n"
     ]
    },
    {
     "name": "stdout",
     "output_type": "stream",
     "text": [
      "[CV 4/10] END max_depth=10, min_samples_leaf=5, min_samples_split=2, n_estimators=50;, score=0.145 total time=   1.3s\n"
     ]
    },
    {
     "name": "stderr",
     "output_type": "stream",
     "text": [
      "C:\\Users\\ben8h\\anaconda3\\Lib\\site-packages\\sklearn\\base.py:1474: DataConversionWarning: A column-vector y was passed when a 1d array was expected. Please change the shape of y to (n_samples,), for example using ravel().\n",
      "  return fit_method(estimator, *args, **kwargs)\n"
     ]
    },
    {
     "name": "stdout",
     "output_type": "stream",
     "text": [
      "[CV 5/10] END max_depth=10, min_samples_leaf=5, min_samples_split=2, n_estimators=50;, score=0.222 total time=   1.3s\n"
     ]
    },
    {
     "name": "stderr",
     "output_type": "stream",
     "text": [
      "C:\\Users\\ben8h\\anaconda3\\Lib\\site-packages\\sklearn\\base.py:1474: DataConversionWarning: A column-vector y was passed when a 1d array was expected. Please change the shape of y to (n_samples,), for example using ravel().\n",
      "  return fit_method(estimator, *args, **kwargs)\n"
     ]
    },
    {
     "name": "stdout",
     "output_type": "stream",
     "text": [
      "[CV 6/10] END max_depth=10, min_samples_leaf=5, min_samples_split=2, n_estimators=50;, score=0.146 total time=   1.3s\n"
     ]
    },
    {
     "name": "stderr",
     "output_type": "stream",
     "text": [
      "C:\\Users\\ben8h\\anaconda3\\Lib\\site-packages\\sklearn\\base.py:1474: DataConversionWarning: A column-vector y was passed when a 1d array was expected. Please change the shape of y to (n_samples,), for example using ravel().\n",
      "  return fit_method(estimator, *args, **kwargs)\n"
     ]
    },
    {
     "name": "stdout",
     "output_type": "stream",
     "text": [
      "[CV 7/10] END max_depth=10, min_samples_leaf=5, min_samples_split=2, n_estimators=50;, score=0.175 total time=   1.3s\n"
     ]
    },
    {
     "name": "stderr",
     "output_type": "stream",
     "text": [
      "C:\\Users\\ben8h\\anaconda3\\Lib\\site-packages\\sklearn\\base.py:1474: DataConversionWarning: A column-vector y was passed when a 1d array was expected. Please change the shape of y to (n_samples,), for example using ravel().\n",
      "  return fit_method(estimator, *args, **kwargs)\n"
     ]
    },
    {
     "name": "stdout",
     "output_type": "stream",
     "text": [
      "[CV 8/10] END max_depth=10, min_samples_leaf=5, min_samples_split=2, n_estimators=50;, score=0.159 total time=   1.3s\n"
     ]
    },
    {
     "name": "stderr",
     "output_type": "stream",
     "text": [
      "C:\\Users\\ben8h\\anaconda3\\Lib\\site-packages\\sklearn\\base.py:1474: DataConversionWarning: A column-vector y was passed when a 1d array was expected. Please change the shape of y to (n_samples,), for example using ravel().\n",
      "  return fit_method(estimator, *args, **kwargs)\n"
     ]
    },
    {
     "name": "stdout",
     "output_type": "stream",
     "text": [
      "[CV 9/10] END max_depth=10, min_samples_leaf=5, min_samples_split=2, n_estimators=50;, score=0.174 total time=   1.3s\n"
     ]
    },
    {
     "name": "stderr",
     "output_type": "stream",
     "text": [
      "C:\\Users\\ben8h\\anaconda3\\Lib\\site-packages\\sklearn\\base.py:1474: DataConversionWarning: A column-vector y was passed when a 1d array was expected. Please change the shape of y to (n_samples,), for example using ravel().\n",
      "  return fit_method(estimator, *args, **kwargs)\n"
     ]
    },
    {
     "name": "stdout",
     "output_type": "stream",
     "text": [
      "[CV 10/10] END max_depth=10, min_samples_leaf=5, min_samples_split=2, n_estimators=50;, score=0.185 total time=   1.3s\n"
     ]
    },
    {
     "name": "stderr",
     "output_type": "stream",
     "text": [
      "C:\\Users\\ben8h\\anaconda3\\Lib\\site-packages\\sklearn\\base.py:1474: DataConversionWarning: A column-vector y was passed when a 1d array was expected. Please change the shape of y to (n_samples,), for example using ravel().\n",
      "  return fit_method(estimator, *args, **kwargs)\n"
     ]
    },
    {
     "name": "stdout",
     "output_type": "stream",
     "text": [
      "[CV 1/10] END max_depth=10, min_samples_leaf=5, min_samples_split=2, n_estimators=100;, score=0.155 total time=   2.7s\n"
     ]
    },
    {
     "name": "stderr",
     "output_type": "stream",
     "text": [
      "C:\\Users\\ben8h\\anaconda3\\Lib\\site-packages\\sklearn\\base.py:1474: DataConversionWarning: A column-vector y was passed when a 1d array was expected. Please change the shape of y to (n_samples,), for example using ravel().\n",
      "  return fit_method(estimator, *args, **kwargs)\n"
     ]
    },
    {
     "name": "stdout",
     "output_type": "stream",
     "text": [
      "[CV 2/10] END max_depth=10, min_samples_leaf=5, min_samples_split=2, n_estimators=100;, score=0.185 total time=   2.6s\n"
     ]
    },
    {
     "name": "stderr",
     "output_type": "stream",
     "text": [
      "C:\\Users\\ben8h\\anaconda3\\Lib\\site-packages\\sklearn\\base.py:1474: DataConversionWarning: A column-vector y was passed when a 1d array was expected. Please change the shape of y to (n_samples,), for example using ravel().\n",
      "  return fit_method(estimator, *args, **kwargs)\n"
     ]
    },
    {
     "name": "stdout",
     "output_type": "stream",
     "text": [
      "[CV 3/10] END max_depth=10, min_samples_leaf=5, min_samples_split=2, n_estimators=100;, score=0.235 total time=   2.6s\n"
     ]
    },
    {
     "name": "stderr",
     "output_type": "stream",
     "text": [
      "C:\\Users\\ben8h\\anaconda3\\Lib\\site-packages\\sklearn\\base.py:1474: DataConversionWarning: A column-vector y was passed when a 1d array was expected. Please change the shape of y to (n_samples,), for example using ravel().\n",
      "  return fit_method(estimator, *args, **kwargs)\n"
     ]
    },
    {
     "name": "stdout",
     "output_type": "stream",
     "text": [
      "[CV 4/10] END max_depth=10, min_samples_leaf=5, min_samples_split=2, n_estimators=100;, score=0.156 total time=   2.6s\n"
     ]
    },
    {
     "name": "stderr",
     "output_type": "stream",
     "text": [
      "C:\\Users\\ben8h\\anaconda3\\Lib\\site-packages\\sklearn\\base.py:1474: DataConversionWarning: A column-vector y was passed when a 1d array was expected. Please change the shape of y to (n_samples,), for example using ravel().\n",
      "  return fit_method(estimator, *args, **kwargs)\n"
     ]
    },
    {
     "name": "stdout",
     "output_type": "stream",
     "text": [
      "[CV 5/10] END max_depth=10, min_samples_leaf=5, min_samples_split=2, n_estimators=100;, score=0.217 total time=   2.6s\n"
     ]
    },
    {
     "name": "stderr",
     "output_type": "stream",
     "text": [
      "C:\\Users\\ben8h\\anaconda3\\Lib\\site-packages\\sklearn\\base.py:1474: DataConversionWarning: A column-vector y was passed when a 1d array was expected. Please change the shape of y to (n_samples,), for example using ravel().\n",
      "  return fit_method(estimator, *args, **kwargs)\n"
     ]
    },
    {
     "name": "stdout",
     "output_type": "stream",
     "text": [
      "[CV 6/10] END max_depth=10, min_samples_leaf=5, min_samples_split=2, n_estimators=100;, score=0.151 total time=   2.6s\n"
     ]
    },
    {
     "name": "stderr",
     "output_type": "stream",
     "text": [
      "C:\\Users\\ben8h\\anaconda3\\Lib\\site-packages\\sklearn\\base.py:1474: DataConversionWarning: A column-vector y was passed when a 1d array was expected. Please change the shape of y to (n_samples,), for example using ravel().\n",
      "  return fit_method(estimator, *args, **kwargs)\n"
     ]
    },
    {
     "name": "stdout",
     "output_type": "stream",
     "text": [
      "[CV 7/10] END max_depth=10, min_samples_leaf=5, min_samples_split=2, n_estimators=100;, score=0.184 total time=   2.7s\n"
     ]
    },
    {
     "name": "stderr",
     "output_type": "stream",
     "text": [
      "C:\\Users\\ben8h\\anaconda3\\Lib\\site-packages\\sklearn\\base.py:1474: DataConversionWarning: A column-vector y was passed when a 1d array was expected. Please change the shape of y to (n_samples,), for example using ravel().\n",
      "  return fit_method(estimator, *args, **kwargs)\n"
     ]
    },
    {
     "name": "stdout",
     "output_type": "stream",
     "text": [
      "[CV 8/10] END max_depth=10, min_samples_leaf=5, min_samples_split=2, n_estimators=100;, score=0.167 total time=   2.6s\n"
     ]
    },
    {
     "name": "stderr",
     "output_type": "stream",
     "text": [
      "C:\\Users\\ben8h\\anaconda3\\Lib\\site-packages\\sklearn\\base.py:1474: DataConversionWarning: A column-vector y was passed when a 1d array was expected. Please change the shape of y to (n_samples,), for example using ravel().\n",
      "  return fit_method(estimator, *args, **kwargs)\n"
     ]
    },
    {
     "name": "stdout",
     "output_type": "stream",
     "text": [
      "[CV 9/10] END max_depth=10, min_samples_leaf=5, min_samples_split=2, n_estimators=100;, score=0.188 total time=   2.7s\n"
     ]
    },
    {
     "name": "stderr",
     "output_type": "stream",
     "text": [
      "C:\\Users\\ben8h\\anaconda3\\Lib\\site-packages\\sklearn\\base.py:1474: DataConversionWarning: A column-vector y was passed when a 1d array was expected. Please change the shape of y to (n_samples,), for example using ravel().\n",
      "  return fit_method(estimator, *args, **kwargs)\n"
     ]
    },
    {
     "name": "stdout",
     "output_type": "stream",
     "text": [
      "[CV 10/10] END max_depth=10, min_samples_leaf=5, min_samples_split=2, n_estimators=100;, score=0.177 total time=   2.7s\n"
     ]
    },
    {
     "name": "stderr",
     "output_type": "stream",
     "text": [
      "C:\\Users\\ben8h\\anaconda3\\Lib\\site-packages\\sklearn\\base.py:1474: DataConversionWarning: A column-vector y was passed when a 1d array was expected. Please change the shape of y to (n_samples,), for example using ravel().\n",
      "  return fit_method(estimator, *args, **kwargs)\n"
     ]
    },
    {
     "name": "stdout",
     "output_type": "stream",
     "text": [
      "[CV 1/10] END max_depth=10, min_samples_leaf=5, min_samples_split=2, n_estimators=200;, score=0.159 total time=   5.4s\n"
     ]
    },
    {
     "name": "stderr",
     "output_type": "stream",
     "text": [
      "C:\\Users\\ben8h\\anaconda3\\Lib\\site-packages\\sklearn\\base.py:1474: DataConversionWarning: A column-vector y was passed when a 1d array was expected. Please change the shape of y to (n_samples,), for example using ravel().\n",
      "  return fit_method(estimator, *args, **kwargs)\n"
     ]
    },
    {
     "name": "stdout",
     "output_type": "stream",
     "text": [
      "[CV 2/10] END max_depth=10, min_samples_leaf=5, min_samples_split=2, n_estimators=200;, score=0.181 total time=   5.4s\n"
     ]
    },
    {
     "name": "stderr",
     "output_type": "stream",
     "text": [
      "C:\\Users\\ben8h\\anaconda3\\Lib\\site-packages\\sklearn\\base.py:1474: DataConversionWarning: A column-vector y was passed when a 1d array was expected. Please change the shape of y to (n_samples,), for example using ravel().\n",
      "  return fit_method(estimator, *args, **kwargs)\n"
     ]
    },
    {
     "name": "stdout",
     "output_type": "stream",
     "text": [
      "[CV 3/10] END max_depth=10, min_samples_leaf=5, min_samples_split=2, n_estimators=200;, score=0.239 total time=   5.4s\n"
     ]
    },
    {
     "name": "stderr",
     "output_type": "stream",
     "text": [
      "C:\\Users\\ben8h\\anaconda3\\Lib\\site-packages\\sklearn\\base.py:1474: DataConversionWarning: A column-vector y was passed when a 1d array was expected. Please change the shape of y to (n_samples,), for example using ravel().\n",
      "  return fit_method(estimator, *args, **kwargs)\n"
     ]
    },
    {
     "name": "stdout",
     "output_type": "stream",
     "text": [
      "[CV 4/10] END max_depth=10, min_samples_leaf=5, min_samples_split=2, n_estimators=200;, score=0.151 total time=   5.4s\n"
     ]
    },
    {
     "name": "stderr",
     "output_type": "stream",
     "text": [
      "C:\\Users\\ben8h\\anaconda3\\Lib\\site-packages\\sklearn\\base.py:1474: DataConversionWarning: A column-vector y was passed when a 1d array was expected. Please change the shape of y to (n_samples,), for example using ravel().\n",
      "  return fit_method(estimator, *args, **kwargs)\n"
     ]
    },
    {
     "name": "stdout",
     "output_type": "stream",
     "text": [
      "[CV 5/10] END max_depth=10, min_samples_leaf=5, min_samples_split=2, n_estimators=200;, score=0.221 total time=   5.4s\n"
     ]
    },
    {
     "name": "stderr",
     "output_type": "stream",
     "text": [
      "C:\\Users\\ben8h\\anaconda3\\Lib\\site-packages\\sklearn\\base.py:1474: DataConversionWarning: A column-vector y was passed when a 1d array was expected. Please change the shape of y to (n_samples,), for example using ravel().\n",
      "  return fit_method(estimator, *args, **kwargs)\n"
     ]
    },
    {
     "name": "stdout",
     "output_type": "stream",
     "text": [
      "[CV 6/10] END max_depth=10, min_samples_leaf=5, min_samples_split=2, n_estimators=200;, score=0.144 total time=   5.4s\n"
     ]
    },
    {
     "name": "stderr",
     "output_type": "stream",
     "text": [
      "C:\\Users\\ben8h\\anaconda3\\Lib\\site-packages\\sklearn\\base.py:1474: DataConversionWarning: A column-vector y was passed when a 1d array was expected. Please change the shape of y to (n_samples,), for example using ravel().\n",
      "  return fit_method(estimator, *args, **kwargs)\n"
     ]
    },
    {
     "name": "stdout",
     "output_type": "stream",
     "text": [
      "[CV 7/10] END max_depth=10, min_samples_leaf=5, min_samples_split=2, n_estimators=200;, score=0.177 total time=   5.4s\n"
     ]
    },
    {
     "name": "stderr",
     "output_type": "stream",
     "text": [
      "C:\\Users\\ben8h\\anaconda3\\Lib\\site-packages\\sklearn\\base.py:1474: DataConversionWarning: A column-vector y was passed when a 1d array was expected. Please change the shape of y to (n_samples,), for example using ravel().\n",
      "  return fit_method(estimator, *args, **kwargs)\n"
     ]
    },
    {
     "name": "stdout",
     "output_type": "stream",
     "text": [
      "[CV 8/10] END max_depth=10, min_samples_leaf=5, min_samples_split=2, n_estimators=200;, score=0.164 total time=   5.4s\n"
     ]
    },
    {
     "name": "stderr",
     "output_type": "stream",
     "text": [
      "C:\\Users\\ben8h\\anaconda3\\Lib\\site-packages\\sklearn\\base.py:1474: DataConversionWarning: A column-vector y was passed when a 1d array was expected. Please change the shape of y to (n_samples,), for example using ravel().\n",
      "  return fit_method(estimator, *args, **kwargs)\n"
     ]
    },
    {
     "name": "stdout",
     "output_type": "stream",
     "text": [
      "[CV 9/10] END max_depth=10, min_samples_leaf=5, min_samples_split=2, n_estimators=200;, score=0.172 total time=   5.4s\n"
     ]
    },
    {
     "name": "stderr",
     "output_type": "stream",
     "text": [
      "C:\\Users\\ben8h\\anaconda3\\Lib\\site-packages\\sklearn\\base.py:1474: DataConversionWarning: A column-vector y was passed when a 1d array was expected. Please change the shape of y to (n_samples,), for example using ravel().\n",
      "  return fit_method(estimator, *args, **kwargs)\n"
     ]
    },
    {
     "name": "stdout",
     "output_type": "stream",
     "text": [
      "[CV 10/10] END max_depth=10, min_samples_leaf=5, min_samples_split=2, n_estimators=200;, score=0.179 total time=   5.4s\n"
     ]
    },
    {
     "name": "stderr",
     "output_type": "stream",
     "text": [
      "C:\\Users\\ben8h\\anaconda3\\Lib\\site-packages\\sklearn\\base.py:1474: DataConversionWarning: A column-vector y was passed when a 1d array was expected. Please change the shape of y to (n_samples,), for example using ravel().\n",
      "  return fit_method(estimator, *args, **kwargs)\n"
     ]
    },
    {
     "name": "stdout",
     "output_type": "stream",
     "text": [
      "[CV 1/10] END max_depth=10, min_samples_leaf=5, min_samples_split=5, n_estimators=50;, score=0.152 total time=   1.3s\n"
     ]
    },
    {
     "name": "stderr",
     "output_type": "stream",
     "text": [
      "C:\\Users\\ben8h\\anaconda3\\Lib\\site-packages\\sklearn\\base.py:1474: DataConversionWarning: A column-vector y was passed when a 1d array was expected. Please change the shape of y to (n_samples,), for example using ravel().\n",
      "  return fit_method(estimator, *args, **kwargs)\n"
     ]
    },
    {
     "name": "stdout",
     "output_type": "stream",
     "text": [
      "[CV 2/10] END max_depth=10, min_samples_leaf=5, min_samples_split=5, n_estimators=50;, score=0.161 total time=   1.3s\n"
     ]
    },
    {
     "name": "stderr",
     "output_type": "stream",
     "text": [
      "C:\\Users\\ben8h\\anaconda3\\Lib\\site-packages\\sklearn\\base.py:1474: DataConversionWarning: A column-vector y was passed when a 1d array was expected. Please change the shape of y to (n_samples,), for example using ravel().\n",
      "  return fit_method(estimator, *args, **kwargs)\n"
     ]
    },
    {
     "name": "stdout",
     "output_type": "stream",
     "text": [
      "[CV 3/10] END max_depth=10, min_samples_leaf=5, min_samples_split=5, n_estimators=50;, score=0.235 total time=   1.3s\n"
     ]
    },
    {
     "name": "stderr",
     "output_type": "stream",
     "text": [
      "C:\\Users\\ben8h\\anaconda3\\Lib\\site-packages\\sklearn\\base.py:1474: DataConversionWarning: A column-vector y was passed when a 1d array was expected. Please change the shape of y to (n_samples,), for example using ravel().\n",
      "  return fit_method(estimator, *args, **kwargs)\n"
     ]
    },
    {
     "name": "stdout",
     "output_type": "stream",
     "text": [
      "[CV 4/10] END max_depth=10, min_samples_leaf=5, min_samples_split=5, n_estimators=50;, score=0.150 total time=   1.3s\n"
     ]
    },
    {
     "name": "stderr",
     "output_type": "stream",
     "text": [
      "C:\\Users\\ben8h\\anaconda3\\Lib\\site-packages\\sklearn\\base.py:1474: DataConversionWarning: A column-vector y was passed when a 1d array was expected. Please change the shape of y to (n_samples,), for example using ravel().\n",
      "  return fit_method(estimator, *args, **kwargs)\n"
     ]
    },
    {
     "name": "stdout",
     "output_type": "stream",
     "text": [
      "[CV 5/10] END max_depth=10, min_samples_leaf=5, min_samples_split=5, n_estimators=50;, score=0.227 total time=   1.3s\n"
     ]
    },
    {
     "name": "stderr",
     "output_type": "stream",
     "text": [
      "C:\\Users\\ben8h\\anaconda3\\Lib\\site-packages\\sklearn\\base.py:1474: DataConversionWarning: A column-vector y was passed when a 1d array was expected. Please change the shape of y to (n_samples,), for example using ravel().\n",
      "  return fit_method(estimator, *args, **kwargs)\n"
     ]
    },
    {
     "name": "stdout",
     "output_type": "stream",
     "text": [
      "[CV 6/10] END max_depth=10, min_samples_leaf=5, min_samples_split=5, n_estimators=50;, score=0.153 total time=   1.3s\n"
     ]
    },
    {
     "name": "stderr",
     "output_type": "stream",
     "text": [
      "C:\\Users\\ben8h\\anaconda3\\Lib\\site-packages\\sklearn\\base.py:1474: DataConversionWarning: A column-vector y was passed when a 1d array was expected. Please change the shape of y to (n_samples,), for example using ravel().\n",
      "  return fit_method(estimator, *args, **kwargs)\n"
     ]
    },
    {
     "name": "stdout",
     "output_type": "stream",
     "text": [
      "[CV 7/10] END max_depth=10, min_samples_leaf=5, min_samples_split=5, n_estimators=50;, score=0.170 total time=   1.3s\n"
     ]
    },
    {
     "name": "stderr",
     "output_type": "stream",
     "text": [
      "C:\\Users\\ben8h\\anaconda3\\Lib\\site-packages\\sklearn\\base.py:1474: DataConversionWarning: A column-vector y was passed when a 1d array was expected. Please change the shape of y to (n_samples,), for example using ravel().\n",
      "  return fit_method(estimator, *args, **kwargs)\n"
     ]
    },
    {
     "name": "stdout",
     "output_type": "stream",
     "text": [
      "[CV 8/10] END max_depth=10, min_samples_leaf=5, min_samples_split=5, n_estimators=50;, score=0.171 total time=   1.3s\n"
     ]
    },
    {
     "name": "stderr",
     "output_type": "stream",
     "text": [
      "C:\\Users\\ben8h\\anaconda3\\Lib\\site-packages\\sklearn\\base.py:1474: DataConversionWarning: A column-vector y was passed when a 1d array was expected. Please change the shape of y to (n_samples,), for example using ravel().\n",
      "  return fit_method(estimator, *args, **kwargs)\n"
     ]
    },
    {
     "name": "stdout",
     "output_type": "stream",
     "text": [
      "[CV 9/10] END max_depth=10, min_samples_leaf=5, min_samples_split=5, n_estimators=50;, score=0.164 total time=   1.3s\n"
     ]
    },
    {
     "name": "stderr",
     "output_type": "stream",
     "text": [
      "C:\\Users\\ben8h\\anaconda3\\Lib\\site-packages\\sklearn\\base.py:1474: DataConversionWarning: A column-vector y was passed when a 1d array was expected. Please change the shape of y to (n_samples,), for example using ravel().\n",
      "  return fit_method(estimator, *args, **kwargs)\n"
     ]
    },
    {
     "name": "stdout",
     "output_type": "stream",
     "text": [
      "[CV 10/10] END max_depth=10, min_samples_leaf=5, min_samples_split=5, n_estimators=50;, score=0.186 total time=   1.3s\n"
     ]
    },
    {
     "name": "stderr",
     "output_type": "stream",
     "text": [
      "C:\\Users\\ben8h\\anaconda3\\Lib\\site-packages\\sklearn\\base.py:1474: DataConversionWarning: A column-vector y was passed when a 1d array was expected. Please change the shape of y to (n_samples,), for example using ravel().\n",
      "  return fit_method(estimator, *args, **kwargs)\n"
     ]
    },
    {
     "name": "stdout",
     "output_type": "stream",
     "text": [
      "[CV 1/10] END max_depth=10, min_samples_leaf=5, min_samples_split=5, n_estimators=100;, score=0.161 total time=   2.7s\n"
     ]
    },
    {
     "name": "stderr",
     "output_type": "stream",
     "text": [
      "C:\\Users\\ben8h\\anaconda3\\Lib\\site-packages\\sklearn\\base.py:1474: DataConversionWarning: A column-vector y was passed when a 1d array was expected. Please change the shape of y to (n_samples,), for example using ravel().\n",
      "  return fit_method(estimator, *args, **kwargs)\n"
     ]
    },
    {
     "name": "stdout",
     "output_type": "stream",
     "text": [
      "[CV 2/10] END max_depth=10, min_samples_leaf=5, min_samples_split=5, n_estimators=100;, score=0.186 total time=   2.7s\n"
     ]
    },
    {
     "name": "stderr",
     "output_type": "stream",
     "text": [
      "C:\\Users\\ben8h\\anaconda3\\Lib\\site-packages\\sklearn\\base.py:1474: DataConversionWarning: A column-vector y was passed when a 1d array was expected. Please change the shape of y to (n_samples,), for example using ravel().\n",
      "  return fit_method(estimator, *args, **kwargs)\n"
     ]
    },
    {
     "name": "stdout",
     "output_type": "stream",
     "text": [
      "[CV 3/10] END max_depth=10, min_samples_leaf=5, min_samples_split=5, n_estimators=100;, score=0.235 total time=   2.6s\n"
     ]
    },
    {
     "name": "stderr",
     "output_type": "stream",
     "text": [
      "C:\\Users\\ben8h\\anaconda3\\Lib\\site-packages\\sklearn\\base.py:1474: DataConversionWarning: A column-vector y was passed when a 1d array was expected. Please change the shape of y to (n_samples,), for example using ravel().\n",
      "  return fit_method(estimator, *args, **kwargs)\n"
     ]
    },
    {
     "name": "stdout",
     "output_type": "stream",
     "text": [
      "[CV 4/10] END max_depth=10, min_samples_leaf=5, min_samples_split=5, n_estimators=100;, score=0.148 total time=   2.6s\n"
     ]
    },
    {
     "name": "stderr",
     "output_type": "stream",
     "text": [
      "C:\\Users\\ben8h\\anaconda3\\Lib\\site-packages\\sklearn\\base.py:1474: DataConversionWarning: A column-vector y was passed when a 1d array was expected. Please change the shape of y to (n_samples,), for example using ravel().\n",
      "  return fit_method(estimator, *args, **kwargs)\n"
     ]
    },
    {
     "name": "stdout",
     "output_type": "stream",
     "text": [
      "[CV 5/10] END max_depth=10, min_samples_leaf=5, min_samples_split=5, n_estimators=100;, score=0.229 total time=   2.6s\n"
     ]
    },
    {
     "name": "stderr",
     "output_type": "stream",
     "text": [
      "C:\\Users\\ben8h\\anaconda3\\Lib\\site-packages\\sklearn\\base.py:1474: DataConversionWarning: A column-vector y was passed when a 1d array was expected. Please change the shape of y to (n_samples,), for example using ravel().\n",
      "  return fit_method(estimator, *args, **kwargs)\n"
     ]
    },
    {
     "name": "stdout",
     "output_type": "stream",
     "text": [
      "[CV 6/10] END max_depth=10, min_samples_leaf=5, min_samples_split=5, n_estimators=100;, score=0.149 total time=   2.7s\n"
     ]
    },
    {
     "name": "stderr",
     "output_type": "stream",
     "text": [
      "C:\\Users\\ben8h\\anaconda3\\Lib\\site-packages\\sklearn\\base.py:1474: DataConversionWarning: A column-vector y was passed when a 1d array was expected. Please change the shape of y to (n_samples,), for example using ravel().\n",
      "  return fit_method(estimator, *args, **kwargs)\n"
     ]
    },
    {
     "name": "stdout",
     "output_type": "stream",
     "text": [
      "[CV 7/10] END max_depth=10, min_samples_leaf=5, min_samples_split=5, n_estimators=100;, score=0.188 total time=   2.7s\n"
     ]
    },
    {
     "name": "stderr",
     "output_type": "stream",
     "text": [
      "C:\\Users\\ben8h\\anaconda3\\Lib\\site-packages\\sklearn\\base.py:1474: DataConversionWarning: A column-vector y was passed when a 1d array was expected. Please change the shape of y to (n_samples,), for example using ravel().\n",
      "  return fit_method(estimator, *args, **kwargs)\n"
     ]
    },
    {
     "name": "stdout",
     "output_type": "stream",
     "text": [
      "[CV 8/10] END max_depth=10, min_samples_leaf=5, min_samples_split=5, n_estimators=100;, score=0.169 total time=   2.6s\n"
     ]
    },
    {
     "name": "stderr",
     "output_type": "stream",
     "text": [
      "C:\\Users\\ben8h\\anaconda3\\Lib\\site-packages\\sklearn\\base.py:1474: DataConversionWarning: A column-vector y was passed when a 1d array was expected. Please change the shape of y to (n_samples,), for example using ravel().\n",
      "  return fit_method(estimator, *args, **kwargs)\n"
     ]
    },
    {
     "name": "stdout",
     "output_type": "stream",
     "text": [
      "[CV 9/10] END max_depth=10, min_samples_leaf=5, min_samples_split=5, n_estimators=100;, score=0.179 total time=   2.6s\n"
     ]
    },
    {
     "name": "stderr",
     "output_type": "stream",
     "text": [
      "C:\\Users\\ben8h\\anaconda3\\Lib\\site-packages\\sklearn\\base.py:1474: DataConversionWarning: A column-vector y was passed when a 1d array was expected. Please change the shape of y to (n_samples,), for example using ravel().\n",
      "  return fit_method(estimator, *args, **kwargs)\n"
     ]
    },
    {
     "name": "stdout",
     "output_type": "stream",
     "text": [
      "[CV 10/10] END max_depth=10, min_samples_leaf=5, min_samples_split=5, n_estimators=100;, score=0.177 total time=   2.6s\n"
     ]
    },
    {
     "name": "stderr",
     "output_type": "stream",
     "text": [
      "C:\\Users\\ben8h\\anaconda3\\Lib\\site-packages\\sklearn\\base.py:1474: DataConversionWarning: A column-vector y was passed when a 1d array was expected. Please change the shape of y to (n_samples,), for example using ravel().\n",
      "  return fit_method(estimator, *args, **kwargs)\n"
     ]
    },
    {
     "name": "stdout",
     "output_type": "stream",
     "text": [
      "[CV 1/10] END max_depth=10, min_samples_leaf=5, min_samples_split=5, n_estimators=200;, score=0.159 total time=   5.5s\n"
     ]
    },
    {
     "name": "stderr",
     "output_type": "stream",
     "text": [
      "C:\\Users\\ben8h\\anaconda3\\Lib\\site-packages\\sklearn\\base.py:1474: DataConversionWarning: A column-vector y was passed when a 1d array was expected. Please change the shape of y to (n_samples,), for example using ravel().\n",
      "  return fit_method(estimator, *args, **kwargs)\n"
     ]
    },
    {
     "name": "stdout",
     "output_type": "stream",
     "text": [
      "[CV 2/10] END max_depth=10, min_samples_leaf=5, min_samples_split=5, n_estimators=200;, score=0.185 total time=   5.4s\n"
     ]
    },
    {
     "name": "stderr",
     "output_type": "stream",
     "text": [
      "C:\\Users\\ben8h\\anaconda3\\Lib\\site-packages\\sklearn\\base.py:1474: DataConversionWarning: A column-vector y was passed when a 1d array was expected. Please change the shape of y to (n_samples,), for example using ravel().\n",
      "  return fit_method(estimator, *args, **kwargs)\n"
     ]
    },
    {
     "name": "stdout",
     "output_type": "stream",
     "text": [
      "[CV 3/10] END max_depth=10, min_samples_leaf=5, min_samples_split=5, n_estimators=200;, score=0.237 total time=   5.4s\n"
     ]
    },
    {
     "name": "stderr",
     "output_type": "stream",
     "text": [
      "C:\\Users\\ben8h\\anaconda3\\Lib\\site-packages\\sklearn\\base.py:1474: DataConversionWarning: A column-vector y was passed when a 1d array was expected. Please change the shape of y to (n_samples,), for example using ravel().\n",
      "  return fit_method(estimator, *args, **kwargs)\n"
     ]
    },
    {
     "name": "stdout",
     "output_type": "stream",
     "text": [
      "[CV 4/10] END max_depth=10, min_samples_leaf=5, min_samples_split=5, n_estimators=200;, score=0.149 total time=   5.4s\n"
     ]
    },
    {
     "name": "stderr",
     "output_type": "stream",
     "text": [
      "C:\\Users\\ben8h\\anaconda3\\Lib\\site-packages\\sklearn\\base.py:1474: DataConversionWarning: A column-vector y was passed when a 1d array was expected. Please change the shape of y to (n_samples,), for example using ravel().\n",
      "  return fit_method(estimator, *args, **kwargs)\n"
     ]
    },
    {
     "name": "stdout",
     "output_type": "stream",
     "text": [
      "[CV 5/10] END max_depth=10, min_samples_leaf=5, min_samples_split=5, n_estimators=200;, score=0.223 total time=   5.4s\n"
     ]
    },
    {
     "name": "stderr",
     "output_type": "stream",
     "text": [
      "C:\\Users\\ben8h\\anaconda3\\Lib\\site-packages\\sklearn\\base.py:1474: DataConversionWarning: A column-vector y was passed when a 1d array was expected. Please change the shape of y to (n_samples,), for example using ravel().\n",
      "  return fit_method(estimator, *args, **kwargs)\n"
     ]
    },
    {
     "name": "stdout",
     "output_type": "stream",
     "text": [
      "[CV 6/10] END max_depth=10, min_samples_leaf=5, min_samples_split=5, n_estimators=200;, score=0.151 total time=   5.4s\n"
     ]
    },
    {
     "name": "stderr",
     "output_type": "stream",
     "text": [
      "C:\\Users\\ben8h\\anaconda3\\Lib\\site-packages\\sklearn\\base.py:1474: DataConversionWarning: A column-vector y was passed when a 1d array was expected. Please change the shape of y to (n_samples,), for example using ravel().\n",
      "  return fit_method(estimator, *args, **kwargs)\n"
     ]
    },
    {
     "name": "stdout",
     "output_type": "stream",
     "text": [
      "[CV 7/10] END max_depth=10, min_samples_leaf=5, min_samples_split=5, n_estimators=200;, score=0.179 total time=   5.4s\n"
     ]
    },
    {
     "name": "stderr",
     "output_type": "stream",
     "text": [
      "C:\\Users\\ben8h\\anaconda3\\Lib\\site-packages\\sklearn\\base.py:1474: DataConversionWarning: A column-vector y was passed when a 1d array was expected. Please change the shape of y to (n_samples,), for example using ravel().\n",
      "  return fit_method(estimator, *args, **kwargs)\n"
     ]
    },
    {
     "name": "stdout",
     "output_type": "stream",
     "text": [
      "[CV 8/10] END max_depth=10, min_samples_leaf=5, min_samples_split=5, n_estimators=200;, score=0.160 total time=   5.4s\n"
     ]
    },
    {
     "name": "stderr",
     "output_type": "stream",
     "text": [
      "C:\\Users\\ben8h\\anaconda3\\Lib\\site-packages\\sklearn\\base.py:1474: DataConversionWarning: A column-vector y was passed when a 1d array was expected. Please change the shape of y to (n_samples,), for example using ravel().\n",
      "  return fit_method(estimator, *args, **kwargs)\n"
     ]
    },
    {
     "name": "stdout",
     "output_type": "stream",
     "text": [
      "[CV 9/10] END max_depth=10, min_samples_leaf=5, min_samples_split=5, n_estimators=200;, score=0.177 total time=   5.4s\n"
     ]
    },
    {
     "name": "stderr",
     "output_type": "stream",
     "text": [
      "C:\\Users\\ben8h\\anaconda3\\Lib\\site-packages\\sklearn\\base.py:1474: DataConversionWarning: A column-vector y was passed when a 1d array was expected. Please change the shape of y to (n_samples,), for example using ravel().\n",
      "  return fit_method(estimator, *args, **kwargs)\n"
     ]
    },
    {
     "name": "stdout",
     "output_type": "stream",
     "text": [
      "[CV 10/10] END max_depth=10, min_samples_leaf=5, min_samples_split=5, n_estimators=200;, score=0.184 total time=   5.4s\n"
     ]
    },
    {
     "name": "stderr",
     "output_type": "stream",
     "text": [
      "C:\\Users\\ben8h\\anaconda3\\Lib\\site-packages\\sklearn\\base.py:1474: DataConversionWarning: A column-vector y was passed when a 1d array was expected. Please change the shape of y to (n_samples,), for example using ravel().\n",
      "  return fit_method(estimator, *args, **kwargs)\n"
     ]
    },
    {
     "name": "stdout",
     "output_type": "stream",
     "text": [
      "[CV 1/10] END max_depth=10, min_samples_leaf=5, min_samples_split=10, n_estimators=50;, score=0.160 total time=   1.3s\n"
     ]
    },
    {
     "name": "stderr",
     "output_type": "stream",
     "text": [
      "C:\\Users\\ben8h\\anaconda3\\Lib\\site-packages\\sklearn\\base.py:1474: DataConversionWarning: A column-vector y was passed when a 1d array was expected. Please change the shape of y to (n_samples,), for example using ravel().\n",
      "  return fit_method(estimator, *args, **kwargs)\n"
     ]
    },
    {
     "name": "stdout",
     "output_type": "stream",
     "text": [
      "[CV 2/10] END max_depth=10, min_samples_leaf=5, min_samples_split=10, n_estimators=50;, score=0.183 total time=   1.3s\n"
     ]
    },
    {
     "name": "stderr",
     "output_type": "stream",
     "text": [
      "C:\\Users\\ben8h\\anaconda3\\Lib\\site-packages\\sklearn\\base.py:1474: DataConversionWarning: A column-vector y was passed when a 1d array was expected. Please change the shape of y to (n_samples,), for example using ravel().\n",
      "  return fit_method(estimator, *args, **kwargs)\n"
     ]
    },
    {
     "name": "stdout",
     "output_type": "stream",
     "text": [
      "[CV 3/10] END max_depth=10, min_samples_leaf=5, min_samples_split=10, n_estimators=50;, score=0.243 total time=   1.3s\n"
     ]
    },
    {
     "name": "stderr",
     "output_type": "stream",
     "text": [
      "C:\\Users\\ben8h\\anaconda3\\Lib\\site-packages\\sklearn\\base.py:1474: DataConversionWarning: A column-vector y was passed when a 1d array was expected. Please change the shape of y to (n_samples,), for example using ravel().\n",
      "  return fit_method(estimator, *args, **kwargs)\n"
     ]
    },
    {
     "name": "stdout",
     "output_type": "stream",
     "text": [
      "[CV 4/10] END max_depth=10, min_samples_leaf=5, min_samples_split=10, n_estimators=50;, score=0.158 total time=   1.3s\n"
     ]
    },
    {
     "name": "stderr",
     "output_type": "stream",
     "text": [
      "C:\\Users\\ben8h\\anaconda3\\Lib\\site-packages\\sklearn\\base.py:1474: DataConversionWarning: A column-vector y was passed when a 1d array was expected. Please change the shape of y to (n_samples,), for example using ravel().\n",
      "  return fit_method(estimator, *args, **kwargs)\n"
     ]
    },
    {
     "name": "stdout",
     "output_type": "stream",
     "text": [
      "[CV 5/10] END max_depth=10, min_samples_leaf=5, min_samples_split=10, n_estimators=50;, score=0.207 total time=   1.3s\n"
     ]
    },
    {
     "name": "stderr",
     "output_type": "stream",
     "text": [
      "C:\\Users\\ben8h\\anaconda3\\Lib\\site-packages\\sklearn\\base.py:1474: DataConversionWarning: A column-vector y was passed when a 1d array was expected. Please change the shape of y to (n_samples,), for example using ravel().\n",
      "  return fit_method(estimator, *args, **kwargs)\n"
     ]
    },
    {
     "name": "stdout",
     "output_type": "stream",
     "text": [
      "[CV 6/10] END max_depth=10, min_samples_leaf=5, min_samples_split=10, n_estimators=50;, score=0.146 total time=   1.3s\n"
     ]
    },
    {
     "name": "stderr",
     "output_type": "stream",
     "text": [
      "C:\\Users\\ben8h\\anaconda3\\Lib\\site-packages\\sklearn\\base.py:1474: DataConversionWarning: A column-vector y was passed when a 1d array was expected. Please change the shape of y to (n_samples,), for example using ravel().\n",
      "  return fit_method(estimator, *args, **kwargs)\n"
     ]
    },
    {
     "name": "stdout",
     "output_type": "stream",
     "text": [
      "[CV 7/10] END max_depth=10, min_samples_leaf=5, min_samples_split=10, n_estimators=50;, score=0.182 total time=   1.3s\n"
     ]
    },
    {
     "name": "stderr",
     "output_type": "stream",
     "text": [
      "C:\\Users\\ben8h\\anaconda3\\Lib\\site-packages\\sklearn\\base.py:1474: DataConversionWarning: A column-vector y was passed when a 1d array was expected. Please change the shape of y to (n_samples,), for example using ravel().\n",
      "  return fit_method(estimator, *args, **kwargs)\n"
     ]
    },
    {
     "name": "stdout",
     "output_type": "stream",
     "text": [
      "[CV 8/10] END max_depth=10, min_samples_leaf=5, min_samples_split=10, n_estimators=50;, score=0.167 total time=   1.3s\n"
     ]
    },
    {
     "name": "stderr",
     "output_type": "stream",
     "text": [
      "C:\\Users\\ben8h\\anaconda3\\Lib\\site-packages\\sklearn\\base.py:1474: DataConversionWarning: A column-vector y was passed when a 1d array was expected. Please change the shape of y to (n_samples,), for example using ravel().\n",
      "  return fit_method(estimator, *args, **kwargs)\n"
     ]
    },
    {
     "name": "stdout",
     "output_type": "stream",
     "text": [
      "[CV 9/10] END max_depth=10, min_samples_leaf=5, min_samples_split=10, n_estimators=50;, score=0.165 total time=   1.3s\n"
     ]
    },
    {
     "name": "stderr",
     "output_type": "stream",
     "text": [
      "C:\\Users\\ben8h\\anaconda3\\Lib\\site-packages\\sklearn\\base.py:1474: DataConversionWarning: A column-vector y was passed when a 1d array was expected. Please change the shape of y to (n_samples,), for example using ravel().\n",
      "  return fit_method(estimator, *args, **kwargs)\n"
     ]
    },
    {
     "name": "stdout",
     "output_type": "stream",
     "text": [
      "[CV 10/10] END max_depth=10, min_samples_leaf=5, min_samples_split=10, n_estimators=50;, score=0.182 total time=   1.3s\n"
     ]
    },
    {
     "name": "stderr",
     "output_type": "stream",
     "text": [
      "C:\\Users\\ben8h\\anaconda3\\Lib\\site-packages\\sklearn\\base.py:1474: DataConversionWarning: A column-vector y was passed when a 1d array was expected. Please change the shape of y to (n_samples,), for example using ravel().\n",
      "  return fit_method(estimator, *args, **kwargs)\n"
     ]
    },
    {
     "name": "stdout",
     "output_type": "stream",
     "text": [
      "[CV 1/10] END max_depth=10, min_samples_leaf=5, min_samples_split=10, n_estimators=100;, score=0.154 total time=   2.7s\n"
     ]
    },
    {
     "name": "stderr",
     "output_type": "stream",
     "text": [
      "C:\\Users\\ben8h\\anaconda3\\Lib\\site-packages\\sklearn\\base.py:1474: DataConversionWarning: A column-vector y was passed when a 1d array was expected. Please change the shape of y to (n_samples,), for example using ravel().\n",
      "  return fit_method(estimator, *args, **kwargs)\n"
     ]
    },
    {
     "name": "stdout",
     "output_type": "stream",
     "text": [
      "[CV 2/10] END max_depth=10, min_samples_leaf=5, min_samples_split=10, n_estimators=100;, score=0.183 total time=   2.7s\n"
     ]
    },
    {
     "name": "stderr",
     "output_type": "stream",
     "text": [
      "C:\\Users\\ben8h\\anaconda3\\Lib\\site-packages\\sklearn\\base.py:1474: DataConversionWarning: A column-vector y was passed when a 1d array was expected. Please change the shape of y to (n_samples,), for example using ravel().\n",
      "  return fit_method(estimator, *args, **kwargs)\n"
     ]
    },
    {
     "name": "stdout",
     "output_type": "stream",
     "text": [
      "[CV 3/10] END max_depth=10, min_samples_leaf=5, min_samples_split=10, n_estimators=100;, score=0.243 total time=   2.7s\n"
     ]
    },
    {
     "name": "stderr",
     "output_type": "stream",
     "text": [
      "C:\\Users\\ben8h\\anaconda3\\Lib\\site-packages\\sklearn\\base.py:1474: DataConversionWarning: A column-vector y was passed when a 1d array was expected. Please change the shape of y to (n_samples,), for example using ravel().\n",
      "  return fit_method(estimator, *args, **kwargs)\n"
     ]
    },
    {
     "name": "stdout",
     "output_type": "stream",
     "text": [
      "[CV 4/10] END max_depth=10, min_samples_leaf=5, min_samples_split=10, n_estimators=100;, score=0.158 total time=   2.6s\n"
     ]
    },
    {
     "name": "stderr",
     "output_type": "stream",
     "text": [
      "C:\\Users\\ben8h\\anaconda3\\Lib\\site-packages\\sklearn\\base.py:1474: DataConversionWarning: A column-vector y was passed when a 1d array was expected. Please change the shape of y to (n_samples,), for example using ravel().\n",
      "  return fit_method(estimator, *args, **kwargs)\n"
     ]
    },
    {
     "name": "stdout",
     "output_type": "stream",
     "text": [
      "[CV 5/10] END max_depth=10, min_samples_leaf=5, min_samples_split=10, n_estimators=100;, score=0.214 total time=   2.6s\n"
     ]
    },
    {
     "name": "stderr",
     "output_type": "stream",
     "text": [
      "C:\\Users\\ben8h\\anaconda3\\Lib\\site-packages\\sklearn\\base.py:1474: DataConversionWarning: A column-vector y was passed when a 1d array was expected. Please change the shape of y to (n_samples,), for example using ravel().\n",
      "  return fit_method(estimator, *args, **kwargs)\n"
     ]
    },
    {
     "name": "stdout",
     "output_type": "stream",
     "text": [
      "[CV 6/10] END max_depth=10, min_samples_leaf=5, min_samples_split=10, n_estimators=100;, score=0.150 total time=   2.6s\n"
     ]
    },
    {
     "name": "stderr",
     "output_type": "stream",
     "text": [
      "C:\\Users\\ben8h\\anaconda3\\Lib\\site-packages\\sklearn\\base.py:1474: DataConversionWarning: A column-vector y was passed when a 1d array was expected. Please change the shape of y to (n_samples,), for example using ravel().\n",
      "  return fit_method(estimator, *args, **kwargs)\n"
     ]
    },
    {
     "name": "stdout",
     "output_type": "stream",
     "text": [
      "[CV 7/10] END max_depth=10, min_samples_leaf=5, min_samples_split=10, n_estimators=100;, score=0.180 total time=   2.6s\n"
     ]
    },
    {
     "name": "stderr",
     "output_type": "stream",
     "text": [
      "C:\\Users\\ben8h\\anaconda3\\Lib\\site-packages\\sklearn\\base.py:1474: DataConversionWarning: A column-vector y was passed when a 1d array was expected. Please change the shape of y to (n_samples,), for example using ravel().\n",
      "  return fit_method(estimator, *args, **kwargs)\n"
     ]
    },
    {
     "name": "stdout",
     "output_type": "stream",
     "text": [
      "[CV 8/10] END max_depth=10, min_samples_leaf=5, min_samples_split=10, n_estimators=100;, score=0.165 total time=   2.6s\n"
     ]
    },
    {
     "name": "stderr",
     "output_type": "stream",
     "text": [
      "C:\\Users\\ben8h\\anaconda3\\Lib\\site-packages\\sklearn\\base.py:1474: DataConversionWarning: A column-vector y was passed when a 1d array was expected. Please change the shape of y to (n_samples,), for example using ravel().\n",
      "  return fit_method(estimator, *args, **kwargs)\n"
     ]
    },
    {
     "name": "stdout",
     "output_type": "stream",
     "text": [
      "[CV 9/10] END max_depth=10, min_samples_leaf=5, min_samples_split=10, n_estimators=100;, score=0.175 total time=   2.7s\n"
     ]
    },
    {
     "name": "stderr",
     "output_type": "stream",
     "text": [
      "C:\\Users\\ben8h\\anaconda3\\Lib\\site-packages\\sklearn\\base.py:1474: DataConversionWarning: A column-vector y was passed when a 1d array was expected. Please change the shape of y to (n_samples,), for example using ravel().\n",
      "  return fit_method(estimator, *args, **kwargs)\n"
     ]
    },
    {
     "name": "stdout",
     "output_type": "stream",
     "text": [
      "[CV 10/10] END max_depth=10, min_samples_leaf=5, min_samples_split=10, n_estimators=100;, score=0.185 total time=   2.6s\n"
     ]
    },
    {
     "name": "stderr",
     "output_type": "stream",
     "text": [
      "C:\\Users\\ben8h\\anaconda3\\Lib\\site-packages\\sklearn\\base.py:1474: DataConversionWarning: A column-vector y was passed when a 1d array was expected. Please change the shape of y to (n_samples,), for example using ravel().\n",
      "  return fit_method(estimator, *args, **kwargs)\n"
     ]
    },
    {
     "name": "stdout",
     "output_type": "stream",
     "text": [
      "[CV 1/10] END max_depth=10, min_samples_leaf=5, min_samples_split=10, n_estimators=200;, score=0.160 total time=   5.4s\n"
     ]
    },
    {
     "name": "stderr",
     "output_type": "stream",
     "text": [
      "C:\\Users\\ben8h\\anaconda3\\Lib\\site-packages\\sklearn\\base.py:1474: DataConversionWarning: A column-vector y was passed when a 1d array was expected. Please change the shape of y to (n_samples,), for example using ravel().\n",
      "  return fit_method(estimator, *args, **kwargs)\n"
     ]
    },
    {
     "name": "stdout",
     "output_type": "stream",
     "text": [
      "[CV 2/10] END max_depth=10, min_samples_leaf=5, min_samples_split=10, n_estimators=200;, score=0.182 total time=   5.4s\n"
     ]
    },
    {
     "name": "stderr",
     "output_type": "stream",
     "text": [
      "C:\\Users\\ben8h\\anaconda3\\Lib\\site-packages\\sklearn\\base.py:1474: DataConversionWarning: A column-vector y was passed when a 1d array was expected. Please change the shape of y to (n_samples,), for example using ravel().\n",
      "  return fit_method(estimator, *args, **kwargs)\n"
     ]
    },
    {
     "name": "stdout",
     "output_type": "stream",
     "text": [
      "[CV 3/10] END max_depth=10, min_samples_leaf=5, min_samples_split=10, n_estimators=200;, score=0.235 total time=   5.4s\n"
     ]
    },
    {
     "name": "stderr",
     "output_type": "stream",
     "text": [
      "C:\\Users\\ben8h\\anaconda3\\Lib\\site-packages\\sklearn\\base.py:1474: DataConversionWarning: A column-vector y was passed when a 1d array was expected. Please change the shape of y to (n_samples,), for example using ravel().\n",
      "  return fit_method(estimator, *args, **kwargs)\n"
     ]
    },
    {
     "name": "stdout",
     "output_type": "stream",
     "text": [
      "[CV 4/10] END max_depth=10, min_samples_leaf=5, min_samples_split=10, n_estimators=200;, score=0.155 total time=   5.4s\n"
     ]
    },
    {
     "name": "stderr",
     "output_type": "stream",
     "text": [
      "C:\\Users\\ben8h\\anaconda3\\Lib\\site-packages\\sklearn\\base.py:1474: DataConversionWarning: A column-vector y was passed when a 1d array was expected. Please change the shape of y to (n_samples,), for example using ravel().\n",
      "  return fit_method(estimator, *args, **kwargs)\n"
     ]
    },
    {
     "name": "stdout",
     "output_type": "stream",
     "text": [
      "[CV 5/10] END max_depth=10, min_samples_leaf=5, min_samples_split=10, n_estimators=200;, score=0.216 total time=   5.4s\n"
     ]
    },
    {
     "name": "stderr",
     "output_type": "stream",
     "text": [
      "C:\\Users\\ben8h\\anaconda3\\Lib\\site-packages\\sklearn\\base.py:1474: DataConversionWarning: A column-vector y was passed when a 1d array was expected. Please change the shape of y to (n_samples,), for example using ravel().\n",
      "  return fit_method(estimator, *args, **kwargs)\n"
     ]
    },
    {
     "name": "stdout",
     "output_type": "stream",
     "text": [
      "[CV 6/10] END max_depth=10, min_samples_leaf=5, min_samples_split=10, n_estimators=200;, score=0.149 total time=   5.4s\n"
     ]
    },
    {
     "name": "stderr",
     "output_type": "stream",
     "text": [
      "C:\\Users\\ben8h\\anaconda3\\Lib\\site-packages\\sklearn\\base.py:1474: DataConversionWarning: A column-vector y was passed when a 1d array was expected. Please change the shape of y to (n_samples,), for example using ravel().\n",
      "  return fit_method(estimator, *args, **kwargs)\n"
     ]
    },
    {
     "name": "stdout",
     "output_type": "stream",
     "text": [
      "[CV 7/10] END max_depth=10, min_samples_leaf=5, min_samples_split=10, n_estimators=200;, score=0.178 total time=   5.4s\n"
     ]
    },
    {
     "name": "stderr",
     "output_type": "stream",
     "text": [
      "C:\\Users\\ben8h\\anaconda3\\Lib\\site-packages\\sklearn\\base.py:1474: DataConversionWarning: A column-vector y was passed when a 1d array was expected. Please change the shape of y to (n_samples,), for example using ravel().\n",
      "  return fit_method(estimator, *args, **kwargs)\n"
     ]
    },
    {
     "name": "stdout",
     "output_type": "stream",
     "text": [
      "[CV 8/10] END max_depth=10, min_samples_leaf=5, min_samples_split=10, n_estimators=200;, score=0.166 total time=   5.3s\n"
     ]
    },
    {
     "name": "stderr",
     "output_type": "stream",
     "text": [
      "C:\\Users\\ben8h\\anaconda3\\Lib\\site-packages\\sklearn\\base.py:1474: DataConversionWarning: A column-vector y was passed when a 1d array was expected. Please change the shape of y to (n_samples,), for example using ravel().\n",
      "  return fit_method(estimator, *args, **kwargs)\n"
     ]
    },
    {
     "name": "stdout",
     "output_type": "stream",
     "text": [
      "[CV 9/10] END max_depth=10, min_samples_leaf=5, min_samples_split=10, n_estimators=200;, score=0.173 total time=   5.4s\n"
     ]
    },
    {
     "name": "stderr",
     "output_type": "stream",
     "text": [
      "C:\\Users\\ben8h\\anaconda3\\Lib\\site-packages\\sklearn\\base.py:1474: DataConversionWarning: A column-vector y was passed when a 1d array was expected. Please change the shape of y to (n_samples,), for example using ravel().\n",
      "  return fit_method(estimator, *args, **kwargs)\n"
     ]
    },
    {
     "name": "stdout",
     "output_type": "stream",
     "text": [
      "[CV 10/10] END max_depth=10, min_samples_leaf=5, min_samples_split=10, n_estimators=200;, score=0.179 total time=   5.4s\n"
     ]
    },
    {
     "name": "stderr",
     "output_type": "stream",
     "text": [
      "C:\\Users\\ben8h\\anaconda3\\Lib\\site-packages\\sklearn\\base.py:1474: DataConversionWarning: A column-vector y was passed when a 1d array was expected. Please change the shape of y to (n_samples,), for example using ravel().\n",
      "  return fit_method(estimator, *args, **kwargs)\n"
     ]
    },
    {
     "name": "stdout",
     "output_type": "stream",
     "text": [
      "[CV 1/10] END max_depth=10, min_samples_leaf=10, min_samples_split=2, n_estimators=50;, score=0.153 total time=   1.2s\n"
     ]
    },
    {
     "name": "stderr",
     "output_type": "stream",
     "text": [
      "C:\\Users\\ben8h\\anaconda3\\Lib\\site-packages\\sklearn\\base.py:1474: DataConversionWarning: A column-vector y was passed when a 1d array was expected. Please change the shape of y to (n_samples,), for example using ravel().\n",
      "  return fit_method(estimator, *args, **kwargs)\n"
     ]
    },
    {
     "name": "stdout",
     "output_type": "stream",
     "text": [
      "[CV 2/10] END max_depth=10, min_samples_leaf=10, min_samples_split=2, n_estimators=50;, score=0.167 total time=   1.2s\n"
     ]
    },
    {
     "name": "stderr",
     "output_type": "stream",
     "text": [
      "C:\\Users\\ben8h\\anaconda3\\Lib\\site-packages\\sklearn\\base.py:1474: DataConversionWarning: A column-vector y was passed when a 1d array was expected. Please change the shape of y to (n_samples,), for example using ravel().\n",
      "  return fit_method(estimator, *args, **kwargs)\n"
     ]
    },
    {
     "name": "stdout",
     "output_type": "stream",
     "text": [
      "[CV 3/10] END max_depth=10, min_samples_leaf=10, min_samples_split=2, n_estimators=50;, score=0.242 total time=   1.2s\n"
     ]
    },
    {
     "name": "stderr",
     "output_type": "stream",
     "text": [
      "C:\\Users\\ben8h\\anaconda3\\Lib\\site-packages\\sklearn\\base.py:1474: DataConversionWarning: A column-vector y was passed when a 1d array was expected. Please change the shape of y to (n_samples,), for example using ravel().\n",
      "  return fit_method(estimator, *args, **kwargs)\n"
     ]
    },
    {
     "name": "stdout",
     "output_type": "stream",
     "text": [
      "[CV 4/10] END max_depth=10, min_samples_leaf=10, min_samples_split=2, n_estimators=50;, score=0.157 total time=   1.2s\n"
     ]
    },
    {
     "name": "stderr",
     "output_type": "stream",
     "text": [
      "C:\\Users\\ben8h\\anaconda3\\Lib\\site-packages\\sklearn\\base.py:1474: DataConversionWarning: A column-vector y was passed when a 1d array was expected. Please change the shape of y to (n_samples,), for example using ravel().\n",
      "  return fit_method(estimator, *args, **kwargs)\n"
     ]
    },
    {
     "name": "stdout",
     "output_type": "stream",
     "text": [
      "[CV 5/10] END max_depth=10, min_samples_leaf=10, min_samples_split=2, n_estimators=50;, score=0.215 total time=   1.2s\n"
     ]
    },
    {
     "name": "stderr",
     "output_type": "stream",
     "text": [
      "C:\\Users\\ben8h\\anaconda3\\Lib\\site-packages\\sklearn\\base.py:1474: DataConversionWarning: A column-vector y was passed when a 1d array was expected. Please change the shape of y to (n_samples,), for example using ravel().\n",
      "  return fit_method(estimator, *args, **kwargs)\n"
     ]
    },
    {
     "name": "stdout",
     "output_type": "stream",
     "text": [
      "[CV 6/10] END max_depth=10, min_samples_leaf=10, min_samples_split=2, n_estimators=50;, score=0.147 total time=   1.2s\n"
     ]
    },
    {
     "name": "stderr",
     "output_type": "stream",
     "text": [
      "C:\\Users\\ben8h\\anaconda3\\Lib\\site-packages\\sklearn\\base.py:1474: DataConversionWarning: A column-vector y was passed when a 1d array was expected. Please change the shape of y to (n_samples,), for example using ravel().\n",
      "  return fit_method(estimator, *args, **kwargs)\n"
     ]
    },
    {
     "name": "stdout",
     "output_type": "stream",
     "text": [
      "[CV 7/10] END max_depth=10, min_samples_leaf=10, min_samples_split=2, n_estimators=50;, score=0.178 total time=   1.2s\n"
     ]
    },
    {
     "name": "stderr",
     "output_type": "stream",
     "text": [
      "C:\\Users\\ben8h\\anaconda3\\Lib\\site-packages\\sklearn\\base.py:1474: DataConversionWarning: A column-vector y was passed when a 1d array was expected. Please change the shape of y to (n_samples,), for example using ravel().\n",
      "  return fit_method(estimator, *args, **kwargs)\n"
     ]
    },
    {
     "name": "stdout",
     "output_type": "stream",
     "text": [
      "[CV 8/10] END max_depth=10, min_samples_leaf=10, min_samples_split=2, n_estimators=50;, score=0.175 total time=   1.2s\n"
     ]
    },
    {
     "name": "stderr",
     "output_type": "stream",
     "text": [
      "C:\\Users\\ben8h\\anaconda3\\Lib\\site-packages\\sklearn\\base.py:1474: DataConversionWarning: A column-vector y was passed when a 1d array was expected. Please change the shape of y to (n_samples,), for example using ravel().\n",
      "  return fit_method(estimator, *args, **kwargs)\n"
     ]
    },
    {
     "name": "stdout",
     "output_type": "stream",
     "text": [
      "[CV 9/10] END max_depth=10, min_samples_leaf=10, min_samples_split=2, n_estimators=50;, score=0.164 total time=   1.2s\n"
     ]
    },
    {
     "name": "stderr",
     "output_type": "stream",
     "text": [
      "C:\\Users\\ben8h\\anaconda3\\Lib\\site-packages\\sklearn\\base.py:1474: DataConversionWarning: A column-vector y was passed when a 1d array was expected. Please change the shape of y to (n_samples,), for example using ravel().\n",
      "  return fit_method(estimator, *args, **kwargs)\n"
     ]
    },
    {
     "name": "stdout",
     "output_type": "stream",
     "text": [
      "[CV 10/10] END max_depth=10, min_samples_leaf=10, min_samples_split=2, n_estimators=50;, score=0.170 total time=   1.2s\n"
     ]
    },
    {
     "name": "stderr",
     "output_type": "stream",
     "text": [
      "C:\\Users\\ben8h\\anaconda3\\Lib\\site-packages\\sklearn\\base.py:1474: DataConversionWarning: A column-vector y was passed when a 1d array was expected. Please change the shape of y to (n_samples,), for example using ravel().\n",
      "  return fit_method(estimator, *args, **kwargs)\n"
     ]
    },
    {
     "name": "stdout",
     "output_type": "stream",
     "text": [
      "[CV 1/10] END max_depth=10, min_samples_leaf=10, min_samples_split=2, n_estimators=100;, score=0.159 total time=   2.5s\n"
     ]
    },
    {
     "name": "stderr",
     "output_type": "stream",
     "text": [
      "C:\\Users\\ben8h\\anaconda3\\Lib\\site-packages\\sklearn\\base.py:1474: DataConversionWarning: A column-vector y was passed when a 1d array was expected. Please change the shape of y to (n_samples,), for example using ravel().\n",
      "  return fit_method(estimator, *args, **kwargs)\n"
     ]
    },
    {
     "name": "stdout",
     "output_type": "stream",
     "text": [
      "[CV 2/10] END max_depth=10, min_samples_leaf=10, min_samples_split=2, n_estimators=100;, score=0.170 total time=   2.5s\n"
     ]
    },
    {
     "name": "stderr",
     "output_type": "stream",
     "text": [
      "C:\\Users\\ben8h\\anaconda3\\Lib\\site-packages\\sklearn\\base.py:1474: DataConversionWarning: A column-vector y was passed when a 1d array was expected. Please change the shape of y to (n_samples,), for example using ravel().\n",
      "  return fit_method(estimator, *args, **kwargs)\n"
     ]
    },
    {
     "name": "stdout",
     "output_type": "stream",
     "text": [
      "[CV 3/10] END max_depth=10, min_samples_leaf=10, min_samples_split=2, n_estimators=100;, score=0.234 total time=   2.5s\n"
     ]
    },
    {
     "name": "stderr",
     "output_type": "stream",
     "text": [
      "C:\\Users\\ben8h\\anaconda3\\Lib\\site-packages\\sklearn\\base.py:1474: DataConversionWarning: A column-vector y was passed when a 1d array was expected. Please change the shape of y to (n_samples,), for example using ravel().\n",
      "  return fit_method(estimator, *args, **kwargs)\n"
     ]
    },
    {
     "name": "stdout",
     "output_type": "stream",
     "text": [
      "[CV 4/10] END max_depth=10, min_samples_leaf=10, min_samples_split=2, n_estimators=100;, score=0.157 total time=   2.5s\n"
     ]
    },
    {
     "name": "stderr",
     "output_type": "stream",
     "text": [
      "C:\\Users\\ben8h\\anaconda3\\Lib\\site-packages\\sklearn\\base.py:1474: DataConversionWarning: A column-vector y was passed when a 1d array was expected. Please change the shape of y to (n_samples,), for example using ravel().\n",
      "  return fit_method(estimator, *args, **kwargs)\n"
     ]
    },
    {
     "name": "stdout",
     "output_type": "stream",
     "text": [
      "[CV 5/10] END max_depth=10, min_samples_leaf=10, min_samples_split=2, n_estimators=100;, score=0.223 total time=   2.5s\n"
     ]
    },
    {
     "name": "stderr",
     "output_type": "stream",
     "text": [
      "C:\\Users\\ben8h\\anaconda3\\Lib\\site-packages\\sklearn\\base.py:1474: DataConversionWarning: A column-vector y was passed when a 1d array was expected. Please change the shape of y to (n_samples,), for example using ravel().\n",
      "  return fit_method(estimator, *args, **kwargs)\n"
     ]
    },
    {
     "name": "stdout",
     "output_type": "stream",
     "text": [
      "[CV 6/10] END max_depth=10, min_samples_leaf=10, min_samples_split=2, n_estimators=100;, score=0.144 total time=   2.5s\n"
     ]
    },
    {
     "name": "stderr",
     "output_type": "stream",
     "text": [
      "C:\\Users\\ben8h\\anaconda3\\Lib\\site-packages\\sklearn\\base.py:1474: DataConversionWarning: A column-vector y was passed when a 1d array was expected. Please change the shape of y to (n_samples,), for example using ravel().\n",
      "  return fit_method(estimator, *args, **kwargs)\n"
     ]
    },
    {
     "name": "stdout",
     "output_type": "stream",
     "text": [
      "[CV 7/10] END max_depth=10, min_samples_leaf=10, min_samples_split=2, n_estimators=100;, score=0.182 total time=   2.5s\n"
     ]
    },
    {
     "name": "stderr",
     "output_type": "stream",
     "text": [
      "C:\\Users\\ben8h\\anaconda3\\Lib\\site-packages\\sklearn\\base.py:1474: DataConversionWarning: A column-vector y was passed when a 1d array was expected. Please change the shape of y to (n_samples,), for example using ravel().\n",
      "  return fit_method(estimator, *args, **kwargs)\n"
     ]
    },
    {
     "name": "stdout",
     "output_type": "stream",
     "text": [
      "[CV 8/10] END max_depth=10, min_samples_leaf=10, min_samples_split=2, n_estimators=100;, score=0.169 total time=   2.5s\n"
     ]
    },
    {
     "name": "stderr",
     "output_type": "stream",
     "text": [
      "C:\\Users\\ben8h\\anaconda3\\Lib\\site-packages\\sklearn\\base.py:1474: DataConversionWarning: A column-vector y was passed when a 1d array was expected. Please change the shape of y to (n_samples,), for example using ravel().\n",
      "  return fit_method(estimator, *args, **kwargs)\n"
     ]
    },
    {
     "name": "stdout",
     "output_type": "stream",
     "text": [
      "[CV 9/10] END max_depth=10, min_samples_leaf=10, min_samples_split=2, n_estimators=100;, score=0.168 total time=   2.5s\n"
     ]
    },
    {
     "name": "stderr",
     "output_type": "stream",
     "text": [
      "C:\\Users\\ben8h\\anaconda3\\Lib\\site-packages\\sklearn\\base.py:1474: DataConversionWarning: A column-vector y was passed when a 1d array was expected. Please change the shape of y to (n_samples,), for example using ravel().\n",
      "  return fit_method(estimator, *args, **kwargs)\n"
     ]
    },
    {
     "name": "stdout",
     "output_type": "stream",
     "text": [
      "[CV 10/10] END max_depth=10, min_samples_leaf=10, min_samples_split=2, n_estimators=100;, score=0.178 total time=   2.5s\n"
     ]
    },
    {
     "name": "stderr",
     "output_type": "stream",
     "text": [
      "C:\\Users\\ben8h\\anaconda3\\Lib\\site-packages\\sklearn\\base.py:1474: DataConversionWarning: A column-vector y was passed when a 1d array was expected. Please change the shape of y to (n_samples,), for example using ravel().\n",
      "  return fit_method(estimator, *args, **kwargs)\n"
     ]
    },
    {
     "name": "stdout",
     "output_type": "stream",
     "text": [
      "[CV 1/10] END max_depth=10, min_samples_leaf=10, min_samples_split=2, n_estimators=200;, score=0.162 total time=   5.1s\n"
     ]
    },
    {
     "name": "stderr",
     "output_type": "stream",
     "text": [
      "C:\\Users\\ben8h\\anaconda3\\Lib\\site-packages\\sklearn\\base.py:1474: DataConversionWarning: A column-vector y was passed when a 1d array was expected. Please change the shape of y to (n_samples,), for example using ravel().\n",
      "  return fit_method(estimator, *args, **kwargs)\n"
     ]
    },
    {
     "name": "stdout",
     "output_type": "stream",
     "text": [
      "[CV 2/10] END max_depth=10, min_samples_leaf=10, min_samples_split=2, n_estimators=200;, score=0.177 total time=   5.1s\n"
     ]
    },
    {
     "name": "stderr",
     "output_type": "stream",
     "text": [
      "C:\\Users\\ben8h\\anaconda3\\Lib\\site-packages\\sklearn\\base.py:1474: DataConversionWarning: A column-vector y was passed when a 1d array was expected. Please change the shape of y to (n_samples,), for example using ravel().\n",
      "  return fit_method(estimator, *args, **kwargs)\n"
     ]
    },
    {
     "name": "stdout",
     "output_type": "stream",
     "text": [
      "[CV 3/10] END max_depth=10, min_samples_leaf=10, min_samples_split=2, n_estimators=200;, score=0.247 total time=   5.1s\n"
     ]
    },
    {
     "name": "stderr",
     "output_type": "stream",
     "text": [
      "C:\\Users\\ben8h\\anaconda3\\Lib\\site-packages\\sklearn\\base.py:1474: DataConversionWarning: A column-vector y was passed when a 1d array was expected. Please change the shape of y to (n_samples,), for example using ravel().\n",
      "  return fit_method(estimator, *args, **kwargs)\n"
     ]
    },
    {
     "name": "stdout",
     "output_type": "stream",
     "text": [
      "[CV 4/10] END max_depth=10, min_samples_leaf=10, min_samples_split=2, n_estimators=200;, score=0.154 total time=   5.1s\n"
     ]
    },
    {
     "name": "stderr",
     "output_type": "stream",
     "text": [
      "C:\\Users\\ben8h\\anaconda3\\Lib\\site-packages\\sklearn\\base.py:1474: DataConversionWarning: A column-vector y was passed when a 1d array was expected. Please change the shape of y to (n_samples,), for example using ravel().\n",
      "  return fit_method(estimator, *args, **kwargs)\n"
     ]
    },
    {
     "name": "stdout",
     "output_type": "stream",
     "text": [
      "[CV 5/10] END max_depth=10, min_samples_leaf=10, min_samples_split=2, n_estimators=200;, score=0.224 total time=   5.1s\n"
     ]
    },
    {
     "name": "stderr",
     "output_type": "stream",
     "text": [
      "C:\\Users\\ben8h\\anaconda3\\Lib\\site-packages\\sklearn\\base.py:1474: DataConversionWarning: A column-vector y was passed when a 1d array was expected. Please change the shape of y to (n_samples,), for example using ravel().\n",
      "  return fit_method(estimator, *args, **kwargs)\n"
     ]
    },
    {
     "name": "stdout",
     "output_type": "stream",
     "text": [
      "[CV 6/10] END max_depth=10, min_samples_leaf=10, min_samples_split=2, n_estimators=200;, score=0.143 total time=   5.1s\n"
     ]
    },
    {
     "name": "stderr",
     "output_type": "stream",
     "text": [
      "C:\\Users\\ben8h\\anaconda3\\Lib\\site-packages\\sklearn\\base.py:1474: DataConversionWarning: A column-vector y was passed when a 1d array was expected. Please change the shape of y to (n_samples,), for example using ravel().\n",
      "  return fit_method(estimator, *args, **kwargs)\n"
     ]
    },
    {
     "name": "stdout",
     "output_type": "stream",
     "text": [
      "[CV 7/10] END max_depth=10, min_samples_leaf=10, min_samples_split=2, n_estimators=200;, score=0.186 total time=   5.1s\n"
     ]
    },
    {
     "name": "stderr",
     "output_type": "stream",
     "text": [
      "C:\\Users\\ben8h\\anaconda3\\Lib\\site-packages\\sklearn\\base.py:1474: DataConversionWarning: A column-vector y was passed when a 1d array was expected. Please change the shape of y to (n_samples,), for example using ravel().\n",
      "  return fit_method(estimator, *args, **kwargs)\n"
     ]
    },
    {
     "name": "stdout",
     "output_type": "stream",
     "text": [
      "[CV 8/10] END max_depth=10, min_samples_leaf=10, min_samples_split=2, n_estimators=200;, score=0.171 total time=   5.1s\n"
     ]
    },
    {
     "name": "stderr",
     "output_type": "stream",
     "text": [
      "C:\\Users\\ben8h\\anaconda3\\Lib\\site-packages\\sklearn\\base.py:1474: DataConversionWarning: A column-vector y was passed when a 1d array was expected. Please change the shape of y to (n_samples,), for example using ravel().\n",
      "  return fit_method(estimator, *args, **kwargs)\n"
     ]
    },
    {
     "name": "stdout",
     "output_type": "stream",
     "text": [
      "[CV 9/10] END max_depth=10, min_samples_leaf=10, min_samples_split=2, n_estimators=200;, score=0.176 total time=   5.1s\n"
     ]
    },
    {
     "name": "stderr",
     "output_type": "stream",
     "text": [
      "C:\\Users\\ben8h\\anaconda3\\Lib\\site-packages\\sklearn\\base.py:1474: DataConversionWarning: A column-vector y was passed when a 1d array was expected. Please change the shape of y to (n_samples,), for example using ravel().\n",
      "  return fit_method(estimator, *args, **kwargs)\n"
     ]
    },
    {
     "name": "stdout",
     "output_type": "stream",
     "text": [
      "[CV 10/10] END max_depth=10, min_samples_leaf=10, min_samples_split=2, n_estimators=200;, score=0.183 total time=   5.1s\n"
     ]
    },
    {
     "name": "stderr",
     "output_type": "stream",
     "text": [
      "C:\\Users\\ben8h\\anaconda3\\Lib\\site-packages\\sklearn\\base.py:1474: DataConversionWarning: A column-vector y was passed when a 1d array was expected. Please change the shape of y to (n_samples,), for example using ravel().\n",
      "  return fit_method(estimator, *args, **kwargs)\n"
     ]
    },
    {
     "name": "stdout",
     "output_type": "stream",
     "text": [
      "[CV 1/10] END max_depth=10, min_samples_leaf=10, min_samples_split=5, n_estimators=50;, score=0.155 total time=   1.2s\n"
     ]
    },
    {
     "name": "stderr",
     "output_type": "stream",
     "text": [
      "C:\\Users\\ben8h\\anaconda3\\Lib\\site-packages\\sklearn\\base.py:1474: DataConversionWarning: A column-vector y was passed when a 1d array was expected. Please change the shape of y to (n_samples,), for example using ravel().\n",
      "  return fit_method(estimator, *args, **kwargs)\n"
     ]
    },
    {
     "name": "stdout",
     "output_type": "stream",
     "text": [
      "[CV 2/10] END max_depth=10, min_samples_leaf=10, min_samples_split=5, n_estimators=50;, score=0.167 total time=   1.2s\n"
     ]
    },
    {
     "name": "stderr",
     "output_type": "stream",
     "text": [
      "C:\\Users\\ben8h\\anaconda3\\Lib\\site-packages\\sklearn\\base.py:1474: DataConversionWarning: A column-vector y was passed when a 1d array was expected. Please change the shape of y to (n_samples,), for example using ravel().\n",
      "  return fit_method(estimator, *args, **kwargs)\n"
     ]
    },
    {
     "name": "stdout",
     "output_type": "stream",
     "text": [
      "[CV 3/10] END max_depth=10, min_samples_leaf=10, min_samples_split=5, n_estimators=50;, score=0.236 total time=   1.2s\n"
     ]
    },
    {
     "name": "stderr",
     "output_type": "stream",
     "text": [
      "C:\\Users\\ben8h\\anaconda3\\Lib\\site-packages\\sklearn\\base.py:1474: DataConversionWarning: A column-vector y was passed when a 1d array was expected. Please change the shape of y to (n_samples,), for example using ravel().\n",
      "  return fit_method(estimator, *args, **kwargs)\n"
     ]
    },
    {
     "name": "stdout",
     "output_type": "stream",
     "text": [
      "[CV 4/10] END max_depth=10, min_samples_leaf=10, min_samples_split=5, n_estimators=50;, score=0.154 total time=   1.2s\n"
     ]
    },
    {
     "name": "stderr",
     "output_type": "stream",
     "text": [
      "C:\\Users\\ben8h\\anaconda3\\Lib\\site-packages\\sklearn\\base.py:1474: DataConversionWarning: A column-vector y was passed when a 1d array was expected. Please change the shape of y to (n_samples,), for example using ravel().\n",
      "  return fit_method(estimator, *args, **kwargs)\n"
     ]
    },
    {
     "name": "stdout",
     "output_type": "stream",
     "text": [
      "[CV 5/10] END max_depth=10, min_samples_leaf=10, min_samples_split=5, n_estimators=50;, score=0.220 total time=   1.2s\n"
     ]
    },
    {
     "name": "stderr",
     "output_type": "stream",
     "text": [
      "C:\\Users\\ben8h\\anaconda3\\Lib\\site-packages\\sklearn\\base.py:1474: DataConversionWarning: A column-vector y was passed when a 1d array was expected. Please change the shape of y to (n_samples,), for example using ravel().\n",
      "  return fit_method(estimator, *args, **kwargs)\n"
     ]
    },
    {
     "name": "stdout",
     "output_type": "stream",
     "text": [
      "[CV 6/10] END max_depth=10, min_samples_leaf=10, min_samples_split=5, n_estimators=50;, score=0.145 total time=   1.2s\n"
     ]
    },
    {
     "name": "stderr",
     "output_type": "stream",
     "text": [
      "C:\\Users\\ben8h\\anaconda3\\Lib\\site-packages\\sklearn\\base.py:1474: DataConversionWarning: A column-vector y was passed when a 1d array was expected. Please change the shape of y to (n_samples,), for example using ravel().\n",
      "  return fit_method(estimator, *args, **kwargs)\n"
     ]
    },
    {
     "name": "stdout",
     "output_type": "stream",
     "text": [
      "[CV 7/10] END max_depth=10, min_samples_leaf=10, min_samples_split=5, n_estimators=50;, score=0.190 total time=   1.2s\n"
     ]
    },
    {
     "name": "stderr",
     "output_type": "stream",
     "text": [
      "C:\\Users\\ben8h\\anaconda3\\Lib\\site-packages\\sklearn\\base.py:1474: DataConversionWarning: A column-vector y was passed when a 1d array was expected. Please change the shape of y to (n_samples,), for example using ravel().\n",
      "  return fit_method(estimator, *args, **kwargs)\n"
     ]
    },
    {
     "name": "stdout",
     "output_type": "stream",
     "text": [
      "[CV 8/10] END max_depth=10, min_samples_leaf=10, min_samples_split=5, n_estimators=50;, score=0.176 total time=   1.2s\n"
     ]
    },
    {
     "name": "stderr",
     "output_type": "stream",
     "text": [
      "C:\\Users\\ben8h\\anaconda3\\Lib\\site-packages\\sklearn\\base.py:1474: DataConversionWarning: A column-vector y was passed when a 1d array was expected. Please change the shape of y to (n_samples,), for example using ravel().\n",
      "  return fit_method(estimator, *args, **kwargs)\n"
     ]
    },
    {
     "name": "stdout",
     "output_type": "stream",
     "text": [
      "[CV 9/10] END max_depth=10, min_samples_leaf=10, min_samples_split=5, n_estimators=50;, score=0.179 total time=   1.2s\n"
     ]
    },
    {
     "name": "stderr",
     "output_type": "stream",
     "text": [
      "C:\\Users\\ben8h\\anaconda3\\Lib\\site-packages\\sklearn\\base.py:1474: DataConversionWarning: A column-vector y was passed when a 1d array was expected. Please change the shape of y to (n_samples,), for example using ravel().\n",
      "  return fit_method(estimator, *args, **kwargs)\n"
     ]
    },
    {
     "name": "stdout",
     "output_type": "stream",
     "text": [
      "[CV 10/10] END max_depth=10, min_samples_leaf=10, min_samples_split=5, n_estimators=50;, score=0.175 total time=   1.2s\n"
     ]
    },
    {
     "name": "stderr",
     "output_type": "stream",
     "text": [
      "C:\\Users\\ben8h\\anaconda3\\Lib\\site-packages\\sklearn\\base.py:1474: DataConversionWarning: A column-vector y was passed when a 1d array was expected. Please change the shape of y to (n_samples,), for example using ravel().\n",
      "  return fit_method(estimator, *args, **kwargs)\n"
     ]
    },
    {
     "name": "stdout",
     "output_type": "stream",
     "text": [
      "[CV 1/10] END max_depth=10, min_samples_leaf=10, min_samples_split=5, n_estimators=100;, score=0.158 total time=   2.5s\n"
     ]
    },
    {
     "name": "stderr",
     "output_type": "stream",
     "text": [
      "C:\\Users\\ben8h\\anaconda3\\Lib\\site-packages\\sklearn\\base.py:1474: DataConversionWarning: A column-vector y was passed when a 1d array was expected. Please change the shape of y to (n_samples,), for example using ravel().\n",
      "  return fit_method(estimator, *args, **kwargs)\n"
     ]
    },
    {
     "name": "stdout",
     "output_type": "stream",
     "text": [
      "[CV 2/10] END max_depth=10, min_samples_leaf=10, min_samples_split=5, n_estimators=100;, score=0.169 total time=   2.5s\n"
     ]
    },
    {
     "name": "stderr",
     "output_type": "stream",
     "text": [
      "C:\\Users\\ben8h\\anaconda3\\Lib\\site-packages\\sklearn\\base.py:1474: DataConversionWarning: A column-vector y was passed when a 1d array was expected. Please change the shape of y to (n_samples,), for example using ravel().\n",
      "  return fit_method(estimator, *args, **kwargs)\n"
     ]
    },
    {
     "name": "stdout",
     "output_type": "stream",
     "text": [
      "[CV 3/10] END max_depth=10, min_samples_leaf=10, min_samples_split=5, n_estimators=100;, score=0.236 total time=   2.6s\n"
     ]
    },
    {
     "name": "stderr",
     "output_type": "stream",
     "text": [
      "C:\\Users\\ben8h\\anaconda3\\Lib\\site-packages\\sklearn\\base.py:1474: DataConversionWarning: A column-vector y was passed when a 1d array was expected. Please change the shape of y to (n_samples,), for example using ravel().\n",
      "  return fit_method(estimator, *args, **kwargs)\n"
     ]
    },
    {
     "name": "stdout",
     "output_type": "stream",
     "text": [
      "[CV 4/10] END max_depth=10, min_samples_leaf=10, min_samples_split=5, n_estimators=100;, score=0.151 total time=   2.5s\n"
     ]
    },
    {
     "name": "stderr",
     "output_type": "stream",
     "text": [
      "C:\\Users\\ben8h\\anaconda3\\Lib\\site-packages\\sklearn\\base.py:1474: DataConversionWarning: A column-vector y was passed when a 1d array was expected. Please change the shape of y to (n_samples,), for example using ravel().\n",
      "  return fit_method(estimator, *args, **kwargs)\n"
     ]
    },
    {
     "name": "stdout",
     "output_type": "stream",
     "text": [
      "[CV 5/10] END max_depth=10, min_samples_leaf=10, min_samples_split=5, n_estimators=100;, score=0.221 total time=   2.5s\n"
     ]
    },
    {
     "name": "stderr",
     "output_type": "stream",
     "text": [
      "C:\\Users\\ben8h\\anaconda3\\Lib\\site-packages\\sklearn\\base.py:1474: DataConversionWarning: A column-vector y was passed when a 1d array was expected. Please change the shape of y to (n_samples,), for example using ravel().\n",
      "  return fit_method(estimator, *args, **kwargs)\n"
     ]
    },
    {
     "name": "stdout",
     "output_type": "stream",
     "text": [
      "[CV 6/10] END max_depth=10, min_samples_leaf=10, min_samples_split=5, n_estimators=100;, score=0.144 total time=   2.5s\n"
     ]
    },
    {
     "name": "stderr",
     "output_type": "stream",
     "text": [
      "C:\\Users\\ben8h\\anaconda3\\Lib\\site-packages\\sklearn\\base.py:1474: DataConversionWarning: A column-vector y was passed when a 1d array was expected. Please change the shape of y to (n_samples,), for example using ravel().\n",
      "  return fit_method(estimator, *args, **kwargs)\n"
     ]
    },
    {
     "name": "stdout",
     "output_type": "stream",
     "text": [
      "[CV 7/10] END max_depth=10, min_samples_leaf=10, min_samples_split=5, n_estimators=100;, score=0.183 total time=   2.5s\n"
     ]
    },
    {
     "name": "stderr",
     "output_type": "stream",
     "text": [
      "C:\\Users\\ben8h\\anaconda3\\Lib\\site-packages\\sklearn\\base.py:1474: DataConversionWarning: A column-vector y was passed when a 1d array was expected. Please change the shape of y to (n_samples,), for example using ravel().\n",
      "  return fit_method(estimator, *args, **kwargs)\n"
     ]
    },
    {
     "name": "stdout",
     "output_type": "stream",
     "text": [
      "[CV 8/10] END max_depth=10, min_samples_leaf=10, min_samples_split=5, n_estimators=100;, score=0.172 total time=   2.5s\n"
     ]
    },
    {
     "name": "stderr",
     "output_type": "stream",
     "text": [
      "C:\\Users\\ben8h\\anaconda3\\Lib\\site-packages\\sklearn\\base.py:1474: DataConversionWarning: A column-vector y was passed when a 1d array was expected. Please change the shape of y to (n_samples,), for example using ravel().\n",
      "  return fit_method(estimator, *args, **kwargs)\n"
     ]
    },
    {
     "name": "stdout",
     "output_type": "stream",
     "text": [
      "[CV 9/10] END max_depth=10, min_samples_leaf=10, min_samples_split=5, n_estimators=100;, score=0.173 total time=   2.5s\n"
     ]
    },
    {
     "name": "stderr",
     "output_type": "stream",
     "text": [
      "C:\\Users\\ben8h\\anaconda3\\Lib\\site-packages\\sklearn\\base.py:1474: DataConversionWarning: A column-vector y was passed when a 1d array was expected. Please change the shape of y to (n_samples,), for example using ravel().\n",
      "  return fit_method(estimator, *args, **kwargs)\n"
     ]
    },
    {
     "name": "stdout",
     "output_type": "stream",
     "text": [
      "[CV 10/10] END max_depth=10, min_samples_leaf=10, min_samples_split=5, n_estimators=100;, score=0.176 total time=   2.5s\n"
     ]
    },
    {
     "name": "stderr",
     "output_type": "stream",
     "text": [
      "C:\\Users\\ben8h\\anaconda3\\Lib\\site-packages\\sklearn\\base.py:1474: DataConversionWarning: A column-vector y was passed when a 1d array was expected. Please change the shape of y to (n_samples,), for example using ravel().\n",
      "  return fit_method(estimator, *args, **kwargs)\n"
     ]
    },
    {
     "name": "stdout",
     "output_type": "stream",
     "text": [
      "[CV 1/10] END max_depth=10, min_samples_leaf=10, min_samples_split=5, n_estimators=200;, score=0.161 total time=   5.1s\n"
     ]
    },
    {
     "name": "stderr",
     "output_type": "stream",
     "text": [
      "C:\\Users\\ben8h\\anaconda3\\Lib\\site-packages\\sklearn\\base.py:1474: DataConversionWarning: A column-vector y was passed when a 1d array was expected. Please change the shape of y to (n_samples,), for example using ravel().\n",
      "  return fit_method(estimator, *args, **kwargs)\n"
     ]
    },
    {
     "name": "stdout",
     "output_type": "stream",
     "text": [
      "[CV 2/10] END max_depth=10, min_samples_leaf=10, min_samples_split=5, n_estimators=200;, score=0.171 total time=   5.1s\n"
     ]
    },
    {
     "name": "stderr",
     "output_type": "stream",
     "text": [
      "C:\\Users\\ben8h\\anaconda3\\Lib\\site-packages\\sklearn\\base.py:1474: DataConversionWarning: A column-vector y was passed when a 1d array was expected. Please change the shape of y to (n_samples,), for example using ravel().\n",
      "  return fit_method(estimator, *args, **kwargs)\n"
     ]
    },
    {
     "name": "stdout",
     "output_type": "stream",
     "text": [
      "[CV 3/10] END max_depth=10, min_samples_leaf=10, min_samples_split=5, n_estimators=200;, score=0.245 total time=   5.2s\n"
     ]
    },
    {
     "name": "stderr",
     "output_type": "stream",
     "text": [
      "C:\\Users\\ben8h\\anaconda3\\Lib\\site-packages\\sklearn\\base.py:1474: DataConversionWarning: A column-vector y was passed when a 1d array was expected. Please change the shape of y to (n_samples,), for example using ravel().\n",
      "  return fit_method(estimator, *args, **kwargs)\n"
     ]
    },
    {
     "name": "stdout",
     "output_type": "stream",
     "text": [
      "[CV 4/10] END max_depth=10, min_samples_leaf=10, min_samples_split=5, n_estimators=200;, score=0.156 total time=   5.1s\n"
     ]
    },
    {
     "name": "stderr",
     "output_type": "stream",
     "text": [
      "C:\\Users\\ben8h\\anaconda3\\Lib\\site-packages\\sklearn\\base.py:1474: DataConversionWarning: A column-vector y was passed when a 1d array was expected. Please change the shape of y to (n_samples,), for example using ravel().\n",
      "  return fit_method(estimator, *args, **kwargs)\n"
     ]
    },
    {
     "name": "stdout",
     "output_type": "stream",
     "text": [
      "[CV 5/10] END max_depth=10, min_samples_leaf=10, min_samples_split=5, n_estimators=200;, score=0.225 total time=   5.1s\n"
     ]
    },
    {
     "name": "stderr",
     "output_type": "stream",
     "text": [
      "C:\\Users\\ben8h\\anaconda3\\Lib\\site-packages\\sklearn\\base.py:1474: DataConversionWarning: A column-vector y was passed when a 1d array was expected. Please change the shape of y to (n_samples,), for example using ravel().\n",
      "  return fit_method(estimator, *args, **kwargs)\n"
     ]
    },
    {
     "name": "stdout",
     "output_type": "stream",
     "text": [
      "[CV 6/10] END max_depth=10, min_samples_leaf=10, min_samples_split=5, n_estimators=200;, score=0.145 total time=   5.1s\n"
     ]
    },
    {
     "name": "stderr",
     "output_type": "stream",
     "text": [
      "C:\\Users\\ben8h\\anaconda3\\Lib\\site-packages\\sklearn\\base.py:1474: DataConversionWarning: A column-vector y was passed when a 1d array was expected. Please change the shape of y to (n_samples,), for example using ravel().\n",
      "  return fit_method(estimator, *args, **kwargs)\n"
     ]
    },
    {
     "name": "stdout",
     "output_type": "stream",
     "text": [
      "[CV 7/10] END max_depth=10, min_samples_leaf=10, min_samples_split=5, n_estimators=200;, score=0.188 total time=   5.1s\n"
     ]
    },
    {
     "name": "stderr",
     "output_type": "stream",
     "text": [
      "C:\\Users\\ben8h\\anaconda3\\Lib\\site-packages\\sklearn\\base.py:1474: DataConversionWarning: A column-vector y was passed when a 1d array was expected. Please change the shape of y to (n_samples,), for example using ravel().\n",
      "  return fit_method(estimator, *args, **kwargs)\n"
     ]
    },
    {
     "name": "stdout",
     "output_type": "stream",
     "text": [
      "[CV 8/10] END max_depth=10, min_samples_leaf=10, min_samples_split=5, n_estimators=200;, score=0.174 total time=   5.1s\n"
     ]
    },
    {
     "name": "stderr",
     "output_type": "stream",
     "text": [
      "C:\\Users\\ben8h\\anaconda3\\Lib\\site-packages\\sklearn\\base.py:1474: DataConversionWarning: A column-vector y was passed when a 1d array was expected. Please change the shape of y to (n_samples,), for example using ravel().\n",
      "  return fit_method(estimator, *args, **kwargs)\n"
     ]
    },
    {
     "name": "stdout",
     "output_type": "stream",
     "text": [
      "[CV 9/10] END max_depth=10, min_samples_leaf=10, min_samples_split=5, n_estimators=200;, score=0.174 total time=   5.2s\n"
     ]
    },
    {
     "name": "stderr",
     "output_type": "stream",
     "text": [
      "C:\\Users\\ben8h\\anaconda3\\Lib\\site-packages\\sklearn\\base.py:1474: DataConversionWarning: A column-vector y was passed when a 1d array was expected. Please change the shape of y to (n_samples,), for example using ravel().\n",
      "  return fit_method(estimator, *args, **kwargs)\n"
     ]
    },
    {
     "name": "stdout",
     "output_type": "stream",
     "text": [
      "[CV 10/10] END max_depth=10, min_samples_leaf=10, min_samples_split=5, n_estimators=200;, score=0.182 total time=   5.1s\n"
     ]
    },
    {
     "name": "stderr",
     "output_type": "stream",
     "text": [
      "C:\\Users\\ben8h\\anaconda3\\Lib\\site-packages\\sklearn\\base.py:1474: DataConversionWarning: A column-vector y was passed when a 1d array was expected. Please change the shape of y to (n_samples,), for example using ravel().\n",
      "  return fit_method(estimator, *args, **kwargs)\n"
     ]
    },
    {
     "name": "stdout",
     "output_type": "stream",
     "text": [
      "[CV 1/10] END max_depth=10, min_samples_leaf=10, min_samples_split=10, n_estimators=50;, score=0.159 total time=   1.2s\n"
     ]
    },
    {
     "name": "stderr",
     "output_type": "stream",
     "text": [
      "C:\\Users\\ben8h\\anaconda3\\Lib\\site-packages\\sklearn\\base.py:1474: DataConversionWarning: A column-vector y was passed when a 1d array was expected. Please change the shape of y to (n_samples,), for example using ravel().\n",
      "  return fit_method(estimator, *args, **kwargs)\n"
     ]
    },
    {
     "name": "stdout",
     "output_type": "stream",
     "text": [
      "[CV 2/10] END max_depth=10, min_samples_leaf=10, min_samples_split=10, n_estimators=50;, score=0.173 total time=   1.2s\n"
     ]
    },
    {
     "name": "stderr",
     "output_type": "stream",
     "text": [
      "C:\\Users\\ben8h\\anaconda3\\Lib\\site-packages\\sklearn\\base.py:1474: DataConversionWarning: A column-vector y was passed when a 1d array was expected. Please change the shape of y to (n_samples,), for example using ravel().\n",
      "  return fit_method(estimator, *args, **kwargs)\n"
     ]
    },
    {
     "name": "stdout",
     "output_type": "stream",
     "text": [
      "[CV 3/10] END max_depth=10, min_samples_leaf=10, min_samples_split=10, n_estimators=50;, score=0.236 total time=   1.2s\n"
     ]
    },
    {
     "name": "stderr",
     "output_type": "stream",
     "text": [
      "C:\\Users\\ben8h\\anaconda3\\Lib\\site-packages\\sklearn\\base.py:1474: DataConversionWarning: A column-vector y was passed when a 1d array was expected. Please change the shape of y to (n_samples,), for example using ravel().\n",
      "  return fit_method(estimator, *args, **kwargs)\n"
     ]
    },
    {
     "name": "stdout",
     "output_type": "stream",
     "text": [
      "[CV 4/10] END max_depth=10, min_samples_leaf=10, min_samples_split=10, n_estimators=50;, score=0.144 total time=   1.2s\n"
     ]
    },
    {
     "name": "stderr",
     "output_type": "stream",
     "text": [
      "C:\\Users\\ben8h\\anaconda3\\Lib\\site-packages\\sklearn\\base.py:1474: DataConversionWarning: A column-vector y was passed when a 1d array was expected. Please change the shape of y to (n_samples,), for example using ravel().\n",
      "  return fit_method(estimator, *args, **kwargs)\n"
     ]
    },
    {
     "name": "stdout",
     "output_type": "stream",
     "text": [
      "[CV 5/10] END max_depth=10, min_samples_leaf=10, min_samples_split=10, n_estimators=50;, score=0.222 total time=   1.2s\n"
     ]
    },
    {
     "name": "stderr",
     "output_type": "stream",
     "text": [
      "C:\\Users\\ben8h\\anaconda3\\Lib\\site-packages\\sklearn\\base.py:1474: DataConversionWarning: A column-vector y was passed when a 1d array was expected. Please change the shape of y to (n_samples,), for example using ravel().\n",
      "  return fit_method(estimator, *args, **kwargs)\n"
     ]
    },
    {
     "name": "stdout",
     "output_type": "stream",
     "text": [
      "[CV 6/10] END max_depth=10, min_samples_leaf=10, min_samples_split=10, n_estimators=50;, score=0.151 total time=   1.2s\n"
     ]
    },
    {
     "name": "stderr",
     "output_type": "stream",
     "text": [
      "C:\\Users\\ben8h\\anaconda3\\Lib\\site-packages\\sklearn\\base.py:1474: DataConversionWarning: A column-vector y was passed when a 1d array was expected. Please change the shape of y to (n_samples,), for example using ravel().\n",
      "  return fit_method(estimator, *args, **kwargs)\n"
     ]
    },
    {
     "name": "stdout",
     "output_type": "stream",
     "text": [
      "[CV 7/10] END max_depth=10, min_samples_leaf=10, min_samples_split=10, n_estimators=50;, score=0.178 total time=   1.2s\n"
     ]
    },
    {
     "name": "stderr",
     "output_type": "stream",
     "text": [
      "C:\\Users\\ben8h\\anaconda3\\Lib\\site-packages\\sklearn\\base.py:1474: DataConversionWarning: A column-vector y was passed when a 1d array was expected. Please change the shape of y to (n_samples,), for example using ravel().\n",
      "  return fit_method(estimator, *args, **kwargs)\n"
     ]
    },
    {
     "name": "stdout",
     "output_type": "stream",
     "text": [
      "[CV 8/10] END max_depth=10, min_samples_leaf=10, min_samples_split=10, n_estimators=50;, score=0.170 total time=   1.2s\n"
     ]
    },
    {
     "name": "stderr",
     "output_type": "stream",
     "text": [
      "C:\\Users\\ben8h\\anaconda3\\Lib\\site-packages\\sklearn\\base.py:1474: DataConversionWarning: A column-vector y was passed when a 1d array was expected. Please change the shape of y to (n_samples,), for example using ravel().\n",
      "  return fit_method(estimator, *args, **kwargs)\n"
     ]
    },
    {
     "name": "stdout",
     "output_type": "stream",
     "text": [
      "[CV 9/10] END max_depth=10, min_samples_leaf=10, min_samples_split=10, n_estimators=50;, score=0.162 total time=   1.2s\n"
     ]
    },
    {
     "name": "stderr",
     "output_type": "stream",
     "text": [
      "C:\\Users\\ben8h\\anaconda3\\Lib\\site-packages\\sklearn\\base.py:1474: DataConversionWarning: A column-vector y was passed when a 1d array was expected. Please change the shape of y to (n_samples,), for example using ravel().\n",
      "  return fit_method(estimator, *args, **kwargs)\n"
     ]
    },
    {
     "name": "stdout",
     "output_type": "stream",
     "text": [
      "[CV 10/10] END max_depth=10, min_samples_leaf=10, min_samples_split=10, n_estimators=50;, score=0.177 total time=   1.2s\n"
     ]
    },
    {
     "name": "stderr",
     "output_type": "stream",
     "text": [
      "C:\\Users\\ben8h\\anaconda3\\Lib\\site-packages\\sklearn\\base.py:1474: DataConversionWarning: A column-vector y was passed when a 1d array was expected. Please change the shape of y to (n_samples,), for example using ravel().\n",
      "  return fit_method(estimator, *args, **kwargs)\n"
     ]
    },
    {
     "name": "stdout",
     "output_type": "stream",
     "text": [
      "[CV 1/10] END max_depth=10, min_samples_leaf=10, min_samples_split=10, n_estimators=100;, score=0.156 total time=   2.5s\n"
     ]
    },
    {
     "name": "stderr",
     "output_type": "stream",
     "text": [
      "C:\\Users\\ben8h\\anaconda3\\Lib\\site-packages\\sklearn\\base.py:1474: DataConversionWarning: A column-vector y was passed when a 1d array was expected. Please change the shape of y to (n_samples,), for example using ravel().\n",
      "  return fit_method(estimator, *args, **kwargs)\n"
     ]
    },
    {
     "name": "stdout",
     "output_type": "stream",
     "text": [
      "[CV 2/10] END max_depth=10, min_samples_leaf=10, min_samples_split=10, n_estimators=100;, score=0.173 total time=   2.5s\n"
     ]
    },
    {
     "name": "stderr",
     "output_type": "stream",
     "text": [
      "C:\\Users\\ben8h\\anaconda3\\Lib\\site-packages\\sklearn\\base.py:1474: DataConversionWarning: A column-vector y was passed when a 1d array was expected. Please change the shape of y to (n_samples,), for example using ravel().\n",
      "  return fit_method(estimator, *args, **kwargs)\n"
     ]
    },
    {
     "name": "stdout",
     "output_type": "stream",
     "text": [
      "[CV 3/10] END max_depth=10, min_samples_leaf=10, min_samples_split=10, n_estimators=100;, score=0.239 total time=   2.5s\n"
     ]
    },
    {
     "name": "stderr",
     "output_type": "stream",
     "text": [
      "C:\\Users\\ben8h\\anaconda3\\Lib\\site-packages\\sklearn\\base.py:1474: DataConversionWarning: A column-vector y was passed when a 1d array was expected. Please change the shape of y to (n_samples,), for example using ravel().\n",
      "  return fit_method(estimator, *args, **kwargs)\n"
     ]
    },
    {
     "name": "stdout",
     "output_type": "stream",
     "text": [
      "[CV 4/10] END max_depth=10, min_samples_leaf=10, min_samples_split=10, n_estimators=100;, score=0.156 total time=   2.6s\n"
     ]
    },
    {
     "name": "stderr",
     "output_type": "stream",
     "text": [
      "C:\\Users\\ben8h\\anaconda3\\Lib\\site-packages\\sklearn\\base.py:1474: DataConversionWarning: A column-vector y was passed when a 1d array was expected. Please change the shape of y to (n_samples,), for example using ravel().\n",
      "  return fit_method(estimator, *args, **kwargs)\n"
     ]
    },
    {
     "name": "stdout",
     "output_type": "stream",
     "text": [
      "[CV 5/10] END max_depth=10, min_samples_leaf=10, min_samples_split=10, n_estimators=100;, score=0.223 total time=   2.5s\n"
     ]
    },
    {
     "name": "stderr",
     "output_type": "stream",
     "text": [
      "C:\\Users\\ben8h\\anaconda3\\Lib\\site-packages\\sklearn\\base.py:1474: DataConversionWarning: A column-vector y was passed when a 1d array was expected. Please change the shape of y to (n_samples,), for example using ravel().\n",
      "  return fit_method(estimator, *args, **kwargs)\n"
     ]
    },
    {
     "name": "stdout",
     "output_type": "stream",
     "text": [
      "[CV 6/10] END max_depth=10, min_samples_leaf=10, min_samples_split=10, n_estimators=100;, score=0.145 total time=   2.5s\n"
     ]
    },
    {
     "name": "stderr",
     "output_type": "stream",
     "text": [
      "C:\\Users\\ben8h\\anaconda3\\Lib\\site-packages\\sklearn\\base.py:1474: DataConversionWarning: A column-vector y was passed when a 1d array was expected. Please change the shape of y to (n_samples,), for example using ravel().\n",
      "  return fit_method(estimator, *args, **kwargs)\n"
     ]
    },
    {
     "name": "stdout",
     "output_type": "stream",
     "text": [
      "[CV 7/10] END max_depth=10, min_samples_leaf=10, min_samples_split=10, n_estimators=100;, score=0.184 total time=   2.5s\n"
     ]
    },
    {
     "name": "stderr",
     "output_type": "stream",
     "text": [
      "C:\\Users\\ben8h\\anaconda3\\Lib\\site-packages\\sklearn\\base.py:1474: DataConversionWarning: A column-vector y was passed when a 1d array was expected. Please change the shape of y to (n_samples,), for example using ravel().\n",
      "  return fit_method(estimator, *args, **kwargs)\n"
     ]
    },
    {
     "name": "stdout",
     "output_type": "stream",
     "text": [
      "[CV 8/10] END max_depth=10, min_samples_leaf=10, min_samples_split=10, n_estimators=100;, score=0.172 total time=   2.5s\n"
     ]
    },
    {
     "name": "stderr",
     "output_type": "stream",
     "text": [
      "C:\\Users\\ben8h\\anaconda3\\Lib\\site-packages\\sklearn\\base.py:1474: DataConversionWarning: A column-vector y was passed when a 1d array was expected. Please change the shape of y to (n_samples,), for example using ravel().\n",
      "  return fit_method(estimator, *args, **kwargs)\n"
     ]
    },
    {
     "name": "stdout",
     "output_type": "stream",
     "text": [
      "[CV 9/10] END max_depth=10, min_samples_leaf=10, min_samples_split=10, n_estimators=100;, score=0.179 total time=   2.5s\n"
     ]
    },
    {
     "name": "stderr",
     "output_type": "stream",
     "text": [
      "C:\\Users\\ben8h\\anaconda3\\Lib\\site-packages\\sklearn\\base.py:1474: DataConversionWarning: A column-vector y was passed when a 1d array was expected. Please change the shape of y to (n_samples,), for example using ravel().\n",
      "  return fit_method(estimator, *args, **kwargs)\n"
     ]
    },
    {
     "name": "stdout",
     "output_type": "stream",
     "text": [
      "[CV 10/10] END max_depth=10, min_samples_leaf=10, min_samples_split=10, n_estimators=100;, score=0.179 total time=   2.5s\n"
     ]
    },
    {
     "name": "stderr",
     "output_type": "stream",
     "text": [
      "C:\\Users\\ben8h\\anaconda3\\Lib\\site-packages\\sklearn\\base.py:1474: DataConversionWarning: A column-vector y was passed when a 1d array was expected. Please change the shape of y to (n_samples,), for example using ravel().\n",
      "  return fit_method(estimator, *args, **kwargs)\n"
     ]
    },
    {
     "name": "stdout",
     "output_type": "stream",
     "text": [
      "[CV 1/10] END max_depth=10, min_samples_leaf=10, min_samples_split=10, n_estimators=200;, score=0.157 total time=   5.2s\n"
     ]
    },
    {
     "name": "stderr",
     "output_type": "stream",
     "text": [
      "C:\\Users\\ben8h\\anaconda3\\Lib\\site-packages\\sklearn\\base.py:1474: DataConversionWarning: A column-vector y was passed when a 1d array was expected. Please change the shape of y to (n_samples,), for example using ravel().\n",
      "  return fit_method(estimator, *args, **kwargs)\n"
     ]
    },
    {
     "name": "stdout",
     "output_type": "stream",
     "text": [
      "[CV 2/10] END max_depth=10, min_samples_leaf=10, min_samples_split=10, n_estimators=200;, score=0.174 total time=   5.1s\n"
     ]
    },
    {
     "name": "stderr",
     "output_type": "stream",
     "text": [
      "C:\\Users\\ben8h\\anaconda3\\Lib\\site-packages\\sklearn\\base.py:1474: DataConversionWarning: A column-vector y was passed when a 1d array was expected. Please change the shape of y to (n_samples,), for example using ravel().\n",
      "  return fit_method(estimator, *args, **kwargs)\n"
     ]
    },
    {
     "name": "stdout",
     "output_type": "stream",
     "text": [
      "[CV 3/10] END max_depth=10, min_samples_leaf=10, min_samples_split=10, n_estimators=200;, score=0.239 total time=   5.1s\n"
     ]
    },
    {
     "name": "stderr",
     "output_type": "stream",
     "text": [
      "C:\\Users\\ben8h\\anaconda3\\Lib\\site-packages\\sklearn\\base.py:1474: DataConversionWarning: A column-vector y was passed when a 1d array was expected. Please change the shape of y to (n_samples,), for example using ravel().\n",
      "  return fit_method(estimator, *args, **kwargs)\n"
     ]
    },
    {
     "name": "stdout",
     "output_type": "stream",
     "text": [
      "[CV 4/10] END max_depth=10, min_samples_leaf=10, min_samples_split=10, n_estimators=200;, score=0.154 total time=   5.1s\n"
     ]
    },
    {
     "name": "stderr",
     "output_type": "stream",
     "text": [
      "C:\\Users\\ben8h\\anaconda3\\Lib\\site-packages\\sklearn\\base.py:1474: DataConversionWarning: A column-vector y was passed when a 1d array was expected. Please change the shape of y to (n_samples,), for example using ravel().\n",
      "  return fit_method(estimator, *args, **kwargs)\n"
     ]
    },
    {
     "name": "stdout",
     "output_type": "stream",
     "text": [
      "[CV 5/10] END max_depth=10, min_samples_leaf=10, min_samples_split=10, n_estimators=200;, score=0.224 total time=   5.1s\n"
     ]
    },
    {
     "name": "stderr",
     "output_type": "stream",
     "text": [
      "C:\\Users\\ben8h\\anaconda3\\Lib\\site-packages\\sklearn\\base.py:1474: DataConversionWarning: A column-vector y was passed when a 1d array was expected. Please change the shape of y to (n_samples,), for example using ravel().\n",
      "  return fit_method(estimator, *args, **kwargs)\n"
     ]
    },
    {
     "name": "stdout",
     "output_type": "stream",
     "text": [
      "[CV 6/10] END max_depth=10, min_samples_leaf=10, min_samples_split=10, n_estimators=200;, score=0.148 total time=   5.1s\n"
     ]
    },
    {
     "name": "stderr",
     "output_type": "stream",
     "text": [
      "C:\\Users\\ben8h\\anaconda3\\Lib\\site-packages\\sklearn\\base.py:1474: DataConversionWarning: A column-vector y was passed when a 1d array was expected. Please change the shape of y to (n_samples,), for example using ravel().\n",
      "  return fit_method(estimator, *args, **kwargs)\n"
     ]
    },
    {
     "name": "stdout",
     "output_type": "stream",
     "text": [
      "[CV 7/10] END max_depth=10, min_samples_leaf=10, min_samples_split=10, n_estimators=200;, score=0.183 total time=   5.2s\n"
     ]
    },
    {
     "name": "stderr",
     "output_type": "stream",
     "text": [
      "C:\\Users\\ben8h\\anaconda3\\Lib\\site-packages\\sklearn\\base.py:1474: DataConversionWarning: A column-vector y was passed when a 1d array was expected. Please change the shape of y to (n_samples,), for example using ravel().\n",
      "  return fit_method(estimator, *args, **kwargs)\n"
     ]
    },
    {
     "name": "stdout",
     "output_type": "stream",
     "text": [
      "[CV 8/10] END max_depth=10, min_samples_leaf=10, min_samples_split=10, n_estimators=200;, score=0.168 total time=   5.1s\n"
     ]
    },
    {
     "name": "stderr",
     "output_type": "stream",
     "text": [
      "C:\\Users\\ben8h\\anaconda3\\Lib\\site-packages\\sklearn\\base.py:1474: DataConversionWarning: A column-vector y was passed when a 1d array was expected. Please change the shape of y to (n_samples,), for example using ravel().\n",
      "  return fit_method(estimator, *args, **kwargs)\n"
     ]
    },
    {
     "name": "stdout",
     "output_type": "stream",
     "text": [
      "[CV 9/10] END max_depth=10, min_samples_leaf=10, min_samples_split=10, n_estimators=200;, score=0.177 total time=   5.1s\n"
     ]
    },
    {
     "name": "stderr",
     "output_type": "stream",
     "text": [
      "C:\\Users\\ben8h\\anaconda3\\Lib\\site-packages\\sklearn\\base.py:1474: DataConversionWarning: A column-vector y was passed when a 1d array was expected. Please change the shape of y to (n_samples,), for example using ravel().\n",
      "  return fit_method(estimator, *args, **kwargs)\n"
     ]
    },
    {
     "name": "stdout",
     "output_type": "stream",
     "text": [
      "[CV 10/10] END max_depth=10, min_samples_leaf=10, min_samples_split=10, n_estimators=200;, score=0.181 total time=   5.1s\n"
     ]
    },
    {
     "name": "stderr",
     "output_type": "stream",
     "text": [
      "C:\\Users\\ben8h\\anaconda3\\Lib\\site-packages\\sklearn\\base.py:1474: DataConversionWarning: A column-vector y was passed when a 1d array was expected. Please change the shape of y to (n_samples,), for example using ravel().\n",
      "  return fit_method(estimator, *args, **kwargs)\n"
     ]
    },
    {
     "data": {
      "text/html": [
       "<style>#sk-container-id-4 {\n",
       "  /* Definition of color scheme common for light and dark mode */\n",
       "  --sklearn-color-text: black;\n",
       "  --sklearn-color-line: gray;\n",
       "  /* Definition of color scheme for unfitted estimators */\n",
       "  --sklearn-color-unfitted-level-0: #fff5e6;\n",
       "  --sklearn-color-unfitted-level-1: #f6e4d2;\n",
       "  --sklearn-color-unfitted-level-2: #ffe0b3;\n",
       "  --sklearn-color-unfitted-level-3: chocolate;\n",
       "  /* Definition of color scheme for fitted estimators */\n",
       "  --sklearn-color-fitted-level-0: #f0f8ff;\n",
       "  --sklearn-color-fitted-level-1: #d4ebff;\n",
       "  --sklearn-color-fitted-level-2: #b3dbfd;\n",
       "  --sklearn-color-fitted-level-3: cornflowerblue;\n",
       "\n",
       "  /* Specific color for light theme */\n",
       "  --sklearn-color-text-on-default-background: var(--sg-text-color, var(--theme-code-foreground, var(--jp-content-font-color1, black)));\n",
       "  --sklearn-color-background: var(--sg-background-color, var(--theme-background, var(--jp-layout-color0, white)));\n",
       "  --sklearn-color-border-box: var(--sg-text-color, var(--theme-code-foreground, var(--jp-content-font-color1, black)));\n",
       "  --sklearn-color-icon: #696969;\n",
       "\n",
       "  @media (prefers-color-scheme: dark) {\n",
       "    /* Redefinition of color scheme for dark theme */\n",
       "    --sklearn-color-text-on-default-background: var(--sg-text-color, var(--theme-code-foreground, var(--jp-content-font-color1, white)));\n",
       "    --sklearn-color-background: var(--sg-background-color, var(--theme-background, var(--jp-layout-color0, #111)));\n",
       "    --sklearn-color-border-box: var(--sg-text-color, var(--theme-code-foreground, var(--jp-content-font-color1, white)));\n",
       "    --sklearn-color-icon: #878787;\n",
       "  }\n",
       "}\n",
       "\n",
       "#sk-container-id-4 {\n",
       "  color: var(--sklearn-color-text);\n",
       "}\n",
       "\n",
       "#sk-container-id-4 pre {\n",
       "  padding: 0;\n",
       "}\n",
       "\n",
       "#sk-container-id-4 input.sk-hidden--visually {\n",
       "  border: 0;\n",
       "  clip: rect(1px 1px 1px 1px);\n",
       "  clip: rect(1px, 1px, 1px, 1px);\n",
       "  height: 1px;\n",
       "  margin: -1px;\n",
       "  overflow: hidden;\n",
       "  padding: 0;\n",
       "  position: absolute;\n",
       "  width: 1px;\n",
       "}\n",
       "\n",
       "#sk-container-id-4 div.sk-dashed-wrapped {\n",
       "  border: 1px dashed var(--sklearn-color-line);\n",
       "  margin: 0 0.4em 0.5em 0.4em;\n",
       "  box-sizing: border-box;\n",
       "  padding-bottom: 0.4em;\n",
       "  background-color: var(--sklearn-color-background);\n",
       "}\n",
       "\n",
       "#sk-container-id-4 div.sk-container {\n",
       "  /* jupyter's `normalize.less` sets `[hidden] { display: none; }`\n",
       "     but bootstrap.min.css set `[hidden] { display: none !important; }`\n",
       "     so we also need the `!important` here to be able to override the\n",
       "     default hidden behavior on the sphinx rendered scikit-learn.org.\n",
       "     See: https://github.com/scikit-learn/scikit-learn/issues/21755 */\n",
       "  display: inline-block !important;\n",
       "  position: relative;\n",
       "}\n",
       "\n",
       "#sk-container-id-4 div.sk-text-repr-fallback {\n",
       "  display: none;\n",
       "}\n",
       "\n",
       "div.sk-parallel-item,\n",
       "div.sk-serial,\n",
       "div.sk-item {\n",
       "  /* draw centered vertical line to link estimators */\n",
       "  background-image: linear-gradient(var(--sklearn-color-text-on-default-background), var(--sklearn-color-text-on-default-background));\n",
       "  background-size: 2px 100%;\n",
       "  background-repeat: no-repeat;\n",
       "  background-position: center center;\n",
       "}\n",
       "\n",
       "/* Parallel-specific style estimator block */\n",
       "\n",
       "#sk-container-id-4 div.sk-parallel-item::after {\n",
       "  content: \"\";\n",
       "  width: 100%;\n",
       "  border-bottom: 2px solid var(--sklearn-color-text-on-default-background);\n",
       "  flex-grow: 1;\n",
       "}\n",
       "\n",
       "#sk-container-id-4 div.sk-parallel {\n",
       "  display: flex;\n",
       "  align-items: stretch;\n",
       "  justify-content: center;\n",
       "  background-color: var(--sklearn-color-background);\n",
       "  position: relative;\n",
       "}\n",
       "\n",
       "#sk-container-id-4 div.sk-parallel-item {\n",
       "  display: flex;\n",
       "  flex-direction: column;\n",
       "}\n",
       "\n",
       "#sk-container-id-4 div.sk-parallel-item:first-child::after {\n",
       "  align-self: flex-end;\n",
       "  width: 50%;\n",
       "}\n",
       "\n",
       "#sk-container-id-4 div.sk-parallel-item:last-child::after {\n",
       "  align-self: flex-start;\n",
       "  width: 50%;\n",
       "}\n",
       "\n",
       "#sk-container-id-4 div.sk-parallel-item:only-child::after {\n",
       "  width: 0;\n",
       "}\n",
       "\n",
       "/* Serial-specific style estimator block */\n",
       "\n",
       "#sk-container-id-4 div.sk-serial {\n",
       "  display: flex;\n",
       "  flex-direction: column;\n",
       "  align-items: center;\n",
       "  background-color: var(--sklearn-color-background);\n",
       "  padding-right: 1em;\n",
       "  padding-left: 1em;\n",
       "}\n",
       "\n",
       "\n",
       "/* Toggleable style: style used for estimator/Pipeline/ColumnTransformer box that is\n",
       "clickable and can be expanded/collapsed.\n",
       "- Pipeline and ColumnTransformer use this feature and define the default style\n",
       "- Estimators will overwrite some part of the style using the `sk-estimator` class\n",
       "*/\n",
       "\n",
       "/* Pipeline and ColumnTransformer style (default) */\n",
       "\n",
       "#sk-container-id-4 div.sk-toggleable {\n",
       "  /* Default theme specific background. It is overwritten whether we have a\n",
       "  specific estimator or a Pipeline/ColumnTransformer */\n",
       "  background-color: var(--sklearn-color-background);\n",
       "}\n",
       "\n",
       "/* Toggleable label */\n",
       "#sk-container-id-4 label.sk-toggleable__label {\n",
       "  cursor: pointer;\n",
       "  display: block;\n",
       "  width: 100%;\n",
       "  margin-bottom: 0;\n",
       "  padding: 0.5em;\n",
       "  box-sizing: border-box;\n",
       "  text-align: center;\n",
       "}\n",
       "\n",
       "#sk-container-id-4 label.sk-toggleable__label-arrow:before {\n",
       "  /* Arrow on the left of the label */\n",
       "  content: \"▸\";\n",
       "  float: left;\n",
       "  margin-right: 0.25em;\n",
       "  color: var(--sklearn-color-icon);\n",
       "}\n",
       "\n",
       "#sk-container-id-4 label.sk-toggleable__label-arrow:hover:before {\n",
       "  color: var(--sklearn-color-text);\n",
       "}\n",
       "\n",
       "/* Toggleable content - dropdown */\n",
       "\n",
       "#sk-container-id-4 div.sk-toggleable__content {\n",
       "  max-height: 0;\n",
       "  max-width: 0;\n",
       "  overflow: hidden;\n",
       "  text-align: left;\n",
       "  /* unfitted */\n",
       "  background-color: var(--sklearn-color-unfitted-level-0);\n",
       "}\n",
       "\n",
       "#sk-container-id-4 div.sk-toggleable__content.fitted {\n",
       "  /* fitted */\n",
       "  background-color: var(--sklearn-color-fitted-level-0);\n",
       "}\n",
       "\n",
       "#sk-container-id-4 div.sk-toggleable__content pre {\n",
       "  margin: 0.2em;\n",
       "  border-radius: 0.25em;\n",
       "  color: var(--sklearn-color-text);\n",
       "  /* unfitted */\n",
       "  background-color: var(--sklearn-color-unfitted-level-0);\n",
       "}\n",
       "\n",
       "#sk-container-id-4 div.sk-toggleable__content.fitted pre {\n",
       "  /* unfitted */\n",
       "  background-color: var(--sklearn-color-fitted-level-0);\n",
       "}\n",
       "\n",
       "#sk-container-id-4 input.sk-toggleable__control:checked~div.sk-toggleable__content {\n",
       "  /* Expand drop-down */\n",
       "  max-height: 200px;\n",
       "  max-width: 100%;\n",
       "  overflow: auto;\n",
       "}\n",
       "\n",
       "#sk-container-id-4 input.sk-toggleable__control:checked~label.sk-toggleable__label-arrow:before {\n",
       "  content: \"▾\";\n",
       "}\n",
       "\n",
       "/* Pipeline/ColumnTransformer-specific style */\n",
       "\n",
       "#sk-container-id-4 div.sk-label input.sk-toggleable__control:checked~label.sk-toggleable__label {\n",
       "  color: var(--sklearn-color-text);\n",
       "  background-color: var(--sklearn-color-unfitted-level-2);\n",
       "}\n",
       "\n",
       "#sk-container-id-4 div.sk-label.fitted input.sk-toggleable__control:checked~label.sk-toggleable__label {\n",
       "  background-color: var(--sklearn-color-fitted-level-2);\n",
       "}\n",
       "\n",
       "/* Estimator-specific style */\n",
       "\n",
       "/* Colorize estimator box */\n",
       "#sk-container-id-4 div.sk-estimator input.sk-toggleable__control:checked~label.sk-toggleable__label {\n",
       "  /* unfitted */\n",
       "  background-color: var(--sklearn-color-unfitted-level-2);\n",
       "}\n",
       "\n",
       "#sk-container-id-4 div.sk-estimator.fitted input.sk-toggleable__control:checked~label.sk-toggleable__label {\n",
       "  /* fitted */\n",
       "  background-color: var(--sklearn-color-fitted-level-2);\n",
       "}\n",
       "\n",
       "#sk-container-id-4 div.sk-label label.sk-toggleable__label,\n",
       "#sk-container-id-4 div.sk-label label {\n",
       "  /* The background is the default theme color */\n",
       "  color: var(--sklearn-color-text-on-default-background);\n",
       "}\n",
       "\n",
       "/* On hover, darken the color of the background */\n",
       "#sk-container-id-4 div.sk-label:hover label.sk-toggleable__label {\n",
       "  color: var(--sklearn-color-text);\n",
       "  background-color: var(--sklearn-color-unfitted-level-2);\n",
       "}\n",
       "\n",
       "/* Label box, darken color on hover, fitted */\n",
       "#sk-container-id-4 div.sk-label.fitted:hover label.sk-toggleable__label.fitted {\n",
       "  color: var(--sklearn-color-text);\n",
       "  background-color: var(--sklearn-color-fitted-level-2);\n",
       "}\n",
       "\n",
       "/* Estimator label */\n",
       "\n",
       "#sk-container-id-4 div.sk-label label {\n",
       "  font-family: monospace;\n",
       "  font-weight: bold;\n",
       "  display: inline-block;\n",
       "  line-height: 1.2em;\n",
       "}\n",
       "\n",
       "#sk-container-id-4 div.sk-label-container {\n",
       "  text-align: center;\n",
       "}\n",
       "\n",
       "/* Estimator-specific */\n",
       "#sk-container-id-4 div.sk-estimator {\n",
       "  font-family: monospace;\n",
       "  border: 1px dotted var(--sklearn-color-border-box);\n",
       "  border-radius: 0.25em;\n",
       "  box-sizing: border-box;\n",
       "  margin-bottom: 0.5em;\n",
       "  /* unfitted */\n",
       "  background-color: var(--sklearn-color-unfitted-level-0);\n",
       "}\n",
       "\n",
       "#sk-container-id-4 div.sk-estimator.fitted {\n",
       "  /* fitted */\n",
       "  background-color: var(--sklearn-color-fitted-level-0);\n",
       "}\n",
       "\n",
       "/* on hover */\n",
       "#sk-container-id-4 div.sk-estimator:hover {\n",
       "  /* unfitted */\n",
       "  background-color: var(--sklearn-color-unfitted-level-2);\n",
       "}\n",
       "\n",
       "#sk-container-id-4 div.sk-estimator.fitted:hover {\n",
       "  /* fitted */\n",
       "  background-color: var(--sklearn-color-fitted-level-2);\n",
       "}\n",
       "\n",
       "/* Specification for estimator info (e.g. \"i\" and \"?\") */\n",
       "\n",
       "/* Common style for \"i\" and \"?\" */\n",
       "\n",
       ".sk-estimator-doc-link,\n",
       "a:link.sk-estimator-doc-link,\n",
       "a:visited.sk-estimator-doc-link {\n",
       "  float: right;\n",
       "  font-size: smaller;\n",
       "  line-height: 1em;\n",
       "  font-family: monospace;\n",
       "  background-color: var(--sklearn-color-background);\n",
       "  border-radius: 1em;\n",
       "  height: 1em;\n",
       "  width: 1em;\n",
       "  text-decoration: none !important;\n",
       "  margin-left: 1ex;\n",
       "  /* unfitted */\n",
       "  border: var(--sklearn-color-unfitted-level-1) 1pt solid;\n",
       "  color: var(--sklearn-color-unfitted-level-1);\n",
       "}\n",
       "\n",
       ".sk-estimator-doc-link.fitted,\n",
       "a:link.sk-estimator-doc-link.fitted,\n",
       "a:visited.sk-estimator-doc-link.fitted {\n",
       "  /* fitted */\n",
       "  border: var(--sklearn-color-fitted-level-1) 1pt solid;\n",
       "  color: var(--sklearn-color-fitted-level-1);\n",
       "}\n",
       "\n",
       "/* On hover */\n",
       "div.sk-estimator:hover .sk-estimator-doc-link:hover,\n",
       ".sk-estimator-doc-link:hover,\n",
       "div.sk-label-container:hover .sk-estimator-doc-link:hover,\n",
       ".sk-estimator-doc-link:hover {\n",
       "  /* unfitted */\n",
       "  background-color: var(--sklearn-color-unfitted-level-3);\n",
       "  color: var(--sklearn-color-background);\n",
       "  text-decoration: none;\n",
       "}\n",
       "\n",
       "div.sk-estimator.fitted:hover .sk-estimator-doc-link.fitted:hover,\n",
       ".sk-estimator-doc-link.fitted:hover,\n",
       "div.sk-label-container:hover .sk-estimator-doc-link.fitted:hover,\n",
       ".sk-estimator-doc-link.fitted:hover {\n",
       "  /* fitted */\n",
       "  background-color: var(--sklearn-color-fitted-level-3);\n",
       "  color: var(--sklearn-color-background);\n",
       "  text-decoration: none;\n",
       "}\n",
       "\n",
       "/* Span, style for the box shown on hovering the info icon */\n",
       ".sk-estimator-doc-link span {\n",
       "  display: none;\n",
       "  z-index: 9999;\n",
       "  position: relative;\n",
       "  font-weight: normal;\n",
       "  right: .2ex;\n",
       "  padding: .5ex;\n",
       "  margin: .5ex;\n",
       "  width: min-content;\n",
       "  min-width: 20ex;\n",
       "  max-width: 50ex;\n",
       "  color: var(--sklearn-color-text);\n",
       "  box-shadow: 2pt 2pt 4pt #999;\n",
       "  /* unfitted */\n",
       "  background: var(--sklearn-color-unfitted-level-0);\n",
       "  border: .5pt solid var(--sklearn-color-unfitted-level-3);\n",
       "}\n",
       "\n",
       ".sk-estimator-doc-link.fitted span {\n",
       "  /* fitted */\n",
       "  background: var(--sklearn-color-fitted-level-0);\n",
       "  border: var(--sklearn-color-fitted-level-3);\n",
       "}\n",
       "\n",
       ".sk-estimator-doc-link:hover span {\n",
       "  display: block;\n",
       "}\n",
       "\n",
       "/* \"?\"-specific style due to the `<a>` HTML tag */\n",
       "\n",
       "#sk-container-id-4 a.estimator_doc_link {\n",
       "  float: right;\n",
       "  font-size: 1rem;\n",
       "  line-height: 1em;\n",
       "  font-family: monospace;\n",
       "  background-color: var(--sklearn-color-background);\n",
       "  border-radius: 1rem;\n",
       "  height: 1rem;\n",
       "  width: 1rem;\n",
       "  text-decoration: none;\n",
       "  /* unfitted */\n",
       "  color: var(--sklearn-color-unfitted-level-1);\n",
       "  border: var(--sklearn-color-unfitted-level-1) 1pt solid;\n",
       "}\n",
       "\n",
       "#sk-container-id-4 a.estimator_doc_link.fitted {\n",
       "  /* fitted */\n",
       "  border: var(--sklearn-color-fitted-level-1) 1pt solid;\n",
       "  color: var(--sklearn-color-fitted-level-1);\n",
       "}\n",
       "\n",
       "/* On hover */\n",
       "#sk-container-id-4 a.estimator_doc_link:hover {\n",
       "  /* unfitted */\n",
       "  background-color: var(--sklearn-color-unfitted-level-3);\n",
       "  color: var(--sklearn-color-background);\n",
       "  text-decoration: none;\n",
       "}\n",
       "\n",
       "#sk-container-id-4 a.estimator_doc_link.fitted:hover {\n",
       "  /* fitted */\n",
       "  background-color: var(--sklearn-color-fitted-level-3);\n",
       "}\n",
       "</style><div id=\"sk-container-id-4\" class=\"sk-top-container\"><div class=\"sk-text-repr-fallback\"><pre>GridSearchCV(cv=StratifiedKFold(n_splits=10, random_state=458, shuffle=True),\n",
       "             estimator=RandomForestRegressor(),\n",
       "             param_grid={&#x27;max_depth&#x27;: [None, 5, 10],\n",
       "                         &#x27;min_samples_leaf&#x27;: [1, 5, 10],\n",
       "                         &#x27;min_samples_split&#x27;: [2, 5, 10],\n",
       "                         &#x27;n_estimators&#x27;: [50, 100, 200]},\n",
       "             verbose=3)</pre><b>In a Jupyter environment, please rerun this cell to show the HTML representation or trust the notebook. <br />On GitHub, the HTML representation is unable to render, please try loading this page with nbviewer.org.</b></div><div class=\"sk-container\" hidden><div class=\"sk-item sk-dashed-wrapped\"><div class=\"sk-label-container\"><div class=\"sk-label fitted sk-toggleable\"><input class=\"sk-toggleable__control sk-hidden--visually\" id=\"sk-estimator-id-8\" type=\"checkbox\" ><label for=\"sk-estimator-id-8\" class=\"sk-toggleable__label fitted sk-toggleable__label-arrow fitted\">&nbsp;&nbsp;GridSearchCV<a class=\"sk-estimator-doc-link fitted\" rel=\"noreferrer\" target=\"_blank\" href=\"https://scikit-learn.org/1.4/modules/generated/sklearn.model_selection.GridSearchCV.html\">?<span>Documentation for GridSearchCV</span></a><span class=\"sk-estimator-doc-link fitted\">i<span>Fitted</span></span></label><div class=\"sk-toggleable__content fitted\"><pre>GridSearchCV(cv=StratifiedKFold(n_splits=10, random_state=458, shuffle=True),\n",
       "             estimator=RandomForestRegressor(),\n",
       "             param_grid={&#x27;max_depth&#x27;: [None, 5, 10],\n",
       "                         &#x27;min_samples_leaf&#x27;: [1, 5, 10],\n",
       "                         &#x27;min_samples_split&#x27;: [2, 5, 10],\n",
       "                         &#x27;n_estimators&#x27;: [50, 100, 200]},\n",
       "             verbose=3)</pre></div> </div></div><div class=\"sk-parallel\"><div class=\"sk-parallel-item\"><div class=\"sk-item\"><div class=\"sk-label-container\"><div class=\"sk-label fitted sk-toggleable\"><input class=\"sk-toggleable__control sk-hidden--visually\" id=\"sk-estimator-id-9\" type=\"checkbox\" ><label for=\"sk-estimator-id-9\" class=\"sk-toggleable__label fitted sk-toggleable__label-arrow fitted\">estimator: RandomForestRegressor</label><div class=\"sk-toggleable__content fitted\"><pre>RandomForestRegressor()</pre></div> </div></div><div class=\"sk-serial\"><div class=\"sk-item\"><div class=\"sk-estimator fitted sk-toggleable\"><input class=\"sk-toggleable__control sk-hidden--visually\" id=\"sk-estimator-id-10\" type=\"checkbox\" ><label for=\"sk-estimator-id-10\" class=\"sk-toggleable__label fitted sk-toggleable__label-arrow fitted\">&nbsp;RandomForestRegressor<a class=\"sk-estimator-doc-link fitted\" rel=\"noreferrer\" target=\"_blank\" href=\"https://scikit-learn.org/1.4/modules/generated/sklearn.ensemble.RandomForestRegressor.html\">?<span>Documentation for RandomForestRegressor</span></a></label><div class=\"sk-toggleable__content fitted\"><pre>RandomForestRegressor()</pre></div> </div></div></div></div></div></div></div></div></div>"
      ],
      "text/plain": [
       "GridSearchCV(cv=StratifiedKFold(n_splits=10, random_state=458, shuffle=True),\n",
       "             estimator=RandomForestRegressor(),\n",
       "             param_grid={'max_depth': [None, 5, 10],\n",
       "                         'min_samples_leaf': [1, 5, 10],\n",
       "                         'min_samples_split': [2, 5, 10],\n",
       "                         'n_estimators': [50, 100, 200]},\n",
       "             verbose=3)"
      ]
     },
     "execution_count": 60,
     "metadata": {},
     "output_type": "execute_result"
    }
   ],
   "source": [
    "rf_param_grid = {\n",
    "    'n_estimators': [50, 100, 200],\n",
    "    'max_depth': [None, 5, 10],\n",
    "    'min_samples_split': [2, 5, 10],\n",
    "    'min_samples_leaf': [1, 5, 10]\n",
    "}\n",
    "\n",
    "from sklearn.model_selection import StratifiedKFold\n",
    "\n",
    "state = 458\n",
    "\n",
    "cv_obj = StratifiedKFold(n_splits=10, shuffle=True, random_state=state)\n",
    "\n",
    "grid_search_forest_r = GridSearchCV(RandomForestRegressor(), rf_param_grid, verbose=3, cv=cv_obj)\n",
    "\n",
    "grid_search_forest_r.fit(salaries_training, salary_train)"
   ]
  },
  {
   "cell_type": "code",
   "execution_count": 61,
   "id": "c030f9c6-ef82-4a75-8010-48442f3837a3",
   "metadata": {},
   "outputs": [
    {
     "data": {
      "text/plain": [
       "0.19018887940332677"
      ]
     },
     "execution_count": 61,
     "metadata": {},
     "output_type": "execute_result"
    }
   ],
   "source": [
    "grid_search_forest_r.best_score_"
   ]
  },
  {
   "cell_type": "code",
   "execution_count": 62,
   "id": "060fe327-41d1-4287-a948-eb6e428ffd53",
   "metadata": {},
   "outputs": [
    {
     "data": {
      "text/plain": [
       "{'max_depth': None,\n",
       " 'min_samples_leaf': 5,\n",
       " 'min_samples_split': 2,\n",
       " 'n_estimators': 200}"
      ]
     },
     "execution_count": 62,
     "metadata": {},
     "output_type": "execute_result"
    }
   ],
   "source": [
    "grid_search_forest_r.best_params_"
   ]
  },
  {
   "cell_type": "code",
   "execution_count": 63,
   "id": "43694b2d-b56b-4912-b337-c824c12170b5",
   "metadata": {},
   "outputs": [
    {
     "data": {
      "text/html": [
       "<style>#sk-container-id-5 {\n",
       "  /* Definition of color scheme common for light and dark mode */\n",
       "  --sklearn-color-text: black;\n",
       "  --sklearn-color-line: gray;\n",
       "  /* Definition of color scheme for unfitted estimators */\n",
       "  --sklearn-color-unfitted-level-0: #fff5e6;\n",
       "  --sklearn-color-unfitted-level-1: #f6e4d2;\n",
       "  --sklearn-color-unfitted-level-2: #ffe0b3;\n",
       "  --sklearn-color-unfitted-level-3: chocolate;\n",
       "  /* Definition of color scheme for fitted estimators */\n",
       "  --sklearn-color-fitted-level-0: #f0f8ff;\n",
       "  --sklearn-color-fitted-level-1: #d4ebff;\n",
       "  --sklearn-color-fitted-level-2: #b3dbfd;\n",
       "  --sklearn-color-fitted-level-3: cornflowerblue;\n",
       "\n",
       "  /* Specific color for light theme */\n",
       "  --sklearn-color-text-on-default-background: var(--sg-text-color, var(--theme-code-foreground, var(--jp-content-font-color1, black)));\n",
       "  --sklearn-color-background: var(--sg-background-color, var(--theme-background, var(--jp-layout-color0, white)));\n",
       "  --sklearn-color-border-box: var(--sg-text-color, var(--theme-code-foreground, var(--jp-content-font-color1, black)));\n",
       "  --sklearn-color-icon: #696969;\n",
       "\n",
       "  @media (prefers-color-scheme: dark) {\n",
       "    /* Redefinition of color scheme for dark theme */\n",
       "    --sklearn-color-text-on-default-background: var(--sg-text-color, var(--theme-code-foreground, var(--jp-content-font-color1, white)));\n",
       "    --sklearn-color-background: var(--sg-background-color, var(--theme-background, var(--jp-layout-color0, #111)));\n",
       "    --sklearn-color-border-box: var(--sg-text-color, var(--theme-code-foreground, var(--jp-content-font-color1, white)));\n",
       "    --sklearn-color-icon: #878787;\n",
       "  }\n",
       "}\n",
       "\n",
       "#sk-container-id-5 {\n",
       "  color: var(--sklearn-color-text);\n",
       "}\n",
       "\n",
       "#sk-container-id-5 pre {\n",
       "  padding: 0;\n",
       "}\n",
       "\n",
       "#sk-container-id-5 input.sk-hidden--visually {\n",
       "  border: 0;\n",
       "  clip: rect(1px 1px 1px 1px);\n",
       "  clip: rect(1px, 1px, 1px, 1px);\n",
       "  height: 1px;\n",
       "  margin: -1px;\n",
       "  overflow: hidden;\n",
       "  padding: 0;\n",
       "  position: absolute;\n",
       "  width: 1px;\n",
       "}\n",
       "\n",
       "#sk-container-id-5 div.sk-dashed-wrapped {\n",
       "  border: 1px dashed var(--sklearn-color-line);\n",
       "  margin: 0 0.4em 0.5em 0.4em;\n",
       "  box-sizing: border-box;\n",
       "  padding-bottom: 0.4em;\n",
       "  background-color: var(--sklearn-color-background);\n",
       "}\n",
       "\n",
       "#sk-container-id-5 div.sk-container {\n",
       "  /* jupyter's `normalize.less` sets `[hidden] { display: none; }`\n",
       "     but bootstrap.min.css set `[hidden] { display: none !important; }`\n",
       "     so we also need the `!important` here to be able to override the\n",
       "     default hidden behavior on the sphinx rendered scikit-learn.org.\n",
       "     See: https://github.com/scikit-learn/scikit-learn/issues/21755 */\n",
       "  display: inline-block !important;\n",
       "  position: relative;\n",
       "}\n",
       "\n",
       "#sk-container-id-5 div.sk-text-repr-fallback {\n",
       "  display: none;\n",
       "}\n",
       "\n",
       "div.sk-parallel-item,\n",
       "div.sk-serial,\n",
       "div.sk-item {\n",
       "  /* draw centered vertical line to link estimators */\n",
       "  background-image: linear-gradient(var(--sklearn-color-text-on-default-background), var(--sklearn-color-text-on-default-background));\n",
       "  background-size: 2px 100%;\n",
       "  background-repeat: no-repeat;\n",
       "  background-position: center center;\n",
       "}\n",
       "\n",
       "/* Parallel-specific style estimator block */\n",
       "\n",
       "#sk-container-id-5 div.sk-parallel-item::after {\n",
       "  content: \"\";\n",
       "  width: 100%;\n",
       "  border-bottom: 2px solid var(--sklearn-color-text-on-default-background);\n",
       "  flex-grow: 1;\n",
       "}\n",
       "\n",
       "#sk-container-id-5 div.sk-parallel {\n",
       "  display: flex;\n",
       "  align-items: stretch;\n",
       "  justify-content: center;\n",
       "  background-color: var(--sklearn-color-background);\n",
       "  position: relative;\n",
       "}\n",
       "\n",
       "#sk-container-id-5 div.sk-parallel-item {\n",
       "  display: flex;\n",
       "  flex-direction: column;\n",
       "}\n",
       "\n",
       "#sk-container-id-5 div.sk-parallel-item:first-child::after {\n",
       "  align-self: flex-end;\n",
       "  width: 50%;\n",
       "}\n",
       "\n",
       "#sk-container-id-5 div.sk-parallel-item:last-child::after {\n",
       "  align-self: flex-start;\n",
       "  width: 50%;\n",
       "}\n",
       "\n",
       "#sk-container-id-5 div.sk-parallel-item:only-child::after {\n",
       "  width: 0;\n",
       "}\n",
       "\n",
       "/* Serial-specific style estimator block */\n",
       "\n",
       "#sk-container-id-5 div.sk-serial {\n",
       "  display: flex;\n",
       "  flex-direction: column;\n",
       "  align-items: center;\n",
       "  background-color: var(--sklearn-color-background);\n",
       "  padding-right: 1em;\n",
       "  padding-left: 1em;\n",
       "}\n",
       "\n",
       "\n",
       "/* Toggleable style: style used for estimator/Pipeline/ColumnTransformer box that is\n",
       "clickable and can be expanded/collapsed.\n",
       "- Pipeline and ColumnTransformer use this feature and define the default style\n",
       "- Estimators will overwrite some part of the style using the `sk-estimator` class\n",
       "*/\n",
       "\n",
       "/* Pipeline and ColumnTransformer style (default) */\n",
       "\n",
       "#sk-container-id-5 div.sk-toggleable {\n",
       "  /* Default theme specific background. It is overwritten whether we have a\n",
       "  specific estimator or a Pipeline/ColumnTransformer */\n",
       "  background-color: var(--sklearn-color-background);\n",
       "}\n",
       "\n",
       "/* Toggleable label */\n",
       "#sk-container-id-5 label.sk-toggleable__label {\n",
       "  cursor: pointer;\n",
       "  display: block;\n",
       "  width: 100%;\n",
       "  margin-bottom: 0;\n",
       "  padding: 0.5em;\n",
       "  box-sizing: border-box;\n",
       "  text-align: center;\n",
       "}\n",
       "\n",
       "#sk-container-id-5 label.sk-toggleable__label-arrow:before {\n",
       "  /* Arrow on the left of the label */\n",
       "  content: \"▸\";\n",
       "  float: left;\n",
       "  margin-right: 0.25em;\n",
       "  color: var(--sklearn-color-icon);\n",
       "}\n",
       "\n",
       "#sk-container-id-5 label.sk-toggleable__label-arrow:hover:before {\n",
       "  color: var(--sklearn-color-text);\n",
       "}\n",
       "\n",
       "/* Toggleable content - dropdown */\n",
       "\n",
       "#sk-container-id-5 div.sk-toggleable__content {\n",
       "  max-height: 0;\n",
       "  max-width: 0;\n",
       "  overflow: hidden;\n",
       "  text-align: left;\n",
       "  /* unfitted */\n",
       "  background-color: var(--sklearn-color-unfitted-level-0);\n",
       "}\n",
       "\n",
       "#sk-container-id-5 div.sk-toggleable__content.fitted {\n",
       "  /* fitted */\n",
       "  background-color: var(--sklearn-color-fitted-level-0);\n",
       "}\n",
       "\n",
       "#sk-container-id-5 div.sk-toggleable__content pre {\n",
       "  margin: 0.2em;\n",
       "  border-radius: 0.25em;\n",
       "  color: var(--sklearn-color-text);\n",
       "  /* unfitted */\n",
       "  background-color: var(--sklearn-color-unfitted-level-0);\n",
       "}\n",
       "\n",
       "#sk-container-id-5 div.sk-toggleable__content.fitted pre {\n",
       "  /* unfitted */\n",
       "  background-color: var(--sklearn-color-fitted-level-0);\n",
       "}\n",
       "\n",
       "#sk-container-id-5 input.sk-toggleable__control:checked~div.sk-toggleable__content {\n",
       "  /* Expand drop-down */\n",
       "  max-height: 200px;\n",
       "  max-width: 100%;\n",
       "  overflow: auto;\n",
       "}\n",
       "\n",
       "#sk-container-id-5 input.sk-toggleable__control:checked~label.sk-toggleable__label-arrow:before {\n",
       "  content: \"▾\";\n",
       "}\n",
       "\n",
       "/* Pipeline/ColumnTransformer-specific style */\n",
       "\n",
       "#sk-container-id-5 div.sk-label input.sk-toggleable__control:checked~label.sk-toggleable__label {\n",
       "  color: var(--sklearn-color-text);\n",
       "  background-color: var(--sklearn-color-unfitted-level-2);\n",
       "}\n",
       "\n",
       "#sk-container-id-5 div.sk-label.fitted input.sk-toggleable__control:checked~label.sk-toggleable__label {\n",
       "  background-color: var(--sklearn-color-fitted-level-2);\n",
       "}\n",
       "\n",
       "/* Estimator-specific style */\n",
       "\n",
       "/* Colorize estimator box */\n",
       "#sk-container-id-5 div.sk-estimator input.sk-toggleable__control:checked~label.sk-toggleable__label {\n",
       "  /* unfitted */\n",
       "  background-color: var(--sklearn-color-unfitted-level-2);\n",
       "}\n",
       "\n",
       "#sk-container-id-5 div.sk-estimator.fitted input.sk-toggleable__control:checked~label.sk-toggleable__label {\n",
       "  /* fitted */\n",
       "  background-color: var(--sklearn-color-fitted-level-2);\n",
       "}\n",
       "\n",
       "#sk-container-id-5 div.sk-label label.sk-toggleable__label,\n",
       "#sk-container-id-5 div.sk-label label {\n",
       "  /* The background is the default theme color */\n",
       "  color: var(--sklearn-color-text-on-default-background);\n",
       "}\n",
       "\n",
       "/* On hover, darken the color of the background */\n",
       "#sk-container-id-5 div.sk-label:hover label.sk-toggleable__label {\n",
       "  color: var(--sklearn-color-text);\n",
       "  background-color: var(--sklearn-color-unfitted-level-2);\n",
       "}\n",
       "\n",
       "/* Label box, darken color on hover, fitted */\n",
       "#sk-container-id-5 div.sk-label.fitted:hover label.sk-toggleable__label.fitted {\n",
       "  color: var(--sklearn-color-text);\n",
       "  background-color: var(--sklearn-color-fitted-level-2);\n",
       "}\n",
       "\n",
       "/* Estimator label */\n",
       "\n",
       "#sk-container-id-5 div.sk-label label {\n",
       "  font-family: monospace;\n",
       "  font-weight: bold;\n",
       "  display: inline-block;\n",
       "  line-height: 1.2em;\n",
       "}\n",
       "\n",
       "#sk-container-id-5 div.sk-label-container {\n",
       "  text-align: center;\n",
       "}\n",
       "\n",
       "/* Estimator-specific */\n",
       "#sk-container-id-5 div.sk-estimator {\n",
       "  font-family: monospace;\n",
       "  border: 1px dotted var(--sklearn-color-border-box);\n",
       "  border-radius: 0.25em;\n",
       "  box-sizing: border-box;\n",
       "  margin-bottom: 0.5em;\n",
       "  /* unfitted */\n",
       "  background-color: var(--sklearn-color-unfitted-level-0);\n",
       "}\n",
       "\n",
       "#sk-container-id-5 div.sk-estimator.fitted {\n",
       "  /* fitted */\n",
       "  background-color: var(--sklearn-color-fitted-level-0);\n",
       "}\n",
       "\n",
       "/* on hover */\n",
       "#sk-container-id-5 div.sk-estimator:hover {\n",
       "  /* unfitted */\n",
       "  background-color: var(--sklearn-color-unfitted-level-2);\n",
       "}\n",
       "\n",
       "#sk-container-id-5 div.sk-estimator.fitted:hover {\n",
       "  /* fitted */\n",
       "  background-color: var(--sklearn-color-fitted-level-2);\n",
       "}\n",
       "\n",
       "/* Specification for estimator info (e.g. \"i\" and \"?\") */\n",
       "\n",
       "/* Common style for \"i\" and \"?\" */\n",
       "\n",
       ".sk-estimator-doc-link,\n",
       "a:link.sk-estimator-doc-link,\n",
       "a:visited.sk-estimator-doc-link {\n",
       "  float: right;\n",
       "  font-size: smaller;\n",
       "  line-height: 1em;\n",
       "  font-family: monospace;\n",
       "  background-color: var(--sklearn-color-background);\n",
       "  border-radius: 1em;\n",
       "  height: 1em;\n",
       "  width: 1em;\n",
       "  text-decoration: none !important;\n",
       "  margin-left: 1ex;\n",
       "  /* unfitted */\n",
       "  border: var(--sklearn-color-unfitted-level-1) 1pt solid;\n",
       "  color: var(--sklearn-color-unfitted-level-1);\n",
       "}\n",
       "\n",
       ".sk-estimator-doc-link.fitted,\n",
       "a:link.sk-estimator-doc-link.fitted,\n",
       "a:visited.sk-estimator-doc-link.fitted {\n",
       "  /* fitted */\n",
       "  border: var(--sklearn-color-fitted-level-1) 1pt solid;\n",
       "  color: var(--sklearn-color-fitted-level-1);\n",
       "}\n",
       "\n",
       "/* On hover */\n",
       "div.sk-estimator:hover .sk-estimator-doc-link:hover,\n",
       ".sk-estimator-doc-link:hover,\n",
       "div.sk-label-container:hover .sk-estimator-doc-link:hover,\n",
       ".sk-estimator-doc-link:hover {\n",
       "  /* unfitted */\n",
       "  background-color: var(--sklearn-color-unfitted-level-3);\n",
       "  color: var(--sklearn-color-background);\n",
       "  text-decoration: none;\n",
       "}\n",
       "\n",
       "div.sk-estimator.fitted:hover .sk-estimator-doc-link.fitted:hover,\n",
       ".sk-estimator-doc-link.fitted:hover,\n",
       "div.sk-label-container:hover .sk-estimator-doc-link.fitted:hover,\n",
       ".sk-estimator-doc-link.fitted:hover {\n",
       "  /* fitted */\n",
       "  background-color: var(--sklearn-color-fitted-level-3);\n",
       "  color: var(--sklearn-color-background);\n",
       "  text-decoration: none;\n",
       "}\n",
       "\n",
       "/* Span, style for the box shown on hovering the info icon */\n",
       ".sk-estimator-doc-link span {\n",
       "  display: none;\n",
       "  z-index: 9999;\n",
       "  position: relative;\n",
       "  font-weight: normal;\n",
       "  right: .2ex;\n",
       "  padding: .5ex;\n",
       "  margin: .5ex;\n",
       "  width: min-content;\n",
       "  min-width: 20ex;\n",
       "  max-width: 50ex;\n",
       "  color: var(--sklearn-color-text);\n",
       "  box-shadow: 2pt 2pt 4pt #999;\n",
       "  /* unfitted */\n",
       "  background: var(--sklearn-color-unfitted-level-0);\n",
       "  border: .5pt solid var(--sklearn-color-unfitted-level-3);\n",
       "}\n",
       "\n",
       ".sk-estimator-doc-link.fitted span {\n",
       "  /* fitted */\n",
       "  background: var(--sklearn-color-fitted-level-0);\n",
       "  border: var(--sklearn-color-fitted-level-3);\n",
       "}\n",
       "\n",
       ".sk-estimator-doc-link:hover span {\n",
       "  display: block;\n",
       "}\n",
       "\n",
       "/* \"?\"-specific style due to the `<a>` HTML tag */\n",
       "\n",
       "#sk-container-id-5 a.estimator_doc_link {\n",
       "  float: right;\n",
       "  font-size: 1rem;\n",
       "  line-height: 1em;\n",
       "  font-family: monospace;\n",
       "  background-color: var(--sklearn-color-background);\n",
       "  border-radius: 1rem;\n",
       "  height: 1rem;\n",
       "  width: 1rem;\n",
       "  text-decoration: none;\n",
       "  /* unfitted */\n",
       "  color: var(--sklearn-color-unfitted-level-1);\n",
       "  border: var(--sklearn-color-unfitted-level-1) 1pt solid;\n",
       "}\n",
       "\n",
       "#sk-container-id-5 a.estimator_doc_link.fitted {\n",
       "  /* fitted */\n",
       "  border: var(--sklearn-color-fitted-level-1) 1pt solid;\n",
       "  color: var(--sklearn-color-fitted-level-1);\n",
       "}\n",
       "\n",
       "/* On hover */\n",
       "#sk-container-id-5 a.estimator_doc_link:hover {\n",
       "  /* unfitted */\n",
       "  background-color: var(--sklearn-color-unfitted-level-3);\n",
       "  color: var(--sklearn-color-background);\n",
       "  text-decoration: none;\n",
       "}\n",
       "\n",
       "#sk-container-id-5 a.estimator_doc_link.fitted:hover {\n",
       "  /* fitted */\n",
       "  background-color: var(--sklearn-color-fitted-level-3);\n",
       "}\n",
       "</style><div id=\"sk-container-id-5\" class=\"sk-top-container\"><div class=\"sk-text-repr-fallback\"><pre>RandomForestRegressor(min_samples_leaf=5, n_estimators=200)</pre><b>In a Jupyter environment, please rerun this cell to show the HTML representation or trust the notebook. <br />On GitHub, the HTML representation is unable to render, please try loading this page with nbviewer.org.</b></div><div class=\"sk-container\" hidden><div class=\"sk-item\"><div class=\"sk-estimator fitted sk-toggleable\"><input class=\"sk-toggleable__control sk-hidden--visually\" id=\"sk-estimator-id-11\" type=\"checkbox\" checked><label for=\"sk-estimator-id-11\" class=\"sk-toggleable__label fitted sk-toggleable__label-arrow fitted\">&nbsp;&nbsp;RandomForestRegressor<a class=\"sk-estimator-doc-link fitted\" rel=\"noreferrer\" target=\"_blank\" href=\"https://scikit-learn.org/1.4/modules/generated/sklearn.ensemble.RandomForestRegressor.html\">?<span>Documentation for RandomForestRegressor</span></a><span class=\"sk-estimator-doc-link fitted\">i<span>Fitted</span></span></label><div class=\"sk-toggleable__content fitted\"><pre>RandomForestRegressor(min_samples_leaf=5, n_estimators=200)</pre></div> </div></div></div></div>"
      ],
      "text/plain": [
       "RandomForestRegressor(min_samples_leaf=5, n_estimators=200)"
      ]
     },
     "execution_count": 63,
     "metadata": {},
     "output_type": "execute_result"
    }
   ],
   "source": [
    "best_model_forest_r = grid_search_forest_r.best_estimator_\n",
    "best_model_forest_r"
   ]
  },
  {
   "cell_type": "markdown",
   "id": "c703a9ce-bd2c-41bc-ac02-4cb27fc1be91",
   "metadata": {
    "jp-MarkdownHeadingCollapsed": true
   },
   "source": [
    "## Comparing Scores"
   ]
  },
  {
   "cell_type": "code",
   "execution_count": 65,
   "id": "de215123-4bd9-4b25-98f0-d4c819840376",
   "metadata": {},
   "outputs": [
    {
     "data": {
      "text/plain": [
       "True"
      ]
     },
     "execution_count": 65,
     "metadata": {},
     "output_type": "execute_result"
    }
   ],
   "source": [
    "grid_search_forest_r.best_score_ > grid_search_tree_regressor.best_score_"
   ]
  },
  {
   "cell_type": "markdown",
   "id": "7e73dcf3-6cff-40ad-9908-7d6b3c5ff889",
   "metadata": {
    "jp-MarkdownHeadingCollapsed": true
   },
   "source": [
    "## Measuring Performance"
   ]
  },
  {
   "cell_type": "code",
   "execution_count": 67,
   "id": "764fd9e0-8bf4-440e-8c6a-4f5f1d7cb607",
   "metadata": {},
   "outputs": [],
   "source": [
    "salaries_validation_pred_rf = grid_search_forest_r.predict(salaries_validation)"
   ]
  },
  {
   "cell_type": "code",
   "execution_count": null,
   "id": "af867d29-a4e0-42c1-a691-a7d116c9d921",
   "metadata": {},
   "outputs": [],
   "source": [
    "get_metrics(salary_validation, salaries_validation_pred_rf)"
   ]
  },
  {
   "cell_type": "markdown",
   "id": "f4af6fda-876e-477a-859d-7b3f514dff6a",
   "metadata": {
    "jp-MarkdownHeadingCollapsed": true
   },
   "source": [
    "## Fitting the Best Model"
   ]
  },
  {
   "cell_type": "code",
   "execution_count": 76,
   "id": "2005c81b-9aad-4b79-84d4-debde19ba0da",
   "metadata": {},
   "outputs": [
    {
     "name": "stderr",
     "output_type": "stream",
     "text": [
      "C:\\Users\\ben8h\\anaconda3\\Lib\\site-packages\\sklearn\\base.py:1474: DataConversionWarning: A column-vector y was passed when a 1d array was expected. Please change the shape of y to (n_samples,), for example using ravel().\n",
      "  return fit_method(estimator, *args, **kwargs)\n"
     ]
    },
    {
     "data": {
      "text/html": [
       "<style>#sk-container-id-6 {\n",
       "  /* Definition of color scheme common for light and dark mode */\n",
       "  --sklearn-color-text: black;\n",
       "  --sklearn-color-line: gray;\n",
       "  /* Definition of color scheme for unfitted estimators */\n",
       "  --sklearn-color-unfitted-level-0: #fff5e6;\n",
       "  --sklearn-color-unfitted-level-1: #f6e4d2;\n",
       "  --sklearn-color-unfitted-level-2: #ffe0b3;\n",
       "  --sklearn-color-unfitted-level-3: chocolate;\n",
       "  /* Definition of color scheme for fitted estimators */\n",
       "  --sklearn-color-fitted-level-0: #f0f8ff;\n",
       "  --sklearn-color-fitted-level-1: #d4ebff;\n",
       "  --sklearn-color-fitted-level-2: #b3dbfd;\n",
       "  --sklearn-color-fitted-level-3: cornflowerblue;\n",
       "\n",
       "  /* Specific color for light theme */\n",
       "  --sklearn-color-text-on-default-background: var(--sg-text-color, var(--theme-code-foreground, var(--jp-content-font-color1, black)));\n",
       "  --sklearn-color-background: var(--sg-background-color, var(--theme-background, var(--jp-layout-color0, white)));\n",
       "  --sklearn-color-border-box: var(--sg-text-color, var(--theme-code-foreground, var(--jp-content-font-color1, black)));\n",
       "  --sklearn-color-icon: #696969;\n",
       "\n",
       "  @media (prefers-color-scheme: dark) {\n",
       "    /* Redefinition of color scheme for dark theme */\n",
       "    --sklearn-color-text-on-default-background: var(--sg-text-color, var(--theme-code-foreground, var(--jp-content-font-color1, white)));\n",
       "    --sklearn-color-background: var(--sg-background-color, var(--theme-background, var(--jp-layout-color0, #111)));\n",
       "    --sklearn-color-border-box: var(--sg-text-color, var(--theme-code-foreground, var(--jp-content-font-color1, white)));\n",
       "    --sklearn-color-icon: #878787;\n",
       "  }\n",
       "}\n",
       "\n",
       "#sk-container-id-6 {\n",
       "  color: var(--sklearn-color-text);\n",
       "}\n",
       "\n",
       "#sk-container-id-6 pre {\n",
       "  padding: 0;\n",
       "}\n",
       "\n",
       "#sk-container-id-6 input.sk-hidden--visually {\n",
       "  border: 0;\n",
       "  clip: rect(1px 1px 1px 1px);\n",
       "  clip: rect(1px, 1px, 1px, 1px);\n",
       "  height: 1px;\n",
       "  margin: -1px;\n",
       "  overflow: hidden;\n",
       "  padding: 0;\n",
       "  position: absolute;\n",
       "  width: 1px;\n",
       "}\n",
       "\n",
       "#sk-container-id-6 div.sk-dashed-wrapped {\n",
       "  border: 1px dashed var(--sklearn-color-line);\n",
       "  margin: 0 0.4em 0.5em 0.4em;\n",
       "  box-sizing: border-box;\n",
       "  padding-bottom: 0.4em;\n",
       "  background-color: var(--sklearn-color-background);\n",
       "}\n",
       "\n",
       "#sk-container-id-6 div.sk-container {\n",
       "  /* jupyter's `normalize.less` sets `[hidden] { display: none; }`\n",
       "     but bootstrap.min.css set `[hidden] { display: none !important; }`\n",
       "     so we also need the `!important` here to be able to override the\n",
       "     default hidden behavior on the sphinx rendered scikit-learn.org.\n",
       "     See: https://github.com/scikit-learn/scikit-learn/issues/21755 */\n",
       "  display: inline-block !important;\n",
       "  position: relative;\n",
       "}\n",
       "\n",
       "#sk-container-id-6 div.sk-text-repr-fallback {\n",
       "  display: none;\n",
       "}\n",
       "\n",
       "div.sk-parallel-item,\n",
       "div.sk-serial,\n",
       "div.sk-item {\n",
       "  /* draw centered vertical line to link estimators */\n",
       "  background-image: linear-gradient(var(--sklearn-color-text-on-default-background), var(--sklearn-color-text-on-default-background));\n",
       "  background-size: 2px 100%;\n",
       "  background-repeat: no-repeat;\n",
       "  background-position: center center;\n",
       "}\n",
       "\n",
       "/* Parallel-specific style estimator block */\n",
       "\n",
       "#sk-container-id-6 div.sk-parallel-item::after {\n",
       "  content: \"\";\n",
       "  width: 100%;\n",
       "  border-bottom: 2px solid var(--sklearn-color-text-on-default-background);\n",
       "  flex-grow: 1;\n",
       "}\n",
       "\n",
       "#sk-container-id-6 div.sk-parallel {\n",
       "  display: flex;\n",
       "  align-items: stretch;\n",
       "  justify-content: center;\n",
       "  background-color: var(--sklearn-color-background);\n",
       "  position: relative;\n",
       "}\n",
       "\n",
       "#sk-container-id-6 div.sk-parallel-item {\n",
       "  display: flex;\n",
       "  flex-direction: column;\n",
       "}\n",
       "\n",
       "#sk-container-id-6 div.sk-parallel-item:first-child::after {\n",
       "  align-self: flex-end;\n",
       "  width: 50%;\n",
       "}\n",
       "\n",
       "#sk-container-id-6 div.sk-parallel-item:last-child::after {\n",
       "  align-self: flex-start;\n",
       "  width: 50%;\n",
       "}\n",
       "\n",
       "#sk-container-id-6 div.sk-parallel-item:only-child::after {\n",
       "  width: 0;\n",
       "}\n",
       "\n",
       "/* Serial-specific style estimator block */\n",
       "\n",
       "#sk-container-id-6 div.sk-serial {\n",
       "  display: flex;\n",
       "  flex-direction: column;\n",
       "  align-items: center;\n",
       "  background-color: var(--sklearn-color-background);\n",
       "  padding-right: 1em;\n",
       "  padding-left: 1em;\n",
       "}\n",
       "\n",
       "\n",
       "/* Toggleable style: style used for estimator/Pipeline/ColumnTransformer box that is\n",
       "clickable and can be expanded/collapsed.\n",
       "- Pipeline and ColumnTransformer use this feature and define the default style\n",
       "- Estimators will overwrite some part of the style using the `sk-estimator` class\n",
       "*/\n",
       "\n",
       "/* Pipeline and ColumnTransformer style (default) */\n",
       "\n",
       "#sk-container-id-6 div.sk-toggleable {\n",
       "  /* Default theme specific background. It is overwritten whether we have a\n",
       "  specific estimator or a Pipeline/ColumnTransformer */\n",
       "  background-color: var(--sklearn-color-background);\n",
       "}\n",
       "\n",
       "/* Toggleable label */\n",
       "#sk-container-id-6 label.sk-toggleable__label {\n",
       "  cursor: pointer;\n",
       "  display: block;\n",
       "  width: 100%;\n",
       "  margin-bottom: 0;\n",
       "  padding: 0.5em;\n",
       "  box-sizing: border-box;\n",
       "  text-align: center;\n",
       "}\n",
       "\n",
       "#sk-container-id-6 label.sk-toggleable__label-arrow:before {\n",
       "  /* Arrow on the left of the label */\n",
       "  content: \"▸\";\n",
       "  float: left;\n",
       "  margin-right: 0.25em;\n",
       "  color: var(--sklearn-color-icon);\n",
       "}\n",
       "\n",
       "#sk-container-id-6 label.sk-toggleable__label-arrow:hover:before {\n",
       "  color: var(--sklearn-color-text);\n",
       "}\n",
       "\n",
       "/* Toggleable content - dropdown */\n",
       "\n",
       "#sk-container-id-6 div.sk-toggleable__content {\n",
       "  max-height: 0;\n",
       "  max-width: 0;\n",
       "  overflow: hidden;\n",
       "  text-align: left;\n",
       "  /* unfitted */\n",
       "  background-color: var(--sklearn-color-unfitted-level-0);\n",
       "}\n",
       "\n",
       "#sk-container-id-6 div.sk-toggleable__content.fitted {\n",
       "  /* fitted */\n",
       "  background-color: var(--sklearn-color-fitted-level-0);\n",
       "}\n",
       "\n",
       "#sk-container-id-6 div.sk-toggleable__content pre {\n",
       "  margin: 0.2em;\n",
       "  border-radius: 0.25em;\n",
       "  color: var(--sklearn-color-text);\n",
       "  /* unfitted */\n",
       "  background-color: var(--sklearn-color-unfitted-level-0);\n",
       "}\n",
       "\n",
       "#sk-container-id-6 div.sk-toggleable__content.fitted pre {\n",
       "  /* unfitted */\n",
       "  background-color: var(--sklearn-color-fitted-level-0);\n",
       "}\n",
       "\n",
       "#sk-container-id-6 input.sk-toggleable__control:checked~div.sk-toggleable__content {\n",
       "  /* Expand drop-down */\n",
       "  max-height: 200px;\n",
       "  max-width: 100%;\n",
       "  overflow: auto;\n",
       "}\n",
       "\n",
       "#sk-container-id-6 input.sk-toggleable__control:checked~label.sk-toggleable__label-arrow:before {\n",
       "  content: \"▾\";\n",
       "}\n",
       "\n",
       "/* Pipeline/ColumnTransformer-specific style */\n",
       "\n",
       "#sk-container-id-6 div.sk-label input.sk-toggleable__control:checked~label.sk-toggleable__label {\n",
       "  color: var(--sklearn-color-text);\n",
       "  background-color: var(--sklearn-color-unfitted-level-2);\n",
       "}\n",
       "\n",
       "#sk-container-id-6 div.sk-label.fitted input.sk-toggleable__control:checked~label.sk-toggleable__label {\n",
       "  background-color: var(--sklearn-color-fitted-level-2);\n",
       "}\n",
       "\n",
       "/* Estimator-specific style */\n",
       "\n",
       "/* Colorize estimator box */\n",
       "#sk-container-id-6 div.sk-estimator input.sk-toggleable__control:checked~label.sk-toggleable__label {\n",
       "  /* unfitted */\n",
       "  background-color: var(--sklearn-color-unfitted-level-2);\n",
       "}\n",
       "\n",
       "#sk-container-id-6 div.sk-estimator.fitted input.sk-toggleable__control:checked~label.sk-toggleable__label {\n",
       "  /* fitted */\n",
       "  background-color: var(--sklearn-color-fitted-level-2);\n",
       "}\n",
       "\n",
       "#sk-container-id-6 div.sk-label label.sk-toggleable__label,\n",
       "#sk-container-id-6 div.sk-label label {\n",
       "  /* The background is the default theme color */\n",
       "  color: var(--sklearn-color-text-on-default-background);\n",
       "}\n",
       "\n",
       "/* On hover, darken the color of the background */\n",
       "#sk-container-id-6 div.sk-label:hover label.sk-toggleable__label {\n",
       "  color: var(--sklearn-color-text);\n",
       "  background-color: var(--sklearn-color-unfitted-level-2);\n",
       "}\n",
       "\n",
       "/* Label box, darken color on hover, fitted */\n",
       "#sk-container-id-6 div.sk-label.fitted:hover label.sk-toggleable__label.fitted {\n",
       "  color: var(--sklearn-color-text);\n",
       "  background-color: var(--sklearn-color-fitted-level-2);\n",
       "}\n",
       "\n",
       "/* Estimator label */\n",
       "\n",
       "#sk-container-id-6 div.sk-label label {\n",
       "  font-family: monospace;\n",
       "  font-weight: bold;\n",
       "  display: inline-block;\n",
       "  line-height: 1.2em;\n",
       "}\n",
       "\n",
       "#sk-container-id-6 div.sk-label-container {\n",
       "  text-align: center;\n",
       "}\n",
       "\n",
       "/* Estimator-specific */\n",
       "#sk-container-id-6 div.sk-estimator {\n",
       "  font-family: monospace;\n",
       "  border: 1px dotted var(--sklearn-color-border-box);\n",
       "  border-radius: 0.25em;\n",
       "  box-sizing: border-box;\n",
       "  margin-bottom: 0.5em;\n",
       "  /* unfitted */\n",
       "  background-color: var(--sklearn-color-unfitted-level-0);\n",
       "}\n",
       "\n",
       "#sk-container-id-6 div.sk-estimator.fitted {\n",
       "  /* fitted */\n",
       "  background-color: var(--sklearn-color-fitted-level-0);\n",
       "}\n",
       "\n",
       "/* on hover */\n",
       "#sk-container-id-6 div.sk-estimator:hover {\n",
       "  /* unfitted */\n",
       "  background-color: var(--sklearn-color-unfitted-level-2);\n",
       "}\n",
       "\n",
       "#sk-container-id-6 div.sk-estimator.fitted:hover {\n",
       "  /* fitted */\n",
       "  background-color: var(--sklearn-color-fitted-level-2);\n",
       "}\n",
       "\n",
       "/* Specification for estimator info (e.g. \"i\" and \"?\") */\n",
       "\n",
       "/* Common style for \"i\" and \"?\" */\n",
       "\n",
       ".sk-estimator-doc-link,\n",
       "a:link.sk-estimator-doc-link,\n",
       "a:visited.sk-estimator-doc-link {\n",
       "  float: right;\n",
       "  font-size: smaller;\n",
       "  line-height: 1em;\n",
       "  font-family: monospace;\n",
       "  background-color: var(--sklearn-color-background);\n",
       "  border-radius: 1em;\n",
       "  height: 1em;\n",
       "  width: 1em;\n",
       "  text-decoration: none !important;\n",
       "  margin-left: 1ex;\n",
       "  /* unfitted */\n",
       "  border: var(--sklearn-color-unfitted-level-1) 1pt solid;\n",
       "  color: var(--sklearn-color-unfitted-level-1);\n",
       "}\n",
       "\n",
       ".sk-estimator-doc-link.fitted,\n",
       "a:link.sk-estimator-doc-link.fitted,\n",
       "a:visited.sk-estimator-doc-link.fitted {\n",
       "  /* fitted */\n",
       "  border: var(--sklearn-color-fitted-level-1) 1pt solid;\n",
       "  color: var(--sklearn-color-fitted-level-1);\n",
       "}\n",
       "\n",
       "/* On hover */\n",
       "div.sk-estimator:hover .sk-estimator-doc-link:hover,\n",
       ".sk-estimator-doc-link:hover,\n",
       "div.sk-label-container:hover .sk-estimator-doc-link:hover,\n",
       ".sk-estimator-doc-link:hover {\n",
       "  /* unfitted */\n",
       "  background-color: var(--sklearn-color-unfitted-level-3);\n",
       "  color: var(--sklearn-color-background);\n",
       "  text-decoration: none;\n",
       "}\n",
       "\n",
       "div.sk-estimator.fitted:hover .sk-estimator-doc-link.fitted:hover,\n",
       ".sk-estimator-doc-link.fitted:hover,\n",
       "div.sk-label-container:hover .sk-estimator-doc-link.fitted:hover,\n",
       ".sk-estimator-doc-link.fitted:hover {\n",
       "  /* fitted */\n",
       "  background-color: var(--sklearn-color-fitted-level-3);\n",
       "  color: var(--sklearn-color-background);\n",
       "  text-decoration: none;\n",
       "}\n",
       "\n",
       "/* Span, style for the box shown on hovering the info icon */\n",
       ".sk-estimator-doc-link span {\n",
       "  display: none;\n",
       "  z-index: 9999;\n",
       "  position: relative;\n",
       "  font-weight: normal;\n",
       "  right: .2ex;\n",
       "  padding: .5ex;\n",
       "  margin: .5ex;\n",
       "  width: min-content;\n",
       "  min-width: 20ex;\n",
       "  max-width: 50ex;\n",
       "  color: var(--sklearn-color-text);\n",
       "  box-shadow: 2pt 2pt 4pt #999;\n",
       "  /* unfitted */\n",
       "  background: var(--sklearn-color-unfitted-level-0);\n",
       "  border: .5pt solid var(--sklearn-color-unfitted-level-3);\n",
       "}\n",
       "\n",
       ".sk-estimator-doc-link.fitted span {\n",
       "  /* fitted */\n",
       "  background: var(--sklearn-color-fitted-level-0);\n",
       "  border: var(--sklearn-color-fitted-level-3);\n",
       "}\n",
       "\n",
       ".sk-estimator-doc-link:hover span {\n",
       "  display: block;\n",
       "}\n",
       "\n",
       "/* \"?\"-specific style due to the `<a>` HTML tag */\n",
       "\n",
       "#sk-container-id-6 a.estimator_doc_link {\n",
       "  float: right;\n",
       "  font-size: 1rem;\n",
       "  line-height: 1em;\n",
       "  font-family: monospace;\n",
       "  background-color: var(--sklearn-color-background);\n",
       "  border-radius: 1rem;\n",
       "  height: 1rem;\n",
       "  width: 1rem;\n",
       "  text-decoration: none;\n",
       "  /* unfitted */\n",
       "  color: var(--sklearn-color-unfitted-level-1);\n",
       "  border: var(--sklearn-color-unfitted-level-1) 1pt solid;\n",
       "}\n",
       "\n",
       "#sk-container-id-6 a.estimator_doc_link.fitted {\n",
       "  /* fitted */\n",
       "  border: var(--sklearn-color-fitted-level-1) 1pt solid;\n",
       "  color: var(--sklearn-color-fitted-level-1);\n",
       "}\n",
       "\n",
       "/* On hover */\n",
       "#sk-container-id-6 a.estimator_doc_link:hover {\n",
       "  /* unfitted */\n",
       "  background-color: var(--sklearn-color-unfitted-level-3);\n",
       "  color: var(--sklearn-color-background);\n",
       "  text-decoration: none;\n",
       "}\n",
       "\n",
       "#sk-container-id-6 a.estimator_doc_link.fitted:hover {\n",
       "  /* fitted */\n",
       "  background-color: var(--sklearn-color-fitted-level-3);\n",
       "}\n",
       "</style><div id=\"sk-container-id-6\" class=\"sk-top-container\"><div class=\"sk-text-repr-fallback\"><pre>RandomForestRegressor(min_samples_leaf=5, n_estimators=200)</pre><b>In a Jupyter environment, please rerun this cell to show the HTML representation or trust the notebook. <br />On GitHub, the HTML representation is unable to render, please try loading this page with nbviewer.org.</b></div><div class=\"sk-container\" hidden><div class=\"sk-item\"><div class=\"sk-estimator fitted sk-toggleable\"><input class=\"sk-toggleable__control sk-hidden--visually\" id=\"sk-estimator-id-12\" type=\"checkbox\" checked><label for=\"sk-estimator-id-12\" class=\"sk-toggleable__label fitted sk-toggleable__label-arrow fitted\">&nbsp;&nbsp;RandomForestRegressor<a class=\"sk-estimator-doc-link fitted\" rel=\"noreferrer\" target=\"_blank\" href=\"https://scikit-learn.org/1.4/modules/generated/sklearn.ensemble.RandomForestRegressor.html\">?<span>Documentation for RandomForestRegressor</span></a><span class=\"sk-estimator-doc-link fitted\">i<span>Fitted</span></span></label><div class=\"sk-toggleable__content fitted\"><pre>RandomForestRegressor(min_samples_leaf=5, n_estimators=200)</pre></div> </div></div></div></div>"
      ],
      "text/plain": [
       "RandomForestRegressor(min_samples_leaf=5, n_estimators=200)"
      ]
     },
     "execution_count": 76,
     "metadata": {},
     "output_type": "execute_result"
    }
   ],
   "source": [
    "forest = RandomForestRegressor(min_samples_leaf=5, n_estimators=200)\n",
    "forest.fit(salaries_training, salary_train)"
   ]
  },
  {
   "cell_type": "markdown",
   "id": "ac442983-91e9-4f10-b422-e94a8ef87fc7",
   "metadata": {
    "jp-MarkdownHeadingCollapsed": true
   },
   "source": [
    "## Root MSE & $R^2$"
   ]
  },
  {
   "cell_type": "code",
   "execution_count": 77,
   "id": "b7fd3cc5-23fd-4281-b4e7-4ae975199b4c",
   "metadata": {},
   "outputs": [],
   "source": [
    "from sklearn.metrics import explained_variance_score, mean_absolute_error, mean_squared_error"
   ]
  },
  {
   "cell_type": "code",
   "execution_count": 80,
   "id": "758360b0-8055-4ac9-bc5b-cc4638cdd7a1",
   "metadata": {},
   "outputs": [
    {
     "data": {
      "text/plain": [
       "array([ 5770431.72601843,  1358914.52095728,  4129989.2979905 ,\n",
       "        4123488.78065825,  7620561.13001041,  5128182.23848678,\n",
       "        2431075.3134508 ,  2010016.05318298,   882504.96652731,\n",
       "        1955026.93328367,  1846646.02007825,  1187083.86038045,\n",
       "        8463790.95091076,  2569202.2925808 ,  1503396.40075477,\n",
       "        3382556.62214002,  2994704.11589435,  3992788.5500908 ,\n",
       "        1772616.23462787,  8487959.04289901,  3625982.87633161,\n",
       "        2431075.3134508 ,  1520942.78749278,  4381563.77141463,\n",
       "        1141787.60388466,  3232400.39970486,  5526473.84039926,\n",
       "        3815016.06813065,  1278768.26168609,  2431075.3134508 ,\n",
       "        4644596.19217262,  5293851.98781907,  2557452.27928371,\n",
       "        4182305.05595299,  8650851.26605242,  1671219.70825921,\n",
       "        4645602.58910024,  1040685.4147572 ,  3887961.23867053,\n",
       "        2431075.3134508 ,  6435373.9986485 ,  5236354.19065605,\n",
       "        3122628.09969918,  4931053.33090867,  2930497.26842926,\n",
       "        6748197.50661815,  3004377.71979221,  7115027.85622888,\n",
       "        2729046.33984777,  4392576.4780953 ,  2909624.64598029,\n",
       "         930691.29405917,  4351253.75686003,  1075063.3403966 ,\n",
       "        5161650.15917648,  1849621.00061408,  3375790.26218208,\n",
       "        2431075.3134508 ,  4402675.65983187,  2255030.85205511,\n",
       "        3624880.70391592,  2793724.61864269,  3383973.45856567,\n",
       "        7248360.25668302,  1321012.33460412,  1591391.6532763 ,\n",
       "        2926538.9187527 ,  1220464.05976636,  2914972.09172281,\n",
       "        6775591.25230941,  1195317.92322493,  8021346.63745298,\n",
       "         872263.42077086,  1004770.26088641,  3322332.96863716,\n",
       "        2431075.3134508 ,  5411897.67562931,  4049324.93783368,\n",
       "        9351213.76203687,  5955773.3242975 ,  5434355.78384519,\n",
       "        1317705.12376222,  4436023.24994436,  5315030.25238212,\n",
       "        5784267.67899555,  1782150.16836904,  5299609.13897122,\n",
       "        7591492.29781024,  1092404.32283523,  3585353.08002369,\n",
       "        6359144.40412181,  1639298.71305072,  2342824.44384519,\n",
       "        5590036.47211287,  8904828.28835012,  5947857.32592553,\n",
       "        1587984.57038726,  9068876.10867321, 11123753.0319064 ,\n",
       "        4626467.10548418, 11951438.90866894,  1689739.14535604,\n",
       "        7702181.24678347,  7422174.59317331,  1550007.75828346,\n",
       "        3256757.61489827,  7533666.70742546,  2431075.3134508 ,\n",
       "        2327230.6034775 ,  7044272.46094638,  1076983.12156723,\n",
       "        4268081.94543057,  3762246.41427795,  6106281.07751715,\n",
       "        5284648.40305624,  1239903.23763939,  5610138.1946233 ,\n",
       "        2653020.91991782,   917492.86860107,  3665916.75090177,\n",
       "        8782652.26494813,  2856016.84792064,  2431075.3134508 ,\n",
       "        2956464.49446433,  8134120.66777415,  7899344.37825008,\n",
       "        3169512.12570828,  6685004.49126815, 10153325.57934994,\n",
       "        2249653.8167688 ,  2431075.3134508 ,  1469153.87329905,\n",
       "        4916524.28149164,  1911109.67542735,  8785632.85511513,\n",
       "        1312773.7510568 ,  4976289.14216122,  1178277.61566771,\n",
       "        3928798.46030919,  1343309.90916051,   863119.52918455,\n",
       "        8311156.6068487 ,  2702536.0442945 ,  9804415.91883798,\n",
       "        4528283.42452241,  4279373.02315073,  3494784.69971815,\n",
       "        6569068.85152498,  5483860.49233657,  2833017.61134358,\n",
       "        2431075.3134508 ,  7539721.05157671,  1478761.41286189,\n",
       "        4321687.64047214,  5900836.77819254,  6405420.85943473,\n",
       "         895161.09567978,  1010058.33298763,  5531544.54360709,\n",
       "        4145397.90687456,  5866325.2901543 ,  5120463.94428084,\n",
       "        6982659.80069319,  5725089.05871406,  2759001.79349236,\n",
       "        1244275.66608254,  6059569.77033962, 10407400.71116777,\n",
       "        3212428.77365912,  1728339.47531135,  3079616.27209379,\n",
       "        6427986.01831191,  4648818.88450155,  1820648.51759191,\n",
       "        1835628.48504156,  3629187.75553828,  2431075.3134508 ,\n",
       "        5568587.27939169,  8996986.22261232,  1569706.87138717,\n",
       "        6610316.93513961,  2860454.43872138,  1043964.06363389,\n",
       "        2111801.19832442,  1589512.14373883,  4969120.74951975,\n",
       "        1199540.42724271,  7337965.88491216,  6640046.19173813,\n",
       "        1291014.50526751,   930853.59734154,  4521932.02306185,\n",
       "        2079191.16952789,  2431075.3134508 ,  6435859.74889747,\n",
       "        6173635.34576382,  2873597.15784759,  6281881.77925435,\n",
       "        8385118.49988163,  3456601.73908391,  2288782.94356619,\n",
       "        1625648.21658141,  3547169.70232524,  8688753.5818846 ,\n",
       "        3059454.98286724,  6677217.16167938,  2431075.3134508 ,\n",
       "        3079363.87869671,  1792937.70113009,  2431075.3134508 ,\n",
       "        5125566.73613902,  6820877.48005059,  1304545.88831753,\n",
       "        3364183.76125532,  1597297.88423237,  2431075.3134508 ,\n",
       "        1575660.61247756,  8928856.8606579 ,  1837624.35194645,\n",
       "        6095198.57305441,  5062083.34248286,  5071041.19731905,\n",
       "        2596761.60460445,   666770.32324247,  1809687.70507634,\n",
       "        5903475.55943517,  1212038.74072699,  4786046.79259812,\n",
       "        1697809.19038206,  9623113.77525394,  1488245.39863638,\n",
       "        4026033.72452678,  8930204.51228465, 10853625.02327198,\n",
       "        1251439.14639429,  4675096.32257746,  2766697.52420966,\n",
       "        1584141.34698677,  6440089.78100075,  1636727.49860456,\n",
       "        1587363.0624838 ,  1852229.78174165,  1591655.89993208,\n",
       "        4089135.06632276,  1915126.65502648,  1236371.77112856,\n",
       "        5264327.27041561,  8061594.74664048,  4676551.47700962,\n",
       "        7521242.91260944,  3987860.61314123,  1945149.10730286,\n",
       "         943770.07394299,  2431075.3134508 ,   934719.77338336,\n",
       "        1173828.4573663 ,  1419068.92580266,   952167.60620604,\n",
       "        1936634.95027347,  2931270.65654104,  2218947.26380621,\n",
       "        6096030.51302971,  3979122.1799522 ,  3493575.44090261,\n",
       "        3221596.34605751,  6640619.69038006,  4014837.8374803 ,\n",
       "        3875306.53911412,  6087428.91040965,  2735263.86800253,\n",
       "       10851555.05372652,  5152441.75511369,  2431075.3134508 ,\n",
       "        2513506.08189563,  8104295.47279268,  1715306.8158763 ,\n",
       "        2638080.54102889,  1920648.63262696,  1171523.41403028,\n",
       "        2509972.87687982,  1685638.67408037,  5685721.80546023,\n",
       "        4386300.70078399,  3318647.67596831,  5740158.31676075,\n",
       "        2294746.45682884,  3372740.40938621,  2099574.68056777,\n",
       "        5545963.41346987,   918108.3031587 ,  6237520.61123765,\n",
       "        4757303.05830574,  5435066.79809169,  3985935.73834951,\n",
       "        5155347.49598623,  1096947.16950961,  5071853.62148653,\n",
       "        2431075.3134508 ,  1785394.1250679 ,  4581882.72841407,\n",
       "        1061698.53892813,   789944.86570191,  3290242.45144615,\n",
       "        1561644.80425432,  1198323.84075503,  4039876.77514068,\n",
       "        2182741.06802494,  8270869.5223062 ,  3518966.04189373,\n",
       "        8353817.67839975,  1495618.57611263,  1934090.94640064,\n",
       "        1970215.90452017,  3371369.24047998,  3552690.32972811,\n",
       "        1158723.26607986,  1292612.18277107,  2680523.57944645,\n",
       "       10041935.16821869,  1857770.37377499,  4060787.97447573,\n",
       "        4980151.21429813,  1481750.70322125,  1100872.98896551,\n",
       "        7656019.68219924,  5775821.2359797 ,  3722370.32993595,\n",
       "        4412154.94287765,  6074179.78497028,  2651634.80363974,\n",
       "        7633202.01498362,  3688430.44871562,  2922211.1038833 ,\n",
       "        4551607.80341464,  2431075.3134508 ,  2610390.16229365,\n",
       "        5172399.58737044,  5708559.04308299,  2228635.31422231,\n",
       "        7439017.88783764,  3613212.02398583,  1258105.27006633,\n",
       "        2129250.07509497,  7511021.81376742,  7375007.5819768 ,\n",
       "        1582273.97643025,  4837912.52133747, 10906632.23812184,\n",
       "        5180472.72734561,  3928655.10560925,  1806646.54933196,\n",
       "        1051398.88913257,  9535436.27306995,  1812839.22133615,\n",
       "        1224084.84869819,  2857331.98745698,  5584283.89985259,\n",
       "        9004993.28841581,  6520081.96390864,  2431075.3134508 ,\n",
       "        3083618.82470168,  1587179.00722972,  1060386.11207153,\n",
       "        1333761.96722291,  1563534.81771479,  2431075.3134508 ,\n",
       "        5010245.37411304,  4300683.76834786,  2431075.3134508 ,\n",
       "        1312780.99088627, 11964375.31589231,  4208527.72101854,\n",
       "         943102.33880914,  2489806.58443874,  1305799.36892924,\n",
       "        1340221.76841195,   952981.30547197,  1040372.66777859,\n",
       "        3546601.61649021,  6459260.34534995,  3554314.93782022,\n",
       "        1347954.11541504,  1371136.32058683,  5125646.56116095,\n",
       "        2456471.82316074,  2431075.3134508 ,  1778583.47542149,\n",
       "        2077620.65519725,  2232884.6483491 ,  5215435.35368286,\n",
       "        4439940.73903339,  3528464.05812163,  3801541.99276314,\n",
       "        4936783.3492263 ,  4758142.11370816, 10840041.3538254 ,\n",
       "        4350667.57070091,  6155056.13939354,  2431075.3134508 ,\n",
       "        7886377.10811566,  5376885.03906094,  5853463.58652449,\n",
       "        3939334.43270614,  4582291.27126731, 10379628.99342399,\n",
       "        2431075.3134508 ,  8061465.86228743,  3137863.30973242,\n",
       "        1459078.31933484,  8073926.20219615,  3728792.25717705,\n",
       "        4741130.67037181,  4509734.51118904,  3504370.26214901,\n",
       "        8940858.29695286,  7249867.15231375, 12035801.84593526,\n",
       "        2761395.47383376,  4689135.49720792,  3993225.64375755,\n",
       "        4133440.61848326,  3701155.8274143 ,  2317465.49776842,\n",
       "        5984454.42408718,  1416867.40122782,  2461983.75987345,\n",
       "       16538542.57742215,  5916584.4473404 ,  6423802.2378165 ,\n",
       "        3075341.07297723,  3279276.09152698,  1281348.20409862,\n",
       "        1102862.13039218,  4095813.1823171 ,  1800326.23641936,\n",
       "        3819090.55711194,  8480073.54298006,  4548168.63180931,\n",
       "        3097447.74200928,  9059057.089327  ,  5730138.54045527,\n",
       "        3267863.32348177,  1809976.27211128,  6037161.043256  ,\n",
       "        5398030.54367066,  7140564.39067186,   822367.044246  ,\n",
       "        1631946.85443455,  6947563.04421958,  2184197.16214149,\n",
       "        1166510.67664568,  1185992.64064772,   939409.81932909,\n",
       "        1399817.45662985,  2205006.95238023, 10943868.10920946,\n",
       "        1302611.75474292,   810542.21338911,  1718884.62622143,\n",
       "        5983921.39425828,  1229191.88338922, 11707318.69971202,\n",
       "        8700365.1673104 ,  5290694.29886429,  4058816.05184755,\n",
       "        2117404.07401416,  1490478.9624742 ,  2431075.3134508 ,\n",
       "        4861695.1831285 ,  4106712.28993651,  1128638.93931191,\n",
       "        5724468.52212377,  6238411.66859288,  2872769.52329396,\n",
       "        4680631.97717377,  1002569.41640848,  6253238.22400256,\n",
       "        1451276.29464927,  6962537.42641777,  3663223.18989748,\n",
       "        7180990.83196774,  1336984.23079281,   964293.47211139,\n",
       "         971134.86375316,  2066984.03041768,  2281776.75781985,\n",
       "        2431075.3134508 ,  2431075.3134508 ,  6061545.3463975 ,\n",
       "        3832044.02439285,  2340733.6973554 ,  5135077.96713312,\n",
       "        1292712.87998498,  1106411.48298954,  6403043.34512734,\n",
       "        6951851.34832847,  1469898.67464243,  5380299.07941484,\n",
       "       11496932.34720346,  8445588.11905122,  3990443.35825546,\n",
       "        1463638.26442283,  2763869.95015627,  2584292.28533273,\n",
       "        2074802.00891453,  8481371.96262234,  4633245.24967116,\n",
       "        5892851.53765364,  1346093.07637832,  1057605.53102084,\n",
       "        2323704.74378387,  2831374.50018673,  5021692.85674108,\n",
       "        4124566.9596069 ,  2431075.3134508 ,  1677427.73526394,\n",
       "        2870523.55600365,  2664251.01164847,  3416628.0664119 ,\n",
       "        5586316.0085079 ,  8138712.40028675,  8067014.39332086,\n",
       "        2302288.13738049,  5669128.96750797,  6582352.84471963,\n",
       "        1883764.77181489,  7374410.72128219,  6438416.76959383,\n",
       "        2688840.11108019,  6495162.31894649,  2670559.81267725,\n",
       "         796046.75364322,  5528161.02168742,  4704981.3876408 ,\n",
       "        7755505.59076539, 10385261.77234221,  4648249.86062238,\n",
       "       11440675.20235537,  1417921.26697376,  5744986.98223663,\n",
       "        5382265.34165111,  1715929.3859392 ,  5396267.91877008,\n",
       "         843971.89982126,  2431075.3134508 ,  8667700.16622621,\n",
       "        3059084.91810754,  1627991.59764632,  3875241.58620275,\n",
       "        1548180.968888  ,  3399486.14911959,  2421403.45373684,\n",
       "        4837772.88353118,  1605529.66027757,  6775434.80831696,\n",
       "         896223.61076735,  6839601.31670869,  1416760.97489022,\n",
       "        1529982.83903586,  1567982.33168132,  4708775.54175638,\n",
       "        2019135.08773098, 10179597.8853074 ,  4776718.35716405,\n",
       "       10607397.19877885,  5083461.7034103 ,  1195768.90447902,\n",
       "        1183900.07322985,  7160630.24304957,  2142778.03850815,\n",
       "         692277.35596968, 16406659.93610278,  8095455.11091211,\n",
       "        1249176.3101699 ,  8841947.46730471,  8586185.21657163,\n",
       "        3982496.01629056,  3816669.94333123,  9998565.8694596 ,\n",
       "        6019096.60886886,  4892667.55542809,  1904988.37588354,\n",
       "        6294642.50947453,  4548377.58798898,  6724763.36281269,\n",
       "        2431075.3134508 ,  5658950.21235989,  7555566.79926848,\n",
       "        1738275.45925755,  3627041.56686374,  7994272.07654389,\n",
       "        7168088.5174022 , 12934676.4692379 , 10508893.88077468,\n",
       "        1500102.30358558,  4705732.3407952 ,  1722797.46091554,\n",
       "        4006822.89343797,  5180745.42725891,  5040839.66484635,\n",
       "        6917935.11175216,  6929463.38398585,  6810713.3812535 ,\n",
       "        5762280.405698  ,  5401557.67374185,  1795579.62221552,\n",
       "        4392907.49252717,  2713634.28801497,  5622987.15777611,\n",
       "        1690298.67856341, 10456544.54475625,  2470563.74507522,\n",
       "        4210934.5560022 ,  2552320.87795398,  2431075.3134508 ,\n",
       "        2431075.3134508 ,  6605289.81100763,  5296273.92154506,\n",
       "        2069781.02207771,  6566473.12338924,  4967269.25024744,\n",
       "        5496623.53165739,  1554310.79793761,  3187950.83389599,\n",
       "         970002.2502648 ,   948234.77341363,  6259597.46932905,\n",
       "        3997285.82604766,  7237764.57039793,  9218158.62479179,\n",
       "       10980731.98798778, 10707313.04198302, 11932277.14761732,\n",
       "        4271961.75138315,  3243156.55414817,  7648955.29457061,\n",
       "        4924610.69023442, 13751048.33674599,  6095907.50023513,\n",
       "        5307199.45244012,  1395364.95553219,  2431075.3134508 ,\n",
       "        2431075.3134508 ,   997873.14749553,  4618203.44265955,\n",
       "        5633298.23465506,  5967746.47951724,  1855219.33683605,\n",
       "        2701143.12627484,  1431267.34024701,  4225223.44541709,\n",
       "        6705222.74013277,  3034319.53879791,  3908699.94213363,\n",
       "        2078835.57158782,  1309076.7736294 ,  2463640.93541771,\n",
       "        1403419.49657437,  3717198.10644704,  3103679.61616901,\n",
       "         752210.31754617,  5584841.75129065,   813043.80947291,\n",
       "        8509652.87405611,  7717171.79543187,  5133378.13042335,\n",
       "        3855918.47958938,  5894382.64611936,  4872719.69856531,\n",
       "         949225.99258746,  4238515.75100863,  4306578.01104079,\n",
       "        6703158.56950655,  1563537.60696953,  1720571.72861529,\n",
       "        3718001.34218427,   705468.86480069,  3768064.70759599,\n",
       "        4189692.70046099,  4890677.6295173 ,  2068062.00268036,\n",
       "        6324115.84701486,  4410473.80408171,  2066524.89712346,\n",
       "        1412841.80911533,  5594519.07447029,  6517917.64895123,\n",
       "        3439839.80064585,  1343834.89466327,  4252902.62821248,\n",
       "        1058407.70277046,  4721582.33268595,  2829564.06686461,\n",
       "        2991206.32496279,  3957730.84645728,  7371444.35839203,\n",
       "        1280553.93530365,  1892337.33793074,  1932433.02339402,\n",
       "        2431075.3134508 ,  5154916.29070706,  4740552.7371523 ,\n",
       "        1927718.85647549,  9662694.87210193,  1616458.78414254,\n",
       "        1109846.21552553,  2431075.3134508 ,  2431075.3134508 ,\n",
       "         883313.57653132,  5318921.98800745,  1541603.30647974,\n",
       "         983079.34778412,  3660711.4258275 ,  5530563.86377753,\n",
       "        2090989.23252052,  2431075.3134508 ,  4166500.29327372,\n",
       "        9778338.53668566,  5923694.00055792,  7701801.61785215,\n",
       "        6833053.63462935,  7117843.21418948,  3565006.89448057,\n",
       "        2431075.3134508 ,  1199923.97516815,  3226857.21681985,\n",
       "        2683787.07827543,  5143433.74344817,  3068549.46397788,\n",
       "       11689648.41637895,  4961789.06989976,  6562853.85087608,\n",
       "        8963644.56569629,  3265633.91987147,  1805239.41757548,\n",
       "        3388483.08063188,  2431075.3134508 ,  1398692.24650804,\n",
       "        4836540.15806321,  3948210.77339956,  1391472.85140357,\n",
       "        3283494.6030729 ,  5838660.19314884,  2207543.28701765,\n",
       "        1013622.98203369,  9231266.20315039,  1002796.53421073,\n",
       "        5203846.27478044,  3278454.39230307,  6306456.33037284,\n",
       "        3851632.43053062,  1699851.08563354,  3389786.18063574,\n",
       "        1733675.20414429,  3970616.25813336,  4642475.07493251,\n",
       "        3566504.9356526 ,  2431075.3134508 ,  4816486.11355259,\n",
       "        3891812.44629561,  3948839.20269282,  2249722.22019857,\n",
       "         943210.53166338,  1670945.90271598,  8166263.86749713,\n",
       "        4796106.41814183,  1152693.73709   ,  1245969.21073497,\n",
       "        3135449.18899548,  8815102.51995429,  5898050.18167817,\n",
       "        1360000.51405456,  6839525.92107989,  3702664.01344747,\n",
       "        8258323.82613902,  6371531.52950008,  2431075.3134508 ,\n",
       "        4186946.84260039,  1325644.38311717,  3456461.79461261,\n",
       "        2713326.97686116,  1242420.49119914,  1738646.76407676,\n",
       "        1042376.5804474 ,  1160162.46367122,  1504447.20949508,\n",
       "        4128221.07345449,  1649327.77540443,  7363014.49198518,\n",
       "         779359.06089643,  2084981.70599621,  3318419.92740335,\n",
       "        3034114.01294369,  4723822.28546672,  1451535.3386754 ,\n",
       "        5421764.33043979,  4984628.32131696,  2826978.53476965,\n",
       "        4103972.10656418,  5621917.27802079,  5374354.33309766,\n",
       "         983794.64596183,  5517820.97691291,  8854265.03946431,\n",
       "        6076111.09033808,  2431075.3134508 ,  3163677.90727096,\n",
       "         666639.67375103,  1311350.44453234,  2431075.3134508 ,\n",
       "        1328042.12427524,  7694212.47963248,  1873113.32387327,\n",
       "        2632396.34601461,  4014812.27171153,  3659527.62945299,\n",
       "        3799203.07616434,  4093727.22702715,  1946233.40823666,\n",
       "        3744231.26831216,  3162758.22302375,  1413113.95444782,\n",
       "        4927865.24171634,  1424551.00172655,  1414681.89967253,\n",
       "        1772435.83378382,  5004160.14491901, 10097999.538799  ,\n",
       "        1787156.31420248,  1483326.09204566,  4992395.58900245,\n",
       "        2803880.03736371,  2431075.3134508 ,  3145181.13183308,\n",
       "        2328655.96090083,  1355576.17835412,  4420442.94847098,\n",
       "        3034910.02393697,  2816743.34767024,  5891761.62392465,\n",
       "        1059076.62221869,  4889829.08094808,  4407391.6089821 ,\n",
       "        1544105.73991513,  5744824.38099394,  2038881.84938927,\n",
       "        5267234.00447281,  9271162.30300749,  4700450.56913066,\n",
       "        2247114.81507388,  8991200.17394493,  2431075.3134508 ])"
      ]
     },
     "execution_count": 80,
     "metadata": {},
     "output_type": "execute_result"
    }
   ],
   "source": [
    "salary_validation_pred = forest.predict(salaries_validation)\n",
    "\n",
    "salary_validation_pred"
   ]
  },
  {
   "cell_type": "code",
   "execution_count": 82,
   "id": "d2995a4f-7ba9-4002-99b9-6440a7e18175",
   "metadata": {},
   "outputs": [
    {
     "data": {
      "text/plain": [
       "{'R^2': 0.21204559400404321, 'MSE': 42212459411257.64}"
      ]
     },
     "execution_count": 82,
     "metadata": {},
     "output_type": "execute_result"
    }
   ],
   "source": [
    "{'R^2': explained_variance_score(salary_validation, salary_validation_pred),\n",
    " 'MSE': mean_squared_error(salary_validation, salary_validation_pred)\n",
    "}"
   ]
  },
  {
   "cell_type": "code",
   "execution_count": null,
   "id": "4de89548-35b5-4546-9315-32030b74810d",
   "metadata": {},
   "outputs": [],
   "source": []
  }
 ],
 "metadata": {
  "kernelspec": {
   "display_name": "Python 3 (ipykernel)",
   "language": "python",
   "name": "python3"
  },
  "language_info": {
   "codemirror_mode": {
    "name": "ipython",
    "version": 3
   },
   "file_extension": ".py",
   "mimetype": "text/x-python",
   "name": "python",
   "nbconvert_exporter": "python",
   "pygments_lexer": "ipython3",
   "version": "3.12.3"
  }
 },
 "nbformat": 4,
 "nbformat_minor": 5
}
